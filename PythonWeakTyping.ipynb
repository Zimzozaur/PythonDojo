{
 "cells": [
  {
   "metadata": {
    "ExecuteTime": {
     "end_time": "2024-04-19T15:31:41.999887Z",
     "start_time": "2024-04-19T15:31:41.996494Z"
    }
   },
   "cell_type": "code",
   "source": "import types",
   "id": "2f9bd7d804675548",
   "outputs": [],
   "execution_count": 29
  },
  {
   "metadata": {
    "ExecuteTime": {
     "end_time": "2024-04-19T15:31:42.148046Z",
     "start_time": "2024-04-19T15:31:42.144244Z"
    }
   },
   "cell_type": "code",
   "source": [
    "class ChangeMe:\n",
    "    def __init__(self, val):\n",
    "        self.val = val\n",
    "        "
   ],
   "id": "9a7b7df47ff6b7e",
   "outputs": [],
   "execution_count": 30
  },
  {
   "metadata": {
    "ExecuteTime": {
     "end_time": "2024-04-19T15:31:42.274146Z",
     "start_time": "2024-04-19T15:31:42.270447Z"
    }
   },
   "cell_type": "code",
   "source": "cm = ChangeMe(2)",
   "id": "379205053bb15c7f",
   "outputs": [],
   "execution_count": 31
  },
  {
   "metadata": {
    "ExecuteTime": {
     "end_time": "2024-04-19T15:31:42.408669Z",
     "start_time": "2024-04-19T15:31:42.405194Z"
    }
   },
   "cell_type": "code",
   "source": [
    "def double(self):\n",
    "    self.val **= self.val"
   ],
   "id": "67de0175e67c0c8c",
   "outputs": [],
   "execution_count": 32
  },
  {
   "metadata": {
    "ExecuteTime": {
     "end_time": "2024-04-19T15:31:42.527730Z",
     "start_time": "2024-04-19T15:31:42.524157Z"
    }
   },
   "cell_type": "code",
   "source": "double_method = types.MethodType(double, cm)",
   "id": "3fbc39f270bbe8a6",
   "outputs": [],
   "execution_count": 33
  },
  {
   "metadata": {
    "ExecuteTime": {
     "end_time": "2024-04-19T15:31:42.722581Z",
     "start_time": "2024-04-19T15:31:42.719152Z"
    }
   },
   "cell_type": "code",
   "source": "cm.double = double_method",
   "id": "190316facf78371f",
   "outputs": [],
   "execution_count": 34
  },
  {
   "metadata": {
    "ExecuteTime": {
     "end_time": "2024-04-19T15:31:43.047666Z",
     "start_time": "2024-04-19T15:31:43.043755Z"
    }
   },
   "cell_type": "code",
   "source": "cm.double()",
   "id": "27aec2f8aaf7f853",
   "outputs": [],
   "execution_count": 35
  },
  {
   "metadata": {
    "ExecuteTime": {
     "end_time": "2024-04-19T15:31:43.536282Z",
     "start_time": "2024-04-19T15:31:43.531204Z"
    }
   },
   "cell_type": "code",
   "source": "cm.val",
   "id": "effba57573ed1919",
   "outputs": [
    {
     "data": {
      "text/plain": [
       "4"
      ]
     },
     "execution_count": 36,
     "metadata": {},
     "output_type": "execute_result"
    }
   ],
   "execution_count": 36
  },
  {
   "metadata": {},
   "cell_type": "code",
   "outputs": [],
   "execution_count": null,
   "source": "",
   "id": "f6afb965fa39c82"
  }
 ],
 "metadata": {
  "kernelspec": {
   "display_name": "Python 3",
   "language": "python",
   "name": "python3"
  },
  "language_info": {
   "codemirror_mode": {
    "name": "ipython",
    "version": 2
   },
   "file_extension": ".py",
   "mimetype": "text/x-python",
   "name": "python",
   "nbconvert_exporter": "python",
   "pygments_lexer": "ipython2",
   "version": "2.7.6"
  }
 },
 "nbformat": 4,
 "nbformat_minor": 5
}
