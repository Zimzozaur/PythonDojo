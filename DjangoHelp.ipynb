{
 "cells": [
  {
   "cell_type": "code",
   "id": "initial_id",
   "metadata": {
    "collapsed": true,
    "ExecuteTime": {
     "end_time": "2024-04-29T13:19:12.631288Z",
     "start_time": "2024-04-29T13:19:12.621919Z"
    }
   },
   "source": [
    "from django.views.generic.edit import CreateView\n",
    "help(CreateView)"
   ],
   "execution_count": 3,
   "outputs": []
  },
  {
   "metadata": {
    "ExecuteTime": {
     "end_time": "2024-04-29T13:19:32.096382Z",
     "start_time": "2024-04-29T13:19:32.080798Z"
    }
   },
   "cell_type": "code",
   "source": [
    "from django.forms import forms\n",
    "help(forms)"
   ],
   "id": "47f5c69e19b715fc",
   "execution_count": 4,
   "outputs": []
  },
  {
   "metadata": {},
   "cell_type": "code",
   "execution_count": null,
   "source": "",
   "id": "8328df43c9e4b58a",
   "outputs": []
  }
 ],
 "metadata": {
  "kernelspec": {
   "display_name": "Python 3",
   "language": "python",
   "name": "python3"
  },
  "language_info": {
   "codemirror_mode": {
    "name": "ipython",
    "version": 2
   },
   "file_extension": ".py",
   "mimetype": "text/x-python",
   "name": "python",
   "nbconvert_exporter": "python",
   "pygments_lexer": "ipython2",
   "version": "2.7.6"
  }
 },
 "nbformat": 4,
 "nbformat_minor": 5
}
