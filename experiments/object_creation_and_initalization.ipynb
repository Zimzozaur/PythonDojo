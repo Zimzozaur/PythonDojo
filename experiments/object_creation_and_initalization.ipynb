{
 "cells": [
  {
   "cell_type": "code",
   "id": "initial_id",
   "metadata": {
    "collapsed": true,
    "ExecuteTime": {
     "end_time": "2024-06-11T12:10:18.037127Z",
     "start_time": "2024-06-11T12:10:18.032570Z"
    }
   },
   "source": [
    "class MyClass:\n",
    "    lang = 'Python'\n",
    "    \n",
    "    def __new__(cls, *args, **kwargs):\n",
    "        print(f'cls: {cls}')\n",
    "        print(f'new dict: {cls.__dict__}')\n",
    "        print(f'Lang: {cls.lang}')\n",
    "        cls.call_me()\n",
    "        return super().__new__(cls)\n",
    "\n",
    "    def __init__(self, version):\n",
    "        self.version = version\n",
    "        print(f'self: {self}')\n",
    "        print(f'init dict: {self.__dict__}')\n",
    "        \n",
    "    def call_me():\n",
    "        print(\"Called before initialization\")"
   ],
   "outputs": [],
   "execution_count": 1
  },
  {
   "metadata": {
    "ExecuteTime": {
     "end_time": "2024-06-11T12:10:23.214039Z",
     "start_time": "2024-06-11T12:10:23.210280Z"
    }
   },
   "cell_type": "code",
   "source": "x = MyClass('3.12')",
   "id": "7698e6f7594a2219",
   "outputs": [
    {
     "name": "stdout",
     "output_type": "stream",
     "text": [
      "cls: <class '__main__.MyClass'>\n",
      "new dict: {'__module__': '__main__', 'lang': 'Python', '__new__': <staticmethod(<function MyClass.__new__ at 0x7f65b8897d80>)>, '__init__': <function MyClass.__init__ at 0x7f65b88979c0>, 'call_me': <function MyClass.call_me at 0x7f65b88f0040>, '__dict__': <attribute '__dict__' of 'MyClass' objects>, '__weakref__': <attribute '__weakref__' of 'MyClass' objects>, '__doc__': None}\n",
      "Lang: Python\n",
      "Called before initialization\n",
      "self: <__main__.MyClass object at 0x7f65b88f8c80>\n",
      "init dict: {'version': '3.12'}\n"
     ]
    }
   ],
   "execution_count": 2
  },
  {
   "metadata": {},
   "cell_type": "code",
   "outputs": [],
   "execution_count": null,
   "source": "",
   "id": "8dde7948c4dc17a1"
  }
 ],
 "metadata": {
  "kernelspec": {
   "display_name": "Python 3",
   "language": "python",
   "name": "python3"
  },
  "language_info": {
   "codemirror_mode": {
    "name": "ipython",
    "version": 2
   },
   "file_extension": ".py",
   "mimetype": "text/x-python",
   "name": "python",
   "nbconvert_exporter": "python",
   "pygments_lexer": "ipython2",
   "version": "2.7.6"
  }
 },
 "nbformat": 4,
 "nbformat_minor": 5
}
