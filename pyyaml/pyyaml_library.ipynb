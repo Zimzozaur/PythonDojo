{
 "cells": [
  {
   "cell_type": "code",
   "id": "initial_id",
   "metadata": {
    "collapsed": true,
    "ExecuteTime": {
     "end_time": "2024-07-16T16:23:24.189622Z",
     "start_time": "2024-07-16T16:23:24.186635Z"
    }
   },
   "source": "import yaml",
   "outputs": [],
   "execution_count": 6
  },
  {
   "metadata": {
    "ExecuteTime": {
     "end_time": "2024-07-16T16:23:26.548448Z",
     "start_time": "2024-07-16T16:23:26.543132Z"
    }
   },
   "cell_type": "code",
   "source": [
    "with open('config.yaml') as f:\n",
    "    config = yaml.safe_load(f)"
   ],
   "id": "47093f3350270092",
   "outputs": [],
   "execution_count": 7
  },
  {
   "metadata": {
    "ExecuteTime": {
     "end_time": "2024-07-16T16:23:26.911315Z",
     "start_time": "2024-07-16T16:23:26.905828Z"
    }
   },
   "cell_type": "code",
   "source": "config",
   "id": "b017fe6c87b25b21",
   "outputs": [
    {
     "data": {
      "text/plain": [
       "{'observer': {'latitude': 33.4,\n",
       "  'longitude': -111.8,\n",
       "  'horizon_file': 'data/horizon.csv'},\n",
       " 'catalog': {'file': 'data/dso_catalog.csv',\n",
       "  'categories': ['emission_nebula',\n",
       "   'reflection_nebula',\n",
       "   'hii_regions',\n",
       "   'galaxies',\n",
       "   'galaxy_clusters']}}"
      ]
     },
     "execution_count": 8,
     "metadata": {},
     "output_type": "execute_result"
    }
   ],
   "execution_count": 8
  },
  {
   "metadata": {
    "ExecuteTime": {
     "end_time": "2024-07-16T16:24:32.232365Z",
     "start_time": "2024-07-16T16:24:32.222809Z"
    }
   },
   "cell_type": "code",
   "source": [
    "from pydantic import BaseModel\n",
    "\n",
    "class ObserverSettings(BaseModel):\n",
    "    latitude: float\n",
    "    longitude: float\n",
    "    horizon_file: str | None = None\n",
    "\n",
    "class CatalogSettings(BaseModel):\n",
    "    file: str\n",
    "    categories: list[str]\n",
    "    \n",
    "class Settings(BaseModel):\n",
    "    observer: ObserverSettings\n",
    "    catalog: CatalogSettings"
   ],
   "id": "6fdf6e8b9bdf6929",
   "outputs": [],
   "execution_count": 11
  },
  {
   "metadata": {
    "ExecuteTime": {
     "end_time": "2024-07-16T16:24:32.527964Z",
     "start_time": "2024-07-16T16:24:32.520103Z"
    }
   },
   "cell_type": "code",
   "source": [
    "settings = Settings.model_validate(config)\n",
    "settings"
   ],
   "id": "5dc19cd8bcfef3cc",
   "outputs": [
    {
     "data": {
      "text/plain": [
       "Settings(observer=ObserverSettings(latitude=33.4, longitude=-111.8, horizon_file='data/horizon.csv'), catalog=CatalogSettings(file='data/dso_catalog.csv', categories=['emission_nebula', 'reflection_nebula', 'hii_regions', 'galaxies', 'galaxy_clusters']))"
      ]
     },
     "execution_count": 12,
     "metadata": {},
     "output_type": "execute_result"
    }
   ],
   "execution_count": 12
  },
  {
   "metadata": {
    "ExecuteTime": {
     "end_time": "2024-07-16T16:26:09.058195Z",
     "start_time": "2024-07-16T16:26:09.047166Z"
    }
   },
   "cell_type": "code",
   "source": [
    "import json\n",
    "\n",
    "with open('nobel_prizes.json') as f:\n",
    "    data_json = json.load(f)"
   ],
   "id": "65f10d9cb6cc7590",
   "outputs": [],
   "execution_count": 13
  },
  {
   "metadata": {
    "ExecuteTime": {
     "end_time": "2024-07-16T16:26:58.178145Z",
     "start_time": "2024-07-16T16:26:58.173208Z"
    }
   },
   "cell_type": "code",
   "source": "data_json['prizes'][:1]",
   "id": "3f9889058d5a47c7",
   "outputs": [
    {
     "data": {
      "text/plain": [
       "[{'year': 2023,\n",
       "  'category': 'chemistry',\n",
       "  'overallMotivation': None,\n",
       "  'laureates': [{'id': 1029,\n",
       "    'firstname': 'Moungi',\n",
       "    'surname': 'Bawendi',\n",
       "    'motivation': '\"for the discovery and synthesis of quantum dots\"',\n",
       "    'share': 3},\n",
       "   {'id': 1030,\n",
       "    'firstname': 'Louis',\n",
       "    'surname': 'Brus',\n",
       "    'motivation': '\"for the discovery and synthesis of quantum dots\"',\n",
       "    'share': 3},\n",
       "   {'id': 1031,\n",
       "    'firstname': 'Aleksey',\n",
       "    'surname': 'Yekimov',\n",
       "    'motivation': '\"for the discovery and synthesis of quantum dots\"',\n",
       "    'share': 3}]}]"
      ]
     },
     "execution_count": 15,
     "metadata": {},
     "output_type": "execute_result"
    }
   ],
   "execution_count": 15
  },
  {
   "metadata": {
    "ExecuteTime": {
     "end_time": "2024-07-16T16:33:55.393551Z",
     "start_time": "2024-07-16T16:33:54.625625Z"
    }
   },
   "cell_type": "code",
   "source": [
    "with open('nobel_prizes.json') as f:\n",
    "    data_yaml = yaml.safe_load(f)"
   ],
   "id": "2b4ece35225af54c",
   "outputs": [],
   "execution_count": 39
  },
  {
   "metadata": {
    "ExecuteTime": {
     "end_time": "2024-07-16T16:27:43.889975Z",
     "start_time": "2024-07-16T16:27:43.885194Z"
    }
   },
   "cell_type": "code",
   "source": "data_yaml['prizes'][:1]",
   "id": "96aae2e8172b2a8c",
   "outputs": [
    {
     "data": {
      "text/plain": [
       "[{'year': 2023,\n",
       "  'category': 'chemistry',\n",
       "  'overallMotivation': None,\n",
       "  'laureates': [{'id': 1029,\n",
       "    'firstname': 'Moungi',\n",
       "    'surname': 'Bawendi',\n",
       "    'motivation': '\"for the discovery and synthesis of quantum dots\"',\n",
       "    'share': 3},\n",
       "   {'id': 1030,\n",
       "    'firstname': 'Louis',\n",
       "    'surname': 'Brus',\n",
       "    'motivation': '\"for the discovery and synthesis of quantum dots\"',\n",
       "    'share': 3},\n",
       "   {'id': 1031,\n",
       "    'firstname': 'Aleksey',\n",
       "    'surname': 'Yekimov',\n",
       "    'motivation': '\"for the discovery and synthesis of quantum dots\"',\n",
       "    'share': 3}]}]"
      ]
     },
     "execution_count": 17,
     "metadata": {},
     "output_type": "execute_result"
    }
   ],
   "execution_count": 17
  },
  {
   "metadata": {
    "ExecuteTime": {
     "end_time": "2024-07-16T16:28:02.659435Z",
     "start_time": "2024-07-16T16:28:02.652206Z"
    }
   },
   "cell_type": "code",
   "source": "data_json == data_yaml",
   "id": "d136fdadc69fa340",
   "outputs": [
    {
     "data": {
      "text/plain": [
       "True"
      ]
     },
     "execution_count": 18,
     "metadata": {},
     "output_type": "execute_result"
    }
   ],
   "execution_count": 18
  },
  {
   "metadata": {
    "ExecuteTime": {
     "end_time": "2024-07-16T16:34:21.737376Z",
     "start_time": "2024-07-16T16:34:21.649757Z"
    }
   },
   "cell_type": "code",
   "source": [
    "class Laureate(BaseModel):\n",
    "    id: int\n",
    "    firstname: str | None = None\n",
    "    surname: str | None = None\n",
    "    motivation: str | None = None\n",
    "    share: int | None = None\n",
    "    \n",
    "class Prize(BaseModel):\n",
    "    year: int | None = None\n",
    "    category: str | None = None\n",
    "    overallMotivation: str | None = None\n",
    "    laureates: list[Laureate] = []\n",
    "\n",
    "class Prizes(BaseModel):\n",
    "    prizes: list[Prize]\n",
    "    \n",
    "data_pydantic = Prizes.model_validate(data_yaml)"
   ],
   "id": "fa3ffb2a02b3a493",
   "outputs": [],
   "execution_count": 42
  },
  {
   "metadata": {
    "ExecuteTime": {
     "end_time": "2024-07-16T16:34:46.074630Z",
     "start_time": "2024-07-16T16:34:46.069634Z"
    }
   },
   "cell_type": "code",
   "source": "data_pydantic.prizes[0]",
   "id": "82d9de08c66df4ea",
   "outputs": [
    {
     "data": {
      "text/plain": [
       "Prize(year=2023, category='chemistry', overallMotivation=None, laureates=[Laureate(id=1029, firstname='Moungi', surname='Bawendi', motivation='\"for the discovery and synthesis of quantum dots\"', share=3), Laureate(id=1030, firstname='Louis', surname='Brus', motivation='\"for the discovery and synthesis of quantum dots\"', share=3), Laureate(id=1031, firstname='Aleksey', surname='Yekimov', motivation='\"for the discovery and synthesis of quantum dots\"', share=3)])"
      ]
     },
     "execution_count": 47,
     "metadata": {},
     "output_type": "execute_result"
    }
   ],
   "execution_count": 47
  },
  {
   "metadata": {
    "ExecuteTime": {
     "end_time": "2024-07-16T16:47:53.926345Z",
     "start_time": "2024-07-16T16:47:53.918389Z"
    }
   },
   "cell_type": "code",
   "source": [
    "with open('docker-compose.yaml') as f:\n",
    "    redis = yaml.safe_load(f)\n",
    "    \n",
    "redis"
   ],
   "id": "263d87f987fe6437",
   "outputs": [
    {
     "data": {
      "text/plain": [
       "{'version': '3',\n",
       " 'services': {'redis': {'image': 'redis:latest',\n",
       "   'container_name': 'redis_queue',\n",
       "   'restart': 'always',\n",
       "   'ports': ['6379:6379'],\n",
       "   'command': 'redis-server --save 20 1 --loglevel warning --requirepass secret',\n",
       "   'volumes': ['data-volume:/data']}},\n",
       " 'volumes': {'data-volume': None}}"
      ]
     },
     "execution_count": 52,
     "metadata": {},
     "output_type": "execute_result"
    }
   ],
   "execution_count": 52
  },
  {
   "metadata": {
    "ExecuteTime": {
     "end_time": "2024-07-16T16:47:54.226811Z",
     "start_time": "2024-07-16T16:47:54.222695Z"
    }
   },
   "cell_type": "code",
   "source": [
    "redis['services']['redis']['container_name'] = 'redis_instance_2'\n",
    "redis['services']['redis']['ports'] = ['9000:6379']"
   ],
   "id": "a0cdb6cfcbd4bb68",
   "outputs": [],
   "execution_count": 53
  },
  {
   "metadata": {
    "ExecuteTime": {
     "end_time": "2024-07-16T16:47:55.087536Z",
     "start_time": "2024-07-16T16:47:55.083067Z"
    }
   },
   "cell_type": "code",
   "source": "redis",
   "id": "1d0b992cc2548c36",
   "outputs": [
    {
     "data": {
      "text/plain": [
       "{'version': '3',\n",
       " 'services': {'redis': {'image': 'redis:latest',\n",
       "   'container_name': 'redis_instance_2',\n",
       "   'restart': 'always',\n",
       "   'ports': ['9000:6379'],\n",
       "   'command': 'redis-server --save 20 1 --loglevel warning --requirepass secret',\n",
       "   'volumes': ['data-volume:/data']}},\n",
       " 'volumes': {'data-volume': None}}"
      ]
     },
     "execution_count": 54,
     "metadata": {},
     "output_type": "execute_result"
    }
   ],
   "execution_count": 54
  },
  {
   "metadata": {
    "ExecuteTime": {
     "end_time": "2024-07-16T17:00:57.628024Z",
     "start_time": "2024-07-16T17:00:57.622330Z"
    }
   },
   "cell_type": "code",
   "source": [
    "with open('docker-compose.new.yaml', 'w') as f:\n",
    "    yaml.dump(redis, f, sort_keys=False, explicit_start=True)"
   ],
   "id": "bfd2490fd969c799",
   "outputs": [],
   "execution_count": 60
  },
  {
   "metadata": {},
   "cell_type": "code",
   "outputs": [],
   "execution_count": null,
   "source": "        ",
   "id": "ebac2ca6d8f8adbd"
  }
 ],
 "metadata": {
  "kernelspec": {
   "display_name": "Python 3",
   "language": "python",
   "name": "python3"
  },
  "language_info": {
   "codemirror_mode": {
    "name": "ipython",
    "version": 2
   },
   "file_extension": ".py",
   "mimetype": "text/x-python",
   "name": "python",
   "nbconvert_exporter": "python",
   "pygments_lexer": "ipython2",
   "version": "2.7.6"
  }
 },
 "nbformat": 4,
 "nbformat_minor": 5
}
