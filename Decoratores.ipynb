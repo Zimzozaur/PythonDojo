{
 "cells": [
  {
   "cell_type": "markdown",
   "source": [
    "**Old way**\n",
    "```python\n",
    "def my_func(algo):\n",
    "    pass\n",
    "my_func = func(my_func)\n",
    "```\n",
    "**Decorator way**\n",
    "```python\n",
    "@func\n",
    "def my_func(algo):\n",
    "   pass\n",
    "```"
   ],
   "metadata": {
    "collapsed": false
   },
   "id": "81727834dbd3e79b"
  },
  {
   "cell_type": "markdown",
   "source": [],
   "metadata": {
    "collapsed": false
   },
   "id": "fbf0fd3c25b83a"
  },
  {
   "cell_type": "code",
   "outputs": [],
   "source": [
    "from functools import wraps\n",
    "def counter(fn):\n",
    "    count = 0\n",
    "    @wraps(fn)\n",
    "    def inner(*args, **kwargs):\n",
    "        nonlocal count\n",
    "        count += 1\n",
    "        # print(f\"Function {fn.__name__} was used {count} times.\")\n",
    "        return fn(*args, **kwargs)\n",
    "    inner.count = lambda: count\n",
    "    return inner"
   ],
   "metadata": {
    "collapsed": false,
    "ExecuteTime": {
     "end_time": "2024-03-14T09:18:38.068056Z",
     "start_time": "2024-03-14T09:18:38.063186Z"
    }
   },
   "id": "9967dff02f39ecb9",
   "execution_count": 106
  },
  {
   "cell_type": "code",
   "outputs": [],
   "source": [
    "from typing import Iterable\n",
    "@counter\n",
    "def csum(iterable: Iterable):\n",
    "    \"\"\"\n",
    "    Return sum of values in iterable and \n",
    "    print the number of time function was called\n",
    "    \"\"\"\n",
    "    return sum(iterable)"
   ],
   "metadata": {
    "collapsed": false,
    "ExecuteTime": {
     "end_time": "2024-03-14T09:18:38.299618Z",
     "start_time": "2024-03-14T09:18:38.295415Z"
    }
   },
   "id": "595dcc98e46757f3",
   "execution_count": 107
  },
  {
   "cell_type": "code",
   "outputs": [],
   "source": [
    "for _ in range(10):\n",
    "    csum([1,2,3])"
   ],
   "metadata": {
    "collapsed": false,
    "ExecuteTime": {
     "end_time": "2024-03-14T09:18:38.532723Z",
     "start_time": "2024-03-14T09:18:38.528152Z"
    }
   },
   "id": "4f4531d52f3bd67f",
   "execution_count": 108
  },
  {
   "cell_type": "code",
   "outputs": [
    {
     "data": {
      "text/plain": "10"
     },
     "execution_count": 95,
     "metadata": {},
     "output_type": "execute_result"
    }
   ],
   "source": [
    "csum.count()"
   ],
   "metadata": {
    "collapsed": false,
    "ExecuteTime": {
     "end_time": "2024-03-14T09:17:26.569765Z",
     "start_time": "2024-03-14T09:17:26.564412Z"
    }
   },
   "id": "47422e02a5c0afd5",
   "execution_count": 95
  },
  {
   "cell_type": "code",
   "outputs": [
    {
     "data": {
      "text/plain": "(<cell at 0x7f02467c1810: int object at 0x7f0257fdf3a8>,\n <cell at 0x7f024678dc90: function object at 0x7f02447d68e0>)"
     },
     "execution_count": 76,
     "metadata": {},
     "output_type": "execute_result"
    }
   ],
   "source": [
    "csum.__closure__"
   ],
   "metadata": {
    "collapsed": false,
    "ExecuteTime": {
     "end_time": "2024-03-14T08:53:46.014706Z",
     "start_time": "2024-03-14T08:53:46.010009Z"
    }
   },
   "id": "2bf77e5da2593a3b",
   "execution_count": 76
  },
  {
   "cell_type": "code",
   "outputs": [
    {
     "data": {
      "text/plain": "'csum'"
     },
     "execution_count": 77,
     "metadata": {},
     "output_type": "execute_result"
    }
   ],
   "source": [
    "csum.__name__"
   ],
   "metadata": {
    "collapsed": false,
    "ExecuteTime": {
     "end_time": "2024-03-14T08:53:46.046514Z",
     "start_time": "2024-03-14T08:53:46.041056Z"
    }
   },
   "id": "3015df78d046cb59",
   "execution_count": 77
  },
  {
   "cell_type": "code",
   "outputs": [
    {
     "name": "stdout",
     "output_type": "stream",
     "text": [
      "Help on function csum in module __main__:\n",
      "\n",
      "csum(iterable: Iterable)\n",
      "    Return sum of values in iterable and\n",
      "    print the number of time function was called\n"
     ]
    }
   ],
   "source": [
    "help(csum)"
   ],
   "metadata": {
    "collapsed": false,
    "ExecuteTime": {
     "end_time": "2024-03-14T08:53:46.052845Z",
     "start_time": "2024-03-14T08:53:46.048293Z"
    }
   },
   "id": "5854186d78ae7b04",
   "execution_count": 78
  },
  {
   "cell_type": "code",
   "outputs": [
    {
     "data": {
      "text/plain": "<Signature (iterable: Iterable)>"
     },
     "execution_count": 79,
     "metadata": {},
     "output_type": "execute_result"
    }
   ],
   "source": [
    "import inspect\n",
    "inspect.signature(csum)"
   ],
   "metadata": {
    "collapsed": false,
    "ExecuteTime": {
     "end_time": "2024-03-14T08:53:46.073003Z",
     "start_time": "2024-03-14T08:53:46.069312Z"
    }
   },
   "id": "268148a2ad508bcf",
   "execution_count": 79
  },
  {
   "cell_type": "code",
   "outputs": [],
   "source": [
    "def mult(a: int, b: int, c: int = 1, /):\n",
    "    return a * b * c"
   ],
   "metadata": {
    "collapsed": false,
    "ExecuteTime": {
     "end_time": "2024-03-14T09:32:18.467347Z",
     "start_time": "2024-03-14T09:32:18.464801Z"
    }
   },
   "id": "e0efe36c140a4d37",
   "execution_count": 119
  },
  {
   "cell_type": "code",
   "outputs": [
    {
     "data": {
      "text/plain": "6"
     },
     "execution_count": 124,
     "metadata": {},
     "output_type": "execute_result"
    }
   ],
   "source": [
    "mult(2, 3)"
   ],
   "metadata": {
    "collapsed": false,
    "ExecuteTime": {
     "end_time": "2024-03-14T09:54:33.532616Z",
     "start_time": "2024-03-14T09:54:33.527140Z"
    }
   },
   "id": "156fa8b98c27d77e",
   "execution_count": 124
  },
  {
   "cell_type": "code",
   "outputs": [],
   "source": [
    "def timed(fn):\n",
    "    from time import perf_counter\n",
    "    from functools import wraps\n",
    "    \n",
    "    @wraps(fn)\n",
    "    def inner(*args, **kwargs):\n",
    "        start = perf_counter()\n",
    "        result = fn(*args, **kwargs)\n",
    "        end = perf_counter()\n",
    "        elapsed = end - start\n",
    "        \n",
    "        args_ = [str(a) for a in args]\n",
    "        kwargs_ = [f'{k}: {v}' for (k, v) in kwargs.items()]\n",
    "        all_args = args_ + kwargs_\n",
    "        args_str = ','.join(all_args)\n",
    "        print(f'{fn.__name__}({args_str}) took {elapsed:.6f}s to run')\n",
    "        \n",
    "        return result\n",
    "    return inner"
   ],
   "metadata": {
    "collapsed": false,
    "ExecuteTime": {
     "end_time": "2024-03-14T10:27:26.581346Z",
     "start_time": "2024-03-14T10:27:26.572366Z"
    }
   },
   "id": "c0c82779781d781d",
   "execution_count": 131
  },
  {
   "cell_type": "code",
   "outputs": [],
   "source": [
    "@timed\n",
    "def fiboI(index: int) -> int:\n",
    "    f1 = f2 = 1\n",
    "    for _ in range(index):\n",
    "        f1, f2 = f2, f1 + f2\n",
    "    return f1"
   ],
   "metadata": {
    "collapsed": false,
    "ExecuteTime": {
     "end_time": "2024-03-14T10:39:10.209998Z",
     "start_time": "2024-03-14T10:39:10.205496Z"
    }
   },
   "id": "ef28f95ec6d078ab",
   "execution_count": 188
  },
  {
   "cell_type": "code",
   "outputs": [],
   "source": [
    "def fibo_recursive(index: int) -> int:\n",
    "    if index <= 1:\n",
    "        return 1\n",
    "    return fibo_recursive(index - 1) + fibo_recursive(index - 2)\n",
    "@timed\n",
    "def fiboR(n):\n",
    "    return fibo_recursive(n)"
   ],
   "metadata": {
    "collapsed": false,
    "ExecuteTime": {
     "end_time": "2024-03-14T10:48:58.499032Z",
     "start_time": "2024-03-14T10:48:58.494441Z"
    }
   },
   "id": "d1b420c9a4ccf516",
   "execution_count": 196
  },
  {
   "cell_type": "code",
   "outputs": [
    {
     "name": "stdout",
     "output_type": "stream",
     "text": [
      "fiboR(15) took 0.000204s to run\n"
     ]
    },
    {
     "data": {
      "text/plain": "987"
     },
     "execution_count": 207,
     "metadata": {},
     "output_type": "execute_result"
    }
   ],
   "source": [
    "fiboR(15)"
   ],
   "metadata": {
    "collapsed": false,
    "ExecuteTime": {
     "end_time": "2024-03-14T11:35:06.300516Z",
     "start_time": "2024-03-14T11:35:06.295057Z"
    }
   },
   "id": "af3463ce64a377ca",
   "execution_count": 207
  },
  {
   "cell_type": "code",
   "outputs": [
    {
     "name": "stdout",
     "output_type": "stream",
     "text": [
      "fiboI(15) took 0.000002s to run\n"
     ]
    },
    {
     "data": {
      "text/plain": "987"
     },
     "execution_count": 208,
     "metadata": {},
     "output_type": "execute_result"
    }
   ],
   "source": [
    "fiboI(15)"
   ],
   "metadata": {
    "collapsed": false,
    "ExecuteTime": {
     "end_time": "2024-03-14T11:35:11.155012Z",
     "start_time": "2024-03-14T11:35:11.150972Z"
    }
   },
   "id": "8f5873f3a57bd90f",
   "execution_count": 208
  },
  {
   "cell_type": "code",
   "outputs": [],
   "source": [
    "def logged(fn):\n",
    "    from functools import wraps\n",
    "    from datetime import datetime, timezone\n",
    "    \n",
    "    @wraps(fn)\n",
    "    def inner(*args, **kwargs):\n",
    "        run_dt = datetime.now(timezone.utc)\n",
    "        result = fn(*args, **kwargs)\n",
    "        print(f'{run_dt}: {fn.__name__}')\n",
    "        return result\n",
    "    return inner"
   ],
   "metadata": {
    "collapsed": false,
    "ExecuteTime": {
     "end_time": "2024-03-14T11:35:38.133776Z",
     "start_time": "2024-03-14T11:35:38.129003Z"
    }
   },
   "id": "121bf9b72615cb8e",
   "execution_count": 211
  },
  {
   "cell_type": "code",
   "outputs": [],
   "source": [
    "@logged\n",
    "def func_1():\n",
    "    pass"
   ],
   "metadata": {
    "collapsed": false,
    "ExecuteTime": {
     "end_time": "2024-03-14T11:35:38.537089Z",
     "start_time": "2024-03-14T11:35:38.534442Z"
    }
   },
   "id": "c04ccc477dca25fb",
   "execution_count": 212
  },
  {
   "cell_type": "code",
   "outputs": [
    {
     "name": "stdout",
     "output_type": "stream",
     "text": [
      "2024-03-14 11:35:39.141756+00:00: func_1\n"
     ]
    }
   ],
   "source": [
    "func_1()"
   ],
   "metadata": {
    "collapsed": false,
    "ExecuteTime": {
     "end_time": "2024-03-14T11:35:39.144056Z",
     "start_time": "2024-03-14T11:35:39.140094Z"
    }
   },
   "id": "3751aa52f05e274d",
   "execution_count": 213
  },
  {
   "cell_type": "code",
   "outputs": [
    {
     "data": {
      "text/plain": "<function __main__.func_1()>"
     },
     "execution_count": 214,
     "metadata": {},
     "output_type": "execute_result"
    }
   ],
   "source": [
    "func_1"
   ],
   "metadata": {
    "collapsed": false,
    "ExecuteTime": {
     "end_time": "2024-03-14T11:35:44.242962Z",
     "start_time": "2024-03-14T11:35:44.238016Z"
    }
   },
   "id": "6f175e1d17743b54",
   "execution_count": 214
  },
  {
   "cell_type": "code",
   "outputs": [],
   "source": [
    "def timed(fn):  \n",
    "    from time import perf_counter  \n",
    "    from functools import wraps  \n",
    "      \n",
    "    @wraps(fn)  \n",
    "    def inner(*args, **kwargs):  \n",
    "        start = perf_counter()  \n",
    "        result = fn(*args, **kwargs)  \n",
    "        end = perf_counter()  \n",
    "        elapsed = end - start  \n",
    "          \n",
    "        args_ = [str(a) for a in args]  \n",
    "        kwargs_ = [f'{k}: {v}' for (k, v) in kwargs.items()]  \n",
    "        all_args = args_ + kwargs_  \n",
    "        args_str = ','.join(all_args)  \n",
    "        print(f'{fn.__name__}({args_str}) took {elapsed:.6f}s to run')  \n",
    "          \n",
    "        return result  \n",
    "    return inner"
   ],
   "metadata": {
    "collapsed": false,
    "ExecuteTime": {
     "end_time": "2024-03-14T11:40:35.467048Z",
     "start_time": "2024-03-14T11:40:35.460468Z"
    }
   },
   "id": "79eb9f9ca43d657f",
   "execution_count": 217
  },
  {
   "cell_type": "code",
   "outputs": [],
   "source": [
    "def logged(fn):\n",
    "    from functools import wraps\n",
    "    from datetime import datetime, timezone\n",
    "    \n",
    "    @wraps(fn)\n",
    "    def inner(*args, **kwargs):\n",
    "        run_dt = datetime.now(timezone.utc)\n",
    "        result = fn(*args, **kwargs)\n",
    "        print(f'{run_dt}: {fn.__name__}')\n",
    "        return result\n",
    "    return inner"
   ],
   "metadata": {
    "collapsed": false,
    "ExecuteTime": {
     "end_time": "2024-03-14T11:40:35.789473Z",
     "start_time": "2024-03-14T11:40:35.784163Z"
    }
   },
   "id": "54ec48932088adaa",
   "execution_count": 218
  },
  {
   "cell_type": "code",
   "outputs": [],
   "source": [
    "@logged\n",
    "@timed\n",
    "def func_1():\n",
    "    pass"
   ],
   "metadata": {
    "collapsed": false,
    "ExecuteTime": {
     "end_time": "2024-03-14T11:49:58.143601Z",
     "start_time": "2024-03-14T11:49:58.139866Z"
    }
   },
   "id": "82680b308118112f",
   "execution_count": 244
  },
  {
   "cell_type": "code",
   "outputs": [
    {
     "name": "stdout",
     "output_type": "stream",
     "text": [
      "func_1() took 0.000002s to run\n",
      "2024-03-14 11:49:58.911620+00:00: func_1\n"
     ]
    }
   ],
   "source": [
    "func_1()"
   ],
   "metadata": {
    "collapsed": false,
    "ExecuteTime": {
     "end_time": "2024-03-14T11:49:58.913537Z",
     "start_time": "2024-03-14T11:49:58.909968Z"
    }
   },
   "id": "888395840c30f9bb",
   "execution_count": 245
  },
  {
   "cell_type": "code",
   "outputs": [
    {
     "name": "stdout",
     "output_type": "stream",
     "text": [
      "2024-03-14 11:41:36.993438+00:00: func_1\n",
      "func_1() took 0.000071s to run\n"
     ]
    }
   ],
   "source": [
    "func_1()"
   ],
   "metadata": {
    "collapsed": false,
    "ExecuteTime": {
     "end_time": "2024-03-14T11:41:36.995896Z",
     "start_time": "2024-03-14T11:41:36.991873Z"
    }
   },
   "id": "4ce55b92c28bab8e",
   "execution_count": 223
  },
  {
   "cell_type": "code",
   "outputs": [],
   "source": [
    "def fact(n):\n",
    "    from operator import mul\n",
    "    from functools import reduce\n",
    "    return reduce(mul, range(1, n+1))"
   ],
   "metadata": {
    "collapsed": false,
    "ExecuteTime": {
     "end_time": "2024-03-14T11:46:40.542136Z",
     "start_time": "2024-03-14T11:46:40.538220Z"
    }
   },
   "id": "7f4f08e17f8938",
   "execution_count": 240
  },
  {
   "cell_type": "code",
   "outputs": [
    {
     "data": {
      "text/plain": "24"
     },
     "execution_count": 241,
     "metadata": {},
     "output_type": "execute_result"
    }
   ],
   "source": [
    "fact(4)"
   ],
   "metadata": {
    "collapsed": false,
    "ExecuteTime": {
     "end_time": "2024-03-14T11:46:40.873986Z",
     "start_time": "2024-03-14T11:46:40.868393Z"
    }
   },
   "id": "d773dcad1a459972",
   "execution_count": 241
  },
  {
   "cell_type": "code",
   "outputs": [],
   "source": [
    "def dec_1(fn):\n",
    "    def inner():\n",
    "        print('Running dec_1')\n",
    "        return fn()\n",
    "    return inner"
   ],
   "metadata": {
    "collapsed": false,
    "ExecuteTime": {
     "end_time": "2024-03-14T12:57:18.235382Z",
     "start_time": "2024-03-14T12:57:18.231495Z"
    }
   },
   "id": "ea3f9812c37b073a",
   "execution_count": 253
  },
  {
   "cell_type": "code",
   "outputs": [],
   "source": [
    "def dec_2(fn):\n",
    "    def inner():\n",
    "        print('Running dec_2')\n",
    "        return fn()\n",
    "    return inner"
   ],
   "metadata": {
    "collapsed": false,
    "ExecuteTime": {
     "end_time": "2024-03-14T12:57:18.902295Z",
     "start_time": "2024-03-14T12:57:18.898455Z"
    }
   },
   "id": "89199ba744331a5b",
   "execution_count": 254
  },
  {
   "cell_type": "code",
   "outputs": [],
   "source": [
    "@dec_1\n",
    "@dec_2\n",
    "def my_func():\n",
    "    print('Running my_func')"
   ],
   "metadata": {
    "collapsed": false,
    "ExecuteTime": {
     "end_time": "2024-03-14T12:56:51.275328Z",
     "start_time": "2024-03-14T12:56:51.271322Z"
    }
   },
   "id": "da22fb1f52344609",
   "execution_count": 251
  },
  {
   "cell_type": "code",
   "outputs": [
    {
     "name": "stdout",
     "output_type": "stream",
     "text": [
      "Running dec_1\n",
      "Running dec_2\n",
      "Running my_func\n"
     ]
    }
   ],
   "source": [
    "my_func()"
   ],
   "metadata": {
    "collapsed": false,
    "ExecuteTime": {
     "end_time": "2024-03-14T12:56:51.501762Z",
     "start_time": "2024-03-14T12:56:51.497876Z"
    }
   },
   "id": "670f40203d1646a3",
   "execution_count": 252
  },
  {
   "cell_type": "code",
   "outputs": [],
   "source": [
    "def my_func_fit():\n",
    "    print('Running my_func_fit')\n",
    "my_func_fit = dec_1(dec_2(my_func_fit))"
   ],
   "metadata": {
    "collapsed": false,
    "ExecuteTime": {
     "end_time": "2024-03-14T12:58:35.193073Z",
     "start_time": "2024-03-14T12:58:35.189240Z"
    }
   },
   "id": "a26af255da84590e",
   "execution_count": 263
  },
  {
   "cell_type": "code",
   "outputs": [
    {
     "name": "stdout",
     "output_type": "stream",
     "text": [
      "Running dec_1\n",
      "Running dec_2\n",
      "Running my_func_fit\n"
     ]
    }
   ],
   "source": [
    "my_func_fit()"
   ],
   "metadata": {
    "collapsed": false,
    "ExecuteTime": {
     "end_time": "2024-03-14T12:58:35.367787Z",
     "start_time": "2024-03-14T12:58:35.363334Z"
    }
   },
   "id": "94a30b905ed30b32",
   "execution_count": 264
  },
  {
   "cell_type": "code",
   "outputs": [
    {
     "name": "stdout",
     "output_type": "stream",
     "text": [
      "Running my_func\n",
      "Running dec_2\n",
      "Running dec_1\n",
      "Running dec_2\n",
      "Running dec_1\n",
      "Running dec_2\n",
      "Running dec_1\n",
      "Running dec_2\n",
      "Running dec_1\n",
      "Running dec_2\n",
      "Running dec_1\n"
     ]
    }
   ],
   "source": [
    "def dec_1(fn):\n",
    "    def inner():\n",
    "        res = fn()\n",
    "        print('Running dec_1')\n",
    "        return res\n",
    "\n",
    "    return inner\n",
    "\n",
    "\n",
    "def dec_2(fn):\n",
    "    def inner():\n",
    "        res = fn()\n",
    "        print('Running dec_2')\n",
    "        return res\n",
    "\n",
    "    return inner\n",
    "\n",
    "\n",
    "@dec_1\n",
    "@dec_2\n",
    "def my_func():\n",
    "    print('Running my_func')\n",
    "\n",
    "\n",
    "my_func()"
   ],
   "metadata": {
    "collapsed": false,
    "ExecuteTime": {
     "end_time": "2024-03-14T13:03:31.607014Z",
     "start_time": "2024-03-14T13:03:31.600881Z"
    }
   },
   "id": "79e614c0ac6b88ce",
   "execution_count": 267
  },
  {
   "cell_type": "code",
   "outputs": [],
   "source": [
    "def fib(n):\n",
    "    print(f\"Calculating fib({n})\")\n",
    "    return 1 if n < 3 else fib(n-1) + fib(n-2)"
   ],
   "metadata": {
    "collapsed": false,
    "ExecuteTime": {
     "end_time": "2024-03-14T13:16:35.095266Z",
     "start_time": "2024-03-14T13:16:35.091104Z"
    }
   },
   "id": "a9c17e68acc0a0d5",
   "execution_count": 270
  },
  {
   "cell_type": "code",
   "outputs": [
    {
     "name": "stdout",
     "output_type": "stream",
     "text": [
      "Calculating fib(10)\n",
      "Calculating fib(9)\n",
      "Calculating fib(8)\n",
      "Calculating fib(7)\n",
      "Calculating fib(6)\n",
      "Calculating fib(5)\n",
      "Calculating fib(4)\n",
      "Calculating fib(3)\n",
      "Calculating fib(2)\n",
      "Calculating fib(1)\n",
      "Calculating fib(2)\n",
      "Calculating fib(3)\n",
      "Calculating fib(2)\n",
      "Calculating fib(1)\n",
      "Calculating fib(4)\n",
      "Calculating fib(3)\n",
      "Calculating fib(2)\n",
      "Calculating fib(1)\n",
      "Calculating fib(2)\n",
      "Calculating fib(5)\n",
      "Calculating fib(4)\n",
      "Calculating fib(3)\n",
      "Calculating fib(2)\n",
      "Calculating fib(1)\n",
      "Calculating fib(2)\n",
      "Calculating fib(3)\n",
      "Calculating fib(2)\n",
      "Calculating fib(1)\n",
      "Calculating fib(6)\n",
      "Calculating fib(5)\n",
      "Calculating fib(4)\n",
      "Calculating fib(3)\n",
      "Calculating fib(2)\n",
      "Calculating fib(1)\n",
      "Calculating fib(2)\n",
      "Calculating fib(3)\n",
      "Calculating fib(2)\n",
      "Calculating fib(1)\n",
      "Calculating fib(4)\n",
      "Calculating fib(3)\n",
      "Calculating fib(2)\n",
      "Calculating fib(1)\n",
      "Calculating fib(2)\n",
      "Calculating fib(7)\n",
      "Calculating fib(6)\n",
      "Calculating fib(5)\n",
      "Calculating fib(4)\n",
      "Calculating fib(3)\n",
      "Calculating fib(2)\n",
      "Calculating fib(1)\n",
      "Calculating fib(2)\n",
      "Calculating fib(3)\n",
      "Calculating fib(2)\n",
      "Calculating fib(1)\n",
      "Calculating fib(4)\n",
      "Calculating fib(3)\n",
      "Calculating fib(2)\n",
      "Calculating fib(1)\n",
      "Calculating fib(2)\n",
      "Calculating fib(5)\n",
      "Calculating fib(4)\n",
      "Calculating fib(3)\n",
      "Calculating fib(2)\n",
      "Calculating fib(1)\n",
      "Calculating fib(2)\n",
      "Calculating fib(3)\n",
      "Calculating fib(2)\n",
      "Calculating fib(1)\n",
      "Calculating fib(8)\n",
      "Calculating fib(7)\n",
      "Calculating fib(6)\n",
      "Calculating fib(5)\n",
      "Calculating fib(4)\n",
      "Calculating fib(3)\n",
      "Calculating fib(2)\n",
      "Calculating fib(1)\n",
      "Calculating fib(2)\n",
      "Calculating fib(3)\n",
      "Calculating fib(2)\n",
      "Calculating fib(1)\n",
      "Calculating fib(4)\n",
      "Calculating fib(3)\n",
      "Calculating fib(2)\n",
      "Calculating fib(1)\n",
      "Calculating fib(2)\n",
      "Calculating fib(5)\n",
      "Calculating fib(4)\n",
      "Calculating fib(3)\n",
      "Calculating fib(2)\n",
      "Calculating fib(1)\n",
      "Calculating fib(2)\n",
      "Calculating fib(3)\n",
      "Calculating fib(2)\n",
      "Calculating fib(1)\n",
      "Calculating fib(6)\n",
      "Calculating fib(5)\n",
      "Calculating fib(4)\n",
      "Calculating fib(3)\n",
      "Calculating fib(2)\n",
      "Calculating fib(1)\n",
      "Calculating fib(2)\n",
      "Calculating fib(3)\n",
      "Calculating fib(2)\n",
      "Calculating fib(1)\n",
      "Calculating fib(4)\n",
      "Calculating fib(3)\n",
      "Calculating fib(2)\n",
      "Calculating fib(1)\n",
      "Calculating fib(2)\n"
     ]
    },
    {
     "data": {
      "text/plain": "55"
     },
     "execution_count": 271,
     "metadata": {},
     "output_type": "execute_result"
    }
   ],
   "source": [
    "fib(10)"
   ],
   "metadata": {
    "collapsed": false,
    "ExecuteTime": {
     "end_time": "2024-03-14T13:16:35.321691Z",
     "start_time": "2024-03-14T13:16:35.314754Z"
    }
   },
   "id": "bb23a382b6edc86c",
   "execution_count": 271
  },
  {
   "cell_type": "code",
   "outputs": [],
   "source": [
    "arr = str()\n",
    "def Collatz_Conjecture(n):\n",
    "    global arr\n",
    "    arr += f\"{n}, \"\n",
    "    if n < 2:\n",
    "        return None\n",
    "    return Collatz_Conjecture(n * 3 + 1) if n % 2 == 1 else Collatz_Conjecture(int(n // 2))"
   ],
   "metadata": {
    "collapsed": false,
    "ExecuteTime": {
     "end_time": "2024-03-14T13:25:20.638097Z",
     "start_time": "2024-03-14T13:25:20.633469Z"
    }
   },
   "id": "ca1f076af397e41d",
   "execution_count": 292
  },
  {
   "cell_type": "code",
   "outputs": [
    {
     "data": {
      "text/plain": "'7, 22, 11, 34, 17, 52, 26, 13, 40, 20, 10, 5, 16, 8, 4, 2, 1, '"
     },
     "execution_count": 293,
     "metadata": {},
     "output_type": "execute_result"
    }
   ],
   "source": [
    "Collatz_Conjecture(7)\n",
    "arr"
   ],
   "metadata": {
    "collapsed": false,
    "ExecuteTime": {
     "end_time": "2024-03-14T13:25:21.004879Z",
     "start_time": "2024-03-14T13:25:20.999584Z"
    }
   },
   "id": "657f4d60f619ad95",
   "execution_count": 293
  },
  {
   "cell_type": "code",
   "outputs": [],
   "source": [
    "class Fib:\n",
    "    def __init__(self):\n",
    "        self.cache = {1: 1, 2: 1}\n",
    "    \n",
    "    def fib(self, n):\n",
    "        if n < 1:\n",
    "            raise ValueError('Fibonacci sequence starts from 1')\n",
    "        if n not in self.cache:\n",
    "            print(f'Calculating fin({n})')\n",
    "            self.cache[n] = self.fib(n-2) + self.fib(n-1)\n",
    "        return self.cache.get(n)"
   ],
   "metadata": {
    "collapsed": false,
    "ExecuteTime": {
     "end_time": "2024-03-14T13:42:02.292035Z",
     "start_time": "2024-03-14T13:42:02.287809Z"
    }
   },
   "id": "d0e119ae34ef05ff",
   "execution_count": 343
  },
  {
   "cell_type": "code",
   "outputs": [],
   "source": [
    "fib = Fib()"
   ],
   "metadata": {
    "collapsed": false,
    "ExecuteTime": {
     "end_time": "2024-03-14T13:43:15.547610Z",
     "start_time": "2024-03-14T13:43:15.544227Z"
    }
   },
   "id": "ee6e5061e52e3d48",
   "execution_count": 352
  },
  {
   "cell_type": "code",
   "outputs": [
    {
     "data": {
      "text/plain": "6765"
     },
     "execution_count": 355,
     "metadata": {},
     "output_type": "execute_result"
    }
   ],
   "source": [
    "fib.fib(20)"
   ],
   "metadata": {
    "collapsed": false,
    "ExecuteTime": {
     "end_time": "2024-03-14T13:43:32.546135Z",
     "start_time": "2024-03-14T13:43:32.541517Z"
    }
   },
   "id": "6d9214a62524759a",
   "execution_count": 355
  },
  {
   "cell_type": "code",
   "outputs": [],
   "source": [
    "def fib():\n",
    "    cache = {1: 1, 2: 1}\n",
    "    def inner(n):\n",
    "        if n in cache:\n",
    "            return cache[n]\n",
    "        else:\n",
    "            cache[n] = inner(n - 2) + inner(n - 1)\n",
    "            return cache.get(n)\n",
    "    return inner"
   ],
   "metadata": {
    "collapsed": false,
    "ExecuteTime": {
     "end_time": "2024-03-26T17:24:06.261622Z",
     "start_time": "2024-03-26T17:24:06.257713Z"
    }
   },
   "id": "5e7299ca04cb1d82",
   "execution_count": 24
  },
  {
   "cell_type": "code",
   "outputs": [],
   "source": [
    "fib = fib()"
   ],
   "metadata": {
    "collapsed": false,
    "ExecuteTime": {
     "end_time": "2024-03-26T17:24:06.525757Z",
     "start_time": "2024-03-26T17:24:06.522441Z"
    }
   },
   "id": "5a589361b76e4fe9",
   "execution_count": 25
  },
  {
   "cell_type": "code",
   "outputs": [
    {
     "data": {
      "text/plain": "55"
     },
     "execution_count": 35,
     "metadata": {},
     "output_type": "execute_result"
    }
   ],
   "source": [
    "fib(10)"
   ],
   "metadata": {
    "collapsed": false,
    "ExecuteTime": {
     "end_time": "2024-03-26T17:27:01.015242Z",
     "start_time": "2024-03-26T17:27:01.009782Z"
    }
   },
   "id": "f06a54610d15ccc8",
   "execution_count": 35
  },
  {
   "cell_type": "code",
   "outputs": [],
   "source": [
    "def memo_decorator(fn):\n",
    "        cache = dict()\n",
    "        def inner(n):\n",
    "            if n not in cache:\n",
    "                cache[n] = fn(n)\n",
    "            return cache[n]\n",
    "        return inner"
   ],
   "metadata": {
    "collapsed": false,
    "ExecuteTime": {
     "end_time": "2024-03-26T17:41:11.986229Z",
     "start_time": "2024-03-26T17:41:11.982131Z"
    }
   },
   "id": "6843908d79fa9548",
   "execution_count": 62
  },
  {
   "cell_type": "code",
   "outputs": [],
   "source": [
    "@memo_decorator\n",
    "def fib_iter(n):\n",
    "    pre = 1\n",
    "    cur = 1\n",
    "    for _ in range(1, n):\n",
    "        pre, cur = cur, cur + pre\n",
    "    return pre"
   ],
   "metadata": {
    "collapsed": false,
    "ExecuteTime": {
     "end_time": "2024-03-26T17:41:12.235476Z",
     "start_time": "2024-03-26T17:41:12.231492Z"
    }
   },
   "id": "9d22b1990178a5ea",
   "execution_count": 63
  },
  {
   "cell_type": "code",
   "outputs": [
    {
     "name": "stdout",
     "output_type": "stream",
     "text": [
      "Done\n"
     ]
    }
   ],
   "source": [
    "fib_iter(10**6)\n",
    "print('Done')"
   ],
   "metadata": {
    "collapsed": false,
    "ExecuteTime": {
     "end_time": "2024-03-26T17:41:23.470617Z",
     "start_time": "2024-03-26T17:41:23.466640Z"
    }
   },
   "id": "546d6edf9bd518be",
   "execution_count": 65
  },
  {
   "cell_type": "code",
   "outputs": [],
   "source": [
    "from functools import lru_cache"
   ],
   "metadata": {
    "collapsed": false,
    "ExecuteTime": {
     "end_time": "2024-03-26T17:48:10.878263Z",
     "start_time": "2024-03-26T17:48:10.875168Z"
    }
   },
   "id": "35863aedd6479444",
   "execution_count": 66
  },
  {
   "cell_type": "code",
   "outputs": [],
   "source": [
    "@lru_cache(maxsize=8)\n",
    "def fib_iter(n):\n",
    "    pre = 1\n",
    "    cur = 1\n",
    "    for _ in range(1, n):\n",
    "        pre, cur = cur, cur + pre\n",
    "    return pre"
   ],
   "metadata": {
    "collapsed": false,
    "ExecuteTime": {
     "end_time": "2024-03-26T17:52:17.564382Z",
     "start_time": "2024-03-26T17:52:17.560091Z"
    }
   },
   "id": "6ab3194c15f5e135",
   "execution_count": 87
  },
  {
   "cell_type": "code",
   "outputs": [],
   "source": [
    "x = fib_iter(10**6)"
   ],
   "metadata": {
    "collapsed": false,
    "ExecuteTime": {
     "end_time": "2024-03-26T17:52:25.297315Z",
     "start_time": "2024-03-26T17:52:17.747920Z"
    }
   },
   "id": "5a25b8dd3f26ad9f",
   "execution_count": 88
  },
  {
   "cell_type": "markdown",
   "source": [
    "**Old way**\n",
    "Decorator factory take some arguments and returns decorator\n",
    "```python\n",
    "def my_func(algo):\n",
    "    pass\n",
    "my_func = func(my_func)(some_input)\n",
    "```\n",
    "**Decorator Factory way**\n",
    "```python\n",
    "@func(some_input)\n",
    "def my_func(algo):\n",
    "   pass\n",
    "```"
   ],
   "metadata": {
    "collapsed": false
   },
   "id": "85d5a9464f1e3abe"
  },
  {
   "cell_type": "code",
   "outputs": [],
   "source": [
    "from functools import wraps\n",
    "def timed(fn):\n",
    "    from time import perf_counter\n",
    "    \n",
    "    @wraps(fn)\n",
    "    def inner(*args, **kwargs):\n",
    "        start = perf_counter()\n",
    "        result = fn(*args, **kwargs)\n",
    "        end = perf_counter()\n",
    "        elapsed = end - start\n",
    "        print(f'Run time: {elapsed:.6f}s')\n",
    "        return result\n",
    "    return inner"
   ],
   "metadata": {
    "collapsed": false,
    "ExecuteTime": {
     "end_time": "2024-03-27T08:31:19.892722Z",
     "start_time": "2024-03-27T08:31:19.887067Z"
    }
   },
   "id": "736cdd70992ac0e",
   "execution_count": 39
  },
  {
   "cell_type": "code",
   "outputs": [],
   "source": [
    "def fib(n):\n",
    "    def fibo(n):\n",
    "        if n < 3:\n",
    "            return 1\n",
    "        return fibo(n - 1) + fibo(n - 2)\n",
    "    return fibo(n)"
   ],
   "metadata": {
    "collapsed": false,
    "ExecuteTime": {
     "end_time": "2024-03-27T08:25:27.832783Z",
     "start_time": "2024-03-27T08:25:27.828291Z"
    }
   },
   "id": "cec0425e157dd86c",
   "execution_count": 34
  },
  {
   "cell_type": "code",
   "outputs": [],
   "source": [
    "fib = timed(fib)"
   ],
   "metadata": {
    "collapsed": false,
    "ExecuteTime": {
     "end_time": "2024-03-27T08:26:53.021953Z",
     "start_time": "2024-03-27T08:26:53.018856Z"
    }
   },
   "id": "6b56d43858bebbd4",
   "execution_count": 36
  },
  {
   "cell_type": "code",
   "outputs": [
    {
     "name": "stdout",
     "output_type": "stream",
     "text": [
      "Run time: 1.169261s\n",
      "Run time: 1.169350s\n"
     ]
    },
    {
     "data": {
      "text/plain": "9227465"
     },
     "execution_count": 37,
     "metadata": {},
     "output_type": "execute_result"
    }
   ],
   "source": [
    "fib(35)"
   ],
   "metadata": {
    "collapsed": false,
    "ExecuteTime": {
     "end_time": "2024-03-27T08:26:58.530691Z",
     "start_time": "2024-03-27T08:26:57.357051Z"
    }
   },
   "id": "d136e70ffb7574c3",
   "execution_count": 37
  },
  {
   "cell_type": "code",
   "outputs": [],
   "source": [
    "from functools import wraps\n",
    "\n",
    "def timed(times):\n",
    "    def timed_decorator(fn):\n",
    "        from time import perf_counter\n",
    "        @wraps(fn)\n",
    "        def inner(*args, **kwargs):\n",
    "            sum = 0\n",
    "            result = None\n",
    "            for i in range(1, times + 1):\n",
    "                start = perf_counter()\n",
    "                result = fn(*args, **kwargs)\n",
    "                end = perf_counter()\n",
    "                sum += end - start\n",
    "                print(f'{i}: {end - start}')\n",
    "            avg = sum / times\n",
    "            print(f'Run time: {avg:.6f}s of {times} iterations')\n",
    "            return result\n",
    "        return inner\n",
    "    return timed_decorator"
   ],
   "metadata": {
    "collapsed": false,
    "ExecuteTime": {
     "end_time": "2024-03-27T08:35:25.207381Z",
     "start_time": "2024-03-27T08:35:25.202287Z"
    }
   },
   "id": "a95e894f044accbe",
   "execution_count": 67
  },
  {
   "cell_type": "code",
   "outputs": [],
   "source": [
    "def fib(n):\n",
    "    def fibo(n):\n",
    "        if n < 3:\n",
    "            return 1\n",
    "        return fibo(n - 1) + fibo(n - 2)\n",
    "    return fibo(n)"
   ],
   "metadata": {
    "collapsed": false,
    "ExecuteTime": {
     "end_time": "2024-03-27T08:35:25.652444Z",
     "start_time": "2024-03-27T08:35:25.647305Z"
    }
   },
   "id": "a9536fb9f7689e8f",
   "execution_count": 68
  },
  {
   "cell_type": "code",
   "outputs": [],
   "source": [
    "fib = timed(10)(fib)"
   ],
   "metadata": {
    "collapsed": false,
    "ExecuteTime": {
     "end_time": "2024-03-27T08:35:26.059207Z",
     "start_time": "2024-03-27T08:35:26.055509Z"
    }
   },
   "id": "7d6331edd8f916f9",
   "execution_count": 69
  },
  {
   "cell_type": "code",
   "outputs": [
    {
     "name": "stdout",
     "output_type": "stream",
     "text": [
      "1: 1.1939404270001432\n",
      "2: 1.0595318020000377\n",
      "3: 1.0586099480001394\n",
      "4: 1.0605054459997518\n",
      "5: 1.0591525199997704\n",
      "6: 1.0607496069997069\n",
      "7: 1.060879386999659\n",
      "8: 1.0598904439998478\n",
      "9: 1.0594472509997104\n",
      "10: 1.0622650229997816\n",
      "Run time: 1.073497s of 10 iterations\n"
     ]
    },
    {
     "data": {
      "text/plain": "9227465"
     },
     "execution_count": 70,
     "metadata": {},
     "output_type": "execute_result"
    }
   ],
   "source": [
    "fib(35)"
   ],
   "metadata": {
    "collapsed": false,
    "ExecuteTime": {
     "end_time": "2024-03-27T08:35:37.716321Z",
     "start_time": "2024-03-27T08:35:26.975798Z"
    }
   },
   "id": "e47079574197e9b8",
   "execution_count": 70
  },
  {
   "cell_type": "code",
   "outputs": [],
   "source": [
    "class DecoratorBasicClass:\n",
    "    def __init__(self):\n",
    "        print('Insance is here')\n",
    "    \n",
    "    def __call__(self, fn):\n",
    "        print('Called')\n",
    "        def inner(a):\n",
    "            print(f'Name of call function is {fn.__name__}')\n",
    "            return fn(a)\n",
    "        return inner"
   ],
   "metadata": {
    "collapsed": false,
    "ExecuteTime": {
     "end_time": "2024-03-27T09:27:53.125957Z",
     "start_time": "2024-03-27T09:27:53.122987Z"
    }
   },
   "id": "6c0cbea2dcd418aa",
   "execution_count": 113
  },
  {
   "cell_type": "code",
   "outputs": [
    {
     "name": "stdout",
     "output_type": "stream",
     "text": [
      "Insance is here\n",
      "Called\n"
     ]
    }
   ],
   "source": [
    "@DecoratorBasicClass()\n",
    "def add(a):\n",
    "    return 10 + 12 + a"
   ],
   "metadata": {
    "collapsed": false,
    "ExecuteTime": {
     "end_time": "2024-03-27T09:27:53.614566Z",
     "start_time": "2024-03-27T09:27:53.611709Z"
    }
   },
   "id": "7602827484b05221",
   "execution_count": 114
  },
  {
   "cell_type": "code",
   "outputs": [
    {
     "data": {
      "text/plain": "'inner'"
     },
     "execution_count": 116,
     "metadata": {},
     "output_type": "execute_result"
    }
   ],
   "source": [
    "add.__name__"
   ],
   "metadata": {
    "collapsed": false,
    "ExecuteTime": {
     "end_time": "2024-03-27T09:28:30.435021Z",
     "start_time": "2024-03-27T09:28:30.428787Z"
    }
   },
   "id": "451240c6483806a",
   "execution_count": 116
  },
  {
   "cell_type": "code",
   "outputs": [],
   "source": [
    "from fractions import Fraction"
   ],
   "metadata": {
    "collapsed": false,
    "ExecuteTime": {
     "end_time": "2024-03-27T09:36:47.133454Z",
     "start_time": "2024-03-27T09:36:47.129985Z"
    }
   },
   "id": "6d45cecb1ca4e48e",
   "execution_count": 117
  },
  {
   "cell_type": "code",
   "outputs": [],
   "source": [
    "f1 = Fraction(2, 3)\n",
    "f2 = Fraction(64, 8)"
   ],
   "metadata": {
    "collapsed": false,
    "ExecuteTime": {
     "end_time": "2024-03-27T09:37:02.024710Z",
     "start_time": "2024-03-27T09:37:02.020603Z"
    }
   },
   "id": "8a554c18dc74e7c0",
   "execution_count": 118
  },
  {
   "cell_type": "code",
   "outputs": [],
   "source": [
    "Fraction.is_integral = lambda self: self.denominator == 1"
   ],
   "metadata": {
    "collapsed": false,
    "ExecuteTime": {
     "end_time": "2024-03-27T09:37:57.384425Z",
     "start_time": "2024-03-27T09:37:57.380955Z"
    }
   },
   "id": "36b1949c3d453365",
   "execution_count": 121
  },
  {
   "cell_type": "code",
   "outputs": [
    {
     "data": {
      "text/plain": "False"
     },
     "execution_count": 122,
     "metadata": {},
     "output_type": "execute_result"
    }
   ],
   "source": [
    "f1.is_integral()"
   ],
   "metadata": {
    "collapsed": false,
    "ExecuteTime": {
     "end_time": "2024-03-27T09:37:57.697866Z",
     "start_time": "2024-03-27T09:37:57.692263Z"
    }
   },
   "id": "d0ec7a6237b3b2e4",
   "execution_count": 122
  },
  {
   "cell_type": "code",
   "outputs": [
    {
     "data": {
      "text/plain": "True"
     },
     "execution_count": 125,
     "metadata": {},
     "output_type": "execute_result"
    }
   ],
   "source": [
    "f2.is_integral()"
   ],
   "metadata": {
    "collapsed": false,
    "ExecuteTime": {
     "end_time": "2024-03-27T09:38:13.587942Z",
     "start_time": "2024-03-27T09:38:13.582937Z"
    }
   },
   "id": "44bd6906226e83c",
   "execution_count": 125
  },
  {
   "cell_type": "code",
   "outputs": [],
   "source": [
    "def dec_speak(cls):\n",
    "    cls.speak = lambda self, message: f'{self.__class__.__name__} says: {message}'\n",
    "    return cls"
   ],
   "metadata": {
    "collapsed": false,
    "ExecuteTime": {
     "end_time": "2024-03-27T09:42:59.973794Z",
     "start_time": "2024-03-27T09:42:59.968965Z"
    }
   },
   "id": "2e83fee4eba03e95",
   "execution_count": 130
  },
  {
   "cell_type": "code",
   "outputs": [],
   "source": [
    "class Person:\n",
    "    pass"
   ],
   "metadata": {
    "collapsed": false,
    "ExecuteTime": {
     "end_time": "2024-03-27T09:43:00.633395Z",
     "start_time": "2024-03-27T09:43:00.630244Z"
    }
   },
   "id": "6ac9b4e92f3f0a4e",
   "execution_count": 131
  },
  {
   "cell_type": "code",
   "outputs": [],
   "source": [
    "Person = dec_speak(Person)"
   ],
   "metadata": {
    "collapsed": false,
    "ExecuteTime": {
     "end_time": "2024-03-27T09:43:02.546108Z",
     "start_time": "2024-03-27T09:43:02.543160Z"
    }
   },
   "id": "3fff4869da13a546",
   "execution_count": 132
  },
  {
   "cell_type": "code",
   "outputs": [
    {
     "data": {
      "text/plain": "\"Person says: let's code something\""
     },
     "execution_count": 134,
     "metadata": {},
     "output_type": "execute_result"
    }
   ],
   "source": [
    "Person().speak(\"let's code something\")"
   ],
   "metadata": {
    "collapsed": false,
    "ExecuteTime": {
     "end_time": "2024-03-27T09:43:32.001829Z",
     "start_time": "2024-03-27T09:43:31.997889Z"
    }
   },
   "id": "4393335b04532318",
   "execution_count": 134
  },
  {
   "cell_type": "code",
   "outputs": [],
   "source": [
    "from datetime import datetime, timezone"
   ],
   "metadata": {
    "collapsed": false,
    "ExecuteTime": {
     "end_time": "2024-03-27T10:16:26.651261Z",
     "start_time": "2024-03-27T10:16:26.647598Z"
    }
   },
   "id": "71c91138a73f3045",
   "execution_count": 150
  },
  {
   "cell_type": "code",
   "outputs": [],
   "source": [
    "def info(self):\n",
    "    results = list()\n",
    "    results.append(f'time: {datetime.now(timezone.utc)}')\n",
    "    results.append(f'Class: {self.__class__.__name__}')\n",
    "    results.append(f'id: {hex(id(self))}')\n",
    "    for k, v in vars(self).items():\n",
    "        results.append(f'{k}: {v}')\n",
    "    return results\n",
    "\n",
    "def debug_info(cls):\n",
    "    cls.debug = info\n",
    "    return cls"
   ],
   "metadata": {
    "collapsed": false,
    "ExecuteTime": {
     "end_time": "2024-03-27T10:50:19.864969Z",
     "start_time": "2024-03-27T10:50:19.859822Z"
    }
   },
   "id": "c424370cabeb32d2",
   "execution_count": 169
  },
  {
   "cell_type": "code",
   "outputs": [],
   "source": [
    "@debug_info\n",
    "class Person:\n",
    "    def __init__(self, name, birth_year):\n",
    "        self.name = name\n",
    "        self.birth_year = birth_year\n",
    "    \n",
    "    def say_hi(self):\n",
    "        return 'Hello there!'"
   ],
   "metadata": {
    "collapsed": false,
    "ExecuteTime": {
     "end_time": "2024-03-27T10:50:20.056036Z",
     "start_time": "2024-03-27T10:50:20.051887Z"
    }
   },
   "id": "c12ee28caef4a0cd",
   "execution_count": 170
  },
  {
   "cell_type": "code",
   "outputs": [],
   "source": [
    "guy = Person(\"Mario\", 2000)"
   ],
   "metadata": {
    "collapsed": false,
    "ExecuteTime": {
     "end_time": "2024-03-27T10:50:20.215556Z",
     "start_time": "2024-03-27T10:50:20.212033Z"
    }
   },
   "id": "fb48ba2d929c43f",
   "execution_count": 171
  },
  {
   "cell_type": "code",
   "outputs": [
    {
     "data": {
      "text/plain": "['time: 2024-03-27 10:50:20.341021+00:00',\n 'Class: Person',\n 'id: 0x7f37e1d091c0',\n 'name: Mario',\n 'birth_year: 2000']"
     },
     "execution_count": 172,
     "metadata": {},
     "output_type": "execute_result"
    }
   ],
   "source": [
    "guy.debug()"
   ],
   "metadata": {
    "collapsed": false,
    "ExecuteTime": {
     "end_time": "2024-03-27T10:50:20.343897Z",
     "start_time": "2024-03-27T10:50:20.339265Z"
    }
   },
   "id": "8737025ce589cdf4",
   "execution_count": 172
  },
  {
   "cell_type": "code",
   "outputs": [],
   "source": [
    "@debug_info\n",
    "class Automobile:\n",
    "    def __init__(self, make, model, year, top_speed):\n",
    "        self.make = make\n",
    "        self.model = model\n",
    "        self.year = year\n",
    "        self.top_speed = top_speed\n",
    "        self.speed = 0\n",
    "        \n",
    "    @property\n",
    "    def speed(self):\n",
    "        return self._speed\n",
    "    \n",
    "    @speed.setter\n",
    "    def speed(self, new_speed):\n",
    "        if new_speed > self.top_speed:\n",
    "            raise ValueError('Speed cannot exceed top_speed.')\n",
    "        else:\n",
    "            self._speed = new_speed"
   ],
   "metadata": {
    "collapsed": false,
    "ExecuteTime": {
     "end_time": "2024-03-27T10:50:47.776953Z",
     "start_time": "2024-03-27T10:50:47.770638Z"
    }
   },
   "id": "9643c0c94494d1cc",
   "execution_count": 177
  },
  {
   "cell_type": "code",
   "outputs": [],
   "source": [
    "fav = Automobile('Ford', 'Model T', 1908, 45)"
   ],
   "metadata": {
    "collapsed": false,
    "ExecuteTime": {
     "end_time": "2024-03-27T10:50:47.993280Z",
     "start_time": "2024-03-27T10:50:47.989771Z"
    }
   },
   "id": "9e8aa117e66e03b2",
   "execution_count": 178
  },
  {
   "cell_type": "code",
   "outputs": [
    {
     "data": {
      "text/plain": "['time: 2024-03-27 10:50:48.221927+00:00',\n 'Class: Automobile',\n 'id: 0x7f37e13e3bf0',\n 'make: Ford',\n 'model: Model T',\n 'year: 1908',\n 'top_speed: 45',\n '_speed: 0']"
     },
     "execution_count": 179,
     "metadata": {},
     "output_type": "execute_result"
    }
   ],
   "source": [
    "fav.debug()"
   ],
   "metadata": {
    "collapsed": false,
    "ExecuteTime": {
     "end_time": "2024-03-27T10:50:48.225037Z",
     "start_time": "2024-03-27T10:50:48.220117Z"
    }
   },
   "id": "53732b2392a2163c",
   "execution_count": 179
  },
  {
   "cell_type": "code",
   "outputs": [
    {
     "ename": "ValueError",
     "evalue": "Speed cannot exceed top_speed.",
     "output_type": "error",
     "traceback": [
      "\u001B[0;31m---------------------------------------------------------------------------\u001B[0m",
      "\u001B[0;31mValueError\u001B[0m                                Traceback (most recent call last)",
      "Cell \u001B[0;32mIn[180], line 1\u001B[0m\n\u001B[0;32m----> 1\u001B[0m \u001B[43mfav\u001B[49m\u001B[38;5;241;43m.\u001B[39;49m\u001B[43mspeed\u001B[49m \u001B[38;5;241m=\u001B[39m \u001B[38;5;241m100\u001B[39m\n",
      "Cell \u001B[0;32mIn[177], line 17\u001B[0m, in \u001B[0;36mAutomobile.speed\u001B[0;34m(self, new_speed)\u001B[0m\n\u001B[1;32m     14\u001B[0m \u001B[38;5;129m@speed\u001B[39m\u001B[38;5;241m.\u001B[39msetter\n\u001B[1;32m     15\u001B[0m \u001B[38;5;28;01mdef\u001B[39;00m \u001B[38;5;21mspeed\u001B[39m(\u001B[38;5;28mself\u001B[39m, new_speed):\n\u001B[1;32m     16\u001B[0m     \u001B[38;5;28;01mif\u001B[39;00m new_speed \u001B[38;5;241m>\u001B[39m \u001B[38;5;28mself\u001B[39m\u001B[38;5;241m.\u001B[39mtop_speed:\n\u001B[0;32m---> 17\u001B[0m         \u001B[38;5;28;01mraise\u001B[39;00m \u001B[38;5;167;01mValueError\u001B[39;00m(\u001B[38;5;124m'\u001B[39m\u001B[38;5;124mSpeed cannot exceed top_speed.\u001B[39m\u001B[38;5;124m'\u001B[39m)\n\u001B[1;32m     18\u001B[0m     \u001B[38;5;28;01melse\u001B[39;00m:\n\u001B[1;32m     19\u001B[0m         \u001B[38;5;28mself\u001B[39m\u001B[38;5;241m.\u001B[39m_speed \u001B[38;5;241m=\u001B[39m new_speed\n",
      "\u001B[0;31mValueError\u001B[0m: Speed cannot exceed top_speed."
     ]
    }
   ],
   "source": [
    "fav.speed = 100"
   ],
   "metadata": {
    "collapsed": false,
    "ExecuteTime": {
     "end_time": "2024-03-27T10:51:15.294539Z",
     "start_time": "2024-03-27T10:51:15.253293Z"
    }
   },
   "id": "e7a6702c6798e0cf",
   "execution_count": 180
  },
  {
   "cell_type": "code",
   "outputs": [],
   "source": [
    "fav.speed = 40"
   ],
   "metadata": {
    "collapsed": false,
    "ExecuteTime": {
     "end_time": "2024-03-27T10:52:26.280652Z",
     "start_time": "2024-03-27T10:52:26.276954Z"
    }
   },
   "id": "5cabd520980522c8",
   "execution_count": 181
  },
  {
   "cell_type": "code",
   "outputs": [
    {
     "data": {
      "text/plain": "['time: 2024-03-27 10:52:32.075412+00:00',\n 'Class: Automobile',\n 'id: 0x7f37e13e3bf0',\n 'make: Ford',\n 'model: Model T',\n 'year: 1908',\n 'top_speed: 45',\n '_speed: 40']"
     },
     "execution_count": 182,
     "metadata": {},
     "output_type": "execute_result"
    }
   ],
   "source": [
    "fav.debug()"
   ],
   "metadata": {
    "collapsed": false,
    "ExecuteTime": {
     "end_time": "2024-03-27T10:52:32.079444Z",
     "start_time": "2024-03-27T10:52:32.074038Z"
    }
   },
   "id": "5982ce5a853c920e",
   "execution_count": 182
  },
  {
   "cell_type": "code",
   "outputs": [],
   "source": [
    "from math import sqrt"
   ],
   "metadata": {
    "collapsed": false,
    "ExecuteTime": {
     "end_time": "2024-03-27T10:52:38.700550Z",
     "start_time": "2024-03-27T10:52:38.697047Z"
    }
   },
   "id": "e67414cd36ed379e",
   "execution_count": 183
  },
  {
   "cell_type": "code",
   "outputs": [],
   "source": [
    "class Point:\n",
    "    def __init__(self, x, y):\n",
    "        self.x = x\n",
    "        self.y = y\n",
    "    \n",
    "    def __abs__(self):\n",
    "        return sqrt(self.x ** 2 + self.y ** 2)\n",
    "    \n",
    "    def __eq__(self, other):\n",
    "        if isinstance(other, Point):\n",
    "            return self.x == other.x and self.y == other.y\n",
    "        else:\n",
    "            return False\n",
    "    \n",
    "    def __lt__(self, other):\n",
    "        if isinstance(other, Point):\n",
    "            return abs(self) < abs(other)\n",
    "        else:\n",
    "            return NotImplemented\n",
    "    \n",
    "    def __repr__(self):\n",
    "        return f'Point({self.x}, {self.y})'"
   ],
   "metadata": {
    "collapsed": false,
    "ExecuteTime": {
     "end_time": "2024-03-27T11:02:32.226569Z",
     "start_time": "2024-03-27T11:02:32.220411Z"
    }
   },
   "id": "665a228dba952447",
   "execution_count": 210
  },
  {
   "cell_type": "code",
   "outputs": [],
   "source": [
    "p1, p2, p3 = Point(2, 3), Point(3, 2), Point(0, 0)"
   ],
   "metadata": {
    "collapsed": false,
    "ExecuteTime": {
     "end_time": "2024-03-27T11:02:32.570108Z",
     "start_time": "2024-03-27T11:02:32.566418Z"
    }
   },
   "id": "7b734f3c558ac2b0",
   "execution_count": 211
  },
  {
   "cell_type": "code",
   "outputs": [
    {
     "data": {
      "text/plain": "False"
     },
     "execution_count": 218,
     "metadata": {},
     "output_type": "execute_result"
    }
   ],
   "source": [
    "p3 < p2 < p1"
   ],
   "metadata": {
    "collapsed": false,
    "ExecuteTime": {
     "end_time": "2024-03-27T11:16:01.109036Z",
     "start_time": "2024-03-27T11:16:01.103849Z"
    }
   },
   "id": "2a8e2a4a7acedeeb",
   "execution_count": 218
  },
  {
   "cell_type": "code",
   "outputs": [],
   "source": [
    "def complete_ordering(cls):\n",
    "    if '__eq__' in dir(cls) and '__lt__' in dir(cls):\n",
    "        cls.__le__ = lambda self, other: self < other or self == other\n",
    "        cls.__gt__ = lambda self, other: not(self < other) or self != other\n",
    "        cls.__ge__ = lambda self, other: not(self < other)\n",
    "    return cls"
   ],
   "metadata": {
    "collapsed": false,
    "ExecuteTime": {
     "end_time": "2024-03-27T11:16:01.685943Z",
     "start_time": "2024-03-27T11:16:01.682136Z"
    }
   },
   "id": "8bdbefedc9d84921",
   "execution_count": 219
  },
  {
   "cell_type": "code",
   "outputs": [],
   "source": [
    "@complete_ordering\n",
    "class Point:\n",
    "    def __init__(self, x, y):\n",
    "        self.x = x\n",
    "        self.y = y\n",
    "    \n",
    "    def __abs__(self):\n",
    "        return sqrt(self.x ** 2 + self.y ** 2)\n",
    "    \n",
    "    def __eq__(self, other):\n",
    "        if isinstance(other, Point):\n",
    "            return self.x == other.x and self.y == other.y\n",
    "        else:\n",
    "            return False\n",
    "    \n",
    "    def __lt__(self, other):\n",
    "        if isinstance(other, Point):\n",
    "            return abs(self) < abs(other)\n",
    "        else:\n",
    "            return NotImplemented\n",
    "    \n",
    "    def __repr__(self):\n",
    "        return f'Point({self.x}, {self.y})'"
   ],
   "metadata": {
    "collapsed": false,
    "ExecuteTime": {
     "end_time": "2024-03-27T11:16:02.180329Z",
     "start_time": "2024-03-27T11:16:02.176324Z"
    }
   },
   "id": "158b140599f6606d",
   "execution_count": 220
  },
  {
   "cell_type": "code",
   "outputs": [],
   "source": [
    "p1, p2, p3 = Point(2, 3), Point(3, 4), Point(0, 0)"
   ],
   "metadata": {
    "collapsed": false,
    "ExecuteTime": {
     "end_time": "2024-03-27T11:16:04.369245Z",
     "start_time": "2024-03-27T11:16:04.364754Z"
    }
   },
   "id": "7ed4216371b1b3c0",
   "execution_count": 221
  },
  {
   "cell_type": "code",
   "outputs": [
    {
     "data": {
      "text/plain": "False"
     },
     "execution_count": 223,
     "metadata": {},
     "output_type": "execute_result"
    }
   ],
   "source": [
    "p1 >= p2"
   ],
   "metadata": {
    "collapsed": false,
    "ExecuteTime": {
     "end_time": "2024-03-27T11:16:30.065582Z",
     "start_time": "2024-03-27T11:16:30.061518Z"
    }
   },
   "id": "3779a52f039d279f",
   "execution_count": 223
  },
  {
   "cell_type": "code",
   "outputs": [
    {
     "data": {
      "text/plain": "True"
     },
     "execution_count": 224,
     "metadata": {},
     "output_type": "execute_result"
    }
   ],
   "source": [
    "p3 <= p1"
   ],
   "metadata": {
    "collapsed": false,
    "ExecuteTime": {
     "end_time": "2024-03-27T11:16:42.838360Z",
     "start_time": "2024-03-27T11:16:42.833194Z"
    }
   },
   "id": "ac1ce88383f64e61",
   "execution_count": 224
  },
  {
   "cell_type": "code",
   "outputs": [
    {
     "data": {
      "text/plain": "True"
     },
     "execution_count": 226,
     "metadata": {},
     "output_type": "execute_result"
    }
   ],
   "source": [
    "p1 > p2"
   ],
   "metadata": {
    "collapsed": false,
    "ExecuteTime": {
     "end_time": "2024-03-27T11:17:07.151983Z",
     "start_time": "2024-03-27T11:17:07.147118Z"
    }
   },
   "id": "e1b113c6d4d9c44f",
   "execution_count": 226
  },
  {
   "cell_type": "code",
   "outputs": [],
   "source": [
    "from functools import total_ordering"
   ],
   "metadata": {
    "collapsed": false,
    "ExecuteTime": {
     "end_time": "2024-03-27T11:21:43.626879Z",
     "start_time": "2024-03-27T11:21:43.623268Z"
    }
   },
   "id": "d5f28524c7392ce4",
   "execution_count": 227
  },
  {
   "cell_type": "code",
   "outputs": [],
   "source": [
    "@total_ordering\n",
    "class Point:\n",
    "    def __init__(self, x, y):\n",
    "        self.x = x\n",
    "        self.y = y\n",
    "    \n",
    "    def __abs__(self):\n",
    "        return sqrt(self.x ** 2 + self.y ** 2)\n",
    "    \n",
    "    def __eq__(self, other):\n",
    "        if isinstance(other, Point):\n",
    "            return self.x == other.x and self.y == other.y\n",
    "        else:\n",
    "            return False\n",
    "    \n",
    "    def __lt__(self, other):\n",
    "        if isinstance(other, Point):\n",
    "            return abs(self) < abs(other)\n",
    "        else:\n",
    "            return NotImplemented\n",
    "    \n",
    "    def __repr__(self):\n",
    "        return f'Point({self.x}, {self.y})'"
   ],
   "metadata": {
    "collapsed": false,
    "ExecuteTime": {
     "end_time": "2024-03-27T11:22:09.267030Z",
     "start_time": "2024-03-27T11:22:09.261501Z"
    }
   },
   "id": "ab9d784269aba635",
   "execution_count": 228
  },
  {
   "cell_type": "code",
   "outputs": [
    {
     "data": {
      "text/plain": "(False, True, False)"
     },
     "execution_count": 230,
     "metadata": {},
     "output_type": "execute_result"
    }
   ],
   "source": [
    "p1, p2, p3 = Point(2, 3), Point(3, 4), Point(0, 0)\n",
    "p1 >= p2, p3 <= p1, p1 > p2"
   ],
   "metadata": {
    "collapsed": false,
    "ExecuteTime": {
     "end_time": "2024-03-27T11:22:41.373494Z",
     "start_time": "2024-03-27T11:22:41.367868Z"
    }
   },
   "id": "cd2c6744c01d678",
   "execution_count": 230
  },
  {
   "cell_type": "code",
   "outputs": [
    {
     "ename": "ValueError",
     "evalue": "must define at least one ordering operation: < > <= >=",
     "output_type": "error",
     "traceback": [
      "\u001B[0;31m---------------------------------------------------------------------------\u001B[0m",
      "\u001B[0;31mValueError\u001B[0m                                Traceback (most recent call last)",
      "Cell \u001B[0;32mIn[231], line 1\u001B[0m\n\u001B[0;32m----> 1\u001B[0m \u001B[38;5;129;43m@total_ordering\u001B[39;49m\n\u001B[1;32m      2\u001B[0m \u001B[38;5;28;43;01mclass\u001B[39;49;00m\u001B[43m \u001B[49m\u001B[38;5;21;43;01mPoint\u001B[39;49;00m\u001B[43m:\u001B[49m\n\u001B[1;32m      3\u001B[0m \u001B[43m    \u001B[49m\u001B[38;5;28;43;01mdef\u001B[39;49;00m\u001B[43m \u001B[49m\u001B[38;5;21;43m__init__\u001B[39;49m\u001B[43m(\u001B[49m\u001B[38;5;28;43mself\u001B[39;49m\u001B[43m,\u001B[49m\u001B[43m \u001B[49m\u001B[43mx\u001B[49m\u001B[43m,\u001B[49m\u001B[43m \u001B[49m\u001B[43my\u001B[49m\u001B[43m)\u001B[49m\u001B[43m:\u001B[49m\n\u001B[1;32m      4\u001B[0m \u001B[43m        \u001B[49m\u001B[38;5;28;43mself\u001B[39;49m\u001B[38;5;241;43m.\u001B[39;49m\u001B[43mx\u001B[49m\u001B[43m \u001B[49m\u001B[38;5;241;43m=\u001B[39;49m\u001B[43m \u001B[49m\u001B[43mx\u001B[49m\n",
      "File \u001B[0;32m/usr/lib64/python3.12/functools.py:193\u001B[0m, in \u001B[0;36mtotal_ordering\u001B[0;34m(cls)\u001B[0m\n\u001B[1;32m    191\u001B[0m roots \u001B[38;5;241m=\u001B[39m {op \u001B[38;5;28;01mfor\u001B[39;00m op \u001B[38;5;129;01min\u001B[39;00m _convert \u001B[38;5;28;01mif\u001B[39;00m \u001B[38;5;28mgetattr\u001B[39m(\u001B[38;5;28mcls\u001B[39m, op, \u001B[38;5;28;01mNone\u001B[39;00m) \u001B[38;5;129;01mis\u001B[39;00m \u001B[38;5;129;01mnot\u001B[39;00m \u001B[38;5;28mgetattr\u001B[39m(\u001B[38;5;28mobject\u001B[39m, op, \u001B[38;5;28;01mNone\u001B[39;00m)}\n\u001B[1;32m    192\u001B[0m \u001B[38;5;28;01mif\u001B[39;00m \u001B[38;5;129;01mnot\u001B[39;00m roots:\n\u001B[0;32m--> 193\u001B[0m     \u001B[38;5;28;01mraise\u001B[39;00m \u001B[38;5;167;01mValueError\u001B[39;00m(\u001B[38;5;124m'\u001B[39m\u001B[38;5;124mmust define at least one ordering operation: < > <= >=\u001B[39m\u001B[38;5;124m'\u001B[39m)\n\u001B[1;32m    194\u001B[0m root \u001B[38;5;241m=\u001B[39m \u001B[38;5;28mmax\u001B[39m(roots)       \u001B[38;5;66;03m# prefer __lt__ to __le__ to __gt__ to __ge__\u001B[39;00m\n\u001B[1;32m    195\u001B[0m \u001B[38;5;28;01mfor\u001B[39;00m opname, opfunc \u001B[38;5;129;01min\u001B[39;00m _convert[root]:\n",
      "\u001B[0;31mValueError\u001B[0m: must define at least one ordering operation: < > <= >="
     ]
    }
   ],
   "source": [
    "@total_ordering\n",
    "class Point:\n",
    "    def __init__(self, x, y):\n",
    "        self.x = x\n",
    "        self.y = y\n",
    "    \n",
    "    def __abs__(self):\n",
    "        return sqrt(self.x ** 2 + self.y ** 2)\n",
    "    \n",
    "    def __eq__(self, other):\n",
    "        if isinstance(other, Point):\n",
    "            return self.x == other.x and self.y == other.y\n",
    "        else:\n",
    "            return False\n",
    "    \n",
    "    def __repr__(self):\n",
    "        return f'Point({self.x}, {self.y})'"
   ],
   "metadata": {
    "collapsed": false,
    "ExecuteTime": {
     "end_time": "2024-03-27T11:26:59.250674Z",
     "start_time": "2024-03-27T11:26:59.137125Z"
    }
   },
   "id": "f9db86efd6588eb4",
   "execution_count": 231
  },
  {
   "cell_type": "code",
   "outputs": [],
   "source": [
    "@total_ordering\n",
    "class Point:\n",
    "    def __init__(self, x, y):\n",
    "        self.x = x\n",
    "        self.y = y\n",
    "    \n",
    "    def __abs__(self):\n",
    "        return sqrt(self.x ** 2 + self.y ** 2)\n",
    "    \n",
    "    def __eq__(self, other):\n",
    "        if isinstance(other, Point):\n",
    "            return self.x == other.x and self.y == other.y\n",
    "        else:\n",
    "            return False\n",
    "    \n",
    "    def __gt__(self, other):\n",
    "        if isinstance(other, Point):\n",
    "            return abs(self) > abs(other)\n",
    "        else:\n",
    "            return NotImplemented\n",
    "    \n",
    "    def __repr__(self):\n",
    "        return f'Point({self.x}, {self.y})'"
   ],
   "metadata": {
    "collapsed": false,
    "ExecuteTime": {
     "end_time": "2024-03-27T11:28:06.907712Z",
     "start_time": "2024-03-27T11:28:06.902570Z"
    }
   },
   "id": "45416bf3ef9ee50a",
   "execution_count": 232
  },
  {
   "cell_type": "code",
   "outputs": [
    {
     "data": {
      "text/plain": "(True, True)"
     },
     "execution_count": 233,
     "metadata": {},
     "output_type": "execute_result"
    }
   ],
   "source": [
    "p1, p2, p3 = Point(2, 3), Point(3, 4), Point(0, 0)\n",
    "p1 < p2, p2 > p1"
   ],
   "metadata": {
    "collapsed": false,
    "ExecuteTime": {
     "end_time": "2024-03-27T11:28:37.522634Z",
     "start_time": "2024-03-27T11:28:37.516813Z"
    }
   },
   "id": "f6eb446e4819a6c5",
   "execution_count": 233
  },
  {
   "cell_type": "code",
   "outputs": [],
   "source": [],
   "metadata": {
    "collapsed": false
   },
   "id": "350702c811f588b8"
  }
 ],
 "metadata": {
  "kernelspec": {
   "display_name": "Python 3",
   "language": "python",
   "name": "python3"
  },
  "language_info": {
   "codemirror_mode": {
    "name": "ipython",
    "version": 2
   },
   "file_extension": ".py",
   "mimetype": "text/x-python",
   "name": "python",
   "nbconvert_exporter": "python",
   "pygments_lexer": "ipython2",
   "version": "2.7.6"
  }
 },
 "nbformat": 4,
 "nbformat_minor": 5
}
