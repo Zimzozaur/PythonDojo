{
 "cells": [
  {
   "cell_type": "markdown",
   "source": [
    "**Old way**\n",
    "```python\n",
    "def my_func(algo):\n",
    "    pass\n",
    "my_func = func(my_func)\n",
    "```\n",
    "**Decorator way**\n",
    "```python\n",
    "@func\n",
    "def my_func(algo):\n",
    "   pass\n",
    "```"
   ],
   "metadata": {
    "collapsed": false
   },
   "id": "81727834dbd3e79b"
  },
  {
   "cell_type": "markdown",
   "source": [],
   "metadata": {
    "collapsed": false
   },
   "id": "fbf0fd3c25b83a"
  },
  {
   "cell_type": "code",
   "source": [
    "from functools import wraps\n",
    "def counter(fn):\n",
    "    count = 0\n",
    "    @wraps(fn)\n",
    "    def inner(*args, **kwargs):\n",
    "        nonlocal count\n",
    "        count += 1\n",
    "        # print(f\"Function {fn.__name__} was used {count} times.\")\n",
    "        return fn(*args, **kwargs)\n",
    "    inner.count = lambda: count\n",
    "    return inner"
   ],
   "metadata": {
    "collapsed": false,
    "ExecuteTime": {
     "end_time": "2024-04-05T12:25:07.293329Z",
     "start_time": "2024-04-05T12:25:07.288680Z"
    }
   },
   "id": "9967dff02f39ecb9",
   "outputs": [],
   "execution_count": 2
  },
  {
   "cell_type": "code",
   "source": [
    "from typing import Iterable\n",
    "@counter\n",
    "def csum(iterable: Iterable):\n",
    "    \"\"\"\n",
    "    Return sum of values in iterable and \n",
    "    print the number of time function was called\n",
    "    \"\"\"\n",
    "    return sum(iterable)"
   ],
   "metadata": {
    "collapsed": false,
    "ExecuteTime": {
     "end_time": "2024-04-05T12:25:08.581238Z",
     "start_time": "2024-04-05T12:25:08.576811Z"
    }
   },
   "id": "595dcc98e46757f3",
   "outputs": [],
   "execution_count": 3
  },
  {
   "cell_type": "code",
   "source": [
    "for _ in range(10):\n",
    "    csum([1,2,3])"
   ],
   "metadata": {
    "collapsed": false,
    "ExecuteTime": {
     "end_time": "2024-04-05T12:25:08.782158Z",
     "start_time": "2024-04-05T12:25:08.778369Z"
    }
   },
   "id": "4f4531d52f3bd67f",
   "outputs": [],
   "execution_count": 4
  },
  {
   "cell_type": "code",
   "source": [
    "csum.count()"
   ],
   "metadata": {
    "collapsed": false,
    "ExecuteTime": {
     "end_time": "2024-04-05T12:25:09.128807Z",
     "start_time": "2024-04-05T12:25:09.119889Z"
    }
   },
   "id": "47422e02a5c0afd5",
   "outputs": [
    {
     "data": {
      "text/plain": [
       "10"
      ]
     },
     "execution_count": 5,
     "metadata": {},
     "output_type": "execute_result"
    }
   ],
   "execution_count": 5
  },
  {
   "cell_type": "code",
   "source": [
    "csum.__closure__"
   ],
   "metadata": {
    "collapsed": false,
    "ExecuteTime": {
     "end_time": "2024-04-05T12:25:09.226811Z",
     "start_time": "2024-04-05T12:25:09.222032Z"
    }
   },
   "id": "2bf77e5da2593a3b",
   "outputs": [
    {
     "data": {
      "text/plain": [
       "(<cell at 0x7f8dc54ad990: int object at 0x7f8dd63df3a8>,\n",
       " <cell at 0x7f8dc54afcd0: function object at 0x7f8dbf5fdbc0>)"
      ]
     },
     "execution_count": 6,
     "metadata": {},
     "output_type": "execute_result"
    }
   ],
   "execution_count": 6
  },
  {
   "cell_type": "code",
   "source": [
    "csum.__name__"
   ],
   "metadata": {
    "collapsed": false,
    "ExecuteTime": {
     "end_time": "2024-04-05T12:25:09.417897Z",
     "start_time": "2024-04-05T12:25:09.413295Z"
    }
   },
   "id": "3015df78d046cb59",
   "outputs": [
    {
     "data": {
      "text/plain": [
       "'csum'"
      ]
     },
     "execution_count": 7,
     "metadata": {},
     "output_type": "execute_result"
    }
   ],
   "execution_count": 7
  },
  {
   "cell_type": "code",
   "source": [
    "help(csum)"
   ],
   "metadata": {
    "collapsed": false,
    "ExecuteTime": {
     "end_time": "2024-04-05T12:25:09.533248Z",
     "start_time": "2024-04-05T12:25:09.529828Z"
    }
   },
   "id": "5854186d78ae7b04",
   "outputs": [
    {
     "name": "stdout",
     "output_type": "stream",
     "text": [
      "Help on function csum in module __main__:\n",
      "\n",
      "csum(iterable: Iterable)\n",
      "    Return sum of values in iterable and\n",
      "    print the number of time function was called\n",
      "\n"
     ]
    }
   ],
   "execution_count": 8
  },
  {
   "cell_type": "code",
   "source": [
    "import inspect\n",
    "inspect.signature(csum)"
   ],
   "metadata": {
    "collapsed": false,
    "ExecuteTime": {
     "end_time": "2024-04-05T12:25:09.692170Z",
     "start_time": "2024-04-05T12:25:09.687348Z"
    }
   },
   "id": "268148a2ad508bcf",
   "outputs": [
    {
     "data": {
      "text/plain": [
       "<Signature (iterable: Iterable)>"
      ]
     },
     "execution_count": 9,
     "metadata": {},
     "output_type": "execute_result"
    }
   ],
   "execution_count": 9
  },
  {
   "cell_type": "code",
   "source": [
    "def mult(a: int, b: int, c: int = 1, /):\n",
    "    return a * b * c"
   ],
   "metadata": {
    "collapsed": false,
    "ExecuteTime": {
     "end_time": "2024-04-05T12:25:09.843059Z",
     "start_time": "2024-04-05T12:25:09.839380Z"
    }
   },
   "id": "e0efe36c140a4d37",
   "outputs": [],
   "execution_count": 10
  },
  {
   "cell_type": "code",
   "source": [
    "mult(2, 3)"
   ],
   "metadata": {
    "collapsed": false,
    "ExecuteTime": {
     "end_time": "2024-04-05T12:25:09.986585Z",
     "start_time": "2024-04-05T12:25:09.981705Z"
    }
   },
   "id": "156fa8b98c27d77e",
   "outputs": [
    {
     "data": {
      "text/plain": [
       "6"
      ]
     },
     "execution_count": 11,
     "metadata": {},
     "output_type": "execute_result"
    }
   ],
   "execution_count": 11
  },
  {
   "cell_type": "code",
   "source": [
    "def timed(fn):\n",
    "    from time import perf_counter\n",
    "    from functools import wraps\n",
    "    \n",
    "    @wraps(fn)\n",
    "    def inner(*args, **kwargs):\n",
    "        start = perf_counter()\n",
    "        result = fn(*args, **kwargs)\n",
    "        end = perf_counter()\n",
    "        elapsed = end - start\n",
    "        \n",
    "        args_ = [str(a) for a in args]\n",
    "        kwargs_ = [f'{k}: {v}' for (k, v) in kwargs.items()]\n",
    "        all_args = args_ + kwargs_\n",
    "        args_str = ','.join(all_args)\n",
    "        print(f'{fn.__name__}({args_str}) took {elapsed:.6f}s to run')\n",
    "        \n",
    "        return result\n",
    "    return inner"
   ],
   "metadata": {
    "collapsed": false,
    "ExecuteTime": {
     "end_time": "2024-04-05T12:25:10.162169Z",
     "start_time": "2024-04-05T12:25:10.155733Z"
    }
   },
   "id": "c0c82779781d781d",
   "outputs": [],
   "execution_count": 12
  },
  {
   "cell_type": "code",
   "source": [
    "@timed\n",
    "def fiboI(index: int) -> int:\n",
    "    f1 = f2 = 1\n",
    "    for _ in range(index):\n",
    "        f1, f2 = f2, f1 + f2\n",
    "    return f1"
   ],
   "metadata": {
    "collapsed": false,
    "ExecuteTime": {
     "end_time": "2024-04-05T12:25:10.234583Z",
     "start_time": "2024-04-05T12:25:10.230447Z"
    }
   },
   "id": "ef28f95ec6d078ab",
   "outputs": [],
   "execution_count": 13
  },
  {
   "cell_type": "code",
   "source": [
    "def fibo_recursive(index: int) -> int:\n",
    "    if index <= 1:\n",
    "        return 1\n",
    "    return fibo_recursive(index - 1) + fibo_recursive(index - 2)\n",
    "@timed\n",
    "def fiboR(n):\n",
    "    return fibo_recursive(n)"
   ],
   "metadata": {
    "collapsed": false,
    "ExecuteTime": {
     "end_time": "2024-04-05T12:25:10.339102Z",
     "start_time": "2024-04-05T12:25:10.334520Z"
    }
   },
   "id": "d1b420c9a4ccf516",
   "outputs": [],
   "execution_count": 14
  },
  {
   "cell_type": "code",
   "source": [
    "fiboR(15)"
   ],
   "metadata": {
    "collapsed": false,
    "ExecuteTime": {
     "end_time": "2024-04-05T12:25:10.419930Z",
     "start_time": "2024-04-05T12:25:10.415298Z"
    }
   },
   "id": "af3463ce64a377ca",
   "outputs": [
    {
     "name": "stdout",
     "output_type": "stream",
     "text": [
      "fiboR(15) took 0.000143s to run\n"
     ]
    },
    {
     "data": {
      "text/plain": [
       "987"
      ]
     },
     "execution_count": 15,
     "metadata": {},
     "output_type": "execute_result"
    }
   ],
   "execution_count": 15
  },
  {
   "cell_type": "code",
   "source": [
    "fiboI(15)"
   ],
   "metadata": {
    "collapsed": false,
    "ExecuteTime": {
     "end_time": "2024-04-05T12:25:10.490351Z",
     "start_time": "2024-04-05T12:25:10.484806Z"
    }
   },
   "id": "8f5873f3a57bd90f",
   "outputs": [
    {
     "name": "stdout",
     "output_type": "stream",
     "text": [
      "fiboI(15) took 0.000005s to run\n"
     ]
    },
    {
     "data": {
      "text/plain": [
       "987"
      ]
     },
     "execution_count": 16,
     "metadata": {},
     "output_type": "execute_result"
    }
   ],
   "execution_count": 16
  },
  {
   "cell_type": "code",
   "source": [
    "def logged(fn):\n",
    "    from functools import wraps\n",
    "    from datetime import datetime, timezone\n",
    "    \n",
    "    @wraps(fn)\n",
    "    def inner(*args, **kwargs):\n",
    "        run_dt = datetime.now(timezone.utc)\n",
    "        result = fn(*args, **kwargs)\n",
    "        print(f'{run_dt}: {fn.__name__}')\n",
    "        return result\n",
    "    return inner"
   ],
   "metadata": {
    "collapsed": false,
    "ExecuteTime": {
     "end_time": "2024-04-05T12:25:10.560503Z",
     "start_time": "2024-04-05T12:25:10.556195Z"
    }
   },
   "id": "121bf9b72615cb8e",
   "outputs": [],
   "execution_count": 17
  },
  {
   "cell_type": "code",
   "source": [
    "@logged\n",
    "def func_1():\n",
    "    pass"
   ],
   "metadata": {
    "collapsed": false,
    "ExecuteTime": {
     "end_time": "2024-04-05T12:25:10.640013Z",
     "start_time": "2024-04-05T12:25:10.636753Z"
    }
   },
   "id": "c04ccc477dca25fb",
   "outputs": [],
   "execution_count": 18
  },
  {
   "cell_type": "code",
   "source": [
    "func_1()"
   ],
   "metadata": {
    "collapsed": false,
    "ExecuteTime": {
     "end_time": "2024-04-05T12:25:10.747358Z",
     "start_time": "2024-04-05T12:25:10.743864Z"
    }
   },
   "id": "3751aa52f05e274d",
   "outputs": [
    {
     "name": "stdout",
     "output_type": "stream",
     "text": [
      "2024-04-05 12:25:10.745050+00:00: func_1\n"
     ]
    }
   ],
   "execution_count": 19
  },
  {
   "cell_type": "code",
   "source": [
    "func_1"
   ],
   "metadata": {
    "collapsed": false,
    "ExecuteTime": {
     "end_time": "2024-04-05T12:25:10.824678Z",
     "start_time": "2024-04-05T12:25:10.819329Z"
    }
   },
   "id": "6f175e1d17743b54",
   "outputs": [
    {
     "data": {
      "text/plain": [
       "<function __main__.func_1()>"
      ]
     },
     "execution_count": 20,
     "metadata": {},
     "output_type": "execute_result"
    }
   ],
   "execution_count": 20
  },
  {
   "cell_type": "code",
   "source": [
    "def timed(fn):  \n",
    "    from time import perf_counter  \n",
    "    from functools import wraps  \n",
    "      \n",
    "    @wraps(fn)  \n",
    "    def inner(*args, **kwargs):  \n",
    "        start = perf_counter()  \n",
    "        result = fn(*args, **kwargs)  \n",
    "        end = perf_counter()  \n",
    "        elapsed = end - start  \n",
    "          \n",
    "        args_ = [str(a) for a in args]  \n",
    "        kwargs_ = [f'{k}: {v}' for (k, v) in kwargs.items()]  \n",
    "        all_args = args_ + kwargs_  \n",
    "        args_str = ','.join(all_args)  \n",
    "        print(f'{fn.__name__}({args_str}) took {elapsed:.6f}s to run')  \n",
    "          \n",
    "        return result  \n",
    "    return inner"
   ],
   "metadata": {
    "collapsed": false,
    "ExecuteTime": {
     "end_time": "2024-04-05T12:25:10.871082Z",
     "start_time": "2024-04-05T12:25:10.864003Z"
    }
   },
   "id": "79eb9f9ca43d657f",
   "outputs": [],
   "execution_count": 21
  },
  {
   "cell_type": "code",
   "source": [
    "def logged(fn):\n",
    "    from functools import wraps\n",
    "    from datetime import datetime, timezone\n",
    "    \n",
    "    @wraps(fn)\n",
    "    def inner(*args, **kwargs):\n",
    "        run_dt = datetime.now(timezone.utc)\n",
    "        result = fn(*args, **kwargs)\n",
    "        print(f'{run_dt}: {fn.__name__}')\n",
    "        return result\n",
    "    return inner"
   ],
   "metadata": {
    "collapsed": false,
    "ExecuteTime": {
     "end_time": "2024-04-05T12:25:10.934939Z",
     "start_time": "2024-04-05T12:25:10.929609Z"
    }
   },
   "id": "54ec48932088adaa",
   "outputs": [],
   "execution_count": 22
  },
  {
   "cell_type": "code",
   "source": [
    "@logged\n",
    "@timed\n",
    "def func_1():\n",
    "    pass"
   ],
   "metadata": {
    "collapsed": false,
    "ExecuteTime": {
     "end_time": "2024-04-05T12:25:10.980836Z",
     "start_time": "2024-04-05T12:25:10.977286Z"
    }
   },
   "id": "82680b308118112f",
   "outputs": [],
   "execution_count": 23
  },
  {
   "cell_type": "code",
   "source": [
    "func_1()"
   ],
   "metadata": {
    "collapsed": false,
    "ExecuteTime": {
     "end_time": "2024-04-05T12:25:11.063163Z",
     "start_time": "2024-04-05T12:25:11.059374Z"
    }
   },
   "id": "888395840c30f9bb",
   "outputs": [
    {
     "name": "stdout",
     "output_type": "stream",
     "text": [
      "func_1() took 0.000001s to run\n",
      "2024-04-05 12:25:11.061277+00:00: func_1\n"
     ]
    }
   ],
   "execution_count": 24
  },
  {
   "cell_type": "code",
   "source": [
    "func_1()"
   ],
   "metadata": {
    "collapsed": false,
    "ExecuteTime": {
     "end_time": "2024-04-05T12:25:11.103724Z",
     "start_time": "2024-04-05T12:25:11.100715Z"
    }
   },
   "id": "4ce55b92c28bab8e",
   "outputs": [
    {
     "name": "stdout",
     "output_type": "stream",
     "text": [
      "func_1() took 0.000001s to run\n",
      "2024-04-05 12:25:11.101913+00:00: func_1\n"
     ]
    }
   ],
   "execution_count": 25
  },
  {
   "cell_type": "code",
   "source": [
    "def fact(n):\n",
    "    from operator import mul\n",
    "    from functools import reduce\n",
    "    return reduce(mul, range(1, n+1))"
   ],
   "metadata": {
    "collapsed": false,
    "ExecuteTime": {
     "end_time": "2024-04-05T12:25:11.203054Z",
     "start_time": "2024-04-05T12:25:11.199237Z"
    }
   },
   "id": "7f4f08e17f8938",
   "outputs": [],
   "execution_count": 26
  },
  {
   "cell_type": "code",
   "source": [
    "fact(4)"
   ],
   "metadata": {
    "collapsed": false,
    "ExecuteTime": {
     "end_time": "2024-04-05T12:25:11.262585Z",
     "start_time": "2024-04-05T12:25:11.257387Z"
    }
   },
   "id": "d773dcad1a459972",
   "outputs": [
    {
     "data": {
      "text/plain": [
       "24"
      ]
     },
     "execution_count": 27,
     "metadata": {},
     "output_type": "execute_result"
    }
   ],
   "execution_count": 27
  },
  {
   "cell_type": "code",
   "source": [
    "def dec_1(fn):\n",
    "    def inner():\n",
    "        print('Running dec_1')\n",
    "        return fn()\n",
    "    return inner"
   ],
   "metadata": {
    "collapsed": false,
    "ExecuteTime": {
     "end_time": "2024-04-05T12:25:11.359097Z",
     "start_time": "2024-04-05T12:25:11.355233Z"
    }
   },
   "id": "ea3f9812c37b073a",
   "outputs": [],
   "execution_count": 28
  },
  {
   "cell_type": "code",
   "source": [
    "def dec_2(fn):\n",
    "    def inner():\n",
    "        print('Running dec_2')\n",
    "        return fn()\n",
    "    return inner"
   ],
   "metadata": {
    "collapsed": false,
    "ExecuteTime": {
     "end_time": "2024-04-05T12:25:11.386309Z",
     "start_time": "2024-04-05T12:25:11.382448Z"
    }
   },
   "id": "89199ba744331a5b",
   "outputs": [],
   "execution_count": 29
  },
  {
   "cell_type": "code",
   "source": [
    "@dec_1\n",
    "@dec_2\n",
    "def my_func():\n",
    "    print('Running my_func')"
   ],
   "metadata": {
    "collapsed": false,
    "ExecuteTime": {
     "end_time": "2024-04-05T12:25:11.455088Z",
     "start_time": "2024-04-05T12:25:11.451155Z"
    }
   },
   "id": "da22fb1f52344609",
   "outputs": [],
   "execution_count": 30
  },
  {
   "cell_type": "code",
   "source": [
    "my_func()"
   ],
   "metadata": {
    "collapsed": false,
    "ExecuteTime": {
     "end_time": "2024-04-05T12:25:11.527297Z",
     "start_time": "2024-04-05T12:25:11.524289Z"
    }
   },
   "id": "670f40203d1646a3",
   "outputs": [
    {
     "name": "stdout",
     "output_type": "stream",
     "text": [
      "Running dec_1\n",
      "Running dec_2\n",
      "Running my_func\n"
     ]
    }
   ],
   "execution_count": 31
  },
  {
   "cell_type": "code",
   "source": [
    "def my_func_fit():\n",
    "    print('Running my_func_fit')\n",
    "my_func_fit = dec_1(dec_2(my_func_fit))"
   ],
   "metadata": {
    "collapsed": false,
    "ExecuteTime": {
     "end_time": "2024-04-05T12:25:11.615367Z",
     "start_time": "2024-04-05T12:25:11.611368Z"
    }
   },
   "id": "a26af255da84590e",
   "outputs": [],
   "execution_count": 32
  },
  {
   "cell_type": "code",
   "source": [
    "my_func_fit()"
   ],
   "metadata": {
    "collapsed": false,
    "ExecuteTime": {
     "end_time": "2024-04-05T12:25:11.702486Z",
     "start_time": "2024-04-05T12:25:11.698683Z"
    }
   },
   "id": "94a30b905ed30b32",
   "outputs": [
    {
     "name": "stdout",
     "output_type": "stream",
     "text": [
      "Running dec_1\n",
      "Running dec_2\n",
      "Running my_func_fit\n"
     ]
    }
   ],
   "execution_count": 33
  },
  {
   "cell_type": "code",
   "source": [
    "def dec_1(fn):\n",
    "    def inner():\n",
    "        res = fn()\n",
    "        print('Running dec_1')\n",
    "        return res\n",
    "\n",
    "    return inner\n",
    "\n",
    "\n",
    "def dec_2(fn):\n",
    "    def inner():\n",
    "        res = fn()\n",
    "        print('Running dec_2')\n",
    "        return res\n",
    "\n",
    "    return inner\n",
    "\n",
    "\n",
    "@dec_1\n",
    "@dec_2\n",
    "def my_func():\n",
    "    print('Running my_func')\n",
    "\n",
    "\n",
    "my_func()"
   ],
   "metadata": {
    "collapsed": false,
    "ExecuteTime": {
     "end_time": "2024-04-05T12:25:11.759712Z",
     "start_time": "2024-04-05T12:25:11.753564Z"
    }
   },
   "id": "79e614c0ac6b88ce",
   "outputs": [
    {
     "name": "stdout",
     "output_type": "stream",
     "text": [
      "Running my_func\n",
      "Running dec_2\n",
      "Running dec_1\n"
     ]
    }
   ],
   "execution_count": 34
  },
  {
   "cell_type": "code",
   "source": [
    "def fib(n):\n",
    "    print(f\"Calculating fib({n})\")\n",
    "    return 1 if n < 3 else fib(n-1) + fib(n-2)"
   ],
   "metadata": {
    "collapsed": false,
    "ExecuteTime": {
     "end_time": "2024-04-05T12:25:11.842578Z",
     "start_time": "2024-04-05T12:25:11.838080Z"
    }
   },
   "id": "a9c17e68acc0a0d5",
   "outputs": [],
   "execution_count": 35
  },
  {
   "cell_type": "code",
   "source": [
    "fib(10)"
   ],
   "metadata": {
    "collapsed": false,
    "ExecuteTime": {
     "end_time": "2024-04-05T12:25:11.879157Z",
     "start_time": "2024-04-05T12:25:11.872143Z"
    }
   },
   "id": "bb23a382b6edc86c",
   "outputs": [
    {
     "name": "stdout",
     "output_type": "stream",
     "text": [
      "Calculating fib(10)\n",
      "Calculating fib(9)\n",
      "Calculating fib(8)\n",
      "Calculating fib(7)\n",
      "Calculating fib(6)\n",
      "Calculating fib(5)\n",
      "Calculating fib(4)\n",
      "Calculating fib(3)\n",
      "Calculating fib(2)\n",
      "Calculating fib(1)\n",
      "Calculating fib(2)\n",
      "Calculating fib(3)\n",
      "Calculating fib(2)\n",
      "Calculating fib(1)\n",
      "Calculating fib(4)\n",
      "Calculating fib(3)\n",
      "Calculating fib(2)\n",
      "Calculating fib(1)\n",
      "Calculating fib(2)\n",
      "Calculating fib(5)\n",
      "Calculating fib(4)\n",
      "Calculating fib(3)\n",
      "Calculating fib(2)\n",
      "Calculating fib(1)\n",
      "Calculating fib(2)\n",
      "Calculating fib(3)\n",
      "Calculating fib(2)\n",
      "Calculating fib(1)\n",
      "Calculating fib(6)\n",
      "Calculating fib(5)\n",
      "Calculating fib(4)\n",
      "Calculating fib(3)\n",
      "Calculating fib(2)\n",
      "Calculating fib(1)\n",
      "Calculating fib(2)\n",
      "Calculating fib(3)\n",
      "Calculating fib(2)\n",
      "Calculating fib(1)\n",
      "Calculating fib(4)\n",
      "Calculating fib(3)\n",
      "Calculating fib(2)\n",
      "Calculating fib(1)\n",
      "Calculating fib(2)\n",
      "Calculating fib(7)\n",
      "Calculating fib(6)\n",
      "Calculating fib(5)\n",
      "Calculating fib(4)\n",
      "Calculating fib(3)\n",
      "Calculating fib(2)\n",
      "Calculating fib(1)\n",
      "Calculating fib(2)\n",
      "Calculating fib(3)\n",
      "Calculating fib(2)\n",
      "Calculating fib(1)\n",
      "Calculating fib(4)\n",
      "Calculating fib(3)\n",
      "Calculating fib(2)\n",
      "Calculating fib(1)\n",
      "Calculating fib(2)\n",
      "Calculating fib(5)\n",
      "Calculating fib(4)\n",
      "Calculating fib(3)\n",
      "Calculating fib(2)\n",
      "Calculating fib(1)\n",
      "Calculating fib(2)\n",
      "Calculating fib(3)\n",
      "Calculating fib(2)\n",
      "Calculating fib(1)\n",
      "Calculating fib(8)\n",
      "Calculating fib(7)\n",
      "Calculating fib(6)\n",
      "Calculating fib(5)\n",
      "Calculating fib(4)\n",
      "Calculating fib(3)\n",
      "Calculating fib(2)\n",
      "Calculating fib(1)\n",
      "Calculating fib(2)\n",
      "Calculating fib(3)\n",
      "Calculating fib(2)\n",
      "Calculating fib(1)\n",
      "Calculating fib(4)\n",
      "Calculating fib(3)\n",
      "Calculating fib(2)\n",
      "Calculating fib(1)\n",
      "Calculating fib(2)\n",
      "Calculating fib(5)\n",
      "Calculating fib(4)\n",
      "Calculating fib(3)\n",
      "Calculating fib(2)\n",
      "Calculating fib(1)\n",
      "Calculating fib(2)\n",
      "Calculating fib(3)\n",
      "Calculating fib(2)\n",
      "Calculating fib(1)\n",
      "Calculating fib(6)\n",
      "Calculating fib(5)\n",
      "Calculating fib(4)\n",
      "Calculating fib(3)\n",
      "Calculating fib(2)\n",
      "Calculating fib(1)\n",
      "Calculating fib(2)\n",
      "Calculating fib(3)\n",
      "Calculating fib(2)\n",
      "Calculating fib(1)\n",
      "Calculating fib(4)\n",
      "Calculating fib(3)\n",
      "Calculating fib(2)\n",
      "Calculating fib(1)\n",
      "Calculating fib(2)\n"
     ]
    },
    {
     "data": {
      "text/plain": [
       "55"
      ]
     },
     "execution_count": 36,
     "metadata": {},
     "output_type": "execute_result"
    }
   ],
   "execution_count": 36
  },
  {
   "cell_type": "code",
   "source": [
    "arr = str()\n",
    "def Collatz_Conjecture(n):\n",
    "    global arr\n",
    "    arr += f\"{n}, \"\n",
    "    if n < 2:\n",
    "        return None\n",
    "    return Collatz_Conjecture(n * 3 + 1) if n % 2 == 1 else Collatz_Conjecture(int(n // 2))"
   ],
   "metadata": {
    "collapsed": false,
    "ExecuteTime": {
     "end_time": "2024-04-05T12:25:11.964338Z",
     "start_time": "2024-04-05T12:25:11.959815Z"
    }
   },
   "id": "ca1f076af397e41d",
   "outputs": [],
   "execution_count": 37
  },
  {
   "cell_type": "code",
   "source": [
    "Collatz_Conjecture(7)\n",
    "arr"
   ],
   "metadata": {
    "collapsed": false,
    "ExecuteTime": {
     "end_time": "2024-04-05T12:25:12.010820Z",
     "start_time": "2024-04-05T12:25:12.006502Z"
    }
   },
   "id": "657f4d60f619ad95",
   "outputs": [
    {
     "data": {
      "text/plain": [
       "'7, 22, 11, 34, 17, 52, 26, 13, 40, 20, 10, 5, 16, 8, 4, 2, 1, '"
      ]
     },
     "execution_count": 38,
     "metadata": {},
     "output_type": "execute_result"
    }
   ],
   "execution_count": 38
  },
  {
   "cell_type": "code",
   "source": [
    "class Fib:\n",
    "    def __init__(self):\n",
    "        self.cache = {1: 1, 2: 1}\n",
    "    \n",
    "    def fib(self, n):\n",
    "        if n < 1:\n",
    "            raise ValueError('Fibonacci sequence starts from 1')\n",
    "        if n not in self.cache:\n",
    "            print(f'Calculating fin({n})')\n",
    "            self.cache[n] = self.fib(n-2) + self.fib(n-1)\n",
    "        return self.cache.get(n)"
   ],
   "metadata": {
    "collapsed": false,
    "ExecuteTime": {
     "end_time": "2024-04-05T12:25:12.123825Z",
     "start_time": "2024-04-05T12:25:12.117673Z"
    }
   },
   "id": "d0e119ae34ef05ff",
   "outputs": [],
   "execution_count": 39
  },
  {
   "cell_type": "code",
   "source": [
    "fib = Fib()"
   ],
   "metadata": {
    "collapsed": false,
    "ExecuteTime": {
     "end_time": "2024-04-05T12:25:12.196118Z",
     "start_time": "2024-04-05T12:25:12.193483Z"
    }
   },
   "id": "ee6e5061e52e3d48",
   "outputs": [],
   "execution_count": 40
  },
  {
   "cell_type": "code",
   "source": [
    "fib.fib(20)"
   ],
   "metadata": {
    "collapsed": false,
    "ExecuteTime": {
     "end_time": "2024-04-05T12:25:12.292835Z",
     "start_time": "2024-04-05T12:25:12.287464Z"
    }
   },
   "id": "6d9214a62524759a",
   "outputs": [
    {
     "name": "stdout",
     "output_type": "stream",
     "text": [
      "Calculating fin(20)\n",
      "Calculating fin(18)\n",
      "Calculating fin(16)\n",
      "Calculating fin(14)\n",
      "Calculating fin(12)\n",
      "Calculating fin(10)\n",
      "Calculating fin(8)\n",
      "Calculating fin(6)\n",
      "Calculating fin(4)\n",
      "Calculating fin(3)\n",
      "Calculating fin(5)\n",
      "Calculating fin(7)\n",
      "Calculating fin(9)\n",
      "Calculating fin(11)\n",
      "Calculating fin(13)\n",
      "Calculating fin(15)\n",
      "Calculating fin(17)\n",
      "Calculating fin(19)\n"
     ]
    },
    {
     "data": {
      "text/plain": [
       "6765"
      ]
     },
     "execution_count": 41,
     "metadata": {},
     "output_type": "execute_result"
    }
   ],
   "execution_count": 41
  },
  {
   "cell_type": "code",
   "source": [
    "def fib():\n",
    "    cache = {1: 1, 2: 1}\n",
    "    def inner(n):\n",
    "        if n in cache:\n",
    "            return cache[n]\n",
    "        else:\n",
    "            cache[n] = inner(n - 2) + inner(n - 1)\n",
    "            return cache.get(n)\n",
    "    return inner"
   ],
   "metadata": {
    "collapsed": false,
    "ExecuteTime": {
     "end_time": "2024-04-05T12:25:12.333136Z",
     "start_time": "2024-04-05T12:25:12.328559Z"
    }
   },
   "id": "5e7299ca04cb1d82",
   "outputs": [],
   "execution_count": 42
  },
  {
   "cell_type": "code",
   "source": [
    "fib = fib()"
   ],
   "metadata": {
    "collapsed": false,
    "ExecuteTime": {
     "end_time": "2024-04-05T12:25:12.414475Z",
     "start_time": "2024-04-05T12:25:12.411123Z"
    }
   },
   "id": "5a589361b76e4fe9",
   "outputs": [],
   "execution_count": 43
  },
  {
   "cell_type": "code",
   "source": [
    "fib(10)"
   ],
   "metadata": {
    "collapsed": false,
    "ExecuteTime": {
     "end_time": "2024-04-05T12:25:12.445104Z",
     "start_time": "2024-04-05T12:25:12.441672Z"
    }
   },
   "id": "f06a54610d15ccc8",
   "outputs": [
    {
     "data": {
      "text/plain": [
       "55"
      ]
     },
     "execution_count": 44,
     "metadata": {},
     "output_type": "execute_result"
    }
   ],
   "execution_count": 44
  },
  {
   "cell_type": "code",
   "source": [
    "def memo_decorator(fn):\n",
    "        cache = dict()\n",
    "        def inner(n):\n",
    "            if n not in cache:\n",
    "                cache[n] = fn(n)\n",
    "            return cache[n]\n",
    "        return inner"
   ],
   "metadata": {
    "collapsed": false,
    "ExecuteTime": {
     "end_time": "2024-04-05T12:25:12.525095Z",
     "start_time": "2024-04-05T12:25:12.520898Z"
    }
   },
   "id": "6843908d79fa9548",
   "outputs": [],
   "execution_count": 45
  },
  {
   "cell_type": "code",
   "source": [
    "@memo_decorator\n",
    "def fib_iter(n):\n",
    "    pre = 1\n",
    "    cur = 1\n",
    "    for _ in range(1, n):\n",
    "        pre, cur = cur, cur + pre\n",
    "    return pre"
   ],
   "metadata": {
    "collapsed": false,
    "ExecuteTime": {
     "end_time": "2024-04-05T12:25:12.580705Z",
     "start_time": "2024-04-05T12:25:12.577247Z"
    }
   },
   "id": "9d22b1990178a5ea",
   "outputs": [],
   "execution_count": 46
  },
  {
   "cell_type": "code",
   "source": [
    "fib_iter(10**6)\n",
    "print('Done')"
   ],
   "metadata": {
    "collapsed": false,
    "ExecuteTime": {
     "end_time": "2024-04-05T12:25:20.416500Z",
     "start_time": "2024-04-05T12:25:12.664012Z"
    }
   },
   "id": "546d6edf9bd518be",
   "outputs": [
    {
     "name": "stdout",
     "output_type": "stream",
     "text": [
      "Done\n"
     ]
    }
   ],
   "execution_count": 47
  },
  {
   "cell_type": "code",
   "source": [
    "from functools import lru_cache"
   ],
   "metadata": {
    "collapsed": false,
    "ExecuteTime": {
     "end_time": "2024-04-05T12:25:20.420380Z",
     "start_time": "2024-04-05T12:25:20.417930Z"
    }
   },
   "id": "35863aedd6479444",
   "outputs": [],
   "execution_count": 48
  },
  {
   "cell_type": "code",
   "source": [
    "@lru_cache(maxsize=8)\n",
    "def fib_iter(n):\n",
    "    pre = 1\n",
    "    cur = 1\n",
    "    for _ in range(1, n):\n",
    "        pre, cur = cur, cur + pre\n",
    "    return pre"
   ],
   "metadata": {
    "collapsed": false,
    "ExecuteTime": {
     "end_time": "2024-04-05T12:25:20.427196Z",
     "start_time": "2024-04-05T12:25:20.421372Z"
    }
   },
   "id": "6ab3194c15f5e135",
   "outputs": [],
   "execution_count": 49
  },
  {
   "cell_type": "code",
   "source": [
    "x = fib_iter(10**6)"
   ],
   "metadata": {
    "collapsed": false,
    "ExecuteTime": {
     "end_time": "2024-04-05T12:25:27.799139Z",
     "start_time": "2024-04-05T12:25:20.428895Z"
    }
   },
   "id": "5a25b8dd3f26ad9f",
   "outputs": [],
   "execution_count": 50
  },
  {
   "cell_type": "markdown",
   "source": [
    "**Old way**\n",
    "Decorator factory take some arguments and returns decorator\n",
    "```python\n",
    "def my_func(algo):\n",
    "    pass\n",
    "my_func = func(my_func)(some_input)\n",
    "```\n",
    "**Decorator Factory way**\n",
    "```python\n",
    "@func(some_input)\n",
    "def my_func(algo):\n",
    "   pass\n",
    "```"
   ],
   "metadata": {
    "collapsed": false
   },
   "id": "85d5a9464f1e3abe"
  },
  {
   "cell_type": "code",
   "source": [
    "from functools import wraps\n",
    "def timed(fn):\n",
    "    from time import perf_counter\n",
    "    \n",
    "    @wraps(fn)\n",
    "    def inner(*args, **kwargs):\n",
    "        start = perf_counter()\n",
    "        result = fn(*args, **kwargs)\n",
    "        end = perf_counter()\n",
    "        elapsed = end - start\n",
    "        print(f'Run time: {elapsed:.6f}s')\n",
    "        return result\n",
    "    return inner"
   ],
   "metadata": {
    "collapsed": false,
    "ExecuteTime": {
     "end_time": "2024-04-05T12:25:27.803437Z",
     "start_time": "2024-04-05T12:25:27.800054Z"
    }
   },
   "id": "736cdd70992ac0e",
   "outputs": [],
   "execution_count": 51
  },
  {
   "cell_type": "code",
   "source": [
    "def fib(n):\n",
    "    def fibo(n):\n",
    "        if n < 3:\n",
    "            return 1\n",
    "        return fibo(n - 1) + fibo(n - 2)\n",
    "    return fibo(n)"
   ],
   "metadata": {
    "collapsed": false,
    "ExecuteTime": {
     "end_time": "2024-04-05T12:25:27.811163Z",
     "start_time": "2024-04-05T12:25:27.804324Z"
    }
   },
   "id": "cec0425e157dd86c",
   "outputs": [],
   "execution_count": 52
  },
  {
   "cell_type": "code",
   "source": [
    "fib = timed(fib)"
   ],
   "metadata": {
    "collapsed": false,
    "ExecuteTime": {
     "end_time": "2024-04-05T12:25:27.817996Z",
     "start_time": "2024-04-05T12:25:27.812221Z"
    }
   },
   "id": "6b56d43858bebbd4",
   "outputs": [],
   "execution_count": 53
  },
  {
   "cell_type": "code",
   "source": [
    "fib(35)"
   ],
   "metadata": {
    "collapsed": false,
    "ExecuteTime": {
     "end_time": "2024-04-05T12:25:29.016700Z",
     "start_time": "2024-04-05T12:25:27.818981Z"
    }
   },
   "id": "d136e70ffb7574c3",
   "outputs": [
    {
     "name": "stdout",
     "output_type": "stream",
     "text": [
      "Run time: 1.190650s\n"
     ]
    },
    {
     "data": {
      "text/plain": [
       "9227465"
      ]
     },
     "execution_count": 54,
     "metadata": {},
     "output_type": "execute_result"
    }
   ],
   "execution_count": 54
  },
  {
   "cell_type": "code",
   "source": [
    "from functools import wraps\n",
    "\n",
    "def timed(times):\n",
    "    def timed_decorator(fn):\n",
    "        from time import perf_counter\n",
    "        @wraps(fn)\n",
    "        def inner(*args, **kwargs):\n",
    "            sum = 0\n",
    "            result = None\n",
    "            for i in range(1, times + 1):\n",
    "                start = perf_counter()\n",
    "                result = fn(*args, **kwargs)\n",
    "                end = perf_counter()\n",
    "                sum += end - start\n",
    "                print(f'{i}: {end - start}')\n",
    "            avg = sum / times\n",
    "            print(f'Run time: {avg:.6f}s of {times} iterations')\n",
    "            return result\n",
    "        return inner\n",
    "    return timed_decorator"
   ],
   "metadata": {
    "collapsed": false,
    "ExecuteTime": {
     "end_time": "2024-04-05T12:25:29.021742Z",
     "start_time": "2024-04-05T12:25:29.017659Z"
    }
   },
   "id": "a95e894f044accbe",
   "outputs": [],
   "execution_count": 55
  },
  {
   "cell_type": "code",
   "source": [
    "def fib(n):\n",
    "    def fibo(n):\n",
    "        if n < 3:\n",
    "            return 1\n",
    "        return fibo(n - 1) + fibo(n - 2)\n",
    "    return fibo(n)"
   ],
   "metadata": {
    "collapsed": false,
    "ExecuteTime": {
     "end_time": "2024-04-05T12:25:29.028701Z",
     "start_time": "2024-04-05T12:25:29.024281Z"
    }
   },
   "id": "a9536fb9f7689e8f",
   "outputs": [],
   "execution_count": 56
  },
  {
   "cell_type": "code",
   "source": [
    "fib = timed(10)(fib)"
   ],
   "metadata": {
    "collapsed": false,
    "ExecuteTime": {
     "end_time": "2024-04-05T12:25:29.035091Z",
     "start_time": "2024-04-05T12:25:29.029717Z"
    }
   },
   "id": "7d6331edd8f916f9",
   "outputs": [],
   "execution_count": 57
  },
  {
   "cell_type": "code",
   "source": [
    "fib(35)"
   ],
   "metadata": {
    "collapsed": false,
    "ExecuteTime": {
     "end_time": "2024-04-05T12:25:39.909218Z",
     "start_time": "2024-04-05T12:25:29.036076Z"
    }
   },
   "id": "e47079574197e9b8",
   "outputs": [
    {
     "name": "stdout",
     "output_type": "stream",
     "text": [
      "1: 1.1775148970000373\n",
      "2: 1.0818958999998358\n",
      "3: 1.0765005210000709\n",
      "4: 1.0857104949996028\n",
      "5: 1.064965019000283\n",
      "6: 1.0645212179997543\n",
      "7: 1.0703954989999147\n",
      "8: 1.0687020629998187\n",
      "9: 1.0798225540002022\n",
      "10: 1.0952824189998864\n",
      "Run time: 1.086531s of 10 iterations\n"
     ]
    },
    {
     "data": {
      "text/plain": [
       "9227465"
      ]
     },
     "execution_count": 58,
     "metadata": {},
     "output_type": "execute_result"
    }
   ],
   "execution_count": 58
  },
  {
   "cell_type": "code",
   "source": [
    "class DecoratorBasicClass:\n",
    "    def __init__(self):\n",
    "        print('Insance is here')\n",
    "    \n",
    "    def __call__(self, fn):\n",
    "        print('Called')\n",
    "        def inner(a):\n",
    "            print(f'Name of call function is {fn.__name__}')\n",
    "            return fn(a)\n",
    "        return inner"
   ],
   "metadata": {
    "collapsed": false,
    "ExecuteTime": {
     "end_time": "2024-04-05T12:25:39.913382Z",
     "start_time": "2024-04-05T12:25:39.910298Z"
    }
   },
   "id": "6c0cbea2dcd418aa",
   "outputs": [],
   "execution_count": 59
  },
  {
   "cell_type": "code",
   "source": [
    "@DecoratorBasicClass()\n",
    "def add(a):\n",
    "    return 10 + 12 + a"
   ],
   "metadata": {
    "collapsed": false,
    "ExecuteTime": {
     "end_time": "2024-04-05T12:25:39.919813Z",
     "start_time": "2024-04-05T12:25:39.914362Z"
    }
   },
   "id": "7602827484b05221",
   "outputs": [
    {
     "name": "stdout",
     "output_type": "stream",
     "text": [
      "Insance is here\n",
      "Called\n"
     ]
    }
   ],
   "execution_count": 60
  },
  {
   "cell_type": "code",
   "source": [
    "add.__name__"
   ],
   "metadata": {
    "collapsed": false,
    "ExecuteTime": {
     "end_time": "2024-04-05T12:25:39.925957Z",
     "start_time": "2024-04-05T12:25:39.920837Z"
    }
   },
   "id": "451240c6483806a",
   "outputs": [
    {
     "data": {
      "text/plain": [
       "'inner'"
      ]
     },
     "execution_count": 61,
     "metadata": {},
     "output_type": "execute_result"
    }
   ],
   "execution_count": 61
  },
  {
   "cell_type": "code",
   "source": [
    "from fractions import Fraction"
   ],
   "metadata": {
    "collapsed": false,
    "ExecuteTime": {
     "end_time": "2024-04-05T12:25:39.931213Z",
     "start_time": "2024-04-05T12:25:39.926982Z"
    }
   },
   "id": "6d45cecb1ca4e48e",
   "outputs": [],
   "execution_count": 62
  },
  {
   "cell_type": "code",
   "source": [
    "f1 = Fraction(2, 3)\n",
    "f2 = Fraction(64, 8)"
   ],
   "metadata": {
    "collapsed": false,
    "ExecuteTime": {
     "end_time": "2024-04-05T12:25:39.937271Z",
     "start_time": "2024-04-05T12:25:39.932194Z"
    }
   },
   "id": "8a554c18dc74e7c0",
   "outputs": [],
   "execution_count": 63
  },
  {
   "cell_type": "code",
   "source": [
    "Fraction.is_integral = lambda self: self.denominator == 1"
   ],
   "metadata": {
    "collapsed": false,
    "ExecuteTime": {
     "end_time": "2024-04-05T12:25:39.942810Z",
     "start_time": "2024-04-05T12:25:39.938323Z"
    }
   },
   "id": "36b1949c3d453365",
   "outputs": [],
   "execution_count": 64
  },
  {
   "cell_type": "code",
   "source": [
    "f1.is_integral()"
   ],
   "metadata": {
    "collapsed": false,
    "ExecuteTime": {
     "end_time": "2024-04-05T12:25:39.949666Z",
     "start_time": "2024-04-05T12:25:39.943836Z"
    }
   },
   "id": "d0ec7a6237b3b2e4",
   "outputs": [
    {
     "data": {
      "text/plain": [
       "False"
      ]
     },
     "execution_count": 65,
     "metadata": {},
     "output_type": "execute_result"
    }
   ],
   "execution_count": 65
  },
  {
   "cell_type": "code",
   "source": [
    "f2.is_integral()"
   ],
   "metadata": {
    "collapsed": false,
    "ExecuteTime": {
     "end_time": "2024-04-05T12:25:39.955352Z",
     "start_time": "2024-04-05T12:25:39.950629Z"
    }
   },
   "id": "44bd6906226e83c",
   "outputs": [
    {
     "data": {
      "text/plain": [
       "True"
      ]
     },
     "execution_count": 66,
     "metadata": {},
     "output_type": "execute_result"
    }
   ],
   "execution_count": 66
  },
  {
   "cell_type": "code",
   "source": [
    "def dec_speak(cls):\n",
    "    cls.speak = lambda self, message: f'{self.__class__.__name__} says: {message}'\n",
    "    return cls"
   ],
   "metadata": {
    "collapsed": false,
    "ExecuteTime": {
     "end_time": "2024-04-05T12:25:39.960223Z",
     "start_time": "2024-04-05T12:25:39.956624Z"
    }
   },
   "id": "2e83fee4eba03e95",
   "outputs": [],
   "execution_count": 67
  },
  {
   "cell_type": "code",
   "source": [
    "class Person:\n",
    "    pass"
   ],
   "metadata": {
    "collapsed": false,
    "ExecuteTime": {
     "end_time": "2024-04-05T12:25:39.965668Z",
     "start_time": "2024-04-05T12:25:39.961267Z"
    }
   },
   "id": "6ac9b4e92f3f0a4e",
   "outputs": [],
   "execution_count": 68
  },
  {
   "cell_type": "code",
   "source": [
    "Person = dec_speak(Person)"
   ],
   "metadata": {
    "collapsed": false,
    "ExecuteTime": {
     "end_time": "2024-04-05T12:25:39.971822Z",
     "start_time": "2024-04-05T12:25:39.966893Z"
    }
   },
   "id": "3fff4869da13a546",
   "outputs": [],
   "execution_count": 69
  },
  {
   "cell_type": "code",
   "source": [
    "Person().speak(\"let's code something\")"
   ],
   "metadata": {
    "collapsed": false,
    "ExecuteTime": {
     "end_time": "2024-04-05T12:25:39.978451Z",
     "start_time": "2024-04-05T12:25:39.973047Z"
    }
   },
   "id": "4393335b04532318",
   "outputs": [
    {
     "data": {
      "text/plain": [
       "\"Person says: let's code something\""
      ]
     },
     "execution_count": 70,
     "metadata": {},
     "output_type": "execute_result"
    }
   ],
   "execution_count": 70
  },
  {
   "cell_type": "code",
   "source": [
    "from datetime import datetime, timezone"
   ],
   "metadata": {
    "collapsed": false,
    "ExecuteTime": {
     "end_time": "2024-04-05T12:25:39.983816Z",
     "start_time": "2024-04-05T12:25:39.979658Z"
    }
   },
   "id": "71c91138a73f3045",
   "outputs": [],
   "execution_count": 71
  },
  {
   "cell_type": "code",
   "source": [
    "def info(self):\n",
    "    results = list()\n",
    "    results.append(f'time: {datetime.now(timezone.utc)}')\n",
    "    results.append(f'Class: {self.__class__.__name__}')\n",
    "    results.append(f'id: {hex(id(self))}')\n",
    "    for k, v in vars(self).items():\n",
    "        results.append(f'{k}: {v}')\n",
    "    return results\n",
    "\n",
    "def debug_info(cls):\n",
    "    cls.debug = info\n",
    "    return cls"
   ],
   "metadata": {
    "collapsed": false,
    "ExecuteTime": {
     "end_time": "2024-04-05T12:25:39.991418Z",
     "start_time": "2024-04-05T12:25:39.985177Z"
    }
   },
   "id": "c424370cabeb32d2",
   "outputs": [],
   "execution_count": 72
  },
  {
   "cell_type": "code",
   "source": [
    "@debug_info\n",
    "class Person:\n",
    "    def __init__(self, name, birth_year):\n",
    "        self.name = name\n",
    "        self.birth_year = birth_year\n",
    "    \n",
    "    def say_hi(self):\n",
    "        return 'Hello there!'"
   ],
   "metadata": {
    "collapsed": false,
    "ExecuteTime": {
     "end_time": "2024-04-05T12:25:39.998316Z",
     "start_time": "2024-04-05T12:25:39.993334Z"
    }
   },
   "id": "c12ee28caef4a0cd",
   "outputs": [],
   "execution_count": 73
  },
  {
   "cell_type": "code",
   "source": [
    "guy = Person(\"Mario\", 2000)"
   ],
   "metadata": {
    "collapsed": false,
    "ExecuteTime": {
     "end_time": "2024-04-05T12:25:40.010091Z",
     "start_time": "2024-04-05T12:25:40.006539Z"
    }
   },
   "id": "fb48ba2d929c43f",
   "outputs": [],
   "execution_count": 74
  },
  {
   "cell_type": "code",
   "source": [
    "guy.debug()"
   ],
   "metadata": {
    "collapsed": false,
    "ExecuteTime": {
     "end_time": "2024-04-05T12:25:40.019139Z",
     "start_time": "2024-04-05T12:25:40.012241Z"
    }
   },
   "id": "8737025ce589cdf4",
   "outputs": [
    {
     "data": {
      "text/plain": [
       "['time: 2024-04-05 12:25:40.015015+00:00',\n",
       " 'Class: Person',\n",
       " 'id: 0x7f8dc4b1e8d0',\n",
       " 'name: Mario',\n",
       " 'birth_year: 2000']"
      ]
     },
     "execution_count": 75,
     "metadata": {},
     "output_type": "execute_result"
    }
   ],
   "execution_count": 75
  },
  {
   "cell_type": "code",
   "source": [
    "@debug_info\n",
    "class Automobile:\n",
    "    def __init__(self, make, model, year, top_speed):\n",
    "        self.make = make\n",
    "        self.model = model\n",
    "        self.year = year\n",
    "        self.top_speed = top_speed\n",
    "        self.speed = 0\n",
    "        \n",
    "    @property\n",
    "    def speed(self):\n",
    "        return self._speed\n",
    "    \n",
    "    @speed.setter\n",
    "    def speed(self, new_speed):\n",
    "        if new_speed > self.top_speed:\n",
    "            raise ValueError('Speed cannot exceed top_speed.')\n",
    "        else:\n",
    "            self._speed = new_speed"
   ],
   "metadata": {
    "collapsed": false,
    "ExecuteTime": {
     "end_time": "2024-04-05T12:25:40.026327Z",
     "start_time": "2024-04-05T12:25:40.020991Z"
    }
   },
   "id": "9643c0c94494d1cc",
   "outputs": [],
   "execution_count": 76
  },
  {
   "cell_type": "code",
   "source": [
    "fav = Automobile('Ford', 'Model T', 1908, 45)"
   ],
   "metadata": {
    "collapsed": false,
    "ExecuteTime": {
     "end_time": "2024-04-05T12:25:40.031819Z",
     "start_time": "2024-04-05T12:25:40.027967Z"
    }
   },
   "id": "9e8aa117e66e03b2",
   "outputs": [],
   "execution_count": 77
  },
  {
   "cell_type": "code",
   "source": [
    "fav.debug()"
   ],
   "metadata": {
    "collapsed": false,
    "ExecuteTime": {
     "end_time": "2024-04-05T12:25:40.040210Z",
     "start_time": "2024-04-05T12:25:40.033160Z"
    }
   },
   "id": "53732b2392a2163c",
   "outputs": [
    {
     "data": {
      "text/plain": [
       "['time: 2024-04-05 12:25:40.037608+00:00',\n",
       " 'Class: Automobile',\n",
       " 'id: 0x7f8dc54aff80',\n",
       " 'make: Ford',\n",
       " 'model: Model T',\n",
       " 'year: 1908',\n",
       " 'top_speed: 45',\n",
       " '_speed: 0']"
      ]
     },
     "execution_count": 78,
     "metadata": {},
     "output_type": "execute_result"
    }
   ],
   "execution_count": 78
  },
  {
   "cell_type": "code",
   "source": [
    "fav.speed = 100"
   ],
   "metadata": {
    "collapsed": false,
    "ExecuteTime": {
     "end_time": "2024-04-05T12:25:40.079675Z",
     "start_time": "2024-04-05T12:25:40.041528Z"
    }
   },
   "id": "e7a6702c6798e0cf",
   "outputs": [
    {
     "ename": "ValueError",
     "evalue": "Speed cannot exceed top_speed.",
     "output_type": "error",
     "traceback": [
      "\u001B[0;31m---------------------------------------------------------------------------\u001B[0m",
      "\u001B[0;31mValueError\u001B[0m                                Traceback (most recent call last)",
      "Cell \u001B[0;32mIn[79], line 1\u001B[0m\n\u001B[0;32m----> 1\u001B[0m \u001B[43mfav\u001B[49m\u001B[38;5;241;43m.\u001B[39;49m\u001B[43mspeed\u001B[49m \u001B[38;5;241m=\u001B[39m \u001B[38;5;241m100\u001B[39m\n",
      "Cell \u001B[0;32mIn[76], line 17\u001B[0m, in \u001B[0;36mAutomobile.speed\u001B[0;34m(self, new_speed)\u001B[0m\n\u001B[1;32m     14\u001B[0m \u001B[38;5;129m@speed\u001B[39m\u001B[38;5;241m.\u001B[39msetter\n\u001B[1;32m     15\u001B[0m \u001B[38;5;28;01mdef\u001B[39;00m \u001B[38;5;21mspeed\u001B[39m(\u001B[38;5;28mself\u001B[39m, new_speed):\n\u001B[1;32m     16\u001B[0m     \u001B[38;5;28;01mif\u001B[39;00m new_speed \u001B[38;5;241m>\u001B[39m \u001B[38;5;28mself\u001B[39m\u001B[38;5;241m.\u001B[39mtop_speed:\n\u001B[0;32m---> 17\u001B[0m         \u001B[38;5;28;01mraise\u001B[39;00m \u001B[38;5;167;01mValueError\u001B[39;00m(\u001B[38;5;124m'\u001B[39m\u001B[38;5;124mSpeed cannot exceed top_speed.\u001B[39m\u001B[38;5;124m'\u001B[39m)\n\u001B[1;32m     18\u001B[0m     \u001B[38;5;28;01melse\u001B[39;00m:\n\u001B[1;32m     19\u001B[0m         \u001B[38;5;28mself\u001B[39m\u001B[38;5;241m.\u001B[39m_speed \u001B[38;5;241m=\u001B[39m new_speed\n",
      "\u001B[0;31mValueError\u001B[0m: Speed cannot exceed top_speed."
     ]
    }
   ],
   "execution_count": 79
  },
  {
   "cell_type": "code",
   "source": [
    "fav.speed = 40"
   ],
   "metadata": {
    "collapsed": false
   },
   "id": "5cabd520980522c8",
   "outputs": [],
   "execution_count": null
  },
  {
   "cell_type": "code",
   "source": [
    "fav.debug()"
   ],
   "metadata": {
    "collapsed": false
   },
   "id": "5982ce5a853c920e",
   "outputs": [],
   "execution_count": null
  },
  {
   "cell_type": "code",
   "source": [
    "from math import sqrt"
   ],
   "metadata": {
    "collapsed": false
   },
   "id": "e67414cd36ed379e",
   "outputs": [],
   "execution_count": null
  },
  {
   "cell_type": "code",
   "source": [
    "class Point:\n",
    "    def __init__(self, x, y):\n",
    "        self.x = x\n",
    "        self.y = y\n",
    "    \n",
    "    def __abs__(self):\n",
    "        return sqrt(self.x ** 2 + self.y ** 2)\n",
    "    \n",
    "    def __eq__(self, other):\n",
    "        if isinstance(other, Point):\n",
    "            return self.x == other.x and self.y == other.y\n",
    "        else:\n",
    "            return False\n",
    "    \n",
    "    def __lt__(self, other):\n",
    "        if isinstance(other, Point):\n",
    "            return abs(self) < abs(other)\n",
    "        else:\n",
    "            return NotImplemented\n",
    "    \n",
    "    def __repr__(self):\n",
    "        return f'Point({self.x}, {self.y})'"
   ],
   "metadata": {
    "collapsed": false
   },
   "id": "665a228dba952447",
   "outputs": [],
   "execution_count": null
  },
  {
   "cell_type": "code",
   "source": [
    "p1, p2, p3 = Point(2, 3), Point(3, 2), Point(0, 0)"
   ],
   "metadata": {
    "collapsed": false
   },
   "id": "7b734f3c558ac2b0",
   "outputs": [],
   "execution_count": null
  },
  {
   "cell_type": "code",
   "source": [
    "p3 < p2 < p1"
   ],
   "metadata": {
    "collapsed": false
   },
   "id": "2a8e2a4a7acedeeb",
   "outputs": [],
   "execution_count": null
  },
  {
   "cell_type": "code",
   "source": [
    "def complete_ordering(cls):\n",
    "    if '__eq__' in dir(cls) and '__lt__' in dir(cls):\n",
    "        cls.__le__ = lambda self, other: self < other or self == other\n",
    "        cls.__gt__ = lambda self, other: not(self < other) or self != other\n",
    "        cls.__ge__ = lambda self, other: not(self < other)\n",
    "    return cls"
   ],
   "metadata": {
    "collapsed": false
   },
   "id": "8bdbefedc9d84921",
   "outputs": [],
   "execution_count": null
  },
  {
   "cell_type": "code",
   "source": [
    "@complete_ordering\n",
    "class Point:\n",
    "    def __init__(self, x, y):\n",
    "        self.x = x\n",
    "        self.y = y\n",
    "    \n",
    "    def __abs__(self):\n",
    "        return sqrt(self.x ** 2 + self.y ** 2)\n",
    "    \n",
    "    def __eq__(self, other):\n",
    "        if isinstance(other, Point):\n",
    "            return self.x == other.x and self.y == other.y\n",
    "        else:\n",
    "            return False\n",
    "    \n",
    "    def __lt__(self, other):\n",
    "        if isinstance(other, Point):\n",
    "            return abs(self) < abs(other)\n",
    "        else:\n",
    "            return NotImplemented\n",
    "    \n",
    "    def __repr__(self):\n",
    "        return f'Point({self.x}, {self.y})'"
   ],
   "metadata": {
    "collapsed": false
   },
   "id": "158b140599f6606d",
   "outputs": [],
   "execution_count": null
  },
  {
   "cell_type": "code",
   "source": [
    "p1, p2, p3 = Point(2, 3), Point(3, 4), Point(0, 0)"
   ],
   "metadata": {
    "collapsed": false
   },
   "id": "7ed4216371b1b3c0",
   "outputs": [],
   "execution_count": null
  },
  {
   "cell_type": "code",
   "source": [
    "p1 >= p2"
   ],
   "metadata": {
    "collapsed": false
   },
   "id": "3779a52f039d279f",
   "outputs": [],
   "execution_count": null
  },
  {
   "cell_type": "code",
   "source": [
    "p3 <= p1"
   ],
   "metadata": {
    "collapsed": false
   },
   "id": "ac1ce88383f64e61",
   "outputs": [],
   "execution_count": null
  },
  {
   "cell_type": "code",
   "source": [
    "p1 > p2"
   ],
   "metadata": {
    "collapsed": false
   },
   "id": "e1b113c6d4d9c44f",
   "outputs": [],
   "execution_count": null
  },
  {
   "cell_type": "code",
   "source": [
    "from functools import total_ordering"
   ],
   "metadata": {
    "collapsed": false
   },
   "id": "d5f28524c7392ce4",
   "outputs": [],
   "execution_count": null
  },
  {
   "cell_type": "code",
   "source": [
    "@total_ordering\n",
    "class Point:\n",
    "    def __init__(self, x, y):\n",
    "        self.x = x\n",
    "        self.y = y\n",
    "    \n",
    "    def __abs__(self):\n",
    "        return sqrt(self.x ** 2 + self.y ** 2)\n",
    "    \n",
    "    def __eq__(self, other):\n",
    "        if isinstance(other, Point):\n",
    "            return self.x == other.x and self.y == other.y\n",
    "        else:\n",
    "            return False\n",
    "    \n",
    "    def __lt__(self, other):\n",
    "        if isinstance(other, Point):\n",
    "            return abs(self) < abs(other)\n",
    "        else:\n",
    "            return NotImplemented\n",
    "    \n",
    "    def __repr__(self):\n",
    "        return f'Point({self.x}, {self.y})'"
   ],
   "metadata": {
    "collapsed": false
   },
   "id": "ab9d784269aba635",
   "outputs": [],
   "execution_count": null
  },
  {
   "cell_type": "code",
   "source": [
    "p1, p2, p3 = Point(2, 3), Point(3, 4), Point(0, 0)\n",
    "p1 >= p2, p3 <= p1, p1 > p2"
   ],
   "metadata": {
    "collapsed": false
   },
   "id": "cd2c6744c01d678",
   "outputs": [],
   "execution_count": null
  },
  {
   "cell_type": "code",
   "source": [
    "@total_ordering\n",
    "class Point:\n",
    "    def __init__(self, x, y):\n",
    "        self.x = x\n",
    "        self.y = y\n",
    "    \n",
    "    def __abs__(self):\n",
    "        return sqrt(self.x ** 2 + self.y ** 2)\n",
    "    \n",
    "    def __eq__(self, other):\n",
    "        if isinstance(other, Point):\n",
    "            return self.x == other.x and self.y == other.y\n",
    "        else:\n",
    "            return False\n",
    "    \n",
    "    def __repr__(self):\n",
    "        return f'Point({self.x}, {self.y})'"
   ],
   "metadata": {
    "collapsed": false
   },
   "id": "f9db86efd6588eb4",
   "outputs": [],
   "execution_count": null
  },
  {
   "cell_type": "code",
   "source": [
    "@total_ordering\n",
    "class Point:\n",
    "    def __init__(self, x, y):\n",
    "        self.x = x\n",
    "        self.y = y\n",
    "    \n",
    "    def __abs__(self):\n",
    "        return sqrt(self.x ** 2 + self.y ** 2)\n",
    "    \n",
    "    def __eq__(self, other):\n",
    "        if isinstance(other, Point):\n",
    "            return self.x == other.x and self.y == other.y\n",
    "        else:\n",
    "            return False\n",
    "    \n",
    "    def __gt__(self, other):\n",
    "        if isinstance(other, Point):\n",
    "            return abs(self) > abs(other)\n",
    "        else:\n",
    "            return NotImplemented\n",
    "    \n",
    "    def __repr__(self):\n",
    "        return f'Point({self.x}, {self.y})'"
   ],
   "metadata": {
    "collapsed": false
   },
   "id": "45416bf3ef9ee50a",
   "outputs": [],
   "execution_count": null
  },
  {
   "cell_type": "code",
   "source": [
    "p1, p2, p3 = Point(2, 3), Point(3, 4), Point(0, 0)\n",
    "p1 < p2, p2 > p1"
   ],
   "metadata": {
    "collapsed": false
   },
   "id": "f6eb446e4819a6c5",
   "outputs": [],
   "execution_count": null
  },
  {
   "cell_type": "code",
   "source": [],
   "metadata": {
    "collapsed": false
   },
   "id": "350702c811f588b8",
   "outputs": [],
   "execution_count": null
  }
 ],
 "metadata": {
  "kernelspec": {
   "display_name": "Python 3",
   "language": "python",
   "name": "python3"
  },
  "language_info": {
   "codemirror_mode": {
    "name": "ipython",
    "version": 2
   },
   "file_extension": ".py",
   "mimetype": "text/x-python",
   "name": "python",
   "nbconvert_exporter": "python",
   "pygments_lexer": "ipython2",
   "version": "2.7.6"
  }
 },
 "nbformat": 4,
 "nbformat_minor": 5
}
