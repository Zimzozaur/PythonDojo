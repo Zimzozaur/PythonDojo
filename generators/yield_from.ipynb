{
 "cells": [
  {
   "cell_type": "code",
   "id": "initial_id",
   "metadata": {
    "collapsed": true,
    "ExecuteTime": {
     "end_time": "2024-07-25T07:47:52.457981Z",
     "start_time": "2024-07-25T07:47:52.454031Z"
    }
   },
   "source": [
    "def matrix(n):\n",
    "    gen = (\n",
    "        (i * j for j in range(1, n+1))\n",
    "        for i in range(1, n+1)\n",
    "    )\n",
    "    return gen"
   ],
   "outputs": [],
   "execution_count": 4
  },
  {
   "metadata": {
    "ExecuteTime": {
     "end_time": "2024-07-25T07:47:52.719244Z",
     "start_time": "2024-07-25T07:47:52.715456Z"
    }
   },
   "cell_type": "code",
   "source": "m = list(matrix(5))",
   "id": "c17f1762c7bff4bd",
   "outputs": [],
   "execution_count": 5
  },
  {
   "metadata": {
    "ExecuteTime": {
     "end_time": "2024-07-25T07:47:53.000327Z",
     "start_time": "2024-07-25T07:47:52.993629Z"
    }
   },
   "cell_type": "code",
   "source": "m",
   "id": "3c501f5db226c68c",
   "outputs": [
    {
     "data": {
      "text/plain": [
       "[<generator object matrix.<locals>.<genexpr>.<genexpr> at 0x7a98d51153c0>,\n",
       " <generator object matrix.<locals>.<genexpr>.<genexpr> at 0x7a98d5115220>,\n",
       " <generator object matrix.<locals>.<genexpr>.<genexpr> at 0x7a98d51152f0>,\n",
       " <generator object matrix.<locals>.<genexpr>.<genexpr> at 0x7a98d5114a00>,\n",
       " <generator object matrix.<locals>.<genexpr>.<genexpr> at 0x7a98d5114860>]"
      ]
     },
     "execution_count": 6,
     "metadata": {},
     "output_type": "execute_result"
    }
   ],
   "execution_count": 6
  },
  {
   "metadata": {
    "ExecuteTime": {
     "end_time": "2024-07-25T07:50:52.702709Z",
     "start_time": "2024-07-25T07:50:52.697362Z"
    }
   },
   "cell_type": "code",
   "source": [
    "def matrix_iterator(n):\n",
    "    def matrix():\n",
    "        return (\n",
    "            (i * j for j in range(1, n+1))\n",
    "            for i in range(1, n+1)\n",
    "        )\n",
    "    \n",
    "    for row in matrix():\n",
    "        for item in row:\n",
    "            yield item"
   ],
   "id": "ffd077a8f1ebf624",
   "outputs": [],
   "execution_count": 8
  },
  {
   "metadata": {
    "ExecuteTime": {
     "end_time": "2024-07-25T07:51:13.963844Z",
     "start_time": "2024-07-25T07:51:13.960997Z"
    }
   },
   "cell_type": "code",
   "source": [
    "for item in matrix_iterator(3):\n",
    "    print(item)"
   ],
   "id": "ad13a329b327571f",
   "outputs": [
    {
     "name": "stdout",
     "output_type": "stream",
     "text": [
      "1\n",
      "2\n",
      "3\n",
      "2\n",
      "4\n",
      "6\n",
      "3\n",
      "6\n",
      "9\n"
     ]
    }
   ],
   "execution_count": 10
  },
  {
   "metadata": {
    "ExecuteTime": {
     "end_time": "2024-07-25T07:51:41.458849Z",
     "start_time": "2024-07-25T07:51:41.454651Z"
    }
   },
   "cell_type": "code",
   "source": [
    "def matrix_iterator(n):\n",
    "    def matrix():\n",
    "        return (\n",
    "            (i * j for j in range(1, n+1))\n",
    "            for i in range(1, n+1)\n",
    "        )\n",
    "    \n",
    "    for row in matrix():\n",
    "        yield from row"
   ],
   "id": "e3a0b394ae0a7ccc",
   "outputs": [],
   "execution_count": 11
  },
  {
   "metadata": {
    "ExecuteTime": {
     "end_time": "2024-07-25T07:51:45.193290Z",
     "start_time": "2024-07-25T07:51:45.189717Z"
    }
   },
   "cell_type": "code",
   "source": [
    "for item in matrix_iterator(3):\n",
    "    print(item)"
   ],
   "id": "f7ff44daf32f63c0",
   "outputs": [
    {
     "name": "stdout",
     "output_type": "stream",
     "text": [
      "1\n",
      "2\n",
      "3\n",
      "2\n",
      "4\n",
      "6\n",
      "3\n",
      "6\n",
      "9\n"
     ]
    }
   ],
   "execution_count": 12
  },
  {
   "metadata": {
    "ExecuteTime": {
     "end_time": "2024-07-25T07:55:59.237308Z",
     "start_time": "2024-07-25T07:55:59.234001Z"
    }
   },
   "cell_type": "code",
   "source": [
    "file_1 = 'car-brands-1.txt'\n",
    "file_2 = 'car-brands-2.txt'\n",
    "file_3 = 'car-brands-3.txt'\n",
    "files = file_1, file_2, file_3"
   ],
   "id": "ba0d8718407222c7",
   "outputs": [],
   "execution_count": 14
  },
  {
   "metadata": {
    "ExecuteTime": {
     "end_time": "2024-07-25T07:57:57.700948Z",
     "start_time": "2024-07-25T07:57:57.693285Z"
    }
   },
   "cell_type": "code",
   "source": [
    "brands = []\n",
    "\n",
    "with open(file_1) as f:\n",
    "    for brand in f:\n",
    "        brands.append(brand.strip())\n",
    "        \n",
    "with open(file_2) as f:\n",
    "    for brand in f:\n",
    "        brands.append(brand.strip())\n",
    "        \n",
    "with open(file_3) as f:\n",
    "    for brand in f:\n",
    "        brands.append(brand.strip())\n",
    "        \n",
    "brands"
   ],
   "id": "a4dd642417b86802",
   "outputs": [
    {
     "data": {
      "text/plain": [
       "['Alfa Romeo',\n",
       " 'Aston Martin',\n",
       " 'Audi',\n",
       " 'Bentley',\n",
       " 'Benz',\n",
       " 'BMW',\n",
       " 'Bugatti',\n",
       " 'Cadillac',\n",
       " 'Chevrolet',\n",
       " 'Chrysler',\n",
       " 'Citroën',\n",
       " 'Corvette',\n",
       " 'DAF',\n",
       " 'Dacia',\n",
       " 'Daewoo',\n",
       " 'Daihatsu',\n",
       " 'Datsun',\n",
       " 'De Lorean',\n",
       " 'Dino',\n",
       " 'Dodge',\n",
       " 'Farboud',\n",
       " 'Ferrari',\n",
       " 'Fiat',\n",
       " 'Ford',\n",
       " 'Honda',\n",
       " 'Hummer',\n",
       " 'Hyundai',\n",
       " 'Jaguar',\n",
       " 'Jeep',\n",
       " 'KIA',\n",
       " 'Koenigsegg',\n",
       " 'Lada',\n",
       " 'Lamborghini',\n",
       " 'Lancia',\n",
       " 'Land Rover',\n",
       " 'Lexus',\n",
       " 'Ligier',\n",
       " 'Lincoln',\n",
       " 'Lotus',\n",
       " 'Martini',\n",
       " 'Maserati',\n",
       " 'Maybach',\n",
       " 'Mazda',\n",
       " 'McLaren',\n",
       " 'Mercedes-Benz',\n",
       " 'Mini',\n",
       " 'Mitsubishi',\n",
       " 'Nissan',\n",
       " 'Noble',\n",
       " 'Opel',\n",
       " 'Peugeot',\n",
       " 'Pontiac',\n",
       " 'Porsche',\n",
       " 'Renault',\n",
       " 'Rolls-Royce',\n",
       " 'Saab',\n",
       " 'Seat',\n",
       " 'Škoda',\n",
       " 'Smart',\n",
       " 'Spyker',\n",
       " 'Subaru',\n",
       " 'Suzuki',\n",
       " 'Toyota',\n",
       " 'Vauxhall',\n",
       " 'Volkswagen',\n",
       " 'Volvo']"
      ]
     },
     "execution_count": 16,
     "metadata": {},
     "output_type": "execute_result"
    }
   ],
   "execution_count": 16
  },
  {
   "metadata": {
    "ExecuteTime": {
     "end_time": "2024-07-25T08:00:01.658892Z",
     "start_time": "2024-07-25T08:00:01.655443Z"
    }
   },
   "cell_type": "code",
   "source": [
    "file_1 = 'car-brands-1.txt'\n",
    "file_2 = 'car-brands-2.txt'\n",
    "file_3 = 'car-brands-3.txt'\n",
    "files = file_1, file_2, file_3"
   ],
   "id": "724cb8d788cae981",
   "outputs": [],
   "execution_count": 20
  },
  {
   "metadata": {
    "ExecuteTime": {
     "end_time": "2024-07-25T08:00:50.234737Z",
     "start_time": "2024-07-25T08:00:50.231827Z"
    }
   },
   "cell_type": "code",
   "source": [
    "def brands(*files):\n",
    "    print(files)\n",
    "    for f_name in files:\n",
    "        with open(f_name) as f:\n",
    "            for line in f:\n",
    "                yield line.strip()"
   ],
   "id": "7316fa8a6dbf21ef",
   "outputs": [],
   "execution_count": 24
  },
  {
   "metadata": {
    "ExecuteTime": {
     "end_time": "2024-07-25T08:00:57.249195Z",
     "start_time": "2024-07-25T08:00:57.245235Z"
    }
   },
   "cell_type": "code",
   "source": [
    "for brand in brands(file_1, file_2, file_3):\n",
    "    # print(brand)\n",
    "    pass"
   ],
   "id": "f7f45067afbb6431",
   "outputs": [
    {
     "name": "stdout",
     "output_type": "stream",
     "text": [
      "('car-brands-1.txt', 'car-brands-2.txt', 'car-brands-3.txt')\n"
     ]
    }
   ],
   "execution_count": 26
  },
  {
   "metadata": {
    "ExecuteTime": {
     "end_time": "2024-07-25T08:01:08.292589Z",
     "start_time": "2024-07-25T08:01:08.257039Z"
    }
   },
   "cell_type": "code",
   "source": [
    "for brand in brands(files):\n",
    "    # print(brand)\n",
    "    pass"
   ],
   "id": "cb5c09f231fbc23",
   "outputs": [
    {
     "name": "stdout",
     "output_type": "stream",
     "text": [
      "(('car-brands-1.txt', 'car-brands-2.txt', 'car-brands-3.txt'),)\n"
     ]
    },
    {
     "ename": "TypeError",
     "evalue": "expected str, bytes or os.PathLike object, not tuple",
     "output_type": "error",
     "traceback": [
      "\u001B[0;31m---------------------------------------------------------------------------\u001B[0m",
      "\u001B[0;31mTypeError\u001B[0m                                 Traceback (most recent call last)",
      "Cell \u001B[0;32mIn[27], line 1\u001B[0m\n\u001B[0;32m----> 1\u001B[0m \u001B[38;5;28;43;01mfor\u001B[39;49;00m\u001B[43m \u001B[49m\u001B[43mbrand\u001B[49m\u001B[43m \u001B[49m\u001B[38;5;129;43;01min\u001B[39;49;00m\u001B[43m \u001B[49m\u001B[43mbrands\u001B[49m\u001B[43m(\u001B[49m\u001B[43mfiles\u001B[49m\u001B[43m)\u001B[49m\u001B[43m:\u001B[49m\n\u001B[1;32m      2\u001B[0m \u001B[43m    \u001B[49m\u001B[38;5;66;43;03m# print(brand)\u001B[39;49;00m\n\u001B[1;32m      3\u001B[0m \u001B[43m    \u001B[49m\u001B[38;5;28;43;01mpass\u001B[39;49;00m\n",
      "Cell \u001B[0;32mIn[24], line 4\u001B[0m, in \u001B[0;36mbrands\u001B[0;34m(*files)\u001B[0m\n\u001B[1;32m      2\u001B[0m \u001B[38;5;28mprint\u001B[39m(files)\n\u001B[1;32m      3\u001B[0m \u001B[38;5;28;01mfor\u001B[39;00m f_name \u001B[38;5;129;01min\u001B[39;00m files:\n\u001B[0;32m----> 4\u001B[0m     \u001B[38;5;28;01mwith\u001B[39;00m \u001B[38;5;28;43mopen\u001B[39;49m\u001B[43m(\u001B[49m\u001B[43mf_name\u001B[49m\u001B[43m)\u001B[49m \u001B[38;5;28;01mas\u001B[39;00m f:\n\u001B[1;32m      5\u001B[0m         \u001B[38;5;28;01mfor\u001B[39;00m line \u001B[38;5;129;01min\u001B[39;00m f:\n\u001B[1;32m      6\u001B[0m             \u001B[38;5;28;01myield\u001B[39;00m line\u001B[38;5;241m.\u001B[39mstrip()\n",
      "File \u001B[0;32m~/a-code/PythonDojo/venv/lib/python3.12/site-packages/IPython/core/interactiveshell.py:324\u001B[0m, in \u001B[0;36m_modified_open\u001B[0;34m(file, *args, **kwargs)\u001B[0m\n\u001B[1;32m    317\u001B[0m \u001B[38;5;28;01mif\u001B[39;00m file \u001B[38;5;129;01min\u001B[39;00m {\u001B[38;5;241m0\u001B[39m, \u001B[38;5;241m1\u001B[39m, \u001B[38;5;241m2\u001B[39m}:\n\u001B[1;32m    318\u001B[0m     \u001B[38;5;28;01mraise\u001B[39;00m \u001B[38;5;167;01mValueError\u001B[39;00m(\n\u001B[1;32m    319\u001B[0m         \u001B[38;5;124mf\u001B[39m\u001B[38;5;124m\"\u001B[39m\u001B[38;5;124mIPython won\u001B[39m\u001B[38;5;124m'\u001B[39m\u001B[38;5;124mt let you open fd=\u001B[39m\u001B[38;5;132;01m{\u001B[39;00mfile\u001B[38;5;132;01m}\u001B[39;00m\u001B[38;5;124m by default \u001B[39m\u001B[38;5;124m\"\u001B[39m\n\u001B[1;32m    320\u001B[0m         \u001B[38;5;124m\"\u001B[39m\u001B[38;5;124mas it is likely to crash IPython. If you know what you are doing, \u001B[39m\u001B[38;5;124m\"\u001B[39m\n\u001B[1;32m    321\u001B[0m         \u001B[38;5;124m\"\u001B[39m\u001B[38;5;124myou can use builtins\u001B[39m\u001B[38;5;124m'\u001B[39m\u001B[38;5;124m open.\u001B[39m\u001B[38;5;124m\"\u001B[39m\n\u001B[1;32m    322\u001B[0m     )\n\u001B[0;32m--> 324\u001B[0m \u001B[38;5;28;01mreturn\u001B[39;00m \u001B[43mio_open\u001B[49m\u001B[43m(\u001B[49m\u001B[43mfile\u001B[49m\u001B[43m,\u001B[49m\u001B[43m \u001B[49m\u001B[38;5;241;43m*\u001B[39;49m\u001B[43margs\u001B[49m\u001B[43m,\u001B[49m\u001B[43m \u001B[49m\u001B[38;5;241;43m*\u001B[39;49m\u001B[38;5;241;43m*\u001B[39;49m\u001B[43mkwargs\u001B[49m\u001B[43m)\u001B[49m\n",
      "\u001B[0;31mTypeError\u001B[0m: expected str, bytes or os.PathLike object, not tuple"
     ]
    }
   ],
   "execution_count": 27
  },
  {
   "metadata": {
    "ExecuteTime": {
     "end_time": "2024-07-25T08:02:33.120515Z",
     "start_time": "2024-07-25T08:02:33.117055Z"
    }
   },
   "cell_type": "code",
   "source": [
    "def brands(*files):\n",
    "    for f_name in files:\n",
    "        with open(f_name) as f:\n",
    "            yield from f"
   ],
   "id": "59aff4b4eb8d4a0b",
   "outputs": [],
   "execution_count": 31
  },
  {
   "metadata": {
    "ExecuteTime": {
     "end_time": "2024-07-25T08:02:33.435935Z",
     "start_time": "2024-07-25T08:02:33.430243Z"
    }
   },
   "cell_type": "code",
   "source": [
    "for brand in brands(file_1, file_2, file_3):\n",
    "    print(brand.strip())"
   ],
   "id": "da7f1a9e69c803a4",
   "outputs": [
    {
     "name": "stdout",
     "output_type": "stream",
     "text": [
      "Alfa Romeo\n",
      "Aston Martin\n",
      "Audi\n",
      "Bentley\n",
      "Benz\n",
      "BMW\n",
      "Bugatti\n",
      "Cadillac\n",
      "Chevrolet\n",
      "Chrysler\n",
      "Citroën\n",
      "Corvette\n",
      "DAF\n",
      "Dacia\n",
      "Daewoo\n",
      "Daihatsu\n",
      "Datsun\n",
      "De Lorean\n",
      "Dino\n",
      "Dodge\n",
      "Farboud\n",
      "Ferrari\n",
      "Fiat\n",
      "Ford\n",
      "Honda\n",
      "Hummer\n",
      "Hyundai\n",
      "Jaguar\n",
      "Jeep\n",
      "KIA\n",
      "Koenigsegg\n",
      "Lada\n",
      "Lamborghini\n",
      "Lancia\n",
      "Land Rover\n",
      "Lexus\n",
      "Ligier\n",
      "Lincoln\n",
      "Lotus\n",
      "Martini\n",
      "Maserati\n",
      "Maybach\n",
      "Mazda\n",
      "McLaren\n",
      "Mercedes-Benz\n",
      "Mini\n",
      "Mitsubishi\n",
      "Nissan\n",
      "Noble\n",
      "Opel\n",
      "Peugeot\n",
      "Pontiac\n",
      "Porsche\n",
      "Renault\n",
      "Rolls-Royce\n",
      "Saab\n",
      "Seat\n",
      "Škoda\n",
      "Smart\n",
      "Spyker\n",
      "Subaru\n",
      "Suzuki\n",
      "Toyota\n",
      "Vauxhall\n",
      "Volkswagen\n",
      "Volvo\n"
     ]
    }
   ],
   "execution_count": 32
  },
  {
   "metadata": {
    "ExecuteTime": {
     "end_time": "2024-07-25T08:05:35.935445Z",
     "start_time": "2024-07-25T08:05:35.930680Z"
    }
   },
   "cell_type": "code",
   "source": [
    "def gen_clean_data(file):\n",
    "    with open(file) as f:\n",
    "        for row in f:\n",
    "            yield row.strip()                "
   ],
   "id": "f8ec898fee440585",
   "outputs": [],
   "execution_count": 33
  },
  {
   "metadata": {
    "ExecuteTime": {
     "end_time": "2024-07-25T08:07:11.937930Z",
     "start_time": "2024-07-25T08:07:11.934949Z"
    }
   },
   "cell_type": "code",
   "source": [
    "def brands(*files):\n",
    "    for f_name in files:\n",
    "        for name in gen_clean_data(f_name):\n",
    "            yield name"
   ],
   "id": "e614d78e62a0a6ee",
   "outputs": [],
   "execution_count": 38
  },
  {
   "metadata": {
    "ExecuteTime": {
     "end_time": "2024-07-25T08:07:12.262236Z",
     "start_time": "2024-07-25T08:07:12.256640Z"
    }
   },
   "cell_type": "code",
   "source": [
    "for brand in brands(file_1, file_2, file_3):\n",
    "    print(brand)"
   ],
   "id": "e0bec9b4b1ef55f3",
   "outputs": [
    {
     "name": "stdout",
     "output_type": "stream",
     "text": [
      "Alfa Romeo\n",
      "Aston Martin\n",
      "Audi\n",
      "Bentley\n",
      "Benz\n",
      "BMW\n",
      "Bugatti\n",
      "Cadillac\n",
      "Chevrolet\n",
      "Chrysler\n",
      "Citroën\n",
      "Corvette\n",
      "DAF\n",
      "Dacia\n",
      "Daewoo\n",
      "Daihatsu\n",
      "Datsun\n",
      "De Lorean\n",
      "Dino\n",
      "Dodge\n",
      "Farboud\n",
      "Ferrari\n",
      "Fiat\n",
      "Ford\n",
      "Honda\n",
      "Hummer\n",
      "Hyundai\n",
      "Jaguar\n",
      "Jeep\n",
      "KIA\n",
      "Koenigsegg\n",
      "Lada\n",
      "Lamborghini\n",
      "Lancia\n",
      "Land Rover\n",
      "Lexus\n",
      "Ligier\n",
      "Lincoln\n",
      "Lotus\n",
      "Martini\n",
      "Maserati\n",
      "Maybach\n",
      "Mazda\n",
      "McLaren\n",
      "Mercedes-Benz\n",
      "Mini\n",
      "Mitsubishi\n",
      "Nissan\n",
      "Noble\n",
      "Opel\n",
      "Peugeot\n",
      "Pontiac\n",
      "Porsche\n",
      "Renault\n",
      "Rolls-Royce\n",
      "Saab\n",
      "Seat\n",
      "Škoda\n",
      "Smart\n",
      "Spyker\n",
      "Subaru\n",
      "Suzuki\n",
      "Toyota\n",
      "Vauxhall\n",
      "Volkswagen\n",
      "Volvo\n"
     ]
    }
   ],
   "execution_count": 39
  },
  {
   "metadata": {
    "ExecuteTime": {
     "end_time": "2024-07-25T08:08:51.828459Z",
     "start_time": "2024-07-25T08:08:51.825931Z"
    }
   },
   "cell_type": "code",
   "source": [
    "def brands(*files):\n",
    "    for f_name in files:\n",
    "        yield from gen_clean_data(f_name)"
   ],
   "id": "56ca56f5abd4a93a",
   "outputs": [],
   "execution_count": 40
  },
  {
   "metadata": {
    "ExecuteTime": {
     "end_time": "2024-07-25T08:08:54.701247Z",
     "start_time": "2024-07-25T08:08:54.696530Z"
    }
   },
   "cell_type": "code",
   "source": [
    "for brand in brands(file_1, file_2, file_3):\n",
    "    print(brand)"
   ],
   "id": "89000ba78619a2e6",
   "outputs": [
    {
     "name": "stdout",
     "output_type": "stream",
     "text": [
      "Alfa Romeo\n",
      "Aston Martin\n",
      "Audi\n",
      "Bentley\n",
      "Benz\n",
      "BMW\n",
      "Bugatti\n",
      "Cadillac\n",
      "Chevrolet\n",
      "Chrysler\n",
      "Citroën\n",
      "Corvette\n",
      "DAF\n",
      "Dacia\n",
      "Daewoo\n",
      "Daihatsu\n",
      "Datsun\n",
      "De Lorean\n",
      "Dino\n",
      "Dodge\n",
      "Farboud\n",
      "Ferrari\n",
      "Fiat\n",
      "Ford\n",
      "Honda\n",
      "Hummer\n",
      "Hyundai\n",
      "Jaguar\n",
      "Jeep\n",
      "KIA\n",
      "Koenigsegg\n",
      "Lada\n",
      "Lamborghini\n",
      "Lancia\n",
      "Land Rover\n",
      "Lexus\n",
      "Ligier\n",
      "Lincoln\n",
      "Lotus\n",
      "Martini\n",
      "Maserati\n",
      "Maybach\n",
      "Mazda\n",
      "McLaren\n",
      "Mercedes-Benz\n",
      "Mini\n",
      "Mitsubishi\n",
      "Nissan\n",
      "Noble\n",
      "Opel\n",
      "Peugeot\n",
      "Pontiac\n",
      "Porsche\n",
      "Renault\n",
      "Rolls-Royce\n",
      "Saab\n",
      "Seat\n",
      "Škoda\n",
      "Smart\n",
      "Spyker\n",
      "Subaru\n",
      "Suzuki\n",
      "Toyota\n",
      "Vauxhall\n",
      "Volkswagen\n",
      "Volvo\n"
     ]
    }
   ],
   "execution_count": 41
  },
  {
   "metadata": {},
   "cell_type": "code",
   "outputs": [],
   "execution_count": null,
   "source": "",
   "id": "238aae5597600147"
  }
 ],
 "metadata": {
  "kernelspec": {
   "display_name": "Python 3",
   "language": "python",
   "name": "python3"
  },
  "language_info": {
   "codemirror_mode": {
    "name": "ipython",
    "version": 2
   },
   "file_extension": ".py",
   "mimetype": "text/x-python",
   "name": "python",
   "nbconvert_exporter": "python",
   "pygments_lexer": "ipython2",
   "version": "2.7.6"
  }
 },
 "nbformat": 4,
 "nbformat_minor": 5
}
