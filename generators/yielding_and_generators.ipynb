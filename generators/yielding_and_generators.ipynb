{
 "cells": [
  {
   "cell_type": "code",
   "id": "initial_id",
   "metadata": {
    "collapsed": true,
    "ExecuteTime": {
     "end_time": "2024-07-11T09:26:38.447210Z",
     "start_time": "2024-07-11T09:26:38.440770Z"
    }
   },
   "source": "import math",
   "outputs": [],
   "execution_count": 2
  },
  {
   "metadata": {
    "ExecuteTime": {
     "end_time": "2024-07-11T09:28:43.447061Z",
     "start_time": "2024-07-11T09:28:43.440512Z"
    }
   },
   "cell_type": "code",
   "source": [
    "class FactIter:\n",
    "    def __init__(self, n):\n",
    "        self.n = n\n",
    "        self.i = 0\n",
    "        \n",
    "    def __iter__(self):\n",
    "        return self\n",
    "    \n",
    "    def __next__(self):\n",
    "        if self.i >= self.n:\n",
    "            raise StopIteration\n",
    "        res = math.factorial(self.i)\n",
    "        self.i += 1\n",
    "        return res"
   ],
   "id": "360edd1a7df5f693",
   "outputs": [],
   "execution_count": 3
  },
  {
   "metadata": {
    "ExecuteTime": {
     "end_time": "2024-07-11T09:30:16.765450Z",
     "start_time": "2024-07-11T09:30:16.760839Z"
    }
   },
   "cell_type": "code",
   "source": [
    "fact_iter = FactIter(6)\n",
    "list(fact_iter), list(fact_iter)  # 2nd is exhausted"
   ],
   "id": "bba988ff96450d9d",
   "outputs": [
    {
     "data": {
      "text/plain": [
       "([1, 1, 2, 6, 24, 120], [])"
      ]
     },
     "execution_count": 8,
     "metadata": {},
     "output_type": "execute_result"
    }
   ],
   "execution_count": 8
  },
  {
   "metadata": {
    "ExecuteTime": {
     "end_time": "2024-07-11T09:31:46.761371Z",
     "start_time": "2024-07-11T09:31:46.756814Z"
    }
   },
   "cell_type": "code",
   "source": [
    "class FactIterSentinel:\n",
    "    def __init__(self, n):\n",
    "        self.n = n\n",
    "        self.i = 0\n",
    "        \n",
    "    def __iter__(self):\n",
    "        return self\n",
    "    \n",
    "    def __next__(self):\n",
    "        if self.i >= self.n:\n",
    "            raise StopIteration\n",
    "        res = math.factorial(self.i)\n",
    "        self.i += 1\n",
    "        return res"
   ],
   "id": "e246503f83bcd6cf",
   "outputs": [],
   "execution_count": 11
  },
  {
   "metadata": {
    "ExecuteTime": {
     "end_time": "2024-07-11T09:31:49.443262Z",
     "start_time": "2024-07-11T09:31:47.173334Z"
    }
   },
   "cell_type": "code",
   "source": [
    "fact_iter = FactIterSentinel()\n",
    "list(fact_iter), list(fact_iter)  # 2nd is exhausted"
   ],
   "id": "cb4495a952f4e8f4",
   "outputs": [
    {
     "ename": "KeyboardInterrupt",
     "evalue": "",
     "output_type": "error",
     "traceback": [
      "\u001B[0;31m---------------------------------------------------------------------------\u001B[0m",
      "\u001B[0;31mKeyboardInterrupt\u001B[0m                         Traceback (most recent call last)",
      "Cell \u001B[0;32mIn[12], line 2\u001B[0m\n\u001B[1;32m      1\u001B[0m fact_iter \u001B[38;5;241m=\u001B[39m FactIterSentinel()\n\u001B[0;32m----> 2\u001B[0m \u001B[38;5;28;43mlist\u001B[39;49m\u001B[43m(\u001B[49m\u001B[43mfact_iter\u001B[49m\u001B[43m)\u001B[49m, \u001B[38;5;28mlist\u001B[39m(fact_iter)  \u001B[38;5;66;03m# 2nd is exhausted\u001B[39;00m\n",
      "Cell \u001B[0;32mIn[11], line 9\u001B[0m, in \u001B[0;36mFactIterSentinel.__next__\u001B[0;34m(self)\u001B[0m\n\u001B[1;32m      8\u001B[0m \u001B[38;5;28;01mdef\u001B[39;00m \u001B[38;5;21m__next__\u001B[39m(\u001B[38;5;28mself\u001B[39m):\n\u001B[0;32m----> 9\u001B[0m     res \u001B[38;5;241m=\u001B[39m \u001B[43mmath\u001B[49m\u001B[38;5;241;43m.\u001B[39;49m\u001B[43mfactorial\u001B[49m\u001B[43m(\u001B[49m\u001B[38;5;28;43mself\u001B[39;49m\u001B[38;5;241;43m.\u001B[39;49m\u001B[43mi\u001B[49m\u001B[43m)\u001B[49m\n\u001B[1;32m     10\u001B[0m     \u001B[38;5;28mself\u001B[39m\u001B[38;5;241m.\u001B[39mi \u001B[38;5;241m+\u001B[39m\u001B[38;5;241m=\u001B[39m \u001B[38;5;241m1\u001B[39m\n\u001B[1;32m     11\u001B[0m     \u001B[38;5;28;01mreturn\u001B[39;00m res\n",
      "\u001B[0;31mKeyboardInterrupt\u001B[0m: "
     ]
    }
   ],
   "execution_count": 12
  },
  {
   "metadata": {
    "ExecuteTime": {
     "end_time": "2024-07-11T09:49:20.163066Z",
     "start_time": "2024-07-11T09:49:20.158767Z"
    }
   },
   "cell_type": "code",
   "source": [
    "import math\n",
    "\n",
    "def fact():\n",
    "    i = 0\n",
    "    def inner():\n",
    "        nonlocal i\n",
    "        res = math.factorial(i)\n",
    "        i += 1\n",
    "        return res\n",
    "    return inner"
   ],
   "id": "a8b0b2d56680b2ad",
   "outputs": [],
   "execution_count": 51
  }
 ],
 "metadata": {
  "kernelspec": {
   "display_name": "Python 3",
   "language": "python",
   "name": "python3"
  },
  "language_info": {
   "codemirror_mode": {
    "name": "ipython",
    "version": 2
   },
   "file_extension": ".py",
   "mimetype": "text/x-python",
   "name": "python",
   "nbconvert_exporter": "python",
   "pygments_lexer": "ipython2",
   "version": "2.7.6"
  }
 },
 "nbformat": 4,
 "nbformat_minor": 5
}
