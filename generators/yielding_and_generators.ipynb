{
 "cells": [
  {
   "cell_type": "code",
   "id": "initial_id",
   "metadata": {
    "collapsed": true,
    "ExecuteTime": {
     "end_time": "2024-07-11T09:26:38.447210Z",
     "start_time": "2024-07-11T09:26:38.440770Z"
    }
   },
   "source": "import math",
   "outputs": [],
   "execution_count": 2
  },
  {
   "metadata": {
    "ExecuteTime": {
     "end_time": "2024-07-11T09:28:43.447061Z",
     "start_time": "2024-07-11T09:28:43.440512Z"
    }
   },
   "cell_type": "code",
   "source": [
    "class FactIter:\n",
    "    def __init__(self, n):\n",
    "        self.n = n\n",
    "        self.i = 0\n",
    "        \n",
    "    def __iter__(self):\n",
    "        return self\n",
    "    \n",
    "    def __next__(self):\n",
    "        if self.i >= self.n:\n",
    "            raise StopIteration\n",
    "        res = math.factorial(self.i)\n",
    "        self.i += 1\n",
    "        return res"
   ],
   "id": "360edd1a7df5f693",
   "outputs": [],
   "execution_count": 3
  },
  {
   "metadata": {
    "ExecuteTime": {
     "end_time": "2024-07-11T09:30:16.765450Z",
     "start_time": "2024-07-11T09:30:16.760839Z"
    }
   },
   "cell_type": "code",
   "source": [
    "fact_iter = FactIter(6)\n",
    "list(fact_iter), list(fact_iter)  # 2nd is exhausted"
   ],
   "id": "bba988ff96450d9d",
   "outputs": [
    {
     "data": {
      "text/plain": [
       "([1, 1, 2, 6, 24, 120], [])"
      ]
     },
     "execution_count": 8,
     "metadata": {},
     "output_type": "execute_result"
    }
   ],
   "execution_count": 8
  },
  {
   "metadata": {
    "ExecuteTime": {
     "end_time": "2024-07-11T09:31:46.761371Z",
     "start_time": "2024-07-11T09:31:46.756814Z"
    }
   },
   "cell_type": "code",
   "source": [
    "class FactIterSentinel:\n",
    "    def __init__(self, n):\n",
    "        self.n = n\n",
    "        self.i = 0\n",
    "        \n",
    "    def __iter__(self):\n",
    "        return self\n",
    "    \n",
    "    def __next__(self):\n",
    "        if self.i >= self.n:\n",
    "            raise StopIteration\n",
    "        res = math.factorial(self.i)\n",
    "        self.i += 1\n",
    "        return res"
   ],
   "id": "e246503f83bcd6cf",
   "outputs": [],
   "execution_count": 11
  },
  {
   "metadata": {
    "ExecuteTime": {
     "end_time": "2024-07-11T09:31:49.443262Z",
     "start_time": "2024-07-11T09:31:47.173334Z"
    }
   },
   "cell_type": "code",
   "source": [
    "fact_iter = FactIterSentinel(5)\n",
    "list(fact_iter), list(fact_iter)  # 2nd is exhausted"
   ],
   "id": "cb4495a952f4e8f4",
   "outputs": [
    {
     "ename": "KeyboardInterrupt",
     "evalue": "",
     "output_type": "error",
     "traceback": [
      "\u001B[0;31m---------------------------------------------------------------------------\u001B[0m",
      "\u001B[0;31mKeyboardInterrupt\u001B[0m                         Traceback (most recent call last)",
      "Cell \u001B[0;32mIn[12], line 2\u001B[0m\n\u001B[1;32m      1\u001B[0m fact_iter \u001B[38;5;241m=\u001B[39m FactIterSentinel()\n\u001B[0;32m----> 2\u001B[0m \u001B[38;5;28;43mlist\u001B[39;49m\u001B[43m(\u001B[49m\u001B[43mfact_iter\u001B[49m\u001B[43m)\u001B[49m, \u001B[38;5;28mlist\u001B[39m(fact_iter)  \u001B[38;5;66;03m# 2nd is exhausted\u001B[39;00m\n",
      "Cell \u001B[0;32mIn[11], line 9\u001B[0m, in \u001B[0;36mFactIterSentinel.__next__\u001B[0;34m(self)\u001B[0m\n\u001B[1;32m      8\u001B[0m \u001B[38;5;28;01mdef\u001B[39;00m \u001B[38;5;21m__next__\u001B[39m(\u001B[38;5;28mself\u001B[39m):\n\u001B[0;32m----> 9\u001B[0m     res \u001B[38;5;241m=\u001B[39m \u001B[43mmath\u001B[49m\u001B[38;5;241;43m.\u001B[39;49m\u001B[43mfactorial\u001B[49m\u001B[43m(\u001B[49m\u001B[38;5;28;43mself\u001B[39;49m\u001B[38;5;241;43m.\u001B[39;49m\u001B[43mi\u001B[49m\u001B[43m)\u001B[49m\n\u001B[1;32m     10\u001B[0m     \u001B[38;5;28mself\u001B[39m\u001B[38;5;241m.\u001B[39mi \u001B[38;5;241m+\u001B[39m\u001B[38;5;241m=\u001B[39m \u001B[38;5;241m1\u001B[39m\n\u001B[1;32m     11\u001B[0m     \u001B[38;5;28;01mreturn\u001B[39;00m res\n",
      "\u001B[0;31mKeyboardInterrupt\u001B[0m: "
     ]
    }
   ],
   "execution_count": 12
  },
  {
   "metadata": {
    "ExecuteTime": {
     "end_time": "2024-07-11T11:50:24.863266Z",
     "start_time": "2024-07-11T11:50:24.857533Z"
    }
   },
   "cell_type": "code",
   "source": [
    "import math\n",
    "\n",
    "def fact():\n",
    "    i = 0\n",
    "    def inner():\n",
    "        nonlocal i\n",
    "        res = math.factorial(i)\n",
    "        i += 1\n",
    "        return res\n",
    "    return inner"
   ],
   "id": "a8b0b2d56680b2ad",
   "outputs": [],
   "execution_count": 8
  },
  {
   "metadata": {
    "ExecuteTime": {
     "end_time": "2024-07-11T11:50:25.132096Z",
     "start_time": "2024-07-11T11:50:25.128362Z"
    }
   },
   "cell_type": "code",
   "source": "f = fact()",
   "id": "b4b40c2695c009ae",
   "outputs": [],
   "execution_count": 9
  },
  {
   "metadata": {
    "ExecuteTime": {
     "end_time": "2024-07-11T11:50:26.206446Z",
     "start_time": "2024-07-11T11:50:26.200456Z"
    }
   },
   "cell_type": "code",
   "source": "f",
   "id": "be7dd39bc5177982",
   "outputs": [
    {
     "data": {
      "text/plain": [
       "<function __main__.fact.<locals>.inner()>"
      ]
     },
     "execution_count": 10,
     "metadata": {},
     "output_type": "execute_result"
    }
   ],
   "execution_count": 10
  },
  {
   "metadata": {
    "ExecuteTime": {
     "end_time": "2024-07-11T11:50:34.417752Z",
     "start_time": "2024-07-11T11:50:34.413208Z"
    }
   },
   "cell_type": "code",
   "source": "f(), f(), f(), f(), f()",
   "id": "e35d21d0b41b1dde",
   "outputs": [
    {
     "data": {
      "text/plain": [
       "(1, 1, 2, 6, 24)"
      ]
     },
     "execution_count": 11,
     "metadata": {},
     "output_type": "execute_result"
    }
   ],
   "execution_count": 11
  },
  {
   "metadata": {
    "ExecuteTime": {
     "end_time": "2024-07-11T11:53:06.597294Z",
     "start_time": "2024-07-11T11:53:06.592937Z"
    }
   },
   "cell_type": "code",
   "source": "fact_iter = iter(fact(), math.factorial(5))",
   "id": "bc58fe1ac3d466a",
   "outputs": [],
   "execution_count": 18
  },
  {
   "metadata": {
    "ExecuteTime": {
     "end_time": "2024-07-11T11:53:07.021773Z",
     "start_time": "2024-07-11T11:53:06.802723Z"
    }
   },
   "cell_type": "code",
   "source": "list(fact_iter), list(fact_iter)",
   "id": "b0d79550e0130bb2",
   "outputs": [
    {
     "data": {
      "text/plain": [
       "([1, 1, 2, 6, 24], [])"
      ]
     },
     "execution_count": 19,
     "metadata": {},
     "output_type": "execute_result"
    }
   ],
   "execution_count": 19
  },
  {
   "metadata": {
    "ExecuteTime": {
     "end_time": "2024-07-11T11:54:12.233615Z",
     "start_time": "2024-07-11T11:54:12.230050Z"
    }
   },
   "cell_type": "code",
   "source": [
    "def my_func():\n",
    "    print('line 1')\n",
    "    yield 'Flying'\n",
    "    print('line 2')\n",
    "    yield 'Circus'"
   ],
   "id": "2ae863503bfedf7b",
   "outputs": [],
   "execution_count": 20
  },
  {
   "metadata": {
    "ExecuteTime": {
     "end_time": "2024-07-11T11:54:31.851833Z",
     "start_time": "2024-07-11T11:54:31.845628Z"
    }
   },
   "cell_type": "code",
   "source": "type(my_func), type(my_func())",
   "id": "52bfa1f35fe3c1e4",
   "outputs": [
    {
     "data": {
      "text/plain": [
       "(function, generator)"
      ]
     },
     "execution_count": 23,
     "metadata": {},
     "output_type": "execute_result"
    }
   ],
   "execution_count": 23
  },
  {
   "metadata": {
    "ExecuteTime": {
     "end_time": "2024-07-11T11:58:46.537571Z",
     "start_time": "2024-07-11T11:58:46.532691Z"
    }
   },
   "cell_type": "code",
   "source": "'__iter__' in dir(my_func())  # Generators are Iterators",
   "id": "d0622c48a5569816",
   "outputs": [
    {
     "data": {
      "text/plain": [
       "True"
      ]
     },
     "execution_count": 24,
     "metadata": {},
     "output_type": "execute_result"
    }
   ],
   "execution_count": 24
  },
  {
   "metadata": {
    "ExecuteTime": {
     "end_time": "2024-07-11T11:59:16.524599Z",
     "start_time": "2024-07-11T11:59:16.520188Z"
    }
   },
   "cell_type": "code",
   "source": "'__next__' in dir(my_func())  ",
   "id": "97e0239ae88c3313",
   "outputs": [
    {
     "data": {
      "text/plain": [
       "True"
      ]
     },
     "execution_count": 25,
     "metadata": {},
     "output_type": "execute_result"
    }
   ],
   "execution_count": 25
  },
  {
   "metadata": {
    "ExecuteTime": {
     "end_time": "2024-07-11T12:00:00.897658Z",
     "start_time": "2024-07-11T12:00:00.893050Z"
    }
   },
   "cell_type": "code",
   "source": [
    "gen = my_func()\n",
    "iter(gen) is gen"
   ],
   "id": "7cfd0b36e7c2f644",
   "outputs": [
    {
     "data": {
      "text/plain": [
       "True"
      ]
     },
     "execution_count": 29,
     "metadata": {},
     "output_type": "execute_result"
    }
   ],
   "execution_count": 29
  },
  {
   "metadata": {
    "ExecuteTime": {
     "end_time": "2024-07-11T12:00:10.424724Z",
     "start_time": "2024-07-11T12:00:10.418262Z"
    }
   },
   "cell_type": "code",
   "source": "list(gen), list(gen)",
   "id": "1b963ac693f817d5",
   "outputs": [
    {
     "name": "stdout",
     "output_type": "stream",
     "text": [
      "line 1\n",
      "line 2\n"
     ]
    },
    {
     "data": {
      "text/plain": [
       "(['Flying', 'Circus'], [])"
      ]
     },
     "execution_count": 30,
     "metadata": {},
     "output_type": "execute_result"
    }
   ],
   "execution_count": 30
  },
  {
   "metadata": {
    "ExecuteTime": {
     "end_time": "2024-07-11T12:04:07.084327Z",
     "start_time": "2024-07-11T12:04:07.080841Z"
    }
   },
   "cell_type": "code",
   "source": [
    "def silly():\n",
    "    yield 'the'\n",
    "    yield 'ministry'\n",
    "    yield 'of'\n",
    "    yield 'silly'\n",
    "    yield 'walks'\n",
    "    return 'Mario'"
   ],
   "id": "a96f9fbcc450af29",
   "outputs": [],
   "execution_count": 33
  },
  {
   "metadata": {
    "ExecuteTime": {
     "end_time": "2024-07-11T12:04:07.459296Z",
     "start_time": "2024-07-11T12:04:07.455311Z"
    }
   },
   "cell_type": "code",
   "source": [
    "for value in silly():\n",
    "    print(value)"
   ],
   "id": "6b8911e7ab861728",
   "outputs": [
    {
     "name": "stdout",
     "output_type": "stream",
     "text": [
      "the\n",
      "ministry\n",
      "of\n",
      "silly\n",
      "walks\n"
     ]
    }
   ],
   "execution_count": 34
  },
  {
   "metadata": {
    "ExecuteTime": {
     "end_time": "2024-07-11T12:04:59.390660Z",
     "start_time": "2024-07-11T12:04:59.386585Z"
    }
   },
   "cell_type": "code",
   "source": [
    "def silly():\n",
    "    yield 'the'\n",
    "    yield 'ministry'\n",
    "    yield 'of'\n",
    "    yield 'silly'\n",
    "    if True:\n",
    "        return 'Sorry, all done!'\n",
    "    yield 'walks'"
   ],
   "id": "d7875e3c0d3c0786",
   "outputs": [],
   "execution_count": 37
  },
  {
   "metadata": {
    "ExecuteTime": {
     "end_time": "2024-07-11T12:04:59.736567Z",
     "start_time": "2024-07-11T12:04:59.732465Z"
    }
   },
   "cell_type": "code",
   "source": [
    "for value in silly():\n",
    "    print(value)"
   ],
   "id": "46ccb82b8cc0b155",
   "outputs": [
    {
     "name": "stdout",
     "output_type": "stream",
     "text": [
      "the\n",
      "ministry\n",
      "of\n",
      "silly\n"
     ]
    }
   ],
   "execution_count": 38
  },
  {
   "metadata": {
    "ExecuteTime": {
     "end_time": "2024-07-11T12:07:06.029849Z",
     "start_time": "2024-07-11T12:07:06.026477Z"
    }
   },
   "cell_type": "code",
   "source": [
    "def super_mario_64():\n",
    "    yield 'Super'\n",
    "    if True:\n",
    "        return 'Sorry, all done!'\n",
    "    yield 'Mario'"
   ],
   "id": "149543d884a56728",
   "outputs": [],
   "execution_count": 39
  },
  {
   "metadata": {
    "ExecuteTime": {
     "end_time": "2024-07-11T12:07:29.821038Z",
     "start_time": "2024-07-11T12:07:29.816271Z"
    }
   },
   "cell_type": "code",
   "source": [
    "mario = super_mario_64()\n",
    "next(mario)"
   ],
   "id": "ae4b19c6169007fc",
   "outputs": [
    {
     "data": {
      "text/plain": [
       "'Super'"
      ]
     },
     "execution_count": 40,
     "metadata": {},
     "output_type": "execute_result"
    }
   ],
   "execution_count": 40
  },
  {
   "metadata": {
    "ExecuteTime": {
     "end_time": "2024-07-11T12:07:33.360120Z",
     "start_time": "2024-07-11T12:07:33.340354Z"
    }
   },
   "cell_type": "code",
   "source": "next(mario)",
   "id": "f6085a8f8d9346f9",
   "outputs": [
    {
     "ename": "StopIteration",
     "evalue": "Sorry, all done!",
     "output_type": "error",
     "traceback": [
      "\u001B[0;31m---------------------------------------------------------------------------\u001B[0m",
      "\u001B[0;31mStopIteration\u001B[0m                             Traceback (most recent call last)",
      "Cell \u001B[0;32mIn[41], line 1\u001B[0m\n\u001B[0;32m----> 1\u001B[0m \u001B[38;5;28;43mnext\u001B[39;49m\u001B[43m(\u001B[49m\u001B[43mmario\u001B[49m\u001B[43m)\u001B[49m\n",
      "\u001B[0;31mStopIteration\u001B[0m: Sorry, all done!"
     ]
    }
   ],
   "execution_count": 41
  },
  {
   "metadata": {
    "ExecuteTime": {
     "end_time": "2024-07-11T12:07:51.122118Z",
     "start_time": "2024-07-11T12:07:51.098005Z"
    }
   },
   "cell_type": "code",
   "source": "next(mario)",
   "id": "4975b4f37997d151",
   "outputs": [
    {
     "ename": "StopIteration",
     "evalue": "",
     "output_type": "error",
     "traceback": [
      "\u001B[0;31m---------------------------------------------------------------------------\u001B[0m",
      "\u001B[0;31mStopIteration\u001B[0m                             Traceback (most recent call last)",
      "Cell \u001B[0;32mIn[43], line 1\u001B[0m\n\u001B[0;32m----> 1\u001B[0m \u001B[38;5;28;43mnext\u001B[39;49m\u001B[43m(\u001B[49m\u001B[43mmario\u001B[49m\u001B[43m)\u001B[49m\n",
      "\u001B[0;31mStopIteration\u001B[0m: "
     ]
    }
   ],
   "execution_count": 43
  },
  {
   "metadata": {
    "ExecuteTime": {
     "end_time": "2024-07-11T12:08:45.384771Z",
     "start_time": "2024-07-11T12:08:45.381163Z"
    }
   },
   "cell_type": "code",
   "source": [
    "def fact(n):\n",
    "    for i in range(n):\n",
    "        print(math.factorial(i))"
   ],
   "id": "6ad765198389e9b8",
   "outputs": [],
   "execution_count": 44
  },
  {
   "metadata": {
    "ExecuteTime": {
     "end_time": "2024-07-11T12:08:49.868497Z",
     "start_time": "2024-07-11T12:08:49.864077Z"
    }
   },
   "cell_type": "code",
   "source": "fact(5)",
   "id": "34abd182c1c9965",
   "outputs": [
    {
     "name": "stdout",
     "output_type": "stream",
     "text": [
      "1\n",
      "1\n",
      "2\n",
      "6\n",
      "24\n"
     ]
    }
   ],
   "execution_count": 46
  },
  {
   "metadata": {
    "ExecuteTime": {
     "end_time": "2024-07-11T12:09:10.566916Z",
     "start_time": "2024-07-11T12:09:10.563066Z"
    }
   },
   "cell_type": "code",
   "source": [
    "def fact(n):\n",
    "    for i in range(n):\n",
    "        yield math.factorial(i)"
   ],
   "id": "87bb03cb52f3cb87",
   "outputs": [],
   "execution_count": 48
  },
  {
   "metadata": {
    "ExecuteTime": {
     "end_time": "2024-07-11T12:09:24.056186Z",
     "start_time": "2024-07-11T12:09:24.051132Z"
    }
   },
   "cell_type": "code",
   "source": "fact",
   "id": "451ba6d9f924aede",
   "outputs": [
    {
     "data": {
      "text/plain": [
       "<function __main__.fact(n)>"
      ]
     },
     "execution_count": 51,
     "metadata": {},
     "output_type": "execute_result"
    }
   ],
   "execution_count": 51
  },
  {
   "metadata": {
    "ExecuteTime": {
     "end_time": "2024-07-11T12:10:22.409006Z",
     "start_time": "2024-07-11T12:10:22.404207Z"
    }
   },
   "cell_type": "code",
   "source": "gen = fact(5)",
   "id": "82953a1c35ac6df",
   "outputs": [],
   "execution_count": 56
  },
  {
   "metadata": {
    "ExecuteTime": {
     "end_time": "2024-07-11T12:10:22.571677Z",
     "start_time": "2024-07-11T12:10:22.568118Z"
    }
   },
   "cell_type": "code",
   "source": "gen",
   "id": "e1159989ba23bba6",
   "outputs": [
    {
     "data": {
      "text/plain": [
       "<generator object fact at 0x7f3b1ebdf1d0>"
      ]
     },
     "execution_count": 57,
     "metadata": {},
     "output_type": "execute_result"
    }
   ],
   "execution_count": 57
  },
  {
   "metadata": {
    "ExecuteTime": {
     "end_time": "2024-07-11T12:10:22.668018Z",
     "start_time": "2024-07-11T12:10:22.664731Z"
    }
   },
   "cell_type": "code",
   "source": "next(gen), next(gen)",
   "id": "93585bb285340efd",
   "outputs": [
    {
     "data": {
      "text/plain": [
       "(1, 1)"
      ]
     },
     "execution_count": 58,
     "metadata": {},
     "output_type": "execute_result"
    }
   ],
   "execution_count": 58
  },
  {
   "metadata": {
    "ExecuteTime": {
     "end_time": "2024-07-11T12:10:22.861032Z",
     "start_time": "2024-07-11T12:10:22.858035Z"
    }
   },
   "cell_type": "code",
   "source": [
    "for num in gen:\n",
    "    print(num)"
   ],
   "id": "1ecd216c5dd2d910",
   "outputs": [
    {
     "name": "stdout",
     "output_type": "stream",
     "text": [
      "2\n",
      "6\n",
      "24\n"
     ]
    }
   ],
   "execution_count": 59
  },
  {
   "metadata": {
    "ExecuteTime": {
     "end_time": "2024-07-11T12:10:25.737858Z",
     "start_time": "2024-07-11T12:10:25.733252Z"
    }
   },
   "cell_type": "code",
   "source": "list(gen)",
   "id": "5a3ac939c6d3a135",
   "outputs": [
    {
     "data": {
      "text/plain": [
       "[]"
      ]
     },
     "execution_count": 60,
     "metadata": {},
     "output_type": "execute_result"
    }
   ],
   "execution_count": 60
  },
  {
   "metadata": {
    "ExecuteTime": {
     "end_time": "2024-07-11T12:10:30.814831Z",
     "start_time": "2024-07-11T12:10:30.793566Z"
    }
   },
   "cell_type": "code",
   "source": "next(gen)",
   "id": "437452033a8ecc93",
   "outputs": [
    {
     "ename": "StopIteration",
     "evalue": "",
     "output_type": "error",
     "traceback": [
      "\u001B[0;31m---------------------------------------------------------------------------\u001B[0m",
      "\u001B[0;31mStopIteration\u001B[0m                             Traceback (most recent call last)",
      "Cell \u001B[0;32mIn[61], line 1\u001B[0m\n\u001B[0;32m----> 1\u001B[0m \u001B[38;5;28;43mnext\u001B[39;49m\u001B[43m(\u001B[49m\u001B[43mgen\u001B[49m\u001B[43m)\u001B[49m\n",
      "\u001B[0;31mStopIteration\u001B[0m: "
     ]
    }
   ],
   "execution_count": 61
  },
  {
   "metadata": {
    "ExecuteTime": {
     "end_time": "2024-07-11T12:11:14.657030Z",
     "start_time": "2024-07-11T12:11:14.653111Z"
    }
   },
   "cell_type": "code",
   "source": [
    "def squares(n):\n",
    "    for i in range(n):\n",
    "        yield i ** 2"
   ],
   "id": "e2ea839b16ddde18",
   "outputs": [],
   "execution_count": 62
  },
  {
   "metadata": {
    "ExecuteTime": {
     "end_time": "2024-07-11T12:11:22.079243Z",
     "start_time": "2024-07-11T12:11:22.074406Z"
    }
   },
   "cell_type": "code",
   "source": "list(squares(5))",
   "id": "76b8f3a4b7ddf039",
   "outputs": [
    {
     "data": {
      "text/plain": [
       "[0, 1, 4, 9, 16]"
      ]
     },
     "execution_count": 63,
     "metadata": {},
     "output_type": "execute_result"
    }
   ],
   "execution_count": 63
  },
  {
   "metadata": {},
   "cell_type": "code",
   "outputs": [],
   "execution_count": null,
   "source": "",
   "id": "6166279629ebdb2b"
  }
 ],
 "metadata": {
  "kernelspec": {
   "display_name": "Python 3",
   "language": "python",
   "name": "python3"
  },
  "language_info": {
   "codemirror_mode": {
    "name": "ipython",
    "version": 2
   },
   "file_extension": ".py",
   "mimetype": "text/x-python",
   "name": "python",
   "nbconvert_exporter": "python",
   "pygments_lexer": "ipython2",
   "version": "2.7.6"
  }
 },
 "nbformat": 4,
 "nbformat_minor": 5
}
