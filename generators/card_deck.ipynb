{
 "cells": [
  {
   "cell_type": "code",
   "id": "initial_id",
   "metadata": {
    "collapsed": true,
    "ExecuteTime": {
     "end_time": "2024-07-11T15:39:18.212829Z",
     "start_time": "2024-07-11T15:39:18.209519Z"
    }
   },
   "source": "from collections import namedtuple",
   "outputs": [],
   "execution_count": 1
  },
  {
   "metadata": {
    "ExecuteTime": {
     "end_time": "2024-07-11T15:46:25.290496Z",
     "start_time": "2024-07-11T15:46:25.286428Z"
    }
   },
   "cell_type": "code",
   "source": [
    "Card = namedtuple('Card', 'rank suit')\n",
    "SUITS = 'Spades', 'Hearts', 'Diamonds', 'Clubs'\n",
    "RANKS = tuple(range(2, 11)) + tuple('JQKA')"
   ],
   "id": "6e2c910ae157bc05",
   "outputs": [],
   "execution_count": 21
  },
  {
   "metadata": {
    "ExecuteTime": {
     "end_time": "2024-07-11T15:51:30.774618Z",
     "start_time": "2024-07-11T15:51:30.770646Z"
    }
   },
   "cell_type": "code",
   "source": [
    "from itertools import product\n",
    "def deck_gen():\n",
    "    for rank, suit in product(range(13), range(4)):\n",
    "        yield Card(RANKS[rank], SUITS[suit])"
   ],
   "id": "e1086bf5f8e8f5a2",
   "outputs": [],
   "execution_count": 30
  },
  {
   "metadata": {
    "ExecuteTime": {
     "end_time": "2024-07-11T15:51:31.570373Z",
     "start_time": "2024-07-11T15:51:31.563130Z"
    }
   },
   "cell_type": "code",
   "source": "list(deck_gen())",
   "id": "f7629b9c38d3f4cf",
   "outputs": [
    {
     "data": {
      "text/plain": [
       "[Card(rank=2, suit='Spades'),\n",
       " Card(rank=2, suit='Hearts'),\n",
       " Card(rank=2, suit='Diamonds'),\n",
       " Card(rank=2, suit='Clubs'),\n",
       " Card(rank=3, suit='Spades'),\n",
       " Card(rank=3, suit='Hearts'),\n",
       " Card(rank=3, suit='Diamonds'),\n",
       " Card(rank=3, suit='Clubs'),\n",
       " Card(rank=4, suit='Spades'),\n",
       " Card(rank=4, suit='Hearts'),\n",
       " Card(rank=4, suit='Diamonds'),\n",
       " Card(rank=4, suit='Clubs'),\n",
       " Card(rank=5, suit='Spades'),\n",
       " Card(rank=5, suit='Hearts'),\n",
       " Card(rank=5, suit='Diamonds'),\n",
       " Card(rank=5, suit='Clubs'),\n",
       " Card(rank=6, suit='Spades'),\n",
       " Card(rank=6, suit='Hearts'),\n",
       " Card(rank=6, suit='Diamonds'),\n",
       " Card(rank=6, suit='Clubs'),\n",
       " Card(rank=7, suit='Spades'),\n",
       " Card(rank=7, suit='Hearts'),\n",
       " Card(rank=7, suit='Diamonds'),\n",
       " Card(rank=7, suit='Clubs'),\n",
       " Card(rank=8, suit='Spades'),\n",
       " Card(rank=8, suit='Hearts'),\n",
       " Card(rank=8, suit='Diamonds'),\n",
       " Card(rank=8, suit='Clubs'),\n",
       " Card(rank=9, suit='Spades'),\n",
       " Card(rank=9, suit='Hearts'),\n",
       " Card(rank=9, suit='Diamonds'),\n",
       " Card(rank=9, suit='Clubs'),\n",
       " Card(rank=10, suit='Spades'),\n",
       " Card(rank=10, suit='Hearts'),\n",
       " Card(rank=10, suit='Diamonds'),\n",
       " Card(rank=10, suit='Clubs'),\n",
       " Card(rank='J', suit='Spades'),\n",
       " Card(rank='J', suit='Hearts'),\n",
       " Card(rank='J', suit='Diamonds'),\n",
       " Card(rank='J', suit='Clubs'),\n",
       " Card(rank='Q', suit='Spades'),\n",
       " Card(rank='Q', suit='Hearts'),\n",
       " Card(rank='Q', suit='Diamonds'),\n",
       " Card(rank='Q', suit='Clubs'),\n",
       " Card(rank='K', suit='Spades'),\n",
       " Card(rank='K', suit='Hearts'),\n",
       " Card(rank='K', suit='Diamonds'),\n",
       " Card(rank='K', suit='Clubs'),\n",
       " Card(rank='A', suit='Spades'),\n",
       " Card(rank='A', suit='Hearts'),\n",
       " Card(rank='A', suit='Diamonds'),\n",
       " Card(rank='A', suit='Clubs')]"
      ]
     },
     "execution_count": 31,
     "metadata": {},
     "output_type": "execute_result"
    }
   ],
   "execution_count": 31
  },
  {
   "metadata": {
    "ExecuteTime": {
     "end_time": "2024-07-11T16:05:37.275243Z",
     "start_time": "2024-07-11T16:05:37.269549Z"
    }
   },
   "cell_type": "code",
   "source": [
    "class CardDeck:\n",
    "    Card = namedtuple('Card', 'rank suit')\n",
    "    SUITS = 'Spades', 'Hearts', 'Diamonds', 'Clubs'\n",
    "    RANKS = tuple(range(2, 11)) + tuple('JQKA')\n",
    "    \n",
    "    def __iter__(self):\n",
    "        return CardDeck.deck_gen()\n",
    "    \n",
    "    @staticmethod\n",
    "    def deck_gen():\n",
    "        for suite in CardDeck.SUITS:\n",
    "            for rank in CardDeck.RANKS:\n",
    "                yield CardDeck.Card(rank, suite)\n",
    "            \n",
    "    def __reversed__(self):\n",
    "        return CardDeck.reversed_deck_gen()\n",
    "        \n",
    "    @staticmethod\n",
    "    def reversed_deck_gen():\n",
    "        for suite in reversed(CardDeck.SUITS):\n",
    "            for rank in reversed(CardDeck.RANKS):\n",
    "                yield CardDeck.Card(rank, suite)"
   ],
   "id": "6bd365a56f79623",
   "outputs": [],
   "execution_count": 59
  },
  {
   "metadata": {
    "ExecuteTime": {
     "end_time": "2024-07-11T16:06:30.719670Z",
     "start_time": "2024-07-11T16:06:30.714715Z"
    }
   },
   "cell_type": "code",
   "source": "list(CardDeck())",
   "id": "93ce4b33a3a82f8b",
   "outputs": [
    {
     "data": {
      "text/plain": [
       "[Card(rank=2, suit='Spades'),\n",
       " Card(rank=3, suit='Spades'),\n",
       " Card(rank=4, suit='Spades'),\n",
       " Card(rank=5, suit='Spades'),\n",
       " Card(rank=6, suit='Spades'),\n",
       " Card(rank=7, suit='Spades'),\n",
       " Card(rank=8, suit='Spades'),\n",
       " Card(rank=9, suit='Spades'),\n",
       " Card(rank=10, suit='Spades'),\n",
       " Card(rank='J', suit='Spades'),\n",
       " Card(rank='Q', suit='Spades'),\n",
       " Card(rank='K', suit='Spades'),\n",
       " Card(rank='A', suit='Spades'),\n",
       " Card(rank=2, suit='Hearts'),\n",
       " Card(rank=3, suit='Hearts'),\n",
       " Card(rank=4, suit='Hearts'),\n",
       " Card(rank=5, suit='Hearts'),\n",
       " Card(rank=6, suit='Hearts'),\n",
       " Card(rank=7, suit='Hearts'),\n",
       " Card(rank=8, suit='Hearts'),\n",
       " Card(rank=9, suit='Hearts'),\n",
       " Card(rank=10, suit='Hearts'),\n",
       " Card(rank='J', suit='Hearts'),\n",
       " Card(rank='Q', suit='Hearts'),\n",
       " Card(rank='K', suit='Hearts'),\n",
       " Card(rank='A', suit='Hearts'),\n",
       " Card(rank=2, suit='Diamonds'),\n",
       " Card(rank=3, suit='Diamonds'),\n",
       " Card(rank=4, suit='Diamonds'),\n",
       " Card(rank=5, suit='Diamonds'),\n",
       " Card(rank=6, suit='Diamonds'),\n",
       " Card(rank=7, suit='Diamonds'),\n",
       " Card(rank=8, suit='Diamonds'),\n",
       " Card(rank=9, suit='Diamonds'),\n",
       " Card(rank=10, suit='Diamonds'),\n",
       " Card(rank='J', suit='Diamonds'),\n",
       " Card(rank='Q', suit='Diamonds'),\n",
       " Card(rank='K', suit='Diamonds'),\n",
       " Card(rank='A', suit='Diamonds'),\n",
       " Card(rank=2, suit='Clubs'),\n",
       " Card(rank=3, suit='Clubs'),\n",
       " Card(rank=4, suit='Clubs'),\n",
       " Card(rank=5, suit='Clubs'),\n",
       " Card(rank=6, suit='Clubs'),\n",
       " Card(rank=7, suit='Clubs'),\n",
       " Card(rank=8, suit='Clubs'),\n",
       " Card(rank=9, suit='Clubs'),\n",
       " Card(rank=10, suit='Clubs'),\n",
       " Card(rank='J', suit='Clubs'),\n",
       " Card(rank='Q', suit='Clubs'),\n",
       " Card(rank='K', suit='Clubs'),\n",
       " Card(rank='A', suit='Clubs')]"
      ]
     },
     "execution_count": 64,
     "metadata": {},
     "output_type": "execute_result"
    }
   ],
   "execution_count": 64
  },
  {
   "metadata": {
    "ExecuteTime": {
     "end_time": "2024-07-11T16:06:32.657582Z",
     "start_time": "2024-07-11T16:06:32.650007Z"
    }
   },
   "cell_type": "code",
   "source": "list(reversed(CardDeck()))",
   "id": "e7dac09850defbad",
   "outputs": [
    {
     "data": {
      "text/plain": [
       "[Card(rank='A', suit='Clubs'),\n",
       " Card(rank='K', suit='Clubs'),\n",
       " Card(rank='Q', suit='Clubs'),\n",
       " Card(rank='J', suit='Clubs'),\n",
       " Card(rank=10, suit='Clubs'),\n",
       " Card(rank=9, suit='Clubs'),\n",
       " Card(rank=8, suit='Clubs'),\n",
       " Card(rank=7, suit='Clubs'),\n",
       " Card(rank=6, suit='Clubs'),\n",
       " Card(rank=5, suit='Clubs'),\n",
       " Card(rank=4, suit='Clubs'),\n",
       " Card(rank=3, suit='Clubs'),\n",
       " Card(rank=2, suit='Clubs'),\n",
       " Card(rank='A', suit='Diamonds'),\n",
       " Card(rank='K', suit='Diamonds'),\n",
       " Card(rank='Q', suit='Diamonds'),\n",
       " Card(rank='J', suit='Diamonds'),\n",
       " Card(rank=10, suit='Diamonds'),\n",
       " Card(rank=9, suit='Diamonds'),\n",
       " Card(rank=8, suit='Diamonds'),\n",
       " Card(rank=7, suit='Diamonds'),\n",
       " Card(rank=6, suit='Diamonds'),\n",
       " Card(rank=5, suit='Diamonds'),\n",
       " Card(rank=4, suit='Diamonds'),\n",
       " Card(rank=3, suit='Diamonds'),\n",
       " Card(rank=2, suit='Diamonds'),\n",
       " Card(rank='A', suit='Hearts'),\n",
       " Card(rank='K', suit='Hearts'),\n",
       " Card(rank='Q', suit='Hearts'),\n",
       " Card(rank='J', suit='Hearts'),\n",
       " Card(rank=10, suit='Hearts'),\n",
       " Card(rank=9, suit='Hearts'),\n",
       " Card(rank=8, suit='Hearts'),\n",
       " Card(rank=7, suit='Hearts'),\n",
       " Card(rank=6, suit='Hearts'),\n",
       " Card(rank=5, suit='Hearts'),\n",
       " Card(rank=4, suit='Hearts'),\n",
       " Card(rank=3, suit='Hearts'),\n",
       " Card(rank=2, suit='Hearts'),\n",
       " Card(rank='A', suit='Spades'),\n",
       " Card(rank='K', suit='Spades'),\n",
       " Card(rank='Q', suit='Spades'),\n",
       " Card(rank='J', suit='Spades'),\n",
       " Card(rank=10, suit='Spades'),\n",
       " Card(rank=9, suit='Spades'),\n",
       " Card(rank=8, suit='Spades'),\n",
       " Card(rank=7, suit='Spades'),\n",
       " Card(rank=6, suit='Spades'),\n",
       " Card(rank=5, suit='Spades'),\n",
       " Card(rank=4, suit='Spades'),\n",
       " Card(rank=3, suit='Spades'),\n",
       " Card(rank=2, suit='Spades')]"
      ]
     },
     "execution_count": 65,
     "metadata": {},
     "output_type": "execute_result"
    }
   ],
   "execution_count": 65
  },
  {
   "metadata": {},
   "cell_type": "code",
   "outputs": [],
   "execution_count": null,
   "source": "",
   "id": "1e65ee052feb4ffe"
  }
 ],
 "metadata": {
  "kernelspec": {
   "display_name": "Python 3",
   "language": "python",
   "name": "python3"
  },
  "language_info": {
   "codemirror_mode": {
    "name": "ipython",
    "version": 2
   },
   "file_extension": ".py",
   "mimetype": "text/x-python",
   "name": "python",
   "nbconvert_exporter": "python",
   "pygments_lexer": "ipython2",
   "version": "2.7.6"
  }
 },
 "nbformat": 4,
 "nbformat_minor": 5
}
