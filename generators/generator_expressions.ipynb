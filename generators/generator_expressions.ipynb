{
 "cells": [
  {
   "cell_type": "code",
   "id": "initial_id",
   "metadata": {
    "collapsed": true,
    "ExecuteTime": {
     "end_time": "2024-07-11T16:34:03.115798Z",
     "start_time": "2024-07-11T16:34:03.112819Z"
    }
   },
   "source": "l = [i ** 2 for i in range(5)]",
   "outputs": [],
   "execution_count": 1
  },
  {
   "metadata": {
    "ExecuteTime": {
     "end_time": "2024-07-11T16:34:03.951248Z",
     "start_time": "2024-07-11T16:34:03.943582Z"
    }
   },
   "cell_type": "code",
   "source": "l",
   "id": "3f8052f7b10324e3",
   "outputs": [
    {
     "data": {
      "text/plain": [
       "[0, 1, 4, 9, 16]"
      ]
     },
     "execution_count": 2,
     "metadata": {},
     "output_type": "execute_result"
    }
   ],
   "execution_count": 2
  },
  {
   "metadata": {
    "ExecuteTime": {
     "end_time": "2024-07-11T16:34:41.724240Z",
     "start_time": "2024-07-11T16:34:41.720262Z"
    }
   },
   "cell_type": "code",
   "source": "g = (i ** 2 for i in range(5))",
   "id": "532ab1df00f23e12",
   "outputs": [],
   "execution_count": 3
  },
  {
   "metadata": {
    "ExecuteTime": {
     "end_time": "2024-07-11T16:34:43.256452Z",
     "start_time": "2024-07-11T16:34:43.252676Z"
    }
   },
   "cell_type": "code",
   "source": "g",
   "id": "8bbb52de6dd5b657",
   "outputs": [
    {
     "data": {
      "text/plain": [
       "<generator object <genexpr> at 0x7f2a5d1aa400>"
      ]
     },
     "execution_count": 4,
     "metadata": {},
     "output_type": "execute_result"
    }
   ],
   "execution_count": 4
  },
  {
   "metadata": {
    "ExecuteTime": {
     "end_time": "2024-07-11T16:35:05.291047Z",
     "start_time": "2024-07-11T16:35:05.287258Z"
    }
   },
   "cell_type": "code",
   "source": [
    "for item in g:\n",
    "    print(item)"
   ],
   "id": "bd7fa548d2bca917",
   "outputs": [
    {
     "name": "stdout",
     "output_type": "stream",
     "text": [
      "0\n",
      "1\n",
      "4\n",
      "9\n",
      "16\n"
     ]
    }
   ],
   "execution_count": 5
  },
  {
   "metadata": {
    "ExecuteTime": {
     "end_time": "2024-07-11T16:35:10.194120Z",
     "start_time": "2024-07-11T16:35:10.189546Z"
    }
   },
   "cell_type": "code",
   "source": "list(g)",
   "id": "bb2cbd653d2c63ca",
   "outputs": [
    {
     "data": {
      "text/plain": [
       "[]"
      ]
     },
     "execution_count": 6,
     "metadata": {},
     "output_type": "execute_result"
    }
   ],
   "execution_count": 6
  },
  {
   "metadata": {
    "ExecuteTime": {
     "end_time": "2024-07-11T16:46:45.868682Z",
     "start_time": "2024-07-11T16:46:45.864722Z"
    }
   },
   "cell_type": "code",
   "source": "import dis",
   "id": "3f54a5e6fcd36cf8",
   "outputs": [],
   "execution_count": 14
  },
  {
   "metadata": {
    "ExecuteTime": {
     "end_time": "2024-07-11T17:00:53.028930Z",
     "start_time": "2024-07-11T17:00:53.024953Z"
    }
   },
   "cell_type": "code",
   "source": "exp = compile('[i ** 2 for i in range(5)]', filename='', mode='eval')",
   "id": "3cc4763c13b69983",
   "outputs": [],
   "execution_count": 28
  },
  {
   "metadata": {
    "ExecuteTime": {
     "end_time": "2024-07-11T17:00:53.667334Z",
     "start_time": "2024-07-11T17:00:53.663672Z"
    }
   },
   "cell_type": "code",
   "source": "dis.dis(exp)",
   "id": "2963615091421073",
   "outputs": [
    {
     "name": "stdout",
     "output_type": "stream",
     "text": [
      "  0           0 RESUME                   0\n",
      "\n",
      "  1           2 PUSH_NULL\n",
      "              4 LOAD_NAME                0 (range)\n",
      "              6 LOAD_CONST               0 (5)\n",
      "              8 CALL                     1\n",
      "             16 GET_ITER\n",
      "             18 LOAD_FAST_AND_CLEAR      0 (i)\n",
      "             20 SWAP                     2\n",
      "             22 BUILD_LIST               0\n",
      "             24 SWAP                     2\n",
      "        >>   26 FOR_ITER                 7 (to 44)\n",
      "             30 STORE_FAST               0 (i)\n",
      "             32 LOAD_FAST                0 (i)\n",
      "             34 LOAD_CONST               1 (2)\n",
      "             36 BINARY_OP                8 (**)\n",
      "             40 LIST_APPEND              2\n",
      "             42 JUMP_BACKWARD            9 (to 26)\n",
      "        >>   44 END_FOR\n",
      "             46 SWAP                     2\n",
      "             48 STORE_FAST               0 (i)\n",
      "             50 RETURN_VALUE\n",
      "        >>   52 SWAP                     2\n",
      "             54 POP_TOP\n",
      "             56 SWAP                     2\n",
      "             58 STORE_FAST               0 (i)\n",
      "             60 RERAISE                  0\n",
      "ExceptionTable:\n",
      "  22 to 44 -> 52 [2]\n"
     ]
    }
   ],
   "execution_count": 29
  },
  {
   "metadata": {
    "ExecuteTime": {
     "end_time": "2024-07-11T17:00:59.315541Z",
     "start_time": "2024-07-11T17:00:59.311388Z"
    }
   },
   "cell_type": "code",
   "source": "exp = compile('(i ** 2 for i in range(5))', filename='', mode='eval')",
   "id": "c553847fab1f2f5c",
   "outputs": [],
   "execution_count": 30
  },
  {
   "metadata": {
    "ExecuteTime": {
     "end_time": "2024-07-11T17:03:48.086998Z",
     "start_time": "2024-07-11T17:03:48.082220Z"
    }
   },
   "cell_type": "code",
   "source": "dis.dis(exp)",
   "id": "5bbb409775f3bd9d",
   "outputs": [
    {
     "name": "stdout",
     "output_type": "stream",
     "text": [
      "  0           0 RESUME                   0\n",
      "\n",
      "  1           2 LOAD_CONST               0 (<code object <genexpr> at 0x7f2a5db121f0, file \"\", line 1>)\n",
      "              4 MAKE_FUNCTION            0\n",
      "              6 PUSH_NULL\n",
      "              8 LOAD_NAME                0 (range)\n",
      "             10 LOAD_CONST               1 (5)\n",
      "             12 CALL                     1\n",
      "             20 GET_ITER\n",
      "             22 CALL                     0\n",
      "             30 RETURN_VALUE\n",
      "\n",
      "Disassembly of <code object <genexpr> at 0x7f2a5db121f0, file \"\", line 1>:\n",
      "  1           0 RETURN_GENERATOR\n",
      "              2 POP_TOP\n",
      "              4 RESUME                   0\n",
      "              6 LOAD_FAST                0 (.0)\n",
      "        >>    8 FOR_ITER                 9 (to 30)\n",
      "             12 STORE_FAST               1 (i)\n",
      "             14 LOAD_FAST                1 (i)\n",
      "             16 LOAD_CONST               0 (2)\n",
      "             18 BINARY_OP                8 (**)\n",
      "             22 YIELD_VALUE              1\n",
      "             24 RESUME                   1\n",
      "             26 POP_TOP\n",
      "             28 JUMP_BACKWARD           11 (to 8)\n",
      "        >>   30 END_FOR\n",
      "             32 RETURN_CONST             1 (None)\n",
      "        >>   34 CALL_INTRINSIC_1         3 (INTRINSIC_STOPITERATION_ERROR)\n",
      "             36 RERAISE                  1\n",
      "ExceptionTable:\n",
      "  4 to 32 -> 34 [0] lasti\n"
     ]
    }
   ],
   "execution_count": 32
  },
  {
   "metadata": {
    "ExecuteTime": {
     "end_time": "2024-07-11T17:03:55.490804Z",
     "start_time": "2024-07-11T17:03:55.486858Z"
    }
   },
   "cell_type": "code",
   "source": [
    "l = [i ** 2 for i in range(5)]\n",
    "g = (i ** 2 for i in range(5))"
   ],
   "id": "1b474c0378206742",
   "outputs": [],
   "execution_count": 33
  },
  {
   "metadata": {
    "ExecuteTime": {
     "end_time": "2024-07-11T17:04:05.162705Z",
     "start_time": "2024-07-11T17:04:05.157630Z"
    }
   },
   "cell_type": "code",
   "source": "l, l",
   "id": "541413b18beb8a3a",
   "outputs": [
    {
     "data": {
      "text/plain": [
       "([0, 1, 4, 9, 16], [0, 1, 4, 9, 16])"
      ]
     },
     "execution_count": 34,
     "metadata": {},
     "output_type": "execute_result"
    }
   ],
   "execution_count": 34
  },
  {
   "metadata": {
    "ExecuteTime": {
     "end_time": "2024-07-11T17:04:15.516070Z",
     "start_time": "2024-07-11T17:04:15.511999Z"
    }
   },
   "cell_type": "code",
   "source": "list(g), list(g)",
   "id": "dff3c2ed18186d0d",
   "outputs": [
    {
     "data": {
      "text/plain": [
       "([0, 1, 4, 9, 16], [])"
      ]
     },
     "execution_count": 36,
     "metadata": {},
     "output_type": "execute_result"
    }
   ],
   "execution_count": 36
  },
  {
   "metadata": {
    "ExecuteTime": {
     "end_time": "2024-07-11T17:06:00.636219Z",
     "start_time": "2024-07-11T17:06:00.631859Z"
    }
   },
   "cell_type": "code",
   "source": [
    "start = 1\n",
    "stop = 10\n",
    "mult_list = [[i * j for j in range(start, stop + 1)] \n",
    "             for i in range(start, stop + 1)]"
   ],
   "id": "dca3a8cd15c697e7",
   "outputs": [],
   "execution_count": 37
  },
  {
   "metadata": {
    "ExecuteTime": {
     "end_time": "2024-07-11T17:06:02.044159Z",
     "start_time": "2024-07-11T17:06:02.036433Z"
    }
   },
   "cell_type": "code",
   "source": "mult_list",
   "id": "f2344e1f91df51cd",
   "outputs": [
    {
     "data": {
      "text/plain": [
       "[[1, 2, 3, 4, 5, 6, 7, 8, 9, 10],\n",
       " [2, 4, 6, 8, 10, 12, 14, 16, 18, 20],\n",
       " [3, 6, 9, 12, 15, 18, 21, 24, 27, 30],\n",
       " [4, 8, 12, 16, 20, 24, 28, 32, 36, 40],\n",
       " [5, 10, 15, 20, 25, 30, 35, 40, 45, 50],\n",
       " [6, 12, 18, 24, 30, 36, 42, 48, 54, 60],\n",
       " [7, 14, 21, 28, 35, 42, 49, 56, 63, 70],\n",
       " [8, 16, 24, 32, 40, 48, 56, 64, 72, 80],\n",
       " [9, 18, 27, 36, 45, 54, 63, 72, 81, 90],\n",
       " [10, 20, 30, 40, 50, 60, 70, 80, 90, 100]]"
      ]
     },
     "execution_count": 38,
     "metadata": {},
     "output_type": "execute_result"
    }
   ],
   "execution_count": 38
  },
  {
   "metadata": {
    "ExecuteTime": {
     "end_time": "2024-07-11T17:08:27.354127Z",
     "start_time": "2024-07-11T17:08:27.346445Z"
    }
   },
   "cell_type": "code",
   "source": [
    "table = []\n",
    "\n",
    "for i in range(start, stop + 1):\n",
    "    row = []\n",
    "    for j in range(start, stop + 1):\n",
    "        row.append(j * i)\n",
    "    table.append(list(row))\n",
    "    \n",
    "table"
   ],
   "id": "9f9a2c438f277036",
   "outputs": [
    {
     "data": {
      "text/plain": [
       "[[1, 2, 3, 4, 5, 6, 7, 8, 9, 10],\n",
       " [2, 4, 6, 8, 10, 12, 14, 16, 18, 20],\n",
       " [3, 6, 9, 12, 15, 18, 21, 24, 27, 30],\n",
       " [4, 8, 12, 16, 20, 24, 28, 32, 36, 40],\n",
       " [5, 10, 15, 20, 25, 30, 35, 40, 45, 50],\n",
       " [6, 12, 18, 24, 30, 36, 42, 48, 54, 60],\n",
       " [7, 14, 21, 28, 35, 42, 49, 56, 63, 70],\n",
       " [8, 16, 24, 32, 40, 48, 56, 64, 72, 80],\n",
       " [9, 18, 27, 36, 45, 54, 63, 72, 81, 90],\n",
       " [10, 20, 30, 40, 50, 60, 70, 80, 90, 100]]"
      ]
     },
     "execution_count": 42,
     "metadata": {},
     "output_type": "execute_result"
    }
   ],
   "execution_count": 42
  },
  {
   "metadata": {
    "ExecuteTime": {
     "end_time": "2024-07-11T17:13:12.554091Z",
     "start_time": "2024-07-11T17:13:12.551186Z"
    }
   },
   "cell_type": "code",
   "source": [
    "def comprehension_mult():\n",
    "    start = 1\n",
    "    stop = 10\n",
    "    mult_list = [[i * j for j in range(start, stop + 1)] \n",
    "                 for i in range(start, stop + 1)]\n",
    "    "
   ],
   "id": "fc8835e86946a537",
   "outputs": [],
   "execution_count": 51
  },
  {
   "metadata": {
    "ExecuteTime": {
     "end_time": "2024-07-11T17:10:04.980593Z",
     "start_time": "2024-07-11T17:10:04.976342Z"
    }
   },
   "cell_type": "code",
   "source": [
    "def loop_mult():\n",
    "    table = []\n",
    "    for i in range(start, stop + 1):\n",
    "        row = []\n",
    "        for j in range(start, stop + 1):\n",
    "            row.append(j * i)\n",
    "        table.append(list(row))"
   ],
   "id": "1d4542e2884dca3f",
   "outputs": [],
   "execution_count": 46
  },
  {
   "metadata": {
    "ExecuteTime": {
     "end_time": "2024-07-11T17:10:05.304642Z",
     "start_time": "2024-07-11T17:10:05.299034Z"
    }
   },
   "cell_type": "code",
   "source": "dis.dis(comprehension_mult)",
   "id": "6d09768735664539",
   "outputs": [
    {
     "name": "stdout",
     "output_type": "stream",
     "text": [
      "  1           0 RESUME                   0\n",
      "\n",
      "  2           2 LOAD_CONST               1 (1)\n",
      "              4 STORE_FAST               0 (start)\n",
      "\n",
      "  3           6 LOAD_CONST               2 (10)\n",
      "              8 STORE_FAST               1 (stop)\n",
      "\n",
      "  5          10 LOAD_GLOBAL              1 (NULL + range)\n",
      "             20 LOAD_FAST                0 (start)\n",
      "             22 LOAD_FAST                1 (stop)\n",
      "             24 LOAD_CONST               1 (1)\n",
      "             26 BINARY_OP                0 (+)\n",
      "             30 CALL                     2\n",
      "\n",
      "  4          38 GET_ITER\n",
      "             40 LOAD_FAST_AND_CLEAR      2 (i)\n",
      "             42 LOAD_FAST_AND_CLEAR      3 (j)\n",
      "             44 SWAP                     3\n",
      "             46 BUILD_LIST               0\n",
      "             48 SWAP                     2\n",
      "        >>   50 FOR_ITER                34 (to 122)\n",
      "\n",
      "  5          54 STORE_FAST               2 (i)\n",
      "\n",
      "  4          56 LOAD_GLOBAL              1 (NULL + range)\n",
      "             66 LOAD_FAST                0 (start)\n",
      "             68 LOAD_FAST                1 (stop)\n",
      "             70 LOAD_CONST               1 (1)\n",
      "             72 BINARY_OP                0 (+)\n",
      "             76 CALL                     2\n",
      "             84 GET_ITER\n",
      "             86 LOAD_FAST_AND_CLEAR      3 (j)\n",
      "             88 SWAP                     2\n",
      "             90 BUILD_LIST               0\n",
      "             92 SWAP                     2\n",
      "        >>   94 FOR_ITER                 7 (to 112)\n",
      "             98 STORE_FAST               3 (j)\n",
      "            100 LOAD_FAST                2 (i)\n",
      "            102 LOAD_FAST                3 (j)\n",
      "            104 BINARY_OP                5 (*)\n",
      "            108 LIST_APPEND              2\n",
      "            110 JUMP_BACKWARD            9 (to 94)\n",
      "        >>  112 END_FOR\n",
      "            114 SWAP                     2\n",
      "            116 STORE_FAST               3 (j)\n",
      "            118 LIST_APPEND              2\n",
      "            120 JUMP_BACKWARD           36 (to 50)\n",
      "        >>  122 END_FOR\n",
      "            124 STORE_FAST               4 (mult_list)\n",
      "            126 STORE_FAST               2 (i)\n",
      "            128 STORE_FAST               3 (j)\n",
      "            130 RETURN_CONST             0 (None)\n",
      "        >>  132 SWAP                     2\n",
      "            134 POP_TOP\n",
      "            136 SWAP                     2\n",
      "            138 STORE_FAST               3 (j)\n",
      "            140 RERAISE                  0\n",
      "        >>  142 SWAP                     2\n",
      "            144 POP_TOP\n",
      "            146 SWAP                     3\n",
      "            148 STORE_FAST               3 (j)\n",
      "            150 STORE_FAST               2 (i)\n",
      "            152 RERAISE                  0\n",
      "ExceptionTable:\n",
      "  46 to 88 -> 142 [3]\n",
      "  90 to 112 -> 132 [6]\n",
      "  114 to 122 -> 142 [3]\n",
      "  132 to 140 -> 142 [3]\n"
     ]
    }
   ],
   "execution_count": 47
  },
  {
   "metadata": {
    "ExecuteTime": {
     "end_time": "2024-07-11T17:10:15.873832Z",
     "start_time": "2024-07-11T17:10:15.868738Z"
    }
   },
   "cell_type": "code",
   "source": "dis.dis(loop_mult)",
   "id": "1dd6c90b1bfc9fb9",
   "outputs": [
    {
     "name": "stdout",
     "output_type": "stream",
     "text": [
      "  1           0 RESUME                   0\n",
      "\n",
      "  2           2 BUILD_LIST               0\n",
      "              4 STORE_FAST               0 (table)\n",
      "\n",
      "  3           6 LOAD_GLOBAL              1 (NULL + range)\n",
      "             16 LOAD_GLOBAL              2 (start)\n",
      "             26 LOAD_GLOBAL              4 (stop)\n",
      "             36 LOAD_CONST               1 (1)\n",
      "             38 BINARY_OP                0 (+)\n",
      "             42 CALL                     2\n",
      "             50 GET_ITER\n",
      "        >>   52 FOR_ITER                78 (to 212)\n",
      "             56 STORE_FAST               1 (i)\n",
      "\n",
      "  4          58 BUILD_LIST               0\n",
      "             60 STORE_FAST               2 (row)\n",
      "\n",
      "  5          62 LOAD_GLOBAL              1 (NULL + range)\n",
      "             72 LOAD_GLOBAL              2 (start)\n",
      "             82 LOAD_GLOBAL              4 (stop)\n",
      "             92 LOAD_CONST               1 (1)\n",
      "             94 BINARY_OP                0 (+)\n",
      "             98 CALL                     2\n",
      "            106 GET_ITER\n",
      "        >>  108 FOR_ITER                22 (to 156)\n",
      "            112 STORE_FAST               3 (j)\n",
      "\n",
      "  6         114 LOAD_FAST                2 (row)\n",
      "            116 LOAD_ATTR                7 (NULL|self + append)\n",
      "            136 LOAD_FAST                3 (j)\n",
      "            138 LOAD_FAST                1 (i)\n",
      "            140 BINARY_OP                5 (*)\n",
      "            144 CALL                     1\n",
      "            152 POP_TOP\n",
      "            154 JUMP_BACKWARD           24 (to 108)\n",
      "\n",
      "  5     >>  156 END_FOR\n",
      "\n",
      "  7         158 LOAD_FAST                0 (table)\n",
      "            160 LOAD_ATTR                7 (NULL|self + append)\n",
      "            180 LOAD_GLOBAL              9 (NULL + list)\n",
      "            190 LOAD_FAST                2 (row)\n",
      "            192 CALL                     1\n",
      "            200 CALL                     1\n",
      "            208 POP_TOP\n",
      "            210 JUMP_BACKWARD           80 (to 52)\n",
      "\n",
      "  3     >>  212 END_FOR\n",
      "            214 RETURN_CONST             0 (None)\n"
     ]
    }
   ],
   "execution_count": 48
  },
  {
   "metadata": {
    "ExecuteTime": {
     "end_time": "2024-07-11T17:12:19.897129Z",
     "start_time": "2024-07-11T17:12:19.893614Z"
    }
   },
   "cell_type": "code",
   "source": "from timeit import timeit",
   "id": "658b4c0a97ab8b4c",
   "outputs": [],
   "execution_count": 49
  },
  {
   "metadata": {
    "ExecuteTime": {
     "end_time": "2024-07-11T17:15:02.815778Z",
     "start_time": "2024-07-11T17:15:02.737779Z"
    }
   },
   "cell_type": "code",
   "source": "timeit('comprehension_mult()', globals=globals(), number=10_000)",
   "id": "28889fdf8bb78729",
   "outputs": [
    {
     "data": {
      "text/plain": [
       "0.07359713900041243"
      ]
     },
     "execution_count": 58,
     "metadata": {},
     "output_type": "execute_result"
    }
   ],
   "execution_count": 58
  },
  {
   "metadata": {
    "ExecuteTime": {
     "end_time": "2024-07-11T17:15:01.566552Z",
     "start_time": "2024-07-11T17:15:01.455589Z"
    }
   },
   "cell_type": "code",
   "source": "timeit('loop_mult()', globals=globals(), number=10_000)",
   "id": "c8011624d1ac9e1b",
   "outputs": [
    {
     "data": {
      "text/plain": [
       "0.10609421899971494"
      ]
     },
     "execution_count": 57,
     "metadata": {},
     "output_type": "execute_result"
    }
   ],
   "execution_count": 57
  },
  {
   "metadata": {
    "ExecuteTime": {
     "end_time": "2024-07-11T17:17:11.923461Z",
     "start_time": "2024-07-11T17:17:11.918548Z"
    }
   },
   "cell_type": "code",
   "source": [
    "def gen_mult():\n",
    "    start = 1\n",
    "    stop = 10\n",
    "    return ((i * j for j in range(start, stop + 1)) \n",
    "                 for i in range(start, stop + 1))\n",
    "    "
   ],
   "id": "14edc1f0930fb36f",
   "outputs": [],
   "execution_count": 65
  },
  {
   "metadata": {
    "ExecuteTime": {
     "end_time": "2024-07-11T17:17:40.387935Z",
     "start_time": "2024-07-11T17:17:40.380869Z"
    }
   },
   "cell_type": "code",
   "source": "list(list(gen) for gen in gen_mult())",
   "id": "db2508780952a0fb",
   "outputs": [
    {
     "data": {
      "text/plain": [
       "[[1, 2, 3, 4, 5, 6, 7, 8, 9, 10],\n",
       " [2, 4, 6, 8, 10, 12, 14, 16, 18, 20],\n",
       " [3, 6, 9, 12, 15, 18, 21, 24, 27, 30],\n",
       " [4, 8, 12, 16, 20, 24, 28, 32, 36, 40],\n",
       " [5, 10, 15, 20, 25, 30, 35, 40, 45, 50],\n",
       " [6, 12, 18, 24, 30, 36, 42, 48, 54, 60],\n",
       " [7, 14, 21, 28, 35, 42, 49, 56, 63, 70],\n",
       " [8, 16, 24, 32, 40, 48, 56, 64, 72, 80],\n",
       " [9, 18, 27, 36, 45, 54, 63, 72, 81, 90],\n",
       " [10, 20, 30, 40, 50, 60, 70, 80, 90, 100]]"
      ]
     },
     "execution_count": 68,
     "metadata": {},
     "output_type": "execute_result"
    }
   ],
   "execution_count": 68
  },
  {
   "metadata": {
    "ExecuteTime": {
     "end_time": "2024-07-11T17:19:47.173510Z",
     "start_time": "2024-07-11T17:19:47.168758Z"
    }
   },
   "cell_type": "code",
   "source": [
    "def gen_mult():\n",
    "    start = 1\n",
    "    stop = 10\n",
    "    return ([i * j for j in range(start, stop + 1)]\n",
    "                 for i in range(start, stop + 1))"
   ],
   "id": "a9f518c9ce13485c",
   "outputs": [],
   "execution_count": 70
  },
  {
   "metadata": {
    "ExecuteTime": {
     "end_time": "2024-07-11T17:19:57.380248Z",
     "start_time": "2024-07-11T17:19:57.373093Z"
    }
   },
   "cell_type": "code",
   "source": "list(gen_mult())",
   "id": "ef762fde19b5c19e",
   "outputs": [
    {
     "data": {
      "text/plain": [
       "[[1, 2, 3, 4, 5, 6, 7, 8, 9, 10],\n",
       " [2, 4, 6, 8, 10, 12, 14, 16, 18, 20],\n",
       " [3, 6, 9, 12, 15, 18, 21, 24, 27, 30],\n",
       " [4, 8, 12, 16, 20, 24, 28, 32, 36, 40],\n",
       " [5, 10, 15, 20, 25, 30, 35, 40, 45, 50],\n",
       " [6, 12, 18, 24, 30, 36, 42, 48, 54, 60],\n",
       " [7, 14, 21, 28, 35, 42, 49, 56, 63, 70],\n",
       " [8, 16, 24, 32, 40, 48, 56, 64, 72, 80],\n",
       " [9, 18, 27, 36, 45, 54, 63, 72, 81, 90],\n",
       " [10, 20, 30, 40, 50, 60, 70, 80, 90, 100]]"
      ]
     },
     "execution_count": 72,
     "metadata": {},
     "output_type": "execute_result"
    }
   ],
   "execution_count": 72
  },
  {
   "metadata": {
    "ExecuteTime": {
     "end_time": "2024-07-11T17:23:11.708994Z",
     "start_time": "2024-07-11T17:23:11.705475Z"
    }
   },
   "cell_type": "code",
   "source": "from math import factorial",
   "id": "9e1297f5dfc6ca4",
   "outputs": [],
   "execution_count": 73
  },
  {
   "metadata": {
    "ExecuteTime": {
     "end_time": "2024-07-11T17:27:17.524132Z",
     "start_time": "2024-07-11T17:27:17.520385Z"
    }
   },
   "cell_type": "code",
   "source": [
    "def combo(n, k):\n",
    "    return factorial(n) // (factorial(k) * factorial(n-k))"
   ],
   "id": "37ea7219b415f348",
   "outputs": [],
   "execution_count": 80
  },
  {
   "metadata": {
    "ExecuteTime": {
     "end_time": "2024-07-11T17:27:17.746942Z",
     "start_time": "2024-07-11T17:27:17.743651Z"
    }
   },
   "cell_type": "code",
   "source": "size = 10  # global variable",
   "id": "8db441162acb519d",
   "outputs": [],
   "execution_count": 81
  },
  {
   "metadata": {
    "ExecuteTime": {
     "end_time": "2024-07-11T17:27:17.964966Z",
     "start_time": "2024-07-11T17:27:17.961258Z"
    }
   },
   "cell_type": "code",
   "source": "pascal = [[combo(n, k) for k in range(n+1)] for n in range(size+1)]",
   "id": "69d2b66db1cce2c8",
   "outputs": [],
   "execution_count": 82
  },
  {
   "metadata": {
    "ExecuteTime": {
     "end_time": "2024-07-11T17:27:18.216467Z",
     "start_time": "2024-07-11T17:27:18.210240Z"
    }
   },
   "cell_type": "code",
   "source": "pascal",
   "id": "a82139529786da2e",
   "outputs": [
    {
     "data": {
      "text/plain": [
       "[[1],\n",
       " [1, 1],\n",
       " [1, 2, 1],\n",
       " [1, 3, 3, 1],\n",
       " [1, 4, 6, 4, 1],\n",
       " [1, 5, 10, 10, 5, 1],\n",
       " [1, 6, 15, 20, 15, 6, 1],\n",
       " [1, 7, 21, 35, 35, 21, 7, 1],\n",
       " [1, 8, 28, 56, 70, 56, 28, 8, 1],\n",
       " [1, 9, 36, 84, 126, 126, 84, 36, 9, 1],\n",
       " [1, 10, 45, 120, 210, 252, 210, 120, 45, 10, 1]]"
      ]
     },
     "execution_count": 83,
     "metadata": {},
     "output_type": "execute_result"
    }
   ],
   "execution_count": 83
  },
  {
   "metadata": {
    "ExecuteTime": {
     "end_time": "2024-07-11T17:28:21.105687Z",
     "start_time": "2024-07-11T17:28:21.101272Z"
    }
   },
   "cell_type": "code",
   "source": "pascal = ((combo(n, k) for k in range(n+1)) for n in range(size+1))",
   "id": "58784684e9beba98",
   "outputs": [],
   "execution_count": 84
  },
  {
   "metadata": {
    "ExecuteTime": {
     "end_time": "2024-07-11T17:28:49.582628Z",
     "start_time": "2024-07-11T17:28:49.576362Z"
    }
   },
   "cell_type": "code",
   "source": "[list(row) for row in pascal]",
   "id": "8d9f152099d52b33",
   "outputs": [
    {
     "data": {
      "text/plain": [
       "[[1],\n",
       " [1, 1],\n",
       " [1, 2, 1],\n",
       " [1, 3, 3, 1],\n",
       " [1, 4, 6, 4, 1],\n",
       " [1, 5, 10, 10, 5, 1],\n",
       " [1, 6, 15, 20, 15, 6, 1],\n",
       " [1, 7, 21, 35, 35, 21, 7, 1],\n",
       " [1, 8, 28, 56, 70, 56, 28, 8, 1],\n",
       " [1, 9, 36, 84, 126, 126, 84, 36, 9, 1],\n",
       " [1, 10, 45, 120, 210, 252, 210, 120, 45, 10, 1]]"
      ]
     },
     "execution_count": 85,
     "metadata": {},
     "output_type": "execute_result"
    }
   ],
   "execution_count": 85
  },
  {
   "metadata": {
    "ExecuteTime": {
     "end_time": "2024-07-11T17:30:04.621466Z",
     "start_time": "2024-07-11T17:30:04.617826Z"
    }
   },
   "cell_type": "code",
   "source": "from timeit import timeit",
   "id": "3c6d32e5be32ebb9",
   "outputs": [],
   "execution_count": 86
  },
  {
   "metadata": {
    "ExecuteTime": {
     "end_time": "2024-07-11T17:30:10.204959Z",
     "start_time": "2024-07-11T17:30:10.201545Z"
    }
   },
   "cell_type": "code",
   "source": "size = 600",
   "id": "570cfb16c0fcd22b",
   "outputs": [],
   "execution_count": 87
  },
  {
   "metadata": {
    "ExecuteTime": {
     "end_time": "2024-07-11T17:33:39.794893Z",
     "start_time": "2024-07-11T17:33:36.548242Z"
    }
   },
   "cell_type": "code",
   "source": [
    "timeit('[[combo(n, k) for k in range(n+1)] for n in range(size+1)]', \n",
    "       globals=globals(), number=1)"
   ],
   "id": "c6199e176bbd7d7c",
   "outputs": [
    {
     "data": {
      "text/plain": [
       "3.242605781000748"
      ]
     },
     "execution_count": 97,
     "metadata": {},
     "output_type": "execute_result"
    }
   ],
   "execution_count": 97
  },
  {
   "metadata": {
    "ExecuteTime": {
     "end_time": "2024-07-11T17:32:40.862566Z",
     "start_time": "2024-07-11T17:32:40.856628Z"
    }
   },
   "cell_type": "code",
   "source": [
    "timeit('((combo(n, k) for k in range(n+1)) for n in range(size+1))', \n",
    "       globals=globals(), number=1)"
   ],
   "id": "bfa10ed9470ec0e7",
   "outputs": [
    {
     "data": {
      "text/plain": [
       "1.9199997041141614e-06"
      ]
     },
     "execution_count": 93,
     "metadata": {},
     "output_type": "execute_result"
    }
   ],
   "execution_count": 93
  },
  {
   "metadata": {
    "ExecuteTime": {
     "end_time": "2024-07-11T17:33:08.132998Z",
     "start_time": "2024-07-11T17:33:08.128200Z"
    }
   },
   "cell_type": "code",
   "source": [
    "timeit('([combo(n, k) for k in range(n+1)] for n in range(size+1))', \n",
    "       globals=globals(), number=1)"
   ],
   "id": "e58b59c78576206f",
   "outputs": [
    {
     "data": {
      "text/plain": [
       "2.390001100138761e-06"
      ]
     },
     "execution_count": 96,
     "metadata": {},
     "output_type": "execute_result"
    }
   ],
   "execution_count": 96
  },
  {
   "metadata": {
    "ExecuteTime": {
     "end_time": "2024-07-11T17:34:10.678330Z",
     "start_time": "2024-07-11T17:34:10.672354Z"
    }
   },
   "cell_type": "code",
   "source": "timeit('([combo(n, k) for k in range(n+1)] for n in range(100_000+1))', number=1)",
   "id": "ddfdbe36e48f3ad0",
   "outputs": [
    {
     "data": {
      "text/plain": [
       "3.1399995350511745e-06"
      ]
     },
     "execution_count": 99,
     "metadata": {},
     "output_type": "execute_result"
    }
   ],
   "execution_count": 99
  },
  {
   "metadata": {
    "ExecuteTime": {
     "end_time": "2024-07-11T17:46:52.862058Z",
     "start_time": "2024-07-11T17:46:52.852478Z"
    }
   },
   "cell_type": "code",
   "source": [
    "def pascal_list(size):\n",
    "    l = [[combo(n, k) for k in range(n+1)] for n in range(size+1)]\n",
    "    for row in l:\n",
    "        for item in row:\n",
    "            pass"
   ],
   "id": "7aa55615a252b29c",
   "outputs": [],
   "execution_count": 134
  },
  {
   "metadata": {
    "ExecuteTime": {
     "end_time": "2024-07-11T17:46:53.284999Z",
     "start_time": "2024-07-11T17:46:53.275368Z"
    }
   },
   "cell_type": "code",
   "source": [
    "def pascal_gen(size):\n",
    "    g = ((combo(n, k) for k in range(n+1)) for n in range(size+1))\n",
    "    for row in g:\n",
    "        for item in row:\n",
    "            pass "
   ],
   "id": "7a851be86d2eb4e5",
   "outputs": [],
   "execution_count": 135
  },
  {
   "metadata": {
    "ExecuteTime": {
     "end_time": "2024-07-11T17:46:53.681243Z",
     "start_time": "2024-07-11T17:46:53.675828Z"
    }
   },
   "cell_type": "code",
   "source": "size = 10",
   "id": "9b89bc59bd4e587d",
   "outputs": [],
   "execution_count": 136
  },
  {
   "metadata": {
    "ExecuteTime": {
     "end_time": "2024-07-11T17:46:54.190388Z",
     "start_time": "2024-07-11T17:46:54.176241Z"
    }
   },
   "cell_type": "code",
   "source": "timeit('pascal_list(size)', globals=globals(), number=10)",
   "id": "f9ad5db1dea23100",
   "outputs": [
    {
     "data": {
      "text/plain": [
       "0.0028973780008527683"
      ]
     },
     "execution_count": 137,
     "metadata": {},
     "output_type": "execute_result"
    }
   ],
   "execution_count": 137
  },
  {
   "metadata": {
    "ExecuteTime": {
     "end_time": "2024-07-11T17:46:54.565820Z",
     "start_time": "2024-07-11T17:46:54.553010Z"
    }
   },
   "cell_type": "code",
   "source": "timeit('pascal_gen(size)', globals=globals(), number=10)",
   "id": "1bd3d914e5777528",
   "outputs": [
    {
     "data": {
      "text/plain": [
       "0.002244582999992417"
      ]
     },
     "execution_count": 138,
     "metadata": {},
     "output_type": "execute_result"
    }
   ],
   "execution_count": 138
  },
  {
   "metadata": {
    "ExecuteTime": {
     "end_time": "2024-07-11T17:41:25.467745Z",
     "start_time": "2024-07-11T17:41:25.458587Z"
    }
   },
   "cell_type": "code",
   "source": "import tracemalloc",
   "id": "510edc0bd0f5e5a",
   "outputs": [],
   "execution_count": 110
  },
  {
   "metadata": {
    "ExecuteTime": {
     "end_time": "2024-07-11T17:46:59.551301Z",
     "start_time": "2024-07-11T17:46:59.540300Z"
    }
   },
   "cell_type": "code",
   "source": [
    "def pascal_list(size):\n",
    "    l = [[combo(n, k) for k in range(n+1)] for n in range(size+1)]\n",
    "    for row in l:\n",
    "        for item in row:\n",
    "            pass\n",
    "    stats = tracemalloc.take_snapshot().statistics('lineno')\n",
    "    print(stats[0].size, 'bytes')"
   ],
   "id": "f740bd48498601dc",
   "outputs": [],
   "execution_count": 139
  },
  {
   "metadata": {
    "ExecuteTime": {
     "end_time": "2024-07-11T17:46:59.819143Z",
     "start_time": "2024-07-11T17:46:59.811457Z"
    }
   },
   "cell_type": "code",
   "source": [
    "def pascal_gen(size):\n",
    "    l = ((combo(n, k) for k in range(n+1)) for n in range(size+1))\n",
    "    for row in l:\n",
    "        for item in row:\n",
    "            pass\n",
    "    stats = tracemalloc.take_snapshot().statistics('lineno')\n",
    "    print(stats[0].size, 'bytes')"
   ],
   "id": "c2720ccdcc06ef9a",
   "outputs": [],
   "execution_count": 140
  },
  {
   "metadata": {
    "ExecuteTime": {
     "end_time": "2024-07-11T17:47:01.940410Z",
     "start_time": "2024-07-11T17:46:59.997298Z"
    }
   },
   "cell_type": "code",
   "source": [
    "tracemalloc.stop()\n",
    "tracemalloc.clear_traces()\n",
    "tracemalloc.start()\n",
    "pascal_list(300)"
   ],
   "id": "5ce0c0196e7c7999",
   "outputs": [
    {
     "name": "stdout",
     "output_type": "stream",
     "text": [
      "1998644 bytes\n"
     ]
    }
   ],
   "execution_count": 141
  },
  {
   "metadata": {
    "ExecuteTime": {
     "end_time": "2024-07-11T17:47:03.657838Z",
     "start_time": "2024-07-11T17:47:01.942995Z"
    }
   },
   "cell_type": "code",
   "source": [
    "tracemalloc.stop()\n",
    "tracemalloc.clear_traces()\n",
    "tracemalloc.start()\n",
    "pascal_gen(300)"
   ],
   "id": "7fb90de763dcab08",
   "outputs": [
    {
     "name": "stdout",
     "output_type": "stream",
     "text": [
      "592 bytes\n"
     ]
    }
   ],
   "execution_count": 142
  },
  {
   "metadata": {},
   "cell_type": "code",
   "outputs": [],
   "execution_count": null,
   "source": "",
   "id": "8417d9d59935d48f"
  }
 ],
 "metadata": {
  "kernelspec": {
   "display_name": "Python 3",
   "language": "python",
   "name": "python3"
  },
  "language_info": {
   "codemirror_mode": {
    "name": "ipython",
    "version": 2
   },
   "file_extension": ".py",
   "mimetype": "text/x-python",
   "name": "python",
   "nbconvert_exporter": "python",
   "pygments_lexer": "ipython2",
   "version": "2.7.6"
  }
 },
 "nbformat": 4,
 "nbformat_minor": 5
}
