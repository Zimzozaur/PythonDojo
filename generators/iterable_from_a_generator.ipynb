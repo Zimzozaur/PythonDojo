{
 "cells": [
  {
   "cell_type": "code",
   "id": "initial_id",
   "metadata": {
    "collapsed": true,
    "ExecuteTime": {
     "end_time": "2024-07-11T15:21:00.123846Z",
     "start_time": "2024-07-11T15:21:00.120517Z"
    }
   },
   "source": [
    "def square_gen(n):\n",
    "    for i in range(n):\n",
    "        yield i ** 2"
   ],
   "outputs": [],
   "execution_count": 1
  },
  {
   "metadata": {
    "ExecuteTime": {
     "end_time": "2024-07-11T15:21:05.538562Z",
     "start_time": "2024-07-11T15:21:05.535344Z"
    }
   },
   "cell_type": "code",
   "source": "sq = square_gen(5)",
   "id": "81c6e206362448d1",
   "outputs": [],
   "execution_count": 2
  },
  {
   "metadata": {
    "ExecuteTime": {
     "end_time": "2024-07-11T15:21:07.302842Z",
     "start_time": "2024-07-11T15:21:07.293243Z"
    }
   },
   "cell_type": "code",
   "source": "sq",
   "id": "52ca641b8db0ff7d",
   "outputs": [
    {
     "data": {
      "text/plain": [
       "<generator object square_gen at 0x7fb6a61b5cb0>"
      ]
     },
     "execution_count": 3,
     "metadata": {},
     "output_type": "execute_result"
    }
   ],
   "execution_count": 3
  },
  {
   "metadata": {
    "ExecuteTime": {
     "end_time": "2024-07-11T15:21:16.835914Z",
     "start_time": "2024-07-11T15:21:16.832695Z"
    }
   },
   "cell_type": "code",
   "source": [
    "for num in sq:\n",
    "    print(num)"
   ],
   "id": "33dd119553c7f44f",
   "outputs": [
    {
     "name": "stdout",
     "output_type": "stream",
     "text": [
      "0\n",
      "1\n",
      "4\n",
      "9\n",
      "16\n"
     ]
    }
   ],
   "execution_count": 4
  },
  {
   "metadata": {
    "ExecuteTime": {
     "end_time": "2024-07-11T15:25:32.891798Z",
     "start_time": "2024-07-11T15:25:32.888749Z"
    }
   },
   "cell_type": "code",
   "source": "list(sq)",
   "id": "5a9a26616dd5aff2",
   "outputs": [
    {
     "data": {
      "text/plain": [
       "[]"
      ]
     },
     "execution_count": 5,
     "metadata": {},
     "output_type": "execute_result"
    }
   ],
   "execution_count": 5
  },
  {
   "metadata": {
    "ExecuteTime": {
     "end_time": "2024-07-11T15:26:43.291360Z",
     "start_time": "2024-07-11T15:26:43.286033Z"
    }
   },
   "cell_type": "code",
   "source": [
    "class Squares:\n",
    "    def __init__(self, n):\n",
    "        self.n = n\n",
    "        \n",
    "    def __iter__(self):\n",
    "        return square_gen(self.n)"
   ],
   "id": "279a3e2b318acf99",
   "outputs": [],
   "execution_count": 6
  },
  {
   "metadata": {
    "ExecuteTime": {
     "end_time": "2024-07-11T15:27:02.798643Z",
     "start_time": "2024-07-11T15:27:02.795625Z"
    }
   },
   "cell_type": "code",
   "source": "sq = Squares(5)",
   "id": "b8e26e7cc77d5d7d",
   "outputs": [],
   "execution_count": 8
  },
  {
   "metadata": {
    "ExecuteTime": {
     "end_time": "2024-07-11T15:27:17.386901Z",
     "start_time": "2024-07-11T15:27:17.381725Z"
    }
   },
   "cell_type": "code",
   "source": "list(sq), list(sq)",
   "id": "c3c476415beec7f5",
   "outputs": [
    {
     "data": {
      "text/plain": [
       "([0, 1, 4, 9, 16], [0, 1, 4, 9, 16])"
      ]
     },
     "execution_count": 11,
     "metadata": {},
     "output_type": "execute_result"
    }
   ],
   "execution_count": 11
  },
  {
   "metadata": {
    "ExecuteTime": {
     "end_time": "2024-07-11T15:28:44.087451Z",
     "start_time": "2024-07-11T15:28:44.081809Z"
    }
   },
   "cell_type": "code",
   "source": [
    "class Squares:\n",
    "    def __init__(self, n):\n",
    "        self.n = n\n",
    "        \n",
    "    def __iter__(self):\n",
    "        return self.square_gen()\n",
    "    \n",
    "    def square_gen(self):\n",
    "        for i in range(self.n):\n",
    "            yield i ** 2"
   ],
   "id": "fb5d10d8140da115",
   "outputs": [],
   "execution_count": 12
  },
  {
   "metadata": {
    "ExecuteTime": {
     "end_time": "2024-07-11T15:28:51.726866Z",
     "start_time": "2024-07-11T15:28:51.722026Z"
    }
   },
   "cell_type": "code",
   "source": "sq = Squares(5)",
   "id": "d89226c1636c6a11",
   "outputs": [],
   "execution_count": 13
  },
  {
   "metadata": {
    "ExecuteTime": {
     "end_time": "2024-07-11T15:28:57.380437Z",
     "start_time": "2024-07-11T15:28:57.374899Z"
    }
   },
   "cell_type": "code",
   "source": "list(sq), list(sq)",
   "id": "872ff874f325d386",
   "outputs": [
    {
     "data": {
      "text/plain": [
       "([0, 1, 4, 9, 16], [0, 1, 4, 9, 16])"
      ]
     },
     "execution_count": 14,
     "metadata": {},
     "output_type": "execute_result"
    }
   ],
   "execution_count": 14
  },
  {
   "metadata": {
    "ExecuteTime": {
     "end_time": "2024-07-11T15:30:15.114396Z",
     "start_time": "2024-07-11T15:30:15.110815Z"
    }
   },
   "cell_type": "code",
   "source": [
    "def squares(n):\n",
    "    for i in range(n):\n",
    "        yield i ** 2"
   ],
   "id": "3c0fa9683843d211",
   "outputs": [],
   "execution_count": 15
  },
  {
   "metadata": {
    "ExecuteTime": {
     "end_time": "2024-07-11T15:30:50.758441Z",
     "start_time": "2024-07-11T15:30:50.754256Z"
    }
   },
   "cell_type": "code",
   "source": "sq = squares(5)",
   "id": "9837a4198945cdda",
   "outputs": [],
   "execution_count": 24
  },
  {
   "metadata": {
    "ExecuteTime": {
     "end_time": "2024-07-11T15:30:50.893286Z",
     "start_time": "2024-07-11T15:30:50.889930Z"
    }
   },
   "cell_type": "code",
   "source": "enum_sq = enumerate(sq)",
   "id": "648e3c2da9abdf37",
   "outputs": [],
   "execution_count": 25
  },
  {
   "metadata": {
    "ExecuteTime": {
     "end_time": "2024-07-11T15:30:51.275839Z",
     "start_time": "2024-07-11T15:30:51.269083Z"
    }
   },
   "cell_type": "code",
   "source": "list(enum_sq), list(enum_sq)",
   "id": "73ef06de1a1a8ad8",
   "outputs": [
    {
     "data": {
      "text/plain": [
       "([(0, 0), (1, 1), (2, 4), (3, 9), (4, 16)], [])"
      ]
     },
     "execution_count": 26,
     "metadata": {},
     "output_type": "execute_result"
    }
   ],
   "execution_count": 26
  },
  {
   "metadata": {
    "ExecuteTime": {
     "end_time": "2024-07-11T15:32:42.915792Z",
     "start_time": "2024-07-11T15:32:42.912614Z"
    }
   },
   "cell_type": "code",
   "source": "l = [1, 2, 3]",
   "id": "5d64e12da488effe",
   "outputs": [],
   "execution_count": 33
  },
  {
   "metadata": {
    "ExecuteTime": {
     "end_time": "2024-07-11T15:32:48.108883Z",
     "start_time": "2024-07-11T15:32:48.104927Z"
    }
   },
   "cell_type": "code",
   "source": "enum = enumerate(l)",
   "id": "ac21a1596116c2df",
   "outputs": [],
   "execution_count": 34
  },
  {
   "metadata": {
    "ExecuteTime": {
     "end_time": "2024-07-11T15:32:58.220158Z",
     "start_time": "2024-07-11T15:32:58.214968Z"
    }
   },
   "cell_type": "code",
   "source": "list(enum), list(enum)",
   "id": "88684f8ddf2297d",
   "outputs": [
    {
     "data": {
      "text/plain": [
       "([(0, 1), (1, 2), (2, 3)], [])"
      ]
     },
     "execution_count": 35,
     "metadata": {},
     "output_type": "execute_result"
    }
   ],
   "execution_count": 35
  },
  {
   "metadata": {
    "ExecuteTime": {
     "end_time": "2024-07-11T15:34:46.679818Z",
     "start_time": "2024-07-11T15:34:46.676564Z"
    }
   },
   "cell_type": "code",
   "source": "sq = squares(5)",
   "id": "54073717aecbc87f",
   "outputs": [],
   "execution_count": 40
  },
  {
   "metadata": {
    "ExecuteTime": {
     "end_time": "2024-07-11T15:34:47.095017Z",
     "start_time": "2024-07-11T15:34:47.089714Z"
    }
   },
   "cell_type": "code",
   "source": "next(sq), next(sq), next(sq)",
   "id": "256866921018ceee",
   "outputs": [
    {
     "data": {
      "text/plain": [
       "(0, 1, 4)"
      ]
     },
     "execution_count": 41,
     "metadata": {},
     "output_type": "execute_result"
    }
   ],
   "execution_count": 41
  },
  {
   "metadata": {
    "ExecuteTime": {
     "end_time": "2024-07-11T15:35:00.482550Z",
     "start_time": "2024-07-11T15:35:00.477537Z"
    }
   },
   "cell_type": "code",
   "source": "list(enumerate(sq))",
   "id": "3048a71f7989e637",
   "outputs": [
    {
     "data": {
      "text/plain": [
       "[(0, 9), (1, 16)]"
      ]
     },
     "execution_count": 43,
     "metadata": {},
     "output_type": "execute_result"
    }
   ],
   "execution_count": 43
  },
  {
   "metadata": {},
   "cell_type": "code",
   "outputs": [],
   "execution_count": null,
   "source": "",
   "id": "7b9b65f0daae1c0a"
  }
 ],
 "metadata": {
  "kernelspec": {
   "display_name": "Python 3",
   "language": "python",
   "name": "python3"
  },
  "language_info": {
   "codemirror_mode": {
    "name": "ipython",
    "version": 2
   },
   "file_extension": ".py",
   "mimetype": "text/x-python",
   "name": "python",
   "nbconvert_exporter": "python",
   "pygments_lexer": "ipython2",
   "version": "2.7.6"
  }
 },
 "nbformat": 4,
 "nbformat_minor": 5
}
