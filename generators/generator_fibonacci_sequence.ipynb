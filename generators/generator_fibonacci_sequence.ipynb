{
 "cells": [
  {
   "cell_type": "code",
   "id": "initial_id",
   "metadata": {
    "collapsed": true,
    "ExecuteTime": {
     "end_time": "2024-07-11T12:14:58.585513Z",
     "start_time": "2024-07-11T12:14:58.582042Z"
    }
   },
   "source": [
    "def fib_recursive(n):\n",
    "    if n <= 1: return 1\n",
    "    return fib_recursive(n - 1) + fib_recursive(n - 2)"
   ],
   "outputs": [],
   "execution_count": 2
  },
  {
   "metadata": {
    "ExecuteTime": {
     "end_time": "2024-07-11T12:16:25.542246Z",
     "start_time": "2024-07-11T12:16:04.435658Z"
    }
   },
   "cell_type": "code",
   "source": "[fib_recursive(i) for i in range(100)]",
   "id": "52007afaae205cc0",
   "outputs": [
    {
     "ename": "KeyboardInterrupt",
     "evalue": "",
     "output_type": "error",
     "traceback": [
      "\u001B[0;31m---------------------------------------------------------------------------\u001B[0m",
      "\u001B[0;31mKeyboardInterrupt\u001B[0m                         Traceback (most recent call last)",
      "Cell \u001B[0;32mIn[7], line 1\u001B[0m\n\u001B[0;32m----> 1\u001B[0m [\u001B[43mfib_recursive\u001B[49m\u001B[43m(\u001B[49m\u001B[43mi\u001B[49m\u001B[43m)\u001B[49m \u001B[38;5;28;01mfor\u001B[39;00m i \u001B[38;5;129;01min\u001B[39;00m \u001B[38;5;28mrange\u001B[39m(\u001B[38;5;241m100\u001B[39m)]\n",
      "Cell \u001B[0;32mIn[2], line 3\u001B[0m, in \u001B[0;36mfib_recursive\u001B[0;34m(n)\u001B[0m\n\u001B[1;32m      1\u001B[0m \u001B[38;5;28;01mdef\u001B[39;00m \u001B[38;5;21mfib_recursive\u001B[39m(n):\n\u001B[1;32m      2\u001B[0m     \u001B[38;5;28;01mif\u001B[39;00m n \u001B[38;5;241m<\u001B[39m\u001B[38;5;241m=\u001B[39m \u001B[38;5;241m1\u001B[39m: \u001B[38;5;28;01mreturn\u001B[39;00m \u001B[38;5;241m1\u001B[39m\n\u001B[0;32m----> 3\u001B[0m     \u001B[38;5;28;01mreturn\u001B[39;00m \u001B[43mfib_recursive\u001B[49m\u001B[43m(\u001B[49m\u001B[43mn\u001B[49m\u001B[43m \u001B[49m\u001B[38;5;241;43m-\u001B[39;49m\u001B[43m \u001B[49m\u001B[38;5;241;43m1\u001B[39;49m\u001B[43m)\u001B[49m \u001B[38;5;241m+\u001B[39m fib_recursive(n \u001B[38;5;241m-\u001B[39m \u001B[38;5;241m2\u001B[39m)\n",
      "Cell \u001B[0;32mIn[2], line 3\u001B[0m, in \u001B[0;36mfib_recursive\u001B[0;34m(n)\u001B[0m\n\u001B[1;32m      1\u001B[0m \u001B[38;5;28;01mdef\u001B[39;00m \u001B[38;5;21mfib_recursive\u001B[39m(n):\n\u001B[1;32m      2\u001B[0m     \u001B[38;5;28;01mif\u001B[39;00m n \u001B[38;5;241m<\u001B[39m\u001B[38;5;241m=\u001B[39m \u001B[38;5;241m1\u001B[39m: \u001B[38;5;28;01mreturn\u001B[39;00m \u001B[38;5;241m1\u001B[39m\n\u001B[0;32m----> 3\u001B[0m     \u001B[38;5;28;01mreturn\u001B[39;00m fib_recursive(n \u001B[38;5;241m-\u001B[39m \u001B[38;5;241m1\u001B[39m) \u001B[38;5;241m+\u001B[39m \u001B[43mfib_recursive\u001B[49m\u001B[43m(\u001B[49m\u001B[43mn\u001B[49m\u001B[43m \u001B[49m\u001B[38;5;241;43m-\u001B[39;49m\u001B[43m \u001B[49m\u001B[38;5;241;43m2\u001B[39;49m\u001B[43m)\u001B[49m\n",
      "    \u001B[0;31m[... skipping similar frames: fib_recursive at line 3 (27 times)]\u001B[0m\n",
      "Cell \u001B[0;32mIn[2], line 3\u001B[0m, in \u001B[0;36mfib_recursive\u001B[0;34m(n)\u001B[0m\n\u001B[1;32m      1\u001B[0m \u001B[38;5;28;01mdef\u001B[39;00m \u001B[38;5;21mfib_recursive\u001B[39m(n):\n\u001B[1;32m      2\u001B[0m     \u001B[38;5;28;01mif\u001B[39;00m n \u001B[38;5;241m<\u001B[39m\u001B[38;5;241m=\u001B[39m \u001B[38;5;241m1\u001B[39m: \u001B[38;5;28;01mreturn\u001B[39;00m \u001B[38;5;241m1\u001B[39m\n\u001B[0;32m----> 3\u001B[0m     \u001B[38;5;28;01mreturn\u001B[39;00m fib_recursive(n \u001B[38;5;241m-\u001B[39m \u001B[38;5;241m1\u001B[39m) \u001B[38;5;241m+\u001B[39m \u001B[43mfib_recursive\u001B[49m\u001B[43m(\u001B[49m\u001B[43mn\u001B[49m\u001B[43m \u001B[49m\u001B[38;5;241;43m-\u001B[39;49m\u001B[43m \u001B[49m\u001B[38;5;241;43m2\u001B[39;49m\u001B[43m)\u001B[49m\n",
      "Cell \u001B[0;32mIn[2], line 1\u001B[0m, in \u001B[0;36mfib_recursive\u001B[0;34m(n)\u001B[0m\n\u001B[0;32m----> 1\u001B[0m \u001B[38;5;28;01mdef\u001B[39;00m \u001B[38;5;21mfib_recursive\u001B[39m(n):\n\u001B[1;32m      2\u001B[0m     \u001B[38;5;28;01mif\u001B[39;00m n \u001B[38;5;241m<\u001B[39m\u001B[38;5;241m=\u001B[39m \u001B[38;5;241m1\u001B[39m: \u001B[38;5;28;01mreturn\u001B[39;00m \u001B[38;5;241m1\u001B[39m\n\u001B[1;32m      3\u001B[0m     \u001B[38;5;28;01mreturn\u001B[39;00m fib_recursive(n \u001B[38;5;241m-\u001B[39m \u001B[38;5;241m1\u001B[39m) \u001B[38;5;241m+\u001B[39m fib_recursive(n \u001B[38;5;241m-\u001B[39m \u001B[38;5;241m2\u001B[39m)\n",
      "\u001B[0;31mKeyboardInterrupt\u001B[0m: "
     ]
    }
   ],
   "execution_count": 7
  },
  {
   "metadata": {
    "ExecuteTime": {
     "end_time": "2024-07-11T12:16:37.998385Z",
     "start_time": "2024-07-11T12:16:37.995704Z"
    }
   },
   "cell_type": "code",
   "source": "from timeit import timeit",
   "id": "87d2e50d8055d0bc",
   "outputs": [],
   "execution_count": 8
  },
  {
   "metadata": {
    "ExecuteTime": {
     "end_time": "2024-07-11T12:17:01.823902Z",
     "start_time": "2024-07-11T12:17:01.818875Z"
    }
   },
   "cell_type": "code",
   "source": "timeit('fib_recursive(10)', globals=globals(), number=10)",
   "id": "8c01c1194c59f6d9",
   "outputs": [
    {
     "data": {
      "text/plain": [
       "0.00012006100223516114"
      ]
     },
     "execution_count": 9,
     "metadata": {},
     "output_type": "execute_result"
    }
   ],
   "execution_count": 9
  },
  {
   "metadata": {
    "ExecuteTime": {
     "end_time": "2024-07-11T12:17:09.611484Z",
     "start_time": "2024-07-11T12:17:08.243918Z"
    }
   },
   "cell_type": "code",
   "source": "timeit('fib_recursive(30)', globals=globals(), number=10)",
   "id": "49c6f6c77d9d85dd",
   "outputs": [
    {
     "data": {
      "text/plain": [
       "1.3635258520007483"
      ]
     },
     "execution_count": 10,
     "metadata": {},
     "output_type": "execute_result"
    }
   ],
   "execution_count": 10
  },
  {
   "metadata": {
    "ExecuteTime": {
     "end_time": "2024-07-11T12:17:33.866969Z",
     "start_time": "2024-07-11T12:17:31.682828Z"
    }
   },
   "cell_type": "code",
   "source": "timeit('fib_recursive(31)', globals=globals(), number=10)",
   "id": "4720c935f26fa398",
   "outputs": [
    {
     "data": {
      "text/plain": [
       "2.1806904939985543"
      ]
     },
     "execution_count": 11,
     "metadata": {},
     "output_type": "execute_result"
    }
   ],
   "execution_count": 11
  },
  {
   "metadata": {
    "ExecuteTime": {
     "end_time": "2024-07-11T12:17:53.827371Z",
     "start_time": "2024-07-11T12:17:53.824133Z"
    }
   },
   "cell_type": "code",
   "source": "from functools import lru_cache",
   "id": "5d60bbbab4049991",
   "outputs": [],
   "execution_count": 12
  },
  {
   "metadata": {
    "ExecuteTime": {
     "end_time": "2024-07-11T12:18:05.928118Z",
     "start_time": "2024-07-11T12:18:05.924532Z"
    }
   },
   "cell_type": "code",
   "source": [
    "@lru_cache()\n",
    "def fib_recursive(n):\n",
    "    if n <= 1: return 1\n",
    "    return fib_recursive(n - 1) + fib_recursive(n - 2)"
   ],
   "id": "f85c848420a791c9",
   "outputs": [],
   "execution_count": 13
  },
  {
   "metadata": {
    "ExecuteTime": {
     "end_time": "2024-07-11T12:18:12.965931Z",
     "start_time": "2024-07-11T12:18:12.960173Z"
    }
   },
   "cell_type": "code",
   "source": "timeit('fib_recursive(10)', globals=globals(), number=10)",
   "id": "c1aa205534001c73",
   "outputs": [
    {
     "data": {
      "text/plain": [
       "4.140001692576334e-06"
      ]
     },
     "execution_count": 15,
     "metadata": {},
     "output_type": "execute_result"
    }
   ],
   "execution_count": 15
  },
  {
   "metadata": {
    "ExecuteTime": {
     "end_time": "2024-07-11T12:18:20.996933Z",
     "start_time": "2024-07-11T12:18:20.991920Z"
    }
   },
   "cell_type": "code",
   "source": "timeit('fib_recursive(30)', globals=globals(), number=10)",
   "id": "4c31d5d806764b38",
   "outputs": [
    {
     "data": {
      "text/plain": [
       "4.239998816046864e-06"
      ]
     },
     "execution_count": 17,
     "metadata": {},
     "output_type": "execute_result"
    }
   ],
   "execution_count": 17
  },
  {
   "metadata": {
    "ExecuteTime": {
     "end_time": "2024-07-11T12:18:25.367486Z",
     "start_time": "2024-07-11T12:18:25.363662Z"
    }
   },
   "cell_type": "code",
   "source": "timeit('fib_recursive(31)', globals=globals(), number=10)",
   "id": "23f4f940fde469b2",
   "outputs": [
    {
     "data": {
      "text/plain": [
       "3.740002284757793e-06"
      ]
     },
     "execution_count": 18,
     "metadata": {},
     "output_type": "execute_result"
    }
   ],
   "execution_count": 18
  },
  {
   "metadata": {
    "ExecuteTime": {
     "end_time": "2024-07-11T12:21:19.294286Z",
     "start_time": "2024-07-11T12:21:19.290699Z"
    }
   },
   "cell_type": "code",
   "source": [
    "def fib(n):\n",
    "    fib_0 = 1\n",
    "    fib_1 = 1\n",
    "    for i in range(n):\n",
    "        fib_0, fib_1 = fib_1, fib_1 + fib_0\n",
    "    return fib_0"
   ],
   "id": "5c2024e6c768bd6c",
   "outputs": [],
   "execution_count": 28
  },
  {
   "metadata": {
    "ExecuteTime": {
     "end_time": "2024-07-11T12:21:45.478514Z",
     "start_time": "2024-07-11T12:21:45.472980Z"
    }
   },
   "cell_type": "code",
   "source": "[fib(i) for i in range(7)]",
   "id": "1c3c8865e5f33ed5",
   "outputs": [
    {
     "data": {
      "text/plain": [
       "[1, 1, 2, 3, 5, 8, 13]"
      ]
     },
     "execution_count": 30,
     "metadata": {},
     "output_type": "execute_result"
    }
   ],
   "execution_count": 30
  },
  {
   "metadata": {
    "ExecuteTime": {
     "end_time": "2024-07-11T12:22:30.353435Z",
     "start_time": "2024-07-11T12:22:30.347852Z"
    }
   },
   "cell_type": "code",
   "source": "timeit('fib(10)', globals=globals(), number=10)",
   "id": "5ec212643fe6c51f",
   "outputs": [
    {
     "data": {
      "text/plain": [
       "1.030999919748865e-05"
      ]
     },
     "execution_count": 36,
     "metadata": {},
     "output_type": "execute_result"
    }
   ],
   "execution_count": 36
  },
  {
   "metadata": {
    "ExecuteTime": {
     "end_time": "2024-07-11T12:22:31.300330Z",
     "start_time": "2024-07-11T12:22:31.294491Z"
    }
   },
   "cell_type": "code",
   "source": "timeit('fib(30)', globals=globals(), number=10)",
   "id": "db48b99d1b1473c0",
   "outputs": [
    {
     "data": {
      "text/plain": [
       "2.384999970672652e-05"
      ]
     },
     "execution_count": 37,
     "metadata": {},
     "output_type": "execute_result"
    }
   ],
   "execution_count": 37
  },
  {
   "metadata": {
    "ExecuteTime": {
     "end_time": "2024-07-11T12:22:31.811614Z",
     "start_time": "2024-07-11T12:22:31.804131Z"
    }
   },
   "cell_type": "code",
   "source": "timeit('fib(300)', globals=globals(), number=10)",
   "id": "292104cd84ca4f20",
   "outputs": [
    {
     "data": {
      "text/plain": [
       "0.0004100420010217931"
      ]
     },
     "execution_count": 38,
     "metadata": {},
     "output_type": "execute_result"
    }
   ],
   "execution_count": 38
  },
  {
   "metadata": {
    "ExecuteTime": {
     "end_time": "2024-07-11T12:25:23.454033Z",
     "start_time": "2024-07-11T12:25:23.448638Z"
    }
   },
   "cell_type": "code",
   "source": [
    "class FibIter:\n",
    "    def __init__(self, n):\n",
    "        self.n = n\n",
    "        self.i = 0\n",
    "        \n",
    "    def __iter__(self):\n",
    "        return self\n",
    "    \n",
    "    def fib(self):\n",
    "        fib_0 = 1\n",
    "        fib_1 = 1\n",
    "        for i in range(self.i):\n",
    "            fib_0, fib_1 = fib_1, fib_1 + fib_0\n",
    "        return fib_0\n",
    "    \n",
    "    def __next__(self):\n",
    "        if self.i >= self.n:\n",
    "            raise StopIteration\n",
    "        res = self.fib()\n",
    "        self.i += 1\n",
    "        return res"
   ],
   "id": "f33567f786f0cbe9",
   "outputs": [],
   "execution_count": 41
  },
  {
   "metadata": {
    "ExecuteTime": {
     "end_time": "2024-07-11T12:25:23.740661Z",
     "start_time": "2024-07-11T12:25:23.734317Z"
    }
   },
   "cell_type": "code",
   "source": "[fib for fib in FibIter(7)]",
   "id": "c662ef5e76f879e3",
   "outputs": [
    {
     "data": {
      "text/plain": [
       "[1, 1, 2, 3, 5, 8, 13]"
      ]
     },
     "execution_count": 42,
     "metadata": {},
     "output_type": "execute_result"
    }
   ],
   "execution_count": 42
  },
  {
   "metadata": {
    "ExecuteTime": {
     "end_time": "2024-07-11T12:33:32.129843Z",
     "start_time": "2024-07-11T12:33:32.126472Z"
    }
   },
   "cell_type": "code",
   "source": [
    "def FibGen(n):\n",
    "    fib_0 = 0\n",
    "    fib_1 = 1\n",
    "    for i in range(n):\n",
    "        fib_0, fib_1 = fib_1, fib_1 + fib_0\n",
    "        yield fib_0"
   ],
   "id": "570d1efc368a3b7a",
   "outputs": [],
   "execution_count": 64
  },
  {
   "metadata": {
    "ExecuteTime": {
     "end_time": "2024-07-11T12:33:33.340595Z",
     "start_time": "2024-07-11T12:33:33.335695Z"
    }
   },
   "cell_type": "code",
   "source": "[fib for fib in FibGen(3)]",
   "id": "b11d5165296edd07",
   "outputs": [
    {
     "data": {
      "text/plain": [
       "[1, 1, 2]"
      ]
     },
     "execution_count": 65,
     "metadata": {},
     "output_type": "execute_result"
    }
   ],
   "execution_count": 65
  },
  {
   "metadata": {
    "ExecuteTime": {
     "end_time": "2024-07-11T12:33:33.624861Z",
     "start_time": "2024-07-11T12:33:33.621044Z"
    }
   },
   "cell_type": "code",
   "source": [
    "def fib_standard(n):\n",
    "    fib_0 = 1\n",
    "    fib_1 = 1\n",
    "    for i in range(n):\n",
    "        fib_0, fib_1 = fib_1, fib_1 + fib_0\n",
    "    return fib_0"
   ],
   "id": "699d2e4757f45839",
   "outputs": [],
   "execution_count": 66
  },
  {
   "metadata": {
    "ExecuteTime": {
     "end_time": "2024-07-11T12:36:43.798491Z",
     "start_time": "2024-07-11T12:36:43.794688Z"
    }
   },
   "cell_type": "code",
   "source": [
    "def fib_gen(n):\n",
    "    fib_0 = 0\n",
    "    fib_1 = 1\n",
    "    for i in range(n):\n",
    "        fib_0, fib_1 = fib_1, fib_1 + fib_0\n",
    "        yield fib_0"
   ],
   "id": "6edd43f4265ce862",
   "outputs": [],
   "execution_count": 70
  },
  {
   "metadata": {},
   "cell_type": "code",
   "outputs": [],
   "execution_count": null,
   "source": [
    "class FibIter:\n",
    "    def __init__(self, n):\n",
    "        self.n = n\n",
    "        self.i = 0\n",
    "        \n",
    "    def __iter__(self):\n",
    "        return self\n",
    "    \n",
    "    def fib(self):\n",
    "        fib_0 = 1\n",
    "        fib_1 = 1\n",
    "        for i in range(self.i):\n",
    "            fib_0, fib_1 = fib_1, fib_1 + fib_0\n",
    "        return fib_0\n",
    "    \n",
    "    def __next__(self):\n",
    "        if self.i >= self.n:\n",
    "            raise StopIteration\n",
    "        res = self.fib()\n",
    "        self.i += 1\n",
    "        return res"
   ],
   "id": "4977c13352ca4c03"
  },
  {
   "metadata": {
    "ExecuteTime": {
     "end_time": "2024-07-11T12:36:16.275977Z",
     "start_time": "2024-07-11T12:36:15.173936Z"
    }
   },
   "cell_type": "code",
   "source": "timeit('list(FibIter(5_000))', globals=globals(), number=1)",
   "id": "c47717e5173bf648",
   "outputs": [
    {
     "data": {
      "text/plain": [
       "1.0978804970000056"
      ]
     },
     "execution_count": 68,
     "metadata": {},
     "output_type": "execute_result"
    }
   ],
   "execution_count": 68
  },
  {
   "metadata": {
    "ExecuteTime": {
     "end_time": "2024-07-11T12:36:48.645376Z",
     "start_time": "2024-07-11T12:36:48.638435Z"
    }
   },
   "cell_type": "code",
   "source": "timeit('list(fib_gen(5_000))', globals=globals(), number=1)",
   "id": "a8045aab04c4fdb5",
   "outputs": [
    {
     "data": {
      "text/plain": [
       "0.0015218279986584093"
      ]
     },
     "execution_count": 71,
     "metadata": {},
     "output_type": "execute_result"
    }
   ],
   "execution_count": 71
  },
  {
   "metadata": {},
   "cell_type": "code",
   "outputs": [],
   "execution_count": null,
   "source": "",
   "id": "18a95fb6397f8c96"
  }
 ],
 "metadata": {
  "kernelspec": {
   "display_name": "Python 3",
   "language": "python",
   "name": "python3"
  },
  "language_info": {
   "codemirror_mode": {
    "name": "ipython",
    "version": 2
   },
   "file_extension": ".py",
   "mimetype": "text/x-python",
   "name": "python",
   "nbconvert_exporter": "python",
   "pygments_lexer": "ipython2",
   "version": "2.7.6"
  }
 },
 "nbformat": 4,
 "nbformat_minor": 5
}
