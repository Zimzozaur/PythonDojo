{
 "cells": [
  {
   "cell_type": "code",
   "id": "initial_id",
   "metadata": {
    "collapsed": true,
    "ExecuteTime": {
     "end_time": "2024-06-13T06:55:23.318178Z",
     "start_time": "2024-06-13T06:55:23.314184Z"
    }
   },
   "source": [
    "class X:\n",
    "    x = 10\n",
    "\n",
    "def test():\n",
    "    class Test:\n",
    "        def __init__(self):\n",
    "            self.x = X().x\n",
    "            \n",
    "    t = Test()"
   ],
   "outputs": [],
   "execution_count": 5
  },
  {
   "metadata": {
    "ExecuteTime": {
     "end_time": "2024-06-13T06:55:23.618927Z",
     "start_time": "2024-06-13T06:55:23.614896Z"
    }
   },
   "cell_type": "code",
   "source": "from dis import dis",
   "id": "8a023d24c7626ff1",
   "outputs": [],
   "execution_count": 6
  },
  {
   "metadata": {
    "ExecuteTime": {
     "end_time": "2024-06-13T06:55:24.691693Z",
     "start_time": "2024-06-13T06:55:24.686497Z"
    }
   },
   "cell_type": "code",
   "source": "dis(test)",
   "id": "da24a9bcf5f3e5e2",
   "outputs": [
    {
     "name": "stdout",
     "output_type": "stream",
     "text": [
      "  4           0 RESUME                   0\n",
      "\n",
      "  5           2 PUSH_NULL\n",
      "              4 LOAD_BUILD_CLASS\n",
      "              6 LOAD_CONST               1 (<code object Test at 0x7f55609acb90, file \"/tmp/ipykernel_5712/2618134790.py\", line 5>)\n",
      "              8 MAKE_FUNCTION            0\n",
      "             10 LOAD_CONST               2 ('Test')\n",
      "             12 CALL                     2\n",
      "             20 STORE_FAST               0 (Test)\n",
      "\n",
      "  9          22 PUSH_NULL\n",
      "             24 LOAD_FAST                0 (Test)\n",
      "             26 CALL                     0\n",
      "             34 STORE_FAST               1 (t)\n",
      "             36 RETURN_CONST             0 (None)\n",
      "\n",
      "Disassembly of <code object Test at 0x7f55609acb90, file \"/tmp/ipykernel_5712/2618134790.py\", line 5>:\n",
      "  5           0 RESUME                   0\n",
      "              2 LOAD_NAME                0 (__name__)\n",
      "              4 STORE_NAME               1 (__module__)\n",
      "              6 LOAD_CONST               0 ('test.<locals>.Test')\n",
      "              8 STORE_NAME               2 (__qualname__)\n",
      "\n",
      "  6          10 LOAD_CONST               1 (<code object __init__ at 0x7f5561d1b230, file \"/tmp/ipykernel_5712/2618134790.py\", line 6>)\n",
      "             12 MAKE_FUNCTION            0\n",
      "             14 STORE_NAME               3 (__init__)\n",
      "             16 RETURN_CONST             2 (None)\n",
      "\n",
      "Disassembly of <code object __init__ at 0x7f5561d1b230, file \"/tmp/ipykernel_5712/2618134790.py\", line 6>:\n",
      "  6           0 RESUME                   0\n",
      "\n",
      "  7           2 LOAD_GLOBAL              1 (NULL + X)\n",
      "             12 CALL                     0\n",
      "             20 LOAD_ATTR                2 (x)\n",
      "             40 LOAD_FAST                0 (self)\n",
      "             42 STORE_ATTR               1 (x)\n",
      "             52 RETURN_CONST             0 (None)\n"
     ]
    }
   ],
   "execution_count": 7
  },
  {
   "metadata": {},
   "cell_type": "code",
   "outputs": [],
   "execution_count": null,
   "source": "",
   "id": "a3c162143d8e5812"
  }
 ],
 "metadata": {
  "kernelspec": {
   "display_name": "Python 3",
   "language": "python",
   "name": "python3"
  },
  "language_info": {
   "codemirror_mode": {
    "name": "ipython",
    "version": 2
   },
   "file_extension": ".py",
   "mimetype": "text/x-python",
   "name": "python",
   "nbconvert_exporter": "python",
   "pygments_lexer": "ipython2",
   "version": "2.7.6"
  }
 },
 "nbformat": 4,
 "nbformat_minor": 5
}
