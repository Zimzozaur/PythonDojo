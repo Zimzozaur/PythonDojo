{
 "cells": [
  {
   "cell_type": "code",
   "id": "initial_id",
   "metadata": {
    "collapsed": true,
    "ExecuteTime": {
     "end_time": "2024-06-11T08:44:39.028084Z",
     "start_time": "2024-06-11T08:44:39.024838Z"
    }
   },
   "source": [
    "class BankAccount:\n",
    "    apr = 1.2"
   ],
   "outputs": [],
   "execution_count": 16
  },
  {
   "metadata": {
    "ExecuteTime": {
     "end_time": "2024-06-11T08:44:39.048931Z",
     "start_time": "2024-06-11T08:44:39.044085Z"
    }
   },
   "cell_type": "code",
   "source": "BankAccount.__dict__",
   "id": "847a55d2a98dbac5",
   "outputs": [
    {
     "data": {
      "text/plain": [
       "mappingproxy({'__module__': '__main__',\n",
       "              'apr': 1.2,\n",
       "              '__dict__': <attribute '__dict__' of 'BankAccount' objects>,\n",
       "              '__weakref__': <attribute '__weakref__' of 'BankAccount' objects>,\n",
       "              '__doc__': None})"
      ]
     },
     "execution_count": 17,
     "metadata": {},
     "output_type": "execute_result"
    }
   ],
   "execution_count": 17
  },
  {
   "metadata": {
    "ExecuteTime": {
     "end_time": "2024-06-11T08:44:39.069995Z",
     "start_time": "2024-06-11T08:44:39.065353Z"
    }
   },
   "cell_type": "code",
   "source": "BankAccount.apr",
   "id": "e0e31ffb1eaaa11d",
   "outputs": [
    {
     "data": {
      "text/plain": [
       "1.2"
      ]
     },
     "execution_count": 18,
     "metadata": {},
     "output_type": "execute_result"
    }
   ],
   "execution_count": 18
  },
  {
   "metadata": {
    "ExecuteTime": {
     "end_time": "2024-06-11T08:44:39.076688Z",
     "start_time": "2024-06-11T08:44:39.071964Z"
    }
   },
   "cell_type": "code",
   "source": [
    "acc_1 = BankAccount()\n",
    "acc_2 = BankAccount()"
   ],
   "id": "f5d501919f5243a7",
   "outputs": [],
   "execution_count": 19
  },
  {
   "metadata": {
    "ExecuteTime": {
     "end_time": "2024-06-11T08:44:39.103386Z",
     "start_time": "2024-06-11T08:44:39.098580Z"
    }
   },
   "cell_type": "code",
   "source": "acc_1 is acc_2",
   "id": "16f769cc0be5cdd3",
   "outputs": [
    {
     "data": {
      "text/plain": [
       "False"
      ]
     },
     "execution_count": 20,
     "metadata": {},
     "output_type": "execute_result"
    }
   ],
   "execution_count": 20
  },
  {
   "metadata": {
    "ExecuteTime": {
     "end_time": "2024-06-11T08:44:39.137791Z",
     "start_time": "2024-06-11T08:44:39.133416Z"
    }
   },
   "cell_type": "code",
   "source": "acc_1.__dict__, acc_2.__dict__",
   "id": "71030e78e089c53b",
   "outputs": [
    {
     "data": {
      "text/plain": [
       "({}, {})"
      ]
     },
     "execution_count": 21,
     "metadata": {},
     "output_type": "execute_result"
    }
   ],
   "execution_count": 21
  },
  {
   "metadata": {
    "ExecuteTime": {
     "end_time": "2024-06-11T08:44:39.165817Z",
     "start_time": "2024-06-11T08:44:39.139236Z"
    }
   },
   "cell_type": "code",
   "source": "acc_1.apr, acc_2.apr",
   "id": "6686c4bd909465e6",
   "outputs": [
    {
     "data": {
      "text/plain": [
       "(1.2, 1.2)"
      ]
     },
     "execution_count": 22,
     "metadata": {},
     "output_type": "execute_result"
    }
   ],
   "execution_count": 22
  },
  {
   "metadata": {
    "ExecuteTime": {
     "end_time": "2024-06-11T08:44:39.171998Z",
     "start_time": "2024-06-11T08:44:39.167431Z"
    }
   },
   "cell_type": "code",
   "source": "BankAccount.account_type = \"Savings\"",
   "id": "f7780e6e0cbb070c",
   "outputs": [],
   "execution_count": 23
  },
  {
   "metadata": {
    "ExecuteTime": {
     "end_time": "2024-06-11T08:44:39.200257Z",
     "start_time": "2024-06-11T08:44:39.188410Z"
    }
   },
   "cell_type": "code",
   "source": "acc_1.account_type, acc_2.account_type",
   "id": "d169e5b2a04be063",
   "outputs": [
    {
     "data": {
      "text/plain": [
       "('Savings', 'Savings')"
      ]
     },
     "execution_count": 24,
     "metadata": {},
     "output_type": "execute_result"
    }
   ],
   "execution_count": 24
  },
  {
   "metadata": {
    "ExecuteTime": {
     "end_time": "2024-06-11T08:44:39.206251Z",
     "start_time": "2024-06-11T08:44:39.201970Z"
    }
   },
   "cell_type": "code",
   "source": "acc_1.apr = 0",
   "id": "28dcdb7ea6210897",
   "outputs": [],
   "execution_count": 25
  },
  {
   "metadata": {
    "ExecuteTime": {
     "end_time": "2024-06-11T08:44:39.213734Z",
     "start_time": "2024-06-11T08:44:39.209985Z"
    }
   },
   "cell_type": "code",
   "source": "acc_1.__dict__, acc_2.__dict__",
   "id": "153e5acc05e3a16c",
   "outputs": [
    {
     "data": {
      "text/plain": [
       "({'apr': 0}, {})"
      ]
     },
     "execution_count": 26,
     "metadata": {},
     "output_type": "execute_result"
    }
   ],
   "execution_count": 26
  },
  {
   "metadata": {
    "ExecuteTime": {
     "end_time": "2024-06-11T08:44:39.240773Z",
     "start_time": "2024-06-11T08:44:39.236843Z"
    }
   },
   "cell_type": "code",
   "source": "acc_1.apr, acc_2.apr",
   "id": "13f3887b92654cf3",
   "outputs": [
    {
     "data": {
      "text/plain": [
       "(0, 1.2)"
      ]
     },
     "execution_count": 27,
     "metadata": {},
     "output_type": "execute_result"
    }
   ],
   "execution_count": 27
  },
  {
   "metadata": {
    "ExecuteTime": {
     "end_time": "2024-06-11T08:44:57.184055Z",
     "start_time": "2024-06-11T08:44:57.179731Z"
    }
   },
   "cell_type": "code",
   "source": "type(BankAccount.__dict__), type(acc_1.__dict__)",
   "id": "7d34676875d4f6b",
   "outputs": [
    {
     "data": {
      "text/plain": [
       "(mappingproxy, dict)"
      ]
     },
     "execution_count": 30,
     "metadata": {},
     "output_type": "execute_result"
    }
   ],
   "execution_count": 30
  },
  {
   "metadata": {
    "ExecuteTime": {
     "end_time": "2024-06-11T08:45:40.900287Z",
     "start_time": "2024-06-11T08:45:40.897597Z"
    }
   },
   "cell_type": "code",
   "source": [
    "class Program:\n",
    "    language = 'Python'"
   ],
   "id": "bd2f0ac15c22cc23",
   "outputs": [],
   "execution_count": 31
  },
  {
   "metadata": {
    "ExecuteTime": {
     "end_time": "2024-06-11T08:45:53.468598Z",
     "start_time": "2024-06-11T08:45:53.464779Z"
    }
   },
   "cell_type": "code",
   "source": "p = Program()",
   "id": "7fffc7e6f3484389",
   "outputs": [],
   "execution_count": 32
  },
  {
   "metadata": {
    "ExecuteTime": {
     "end_time": "2024-06-11T08:45:59.633825Z",
     "start_time": "2024-06-11T08:45:59.629970Z"
    }
   },
   "cell_type": "code",
   "source": "p.__dict__",
   "id": "f61d81ec455397e",
   "outputs": [
    {
     "data": {
      "text/plain": [
       "{}"
      ]
     },
     "execution_count": 34,
     "metadata": {},
     "output_type": "execute_result"
    }
   ],
   "execution_count": 34
  },
  {
   "metadata": {
    "ExecuteTime": {
     "end_time": "2024-06-11T08:47:13.836843Z",
     "start_time": "2024-06-11T08:47:13.833387Z"
    }
   },
   "cell_type": "code",
   "source": [
    "def prynt():\n",
    "    print('Hello World!')"
   ],
   "id": "e1b1e7720dd37b30",
   "outputs": [],
   "execution_count": 35
  },
  {
   "metadata": {
    "ExecuteTime": {
     "end_time": "2024-06-11T08:47:18.299145Z",
     "start_time": "2024-06-11T08:47:18.296009Z"
    }
   },
   "cell_type": "code",
   "source": "p.__dict__['prynt'] = prynt ",
   "id": "a7afdb5b3d89d6e1",
   "outputs": [],
   "execution_count": 37
  },
  {
   "metadata": {
    "ExecuteTime": {
     "end_time": "2024-06-11T08:47:22.286548Z",
     "start_time": "2024-06-11T08:47:22.283533Z"
    }
   },
   "cell_type": "code",
   "source": "p.prynt()",
   "id": "a0f28571b7300d76",
   "outputs": [
    {
     "name": "stdout",
     "output_type": "stream",
     "text": [
      "Hello World!\n"
     ]
    }
   ],
   "execution_count": 38
  },
  {
   "metadata": {
    "ExecuteTime": {
     "end_time": "2024-06-11T08:47:31.261414Z",
     "start_time": "2024-06-11T08:47:31.257233Z"
    }
   },
   "cell_type": "code",
   "source": "p.__dict__",
   "id": "d62a7fa2343ff730",
   "outputs": [
    {
     "data": {
      "text/plain": [
       "{'prynt': <function __main__.prynt()>}"
      ]
     },
     "execution_count": 39,
     "metadata": {},
     "output_type": "execute_result"
    }
   ],
   "execution_count": 39
  },
  {
   "metadata": {},
   "cell_type": "code",
   "outputs": [],
   "execution_count": null,
   "source": "",
   "id": "19da55c29cccb9b"
  }
 ],
 "metadata": {
  "kernelspec": {
   "display_name": "Python 3",
   "language": "python",
   "name": "python3"
  },
  "language_info": {
   "codemirror_mode": {
    "name": "ipython",
    "version": 2
   },
   "file_extension": ".py",
   "mimetype": "text/x-python",
   "name": "python",
   "nbconvert_exporter": "python",
   "pygments_lexer": "ipython2",
   "version": "2.7.6"
  }
 },
 "nbformat": 4,
 "nbformat_minor": 5
}
