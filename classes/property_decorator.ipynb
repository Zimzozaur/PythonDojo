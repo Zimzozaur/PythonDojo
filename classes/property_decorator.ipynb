{
 "cells": [
  {
   "metadata": {
    "ExecuteTime": {
     "end_time": "2024-06-12T10:47:08.697087Z",
     "start_time": "2024-06-12T10:47:08.693015Z"
    }
   },
   "cell_type": "code",
   "source": [
    "def my_decorator(fn):\n",
    "    print('decorating function')\n",
    "    def inner(*args, **kwargs):\n",
    "        print('running decorated function')\n",
    "        return fn(*args, **kwargs)\n",
    "    return inner"
   ],
   "id": "ce4c8aec6e4c488a",
   "outputs": [],
   "execution_count": 74
  },
  {
   "metadata": {
    "ExecuteTime": {
     "end_time": "2024-06-12T10:47:08.712997Z",
     "start_time": "2024-06-12T10:47:08.709376Z"
    }
   },
   "cell_type": "code",
   "source": [
    "def undecorated_function(x, y):\n",
    "    print('running original function')\n",
    "    return x + y"
   ],
   "id": "ba76657b407793a1",
   "outputs": [],
   "execution_count": 75
  },
  {
   "metadata": {
    "ExecuteTime": {
     "end_time": "2024-06-12T10:47:08.721249Z",
     "start_time": "2024-06-12T10:47:08.714981Z"
    }
   },
   "cell_type": "code",
   "source": "decorated_func = my_decorator(undecorated_function)",
   "id": "3c10e850e65f9162",
   "outputs": [
    {
     "name": "stdout",
     "output_type": "stream",
     "text": [
      "decorating function\n"
     ]
    }
   ],
   "execution_count": 76
  },
  {
   "metadata": {
    "ExecuteTime": {
     "end_time": "2024-06-12T10:47:08.744205Z",
     "start_time": "2024-06-12T10:47:08.740008Z"
    }
   },
   "cell_type": "code",
   "source": "decorated_func(1, 2)",
   "id": "55dd63cdac336f5b",
   "outputs": [
    {
     "name": "stdout",
     "output_type": "stream",
     "text": [
      "running decorated function\n",
      "running original function\n"
     ]
    },
    {
     "data": {
      "text/plain": [
       "3"
      ]
     },
     "execution_count": 77,
     "metadata": {},
     "output_type": "execute_result"
    }
   ],
   "execution_count": 77
  },
  {
   "metadata": {
    "ExecuteTime": {
     "end_time": "2024-06-12T10:47:08.751767Z",
     "start_time": "2024-06-12T10:47:08.748069Z"
    }
   },
   "cell_type": "code",
   "source": "decorated_func",
   "id": "839851bdfb370bc3",
   "outputs": [
    {
     "data": {
      "text/plain": [
       "<function __main__.my_decorator.<locals>.inner(*args, **kwargs)>"
      ]
     },
     "execution_count": 78,
     "metadata": {},
     "output_type": "execute_result"
    }
   ],
   "execution_count": 78
  },
  {
   "metadata": {
    "ExecuteTime": {
     "end_time": "2024-06-12T10:47:08.782893Z",
     "start_time": "2024-06-12T10:47:08.779592Z"
    }
   },
   "cell_type": "code",
   "source": [
    "class Person:\n",
    "    def __init__(self, name):\n",
    "        self._name = name\n",
    "        \n",
    "    @property\n",
    "    def name(self):\n",
    "        print('getter called')\n",
    "        return self._name"
   ],
   "id": "9619f1afa2664706",
   "outputs": [],
   "execution_count": 79
  },
  {
   "metadata": {
    "ExecuteTime": {
     "end_time": "2024-06-12T10:47:08.818461Z",
     "start_time": "2024-06-12T10:47:08.815396Z"
    }
   },
   "cell_type": "code",
   "source": "p = Person('Toad')",
   "id": "d0eae15f3d498b74",
   "outputs": [],
   "execution_count": 80
  },
  {
   "metadata": {
    "ExecuteTime": {
     "end_time": "2024-06-12T10:47:08.829792Z",
     "start_time": "2024-06-12T10:47:08.825764Z"
    }
   },
   "cell_type": "code",
   "source": "p.name",
   "id": "4575d2af237c492f",
   "outputs": [
    {
     "name": "stdout",
     "output_type": "stream",
     "text": [
      "getter called\n"
     ]
    },
    {
     "data": {
      "text/plain": [
       "'Toad'"
      ]
     },
     "execution_count": 81,
     "metadata": {},
     "output_type": "execute_result"
    }
   ],
   "execution_count": 81
  },
  {
   "metadata": {
    "ExecuteTime": {
     "end_time": "2024-06-12T10:48:42.238743Z",
     "start_time": "2024-06-12T10:48:42.234589Z"
    }
   },
   "cell_type": "code",
   "source": [
    "def get_prop(self):\n",
    "    print('getter called')\n",
    "\n",
    "def set_prop(self, value):\n",
    "    print('setter called')\n",
    "\n",
    "def del_prop(self):\n",
    "    print('deleter called')"
   ],
   "id": "a6063acc4a46f460",
   "outputs": [],
   "execution_count": 101
  },
  {
   "metadata": {
    "ExecuteTime": {
     "end_time": "2024-06-12T10:48:42.433396Z",
     "start_time": "2024-06-12T10:48:42.429825Z"
    }
   },
   "cell_type": "code",
   "source": "p = property(get_prop)",
   "id": "2fb43be210c72c07",
   "outputs": [],
   "execution_count": 102
  },
  {
   "metadata": {
    "ExecuteTime": {
     "end_time": "2024-06-12T10:48:42.592385Z",
     "start_time": "2024-06-12T10:48:42.587921Z"
    }
   },
   "cell_type": "code",
   "source": "p.fget",
   "id": "92f59ca3da1d2540",
   "outputs": [
    {
     "data": {
      "text/plain": [
       "<function __main__.get_prop(self)>"
      ]
     },
     "execution_count": 103,
     "metadata": {},
     "output_type": "execute_result"
    }
   ],
   "execution_count": 103
  },
  {
   "metadata": {
    "ExecuteTime": {
     "end_time": "2024-06-12T10:48:42.748572Z",
     "start_time": "2024-06-12T10:48:42.743189Z"
    }
   },
   "cell_type": "code",
   "source": "p1 = p.setter(set_prop)",
   "id": "c05f5ab76ee2ae95",
   "outputs": [],
   "execution_count": 104
  },
  {
   "metadata": {
    "ExecuteTime": {
     "end_time": "2024-06-12T10:48:42.907564Z",
     "start_time": "2024-06-12T10:48:42.902729Z"
    }
   },
   "cell_type": "code",
   "source": "p is p1",
   "id": "f8a30f084f9366c0",
   "outputs": [
    {
     "data": {
      "text/plain": [
       "False"
      ]
     },
     "execution_count": 105,
     "metadata": {},
     "output_type": "execute_result"
    }
   ],
   "execution_count": 105
  },
  {
   "metadata": {
    "ExecuteTime": {
     "end_time": "2024-06-12T10:48:43.089390Z",
     "start_time": "2024-06-12T10:48:43.083827Z"
    }
   },
   "cell_type": "code",
   "source": "p.fget is p1.fget",
   "id": "7beaa1fe1c3c67fb",
   "outputs": [
    {
     "data": {
      "text/plain": [
       "True"
      ]
     },
     "execution_count": 106,
     "metadata": {},
     "output_type": "execute_result"
    }
   ],
   "execution_count": 106
  },
  {
   "metadata": {
    "ExecuteTime": {
     "end_time": "2024-06-12T10:48:43.389943Z",
     "start_time": "2024-06-12T10:48:43.381154Z"
    }
   },
   "cell_type": "code",
   "source": "p.fset is p1.fset",
   "id": "e4e8fb7c7132c6",
   "outputs": [
    {
     "data": {
      "text/plain": [
       "False"
      ]
     },
     "execution_count": 107,
     "metadata": {},
     "output_type": "execute_result"
    }
   ],
   "execution_count": 107
  },
  {
   "metadata": {
    "ExecuteTime": {
     "end_time": "2024-06-12T10:48:43.757609Z",
     "start_time": "2024-06-12T10:48:43.751475Z"
    }
   },
   "cell_type": "code",
   "source": "p.fset, p1.fset",
   "id": "9aa98968e6e5fc45",
   "outputs": [
    {
     "data": {
      "text/plain": [
       "(None, <function __main__.set_prop(self, value)>)"
      ]
     },
     "execution_count": 108,
     "metadata": {},
     "output_type": "execute_result"
    }
   ],
   "execution_count": 108
  },
  {
   "metadata": {
    "ExecuteTime": {
     "end_time": "2024-06-12T10:48:44.170556Z",
     "start_time": "2024-06-12T10:48:44.164179Z"
    }
   },
   "cell_type": "code",
   "source": "p.fget, p1.fget",
   "id": "8052b47e793d1211",
   "outputs": [
    {
     "data": {
      "text/plain": [
       "(<function __main__.get_prop(self)>, <function __main__.get_prop(self)>)"
      ]
     },
     "execution_count": 109,
     "metadata": {},
     "output_type": "execute_result"
    }
   ],
   "execution_count": 109
  },
  {
   "metadata": {
    "ExecuteTime": {
     "end_time": "2024-06-12T10:49:44.824821Z",
     "start_time": "2024-06-12T10:49:44.821173Z"
    }
   },
   "cell_type": "code",
   "source": [
    "p = property(get_prop)\n",
    "p = p.setter(set_prop)\n",
    "p = p.deleter(del_prop)"
   ],
   "id": "6b6176d0f08bdc06",
   "outputs": [],
   "execution_count": 124
  },
  {
   "metadata": {
    "ExecuteTime": {
     "end_time": "2024-06-12T10:50:19.234506Z",
     "start_time": "2024-06-12T10:50:19.231134Z"
    }
   },
   "cell_type": "code",
   "source": [
    "class Persona:\n",
    "    name = p"
   ],
   "id": "a727a9b85614e6b7",
   "outputs": [],
   "execution_count": 139
  },
  {
   "metadata": {
    "ExecuteTime": {
     "end_time": "2024-06-12T10:50:13.511498Z",
     "start_time": "2024-06-12T10:50:13.508351Z"
    }
   },
   "cell_type": "code",
   "source": "persona = Persona()",
   "id": "373a73530ef2b8a4",
   "outputs": [],
   "execution_count": 134
  },
  {
   "metadata": {
    "ExecuteTime": {
     "end_time": "2024-06-12T10:50:13.828023Z",
     "start_time": "2024-06-12T10:50:13.824214Z"
    }
   },
   "cell_type": "code",
   "source": "persona.name",
   "id": "d229222af733c2b4",
   "outputs": [
    {
     "name": "stdout",
     "output_type": "stream",
     "text": [
      "getter called\n"
     ]
    }
   ],
   "execution_count": 135
  },
  {
   "metadata": {
    "ExecuteTime": {
     "end_time": "2024-06-12T10:50:14.104182Z",
     "start_time": "2024-06-12T10:50:14.100160Z"
    }
   },
   "cell_type": "code",
   "source": "persona.name = \"Mario?\"",
   "id": "9fc50057b58866dd",
   "outputs": [
    {
     "name": "stdout",
     "output_type": "stream",
     "text": [
      "setter called\n"
     ]
    }
   ],
   "execution_count": 136
  },
  {
   "metadata": {
    "ExecuteTime": {
     "end_time": "2024-06-12T10:50:14.374318Z",
     "start_time": "2024-06-12T10:50:14.370268Z"
    }
   },
   "cell_type": "code",
   "source": "del persona.name",
   "id": "2556e59c5f2fdf57",
   "outputs": [
    {
     "name": "stdout",
     "output_type": "stream",
     "text": [
      "deleter called\n"
     ]
    }
   ],
   "execution_count": 137
  },
  {
   "metadata": {
    "ExecuteTime": {
     "end_time": "2024-06-12T10:52:02.508220Z",
     "start_time": "2024-06-12T10:52:02.505084Z"
    }
   },
   "cell_type": "code",
   "source": [
    "def name(self):\n",
    "    print('getter...')"
   ],
   "id": "7974feb1d2faa221",
   "outputs": [],
   "execution_count": 144
  },
  {
   "metadata": {
    "ExecuteTime": {
     "end_time": "2024-06-12T10:52:02.736712Z",
     "start_time": "2024-06-12T10:52:02.731506Z"
    }
   },
   "cell_type": "code",
   "source": "hex(id(name))",
   "id": "dda786d6145f8255",
   "outputs": [
    {
     "data": {
      "text/plain": [
       "'0x7fca402f67a0'"
      ]
     },
     "execution_count": 145,
     "metadata": {},
     "output_type": "execute_result"
    }
   ],
   "execution_count": 145
  },
  {
   "metadata": {
    "ExecuteTime": {
     "end_time": "2024-06-12T10:52:03.174764Z",
     "start_time": "2024-06-12T10:52:03.171504Z"
    }
   },
   "cell_type": "code",
   "source": "name = property(name)",
   "id": "eea90c7aca928d3e",
   "outputs": [],
   "execution_count": 146
  },
  {
   "metadata": {
    "ExecuteTime": {
     "end_time": "2024-06-12T10:52:25.391638Z",
     "start_time": "2024-06-12T10:52:25.386548Z"
    }
   },
   "cell_type": "code",
   "source": "type(name), hex(id(name)), hex(id(name.fget))",
   "id": "d4a0188cd7a17e41",
   "outputs": [
    {
     "data": {
      "text/plain": [
       "(property, '0x7fca401ce160', '0x7fca402f67a0')"
      ]
     },
     "execution_count": 147,
     "metadata": {},
     "output_type": "execute_result"
    }
   ],
   "execution_count": 147
  },
  {
   "metadata": {
    "ExecuteTime": {
     "end_time": "2024-06-12T10:53:19.169403Z",
     "start_time": "2024-06-12T10:53:19.165609Z"
    }
   },
   "cell_type": "code",
   "source": "name_temp = name",
   "id": "f8e0e0d17dbe5e56",
   "outputs": [],
   "execution_count": 148
  },
  {
   "metadata": {
    "ExecuteTime": {
     "end_time": "2024-06-12T10:53:40.891236Z",
     "start_time": "2024-06-12T10:53:40.887459Z"
    }
   },
   "cell_type": "code",
   "source": [
    "def name(self, value):\n",
    "    print('setter...')"
   ],
   "id": "f43fae439d2c41e5",
   "outputs": [],
   "execution_count": 149
  },
  {
   "metadata": {
    "ExecuteTime": {
     "end_time": "2024-06-12T10:54:20.718927Z",
     "start_time": "2024-06-12T10:54:20.713718Z"
    }
   },
   "cell_type": "code",
   "source": "type(name), hex(id(name))",
   "id": "3aaef27189453e1",
   "outputs": [
    {
     "data": {
      "text/plain": [
       "(function, '0x7fca402f5f80')"
      ]
     },
     "execution_count": 151,
     "metadata": {},
     "output_type": "execute_result"
    }
   ],
   "execution_count": 151
  },
  {
   "metadata": {
    "ExecuteTime": {
     "end_time": "2024-06-12T10:54:35.809670Z",
     "start_time": "2024-06-12T10:54:35.806607Z"
    }
   },
   "cell_type": "code",
   "source": "name = name_temp.setter(name)",
   "id": "5bceb1c2cf10052f",
   "outputs": [],
   "execution_count": 152
  },
  {
   "metadata": {
    "ExecuteTime": {
     "end_time": "2024-06-12T10:55:51.405707Z",
     "start_time": "2024-06-12T10:55:51.399931Z"
    }
   },
   "cell_type": "code",
   "source": "type(name), hex(id(name)), hex(id(name.fget)), hex(id(name.fset))",
   "id": "a3601e0726064718",
   "outputs": [
    {
     "data": {
      "text/plain": [
       "(property, '0x7fca401cf3d0', '0x7fca402f67a0', '0x7fca402f5f80')"
      ]
     },
     "execution_count": 153,
     "metadata": {},
     "output_type": "execute_result"
    }
   ],
   "execution_count": 153
  },
  {
   "metadata": {
    "ExecuteTime": {
     "end_time": "2024-06-12T11:05:38.909556Z",
     "start_time": "2024-06-12T11:05:38.905431Z"
    }
   },
   "cell_type": "code",
   "source": [
    "class Person:\n",
    "    def __init__(self, name):\n",
    "        self._name = name\n",
    "    \n",
    "    @property\n",
    "    def name(self):\n",
    "        return self._name\n",
    "    \n",
    "    @name.setter\n",
    "    def name(self, value):\n",
    "        \"\"\"The Person's name\"\"\"\n",
    "        self._name = value\n"
   ],
   "id": "b6bf8da92e55c464",
   "outputs": [],
   "execution_count": 172
  },
  {
   "metadata": {
    "ExecuteTime": {
     "end_time": "2024-06-12T11:06:31.099368Z",
     "start_time": "2024-06-12T11:06:31.095430Z"
    }
   },
   "cell_type": "code",
   "source": "help(Person.name)",
   "id": "5df89262f45b5e2c",
   "outputs": [
    {
     "name": "stdout",
     "output_type": "stream",
     "text": [
      "Help on property:\n",
      "\n",
      "\n"
     ]
    }
   ],
   "execution_count": 174
  },
  {
   "metadata": {
    "ExecuteTime": {
     "end_time": "2024-06-12T11:10:42.630287Z",
     "start_time": "2024-06-12T11:10:42.626540Z"
    }
   },
   "cell_type": "code",
   "source": [
    "class Person:\n",
    "    prop = property(doc='Write-only property')\n",
    "    \n",
    "    @prop.setter\n",
    "    def prop(self, value):\n",
    "        print('setter called...')    "
   ],
   "id": "db4a0fdc91058a4c",
   "outputs": [],
   "execution_count": 189
  },
  {
   "metadata": {
    "ExecuteTime": {
     "end_time": "2024-06-12T11:10:43.185035Z",
     "start_time": "2024-06-12T11:10:43.181641Z"
    }
   },
   "cell_type": "code",
   "source": "p = Person()",
   "id": "16736069b78dd8fe",
   "outputs": [],
   "execution_count": 190
  },
  {
   "metadata": {
    "ExecuteTime": {
     "end_time": "2024-06-12T11:10:43.368894Z",
     "start_time": "2024-06-12T11:10:43.365159Z"
    }
   },
   "cell_type": "code",
   "source": "p.prop = 'Mario'",
   "id": "c7f6076b1f7cde6b",
   "outputs": [
    {
     "name": "stdout",
     "output_type": "stream",
     "text": [
      "setter called...\n"
     ]
    }
   ],
   "execution_count": 191
  },
  {
   "metadata": {
    "ExecuteTime": {
     "end_time": "2024-06-12T11:10:54.251572Z",
     "start_time": "2024-06-12T11:10:54.247957Z"
    }
   },
   "cell_type": "code",
   "source": "help(Person.prop)",
   "id": "78de80571b42184c",
   "outputs": [
    {
     "name": "stdout",
     "output_type": "stream",
     "text": [
      "Help on property:\n",
      "\n",
      "    Write-only property\n",
      "\n"
     ]
    }
   ],
   "execution_count": 192
  },
  {
   "metadata": {},
   "cell_type": "code",
   "outputs": [],
   "execution_count": null,
   "source": "",
   "id": "7224dd2c7c192111"
  }
 ],
 "metadata": {
  "kernelspec": {
   "display_name": "Python 3",
   "language": "python",
   "name": "python3"
  },
  "language_info": {
   "codemirror_mode": {
    "name": "ipython",
    "version": 2
   },
   "file_extension": ".py",
   "mimetype": "text/x-python",
   "name": "python",
   "nbconvert_exporter": "python",
   "pygments_lexer": "ipython2",
   "version": "2.7.6"
  }
 },
 "nbformat": 4,
 "nbformat_minor": 5
}
