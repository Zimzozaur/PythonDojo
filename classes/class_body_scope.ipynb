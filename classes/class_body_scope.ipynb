{
 "cells": [
  {
   "cell_type": "code",
   "id": "initial_id",
   "metadata": {
    "collapsed": true,
    "ExecuteTime": {
     "end_time": "2024-06-13T07:06:19.584062Z",
     "start_time": "2024-06-13T07:06:19.581262Z"
    }
   },
   "source": [
    "class Language:\n",
    "    MAJOR = 3\n",
    "    MINOR = 7\n",
    "    REVISION = 4\n",
    "    FULL = f'{MAJOR}.{MINOR}.{REVISION}'"
   ],
   "outputs": [],
   "execution_count": 1
  },
  {
   "metadata": {
    "ExecuteTime": {
     "end_time": "2024-06-13T07:06:25.592501Z",
     "start_time": "2024-06-13T07:06:25.585296Z"
    }
   },
   "cell_type": "code",
   "source": "Language.FULL",
   "id": "997faab0b65cfe36",
   "outputs": [
    {
     "data": {
      "text/plain": [
       "'3.7.4'"
      ]
     },
     "execution_count": 2,
     "metadata": {},
     "output_type": "execute_result"
    }
   ],
   "execution_count": 2
  },
  {
   "metadata": {
    "ExecuteTime": {
     "end_time": "2024-06-13T07:09:06.270973Z",
     "start_time": "2024-06-13T07:09:06.265852Z"
    }
   },
   "cell_type": "code",
   "source": [
    "class Language:\n",
    "    MAJOR = 3\n",
    "    MINOR = 7\n",
    "    REVISION = 4\n",
    "    \n",
    "    @property\n",
    "    def version(self):\n",
    "        print(f'{self.MAJOR}.{self.MINOR}.{self.REVISION}')\n",
    "        \n",
    "    @classmethod\n",
    "    def cls_version(cls):\n",
    "         print(f'{cls.MAJOR}.{cls.MINOR}.{cls.REVISION}')\n",
    "        \n",
    "    @staticmethod\n",
    "    def static_version():\n",
    "        print(f'{Language.MAJOR}.{Language.MINOR}.{Language.REVISION}')"
   ],
   "id": "e88eb7316195861",
   "outputs": [],
   "execution_count": 5
  },
  {
   "metadata": {
    "ExecuteTime": {
     "end_time": "2024-06-13T07:09:11.715502Z",
     "start_time": "2024-06-13T07:09:11.711972Z"
    }
   },
   "cell_type": "code",
   "source": "Language.static_version()",
   "id": "3d280e68c4cac162",
   "outputs": [
    {
     "name": "stdout",
     "output_type": "stream",
     "text": [
      "3.7.4\n"
     ]
    }
   ],
   "execution_count": 6
  },
  {
   "metadata": {
    "ExecuteTime": {
     "end_time": "2024-06-13T07:15:22.268262Z",
     "start_time": "2024-06-13T07:15:22.264026Z"
    }
   },
   "cell_type": "code",
   "source": [
    "class Language:\n",
    "    MAJOR = 3\n",
    "    MINOR = 7\n",
    "    REVISION = 4\n",
    "\n",
    "def full_version():\n",
    "    print(f'{Language.MAJOR}.{Language.MINOR}.{Language.REVISION}')"
   ],
   "id": "71b24ee60b0f988c",
   "outputs": [],
   "execution_count": 7
  },
  {
   "metadata": {
    "ExecuteTime": {
     "end_time": "2024-06-13T07:15:29.444583Z",
     "start_time": "2024-06-13T07:15:29.440591Z"
    }
   },
   "cell_type": "code",
   "source": "full_version()",
   "id": "a15464c220d91973",
   "outputs": [
    {
     "name": "stdout",
     "output_type": "stream",
     "text": [
      "3.7.4\n"
     ]
    }
   ],
   "execution_count": 8
  },
  {
   "metadata": {
    "ExecuteTime": {
     "end_time": "2024-06-13T07:16:26.013911Z",
     "start_time": "2024-06-13T07:16:26.009811Z"
    }
   },
   "cell_type": "code",
   "source": [
    "def full_version():\n",
    "    print(f'{Language.MAJOR}.{Language.MINOR}.{Language.REVISION}')\n",
    "    \n",
    "class Language:\n",
    "    MAJOR = 3\n",
    "    MINOR = 7\n",
    "    REVISION = 4\n",
    "\n",
    "    version = full_version"
   ],
   "id": "8534acf219b11a12",
   "outputs": [],
   "execution_count": 9
  },
  {
   "metadata": {
    "ExecuteTime": {
     "end_time": "2024-06-13T07:16:32.080820Z",
     "start_time": "2024-06-13T07:16:32.075097Z"
    }
   },
   "cell_type": "code",
   "source": "Language.version()",
   "id": "f6371a10d6ca765f",
   "outputs": [
    {
     "name": "stdout",
     "output_type": "stream",
     "text": [
      "3.7.4\n"
     ]
    }
   ],
   "execution_count": 11
  },
  {
   "metadata": {
    "ExecuteTime": {
     "end_time": "2024-06-13T07:18:48.315569Z",
     "start_time": "2024-06-13T07:18:48.311325Z"
    }
   },
   "cell_type": "code",
   "source": [
    "def full_version():\n",
    "    print(f'{MAJOR}.{MINOR}.{REVISION}')\n",
    "    \n",
    "class Language:\n",
    "    MAJOR = 3\n",
    "    MINOR = 7\n",
    "    REVISION = 4\n",
    "\n",
    "    version = full_version"
   ],
   "id": "bc8e1b9af112a328",
   "outputs": [],
   "execution_count": 12
  },
  {
   "metadata": {
    "ExecuteTime": {
     "end_time": "2024-06-13T07:18:51.203411Z",
     "start_time": "2024-06-13T07:18:51.009818Z"
    }
   },
   "cell_type": "code",
   "source": "full_version()",
   "id": "ae08336c7f8b861f",
   "outputs": [
    {
     "ename": "NameError",
     "evalue": "name 'MAJOR' is not defined",
     "output_type": "error",
     "traceback": [
      "\u001B[0;31m---------------------------------------------------------------------------\u001B[0m",
      "\u001B[0;31mNameError\u001B[0m                                 Traceback (most recent call last)",
      "Cell \u001B[0;32mIn[13], line 1\u001B[0m\n\u001B[0;32m----> 1\u001B[0m \u001B[43mfull_version\u001B[49m\u001B[43m(\u001B[49m\u001B[43m)\u001B[49m\n",
      "Cell \u001B[0;32mIn[12], line 2\u001B[0m, in \u001B[0;36mfull_version\u001B[0;34m()\u001B[0m\n\u001B[1;32m      1\u001B[0m \u001B[38;5;28;01mdef\u001B[39;00m \u001B[38;5;21mfull_version\u001B[39m():\n\u001B[0;32m----> 2\u001B[0m     \u001B[38;5;28mprint\u001B[39m(\u001B[38;5;124mf\u001B[39m\u001B[38;5;124m'\u001B[39m\u001B[38;5;132;01m{\u001B[39;00m\u001B[43mMAJOR\u001B[49m\u001B[38;5;132;01m}\u001B[39;00m\u001B[38;5;124m.\u001B[39m\u001B[38;5;132;01m{\u001B[39;00mMINOR\u001B[38;5;132;01m}\u001B[39;00m\u001B[38;5;124m.\u001B[39m\u001B[38;5;132;01m{\u001B[39;00mREVISION\u001B[38;5;132;01m}\u001B[39;00m\u001B[38;5;124m'\u001B[39m)\n",
      "\u001B[0;31mNameError\u001B[0m: name 'MAJOR' is not defined"
     ]
    }
   ],
   "execution_count": 13
  },
  {
   "metadata": {
    "ExecuteTime": {
     "end_time": "2024-06-13T07:18:58.472647Z",
     "start_time": "2024-06-13T07:18:58.444287Z"
    }
   },
   "cell_type": "code",
   "source": "Language.version()",
   "id": "313a5d95abbfce6a",
   "outputs": [
    {
     "ename": "NameError",
     "evalue": "name 'MAJOR' is not defined",
     "output_type": "error",
     "traceback": [
      "\u001B[0;31m---------------------------------------------------------------------------\u001B[0m",
      "\u001B[0;31mNameError\u001B[0m                                 Traceback (most recent call last)",
      "Cell \u001B[0;32mIn[15], line 1\u001B[0m\n\u001B[0;32m----> 1\u001B[0m \u001B[43mLanguage\u001B[49m\u001B[38;5;241;43m.\u001B[39;49m\u001B[43mversion\u001B[49m\u001B[43m(\u001B[49m\u001B[43m)\u001B[49m\n",
      "Cell \u001B[0;32mIn[12], line 2\u001B[0m, in \u001B[0;36mfull_version\u001B[0;34m()\u001B[0m\n\u001B[1;32m      1\u001B[0m \u001B[38;5;28;01mdef\u001B[39;00m \u001B[38;5;21mfull_version\u001B[39m():\n\u001B[0;32m----> 2\u001B[0m     \u001B[38;5;28mprint\u001B[39m(\u001B[38;5;124mf\u001B[39m\u001B[38;5;124m'\u001B[39m\u001B[38;5;132;01m{\u001B[39;00m\u001B[43mMAJOR\u001B[49m\u001B[38;5;132;01m}\u001B[39;00m\u001B[38;5;124m.\u001B[39m\u001B[38;5;132;01m{\u001B[39;00mMINOR\u001B[38;5;132;01m}\u001B[39;00m\u001B[38;5;124m.\u001B[39m\u001B[38;5;132;01m{\u001B[39;00mREVISION\u001B[38;5;132;01m}\u001B[39;00m\u001B[38;5;124m'\u001B[39m)\n",
      "\u001B[0;31mNameError\u001B[0m: name 'MAJOR' is not defined"
     ]
    }
   ],
   "execution_count": 15
  },
  {
   "metadata": {
    "ExecuteTime": {
     "end_time": "2024-06-13T07:19:22.030174Z",
     "start_time": "2024-06-13T07:19:22.026103Z"
    }
   },
   "cell_type": "code",
   "source": [
    "class Language:\n",
    "    MAJOR = 3\n",
    "    MINOR = 7\n",
    "    REVISION = 4\n",
    "\n",
    "    def version(self):\n",
    "        print(f'{MAJOR}.{MINOR}.{REVISION}')"
   ],
   "id": "83e46a9e5d0df29b",
   "outputs": [],
   "execution_count": 17
  },
  {
   "metadata": {
    "ExecuteTime": {
     "end_time": "2024-06-13T07:19:44.391764Z",
     "start_time": "2024-06-13T07:19:44.355619Z"
    }
   },
   "cell_type": "code",
   "source": "Language().version()",
   "id": "3c7382ed043131de",
   "outputs": [
    {
     "ename": "NameError",
     "evalue": "name 'MAJOR' is not defined",
     "output_type": "error",
     "traceback": [
      "\u001B[0;31m---------------------------------------------------------------------------\u001B[0m",
      "\u001B[0;31mNameError\u001B[0m                                 Traceback (most recent call last)",
      "Cell \u001B[0;32mIn[19], line 1\u001B[0m\n\u001B[0;32m----> 1\u001B[0m \u001B[43mLanguage\u001B[49m\u001B[43m(\u001B[49m\u001B[43m)\u001B[49m\u001B[38;5;241;43m.\u001B[39;49m\u001B[43mversion\u001B[49m\u001B[43m(\u001B[49m\u001B[43m)\u001B[49m\n",
      "Cell \u001B[0;32mIn[17], line 7\u001B[0m, in \u001B[0;36mLanguage.version\u001B[0;34m(self)\u001B[0m\n\u001B[1;32m      6\u001B[0m \u001B[38;5;28;01mdef\u001B[39;00m \u001B[38;5;21mversion\u001B[39m(\u001B[38;5;28mself\u001B[39m):\n\u001B[0;32m----> 7\u001B[0m     \u001B[38;5;28mprint\u001B[39m(\u001B[38;5;124mf\u001B[39m\u001B[38;5;124m'\u001B[39m\u001B[38;5;132;01m{\u001B[39;00m\u001B[43mMAJOR\u001B[49m\u001B[38;5;132;01m}\u001B[39;00m\u001B[38;5;124m.\u001B[39m\u001B[38;5;132;01m{\u001B[39;00mMINOR\u001B[38;5;132;01m}\u001B[39;00m\u001B[38;5;124m.\u001B[39m\u001B[38;5;132;01m{\u001B[39;00mREVISION\u001B[38;5;132;01m}\u001B[39;00m\u001B[38;5;124m'\u001B[39m)\n",
      "\u001B[0;31mNameError\u001B[0m: name 'MAJOR' is not defined"
     ]
    }
   ],
   "execution_count": 19
  },
  {
   "metadata": {
    "ExecuteTime": {
     "end_time": "2024-06-13T07:25:32.997729Z",
     "start_time": "2024-06-13T07:25:32.992640Z"
    }
   },
   "cell_type": "code",
   "source": [
    "MAJOR = 0\n",
    "MINOR = 0\n",
    "REVISION = 1\n",
    "\n",
    "def gen_class():\n",
    "    MAJOR = 0\n",
    "    MINOR = 4\n",
    "    REVISION = 2\n",
    "    \n",
    "    class Language:\n",
    "        MAJOR = 3\n",
    "        MINOR = 7\n",
    "        REVISION = 4\n",
    "        \n",
    "        @classmethod\n",
    "        def version(cls):\n",
    "            return f'{MAJOR}.{MINOR}.{REVISION}'\n",
    "    \n",
    "    return Language"
   ],
   "id": "af07865febc58eab",
   "outputs": [],
   "execution_count": 30
  },
  {
   "metadata": {
    "ExecuteTime": {
     "end_time": "2024-06-13T07:25:33.324157Z",
     "start_time": "2024-06-13T07:25:33.320363Z"
    }
   },
   "cell_type": "code",
   "source": "cls = gen_class()",
   "id": "6e0706718bcf5706",
   "outputs": [],
   "execution_count": 31
  },
  {
   "metadata": {
    "ExecuteTime": {
     "end_time": "2024-06-13T07:25:33.653374Z",
     "start_time": "2024-06-13T07:25:33.648740Z"
    }
   },
   "cell_type": "code",
   "source": "cls.version()",
   "id": "86d20964fa46d2e1",
   "outputs": [
    {
     "data": {
      "text/plain": [
       "'0.4.2'"
      ]
     },
     "execution_count": 32,
     "metadata": {},
     "output_type": "execute_result"
    }
   ],
   "execution_count": 32
  },
  {
   "metadata": {
    "ExecuteTime": {
     "end_time": "2024-06-13T07:25:33.977569Z",
     "start_time": "2024-06-13T07:25:33.974096Z"
    }
   },
   "cell_type": "code",
   "source": "import inspect",
   "id": "836d78aa2a17c2b1",
   "outputs": [],
   "execution_count": 33
  },
  {
   "metadata": {
    "ExecuteTime": {
     "end_time": "2024-06-13T07:25:34.593175Z",
     "start_time": "2024-06-13T07:25:34.588310Z"
    }
   },
   "cell_type": "code",
   "source": "inspect.getclosurevars(cls.version)",
   "id": "2c189656371ab78",
   "outputs": [
    {
     "data": {
      "text/plain": [
       "ClosureVars(nonlocals={'MAJOR': 0, 'MINOR': 4, 'REVISION': 2}, globals={}, builtins={}, unbound=set())"
      ]
     },
     "execution_count": 34,
     "metadata": {},
     "output_type": "execute_result"
    }
   ],
   "execution_count": 34
  },
  {
   "metadata": {},
   "cell_type": "markdown",
   "source": "# After kernel restart",
   "id": "af240fc8228a77b8"
  },
  {
   "metadata": {
    "ExecuteTime": {
     "end_time": "2024-06-13T07:30:33.627241Z",
     "start_time": "2024-06-13T07:30:33.624420Z"
    }
   },
   "cell_type": "code",
   "source": [
    "name = 'Guido'\n",
    "\n",
    "class MyClass:\n",
    "    name = 'Raymond'\n",
    "    list_1 = [name] * 3\n",
    "    # list_2 is a function so different scope\n",
    "    list_2 = [name for i in range(3)]  \n",
    "    \n",
    "    @classmethod\n",
    "    def hello(cls):\n",
    "        return f'{name} says hello'"
   ],
   "id": "53f0656494346c66",
   "outputs": [],
   "execution_count": 5
  },
  {
   "metadata": {
    "ExecuteTime": {
     "end_time": "2024-06-13T07:32:53.599114Z",
     "start_time": "2024-06-13T07:32:53.595271Z"
    }
   },
   "cell_type": "code",
   "source": "MyClass.hello()",
   "id": "f29816007e89f2d8",
   "outputs": [
    {
     "data": {
      "text/plain": [
       "'Raymond says hello'"
      ]
     },
     "execution_count": 12,
     "metadata": {},
     "output_type": "execute_result"
    }
   ],
   "execution_count": 12
  },
  {
   "metadata": {
    "ExecuteTime": {
     "end_time": "2024-06-13T07:33:05.451466Z",
     "start_time": "2024-06-13T07:33:05.446385Z"
    }
   },
   "cell_type": "code",
   "source": "MyClass.list_1",
   "id": "d1ed2280f7e1a04e",
   "outputs": [
    {
     "data": {
      "text/plain": [
       "['Raymond', 'Raymond', 'Raymond']"
      ]
     },
     "execution_count": 13,
     "metadata": {},
     "output_type": "execute_result"
    }
   ],
   "execution_count": 13
  },
  {
   "metadata": {
    "ExecuteTime": {
     "end_time": "2024-06-13T07:33:06.924429Z",
     "start_time": "2024-06-13T07:33:06.919338Z"
    }
   },
   "cell_type": "code",
   "source": "MyClass.list_2",
   "id": "e3a5dced79269af4",
   "outputs": [
    {
     "data": {
      "text/plain": [
       "['Guido', 'Guido', 'Guido']"
      ]
     },
     "execution_count": 14,
     "metadata": {},
     "output_type": "execute_result"
    }
   ],
   "execution_count": 14
  },
  {
   "metadata": {},
   "cell_type": "code",
   "outputs": [],
   "execution_count": null,
   "source": "",
   "id": "8222196e86526dbf"
  }
 ],
 "metadata": {
  "kernelspec": {
   "display_name": "Python 3",
   "language": "python",
   "name": "python3"
  },
  "language_info": {
   "codemirror_mode": {
    "name": "ipython",
    "version": 2
   },
   "file_extension": ".py",
   "mimetype": "text/x-python",
   "name": "python",
   "nbconvert_exporter": "python",
   "pygments_lexer": "ipython2",
   "version": "2.7.6"
  }
 },
 "nbformat": 4,
 "nbformat_minor": 5
}
