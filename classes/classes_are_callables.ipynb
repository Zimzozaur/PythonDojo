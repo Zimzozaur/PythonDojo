{
 "cells": [
  {
   "cell_type": "code",
   "id": "initial_id",
   "metadata": {
    "collapsed": true,
    "ExecuteTime": {
     "end_time": "2024-06-11T08:17:31.001779Z",
     "start_time": "2024-06-11T08:17:30.998760Z"
    }
   },
   "source": [
    "class Program:\n",
    "    language = 'Python'\n",
    "    \n",
    "    def say_hello():\n",
    "        print(f'Say hello from {Program.language}')"
   ],
   "outputs": [],
   "execution_count": 7
  },
  {
   "metadata": {
    "ExecuteTime": {
     "end_time": "2024-06-11T08:17:31.168814Z",
     "start_time": "2024-06-11T08:17:31.164639Z"
    }
   },
   "cell_type": "code",
   "source": "p = Program()",
   "id": "a1b14c9bf5697bb4",
   "outputs": [],
   "execution_count": 8
  },
  {
   "metadata": {
    "ExecuteTime": {
     "end_time": "2024-06-11T08:17:31.934518Z",
     "start_time": "2024-06-11T08:17:31.929605Z"
    }
   },
   "cell_type": "code",
   "source": "type(p), type(Program)",
   "id": "c284415764f077ab",
   "outputs": [
    {
     "data": {
      "text/plain": [
       "(__main__.Program, type)"
      ]
     },
     "execution_count": 9,
     "metadata": {},
     "output_type": "execute_result"
    }
   ],
   "execution_count": 9
  },
  {
   "metadata": {
    "ExecuteTime": {
     "end_time": "2024-06-11T08:18:53.862271Z",
     "start_time": "2024-06-11T08:18:53.857291Z"
    }
   },
   "cell_type": "code",
   "source": "isinstance(p, Program)",
   "id": "be675383b23f8e2a",
   "outputs": [
    {
     "data": {
      "text/plain": [
       "True"
      ]
     },
     "execution_count": 14,
     "metadata": {},
     "output_type": "execute_result"
    }
   ],
   "execution_count": 14
  },
  {
   "metadata": {},
   "cell_type": "markdown",
   "source": [
    "# Classes and instance are not the same object\n",
    "# They have different name spaces"
   ],
   "id": "ad6571b4c13a06b8"
  },
  {
   "metadata": {
    "ExecuteTime": {
     "end_time": "2024-06-11T08:21:18.981003Z",
     "start_time": "2024-06-11T08:21:18.976341Z"
    }
   },
   "cell_type": "code",
   "source": "p.__dict__, p.__class__",
   "id": "57e7292e4a366995",
   "outputs": [
    {
     "data": {
      "text/plain": [
       "({}, __main__.Program)"
      ]
     },
     "execution_count": 20,
     "metadata": {},
     "output_type": "execute_result"
    }
   ],
   "execution_count": 20
  },
  {
   "metadata": {
    "ExecuteTime": {
     "end_time": "2024-06-11T08:21:19.585658Z",
     "start_time": "2024-06-11T08:21:19.581137Z"
    }
   },
   "cell_type": "code",
   "source": "Program.__dict__",
   "id": "1ef5095622312ddb",
   "outputs": [
    {
     "data": {
      "text/plain": [
       "mappingproxy({'__module__': '__main__',\n",
       "              'language': 'Python',\n",
       "              'say_hello': <function __main__.Program.say_hello()>,\n",
       "              '__dict__': <attribute '__dict__' of 'Program' objects>,\n",
       "              '__weakref__': <attribute '__weakref__' of 'Program' objects>,\n",
       "              '__doc__': None})"
      ]
     },
     "execution_count": 21,
     "metadata": {},
     "output_type": "execute_result"
    }
   ],
   "execution_count": 21
  },
  {
   "metadata": {
    "ExecuteTime": {
     "end_time": "2024-06-11T08:21:32.963792Z",
     "start_time": "2024-06-11T08:21:32.959180Z"
    }
   },
   "cell_type": "code",
   "source": "type(p) is p.__class__",
   "id": "650cec811ab3931b",
   "outputs": [
    {
     "data": {
      "text/plain": [
       "True"
      ]
     },
     "execution_count": 22,
     "metadata": {},
     "output_type": "execute_result"
    }
   ],
   "execution_count": 22
  },
  {
   "metadata": {
    "ExecuteTime": {
     "end_time": "2024-06-11T08:22:37.668009Z",
     "start_time": "2024-06-11T08:22:37.665055Z"
    }
   },
   "cell_type": "code",
   "source": [
    "class MyClass:\n",
    "    pass"
   ],
   "id": "c74b5f9105bcb80f",
   "outputs": [],
   "execution_count": 23
  },
  {
   "metadata": {
    "ExecuteTime": {
     "end_time": "2024-06-11T08:22:43.735515Z",
     "start_time": "2024-06-11T08:22:43.732536Z"
    }
   },
   "cell_type": "code",
   "source": "m = MyClass()",
   "id": "8a6b44eb82e90f89",
   "outputs": [],
   "execution_count": 24
  },
  {
   "metadata": {
    "ExecuteTime": {
     "end_time": "2024-06-11T08:23:00.274121Z",
     "start_time": "2024-06-11T08:23:00.269216Z"
    }
   },
   "cell_type": "code",
   "source": "type(m), m.__class__",
   "id": "b6b55dcafe842fac",
   "outputs": [
    {
     "data": {
      "text/plain": [
       "(__main__.MyClass, __main__.MyClass)"
      ]
     },
     "execution_count": 25,
     "metadata": {},
     "output_type": "execute_result"
    }
   ],
   "execution_count": 25
  },
  {
   "metadata": {
    "ExecuteTime": {
     "end_time": "2024-06-11T08:25:39.017993Z",
     "start_time": "2024-06-11T08:25:39.011460Z"
    }
   },
   "cell_type": "code",
   "source": [
    "class MyClass:\n",
    "    __class__ = str"
   ],
   "id": "5beffae9aae6ad7a",
   "outputs": [
    {
     "data": {
      "text/plain": [
       "(True, True)"
      ]
     },
     "execution_count": 34,
     "metadata": {},
     "output_type": "execute_result"
    }
   ],
   "execution_count": 34
  },
  {
   "metadata": {
    "ExecuteTime": {
     "end_time": "2024-06-11T08:23:18.760231Z",
     "start_time": "2024-06-11T08:23:18.757025Z"
    }
   },
   "cell_type": "code",
   "source": "m = MyClass()",
   "id": "399b0100b5ab0066",
   "outputs": [],
   "execution_count": 27
  },
  {
   "metadata": {
    "ExecuteTime": {
     "end_time": "2024-06-11T08:23:30.303739Z",
     "start_time": "2024-06-11T08:23:30.299266Z"
    }
   },
   "cell_type": "code",
   "source": "type(m), m.__class__",
   "id": "e6f7797d3c302c2d",
   "outputs": [
    {
     "data": {
      "text/plain": [
       "(__main__.MyClass, str)"
      ]
     },
     "execution_count": 29,
     "metadata": {},
     "output_type": "execute_result"
    }
   ],
   "execution_count": 29
  },
  {
   "metadata": {
    "ExecuteTime": {
     "end_time": "2024-06-11T08:24:17.396441Z",
     "start_time": "2024-06-11T08:24:17.391748Z"
    }
   },
   "cell_type": "code",
   "source": "isinstance(m, MyClass), isinstance(m, str)",
   "id": "9d8d7646536d9bb2",
   "outputs": [
    {
     "data": {
      "text/plain": [
       "True"
      ]
     },
     "execution_count": 30,
     "metadata": {},
     "output_type": "execute_result"
    }
   ],
   "execution_count": 30
  },
  {
   "metadata": {
    "ExecuteTime": {
     "end_time": "2024-06-11T08:26:44.443995Z",
     "start_time": "2024-06-11T08:26:44.440749Z"
    }
   },
   "cell_type": "code",
   "source": [
    "class MyClass:\n",
    "    pass"
   ],
   "id": "d321f4b735fe18d6",
   "outputs": [],
   "execution_count": 35
  },
  {
   "metadata": {
    "ExecuteTime": {
     "end_time": "2024-06-11T08:26:50.041570Z",
     "start_time": "2024-06-11T08:26:50.038144Z"
    }
   },
   "cell_type": "code",
   "source": "m = MyClass()",
   "id": "f3d65c1ee583478f",
   "outputs": [],
   "execution_count": 36
  },
  {
   "metadata": {
    "ExecuteTime": {
     "end_time": "2024-06-11T08:27:06.688679Z",
     "start_time": "2024-06-11T08:27:06.683304Z"
    }
   },
   "cell_type": "code",
   "source": "isinstance(m, MyClass), isinstance(m, str)",
   "id": "1918470b0b5654f7",
   "outputs": [
    {
     "data": {
      "text/plain": [
       "(True, False)"
      ]
     },
     "execution_count": 38,
     "metadata": {},
     "output_type": "execute_result"
    }
   ],
   "execution_count": 38
  },
  {
   "metadata": {},
   "cell_type": "code",
   "outputs": [],
   "execution_count": null,
   "source": "",
   "id": "bdabab36a67651e2"
  }
 ],
 "metadata": {
  "kernelspec": {
   "display_name": "Python 3",
   "language": "python",
   "name": "python3"
  },
  "language_info": {
   "codemirror_mode": {
    "name": "ipython",
    "version": 2
   },
   "file_extension": ".py",
   "mimetype": "text/x-python",
   "name": "python",
   "nbconvert_exporter": "python",
   "pygments_lexer": "ipython2",
   "version": "2.7.6"
  }
 },
 "nbformat": 4,
 "nbformat_minor": 5
}
