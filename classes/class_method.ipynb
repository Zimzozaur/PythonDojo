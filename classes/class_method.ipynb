{
 "cells": [
  {
   "cell_type": "code",
   "id": "initial_id",
   "metadata": {
    "collapsed": true,
    "ExecuteTime": {
     "end_time": "2024-06-12T17:21:54.144903Z",
     "start_time": "2024-06-12T17:21:54.139839Z"
    }
   },
   "source": [
    "class Persona:\n",
    "    def __init__(self, name):\n",
    "        self.name = name\n",
    "        \n",
    "    def introduce_self(self):\n",
    "        print(self)\n",
    "        print(locals())\n",
    "        print(f'My name is {self.name}')\n",
    "    \n",
    "    @classmethod\n",
    "    def introduce_cls(cls):\n",
    "        print(cls)\n",
    "        print(locals())\n",
    "        print('I am a Human')\n",
    "        \n",
    "    @staticmethod\n",
    "    def introduce():\n",
    "        print(locals())\n",
    "        print('Am I alive?')"
   ],
   "outputs": [],
   "execution_count": 53
  },
  {
   "metadata": {
    "ExecuteTime": {
     "end_time": "2024-06-12T17:21:54.296595Z",
     "start_time": "2024-06-12T17:21:54.293223Z"
    }
   },
   "cell_type": "code",
   "source": "p = Persona('Mario')",
   "id": "b80d024cdc0bb4e1",
   "outputs": [],
   "execution_count": 54
  },
  {
   "metadata": {
    "ExecuteTime": {
     "end_time": "2024-06-12T17:21:54.429929Z",
     "start_time": "2024-06-12T17:21:54.425297Z"
    }
   },
   "cell_type": "code",
   "source": "p.introduce_self()",
   "id": "5626be59d980e4e8",
   "outputs": [
    {
     "name": "stdout",
     "output_type": "stream",
     "text": [
      "<__main__.Persona object at 0x7f12b0849940>\n",
      "{'self': <__main__.Persona object at 0x7f12b0849940>}\n",
      "My name is Mario\n"
     ]
    }
   ],
   "execution_count": 55
  },
  {
   "metadata": {
    "ExecuteTime": {
     "end_time": "2024-06-12T17:21:54.689004Z",
     "start_time": "2024-06-12T17:21:54.684834Z"
    }
   },
   "cell_type": "code",
   "source": "p.introduce_cls()",
   "id": "66af43712e117a42",
   "outputs": [
    {
     "name": "stdout",
     "output_type": "stream",
     "text": [
      "<class '__main__.Persona'>\n",
      "{'cls': <class '__main__.Persona'>}\n",
      "I am a Human\n"
     ]
    }
   ],
   "execution_count": 56
  },
  {
   "metadata": {
    "ExecuteTime": {
     "end_time": "2024-06-12T17:21:54.933537Z",
     "start_time": "2024-06-12T17:21:54.927798Z"
    }
   },
   "cell_type": "code",
   "source": "p.introduce()",
   "id": "abb068a0dcc3e75c",
   "outputs": [
    {
     "name": "stdout",
     "output_type": "stream",
     "text": [
      "{}\n",
      "Am I alive?\n"
     ]
    }
   ],
   "execution_count": 57
  },
  {
   "metadata": {
    "ExecuteTime": {
     "end_time": "2024-06-12T17:51:47.746002Z",
     "start_time": "2024-06-12T17:51:47.741612Z"
    }
   },
   "cell_type": "code",
   "source": [
    "class Person:\n",
    "    def hello():\n",
    "        print(f'Hello...')\n",
    "    \n",
    "    def instance_hello(self):\n",
    "        print(f'hello from {self}')\n",
    "        \n",
    "    @classmethod\n",
    "    def class_hello(cls):\n",
    "        print(f'hello from {cls}')\n",
    "        \n",
    "    "
   ],
   "id": "e419a270b55fc98f",
   "outputs": [],
   "execution_count": 81
  },
  {
   "metadata": {
    "ExecuteTime": {
     "end_time": "2024-06-12T17:51:47.894100Z",
     "start_time": "2024-06-12T17:51:47.890179Z"
    }
   },
   "cell_type": "code",
   "source": "p = Person()",
   "id": "5313b139beb7bdae",
   "outputs": [],
   "execution_count": 82
  },
  {
   "metadata": {
    "ExecuteTime": {
     "end_time": "2024-06-12T17:51:48.131555Z",
     "start_time": "2024-06-12T17:51:48.127672Z"
    }
   },
   "cell_type": "code",
   "source": "Person.hello()",
   "id": "c7de552ca7ed7c09",
   "outputs": [
    {
     "name": "stdout",
     "output_type": "stream",
     "text": [
      "Hello...\n"
     ]
    }
   ],
   "execution_count": 83
  },
  {
   "metadata": {
    "ExecuteTime": {
     "end_time": "2024-06-12T17:51:48.281863Z",
     "start_time": "2024-06-12T17:51:48.278096Z"
    }
   },
   "cell_type": "code",
   "source": "p.class_hello()",
   "id": "dadcbfaf807b0fea",
   "outputs": [
    {
     "name": "stdout",
     "output_type": "stream",
     "text": [
      "hello from <class '__main__.Person'>\n"
     ]
    }
   ],
   "execution_count": 84
  },
  {
   "metadata": {
    "ExecuteTime": {
     "end_time": "2024-06-12T17:51:48.434973Z",
     "start_time": "2024-06-12T17:51:48.428710Z"
    }
   },
   "cell_type": "code",
   "source": "Person.class_hello, p.class_hello",
   "id": "15de26d0608c9784",
   "outputs": [
    {
     "data": {
      "text/plain": [
       "(<bound method Person.class_hello of <class '__main__.Person'>>,\n",
       " <bound method Person.class_hello of <class '__main__.Person'>>)"
      ]
     },
     "execution_count": 85,
     "metadata": {},
     "output_type": "execute_result"
    }
   ],
   "execution_count": 85
  },
  {
   "metadata": {
    "ExecuteTime": {
     "end_time": "2024-06-12T17:51:56.777006Z",
     "start_time": "2024-06-12T17:51:56.752815Z"
    }
   },
   "cell_type": "code",
   "source": "p.instance_hello(), Person.instance_hello()",
   "id": "37df74d6b5422c16",
   "outputs": [
    {
     "name": "stdout",
     "output_type": "stream",
     "text": [
      "hello from <__main__.Person object at 0x7f12b087b2c0>\n"
     ]
    },
    {
     "ename": "TypeError",
     "evalue": "Person.instance_hello() missing 1 required positional argument: 'self'",
     "output_type": "error",
     "traceback": [
      "\u001B[0;31m---------------------------------------------------------------------------\u001B[0m",
      "\u001B[0;31mTypeError\u001B[0m                                 Traceback (most recent call last)",
      "Cell \u001B[0;32mIn[87], line 1\u001B[0m\n\u001B[0;32m----> 1\u001B[0m p\u001B[38;5;241m.\u001B[39minstance_hello(), \u001B[43mPerson\u001B[49m\u001B[38;5;241;43m.\u001B[39;49m\u001B[43minstance_hello\u001B[49m\u001B[43m(\u001B[49m\u001B[43m)\u001B[49m\n",
      "\u001B[0;31mTypeError\u001B[0m: Person.instance_hello() missing 1 required positional argument: 'self'"
     ]
    }
   ],
   "execution_count": 87
  },
  {
   "metadata": {
    "ExecuteTime": {
     "end_time": "2024-06-12T17:58:04.652095Z",
     "start_time": "2024-06-12T17:58:04.649436Z"
    }
   },
   "cell_type": "code",
   "source": "from datetime import datetime, timezone, timedelta",
   "id": "f2f102cd863f01d1",
   "outputs": [],
   "execution_count": 88
  },
  {
   "metadata": {
    "ExecuteTime": {
     "end_time": "2024-06-12T18:02:37.273868Z",
     "start_time": "2024-06-12T18:02:37.269895Z"
    }
   },
   "cell_type": "code",
   "source": [
    "class Timer:\n",
    "    tz = timezone.utc\n",
    "    \n",
    "    @classmethod\n",
    "    def set_tz(cls, offset, name):\n",
    "        cls.tz = timezone(timedelta(hours=offset), name)"
   ],
   "id": "592a086cf3b6cd39",
   "outputs": [],
   "execution_count": 90
  },
  {
   "metadata": {
    "ExecuteTime": {
     "end_time": "2024-06-12T18:02:48.265337Z",
     "start_time": "2024-06-12T18:02:48.262419Z"
    }
   },
   "cell_type": "code",
   "source": "Timer.set_tz(-7, 'MST')",
   "id": "1f7ba6572a153c49",
   "outputs": [],
   "execution_count": 91
  },
  {
   "metadata": {
    "ExecuteTime": {
     "end_time": "2024-06-12T18:02:52.693918Z",
     "start_time": "2024-06-12T18:02:52.690654Z"
    }
   },
   "cell_type": "code",
   "source": "Timer.tz",
   "id": "45c517cb737c687",
   "outputs": [
    {
     "data": {
      "text/plain": [
       "datetime.timezone(datetime.timedelta(days=-1, seconds=61200), 'MST')"
      ]
     },
     "execution_count": 92,
     "metadata": {},
     "output_type": "execute_result"
    }
   ],
   "execution_count": 92
  },
  {
   "metadata": {
    "ExecuteTime": {
     "end_time": "2024-06-12T18:03:14.769370Z",
     "start_time": "2024-06-12T18:03:14.764869Z"
    }
   },
   "cell_type": "code",
   "source": [
    "t1 = Timer()\n",
    "t2 = Timer()\n",
    "\n",
    "t1.tz, t2.tz"
   ],
   "id": "34d48f37983cfec1",
   "outputs": [
    {
     "data": {
      "text/plain": [
       "(datetime.timezone(datetime.timedelta(days=-1, seconds=61200), 'MST'),\n",
       " datetime.timezone(datetime.timedelta(days=-1, seconds=61200), 'MST'))"
      ]
     },
     "execution_count": 93,
     "metadata": {},
     "output_type": "execute_result"
    }
   ],
   "execution_count": 93
  },
  {
   "metadata": {
    "ExecuteTime": {
     "end_time": "2024-06-12T18:03:39.448964Z",
     "start_time": "2024-06-12T18:03:39.445612Z"
    }
   },
   "cell_type": "code",
   "source": "Timer.set_tz(-8, 'PST')",
   "id": "ab11c20006c9fa3c",
   "outputs": [],
   "execution_count": 95
  },
  {
   "metadata": {
    "ExecuteTime": {
     "end_time": "2024-06-12T18:03:47.150573Z",
     "start_time": "2024-06-12T18:03:47.145607Z"
    }
   },
   "cell_type": "code",
   "source": "t1.tz, t2.tz",
   "id": "4f43f7194092726c",
   "outputs": [
    {
     "data": {
      "text/plain": [
       "(datetime.timezone(datetime.timedelta(days=-1, seconds=57600), 'PST'),\n",
       " datetime.timezone(datetime.timedelta(days=-1, seconds=57600), 'PST'))"
      ]
     },
     "execution_count": 96,
     "metadata": {},
     "output_type": "execute_result"
    }
   ],
   "execution_count": 96
  },
  {
   "metadata": {
    "ExecuteTime": {
     "end_time": "2024-06-12T18:04:58.007107Z",
     "start_time": "2024-06-12T18:04:58.003232Z"
    }
   },
   "cell_type": "code",
   "source": [
    "class Timer:\n",
    "    tz = timezone.utc\n",
    "    \n",
    "    @classmethod\n",
    "    def set_tz(cls, offset, name):\n",
    "        cls.tz = timezone(timedelta(hours=offset), name)\n",
    "        \n",
    "    @staticmethod\n",
    "    def current_dt_utc():\n",
    "        return datetime.now(timezone.utc)"
   ],
   "id": "c15b53b11e9a03cf",
   "outputs": [],
   "execution_count": 97
  },
  {
   "metadata": {
    "ExecuteTime": {
     "end_time": "2024-06-12T18:05:38.798563Z",
     "start_time": "2024-06-12T18:05:38.793625Z"
    }
   },
   "cell_type": "code",
   "source": [
    "Timer.set_tz(-8, 'PST')\n",
    "t1 = Timer()\n",
    "t1.current_dt_utc()"
   ],
   "id": "5651e645e8f16bd6",
   "outputs": [
    {
     "data": {
      "text/plain": [
       "datetime.datetime(2024, 6, 12, 18, 5, 38, 795650, tzinfo=datetime.timezone.utc)"
      ]
     },
     "execution_count": 99,
     "metadata": {},
     "output_type": "execute_result"
    }
   ],
   "execution_count": 99
  },
  {
   "metadata": {
    "ExecuteTime": {
     "end_time": "2024-06-12T18:06:24.350708Z",
     "start_time": "2024-06-12T18:06:24.347409Z"
    }
   },
   "cell_type": "code",
   "source": "Timer.current_dt_utc()",
   "id": "20b5753a9c10be39",
   "outputs": [
    {
     "data": {
      "text/plain": [
       "datetime.datetime(2024, 6, 12, 18, 6, 24, 348286, tzinfo=datetime.timezone.utc)"
      ]
     },
     "execution_count": 100,
     "metadata": {},
     "output_type": "execute_result"
    }
   ],
   "execution_count": 100
  },
  {
   "metadata": {
    "ExecuteTime": {
     "end_time": "2024-06-12T18:08:02.149109Z",
     "start_time": "2024-06-12T18:08:02.144522Z"
    }
   },
   "cell_type": "code",
   "source": [
    "class Timer:\n",
    "    tz = timezone.utc\n",
    "    \n",
    "    @classmethod\n",
    "    def set_tz(cls, offset, name):\n",
    "        cls.tz = timezone(timedelta(hours=offset), name)\n",
    "        \n",
    "    @staticmethod\n",
    "    def current_dt_utc():\n",
    "        return datetime.now(timezone.utc)\n",
    "    \n",
    "    @classmethod\n",
    "    def current_dt(cls):\n",
    "        return datetime.now(cls.tz)"
   ],
   "id": "4818aace215a9994",
   "outputs": [],
   "execution_count": 101
  },
  {
   "metadata": {
    "ExecuteTime": {
     "end_time": "2024-06-12T18:08:13.926732Z",
     "start_time": "2024-06-12T18:08:13.921128Z"
    }
   },
   "cell_type": "code",
   "source": "Timer.current_dt_utc(), Timer.current_dt()",
   "id": "7580740753d713dc",
   "outputs": [
    {
     "data": {
      "text/plain": [
       "(datetime.datetime(2024, 6, 12, 18, 8, 13, 923334, tzinfo=datetime.timezone.utc),\n",
       " datetime.datetime(2024, 6, 12, 18, 8, 13, 923339, tzinfo=datetime.timezone.utc))"
      ]
     },
     "execution_count": 103,
     "metadata": {},
     "output_type": "execute_result"
    }
   ],
   "execution_count": 103
  },
  {
   "metadata": {
    "ExecuteTime": {
     "end_time": "2024-06-12T18:08:36.290122Z",
     "start_time": "2024-06-12T18:08:36.286834Z"
    }
   },
   "cell_type": "code",
   "source": [
    "t1 = Timer()\n",
    "t2 = Timer()"
   ],
   "id": "5b7a455727eae8d1",
   "outputs": [],
   "execution_count": 104
  },
  {
   "metadata": {
    "ExecuteTime": {
     "end_time": "2024-06-12T18:08:45.124880Z",
     "start_time": "2024-06-12T18:08:45.120418Z"
    }
   },
   "cell_type": "code",
   "source": "t1.current_dt_utc(), t1.current_dt()",
   "id": "674a5c0a052a1ebe",
   "outputs": [
    {
     "data": {
      "text/plain": [
       "(datetime.datetime(2024, 6, 12, 18, 8, 45, 121546, tzinfo=datetime.timezone.utc),\n",
       " datetime.datetime(2024, 6, 12, 18, 8, 45, 121549, tzinfo=datetime.timezone.utc))"
      ]
     },
     "execution_count": 105,
     "metadata": {},
     "output_type": "execute_result"
    }
   ],
   "execution_count": 105
  },
  {
   "metadata": {
    "ExecuteTime": {
     "end_time": "2024-06-12T18:09:26.692771Z",
     "start_time": "2024-06-12T18:09:26.689504Z"
    }
   },
   "cell_type": "code",
   "source": "t2.set_tz(-7, 'MST')",
   "id": "1f31e0626ee07f6",
   "outputs": [],
   "execution_count": 106
  },
  {
   "metadata": {
    "ExecuteTime": {
     "end_time": "2024-06-12T18:09:41.585266Z",
     "start_time": "2024-06-12T18:09:41.581326Z"
    }
   },
   "cell_type": "code",
   "source": "t1.tz, t2.tz",
   "id": "9a7762349dc70833",
   "outputs": [
    {
     "data": {
      "text/plain": [
       "(datetime.timezone(datetime.timedelta(days=-1, seconds=61200), 'MST'),\n",
       " datetime.timezone(datetime.timedelta(days=-1, seconds=61200), 'MST'))"
      ]
     },
     "execution_count": 107,
     "metadata": {},
     "output_type": "execute_result"
    }
   ],
   "execution_count": 107
  },
  {
   "metadata": {
    "ExecuteTime": {
     "end_time": "2024-06-12T18:09:55.363245Z",
     "start_time": "2024-06-12T18:09:55.358017Z"
    }
   },
   "cell_type": "code",
   "source": "t1.__dict__, t2.__dict__",
   "id": "40d4e753ff8800fe",
   "outputs": [
    {
     "data": {
      "text/plain": [
       "({}, {})"
      ]
     },
     "execution_count": 108,
     "metadata": {},
     "output_type": "execute_result"
    }
   ],
   "execution_count": 108
  },
  {
   "metadata": {
    "ExecuteTime": {
     "end_time": "2024-06-12T18:11:00.427875Z",
     "start_time": "2024-06-12T18:11:00.422017Z"
    }
   },
   "cell_type": "code",
   "source": "t1.current_dt_utc(), t1.current_dt(), t2.current_dt()",
   "id": "233728dc59aa037",
   "outputs": [
    {
     "data": {
      "text/plain": [
       "(datetime.datetime(2024, 6, 12, 18, 11, 0, 423898, tzinfo=datetime.timezone.utc),\n",
       " datetime.datetime(2024, 6, 12, 11, 11, 0, 423902, tzinfo=datetime.timezone(datetime.timedelta(days=-1, seconds=61200), 'MST')),\n",
       " datetime.datetime(2024, 6, 12, 11, 11, 0, 423904, tzinfo=datetime.timezone(datetime.timedelta(days=-1, seconds=61200), 'MST')))"
      ]
     },
     "execution_count": 111,
     "metadata": {},
     "output_type": "execute_result"
    }
   ],
   "execution_count": 111
  },
  {
   "metadata": {
    "ExecuteTime": {
     "end_time": "2024-06-12T18:29:22.253785Z",
     "start_time": "2024-06-12T18:29:22.250798Z"
    }
   },
   "cell_type": "code",
   "source": [
    "class TimerError(Exception):\n",
    "    \"\"\"A custom exception used for Timer class\"\"\""
   ],
   "id": "c9c887af447424e3",
   "outputs": [],
   "execution_count": 112
  },
  {
   "metadata": {
    "ExecuteTime": {
     "end_time": "2024-06-12T18:45:58.472467Z",
     "start_time": "2024-06-12T18:45:58.464400Z"
    }
   },
   "cell_type": "code",
   "source": [
    "from datetime import datetime, timezone, timedelta\n",
    "class Timer:\n",
    "    tz = timezone.utc\n",
    "    \n",
    "    @classmethod\n",
    "    def set_tz(cls, offset, name):\n",
    "        cls.tz = timezone(timedelta(hours=offset), name)\n",
    "        \n",
    "    @staticmethod\n",
    "    def current_dt_utc():\n",
    "        return datetime.now(timezone.utc)\n",
    "    \n",
    "    @classmethod\n",
    "    def current_dt(cls):\n",
    "        return datetime.now(cls.tz)\n",
    "    \n",
    "    def start(self):\n",
    "        self._time_start = self.current_dt_utc()\n",
    "        self._time_end = None\n",
    "        \n",
    "    def stop(self):\n",
    "        if not self._time_start:\n",
    "            raise TimerError('Start timer before stoping')    \n",
    "        self._time_end = self.current_dt_utc()\n",
    "        \n",
    "    @property\n",
    "    def start_time(self):\n",
    "        if not self._time_start:\n",
    "            raise TimerError('Start time before calling start_time')\n",
    "        return self._time_start.astimezone(self.tz)\n",
    "    \n",
    "    @property\n",
    "    def end_time(self):\n",
    "        if not self._time_end:\n",
    "            raise TimerError('End timer before calling end_time')\n",
    "        return self._time_end.astimezone(self.tz)\n",
    "    \n",
    "    @property\n",
    "    def elapsed(self):\n",
    "        if not self._time_start:\n",
    "            raise TimerError('Timer must be started before an elapsed time can be calculated')\n",
    "        \n",
    "        if not self._time_end:\n",
    "            elapsed_time = self.current_dt_utc() - self._time_start\n",
    "        \n",
    "        else:\n",
    "            elapsed_time = self._time_end - self._time_start\n",
    "            \n",
    "        return elapsed_time.total_seconds()"
   ],
   "id": "3341bc4394a3da72",
   "outputs": [],
   "execution_count": 118
  },
  {
   "metadata": {
    "ExecuteTime": {
     "end_time": "2024-06-12T18:47:13.567734Z",
     "start_time": "2024-06-12T18:47:11.561276Z"
    }
   },
   "cell_type": "code",
   "source": [
    "from time import sleep\n",
    "\n",
    "t1 = Timer()\n",
    "t1.start()\n",
    "sleep(2)\n",
    "t1.stop()\n",
    "print(f'Start time: {t1.start_time}')\n",
    "print(f'End time: {t1.end_time}')\n",
    "print(f'Elapsed: {t1.elapsed} seconds ')"
   ],
   "id": "16eada3832342f4d",
   "outputs": [
    {
     "name": "stdout",
     "output_type": "stream",
     "text": [
      "Start time: 2024-06-12 11:47:11.564026-07:00\n",
      "End time: 2024-06-12 11:47:13.564337-07:00\n",
      "Elapsed: 2.000311 seconds \n"
     ]
    }
   ],
   "execution_count": 122
  },
  {
   "metadata": {
    "ExecuteTime": {
     "end_time": "2024-06-12T18:47:18.342990Z",
     "start_time": "2024-06-12T18:47:15.338571Z"
    }
   },
   "cell_type": "code",
   "source": [
    "t2 = Timer()\n",
    "t2.start()\n",
    "sleep(3)\n",
    "t2.stop()\n",
    "print(f'Start time: {t2.start_time}')\n",
    "print(f'End time: {t2.end_time}')\n",
    "print(f'Elapsed: {t2.elapsed} seconds ')"
   ],
   "id": "d30912dccc41ec6e",
   "outputs": [
    {
     "name": "stdout",
     "output_type": "stream",
     "text": [
      "Start time: 2024-06-12 10:47:15.339903-08:00\n",
      "End time: 2024-06-12 10:47:18.340119-08:00\n",
      "Elapsed: 3.000216 seconds \n"
     ]
    }
   ],
   "execution_count": 124
  },
  {
   "metadata": {
    "ExecuteTime": {
     "end_time": "2024-06-12T18:47:14.315840Z",
     "start_time": "2024-06-12T18:47:14.312003Z"
    }
   },
   "cell_type": "code",
   "source": "Timer.set_tz(-8, 'MST')",
   "id": "dcc41b2311b761aa",
   "outputs": [],
   "execution_count": 123
  },
  {
   "metadata": {},
   "cell_type": "code",
   "outputs": [],
   "execution_count": null,
   "source": "",
   "id": "20b2e21c488c2f3a"
  }
 ],
 "metadata": {
  "kernelspec": {
   "display_name": "Python 3",
   "language": "python",
   "name": "python3"
  },
  "language_info": {
   "codemirror_mode": {
    "name": "ipython",
    "version": 2
   },
   "file_extension": ".py",
   "mimetype": "text/x-python",
   "name": "python",
   "nbconvert_exporter": "python",
   "pygments_lexer": "ipython2",
   "version": "2.7.6"
  }
 },
 "nbformat": 4,
 "nbformat_minor": 5
}
