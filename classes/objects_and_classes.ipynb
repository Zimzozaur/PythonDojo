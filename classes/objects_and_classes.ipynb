{
 "cells": [
  {
   "cell_type": "code",
   "id": "initial_id",
   "metadata": {
    "collapsed": true,
    "ExecuteTime": {
     "end_time": "2024-06-11T07:06:30.138857Z",
     "start_time": "2024-06-11T07:06:30.130703Z"
    }
   },
   "source": "type(type)",
   "outputs": [
    {
     "data": {
      "text/plain": [
       "type"
      ]
     },
     "execution_count": 2,
     "metadata": {},
     "output_type": "execute_result"
    }
   ],
   "execution_count": 2
  },
  {
   "metadata": {
    "ExecuteTime": {
     "end_time": "2024-06-11T07:06:30.173325Z",
     "start_time": "2024-06-11T07:06:30.168756Z"
    }
   },
   "cell_type": "code",
   "source": "type(sum)",
   "id": "695ee8424b795a70",
   "outputs": [
    {
     "data": {
      "text/plain": [
       "builtin_function_or_method"
      ]
     },
     "execution_count": 3,
     "metadata": {},
     "output_type": "execute_result"
    }
   ],
   "execution_count": 3
  },
  {
   "metadata": {
    "ExecuteTime": {
     "end_time": "2024-06-11T07:06:30.226779Z",
     "start_time": "2024-06-11T07:06:30.223319Z"
    }
   },
   "cell_type": "code",
   "source": [
    "class IsThisTypeClass:\n",
    "    pass"
   ],
   "id": "4876be175cfe76d0",
   "outputs": [],
   "execution_count": 4
  },
  {
   "metadata": {
    "ExecuteTime": {
     "end_time": "2024-06-11T07:06:30.237836Z",
     "start_time": "2024-06-11T07:06:30.234686Z"
    }
   },
   "cell_type": "code",
   "source": "type(IsThisTypeClass)",
   "id": "7e24a3bfcde27981",
   "outputs": [
    {
     "data": {
      "text/plain": [
       "type"
      ]
     },
     "execution_count": 5,
     "metadata": {},
     "output_type": "execute_result"
    }
   ],
   "execution_count": 5
  },
  {
   "metadata": {
    "ExecuteTime": {
     "end_time": "2024-06-11T07:06:30.248332Z",
     "start_time": "2024-06-11T07:06:30.242612Z"
    }
   },
   "cell_type": "code",
   "source": "IsThisTypeClass.__name__",
   "id": "e8c33f1f360909c7",
   "outputs": [
    {
     "data": {
      "text/plain": [
       "'IsThisTypeClass'"
      ]
     },
     "execution_count": 6,
     "metadata": {},
     "output_type": "execute_result"
    }
   ],
   "execution_count": 6
  },
  {
   "metadata": {
    "ExecuteTime": {
     "end_time": "2024-06-11T07:06:30.257228Z",
     "start_time": "2024-06-11T07:06:30.252427Z"
    }
   },
   "cell_type": "code",
   "source": "IsThisTypeClass.__class__",
   "id": "9fd2efa6932286b",
   "outputs": [
    {
     "data": {
      "text/plain": [
       "type"
      ]
     },
     "execution_count": 7,
     "metadata": {},
     "output_type": "execute_result"
    }
   ],
   "execution_count": 7
  },
  {
   "metadata": {
    "ExecuteTime": {
     "end_time": "2024-06-11T07:06:30.286668Z",
     "start_time": "2024-06-11T07:06:30.283789Z"
    }
   },
   "cell_type": "code",
   "source": "is_this_type_class = IsThisTypeClass()",
   "id": "b3c23d8bf07b3bab",
   "outputs": [],
   "execution_count": 8
  },
  {
   "metadata": {
    "ExecuteTime": {
     "end_time": "2024-06-11T07:06:30.299671Z",
     "start_time": "2024-06-11T07:06:30.294375Z"
    }
   },
   "cell_type": "code",
   "source": "type(is_this_type_class)",
   "id": "c02593c276c1fc4c",
   "outputs": [
    {
     "data": {
      "text/plain": [
       "__main__.IsThisTypeClass"
      ]
     },
     "execution_count": 9,
     "metadata": {},
     "output_type": "execute_result"
    }
   ],
   "execution_count": 9
  },
  {
   "metadata": {
    "ExecuteTime": {
     "end_time": "2024-06-11T07:06:30.309135Z",
     "start_time": "2024-06-11T07:06:30.304308Z"
    }
   },
   "cell_type": "code",
   "source": "is_this_type_class.__class__",
   "id": "dc0a62395e0c18c7",
   "outputs": [
    {
     "data": {
      "text/plain": [
       "__main__.IsThisTypeClass"
      ]
     },
     "execution_count": 10,
     "metadata": {},
     "output_type": "execute_result"
    }
   ],
   "execution_count": 10
  },
  {
   "metadata": {
    "ExecuteTime": {
     "end_time": "2024-06-11T07:06:30.341722Z",
     "start_time": "2024-06-11T07:06:30.337016Z"
    }
   },
   "cell_type": "code",
   "source": "type(is_this_type_class) is is_this_type_class.__class__",
   "id": "3cd10319b04df199",
   "outputs": [
    {
     "data": {
      "text/plain": [
       "True"
      ]
     },
     "execution_count": 11,
     "metadata": {},
     "output_type": "execute_result"
    }
   ],
   "execution_count": 11
  },
  {
   "metadata": {
    "ExecuteTime": {
     "end_time": "2024-06-11T07:06:30.367214Z",
     "start_time": "2024-06-11T07:06:30.362662Z"
    }
   },
   "cell_type": "code",
   "source": "type(help)",
   "id": "a98feddd8c27a28b",
   "outputs": [
    {
     "data": {
      "text/plain": [
       "_sitebuiltins._Helper"
      ]
     },
     "execution_count": 12,
     "metadata": {},
     "output_type": "execute_result"
    }
   ],
   "execution_count": 12
  },
  {
   "metadata": {
    "ExecuteTime": {
     "end_time": "2024-06-11T07:06:30.428041Z",
     "start_time": "2024-06-11T07:06:30.417549Z"
    }
   },
   "cell_type": "code",
   "source": "help(type)",
   "id": "7c2d4a5af3f1e674",
   "outputs": [
    {
     "name": "stdout",
     "output_type": "stream",
     "text": [
      "Help on class type in module builtins:\n",
      "\n",
      "class type(object)\n",
      " |  type(object) -> the object's type\n",
      " |  type(name, bases, dict, **kwds) -> a new type\n",
      " |\n",
      " |  Methods defined here:\n",
      " |\n",
      " |  __call__(self, /, *args, **kwargs)\n",
      " |      Call self as a function.\n",
      " |\n",
      " |  __delattr__(self, name, /)\n",
      " |      Implement delattr(self, name).\n",
      " |\n",
      " |  __dir__(self, /)\n",
      " |      Specialized __dir__ implementation for types.\n",
      " |\n",
      " |  __getattribute__(self, name, /)\n",
      " |      Return getattr(self, name).\n",
      " |\n",
      " |  __init__(self, /, *args, **kwargs)\n",
      " |      Initialize self.  See help(type(self)) for accurate signature.\n",
      " |\n",
      " |  __instancecheck__(self, instance, /)\n",
      " |      Check if an object is an instance.\n",
      " |\n",
      " |  __or__(self, value, /)\n",
      " |      Return self|value.\n",
      " |\n",
      " |  __repr__(self, /)\n",
      " |      Return repr(self).\n",
      " |\n",
      " |  __ror__(self, value, /)\n",
      " |      Return value|self.\n",
      " |\n",
      " |  __setattr__(self, name, value, /)\n",
      " |      Implement setattr(self, name, value).\n",
      " |\n",
      " |  __sizeof__(self, /)\n",
      " |      Return memory consumption of the type object.\n",
      " |\n",
      " |  __subclasscheck__(self, subclass, /)\n",
      " |      Check if a class is a subclass.\n",
      " |\n",
      " |  __subclasses__(self, /)\n",
      " |      Return a list of immediate subclasses.\n",
      " |\n",
      " |  mro(self, /)\n",
      " |      Return a type's method resolution order.\n",
      " |\n",
      " |  ----------------------------------------------------------------------\n",
      " |  Class methods defined here:\n",
      " |\n",
      " |  __prepare__(...)\n",
      " |      __prepare__() -> dict\n",
      " |      used to create the namespace for the class statement\n",
      " |\n",
      " |  ----------------------------------------------------------------------\n",
      " |  Static methods defined here:\n",
      " |\n",
      " |  __new__(*args, **kwargs)\n",
      " |      Create and return a new object.  See help(type) for accurate signature.\n",
      " |\n",
      " |  ----------------------------------------------------------------------\n",
      " |  Data descriptors defined here:\n",
      " |\n",
      " |  __abstractmethods__\n",
      " |\n",
      " |  __annotations__\n",
      " |\n",
      " |  __dict__\n",
      " |\n",
      " |  __text_signature__\n",
      " |\n",
      " |  __type_params__\n",
      " |\n",
      " |  ----------------------------------------------------------------------\n",
      " |  Data and other attributes defined here:\n",
      " |\n",
      " |  __base__ = <class 'object'>\n",
      " |      The base class of the class hierarchy.\n",
      " |\n",
      " |      When called, it accepts no arguments and returns a new featureless\n",
      " |      instance that has no instance attributes and cannot be given any.\n",
      " |\n",
      " |\n",
      " |  __bases__ = (<class 'object'>,)\n",
      " |\n",
      " |  __basicsize__ = 920\n",
      " |\n",
      " |  __dictoffset__ = 264\n",
      " |\n",
      " |  __flags__ = 2156420354\n",
      " |\n",
      " |  __itemsize__ = 40\n",
      " |\n",
      " |  __mro__ = (<class 'type'>, <class 'object'>)\n",
      " |\n",
      " |  __weakrefoffset__ = 368\n",
      "\n"
     ]
    }
   ],
   "execution_count": 13
  },
  {
   "metadata": {
    "ExecuteTime": {
     "end_time": "2024-06-11T07:06:30.440501Z",
     "start_time": "2024-06-11T07:06:30.432715Z"
    }
   },
   "cell_type": "code",
   "source": "help(object)",
   "id": "a26e2d7a108817c1",
   "outputs": [
    {
     "name": "stdout",
     "output_type": "stream",
     "text": [
      "Help on class object in module builtins:\n",
      "\n",
      "class object\n",
      " |  The base class of the class hierarchy.\n",
      " |\n",
      " |  When called, it accepts no arguments and returns a new featureless\n",
      " |  instance that has no instance attributes and cannot be given any.\n",
      " |\n",
      " |  Built-in subclasses:\n",
      " |      anext_awaitable\n",
      " |      async_generator\n",
      " |      async_generator_asend\n",
      " |      async_generator_athrow\n",
      " |      ... and 90 other subclasses\n",
      " |\n",
      " |  Methods defined here:\n",
      " |\n",
      " |  __delattr__(self, name, /)\n",
      " |      Implement delattr(self, name).\n",
      " |\n",
      " |  __dir__(self, /)\n",
      " |      Default dir() implementation.\n",
      " |\n",
      " |  __eq__(self, value, /)\n",
      " |      Return self==value.\n",
      " |\n",
      " |  __format__(self, format_spec, /)\n",
      " |      Default object formatter.\n",
      " |\n",
      " |      Return str(self) if format_spec is empty. Raise TypeError otherwise.\n",
      " |\n",
      " |  __ge__(self, value, /)\n",
      " |      Return self>=value.\n",
      " |\n",
      " |  __getattribute__(self, name, /)\n",
      " |      Return getattr(self, name).\n",
      " |\n",
      " |  __getstate__(self, /)\n",
      " |      Helper for pickle.\n",
      " |\n",
      " |  __gt__(self, value, /)\n",
      " |      Return self>value.\n",
      " |\n",
      " |  __hash__(self, /)\n",
      " |      Return hash(self).\n",
      " |\n",
      " |  __init__(self, /, *args, **kwargs)\n",
      " |      Initialize self.  See help(type(self)) for accurate signature.\n",
      " |\n",
      " |  __le__(self, value, /)\n",
      " |      Return self<=value.\n",
      " |\n",
      " |  __lt__(self, value, /)\n",
      " |      Return self<value.\n",
      " |\n",
      " |  __ne__(self, value, /)\n",
      " |      Return self!=value.\n",
      " |\n",
      " |  __reduce__(self, /)\n",
      " |      Helper for pickle.\n",
      " |\n",
      " |  __reduce_ex__(self, protocol, /)\n",
      " |      Helper for pickle.\n",
      " |\n",
      " |  __repr__(self, /)\n",
      " |      Return repr(self).\n",
      " |\n",
      " |  __setattr__(self, name, value, /)\n",
      " |      Implement setattr(self, name, value).\n",
      " |\n",
      " |  __sizeof__(self, /)\n",
      " |      Size of object in memory, in bytes.\n",
      " |\n",
      " |  __str__(self, /)\n",
      " |      Return str(self).\n",
      " |\n",
      " |  ----------------------------------------------------------------------\n",
      " |  Class methods defined here:\n",
      " |\n",
      " |  __init_subclass__(...)\n",
      " |      This method is called when a class is subclassed.\n",
      " |\n",
      " |      The default implementation does nothing. It may be\n",
      " |      overridden to extend subclasses.\n",
      " |\n",
      " |  __subclasshook__(...)\n",
      " |      Abstract classes can override this to customize issubclass().\n",
      " |\n",
      " |      This is invoked early on by abc.ABCMeta.__subclasscheck__().\n",
      " |      It should return True, False or NotImplemented.  If it returns\n",
      " |      NotImplemented, the normal algorithm is used.  Otherwise, it\n",
      " |      overrides the normal algorithm (and the outcome is cached).\n",
      " |\n",
      " |  ----------------------------------------------------------------------\n",
      " |  Static methods defined here:\n",
      " |\n",
      " |  __new__(*args, **kwargs)\n",
      " |      Create and return a new object.  See help(type) for accurate signature.\n",
      " |\n",
      " |  ----------------------------------------------------------------------\n",
      " |  Data and other attributes defined here:\n",
      " |\n",
      " |  __class__ = <class 'type'>\n",
      " |      type(object) -> the object's type\n",
      " |      type(name, bases, dict, **kwds) -> a new type\n",
      "\n"
     ]
    }
   ],
   "execution_count": 14
  },
  {
   "metadata": {
    "ExecuteTime": {
     "end_time": "2024-06-11T07:06:30.448681Z",
     "start_time": "2024-06-11T07:06:30.446086Z"
    }
   },
   "cell_type": "code",
   "source": [
    "class Interpreter:\n",
    "    lang = 'Python'\n",
    "    version = 3.12"
   ],
   "id": "c55cbbcb9a180434",
   "outputs": [],
   "execution_count": 15
  },
  {
   "metadata": {
    "ExecuteTime": {
     "end_time": "2024-06-11T07:06:30.496940Z",
     "start_time": "2024-06-11T07:06:30.480765Z"
    }
   },
   "cell_type": "code",
   "source": "getattr(Interpreter, 'bang?')",
   "id": "3ec8af96a11f2b73",
   "outputs": [
    {
     "ename": "AttributeError",
     "evalue": "type object 'Interpreter' has no attribute 'bang?'",
     "output_type": "error",
     "traceback": [
      "\u001B[0;31m---------------------------------------------------------------------------\u001B[0m",
      "\u001B[0;31mAttributeError\u001B[0m                            Traceback (most recent call last)",
      "Cell \u001B[0;32mIn[16], line 1\u001B[0m\n\u001B[0;32m----> 1\u001B[0m \u001B[38;5;28;43mgetattr\u001B[39;49m\u001B[43m(\u001B[49m\u001B[43mInterpreter\u001B[49m\u001B[43m,\u001B[49m\u001B[43m \u001B[49m\u001B[38;5;124;43m'\u001B[39;49m\u001B[38;5;124;43mbang?\u001B[39;49m\u001B[38;5;124;43m'\u001B[39;49m\u001B[43m)\u001B[49m\n",
      "\u001B[0;31mAttributeError\u001B[0m: type object 'Interpreter' has no attribute 'bang?'"
     ]
    }
   ],
   "execution_count": 16
  },
  {
   "metadata": {},
   "cell_type": "code",
   "source": "type(AttributeError)",
   "id": "b4065051911f45f9",
   "outputs": [],
   "execution_count": null
  },
  {
   "metadata": {
    "ExecuteTime": {
     "end_time": "2024-06-11T07:15:55.785259Z",
     "start_time": "2024-06-11T07:15:55.780375Z"
    }
   },
   "cell_type": "code",
   "source": "Interpreter.__dict__",
   "id": "a652b0f3e77f2b47",
   "outputs": [
    {
     "data": {
      "text/plain": [
       "mappingproxy({'__module__': '__main__',\n",
       "              'lang': 'Python',\n",
       "              'version': 3.12,\n",
       "              '__dict__': <attribute '__dict__' of 'Interpreter' objects>,\n",
       "              '__weakref__': <attribute '__weakref__' of 'Interpreter' objects>,\n",
       "              '__doc__': None})"
      ]
     },
     "execution_count": 31,
     "metadata": {},
     "output_type": "execute_result"
    }
   ],
   "execution_count": 31
  },
  {
   "metadata": {
    "ExecuteTime": {
     "end_time": "2024-06-11T07:15:52.917723Z",
     "start_time": "2024-06-11T07:15:52.914328Z"
    }
   },
   "cell_type": "code",
   "source": "setattr(Interpreter, 'haskell', True)",
   "id": "32f7fec536e2e7b5",
   "outputs": [],
   "execution_count": 28
  },
  {
   "metadata": {
    "ExecuteTime": {
     "end_time": "2024-06-11T07:15:54.810164Z",
     "start_time": "2024-06-11T07:15:54.806891Z"
    }
   },
   "cell_type": "code",
   "source": "delattr(Interpreter, 'haskell')",
   "id": "d9e94de559cde3de",
   "outputs": [],
   "execution_count": 30
  },
  {
   "metadata": {
    "ExecuteTime": {
     "end_time": "2024-06-11T07:14:18.727215Z",
     "start_time": "2024-06-11T07:14:18.710181Z"
    }
   },
   "cell_type": "code",
   "source": "del Interpreter.__dict__",
   "id": "ea38ed449f30a6eb",
   "outputs": [
    {
     "ename": "AttributeError",
     "evalue": "attribute '__dict__' of 'type' objects is not writable",
     "output_type": "error",
     "traceback": [
      "\u001B[0;31m---------------------------------------------------------------------------\u001B[0m",
      "\u001B[0;31mAttributeError\u001B[0m                            Traceback (most recent call last)",
      "Cell \u001B[0;32mIn[23], line 1\u001B[0m\n\u001B[0;32m----> 1\u001B[0m \u001B[38;5;28;01mdel\u001B[39;00m \u001B[43mInterpreter\u001B[49m\u001B[38;5;241;43m.\u001B[39;49m\u001B[38;5;18;43m__dict__\u001B[39;49m\n",
      "\u001B[0;31mAttributeError\u001B[0m: attribute '__dict__' of 'type' objects is not writable"
     ]
    }
   ],
   "execution_count": 23
  },
  {
   "metadata": {
    "ExecuteTime": {
     "end_time": "2024-06-11T07:35:02.978586Z",
     "start_time": "2024-06-11T07:35:02.972758Z"
    }
   },
   "cell_type": "code",
   "source": [
    "x = 'Mario'\n",
    "setattr(x, 'game', 'Mario 64')"
   ],
   "id": "ed774891b691e1aa",
   "outputs": [
    {
     "data": {
      "text/plain": [
       "'Mario 64'"
      ]
     },
     "execution_count": 49,
     "metadata": {},
     "output_type": "execute_result"
    }
   ],
   "execution_count": 49
  },
  {
   "metadata": {
    "ExecuteTime": {
     "end_time": "2024-06-11T07:45:23.442843Z",
     "start_time": "2024-06-11T07:45:23.439499Z"
    }
   },
   "cell_type": "code",
   "source": [
    "class Str(str):\n",
    "    pass"
   ],
   "id": "1edd53d409962a48",
   "outputs": [],
   "execution_count": 62
  },
  {
   "metadata": {
    "ExecuteTime": {
     "end_time": "2024-06-11T07:45:23.667545Z",
     "start_time": "2024-06-11T07:45:23.662152Z"
    }
   },
   "cell_type": "code",
   "source": [
    "x = Str('Mario')\n",
    "setattr(x, 'game', 'Mario 64')\n",
    "x.game"
   ],
   "id": "7eb74bfc5f1105d",
   "outputs": [
    {
     "data": {
      "text/plain": [
       "'Mario 64'"
      ]
     },
     "execution_count": 63,
     "metadata": {},
     "output_type": "execute_result"
    }
   ],
   "execution_count": 63
  },
  {
   "metadata": {
    "ExecuteTime": {
     "end_time": "2024-06-11T07:45:24.122011Z",
     "start_time": "2024-06-11T07:45:24.117351Z"
    }
   },
   "cell_type": "code",
   "source": "x.__dict__['game']",
   "id": "b89c3a93a4fa939",
   "outputs": [
    {
     "data": {
      "text/plain": [
       "'Mario 64'"
      ]
     },
     "execution_count": 64,
     "metadata": {},
     "output_type": "execute_result"
    }
   ],
   "execution_count": 64
  },
  {
   "metadata": {
    "ExecuteTime": {
     "end_time": "2024-06-11T07:45:24.874794Z",
     "start_time": "2024-06-11T07:45:24.869165Z"
    }
   },
   "cell_type": "code",
   "source": "list(Str.__dict__.items())",
   "id": "bf56e9408cd52f04",
   "outputs": [
    {
     "data": {
      "text/plain": [
       "[('__module__', '__main__'),\n",
       " ('__dict__', <attribute '__dict__' of 'Str' objects>),\n",
       " ('__weakref__', <attribute '__weakref__' of 'Str' objects>),\n",
       " ('__doc__', None)]"
      ]
     },
     "execution_count": 65,
     "metadata": {},
     "output_type": "execute_result"
    }
   ],
   "execution_count": 65
  },
  {
   "metadata": {
    "ExecuteTime": {
     "end_time": "2024-06-11T07:46:06.446600Z",
     "start_time": "2024-06-11T07:46:06.441522Z"
    }
   },
   "cell_type": "code",
   "source": [
    "setattr(Str, 'int', 64)\n",
    "Str.__dict__"
   ],
   "id": "69828d2626de2f02",
   "outputs": [
    {
     "data": {
      "text/plain": [
       "mappingproxy({'__module__': '__main__',\n",
       "              '__dict__': <attribute '__dict__' of 'Str' objects>,\n",
       "              '__weakref__': <attribute '__weakref__' of 'Str' objects>,\n",
       "              '__doc__': None,\n",
       "              'int': 64})"
      ]
     },
     "execution_count": 67,
     "metadata": {},
     "output_type": "execute_result"
    }
   ],
   "execution_count": 67
  },
  {
   "metadata": {
    "ExecuteTime": {
     "end_time": "2024-06-11T07:46:21.492877Z",
     "start_time": "2024-06-11T07:46:21.473102Z"
    }
   },
   "cell_type": "code",
   "source": "Str.__dict__['int'] = 128",
   "id": "a09b77c9df7c2e3a",
   "outputs": [
    {
     "ename": "TypeError",
     "evalue": "'mappingproxy' object does not support item assignment",
     "output_type": "error",
     "traceback": [
      "\u001B[0;31m---------------------------------------------------------------------------\u001B[0m",
      "\u001B[0;31mTypeError\u001B[0m                                 Traceback (most recent call last)",
      "Cell \u001B[0;32mIn[68], line 1\u001B[0m\n\u001B[0;32m----> 1\u001B[0m \u001B[43mStr\u001B[49m\u001B[38;5;241;43m.\u001B[39;49m\u001B[38;5;18;43m__dict__\u001B[39;49m\u001B[43m[\u001B[49m\u001B[38;5;124;43m'\u001B[39;49m\u001B[38;5;124;43mint\u001B[39;49m\u001B[38;5;124;43m'\u001B[39;49m\u001B[43m]\u001B[49m \u001B[38;5;241m=\u001B[39m \u001B[38;5;241m128\u001B[39m\n",
      "\u001B[0;31mTypeError\u001B[0m: 'mappingproxy' object does not support item assignment"
     ]
    }
   ],
   "execution_count": 68
  },
  {
   "metadata": {},
   "cell_type": "code",
   "outputs": [],
   "execution_count": null,
   "source": "",
   "id": "b8e9f2176243c0e4"
  }
 ],
 "metadata": {
  "kernelspec": {
   "display_name": "Python 3",
   "language": "python",
   "name": "python3"
  },
  "language_info": {
   "codemirror_mode": {
    "name": "ipython",
    "version": 2
   },
   "file_extension": ".py",
   "mimetype": "text/x-python",
   "name": "python",
   "nbconvert_exporter": "python",
   "pygments_lexer": "ipython2",
   "version": "2.7.6"
  }
 },
 "nbformat": 4,
 "nbformat_minor": 5
}
