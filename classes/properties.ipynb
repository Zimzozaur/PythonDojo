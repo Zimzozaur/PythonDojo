{
 "cells": [
  {
   "cell_type": "code",
   "id": "initial_id",
   "metadata": {
    "collapsed": true,
    "ExecuteTime": {
     "end_time": "2024-06-11T17:23:40.789429Z",
     "start_time": "2024-06-11T17:23:40.785398Z"
    }
   },
   "source": [
    "class Person:\n",
    "    def __init__(self, name):\n",
    "        self.name = name"
   ],
   "outputs": [],
   "execution_count": 3
  },
  {
   "metadata": {
    "ExecuteTime": {
     "end_time": "2024-06-11T17:23:53.377914Z",
     "start_time": "2024-06-11T17:23:53.374671Z"
    }
   },
   "cell_type": "code",
   "source": "p = Person('Alex')",
   "id": "8e47b941e7375d36",
   "outputs": [],
   "execution_count": 4
  },
  {
   "metadata": {
    "ExecuteTime": {
     "end_time": "2024-06-11T17:24:03.857985Z",
     "start_time": "2024-06-11T17:24:03.853070Z"
    }
   },
   "cell_type": "code",
   "source": "p.__dict__",
   "id": "2892fcfa3ad0e327",
   "outputs": [
    {
     "data": {
      "text/plain": [
       "{'name': 'Alex'}"
      ]
     },
     "execution_count": 5,
     "metadata": {},
     "output_type": "execute_result"
    }
   ],
   "execution_count": 5
  },
  {
   "metadata": {
    "ExecuteTime": {
     "end_time": "2024-06-12T07:16:44.219720Z",
     "start_time": "2024-06-12T07:16:44.214037Z"
    }
   },
   "cell_type": "code",
   "source": [
    "class Person:\n",
    "    def __init__(self, name: str):\n",
    "        self._name = ''\n",
    "        self.set_name(name)\n",
    "        \n",
    "    def get_name(self) -> str:\n",
    "        return self._name\n",
    "    \n",
    "    def set_name(self, value: str) -> None:\n",
    "        if isinstance(value, str) and len(value.strip()) > 0:\n",
    "            self._name = value.strip()\n",
    "        else:\n",
    "            raise ValueError('value must be a non-empty string')\n",
    "        \n",
    "    def del_name(self):\n",
    "        print('DEL')\n",
    "        del self._name\n",
    "    \n",
    "    name = property(fget=get_name, fset=set_name, fdel=del_name, doc=\"name's property doc\")"
   ],
   "id": "a3eb03826fb2445e",
   "outputs": [],
   "execution_count": 36
  },
  {
   "metadata": {
    "ExecuteTime": {
     "end_time": "2024-06-12T07:09:33.689152Z",
     "start_time": "2024-06-12T07:09:33.686076Z"
    }
   },
   "cell_type": "code",
   "source": "p = Person('Alex')",
   "id": "f2acaa9c4bff5b5a",
   "outputs": [],
   "execution_count": 26
  },
  {
   "metadata": {
    "ExecuteTime": {
     "end_time": "2024-06-12T07:09:33.950508Z",
     "start_time": "2024-06-12T07:09:33.945947Z"
    }
   },
   "cell_type": "code",
   "source": "p.__dict__",
   "id": "4014efb593fe397b",
   "outputs": [
    {
     "data": {
      "text/plain": [
       "{'_name': 'Alex'}"
      ]
     },
     "execution_count": 27,
     "metadata": {},
     "output_type": "execute_result"
    }
   ],
   "execution_count": 27
  },
  {
   "metadata": {
    "ExecuteTime": {
     "end_time": "2024-06-12T07:10:14.423682Z",
     "start_time": "2024-06-12T07:10:14.420588Z"
    }
   },
   "cell_type": "code",
   "source": "p.__dict__['name'] = 3.14",
   "id": "4cb0669616d24f8f",
   "outputs": [],
   "execution_count": 29
  },
  {
   "metadata": {
    "ExecuteTime": {
     "end_time": "2024-06-12T07:10:17.290916Z",
     "start_time": "2024-06-12T07:10:17.285214Z"
    }
   },
   "cell_type": "code",
   "source": "p.name",
   "id": "f163180d72c273aa",
   "outputs": [
    {
     "data": {
      "text/plain": [
       "'Alex'"
      ]
     },
     "execution_count": 30,
     "metadata": {},
     "output_type": "execute_result"
    }
   ],
   "execution_count": 30
  },
  {
   "metadata": {
    "ExecuteTime": {
     "end_time": "2024-06-12T07:10:45.155352Z",
     "start_time": "2024-06-12T07:10:45.149956Z"
    }
   },
   "cell_type": "code",
   "source": "p.__dict__",
   "id": "1ade893d9935f1d8",
   "outputs": [
    {
     "data": {
      "text/plain": [
       "{'_name': 'Alex', 'name': 3.14}"
      ]
     },
     "execution_count": 31,
     "metadata": {},
     "output_type": "execute_result"
    }
   ],
   "execution_count": 31
  },
  {
   "metadata": {
    "ExecuteTime": {
     "end_time": "2024-06-12T07:10:54.268708Z",
     "start_time": "2024-06-12T07:10:54.265620Z"
    }
   },
   "cell_type": "code",
   "source": "del p.name",
   "id": "9892f2e4a27b1c64",
   "outputs": [
    {
     "name": "stdout",
     "output_type": "stream",
     "text": [
      "DEL\n"
     ]
    }
   ],
   "execution_count": 32
  },
  {
   "metadata": {
    "ExecuteTime": {
     "end_time": "2024-06-12T07:10:59.630946Z",
     "start_time": "2024-06-12T07:10:59.626363Z"
    }
   },
   "cell_type": "code",
   "source": "p.__dict__",
   "id": "8161aac39d3a0789",
   "outputs": [
    {
     "data": {
      "text/plain": [
       "{'name': 3.14}"
      ]
     },
     "execution_count": 33,
     "metadata": {},
     "output_type": "execute_result"
    }
   ],
   "execution_count": 33
  },
  {
   "metadata": {
    "ExecuteTime": {
     "end_time": "2024-06-12T07:11:02.288528Z",
     "start_time": "2024-06-12T07:11:02.254684Z"
    }
   },
   "cell_type": "code",
   "source": "p.name",
   "id": "a7b5badaeedd26cf",
   "outputs": [
    {
     "ename": "AttributeError",
     "evalue": "'Person' object has no attribute '_name'",
     "output_type": "error",
     "traceback": [
      "\u001B[0;31m---------------------------------------------------------------------------\u001B[0m",
      "\u001B[0;31mAttributeError\u001B[0m                            Traceback (most recent call last)",
      "Cell \u001B[0;32mIn[34], line 1\u001B[0m\n\u001B[0;32m----> 1\u001B[0m \u001B[43mp\u001B[49m\u001B[38;5;241;43m.\u001B[39;49m\u001B[43mname\u001B[49m\n",
      "Cell \u001B[0;32mIn[25], line 7\u001B[0m, in \u001B[0;36mPerson.get_name\u001B[0;34m(self)\u001B[0m\n\u001B[1;32m      6\u001B[0m \u001B[38;5;28;01mdef\u001B[39;00m \u001B[38;5;21mget_name\u001B[39m(\u001B[38;5;28mself\u001B[39m) \u001B[38;5;241m-\u001B[39m\u001B[38;5;241m>\u001B[39m \u001B[38;5;28mstr\u001B[39m:\n\u001B[0;32m----> 7\u001B[0m     \u001B[38;5;28;01mreturn\u001B[39;00m \u001B[38;5;28;43mself\u001B[39;49m\u001B[38;5;241;43m.\u001B[39;49m\u001B[43m_name\u001B[49m\n",
      "\u001B[0;31mAttributeError\u001B[0m: 'Person' object has no attribute '_name'"
     ]
    }
   ],
   "execution_count": 34
  },
  {
   "metadata": {
    "ExecuteTime": {
     "end_time": "2024-06-12T07:12:40.370082Z",
     "start_time": "2024-06-12T07:12:40.363867Z"
    }
   },
   "cell_type": "code",
   "source": "Person.__dict__",
   "id": "cecbd5501df6796e",
   "outputs": [
    {
     "data": {
      "text/plain": [
       "mappingproxy({'__module__': '__main__',\n",
       "              '__init__': <function __main__.Person.__init__(self, name: str)>,\n",
       "              'get_name': <function __main__.Person.get_name(self) -> str>,\n",
       "              'set_name': <function __main__.Person.set_name(self, value: str) -> None>,\n",
       "              'del_name': <function __main__.Person.del_name(self)>,\n",
       "              'name': <property at 0x7f3dd8d38bd0>,\n",
       "              '__dict__': <attribute '__dict__' of 'Person' objects>,\n",
       "              '__weakref__': <attribute '__weakref__' of 'Person' objects>,\n",
       "              '__doc__': None})"
      ]
     },
     "execution_count": 35,
     "metadata": {},
     "output_type": "execute_result"
    }
   ],
   "execution_count": 35
  },
  {
   "metadata": {
    "ExecuteTime": {
     "end_time": "2024-06-12T07:16:53.064287Z",
     "start_time": "2024-06-12T07:16:53.058391Z"
    }
   },
   "cell_type": "code",
   "source": "help(Person)",
   "id": "bb0608b5d1a76944",
   "outputs": [
    {
     "name": "stdout",
     "output_type": "stream",
     "text": [
      "Help on class Person in module __main__:\n",
      "\n",
      "class Person(builtins.object)\n",
      " |  Person(name: str)\n",
      " |\n",
      " |  Methods defined here:\n",
      " |\n",
      " |  __init__(self, name: str)\n",
      " |      Initialize self.  See help(type(self)) for accurate signature.\n",
      " |\n",
      " |  del_name(self)\n",
      " |\n",
      " |  get_name(self) -> str\n",
      " |\n",
      " |  set_name(self, value: str) -> None\n",
      " |\n",
      " |  ----------------------------------------------------------------------\n",
      " |  Data descriptors defined here:\n",
      " |\n",
      " |  __dict__\n",
      " |      dictionary for instance variables\n",
      " |\n",
      " |  __weakref__\n",
      " |      list of weak references to the object\n",
      " |\n",
      " |  name\n",
      " |      name's property doc\n",
      "\n"
     ]
    }
   ],
   "execution_count": 37
  },
  {
   "metadata": {
    "ExecuteTime": {
     "end_time": "2024-06-12T07:17:01.056316Z",
     "start_time": "2024-06-12T07:17:01.052657Z"
    }
   },
   "cell_type": "code",
   "source": "help(Person.name)",
   "id": "5d3a9c2a73ba21bf",
   "outputs": [
    {
     "name": "stdout",
     "output_type": "stream",
     "text": [
      "Help on property:\n",
      "\n",
      "    name's property doc\n",
      "\n"
     ]
    }
   ],
   "execution_count": 38
  },
  {
   "metadata": {},
   "cell_type": "code",
   "outputs": [],
   "execution_count": null,
   "source": "",
   "id": "70592fc00c1f125a"
  }
 ],
 "metadata": {
  "kernelspec": {
   "display_name": "Python 3",
   "language": "python",
   "name": "python3"
  },
  "language_info": {
   "codemirror_mode": {
    "name": "ipython",
    "version": 2
   },
   "file_extension": ".py",
   "mimetype": "text/x-python",
   "name": "python",
   "nbconvert_exporter": "python",
   "pygments_lexer": "ipython2",
   "version": "2.7.6"
  }
 },
 "nbformat": 4,
 "nbformat_minor": 5
}
