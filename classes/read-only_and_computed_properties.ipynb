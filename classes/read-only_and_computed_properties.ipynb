{
 "cells": [
  {
   "cell_type": "code",
   "id": "initial_id",
   "metadata": {
    "collapsed": true,
    "ExecuteTime": {
     "end_time": "2024-06-12T11:46:40.042285Z",
     "start_time": "2024-06-12T11:46:40.036127Z"
    }
   },
   "source": [
    "from math import pi\n",
    "\n",
    "class Circle:\n",
    "    def __init__(self, radius: int):\n",
    "        self.radius: int = radius\n",
    "        self._area: float | None = None\n",
    "        \n",
    "    @property\n",
    "    def radius(self) -> int:\n",
    "        return self._radius\n",
    "    \n",
    "    @radius.setter\n",
    "    def radius(self, value: int) -> None:\n",
    "        if not isinstance(value, int) or value <= 0:\n",
    "            raise ValueError(\"Radius has to be a positive integer\")\n",
    "        self._radius = value\n",
    "        self._area = None\n",
    "        \n",
    "    @property\n",
    "    def area(self) -> float:\n",
    "        if not self._area:\n",
    "            print('calculating area...')\n",
    "            self._area = pi * (self.radius ** 2) \n",
    "        return self._area "
   ],
   "outputs": [],
   "execution_count": 40
  },
  {
   "metadata": {
    "ExecuteTime": {
     "end_time": "2024-06-12T11:47:18.453692Z",
     "start_time": "2024-06-12T11:47:18.451430Z"
    }
   },
   "cell_type": "code",
   "source": "c = Circle(1)",
   "id": "9a508901400fad66",
   "outputs": [],
   "execution_count": 43
  },
  {
   "metadata": {
    "ExecuteTime": {
     "end_time": "2024-06-12T15:07:46.539277Z",
     "start_time": "2024-06-12T15:07:46.532741Z"
    }
   },
   "cell_type": "code",
   "source": "c.__dict__",
   "id": "76141f55da2a2f5f",
   "outputs": [
    {
     "data": {
      "text/plain": [
       "{'_radius': 1, '_area': None}"
      ]
     },
     "execution_count": 50,
     "metadata": {},
     "output_type": "execute_result"
    }
   ],
   "execution_count": 50
  },
  {
   "metadata": {
    "ExecuteTime": {
     "end_time": "2024-06-12T15:16:12.945832Z",
     "start_time": "2024-06-12T15:16:12.942733Z"
    }
   },
   "cell_type": "code",
   "source": [
    "import urllib\n",
    "from time import perf_counter"
   ],
   "id": "18e8a460d3c0157d",
   "outputs": [],
   "execution_count": 53
  },
  {
   "metadata": {
    "ExecuteTime": {
     "end_time": "2024-06-12T15:32:19.267114Z",
     "start_time": "2024-06-12T15:32:19.259183Z"
    }
   },
   "cell_type": "code",
   "source": [
    "class WebPage:\n",
    "    def __init__(self, url):\n",
    "        self.url = url\n",
    "        self._page = None\n",
    "        self._load_time_secs = None\n",
    "        self._page_size = None\n",
    "        \n",
    "    @property\n",
    "    def url(self):\n",
    "        return self._url\n",
    "    \n",
    "    @url.setter\n",
    "    def url(self, value):\n",
    "        self._url = value\n",
    "        self._page = None\n",
    "        \n",
    "    @property\n",
    "    def page(self):\n",
    "        if self._page is None:\n",
    "            self.download_page()\n",
    "        return self._page\n",
    "    \n",
    "    @property\n",
    "    def page_size(self):\n",
    "        if self._page is None:\n",
    "            self.download_page()\n",
    "        return self._page_size\n",
    "    \n",
    "    @property\n",
    "    def time_elapsed(self):\n",
    "        if self._page is None:\n",
    "            self.download_page()\n",
    "        return self._load_time_secs\n",
    "    \n",
    "    def download_page(self):\n",
    "        self._page_size = None\n",
    "        self._load_time_secs = None\n",
    "        start_time = perf_counter()\n",
    "        with urllib.request.urlopen(self.url) as f:\n",
    "            self._page = f.read()\n",
    "        end_time = perf_counter()\n",
    "        self._page_size = len(self._page)\n",
    "        self._load_time_secs = end_time - start_time"
   ],
   "id": "e28110743bab15c5",
   "outputs": [],
   "execution_count": 58
  },
  {
   "metadata": {
    "ExecuteTime": {
     "end_time": "2024-06-12T15:32:19.615828Z",
     "start_time": "2024-06-12T15:32:19.611442Z"
    }
   },
   "cell_type": "code",
   "source": [
    "urls = [\n",
    "    'https://www.google.com',\n",
    "    'https://www.python.org',\n",
    "    'https://www.yahoo.com'\n",
    "]"
   ],
   "id": "52887912551733e9",
   "outputs": [],
   "execution_count": 59
  },
  {
   "metadata": {
    "ExecuteTime": {
     "end_time": "2024-06-12T15:33:24.515942Z",
     "start_time": "2024-06-12T15:33:23.484412Z"
    }
   },
   "cell_type": "code",
   "source": [
    "for url in urls:\n",
    "    page = WebPage(url)\n",
    "    print(f'{url}\\tsize={format(page.page_size, '_')}\\telapsed={page.time_elapsed:.2f} secs')"
   ],
   "id": "9eb499dabb7fb242",
   "outputs": [
    {
     "name": "stdout",
     "output_type": "stream",
     "text": [
      "https://www.google.com\tsize=20_406\telapsed=0.10 secs\n",
      "https://www.python.org\tsize=50_737\telapsed=0.10 secs\n",
      "https://www.yahoo.com\tsize=1_655_837\telapsed=0.82 secs\n"
     ]
    }
   ],
   "execution_count": 61
  },
  {
   "metadata": {
    "ExecuteTime": {
     "end_time": "2024-06-12T15:32:03.011702Z",
     "start_time": "2024-06-12T15:32:03.009019Z"
    }
   },
   "cell_type": "code",
   "source": "",
   "id": "808b5afa9b1c342c",
   "outputs": [],
   "execution_count": 56
  },
  {
   "metadata": {},
   "cell_type": "code",
   "outputs": [],
   "execution_count": null,
   "source": "",
   "id": "e4c62861a33d6b93"
  }
 ],
 "metadata": {
  "kernelspec": {
   "display_name": "Python 3",
   "language": "python",
   "name": "python3"
  },
  "language_info": {
   "codemirror_mode": {
    "name": "ipython",
    "version": 2
   },
   "file_extension": ".py",
   "mimetype": "text/x-python",
   "name": "python",
   "nbconvert_exporter": "python",
   "pygments_lexer": "ipython2",
   "version": "2.7.6"
  }
 },
 "nbformat": 4,
 "nbformat_minor": 5
}
