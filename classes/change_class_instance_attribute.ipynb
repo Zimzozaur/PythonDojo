{
 "cells": [
  {
   "cell_type": "code",
   "id": "initial_id",
   "metadata": {
    "collapsed": true,
    "ExecuteTime": {
     "end_time": "2024-06-13T07:44:05.848873Z",
     "start_time": "2024-06-13T07:44:05.845685Z"
    }
   },
   "source": [
    "class Circle:\n",
    "    origin = (0, 0)\n",
    "    \n",
    "    def __init__(self, r):\n",
    "        self._r = r\n",
    "        \n",
    "    @classmethod\n",
    "    def set_origin(cls, x, y):\n",
    "        cls.origin = (x, y)"
   ],
   "outputs": [],
   "execution_count": 1
  },
  {
   "metadata": {
    "ExecuteTime": {
     "end_time": "2024-06-13T07:44:30.429097Z",
     "start_time": "2024-06-13T07:44:30.419996Z"
    }
   },
   "cell_type": "code",
   "source": [
    "c1 = Circle(2)\n",
    "c2 = Circle(2)\n",
    "\n",
    "c1.origin, c2.origin"
   ],
   "id": "a5806f6c79d17fab",
   "outputs": [
    {
     "data": {
      "text/plain": [
       "((0, 0), (0, 0))"
      ]
     },
     "execution_count": 5,
     "metadata": {},
     "output_type": "execute_result"
    }
   ],
   "execution_count": 5
  },
  {
   "metadata": {
    "ExecuteTime": {
     "end_time": "2024-06-13T07:44:43.831980Z",
     "start_time": "2024-06-13T07:44:43.828626Z"
    }
   },
   "cell_type": "code",
   "source": "Circle.set_origin(1, 2)",
   "id": "24de6ab7572b97bd",
   "outputs": [],
   "execution_count": 6
  },
  {
   "metadata": {
    "ExecuteTime": {
     "end_time": "2024-06-13T07:44:49.571716Z",
     "start_time": "2024-06-13T07:44:49.566757Z"
    }
   },
   "cell_type": "code",
   "source": "c1.origin, c2.origin",
   "id": "401832a7a36dd5dd",
   "outputs": [
    {
     "data": {
      "text/plain": [
       "((1, 2), (1, 2))"
      ]
     },
     "execution_count": 7,
     "metadata": {},
     "output_type": "execute_result"
    }
   ],
   "execution_count": 7
  },
  {
   "metadata": {
    "ExecuteTime": {
     "end_time": "2024-06-13T07:45:02.575917Z",
     "start_time": "2024-06-13T07:45:02.572830Z"
    }
   },
   "cell_type": "code",
   "source": "c1.set_origin(2, 1)",
   "id": "f40ce5e542ba06b1",
   "outputs": [],
   "execution_count": 8
  },
  {
   "metadata": {
    "ExecuteTime": {
     "end_time": "2024-06-13T07:45:07.070842Z",
     "start_time": "2024-06-13T07:45:07.065759Z"
    }
   },
   "cell_type": "code",
   "source": "c1.origin, c2.origin",
   "id": "6da34bbfca3532fd",
   "outputs": [
    {
     "data": {
      "text/plain": [
       "((2, 1), (2, 1))"
      ]
     },
     "execution_count": 9,
     "metadata": {},
     "output_type": "execute_result"
    }
   ],
   "execution_count": 9
  },
  {
   "metadata": {},
   "cell_type": "code",
   "outputs": [],
   "execution_count": null,
   "source": "",
   "id": "9f1c724714d0d5d"
  }
 ],
 "metadata": {
  "kernelspec": {
   "display_name": "Python 3",
   "language": "python",
   "name": "python3"
  },
  "language_info": {
   "codemirror_mode": {
    "name": "ipython",
    "version": 2
   },
   "file_extension": ".py",
   "mimetype": "text/x-python",
   "name": "python",
   "nbconvert_exporter": "python",
   "pygments_lexer": "ipython2",
   "version": "2.7.6"
  }
 },
 "nbformat": 4,
 "nbformat_minor": 5
}
