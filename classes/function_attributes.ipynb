{
 "cells": [
  {
   "cell_type": "code",
   "id": "initial_id",
   "metadata": {
    "collapsed": true,
    "ExecuteTime": {
     "end_time": "2024-06-11T10:15:38.549132Z",
     "start_time": "2024-06-11T10:15:38.545461Z"
    }
   },
   "source": [
    "class Person:\n",
    "    def hello(self):\n",
    "        pass"
   ],
   "outputs": [],
   "execution_count": 28
  },
  {
   "metadata": {
    "ExecuteTime": {
     "end_time": "2024-06-11T10:15:38.567512Z",
     "start_time": "2024-06-11T10:15:38.564269Z"
    }
   },
   "cell_type": "code",
   "source": "p = Person()",
   "id": "525f14100c2a9f63",
   "outputs": [],
   "execution_count": 29
  },
  {
   "metadata": {
    "ExecuteTime": {
     "end_time": "2024-06-11T10:15:38.586865Z",
     "start_time": "2024-06-11T10:15:38.581407Z"
    }
   },
   "cell_type": "code",
   "source": "p.hello.__self__, p, p.hello.__self__ is p",
   "id": "fb94408705fff7a6",
   "outputs": [
    {
     "data": {
      "text/plain": [
       "(<__main__.Person at 0x7fe5bcf8a8a0>,\n",
       " <__main__.Person at 0x7fe5bcf8a8a0>,\n",
       " True)"
      ]
     },
     "execution_count": 30,
     "metadata": {},
     "output_type": "execute_result"
    }
   ],
   "execution_count": 30
  },
  {
   "metadata": {
    "ExecuteTime": {
     "end_time": "2024-06-11T10:15:38.592891Z",
     "start_time": "2024-06-11T10:15:38.588663Z"
    }
   },
   "cell_type": "code",
   "source": "p.hello.__func__",
   "id": "73a7d2237f8cfb72",
   "outputs": [
    {
     "data": {
      "text/plain": [
       "<function __main__.Person.hello(self)>"
      ]
     },
     "execution_count": 31,
     "metadata": {},
     "output_type": "execute_result"
    }
   ],
   "execution_count": 31
  },
  {
   "metadata": {
    "ExecuteTime": {
     "end_time": "2024-06-11T10:15:38.597900Z",
     "start_time": "2024-06-11T10:15:38.593793Z"
    }
   },
   "cell_type": "code",
   "source": "Person.hello(p) ",
   "id": "8b7fe6c69499f179",
   "outputs": [],
   "execution_count": 32
  },
  {
   "metadata": {
    "ExecuteTime": {
     "end_time": "2024-06-11T10:15:38.616382Z",
     "start_time": "2024-06-11T10:15:38.604548Z"
    }
   },
   "cell_type": "code",
   "source": "Person.hello()",
   "id": "7f57501b581469fd",
   "outputs": [
    {
     "ename": "TypeError",
     "evalue": "Person.hello() missing 1 required positional argument: 'self'",
     "output_type": "error",
     "traceback": [
      "\u001B[0;31m---------------------------------------------------------------------------\u001B[0m",
      "\u001B[0;31mTypeError\u001B[0m                                 Traceback (most recent call last)",
      "Cell \u001B[0;32mIn[33], line 1\u001B[0m\n\u001B[0;32m----> 1\u001B[0m \u001B[43mPerson\u001B[49m\u001B[38;5;241;43m.\u001B[39;49m\u001B[43mhello\u001B[49m\u001B[43m(\u001B[49m\u001B[43m)\u001B[49m\n",
      "\u001B[0;31mTypeError\u001B[0m: Person.hello() missing 1 required positional argument: 'self'"
     ]
    }
   ],
   "execution_count": 33
  },
  {
   "metadata": {
    "ExecuteTime": {
     "end_time": "2024-06-11T10:16:09.318692Z",
     "start_time": "2024-06-11T10:16:09.314007Z"
    }
   },
   "cell_type": "code",
   "source": [
    "class Person:\n",
    "    def say_hello():\n",
    "        print(\"Hello\")"
   ],
   "id": "82ce36f1e1df17aa",
   "outputs": [],
   "execution_count": 42
  },
  {
   "metadata": {
    "ExecuteTime": {
     "end_time": "2024-06-11T10:16:09.747128Z",
     "start_time": "2024-06-11T10:16:09.742076Z"
    }
   },
   "cell_type": "code",
   "source": "Person.say_hello",
   "id": "4bbf6d7fa573daa",
   "outputs": [
    {
     "data": {
      "text/plain": [
       "<function __main__.Person.say_hello()>"
      ]
     },
     "execution_count": 43,
     "metadata": {},
     "output_type": "execute_result"
    }
   ],
   "execution_count": 43
  },
  {
   "metadata": {
    "ExecuteTime": {
     "end_time": "2024-06-11T10:16:10.108429Z",
     "start_time": "2024-06-11T10:16:10.101776Z"
    }
   },
   "cell_type": "code",
   "source": "type(Person.say_hello)",
   "id": "8b129e83a639dbfd",
   "outputs": [
    {
     "data": {
      "text/plain": [
       "function"
      ]
     },
     "execution_count": 44,
     "metadata": {},
     "output_type": "execute_result"
    }
   ],
   "execution_count": 44
  },
  {
   "metadata": {
    "ExecuteTime": {
     "end_time": "2024-06-11T10:16:10.426081Z",
     "start_time": "2024-06-11T10:16:10.421938Z"
    }
   },
   "cell_type": "code",
   "source": "Person.say_hello()",
   "id": "fe198141bcb99d19",
   "outputs": [
    {
     "name": "stdout",
     "output_type": "stream",
     "text": [
      "Hello\n"
     ]
    }
   ],
   "execution_count": 45
  },
  {
   "metadata": {
    "ExecuteTime": {
     "end_time": "2024-06-11T10:16:10.740529Z",
     "start_time": "2024-06-11T10:16:10.736666Z"
    }
   },
   "cell_type": "code",
   "source": "p = Person()",
   "id": "23a5d046121ba01d",
   "outputs": [],
   "execution_count": 46
  },
  {
   "metadata": {
    "ExecuteTime": {
     "end_time": "2024-06-11T10:16:16.103737Z",
     "start_time": "2024-06-11T10:16:16.098721Z"
    }
   },
   "cell_type": "code",
   "source": "p.say_hello",
   "id": "1347a187c6d9e204",
   "outputs": [
    {
     "data": {
      "text/plain": [
       "<bound method Person.say_hello of <__main__.Person object at 0x7fe5bcf679b0>>"
      ]
     },
     "execution_count": 48,
     "metadata": {},
     "output_type": "execute_result"
    }
   ],
   "execution_count": 48
  },
  {
   "metadata": {
    "ExecuteTime": {
     "end_time": "2024-06-11T10:17:47.263791Z",
     "start_time": "2024-06-11T10:17:47.259286Z"
    }
   },
   "cell_type": "code",
   "source": "type(p.say_hello), type(Person.say_hello)",
   "id": "2dc4e9b934056b6c",
   "outputs": [
    {
     "data": {
      "text/plain": [
       "(method, function)"
      ]
     },
     "execution_count": 51,
     "metadata": {},
     "output_type": "execute_result"
    }
   ],
   "execution_count": 51
  },
  {
   "metadata": {
    "ExecuteTime": {
     "end_time": "2024-06-11T10:22:28.525836Z",
     "start_time": "2024-06-11T10:22:28.522485Z"
    }
   },
   "cell_type": "code",
   "source": [
    "class Person:\n",
    "    def say_hello(*args):\n",
    "        return 'say_hello args:', args"
   ],
   "id": "9979b4c9250191f4",
   "outputs": [],
   "execution_count": 58
  },
  {
   "metadata": {
    "ExecuteTime": {
     "end_time": "2024-06-11T10:22:28.977673Z",
     "start_time": "2024-06-11T10:22:28.971228Z"
    }
   },
   "cell_type": "code",
   "source": "Person.say_hello()",
   "id": "5cf68499fa4b9281",
   "outputs": [
    {
     "data": {
      "text/plain": [
       "('say_hello args:', ())"
      ]
     },
     "execution_count": 59,
     "metadata": {},
     "output_type": "execute_result"
    }
   ],
   "execution_count": 59
  },
  {
   "metadata": {
    "ExecuteTime": {
     "end_time": "2024-06-11T10:22:29.155176Z",
     "start_time": "2024-06-11T10:22:29.151430Z"
    }
   },
   "cell_type": "code",
   "source": "p = Person()",
   "id": "1b7b30ca9c36fe8c",
   "outputs": [],
   "execution_count": 60
  },
  {
   "metadata": {
    "ExecuteTime": {
     "end_time": "2024-06-11T10:22:29.443131Z",
     "start_time": "2024-06-11T10:22:29.437825Z"
    }
   },
   "cell_type": "code",
   "source": "p.say_hello(), hex(id(p))",
   "id": "45a95c2c85dea8be",
   "outputs": [
    {
     "data": {
      "text/plain": [
       "(('say_hello args:', (<__main__.Person at 0x7fe5bcf8a810>,)), '0x7fe5bcf8a810')"
      ]
     },
     "execution_count": 61,
     "metadata": {},
     "output_type": "execute_result"
    }
   ],
   "execution_count": 61
  },
  {
   "metadata": {
    "ExecuteTime": {
     "end_time": "2024-06-11T10:24:11.670022Z",
     "start_time": "2024-06-11T10:24:11.666226Z"
    }
   },
   "cell_type": "code",
   "source": [
    "class Person:\n",
    "    def set_name(instance_obj, new_name):\n",
    "        instance_obj.name = new_name"
   ],
   "id": "c265942b81f31ebe",
   "outputs": [],
   "execution_count": 62
  },
  {
   "metadata": {
    "ExecuteTime": {
     "end_time": "2024-06-11T10:24:24.057899Z",
     "start_time": "2024-06-11T10:24:24.054434Z"
    }
   },
   "cell_type": "code",
   "source": "p = Person()",
   "id": "ed453cd342311be1",
   "outputs": [],
   "execution_count": 63
  },
  {
   "metadata": {
    "ExecuteTime": {
     "end_time": "2024-06-11T10:24:57.289857Z",
     "start_time": "2024-06-11T10:24:57.286609Z"
    }
   },
   "cell_type": "code",
   "source": "p.set_name('Mario')",
   "id": "121eb0afd8095f01",
   "outputs": [],
   "execution_count": 64
  },
  {
   "metadata": {
    "ExecuteTime": {
     "end_time": "2024-06-11T10:25:10.484683Z",
     "start_time": "2024-06-11T10:25:10.478933Z"
    }
   },
   "cell_type": "code",
   "source": "p.name, p.__dict__",
   "id": "822b9cd678b9162",
   "outputs": [
    {
     "data": {
      "text/plain": [
       "('Mario', {'name': 'Mario'})"
      ]
     },
     "execution_count": 67,
     "metadata": {},
     "output_type": "execute_result"
    }
   ],
   "execution_count": 67
  },
  {
   "metadata": {
    "ExecuteTime": {
     "end_time": "2024-06-11T10:25:27.539760Z",
     "start_time": "2024-06-11T10:25:27.536671Z"
    }
   },
   "cell_type": "code",
   "source": "p = Person()",
   "id": "5dfe6c4719699354",
   "outputs": [],
   "execution_count": 68
  },
  {
   "metadata": {
    "ExecuteTime": {
     "end_time": "2024-06-11T10:25:41.700730Z",
     "start_time": "2024-06-11T10:25:41.697316Z"
    }
   },
   "cell_type": "code",
   "source": "Person.set_name(p, 'Luigi')",
   "id": "d555f34ec0d695bf",
   "outputs": [],
   "execution_count": 69
  },
  {
   "metadata": {
    "ExecuteTime": {
     "end_time": "2024-06-11T10:25:44.711489Z",
     "start_time": "2024-06-11T10:25:44.707163Z"
    }
   },
   "cell_type": "code",
   "source": "p.name",
   "id": "91c0381b6f46ce5a",
   "outputs": [
    {
     "data": {
      "text/plain": [
       "'Luigi'"
      ]
     },
     "execution_count": 70,
     "metadata": {},
     "output_type": "execute_result"
    }
   ],
   "execution_count": 70
  },
  {
   "metadata": {
    "ExecuteTime": {
     "end_time": "2024-06-11T10:28:26.711425Z",
     "start_time": "2024-06-11T10:28:26.708665Z"
    }
   },
   "cell_type": "code",
   "source": [
    "class Person:\n",
    "    def say_hello(self):\n",
    "        print(f'{self} says hello')"
   ],
   "id": "68ea8971aaba987a",
   "outputs": [],
   "execution_count": 71
  },
  {
   "metadata": {
    "ExecuteTime": {
     "end_time": "2024-06-11T10:29:38.026982Z",
     "start_time": "2024-06-11T10:29:38.023694Z"
    }
   },
   "cell_type": "code",
   "source": "p = Person()",
   "id": "91d4bad81101ab46",
   "outputs": [],
   "execution_count": 76
  },
  {
   "metadata": {
    "ExecuteTime": {
     "end_time": "2024-06-11T10:29:38.169656Z",
     "start_time": "2024-06-11T10:29:38.165783Z"
    }
   },
   "cell_type": "code",
   "source": "p.say_hello()",
   "id": "31cddecb5c0692d6",
   "outputs": [
    {
     "name": "stdout",
     "output_type": "stream",
     "text": [
      "<__main__.Person object at 0x7fe5bcf81010> says hello\n"
     ]
    }
   ],
   "execution_count": 77
  },
  {
   "metadata": {
    "ExecuteTime": {
     "end_time": "2024-06-11T10:32:10.037367Z",
     "start_time": "2024-06-11T10:32:10.033876Z"
    }
   },
   "cell_type": "code",
   "source": "p_say_hello = p.say_hello",
   "id": "99d659beddb2f0c0",
   "outputs": [],
   "execution_count": 85
  },
  {
   "metadata": {
    "ExecuteTime": {
     "end_time": "2024-06-11T10:32:19.779275Z",
     "start_time": "2024-06-11T10:32:19.774236Z"
    }
   },
   "cell_type": "code",
   "source": "p_say_hello.__func__",
   "id": "2cc07e326f74f305",
   "outputs": [
    {
     "data": {
      "text/plain": [
       "<function __main__.Person.say_hello(self)>"
      ]
     },
     "execution_count": 87,
     "metadata": {},
     "output_type": "execute_result"
    }
   ],
   "execution_count": 87
  },
  {
   "metadata": {
    "ExecuteTime": {
     "end_time": "2024-06-11T10:33:23.182656Z",
     "start_time": "2024-06-11T10:33:23.177380Z"
    }
   },
   "cell_type": "code",
   "source": "p_say_hello.__self__",
   "id": "83e430fbf5a10e15",
   "outputs": [
    {
     "data": {
      "text/plain": [
       "<__main__.Person at 0x7fe5bcf81010>"
      ]
     },
     "execution_count": 88,
     "metadata": {},
     "output_type": "execute_result"
    }
   ],
   "execution_count": 88
  },
  {
   "metadata": {
    "ExecuteTime": {
     "end_time": "2024-06-11T10:45:42.967634Z",
     "start_time": "2024-06-11T10:45:42.964017Z"
    }
   },
   "cell_type": "code",
   "source": [
    "class Person:\n",
    "    def say_hello(self):\n",
    "        return f'instance method called form {self}'"
   ],
   "id": "f9dceef25dff471d",
   "outputs": [],
   "execution_count": 89
  },
  {
   "metadata": {
    "ExecuteTime": {
     "end_time": "2024-06-11T10:45:50.063500Z",
     "start_time": "2024-06-11T10:45:50.058402Z"
    }
   },
   "cell_type": "code",
   "source": [
    "p = Person()\n",
    "hex(id(p))"
   ],
   "id": "9d02006a0a4e6958",
   "outputs": [
    {
     "data": {
      "text/plain": [
       "'0x7fe5bcfcfc50'"
      ]
     },
     "execution_count": 90,
     "metadata": {},
     "output_type": "execute_result"
    }
   ],
   "execution_count": 90
  },
  {
   "metadata": {
    "ExecuteTime": {
     "end_time": "2024-06-11T10:45:53.159413Z",
     "start_time": "2024-06-11T10:45:53.154933Z"
    }
   },
   "cell_type": "code",
   "source": "p.say_hello()",
   "id": "7e2e521a31923c81",
   "outputs": [
    {
     "data": {
      "text/plain": [
       "'instance method called form <__main__.Person object at 0x7fe5bcfcfc50>'"
      ]
     },
     "execution_count": 91,
     "metadata": {},
     "output_type": "execute_result"
    }
   ],
   "execution_count": 91
  },
  {
   "metadata": {
    "ExecuteTime": {
     "end_time": "2024-06-11T10:47:08.221185Z",
     "start_time": "2024-06-11T10:47:08.217759Z"
    }
   },
   "cell_type": "code",
   "source": "Person.do_work = lambda self: f'do_work called from {self}'",
   "id": "d607f7d703deec04",
   "outputs": [],
   "execution_count": 92
  },
  {
   "metadata": {
    "ExecuteTime": {
     "end_time": "2024-06-11T10:47:13.092960Z",
     "start_time": "2024-06-11T10:47:13.086456Z"
    }
   },
   "cell_type": "code",
   "source": "Person.__dict__",
   "id": "beb334ce0e77bab9",
   "outputs": [
    {
     "data": {
      "text/plain": [
       "mappingproxy({'__module__': '__main__',\n",
       "              'say_hello': <function __main__.Person.say_hello(self)>,\n",
       "              '__dict__': <attribute '__dict__' of 'Person' objects>,\n",
       "              '__weakref__': <attribute '__weakref__' of 'Person' objects>,\n",
       "              '__doc__': None,\n",
       "              'do_work': <function __main__.<lambda>(self)>})"
      ]
     },
     "execution_count": 93,
     "metadata": {},
     "output_type": "execute_result"
    }
   ],
   "execution_count": 93
  },
  {
   "metadata": {
    "ExecuteTime": {
     "end_time": "2024-06-11T10:47:41.830215Z",
     "start_time": "2024-06-11T10:47:41.825534Z"
    }
   },
   "cell_type": "code",
   "source": "p.say_hello",
   "id": "d4f61216c0f5602d",
   "outputs": [
    {
     "data": {
      "text/plain": [
       "<bound method Person.say_hello of <__main__.Person object at 0x7fe5bcfcfc50>>"
      ]
     },
     "execution_count": 95,
     "metadata": {},
     "output_type": "execute_result"
    }
   ],
   "execution_count": 95
  },
  {
   "metadata": {
    "ExecuteTime": {
     "end_time": "2024-06-11T10:48:00.799306Z",
     "start_time": "2024-06-11T10:48:00.794475Z"
    }
   },
   "cell_type": "code",
   "source": "p.do_work",
   "id": "b3677a70af827de0",
   "outputs": [
    {
     "data": {
      "text/plain": [
       "<bound method <lambda> of <__main__.Person object at 0x7fe5bcfcfc50>>"
      ]
     },
     "execution_count": 96,
     "metadata": {},
     "output_type": "execute_result"
    }
   ],
   "execution_count": 96
  },
  {
   "metadata": {
    "ExecuteTime": {
     "end_time": "2024-06-11T10:48:49.747653Z",
     "start_time": "2024-06-11T10:48:49.742367Z"
    }
   },
   "cell_type": "code",
   "source": "p.do_work()",
   "id": "faa8d535f9def25b",
   "outputs": [
    {
     "data": {
      "text/plain": [
       "'do_work called from <__main__.Person object at 0x7fe5bcfcfc50>'"
      ]
     },
     "execution_count": 97,
     "metadata": {},
     "output_type": "execute_result"
    }
   ],
   "execution_count": 97
  },
  {
   "metadata": {
    "ExecuteTime": {
     "end_time": "2024-06-11T10:49:52.689156Z",
     "start_time": "2024-06-11T10:49:52.685252Z"
    }
   },
   "cell_type": "code",
   "source": "p.other_func = lambda *args: f'other_func called with {args}'",
   "id": "ad39b8fc61ef4caa",
   "outputs": [],
   "execution_count": 98
  },
  {
   "metadata": {
    "ExecuteTime": {
     "end_time": "2024-06-11T10:50:07.485711Z",
     "start_time": "2024-06-11T10:50:07.480849Z"
    }
   },
   "cell_type": "code",
   "source": "p.other_func",
   "id": "6f51370e2f06f3a8",
   "outputs": [
    {
     "data": {
      "text/plain": [
       "<function __main__.<lambda>(*args)>"
      ]
     },
     "execution_count": 99,
     "metadata": {},
     "output_type": "execute_result"
    }
   ],
   "execution_count": 99
  },
  {
   "metadata": {
    "ExecuteTime": {
     "end_time": "2024-06-11T10:50:22.555340Z",
     "start_time": "2024-06-11T10:50:22.551543Z"
    }
   },
   "cell_type": "code",
   "source": "p.__dict__",
   "id": "60d69586cbe17b07",
   "outputs": [
    {
     "data": {
      "text/plain": [
       "{'other_func': <function __main__.<lambda>(*args)>}"
      ]
     },
     "execution_count": 100,
     "metadata": {},
     "output_type": "execute_result"
    }
   ],
   "execution_count": 100
  },
  {
   "metadata": {
    "ExecuteTime": {
     "end_time": "2024-06-11T10:50:29.630997Z",
     "start_time": "2024-06-11T10:50:29.625323Z"
    }
   },
   "cell_type": "code",
   "source": "Person.__dict__",
   "id": "a050304420f61710",
   "outputs": [
    {
     "data": {
      "text/plain": [
       "mappingproxy({'__module__': '__main__',\n",
       "              'say_hello': <function __main__.Person.say_hello(self)>,\n",
       "              '__dict__': <attribute '__dict__' of 'Person' objects>,\n",
       "              '__weakref__': <attribute '__weakref__' of 'Person' objects>,\n",
       "              '__doc__': None,\n",
       "              'do_work': <function __main__.<lambda>(self)>})"
      ]
     },
     "execution_count": 101,
     "metadata": {},
     "output_type": "execute_result"
    }
   ],
   "execution_count": 101
  },
  {
   "metadata": {
    "ExecuteTime": {
     "end_time": "2024-06-11T10:50:45.601301Z",
     "start_time": "2024-06-11T10:50:45.596421Z"
    }
   },
   "cell_type": "code",
   "source": "p.other_func()",
   "id": "8d99ace671884661",
   "outputs": [
    {
     "data": {
      "text/plain": [
       "'other_func called with ()'"
      ]
     },
     "execution_count": 102,
     "metadata": {},
     "output_type": "execute_result"
    }
   ],
   "execution_count": 102
  },
  {
   "metadata": {},
   "cell_type": "code",
   "outputs": [],
   "execution_count": null,
   "source": "",
   "id": "633b6b4e4618593e"
  }
 ],
 "metadata": {
  "kernelspec": {
   "display_name": "Python 3",
   "language": "python",
   "name": "python3"
  },
  "language_info": {
   "codemirror_mode": {
    "name": "ipython",
    "version": 2
   },
   "file_extension": ".py",
   "mimetype": "text/x-python",
   "name": "python",
   "nbconvert_exporter": "python",
   "pygments_lexer": "ipython2",
   "version": "2.7.6"
  }
 },
 "nbformat": 4,
 "nbformat_minor": 5
}
