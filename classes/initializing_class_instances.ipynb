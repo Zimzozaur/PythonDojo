{
 "cells": [
  {
   "metadata": {
    "ExecuteTime": {
     "end_time": "2024-06-11T15:48:47.237354Z",
     "start_time": "2024-06-11T15:48:47.234143Z"
    }
   },
   "cell_type": "code",
   "source": [
    "class Person:\n",
    "    pass"
   ],
   "id": "939d06f6c3b97324",
   "outputs": [],
   "execution_count": 155
  },
  {
   "metadata": {
    "ExecuteTime": {
     "end_time": "2024-06-11T15:48:47.263848Z",
     "start_time": "2024-06-11T15:48:47.259695Z"
    }
   },
   "cell_type": "code",
   "source": [
    "p1 = Person()\n",
    "p2 = Person()\n",
    "\n",
    "p1.name = 'Alex'"
   ],
   "id": "e2c10e8d62754f03",
   "outputs": [],
   "execution_count": 156
  },
  {
   "metadata": {
    "ExecuteTime": {
     "end_time": "2024-06-11T15:48:47.316966Z",
     "start_time": "2024-06-11T15:48:47.311750Z"
    }
   },
   "cell_type": "code",
   "source": "p1.__dict__, p2.__dict__",
   "id": "2cc163e6ff8c7a2e",
   "outputs": [
    {
     "data": {
      "text/plain": [
       "({'name': 'Alex'}, {})"
      ]
     },
     "execution_count": 157,
     "metadata": {},
     "output_type": "execute_result"
    }
   ],
   "execution_count": 157
  },
  {
   "metadata": {
    "ExecuteTime": {
     "end_time": "2024-06-11T15:48:47.322455Z",
     "start_time": "2024-06-11T15:48:47.318846Z"
    }
   },
   "cell_type": "code",
   "source": "p1.say_hello = lambda: 'Hello!'",
   "id": "9d2ad9b8c80c686c",
   "outputs": [],
   "execution_count": 158
  },
  {
   "metadata": {
    "ExecuteTime": {
     "end_time": "2024-06-11T15:48:47.333335Z",
     "start_time": "2024-06-11T15:48:47.328113Z"
    }
   },
   "cell_type": "code",
   "source": "p1.say_hello",
   "id": "dd91c2bde92d0a5b",
   "outputs": [
    {
     "data": {
      "text/plain": [
       "<function __main__.<lambda>()>"
      ]
     },
     "execution_count": 159,
     "metadata": {},
     "output_type": "execute_result"
    }
   ],
   "execution_count": 159
  },
  {
   "metadata": {
    "ExecuteTime": {
     "end_time": "2024-06-11T15:48:47.339651Z",
     "start_time": "2024-06-11T15:48:47.335217Z"
    }
   },
   "cell_type": "code",
   "source": "p1.__dict__",
   "id": "819d78004a3f9d68",
   "outputs": [
    {
     "data": {
      "text/plain": [
       "{'name': 'Alex', 'say_hello': <function __main__.<lambda>()>}"
      ]
     },
     "execution_count": 160,
     "metadata": {},
     "output_type": "execute_result"
    }
   ],
   "execution_count": 160
  },
  {
   "metadata": {
    "ExecuteTime": {
     "end_time": "2024-06-11T15:48:47.343765Z",
     "start_time": "2024-06-11T15:48:47.341288Z"
    }
   },
   "cell_type": "code",
   "source": "",
   "id": "cb755c9d11ad0143",
   "outputs": [],
   "execution_count": 160
  },
  {
   "metadata": {
    "ExecuteTime": {
     "end_time": "2024-06-11T15:48:47.368141Z",
     "start_time": "2024-06-11T15:48:47.362095Z"
    }
   },
   "cell_type": "code",
   "source": [
    "class Example: pass\n",
    "\n",
    "class WhatEver: \n",
    "    def what_ever(self): pass\n",
    "make_method = type(WhatEver().what_ever)\n",
    "\n",
    "def hello(): pass\n",
    "\n",
    "example = Example()\n",
    "example.hello = make_method(hello, p1)\n",
    "\n",
    "example.hello"
   ],
   "id": "c48e4ca2c1e4b8e0",
   "outputs": [
    {
     "data": {
      "text/plain": [
       "<bound method hello of <__main__.Person object at 0x7f06049f3620>>"
      ]
     },
     "execution_count": 161,
     "metadata": {},
     "output_type": "execute_result"
    }
   ],
   "execution_count": 161
  },
  {
   "metadata": {
    "ExecuteTime": {
     "end_time": "2024-06-11T15:48:47.382110Z",
     "start_time": "2024-06-11T15:48:47.370260Z"
    }
   },
   "cell_type": "code",
   "source": "help(make_method)",
   "id": "c511d752194972fb",
   "outputs": [
    {
     "name": "stdout",
     "output_type": "stream",
     "text": [
      "Help on class method in module builtins:\n",
      "\n",
      "class method(object)\n",
      " |  method(function, instance, /)\n",
      " |\n",
      " |  Create a bound instance method object.\n",
      " |\n",
      " |  Methods defined here:\n",
      " |\n",
      " |  __call__(self, /, *args, **kwargs)\n",
      " |      Call self as a function.\n",
      " |\n",
      " |  __delattr__(self, name, /)\n",
      " |      Implement delattr(self, name).\n",
      " |\n",
      " |  __eq__(self, value, /)\n",
      " |      Return self==value.\n",
      " |\n",
      " |  __ge__(self, value, /)\n",
      " |      Return self>=value.\n",
      " |\n",
      " |  __getattribute__(self, name, /)\n",
      " |      Return getattr(self, name).\n",
      " |\n",
      " |  __gt__(self, value, /)\n",
      " |      Return self>value.\n",
      " |\n",
      " |  __hash__(self, /)\n",
      " |      Return hash(self).\n",
      " |\n",
      " |  __le__(self, value, /)\n",
      " |      Return self<=value.\n",
      " |\n",
      " |  __lt__(self, value, /)\n",
      " |      Return self<value.\n",
      " |\n",
      " |  __ne__(self, value, /)\n",
      " |      Return self!=value.\n",
      " |\n",
      " |  __reduce__(self, /)\n",
      " |      Helper for pickle.\n",
      " |\n",
      " |  __repr__(self, /)\n",
      " |      Return repr(self).\n",
      " |\n",
      " |  __setattr__(self, name, value, /)\n",
      " |      Implement setattr(self, name, value).\n",
      " |\n",
      " |  ----------------------------------------------------------------------\n",
      " |  Static methods defined here:\n",
      " |\n",
      " |  __new__(*args, **kwargs)\n",
      " |      Create and return a new object.  See help(type) for accurate signature.\n",
      " |\n",
      " |  ----------------------------------------------------------------------\n",
      " |  Data descriptors defined here:\n",
      " |\n",
      " |  __func__\n",
      " |      the function (or other callable) implementing a method\n",
      " |\n",
      " |  __self__\n",
      " |      the instance to which a method is bound\n",
      "\n"
     ]
    }
   ],
   "execution_count": 162
  },
  {
   "metadata": {
    "ExecuteTime": {
     "end_time": "2024-06-11T15:48:47.391941Z",
     "start_time": "2024-06-11T15:48:47.384366Z"
    }
   },
   "cell_type": "code",
   "source": "help(make_method.__new__)",
   "id": "aa77aaee0e33481f",
   "outputs": [
    {
     "name": "stdout",
     "output_type": "stream",
     "text": [
      "Help on built-in function __new__:\n",
      "\n",
      "__new__(*args, **kwargs) class method of builtins.method\n",
      "    Create and return a new object.  See help(type) for accurate signature.\n",
      "\n"
     ]
    }
   ],
   "execution_count": 163
  },
  {
   "metadata": {
    "ExecuteTime": {
     "end_time": "2024-06-11T15:48:47.399857Z",
     "start_time": "2024-06-11T15:48:47.393567Z"
    }
   },
   "cell_type": "code",
   "source": [
    "from types import MethodType\n",
    "\n",
    "class Circle:\n",
    "    def round(self):\n",
    "        print('Hello Circle')\n",
    "        \n",
    "class Square:\n",
    "    def angular(self):\n",
    "        print('Hello Square')"
   ],
   "id": "37e608608e7bab39",
   "outputs": [],
   "execution_count": 164
  },
  {
   "metadata": {
    "ExecuteTime": {
     "end_time": "2024-06-11T15:48:47.412033Z",
     "start_time": "2024-06-11T15:48:47.408607Z"
    }
   },
   "cell_type": "code",
   "source": [
    "c, s = Circle(), Square()\n",
    "c.round, s.angular = s.angular, c.round"
   ],
   "id": "6c383b14c7b3313b",
   "outputs": [],
   "execution_count": 165
  },
  {
   "metadata": {
    "ExecuteTime": {
     "end_time": "2024-06-11T15:48:47.418532Z",
     "start_time": "2024-06-11T15:48:47.414067Z"
    }
   },
   "cell_type": "code",
   "source": "c.round()",
   "id": "140ee2dc899e8516",
   "outputs": [
    {
     "name": "stdout",
     "output_type": "stream",
     "text": [
      "Hello Square\n"
     ]
    }
   ],
   "execution_count": 166
  },
  {
   "metadata": {
    "ExecuteTime": {
     "end_time": "2024-06-11T15:48:51.423604Z",
     "start_time": "2024-06-11T15:48:51.390653Z"
    }
   },
   "cell_type": "code",
   "source": "s.angular()",
   "id": "b5433ff788b321be",
   "outputs": [
    {
     "ename": "TypeError",
     "evalue": "triangular() missing 1 required positional argument: 'self'",
     "output_type": "error",
     "traceback": [
      "\u001B[0;31m---------------------------------------------------------------------------\u001B[0m",
      "\u001B[0;31mTypeError\u001B[0m                                 Traceback (most recent call last)",
      "Cell \u001B[0;32mIn[173], line 1\u001B[0m\n\u001B[0;32m----> 1\u001B[0m \u001B[43ms\u001B[49m\u001B[38;5;241;43m.\u001B[39;49m\u001B[43mangular\u001B[49m\u001B[43m(\u001B[49m\u001B[43m)\u001B[49m\n",
      "Cell \u001B[0;32mIn[170], line 2\u001B[0m, in \u001B[0;36mhexagonal\u001B[0;34m(self)\u001B[0m\n\u001B[1;32m      1\u001B[0m \u001B[38;5;28;01mdef\u001B[39;00m \u001B[38;5;21mhexagonal\u001B[39m(\u001B[38;5;28mself\u001B[39m):\n\u001B[0;32m----> 2\u001B[0m     \u001B[38;5;28;43mself\u001B[39;49m\u001B[38;5;241;43m.\u001B[39;49m\u001B[43mround\u001B[49m\u001B[43m(\u001B[49m\u001B[43m)\u001B[49m\n",
      "\u001B[0;31mTypeError\u001B[0m: triangular() missing 1 required positional argument: 'self'"
     ]
    }
   ],
   "execution_count": 173
  },
  {
   "metadata": {
    "ExecuteTime": {
     "end_time": "2024-06-11T15:48:51.864746Z",
     "start_time": "2024-06-11T15:48:51.861592Z"
    }
   },
   "cell_type": "code",
   "source": [
    "def triangular(self):\n",
    "    print('Hello Triangle')"
   ],
   "id": "a2ba037363a40d70",
   "outputs": [],
   "execution_count": 174
  },
  {
   "metadata": {
    "ExecuteTime": {
     "end_time": "2024-06-11T15:48:52.412944Z",
     "start_time": "2024-06-11T15:48:52.387130Z"
    }
   },
   "cell_type": "code",
   "source": [
    "c.round = triangular\n",
    "c.round()"
   ],
   "id": "3965937beb6a2dce",
   "outputs": [
    {
     "ename": "TypeError",
     "evalue": "triangular() missing 1 required positional argument: 'self'",
     "output_type": "error",
     "traceback": [
      "\u001B[0;31m---------------------------------------------------------------------------\u001B[0m",
      "\u001B[0;31mTypeError\u001B[0m                                 Traceback (most recent call last)",
      "Cell \u001B[0;32mIn[175], line 2\u001B[0m\n\u001B[1;32m      1\u001B[0m c\u001B[38;5;241m.\u001B[39mround \u001B[38;5;241m=\u001B[39m triangular\n\u001B[0;32m----> 2\u001B[0m \u001B[43mc\u001B[49m\u001B[38;5;241;43m.\u001B[39;49m\u001B[43mround\u001B[49m\u001B[43m(\u001B[49m\u001B[43m)\u001B[49m\n",
      "\u001B[0;31mTypeError\u001B[0m: triangular() missing 1 required positional argument: 'self'"
     ]
    }
   ],
   "execution_count": 175
  },
  {
   "metadata": {
    "ExecuteTime": {
     "end_time": "2024-06-11T15:48:52.948522Z",
     "start_time": "2024-06-11T15:48:52.944777Z"
    }
   },
   "cell_type": "code",
   "source": [
    "c.round = MethodType(triangular, c)\n",
    "c.round()"
   ],
   "id": "f471d845fe310808",
   "outputs": [
    {
     "name": "stdout",
     "output_type": "stream",
     "text": [
      "Hello Triangle\n"
     ]
    }
   ],
   "execution_count": 176
  },
  {
   "metadata": {
    "ExecuteTime": {
     "end_time": "2024-06-11T15:48:53.388992Z",
     "start_time": "2024-06-11T15:48:53.385096Z"
    }
   },
   "cell_type": "code",
   "source": [
    "def hexagonal(self):\n",
    "    self.round()"
   ],
   "id": "f73722134618a334",
   "outputs": [],
   "execution_count": 177
  },
  {
   "metadata": {
    "ExecuteTime": {
     "end_time": "2024-06-11T15:48:54.174916Z",
     "start_time": "2024-06-11T15:48:54.171501Z"
    }
   },
   "cell_type": "code",
   "source": "s.angular = MethodType(hexagonal, c)",
   "id": "d1507add2a0645bb",
   "outputs": [],
   "execution_count": 178
  },
  {
   "metadata": {
    "ExecuteTime": {
     "end_time": "2024-06-11T15:48:54.548425Z",
     "start_time": "2024-06-11T15:48:54.545182Z"
    }
   },
   "cell_type": "code",
   "source": "s.angular()",
   "id": "826478bef3ad531c",
   "outputs": [
    {
     "name": "stdout",
     "output_type": "stream",
     "text": [
      "Hello Triangle\n"
     ]
    }
   ],
   "execution_count": 179
  },
  {
   "metadata": {
    "ExecuteTime": {
     "end_time": "2024-06-11T15:55:34.945950Z",
     "start_time": "2024-06-11T15:55:34.942430Z"
    }
   },
   "cell_type": "code",
   "source": [
    "from types import MethodType\n",
    "\n",
    "class Person:\n",
    "    def __init__(self, name):\n",
    "        self.name = name\n",
    "        \n",
    "    def register_do_work(self, func):\n",
    "        setattr(self, '_do_work', MethodType(func, self))\n",
    "    \n",
    "    def do_work(self):\n",
    "        do_work_method = getattr(self, '_do_work', None)\n",
    "        \n",
    "        if do_work_method:\n",
    "            return do_work_method()\n",
    "    \n",
    "        raise AttributeError('You must first register do_work method.')"
   ],
   "id": "88cfa4e49dca522a",
   "outputs": [],
   "execution_count": 183
  },
  {
   "metadata": {
    "ExecuteTime": {
     "end_time": "2024-06-11T15:55:56.463483Z",
     "start_time": "2024-06-11T15:55:56.459977Z"
    }
   },
   "cell_type": "code",
   "source": [
    "math_teacher = Person('Eric')\n",
    "english_teacher = Person('John')"
   ],
   "id": "c6a8d61addd0cb8e",
   "outputs": [],
   "execution_count": 185
  },
  {
   "metadata": {
    "ExecuteTime": {
     "end_time": "2024-06-11T15:56:24.015979Z",
     "start_time": "2024-06-11T15:56:23.975779Z"
    }
   },
   "cell_type": "code",
   "source": "math_teacher.do_work()",
   "id": "ca70f56d956d2b1f",
   "outputs": [
    {
     "ename": "AttributeError",
     "evalue": "You must first register do_work method.",
     "output_type": "error",
     "traceback": [
      "\u001B[0;31m---------------------------------------------------------------------------\u001B[0m",
      "\u001B[0;31mAttributeError\u001B[0m                            Traceback (most recent call last)",
      "Cell \u001B[0;32mIn[186], line 1\u001B[0m\n\u001B[0;32m----> 1\u001B[0m \u001B[43mmath_teacher\u001B[49m\u001B[38;5;241;43m.\u001B[39;49m\u001B[43mdo_work\u001B[49m\u001B[43m(\u001B[49m\u001B[43m)\u001B[49m\n",
      "Cell \u001B[0;32mIn[183], line 16\u001B[0m, in \u001B[0;36mPerson.do_work\u001B[0;34m(self)\u001B[0m\n\u001B[1;32m     14\u001B[0m     \u001B[38;5;28;01mreturn\u001B[39;00m do_work_method()\n\u001B[1;32m     15\u001B[0m \u001B[38;5;28;01melse\u001B[39;00m:\n\u001B[0;32m---> 16\u001B[0m     \u001B[38;5;28;01mraise\u001B[39;00m \u001B[38;5;167;01mAttributeError\u001B[39;00m(\u001B[38;5;124m'\u001B[39m\u001B[38;5;124mYou must first register do_work method.\u001B[39m\u001B[38;5;124m'\u001B[39m)\n",
      "\u001B[0;31mAttributeError\u001B[0m: You must first register do_work method."
     ]
    }
   ],
   "execution_count": 186
  },
  {
   "metadata": {
    "ExecuteTime": {
     "end_time": "2024-06-11T15:57:35.636398Z",
     "start_time": "2024-06-11T15:57:35.632742Z"
    }
   },
   "cell_type": "code",
   "source": [
    "def work_math(self):\n",
    "    return f'{self.name} will teach differentials today.'"
   ],
   "id": "6ee339e5f9008a8a",
   "outputs": [],
   "execution_count": 187
  },
  {
   "metadata": {
    "ExecuteTime": {
     "end_time": "2024-06-11T15:58:05.756655Z",
     "start_time": "2024-06-11T15:58:05.753465Z"
    }
   },
   "cell_type": "code",
   "source": "math_teacher.register_do_work(work_math)",
   "id": "bfdac01bbdb5db89",
   "outputs": [],
   "execution_count": 188
  },
  {
   "metadata": {
    "ExecuteTime": {
     "end_time": "2024-06-11T15:59:35.599483Z",
     "start_time": "2024-06-11T15:59:35.593967Z"
    }
   },
   "cell_type": "code",
   "source": "math_teacher.do_work()",
   "id": "d13d6de8288c36c0",
   "outputs": [
    {
     "data": {
      "text/plain": [
       "'Eric will teach differentials today.'"
      ]
     },
     "execution_count": 191,
     "metadata": {},
     "output_type": "execute_result"
    }
   ],
   "execution_count": 191
  },
  {
   "metadata": {
    "ExecuteTime": {
     "end_time": "2024-06-11T15:59:36.442997Z",
     "start_time": "2024-06-11T15:59:36.437322Z"
    }
   },
   "cell_type": "code",
   "source": "math_teacher.__dict__",
   "id": "ca4365663ec5aaed",
   "outputs": [
    {
     "data": {
      "text/plain": [
       "{'name': 'Eric',\n",
       " '_do_work': <bound method work_math of <__main__.Person object at 0x7f06053c3ef0>>}"
      ]
     },
     "execution_count": 192,
     "metadata": {},
     "output_type": "execute_result"
    }
   ],
   "execution_count": 192
  },
  {
   "metadata": {
    "ExecuteTime": {
     "end_time": "2024-06-11T16:00:36.010559Z",
     "start_time": "2024-06-11T16:00:36.007230Z"
    }
   },
   "cell_type": "code",
   "source": [
    "def work_english(self):\n",
    "    return f'{self.name} will analyze Hamlet today'"
   ],
   "id": "46dd8f91eea97444",
   "outputs": [],
   "execution_count": 193
  },
  {
   "metadata": {
    "ExecuteTime": {
     "end_time": "2024-06-11T16:00:44.608682Z",
     "start_time": "2024-06-11T16:00:44.605121Z"
    }
   },
   "cell_type": "code",
   "source": "english_teacher.register_do_work(work_english)",
   "id": "cbe3228c4204a372",
   "outputs": [],
   "execution_count": 194
  },
  {
   "metadata": {
    "ExecuteTime": {
     "end_time": "2024-06-11T16:00:47.129558Z",
     "start_time": "2024-06-11T16:00:47.124757Z"
    }
   },
   "cell_type": "code",
   "source": "english_teacher.do_work()",
   "id": "b5c9ce9153025e7c",
   "outputs": [
    {
     "data": {
      "text/plain": [
       "'John will analyze Hamlet today'"
      ]
     },
     "execution_count": 195,
     "metadata": {},
     "output_type": "execute_result"
    }
   ],
   "execution_count": 195
  },
  {
   "metadata": {
    "ExecuteTime": {
     "end_time": "2024-06-11T16:02:10.167239Z",
     "start_time": "2024-06-11T16:02:10.164033Z"
    }
   },
   "cell_type": "code",
   "source": "persons = [math_teacher, english_teacher]",
   "id": "c9271fa61f63a772",
   "outputs": [],
   "execution_count": 196
  },
  {
   "metadata": {
    "ExecuteTime": {
     "end_time": "2024-06-11T16:02:50.415540Z",
     "start_time": "2024-06-11T16:02:50.411756Z"
    }
   },
   "cell_type": "code",
   "source": [
    "for person in persons:\n",
    "    print(person.do_work())"
   ],
   "id": "c763221536f40d59",
   "outputs": [
    {
     "name": "stdout",
     "output_type": "stream",
     "text": [
      "Eric will teach differentials today.\n",
      "John will analyze Hamlet today\n"
     ]
    }
   ],
   "execution_count": 198
  },
  {
   "metadata": {},
   "cell_type": "code",
   "outputs": [],
   "execution_count": null,
   "source": "",
   "id": "bb7bacbe5947909d"
  }
 ],
 "metadata": {
  "kernelspec": {
   "display_name": "Python 3",
   "language": "python",
   "name": "python3"
  },
  "language_info": {
   "codemirror_mode": {
    "name": "ipython",
    "version": 2
   },
   "file_extension": ".py",
   "mimetype": "text/x-python",
   "name": "python",
   "nbconvert_exporter": "python",
   "pygments_lexer": "ipython2",
   "version": "2.7.6"
  }
 },
 "nbformat": 4,
 "nbformat_minor": 5
}
