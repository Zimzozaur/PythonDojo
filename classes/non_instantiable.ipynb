{
 "cells": [
  {
   "cell_type": "code",
   "id": "initial_id",
   "metadata": {
    "collapsed": true,
    "ExecuteTime": {
     "end_time": "2024-06-13T07:14:04.842388Z",
     "start_time": "2024-06-13T07:14:04.837791Z"
    }
   },
   "source": [
    "class NotInstantiableError(Exception):\n",
    "    \"\"\"\"\"\"\n",
    "\n",
    "class LangaugeVersion:\n",
    "    MAJOR = 3\n",
    "    MINOR = 7\n",
    "    REVISION = 4\n",
    "    \n",
    "    def __new__(cls, *args, **kwargs):\n",
    "        raise NotInstantiableError('You cannot instantiate this class') \n",
    "    \n",
    "    @classmethod\n",
    "    def cls_version(cls):\n",
    "         print(f'{cls.MAJOR}.{cls.MINOR}.{cls.REVISION}')"
   ],
   "outputs": [],
   "execution_count": 8
  },
  {
   "metadata": {
    "ExecuteTime": {
     "end_time": "2024-06-13T07:14:09.052954Z",
     "start_time": "2024-06-13T07:14:09.048814Z"
    }
   },
   "cell_type": "code",
   "source": "LangaugeVersion.cls_version()",
   "id": "f00c069a90f3e83c",
   "outputs": [
    {
     "name": "stdout",
     "output_type": "stream",
     "text": [
      "3.7.4\n"
     ]
    }
   ],
   "execution_count": 11
  },
  {
   "metadata": {
    "ExecuteTime": {
     "end_time": "2024-06-13T07:14:25.338203Z",
     "start_time": "2024-06-13T07:14:25.305389Z"
    }
   },
   "cell_type": "code",
   "source": "LangaugeVersion().cls_version()",
   "id": "fa5a3f72828c5119",
   "outputs": [
    {
     "ename": "NotInstantiableError",
     "evalue": "You cannot instantiate this class",
     "output_type": "error",
     "traceback": [
      "\u001B[0;31m---------------------------------------------------------------------------\u001B[0m",
      "\u001B[0;31mNotInstantiableError\u001B[0m                      Traceback (most recent call last)",
      "Cell \u001B[0;32mIn[12], line 1\u001B[0m\n\u001B[0;32m----> 1\u001B[0m \u001B[43mLangaugeVersion\u001B[49m\u001B[43m(\u001B[49m\u001B[43m)\u001B[49m\u001B[38;5;241m.\u001B[39mcls_version()\n",
      "Cell \u001B[0;32mIn[8], line 10\u001B[0m, in \u001B[0;36mLangaugeVersion.__new__\u001B[0;34m(cls, *args, **kwargs)\u001B[0m\n\u001B[1;32m      9\u001B[0m \u001B[38;5;28;01mdef\u001B[39;00m \u001B[38;5;21m__new__\u001B[39m(\u001B[38;5;28mcls\u001B[39m, \u001B[38;5;241m*\u001B[39margs, \u001B[38;5;241m*\u001B[39m\u001B[38;5;241m*\u001B[39mkwargs):\n\u001B[0;32m---> 10\u001B[0m     \u001B[38;5;28;01mraise\u001B[39;00m NotInstantiableError(\u001B[38;5;124m'\u001B[39m\u001B[38;5;124mYou cannot instantiate this class\u001B[39m\u001B[38;5;124m'\u001B[39m)\n",
      "\u001B[0;31mNotInstantiableError\u001B[0m: You cannot instantiate this class"
     ]
    }
   ],
   "execution_count": 12
  },
  {
   "metadata": {},
   "cell_type": "code",
   "outputs": [],
   "execution_count": null,
   "source": "",
   "id": "5347ab42b7873a38"
  }
 ],
 "metadata": {
  "kernelspec": {
   "display_name": "Python 3",
   "language": "python",
   "name": "python3"
  },
  "language_info": {
   "codemirror_mode": {
    "name": "ipython",
    "version": 2
   },
   "file_extension": ".py",
   "mimetype": "text/x-python",
   "name": "python",
   "nbconvert_exporter": "python",
   "pygments_lexer": "ipython2",
   "version": "2.7.6"
  }
 },
 "nbformat": 4,
 "nbformat_minor": 5
}
