{
 "cells": [
  {
   "cell_type": "code",
   "id": "initial_id",
   "metadata": {
    "collapsed": true,
    "ExecuteTime": {
     "end_time": "2024-06-07T10:11:45.859918Z",
     "start_time": "2024-06-07T10:11:45.856347Z"
    }
   },
   "source": "from math import trunc",
   "outputs": [],
   "execution_count": 1
  },
  {
   "metadata": {
    "ExecuteTime": {
     "end_time": "2024-06-07T10:14:48.372639Z",
     "start_time": "2024-06-07T10:14:48.366365Z"
    }
   },
   "cell_type": "code",
   "source": "trunc(10.3), trunc(10.5), trunc(10.9) ",
   "id": "2d866a5dd4b21eaf",
   "outputs": [
    {
     "data": {
      "text/plain": [
       "(int, 10, 10)"
      ]
     },
     "execution_count": 4,
     "metadata": {},
     "output_type": "execute_result"
    }
   ],
   "execution_count": 4
  },
  {
   "metadata": {
    "ExecuteTime": {
     "end_time": "2024-06-07T10:15:36.964181Z",
     "start_time": "2024-06-07T10:15:36.959132Z"
    }
   },
   "cell_type": "code",
   "source": "int(10.4), int(10.5), int(10.6)",
   "id": "c9980d1b6a9f457f",
   "outputs": [
    {
     "data": {
      "text/plain": [
       "(10, 10, 10)"
      ]
     },
     "execution_count": 5,
     "metadata": {},
     "output_type": "execute_result"
    }
   ],
   "execution_count": 5
  },
  {
   "metadata": {
    "ExecuteTime": {
     "end_time": "2024-06-07T10:15:43.525626Z",
     "start_time": "2024-06-07T10:15:43.521639Z"
    }
   },
   "cell_type": "code",
   "source": "from math import floor",
   "id": "8831551109e6cb43",
   "outputs": [],
   "execution_count": 6
  },
  {
   "metadata": {
    "ExecuteTime": {
     "end_time": "2024-06-07T10:16:45.565883Z",
     "start_time": "2024-06-07T10:16:45.560895Z"
    }
   },
   "cell_type": "code",
   "source": "floor(10.3), floor(10.5), floor(10.7)",
   "id": "481a4ec5fef99342",
   "outputs": [
    {
     "data": {
      "text/plain": [
       "(10, 10, 10)"
      ]
     },
     "execution_count": 7,
     "metadata": {},
     "output_type": "execute_result"
    }
   ],
   "execution_count": 7
  },
  {
   "metadata": {
    "ExecuteTime": {
     "end_time": "2024-06-07T10:16:56.984015Z",
     "start_time": "2024-06-07T10:16:56.977218Z"
    }
   },
   "cell_type": "code",
   "source": "floor(-10.3), floor(-10.5), floor(-10.7)",
   "id": "6c7b09c98f0da30b",
   "outputs": [
    {
     "data": {
      "text/plain": [
       "(-11, -11, -11)"
      ]
     },
     "execution_count": 8,
     "metadata": {},
     "output_type": "execute_result"
    }
   ],
   "execution_count": 8
  },
  {
   "metadata": {
    "ExecuteTime": {
     "end_time": "2024-06-07T10:17:58.383443Z",
     "start_time": "2024-06-07T10:17:58.380179Z"
    }
   },
   "cell_type": "code",
   "source": "from math import ceil",
   "id": "1c75bd632e5f27ee",
   "outputs": [],
   "execution_count": 9
  },
  {
   "metadata": {
    "ExecuteTime": {
     "end_time": "2024-06-07T10:18:26.707835Z",
     "start_time": "2024-06-07T10:18:26.703220Z"
    }
   },
   "cell_type": "code",
   "source": "ceil(10.3), ceil(10.5), ceil(10.7)",
   "id": "874378d5130e697",
   "outputs": [
    {
     "data": {
      "text/plain": [
       "(11, 11, 11)"
      ]
     },
     "execution_count": 10,
     "metadata": {},
     "output_type": "execute_result"
    }
   ],
   "execution_count": 10
  },
  {
   "metadata": {
    "ExecuteTime": {
     "end_time": "2024-06-07T10:24:03.950598Z",
     "start_time": "2024-06-07T10:24:03.945725Z"
    }
   },
   "cell_type": "code",
   "source": "ceil(-10.3), ceil(-10.5), ceil(-10.7)",
   "id": "d4fa1c1cd8d04bc0",
   "outputs": [
    {
     "data": {
      "text/plain": [
       "(-10, -10, -10)"
      ]
     },
     "execution_count": 36,
     "metadata": {},
     "output_type": "execute_result"
    }
   ],
   "execution_count": 36
  },
  {
   "metadata": {
    "ExecuteTime": {
     "end_time": "2024-06-07T10:24:21.724188Z",
     "start_time": "2024-06-07T10:24:21.720814Z"
    }
   },
   "cell_type": "code",
   "source": "from decimal import Decimal",
   "id": "4b7a9751544d6a1b",
   "outputs": [],
   "execution_count": 38
  },
  {
   "metadata": {
    "ExecuteTime": {
     "end_time": "2024-06-07T10:34:48.778390Z",
     "start_time": "2024-06-07T10:34:48.773204Z"
    }
   },
   "cell_type": "code",
   "source": [
    "x = 1.35\n",
    "y = 1\n",
    "round(x, y), type(round(x, y))"
   ],
   "id": "e1511226fdc37f66",
   "outputs": [
    {
     "data": {
      "text/plain": [
       "(1.4, float)"
      ]
     },
     "execution_count": 66,
     "metadata": {},
     "output_type": "execute_result"
    }
   ],
   "execution_count": 66
  },
  {
   "metadata": {},
   "cell_type": "markdown",
   "source": "# Banker's Rounding",
   "id": "78da178973a7aa0a"
  },
  {
   "metadata": {
    "ExecuteTime": {
     "end_time": "2024-06-07T13:36:43.382081Z",
     "start_time": "2024-06-07T13:36:43.378975Z"
    }
   },
   "cell_type": "code",
   "source": "x, y, z = 0.5, 1.5, 2.5",
   "id": "3600fea2243feb9",
   "outputs": [],
   "execution_count": 158
  },
  {
   "metadata": {
    "ExecuteTime": {
     "end_time": "2024-06-07T13:36:43.581865Z",
     "start_time": "2024-06-07T13:36:43.576630Z"
    }
   },
   "cell_type": "code",
   "source": [
    "base_average = sum([x, y, z]) / 3\n",
    "base_average"
   ],
   "id": "c5552fa53a98f328",
   "outputs": [
    {
     "data": {
      "text/plain": [
       "1.5"
      ]
     },
     "execution_count": 159,
     "metadata": {},
     "output_type": "execute_result"
    }
   ],
   "execution_count": 159
  },
  {
   "metadata": {
    "ExecuteTime": {
     "end_time": "2024-06-07T13:36:43.820177Z",
     "start_time": "2024-06-07T13:36:43.814865Z"
    }
   },
   "cell_type": "code",
   "source": [
    "bankers = (round(x) + round(y) + round(z)) / 3\n",
    "bankers"
   ],
   "id": "9bf8dc36a600e77",
   "outputs": [
    {
     "data": {
      "text/plain": [
       "1.3333333333333333"
      ]
     },
     "execution_count": 160,
     "metadata": {},
     "output_type": "execute_result"
    }
   ],
   "execution_count": 160
  },
  {
   "metadata": {
    "ExecuteTime": {
     "end_time": "2024-06-07T13:36:44.099355Z",
     "start_time": "2024-06-07T13:36:44.092720Z"
    }
   },
   "cell_type": "code",
   "source": [
    "standard = (1 + 2 + 3) / 3\n",
    "standard"
   ],
   "id": "e369eea380633a17",
   "outputs": [
    {
     "data": {
      "text/plain": [
       "2.0"
      ]
     },
     "execution_count": 161,
     "metadata": {},
     "output_type": "execute_result"
    }
   ],
   "execution_count": 161
  },
  {
   "metadata": {
    "ExecuteTime": {
     "end_time": "2024-06-07T13:36:44.678762Z",
     "start_time": "2024-06-07T13:36:44.674109Z"
    }
   },
   "cell_type": "code",
   "source": "abs(base_average - bankers), abs(base_average - standard)",
   "id": "178c5b2c56423834",
   "outputs": [
    {
     "data": {
      "text/plain": [
       "(0.16666666666666674, 0.5)"
      ]
     },
     "execution_count": 162,
     "metadata": {},
     "output_type": "execute_result"
    }
   ],
   "execution_count": 162
  },
  {
   "metadata": {},
   "cell_type": "markdown",
   "source": "# Rounding away from zero",
   "id": "81cdcd9d854b127a"
  },
  {
   "metadata": {
    "ExecuteTime": {
     "end_time": "2024-06-07T11:00:38.638489Z",
     "start_time": "2024-06-07T11:00:38.634618Z"
    }
   },
   "cell_type": "code",
   "source": [
    "def round_away_from_zero_int(num):\n",
    "    return int(num + 0.5) if num > 0 else int(num - 0.5)"
   ],
   "id": "1cf9d42108927dbc",
   "outputs": [],
   "execution_count": 96
  },
  {
   "metadata": {
    "ExecuteTime": {
     "end_time": "2024-06-07T11:00:38.952519Z",
     "start_time": "2024-06-07T11:00:38.947556Z"
    }
   },
   "cell_type": "code",
   "source": "round_away_from_zero_int(-10.6), round_away_from_zero_int(10.6)",
   "id": "99d4abbb9dbb637f",
   "outputs": [
    {
     "data": {
      "text/plain": [
       "(-11, 11)"
      ]
     },
     "execution_count": 97,
     "metadata": {},
     "output_type": "execute_result"
    }
   ],
   "execution_count": 97
  },
  {
   "metadata": {},
   "cell_type": "markdown",
   "source": "# Rounding towards + infinity",
   "id": "b29da4ef867adedf"
  },
  {
   "metadata": {
    "ExecuteTime": {
     "end_time": "2024-06-07T11:00:44.789256Z",
     "start_time": "2024-06-07T11:00:44.785410Z"
    }
   },
   "cell_type": "code",
   "source": [
    "def round_towards_plus_infinity_int(num):\n",
    "    return int(num + 0.5)"
   ],
   "id": "de91cbd9aa0ad98d",
   "outputs": [],
   "execution_count": 98
  },
  {
   "metadata": {
    "ExecuteTime": {
     "end_time": "2024-06-07T11:00:47.801607Z",
     "start_time": "2024-06-07T11:00:47.796044Z"
    }
   },
   "cell_type": "code",
   "source": "round_towards_plus_infinity_int(-10.6), round_towards_plus_infinity_int(10.6)",
   "id": "5416dfe7c6c821bc",
   "outputs": [
    {
     "data": {
      "text/plain": [
       "(-10, 11)"
      ]
     },
     "execution_count": 99,
     "metadata": {},
     "output_type": "execute_result"
    }
   ],
   "execution_count": 99
  },
  {
   "metadata": {},
   "cell_type": "markdown",
   "source": "# Rounding towards - infinity",
   "id": "f9fa7551de67ab27"
  },
  {
   "metadata": {
    "ExecuteTime": {
     "end_time": "2024-06-07T11:00:52.637066Z",
     "start_time": "2024-06-07T11:00:52.633722Z"
    }
   },
   "cell_type": "code",
   "source": [
    "def round_towards_minus_infinity_int(num):\n",
    "    return int(num - 0.5)"
   ],
   "id": "40e2ab04002aa67d",
   "outputs": [],
   "execution_count": 100
  },
  {
   "metadata": {
    "ExecuteTime": {
     "end_time": "2024-06-07T11:00:52.964787Z",
     "start_time": "2024-06-07T11:00:52.959894Z"
    }
   },
   "cell_type": "code",
   "source": "round_towards_minus_infinity_int(-10.6), round_towards_minus_infinity_int(10.6)",
   "id": "9c8a7a32665ae3ca",
   "outputs": [
    {
     "data": {
      "text/plain": [
       "(-11, 10)"
      ]
     },
     "execution_count": 101,
     "metadata": {},
     "output_type": "execute_result"
    }
   ],
   "execution_count": 101
  },
  {
   "metadata": {},
   "cell_type": "markdown",
   "source": "# Code lesson",
   "id": "27bf4872e0a735b"
  },
  {
   "metadata": {
    "ExecuteTime": {
     "end_time": "2024-06-07T13:08:58.635534Z",
     "start_time": "2024-06-07T13:08:58.630452Z"
    }
   },
   "cell_type": "code",
   "source": "round(1.888, 2), round(1.888, 1), round(1.888, 0), round(1.888, -1),",
   "id": "2462b5402928aef",
   "outputs": [
    {
     "data": {
      "text/plain": [
       "(1.89, 1.9, 2.0, 0.0)"
      ]
     },
     "execution_count": 109,
     "metadata": {},
     "output_type": "execute_result"
    }
   ],
   "execution_count": 109
  },
  {
   "metadata": {
    "ExecuteTime": {
     "end_time": "2024-06-07T13:16:32.639425Z",
     "start_time": "2024-06-07T13:16:32.634366Z"
    }
   },
   "cell_type": "code",
   "source": [
    "round(888.88, 1), round(888.88, 0), round(888.88, -1), \\\n",
    "round(888.88, -2), round(888.88, -3), round(888.88, -4)"
   ],
   "id": "4e6f30dcd2370516",
   "outputs": [
    {
     "data": {
      "text/plain": [
       "(888.9, 889.0, 890.0, 900.0, 1000.0, 0.0)"
      ]
     },
     "execution_count": 113,
     "metadata": {},
     "output_type": "execute_result"
    }
   ],
   "execution_count": 113
  },
  {
   "metadata": {
    "ExecuteTime": {
     "end_time": "2024-06-07T13:25:57.868326Z",
     "start_time": "2024-06-07T13:25:57.865022Z"
    }
   },
   "cell_type": "code",
   "source": [
    "from math import copysign\n",
    "def round_(num):\n",
    "    return int(num + 0.5 * copysign(1, num))"
   ],
   "id": "a53b1a8836ad92f9",
   "outputs": [],
   "execution_count": 139
  },
  {
   "metadata": {
    "ExecuteTime": {
     "end_time": "2024-06-07T13:29:05.621123Z",
     "start_time": "2024-06-07T13:29:05.618097Z"
    }
   },
   "cell_type": "code",
   "source": "from dis import dis",
   "id": "e321a701f9d7666a",
   "outputs": [],
   "execution_count": 155
  },
  {
   "metadata": {
    "ExecuteTime": {
     "end_time": "2024-06-07T13:29:06.099289Z",
     "start_time": "2024-06-07T13:29:05.779312Z"
    }
   },
   "cell_type": "code",
   "source": [
    "for _ in range(10**6):\n",
    "    round_(88.88)"
   ],
   "id": "3f4b2153464c1dfd",
   "outputs": [],
   "execution_count": 156
  },
  {
   "metadata": {
    "ExecuteTime": {
     "end_time": "2024-06-07T13:29:06.332589Z",
     "start_time": "2024-06-07T13:29:06.100639Z"
    }
   },
   "cell_type": "code",
   "source": [
    "for _ in range(10**6):\n",
    "    round_away_from_zero_int(88.88)"
   ],
   "id": "51e9f09190516332",
   "outputs": [],
   "execution_count": 157
  },
  {
   "metadata": {
    "ExecuteTime": {
     "end_time": "2024-06-08T11:39:47.940006Z",
     "start_time": "2024-06-08T08:03:11.261181Z"
    }
   },
   "cell_type": "code",
   "source": [
    "from time import perf_counter\n",
    "start = perf_counter()\n",
    "x = 0\n",
    "for _ in range(4 * 10**9 * 30):\n",
    "    x += 100.01\n",
    "end = perf_counter() - start\n",
    "print(end, x)"
   ],
   "id": "3dae36b59a4cb7b",
   "outputs": [
    {
     "name": "stdout",
     "output_type": "stream",
     "text": [
      "12996.674042581999 12001177226456.707\n"
     ]
    }
   ],
   "execution_count": 1
  },
  {
   "metadata": {},
   "cell_type": "code",
   "outputs": [],
   "execution_count": null,
   "source": "",
   "id": "c0f6e102e53c785"
  }
 ],
 "metadata": {
  "kernelspec": {
   "display_name": "Python 3",
   "language": "python",
   "name": "python3"
  },
  "language_info": {
   "codemirror_mode": {
    "name": "ipython",
    "version": 2
   },
   "file_extension": ".py",
   "mimetype": "text/x-python",
   "name": "python",
   "nbconvert_exporter": "python",
   "pygments_lexer": "ipython2",
   "version": "2.7.6"
  }
 },
 "nbformat": 4,
 "nbformat_minor": 5
}
