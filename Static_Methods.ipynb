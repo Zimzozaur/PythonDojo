{
 "cells": [
  {
   "cell_type": "code",
   "id": "initial_id",
   "metadata": {
    "collapsed": true,
    "ExecuteTime": {
     "end_time": "2024-05-10T12:02:48.552814Z",
     "start_time": "2024-05-10T12:02:48.549649Z"
    }
   },
   "source": [
    "class MyClass:\n",
    "    def hello():\n",
    "        return 'Hello'"
   ],
   "outputs": [],
   "execution_count": 1
  },
  {
   "metadata": {
    "ExecuteTime": {
     "end_time": "2024-05-10T12:03:06.358007Z",
     "start_time": "2024-05-10T12:03:06.351282Z"
    }
   },
   "cell_type": "code",
   "source": "MyClass.hello",
   "id": "3385a1096b431ba0",
   "outputs": [
    {
     "data": {
      "text/plain": [
       "<function __main__.MyClass.hello()>"
      ]
     },
     "execution_count": 2,
     "metadata": {},
     "output_type": "execute_result"
    }
   ],
   "execution_count": 2
  },
  {
   "metadata": {
    "ExecuteTime": {
     "end_time": "2024-05-10T12:03:12.711675Z",
     "start_time": "2024-05-10T12:03:12.706947Z"
    }
   },
   "cell_type": "code",
   "source": "MyClass.hello()",
   "id": "ecea7231f9c4ba64",
   "outputs": [
    {
     "data": {
      "text/plain": [
       "'Hello'"
      ]
     },
     "execution_count": 3,
     "metadata": {},
     "output_type": "execute_result"
    }
   ],
   "execution_count": 3
  },
  {
   "metadata": {
    "ExecuteTime": {
     "end_time": "2024-05-10T12:03:23.474436Z",
     "start_time": "2024-05-10T12:03:23.469727Z"
    }
   },
   "cell_type": "code",
   "source": [
    "m = MyClass()\n",
    "m.hello"
   ],
   "id": "388eeedb9bb4f9b8",
   "outputs": [
    {
     "data": {
      "text/plain": [
       "<bound method MyClass.hello of <__main__.MyClass object at 0x7fef48fc2c00>>"
      ]
     },
     "execution_count": 4,
     "metadata": {},
     "output_type": "execute_result"
    }
   ],
   "execution_count": 4
  },
  {
   "metadata": {
    "ExecuteTime": {
     "end_time": "2024-05-10T12:04:38.545587Z",
     "start_time": "2024-05-10T12:04:38.524936Z"
    }
   },
   "cell_type": "code",
   "source": "m.hello()",
   "id": "e875157525da1389",
   "outputs": [
    {
     "ename": "TypeError",
     "evalue": "MyClass.hello() takes 0 positional arguments but 1 was given",
     "output_type": "error",
     "traceback": [
      "\u001B[0;31m---------------------------------------------------------------------------\u001B[0m",
      "\u001B[0;31mTypeError\u001B[0m                                 Traceback (most recent call last)",
      "Cell \u001B[0;32mIn[9], line 1\u001B[0m\n\u001B[0;32m----> 1\u001B[0m \u001B[43mm\u001B[49m\u001B[38;5;241;43m.\u001B[39;49m\u001B[43mhello\u001B[49m\u001B[43m(\u001B[49m\u001B[43m)\u001B[49m\n",
      "\u001B[0;31mTypeError\u001B[0m: MyClass.hello() takes 0 positional arguments but 1 was given"
     ]
    }
   ],
   "execution_count": 9
  },
  {
   "metadata": {
    "ExecuteTime": {
     "end_time": "2024-05-10T12:19:36.911408Z",
     "start_time": "2024-05-10T12:19:36.906513Z"
    }
   },
   "cell_type": "code",
   "source": [
    "class ClassWithMethod:\n",
    "    def hello():\n",
    "        \"\"\"\n",
    "        When called on class is a regular functino\n",
    "        When called on instance gets bound to instance\n",
    "        so fail on call because instance will be passed\n",
    "        \"\"\"\n",
    "        print('hello...')\n",
    "        \n",
    "    def inst_hello(self):\n",
    "        \"\"\"\n",
    "        Bound to instance\n",
    "        Will receive the instance as first parameter \n",
    "        \"\"\"\n",
    "        print(f'hello from {self}')\n",
    "        \n",
    "    @classmethod\n",
    "    def cls_hello(cls):\n",
    "        \"\"\"\n",
    "        Bound to the class\n",
    "        Will receive the class as first parameter\n",
    "        \"\"\"\n",
    "        print(f'hello from {cls}')\n",
    "        \n",
    "    @staticmethod\n",
    "    def static_hello():\n",
    "        \"\"\"\n",
    "        Static method is never bound to anything\n",
    "        Receives not extra arguments now matter \n",
    "        how is it called\n",
    "        \"\"\"\n",
    "        print('static hello')"
   ],
   "id": "dbfea178fdf331a7",
   "outputs": [],
   "execution_count": 21
  },
  {
   "metadata": {
    "ExecuteTime": {
     "end_time": "2024-05-10T12:19:37.229667Z",
     "start_time": "2024-05-10T12:19:37.227078Z"
    }
   },
   "cell_type": "code",
   "source": "ClassWithMethod.hello()",
   "id": "5f7b45f19dd8bce7",
   "outputs": [
    {
     "name": "stdout",
     "output_type": "stream",
     "text": [
      "hello...\n"
     ]
    }
   ],
   "execution_count": 22
  },
  {
   "metadata": {
    "ExecuteTime": {
     "end_time": "2024-05-10T12:19:37.533510Z",
     "start_time": "2024-05-10T12:19:37.512840Z"
    }
   },
   "cell_type": "code",
   "source": "ClassWithMethod.inst_hello()",
   "id": "375132211253eeb0",
   "outputs": [
    {
     "ename": "TypeError",
     "evalue": "ClassWithMethod.inst_hello() missing 1 required positional argument: 'self'",
     "output_type": "error",
     "traceback": [
      "\u001B[0;31m---------------------------------------------------------------------------\u001B[0m",
      "\u001B[0;31mTypeError\u001B[0m                                 Traceback (most recent call last)",
      "Cell \u001B[0;32mIn[23], line 1\u001B[0m\n\u001B[0;32m----> 1\u001B[0m \u001B[43mClassWithMethod\u001B[49m\u001B[38;5;241;43m.\u001B[39;49m\u001B[43minst_hello\u001B[49m\u001B[43m(\u001B[49m\u001B[43m)\u001B[49m\n",
      "\u001B[0;31mTypeError\u001B[0m: ClassWithMethod.inst_hello() missing 1 required positional argument: 'self'"
     ]
    }
   ],
   "execution_count": 23
  },
  {
   "metadata": {
    "ExecuteTime": {
     "end_time": "2024-05-10T12:19:39.533950Z",
     "start_time": "2024-05-10T12:19:39.529496Z"
    }
   },
   "cell_type": "code",
   "source": "ClassWithMethod.cls_hello()",
   "id": "36857b82bd85f08b",
   "outputs": [
    {
     "name": "stdout",
     "output_type": "stream",
     "text": [
      "hello from <class '__main__.ClassWithMethod'>\n"
     ]
    }
   ],
   "execution_count": 24
  },
  {
   "metadata": {
    "ExecuteTime": {
     "end_time": "2024-05-10T12:19:39.933167Z",
     "start_time": "2024-05-10T12:19:39.927334Z"
    }
   },
   "cell_type": "code",
   "source": "ClassWithMethod.cls_hello",
   "id": "3eda50e03d86e156",
   "outputs": [
    {
     "data": {
      "text/plain": [
       "<bound method ClassWithMethod.cls_hello of <class '__main__.ClassWithMethod'>>"
      ]
     },
     "execution_count": 25,
     "metadata": {},
     "output_type": "execute_result"
    }
   ],
   "execution_count": 25
  },
  {
   "metadata": {
    "ExecuteTime": {
     "end_time": "2024-05-10T12:19:49.570395Z",
     "start_time": "2024-05-10T12:19:49.565316Z"
    }
   },
   "cell_type": "code",
   "source": "ClassWithMethod.static_hello",
   "id": "82a9fac228f39929",
   "outputs": [
    {
     "data": {
      "text/plain": [
       "<function __main__.ClassWithMethod.static_hello()>"
      ]
     },
     "execution_count": 26,
     "metadata": {},
     "output_type": "execute_result"
    }
   ],
   "execution_count": 26
  },
  {
   "metadata": {
    "ExecuteTime": {
     "end_time": "2024-05-10T12:20:07.500685Z",
     "start_time": "2024-05-10T12:20:07.476411Z"
    }
   },
   "cell_type": "code",
   "source": [
    "class_with_method = ClassWithMethod()\n",
    "class_with_method.hello()"
   ],
   "id": "d5d0500b916afc75",
   "outputs": [
    {
     "ename": "TypeError",
     "evalue": "ClassWithMethod.hello() takes 0 positional arguments but 1 was given",
     "output_type": "error",
     "traceback": [
      "\u001B[0;31m---------------------------------------------------------------------------\u001B[0m",
      "\u001B[0;31mTypeError\u001B[0m                                 Traceback (most recent call last)",
      "Cell \u001B[0;32mIn[29], line 2\u001B[0m\n\u001B[1;32m      1\u001B[0m class_with_method \u001B[38;5;241m=\u001B[39m ClassWithMethod()\n\u001B[0;32m----> 2\u001B[0m \u001B[43mclass_with_method\u001B[49m\u001B[38;5;241;43m.\u001B[39;49m\u001B[43mhello\u001B[49m\u001B[43m(\u001B[49m\u001B[43m)\u001B[49m\n",
      "\u001B[0;31mTypeError\u001B[0m: ClassWithMethod.hello() takes 0 positional arguments but 1 was given"
     ]
    }
   ],
   "execution_count": 29
  },
  {
   "metadata": {
    "ExecuteTime": {
     "end_time": "2024-05-10T12:20:08.180152Z",
     "start_time": "2024-05-10T12:20:08.175102Z"
    }
   },
   "cell_type": "code",
   "source": "class_with_method.inst_hello()",
   "id": "8935cf7f07093f92",
   "outputs": [
    {
     "name": "stdout",
     "output_type": "stream",
     "text": [
      "hello from <__main__.ClassWithMethod object at 0x7fef484d0a70>\n"
     ]
    }
   ],
   "execution_count": 30
  },
  {
   "metadata": {
    "ExecuteTime": {
     "end_time": "2024-05-10T12:20:08.591351Z",
     "start_time": "2024-05-10T12:20:08.586588Z"
    }
   },
   "cell_type": "code",
   "source": "class_with_method.cls_hello()",
   "id": "d11c1f6873d37fb0",
   "outputs": [
    {
     "name": "stdout",
     "output_type": "stream",
     "text": [
      "hello from <class '__main__.ClassWithMethod'>\n"
     ]
    }
   ],
   "execution_count": 31
  },
  {
   "metadata": {
    "ExecuteTime": {
     "end_time": "2024-05-10T12:20:12.334089Z",
     "start_time": "2024-05-10T12:20:12.329332Z"
    }
   },
   "cell_type": "code",
   "source": "class_with_method.static_hello",
   "id": "82f35610402d5fca",
   "outputs": [
    {
     "data": {
      "text/plain": [
       "<function __main__.ClassWithMethod.static_hello()>"
      ]
     },
     "execution_count": 33,
     "metadata": {},
     "output_type": "execute_result"
    }
   ],
   "execution_count": 33
  }
 ],
 "metadata": {
  "kernelspec": {
   "display_name": "Python 3",
   "language": "python",
   "name": "python3"
  },
  "language_info": {
   "codemirror_mode": {
    "name": "ipython",
    "version": 2
   },
   "file_extension": ".py",
   "mimetype": "text/x-python",
   "name": "python",
   "nbconvert_exporter": "python",
   "pygments_lexer": "ipython2",
   "version": "2.7.6"
  }
 },
 "nbformat": 4,
 "nbformat_minor": 5
}
