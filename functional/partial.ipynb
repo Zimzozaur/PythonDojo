{
 "cells": [
  {
   "cell_type": "code",
   "id": "initial_id",
   "metadata": {
    "collapsed": true,
    "ExecuteTime": {
     "end_time": "2024-07-30T09:49:19.357981Z",
     "start_time": "2024-07-30T09:49:19.355365Z"
    }
   },
   "source": [
    "from typing import Callable\n",
    "from functools import partial"
   ],
   "outputs": [],
   "execution_count": 1
  },
  {
   "metadata": {
    "ExecuteTime": {
     "end_time": "2024-07-30T09:53:44.248498Z",
     "start_time": "2024-07-30T09:53:44.245019Z"
    }
   },
   "cell_type": "code",
   "source": [
    "def add(a: int, b: int) -> int:\n",
    "    print(f'got args: {a=}, {b=}')\n",
    "    return a + b"
   ],
   "id": "9d7d7b4e77afd67b",
   "outputs": [],
   "execution_count": 9
  },
  {
   "metadata": {
    "ExecuteTime": {
     "end_time": "2024-07-30T09:53:44.501321Z",
     "start_time": "2024-07-30T09:53:44.495872Z"
    }
   },
   "cell_type": "code",
   "source": "add(1, 2)",
   "id": "9ebf9f3f62174cc3",
   "outputs": [
    {
     "name": "stdout",
     "output_type": "stream",
     "text": [
      "got args: a=1, b=2\n"
     ]
    },
    {
     "data": {
      "text/plain": [
       "3"
      ]
     },
     "execution_count": 10,
     "metadata": {},
     "output_type": "execute_result"
    }
   ],
   "execution_count": 10
  },
  {
   "metadata": {},
   "cell_type": "markdown",
   "source": "### Nested func",
   "id": "3348848da8177841"
  },
  {
   "metadata": {
    "ExecuteTime": {
     "end_time": "2024-07-30T09:52:21.537740Z",
     "start_time": "2024-07-30T09:52:21.533984Z"
    }
   },
   "cell_type": "code",
   "source": [
    "def make_adder(a: int) -> Callable[[int], int]:\n",
    "    def adder_inner(b: int) -> int:\n",
    "        return a + b\n",
    "    return adder_inner\n",
    "\n",
    "add_10 = make_adder(10)\n",
    "add_10(3)"
   ],
   "id": "774deaeb1448d348",
   "outputs": [
    {
     "data": {
      "text/plain": [
       "13"
      ]
     },
     "execution_count": 7,
     "metadata": {},
     "output_type": "execute_result"
    }
   ],
   "execution_count": 7
  },
  {
   "metadata": {},
   "cell_type": "markdown",
   "source": "### Nested lambda ",
   "id": "1ba34b5a8ce8634a"
  },
  {
   "metadata": {
    "ExecuteTime": {
     "end_time": "2024-07-30T09:52:37.336707Z",
     "start_time": "2024-07-30T09:52:37.333164Z"
    }
   },
   "cell_type": "code",
   "source": [
    "def make_adder(a: int) -> Callable[[int], int]:\n",
    "    return lambda b: a + b\n",
    "\n",
    "add_10 = make_adder(10)\n",
    "add_10(3)"
   ],
   "id": "b887ea9eabb2e232",
   "outputs": [
    {
     "data": {
      "text/plain": [
       "13"
      ]
     },
     "execution_count": 8,
     "metadata": {},
     "output_type": "execute_result"
    }
   ],
   "execution_count": 8
  },
  {
   "metadata": {},
   "cell_type": "markdown",
   "source": "### Partial",
   "id": "253c1097a931469c"
  },
  {
   "metadata": {
    "ExecuteTime": {
     "end_time": "2024-07-30T09:54:16.271782Z",
     "start_time": "2024-07-30T09:54:16.265855Z"
    }
   },
   "cell_type": "code",
   "source": [
    "add_11 = partial(add, 11)\n",
    "add_11(10)"
   ],
   "id": "af26a701f7ef0a95",
   "outputs": [
    {
     "name": "stdout",
     "output_type": "stream",
     "text": [
      "got args: a=11, b=10\n"
     ]
    },
    {
     "data": {
      "text/plain": [
       "21"
      ]
     },
     "execution_count": 13,
     "metadata": {},
     "output_type": "execute_result"
    }
   ],
   "execution_count": 13
  },
  {
   "metadata": {
    "ExecuteTime": {
     "end_time": "2024-07-30T09:55:31.249464Z",
     "start_time": "2024-07-30T09:55:31.244263Z"
    }
   },
   "cell_type": "code",
   "source": [
    "returns_10 = partial(add, 10, 10)\n",
    "returns_10()"
   ],
   "id": "7b168a0df06c66f",
   "outputs": [
    {
     "name": "stdout",
     "output_type": "stream",
     "text": [
      "got args: a=10, b=10\n"
     ]
    },
    {
     "data": {
      "text/plain": [
       "20"
      ]
     },
     "execution_count": 15,
     "metadata": {},
     "output_type": "execute_result"
    }
   ],
   "execution_count": 15
  },
  {
   "metadata": {
    "ExecuteTime": {
     "end_time": "2024-07-30T09:56:19.853010Z",
     "start_time": "2024-07-30T09:56:19.848990Z"
    }
   },
   "cell_type": "code",
   "source": [
    "add_7 = partial(add, b=7)\n",
    "add_7(5)"
   ],
   "id": "c8de1da890d9943d",
   "outputs": [
    {
     "name": "stdout",
     "output_type": "stream",
     "text": [
      "got args: a=5, b=7\n"
     ]
    },
    {
     "data": {
      "text/plain": [
       "12"
      ]
     },
     "execution_count": 17,
     "metadata": {},
     "output_type": "execute_result"
    }
   ],
   "execution_count": 17
  },
  {
   "metadata": {},
   "cell_type": "markdown",
   "source": "### You can override values",
   "id": "1f85dec865089cd1"
  },
  {
   "metadata": {
    "ExecuteTime": {
     "end_time": "2024-07-30T09:57:27.509691Z",
     "start_time": "2024-07-30T09:57:27.504541Z"
    }
   },
   "cell_type": "code",
   "source": [
    "add_7 = partial(add, b=7)\n",
    "add_7(5, b=10)"
   ],
   "id": "749d3366d5ae5c53",
   "outputs": [
    {
     "name": "stdout",
     "output_type": "stream",
     "text": [
      "got args: a=5, b=10\n"
     ]
    },
    {
     "data": {
      "text/plain": [
       "15"
      ]
     },
     "execution_count": 18,
     "metadata": {},
     "output_type": "execute_result"
    }
   ],
   "execution_count": 18
  },
  {
   "metadata": {},
   "cell_type": "code",
   "outputs": [],
   "execution_count": null,
   "source": "",
   "id": "43a6b8c1c8328b81"
  }
 ],
 "metadata": {
  "kernelspec": {
   "display_name": "Python 3",
   "language": "python",
   "name": "python3"
  },
  "language_info": {
   "codemirror_mode": {
    "name": "ipython",
    "version": 2
   },
   "file_extension": ".py",
   "mimetype": "text/x-python",
   "name": "python",
   "nbconvert_exporter": "python",
   "pygments_lexer": "ipython2",
   "version": "2.7.6"
  }
 },
 "nbformat": 4,
 "nbformat_minor": 5
}
