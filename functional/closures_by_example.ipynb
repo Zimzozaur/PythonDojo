{
 "cells": [
  {
   "cell_type": "code",
   "id": "initial_id",
   "metadata": {
    "collapsed": true,
    "ExecuteTime": {
     "end_time": "2024-07-11T10:09:37.923067Z",
     "start_time": "2024-07-11T10:09:37.916398Z"
    }
   },
   "source": [
    "import math\n",
    "\n",
    "def fact():\n",
    "    i = 0\n",
    "    def inner():\n",
    "        nonlocal i\n",
    "        res = math.factorial(i)\n",
    "        i += 1\n",
    "        return res\n",
    "    return inner"
   ],
   "outputs": [],
   "execution_count": 41
  },
  {
   "metadata": {
    "ExecuteTime": {
     "end_time": "2024-07-11T10:10:09.993316Z",
     "start_time": "2024-07-11T10:10:09.988128Z"
    }
   },
   "cell_type": "code",
   "source": [
    "fact_closure1 = fact()\n",
    "\n",
    "[fact_closure1() for _ in range(6)]\n",
    "print('fact_closure1 was called')\n",
    "i_from_closure = fact_closure1.__closure__[0].cell_contents\n",
    "print(f'i: {i_from_closure}, id: {hex(id(i_from_closure))}')"
   ],
   "id": "5944e606794a1477",
   "outputs": [
    {
     "name": "stdout",
     "output_type": "stream",
     "text": [
      "fact_closure1 was called\n",
      "i: 6, id: 0x1042ed690\n"
     ]
    }
   ],
   "execution_count": 45
  },
  {
   "metadata": {
    "ExecuteTime": {
     "end_time": "2024-07-11T10:10:07.165374Z",
     "start_time": "2024-07-11T10:10:07.157643Z"
    }
   },
   "cell_type": "code",
   "source": [
    "fact_closure2= fact()\n",
    "[fact_closure2() for _ in range(10)]\n",
    "print('fact_closure2 was called')\n",
    "i_from_closure = fact_closure2.__closure__[0].cell_contents\n",
    "print(f'i: {i_from_closure}, id: {hex(id(i_from_closure))}')"
   ],
   "id": "ee4dd90bfb45af3f",
   "outputs": [
    {
     "name": "stdout",
     "output_type": "stream",
     "text": [
      "fact_closure2 was called\n",
      "i: 10, id: 0x1042ed710\n"
     ]
    }
   ],
   "execution_count": 44
  },
  {
   "metadata": {},
   "cell_type": "code",
   "outputs": [],
   "execution_count": null,
   "source": "",
   "id": "ebf326ec15aee880"
  }
 ],
 "metadata": {
  "kernelspec": {
   "display_name": "Python 3",
   "language": "python",
   "name": "python3"
  },
  "language_info": {
   "codemirror_mode": {
    "name": "ipython",
    "version": 2
   },
   "file_extension": ".py",
   "mimetype": "text/x-python",
   "name": "python",
   "nbconvert_exporter": "python",
   "pygments_lexer": "ipython2",
   "version": "2.7.6"
  }
 },
 "nbformat": 4,
 "nbformat_minor": 5
}
