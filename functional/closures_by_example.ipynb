{
 "cells": [
  {
   "metadata": {
    "ExecuteTime": {
     "end_time": "2024-07-11T10:47:05.522813Z",
     "start_time": "2024-07-11T10:47:05.519393Z"
    }
   },
   "cell_type": "code",
   "source": [
    "def outer():\n",
    "    def inner():\n",
    "        pass\n",
    "    print(f'inner - {inner}')\n",
    "    return inner"
   ],
   "id": "18a6e28f31268830",
   "outputs": [],
   "execution_count": 98
  },
  {
   "metadata": {
    "ExecuteTime": {
     "end_time": "2024-07-11T10:47:05.858604Z",
     "start_time": "2024-07-11T10:47:05.852608Z"
    }
   },
   "cell_type": "code",
   "source": [
    "# Calling code form inner scope of class or function \n",
    "# creates new instance\n",
    "inner1 = outer()\n",
    "print(f'inner1 - {inner1}')"
   ],
   "id": "31e6646ab9c72ce8",
   "outputs": [
    {
     "name": "stdout",
     "output_type": "stream",
     "text": [
      "inner - <function outer.<locals>.inner at 0x10660a3e0>\n",
      "inner1 - <function outer.<locals>.inner at 0x10660a3e0>\n"
     ]
    }
   ],
   "execution_count": 99
  },
  {
   "metadata": {
    "ExecuteTime": {
     "end_time": "2024-07-11T10:47:06.232835Z",
     "start_time": "2024-07-11T10:47:06.227339Z"
    }
   },
   "cell_type": "code",
   "source": [
    "inner2 = outer()\n",
    "print(f'inner2 - {inner2}')"
   ],
   "id": "84692ded878a2fe7",
   "outputs": [
    {
     "name": "stdout",
     "output_type": "stream",
     "text": [
      "inner - <function outer.<locals>.inner at 0x10615eca0>\n",
      "inner2 - <function outer.<locals>.inner at 0x10615eca0>\n"
     ]
    }
   ],
   "execution_count": 100
  },
  {
   "cell_type": "code",
   "id": "initial_id",
   "metadata": {
    "collapsed": true,
    "ExecuteTime": {
     "end_time": "2024-07-11T10:47:07.310479Z",
     "start_time": "2024-07-11T10:47:07.305199Z"
    }
   },
   "source": [
    "import math\n",
    "\n",
    "def fact():\n",
    "    i = 0\n",
    "        \n",
    "    def inner():\n",
    "        nonlocal i  # Add copy of i to scope\n",
    "        res = math.factorial(i)\n",
    "        i += 1\n",
    "        return res\n",
    "    return inner"
   ],
   "outputs": [],
   "execution_count": 101
  },
  {
   "metadata": {
    "ExecuteTime": {
     "end_time": "2024-07-11T10:47:10.488949Z",
     "start_time": "2024-07-11T10:47:10.486566Z"
    }
   },
   "cell_type": "code",
   "source": [
    "fact1 = fact()\n",
    "fact2 = fact()"
   ],
   "id": "5944e606794a1477",
   "outputs": [],
   "execution_count": 104
  },
  {
   "metadata": {
    "ExecuteTime": {
     "end_time": "2024-07-11T10:47:10.927198Z",
     "start_time": "2024-07-11T10:47:10.921410Z"
    }
   },
   "cell_type": "code",
   "source": [
    "fact1_i = fact1.__closure__[0].cell_contents  # extract i form closure before call\n",
    "print(f\"fact1_before_nonlocal - i: {fact1_i}, id(i): {hex(id(fact1_i))}\")\n",
    "\n",
    "fact2_i = fact2.__closure__[0].cell_contents  # extract i form closure before call\n",
    "print(f\"fact2_before_nonlocal - i: {fact2_i}, id(i): {hex(id(fact2_i))}\")"
   ],
   "id": "1a9d378be2f94e24",
   "outputs": [
    {
     "name": "stdout",
     "output_type": "stream",
     "text": [
      "fact1_before_nonlocal - i: 0, id(i): 0x1042ed5d0\n",
      "fact2_before_nonlocal - i: 0, id(i): 0x1042ed5d0\n"
     ]
    }
   ],
   "execution_count": 105
  },
  {
   "metadata": {
    "ExecuteTime": {
     "end_time": "2024-07-11T10:47:11.316770Z",
     "start_time": "2024-07-11T10:47:11.309950Z"
    }
   },
   "cell_type": "code",
   "source": [
    "[fact1() for _ in range(3)]  # call fact1 3 times\n",
    "fact1_i = fact1.__closure__[0].cell_contents  # extract i form closure\n",
    "print(f\"fact1_after_nonlocal - i: {fact1_i}, id(i): {hex(id(fact1_i))}\")"
   ],
   "id": "255ebe8fe816e0d9",
   "outputs": [
    {
     "name": "stdout",
     "output_type": "stream",
     "text": [
      "fact1_after_nonlocal - i: 3, id(i): 0x1042ed630\n"
     ]
    }
   ],
   "execution_count": 106
  },
  {
   "metadata": {
    "ExecuteTime": {
     "end_time": "2024-07-11T10:47:13.530795Z",
     "start_time": "2024-07-11T10:47:13.526431Z"
    }
   },
   "cell_type": "code",
   "source": [
    "[fact2() for _ in range(7)]  # call fact2 7 times\n",
    "fact2_i = fact2.__closure__[0].cell_contents  # extract i form closure\n",
    "print(f\"fact2_after_nonlocal - i: {fact2_i}, id(i): {hex(id(fact2_i))}\")"
   ],
   "id": "c980fdd269429632",
   "outputs": [
    {
     "name": "stdout",
     "output_type": "stream",
     "text": [
      "fact2_after_nonlocal - i: 7, id(i): 0x1042ed6b0\n"
     ]
    }
   ],
   "execution_count": 107
  },
  {
   "metadata": {},
   "cell_type": "code",
   "outputs": [],
   "execution_count": null,
   "source": "",
   "id": "ae0e58f4a6e68d3"
  }
 ],
 "metadata": {
  "kernelspec": {
   "display_name": "Python 3",
   "language": "python",
   "name": "python3"
  },
  "language_info": {
   "codemirror_mode": {
    "name": "ipython",
    "version": 2
   },
   "file_extension": ".py",
   "mimetype": "text/x-python",
   "name": "python",
   "nbconvert_exporter": "python",
   "pygments_lexer": "ipython2",
   "version": "2.7.6"
  }
 },
 "nbformat": 4,
 "nbformat_minor": 5
}
