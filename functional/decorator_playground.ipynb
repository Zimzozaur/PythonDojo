{
 "cells": [
  {
   "metadata": {
    "ExecuteTime": {
     "end_time": "2024-07-06T07:55:34.972033Z",
     "start_time": "2024-07-06T07:55:34.967400Z"
    }
   },
   "cell_type": "code",
   "source": [
    "def my_decorator1(func):\n",
    "    def wrapper():\n",
    "        print(\"Before1 the function is called.\")\n",
    "        func()\n",
    "        print(\"After1 the function is called.\")\n",
    "    return wrapper\n",
    "\n",
    "def my_decorator2(func):\n",
    "    def wrapper():\n",
    "        print(\"Before2 the function is called.\")\n",
    "        func()\n",
    "        print(\"After2 the function is called.\")\n",
    "    return wrapper\n",
    "\n",
    "def say_hello():\n",
    "    print(\"Hello!\")\n",
    "\n",
    "if __name__ == '__main__':\n",
    "    my_decorator1(my_decorator2(say_hello))()"
   ],
   "id": "f5802d95a9bed5cb",
   "outputs": [
    {
     "name": "stdout",
     "output_type": "stream",
     "text": [
      "Before1 the function is called.\n",
      "Before2 the function is called.\n",
      "Hello!\n",
      "After2 the function is called.\n",
      "After1 the function is called.\n"
     ]
    }
   ],
   "execution_count": 2
  },
  {
   "metadata": {
    "ExecuteTime": {
     "end_time": "2024-07-06T07:56:01.619983Z",
     "start_time": "2024-07-06T07:56:01.614631Z"
    }
   },
   "cell_type": "code",
   "source": [
    "def my_decorator1(func):\n",
    "    def wrapper():\n",
    "        print(\"Before1 the function is called.\")\n",
    "        func()\n",
    "        print(\"After1 the function is called.\")\n",
    "    return wrapper\n",
    "\n",
    "def my_decorator2(func):\n",
    "    def wrapper():\n",
    "        print(\"Before2 the function is called.\")\n",
    "        func()\n",
    "        print(\"After2 the function is called.\")\n",
    "    return wrapper\n",
    "\n",
    "@my_decorator2\n",
    "def say_hello():\n",
    "    print(\"Hello!\")\n",
    "\n",
    "if __name__ == '__main__':\n",
    "    my_decorator1(say_hello)()"
   ],
   "id": "12e69bd01a133be6",
   "outputs": [
    {
     "name": "stdout",
     "output_type": "stream",
     "text": [
      "Before1 the function is called.\n",
      "Before2 the function is called.\n",
      "Hello!\n",
      "After2 the function is called.\n",
      "After1 the function is called.\n"
     ]
    }
   ],
   "execution_count": 3
  },
  {
   "metadata": {
    "ExecuteTime": {
     "end_time": "2024-07-06T08:04:20.296017Z",
     "start_time": "2024-07-06T08:04:20.285557Z"
    }
   },
   "cell_type": "code",
   "source": [
    "def parametrized_decorator(prev, next):\n",
    "    def decorator(func):\n",
    "        def wrapper():\n",
    "            print(f\"Prev: {prev}\")\n",
    "            func()\n",
    "            print(f'Next: {next}')\n",
    "        return wrapper\n",
    "    return decorator\n",
    "\n",
    "@parametrized_decorator('prev...', 'next...')\n",
    "def say_hello():\n",
    "    print(\"Hello!\")\n",
    "    \n",
    "say_hello"
   ],
   "id": "3f93e641d8abf550",
   "outputs": [
    {
     "data": {
      "text/plain": [
       "<function __main__.parametrized_decorator.<locals>.decorator.<locals>.wrapper()>"
      ]
     },
     "execution_count": 12,
     "metadata": {},
     "output_type": "execute_result"
    }
   ],
   "execution_count": 12
  },
  {
   "metadata": {
    "ExecuteTime": {
     "end_time": "2024-07-06T08:27:46.309081Z",
     "start_time": "2024-07-06T08:27:46.301944Z"
    }
   },
   "cell_type": "code",
   "source": [
    "from functools import wraps\n",
    "\n",
    "def parametrized_decorator(prev, next):\n",
    "    def decorator(func):\n",
    "        def wrapper():\n",
    "            print(f\"Prev: {prev}\")\n",
    "            func()\n",
    "            print(f'Next: {next}')\n",
    "        wrapper = wraps(func)(wrapper)\n",
    "        return wrapper\n",
    "    return decorator\n",
    "\n",
    "@parametrized_decorator('prev...', 'next...')\n",
    "def say_hello():\n",
    "    print(\"Hello!\")\n",
    "    \n",
    "say_hello"
   ],
   "id": "7da91da71b2e430d",
   "outputs": [
    {
     "data": {
      "text/plain": [
       "<function __main__.say_hello()>"
      ]
     },
     "execution_count": 21,
     "metadata": {},
     "output_type": "execute_result"
    }
   ],
   "execution_count": 21
  },
  {
   "metadata": {
    "ExecuteTime": {
     "end_time": "2024-07-06T08:27:46.591168Z",
     "start_time": "2024-07-06T08:27:46.585491Z"
    }
   },
   "cell_type": "code",
   "source": [
    "from functools import wraps\n",
    "\n",
    "def parametrized_decorator(prev, next):\n",
    "    def decorator(func):\n",
    "        @wraps(func)\n",
    "        def wrapper():\n",
    "            print(f\"Prev: {prev}\")\n",
    "            func()\n",
    "            print(f'Next: {next}')\n",
    "        return wrapper\n",
    "    return decorator\n",
    "\n",
    "@parametrized_decorator('prev...', 'next...')\n",
    "def say_hello():\n",
    "    print(\"Hello!\")\n",
    "\n",
    "say_hello"
   ],
   "id": "11feeae8bdd78bba",
   "outputs": [
    {
     "data": {
      "text/plain": [
       "<function __main__.say_hello()>"
      ]
     },
     "execution_count": 22,
     "metadata": {},
     "output_type": "execute_result"
    }
   ],
   "execution_count": 22
  },
  {
   "metadata": {
    "ExecuteTime": {
     "end_time": "2024-07-06T08:50:24.318644Z",
     "start_time": "2024-07-06T08:50:21.012684Z"
    }
   },
   "cell_type": "code",
   "source": [
    "import sys\n",
    "from time import perf_counter\n",
    "\n",
    "def recursive_price_counter(n: int = 0, value: int = 0):\n",
    "    \"\"\"\n",
    "    Function that imitates for loop\n",
    "    \n",
    "    args:\n",
    "        n - how many run loop\n",
    "        value - number to add to total\n",
    "    \"\"\"\n",
    "    if not n:\n",
    "        return 0\n",
    "    return value + recursive_price_counter(n - 1, value)\n",
    "    \n",
    "sys.setrecursionlimit(100100000)\n",
    "\n",
    "start = perf_counter()\n",
    "recursive_price_counter(n=10000000, value=101)\n",
    "recursive = perf_counter() - start\n",
    "\n",
    "start = perf_counter()\n",
    "value = 0\n",
    "for i in range(10000000):\n",
    "    value += 101\n",
    "iterative =  perf_counter() - start\n",
    "\n",
    "print(recursive)\n",
    "print(iterative)"
   ],
   "id": "b4bf8e2a6fc48f52",
   "outputs": [
    {
     "name": "stdout",
     "output_type": "stream",
     "text": [
      "2.1409057670007314\n",
      "1.1603673979998348\n"
     ]
    }
   ],
   "execution_count": 41
  },
  {
   "metadata": {},
   "cell_type": "code",
   "outputs": [],
   "execution_count": null,
   "source": "",
   "id": "c8857172f3bc048d"
  }
 ],
 "metadata": {
  "kernelspec": {
   "display_name": "Python 3",
   "language": "python",
   "name": "python3"
  },
  "language_info": {
   "codemirror_mode": {
    "name": "ipython",
    "version": 2
   },
   "file_extension": ".py",
   "mimetype": "text/x-python",
   "name": "python",
   "nbconvert_exporter": "python",
   "pygments_lexer": "ipython2",
   "version": "2.7.6"
  }
 },
 "nbformat": 4,
 "nbformat_minor": 5
}
