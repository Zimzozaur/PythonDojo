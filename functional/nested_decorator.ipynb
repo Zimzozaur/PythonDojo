{
 "cells": [
  {
   "cell_type": "code",
   "id": "initial_id",
   "metadata": {
    "collapsed": true,
    "ExecuteTime": {
     "end_time": "2024-06-12T08:10:22.590537Z",
     "start_time": "2024-06-12T08:10:22.586812Z"
    }
   },
   "source": [
    "def deco1(fn):\n",
    "    print('Deco 1: Before inner')\n",
    "    def inner(*args, **kwargs):\n",
    "        print('Deco 1: Inner')\n",
    "        return fn(*args, **kwargs)\n",
    "    print('Deco 1: After inner')\n",
    "    return inner"
   ],
   "outputs": [],
   "execution_count": 70
  },
  {
   "metadata": {
    "ExecuteTime": {
     "end_time": "2024-06-12T08:10:22.817412Z",
     "start_time": "2024-06-12T08:10:22.813166Z"
    }
   },
   "cell_type": "code",
   "source": [
    "def deco2(fn):\n",
    "    print('Deco 2: Before inner')\n",
    "    def inner(*args, **kwargs):\n",
    "        print('Deco 2: Inner')\n",
    "        return fn(*args, **kwargs)\n",
    "    print('Deco 2: After inner')\n",
    "    return inner"
   ],
   "id": "274ac5120b980e25",
   "outputs": [],
   "execution_count": 71
  },
  {
   "metadata": {
    "ExecuteTime": {
     "end_time": "2024-06-12T08:10:23.029103Z",
     "start_time": "2024-06-12T08:10:23.021610Z"
    }
   },
   "cell_type": "code",
   "source": [
    "def deco3(fn):\n",
    "    print('Deco 3: Before inner')\n",
    "    def inner(*args, **kwargs):\n",
    "        print('Deco 3: Inner')\n",
    "        return fn(*args, **kwargs)\n",
    "    print('Deco 3: After inner')\n",
    "    return inner"
   ],
   "id": "7f32cf1e20f18c41",
   "outputs": [],
   "execution_count": 72
  },
  {
   "metadata": {
    "ExecuteTime": {
     "end_time": "2024-06-12T08:10:23.394078Z",
     "start_time": "2024-06-12T08:10:23.389339Z"
    }
   },
   "cell_type": "code",
   "source": [
    "def example_func():\n",
    "    print('I am an example function :)')"
   ],
   "id": "4df1ef7b1b3553c9",
   "outputs": [],
   "execution_count": 73
  },
  {
   "metadata": {
    "ExecuteTime": {
     "end_time": "2024-06-12T08:10:38.258951Z",
     "start_time": "2024-06-12T08:10:38.255600Z"
    }
   },
   "cell_type": "code",
   "source": [
    "decorated_example = deco1(deco2((deco3(example_func))))\n",
    "decorated_example()"
   ],
   "id": "29ebbd5fda7a1c7c",
   "outputs": [
    {
     "name": "stdout",
     "output_type": "stream",
     "text": [
      "Deco 3: Before inner\n",
      "Deco 3: After inner\n",
      "Deco 2: Before inner\n",
      "Deco 2: After inner\n",
      "Deco 1: Before inner\n",
      "Deco 1: After inner\n",
      "Deco 1: Inner\n",
      "Deco 2: Inner\n",
      "Deco 3: Inner\n",
      "I am an example function :)\n"
     ]
    }
   ],
   "execution_count": 76
  },
  {
   "metadata": {
    "ExecuteTime": {
     "end_time": "2024-06-12T08:13:52.242841Z",
     "start_time": "2024-06-12T08:13:52.238789Z"
    }
   },
   "cell_type": "code",
   "source": [
    "@deco1\n",
    "@deco2\n",
    "@deco3\n",
    "def example_func():\n",
    "    print('I am an example function :)')"
   ],
   "id": "8ee58b8ffb957497",
   "outputs": [
    {
     "name": "stdout",
     "output_type": "stream",
     "text": [
      "Deco 3: Before inner\n",
      "Deco 3: After inner\n",
      "Deco 2: Before inner\n",
      "Deco 2: After inner\n",
      "Deco 1: Before inner\n",
      "Deco 1: After inner\n"
     ]
    }
   ],
   "execution_count": 77
  },
  {
   "metadata": {
    "ExecuteTime": {
     "end_time": "2024-06-12T08:13:52.900179Z",
     "start_time": "2024-06-12T08:13:52.895819Z"
    }
   },
   "cell_type": "code",
   "source": "example_func()",
   "id": "65c842980b0888ec",
   "outputs": [
    {
     "name": "stdout",
     "output_type": "stream",
     "text": [
      "Deco 1: Inner\n",
      "Deco 2: Inner\n",
      "Deco 3: Inner\n",
      "I am an example function :)\n"
     ]
    }
   ],
   "execution_count": 78
  },
  {
   "metadata": {},
   "cell_type": "code",
   "outputs": [],
   "execution_count": null,
   "source": "",
   "id": "1793d961dca5bf51"
  }
 ],
 "metadata": {
  "kernelspec": {
   "display_name": "Python 3",
   "language": "python",
   "name": "python3"
  },
  "language_info": {
   "codemirror_mode": {
    "name": "ipython",
    "version": 2
   },
   "file_extension": ".py",
   "mimetype": "text/x-python",
   "name": "python",
   "nbconvert_exporter": "python",
   "pygments_lexer": "ipython2",
   "version": "2.7.6"
  }
 },
 "nbformat": 4,
 "nbformat_minor": 5
}
