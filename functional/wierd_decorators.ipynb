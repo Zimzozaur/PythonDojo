{
 "cells": [
  {
   "cell_type": "code",
   "id": "initial_id",
   "metadata": {
    "collapsed": true
   },
   "source": [
    "def prynt(what_ever):\n",
    "    print(what_ever())"
   ],
   "outputs": [],
   "execution_count": null
  },
  {
   "metadata": {},
   "cell_type": "code",
   "source": [
    "@prynt\n",
    "def return_int():\n",
    "    return 4"
   ],
   "id": "cdfab240fe9d7288",
   "outputs": [],
   "execution_count": null
  },
  {
   "metadata": {
    "ExecuteTime": {
     "end_time": "2024-07-06T07:49:45.273620Z",
     "start_time": "2024-07-06T07:49:45.267774Z"
    }
   },
   "cell_type": "code",
   "source": [
    "def my_decorator(func):\n",
    "    def wrapper():\n",
    "        print(\"Before the function is called.\")\n",
    "        func()\n",
    "        print(\"After the function is called.\")\n",
    "    return wrapper\n",
    "\n",
    "@my_decorator\n",
    "def say_hello():\n",
    "    print(\"Hello!\")\n",
    "\n",
    "say_hello()\n",
    "# my_decorator(say_hello)()\n"
   ],
   "id": "43b29b41a2c685e4",
   "outputs": [
    {
     "name": "stdout",
     "output_type": "stream",
     "text": [
      "Before the function is called.\n",
      "Hello!\n",
      "After the function is called.\n"
     ]
    }
   ],
   "execution_count": 3
  },
  {
   "metadata": {},
   "cell_type": "code",
   "source": [
    "def my_decorator_with_args(arg1, arg2):\n",
    "    def decorator(func):\n",
    "        def wrapper():\n",
    "            print(f\"Arguments: {arg1}, {arg2}\")\n",
    "            print(\"Before the function is called.\")\n",
    "            func()\n",
    "            print(\"After the function is called.\")\n",
    "        return wrapper\n",
    "    return decorator\n",
    "\n",
    "@my_decorator_with_args(\"Hi\", \"There\")\n",
    "def say_hello():\n",
    "    print(\"Hello!\")\n",
    "\n",
    "say_hello()\n"
   ],
   "id": "67f9e2b8415081db",
   "outputs": [],
   "execution_count": null
  },
  {
   "metadata": {},
   "cell_type": "code",
   "source": "",
   "id": "723fa084470f8354",
   "outputs": [],
   "execution_count": null
  }
 ],
 "metadata": {
  "kernelspec": {
   "display_name": "Python 3",
   "language": "python",
   "name": "python3"
  },
  "language_info": {
   "codemirror_mode": {
    "name": "ipython",
    "version": 2
   },
   "file_extension": ".py",
   "mimetype": "text/x-python",
   "name": "python",
   "nbconvert_exporter": "python",
   "pygments_lexer": "ipython2",
   "version": "2.7.6"
  }
 },
 "nbformat": 4,
 "nbformat_minor": 5
}
