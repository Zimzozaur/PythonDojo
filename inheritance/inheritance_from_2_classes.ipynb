{
 "cells": [
  {
   "metadata": {
    "ExecuteTime": {
     "end_time": "2024-08-17T06:54:32.754474Z",
     "start_time": "2024-08-17T06:54:32.749771Z"
    }
   },
   "cell_type": "code",
   "source": [
    "class A:\n",
    "    def __init__(self):\n",
    "        print(\"A's __init__\")\n",
    "\n",
    "class B(A):\n",
    "    def __init__(self):\n",
    "        print(\"B's __init__\")\n",
    "        super().__init__()\n",
    "\n",
    "class C(A):\n",
    "    def __init__(self):\n",
    "        print(\"C's __init__\")\n",
    "        super().__init__()\n",
    "\n",
    "class Litestar(B, C):\n",
    "    def __init__(self):\n",
    "        print(\"Litestar's __init__\")\n",
    "        super().__init__()"
   ],
   "id": "c5f4b3b26c4e9b80",
   "outputs": [],
   "execution_count": 1
  },
  {
   "metadata": {
    "ExecuteTime": {
     "end_time": "2024-08-17T06:54:40.856219Z",
     "start_time": "2024-08-17T06:54:40.852222Z"
    }
   },
   "cell_type": "code",
   "source": "l = Litestar()",
   "id": "c0da9f67dc26daa3",
   "outputs": [
    {
     "name": "stdout",
     "output_type": "stream",
     "text": [
      "Litestar's __init__\n",
      "B's __init__\n",
      "C's __init__\n",
      "A's __init__\n"
     ]
    }
   ],
   "execution_count": 2
  },
  {
   "metadata": {},
   "cell_type": "code",
   "outputs": [],
   "execution_count": null,
   "source": "",
   "id": "acb47b922881c61a"
  }
 ],
 "metadata": {
  "kernelspec": {
   "display_name": "Python 3",
   "language": "python",
   "name": "python3"
  },
  "language_info": {
   "codemirror_mode": {
    "name": "ipython",
    "version": 2
   },
   "file_extension": ".py",
   "mimetype": "text/x-python",
   "name": "python",
   "nbconvert_exporter": "python",
   "pygments_lexer": "ipython2",
   "version": "2.7.6"
  }
 },
 "nbformat": 4,
 "nbformat_minor": 5
}
