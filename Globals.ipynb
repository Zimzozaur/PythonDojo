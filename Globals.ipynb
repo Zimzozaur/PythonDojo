{
 "cells": [
  {
   "cell_type": "code",
   "id": "initial_id",
   "metadata": {
    "collapsed": true,
    "ExecuteTime": {
     "end_time": "2024-05-17T11:31:37.758846Z",
     "start_time": "2024-05-17T11:31:37.756060Z"
    }
   },
   "source": [
    "# import math\n",
    "g = globals()"
   ],
   "execution_count": 138,
   "outputs": []
  },
  {
   "metadata": {
    "ExecuteTime": {
     "end_time": "2024-05-17T11:31:37.883278Z",
     "start_time": "2024-05-17T11:31:37.879219Z"
    }
   },
   "cell_type": "code",
   "source": "g['math'].sqrt(4)",
   "id": "f0307afe57f9e4ae",
   "execution_count": 139,
   "outputs": []
  },
  {
   "metadata": {
    "ExecuteTime": {
     "end_time": "2024-05-17T11:31:37.895437Z",
     "start_time": "2024-05-17T11:31:37.892644Z"
    }
   },
   "cell_type": "code",
   "source": "import sys",
   "id": "85d120501ecaa049",
   "execution_count": 140,
   "outputs": []
  },
  {
   "metadata": {
    "ExecuteTime": {
     "end_time": "2024-05-17T11:31:37.913093Z",
     "start_time": "2024-05-17T11:31:37.899662Z"
    }
   },
   "cell_type": "code",
   "source": [
    "for key in sorted(sys.modules.keys()):\n",
    "    print(key)"
   ],
   "id": "6d3dcae6164f1c",
   "execution_count": 141,
   "outputs": []
  },
  {
   "metadata": {
    "ExecuteTime": {
     "end_time": "2024-05-17T11:31:37.919692Z",
     "start_time": "2024-05-17T11:31:37.914928Z"
    }
   },
   "cell_type": "code",
   "source": "help(sys.modules['jedi'])",
   "id": "8992c515874e8b36",
   "execution_count": 142,
   "outputs": []
  },
  {
   "metadata": {
    "ExecuteTime": {
     "end_time": "2024-05-17T11:31:37.938449Z",
     "start_time": "2024-05-17T11:31:37.935399Z"
    }
   },
   "cell_type": "code",
   "source": "datetime = sys.modules['datetime']",
   "id": "cbbeecaf4247084c",
   "execution_count": 143,
   "outputs": []
  },
  {
   "metadata": {
    "ExecuteTime": {
     "end_time": "2024-05-17T11:31:37.953107Z",
     "start_time": "2024-05-17T11:31:37.948310Z"
    }
   },
   "cell_type": "code",
   "source": "datetime.datetime.now()",
   "id": "1291a8dd160f9291",
   "execution_count": 144,
   "outputs": []
  },
  {
   "metadata": {
    "ExecuteTime": {
     "end_time": "2024-05-17T11:31:37.967430Z",
     "start_time": "2024-05-17T11:31:37.962637Z"
    }
   },
   "cell_type": "code",
   "source": "'cmath' in sys.modules",
   "id": "8ed05812a98b53bc",
   "execution_count": 145,
   "outputs": []
  },
  {
   "metadata": {
    "ExecuteTime": {
     "end_time": "2024-05-17T11:31:37.994703Z",
     "start_time": "2024-05-17T11:31:37.989885Z"
    }
   },
   "cell_type": "code",
   "source": "'cmath' in globals()",
   "id": "af2dc19928f3d739",
   "execution_count": 146,
   "outputs": []
  },
  {
   "metadata": {
    "ExecuteTime": {
     "end_time": "2024-05-17T11:31:38.013610Z",
     "start_time": "2024-05-17T11:31:38.011181Z"
    }
   },
   "cell_type": "code",
   "source": "from cmath import exp",
   "id": "900cde8c77ab6c97",
   "execution_count": 147,
   "outputs": []
  },
  {
   "metadata": {
    "ExecuteTime": {
     "end_time": "2024-05-17T11:31:38.059793Z",
     "start_time": "2024-05-17T11:31:38.055587Z"
    }
   },
   "cell_type": "code",
   "source": "'cmath' in globals()",
   "id": "d633903c28ae83b0",
   "execution_count": 148,
   "outputs": []
  },
  {
   "metadata": {
    "ExecuteTime": {
     "end_time": "2024-05-17T11:31:38.075487Z",
     "start_time": "2024-05-17T11:31:38.071689Z"
    }
   },
   "cell_type": "code",
   "source": "'exp' in globals()",
   "id": "e20f6b746229ac4",
   "execution_count": 149,
   "outputs": []
  },
  {
   "metadata": {
    "ExecuteTime": {
     "end_time": "2024-05-17T11:31:38.092331Z",
     "start_time": "2024-05-17T11:31:38.087574Z"
    }
   },
   "cell_type": "code",
   "source": "exp",
   "id": "43f0157a7f3c1927",
   "execution_count": 150,
   "outputs": []
  },
  {
   "metadata": {
    "ExecuteTime": {
     "end_time": "2024-05-17T11:31:38.123632Z",
     "start_time": "2024-05-17T11:31:38.118110Z"
    }
   },
   "cell_type": "code",
   "source": "'cmath' in sys.modules",
   "id": "f78f128adaee7619",
   "execution_count": 151,
   "outputs": []
  },
  {
   "metadata": {
    "ExecuteTime": {
     "end_time": "2024-05-17T11:31:38.137640Z",
     "start_time": "2024-05-17T11:31:38.132582Z"
    }
   },
   "cell_type": "code",
   "source": "exp(2+2j)",
   "id": "43f7cd53a7246e56",
   "execution_count": 152,
   "outputs": []
  },
  {
   "metadata": {
    "ExecuteTime": {
     "end_time": "2024-05-17T11:31:38.165808Z",
     "start_time": "2024-05-17T11:31:38.162430Z"
    }
   },
   "cell_type": "code",
   "source": [
    "from time import perf_counter\n",
    "from collections import namedtuple"
   ],
   "id": "d99e95ea6d5c0ff5",
   "execution_count": 153,
   "outputs": []
  },
  {
   "metadata": {
    "ExecuteTime": {
     "end_time": "2024-05-17T11:31:38.215445Z",
     "start_time": "2024-05-17T11:31:38.212347Z"
    }
   },
   "cell_type": "code",
   "source": "Timings = namedtuple('Timings', 'timing_1 timing_2 abs_diff rel_diff_perc')",
   "id": "b29292c9f02d9cd",
   "execution_count": 154,
   "outputs": []
  },
  {
   "metadata": {
    "ExecuteTime": {
     "end_time": "2024-05-17T11:31:38.258945Z",
     "start_time": "2024-05-17T11:31:38.255417Z"
    }
   },
   "cell_type": "code",
   "source": [
    "def compare_timings(timing1, timing2):\n",
    "    rel_diff = (timing2 - timing1) / timing1 * 100\n",
    "    timings = Timings(\n",
    "        round(timing1, 1),\n",
    "        round(timing2, 1),\n",
    "        round(timing2 - timing1, 1),\n",
    "        round(rel_diff, 2)\n",
    "    )\n",
    "    return timings"
   ],
   "id": "a5a57995673f9ccd",
   "execution_count": 155,
   "outputs": []
  },
  {
   "metadata": {
    "ExecuteTime": {
     "end_time": "2024-05-17T11:31:38.275410Z",
     "start_time": "2024-05-17T11:31:38.272729Z"
    }
   },
   "cell_type": "code",
   "source": "test_repeats = 10**6",
   "id": "795be54330b6e47a",
   "execution_count": 156,
   "outputs": []
  },
  {
   "metadata": {},
   "cell_type": "markdown",
   "source": "#### Timing using fully qualified module.symbol",
   "id": "bbe2e722e1bc5443"
  },
  {
   "metadata": {
    "ExecuteTime": {
     "end_time": "2024-05-17T11:31:38.429957Z",
     "start_time": "2024-05-17T11:31:38.294534Z"
    }
   },
   "cell_type": "code",
   "source": [
    "import math\n",
    "start = perf_counter()\n",
    "for _ in range(test_repeats):\n",
    "    math.sqrt(2)\n",
    "end = perf_counter()\n",
    "elapsed_fully_qualified = end - start\n",
    "print(f'Elapsed: {elapsed_fully_qualified}')"
   ],
   "id": "5c8c7b892ce59848",
   "execution_count": 157,
   "outputs": []
  },
  {
   "metadata": {},
   "cell_type": "markdown",
   "source": "#### Timing using a directly import symbol name",
   "id": "ec5fe452f0b1f898"
  },
  {
   "metadata": {
    "ExecuteTime": {
     "end_time": "2024-05-17T11:31:38.539331Z",
     "start_time": "2024-05-17T11:31:38.431303Z"
    }
   },
   "cell_type": "code",
   "source": [
    "from math import sqrt\n",
    "start = perf_counter()\n",
    "for _ in range(test_repeats):\n",
    "    sqrt(2)\n",
    "end = perf_counter()\n",
    "elapsed_direct_symbol = end - start\n",
    "print(f'Elapsed: {elapsed_direct_symbol}')"
   ],
   "id": "3e66c01d3086bd21",
   "execution_count": 158,
   "outputs": []
  },
  {
   "metadata": {
    "ExecuteTime": {
     "end_time": "2024-05-17T11:31:38.544490Z",
     "start_time": "2024-05-17T11:31:38.540564Z"
    }
   },
   "cell_type": "code",
   "source": "compare_timings(elapsed_fully_qualified, elapsed_direct_symbol)",
   "id": "c016d80d5beb2d0b",
   "execution_count": 159,
   "outputs": []
  },
  {
   "metadata": {},
   "cell_type": "markdown",
   "source": "#### Timing using a function wrapper (fully qualified symbol)",
   "id": "3889fe15edbd24aa"
  },
  {
   "metadata": {
    "ExecuteTime": {
     "end_time": "2024-05-17T11:31:38.702613Z",
     "start_time": "2024-05-17T11:31:38.546433Z"
    }
   },
   "cell_type": "code",
   "source": [
    "import math\n",
    "def func():\n",
    "    math.sqrt(2)\n",
    "\n",
    "start = perf_counter()\n",
    "for _ in range(test_repeats):\n",
    "    func()\n",
    "end = perf_counter()\n",
    "elapsed_func_fully_qualified = end - start\n",
    "print(f'Elapsed: {elapsed_func_fully_qualified}')"
   ],
   "id": "bba454b09e4b116d",
   "execution_count": 160,
   "outputs": []
  },
  {
   "metadata": {
    "ExecuteTime": {
     "end_time": "2024-05-17T11:31:38.874701Z",
     "start_time": "2024-05-17T11:31:38.703839Z"
    }
   },
   "cell_type": "code",
   "source": [
    "from math import sqrt\n",
    "def func():\n",
    "    sqrt(2)\n",
    "\n",
    "start = perf_counter()\n",
    "for _ in range(test_repeats):\n",
    "    func()\n",
    "end = perf_counter()\n",
    "elapsed_func_direct_symbol = end - start\n",
    "print(f'Elapsed: {elapsed_func_direct_symbol}')"
   ],
   "id": "6cc781f117e2eb61",
   "execution_count": 161,
   "outputs": []
  },
  {
   "metadata": {
    "ExecuteTime": {
     "end_time": "2024-05-17T11:31:38.880115Z",
     "start_time": "2024-05-17T11:31:38.875846Z"
    }
   },
   "cell_type": "code",
   "source": "compare_timings(elapsed_func_fully_qualified, elapsed_func_direct_symbol)",
   "id": "d1f3db2636906e37",
   "execution_count": 162,
   "outputs": []
  },
  {
   "metadata": {},
   "cell_type": "markdown",
   "source": "### Nested Imports",
   "id": "4bf8fedd4b142edc"
  },
  {
   "metadata": {
    "ExecuteTime": {
     "end_time": "2024-05-17T11:31:39.155403Z",
     "start_time": "2024-05-17T11:31:38.881367Z"
    }
   },
   "cell_type": "code",
   "source": [
    "def func():\n",
    "    import math\n",
    "    math.sqrt(2)\n",
    "\n",
    "start = perf_counter()\n",
    "for _ in range(test_repeats):\n",
    "    func()\n",
    "end = perf_counter()\n",
    "elapsed_nested_fully_qualified = end - start\n",
    "print(f'Elapsed: {elapsed_nested_fully_qualified}')\n",
    "compare_timings(elapsed_func_fully_qualified, elapsed_nested_fully_qualified)"
   ],
   "id": "5d5b2555f5626bbd",
   "execution_count": 163,
   "outputs": []
  },
  {
   "metadata": {
    "ExecuteTime": {
     "end_time": "2024-05-17T11:31:39.496404Z",
     "start_time": "2024-05-17T11:31:39.156791Z"
    }
   },
   "cell_type": "code",
   "source": [
    "def func():\n",
    "    from math import sqrt\n",
    "    sqrt(2)\n",
    "\n",
    "start = perf_counter()\n",
    "for _ in range(test_repeats):\n",
    "    func()\n",
    "end = perf_counter()\n",
    "elapsed_nested_direct_symbol = end - start\n",
    "print(f'Elapsed: {elapsed_nested_direct_symbol}')\n",
    "compare_timings(elapsed_func_direct_symbol, elapsed_nested_direct_symbol)"
   ],
   "id": "8a5d2d871c9ae494",
   "execution_count": 164,
   "outputs": []
  },
  {
   "metadata": {
    "ExecuteTime": {
     "end_time": "2024-05-17T11:31:39.498808Z",
     "start_time": "2024-05-17T11:31:39.497276Z"
    }
   },
   "cell_type": "code",
   "source": "",
   "id": "743223bd6a3c02c1",
   "execution_count": 164,
   "outputs": []
  },
  {
   "metadata": {
    "ExecuteTime": {
     "end_time": "2024-05-17T11:31:39.502365Z",
     "start_time": "2024-05-17T11:31:39.500493Z"
    }
   },
   "cell_type": "code",
   "source": "",
   "id": "bcc88635304b7143",
   "execution_count": 164,
   "outputs": []
  },
  {
   "metadata": {
    "ExecuteTime": {
     "end_time": "2024-05-17T11:31:39.505321Z",
     "start_time": "2024-05-17T11:31:39.503437Z"
    }
   },
   "cell_type": "code",
   "source": "",
   "id": "e7ac308ff3ee87ef",
   "execution_count": 164,
   "outputs": []
  }
 ],
 "metadata": {
  "kernelspec": {
   "display_name": "Python 3",
   "language": "python",
   "name": "python3"
  },
  "language_info": {
   "codemirror_mode": {
    "name": "ipython",
    "version": 2
   },
   "file_extension": ".py",
   "mimetype": "text/x-python",
   "name": "python",
   "nbconvert_exporter": "python",
   "pygments_lexer": "ipython2",
   "version": "2.7.6"
  }
 },
 "nbformat": 4,
 "nbformat_minor": 5
}
