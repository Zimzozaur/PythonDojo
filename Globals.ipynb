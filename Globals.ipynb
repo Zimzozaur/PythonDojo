{
 "cells": [
  {
   "cell_type": "code",
   "id": "initial_id",
   "metadata": {
    "collapsed": true,
    "ExecuteTime": {
     "end_time": "2024-05-17T11:31:37.758846Z",
     "start_time": "2024-05-17T11:31:37.756060Z"
    }
   },
   "source": [
    "# import math\n",
    "g = globals()"
   ],
   "outputs": [],
   "execution_count": 138
  },
  {
   "metadata": {
    "ExecuteTime": {
     "end_time": "2024-05-17T11:31:37.883278Z",
     "start_time": "2024-05-17T11:31:37.879219Z"
    }
   },
   "cell_type": "code",
   "source": "g['math'].sqrt(4)",
   "id": "f0307afe57f9e4ae",
   "outputs": [
    {
     "data": {
      "text/plain": [
       "2.0"
      ]
     },
     "execution_count": 139,
     "metadata": {},
     "output_type": "execute_result"
    }
   ],
   "execution_count": 139
  },
  {
   "metadata": {
    "ExecuteTime": {
     "end_time": "2024-05-17T11:31:37.895437Z",
     "start_time": "2024-05-17T11:31:37.892644Z"
    }
   },
   "cell_type": "code",
   "source": "import sys",
   "id": "85d120501ecaa049",
   "outputs": [],
   "execution_count": 140
  },
  {
   "metadata": {
    "ExecuteTime": {
     "end_time": "2024-05-17T11:31:37.913093Z",
     "start_time": "2024-05-17T11:31:37.899662Z"
    }
   },
   "cell_type": "code",
   "source": [
    "for key in sorted(sys.modules.keys()):\n",
    "    print(key)"
   ],
   "id": "6d3dcae6164f1c",
   "outputs": [
    {
     "name": "stdout",
     "output_type": "stream",
     "text": [
      "IPython\n",
      "IPython.core\n",
      "IPython.core.alias\n",
      "IPython.core.application\n",
      "IPython.core.async_helpers\n",
      "IPython.core.autocall\n",
      "IPython.core.builtin_trap\n",
      "IPython.core.compilerop\n",
      "IPython.core.completer\n",
      "IPython.core.completerlib\n",
      "IPython.core.crashhandler\n",
      "IPython.core.debugger\n",
      "IPython.core.display\n",
      "IPython.core.display_functions\n",
      "IPython.core.display_trap\n",
      "IPython.core.displayhook\n",
      "IPython.core.displaypub\n",
      "IPython.core.error\n",
      "IPython.core.events\n",
      "IPython.core.excolors\n",
      "IPython.core.extensions\n",
      "IPython.core.formatters\n",
      "IPython.core.getipython\n",
      "IPython.core.guarded_eval\n",
      "IPython.core.history\n",
      "IPython.core.hooks\n",
      "IPython.core.inputtransformer2\n",
      "IPython.core.interactiveshell\n",
      "IPython.core.latex_symbols\n",
      "IPython.core.logger\n",
      "IPython.core.macro\n",
      "IPython.core.magic\n",
      "IPython.core.magic_arguments\n",
      "IPython.core.magics\n",
      "IPython.core.magics.ast_mod\n",
      "IPython.core.magics.auto\n",
      "IPython.core.magics.basic\n",
      "IPython.core.magics.code\n",
      "IPython.core.magics.config\n",
      "IPython.core.magics.display\n",
      "IPython.core.magics.execution\n",
      "IPython.core.magics.extension\n",
      "IPython.core.magics.history\n",
      "IPython.core.magics.logging\n",
      "IPython.core.magics.namespace\n",
      "IPython.core.magics.osm\n",
      "IPython.core.magics.packaging\n",
      "IPython.core.magics.pylab\n",
      "IPython.core.magics.script\n",
      "IPython.core.oinspect\n",
      "IPython.core.page\n",
      "IPython.core.payload\n",
      "IPython.core.payloadpage\n",
      "IPython.core.prefilter\n",
      "IPython.core.profiledir\n",
      "IPython.core.release\n",
      "IPython.core.shellapp\n",
      "IPython.core.splitinput\n",
      "IPython.core.ultratb\n",
      "IPython.core.usage\n",
      "IPython.display\n",
      "IPython.extensions\n",
      "IPython.extensions.storemagic\n",
      "IPython.lib\n",
      "IPython.lib.clipboard\n",
      "IPython.lib.display\n",
      "IPython.lib.pretty\n",
      "IPython.paths\n",
      "IPython.terminal\n",
      "IPython.terminal.debugger\n",
      "IPython.terminal.embed\n",
      "IPython.terminal.interactiveshell\n",
      "IPython.terminal.ipapp\n",
      "IPython.terminal.magics\n",
      "IPython.terminal.prompts\n",
      "IPython.terminal.pt_inputhooks\n",
      "IPython.terminal.ptutils\n",
      "IPython.terminal.shortcuts\n",
      "IPython.terminal.shortcuts.auto_match\n",
      "IPython.terminal.shortcuts.auto_suggest\n",
      "IPython.terminal.shortcuts.filters\n",
      "IPython.testing\n",
      "IPython.testing.skipdoctest\n",
      "IPython.utils\n",
      "IPython.utils.PyColorize\n",
      "IPython.utils._process_common\n",
      "IPython.utils._process_posix\n",
      "IPython.utils._sysinfo\n",
      "IPython.utils.capture\n",
      "IPython.utils.colorable\n",
      "IPython.utils.coloransi\n",
      "IPython.utils.contexts\n",
      "IPython.utils.data\n",
      "IPython.utils.decorators\n",
      "IPython.utils.dir2\n",
      "IPython.utils.docs\n",
      "IPython.utils.encoding\n",
      "IPython.utils.frame\n",
      "IPython.utils.generics\n",
      "IPython.utils.importstring\n",
      "IPython.utils.io\n",
      "IPython.utils.ipstruct\n",
      "IPython.utils.module_paths\n",
      "IPython.utils.openpy\n",
      "IPython.utils.path\n",
      "IPython.utils.process\n",
      "IPython.utils.py3compat\n",
      "IPython.utils.sentinel\n",
      "IPython.utils.strdispatch\n",
      "IPython.utils.sysinfo\n",
      "IPython.utils.syspathcontext\n",
      "IPython.utils.terminal\n",
      "IPython.utils.text\n",
      "IPython.utils.timing\n",
      "IPython.utils.tokenutil\n",
      "IPython.utils.wildcard\n",
      "__future__\n",
      "__main__\n",
      "_abc\n",
      "_ast\n",
      "_asyncio\n",
      "_bisect\n",
      "_blake2\n",
      "_bz2\n",
      "_codecs\n",
      "_collections\n",
      "_collections_abc\n",
      "_compat_pickle\n",
      "_compression\n",
      "_contextvars\n",
      "_csv\n",
      "_ctypes\n",
      "_curses\n",
      "_cython_3_0_10\n",
      "_datetime\n",
      "_decimal\n",
      "_frozen_importlib\n",
      "_frozen_importlib_external\n",
      "_functools\n",
      "_hashlib\n",
      "_heapq\n",
      "_imp\n",
      "_io\n",
      "_json\n",
      "_locale\n",
      "_lsprof\n",
      "_lzma\n",
      "_opcode\n",
      "_operator\n",
      "_pickle\n",
      "_posixsubprocess\n",
      "_pydev_bundle\n",
      "_pydev_bundle._pydev_filesystem_encoding\n",
      "_pydev_bundle.pydev_imports\n",
      "_pydev_bundle.pydev_log\n",
      "_pydev_imps\n",
      "_pydev_imps._pydev_saved_modules\n",
      "_pydevd_bundle\n",
      "_pydevd_bundle.pydevd_asyncio_provider\n",
      "_pydevd_bundle.pydevd_comm_constants\n",
      "_pydevd_bundle.pydevd_constants\n",
      "_pydevd_bundle.pydevd_custom_frames\n",
      "_pydevd_bundle.pydevd_exec2\n",
      "_pydevd_bundle.pydevd_extension_api\n",
      "_pydevd_bundle.pydevd_extension_utils\n",
      "_pydevd_bundle.pydevd_frame_type_handler\n",
      "_pydevd_bundle.pydevd_repr_utils\n",
      "_pydevd_bundle.pydevd_resolver\n",
      "_pydevd_bundle.pydevd_save_locals\n",
      "_pydevd_bundle.pydevd_tables\n",
      "_pydevd_bundle.pydevd_user_type_renderers\n",
      "_pydevd_bundle.pydevd_user_type_renderers_utils\n",
      "_pydevd_bundle.pydevd_utils\n",
      "_pydevd_bundle.pydevd_vars\n",
      "_pydevd_bundle.pydevd_vm_type\n",
      "_pydevd_bundle.pydevd_xml\n",
      "_queue\n",
      "_random\n",
      "_sha2\n",
      "_signal\n",
      "_sitebuiltins\n",
      "_socket\n",
      "_sqlite3\n",
      "_sre\n",
      "_ssl\n",
      "_stat\n",
      "_string\n",
      "_strptime\n",
      "_struct\n",
      "_sysconfigdata__linux_x86_64-linux-gnu\n",
      "_thread\n",
      "_tokenize\n",
      "_typing\n",
      "_uuid\n",
      "_virtualenv\n",
      "_warnings\n",
      "_weakref\n",
      "_weakrefset\n",
      "abc\n",
      "argparse\n",
      "array\n",
      "ast\n",
      "asttokens\n",
      "asttokens.asttokens\n",
      "asttokens.line_numbers\n",
      "asttokens.util\n",
      "asyncio\n",
      "asyncio.base_events\n",
      "asyncio.base_futures\n",
      "asyncio.base_subprocess\n",
      "asyncio.base_tasks\n",
      "asyncio.constants\n",
      "asyncio.coroutines\n",
      "asyncio.events\n",
      "asyncio.exceptions\n",
      "asyncio.format_helpers\n",
      "asyncio.futures\n",
      "asyncio.locks\n",
      "asyncio.log\n",
      "asyncio.mixins\n",
      "asyncio.protocols\n",
      "asyncio.queues\n",
      "asyncio.runners\n",
      "asyncio.selector_events\n",
      "asyncio.sslproto\n",
      "asyncio.staggered\n",
      "asyncio.streams\n",
      "asyncio.subprocess\n",
      "asyncio.taskgroups\n",
      "asyncio.tasks\n",
      "asyncio.threads\n",
      "asyncio.timeouts\n",
      "asyncio.transports\n",
      "asyncio.trsock\n",
      "asyncio.unix_events\n",
      "atexit\n",
      "base64\n",
      "bdb\n",
      "binascii\n",
      "bisect\n",
      "builtins\n",
      "bz2\n",
      "cProfile\n",
      "calendar\n",
      "cmath\n",
      "cmd\n",
      "code\n",
      "codecs\n",
      "codeop\n",
      "collections\n",
      "collections.abc\n",
      "colorsys\n",
      "comm\n",
      "comm.base_comm\n",
      "concurrent\n",
      "concurrent.futures\n",
      "concurrent.futures._base\n",
      "concurrent.futures.thread\n",
      "configparser\n",
      "contextlib\n",
      "contextvars\n",
      "copy\n",
      "copyreg\n",
      "csv\n",
      "ctypes\n",
      "ctypes._endian\n",
      "curses\n",
      "cython_runtime\n",
      "dataclasses\n",
      "datetime\n",
      "dateutil\n",
      "dateutil._common\n",
      "dateutil._version\n",
      "dateutil.parser\n",
      "dateutil.parser._parser\n",
      "dateutil.parser.isoparser\n",
      "dateutil.relativedelta\n",
      "dateutil.tz\n",
      "dateutil.tz._common\n",
      "dateutil.tz._factories\n",
      "dateutil.tz.tz\n",
      "debugpy\n",
      "debugpy._vendored\n",
      "debugpy._vendored._util\n",
      "debugpy._vendored.force_pydevd\n",
      "debugpy._version\n",
      "debugpy.adapter\n",
      "debugpy.common\n",
      "debugpy.common.json\n",
      "debugpy.common.log\n",
      "debugpy.common.sockets\n",
      "debugpy.common.timestamp\n",
      "debugpy.common.util\n",
      "debugpy.public_api\n",
      "debugpy.server\n",
      "debugpy.server.api\n",
      "decimal\n",
      "decorator\n",
      "difflib\n",
      "dis\n",
      "email\n",
      "email._encoded_words\n",
      "email._parseaddr\n",
      "email._policybase\n",
      "email.base64mime\n",
      "email.charset\n",
      "email.encoders\n",
      "email.errors\n",
      "email.feedparser\n",
      "email.header\n",
      "email.iterators\n",
      "email.message\n",
      "email.parser\n",
      "email.quoprimime\n",
      "email.utils\n",
      "encodings\n",
      "encodings.aliases\n",
      "encodings.ascii\n",
      "encodings.idna\n",
      "encodings.latin_1\n",
      "encodings.utf_8\n",
      "enum\n",
      "errno\n",
      "executing\n",
      "executing._exceptions\n",
      "executing._position_node_finder\n",
      "executing.executing\n",
      "executing.version\n",
      "faulthandler\n",
      "fcntl\n",
      "filecmp\n",
      "fnmatch\n",
      "fractions\n",
      "functools\n",
      "gc\n",
      "genericpath\n",
      "getopt\n",
      "getpass\n",
      "gettext\n",
      "glob\n",
      "gzip\n",
      "hashlib\n",
      "heapq\n",
      "hmac\n",
      "html\n",
      "html.entities\n",
      "http\n",
      "http.client\n",
      "http.server\n",
      "importlib\n",
      "importlib._abc\n",
      "importlib._bootstrap\n",
      "importlib._bootstrap_external\n",
      "importlib.abc\n",
      "importlib.machinery\n",
      "importlib.metadata\n",
      "importlib.metadata._adapters\n",
      "importlib.metadata._collections\n",
      "importlib.metadata._functools\n",
      "importlib.metadata._itertools\n",
      "importlib.metadata._meta\n",
      "importlib.metadata._text\n",
      "importlib.resources\n",
      "importlib.resources._adapters\n",
      "importlib.resources._common\n",
      "importlib.resources._legacy\n",
      "importlib.resources.abc\n",
      "importlib.util\n",
      "inspect\n",
      "io\n",
      "ipaddress\n",
      "ipykernel\n",
      "ipykernel._version\n",
      "ipykernel.comm\n",
      "ipykernel.comm.comm\n",
      "ipykernel.comm.manager\n",
      "ipykernel.compiler\n",
      "ipykernel.connect\n",
      "ipykernel.control\n",
      "ipykernel.debugger\n",
      "ipykernel.displayhook\n",
      "ipykernel.eventloops\n",
      "ipykernel.heartbeat\n",
      "ipykernel.iostream\n",
      "ipykernel.ipkernel\n",
      "ipykernel.jsonutil\n",
      "ipykernel.kernelapp\n",
      "ipykernel.kernelbase\n",
      "ipykernel.parentpoller\n",
      "ipykernel.zmqshell\n",
      "itertools\n",
      "jedi\n",
      "jedi._compatibility\n",
      "jedi.api\n",
      "jedi.api.classes\n",
      "jedi.api.completion\n",
      "jedi.api.completion_cache\n",
      "jedi.api.environment\n",
      "jedi.api.errors\n",
      "jedi.api.exceptions\n",
      "jedi.api.file_name\n",
      "jedi.api.helpers\n",
      "jedi.api.interpreter\n",
      "jedi.api.keywords\n",
      "jedi.api.project\n",
      "jedi.api.refactoring\n",
      "jedi.api.refactoring.extract\n",
      "jedi.api.strings\n",
      "jedi.cache\n",
      "jedi.common\n",
      "jedi.debug\n",
      "jedi.file_io\n",
      "jedi.inference\n",
      "jedi.inference.analysis\n",
      "jedi.inference.arguments\n",
      "jedi.inference.base_value\n",
      "jedi.inference.cache\n",
      "jedi.inference.compiled\n",
      "jedi.inference.compiled.access\n",
      "jedi.inference.compiled.getattr_static\n",
      "jedi.inference.compiled.mixed\n",
      "jedi.inference.compiled.subprocess\n",
      "jedi.inference.compiled.subprocess.functions\n",
      "jedi.inference.compiled.value\n",
      "jedi.inference.context\n",
      "jedi.inference.docstring_utils\n",
      "jedi.inference.docstrings\n",
      "jedi.inference.filters\n",
      "jedi.inference.flow_analysis\n",
      "jedi.inference.gradual\n",
      "jedi.inference.gradual.annotation\n",
      "jedi.inference.gradual.base\n",
      "jedi.inference.gradual.conversion\n",
      "jedi.inference.gradual.generics\n",
      "jedi.inference.gradual.stub_value\n",
      "jedi.inference.gradual.type_var\n",
      "jedi.inference.gradual.typeshed\n",
      "jedi.inference.gradual.typing\n",
      "jedi.inference.gradual.utils\n",
      "jedi.inference.helpers\n",
      "jedi.inference.imports\n",
      "jedi.inference.lazy_value\n",
      "jedi.inference.names\n",
      "jedi.inference.param\n",
      "jedi.inference.parser_cache\n",
      "jedi.inference.recursion\n",
      "jedi.inference.references\n",
      "jedi.inference.signature\n",
      "jedi.inference.syntax_tree\n",
      "jedi.inference.sys_path\n",
      "jedi.inference.utils\n",
      "jedi.inference.value\n",
      "jedi.inference.value.decorator\n",
      "jedi.inference.value.dynamic_arrays\n",
      "jedi.inference.value.function\n",
      "jedi.inference.value.instance\n",
      "jedi.inference.value.iterable\n",
      "jedi.inference.value.klass\n",
      "jedi.inference.value.module\n",
      "jedi.inference.value.namespace\n",
      "jedi.parser_utils\n",
      "jedi.plugins\n",
      "jedi.plugins.django\n",
      "jedi.plugins.flask\n",
      "jedi.plugins.pytest\n",
      "jedi.plugins.registry\n",
      "jedi.plugins.stdlib\n",
      "jedi.settings\n",
      "json\n",
      "json.decoder\n",
      "json.encoder\n",
      "json.scanner\n",
      "jupyter_client\n",
      "jupyter_client._version\n",
      "jupyter_client.adapter\n",
      "jupyter_client.asynchronous\n",
      "jupyter_client.asynchronous.client\n",
      "jupyter_client.blocking\n",
      "jupyter_client.blocking.client\n",
      "jupyter_client.channels\n",
      "jupyter_client.channelsabc\n",
      "jupyter_client.client\n",
      "jupyter_client.clientabc\n",
      "jupyter_client.connect\n",
      "jupyter_client.jsonutil\n",
      "jupyter_client.kernelspec\n",
      "jupyter_client.launcher\n",
      "jupyter_client.localinterfaces\n",
      "jupyter_client.manager\n",
      "jupyter_client.managerabc\n",
      "jupyter_client.multikernelmanager\n",
      "jupyter_client.provisioning\n",
      "jupyter_client.provisioning.factory\n",
      "jupyter_client.provisioning.local_provisioner\n",
      "jupyter_client.provisioning.provisioner_base\n",
      "jupyter_client.session\n",
      "jupyter_client.utils\n",
      "jupyter_core\n",
      "jupyter_core.paths\n",
      "jupyter_core.utils\n",
      "jupyter_core.version\n",
      "keyword\n",
      "linecache\n",
      "locale\n",
      "logging\n",
      "logging.config\n",
      "logging.handlers\n",
      "lzma\n",
      "marshal\n",
      "math\n",
      "mimetypes\n",
      "ntpath\n",
      "numbers\n",
      "opcode\n",
      "operator\n",
      "os\n",
      "os.path\n",
      "packaging\n",
      "packaging._structures\n",
      "packaging.version\n",
      "parso\n",
      "parso._compatibility\n",
      "parso.cache\n",
      "parso.file_io\n",
      "parso.grammar\n",
      "parso.normalizer\n",
      "parso.parser\n",
      "parso.pgen2\n",
      "parso.pgen2.generator\n",
      "parso.pgen2.grammar_parser\n",
      "parso.python\n",
      "parso.python.diff\n",
      "parso.python.errors\n",
      "parso.python.parser\n",
      "parso.python.pep8\n",
      "parso.python.prefix\n",
      "parso.python.token\n",
      "parso.python.tokenize\n",
      "parso.python.tree\n",
      "parso.tree\n",
      "parso.utils\n",
      "pathlib\n",
      "pdb\n",
      "pickle\n",
      "pkgutil\n",
      "platform\n",
      "platformdirs\n",
      "platformdirs.api\n",
      "platformdirs.unix\n",
      "platformdirs.version\n",
      "posix\n",
      "posixpath\n",
      "pprint\n",
      "profile\n",
      "prompt_toolkit\n",
      "prompt_toolkit.application\n",
      "prompt_toolkit.application.application\n",
      "prompt_toolkit.application.current\n",
      "prompt_toolkit.application.dummy\n",
      "prompt_toolkit.application.run_in_terminal\n",
      "prompt_toolkit.auto_suggest\n",
      "prompt_toolkit.buffer\n",
      "prompt_toolkit.cache\n",
      "prompt_toolkit.clipboard\n",
      "prompt_toolkit.clipboard.base\n",
      "prompt_toolkit.clipboard.in_memory\n",
      "prompt_toolkit.completion\n",
      "prompt_toolkit.completion.base\n",
      "prompt_toolkit.completion.deduplicate\n",
      "prompt_toolkit.completion.filesystem\n",
      "prompt_toolkit.completion.fuzzy_completer\n",
      "prompt_toolkit.completion.nested\n",
      "prompt_toolkit.completion.word_completer\n",
      "prompt_toolkit.cursor_shapes\n",
      "prompt_toolkit.data_structures\n",
      "prompt_toolkit.document\n",
      "prompt_toolkit.enums\n",
      "prompt_toolkit.eventloop\n",
      "prompt_toolkit.eventloop.async_generator\n",
      "prompt_toolkit.eventloop.inputhook\n",
      "prompt_toolkit.eventloop.utils\n",
      "prompt_toolkit.filters\n",
      "prompt_toolkit.filters.app\n",
      "prompt_toolkit.filters.base\n",
      "prompt_toolkit.filters.cli\n",
      "prompt_toolkit.filters.utils\n",
      "prompt_toolkit.formatted_text\n",
      "prompt_toolkit.formatted_text.ansi\n",
      "prompt_toolkit.formatted_text.base\n",
      "prompt_toolkit.formatted_text.html\n",
      "prompt_toolkit.formatted_text.pygments\n",
      "prompt_toolkit.formatted_text.utils\n",
      "prompt_toolkit.history\n",
      "prompt_toolkit.input\n",
      "prompt_toolkit.input.ansi_escape_sequences\n",
      "prompt_toolkit.input.base\n",
      "prompt_toolkit.input.defaults\n",
      "prompt_toolkit.input.typeahead\n",
      "prompt_toolkit.input.vt100_parser\n",
      "prompt_toolkit.key_binding\n",
      "prompt_toolkit.key_binding.bindings\n",
      "prompt_toolkit.key_binding.bindings.auto_suggest\n",
      "prompt_toolkit.key_binding.bindings.basic\n",
      "prompt_toolkit.key_binding.bindings.completion\n",
      "prompt_toolkit.key_binding.bindings.cpr\n",
      "prompt_toolkit.key_binding.bindings.emacs\n",
      "prompt_toolkit.key_binding.bindings.focus\n",
      "prompt_toolkit.key_binding.bindings.mouse\n",
      "prompt_toolkit.key_binding.bindings.named_commands\n",
      "prompt_toolkit.key_binding.bindings.open_in_editor\n",
      "prompt_toolkit.key_binding.bindings.page_navigation\n",
      "prompt_toolkit.key_binding.bindings.scroll\n",
      "prompt_toolkit.key_binding.bindings.vi\n",
      "prompt_toolkit.key_binding.defaults\n",
      "prompt_toolkit.key_binding.digraphs\n",
      "prompt_toolkit.key_binding.emacs_state\n",
      "prompt_toolkit.key_binding.key_bindings\n",
      "prompt_toolkit.key_binding.key_processor\n",
      "prompt_toolkit.key_binding.vi_state\n",
      "prompt_toolkit.keys\n",
      "prompt_toolkit.layout\n",
      "prompt_toolkit.layout.containers\n",
      "prompt_toolkit.layout.controls\n",
      "prompt_toolkit.layout.dimension\n",
      "prompt_toolkit.layout.dummy\n",
      "prompt_toolkit.layout.layout\n",
      "prompt_toolkit.layout.margins\n",
      "prompt_toolkit.layout.menus\n",
      "prompt_toolkit.layout.mouse_handlers\n",
      "prompt_toolkit.layout.processors\n",
      "prompt_toolkit.layout.screen\n",
      "prompt_toolkit.layout.scrollable_pane\n",
      "prompt_toolkit.layout.utils\n",
      "prompt_toolkit.lexers\n",
      "prompt_toolkit.lexers.base\n",
      "prompt_toolkit.lexers.pygments\n",
      "prompt_toolkit.mouse_events\n",
      "prompt_toolkit.output\n",
      "prompt_toolkit.output.base\n",
      "prompt_toolkit.output.color_depth\n",
      "prompt_toolkit.output.defaults\n",
      "prompt_toolkit.output.flush_stdout\n",
      "prompt_toolkit.output.plain_text\n",
      "prompt_toolkit.output.vt100\n",
      "prompt_toolkit.patch_stdout\n",
      "prompt_toolkit.renderer\n",
      "prompt_toolkit.search\n",
      "prompt_toolkit.selection\n",
      "prompt_toolkit.shortcuts\n",
      "prompt_toolkit.shortcuts.dialogs\n",
      "prompt_toolkit.shortcuts.progress_bar\n",
      "prompt_toolkit.shortcuts.progress_bar.base\n",
      "prompt_toolkit.shortcuts.progress_bar.formatters\n",
      "prompt_toolkit.shortcuts.prompt\n",
      "prompt_toolkit.shortcuts.utils\n",
      "prompt_toolkit.styles\n",
      "prompt_toolkit.styles.base\n",
      "prompt_toolkit.styles.defaults\n",
      "prompt_toolkit.styles.named_colors\n",
      "prompt_toolkit.styles.pygments\n",
      "prompt_toolkit.styles.style\n",
      "prompt_toolkit.styles.style_transformation\n",
      "prompt_toolkit.utils\n",
      "prompt_toolkit.validation\n",
      "prompt_toolkit.widgets\n",
      "prompt_toolkit.widgets.base\n",
      "prompt_toolkit.widgets.dialogs\n",
      "prompt_toolkit.widgets.menus\n",
      "prompt_toolkit.widgets.toolbars\n",
      "pstats\n",
      "psutil\n",
      "psutil._common\n",
      "psutil._compat\n",
      "psutil._pslinux\n",
      "psutil._psposix\n",
      "psutil._psutil_linux\n",
      "psutil._psutil_posix\n",
      "pure_eval\n",
      "pure_eval.core\n",
      "pure_eval.my_getattr_static\n",
      "pure_eval.utils\n",
      "pure_eval.version\n",
      "pwd\n",
      "pydev_jupyter_utils\n",
      "pydev_jupyter_vars\n",
      "pydevconsole\n",
      "pydevd_file_utils\n",
      "pydevd_plugins\n",
      "pydevd_plugins.extensions\n",
      "pydevd_plugins.extensions.types\n",
      "pydevd_plugins.extensions.types.pydevd_helpers\n",
      "pydevd_plugins.extensions.types.pydevd_plugin_numpy_types\n",
      "pydevd_plugins.extensions.types.pydevd_plugins_django_form_str\n",
      "pydoc\n",
      "pydoc_data\n",
      "pydoc_data.topics\n",
      "pyexpat\n",
      "pyexpat.errors\n",
      "pyexpat.model\n",
      "pygments\n",
      "pygments.console\n",
      "pygments.filter\n",
      "pygments.filters\n",
      "pygments.formatter\n",
      "pygments.formatters\n",
      "pygments.formatters._mapping\n",
      "pygments.formatters.html\n",
      "pygments.formatters.terminal256\n",
      "pygments.lexer\n",
      "pygments.lexers\n",
      "pygments.lexers._mapping\n",
      "pygments.lexers.python\n",
      "pygments.modeline\n",
      "pygments.plugin\n",
      "pygments.regexopt\n",
      "pygments.style\n",
      "pygments.styles\n",
      "pygments.styles._mapping\n",
      "pygments.styles.default\n",
      "pygments.token\n",
      "pygments.unistring\n",
      "pygments.util\n",
      "queue\n",
      "quopri\n",
      "random\n",
      "re\n",
      "re._casefix\n",
      "re._compiler\n",
      "re._constants\n",
      "re._parser\n",
      "reprlib\n",
      "resource\n",
      "runpy\n",
      "select\n",
      "selectors\n",
      "shlex\n",
      "shutil\n",
      "signal\n",
      "site\n",
      "six\n",
      "six.moves\n",
      "socket\n",
      "socketserver\n",
      "sqlite3\n",
      "sqlite3.dbapi2\n",
      "ssl\n",
      "stack_data\n",
      "stack_data.core\n",
      "stack_data.formatting\n",
      "stack_data.serializing\n",
      "stack_data.utils\n",
      "stack_data.version\n",
      "stat\n",
      "string\n",
      "stringprep\n",
      "struct\n",
      "subprocess\n",
      "sys\n",
      "sysconfig\n",
      "tempfile\n",
      "termios\n",
      "textwrap\n",
      "threading\n",
      "time\n",
      "timeit\n",
      "token\n",
      "tokenize\n",
      "tornado\n",
      "tornado.concurrent\n",
      "tornado.escape\n",
      "tornado.gen\n",
      "tornado.ioloop\n",
      "tornado.locks\n",
      "tornado.log\n",
      "tornado.platform\n",
      "tornado.platform.asyncio\n",
      "tornado.queues\n",
      "tornado.speedups\n",
      "tornado.util\n",
      "traceback\n",
      "traitlets\n",
      "traitlets._version\n",
      "traitlets.config\n",
      "traitlets.config.application\n",
      "traitlets.config.configurable\n",
      "traitlets.config.loader\n",
      "traitlets.log\n",
      "traitlets.traitlets\n",
      "traitlets.utils\n",
      "traitlets.utils.bunch\n",
      "traitlets.utils.decorators\n",
      "traitlets.utils.descriptions\n",
      "traitlets.utils.getargspec\n",
      "traitlets.utils.importstring\n",
      "traitlets.utils.nested_update\n",
      "traitlets.utils.sentinel\n",
      "traitlets.utils.text\n",
      "traitlets.utils.warnings\n",
      "types\n",
      "typing\n",
      "typing.io\n",
      "typing.re\n",
      "unicodedata\n",
      "urllib\n",
      "urllib.error\n",
      "urllib.parse\n",
      "urllib.request\n",
      "urllib.response\n",
      "uuid\n",
      "warnings\n",
      "wcwidth\n",
      "wcwidth.table_vs16\n",
      "wcwidth.table_wide\n",
      "wcwidth.table_zero\n",
      "wcwidth.unicode_versions\n",
      "wcwidth.wcwidth\n",
      "weakref\n",
      "xml\n",
      "xml.dom\n",
      "xml.dom.NodeFilter\n",
      "xml.dom.domreg\n",
      "xml.dom.minicompat\n",
      "xml.dom.minidom\n",
      "xml.dom.xmlbuilder\n",
      "xml.parsers\n",
      "xml.parsers.expat\n",
      "xml.parsers.expat.errors\n",
      "xml.parsers.expat.model\n",
      "xmlrpc\n",
      "xmlrpc.client\n",
      "xmlrpc.server\n",
      "zipfile\n",
      "zipfile._path\n",
      "zipfile._path.glob\n",
      "zipimport\n",
      "zlib\n",
      "zmq\n",
      "zmq._future\n",
      "zmq._typing\n",
      "zmq.asyncio\n",
      "zmq.backend\n",
      "zmq.backend.cython\n",
      "zmq.backend.cython._zmq\n",
      "zmq.backend.select\n",
      "zmq.constants\n",
      "zmq.error\n",
      "zmq.eventloop\n",
      "zmq.eventloop.zmqstream\n",
      "zmq.sugar\n",
      "zmq.sugar.attrsettr\n",
      "zmq.sugar.context\n",
      "zmq.sugar.frame\n",
      "zmq.sugar.poll\n",
      "zmq.sugar.socket\n",
      "zmq.sugar.stopwatch\n",
      "zmq.sugar.tracker\n",
      "zmq.sugar.version\n",
      "zmq.utils\n",
      "zmq.utils.interop\n",
      "zmq.utils.jsonapi\n"
     ]
    }
   ],
   "execution_count": 141
  },
  {
   "metadata": {
    "ExecuteTime": {
     "end_time": "2024-05-17T11:31:37.919692Z",
     "start_time": "2024-05-17T11:31:37.914928Z"
    }
   },
   "cell_type": "code",
   "source": "help(sys.modules['jedi'])",
   "id": "8992c515874e8b36",
   "outputs": [
    {
     "name": "stdout",
     "output_type": "stream",
     "text": [
      "Help on package jedi:\n",
      "\n",
      "NAME\n",
      "    jedi\n",
      "\n",
      "DESCRIPTION\n",
      "    Jedi is a static analysis tool for Python that is typically used in\n",
      "    IDEs/editors plugins. Jedi has a focus on autocompletion and goto\n",
      "    functionality. Other features include refactoring, code search and finding\n",
      "    references.\n",
      "\n",
      "    Jedi has a simple API to work with. There is a reference implementation as a\n",
      "    `VIM-Plugin <https://github.com/davidhalter/jedi-vim>`_. Autocompletion in your\n",
      "    REPL is also possible, IPython uses it natively and for the CPython REPL you\n",
      "    can install it. Jedi is well tested and bugs should be rare.\n",
      "\n",
      "    Here's a simple example of the autocompletion feature:\n",
      "\n",
      "    >>> import jedi\n",
      "    >>> source = '''\n",
      "    ... import json\n",
      "    ... json.lo'''\n",
      "    >>> script = jedi.Script(source, path='example.py')\n",
      "    >>> script\n",
      "    <Script: 'example.py' ...>\n",
      "    >>> completions = script.complete(3, len('json.lo'))\n",
      "    >>> completions\n",
      "    [<Completion: load>, <Completion: loads>]\n",
      "    >>> print(completions[0].complete)\n",
      "    ad\n",
      "    >>> print(completions[0].name)\n",
      "    load\n",
      "\n",
      "PACKAGE CONTENTS\n",
      "    __main__\n",
      "    _compatibility\n",
      "    api (package)\n",
      "    cache\n",
      "    common\n",
      "    debug\n",
      "    file_io\n",
      "    inference (package)\n",
      "    parser_utils\n",
      "    plugins (package)\n",
      "    settings\n",
      "    utils\n",
      "\n",
      "VERSION\n",
      "    0.19.1\n",
      "\n",
      "FILE\n",
      "    /home/bmo/a-venv/FredLab/lib/python3.12/site-packages/jedi/__init__.py\n",
      "\n",
      "\n"
     ]
    }
   ],
   "execution_count": 142
  },
  {
   "metadata": {
    "ExecuteTime": {
     "end_time": "2024-05-17T11:31:37.938449Z",
     "start_time": "2024-05-17T11:31:37.935399Z"
    }
   },
   "cell_type": "code",
   "source": "datetime = sys.modules['datetime']",
   "id": "cbbeecaf4247084c",
   "outputs": [],
   "execution_count": 143
  },
  {
   "metadata": {
    "ExecuteTime": {
     "end_time": "2024-05-17T11:31:37.953107Z",
     "start_time": "2024-05-17T11:31:37.948310Z"
    }
   },
   "cell_type": "code",
   "source": "datetime.datetime.now()",
   "id": "1291a8dd160f9291",
   "outputs": [
    {
     "data": {
      "text/plain": [
       "datetime.datetime(2024, 5, 17, 13, 31, 37, 949713)"
      ]
     },
     "execution_count": 144,
     "metadata": {},
     "output_type": "execute_result"
    }
   ],
   "execution_count": 144
  },
  {
   "metadata": {
    "ExecuteTime": {
     "end_time": "2024-05-17T11:31:37.967430Z",
     "start_time": "2024-05-17T11:31:37.962637Z"
    }
   },
   "cell_type": "code",
   "source": "'cmath' in sys.modules",
   "id": "8ed05812a98b53bc",
   "outputs": [
    {
     "data": {
      "text/plain": [
       "True"
      ]
     },
     "execution_count": 145,
     "metadata": {},
     "output_type": "execute_result"
    }
   ],
   "execution_count": 145
  },
  {
   "metadata": {
    "ExecuteTime": {
     "end_time": "2024-05-17T11:31:37.994703Z",
     "start_time": "2024-05-17T11:31:37.989885Z"
    }
   },
   "cell_type": "code",
   "source": "'cmath' in globals()",
   "id": "af2dc19928f3d739",
   "outputs": [
    {
     "data": {
      "text/plain": [
       "False"
      ]
     },
     "execution_count": 146,
     "metadata": {},
     "output_type": "execute_result"
    }
   ],
   "execution_count": 146
  },
  {
   "metadata": {
    "ExecuteTime": {
     "end_time": "2024-05-17T11:31:38.013610Z",
     "start_time": "2024-05-17T11:31:38.011181Z"
    }
   },
   "cell_type": "code",
   "source": "from cmath import exp",
   "id": "900cde8c77ab6c97",
   "outputs": [],
   "execution_count": 147
  },
  {
   "metadata": {
    "ExecuteTime": {
     "end_time": "2024-05-17T11:31:38.059793Z",
     "start_time": "2024-05-17T11:31:38.055587Z"
    }
   },
   "cell_type": "code",
   "source": "'cmath' in globals()",
   "id": "d633903c28ae83b0",
   "outputs": [
    {
     "data": {
      "text/plain": [
       "False"
      ]
     },
     "execution_count": 148,
     "metadata": {},
     "output_type": "execute_result"
    }
   ],
   "execution_count": 148
  },
  {
   "metadata": {
    "ExecuteTime": {
     "end_time": "2024-05-17T11:31:38.075487Z",
     "start_time": "2024-05-17T11:31:38.071689Z"
    }
   },
   "cell_type": "code",
   "source": "'exp' in globals()",
   "id": "e20f6b746229ac4",
   "outputs": [
    {
     "data": {
      "text/plain": [
       "True"
      ]
     },
     "execution_count": 149,
     "metadata": {},
     "output_type": "execute_result"
    }
   ],
   "execution_count": 149
  },
  {
   "metadata": {
    "ExecuteTime": {
     "end_time": "2024-05-17T11:31:38.092331Z",
     "start_time": "2024-05-17T11:31:38.087574Z"
    }
   },
   "cell_type": "code",
   "source": "exp",
   "id": "43f0157a7f3c1927",
   "outputs": [
    {
     "data": {
      "text/plain": [
       "<function cmath.exp(z, /)>"
      ]
     },
     "execution_count": 150,
     "metadata": {},
     "output_type": "execute_result"
    }
   ],
   "execution_count": 150
  },
  {
   "metadata": {
    "ExecuteTime": {
     "end_time": "2024-05-17T11:31:38.123632Z",
     "start_time": "2024-05-17T11:31:38.118110Z"
    }
   },
   "cell_type": "code",
   "source": "'cmath' in sys.modules",
   "id": "f78f128adaee7619",
   "outputs": [
    {
     "data": {
      "text/plain": [
       "True"
      ]
     },
     "execution_count": 151,
     "metadata": {},
     "output_type": "execute_result"
    }
   ],
   "execution_count": 151
  },
  {
   "metadata": {
    "ExecuteTime": {
     "end_time": "2024-05-17T11:31:38.137640Z",
     "start_time": "2024-05-17T11:31:38.132582Z"
    }
   },
   "cell_type": "code",
   "source": "exp(2+2j)",
   "id": "43f7cd53a7246e56",
   "outputs": [
    {
     "data": {
      "text/plain": [
       "(-3.074932320639359+6.71884969742825j)"
      ]
     },
     "execution_count": 152,
     "metadata": {},
     "output_type": "execute_result"
    }
   ],
   "execution_count": 152
  },
  {
   "metadata": {
    "ExecuteTime": {
     "end_time": "2024-05-17T11:31:38.165808Z",
     "start_time": "2024-05-17T11:31:38.162430Z"
    }
   },
   "cell_type": "code",
   "source": [
    "from time import perf_counter\n",
    "from collections import namedtuple"
   ],
   "id": "d99e95ea6d5c0ff5",
   "outputs": [],
   "execution_count": 153
  },
  {
   "metadata": {
    "ExecuteTime": {
     "end_time": "2024-05-17T11:31:38.215445Z",
     "start_time": "2024-05-17T11:31:38.212347Z"
    }
   },
   "cell_type": "code",
   "source": "Timings = namedtuple('Timings', 'timing_1 timing_2 abs_diff rel_diff_perc')",
   "id": "b29292c9f02d9cd",
   "outputs": [],
   "execution_count": 154
  },
  {
   "metadata": {
    "ExecuteTime": {
     "end_time": "2024-05-17T11:31:38.258945Z",
     "start_time": "2024-05-17T11:31:38.255417Z"
    }
   },
   "cell_type": "code",
   "source": [
    "def compare_timings(timing1, timing2):\n",
    "    rel_diff = (timing2 - timing1) / timing1 * 100\n",
    "    timings = Timings(\n",
    "        round(timing1, 1),\n",
    "        round(timing2, 1),\n",
    "        round(timing2 - timing1, 1),\n",
    "        round(rel_diff, 2)\n",
    "    )\n",
    "    return timings"
   ],
   "id": "a5a57995673f9ccd",
   "outputs": [],
   "execution_count": 155
  },
  {
   "metadata": {
    "ExecuteTime": {
     "end_time": "2024-05-17T11:31:38.275410Z",
     "start_time": "2024-05-17T11:31:38.272729Z"
    }
   },
   "cell_type": "code",
   "source": "test_repeats = 10**6",
   "id": "795be54330b6e47a",
   "outputs": [],
   "execution_count": 156
  },
  {
   "metadata": {},
   "cell_type": "markdown",
   "source": "#### Timing using fully qualified module.symbol",
   "id": "bbe2e722e1bc5443"
  },
  {
   "metadata": {
    "ExecuteTime": {
     "end_time": "2024-05-17T11:31:38.429957Z",
     "start_time": "2024-05-17T11:31:38.294534Z"
    }
   },
   "cell_type": "code",
   "source": [
    "import math\n",
    "start = perf_counter()\n",
    "for _ in range(test_repeats):\n",
    "    math.sqrt(2)\n",
    "end = perf_counter()\n",
    "elapsed_fully_qualified = end - start\n",
    "print(f'Elapsed: {elapsed_fully_qualified}')"
   ],
   "id": "5c8c7b892ce59848",
   "outputs": [
    {
     "name": "stdout",
     "output_type": "stream",
     "text": [
      "Elapsed: 0.13149448099647998\n"
     ]
    }
   ],
   "execution_count": 157
  },
  {
   "metadata": {},
   "cell_type": "markdown",
   "source": "#### Timing using a directly import symbol name",
   "id": "ec5fe452f0b1f898"
  },
  {
   "metadata": {
    "ExecuteTime": {
     "end_time": "2024-05-17T11:31:38.539331Z",
     "start_time": "2024-05-17T11:31:38.431303Z"
    }
   },
   "cell_type": "code",
   "source": [
    "from math import sqrt\n",
    "start = perf_counter()\n",
    "for _ in range(test_repeats):\n",
    "    sqrt(2)\n",
    "end = perf_counter()\n",
    "elapsed_direct_symbol = end - start\n",
    "print(f'Elapsed: {elapsed_direct_symbol}')"
   ],
   "id": "3e66c01d3086bd21",
   "outputs": [
    {
     "name": "stdout",
     "output_type": "stream",
     "text": [
      "Elapsed: 0.10503972899823566\n"
     ]
    }
   ],
   "execution_count": 158
  },
  {
   "metadata": {
    "ExecuteTime": {
     "end_time": "2024-05-17T11:31:38.544490Z",
     "start_time": "2024-05-17T11:31:38.540564Z"
    }
   },
   "cell_type": "code",
   "source": "compare_timings(elapsed_fully_qualified, elapsed_direct_symbol)",
   "id": "c016d80d5beb2d0b",
   "outputs": [
    {
     "data": {
      "text/plain": [
       "Timings(timing_1=0.1, timing_2=0.1, abs_diff=-0.0, rel_diff_perc=-20.12)"
      ]
     },
     "execution_count": 159,
     "metadata": {},
     "output_type": "execute_result"
    }
   ],
   "execution_count": 159
  },
  {
   "metadata": {},
   "cell_type": "markdown",
   "source": "#### Timing using a function wrapper (fully qualified symbol)",
   "id": "3889fe15edbd24aa"
  },
  {
   "metadata": {
    "ExecuteTime": {
     "end_time": "2024-05-17T11:31:38.702613Z",
     "start_time": "2024-05-17T11:31:38.546433Z"
    }
   },
   "cell_type": "code",
   "source": [
    "import math\n",
    "def func():\n",
    "    math.sqrt(2)\n",
    "\n",
    "start = perf_counter()\n",
    "for _ in range(test_repeats):\n",
    "    func()\n",
    "end = perf_counter()\n",
    "elapsed_func_fully_qualified = end - start\n",
    "print(f'Elapsed: {elapsed_func_fully_qualified}')"
   ],
   "id": "bba454b09e4b116d",
   "outputs": [
    {
     "name": "stdout",
     "output_type": "stream",
     "text": [
      "Elapsed: 0.1469367890022113\n"
     ]
    }
   ],
   "execution_count": 160
  },
  {
   "metadata": {
    "ExecuteTime": {
     "end_time": "2024-05-17T11:31:38.874701Z",
     "start_time": "2024-05-17T11:31:38.703839Z"
    }
   },
   "cell_type": "code",
   "source": [
    "from math import sqrt\n",
    "def func():\n",
    "    sqrt(2)\n",
    "\n",
    "start = perf_counter()\n",
    "for _ in range(test_repeats):\n",
    "    func()\n",
    "end = perf_counter()\n",
    "elapsed_func_direct_symbol = end - start\n",
    "print(f'Elapsed: {elapsed_func_direct_symbol}')"
   ],
   "id": "6cc781f117e2eb61",
   "outputs": [
    {
     "name": "stdout",
     "output_type": "stream",
     "text": [
      "Elapsed: 0.1679151379976247\n"
     ]
    }
   ],
   "execution_count": 161
  },
  {
   "metadata": {
    "ExecuteTime": {
     "end_time": "2024-05-17T11:31:38.880115Z",
     "start_time": "2024-05-17T11:31:38.875846Z"
    }
   },
   "cell_type": "code",
   "source": "compare_timings(elapsed_func_fully_qualified, elapsed_func_direct_symbol)",
   "id": "d1f3db2636906e37",
   "outputs": [
    {
     "data": {
      "text/plain": [
       "Timings(timing_1=0.1, timing_2=0.2, abs_diff=0.0, rel_diff_perc=14.28)"
      ]
     },
     "execution_count": 162,
     "metadata": {},
     "output_type": "execute_result"
    }
   ],
   "execution_count": 162
  },
  {
   "metadata": {},
   "cell_type": "markdown",
   "source": "### Nested Imports",
   "id": "4bf8fedd4b142edc"
  },
  {
   "metadata": {
    "ExecuteTime": {
     "end_time": "2024-05-17T11:31:39.155403Z",
     "start_time": "2024-05-17T11:31:38.881367Z"
    }
   },
   "cell_type": "code",
   "source": [
    "def func():\n",
    "    import math\n",
    "    math.sqrt(2)\n",
    "\n",
    "start = perf_counter()\n",
    "for _ in range(test_repeats):\n",
    "    func()\n",
    "end = perf_counter()\n",
    "elapsed_nested_fully_qualified = end - start\n",
    "print(f'Elapsed: {elapsed_nested_fully_qualified}')\n",
    "compare_timings(elapsed_func_fully_qualified, elapsed_nested_fully_qualified)"
   ],
   "id": "5d5b2555f5626bbd",
   "outputs": [
    {
     "name": "stdout",
     "output_type": "stream",
     "text": [
      "Elapsed: 0.2678150489991822\n"
     ]
    },
    {
     "data": {
      "text/plain": [
       "Timings(timing_1=0.1, timing_2=0.3, abs_diff=0.1, rel_diff_perc=82.27)"
      ]
     },
     "execution_count": 163,
     "metadata": {},
     "output_type": "execute_result"
    }
   ],
   "execution_count": 163
  },
  {
   "metadata": {
    "ExecuteTime": {
     "end_time": "2024-05-17T11:31:39.496404Z",
     "start_time": "2024-05-17T11:31:39.156791Z"
    }
   },
   "cell_type": "code",
   "source": [
    "def func():\n",
    "    from math import sqrt\n",
    "    sqrt(2)\n",
    "\n",
    "start = perf_counter()\n",
    "for _ in range(test_repeats):\n",
    "    func()\n",
    "end = perf_counter()\n",
    "elapsed_nested_direct_symbol = end - start\n",
    "print(f'Elapsed: {elapsed_nested_direct_symbol}')\n",
    "compare_timings(elapsed_func_direct_symbol, elapsed_nested_direct_symbol)"
   ],
   "id": "8a5d2d871c9ae494",
   "outputs": [
    {
     "name": "stdout",
     "output_type": "stream",
     "text": [
      "Elapsed: 0.335864788001345\n"
     ]
    },
    {
     "data": {
      "text/plain": [
       "Timings(timing_1=0.2, timing_2=0.3, abs_diff=0.2, rel_diff_perc=100.02)"
      ]
     },
     "execution_count": 164,
     "metadata": {},
     "output_type": "execute_result"
    }
   ],
   "execution_count": 164
  },
  {
   "metadata": {
    "ExecuteTime": {
     "end_time": "2024-05-17T11:31:39.498808Z",
     "start_time": "2024-05-17T11:31:39.497276Z"
    }
   },
   "cell_type": "code",
   "source": "",
   "id": "743223bd6a3c02c1",
   "outputs": [],
   "execution_count": 164
  },
  {
   "metadata": {
    "ExecuteTime": {
     "end_time": "2024-05-17T11:31:39.502365Z",
     "start_time": "2024-05-17T11:31:39.500493Z"
    }
   },
   "cell_type": "code",
   "source": "",
   "id": "bcc88635304b7143",
   "outputs": [],
   "execution_count": 164
  },
  {
   "metadata": {
    "ExecuteTime": {
     "end_time": "2024-05-17T11:31:39.505321Z",
     "start_time": "2024-05-17T11:31:39.503437Z"
    }
   },
   "cell_type": "code",
   "source": "",
   "id": "e7ac308ff3ee87ef",
   "outputs": [],
   "execution_count": 164
  }
 ],
 "metadata": {
  "kernelspec": {
   "display_name": "Python 3",
   "language": "python",
   "name": "python3"
  },
  "language_info": {
   "codemirror_mode": {
    "name": "ipython",
    "version": 2
   },
   "file_extension": ".py",
   "mimetype": "text/x-python",
   "name": "python",
   "nbconvert_exporter": "python",
   "pygments_lexer": "ipython2",
   "version": "2.7.6"
  }
 },
 "nbformat": 4,
 "nbformat_minor": 5
}
