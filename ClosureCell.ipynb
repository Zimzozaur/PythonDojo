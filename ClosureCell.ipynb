{
 "cells": [
  {
   "cell_type": "code",
   "id": "initial_id",
   "metadata": {
    "collapsed": true,
    "ExecuteTime": {
     "end_time": "2024-04-24T07:38:59.673594Z",
     "start_time": "2024-04-24T07:38:59.669591Z"
    }
   },
   "source": [
    "def level_1():    \n",
    "    def level_2():\n",
    "        def level_3(m, n):\n",
    "            return m, n \n",
    "        return level_3\n",
    "    return level_2"
   ],
   "outputs": [],
   "execution_count": 42
  },
  {
   "metadata": {
    "ExecuteTime": {
     "end_time": "2024-04-24T07:39:00.031475Z",
     "start_time": "2024-04-24T07:39:00.027717Z"
    }
   },
   "cell_type": "code",
   "source": "x1 = level_1()",
   "id": "4e2c10d8d3ef5918",
   "outputs": [],
   "execution_count": 43
  },
  {
   "metadata": {
    "ExecuteTime": {
     "end_time": "2024-04-24T07:39:00.332241Z",
     "start_time": "2024-04-24T07:39:00.328770Z"
    }
   },
   "cell_type": "code",
   "source": "x2 = level_1()()",
   "id": "3d38ec563253e769",
   "outputs": [],
   "execution_count": 44
  },
  {
   "metadata": {
    "ExecuteTime": {
     "end_time": "2024-04-24T07:39:00.948494Z",
     "start_time": "2024-04-24T07:39:00.944775Z"
    }
   },
   "cell_type": "code",
   "source": "x3 = level_1()()(5, 6)",
   "id": "54398d254b35fb19",
   "outputs": [],
   "execution_count": 45
  },
  {
   "metadata": {
    "ExecuteTime": {
     "end_time": "2024-04-24T07:39:44.602309Z",
     "start_time": "2024-04-24T07:39:44.588002Z"
    }
   },
   "cell_type": "code",
   "source": "x2.__globals__",
   "id": "f12b402d73af3afa",
   "outputs": [
    {
     "data": {
      "text/plain": [
       "{'__name__': '__main__',\n",
       " '__doc__': 'Automatically created module for IPython interactive environment',\n",
       " '__package__': None,\n",
       " '__loader__': None,\n",
       " '__spec__': None,\n",
       " '__builtin__': <module 'builtins' (built-in)>,\n",
       " '__builtins__': <module 'builtins' (built-in)>,\n",
       " '_ih': ['',\n",
       "  'c = x1.__closure__[1]',\n",
       "  'c1 = x1.__closure__[1]',\n",
       "  'c2 = x2.__closure__',\n",
       "  'def level_1(x, y):    \\n    def level_2(i, j):\\n        def level_3(m, n):\\n            return x, y, i, j, m, n \\n        return level_3\\n    return level_2',\n",
       "  'x1 = level_1(1, 2)',\n",
       "  'x2 = level_1(1, 2)(3, 4)',\n",
       "  'x3 = level_1(1, 2)(3, 4)(5, 6)',\n",
       "  'c1 = x1.__closure__[1]',\n",
       "  'c2 = x2.__closure__',\n",
       "  'c1 = x1.__closure__',\n",
       "  'x1.__closure__',\n",
       "  'x1 = level_1()',\n",
       "  'def level_1():    \\n    def level_2(i, j):\\n        def level_3(m, n):\\n            return x, y, i, j, m, n \\n        return level_3\\n    return level_2',\n",
       "  'x1 = level_1()',\n",
       "  'x1.__closure__',\n",
       "  'x1.__closure__',\n",
       "  'x1.__closure__[0]',\n",
       "  'x1.__closure__',\n",
       "  'x2.__closure__[0]',\n",
       "  'x2.__closure__',\n",
       "  'def level_1():    \\n    def level_2(i, j):\\n        def level_3(m, n):\\n            return x, y, i, j, m, n \\n        return level_3\\n    return level_2',\n",
       "  'x1 = level_1()',\n",
       "  'def level_1():    \\n    def level_2(i, j):\\n        def level_3(m, n):\\n            return x, y, i, j, m, n \\n        return level_3\\n    return level_2',\n",
       "  'x1 = level_1()',\n",
       "  'x2 = level_1()(3, 4)',\n",
       "  'x1.__closure__',\n",
       "  'x2.__closure__',\n",
       "  'def level_1():    \\n    def level_2():\\n        def level_3(m, n):\\n            return x, y, i, j, m, n \\n        return level_3\\n    return level_2',\n",
       "  'x1 = level_1()',\n",
       "  'x2 = level_1()(3, 4)',\n",
       "  'def level_1():    \\n    def level_2():\\n        def level_3(m, n):\\n            return x, y, i, j, m, n \\n        return level_3\\n    return level_2',\n",
       "  'x1 = level_1()',\n",
       "  'x2 = level_1()()',\n",
       "  'x1.__closure__',\n",
       "  'x2.__closure__',\n",
       "  'print(x1.__closure__)',\n",
       "  'x3 = level_1()()(5, 6)',\n",
       "  'def level_1():    \\n    def level_2():\\n        def level_3(m, n):\\n            return x, y, i, j, m, n \\n        return level_3\\n    return level_2',\n",
       "  'x1 = level_1()',\n",
       "  'x2 = level_1()()',\n",
       "  'x3 = level_1()()(5, 6)',\n",
       "  'def level_1():    \\n    def level_2():\\n        def level_3(m, n):\\n            return m, n \\n        return level_3\\n    return level_2',\n",
       "  'x1 = level_1()',\n",
       "  'x2 = level_1()()',\n",
       "  'x3 = level_1()()(5, 6)',\n",
       "  'x1.__closure__',\n",
       "  'x2.__closure__',\n",
       "  'x3.__closure__',\n",
       "  'x2.__globals__'],\n",
       " '_oh': {11: (<cell at 0x7f1d2db03700: int object at 0x7f1d3fddf288>,\n",
       "   <cell at 0x7f1d2db034c0: int object at 0x7f1d3fddf2a8>),\n",
       "  19: <cell at 0x7f1d2db027a0: int object at 0x7f1d3fddf2c8>,\n",
       "  20: (<cell at 0x7f1d2db027a0: int object at 0x7f1d3fddf2c8>,\n",
       "   <cell at 0x7f1d2db02920: int object at 0x7f1d3fddf2e8>,\n",
       "   <cell at 0x7f1d2db035e0: int object at 0x7f1d3fddf288>,\n",
       "   <cell at 0x7f1d2db022c0: int object at 0x7f1d3fddf2a8>),\n",
       "  27: (<cell at 0x7f1d2db27670: int object at 0x7f1d3fddf2c8>,\n",
       "   <cell at 0x7f1d2e5efcd0: int object at 0x7f1d3fddf2e8>)},\n",
       " '_dh': [PosixPath('/home/bmo/a-code/FredLab/FredLab')],\n",
       " 'In': ['',\n",
       "  'c = x1.__closure__[1]',\n",
       "  'c1 = x1.__closure__[1]',\n",
       "  'c2 = x2.__closure__',\n",
       "  'def level_1(x, y):    \\n    def level_2(i, j):\\n        def level_3(m, n):\\n            return x, y, i, j, m, n \\n        return level_3\\n    return level_2',\n",
       "  'x1 = level_1(1, 2)',\n",
       "  'x2 = level_1(1, 2)(3, 4)',\n",
       "  'x3 = level_1(1, 2)(3, 4)(5, 6)',\n",
       "  'c1 = x1.__closure__[1]',\n",
       "  'c2 = x2.__closure__',\n",
       "  'c1 = x1.__closure__',\n",
       "  'x1.__closure__',\n",
       "  'x1 = level_1()',\n",
       "  'def level_1():    \\n    def level_2(i, j):\\n        def level_3(m, n):\\n            return x, y, i, j, m, n \\n        return level_3\\n    return level_2',\n",
       "  'x1 = level_1()',\n",
       "  'x1.__closure__',\n",
       "  'x1.__closure__',\n",
       "  'x1.__closure__[0]',\n",
       "  'x1.__closure__',\n",
       "  'x2.__closure__[0]',\n",
       "  'x2.__closure__',\n",
       "  'def level_1():    \\n    def level_2(i, j):\\n        def level_3(m, n):\\n            return x, y, i, j, m, n \\n        return level_3\\n    return level_2',\n",
       "  'x1 = level_1()',\n",
       "  'def level_1():    \\n    def level_2(i, j):\\n        def level_3(m, n):\\n            return x, y, i, j, m, n \\n        return level_3\\n    return level_2',\n",
       "  'x1 = level_1()',\n",
       "  'x2 = level_1()(3, 4)',\n",
       "  'x1.__closure__',\n",
       "  'x2.__closure__',\n",
       "  'def level_1():    \\n    def level_2():\\n        def level_3(m, n):\\n            return x, y, i, j, m, n \\n        return level_3\\n    return level_2',\n",
       "  'x1 = level_1()',\n",
       "  'x2 = level_1()(3, 4)',\n",
       "  'def level_1():    \\n    def level_2():\\n        def level_3(m, n):\\n            return x, y, i, j, m, n \\n        return level_3\\n    return level_2',\n",
       "  'x1 = level_1()',\n",
       "  'x2 = level_1()()',\n",
       "  'x1.__closure__',\n",
       "  'x2.__closure__',\n",
       "  'print(x1.__closure__)',\n",
       "  'x3 = level_1()()(5, 6)',\n",
       "  'def level_1():    \\n    def level_2():\\n        def level_3(m, n):\\n            return x, y, i, j, m, n \\n        return level_3\\n    return level_2',\n",
       "  'x1 = level_1()',\n",
       "  'x2 = level_1()()',\n",
       "  'x3 = level_1()()(5, 6)',\n",
       "  'def level_1():    \\n    def level_2():\\n        def level_3(m, n):\\n            return m, n \\n        return level_3\\n    return level_2',\n",
       "  'x1 = level_1()',\n",
       "  'x2 = level_1()()',\n",
       "  'x3 = level_1()()(5, 6)',\n",
       "  'x1.__closure__',\n",
       "  'x2.__closure__',\n",
       "  'x3.__closure__',\n",
       "  'x2.__globals__'],\n",
       " 'Out': {11: (<cell at 0x7f1d2db03700: int object at 0x7f1d3fddf288>,\n",
       "   <cell at 0x7f1d2db034c0: int object at 0x7f1d3fddf2a8>),\n",
       "  19: <cell at 0x7f1d2db027a0: int object at 0x7f1d3fddf2c8>,\n",
       "  20: (<cell at 0x7f1d2db027a0: int object at 0x7f1d3fddf2c8>,\n",
       "   <cell at 0x7f1d2db02920: int object at 0x7f1d3fddf2e8>,\n",
       "   <cell at 0x7f1d2db035e0: int object at 0x7f1d3fddf288>,\n",
       "   <cell at 0x7f1d2db022c0: int object at 0x7f1d3fddf2a8>),\n",
       "  27: (<cell at 0x7f1d2db27670: int object at 0x7f1d3fddf2c8>,\n",
       "   <cell at 0x7f1d2e5efcd0: int object at 0x7f1d3fddf2e8>)},\n",
       " 'get_ipython': <bound method InteractiveShell.get_ipython of <ipykernel.zmqshell.ZMQInteractiveShell object at 0x7f1d2eeceb10>>,\n",
       " 'exit': <IPython.core.autocall.ZMQExitAutocall at 0x7f1d2eecf530>,\n",
       " 'quit': <IPython.core.autocall.ZMQExitAutocall at 0x7f1d2eecf530>,\n",
       " 'open': <function _io.open(file, mode='r', buffering=-1, encoding=None, errors=None, newline=None, closefd=True, opener=None)>,\n",
       " '_': (<cell at 0x7f1d2db27670: int object at 0x7f1d3fddf2c8>,\n",
       "  <cell at 0x7f1d2e5efcd0: int object at 0x7f1d3fddf2e8>),\n",
       " '__': (<cell at 0x7f1d2db027a0: int object at 0x7f1d3fddf2c8>,\n",
       "  <cell at 0x7f1d2db02920: int object at 0x7f1d3fddf2e8>,\n",
       "  <cell at 0x7f1d2db035e0: int object at 0x7f1d3fddf288>,\n",
       "  <cell at 0x7f1d2db022c0: int object at 0x7f1d3fddf2a8>),\n",
       " '___': <cell at 0x7f1d2db027a0: int object at 0x7f1d3fddf2c8>,\n",
       " '__session__': 'ClosureCell.ipynb',\n",
       " '_i': 'x3.__closure__',\n",
       " '_ii': 'x2.__closure__',\n",
       " '_iii': 'x1.__closure__',\n",
       " '_i1': 'c = x1.__closure__[1]',\n",
       " 'sys': <module 'sys' (built-in)>,\n",
       " 'remove_imported_pydev_package': <function pydev_jupyter_utils.remove_imported_pydev_package()>,\n",
       " '_pydevd_bundle': <module '_pydevd_bundle' from '/opt/pycharm-2024.1/plugins/python/helpers/pydev/_pydevd_bundle/__init__.py'>,\n",
       " 'pydev_jupyter_vars': <module 'pydev_jupyter_vars' from '/opt/pycharm-2024.1/plugins/python/helpers-pro/jupyter_debug/pydev_jupyter_vars.py'>,\n",
       " '_i2': 'c1 = x1.__closure__[1]',\n",
       " '_i3': 'c2 = x2.__closure__',\n",
       " '_i4': 'def level_1(x, y):    \\n    def level_2(i, j):\\n        def level_3(m, n):\\n            return x, y, i, j, m, n \\n        return level_3\\n    return level_2',\n",
       " 'level_1': <function __main__.level_1()>,\n",
       " '_i5': 'x1 = level_1(1, 2)',\n",
       " 'x1': <function __main__.level_1.<locals>.level_2()>,\n",
       " '_i6': 'x2 = level_1(1, 2)(3, 4)',\n",
       " 'x2': <function __main__.level_1.<locals>.level_2.<locals>.level_3(m, n)>,\n",
       " '_i7': 'x3 = level_1(1, 2)(3, 4)(5, 6)',\n",
       " 'x3': (5, 6),\n",
       " '_i8': 'c1 = x1.__closure__[1]',\n",
       " 'c1': (<cell at 0x7f1d2db03700: int object at 0x7f1d3fddf288>,\n",
       "  <cell at 0x7f1d2db034c0: int object at 0x7f1d3fddf2a8>),\n",
       " '_i9': 'c2 = x2.__closure__',\n",
       " 'c2': (<cell at 0x7f1d2db027a0: int object at 0x7f1d3fddf2c8>,\n",
       "  <cell at 0x7f1d2db02920: int object at 0x7f1d3fddf2e8>,\n",
       "  <cell at 0x7f1d2db035e0: int object at 0x7f1d3fddf288>,\n",
       "  <cell at 0x7f1d2db022c0: int object at 0x7f1d3fddf2a8>),\n",
       " '_i10': 'c1 = x1.__closure__',\n",
       " '_i11': 'x1.__closure__',\n",
       " '_11': (<cell at 0x7f1d2db03700: int object at 0x7f1d3fddf288>,\n",
       "  <cell at 0x7f1d2db034c0: int object at 0x7f1d3fddf2a8>),\n",
       " '_i12': 'x1 = level_1()',\n",
       " '_i13': 'def level_1():    \\n    def level_2(i, j):\\n        def level_3(m, n):\\n            return x, y, i, j, m, n \\n        return level_3\\n    return level_2',\n",
       " '_i14': 'x1 = level_1()',\n",
       " '_i15': 'x1.__closure__',\n",
       " '_i16': 'x1.__closure__',\n",
       " '_i17': 'x1.__closure__[0]',\n",
       " '_i18': 'x1.__closure__',\n",
       " '_i19': 'x2.__closure__[0]',\n",
       " '_19': <cell at 0x7f1d2db027a0: int object at 0x7f1d3fddf2c8>,\n",
       " '_i20': 'x2.__closure__',\n",
       " '_20': (<cell at 0x7f1d2db027a0: int object at 0x7f1d3fddf2c8>,\n",
       "  <cell at 0x7f1d2db02920: int object at 0x7f1d3fddf2e8>,\n",
       "  <cell at 0x7f1d2db035e0: int object at 0x7f1d3fddf288>,\n",
       "  <cell at 0x7f1d2db022c0: int object at 0x7f1d3fddf2a8>),\n",
       " '_i21': 'def level_1():    \\n    def level_2(i, j):\\n        def level_3(m, n):\\n            return x, y, i, j, m, n \\n        return level_3\\n    return level_2',\n",
       " '_i22': 'x1 = level_1()',\n",
       " '_i23': 'def level_1():    \\n    def level_2(i, j):\\n        def level_3(m, n):\\n            return x, y, i, j, m, n \\n        return level_3\\n    return level_2',\n",
       " '_i24': 'x1 = level_1()',\n",
       " '_i25': 'x2 = level_1()(3, 4)',\n",
       " '_i26': 'x1.__closure__',\n",
       " '_i27': 'x2.__closure__',\n",
       " '_27': (<cell at 0x7f1d2db27670: int object at 0x7f1d3fddf2c8>,\n",
       "  <cell at 0x7f1d2e5efcd0: int object at 0x7f1d3fddf2e8>),\n",
       " '_i28': 'def level_1():    \\n    def level_2():\\n        def level_3(m, n):\\n            return x, y, i, j, m, n \\n        return level_3\\n    return level_2',\n",
       " '_i29': 'x1 = level_1()',\n",
       " '_i30': 'x2 = level_1()(3, 4)',\n",
       " '_i31': 'def level_1():    \\n    def level_2():\\n        def level_3(m, n):\\n            return x, y, i, j, m, n \\n        return level_3\\n    return level_2',\n",
       " '_i32': 'x1 = level_1()',\n",
       " '_i33': 'x2 = level_1()()',\n",
       " '_i34': 'x1.__closure__',\n",
       " '_i35': 'x2.__closure__',\n",
       " '_i36': 'print(x1.__closure__)',\n",
       " '_i37': 'x3 = level_1()()(5, 6)',\n",
       " '_i38': 'def level_1():    \\n    def level_2():\\n        def level_3(m, n):\\n            return x, y, i, j, m, n \\n        return level_3\\n    return level_2',\n",
       " '_i39': 'x1 = level_1()',\n",
       " '_i40': 'x2 = level_1()()',\n",
       " '_i41': 'x3 = level_1()()(5, 6)',\n",
       " '_i42': 'def level_1():    \\n    def level_2():\\n        def level_3(m, n):\\n            return m, n \\n        return level_3\\n    return level_2',\n",
       " '_i43': 'x1 = level_1()',\n",
       " '_i44': 'x2 = level_1()()',\n",
       " '_i45': 'x3 = level_1()()(5, 6)',\n",
       " '_i46': 'x1.__closure__',\n",
       " '_i47': 'x2.__closure__',\n",
       " '_i48': 'x3.__closure__',\n",
       " '_i49': 'x2.__globals__'}"
      ]
     },
     "execution_count": 49,
     "metadata": {},
     "output_type": "execute_result"
    }
   ],
   "execution_count": 49
  },
  {
   "metadata": {
    "ExecuteTime": {
     "end_time": "2024-04-24T07:39:02.026589Z",
     "start_time": "2024-04-24T07:39:02.022422Z"
    }
   },
   "cell_type": "code",
   "source": "",
   "id": "36c3ba75d8583dc5",
   "outputs": [],
   "execution_count": 47
  },
  {
   "metadata": {
    "ExecuteTime": {
     "end_time": "2024-04-24T07:39:13.540791Z",
     "start_time": "2024-04-24T07:39:13.505891Z"
    }
   },
   "cell_type": "code",
   "source": "",
   "id": "51c70518608c2fda",
   "outputs": [
    {
     "ename": "AttributeError",
     "evalue": "'tuple' object has no attribute '__closure__'",
     "output_type": "error",
     "traceback": [
      "\u001B[0;31m---------------------------------------------------------------------------\u001B[0m",
      "\u001B[0;31mAttributeError\u001B[0m                            Traceback (most recent call last)",
      "Cell \u001B[0;32mIn[48], line 1\u001B[0m\n\u001B[0;32m----> 1\u001B[0m \u001B[43mx3\u001B[49m\u001B[38;5;241;43m.\u001B[39;49m\u001B[38;5;18;43m__closure__\u001B[39;49m\n",
      "\u001B[0;31mAttributeError\u001B[0m: 'tuple' object has no attribute '__closure__'"
     ]
    }
   ],
   "execution_count": 48
  },
  {
   "metadata": {},
   "cell_type": "code",
   "outputs": [],
   "execution_count": null,
   "source": "",
   "id": "1480dd904b5759e1"
  }
 ],
 "metadata": {
  "kernelspec": {
   "display_name": "Python 3",
   "language": "python",
   "name": "python3"
  },
  "language_info": {
   "codemirror_mode": {
    "name": "ipython",
    "version": 2
   },
   "file_extension": ".py",
   "mimetype": "text/x-python",
   "name": "python",
   "nbconvert_exporter": "python",
   "pygments_lexer": "ipython2",
   "version": "2.7.6"
  }
 },
 "nbformat": 4,
 "nbformat_minor": 5
}
