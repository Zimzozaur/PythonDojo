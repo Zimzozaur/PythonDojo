{
 "cells": [
  {
   "cell_type": "code",
   "id": "initial_id",
   "metadata": {
    "collapsed": true,
    "ExecuteTime": {
     "end_time": "2024-05-08T07:25:38.979074Z",
     "start_time": "2024-05-08T07:25:38.975743Z"
    }
   },
   "source": [
    "class MarioES:\n",
    "    def hola(self):\n",
    "        print(\"Mi nombre es Mario y soy fontanero.\")\n",
    "        return \"Меня зовут Марио, я сантехник.\""
   ],
   "outputs": [],
   "execution_count": 36
  },
  {
   "metadata": {
    "ExecuteTime": {
     "end_time": "2024-05-08T07:25:39.299207Z",
     "start_time": "2024-05-08T07:25:39.294059Z"
    }
   },
   "cell_type": "code",
   "source": [
    "class MarioEN(MarioES):\n",
    "    def hello(self):\n",
    "        print(\"My name is Mario and a I am a plumber\")\n",
    "        \n",
    "    def hola(self):\n",
    "        print(\"My name is Mario and a I am a plumber\")        \n",
    "        print(super().hola())"
   ],
   "id": "942976a36bb2f50a",
   "outputs": [],
   "execution_count": 37
  },
  {
   "metadata": {
    "ExecuteTime": {
     "end_time": "2024-05-08T07:25:39.660329Z",
     "start_time": "2024-05-08T07:25:39.654672Z"
    }
   },
   "cell_type": "code",
   "source": "m = MarioEN()",
   "id": "9af7a1f509f41432",
   "outputs": [],
   "execution_count": 38
  },
  {
   "metadata": {
    "ExecuteTime": {
     "end_time": "2024-05-08T07:25:39.928648Z",
     "start_time": "2024-05-08T07:25:39.923804Z"
    }
   },
   "cell_type": "code",
   "source": "m.hola()",
   "id": "c5425d6170278880",
   "outputs": [
    {
     "name": "stdout",
     "output_type": "stream",
     "text": [
      "My name is Mario and a I am a plumber\n",
      "Mi nombre es Mario y soy fontanero.\n",
      "Меня зовут Марио, я сантехник.\n"
     ]
    }
   ],
   "execution_count": 39
  }
 ],
 "metadata": {
  "kernelspec": {
   "display_name": "Python 3",
   "language": "python",
   "name": "python3"
  },
  "language_info": {
   "codemirror_mode": {
    "name": "ipython",
    "version": 2
   },
   "file_extension": ".py",
   "mimetype": "text/x-python",
   "name": "python",
   "nbconvert_exporter": "python",
   "pygments_lexer": "ipython2",
   "version": "2.7.6"
  }
 },
 "nbformat": 4,
 "nbformat_minor": 5
}
