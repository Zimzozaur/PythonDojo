{
 "cells": [
  {
   "cell_type": "code",
   "id": "initial_id",
   "metadata": {
    "collapsed": true,
    "ExecuteTime": {
     "end_time": "2024-05-08T07:26:38.616282Z",
     "start_time": "2024-05-08T07:26:38.612529Z"
    }
   },
   "source": [
    "class MarioES:\n",
    "    def hola(self):\n",
    "        print(\"Mi nombre es Mario y soy fontanero.\")\n",
    "        return \"Меня зовут Марио, я сантехник.\""
   ],
   "outputs": [],
   "execution_count": 40
  },
  {
   "metadata": {
    "ExecuteTime": {
     "end_time": "2024-05-08T07:26:38.851001Z",
     "start_time": "2024-05-08T07:26:38.846360Z"
    }
   },
   "cell_type": "code",
   "source": [
    "class MarioEN(MarioES):\n",
    "    def hola(self):\n",
    "        print(\"My name is Mario and a I am a plumber\")        \n",
    "        print(super().hola())"
   ],
   "id": "942976a36bb2f50a",
   "outputs": [],
   "execution_count": 41
  },
  {
   "metadata": {
    "ExecuteTime": {
     "end_time": "2024-05-08T07:26:39.084288Z",
     "start_time": "2024-05-08T07:26:39.080130Z"
    }
   },
   "cell_type": "code",
   "source": "m = MarioEN()",
   "id": "9af7a1f509f41432",
   "outputs": [],
   "execution_count": 42
  },
  {
   "metadata": {
    "ExecuteTime": {
     "end_time": "2024-05-08T07:26:39.559943Z",
     "start_time": "2024-05-08T07:26:39.555815Z"
    }
   },
   "cell_type": "code",
   "source": "m.hola()",
   "id": "c5425d6170278880",
   "outputs": [
    {
     "name": "stdout",
     "output_type": "stream",
     "text": [
      "My name is Mario and a I am a plumber\n",
      "Mi nombre es Mario y soy fontanero.\n",
      "Меня зовут Марио, я сантехник.\n"
     ]
    }
   ],
   "execution_count": 43
  },
  {
   "metadata": {},
   "cell_type": "code",
   "outputs": [],
   "execution_count": null,
   "source": "",
   "id": "b6da776c16bafcf6"
  }
 ],
 "metadata": {
  "kernelspec": {
   "display_name": "Python 3",
   "language": "python",
   "name": "python3"
  },
  "language_info": {
   "codemirror_mode": {
    "name": "ipython",
    "version": 2
   },
   "file_extension": ".py",
   "mimetype": "text/x-python",
   "name": "python",
   "nbconvert_exporter": "python",
   "pygments_lexer": "ipython2",
   "version": "2.7.6"
  }
 },
 "nbformat": 4,
 "nbformat_minor": 5
}
