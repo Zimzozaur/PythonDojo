{
 "cells": [
  {
   "cell_type": "code",
   "id": "initial_id",
   "metadata": {
    "collapsed": true,
    "ExecuteTime": {
     "end_time": "2024-07-02T07:50:28.852004Z",
     "start_time": "2024-07-02T07:50:28.848159Z"
    }
   },
   "source": [
    "import decimal\n",
    "from decimal import Decimal"
   ],
   "outputs": [],
   "execution_count": 1
  },
  {
   "metadata": {
    "ExecuteTime": {
     "end_time": "2024-07-02T07:51:05.106632Z",
     "start_time": "2024-07-02T07:51:05.099342Z"
    }
   },
   "cell_type": "code",
   "source": "decimal.getcontext()",
   "id": "18579aa20192321b",
   "outputs": [
    {
     "data": {
      "text/plain": [
       "Context(prec=28, rounding=ROUND_HALF_EVEN, Emin=-999999, Emax=999999, capitals=1, clamp=0, flags=[], traps=[InvalidOperation, DivisionByZero, Overflow])"
      ]
     },
     "execution_count": 2,
     "metadata": {},
     "output_type": "execute_result"
    }
   ],
   "execution_count": 2
  },
  {
   "metadata": {
    "ExecuteTime": {
     "end_time": "2024-07-02T07:52:23.076409Z",
     "start_time": "2024-07-02T07:52:23.042166Z"
    }
   },
   "cell_type": "code",
   "source": "help(decimal.getcontext())",
   "id": "baf59463df3c1208",
   "outputs": [
    {
     "name": "stdout",
     "output_type": "stream",
     "text": [
      "Help on Context in module decimal object:\n",
      "\n",
      "class Context(builtins.object)\n",
      " |  Context(prec=None, rounding=None, Emin=None, Emax=None, capitals=None, clamp=None, flags=None, traps=None)\n",
      " |\n",
      " |  The context affects almost all operations and controls rounding,\n",
      " |  Over/Underflow, raising of exceptions and much more.  A new context\n",
      " |  can be constructed as follows:\n",
      " |\n",
      " |      >>> c = Context(prec=28, Emin=-425000000, Emax=425000000,\n",
      " |      ...             rounding=ROUND_HALF_EVEN, capitals=1, clamp=1,\n",
      " |      ...             traps=[InvalidOperation, DivisionByZero, Overflow],\n",
      " |      ...             flags=[])\n",
      " |      >>>\n",
      " |\n",
      " |  Methods defined here:\n",
      " |\n",
      " |  Etiny(self, /)\n",
      " |      Return a value equal to Emin - prec + 1, which is the minimum exponent value\n",
      " |      for subnormal results.  When underflow occurs, the exponent is set to Etiny.\n",
      " |\n",
      " |  Etop(self, /)\n",
      " |      Return a value equal to Emax - prec + 1.  This is the maximum exponent\n",
      " |      if the _clamp field of the context is set to 1 (IEEE clamp mode).  Etop()\n",
      " |      must not be negative.\n",
      " |\n",
      " |  __copy__(...)\n",
      " |\n",
      " |  __delattr__(self, name, /)\n",
      " |      Implement delattr(self, name).\n",
      " |\n",
      " |  __getattribute__(self, name, /)\n",
      " |      Return getattr(self, name).\n",
      " |\n",
      " |  __init__(self, /, *args, **kwargs)\n",
      " |      Initialize self.  See help(type(self)) for accurate signature.\n",
      " |\n",
      " |  __reduce__(...)\n",
      " |      Helper for pickle.\n",
      " |\n",
      " |  __repr__(self, /)\n",
      " |      Return repr(self).\n",
      " |\n",
      " |  __setattr__(self, name, value, /)\n",
      " |      Implement setattr(self, name, value).\n",
      " |\n",
      " |  abs(self, x, /)\n",
      " |      Return the absolute value of x.\n",
      " |\n",
      " |  add(self, x, y, /)\n",
      " |      Return the sum of x and y.\n",
      " |\n",
      " |  canonical(self, x, /)\n",
      " |      Return a new instance of x.\n",
      " |\n",
      " |  clear_flags(self, /)\n",
      " |      Reset all flags to False.\n",
      " |\n",
      " |  clear_traps(self, /)\n",
      " |      Set all traps to False.\n",
      " |\n",
      " |  compare(self, x, y, /)\n",
      " |      Compare x and y numerically.\n",
      " |\n",
      " |  compare_signal(self, x, y, /)\n",
      " |      Compare x and y numerically.  All NaNs signal.\n",
      " |\n",
      " |  compare_total(self, x, y, /)\n",
      " |      Compare x and y using their abstract representation.\n",
      " |\n",
      " |  compare_total_mag(self, x, y, /)\n",
      " |      Compare x and y using their abstract representation, ignoring sign.\n",
      " |\n",
      " |  copy(self, /)\n",
      " |      Return a duplicate of the context with all flags cleared.\n",
      " |\n",
      " |  copy_abs(self, x, /)\n",
      " |      Return a copy of x with the sign set to 0.\n",
      " |\n",
      " |  copy_decimal(self, x, /)\n",
      " |      Return a copy of Decimal x.\n",
      " |\n",
      " |  copy_negate(self, x, /)\n",
      " |      Return a copy of x with the sign inverted.\n",
      " |\n",
      " |  copy_sign(self, x, y, /)\n",
      " |      Copy the sign from y to x.\n",
      " |\n",
      " |  create_decimal(self, num='0', /)\n",
      " |      Create a new Decimal instance from num, using self as the context. Unlike the\n",
      " |      Decimal constructor, this function observes the context limits.\n",
      " |\n",
      " |  create_decimal_from_float(self, f, /)\n",
      " |      Create a new Decimal instance from float f.  Unlike the Decimal.from_float()\n",
      " |      class method, this function observes the context limits.\n",
      " |\n",
      " |  divide(self, x, y, /)\n",
      " |      Return x divided by y.\n",
      " |\n",
      " |  divide_int(self, x, y, /)\n",
      " |      Return x divided by y, truncated to an integer.\n",
      " |\n",
      " |  divmod(self, x, y, /)\n",
      " |      Return quotient and remainder of the division x / y.\n",
      " |\n",
      " |  exp(self, x, /)\n",
      " |      Return e ** x.\n",
      " |\n",
      " |  fma(self, x, y, z, /)\n",
      " |      Return x multiplied by y, plus z.\n",
      " |\n",
      " |  is_canonical(self, x, /)\n",
      " |      Return True if x is canonical, False otherwise.\n",
      " |\n",
      " |  is_finite(self, x, /)\n",
      " |      Return True if x is finite, False otherwise.\n",
      " |\n",
      " |  is_infinite(self, x, /)\n",
      " |      Return True if x is infinite, False otherwise.\n",
      " |\n",
      " |  is_nan(self, x, /)\n",
      " |      Return True if x is a qNaN or sNaN, False otherwise.\n",
      " |\n",
      " |  is_normal(self, x, /)\n",
      " |      Return True if x is a normal number, False otherwise.\n",
      " |\n",
      " |  is_qnan(self, x, /)\n",
      " |      Return True if x is a quiet NaN, False otherwise.\n",
      " |\n",
      " |  is_signed(self, x, /)\n",
      " |      Return True if x is negative, False otherwise.\n",
      " |\n",
      " |  is_snan(self, x, /)\n",
      " |      Return True if x is a signaling NaN, False otherwise.\n",
      " |\n",
      " |  is_subnormal(self, x, /)\n",
      " |      Return True if x is subnormal, False otherwise.\n",
      " |\n",
      " |  is_zero(self, x, /)\n",
      " |      Return True if x is a zero, False otherwise.\n",
      " |\n",
      " |  ln(self, x, /)\n",
      " |      Return the natural (base e) logarithm of x.\n",
      " |\n",
      " |  log10(self, x, /)\n",
      " |      Return the base 10 logarithm of x.\n",
      " |\n",
      " |  logb(self, x, /)\n",
      " |      Return the exponent of the magnitude of the operand's MSD.\n",
      " |\n",
      " |  logical_and(self, x, y, /)\n",
      " |      Digit-wise and of x and y.\n",
      " |\n",
      " |  logical_invert(self, x, /)\n",
      " |      Invert all digits of x.\n",
      " |\n",
      " |  logical_or(self, x, y, /)\n",
      " |      Digit-wise or of x and y.\n",
      " |\n",
      " |  logical_xor(self, x, y, /)\n",
      " |      Digit-wise xor of x and y.\n",
      " |\n",
      " |  max(self, x, y, /)\n",
      " |      Compare the values numerically and return the maximum.\n",
      " |\n",
      " |  max_mag(self, x, y, /)\n",
      " |      Compare the values numerically with their sign ignored.\n",
      " |\n",
      " |  min(self, x, y, /)\n",
      " |      Compare the values numerically and return the minimum.\n",
      " |\n",
      " |  min_mag(self, x, y, /)\n",
      " |      Compare the values numerically with their sign ignored.\n",
      " |\n",
      " |  minus(self, x, /)\n",
      " |      Minus corresponds to the unary prefix minus operator in Python, but applies\n",
      " |      the context to the result.\n",
      " |\n",
      " |  multiply(self, x, y, /)\n",
      " |      Return the product of x and y.\n",
      " |\n",
      " |  next_minus(self, x, /)\n",
      " |      Return the largest representable number smaller than x.\n",
      " |\n",
      " |  next_plus(self, x, /)\n",
      " |      Return the smallest representable number larger than x.\n",
      " |\n",
      " |  next_toward(self, x, y, /)\n",
      " |      Return the number closest to x, in the direction towards y.\n",
      " |\n",
      " |  normalize(self, x, /)\n",
      " |      Reduce x to its simplest form. Alias for reduce(x).\n",
      " |\n",
      " |  number_class(self, x, /)\n",
      " |      Return an indication of the class of x.\n",
      " |\n",
      " |  plus(self, x, /)\n",
      " |      Plus corresponds to the unary prefix plus operator in Python, but applies\n",
      " |      the context to the result.\n",
      " |\n",
      " |  power(self, /, a, b, modulo=None)\n",
      " |      Compute a**b. If 'a' is negative, then 'b' must be integral. The result\n",
      " |      will be inexact unless 'a' is integral and the result is finite and can\n",
      " |      be expressed exactly in 'precision' digits.  In the Python version the\n",
      " |      result is always correctly rounded, in the C version the result is almost\n",
      " |      always correctly rounded.\n",
      " |\n",
      " |      If modulo is given, compute (a**b) % modulo. The following restrictions\n",
      " |      hold:\n",
      " |\n",
      " |          * all three arguments must be integral\n",
      " |          * 'b' must be nonnegative\n",
      " |          * at least one of 'a' or 'b' must be nonzero\n",
      " |          * modulo must be nonzero and less than 10**prec in absolute value\n",
      " |\n",
      " |  quantize(self, x, y, /)\n",
      " |      Return a value equal to x (rounded), having the exponent of y.\n",
      " |\n",
      " |  radix(self, /)\n",
      " |      Return 10.\n",
      " |\n",
      " |  remainder(self, x, y, /)\n",
      " |      Return the remainder from integer division.  The sign of the result,\n",
      " |      if non-zero, is the same as that of the original dividend.\n",
      " |\n",
      " |  remainder_near(self, x, y, /)\n",
      " |      Return x - y * n, where n is the integer nearest the exact value of x / y\n",
      " |      (if the result is 0 then its sign will be the sign of x).\n",
      " |\n",
      " |  rotate(self, x, y, /)\n",
      " |      Return a copy of x, rotated by y places.\n",
      " |\n",
      " |  same_quantum(self, x, y, /)\n",
      " |      Return True if the two operands have the same exponent.\n",
      " |\n",
      " |  scaleb(self, x, y, /)\n",
      " |      Return the first operand after adding the second value to its exp.\n",
      " |\n",
      " |  shift(self, x, y, /)\n",
      " |      Return a copy of x, shifted by y places.\n",
      " |\n",
      " |  sqrt(self, x, /)\n",
      " |      Square root of a non-negative number to context precision.\n",
      " |\n",
      " |  subtract(self, x, y, /)\n",
      " |      Return the difference between x and y.\n",
      " |\n",
      " |  to_eng_string(self, x, /)\n",
      " |      Convert a number to a string, using engineering notation.\n",
      " |\n",
      " |  to_integral(self, x, /)\n",
      " |      Identical to to_integral_value(x).\n",
      " |\n",
      " |  to_integral_exact(self, x, /)\n",
      " |      Round to an integer. Signal if the result is rounded or inexact.\n",
      " |\n",
      " |  to_integral_value(self, x, /)\n",
      " |      Round to an integer.\n",
      " |\n",
      " |  to_sci_string(self, x, /)\n",
      " |      Convert a number to a string using scientific notation.\n",
      " |\n",
      " |  ----------------------------------------------------------------------\n",
      " |  Static methods defined here:\n",
      " |\n",
      " |  __new__(*args, **kwargs)\n",
      " |      Create and return a new object.  See help(type) for accurate signature.\n",
      " |\n",
      " |  ----------------------------------------------------------------------\n",
      " |  Data descriptors defined here:\n",
      " |\n",
      " |  Emax\n",
      " |\n",
      " |  Emin\n",
      " |\n",
      " |  capitals\n",
      " |\n",
      " |  clamp\n",
      " |\n",
      " |  prec\n",
      " |\n",
      " |  rounding\n",
      "\n"
     ]
    }
   ],
   "execution_count": 6
  },
  {
   "metadata": {
    "ExecuteTime": {
     "end_time": "2024-07-02T07:52:46.594258Z",
     "start_time": "2024-07-02T07:52:46.590739Z"
    }
   },
   "cell_type": "code",
   "source": "decimal.getcontext().prec = 6",
   "id": "c297ce668cf27f53",
   "outputs": [],
   "execution_count": 7
  },
  {
   "metadata": {
    "ExecuteTime": {
     "end_time": "2024-07-02T07:52:50.451339Z",
     "start_time": "2024-07-02T07:52:50.446622Z"
    }
   },
   "cell_type": "code",
   "source": "decimal.getcontext()",
   "id": "47a1fb358a9e1222",
   "outputs": [
    {
     "data": {
      "text/plain": [
       "Context(prec=6, rounding=ROUND_HALF_EVEN, Emin=-999999, Emax=999999, capitals=1, clamp=0, flags=[], traps=[InvalidOperation, DivisionByZero, Overflow])"
      ]
     },
     "execution_count": 8,
     "metadata": {},
     "output_type": "execute_result"
    }
   ],
   "execution_count": 8
  },
  {
   "metadata": {
    "ExecuteTime": {
     "end_time": "2024-07-02T07:53:20.793658Z",
     "start_time": "2024-07-02T07:53:20.790559Z"
    }
   },
   "cell_type": "code",
   "source": "g_ctx = decimal.getcontext()",
   "id": "3f8c6c084ee63688",
   "outputs": [],
   "execution_count": 9
  },
  {
   "metadata": {
    "ExecuteTime": {
     "end_time": "2024-07-02T07:53:30.859446Z",
     "start_time": "2024-07-02T07:53:30.855073Z"
    }
   },
   "cell_type": "code",
   "source": "type(g_ctx)",
   "id": "7ff4a94c89d16966",
   "outputs": [
    {
     "data": {
      "text/plain": [
       "decimal.Context"
      ]
     },
     "execution_count": 10,
     "metadata": {},
     "output_type": "execute_result"
    }
   ],
   "execution_count": 10
  },
  {
   "metadata": {
    "ExecuteTime": {
     "end_time": "2024-07-02T07:54:45.452957Z",
     "start_time": "2024-07-02T07:54:45.449630Z"
    }
   },
   "cell_type": "code",
   "source": "g_ctx.rounding = decimal.ROUND_HALF_UP",
   "id": "f46febe6e741e766",
   "outputs": [],
   "execution_count": 11
  },
  {
   "metadata": {
    "ExecuteTime": {
     "end_time": "2024-07-02T07:55:11.573252Z",
     "start_time": "2024-07-02T07:55:11.568823Z"
    }
   },
   "cell_type": "code",
   "source": "type(decimal.ROUND_HALF_UP), decimal.ROUND_HALF_UP",
   "id": "69a1e7bbda3a4ccb",
   "outputs": [
    {
     "data": {
      "text/plain": [
       "(str, 'ROUND_HALF_UP')"
      ]
     },
     "execution_count": 13,
     "metadata": {},
     "output_type": "execute_result"
    }
   ],
   "execution_count": 13
  },
  {
   "metadata": {
    "ExecuteTime": {
     "end_time": "2024-07-02T07:55:23.539549Z",
     "start_time": "2024-07-02T07:55:23.534259Z"
    }
   },
   "cell_type": "code",
   "source": "g_ctx",
   "id": "40cd18b000897849",
   "outputs": [
    {
     "data": {
      "text/plain": [
       "Context(prec=6, rounding=ROUND_HALF_UP, Emin=-999999, Emax=999999, capitals=1, clamp=0, flags=[], traps=[InvalidOperation, DivisionByZero, Overflow])"
      ]
     },
     "execution_count": 14,
     "metadata": {},
     "output_type": "execute_result"
    }
   ],
   "execution_count": 14
  },
  {
   "metadata": {
    "ExecuteTime": {
     "end_time": "2024-07-02T07:55:56.364791Z",
     "start_time": "2024-07-02T07:55:56.361744Z"
    }
   },
   "cell_type": "code",
   "source": [
    "g_ctx.prec = 28\n",
    "g_ctx.rounding = decimal.ROUND_HALF_EVEN"
   ],
   "id": "a56e3ab530f24879",
   "outputs": [],
   "execution_count": 15
  },
  {
   "metadata": {
    "ExecuteTime": {
     "end_time": "2024-07-02T07:56:00.140166Z",
     "start_time": "2024-07-02T07:56:00.135509Z"
    }
   },
   "cell_type": "code",
   "source": "g_ctx",
   "id": "4869134b0a28d20e",
   "outputs": [
    {
     "data": {
      "text/plain": [
       "Context(prec=28, rounding=ROUND_HALF_EVEN, Emin=-999999, Emax=999999, capitals=1, clamp=0, flags=[], traps=[InvalidOperation, DivisionByZero, Overflow])"
      ]
     },
     "execution_count": 16,
     "metadata": {},
     "output_type": "execute_result"
    }
   ],
   "execution_count": 16
  },
  {
   "metadata": {
    "ExecuteTime": {
     "end_time": "2024-07-02T07:56:51.813756Z",
     "start_time": "2024-07-02T07:56:51.807876Z"
    }
   },
   "cell_type": "code",
   "source": "type(decimal.localcontext())",
   "id": "b4548126fc16b50",
   "outputs": [
    {
     "data": {
      "text/plain": [
       "decimal.ContextManager"
      ]
     },
     "execution_count": 18,
     "metadata": {},
     "output_type": "execute_result"
    }
   ],
   "execution_count": 18
  },
  {
   "metadata": {
    "ExecuteTime": {
     "end_time": "2024-07-02T07:57:01.884883Z",
     "start_time": "2024-07-02T07:57:01.879721Z"
    }
   },
   "cell_type": "code",
   "source": "type(decimal.getcontext())",
   "id": "ca3dbc3163757638",
   "outputs": [
    {
     "data": {
      "text/plain": [
       "decimal.Context"
      ]
     },
     "execution_count": 19,
     "metadata": {},
     "output_type": "execute_result"
    }
   ],
   "execution_count": 19
  },
  {
   "metadata": {
    "ExecuteTime": {
     "end_time": "2024-07-02T07:58:10.196280Z",
     "start_time": "2024-07-02T07:58:10.192136Z"
    }
   },
   "cell_type": "code",
   "source": [
    "with decimal.localcontext() as ctx:\n",
    "    print(type(ctx))\n",
    "    print(ctx)"
   ],
   "id": "91111a0f42cb1b47",
   "outputs": [
    {
     "name": "stdout",
     "output_type": "stream",
     "text": [
      "<class 'decimal.Context'>\n",
      "Context(prec=28, rounding=ROUND_HALF_EVEN, Emin=-999999, Emax=999999, capitals=1, clamp=0, flags=[], traps=[InvalidOperation, DivisionByZero, Overflow])\n"
     ]
    }
   ],
   "execution_count": 20
  },
  {
   "metadata": {
    "ExecuteTime": {
     "end_time": "2024-07-02T08:01:16.773682Z",
     "start_time": "2024-07-02T08:01:16.768822Z"
    }
   },
   "cell_type": "code",
   "source": [
    "with decimal.localcontext() as ctx:\n",
    "    ctx.prec = 6\n",
    "    ctx.rounding = decimal.ROUND_HALF_UP\n",
    "    print(ctx) \n",
    "    print(decimal.getcontext())  # Return Current Contex\n",
    "    print(ctx is decimal.getcontext())\n",
    "print(decimal.getcontext())"
   ],
   "id": "2cf8e436a3e51bcc",
   "outputs": [
    {
     "name": "stdout",
     "output_type": "stream",
     "text": [
      "Context(prec=6, rounding=ROUND_HALF_UP, Emin=-999999, Emax=999999, capitals=1, clamp=0, flags=[], traps=[InvalidOperation, DivisionByZero, Overflow])\n",
      "Context(prec=6, rounding=ROUND_HALF_UP, Emin=-999999, Emax=999999, capitals=1, clamp=0, flags=[], traps=[InvalidOperation, DivisionByZero, Overflow])\n",
      "True\n",
      "Context(prec=28, rounding=ROUND_HALF_EVEN, Emin=-999999, Emax=999999, capitals=1, clamp=0, flags=[], traps=[InvalidOperation, DivisionByZero, Overflow])\n"
     ]
    }
   ],
   "execution_count": 26
  },
  {
   "metadata": {
    "ExecuteTime": {
     "end_time": "2024-07-02T08:03:04.528892Z",
     "start_time": "2024-07-02T08:03:04.525579Z"
    }
   },
   "cell_type": "code",
   "source": [
    "x = Decimal('1.25')\n",
    "y = Decimal('1.35')"
   ],
   "id": "cac4ca8925fdc4b0",
   "outputs": [],
   "execution_count": 27
  },
  {
   "metadata": {
    "ExecuteTime": {
     "end_time": "2024-07-02T08:04:14.726258Z",
     "start_time": "2024-07-02T08:04:14.720969Z"
    }
   },
   "cell_type": "code",
   "source": [
    "with decimal.localcontext() as ctx:\n",
    "    ctx.prec = 6\n",
    "    ctx.rounding = decimal.ROUND_HALF_UP\n",
    "    print(round(x, 1))\n",
    "    print(round(y, 1))\n",
    "print()\n",
    "print(round(x, 1))\n",
    "print(round(y, 1))"
   ],
   "id": "5113880ef46093b5",
   "outputs": [
    {
     "name": "stdout",
     "output_type": "stream",
     "text": [
      "1.3\n",
      "1.4\n",
      "\n",
      "1.2\n",
      "1.4\n"
     ]
    }
   ],
   "execution_count": 31
  },
  {
   "metadata": {},
   "cell_type": "code",
   "outputs": [],
   "execution_count": null,
   "source": "",
   "id": "c8d78d4c15120434"
  }
 ],
 "metadata": {
  "kernelspec": {
   "display_name": "Python 3",
   "language": "python",
   "name": "python3"
  },
  "language_info": {
   "codemirror_mode": {
    "name": "ipython",
    "version": 2
   },
   "file_extension": ".py",
   "mimetype": "text/x-python",
   "name": "python",
   "nbconvert_exporter": "python",
   "pygments_lexer": "ipython2",
   "version": "2.7.6"
  }
 },
 "nbformat": 4,
 "nbformat_minor": 5
}
