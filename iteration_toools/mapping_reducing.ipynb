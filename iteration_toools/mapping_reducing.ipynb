{
 "cells": [
  {
   "cell_type": "code",
   "id": "initial_id",
   "metadata": {
    "collapsed": true,
    "ExecuteTime": {
     "end_time": "2024-07-26T15:59:14.097056Z",
     "start_time": "2024-07-26T15:59:14.094700Z"
    }
   },
   "source": "maps = map(lambda x: x**2, range(5))",
   "outputs": [],
   "execution_count": 1
  },
  {
   "metadata": {
    "ExecuteTime": {
     "end_time": "2024-07-26T15:59:16.129760Z",
     "start_time": "2024-07-26T15:59:16.123173Z"
    }
   },
   "cell_type": "code",
   "source": "maps",
   "id": "f68868e5e01dac14",
   "outputs": [
    {
     "data": {
      "text/plain": [
       "<map at 0x76e13d9f01c0>"
      ]
     },
     "execution_count": 2,
     "metadata": {},
     "output_type": "execute_result"
    }
   ],
   "execution_count": 2
  },
  {
   "metadata": {
    "ExecuteTime": {
     "end_time": "2024-07-26T15:59:26.906209Z",
     "start_time": "2024-07-26T15:59:26.901480Z"
    }
   },
   "cell_type": "code",
   "source": "iter(maps) is maps",
   "id": "57e60bca225ddabe",
   "outputs": [
    {
     "data": {
      "text/plain": [
       "True"
      ]
     },
     "execution_count": 3,
     "metadata": {},
     "output_type": "execute_result"
    }
   ],
   "execution_count": 3
  },
  {
   "metadata": {
    "ExecuteTime": {
     "end_time": "2024-07-26T15:59:41.191864Z",
     "start_time": "2024-07-26T15:59:41.186295Z"
    }
   },
   "cell_type": "code",
   "source": "'__next__' in dir(maps)",
   "id": "b138c2a3b5835396",
   "outputs": [
    {
     "data": {
      "text/plain": [
       "True"
      ]
     },
     "execution_count": 4,
     "metadata": {},
     "output_type": "execute_result"
    }
   ],
   "execution_count": 4
  },
  {
   "metadata": {
    "ExecuteTime": {
     "end_time": "2024-07-26T16:00:31.141925Z",
     "start_time": "2024-07-26T16:00:31.136681Z"
    }
   },
   "cell_type": "code",
   "source": "'__next__' in dir([]), '__next__' in dir(iter([])) ",
   "id": "f2ed2f6f5f0901e2",
   "outputs": [
    {
     "data": {
      "text/plain": [
       "(False, True)"
      ]
     },
     "execution_count": 6,
     "metadata": {},
     "output_type": "execute_result"
    }
   ],
   "execution_count": 6
  },
  {
   "metadata": {
    "ExecuteTime": {
     "end_time": "2024-07-26T16:09:07.022811Z",
     "start_time": "2024-07-26T16:09:07.018848Z"
    }
   },
   "cell_type": "code",
   "source": "list(maps)",
   "id": "939e0e45ab31524d",
   "outputs": [
    {
     "data": {
      "text/plain": [
       "[0, 1, 4, 9, 16]"
      ]
     },
     "execution_count": 7,
     "metadata": {},
     "output_type": "execute_result"
    }
   ],
   "execution_count": 7
  },
  {
   "metadata": {
    "ExecuteTime": {
     "end_time": "2024-07-26T16:10:14.447816Z",
     "start_time": "2024-07-26T16:10:14.444607Z"
    }
   },
   "cell_type": "code",
   "source": [
    "def add(t):\n",
    "    return t[0] + t[1]"
   ],
   "id": "e13798f39f683799",
   "outputs": [],
   "execution_count": 8
  },
  {
   "metadata": {
    "ExecuteTime": {
     "end_time": "2024-07-26T16:11:57.832175Z",
     "start_time": "2024-07-26T16:11:57.828422Z"
    }
   },
   "cell_type": "code",
   "source": "list(map(add, ((1, 2, 3), [4, 5, 6])))",
   "id": "8ed8e50ef5a8e75a",
   "outputs": [
    {
     "data": {
      "text/plain": [
       "[3, 9]"
      ]
     },
     "execution_count": 13,
     "metadata": {},
     "output_type": "execute_result"
    }
   ],
   "execution_count": 13
  },
  {
   "metadata": {
    "ExecuteTime": {
     "end_time": "2024-07-26T16:14:21.971332Z",
     "start_time": "2024-07-26T16:14:21.968167Z"
    }
   },
   "cell_type": "code",
   "source": [
    "def add(x, y):\n",
    "    return x + y"
   ],
   "id": "d88e72968d00319d",
   "outputs": [],
   "execution_count": 17
  },
  {
   "metadata": {
    "ExecuteTime": {
     "end_time": "2024-07-26T16:14:22.449275Z",
     "start_time": "2024-07-26T16:14:22.433212Z"
    }
   },
   "cell_type": "code",
   "source": "list(map(add, [(0, 0), [1, 1], range(2, 4)]))",
   "id": "ae34b63118045f",
   "outputs": [
    {
     "ename": "TypeError",
     "evalue": "add() missing 1 required positional argument: 'y'",
     "output_type": "error",
     "traceback": [
      "\u001B[0;31m---------------------------------------------------------------------------\u001B[0m",
      "\u001B[0;31mTypeError\u001B[0m                                 Traceback (most recent call last)",
      "Cell \u001B[0;32mIn[18], line 1\u001B[0m\n\u001B[0;32m----> 1\u001B[0m \u001B[38;5;28;43mlist\u001B[39;49m\u001B[43m(\u001B[49m\u001B[38;5;28;43mmap\u001B[39;49m\u001B[43m(\u001B[49m\u001B[43madd\u001B[49m\u001B[43m,\u001B[49m\u001B[43m \u001B[49m\u001B[43m[\u001B[49m\u001B[43m(\u001B[49m\u001B[38;5;241;43m0\u001B[39;49m\u001B[43m,\u001B[49m\u001B[43m \u001B[49m\u001B[38;5;241;43m0\u001B[39;49m\u001B[43m)\u001B[49m\u001B[43m,\u001B[49m\u001B[43m \u001B[49m\u001B[43m[\u001B[49m\u001B[38;5;241;43m1\u001B[39;49m\u001B[43m,\u001B[49m\u001B[43m \u001B[49m\u001B[38;5;241;43m1\u001B[39;49m\u001B[43m]\u001B[49m\u001B[43m,\u001B[49m\u001B[43m \u001B[49m\u001B[38;5;28;43mrange\u001B[39;49m\u001B[43m(\u001B[49m\u001B[38;5;241;43m2\u001B[39;49m\u001B[43m,\u001B[49m\u001B[43m \u001B[49m\u001B[38;5;241;43m4\u001B[39;49m\u001B[43m)\u001B[49m\u001B[43m]\u001B[49m\u001B[43m)\u001B[49m\u001B[43m)\u001B[49m\n",
      "\u001B[0;31mTypeError\u001B[0m: add() missing 1 required positional argument: 'y'"
     ]
    }
   ],
   "execution_count": 18
  },
  {
   "metadata": {
    "ExecuteTime": {
     "end_time": "2024-07-26T16:14:59.024094Z",
     "start_time": "2024-07-26T16:14:59.019017Z"
    }
   },
   "cell_type": "code",
   "source": "[add(*t) for t in [(0, 0), [1, 1], range(2, 4)]]",
   "id": "80d16882270fd58b",
   "outputs": [
    {
     "data": {
      "text/plain": [
       "[0, 2, 5]"
      ]
     },
     "execution_count": 19,
     "metadata": {},
     "output_type": "execute_result"
    }
   ],
   "execution_count": 19
  },
  {
   "metadata": {
    "ExecuteTime": {
     "end_time": "2024-07-26T16:15:28.568799Z",
     "start_time": "2024-07-26T16:15:28.565806Z"
    }
   },
   "cell_type": "code",
   "source": "from itertools import starmap",
   "id": "f116f228b2eff7c7",
   "outputs": [],
   "execution_count": 20
  },
  {
   "metadata": {
    "ExecuteTime": {
     "end_time": "2024-07-26T16:15:50.197766Z",
     "start_time": "2024-07-26T16:15:50.194517Z"
    }
   },
   "cell_type": "code",
   "source": "list(starmap(add, [(0, 0), [1, 1], range(2, 4)]))",
   "id": "2fe469719928c6a",
   "outputs": [
    {
     "data": {
      "text/plain": [
       "[0, 2, 5]"
      ]
     },
     "execution_count": 21,
     "metadata": {},
     "output_type": "execute_result"
    }
   ],
   "execution_count": 21
  },
  {
   "metadata": {
    "ExecuteTime": {
     "end_time": "2024-07-26T16:16:36.020256Z",
     "start_time": "2024-07-26T16:16:36.015459Z"
    }
   },
   "cell_type": "code",
   "source": "list(starmap(add, [(0, 0), [1, 1], range(2, 4)]))",
   "id": "fe02e7b73a8dc599",
   "outputs": [
    {
     "data": {
      "text/plain": [
       "[0, 2, 5]"
      ]
     },
     "execution_count": 23,
     "metadata": {},
     "output_type": "execute_result"
    }
   ],
   "execution_count": 23
  },
  {
   "metadata": {
    "ExecuteTime": {
     "end_time": "2024-07-26T16:16:47.599457Z",
     "start_time": "2024-07-26T16:16:47.594239Z"
    }
   },
   "cell_type": "code",
   "source": "sum(range(10, 40, 10))",
   "id": "738b465f9823b93d",
   "outputs": [
    {
     "data": {
      "text/plain": [
       "60"
      ]
     },
     "execution_count": 24,
     "metadata": {},
     "output_type": "execute_result"
    }
   ],
   "execution_count": 24
  },
  {
   "metadata": {
    "ExecuteTime": {
     "end_time": "2024-07-26T16:17:18.266008Z",
     "start_time": "2024-07-26T16:17:18.262439Z"
    }
   },
   "cell_type": "code",
   "source": "from functools import reduce",
   "id": "c07aed70167e5fd8",
   "outputs": [],
   "execution_count": 25
  },
  {
   "metadata": {
    "ExecuteTime": {
     "end_time": "2024-07-26T16:17:32.701951Z",
     "start_time": "2024-07-26T16:17:32.697390Z"
    }
   },
   "cell_type": "code",
   "source": "reduce(lambda x, y: x*y, [1, 2, 3, 4])",
   "id": "5f841809380cc159",
   "outputs": [
    {
     "data": {
      "text/plain": [
       "24"
      ]
     },
     "execution_count": 26,
     "metadata": {},
     "output_type": "execute_result"
    }
   ],
   "execution_count": 26
  },
  {
   "metadata": {
    "ExecuteTime": {
     "end_time": "2024-07-26T16:18:12.540546Z",
     "start_time": "2024-07-26T16:18:12.536421Z"
    }
   },
   "cell_type": "code",
   "source": "reduce(lambda x, y: x*y, [1, 2, 3, 4], 10)",
   "id": "5a6ac2643c02a1eb",
   "outputs": [
    {
     "data": {
      "text/plain": [
       "240"
      ]
     },
     "execution_count": 27,
     "metadata": {},
     "output_type": "execute_result"
    }
   ],
   "execution_count": 27
  },
  {
   "metadata": {
    "ExecuteTime": {
     "end_time": "2024-07-26T16:20:10.872949Z",
     "start_time": "2024-07-26T16:20:10.869363Z"
    }
   },
   "cell_type": "code",
   "source": [
    "def sum_(iterable):\n",
    "    it = iter(iterable)\n",
    "    acc = next(it)\n",
    "    yield acc\n",
    "    for val in it:\n",
    "        acc += val\n",
    "        yield acc"
   ],
   "id": "acf4c4d8e0ae3588",
   "outputs": [],
   "execution_count": 28
  },
  {
   "metadata": {
    "ExecuteTime": {
     "end_time": "2024-07-26T16:20:25.823248Z",
     "start_time": "2024-07-26T16:20:25.819652Z"
    }
   },
   "cell_type": "code",
   "source": [
    "for item in sum_([10, 20, 30]):\n",
    "    print(item)"
   ],
   "id": "6ce1f857ec2849d7",
   "outputs": [
    {
     "name": "stdout",
     "output_type": "stream",
     "text": [
      "10\n",
      "30\n",
      "60\n"
     ]
    }
   ],
   "execution_count": 29
  },
  {
   "metadata": {
    "ExecuteTime": {
     "end_time": "2024-07-26T16:39:10.356855Z",
     "start_time": "2024-07-26T16:39:10.353337Z"
    }
   },
   "cell_type": "code",
   "source": [
    "def running_reduce(fn, iterable, start=None):\n",
    "    it = iter(iterable)\n",
    "    if start is None:\n",
    "        acc = next(it)\n",
    "    else:\n",
    "        acc = start\n",
    "    yield acc\n",
    "    \n",
    "    for item in it:\n",
    "        acc = fn(acc, item)\n",
    "        yield acc"
   ],
   "id": "6b3f508b39a72e4c",
   "outputs": [],
   "execution_count": 30
  },
  {
   "metadata": {
    "ExecuteTime": {
     "end_time": "2024-07-26T16:39:36.993133Z",
     "start_time": "2024-07-26T16:39:36.988840Z"
    }
   },
   "cell_type": "code",
   "source": "list(running_reduce(lambda x, y: x+y, [10, 20, 30]))",
   "id": "7f7fc286c8eb5482",
   "outputs": [
    {
     "data": {
      "text/plain": [
       "[10, 30, 60]"
      ]
     },
     "execution_count": 31,
     "metadata": {},
     "output_type": "execute_result"
    }
   ],
   "execution_count": 31
  },
  {
   "metadata": {
    "ExecuteTime": {
     "end_time": "2024-07-26T16:39:52.033061Z",
     "start_time": "2024-07-26T16:39:52.029670Z"
    }
   },
   "cell_type": "code",
   "source": "import operator",
   "id": "8d9f0a04af227a1b",
   "outputs": [],
   "execution_count": 32
  },
  {
   "metadata": {
    "ExecuteTime": {
     "end_time": "2024-07-26T16:40:13.023522Z",
     "start_time": "2024-07-26T16:40:13.017724Z"
    }
   },
   "cell_type": "code",
   "source": "list(running_reduce(operator.add, [10, 20, 30], 100))",
   "id": "17234705ad037281",
   "outputs": [
    {
     "data": {
      "text/plain": [
       "[100, 110, 130, 160]"
      ]
     },
     "execution_count": 33,
     "metadata": {},
     "output_type": "execute_result"
    }
   ],
   "execution_count": 33
  },
  {
   "metadata": {
    "ExecuteTime": {
     "end_time": "2024-07-26T16:40:34.837525Z",
     "start_time": "2024-07-26T16:40:34.832276Z"
    }
   },
   "cell_type": "code",
   "source": "list(running_reduce(operator.mul, [10, 20, 30], 100))",
   "id": "cfa758a768ecf7dd",
   "outputs": [
    {
     "data": {
      "text/plain": [
       "[100, 1000, 20000, 600000]"
      ]
     },
     "execution_count": 34,
     "metadata": {},
     "output_type": "execute_result"
    }
   ],
   "execution_count": 34
  },
  {
   "metadata": {
    "ExecuteTime": {
     "end_time": "2024-07-26T16:41:15.826665Z",
     "start_time": "2024-07-26T16:41:15.823322Z"
    }
   },
   "cell_type": "code",
   "source": "from itertools import accumulate",
   "id": "d6e65401b3a9f5eb",
   "outputs": [],
   "execution_count": 35
  },
  {
   "metadata": {
    "ExecuteTime": {
     "end_time": "2024-07-26T16:41:27.629336Z",
     "start_time": "2024-07-26T16:41:27.625205Z"
    }
   },
   "cell_type": "code",
   "source": "list(accumulate([10, 20, 30]))",
   "id": "8c939e267b255c9a",
   "outputs": [
    {
     "data": {
      "text/plain": [
       "[10, 30, 60]"
      ]
     },
     "execution_count": 36,
     "metadata": {},
     "output_type": "execute_result"
    }
   ],
   "execution_count": 36
  },
  {
   "metadata": {
    "ExecuteTime": {
     "end_time": "2024-07-26T16:50:05.107159Z",
     "start_time": "2024-07-26T16:50:05.102208Z"
    }
   },
   "cell_type": "code",
   "source": "list(accumulate([10, 20, 30], operator.mul, initial=100))",
   "id": "3762235ab1622e75",
   "outputs": [
    {
     "data": {
      "text/plain": [
       "[100, 1000, 20000, 600000]"
      ]
     },
     "execution_count": 38,
     "metadata": {},
     "output_type": "execute_result"
    }
   ],
   "execution_count": 38
  },
  {
   "metadata": {
    "ExecuteTime": {
     "end_time": "2024-07-26T16:50:41.304054Z",
     "start_time": "2024-07-26T16:50:41.301195Z"
    }
   },
   "cell_type": "code",
   "source": "from itertools import chain",
   "id": "64cb3cb32247c790",
   "outputs": [],
   "execution_count": 39
  },
  {
   "metadata": {
    "ExecuteTime": {
     "end_time": "2024-07-26T16:50:58.254185Z",
     "start_time": "2024-07-26T16:50:58.250319Z"
    }
   },
   "cell_type": "code",
   "source": "list(chain([10], [1, 2, 3, 4]))",
   "id": "7f62f94fcc915be",
   "outputs": [
    {
     "data": {
      "text/plain": [
       "[10, 1, 2, 3, 4]"
      ]
     },
     "execution_count": 40,
     "metadata": {},
     "output_type": "execute_result"
    }
   ],
   "execution_count": 40
  },
  {
   "metadata": {
    "ExecuteTime": {
     "end_time": "2024-07-26T16:52:32.630396Z",
     "start_time": "2024-07-26T16:52:32.624303Z"
    }
   },
   "cell_type": "code",
   "source": "list(accumulate(chain((10,), [1, 2, 3, 4]), operator.mul))",
   "id": "4ab3dc8f49a28d78",
   "outputs": [
    {
     "data": {
      "text/plain": [
       "[10, 10, 20, 60, 240]"
      ]
     },
     "execution_count": 42,
     "metadata": {},
     "output_type": "execute_result"
    }
   ],
   "execution_count": 42
  },
  {
   "metadata": {},
   "cell_type": "code",
   "outputs": [],
   "execution_count": null,
   "source": "",
   "id": "4bae6c7839bc9019"
  }
 ],
 "metadata": {
  "kernelspec": {
   "display_name": "Python 3",
   "language": "python",
   "name": "python3"
  },
  "language_info": {
   "codemirror_mode": {
    "name": "ipython",
    "version": 2
   },
   "file_extension": ".py",
   "mimetype": "text/x-python",
   "name": "python",
   "nbconvert_exporter": "python",
   "pygments_lexer": "ipython2",
   "version": "2.7.6"
  }
 },
 "nbformat": 4,
 "nbformat_minor": 5
}
