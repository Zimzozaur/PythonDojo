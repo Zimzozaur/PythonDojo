{
 "cells": [
  {
   "cell_type": "code",
   "id": "initial_id",
   "metadata": {
    "collapsed": true,
    "ExecuteTime": {
     "end_time": "2024-07-27T08:08:57.665413Z",
     "start_time": "2024-07-27T08:08:57.662483Z"
    }
   },
   "source": "import itertools",
   "outputs": [],
   "execution_count": 1
  },
  {
   "metadata": {
    "ExecuteTime": {
     "end_time": "2024-07-27T08:11:34.853428Z",
     "start_time": "2024-07-27T08:11:34.848854Z"
    }
   },
   "cell_type": "code",
   "source": [
    "with open('cars_2014.csv') as f:\n",
    "    for row in itertools.islice(f, 0, 5):\n",
    "        print(row, end='')"
   ],
   "id": "c8a665a46739c188",
   "outputs": [
    {
     "name": "stdout",
     "output_type": "stream",
     "text": [
      "make,model\n",
      "ACURA,ILX\n",
      "ACURA,MDX\n",
      "ACURA,RDX\n",
      "ACURA,RLX\n"
     ]
    }
   ],
   "execution_count": 5
  },
  {
   "metadata": {
    "ExecuteTime": {
     "end_time": "2024-07-27T08:12:58.938446Z",
     "start_time": "2024-07-27T08:12:58.934961Z"
    }
   },
   "cell_type": "code",
   "source": "from collections import defaultdict",
   "id": "566f8bf6e47ea7f4",
   "outputs": [],
   "execution_count": 6
  },
  {
   "metadata": {
    "ExecuteTime": {
     "end_time": "2024-07-27T08:13:34.201235Z",
     "start_time": "2024-07-27T08:13:34.198062Z"
    }
   },
   "cell_type": "code",
   "source": "makes = defaultdict(int)",
   "id": "2c8028c224914e6a",
   "outputs": [],
   "execution_count": 10
  },
  {
   "metadata": {
    "ExecuteTime": {
     "end_time": "2024-07-27T08:14:16.121114Z",
     "start_time": "2024-07-27T08:14:16.117863Z"
    }
   },
   "cell_type": "code",
   "source": "makes['BMW'] = makes['BMW'] + 1",
   "id": "1d261d25729d273d",
   "outputs": [],
   "execution_count": 11
  },
  {
   "metadata": {
    "ExecuteTime": {
     "end_time": "2024-07-27T08:14:17.660965Z",
     "start_time": "2024-07-27T08:14:17.656696Z"
    }
   },
   "cell_type": "code",
   "source": "makes",
   "id": "a19ec9cdfc9cbbe6",
   "outputs": [
    {
     "data": {
      "text/plain": [
       "defaultdict(int, {'BMW': 1})"
      ]
     },
     "execution_count": 12,
     "metadata": {},
     "output_type": "execute_result"
    }
   ],
   "execution_count": 12
  },
  {
   "metadata": {
    "ExecuteTime": {
     "end_time": "2024-07-27T08:29:37.199890Z",
     "start_time": "2024-07-27T08:29:37.195430Z"
    }
   },
   "cell_type": "code",
   "source": [
    "makes = defaultdict(int)\n",
    "with open('cars_2014.csv') as f:\n",
    "    next(f)\n",
    "    for row in f:\n",
    "        make, _ = row.strip('\\n').split(',')\n",
    "        makes[make] += 1\n",
    "\n",
    "\n",
    "makes_list = list(makes.items())\n",
    "makes_list.sort(key=lambda x: x[1], reverse=True)\n",
    "\n",
    "for key, value in makes_list:\n",
    "    print(f'{key}: {value}')"
   ],
   "id": "4ee15d2d0b6a7b7a",
   "outputs": [
    {
     "name": "stdout",
     "output_type": "stream",
     "text": [
      "YAMAHA: 110\n",
      "POLARIS: 101\n",
      "ARCTIC CAT: 96\n",
      "HONDA: 91\n",
      "BMW: 86\n",
      "SKI-DOO: 67\n",
      "CAN-AM: 61\n",
      "MERCEDES-BENZ: 60\n",
      "KAWASAKI: 59\n",
      "SUZUKI: 48\n",
      "FORD: 34\n",
      "CHEVROLET: 33\n",
      "HARLEY DAVIDSON: 29\n",
      "KYMCO: 28\n",
      "AUDI: 27\n",
      "NISSAN: 24\n",
      "JOHN DEERE: 19\n",
      "TOYOTA: 19\n",
      "VOLKSWAGEN: 16\n",
      "LEXUS: 14\n",
      "VICTORY: 14\n",
      "HYUNDAI: 13\n",
      "KTM: 13\n",
      "GMC: 12\n",
      "KENWORTH: 11\n",
      "KIA: 10\n",
      "SUBARU: 10\n",
      "TRIUMPH: 10\n",
      "HUSQVARNA: 9\n",
      "JAGUAR: 9\n",
      "MACK: 9\n",
      "INFINITI: 8\n",
      "MITSUBISHI: 8\n",
      "VOLVO: 8\n",
      "CADILLAC: 7\n",
      "DODGE: 7\n",
      "FREIGHTLINER: 7\n",
      "HINO: 7\n",
      "ACURA: 6\n",
      "FERRARI: 6\n",
      "LAND ROVER: 6\n",
      "LINCOLN: 6\n",
      "RAM: 6\n",
      "ASTON MARTIN: 5\n",
      "BUICK: 5\n",
      "JEEP: 5\n",
      "MAZDA: 5\n",
      "SCION: 5\n",
      "APRILIA: 4\n",
      "ARGO: 4\n",
      "DUCATI: 4\n",
      "HUSABERG: 4\n",
      "KUBOTA: 4\n",
      "PORSCHE: 4\n",
      "RENAULT: 4\n",
      "VESPA: 4\n",
      "INDIAN: 3\n",
      "MASERATI: 3\n",
      "MINI: 3\n",
      "PEUGEOT: 3\n",
      "ROLLS ROYCE: 3\n",
      "SEAT: 3\n",
      "ALFA ROMEO: 2\n",
      "BENTLEY: 2\n",
      "CHRYSLER: 2\n",
      "FIAT: 2\n",
      "LAMBORGHINI: 2\n",
      "MCLAREN: 2\n",
      "TESLA: 2\n",
      "BLUE BIRD: 1\n",
      "BUGATTI: 1\n",
      "LOTUS: 1\n",
      "SMART: 1\n",
      "SRT: 1\n"
     ]
    }
   ],
   "execution_count": 21
  },
  {
   "metadata": {
    "ExecuteTime": {
     "end_time": "2024-07-27T08:39:22.904729Z",
     "start_time": "2024-07-27T08:39:22.901652Z"
    }
   },
   "cell_type": "code",
   "source": [
    "data = (1, 2, 2, 2, 3, 3)\n",
    "it = itertools.groupby(data)\n",
    "for group_key, sub_iter in it:\n",
    "    print(group_key, list(sub_iter))"
   ],
   "id": "8def22651026f95b",
   "outputs": [
    {
     "name": "stdout",
     "output_type": "stream",
     "text": [
      "1 [1]\n",
      "2 [2, 2, 2]\n",
      "3 [3, 3]\n"
     ]
    }
   ],
   "execution_count": 32
  },
  {
   "metadata": {
    "ExecuteTime": {
     "end_time": "2024-07-27T08:44:10.740221Z",
     "start_time": "2024-07-27T08:44:10.737138Z"
    }
   },
   "cell_type": "code",
   "source": [
    "data = (\n",
    "    (1, 'abc'),\n",
    "    (1, 'bcd'),\n",
    "\n",
    "    (2, 'pyt'),\n",
    "    (2, 'yth'),\n",
    "    (2, 'tho'),\n",
    "\n",
    "    (3, 'hon'),\n",
    ")"
   ],
   "id": "1bad9d4df03e6c34",
   "outputs": [],
   "execution_count": 40
  },
  {
   "metadata": {
    "ExecuteTime": {
     "end_time": "2024-07-27T08:44:10.931815Z",
     "start_time": "2024-07-27T08:44:10.927917Z"
    }
   },
   "cell_type": "code",
   "source": [
    "groups = itertools.groupby(data, key=lambda x: x[0])\n",
    "for group_key, sub_iter in groups:\n",
    "    print(group_key, list(sub_iter))"
   ],
   "id": "7be5bd8aaea0e77b",
   "outputs": [
    {
     "name": "stdout",
     "output_type": "stream",
     "text": [
      "1 [(1, 'abc'), (1, 'bcd')]\n",
      "2 [(2, 'pyt'), (2, 'yth'), (2, 'tho')]\n",
      "3 [(3, 'hon')]\n"
     ]
    }
   ],
   "execution_count": 41
  },
  {
   "metadata": {
    "ExecuteTime": {
     "end_time": "2024-07-27T08:56:24.605297Z",
     "start_time": "2024-07-27T08:56:24.601565Z"
    }
   },
   "cell_type": "code",
   "source": [
    "from itertools import product\n",
    "def gen_groups():\n",
    "    for key, value in product(range(1, 4), range(3)):\n",
    "        yield key, value"
   ],
   "id": "bfebdcbd8ecf9ccf",
   "outputs": [],
   "execution_count": 96
  },
  {
   "metadata": {
    "ExecuteTime": {
     "end_time": "2024-07-27T08:56:24.765638Z",
     "start_time": "2024-07-27T08:56:24.762553Z"
    }
   },
   "cell_type": "code",
   "source": "g = gen_groups()",
   "id": "47305e2b74a9252a",
   "outputs": [],
   "execution_count": 97
  },
  {
   "metadata": {
    "ExecuteTime": {
     "end_time": "2024-07-27T08:56:24.850784Z",
     "start_time": "2024-07-27T08:56:24.848135Z"
    }
   },
   "cell_type": "code",
   "source": "groups = itertools.groupby(g, lambda x: x[0])",
   "id": "4238e8cd07feec6a",
   "outputs": [],
   "execution_count": 98
  },
  {
   "metadata": {
    "ExecuteTime": {
     "end_time": "2024-07-27T08:56:26.696455Z",
     "start_time": "2024-07-27T08:56:26.693525Z"
    }
   },
   "cell_type": "code",
   "source": [
    "for key, group in groups:\n",
    "    print(key, len(list(group)))"
   ],
   "id": "d7a1857f3d87c349",
   "outputs": [
    {
     "name": "stdout",
     "output_type": "stream",
     "text": [
      "1 3\n",
      "2 3\n",
      "3 3\n"
     ]
    }
   ],
   "execution_count": 99
  },
  {
   "metadata": {
    "ExecuteTime": {
     "end_time": "2024-07-27T09:01:07.217981Z",
     "start_time": "2024-07-27T09:01:07.204469Z"
    }
   },
   "cell_type": "code",
   "source": [
    "with open('cars_2014.csv') as f:\n",
    "    make_groups = itertools.groupby(f, lambda x: x.split(',')[0])\n",
    "\n",
    "list(make_groups)"
   ],
   "id": "1df22f30bd71cb7b",
   "outputs": [
    {
     "ename": "ValueError",
     "evalue": "I/O operation on closed file.",
     "output_type": "error",
     "traceback": [
      "\u001B[0;31m---------------------------------------------------------------------------\u001B[0m",
      "\u001B[0;31mValueError\u001B[0m                                Traceback (most recent call last)",
      "Cell \u001B[0;32mIn[101], line 4\u001B[0m\n\u001B[1;32m      1\u001B[0m \u001B[38;5;28;01mwith\u001B[39;00m \u001B[38;5;28mopen\u001B[39m(\u001B[38;5;124m'\u001B[39m\u001B[38;5;124mcars_2014.csv\u001B[39m\u001B[38;5;124m'\u001B[39m) \u001B[38;5;28;01mas\u001B[39;00m f:\n\u001B[1;32m      2\u001B[0m     make_groups \u001B[38;5;241m=\u001B[39m itertools\u001B[38;5;241m.\u001B[39mgroupby(f, \u001B[38;5;28;01mlambda\u001B[39;00m x: x\u001B[38;5;241m.\u001B[39msplit(\u001B[38;5;124m'\u001B[39m\u001B[38;5;124m,\u001B[39m\u001B[38;5;124m'\u001B[39m)[\u001B[38;5;241m0\u001B[39m])\n\u001B[0;32m----> 4\u001B[0m \u001B[38;5;28;43mlist\u001B[39;49m\u001B[43m(\u001B[49m\u001B[43mmake_groups\u001B[49m\u001B[43m)\u001B[49m\n",
      "\u001B[0;31mValueError\u001B[0m: I/O operation on closed file."
     ]
    }
   ],
   "execution_count": 101
  },
  {
   "metadata": {
    "ExecuteTime": {
     "end_time": "2024-07-27T10:09:05.293048Z",
     "start_time": "2024-07-27T10:09:05.270679Z"
    }
   },
   "cell_type": "code",
   "source": [
    "import itertools\n",
    "\n",
    "with open('cars_2014.csv') as f:\n",
    "    next(f)\n",
    "    make_groups = itertools.groupby(f, key=lambda x: x.split(',')[0])\n",
    "    make_counts = ((key, len(models)) for key, models in make_groups)\n",
    "    print(list(make_counts))"
   ],
   "id": "fdbf8e4912d4fe72",
   "outputs": [
    {
     "ename": "TypeError",
     "evalue": "object of type 'itertools._grouper' has no len()",
     "output_type": "error",
     "traceback": [
      "\u001B[0;31m---------------------------------------------------------------------------\u001B[0m",
      "\u001B[0;31mTypeError\u001B[0m                                 Traceback (most recent call last)",
      "Cell \u001B[0;32mIn[42], line 7\u001B[0m\n\u001B[1;32m      5\u001B[0m make_groups \u001B[38;5;241m=\u001B[39m itertools\u001B[38;5;241m.\u001B[39mgroupby(f, key\u001B[38;5;241m=\u001B[39m\u001B[38;5;28;01mlambda\u001B[39;00m x: x\u001B[38;5;241m.\u001B[39msplit(\u001B[38;5;124m'\u001B[39m\u001B[38;5;124m,\u001B[39m\u001B[38;5;124m'\u001B[39m)[\u001B[38;5;241m0\u001B[39m])\n\u001B[1;32m      6\u001B[0m make_counts \u001B[38;5;241m=\u001B[39m ((key, \u001B[38;5;28mlen\u001B[39m(models)) \u001B[38;5;28;01mfor\u001B[39;00m key, models \u001B[38;5;129;01min\u001B[39;00m make_groups)\n\u001B[0;32m----> 7\u001B[0m \u001B[38;5;28mprint\u001B[39m(\u001B[38;5;28;43mlist\u001B[39;49m\u001B[43m(\u001B[49m\u001B[43mmake_counts\u001B[49m\u001B[43m)\u001B[49m)\n",
      "Cell \u001B[0;32mIn[42], line 6\u001B[0m, in \u001B[0;36m<genexpr>\u001B[0;34m(.0)\u001B[0m\n\u001B[1;32m      4\u001B[0m \u001B[38;5;28mnext\u001B[39m(f)\n\u001B[1;32m      5\u001B[0m make_groups \u001B[38;5;241m=\u001B[39m itertools\u001B[38;5;241m.\u001B[39mgroupby(f, key\u001B[38;5;241m=\u001B[39m\u001B[38;5;28;01mlambda\u001B[39;00m x: x\u001B[38;5;241m.\u001B[39msplit(\u001B[38;5;124m'\u001B[39m\u001B[38;5;124m,\u001B[39m\u001B[38;5;124m'\u001B[39m)[\u001B[38;5;241m0\u001B[39m])\n\u001B[0;32m----> 6\u001B[0m make_counts \u001B[38;5;241m=\u001B[39m ((key, \u001B[38;5;28;43mlen\u001B[39;49m\u001B[43m(\u001B[49m\u001B[43mmodels\u001B[49m\u001B[43m)\u001B[49m) \u001B[38;5;28;01mfor\u001B[39;00m key, models \u001B[38;5;129;01min\u001B[39;00m make_groups)\n\u001B[1;32m      7\u001B[0m \u001B[38;5;28mprint\u001B[39m(\u001B[38;5;28mlist\u001B[39m(make_counts))\n",
      "\u001B[0;31mTypeError\u001B[0m: object of type 'itertools._grouper' has no len()"
     ]
    }
   ],
   "execution_count": 42
  },
  {
   "metadata": {
    "ExecuteTime": {
     "end_time": "2024-07-27T10:05:14.435651Z",
     "start_time": "2024-07-27T10:05:14.432145Z"
    }
   },
   "cell_type": "code",
   "source": [
    "def squares(n):\n",
    "    for i in range(n):\n",
    "        yield i ** 2"
   ],
   "id": "334d5f59caa5b030",
   "outputs": [],
   "execution_count": 33
  },
  {
   "metadata": {
    "ExecuteTime": {
     "end_time": "2024-07-27T10:05:40.180855Z",
     "start_time": "2024-07-27T10:05:40.162069Z"
    }
   },
   "cell_type": "code",
   "source": "len(squares(5))",
   "id": "43e32964401ef7ab",
   "outputs": [
    {
     "ename": "TypeError",
     "evalue": "object of type 'generator' has no len()",
     "output_type": "error",
     "traceback": [
      "\u001B[0;31m---------------------------------------------------------------------------\u001B[0m",
      "\u001B[0;31mTypeError\u001B[0m                                 Traceback (most recent call last)",
      "Cell \u001B[0;32mIn[35], line 1\u001B[0m\n\u001B[0;32m----> 1\u001B[0m \u001B[38;5;28;43mlen\u001B[39;49m\u001B[43m(\u001B[49m\u001B[43msquares\u001B[49m\u001B[43m(\u001B[49m\u001B[38;5;241;43m5\u001B[39;49m\u001B[43m)\u001B[49m\u001B[43m)\u001B[49m\n",
      "\u001B[0;31mTypeError\u001B[0m: object of type 'generator' has no len()"
     ]
    }
   ],
   "execution_count": 35
  },
  {
   "metadata": {
    "ExecuteTime": {
     "end_time": "2024-07-27T10:06:12.528130Z",
     "start_time": "2024-07-27T10:06:12.525352Z"
    }
   },
   "cell_type": "code",
   "source": [
    "i = 0\n",
    "for item in squares(5):\n",
    "    i += 1\n",
    "\n",
    "print(i)"
   ],
   "id": "e30c0f888e201bc",
   "outputs": [
    {
     "name": "stdout",
     "output_type": "stream",
     "text": [
      "5\n"
     ]
    }
   ],
   "execution_count": 38
  },
  {
   "metadata": {
    "ExecuteTime": {
     "end_time": "2024-07-27T10:06:59.354553Z",
     "start_time": "2024-07-27T10:06:59.350371Z"
    }
   },
   "cell_type": "code",
   "source": [
    "def len_iterable(iterable):\n",
    "    i = 0\n",
    "    for _ in iterable:\n",
    "        i += 1\n",
    "    return i"
   ],
   "id": "d5e9ae8ddc154b51",
   "outputs": [],
   "execution_count": 39
  },
  {
   "metadata": {
    "ExecuteTime": {
     "end_time": "2024-07-27T10:07:07.135233Z",
     "start_time": "2024-07-27T10:07:07.129767Z"
    }
   },
   "cell_type": "code",
   "source": "len_iterable(squares(8))",
   "id": "5974d5c4a6fc3212",
   "outputs": [
    {
     "data": {
      "text/plain": [
       "8"
      ]
     },
     "execution_count": 40,
     "metadata": {},
     "output_type": "execute_result"
    }
   ],
   "execution_count": 40
  },
  {
   "metadata": {
    "ExecuteTime": {
     "end_time": "2024-07-27T10:08:28.235424Z",
     "start_time": "2024-07-27T10:08:28.231956Z"
    }
   },
   "cell_type": "code",
   "source": "sum(1 for i in range(8))",
   "id": "d279cbf952976bb4",
   "outputs": [
    {
     "data": {
      "text/plain": [
       "8"
      ]
     },
     "execution_count": 41,
     "metadata": {},
     "output_type": "execute_result"
    }
   ],
   "execution_count": 41
  },
  {
   "metadata": {
    "ExecuteTime": {
     "end_time": "2024-07-27T10:10:25.506526Z",
     "start_time": "2024-07-27T10:10:25.500520Z"
    }
   },
   "cell_type": "code",
   "source": [
    "import itertools\n",
    "\n",
    "with open('cars_2014.csv') as f:\n",
    "    next(f)\n",
    "    make_groups = itertools.groupby(f, key=lambda x: x.split(',')[0])\n",
    "    make_counts = ((key, sum(1 for model in models)) \n",
    "                   for key, models in make_groups)\n",
    "    print(list(make_counts))"
   ],
   "id": "a9e4e1ba7548bb61",
   "outputs": [
    {
     "name": "stdout",
     "output_type": "stream",
     "text": [
      "[('ACURA', 6), ('ALFA ROMEO', 2), ('APRILIA', 4), ('ARCTIC CAT', 96), ('ARGO', 4), ('ASTON MARTIN', 5), ('AUDI', 27), ('BENTLEY', 2), ('BLUE BIRD', 1), ('BMW', 86), ('BUGATTI', 1), ('BUICK', 5), ('CADILLAC', 7), ('CAN-AM', 61), ('CHEVROLET', 33), ('CHRYSLER', 2), ('DODGE', 7), ('DUCATI', 4), ('FERRARI', 6), ('FIAT', 2), ('FORD', 34), ('FREIGHTLINER', 7), ('GMC', 12), ('HARLEY DAVIDSON', 29), ('HINO', 7), ('HONDA', 91), ('HUSABERG', 4), ('HUSQVARNA', 9), ('HYUNDAI', 13), ('INDIAN', 3), ('INFINITI', 8), ('JAGUAR', 9), ('JEEP', 5), ('JOHN DEERE', 19), ('KAWASAKI', 59), ('KENWORTH', 11), ('KIA', 10), ('KTM', 13), ('KUBOTA', 4), ('KYMCO', 28), ('LAMBORGHINI', 2), ('LAND ROVER', 6), ('LEXUS', 14), ('LINCOLN', 6), ('LOTUS', 1), ('MACK', 9), ('MASERATI', 3), ('MAZDA', 5), ('MCLAREN', 2), ('MERCEDES-BENZ', 60), ('MINI', 3), ('MITSUBISHI', 8), ('NISSAN', 24), ('PEUGEOT', 3), ('POLARIS', 101), ('PORSCHE', 4), ('RAM', 6), ('RENAULT', 4), ('ROLLS ROYCE', 3), ('SCION', 5), ('SEAT', 3), ('SKI-DOO', 67), ('SMART', 1), ('SRT', 1), ('SUBARU', 10), ('SUZUKI', 48), ('TESLA', 2), ('TOYOTA', 19), ('TRIUMPH', 10), ('VESPA', 4), ('VICTORY', 14), ('VOLKSWAGEN', 16), ('VOLVO', 8), ('YAMAHA', 110)]\n"
     ]
    }
   ],
   "execution_count": 44
  },
  {
   "metadata": {},
   "cell_type": "code",
   "outputs": [],
   "execution_count": null,
   "source": "",
   "id": "84b59ccbefa4d497"
  }
 ],
 "metadata": {
  "kernelspec": {
   "display_name": "Python 3",
   "language": "python",
   "name": "python3"
  },
  "language_info": {
   "codemirror_mode": {
    "name": "ipython",
    "version": 2
   },
   "file_extension": ".py",
   "mimetype": "text/x-python",
   "name": "python",
   "nbconvert_exporter": "python",
   "pygments_lexer": "ipython2",
   "version": "2.7.6"
  }
 },
 "nbformat": 4,
 "nbformat_minor": 5
}
