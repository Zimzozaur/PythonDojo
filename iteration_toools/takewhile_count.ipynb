{
 "cells": [
  {
   "cell_type": "code",
   "id": "initial_id",
   "metadata": {
    "collapsed": true,
    "ExecuteTime": {
     "end_time": "2024-07-25T14:10:06.916690Z",
     "start_time": "2024-07-25T14:10:06.913180Z"
    }
   },
   "source": "from itertools import count, takewhile",
   "outputs": [],
   "execution_count": 1
  },
  {
   "metadata": {
    "ExecuteTime": {
     "end_time": "2024-07-25T14:16:56.754157Z",
     "start_time": "2024-07-25T14:16:56.749992Z"
    }
   },
   "cell_type": "code",
   "source": [
    "for index, num in enumerate(takewhile(lambda x: x < 11, count(10, 0.1))):\n",
    "    print(f'{index}. {num}')"
   ],
   "id": "ca09ac707ad6726e",
   "outputs": [
    {
     "name": "stdout",
     "output_type": "stream",
     "text": [
      "0. 10\n",
      "1. 10.1\n",
      "2. 10.2\n",
      "3. 10.299999999999999\n",
      "4. 10.399999999999999\n",
      "5. 10.499999999999998\n",
      "6. 10.599999999999998\n",
      "7. 10.699999999999998\n",
      "8. 10.799999999999997\n",
      "9. 10.899999999999997\n",
      "10. 10.999999999999996\n"
     ]
    }
   ],
   "execution_count": 10
  },
  {
   "metadata": {
    "ExecuteTime": {
     "end_time": "2024-07-25T14:14:46.004815Z",
     "start_time": "2024-07-25T14:14:46.001662Z"
    }
   },
   "cell_type": "code",
   "source": "from decimal import Decimal",
   "id": "f616f8bfe40ed602",
   "outputs": [],
   "execution_count": 6
  },
  {
   "metadata": {
    "ExecuteTime": {
     "end_time": "2024-07-25T14:16:04.666377Z",
     "start_time": "2024-07-25T14:16:04.663200Z"
    }
   },
   "cell_type": "code",
   "source": [
    "for index, num in enumerate(takewhile(lambda x: x < 11, count(10, Decimal(0.1)))):\n",
    "    print(f'{index}. {num}')"
   ],
   "id": "fae63a9789f0f6a7",
   "outputs": [
    {
     "name": "stdout",
     "output_type": "stream",
     "text": [
      "0. 10\n",
      "1. 10.10000000000000000555111512\n",
      "2. 10.20000000000000001110223024\n",
      "3. 10.30000000000000001665334536\n",
      "4. 10.40000000000000002220446048\n",
      "5. 10.50000000000000002775557560\n",
      "6. 10.60000000000000003330669072\n",
      "7. 10.70000000000000003885780584\n",
      "8. 10.80000000000000004440892096\n",
      "9. 10.90000000000000004996003608\n"
     ]
    }
   ],
   "execution_count": 9
  },
  {
   "metadata": {},
   "cell_type": "code",
   "outputs": [],
   "execution_count": null,
   "source": "",
   "id": "e7389edc3c855ed4"
  }
 ],
 "metadata": {
  "kernelspec": {
   "display_name": "Python 3",
   "language": "python",
   "name": "python3"
  },
  "language_info": {
   "codemirror_mode": {
    "name": "ipython",
    "version": 2
   },
   "file_extension": ".py",
   "mimetype": "text/x-python",
   "name": "python",
   "nbconvert_exporter": "python",
   "pygments_lexer": "ipython2",
   "version": "2.7.6"
  }
 },
 "nbformat": 4,
 "nbformat_minor": 5
}
