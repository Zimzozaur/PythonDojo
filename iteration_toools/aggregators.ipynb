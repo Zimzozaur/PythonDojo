{
 "cells": [
  {
   "cell_type": "code",
   "id": "initial_id",
   "metadata": {
    "collapsed": true,
    "ExecuteTime": {
     "end_time": "2024-07-25T10:52:03.670607Z",
     "start_time": "2024-07-25T10:52:03.668062Z"
    }
   },
   "source": [
    "def squares(n):\n",
    "    for i in range(n):\n",
    "        yield i**2"
   ],
   "outputs": [],
   "execution_count": 1
  },
  {
   "metadata": {
    "ExecuteTime": {
     "end_time": "2024-07-25T10:52:14.130060Z",
     "start_time": "2024-07-25T10:52:14.125020Z"
    }
   },
   "cell_type": "code",
   "source": "list(squares(5))",
   "id": "2de6d09a8a2f7a28",
   "outputs": [
    {
     "data": {
      "text/plain": [
       "[0, 1, 4, 9, 16]"
      ]
     },
     "execution_count": 3,
     "metadata": {},
     "output_type": "execute_result"
    }
   ],
   "execution_count": 3
  },
  {
   "metadata": {
    "ExecuteTime": {
     "end_time": "2024-07-25T10:52:30.031906Z",
     "start_time": "2024-07-25T10:52:30.027450Z"
    }
   },
   "cell_type": "code",
   "source": "min(squares(5)), max(squares(5))",
   "id": "e9921c1d371b2abf",
   "outputs": [
    {
     "data": {
      "text/plain": [
       "(0, 16)"
      ]
     },
     "execution_count": 5,
     "metadata": {},
     "output_type": "execute_result"
    }
   ],
   "execution_count": 5
  },
  {
   "metadata": {
    "ExecuteTime": {
     "end_time": "2024-07-25T10:52:43.370006Z",
     "start_time": "2024-07-25T10:52:43.365592Z"
    }
   },
   "cell_type": "code",
   "source": "sum(squares(5))",
   "id": "5de2d955db99a3c4",
   "outputs": [
    {
     "data": {
      "text/plain": [
       "30"
      ]
     },
     "execution_count": 6,
     "metadata": {},
     "output_type": "execute_result"
    }
   ],
   "execution_count": 6
  },
  {
   "metadata": {
    "ExecuteTime": {
     "end_time": "2024-07-25T10:53:14.066166Z",
     "start_time": "2024-07-25T10:53:14.063069Z"
    }
   },
   "cell_type": "code",
   "source": "sq = squares(5)",
   "id": "3c7de33cab85fb42",
   "outputs": [],
   "execution_count": 7
  },
  {
   "metadata": {
    "ExecuteTime": {
     "end_time": "2024-07-25T10:53:28.011662Z",
     "start_time": "2024-07-25T10:53:27.989366Z"
    }
   },
   "cell_type": "code",
   "source": "min(sq), max(sq)",
   "id": "23ea4ca8b3a8fc0b",
   "outputs": [
    {
     "ename": "ValueError",
     "evalue": "max() iterable argument is empty",
     "output_type": "error",
     "traceback": [
      "\u001B[0;31m---------------------------------------------------------------------------\u001B[0m",
      "\u001B[0;31mValueError\u001B[0m                                Traceback (most recent call last)",
      "Cell \u001B[0;32mIn[8], line 1\u001B[0m\n\u001B[0;32m----> 1\u001B[0m \u001B[38;5;28mmin\u001B[39m(sq), \u001B[38;5;28;43mmax\u001B[39;49m\u001B[43m(\u001B[49m\u001B[43msq\u001B[49m\u001B[43m)\u001B[49m\n",
      "\u001B[0;31mValueError\u001B[0m: max() iterable argument is empty"
     ]
    }
   ],
   "execution_count": 8
  },
  {
   "metadata": {
    "ExecuteTime": {
     "end_time": "2024-07-25T10:53:38.774574Z",
     "start_time": "2024-07-25T10:53:38.760137Z"
    }
   },
   "cell_type": "code",
   "source": "next(sq)",
   "id": "45fbaf11e04148cc",
   "outputs": [
    {
     "ename": "StopIteration",
     "evalue": "",
     "output_type": "error",
     "traceback": [
      "\u001B[0;31m---------------------------------------------------------------------------\u001B[0m",
      "\u001B[0;31mStopIteration\u001B[0m                             Traceback (most recent call last)",
      "Cell \u001B[0;32mIn[9], line 1\u001B[0m\n\u001B[0;32m----> 1\u001B[0m \u001B[38;5;28;43mnext\u001B[39;49m\u001B[43m(\u001B[49m\u001B[43msq\u001B[49m\u001B[43m)\u001B[49m\n",
      "\u001B[0;31mStopIteration\u001B[0m: "
     ]
    }
   ],
   "execution_count": 9
  },
  {
   "metadata": {
    "ExecuteTime": {
     "end_time": "2024-07-25T10:54:01.990737Z",
     "start_time": "2024-07-25T10:54:01.985823Z"
    }
   },
   "cell_type": "code",
   "source": "bool(1), bool(0)",
   "id": "f7443ed83a79fe7",
   "outputs": [
    {
     "data": {
      "text/plain": [
       "(True, False)"
      ]
     },
     "execution_count": 10,
     "metadata": {},
     "output_type": "execute_result"
    }
   ],
   "execution_count": 10
  },
  {
   "metadata": {
    "ExecuteTime": {
     "end_time": "2024-07-25T10:54:42.939645Z",
     "start_time": "2024-07-25T10:54:42.934403Z"
    }
   },
   "cell_type": "code",
   "source": "bool([]), bool([0])",
   "id": "1787c5650f2fedab",
   "outputs": [
    {
     "data": {
      "text/plain": [
       "(False, True)"
      ]
     },
     "execution_count": 11,
     "metadata": {},
     "output_type": "execute_result"
    }
   ],
   "execution_count": 11
  },
  {
   "metadata": {
    "ExecuteTime": {
     "end_time": "2024-07-25T10:55:20.382889Z",
     "start_time": "2024-07-25T10:55:20.378278Z"
    }
   },
   "cell_type": "code",
   "source": [
    "sq = squares(5)\n",
    "min(sq)"
   ],
   "id": "1cabc8acabdcaa01",
   "outputs": [
    {
     "data": {
      "text/plain": [
       "0"
      ]
     },
     "execution_count": 12,
     "metadata": {},
     "output_type": "execute_result"
    }
   ],
   "execution_count": 12
  },
  {
   "metadata": {
    "ExecuteTime": {
     "end_time": "2024-07-25T10:55:31.984296Z",
     "start_time": "2024-07-25T10:55:31.963620Z"
    }
   },
   "cell_type": "code",
   "source": "next(sq)",
   "id": "8d344d2e9413df50",
   "outputs": [
    {
     "ename": "StopIteration",
     "evalue": "",
     "output_type": "error",
     "traceback": [
      "\u001B[0;31m---------------------------------------------------------------------------\u001B[0m",
      "\u001B[0;31mStopIteration\u001B[0m                             Traceback (most recent call last)",
      "Cell \u001B[0;32mIn[14], line 1\u001B[0m\n\u001B[0;32m----> 1\u001B[0m \u001B[38;5;28;43mnext\u001B[39;49m\u001B[43m(\u001B[49m\u001B[43msq\u001B[49m\u001B[43m)\u001B[49m\n",
      "\u001B[0;31mStopIteration\u001B[0m: "
     ]
    }
   ],
   "execution_count": 14
  },
  {
   "metadata": {
    "ExecuteTime": {
     "end_time": "2024-07-25T10:55:24.736721Z",
     "start_time": "2024-07-25T10:55:24.732770Z"
    }
   },
   "cell_type": "code",
   "source": "bool(sq)",
   "id": "bc604198de360267",
   "outputs": [
    {
     "data": {
      "text/plain": [
       "True"
      ]
     },
     "execution_count": 13,
     "metadata": {},
     "output_type": "execute_result"
    }
   ],
   "execution_count": 13
  },
  {
   "metadata": {
    "ExecuteTime": {
     "end_time": "2024-07-25T10:56:36.784719Z",
     "start_time": "2024-07-25T10:56:36.779975Z"
    }
   },
   "cell_type": "code",
   "source": "bool(TypeError), bool(StopIteration)",
   "id": "cfac48e5c87f477",
   "outputs": [
    {
     "data": {
      "text/plain": [
       "(True, True)"
      ]
     },
     "execution_count": 17,
     "metadata": {},
     "output_type": "execute_result"
    }
   ],
   "execution_count": 17
  },
  {
   "metadata": {
    "ExecuteTime": {
     "end_time": "2024-07-25T10:56:43.564563Z",
     "start_time": "2024-07-25T10:56:43.562043Z"
    }
   },
   "cell_type": "code",
   "source": [
    "class Person:\n",
    "    pass"
   ],
   "id": "21c8500b19b86564",
   "outputs": [],
   "execution_count": 18
  },
  {
   "metadata": {
    "ExecuteTime": {
     "end_time": "2024-07-25T10:56:48.184609Z",
     "start_time": "2024-07-25T10:56:48.181428Z"
    }
   },
   "cell_type": "code",
   "source": "p = Person()",
   "id": "61bde90a4bb55771",
   "outputs": [],
   "execution_count": 19
  },
  {
   "metadata": {
    "ExecuteTime": {
     "end_time": "2024-07-25T10:56:50.954100Z",
     "start_time": "2024-07-25T10:56:50.950189Z"
    }
   },
   "cell_type": "code",
   "source": "bool(p)",
   "id": "485900185e90b6ee",
   "outputs": [
    {
     "data": {
      "text/plain": [
       "True"
      ]
     },
     "execution_count": 20,
     "metadata": {},
     "output_type": "execute_result"
    }
   ],
   "execution_count": 20
  },
  {
   "metadata": {
    "ExecuteTime": {
     "end_time": "2024-07-25T10:58:43.195239Z",
     "start_time": "2024-07-25T10:58:43.192443Z"
    }
   },
   "cell_type": "code",
   "source": [
    "class Person:\n",
    "    def __bool__(self) -> bool:\n",
    "        return False"
   ],
   "id": "dea996fbef25c28e",
   "outputs": [],
   "execution_count": 36
  },
  {
   "metadata": {
    "ExecuteTime": {
     "end_time": "2024-07-25T10:58:44.642099Z",
     "start_time": "2024-07-25T10:58:44.637655Z"
    }
   },
   "cell_type": "code",
   "source": "bool(Person())",
   "id": "ec0d348139f047cc",
   "outputs": [
    {
     "data": {
      "text/plain": [
       "False"
      ]
     },
     "execution_count": 37,
     "metadata": {},
     "output_type": "execute_result"
    }
   ],
   "execution_count": 37
  },
  {
   "metadata": {
    "ExecuteTime": {
     "end_time": "2024-07-25T10:59:15.929640Z",
     "start_time": "2024-07-25T10:59:15.926745Z"
    }
   },
   "cell_type": "code",
   "source": [
    "class Person:\n",
    "    def __len__(self):\n",
    "        return 0"
   ],
   "id": "57b1c86acd358b41",
   "outputs": [],
   "execution_count": 38
  },
  {
   "metadata": {
    "ExecuteTime": {
     "end_time": "2024-07-25T10:59:25.511561Z",
     "start_time": "2024-07-25T10:59:25.507115Z"
    }
   },
   "cell_type": "code",
   "source": "bool(Person())",
   "id": "b2e02dad8af4a06b",
   "outputs": [
    {
     "data": {
      "text/plain": [
       "False"
      ]
     },
     "execution_count": 40,
     "metadata": {},
     "output_type": "execute_result"
    }
   ],
   "execution_count": 40
  },
  {
   "metadata": {
    "ExecuteTime": {
     "end_time": "2024-07-25T11:00:00.262411Z",
     "start_time": "2024-07-25T11:00:00.259174Z"
    }
   },
   "cell_type": "code",
   "source": [
    "class Person:\n",
    "    def __bool__(self):\n",
    "        return False\n",
    "    \n",
    "    def __len__(self):\n",
    "        return 1"
   ],
   "id": "fa5a5ece1278ffa8",
   "outputs": [],
   "execution_count": 43
  },
  {
   "metadata": {
    "ExecuteTime": {
     "end_time": "2024-07-25T11:00:00.459723Z",
     "start_time": "2024-07-25T11:00:00.455008Z"
    }
   },
   "cell_type": "code",
   "source": "bool(Person())",
   "id": "ae925c3c62dd832f",
   "outputs": [
    {
     "data": {
      "text/plain": [
       "True"
      ]
     },
     "execution_count": 44,
     "metadata": {},
     "output_type": "execute_result"
    }
   ],
   "execution_count": 44
  },
  {
   "metadata": {
    "ExecuteTime": {
     "end_time": "2024-07-25T11:02:36.149235Z",
     "start_time": "2024-07-25T11:02:36.145302Z"
    }
   },
   "cell_type": "code",
   "source": [
    "class MySeq:\n",
    "    def __init__(self, n):\n",
    "        self.n = n\n",
    "        \n",
    "    def __len__(self):\n",
    "        return self.n\n",
    "    \n",
    "    def __getitem__(self):\n",
    "        pass"
   ],
   "id": "fa2f28d1dd33d78a",
   "outputs": [],
   "execution_count": 45
  },
  {
   "metadata": {
    "ExecuteTime": {
     "end_time": "2024-07-25T11:03:08.439404Z",
     "start_time": "2024-07-25T11:03:08.434255Z"
    }
   },
   "cell_type": "code",
   "source": "bool(MySeq(0)), bool(MySeq(1))",
   "id": "617ff2d4242e27bc",
   "outputs": [
    {
     "data": {
      "text/plain": [
       "(False, True)"
      ]
     },
     "execution_count": 48,
     "metadata": {},
     "output_type": "execute_result"
    }
   ],
   "execution_count": 48
  },
  {
   "metadata": {
    "ExecuteTime": {
     "end_time": "2024-07-25T11:04:03.026179Z",
     "start_time": "2024-07-25T11:04:03.021011Z"
    }
   },
   "cell_type": "code",
   "source": "any([0, '', None])",
   "id": "c8c0a3b3a51fe16b",
   "outputs": [
    {
     "data": {
      "text/plain": [
       "False"
      ]
     },
     "execution_count": 49,
     "metadata": {},
     "output_type": "execute_result"
    }
   ],
   "execution_count": 49
  },
  {
   "metadata": {
    "ExecuteTime": {
     "end_time": "2024-07-25T11:06:31.214307Z",
     "start_time": "2024-07-25T11:06:31.210482Z"
    }
   },
   "cell_type": "code",
   "source": [
    "class MyFalse:\n",
    "    time = 0\n",
    "    \n",
    "    def __bool__(self):\n",
    "        MyFalse.time += 1\n",
    "        print(f\"Called: {MyFalse.time} times\")\n",
    "        return False"
   ],
   "id": "e3f0880c61e33f43",
   "outputs": [],
   "execution_count": 52
  },
  {
   "metadata": {
    "ExecuteTime": {
     "end_time": "2024-07-25T11:06:31.552496Z",
     "start_time": "2024-07-25T11:06:31.546085Z"
    }
   },
   "cell_type": "code",
   "source": "any([MyFalse(), MyFalse(), MyFalse()])",
   "id": "fbe145eaaee17054",
   "outputs": [
    {
     "name": "stdout",
     "output_type": "stream",
     "text": [
      "Called: 1 times\n",
      "Called: 2 times\n",
      "Called: 3 times\n"
     ]
    },
    {
     "data": {
      "text/plain": [
       "False"
      ]
     },
     "execution_count": 53,
     "metadata": {},
     "output_type": "execute_result"
    }
   ],
   "execution_count": 53
  },
  {
   "metadata": {
    "ExecuteTime": {
     "end_time": "2024-07-25T11:08:00.632753Z",
     "start_time": "2024-07-25T11:08:00.628985Z"
    }
   },
   "cell_type": "code",
   "source": [
    "class MyTrue:\n",
    "    time = 0\n",
    "    \n",
    "    def __bool__(self):\n",
    "        MyTrue.time += 1\n",
    "        print(f\"Called: {MyTrue.time} times\")\n",
    "        return True"
   ],
   "id": "8b7085e388907f44",
   "outputs": [],
   "execution_count": 56
  },
  {
   "metadata": {
    "ExecuteTime": {
     "end_time": "2024-07-25T11:08:00.848213Z",
     "start_time": "2024-07-25T11:08:00.842245Z"
    }
   },
   "cell_type": "code",
   "source": "any([MyTrue(), MyTrue(), MyTrue()])",
   "id": "b62aa3c388af2d44",
   "outputs": [
    {
     "name": "stdout",
     "output_type": "stream",
     "text": [
      "Called: 1 times\n"
     ]
    },
    {
     "data": {
      "text/plain": [
       "True"
      ]
     },
     "execution_count": 57,
     "metadata": {},
     "output_type": "execute_result"
    }
   ],
   "execution_count": 57
  },
  {
   "metadata": {
    "ExecuteTime": {
     "end_time": "2024-07-25T11:11:15.130611Z",
     "start_time": "2024-07-25T11:11:15.127344Z"
    }
   },
   "cell_type": "code",
   "source": "from numbers import Number",
   "id": "a9cbf47e7f3ffc7f",
   "outputs": [],
   "execution_count": 58
  },
  {
   "metadata": {
    "ExecuteTime": {
     "end_time": "2024-07-25T11:11:30.256335Z",
     "start_time": "2024-07-25T11:11:30.252922Z"
    }
   },
   "cell_type": "code",
   "source": "isinstance(10, Number), isinstance(10.5, Number)",
   "id": "fd08e931c96fec69",
   "outputs": [
    {
     "data": {
      "text/plain": [
       "(True, True)"
      ]
     },
     "execution_count": 59,
     "metadata": {},
     "output_type": "execute_result"
    }
   ],
   "execution_count": 59
  },
  {
   "metadata": {
    "ExecuteTime": {
     "end_time": "2024-07-25T11:13:29.751839Z",
     "start_time": "2024-07-25T11:13:29.748195Z"
    }
   },
   "cell_type": "code",
   "source": [
    "l = [1, 2, 3, 4]\n",
    "\n",
    "is_all_numbers = True\n",
    "for item in l:\n",
    "    if not isinstance(item, Number):\n",
    "        is_all_numbers = False\n",
    "        break"
   ],
   "id": "cf71357ecab5db3b",
   "outputs": [],
   "execution_count": 61
  },
  {
   "metadata": {
    "ExecuteTime": {
     "end_time": "2024-07-25T11:13:36.193314Z",
     "start_time": "2024-07-25T11:13:36.189240Z"
    }
   },
   "cell_type": "code",
   "source": "is_all_numbers",
   "id": "424aca781e1e533c",
   "outputs": [
    {
     "data": {
      "text/plain": [
       "True"
      ]
     },
     "execution_count": 62,
     "metadata": {},
     "output_type": "execute_result"
    }
   ],
   "execution_count": 62
  },
  {
   "metadata": {
    "ExecuteTime": {
     "end_time": "2024-07-25T11:15:02.700432Z",
     "start_time": "2024-07-25T11:15:02.694969Z"
    }
   },
   "cell_type": "code",
   "source": [
    "l = [1, 2, 3, 4]\n",
    "all((isinstance(n, Number) for n in l))"
   ],
   "id": "9afe0d1ef6a01c22",
   "outputs": [
    {
     "data": {
      "text/plain": [
       "True"
      ]
     },
     "execution_count": 65,
     "metadata": {},
     "output_type": "execute_result"
    }
   ],
   "execution_count": 65
  },
  {
   "metadata": {
    "ExecuteTime": {
     "end_time": "2024-07-25T11:21:25.196979Z",
     "start_time": "2024-07-25T11:21:25.192017Z"
    }
   },
   "cell_type": "code",
   "source": [
    "l = [10, 20, 30, 0, 'hello']\n",
    "all(map(lambda obj: isinstance(obj, Number), l))"
   ],
   "id": "573f5404c3a24516",
   "outputs": [
    {
     "data": {
      "text/plain": [
       "False"
      ]
     },
     "execution_count": 67,
     "metadata": {},
     "output_type": "execute_result"
    }
   ],
   "execution_count": 67
  },
  {
   "metadata": {
    "ExecuteTime": {
     "end_time": "2024-07-25T11:28:55.057140Z",
     "start_time": "2024-07-25T11:28:55.053741Z"
    }
   },
   "cell_type": "code",
   "source": "l = ['apple', 'banana', 'pi']",
   "id": "79b8a5e091752b08",
   "outputs": [],
   "execution_count": 73
  },
  {
   "metadata": {
    "ExecuteTime": {
     "end_time": "2024-07-25T11:28:55.221770Z",
     "start_time": "2024-07-25T11:28:55.216523Z"
    }
   },
   "cell_type": "code",
   "source": "all(map(lambda obj: len(obj) > 2, l))",
   "id": "af2e044200104598",
   "outputs": [
    {
     "data": {
      "text/plain": [
       "False"
      ]
     },
     "execution_count": 74,
     "metadata": {},
     "output_type": "execute_result"
    }
   ],
   "execution_count": 74
  },
  {
   "metadata": {
    "ExecuteTime": {
     "end_time": "2024-07-25T11:29:05.370434Z",
     "start_time": "2024-07-25T11:29:05.365188Z"
    }
   },
   "cell_type": "code",
   "source": "any(map(lambda s: len(s) >= 6, l))",
   "id": "ea09e22c998e6afd",
   "outputs": [
    {
     "data": {
      "text/plain": [
       "True"
      ]
     },
     "execution_count": 76,
     "metadata": {},
     "output_type": "execute_result"
    }
   ],
   "execution_count": 76
  },
  {
   "metadata": {},
   "cell_type": "code",
   "outputs": [],
   "execution_count": null,
   "source": "",
   "id": "7e4422c7df9cf642"
  }
 ],
 "metadata": {
  "kernelspec": {
   "display_name": "Python 3",
   "language": "python",
   "name": "python3"
  },
  "language_info": {
   "codemirror_mode": {
    "name": "ipython",
    "version": 2
   },
   "file_extension": ".py",
   "mimetype": "text/x-python",
   "name": "python",
   "nbconvert_exporter": "python",
   "pygments_lexer": "ipython2",
   "version": "2.7.6"
  }
 },
 "nbformat": 4,
 "nbformat_minor": 5
}
