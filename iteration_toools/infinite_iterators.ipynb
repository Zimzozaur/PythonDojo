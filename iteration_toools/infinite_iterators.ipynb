{
 "cells": [
  {
   "cell_type": "code",
   "id": "initial_id",
   "metadata": {
    "collapsed": true,
    "ExecuteTime": {
     "end_time": "2024-07-25T14:36:14.766082Z",
     "start_time": "2024-07-25T14:36:14.762463Z"
    }
   },
   "source": "from itertools import count, cycle, repeat, islice",
   "outputs": [],
   "execution_count": 1
  },
  {
   "metadata": {
    "ExecuteTime": {
     "end_time": "2024-07-25T14:36:40.874729Z",
     "start_time": "2024-07-25T14:36:40.872290Z"
    }
   },
   "cell_type": "code",
   "source": "g = count(10)",
   "id": "c0a6e876c2ac697d",
   "outputs": [],
   "execution_count": 2
  },
  {
   "metadata": {
    "ExecuteTime": {
     "end_time": "2024-07-25T14:36:58.603061Z",
     "start_time": "2024-07-25T14:36:58.597621Z"
    }
   },
   "cell_type": "code",
   "source": "list(islice(g, 5))",
   "id": "f76de69b64529949",
   "outputs": [
    {
     "data": {
      "text/plain": [
       "[10, 11, 12, 13, 14]"
      ]
     },
     "execution_count": 4,
     "metadata": {},
     "output_type": "execute_result"
    }
   ],
   "execution_count": 4
  },
  {
   "metadata": {
    "ExecuteTime": {
     "end_time": "2024-07-25T14:37:16.099410Z",
     "start_time": "2024-07-25T14:37:15.946130Z"
    }
   },
   "cell_type": "code",
   "source": "range(10, 20, 0.5)",
   "id": "a350c52e954182ee",
   "outputs": [
    {
     "ename": "TypeError",
     "evalue": "'float' object cannot be interpreted as an integer",
     "output_type": "error",
     "traceback": [
      "\u001B[0;31m---------------------------------------------------------------------------\u001B[0m",
      "\u001B[0;31mTypeError\u001B[0m                                 Traceback (most recent call last)",
      "Cell \u001B[0;32mIn[5], line 1\u001B[0m\n\u001B[0;32m----> 1\u001B[0m \u001B[38;5;28;43mrange\u001B[39;49m\u001B[43m(\u001B[49m\u001B[38;5;241;43m10\u001B[39;49m\u001B[43m,\u001B[49m\u001B[43m \u001B[49m\u001B[38;5;241;43m20\u001B[39;49m\u001B[43m,\u001B[49m\u001B[43m \u001B[49m\u001B[38;5;241;43m0.5\u001B[39;49m\u001B[43m)\u001B[49m\n",
      "\u001B[0;31mTypeError\u001B[0m: 'float' object cannot be interpreted as an integer"
     ]
    }
   ],
   "execution_count": 5
  },
  {
   "metadata": {
    "ExecuteTime": {
     "end_time": "2024-07-25T14:37:34.612597Z",
     "start_time": "2024-07-25T14:37:34.609342Z"
    }
   },
   "cell_type": "code",
   "source": "g = count(1, 0.5)",
   "id": "302b138f3975d040",
   "outputs": [],
   "execution_count": 6
  },
  {
   "metadata": {
    "ExecuteTime": {
     "end_time": "2024-07-25T14:37:47.427281Z",
     "start_time": "2024-07-25T14:37:47.422459Z"
    }
   },
   "cell_type": "code",
   "source": "list(islice(g, 5))",
   "id": "d08194f30903a7c1",
   "outputs": [
    {
     "data": {
      "text/plain": [
       "[1, 1.5, 2.0, 2.5, 3.0]"
      ]
     },
     "execution_count": 7,
     "metadata": {},
     "output_type": "execute_result"
    }
   ],
   "execution_count": 7
  },
  {
   "metadata": {
    "ExecuteTime": {
     "end_time": "2024-07-25T14:38:07.294401Z",
     "start_time": "2024-07-25T14:38:07.291100Z"
    }
   },
   "cell_type": "code",
   "source": "g = count(1, 0.33j)",
   "id": "51b8a03e5eb62a7a",
   "outputs": [],
   "execution_count": 8
  },
  {
   "metadata": {
    "ExecuteTime": {
     "end_time": "2024-07-25T14:38:18.792772Z",
     "start_time": "2024-07-25T14:38:18.788231Z"
    }
   },
   "cell_type": "code",
   "source": "list(islice(g, 4))",
   "id": "462a1928587f374a",
   "outputs": [
    {
     "data": {
      "text/plain": [
       "[1, (1+0.33j), (1+0.66j), (1+0.99j)]"
      ]
     },
     "execution_count": 9,
     "metadata": {},
     "output_type": "execute_result"
    }
   ],
   "execution_count": 9
  },
  {
   "metadata": {
    "ExecuteTime": {
     "end_time": "2024-07-25T14:39:03.067677Z",
     "start_time": "2024-07-25T14:39:03.064787Z"
    }
   },
   "cell_type": "code",
   "source": "from decimal import Decimal",
   "id": "d123a9d9e085d1b3",
   "outputs": [],
   "execution_count": 10
  },
  {
   "metadata": {
    "ExecuteTime": {
     "end_time": "2024-07-25T14:39:49.016603Z",
     "start_time": "2024-07-25T14:39:49.013398Z"
    }
   },
   "cell_type": "code",
   "source": "g = count(Decimal('0'), Decimal('0.1'))",
   "id": "5b908ce50e3aca91",
   "outputs": [],
   "execution_count": 13
  },
  {
   "metadata": {
    "ExecuteTime": {
     "end_time": "2024-07-25T14:39:49.377509Z",
     "start_time": "2024-07-25T14:39:49.371641Z"
    }
   },
   "cell_type": "code",
   "source": "list(islice(g, 5))",
   "id": "188db965c5816352",
   "outputs": [
    {
     "data": {
      "text/plain": [
       "[Decimal('0'), Decimal('0.1'), Decimal('0.2'), Decimal('0.3'), Decimal('0.4')]"
      ]
     },
     "execution_count": 14,
     "metadata": {},
     "output_type": "execute_result"
    }
   ],
   "execution_count": 14
  },
  {
   "metadata": {
    "ExecuteTime": {
     "end_time": "2024-07-25T14:40:50.991083Z",
     "start_time": "2024-07-25T14:40:50.987850Z"
    }
   },
   "cell_type": "code",
   "source": "g = cycle(('red', 'green', 'blue'))",
   "id": "2cb697781f993125",
   "outputs": [],
   "execution_count": 15
  },
  {
   "metadata": {
    "ExecuteTime": {
     "end_time": "2024-07-25T14:41:06.135477Z",
     "start_time": "2024-07-25T14:41:06.130582Z"
    }
   },
   "cell_type": "code",
   "source": "list(islice(g, 5))",
   "id": "3187f5abe453eafa",
   "outputs": [
    {
     "data": {
      "text/plain": [
       "['red', 'green', 'blue', 'red', 'green']"
      ]
     },
     "execution_count": 17,
     "metadata": {},
     "output_type": "execute_result"
    }
   ],
   "execution_count": 17
  },
  {
   "metadata": {
    "ExecuteTime": {
     "end_time": "2024-07-25T14:42:39.132532Z",
     "start_time": "2024-07-25T14:42:39.128931Z"
    }
   },
   "cell_type": "code",
   "source": [
    "def colors():\n",
    "    yield 'red'\n",
    "    yield 'green'\n",
    "    yield 'blue'"
   ],
   "id": "c3037e4040eb2efc",
   "outputs": [],
   "execution_count": 21
  },
  {
   "metadata": {
    "ExecuteTime": {
     "end_time": "2024-07-25T14:42:39.287003Z",
     "start_time": "2024-07-25T14:42:39.283575Z"
    }
   },
   "cell_type": "code",
   "source": "cols = colors()",
   "id": "857c2680d1653a82",
   "outputs": [],
   "execution_count": 22
  },
  {
   "metadata": {
    "ExecuteTime": {
     "end_time": "2024-07-25T14:42:39.741851Z",
     "start_time": "2024-07-25T14:42:39.737501Z"
    }
   },
   "cell_type": "code",
   "source": "list(cols)",
   "id": "181ae657a82b5fb6",
   "outputs": [
    {
     "data": {
      "text/plain": [
       "['red', 'green', 'blue']"
      ]
     },
     "execution_count": 23,
     "metadata": {},
     "output_type": "execute_result"
    }
   ],
   "execution_count": 23
  },
  {
   "metadata": {
    "ExecuteTime": {
     "end_time": "2024-07-25T14:42:49.196146Z",
     "start_time": "2024-07-25T14:42:49.170712Z"
    }
   },
   "cell_type": "code",
   "source": "next(cols)",
   "id": "951949d75c503ee1",
   "outputs": [
    {
     "ename": "StopIteration",
     "evalue": "",
     "output_type": "error",
     "traceback": [
      "\u001B[0;31m---------------------------------------------------------------------------\u001B[0m",
      "\u001B[0;31mStopIteration\u001B[0m                             Traceback (most recent call last)",
      "Cell \u001B[0;32mIn[24], line 1\u001B[0m\n\u001B[0;32m----> 1\u001B[0m \u001B[38;5;28;43mnext\u001B[39;49m\u001B[43m(\u001B[49m\u001B[43mcols\u001B[49m\u001B[43m)\u001B[49m\n",
      "\u001B[0;31mStopIteration\u001B[0m: "
     ]
    }
   ],
   "execution_count": 24
  },
  {
   "metadata": {
    "ExecuteTime": {
     "end_time": "2024-07-25T14:43:08.871699Z",
     "start_time": "2024-07-25T14:43:08.868517Z"
    }
   },
   "cell_type": "code",
   "source": "cols = cycle(colors())",
   "id": "146594c15e8808bc",
   "outputs": [],
   "execution_count": 25
  },
  {
   "metadata": {
    "ExecuteTime": {
     "end_time": "2024-07-25T14:43:19.558683Z",
     "start_time": "2024-07-25T14:43:19.551974Z"
    }
   },
   "cell_type": "code",
   "source": "list(islice(cols, 7))",
   "id": "e8e92530a4a59018",
   "outputs": [
    {
     "data": {
      "text/plain": [
       "['red', 'green', 'blue', 'red', 'green', 'blue', 'red']"
      ]
     },
     "execution_count": 26,
     "metadata": {},
     "output_type": "execute_result"
    }
   ],
   "execution_count": 26
  },
  {
   "metadata": {
    "ExecuteTime": {
     "end_time": "2024-07-25T15:18:21.464487Z",
     "start_time": "2024-07-25T15:18:21.461482Z"
    }
   },
   "cell_type": "code",
   "source": "from collections import namedtuple",
   "id": "b73809fe2b28df11",
   "outputs": [],
   "execution_count": 27
  },
  {
   "metadata": {
    "ExecuteTime": {
     "end_time": "2024-07-25T15:18:32.325225Z",
     "start_time": "2024-07-25T15:18:32.322536Z"
    }
   },
   "cell_type": "code",
   "source": "Card = namedtuple('Card', 'rank suit')",
   "id": "39f3473577cdb5af",
   "outputs": [],
   "execution_count": 28
  },
  {
   "metadata": {
    "ExecuteTime": {
     "end_time": "2024-07-25T15:24:12.354668Z",
     "start_time": "2024-07-25T15:24:12.350204Z"
    }
   },
   "cell_type": "code",
   "source": [
    "def card_deck():\n",
    "    ranks = tuple(str(num) for num in range(2, 11)) + tuple('JQKA')\n",
    "    suits = 'Spades', 'Hears', 'Diamond', 'Clubs'\n",
    "    for suit in suits:\n",
    "        for rank in ranks:\n",
    "            yield Card(rank, suit)"
   ],
   "id": "7989afcfd86e8a35",
   "outputs": [],
   "execution_count": 29
  },
  {
   "metadata": {
    "ExecuteTime": {
     "end_time": "2024-07-25T15:25:53.170298Z",
     "start_time": "2024-07-25T15:25:53.165609Z"
    }
   },
   "cell_type": "code",
   "source": "list(islice(card_deck(), 0,  52, 13))",
   "id": "cb1f01934814e3f5",
   "outputs": [
    {
     "data": {
      "text/plain": [
       "[Card(rank='2', suit='Spades'),\n",
       " Card(rank='2', suit='Hears'),\n",
       " Card(rank='2', suit='Diamond'),\n",
       " Card(rank='2', suit='Clubs')]"
      ]
     },
     "execution_count": 34,
     "metadata": {},
     "output_type": "execute_result"
    }
   ],
   "execution_count": 34
  },
  {
   "metadata": {
    "ExecuteTime": {
     "end_time": "2024-07-25T15:31:43.865560Z",
     "start_time": "2024-07-25T15:31:43.860663Z"
    }
   },
   "cell_type": "code",
   "source": [
    "hands = [list() for _ in range(4)]\n",
    "hands"
   ],
   "id": "67882af614cf5ccb",
   "outputs": [
    {
     "data": {
      "text/plain": [
       "[[], [], [], []]"
      ]
     },
     "execution_count": 50,
     "metadata": {},
     "output_type": "execute_result"
    }
   ],
   "execution_count": 50
  },
  {
   "metadata": {
    "ExecuteTime": {
     "end_time": "2024-07-25T15:32:16.053560Z",
     "start_time": "2024-07-25T15:32:16.044184Z"
    }
   },
   "cell_type": "code",
   "source": [
    "index = 0\n",
    "for card in card_deck():\n",
    "    index = index % len(hands)\n",
    "    hands[index].append(card)\n",
    "    index += 1\n",
    "hands"
   ],
   "id": "480f43d32befca75",
   "outputs": [
    {
     "data": {
      "text/plain": [
       "[[Card(rank='2', suit='Spades'),\n",
       "  Card(rank='6', suit='Spades'),\n",
       "  Card(rank='10', suit='Spades'),\n",
       "  Card(rank='A', suit='Spades'),\n",
       "  Card(rank='5', suit='Hears'),\n",
       "  Card(rank='9', suit='Hears'),\n",
       "  Card(rank='K', suit='Hears'),\n",
       "  Card(rank='4', suit='Diamond'),\n",
       "  Card(rank='8', suit='Diamond'),\n",
       "  Card(rank='Q', suit='Diamond'),\n",
       "  Card(rank='3', suit='Clubs'),\n",
       "  Card(rank='7', suit='Clubs'),\n",
       "  Card(rank='J', suit='Clubs'),\n",
       "  Card(rank='2', suit='Spades'),\n",
       "  Card(rank='6', suit='Spades'),\n",
       "  Card(rank='10', suit='Spades'),\n",
       "  Card(rank='A', suit='Spades'),\n",
       "  Card(rank='5', suit='Hears'),\n",
       "  Card(rank='9', suit='Hears'),\n",
       "  Card(rank='K', suit='Hears'),\n",
       "  Card(rank='4', suit='Diamond'),\n",
       "  Card(rank='8', suit='Diamond'),\n",
       "  Card(rank='Q', suit='Diamond'),\n",
       "  Card(rank='3', suit='Clubs'),\n",
       "  Card(rank='7', suit='Clubs'),\n",
       "  Card(rank='J', suit='Clubs'),\n",
       "  Card(rank='2', suit='Spades'),\n",
       "  Card(rank='6', suit='Spades'),\n",
       "  Card(rank='10', suit='Spades'),\n",
       "  Card(rank='A', suit='Spades'),\n",
       "  Card(rank='5', suit='Hears'),\n",
       "  Card(rank='9', suit='Hears'),\n",
       "  Card(rank='K', suit='Hears'),\n",
       "  Card(rank='4', suit='Diamond'),\n",
       "  Card(rank='8', suit='Diamond'),\n",
       "  Card(rank='Q', suit='Diamond'),\n",
       "  Card(rank='3', suit='Clubs'),\n",
       "  Card(rank='7', suit='Clubs'),\n",
       "  Card(rank='J', suit='Clubs'),\n",
       "  Card(rank='2', suit='Spades'),\n",
       "  Card(rank='6', suit='Spades'),\n",
       "  Card(rank='10', suit='Spades'),\n",
       "  Card(rank='A', suit='Spades'),\n",
       "  Card(rank='5', suit='Hears'),\n",
       "  Card(rank='9', suit='Hears'),\n",
       "  Card(rank='K', suit='Hears'),\n",
       "  Card(rank='4', suit='Diamond'),\n",
       "  Card(rank='8', suit='Diamond'),\n",
       "  Card(rank='Q', suit='Diamond'),\n",
       "  Card(rank='3', suit='Clubs'),\n",
       "  Card(rank='7', suit='Clubs'),\n",
       "  Card(rank='J', suit='Clubs')],\n",
       " [Card(rank='3', suit='Spades'),\n",
       "  Card(rank='7', suit='Spades'),\n",
       "  Card(rank='J', suit='Spades'),\n",
       "  Card(rank='2', suit='Hears'),\n",
       "  Card(rank='6', suit='Hears'),\n",
       "  Card(rank='10', suit='Hears'),\n",
       "  Card(rank='A', suit='Hears'),\n",
       "  Card(rank='5', suit='Diamond'),\n",
       "  Card(rank='9', suit='Diamond'),\n",
       "  Card(rank='K', suit='Diamond'),\n",
       "  Card(rank='4', suit='Clubs'),\n",
       "  Card(rank='8', suit='Clubs'),\n",
       "  Card(rank='Q', suit='Clubs'),\n",
       "  Card(rank='3', suit='Spades'),\n",
       "  Card(rank='7', suit='Spades'),\n",
       "  Card(rank='J', suit='Spades'),\n",
       "  Card(rank='2', suit='Hears'),\n",
       "  Card(rank='6', suit='Hears'),\n",
       "  Card(rank='10', suit='Hears'),\n",
       "  Card(rank='A', suit='Hears'),\n",
       "  Card(rank='5', suit='Diamond'),\n",
       "  Card(rank='9', suit='Diamond'),\n",
       "  Card(rank='K', suit='Diamond'),\n",
       "  Card(rank='4', suit='Clubs'),\n",
       "  Card(rank='8', suit='Clubs'),\n",
       "  Card(rank='Q', suit='Clubs'),\n",
       "  Card(rank='3', suit='Spades'),\n",
       "  Card(rank='7', suit='Spades'),\n",
       "  Card(rank='J', suit='Spades'),\n",
       "  Card(rank='2', suit='Hears'),\n",
       "  Card(rank='6', suit='Hears'),\n",
       "  Card(rank='10', suit='Hears'),\n",
       "  Card(rank='A', suit='Hears'),\n",
       "  Card(rank='5', suit='Diamond'),\n",
       "  Card(rank='9', suit='Diamond'),\n",
       "  Card(rank='K', suit='Diamond'),\n",
       "  Card(rank='4', suit='Clubs'),\n",
       "  Card(rank='8', suit='Clubs'),\n",
       "  Card(rank='Q', suit='Clubs'),\n",
       "  Card(rank='3', suit='Spades'),\n",
       "  Card(rank='7', suit='Spades'),\n",
       "  Card(rank='J', suit='Spades'),\n",
       "  Card(rank='2', suit='Hears'),\n",
       "  Card(rank='6', suit='Hears'),\n",
       "  Card(rank='10', suit='Hears'),\n",
       "  Card(rank='A', suit='Hears'),\n",
       "  Card(rank='5', suit='Diamond'),\n",
       "  Card(rank='9', suit='Diamond'),\n",
       "  Card(rank='K', suit='Diamond'),\n",
       "  Card(rank='4', suit='Clubs'),\n",
       "  Card(rank='8', suit='Clubs'),\n",
       "  Card(rank='Q', suit='Clubs')],\n",
       " [Card(rank='4', suit='Spades'),\n",
       "  Card(rank='8', suit='Spades'),\n",
       "  Card(rank='Q', suit='Spades'),\n",
       "  Card(rank='3', suit='Hears'),\n",
       "  Card(rank='7', suit='Hears'),\n",
       "  Card(rank='J', suit='Hears'),\n",
       "  Card(rank='2', suit='Diamond'),\n",
       "  Card(rank='6', suit='Diamond'),\n",
       "  Card(rank='10', suit='Diamond'),\n",
       "  Card(rank='A', suit='Diamond'),\n",
       "  Card(rank='5', suit='Clubs'),\n",
       "  Card(rank='9', suit='Clubs'),\n",
       "  Card(rank='K', suit='Clubs'),\n",
       "  Card(rank='4', suit='Spades'),\n",
       "  Card(rank='8', suit='Spades'),\n",
       "  Card(rank='Q', suit='Spades'),\n",
       "  Card(rank='3', suit='Hears'),\n",
       "  Card(rank='7', suit='Hears'),\n",
       "  Card(rank='J', suit='Hears'),\n",
       "  Card(rank='2', suit='Diamond'),\n",
       "  Card(rank='6', suit='Diamond'),\n",
       "  Card(rank='10', suit='Diamond'),\n",
       "  Card(rank='A', suit='Diamond'),\n",
       "  Card(rank='5', suit='Clubs'),\n",
       "  Card(rank='9', suit='Clubs'),\n",
       "  Card(rank='K', suit='Clubs'),\n",
       "  Card(rank='4', suit='Spades'),\n",
       "  Card(rank='8', suit='Spades'),\n",
       "  Card(rank='Q', suit='Spades'),\n",
       "  Card(rank='3', suit='Hears'),\n",
       "  Card(rank='7', suit='Hears'),\n",
       "  Card(rank='J', suit='Hears'),\n",
       "  Card(rank='2', suit='Diamond'),\n",
       "  Card(rank='6', suit='Diamond'),\n",
       "  Card(rank='10', suit='Diamond'),\n",
       "  Card(rank='A', suit='Diamond'),\n",
       "  Card(rank='5', suit='Clubs'),\n",
       "  Card(rank='9', suit='Clubs'),\n",
       "  Card(rank='K', suit='Clubs'),\n",
       "  Card(rank='4', suit='Spades'),\n",
       "  Card(rank='8', suit='Spades'),\n",
       "  Card(rank='Q', suit='Spades'),\n",
       "  Card(rank='3', suit='Hears'),\n",
       "  Card(rank='7', suit='Hears'),\n",
       "  Card(rank='J', suit='Hears'),\n",
       "  Card(rank='2', suit='Diamond'),\n",
       "  Card(rank='6', suit='Diamond'),\n",
       "  Card(rank='10', suit='Diamond'),\n",
       "  Card(rank='A', suit='Diamond'),\n",
       "  Card(rank='5', suit='Clubs'),\n",
       "  Card(rank='9', suit='Clubs'),\n",
       "  Card(rank='K', suit='Clubs')],\n",
       " [Card(rank='5', suit='Spades'),\n",
       "  Card(rank='9', suit='Spades'),\n",
       "  Card(rank='K', suit='Spades'),\n",
       "  Card(rank='4', suit='Hears'),\n",
       "  Card(rank='8', suit='Hears'),\n",
       "  Card(rank='Q', suit='Hears'),\n",
       "  Card(rank='3', suit='Diamond'),\n",
       "  Card(rank='7', suit='Diamond'),\n",
       "  Card(rank='J', suit='Diamond'),\n",
       "  Card(rank='2', suit='Clubs'),\n",
       "  Card(rank='6', suit='Clubs'),\n",
       "  Card(rank='10', suit='Clubs'),\n",
       "  Card(rank='A', suit='Clubs'),\n",
       "  Card(rank='5', suit='Spades'),\n",
       "  Card(rank='9', suit='Spades'),\n",
       "  Card(rank='K', suit='Spades'),\n",
       "  Card(rank='4', suit='Hears'),\n",
       "  Card(rank='8', suit='Hears'),\n",
       "  Card(rank='Q', suit='Hears'),\n",
       "  Card(rank='3', suit='Diamond'),\n",
       "  Card(rank='7', suit='Diamond'),\n",
       "  Card(rank='J', suit='Diamond'),\n",
       "  Card(rank='2', suit='Clubs'),\n",
       "  Card(rank='6', suit='Clubs'),\n",
       "  Card(rank='10', suit='Clubs'),\n",
       "  Card(rank='A', suit='Clubs'),\n",
       "  Card(rank='5', suit='Spades'),\n",
       "  Card(rank='9', suit='Spades'),\n",
       "  Card(rank='K', suit='Spades'),\n",
       "  Card(rank='4', suit='Hears'),\n",
       "  Card(rank='8', suit='Hears'),\n",
       "  Card(rank='Q', suit='Hears'),\n",
       "  Card(rank='3', suit='Diamond'),\n",
       "  Card(rank='7', suit='Diamond'),\n",
       "  Card(rank='J', suit='Diamond'),\n",
       "  Card(rank='2', suit='Clubs'),\n",
       "  Card(rank='6', suit='Clubs'),\n",
       "  Card(rank='10', suit='Clubs'),\n",
       "  Card(rank='A', suit='Clubs'),\n",
       "  Card(rank='5', suit='Spades'),\n",
       "  Card(rank='9', suit='Spades'),\n",
       "  Card(rank='K', suit='Spades'),\n",
       "  Card(rank='4', suit='Hears'),\n",
       "  Card(rank='8', suit='Hears'),\n",
       "  Card(rank='Q', suit='Hears'),\n",
       "  Card(rank='3', suit='Diamond'),\n",
       "  Card(rank='7', suit='Diamond'),\n",
       "  Card(rank='J', suit='Diamond'),\n",
       "  Card(rank='2', suit='Clubs'),\n",
       "  Card(rank='6', suit='Clubs'),\n",
       "  Card(rank='10', suit='Clubs'),\n",
       "  Card(rank='A', suit='Clubs')]]"
      ]
     },
     "execution_count": 54,
     "metadata": {},
     "output_type": "execute_result"
    }
   ],
   "execution_count": 54
  },
  {
   "metadata": {
    "ExecuteTime": {
     "end_time": "2024-07-25T15:32:24.128408Z",
     "start_time": "2024-07-25T15:32:24.125483Z"
    }
   },
   "cell_type": "code",
   "source": "hands = [list() for _ in range(4)]",
   "id": "1399e73df19db03c",
   "outputs": [],
   "execution_count": 55
  },
  {
   "metadata": {
    "ExecuteTime": {
     "end_time": "2024-07-25T15:32:58.647294Z",
     "start_time": "2024-07-25T15:32:58.644699Z"
    }
   },
   "cell_type": "code",
   "source": "index_cycle = cycle([0, 1, 2, 3])",
   "id": "a6dd99e696c5ad5d",
   "outputs": [],
   "execution_count": 56
  },
  {
   "metadata": {
    "ExecuteTime": {
     "end_time": "2024-07-25T15:33:13.774020Z",
     "start_time": "2024-07-25T15:33:13.769031Z"
    }
   },
   "cell_type": "code",
   "source": "list(islice(index_cycle, 5))",
   "id": "349bd141e91955a1",
   "outputs": [
    {
     "data": {
      "text/plain": [
       "[0, 1, 2, 3, 0]"
      ]
     },
     "execution_count": 57,
     "metadata": {},
     "output_type": "execute_result"
    }
   ],
   "execution_count": 57
  },
  {
   "metadata": {
    "ExecuteTime": {
     "end_time": "2024-07-25T15:39:35.196565Z",
     "start_time": "2024-07-25T15:39:35.189350Z"
    }
   },
   "cell_type": "code",
   "source": [
    "hands = [list() for _ in range(4)]\n",
    "index_cycle = cycle([0, 1, 2, 3])\n",
    "for card in card_deck():\n",
    "    hands[next(index_cycle)].append(card)\n",
    "hands"
   ],
   "id": "f8bd8e205fb56382",
   "outputs": [
    {
     "data": {
      "text/plain": [
       "[[Card(rank='2', suit='Spades'),\n",
       "  Card(rank='6', suit='Spades'),\n",
       "  Card(rank='10', suit='Spades'),\n",
       "  Card(rank='A', suit='Spades'),\n",
       "  Card(rank='5', suit='Hears'),\n",
       "  Card(rank='9', suit='Hears'),\n",
       "  Card(rank='K', suit='Hears'),\n",
       "  Card(rank='4', suit='Diamond'),\n",
       "  Card(rank='8', suit='Diamond'),\n",
       "  Card(rank='Q', suit='Diamond'),\n",
       "  Card(rank='3', suit='Clubs'),\n",
       "  Card(rank='7', suit='Clubs'),\n",
       "  Card(rank='J', suit='Clubs')],\n",
       " [Card(rank='3', suit='Spades'),\n",
       "  Card(rank='7', suit='Spades'),\n",
       "  Card(rank='J', suit='Spades'),\n",
       "  Card(rank='2', suit='Hears'),\n",
       "  Card(rank='6', suit='Hears'),\n",
       "  Card(rank='10', suit='Hears'),\n",
       "  Card(rank='A', suit='Hears'),\n",
       "  Card(rank='5', suit='Diamond'),\n",
       "  Card(rank='9', suit='Diamond'),\n",
       "  Card(rank='K', suit='Diamond'),\n",
       "  Card(rank='4', suit='Clubs'),\n",
       "  Card(rank='8', suit='Clubs'),\n",
       "  Card(rank='Q', suit='Clubs')],\n",
       " [Card(rank='4', suit='Spades'),\n",
       "  Card(rank='8', suit='Spades'),\n",
       "  Card(rank='Q', suit='Spades'),\n",
       "  Card(rank='3', suit='Hears'),\n",
       "  Card(rank='7', suit='Hears'),\n",
       "  Card(rank='J', suit='Hears'),\n",
       "  Card(rank='2', suit='Diamond'),\n",
       "  Card(rank='6', suit='Diamond'),\n",
       "  Card(rank='10', suit='Diamond'),\n",
       "  Card(rank='A', suit='Diamond'),\n",
       "  Card(rank='5', suit='Clubs'),\n",
       "  Card(rank='9', suit='Clubs'),\n",
       "  Card(rank='K', suit='Clubs')],\n",
       " [Card(rank='5', suit='Spades'),\n",
       "  Card(rank='9', suit='Spades'),\n",
       "  Card(rank='K', suit='Spades'),\n",
       "  Card(rank='4', suit='Hears'),\n",
       "  Card(rank='8', suit='Hears'),\n",
       "  Card(rank='Q', suit='Hears'),\n",
       "  Card(rank='3', suit='Diamond'),\n",
       "  Card(rank='7', suit='Diamond'),\n",
       "  Card(rank='J', suit='Diamond'),\n",
       "  Card(rank='2', suit='Clubs'),\n",
       "  Card(rank='6', suit='Clubs'),\n",
       "  Card(rank='10', suit='Clubs'),\n",
       "  Card(rank='A', suit='Clubs')]]"
      ]
     },
     "execution_count": 63,
     "metadata": {},
     "output_type": "execute_result"
    }
   ],
   "execution_count": 63
  },
  {
   "metadata": {
    "ExecuteTime": {
     "end_time": "2024-07-25T15:40:34.606289Z",
     "start_time": "2024-07-25T15:40:34.600907Z"
    }
   },
   "cell_type": "code",
   "source": [
    "hands = [list() for _ in range(4)]\n",
    "hands_cycle = cycle(hands)\n",
    "for card in card_deck():\n",
    "    hand = next(hands_cycle).append(card)\n",
    "\n",
    "hands"
   ],
   "id": "dfa4fc51f651deba",
   "outputs": [
    {
     "data": {
      "text/plain": [
       "[[Card(rank='2', suit='Spades'),\n",
       "  Card(rank='6', suit='Spades'),\n",
       "  Card(rank='10', suit='Spades'),\n",
       "  Card(rank='A', suit='Spades'),\n",
       "  Card(rank='5', suit='Hears'),\n",
       "  Card(rank='9', suit='Hears'),\n",
       "  Card(rank='K', suit='Hears'),\n",
       "  Card(rank='4', suit='Diamond'),\n",
       "  Card(rank='8', suit='Diamond'),\n",
       "  Card(rank='Q', suit='Diamond'),\n",
       "  Card(rank='3', suit='Clubs'),\n",
       "  Card(rank='7', suit='Clubs'),\n",
       "  Card(rank='J', suit='Clubs')],\n",
       " [Card(rank='3', suit='Spades'),\n",
       "  Card(rank='7', suit='Spades'),\n",
       "  Card(rank='J', suit='Spades'),\n",
       "  Card(rank='2', suit='Hears'),\n",
       "  Card(rank='6', suit='Hears'),\n",
       "  Card(rank='10', suit='Hears'),\n",
       "  Card(rank='A', suit='Hears'),\n",
       "  Card(rank='5', suit='Diamond'),\n",
       "  Card(rank='9', suit='Diamond'),\n",
       "  Card(rank='K', suit='Diamond'),\n",
       "  Card(rank='4', suit='Clubs'),\n",
       "  Card(rank='8', suit='Clubs'),\n",
       "  Card(rank='Q', suit='Clubs')],\n",
       " [Card(rank='4', suit='Spades'),\n",
       "  Card(rank='8', suit='Spades'),\n",
       "  Card(rank='Q', suit='Spades'),\n",
       "  Card(rank='3', suit='Hears'),\n",
       "  Card(rank='7', suit='Hears'),\n",
       "  Card(rank='J', suit='Hears'),\n",
       "  Card(rank='2', suit='Diamond'),\n",
       "  Card(rank='6', suit='Diamond'),\n",
       "  Card(rank='10', suit='Diamond'),\n",
       "  Card(rank='A', suit='Diamond'),\n",
       "  Card(rank='5', suit='Clubs'),\n",
       "  Card(rank='9', suit='Clubs'),\n",
       "  Card(rank='K', suit='Clubs')],\n",
       " [Card(rank='5', suit='Spades'),\n",
       "  Card(rank='9', suit='Spades'),\n",
       "  Card(rank='K', suit='Spades'),\n",
       "  Card(rank='4', suit='Hears'),\n",
       "  Card(rank='8', suit='Hears'),\n",
       "  Card(rank='Q', suit='Hears'),\n",
       "  Card(rank='3', suit='Diamond'),\n",
       "  Card(rank='7', suit='Diamond'),\n",
       "  Card(rank='J', suit='Diamond'),\n",
       "  Card(rank='2', suit='Clubs'),\n",
       "  Card(rank='6', suit='Clubs'),\n",
       "  Card(rank='10', suit='Clubs'),\n",
       "  Card(rank='A', suit='Clubs')]]"
      ]
     },
     "execution_count": 65,
     "metadata": {},
     "output_type": "execute_result"
    }
   ],
   "execution_count": 65
  },
  {
   "metadata": {
    "ExecuteTime": {
     "end_time": "2024-07-25T15:42:03.476846Z",
     "start_time": "2024-07-25T15:42:03.472107Z"
    }
   },
   "cell_type": "code",
   "source": [
    "g = repeat('Python')\n",
    "for _ in range(5):\n",
    "    print(next(g))"
   ],
   "id": "afe0094302e9890b",
   "outputs": [
    {
     "name": "stdout",
     "output_type": "stream",
     "text": [
      "Python\n",
      "Python\n",
      "Python\n",
      "Python\n",
      "Python\n"
     ]
    }
   ],
   "execution_count": 67
  },
  {
   "metadata": {
    "ExecuteTime": {
     "end_time": "2024-07-25T15:42:30.274713Z",
     "start_time": "2024-07-25T15:42:30.269845Z"
    }
   },
   "cell_type": "code",
   "source": [
    "g = repeat('Python', 4)\n",
    "list(g)"
   ],
   "id": "5640bce5a4fb7d6a",
   "outputs": [
    {
     "data": {
      "text/plain": [
       "['Python', 'Python', 'Python', 'Python']"
      ]
     },
     "execution_count": 68,
     "metadata": {},
     "output_type": "execute_result"
    }
   ],
   "execution_count": 68
  },
  {
   "metadata": {
    "ExecuteTime": {
     "end_time": "2024-07-25T15:43:29.652892Z",
     "start_time": "2024-07-25T15:43:29.649605Z"
    }
   },
   "cell_type": "code",
   "source": "hands = [[]] * 4",
   "id": "350ba1229532a9a0",
   "outputs": [],
   "execution_count": 70
  },
  {
   "metadata": {
    "ExecuteTime": {
     "end_time": "2024-07-25T15:43:31.170801Z",
     "start_time": "2024-07-25T15:43:31.166419Z"
    }
   },
   "cell_type": "code",
   "source": "hands",
   "id": "6891dde3c132bae4",
   "outputs": [
    {
     "data": {
      "text/plain": [
       "[[], [], [], []]"
      ]
     },
     "execution_count": 71,
     "metadata": {},
     "output_type": "execute_result"
    }
   ],
   "execution_count": 71
  },
  {
   "metadata": {
    "ExecuteTime": {
     "end_time": "2024-07-25T15:43:43.628849Z",
     "start_time": "2024-07-25T15:43:43.624013Z"
    }
   },
   "cell_type": "code",
   "source": "hands[0] is hands[1]",
   "id": "32b690f544bb3bba",
   "outputs": [
    {
     "data": {
      "text/plain": [
       "True"
      ]
     },
     "execution_count": 72,
     "metadata": {},
     "output_type": "execute_result"
    }
   ],
   "execution_count": 72
  },
  {
   "metadata": {
    "ExecuteTime": {
     "end_time": "2024-07-25T15:43:53.196201Z",
     "start_time": "2024-07-25T15:43:53.192529Z"
    }
   },
   "cell_type": "code",
   "source": "hands[0].append(10)",
   "id": "603f22958f30d3c2",
   "outputs": [],
   "execution_count": 73
  },
  {
   "metadata": {
    "ExecuteTime": {
     "end_time": "2024-07-25T15:43:56.157511Z",
     "start_time": "2024-07-25T15:43:56.152058Z"
    }
   },
   "cell_type": "code",
   "source": "hands",
   "id": "15bf987d32673d23",
   "outputs": [
    {
     "data": {
      "text/plain": [
       "[[10], [10], [10], [10]]"
      ]
     },
     "execution_count": 74,
     "metadata": {},
     "output_type": "execute_result"
    }
   ],
   "execution_count": 74
  },
  {
   "metadata": {
    "ExecuteTime": {
     "end_time": "2024-07-25T15:45:42.123258Z",
     "start_time": "2024-07-25T15:45:42.120131Z"
    }
   },
   "cell_type": "code",
   "source": [
    "g = repeat([], 4)\n",
    "g_list = list(g)"
   ],
   "id": "f6eb885bfe414955",
   "outputs": [],
   "execution_count": 77
  },
  {
   "metadata": {
    "ExecuteTime": {
     "end_time": "2024-07-25T15:45:42.433288Z",
     "start_time": "2024-07-25T15:45:42.429332Z"
    }
   },
   "cell_type": "code",
   "source": "g_list[0].append('Mango')",
   "id": "99962ae1a5336eb5",
   "outputs": [],
   "execution_count": 78
  },
  {
   "metadata": {
    "ExecuteTime": {
     "end_time": "2024-07-25T15:45:45.222227Z",
     "start_time": "2024-07-25T15:45:45.219015Z"
    }
   },
   "cell_type": "code",
   "source": "g_list",
   "id": "3980d183ffdc2dd8",
   "outputs": [
    {
     "data": {
      "text/plain": [
       "[['Mango'], ['Mango'], ['Mango'], ['Mango']]"
      ]
     },
     "execution_count": 79,
     "metadata": {},
     "output_type": "execute_result"
    }
   ],
   "execution_count": 79
  },
  {
   "metadata": {},
   "cell_type": "code",
   "outputs": [],
   "execution_count": null,
   "source": "",
   "id": "cf099440fa6e6d58"
  }
 ],
 "metadata": {
  "kernelspec": {
   "display_name": "Python 3",
   "language": "python",
   "name": "python3"
  },
  "language_info": {
   "codemirror_mode": {
    "name": "ipython",
    "version": 2
   },
   "file_extension": ".py",
   "mimetype": "text/x-python",
   "name": "python",
   "nbconvert_exporter": "python",
   "pygments_lexer": "ipython2",
   "version": "2.7.6"
  }
 },
 "nbformat": 4,
 "nbformat_minor": 5
}
