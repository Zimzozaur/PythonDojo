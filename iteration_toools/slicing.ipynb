{
 "cells": [
  {
   "cell_type": "code",
   "id": "initial_id",
   "metadata": {
    "collapsed": true,
    "ExecuteTime": {
     "end_time": "2024-07-25T11:43:04.123054Z",
     "start_time": "2024-07-25T11:43:04.118823Z"
    }
   },
   "source": "l = [1, 2, 3, 4, 5]",
   "outputs": [],
   "execution_count": 1
  },
  {
   "metadata": {
    "ExecuteTime": {
     "end_time": "2024-07-25T11:43:06.856329Z",
     "start_time": "2024-07-25T11:43:06.846770Z"
    }
   },
   "cell_type": "code",
   "source": "l[0:2]",
   "id": "eea7b82773aac00c",
   "outputs": [
    {
     "data": {
      "text/plain": [
       "[1, 2]"
      ]
     },
     "execution_count": 2,
     "metadata": {},
     "output_type": "execute_result"
    }
   ],
   "execution_count": 2
  },
  {
   "metadata": {
    "ExecuteTime": {
     "end_time": "2024-07-25T11:43:15.385799Z",
     "start_time": "2024-07-25T11:43:15.380042Z"
    }
   },
   "cell_type": "code",
   "source": "l[slice(0, 2)]",
   "id": "c5b05e39c69ddaff",
   "outputs": [
    {
     "data": {
      "text/plain": [
       "[1, 2]"
      ]
     },
     "execution_count": 3,
     "metadata": {},
     "output_type": "execute_result"
    }
   ],
   "execution_count": 3
  },
  {
   "metadata": {
    "ExecuteTime": {
     "end_time": "2024-07-25T11:44:01.748581Z",
     "start_time": "2024-07-25T11:44:01.745549Z"
    }
   },
   "cell_type": "code",
   "source": [
    "import math\n",
    "\n",
    "def factorials(n):\n",
    "    for i in range(n):\n",
    "        yield math.factorial(i)"
   ],
   "id": "103be706c647576",
   "outputs": [],
   "execution_count": 4
  },
  {
   "metadata": {
    "ExecuteTime": {
     "end_time": "2024-07-25T11:44:09.299765Z",
     "start_time": "2024-07-25T11:44:09.297055Z"
    }
   },
   "cell_type": "code",
   "source": "facts = factorials(100)",
   "id": "f096e10344c573f8",
   "outputs": [],
   "execution_count": 5
  },
  {
   "metadata": {
    "ExecuteTime": {
     "end_time": "2024-07-25T11:44:17.294947Z",
     "start_time": "2024-07-25T11:44:17.127105Z"
    }
   },
   "cell_type": "code",
   "source": "facts[0: 3]",
   "id": "ad4a3d808fa4cc7b",
   "outputs": [
    {
     "ename": "TypeError",
     "evalue": "'generator' object is not subscriptable",
     "output_type": "error",
     "traceback": [
      "\u001B[0;31m---------------------------------------------------------------------------\u001B[0m",
      "\u001B[0;31mTypeError\u001B[0m                                 Traceback (most recent call last)",
      "Cell \u001B[0;32mIn[6], line 1\u001B[0m\n\u001B[0;32m----> 1\u001B[0m \u001B[43mfacts\u001B[49m\u001B[43m[\u001B[49m\u001B[38;5;241;43m0\u001B[39;49m\u001B[43m:\u001B[49m\u001B[43m \u001B[49m\u001B[38;5;241;43m3\u001B[39;49m\u001B[43m]\u001B[49m\n",
      "\u001B[0;31mTypeError\u001B[0m: 'generator' object is not subscriptable"
     ]
    }
   ],
   "execution_count": 6
  },
  {
   "metadata": {
    "ExecuteTime": {
     "end_time": "2024-07-25T11:52:02.824159Z",
     "start_time": "2024-07-25T11:52:02.820002Z"
    }
   },
   "cell_type": "code",
   "source": [
    "def slice_(iterable, start, stop):\n",
    "    for _ in range(0, start):\n",
    "        next(iterable)\n",
    "    return (next(iterable) for n in range(start, stop))\n",
    "    "
   ],
   "id": "47c07b82e5367992",
   "outputs": [],
   "execution_count": 35
  },
  {
   "metadata": {
    "ExecuteTime": {
     "end_time": "2024-07-25T11:52:03.003307Z",
     "start_time": "2024-07-25T11:52:02.999686Z"
    }
   },
   "cell_type": "code",
   "source": "facts = factorials(4)",
   "id": "712d7b6d5cb372a2",
   "outputs": [],
   "execution_count": 36
  },
  {
   "metadata": {
    "ExecuteTime": {
     "end_time": "2024-07-25T11:52:03.168907Z",
     "start_time": "2024-07-25T11:52:03.164123Z"
    }
   },
   "cell_type": "code",
   "source": "list(slice_(facts, 2, 4))",
   "id": "c5df380493e80320",
   "outputs": [
    {
     "data": {
      "text/plain": [
       "<generator object slice_.<locals>.<genexpr> at 0x7a3faf52fe60>"
      ]
     },
     "execution_count": 37,
     "metadata": {},
     "output_type": "execute_result"
    }
   ],
   "execution_count": 37
  },
  {
   "metadata": {
    "ExecuteTime": {
     "end_time": "2024-07-25T11:52:12.694462Z",
     "start_time": "2024-07-25T11:52:12.690247Z"
    }
   },
   "cell_type": "code",
   "source": "tuple(slice_(factorials(100), 0, 10))",
   "id": "e8a474b877e41f9e",
   "outputs": [
    {
     "data": {
      "text/plain": [
       "(1, 1, 2, 6, 24, 120, 720, 5040, 40320, 362880)"
      ]
     },
     "execution_count": 40,
     "metadata": {},
     "output_type": "execute_result"
    }
   ],
   "execution_count": 40
  },
  {
   "metadata": {
    "ExecuteTime": {
     "end_time": "2024-07-25T11:52:50.241692Z",
     "start_time": "2024-07-25T11:52:50.236262Z"
    }
   },
   "cell_type": "code",
   "source": "tuple(slice_(factorials(100), 3, 10))",
   "id": "d0fb466537474438",
   "outputs": [
    {
     "data": {
      "text/plain": [
       "(6, 24, 120, 720, 5040, 40320, 362880)"
      ]
     },
     "execution_count": 41,
     "metadata": {},
     "output_type": "execute_result"
    }
   ],
   "execution_count": 41
  },
  {
   "metadata": {
    "ExecuteTime": {
     "end_time": "2024-07-25T11:53:32.497424Z",
     "start_time": "2024-07-25T11:53:32.494809Z"
    }
   },
   "cell_type": "code",
   "source": "from itertools import islice",
   "id": "7b87527c419db273",
   "outputs": [],
   "execution_count": 42
  },
  {
   "metadata": {
    "ExecuteTime": {
     "end_time": "2024-07-25T11:53:44.972778Z",
     "start_time": "2024-07-25T11:53:44.967688Z"
    }
   },
   "cell_type": "code",
   "source": "list(islice(factorials(100), 3, 10))",
   "id": "cdb6f79853e5dfe4",
   "outputs": [
    {
     "data": {
      "text/plain": [
       "[6, 24, 120, 720, 5040, 40320, 362880]"
      ]
     },
     "execution_count": 43,
     "metadata": {},
     "output_type": "execute_result"
    }
   ],
   "execution_count": 43
  },
  {
   "metadata": {
    "ExecuteTime": {
     "end_time": "2024-07-25T11:54:08.576487Z",
     "start_time": "2024-07-25T11:54:08.569695Z"
    }
   },
   "cell_type": "code",
   "source": "help(islice)",
   "id": "d6a0c237f2a06879",
   "outputs": [
    {
     "name": "stdout",
     "output_type": "stream",
     "text": [
      "Help on class islice in module itertools:\n",
      "\n",
      "class islice(builtins.object)\n",
      " |  islice(iterable, stop) --> islice object\n",
      " |  islice(iterable, start, stop[, step]) --> islice object\n",
      " |\n",
      " |  Return an iterator whose next() method returns selected values from an\n",
      " |  iterable.  If start is specified, will skip all preceding elements;\n",
      " |  otherwise, start defaults to zero.  Step defaults to one.  If\n",
      " |  specified as another value, step determines how many values are\n",
      " |  skipped between successive calls.  Works like a slice() on a list\n",
      " |  but returns an iterator.\n",
      " |\n",
      " |  Methods defined here:\n",
      " |\n",
      " |  __getattribute__(self, name, /)\n",
      " |      Return getattr(self, name).\n",
      " |\n",
      " |  __iter__(self, /)\n",
      " |      Implement iter(self).\n",
      " |\n",
      " |  __next__(self, /)\n",
      " |      Implement next(self).\n",
      " |\n",
      " |  __reduce__(...)\n",
      " |      Return state information for pickling.\n",
      " |\n",
      " |  __setstate__(...)\n",
      " |      Set state information for unpickling.\n",
      " |\n",
      " |  ----------------------------------------------------------------------\n",
      " |  Static methods defined here:\n",
      " |\n",
      " |  __new__(*args, **kwargs)\n",
      " |      Create and return a new object.  See help(type) for accurate signature.\n",
      "\n"
     ]
    }
   ],
   "execution_count": 44
  },
  {
   "metadata": {
    "ExecuteTime": {
     "end_time": "2024-07-25T11:55:23.800928Z",
     "start_time": "2024-07-25T11:55:23.795186Z"
    }
   },
   "cell_type": "code",
   "source": "list(islice(factorials(100), 10))",
   "id": "3d3adeccd7debffe",
   "outputs": [
    {
     "data": {
      "text/plain": [
       "[1, 1, 2, 6, 24, 120, 720, 5040, 40320, 362880]"
      ]
     },
     "execution_count": 45,
     "metadata": {},
     "output_type": "execute_result"
    }
   ],
   "execution_count": 45
  },
  {
   "metadata": {
    "ExecuteTime": {
     "end_time": "2024-07-25T11:55:33.647197Z",
     "start_time": "2024-07-25T11:55:33.641371Z"
    }
   },
   "cell_type": "code",
   "source": "list(islice(factorials(100), 3, 10, 2))",
   "id": "552b682555e37a01",
   "outputs": [
    {
     "data": {
      "text/plain": [
       "[6, 120, 5040, 362880]"
      ]
     },
     "execution_count": 46,
     "metadata": {},
     "output_type": "execute_result"
    }
   ],
   "execution_count": 46
  },
  {
   "metadata": {
    "ExecuteTime": {
     "end_time": "2024-07-25T11:59:12.685202Z",
     "start_time": "2024-07-25T11:59:12.680990Z"
    }
   },
   "cell_type": "code",
   "source": [
    "def factorial():\n",
    "    index = 0\n",
    "    while True:\n",
    "        print(f'yielding factorial({index})...')\n",
    "        yield math.factorial(index)\n",
    "        index += 1"
   ],
   "id": "65b485f6dd1dd75b",
   "outputs": [],
   "execution_count": 50
  },
  {
   "metadata": {
    "ExecuteTime": {
     "end_time": "2024-07-25T11:59:12.974853Z",
     "start_time": "2024-07-25T11:59:12.971111Z"
    }
   },
   "cell_type": "code",
   "source": [
    "facts = factorial()\n",
    "for _ in range(0, 5):\n",
    "    print(next(facts))"
   ],
   "id": "1754ad72d2571020",
   "outputs": [
    {
     "name": "stdout",
     "output_type": "stream",
     "text": [
      "yielding factorial(0)...\n",
      "1\n",
      "yielding factorial(1)...\n",
      "1\n",
      "yielding factorial(2)...\n",
      "2\n",
      "yielding factorial(3)...\n",
      "6\n",
      "yielding factorial(4)...\n",
      "24\n"
     ]
    }
   ],
   "execution_count": 51
  },
  {
   "metadata": {
    "ExecuteTime": {
     "end_time": "2024-07-25T12:00:01.558480Z",
     "start_time": "2024-07-25T12:00:01.554200Z"
    }
   },
   "cell_type": "code",
   "source": "islice(factorial(), 3, 10)",
   "id": "debcf190441d2390",
   "outputs": [
    {
     "data": {
      "text/plain": [
       "<itertools.islice at 0x7a3faeb067a0>"
      ]
     },
     "execution_count": 54,
     "metadata": {},
     "output_type": "execute_result"
    }
   ],
   "execution_count": 54
  },
  {
   "metadata": {
    "ExecuteTime": {
     "end_time": "2024-07-25T11:59:46.889900Z",
     "start_time": "2024-07-25T11:59:46.884422Z"
    }
   },
   "cell_type": "code",
   "source": "list(islice(factorial(), 3, 10))",
   "id": "b90a691553458e66",
   "outputs": [
    {
     "name": "stdout",
     "output_type": "stream",
     "text": [
      "yielding factorial(0)...\n",
      "yielding factorial(1)...\n",
      "yielding factorial(2)...\n",
      "yielding factorial(3)...\n",
      "yielding factorial(4)...\n",
      "yielding factorial(5)...\n",
      "yielding factorial(6)...\n",
      "yielding factorial(7)...\n",
      "yielding factorial(8)...\n",
      "yielding factorial(9)...\n"
     ]
    },
    {
     "data": {
      "text/plain": [
       "[6, 24, 120, 720, 5040, 40320, 362880]"
      ]
     },
     "execution_count": 53,
     "metadata": {},
     "output_type": "execute_result"
    }
   ],
   "execution_count": 53
  },
  {
   "metadata": {
    "ExecuteTime": {
     "end_time": "2024-07-25T12:00:50.607998Z",
     "start_time": "2024-07-25T12:00:50.601912Z"
    }
   },
   "cell_type": "code",
   "source": "list(islice(factorial(), 3, 10, 5))",
   "id": "bca31b680f058a0d",
   "outputs": [
    {
     "name": "stdout",
     "output_type": "stream",
     "text": [
      "yielding factorial(0)...\n",
      "yielding factorial(1)...\n",
      "yielding factorial(2)...\n",
      "yielding factorial(3)...\n",
      "yielding factorial(4)...\n",
      "yielding factorial(5)...\n",
      "yielding factorial(6)...\n",
      "yielding factorial(7)...\n",
      "yielding factorial(8)...\n",
      "yielding factorial(9)...\n"
     ]
    },
    {
     "data": {
      "text/plain": [
       "[6, 40320]"
      ]
     },
     "execution_count": 55,
     "metadata": {},
     "output_type": "execute_result"
    }
   ],
   "execution_count": 55
  },
  {
   "metadata": {
    "ExecuteTime": {
     "end_time": "2024-07-25T12:01:24.447893Z",
     "start_time": "2024-07-25T12:01:24.444546Z"
    }
   },
   "cell_type": "code",
   "source": "sl = islice(factorial(), 3, 10)",
   "id": "66174960b8260024",
   "outputs": [],
   "execution_count": 56
  },
  {
   "metadata": {
    "ExecuteTime": {
     "end_time": "2024-07-25T12:01:31.450551Z",
     "start_time": "2024-07-25T12:01:31.445749Z"
    }
   },
   "cell_type": "code",
   "source": "list(sl), list(sl)",
   "id": "a81fee2be36627af",
   "outputs": [
    {
     "name": "stdout",
     "output_type": "stream",
     "text": [
      "yielding factorial(0)...\n",
      "yielding factorial(1)...\n",
      "yielding factorial(2)...\n",
      "yielding factorial(3)...\n",
      "yielding factorial(4)...\n",
      "yielding factorial(5)...\n",
      "yielding factorial(6)...\n",
      "yielding factorial(7)...\n",
      "yielding factorial(8)...\n",
      "yielding factorial(9)...\n"
     ]
    },
    {
     "data": {
      "text/plain": [
       "([6, 24, 120, 720, 5040, 40320, 362880], [])"
      ]
     },
     "execution_count": 57,
     "metadata": {},
     "output_type": "execute_result"
    }
   ],
   "execution_count": 57
  },
  {
   "metadata": {
    "ExecuteTime": {
     "end_time": "2024-07-25T12:02:28.535241Z",
     "start_time": "2024-07-25T12:02:28.532021Z"
    }
   },
   "cell_type": "code",
   "source": "facts = factorial()",
   "id": "cc29e4d6d2b79148",
   "outputs": [],
   "execution_count": 61
  },
  {
   "metadata": {
    "ExecuteTime": {
     "end_time": "2024-07-25T12:02:28.726262Z",
     "start_time": "2024-07-25T12:02:28.722090Z"
    }
   },
   "cell_type": "code",
   "source": "islice(facts, 0, 5)",
   "id": "42d2c5f8ee5edaf1",
   "outputs": [
    {
     "data": {
      "text/plain": [
       "<itertools.islice at 0x7a3faeb06890>"
      ]
     },
     "execution_count": 62,
     "metadata": {},
     "output_type": "execute_result"
    }
   ],
   "execution_count": 62
  },
  {
   "metadata": {
    "ExecuteTime": {
     "end_time": "2024-07-25T12:02:28.927193Z",
     "start_time": "2024-07-25T12:02:28.921716Z"
    }
   },
   "cell_type": "code",
   "source": "next(facts), next(facts), next(facts)",
   "id": "115903d43e8096d8",
   "outputs": [
    {
     "name": "stdout",
     "output_type": "stream",
     "text": [
      "yielding factorial(0)...\n",
      "yielding factorial(1)...\n",
      "yielding factorial(2)...\n"
     ]
    },
    {
     "data": {
      "text/plain": [
       "(1, 1, 2)"
      ]
     },
     "execution_count": 63,
     "metadata": {},
     "output_type": "execute_result"
    }
   ],
   "execution_count": 63
  },
  {
   "metadata": {
    "ExecuteTime": {
     "end_time": "2024-07-25T12:02:49.978190Z",
     "start_time": "2024-07-25T12:02:49.972765Z"
    }
   },
   "cell_type": "code",
   "source": "list(islice(facts, 0, 5))",
   "id": "9d360025131a0851",
   "outputs": [
    {
     "name": "stdout",
     "output_type": "stream",
     "text": [
      "yielding factorial(3)...\n",
      "yielding factorial(4)...\n",
      "yielding factorial(5)...\n",
      "yielding factorial(6)...\n",
      "yielding factorial(7)...\n"
     ]
    },
    {
     "data": {
      "text/plain": [
       "[6, 24, 120, 720, 5040]"
      ]
     },
     "execution_count": 64,
     "metadata": {},
     "output_type": "execute_result"
    }
   ],
   "execution_count": 64
  },
  {
   "metadata": {
    "ExecuteTime": {
     "end_time": "2024-07-25T12:03:22.499608Z",
     "start_time": "2024-07-25T12:03:22.493591Z"
    }
   },
   "cell_type": "code",
   "source": "next(facts)",
   "id": "6ed9433d438f89db",
   "outputs": [
    {
     "name": "stdout",
     "output_type": "stream",
     "text": [
      "yielding factorial(8)...\n"
     ]
    },
    {
     "data": {
      "text/plain": [
       "40320"
      ]
     },
     "execution_count": 65,
     "metadata": {},
     "output_type": "execute_result"
    }
   ],
   "execution_count": 65
  },
  {
   "metadata": {},
   "cell_type": "code",
   "outputs": [],
   "execution_count": null,
   "source": "",
   "id": "3e3786b14c6d1c94"
  }
 ],
 "metadata": {
  "kernelspec": {
   "display_name": "Python 3",
   "language": "python",
   "name": "python3"
  },
  "language_info": {
   "codemirror_mode": {
    "name": "ipython",
    "version": 2
   },
   "file_extension": ".py",
   "mimetype": "text/x-python",
   "name": "python",
   "nbconvert_exporter": "python",
   "pygments_lexer": "ipython2",
   "version": "2.7.6"
  }
 },
 "nbformat": 4,
 "nbformat_minor": 5
}
