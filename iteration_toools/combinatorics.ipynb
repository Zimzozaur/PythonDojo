{
 "cells": [
  {
   "cell_type": "code",
   "id": "initial_id",
   "metadata": {
    "collapsed": true
   },
   "source": "import itertools",
   "outputs": [],
   "execution_count": null
  },
  {
   "metadata": {},
   "cell_type": "code",
   "source": [
    "def matrix(n):\n",
    "    for i in range(1, n+1):\n",
    "        for j in range(1, n+1):\n",
    "            yield f'{i} x {j} = {i*j}'"
   ],
   "id": "7baf0b16425b2f3b",
   "outputs": [],
   "execution_count": null
  },
  {
   "metadata": {},
   "cell_type": "code",
   "source": "list(itertools.islice(matrix(10), 10, 15))",
   "id": "f5a593841ed6d0f4",
   "outputs": [],
   "execution_count": null
  },
  {
   "metadata": {},
   "cell_type": "code",
   "source": [
    "l1 = ['x1', 'x2', 'x3', 'x4']\n",
    "l2 = ['y1', 'y2', 'y3']\n",
    "\n",
    "for x in l1:\n",
    "    for y in l2:\n",
    "        print((x,y), end=' ')\n",
    "    print('')"
   ],
   "id": "a4f9e48c2fd9c9ce",
   "outputs": [],
   "execution_count": null
  },
  {
   "metadata": {},
   "cell_type": "code",
   "source": "list(itertools.product(l1, l2))",
   "id": "713ef2033de68f4b",
   "outputs": [],
   "execution_count": null
  },
  {
   "metadata": {},
   "cell_type": "code",
   "source": [
    "def matrix(n):\n",
    "    for i in range(1, n+1):\n",
    "        for j in range(1, n+1):\n",
    "            yield i, j, i*j"
   ],
   "id": "ae8017e46fcf407a",
   "outputs": [],
   "execution_count": null
  },
  {
   "metadata": {},
   "cell_type": "code",
   "source": "list(matrix(5))",
   "id": "43512751c01afec4",
   "outputs": [],
   "execution_count": null
  },
  {
   "metadata": {},
   "cell_type": "code",
   "source": [
    "def matrix(n):\n",
    "    yield from itertools.product(range(1, n+1), range(1, n+1))"
   ],
   "id": "57838332022faa77",
   "outputs": [],
   "execution_count": null
  },
  {
   "metadata": {},
   "cell_type": "code",
   "source": "list(matrix(3))",
   "id": "66d9e691a8173b9d",
   "outputs": [],
   "execution_count": null
  },
  {
   "metadata": {},
   "cell_type": "code",
   "source": [
    "def matrix(n):\n",
    "    for i, j in itertools.product(range(1, n+1), range(1, n+1)):\n",
    "        yield i, j, i*j"
   ],
   "id": "760c1f46133283ad",
   "outputs": [],
   "execution_count": null
  },
  {
   "metadata": {},
   "cell_type": "code",
   "source": "list(matrix(3))",
   "id": "47b75cab03a024db",
   "outputs": [],
   "execution_count": null
  },
  {
   "metadata": {},
   "cell_type": "code",
   "source": [
    "def matrix(n):\n",
    "    return (\n",
    "        (i, j, i*j)\n",
    "        for i, j in itertools.product(range(1, n+1), range(1, n+1))\n",
    "    )"
   ],
   "id": "8aa6e106179b024e",
   "outputs": [],
   "execution_count": null
  },
  {
   "metadata": {},
   "cell_type": "code",
   "source": "list(matrix(2))",
   "id": "c8ffb326032a5572",
   "outputs": [],
   "execution_count": null
  },
  {
   "metadata": {},
   "cell_type": "code",
   "source": [
    "from itertools import product, tee\n",
    "from functools import reduce\n",
    "import operator"
   ],
   "id": "19d7eee84d67ad34",
   "outputs": [],
   "execution_count": null
  },
  {
   "metadata": {},
   "cell_type": "code",
   "source": [
    "def matrix(n: int, d: int):\n",
    "    return (\n",
    "        (*tup, reduce(operator.mul, tup))\n",
    "        for tup in product(*tee(range(1, n+1), d))\n",
    "    )"
   ],
   "id": "27f60cc5bc350e1e",
   "outputs": [],
   "execution_count": null
  },
  {
   "metadata": {},
   "cell_type": "code",
   "source": "list(matrix(2, 2))",
   "id": "7d354dcbaab4d2a8",
   "outputs": [],
   "execution_count": null
  },
  {
   "metadata": {},
   "cell_type": "code",
   "source": [
    "from itertools import product, tee, count, takewhile\n",
    "from functools import reduce\n",
    "import operator"
   ],
   "id": "3564e3fa7b1f268b",
   "outputs": [],
   "execution_count": null
  },
  {
   "metadata": {},
   "cell_type": "code",
   "source": [
    "def grid(start, end, step, dimensions: int=2, /):\n",
    "    \"\"\"Create x number of axes from start to end in step of step\"\"\"\n",
    "    axis = takewhile(lambda x: x <= end, count(start, step))\n",
    "    axes = tee(axis, dimensions)\n",
    "    return product(*axes)"
   ],
   "id": "db75606dfc28f201",
   "outputs": [],
   "execution_count": null
  },
  {
   "metadata": {},
   "cell_type": "code",
   "source": "list(grid(1, 2, 1, 1))",
   "id": "f83a4c6728a6135a",
   "outputs": [],
   "execution_count": null
  },
  {
   "metadata": {},
   "cell_type": "code",
   "source": "sample_space = list(product(*tee(range(1, 7), 2)))",
   "id": "8d0eb0ddcfb6cdf2",
   "outputs": [],
   "execution_count": null
  },
  {
   "metadata": {},
   "cell_type": "code",
   "source": "print(sample_space)",
   "id": "810a57352608dcbe",
   "outputs": [],
   "execution_count": null
  },
  {
   "metadata": {},
   "cell_type": "code",
   "source": "outcomes = list(filter(lambda x: sum(x) == 8, sample_space))",
   "id": "94715b5c2bc4032b",
   "outputs": [],
   "execution_count": null
  },
  {
   "metadata": {},
   "cell_type": "code",
   "source": "len(outcomes) / len(sample_space)",
   "id": "dc8972df95f5b1b9",
   "outputs": [],
   "execution_count": null
  },
  {
   "metadata": {},
   "cell_type": "code",
   "source": "from fractions import Fraction",
   "id": "97838a792ed4750d",
   "outputs": [],
   "execution_count": null
  },
  {
   "metadata": {},
   "cell_type": "code",
   "source": "odds = Fraction(len(outcomes), len(sample_space))",
   "id": "40e38be1e090e61e",
   "outputs": [],
   "execution_count": null
  },
  {
   "metadata": {},
   "cell_type": "code",
   "source": "odds",
   "id": "5ffb9d964fc0a477",
   "outputs": [],
   "execution_count": null
  },
  {
   "metadata": {},
   "cell_type": "code",
   "source": [
    "l1 = 'abc'\n",
    "list(itertools.permutations(l1))"
   ],
   "id": "7957608429090754",
   "outputs": [],
   "execution_count": null
  },
  {
   "metadata": {},
   "cell_type": "code",
   "source": "list(itertools.permutations(l1, 2))",
   "id": "bc2020f129c145dd",
   "outputs": [],
   "execution_count": null
  },
  {
   "metadata": {},
   "cell_type": "code",
   "source": "list(itertools.permutations(l1, 4))",
   "id": "37db55a83b0d33b3",
   "outputs": [],
   "execution_count": null
  },
  {
   "metadata": {},
   "cell_type": "code",
   "source": "l1 = 'abb'",
   "id": "504120546c4f7f98",
   "outputs": [],
   "execution_count": null
  },
  {
   "metadata": {},
   "cell_type": "code",
   "source": "list(itertools.permutations(l1, 3))",
   "id": "aee246cb843895a7",
   "outputs": [],
   "execution_count": null
  },
  {
   "metadata": {},
   "cell_type": "code",
   "source": "list(itertools.combinations([1, 2, 3, 4], 2))",
   "id": "3dfe18af598ae64d",
   "outputs": [],
   "execution_count": null
  },
  {
   "metadata": {},
   "cell_type": "code",
   "source": "list(itertools.combinations([4, 3, 2, 1], 2))",
   "id": "ab68808bb1760756",
   "outputs": [],
   "execution_count": null
  },
  {
   "metadata": {},
   "cell_type": "code",
   "source": "list(itertools.combinations([1, 2, 3, 4], 3))",
   "id": "37b04ea1535253b3",
   "outputs": [],
   "execution_count": null
  },
  {
   "metadata": {},
   "cell_type": "code",
   "source": "list(itertools.combinations_with_replacement([1, 2, 3], 2))",
   "id": "79a085247ebaae57",
   "outputs": [],
   "execution_count": null
  },
  {
   "metadata": {},
   "cell_type": "code",
   "source": [
    "SUITS = 'SHDC'\n",
    "RANKS = tuple(map(str, range(2, 11))) + tuple('JQKA')"
   ],
   "id": "afc8d8f421e371be",
   "outputs": [],
   "execution_count": null
  },
  {
   "metadata": {},
   "cell_type": "code",
   "source": "list(itertools.combinations())",
   "id": "e458121ff685a228",
   "outputs": [],
   "execution_count": null
  },
  {
   "metadata": {},
   "cell_type": "code",
   "source": "deck = [rank + suit for suit in SUITS for rank in RANKS]",
   "id": "d8aacc80163dc71d",
   "outputs": [],
   "execution_count": null
  },
  {
   "metadata": {},
   "cell_type": "code",
   "source": "deck = [rank + suit for suit, rank in itertools.product(SUITS, RANKS)]    ",
   "id": "d9f44081f3002563",
   "outputs": [],
   "execution_count": null
  },
  {
   "metadata": {},
   "cell_type": "code",
   "source": [
    "from collections import namedtuple\n",
    "from itertools import (\n",
    "    product, combinations, combinations_with_replacement,\n",
    ")"
   ],
   "id": "3faa988709db07f",
   "outputs": [],
   "execution_count": null
  },
  {
   "metadata": {},
   "cell_type": "code",
   "source": "Card = namedtuple('Card', 'rank suit')",
   "id": "f0c67c4032afcdbe",
   "outputs": [],
   "execution_count": null
  },
  {
   "metadata": {},
   "cell_type": "code",
   "source": "deck = [Card(*prod) for prod in product(RANKS, SUITS)]",
   "id": "b37006a281f6bbf5",
   "outputs": [],
   "execution_count": null
  },
  {
   "metadata": {},
   "cell_type": "code",
   "source": "deck",
   "id": "61166c9fd21aea01",
   "outputs": [],
   "execution_count": null
  },
  {
   "metadata": {
    "ExecuteTime": {
     "end_time": "2024-07-27T12:06:57.057849Z",
     "start_time": "2024-07-27T12:06:56.980482Z"
    }
   },
   "cell_type": "code",
   "source": [
    "deck = (Card(*prod) for prod in product(RANKS, SUITS))\n",
    "sample_space = combinations(deck, 4)\n",
    "total = 0\n",
    "acceptable = 0\n",
    "\n",
    "for outcome in sample_space:\n",
    "    total += 1\n",
    "    for card in outcome:\n",
    "        if card.rank != 'A':\n",
    "            break\n",
    "    else:\n",
    "        acceptable += 1\n",
    "\n",
    "print(total, acceptable)\n",
    "print('odd: ', acceptable / total * 100)"
   ],
   "id": "c058a3bb7010d2b1",
   "outputs": [
    {
     "name": "stdout",
     "output_type": "stream",
     "text": [
      "270725 1\n",
      "odd:  0.00036937852063902485\n"
     ]
    }
   ],
   "execution_count": 203
  },
  {
   "metadata": {
    "ExecuteTime": {
     "end_time": "2024-07-27T12:10:16.017067Z",
     "start_time": "2024-07-27T12:10:15.858451Z"
    }
   },
   "cell_type": "code",
   "source": [
    "deck = (Card(*prod) for prod in product(RANKS, SUITS))\n",
    "sample_space = combinations(deck, 4)\n",
    "total = 0\n",
    "acceptable = 0\n",
    "\n",
    "for outcome in sample_space:\n",
    "    total += 1\n",
    "    if all(map(lambda x: x.rank == 'A', outcome)):\n",
    "        acceptable += 1\n",
    "\n",
    "print(total, acceptable)\n",
    "print('odd: ', acceptable / total * 100)"
   ],
   "id": "9471b7fce8aae3e1",
   "outputs": [
    {
     "name": "stdout",
     "output_type": "stream",
     "text": [
      "270725 1\n",
      "odd:  0.00036937852063902485\n"
     ]
    }
   ],
   "execution_count": 204
  },
  {
   "metadata": {},
   "cell_type": "code",
   "outputs": [],
   "execution_count": null,
   "source": "",
   "id": "54055d0eae853f39"
  }
 ],
 "metadata": {
  "kernelspec": {
   "display_name": "Python 3",
   "language": "python",
   "name": "python3"
  },
  "language_info": {
   "codemirror_mode": {
    "name": "ipython",
    "version": 2
   },
   "file_extension": ".py",
   "mimetype": "text/x-python",
   "name": "python",
   "nbconvert_exporter": "python",
   "pygments_lexer": "ipython2",
   "version": "2.7.6"
  }
 },
 "nbformat": 4,
 "nbformat_minor": 5
}
