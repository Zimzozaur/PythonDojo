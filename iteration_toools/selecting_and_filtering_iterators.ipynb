{
 "cells": [
  {
   "cell_type": "code",
   "id": "initial_id",
   "metadata": {
    "collapsed": true,
    "ExecuteTime": {
     "end_time": "2024-07-25T13:38:29.784235Z",
     "start_time": "2024-07-25T13:38:29.781440Z"
    }
   },
   "source": [
    "def gen_cubes(n):\n",
    "    for i in range(n):\n",
    "        print(f'yielding {i}')\n",
    "        yield i**3"
   ],
   "outputs": [],
   "execution_count": 1
  },
  {
   "metadata": {
    "ExecuteTime": {
     "end_time": "2024-07-25T13:39:09.393647Z",
     "start_time": "2024-07-25T13:39:09.390714Z"
    }
   },
   "cell_type": "code",
   "source": [
    "# predicate\n",
    "def is_odd(x):\n",
    "    return x % 2 == 1"
   ],
   "id": "b618c4dc9c397144",
   "outputs": [],
   "execution_count": 2
  },
  {
   "metadata": {
    "ExecuteTime": {
     "end_time": "2024-07-25T13:39:23.468617Z",
     "start_time": "2024-07-25T13:39:23.464082Z"
    }
   },
   "cell_type": "code",
   "source": "is_odd(4), is_odd(5)",
   "id": "c3fc6eabc10ab6b7",
   "outputs": [
    {
     "data": {
      "text/plain": [
       "(False, True)"
      ]
     },
     "execution_count": 4,
     "metadata": {},
     "output_type": "execute_result"
    }
   ],
   "execution_count": 4
  },
  {
   "metadata": {
    "ExecuteTime": {
     "end_time": "2024-07-25T13:42:14.150437Z",
     "start_time": "2024-07-25T13:42:14.147304Z"
    }
   },
   "cell_type": "code",
   "source": "filtered = filter(is_odd, gen_cubes(10))",
   "id": "8bf964163228049e",
   "outputs": [],
   "execution_count": 14
  },
  {
   "metadata": {
    "ExecuteTime": {
     "end_time": "2024-07-25T13:42:14.334575Z",
     "start_time": "2024-07-25T13:42:14.329563Z"
    }
   },
   "cell_type": "code",
   "source": "next(filtered)",
   "id": "e5f63b9a85d1c3e5",
   "outputs": [
    {
     "name": "stdout",
     "output_type": "stream",
     "text": [
      "yielding 0\n",
      "yielding 1\n"
     ]
    },
    {
     "data": {
      "text/plain": [
       "1"
      ]
     },
     "execution_count": 15,
     "metadata": {},
     "output_type": "execute_result"
    }
   ],
   "execution_count": 15
  },
  {
   "metadata": {
    "ExecuteTime": {
     "end_time": "2024-07-25T13:42:14.529495Z",
     "start_time": "2024-07-25T13:42:14.524442Z"
    }
   },
   "cell_type": "code",
   "source": "next(filtered)",
   "id": "dc7e07f8d87e8b58",
   "outputs": [
    {
     "name": "stdout",
     "output_type": "stream",
     "text": [
      "yielding 2\n",
      "yielding 3\n"
     ]
    },
    {
     "data": {
      "text/plain": [
       "27"
      ]
     },
     "execution_count": 16,
     "metadata": {},
     "output_type": "execute_result"
    }
   ],
   "execution_count": 16
  },
  {
   "metadata": {
    "ExecuteTime": {
     "end_time": "2024-07-25T13:43:29.408171Z",
     "start_time": "2024-07-25T13:43:29.405097Z"
    }
   },
   "cell_type": "code",
   "source": [
    "# predicate\n",
    "def is_even(x):\n",
    "    return x % 2 == 0"
   ],
   "id": "559672f63a522684",
   "outputs": [],
   "execution_count": 17
  },
  {
   "metadata": {
    "ExecuteTime": {
     "end_time": "2024-07-25T13:43:50.507284Z",
     "start_time": "2024-07-25T13:43:50.504915Z"
    }
   },
   "cell_type": "code",
   "source": "filtered = filter(is_even, gen_cubes(10))",
   "id": "74f3099ea8a831a5",
   "outputs": [],
   "execution_count": 18
  },
  {
   "metadata": {
    "ExecuteTime": {
     "end_time": "2024-07-25T13:43:53.794387Z",
     "start_time": "2024-07-25T13:43:53.788940Z"
    }
   },
   "cell_type": "code",
   "source": "next(filtered)",
   "id": "77b5819ffd57c6d9",
   "outputs": [
    {
     "name": "stdout",
     "output_type": "stream",
     "text": [
      "yielding 0\n"
     ]
    },
    {
     "data": {
      "text/plain": [
       "0"
      ]
     },
     "execution_count": 19,
     "metadata": {},
     "output_type": "execute_result"
    }
   ],
   "execution_count": 19
  },
  {
   "metadata": {
    "ExecuteTime": {
     "end_time": "2024-07-25T13:43:58.393462Z",
     "start_time": "2024-07-25T13:43:58.388205Z"
    }
   },
   "cell_type": "code",
   "source": "next(filtered)",
   "id": "750fb33f9476f232",
   "outputs": [
    {
     "name": "stdout",
     "output_type": "stream",
     "text": [
      "yielding 1\n",
      "yielding 2\n"
     ]
    },
    {
     "data": {
      "text/plain": [
       "8"
      ]
     },
     "execution_count": 20,
     "metadata": {},
     "output_type": "execute_result"
    }
   ],
   "execution_count": 20
  },
  {
   "metadata": {
    "ExecuteTime": {
     "end_time": "2024-07-25T13:44:02.854192Z",
     "start_time": "2024-07-25T13:44:02.849443Z"
    }
   },
   "cell_type": "code",
   "source": "next(filtered)",
   "id": "6e234bb1a9418677",
   "outputs": [
    {
     "name": "stdout",
     "output_type": "stream",
     "text": [
      "yielding 3\n",
      "yielding 4\n"
     ]
    },
    {
     "data": {
      "text/plain": [
       "64"
      ]
     },
     "execution_count": 21,
     "metadata": {},
     "output_type": "execute_result"
    }
   ],
   "execution_count": 21
  },
  {
   "metadata": {
    "ExecuteTime": {
     "end_time": "2024-07-25T13:45:06.069184Z",
     "start_time": "2024-07-25T13:45:06.065900Z"
    }
   },
   "cell_type": "code",
   "source": "from itertools import filterfalse",
   "id": "9380b851732855d0",
   "outputs": [],
   "execution_count": 23
  },
  {
   "metadata": {
    "ExecuteTime": {
     "end_time": "2024-07-25T13:45:39.467670Z",
     "start_time": "2024-07-25T13:45:39.463271Z"
    }
   },
   "cell_type": "code",
   "source": [
    "filtered = filter(is_odd, gen_cubes(10))\n",
    "next(filtered), next(filtered)"
   ],
   "id": "e1d961103b5f1b65",
   "outputs": [
    {
     "name": "stdout",
     "output_type": "stream",
     "text": [
      "yielding 0\n",
      "yielding 1\n",
      "yielding 2\n",
      "yielding 3\n"
     ]
    },
    {
     "data": {
      "text/plain": [
       "(1, 27)"
      ]
     },
     "execution_count": 26,
     "metadata": {},
     "output_type": "execute_result"
    }
   ],
   "execution_count": 26
  },
  {
   "metadata": {
    "ExecuteTime": {
     "end_time": "2024-07-25T13:45:45.889591Z",
     "start_time": "2024-07-25T13:45:45.884481Z"
    }
   },
   "cell_type": "code",
   "source": [
    "filtered = filterfalse(is_odd, gen_cubes(10))\n",
    "next(filtered), next(filtered)"
   ],
   "id": "a47a2ad877e786f0",
   "outputs": [
    {
     "name": "stdout",
     "output_type": "stream",
     "text": [
      "yielding 0\n",
      "yielding 1\n",
      "yielding 2\n"
     ]
    },
    {
     "data": {
      "text/plain": [
       "(0, 8)"
      ]
     },
     "execution_count": 27,
     "metadata": {},
     "output_type": "execute_result"
    }
   ],
   "execution_count": 27
  },
  {
   "metadata": {
    "ExecuteTime": {
     "end_time": "2024-07-25T13:47:47.079244Z",
     "start_time": "2024-07-25T13:47:47.076448Z"
    }
   },
   "cell_type": "code",
   "source": "from itertools import dropwhile, takewhile   ",
   "id": "2d7a70d24e6c485a",
   "outputs": [],
   "execution_count": 28
  },
  {
   "metadata": {
    "ExecuteTime": {
     "end_time": "2024-07-25T13:47:54.018947Z",
     "start_time": "2024-07-25T13:47:54.015415Z"
    }
   },
   "cell_type": "code",
   "source": "from math import sin, pi",
   "id": "aa0716260a17387a",
   "outputs": [],
   "execution_count": 29
  },
  {
   "metadata": {
    "ExecuteTime": {
     "end_time": "2024-07-25T13:49:17.524185Z",
     "start_time": "2024-07-25T13:49:17.520246Z"
    }
   },
   "cell_type": "code",
   "source": [
    "def sine_wave(n):\n",
    "    start = 0\n",
    "    max_ = 2 * pi\n",
    "    step = (max_ - start) / (n-1)\n",
    "    \n",
    "    for _ in range(n):\n",
    "        yield round(sin(start), 2)\n",
    "        start += step"
   ],
   "id": "618a4e706d6d7c0a",
   "outputs": [],
   "execution_count": 30
  },
  {
   "metadata": {
    "ExecuteTime": {
     "end_time": "2024-07-25T13:54:05.431975Z",
     "start_time": "2024-07-25T13:54:05.427256Z"
    }
   },
   "cell_type": "code",
   "source": "list(sine_wave(15))[:6]",
   "id": "2f8cf44d2571ad5a",
   "outputs": [
    {
     "data": {
      "text/plain": [
       "[0.0, 0.43, 0.78, 0.97, 0.97, 0.78]"
      ]
     },
     "execution_count": 38,
     "metadata": {},
     "output_type": "execute_result"
    }
   ],
   "execution_count": 38
  },
  {
   "metadata": {
    "ExecuteTime": {
     "end_time": "2024-07-25T13:54:22.274781Z",
     "start_time": "2024-07-25T13:54:22.272119Z"
    }
   },
   "cell_type": "code",
   "source": "result = takewhile(lambda x: 0 <= x <= 0.9, list(sine_wave(15)))",
   "id": "3fe4c3c1bde0ad9d",
   "outputs": [],
   "execution_count": 39
  },
  {
   "metadata": {
    "ExecuteTime": {
     "end_time": "2024-07-25T13:54:28.199167Z",
     "start_time": "2024-07-25T13:54:28.194592Z"
    }
   },
   "cell_type": "code",
   "source": "list(result)",
   "id": "4c90acef05c564cc",
   "outputs": [
    {
     "data": {
      "text/plain": [
       "[0.0, 0.43, 0.78]"
      ]
     },
     "execution_count": 40,
     "metadata": {},
     "output_type": "execute_result"
    }
   ],
   "execution_count": 40
  },
  {
   "metadata": {
    "ExecuteTime": {
     "end_time": "2024-07-25T13:54:31.150309Z",
     "start_time": "2024-07-25T13:54:31.133182Z"
    }
   },
   "cell_type": "code",
   "source": "next(result)",
   "id": "b16a125958d6db38",
   "outputs": [
    {
     "ename": "StopIteration",
     "evalue": "",
     "output_type": "error",
     "traceback": [
      "\u001B[0;31m---------------------------------------------------------------------------\u001B[0m",
      "\u001B[0;31mStopIteration\u001B[0m                             Traceback (most recent call last)",
      "Cell \u001B[0;32mIn[41], line 1\u001B[0m\n\u001B[0;32m----> 1\u001B[0m \u001B[38;5;28;43mnext\u001B[39;49m\u001B[43m(\u001B[49m\u001B[43mresult\u001B[49m\u001B[43m)\u001B[49m\n",
      "\u001B[0;31mStopIteration\u001B[0m: "
     ]
    }
   ],
   "execution_count": 41
  },
  {
   "metadata": {
    "ExecuteTime": {
     "end_time": "2024-07-25T13:56:03.834465Z",
     "start_time": "2024-07-25T13:56:03.832459Z"
    }
   },
   "cell_type": "code",
   "source": "l = 1, 3, 5, 2, 1",
   "id": "8de7d5808530dc62",
   "outputs": [],
   "execution_count": 42
  },
  {
   "metadata": {
    "ExecuteTime": {
     "end_time": "2024-07-25T13:56:31.832555Z",
     "start_time": "2024-07-25T13:56:31.829950Z"
    }
   },
   "cell_type": "code",
   "source": "result = dropwhile(lambda x: x < 5, l)",
   "id": "3dbec69a2e0cc10c",
   "outputs": [],
   "execution_count": 43
  },
  {
   "metadata": {
    "ExecuteTime": {
     "end_time": "2024-07-25T13:56:35.335697Z",
     "start_time": "2024-07-25T13:56:35.330797Z"
    }
   },
   "cell_type": "code",
   "source": "list(result)",
   "id": "2dd3e966dc6d7c19",
   "outputs": [
    {
     "data": {
      "text/plain": [
       "[5, 2, 1]"
      ]
     },
     "execution_count": 44,
     "metadata": {},
     "output_type": "execute_result"
    }
   ],
   "execution_count": 44
  },
  {
   "metadata": {
    "ExecuteTime": {
     "end_time": "2024-07-25T14:00:19.862985Z",
     "start_time": "2024-07-25T14:00:19.860409Z"
    }
   },
   "cell_type": "code",
   "source": "from itertools import compress",
   "id": "e8fce5a4eab4eb52",
   "outputs": [],
   "execution_count": 47
  },
  {
   "metadata": {
    "ExecuteTime": {
     "end_time": "2024-07-25T14:00:20.303929Z",
     "start_time": "2024-07-25T14:00:20.301683Z"
    }
   },
   "cell_type": "code",
   "source": [
    "data = ['a', 'b', 'c', 'd', 'e']\n",
    "selectors = [True, False, 1, 0]"
   ],
   "id": "d6a67e187c79d635",
   "outputs": [],
   "execution_count": 48
  },
  {
   "metadata": {
    "ExecuteTime": {
     "end_time": "2024-07-25T14:00:20.607712Z",
     "start_time": "2024-07-25T14:00:20.604326Z"
    }
   },
   "cell_type": "code",
   "source": "list(zip(data, selectors))",
   "id": "304d59bbc1b880e9",
   "outputs": [
    {
     "data": {
      "text/plain": [
       "[('a', True), ('b', False), ('c', 1), ('d', 0)]"
      ]
     },
     "execution_count": 49,
     "metadata": {},
     "output_type": "execute_result"
    }
   ],
   "execution_count": 49
  },
  {
   "metadata": {
    "ExecuteTime": {
     "end_time": "2024-07-25T14:03:43.409550Z",
     "start_time": "2024-07-25T14:03:43.404779Z"
    }
   },
   "cell_type": "code",
   "source": "[item for item, truth_value in zip(data, selectors) if truth_value]",
   "id": "5ff779e322436b1d",
   "outputs": [
    {
     "data": {
      "text/plain": [
       "['a', 'c']"
      ]
     },
     "execution_count": 51,
     "metadata": {},
     "output_type": "execute_result"
    }
   ],
   "execution_count": 51
  },
  {
   "metadata": {
    "ExecuteTime": {
     "end_time": "2024-07-25T14:06:40.104180Z",
     "start_time": "2024-07-25T14:06:40.099850Z"
    }
   },
   "cell_type": "code",
   "source": "list(compress(data, selectors))",
   "id": "e6e3466790d8dbeb",
   "outputs": [
    {
     "data": {
      "text/plain": [
       "['a', 'c']"
      ]
     },
     "execution_count": 52,
     "metadata": {},
     "output_type": "execute_result"
    }
   ],
   "execution_count": 52
  },
  {
   "metadata": {},
   "cell_type": "code",
   "outputs": [],
   "execution_count": null,
   "source": "",
   "id": "ec85edf53b86fdaf"
  }
 ],
 "metadata": {
  "kernelspec": {
   "display_name": "Python 3",
   "language": "python",
   "name": "python3"
  },
  "language_info": {
   "codemirror_mode": {
    "name": "ipython",
    "version": 2
   },
   "file_extension": ".py",
   "mimetype": "text/x-python",
   "name": "python",
   "nbconvert_exporter": "python",
   "pygments_lexer": "ipython2",
   "version": "2.7.6"
  }
 },
 "nbformat": 4,
 "nbformat_minor": 5
}
