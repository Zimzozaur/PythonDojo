{
 "cells": [
  {
   "cell_type": "code",
   "id": "initial_id",
   "metadata": {
    "collapsed": true,
    "ExecuteTime": {
     "end_time": "2024-07-26T16:58:54.471404Z",
     "start_time": "2024-07-26T16:58:54.468982Z"
    }
   },
   "source": [
    "l1 = [1, 2, 3, 4, 5]\n",
    "l2 = [1, 2, 3, 4]\n",
    "l3 = [1, 2, 3]"
   ],
   "outputs": [],
   "execution_count": 2
  },
  {
   "metadata": {
    "ExecuteTime": {
     "end_time": "2024-07-26T16:59:05.104863Z",
     "start_time": "2024-07-26T16:59:05.102586Z"
    }
   },
   "cell_type": "code",
   "source": "results = zip(l1, l2, l3)",
   "id": "92d0af758ce58030",
   "outputs": [],
   "execution_count": 3
  },
  {
   "metadata": {
    "ExecuteTime": {
     "end_time": "2024-07-26T16:59:40.199727Z",
     "start_time": "2024-07-26T16:59:40.189396Z"
    }
   },
   "cell_type": "code",
   "source": "iter(results) is results",
   "id": "5aba8f3feffea22c",
   "outputs": [
    {
     "data": {
      "text/plain": [
       "True"
      ]
     },
     "execution_count": 4,
     "metadata": {},
     "output_type": "execute_result"
    }
   ],
   "execution_count": 4
  },
  {
   "metadata": {
    "ExecuteTime": {
     "end_time": "2024-07-26T17:00:01.925201Z",
     "start_time": "2024-07-26T17:00:01.920173Z"
    }
   },
   "cell_type": "code",
   "source": "'__next__' in dir(results)",
   "id": "64c1393f4fb3f2e2",
   "outputs": [
    {
     "data": {
      "text/plain": [
       "True"
      ]
     },
     "execution_count": 6,
     "metadata": {},
     "output_type": "execute_result"
    }
   ],
   "execution_count": 6
  },
  {
   "metadata": {
    "ExecuteTime": {
     "end_time": "2024-07-26T17:00:07.481794Z",
     "start_time": "2024-07-26T17:00:07.475956Z"
    }
   },
   "cell_type": "code",
   "source": "list(results)",
   "id": "58bbfe1653e06dea",
   "outputs": [
    {
     "data": {
      "text/plain": [
       "[(1, 1, 1), (2, 2, 2), (3, 3, 3)]"
      ]
     },
     "execution_count": 7,
     "metadata": {},
     "output_type": "execute_result"
    }
   ],
   "execution_count": 7
  },
  {
   "metadata": {
    "ExecuteTime": {
     "end_time": "2024-07-26T17:01:15.357745Z",
     "start_time": "2024-07-26T17:01:15.353812Z"
    }
   },
   "cell_type": "code",
   "source": [
    "def integer(n):\n",
    "    for i in range(n):\n",
    "        yield i\n",
    "        \n",
    "def squares(n):\n",
    "    for i in range(n):\n",
    "        yield i ** 2\n",
    "        \n",
    "def cubes(n):\n",
    "    for i in range(n):\n",
    "        yield i ** 3"
   ],
   "id": "230a517d270600b6",
   "outputs": [],
   "execution_count": 8
  },
  {
   "metadata": {
    "ExecuteTime": {
     "end_time": "2024-07-26T17:01:53.996854Z",
     "start_time": "2024-07-26T17:01:53.993442Z"
    }
   },
   "cell_type": "code",
   "source": [
    "iter1 = integer(6)\n",
    "iter2 = squares(5)\n",
    "iter3 = cubes(4)"
   ],
   "id": "504f83e193720c41",
   "outputs": [],
   "execution_count": 9
  },
  {
   "metadata": {
    "ExecuteTime": {
     "end_time": "2024-07-26T17:02:20.838445Z",
     "start_time": "2024-07-26T17:02:20.832641Z"
    }
   },
   "cell_type": "code",
   "source": "list(zip(iter1, iter2, iter3))",
   "id": "65d3304448e25ed1",
   "outputs": [
    {
     "data": {
      "text/plain": [
       "[(0, 0, 0), (1, 1, 1), (2, 4, 8), (3, 9, 27)]"
      ]
     },
     "execution_count": 10,
     "metadata": {},
     "output_type": "execute_result"
    }
   ],
   "execution_count": 10
  },
  {
   "metadata": {
    "ExecuteTime": {
     "end_time": "2024-07-26T17:02:46.384385Z",
     "start_time": "2024-07-26T17:02:46.381858Z"
    }
   },
   "cell_type": "code",
   "source": "from itertools import zip_longest",
   "id": "f16c88577a412ae4",
   "outputs": [],
   "execution_count": 11
  },
  {
   "metadata": {
    "ExecuteTime": {
     "end_time": "2024-07-26T17:04:03.266136Z",
     "start_time": "2024-07-26T17:04:03.261001Z"
    }
   },
   "cell_type": "code",
   "source": [
    "iter1 = integer(5)\n",
    "iter2 = squares(4)\n",
    "iter3 = cubes(3)\n",
    "list(zip_longest(iter1, iter2, iter3, fillvalue='N/A'))"
   ],
   "id": "f0bc756433d770e0",
   "outputs": [
    {
     "data": {
      "text/plain": [
       "[(0, 0, 0), (1, 1, 1), (2, 4, 8), (3, 9, 'N/A'), (4, 'N/A', 'N/A')]"
      ]
     },
     "execution_count": 14,
     "metadata": {},
     "output_type": "execute_result"
    }
   ],
   "execution_count": 14
  },
  {
   "metadata": {
    "ExecuteTime": {
     "end_time": "2024-07-26T17:07:45.409003Z",
     "start_time": "2024-07-26T17:07:45.406173Z"
    }
   },
   "cell_type": "code",
   "source": [
    "def squares():\n",
    "    i = 0\n",
    "    while True:\n",
    "        yield i ** 2\n",
    "        i += 1"
   ],
   "id": "490d8d4e4661f138",
   "outputs": [],
   "execution_count": 32
  },
  {
   "metadata": {
    "ExecuteTime": {
     "end_time": "2024-07-26T17:07:45.597746Z",
     "start_time": "2024-07-26T17:07:45.593879Z"
    }
   },
   "cell_type": "code",
   "source": [
    "def cubes():\n",
    "    i = 0\n",
    "    while True:\n",
    "        yield i ** 3\n",
    "        i += 1"
   ],
   "id": "d32c9c02a16d0893",
   "outputs": [],
   "execution_count": 33
  },
  {
   "metadata": {
    "ExecuteTime": {
     "end_time": "2024-07-26T17:07:45.769194Z",
     "start_time": "2024-07-26T17:07:45.766045Z"
    }
   },
   "cell_type": "code",
   "source": [
    "iter1 = squares()\n",
    "iter2 = cubes()"
   ],
   "id": "1e36919bbe1d15c7",
   "outputs": [],
   "execution_count": 34
  },
  {
   "metadata": {
    "ExecuteTime": {
     "end_time": "2024-07-26T17:07:46.080607Z",
     "start_time": "2024-07-26T17:07:46.074823Z"
    }
   },
   "cell_type": "code",
   "source": "list(zip(range(10), iter1, iter2))",
   "id": "5145c8fe80bde4df",
   "outputs": [
    {
     "data": {
      "text/plain": [
       "[(0, 0, 0),\n",
       " (1, 1, 1),\n",
       " (2, 4, 8),\n",
       " (3, 9, 27),\n",
       " (4, 16, 64),\n",
       " (5, 25, 125),\n",
       " (6, 36, 216),\n",
       " (7, 49, 343),\n",
       " (8, 64, 512),\n",
       " (9, 81, 729)]"
      ]
     },
     "execution_count": 35,
     "metadata": {},
     "output_type": "execute_result"
    }
   ],
   "execution_count": 35
  },
  {
   "metadata": {},
   "cell_type": "code",
   "outputs": [],
   "execution_count": null,
   "source": "",
   "id": "ccb72aee9aed153a"
  }
 ],
 "metadata": {
  "kernelspec": {
   "display_name": "Python 3",
   "language": "python",
   "name": "python3"
  },
  "language_info": {
   "codemirror_mode": {
    "name": "ipython",
    "version": 2
   },
   "file_extension": ".py",
   "mimetype": "text/x-python",
   "name": "python",
   "nbconvert_exporter": "python",
   "pygments_lexer": "ipython2",
   "version": "2.7.6"
  }
 },
 "nbformat": 4,
 "nbformat_minor": 5
}
