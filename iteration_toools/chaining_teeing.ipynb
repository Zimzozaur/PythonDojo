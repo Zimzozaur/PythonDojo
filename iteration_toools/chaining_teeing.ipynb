{
 "cells": [
  {
   "cell_type": "code",
   "id": "initial_id",
   "metadata": {
    "collapsed": true,
    "ExecuteTime": {
     "end_time": "2024-07-26T10:27:03.670841Z",
     "start_time": "2024-07-26T10:27:03.667512Z"
    }
   },
   "source": [
    "l1 = (i**2 for i in range(4))\n",
    "l2 = (i**2 for i in range(4, 8))\n",
    "l3 = (i**2 for i in range(8, 12))"
   ],
   "outputs": [],
   "execution_count": 1
  },
  {
   "metadata": {
    "ExecuteTime": {
     "end_time": "2024-07-26T10:27:17.855589Z",
     "start_time": "2024-07-26T10:27:17.852808Z"
    }
   },
   "cell_type": "code",
   "source": [
    "for gen in l1, l2, l3:\n",
    "    for item in gen:\n",
    "        print(item)"
   ],
   "id": "11dcdd6d79adafc4",
   "outputs": [
    {
     "name": "stdout",
     "output_type": "stream",
     "text": [
      "0\n",
      "1\n",
      "4\n",
      "9\n",
      "16\n",
      "25\n",
      "36\n",
      "49\n",
      "64\n",
      "81\n",
      "100\n",
      "121\n"
     ]
    }
   ],
   "execution_count": 2
  },
  {
   "metadata": {
    "ExecuteTime": {
     "end_time": "2024-07-26T10:29:41.979088Z",
     "start_time": "2024-07-26T10:29:41.975395Z"
    }
   },
   "cell_type": "code",
   "source": [
    "def chain_iterables(*iterables):\n",
    "    for iterable in iterables:\n",
    "        yield from iterable"
   ],
   "id": "b37bcb4a29d13e35",
   "outputs": [],
   "execution_count": 3
  },
  {
   "metadata": {
    "ExecuteTime": {
     "end_time": "2024-07-26T10:30:04.651933Z",
     "start_time": "2024-07-26T10:30:04.647062Z"
    }
   },
   "cell_type": "code",
   "source": [
    "l1 = (i**2 for i in range(4))\n",
    "l2 = (i**2 for i in range(4, 8))\n",
    "l3 = (i**2 for i in range(8, 12))\n",
    "\n",
    "for item in chain_iterables(l1, l2, l3):\n",
    "    print(item)"
   ],
   "id": "ee907288a5c80c31",
   "outputs": [
    {
     "name": "stdout",
     "output_type": "stream",
     "text": [
      "0\n",
      "1\n",
      "4\n",
      "9\n",
      "16\n",
      "25\n",
      "36\n",
      "49\n",
      "64\n",
      "81\n",
      "100\n",
      "121\n"
     ]
    }
   ],
   "execution_count": 4
  },
  {
   "metadata": {
    "ExecuteTime": {
     "end_time": "2024-07-26T10:30:27.129373Z",
     "start_time": "2024-07-26T10:30:27.126670Z"
    }
   },
   "cell_type": "code",
   "source": "from itertools import chain",
   "id": "b2a6736a1ce76bfe",
   "outputs": [],
   "execution_count": 5
  },
  {
   "metadata": {
    "ExecuteTime": {
     "end_time": "2024-07-26T10:30:54.468064Z",
     "start_time": "2024-07-26T10:30:54.464077Z"
    }
   },
   "cell_type": "code",
   "source": [
    "l1 = (i**2 for i in range(4))\n",
    "l2 = (i**2 for i in range(4, 8))\n",
    "l3 = (i**2 for i in range(8, 12))\n",
    "\n",
    "for item in chain(l1, l2, l3):\n",
    "    print(item)"
   ],
   "id": "e06c8b1e87443eb6",
   "outputs": [
    {
     "name": "stdout",
     "output_type": "stream",
     "text": [
      "0\n",
      "1\n",
      "4\n",
      "9\n",
      "16\n",
      "25\n",
      "36\n",
      "49\n",
      "64\n",
      "81\n",
      "100\n",
      "121\n"
     ]
    }
   ],
   "execution_count": 7
  },
  {
   "metadata": {
    "ExecuteTime": {
     "end_time": "2024-07-26T10:31:17.652368Z",
     "start_time": "2024-07-26T10:31:17.649616Z"
    }
   },
   "cell_type": "code",
   "source": [
    "l1 = (i**2 for i in range(4))\n",
    "l2 = (i**2 for i in range(4, 8))\n",
    "l3 = (i**2 for i in range(8, 12))\n",
    "\n",
    "lists = [l1, l2, l3]"
   ],
   "id": "4cde147152d9fe23",
   "outputs": [],
   "execution_count": 8
  },
  {
   "metadata": {
    "ExecuteTime": {
     "end_time": "2024-07-26T10:32:07.950645Z",
     "start_time": "2024-07-26T10:32:07.946065Z"
    }
   },
   "cell_type": "code",
   "source": [
    "for item in chain(lists):\n",
    "    for i in item:\n",
    "        print(i)"
   ],
   "id": "92eb0532fb0b08f",
   "outputs": [
    {
     "name": "stdout",
     "output_type": "stream",
     "text": [
      "0\n",
      "1\n",
      "4\n",
      "9\n",
      "16\n",
      "25\n",
      "36\n",
      "49\n",
      "64\n",
      "81\n",
      "100\n",
      "121\n"
     ]
    }
   ],
   "execution_count": 10
  },
  {
   "metadata": {
    "ExecuteTime": {
     "end_time": "2024-07-26T10:32:55.904102Z",
     "start_time": "2024-07-26T10:32:55.899360Z"
    }
   },
   "cell_type": "code",
   "source": [
    "l1 = (i**2 for i in range(4))\n",
    "l2 = (i**2 for i in range(4, 8))\n",
    "l3 = (i**2 for i in range(8, 12))\n",
    "\n",
    "lists = [l1, l2, l3]\n",
    "for item in chain(*lists):\n",
    "    print(item)"
   ],
   "id": "efdd448e03fe67c1",
   "outputs": [
    {
     "name": "stdout",
     "output_type": "stream",
     "text": [
      "0\n",
      "1\n",
      "4\n",
      "9\n",
      "16\n",
      "25\n",
      "36\n",
      "49\n",
      "64\n",
      "81\n",
      "100\n",
      "121\n"
     ]
    }
   ],
   "execution_count": 11
  },
  {
   "metadata": {
    "ExecuteTime": {
     "end_time": "2024-07-26T10:33:36.660468Z",
     "start_time": "2024-07-26T10:33:36.656881Z"
    }
   },
   "cell_type": "code",
   "source": [
    "def squares():\n",
    "    yield (i**2 for i in range(4))\n",
    "    yield (i**2 for i in range(4, 8))\n",
    "    yield (i**2 for i in range(8, 12))"
   ],
   "id": "71915058a68edb02",
   "outputs": [],
   "execution_count": 12
  },
  {
   "metadata": {
    "ExecuteTime": {
     "end_time": "2024-07-26T10:34:04.791050Z",
     "start_time": "2024-07-26T10:34:04.787826Z"
    }
   },
   "cell_type": "code",
   "source": [
    "for item in chain(*squares()):\n",
    "    print(item)"
   ],
   "id": "2336343f31d8a925",
   "outputs": [
    {
     "name": "stdout",
     "output_type": "stream",
     "text": [
      "0\n",
      "1\n",
      "4\n",
      "9\n",
      "16\n",
      "25\n",
      "36\n",
      "49\n",
      "64\n",
      "81\n",
      "100\n",
      "121\n"
     ]
    }
   ],
   "execution_count": 13
  },
  {
   "metadata": {
    "ExecuteTime": {
     "end_time": "2024-07-26T10:34:23.642103Z",
     "start_time": "2024-07-26T10:34:23.637233Z"
    }
   },
   "cell_type": "code",
   "source": "squares()",
   "id": "3ac2cd81c1f70104",
   "outputs": [
    {
     "data": {
      "text/plain": [
       "<generator object squares at 0x7255513fd490>"
      ]
     },
     "execution_count": 14,
     "metadata": {},
     "output_type": "execute_result"
    }
   ],
   "execution_count": 14
  },
  {
   "metadata": {
    "ExecuteTime": {
     "end_time": "2024-07-26T10:34:45.995199Z",
     "start_time": "2024-07-26T10:34:45.990683Z"
    }
   },
   "cell_type": "code",
   "source": "*squares(), ",
   "id": "9a504af9f12afe42",
   "outputs": [
    {
     "data": {
      "text/plain": [
       "(<generator object squares.<locals>.<genexpr> at 0x72555137f780>,\n",
       " <generator object squares.<locals>.<genexpr> at 0x72555137fb90>,\n",
       " <generator object squares.<locals>.<genexpr> at 0x72555137fac0>)"
      ]
     },
     "execution_count": 18,
     "metadata": {},
     "output_type": "execute_result"
    }
   ],
   "execution_count": 18
  },
  {
   "metadata": {
    "ExecuteTime": {
     "end_time": "2024-07-26T10:37:49.779419Z",
     "start_time": "2024-07-26T10:37:49.775482Z"
    }
   },
   "cell_type": "code",
   "source": "chain(*squares())",
   "id": "6b721fec21d13279",
   "outputs": [
    {
     "data": {
      "text/plain": [
       "<itertools.chain at 0x725550891840>"
      ]
     },
     "execution_count": 19,
     "metadata": {},
     "output_type": "execute_result"
    }
   ],
   "execution_count": 19
  },
  {
   "metadata": {
    "ExecuteTime": {
     "end_time": "2024-07-26T10:40:44.743084Z",
     "start_time": "2024-07-26T10:40:44.738363Z"
    }
   },
   "cell_type": "code",
   "source": [
    "def squares():\n",
    "    print('First yield')\n",
    "    yield (print(f'First: {i}') for i in range(4))\n",
    "    print('Second yield')\n",
    "    yield (print(f'Second: {i}') for i in range(4, 8))\n",
    "    print('Third yield')\n",
    "    yield (print(f'Third: {i}') for i in range(8, 12))"
   ],
   "id": "ad74a42b5175e12e",
   "outputs": [],
   "execution_count": 25
  },
  {
   "metadata": {
    "ExecuteTime": {
     "end_time": "2024-07-26T10:45:08.029035Z",
     "start_time": "2024-07-26T10:45:08.024999Z"
    }
   },
   "cell_type": "code",
   "source": [
    "for item in chain(*squares()):\n",
    "    item"
   ],
   "id": "9761815474567934",
   "outputs": [
    {
     "name": "stdout",
     "output_type": "stream",
     "text": [
      "First yield\n",
      "Second yield\n",
      "Third yield\n",
      "First: 0\n",
      "First: 1\n",
      "First: 2\n",
      "First: 3\n",
      "Second: 4\n",
      "Second: 5\n",
      "Second: 6\n",
      "Second: 7\n",
      "Third: 8\n",
      "Third: 9\n",
      "Third: 10\n",
      "Third: 11\n"
     ]
    }
   ],
   "execution_count": 43
  },
  {
   "metadata": {
    "ExecuteTime": {
     "end_time": "2024-07-26T10:40:55.190686Z",
     "start_time": "2024-07-26T10:40:55.185875Z"
    }
   },
   "cell_type": "code",
   "source": "squares()",
   "id": "d1445910ca406fbf",
   "outputs": [
    {
     "data": {
      "text/plain": [
       "<generator object squares at 0x7255508e6810>"
      ]
     },
     "execution_count": 27,
     "metadata": {},
     "output_type": "execute_result"
    }
   ],
   "execution_count": 27
  },
  {
   "metadata": {
    "ExecuteTime": {
     "end_time": "2024-07-26T10:41:01.795223Z",
     "start_time": "2024-07-26T10:41:01.789908Z"
    }
   },
   "cell_type": "code",
   "source": "*squares(), ",
   "id": "98dd9519c0644036",
   "outputs": [
    {
     "name": "stdout",
     "output_type": "stream",
     "text": [
      "First yield\n",
      "Second yield\n",
      "Third yield\n"
     ]
    },
    {
     "data": {
      "text/plain": [
       "(<generator object squares.<locals>.<genexpr> at 0x725550856c00>,\n",
       " <generator object squares.<locals>.<genexpr> at 0x725550857300>,\n",
       " <generator object squares.<locals>.<genexpr> at 0x725550857920>)"
      ]
     },
     "execution_count": 28,
     "metadata": {},
     "output_type": "execute_result"
    }
   ],
   "execution_count": 28
  },
  {
   "metadata": {
    "ExecuteTime": {
     "end_time": "2024-07-26T10:41:13.578550Z",
     "start_time": "2024-07-26T10:41:13.573783Z"
    }
   },
   "cell_type": "code",
   "source": "chain(*squares())",
   "id": "a65cd39b173bcb67",
   "outputs": [
    {
     "name": "stdout",
     "output_type": "stream",
     "text": [
      "First yield\n",
      "Second yield\n",
      "Third yield\n"
     ]
    },
    {
     "data": {
      "text/plain": [
       "<itertools.chain at 0x725550892950>"
      ]
     },
     "execution_count": 29,
     "metadata": {},
     "output_type": "execute_result"
    }
   ],
   "execution_count": 29
  },
  {
   "metadata": {
    "ExecuteTime": {
     "end_time": "2024-07-26T10:44:35.222035Z",
     "start_time": "2024-07-26T10:44:35.217816Z"
    }
   },
   "cell_type": "code",
   "source": "c = chain.from_iterable(squares())",
   "id": "c7d099ef8325ba60",
   "outputs": [],
   "execution_count": 41
  },
  {
   "metadata": {
    "ExecuteTime": {
     "end_time": "2024-07-26T10:44:35.391891Z",
     "start_time": "2024-07-26T10:44:35.387296Z"
    }
   },
   "cell_type": "code",
   "source": [
    "for item in c:\n",
    "    item"
   ],
   "id": "93ad69d3f56a2841",
   "outputs": [
    {
     "name": "stdout",
     "output_type": "stream",
     "text": [
      "First yield\n",
      "First: 0\n",
      "First: 1\n",
      "First: 2\n",
      "First: 3\n",
      "Second yield\n",
      "Second: 4\n",
      "Second: 5\n",
      "Second: 6\n",
      "Second: 7\n",
      "Third yield\n",
      "Third: 8\n",
      "Third: 9\n",
      "Third: 10\n",
      "Third: 11\n"
     ]
    }
   ],
   "execution_count": 42
  },
  {
   "metadata": {
    "ExecuteTime": {
     "end_time": "2024-07-26T10:46:40.476996Z",
     "start_time": "2024-07-26T10:46:40.473950Z"
    }
   },
   "cell_type": "code",
   "source": [
    "def yield_prin():\n",
    "    yield print('yielded print')"
   ],
   "id": "14a8dde6d7c8e67",
   "outputs": [],
   "execution_count": 44
  },
  {
   "metadata": {
    "ExecuteTime": {
     "end_time": "2024-07-26T10:47:07.576294Z",
     "start_time": "2024-07-26T10:47:07.572393Z"
    }
   },
   "cell_type": "code",
   "source": "x = next(yield_prin())",
   "id": "3b6af4d84fb000ba",
   "outputs": [
    {
     "name": "stdout",
     "output_type": "stream",
     "text": [
      "yielded print\n"
     ]
    }
   ],
   "execution_count": 49
  },
  {
   "metadata": {
    "ExecuteTime": {
     "end_time": "2024-07-26T10:47:11.548316Z",
     "start_time": "2024-07-26T10:47:11.542630Z"
    }
   },
   "cell_type": "code",
   "source": "type(x)",
   "id": "c1099e32aba4c7de",
   "outputs": [
    {
     "data": {
      "text/plain": [
       "NoneType"
      ]
     },
     "execution_count": 50,
     "metadata": {},
     "output_type": "execute_result"
    }
   ],
   "execution_count": 50
  },
  {
   "metadata": {
    "ExecuteTime": {
     "end_time": "2024-07-26T14:29:55.019096Z",
     "start_time": "2024-07-26T14:29:55.016224Z"
    }
   },
   "cell_type": "code",
   "source": "from itertools import tee",
   "id": "e532d0f50ce7f96e",
   "outputs": [],
   "execution_count": 79
  },
  {
   "metadata": {
    "ExecuteTime": {
     "end_time": "2024-07-26T14:29:55.356729Z",
     "start_time": "2024-07-26T14:29:55.353312Z"
    }
   },
   "cell_type": "code",
   "source": [
    "def squares(n):\n",
    "    for i in range(n):\n",
    "        yield i**2"
   ],
   "id": "988dcc42ece2248d",
   "outputs": [],
   "execution_count": 80
  },
  {
   "metadata": {
    "ExecuteTime": {
     "end_time": "2024-07-26T14:29:55.594310Z",
     "start_time": "2024-07-26T14:29:55.591805Z"
    }
   },
   "cell_type": "code",
   "source": "gen = squares(10)",
   "id": "dd6bf1bcf253c3d7",
   "outputs": [],
   "execution_count": 81
  },
  {
   "metadata": {
    "ExecuteTime": {
     "end_time": "2024-07-26T14:29:55.861314Z",
     "start_time": "2024-07-26T14:29:55.858476Z"
    }
   },
   "cell_type": "code",
   "source": "gen",
   "id": "ea17a9f57d1d9e11",
   "outputs": [
    {
     "data": {
      "text/plain": [
       "<generator object squares at 0x72555024f850>"
      ]
     },
     "execution_count": 82,
     "metadata": {},
     "output_type": "execute_result"
    }
   ],
   "execution_count": 82
  },
  {
   "metadata": {
    "ExecuteTime": {
     "end_time": "2024-07-26T14:29:56.127390Z",
     "start_time": "2024-07-26T14:29:56.124261Z"
    }
   },
   "cell_type": "code",
   "source": "iter1, iter2, iter3 = tee([1, 2, 3], 3)",
   "id": "a9945766fd0cf6a7",
   "outputs": [],
   "execution_count": 83
  },
  {
   "metadata": {
    "ExecuteTime": {
     "end_time": "2024-07-26T14:29:56.489208Z",
     "start_time": "2024-07-26T14:29:56.484997Z"
    }
   },
   "cell_type": "code",
   "source": "next(iter1) is next(iter2) is next(iter3)",
   "id": "d9bfaddc61ae1741",
   "outputs": [
    {
     "data": {
      "text/plain": [
       "True"
      ]
     },
     "execution_count": 84,
     "metadata": {},
     "output_type": "execute_result"
    }
   ],
   "execution_count": 84
  },
  {
   "metadata": {
    "ExecuteTime": {
     "end_time": "2024-07-26T14:29:56.751251Z",
     "start_time": "2024-07-26T14:29:56.747862Z"
    }
   },
   "cell_type": "code",
   "source": "next(iter1) is next(iter2) is next(iter3)",
   "id": "bb4bdd4ff5b16488",
   "outputs": [
    {
     "data": {
      "text/plain": [
       "True"
      ]
     },
     "execution_count": 85,
     "metadata": {},
     "output_type": "execute_result"
    }
   ],
   "execution_count": 85
  },
  {
   "metadata": {
    "ExecuteTime": {
     "end_time": "2024-07-26T14:29:57.015946Z",
     "start_time": "2024-07-26T14:29:57.010600Z"
    }
   },
   "cell_type": "code",
   "source": "next(iter1) is next(iter2) is next(iter3)",
   "id": "e39f335ccdbae1b6",
   "outputs": [
    {
     "data": {
      "text/plain": [
       "True"
      ]
     },
     "execution_count": 86,
     "metadata": {},
     "output_type": "execute_result"
    }
   ],
   "execution_count": 86
  },
  {
   "metadata": {
    "ExecuteTime": {
     "end_time": "2024-07-26T14:29:57.331967Z",
     "start_time": "2024-07-26T14:29:57.321056Z"
    }
   },
   "cell_type": "code",
   "source": "next(iter1) is next(iter2) is next(iter3)",
   "id": "6fcf85b7b81ff906",
   "outputs": [
    {
     "ename": "StopIteration",
     "evalue": "",
     "output_type": "error",
     "traceback": [
      "\u001B[0;31m---------------------------------------------------------------------------\u001B[0m",
      "\u001B[0;31mStopIteration\u001B[0m                             Traceback (most recent call last)",
      "Cell \u001B[0;32mIn[87], line 1\u001B[0m\n\u001B[0;32m----> 1\u001B[0m \u001B[38;5;28;43mnext\u001B[39;49m\u001B[43m(\u001B[49m\u001B[43miter1\u001B[49m\u001B[43m)\u001B[49m \u001B[38;5;129;01mis\u001B[39;00m \u001B[38;5;28mnext\u001B[39m(iter2) \u001B[38;5;129;01mis\u001B[39;00m \u001B[38;5;28mnext\u001B[39m(iter3)\n",
      "\u001B[0;31mStopIteration\u001B[0m: "
     ]
    }
   ],
   "execution_count": 87
  },
  {
   "metadata": {
    "ExecuteTime": {
     "end_time": "2024-07-26T14:29:58.051538Z",
     "start_time": "2024-07-26T14:29:58.046683Z"
    }
   },
   "cell_type": "code",
   "source": "type(tee([1, 2, 3], 3))",
   "id": "79ce4698b0da9ffd",
   "outputs": [
    {
     "data": {
      "text/plain": [
       "tuple"
      ]
     },
     "execution_count": 88,
     "metadata": {},
     "output_type": "execute_result"
    }
   ],
   "execution_count": 88
  },
  {
   "metadata": {
    "ExecuteTime": {
     "end_time": "2024-07-26T14:30:18.740959Z",
     "start_time": "2024-07-26T14:30:18.736203Z"
    }
   },
   "cell_type": "code",
   "source": "type(tee([1, 2, 3], 3)[0])",
   "id": "857135eab1feb81b",
   "outputs": [
    {
     "data": {
      "text/plain": [
       "itertools._tee"
      ]
     },
     "execution_count": 91,
     "metadata": {},
     "output_type": "execute_result"
    }
   ],
   "execution_count": 91
  },
  {
   "metadata": {
    "ExecuteTime": {
     "end_time": "2024-07-26T14:31:53.230797Z",
     "start_time": "2024-07-26T14:31:53.228146Z"
    }
   },
   "cell_type": "code",
   "source": "l1, l2 = tee([1, 2, 3], 2)",
   "id": "5df6ae193d57a446",
   "outputs": [],
   "execution_count": 94
  },
  {
   "metadata": {
    "ExecuteTime": {
     "end_time": "2024-07-26T14:32:12.864513Z",
     "start_time": "2024-07-26T14:32:12.860008Z"
    }
   },
   "cell_type": "code",
   "source": "l1 is l1.__iter__()",
   "id": "413796273fa4adae",
   "outputs": [
    {
     "data": {
      "text/plain": [
       "True"
      ]
     },
     "execution_count": 95,
     "metadata": {},
     "output_type": "execute_result"
    }
   ],
   "execution_count": 95
  },
  {
   "metadata": {
    "ExecuteTime": {
     "end_time": "2024-07-26T14:33:06.652376Z",
     "start_time": "2024-07-26T14:33:06.648384Z"
    }
   },
   "cell_type": "code",
   "source": "'__next__' in dir(l1)",
   "id": "13762a0c3fd990dc",
   "outputs": [
    {
     "data": {
      "text/plain": [
       "True"
      ]
     },
     "execution_count": 96,
     "metadata": {},
     "output_type": "execute_result"
    }
   ],
   "execution_count": 96
  },
  {
   "metadata": {
    "ExecuteTime": {
     "end_time": "2024-07-26T14:33:10.845005Z",
     "start_time": "2024-07-26T14:33:10.840862Z"
    }
   },
   "cell_type": "code",
   "source": "dir(l1)",
   "id": "315b0d15af940f71",
   "outputs": [
    {
     "data": {
      "text/plain": [
       "['__class__',\n",
       " '__copy__',\n",
       " '__delattr__',\n",
       " '__dir__',\n",
       " '__doc__',\n",
       " '__eq__',\n",
       " '__format__',\n",
       " '__ge__',\n",
       " '__getattribute__',\n",
       " '__getstate__',\n",
       " '__gt__',\n",
       " '__hash__',\n",
       " '__init__',\n",
       " '__init_subclass__',\n",
       " '__iter__',\n",
       " '__le__',\n",
       " '__lt__',\n",
       " '__module__',\n",
       " '__ne__',\n",
       " '__new__',\n",
       " '__next__',\n",
       " '__reduce__',\n",
       " '__reduce_ex__',\n",
       " '__repr__',\n",
       " '__setattr__',\n",
       " '__setstate__',\n",
       " '__sizeof__',\n",
       " '__str__',\n",
       " '__subclasshook__']"
      ]
     },
     "execution_count": 97,
     "metadata": {},
     "output_type": "execute_result"
    }
   ],
   "execution_count": 97
  },
  {
   "metadata": {},
   "cell_type": "code",
   "outputs": [],
   "execution_count": null,
   "source": "from functools import reduce",
   "id": "a6ca25406126ef24"
  }
 ],
 "metadata": {
  "kernelspec": {
   "display_name": "Python 3",
   "language": "python",
   "name": "python3"
  },
  "language_info": {
   "codemirror_mode": {
    "name": "ipython",
    "version": 2
   },
   "file_extension": ".py",
   "mimetype": "text/x-python",
   "name": "python",
   "nbconvert_exporter": "python",
   "pygments_lexer": "ipython2",
   "version": "2.7.6"
  }
 },
 "nbformat": 4,
 "nbformat_minor": 5
}
