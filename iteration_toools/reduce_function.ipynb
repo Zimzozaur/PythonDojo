{
 "cells": [
  {
   "metadata": {
    "ExecuteTime": {
     "end_time": "2024-07-26T15:02:22.607933Z",
     "start_time": "2024-07-26T15:02:22.604777Z"
    }
   },
   "cell_type": "code",
   "source": "from functools import reduce",
   "id": "6c99f32580b14325",
   "outputs": [],
   "execution_count": 2
  },
  {
   "cell_type": "code",
   "id": "initial_id",
   "metadata": {
    "collapsed": true,
    "ExecuteTime": {
     "end_time": "2024-07-26T15:11:16.460969Z",
     "start_time": "2024-07-26T15:11:16.458438Z"
    }
   },
   "source": "l = 1, 2, 3",
   "outputs": [],
   "execution_count": 24
  },
  {
   "metadata": {
    "ExecuteTime": {
     "end_time": "2024-07-26T15:11:21.061084Z",
     "start_time": "2024-07-26T15:11:21.057043Z"
    }
   },
   "cell_type": "code",
   "source": "reduce(lambda a, b: a + b, l)  # sum",
   "id": "7da75be5ae5dce73",
   "outputs": [
    {
     "data": {
      "text/plain": [
       "16"
      ]
     },
     "execution_count": 26,
     "metadata": {},
     "output_type": "execute_result"
    }
   ],
   "execution_count": 26
  },
  {
   "metadata": {
    "ExecuteTime": {
     "end_time": "2024-07-26T15:04:29.366184Z",
     "start_time": "2024-07-26T15:04:29.361223Z"
    }
   },
   "cell_type": "code",
   "source": "reduce(lambda a, b: a - b, l)  # cumulative subtraction",
   "id": "4f72bb67a281b9e0",
   "outputs": [
    {
     "data": {
      "text/plain": [
       "-4"
      ]
     },
     "execution_count": 5,
     "metadata": {},
     "output_type": "execute_result"
    }
   ],
   "execution_count": 5
  },
  {
   "metadata": {
    "ExecuteTime": {
     "end_time": "2024-07-26T15:06:46.590258Z",
     "start_time": "2024-07-26T15:06:46.585901Z"
    }
   },
   "cell_type": "code",
   "source": "reduce(lambda a, b: a if a < b else b, l)  # min",
   "id": "37c2290502069472",
   "outputs": [
    {
     "data": {
      "text/plain": [
       "1"
      ]
     },
     "execution_count": 8,
     "metadata": {},
     "output_type": "execute_result"
    }
   ],
   "execution_count": 8
  },
  {
   "metadata": {
    "ExecuteTime": {
     "end_time": "2024-07-26T15:10:20.820244Z",
     "start_time": "2024-07-26T15:10:20.815515Z"
    }
   },
   "cell_type": "code",
   "source": "reduce(lambda a, b: a if a > b else b, l)  # max",
   "id": "9719055983009f1f",
   "outputs": [
    {
     "data": {
      "text/plain": [
       "3"
      ]
     },
     "execution_count": 19,
     "metadata": {},
     "output_type": "execute_result"
    }
   ],
   "execution_count": 19
  },
  {
   "metadata": {
    "ExecuteTime": {
     "end_time": "2024-07-26T15:13:06.471382Z",
     "start_time": "2024-07-26T15:13:06.467061Z"
    }
   },
   "cell_type": "code",
   "source": "reduce(lambda a, b: a * b, [2], 2)",
   "id": "a2d8ce75996ba105",
   "outputs": [
    {
     "data": {
      "text/plain": [
       "4"
      ]
     },
     "execution_count": 31,
     "metadata": {},
     "output_type": "execute_result"
    }
   ],
   "execution_count": 31
  },
  {
   "metadata": {},
   "cell_type": "code",
   "outputs": [],
   "execution_count": null,
   "source": "",
   "id": "7d89336d70984db9"
  }
 ],
 "metadata": {
  "kernelspec": {
   "display_name": "Python 3",
   "language": "python",
   "name": "python3"
  },
  "language_info": {
   "codemirror_mode": {
    "name": "ipython",
    "version": 2
   },
   "file_extension": ".py",
   "mimetype": "text/x-python",
   "name": "python",
   "nbconvert_exporter": "python",
   "pygments_lexer": "ipython2",
   "version": "2.7.6"
  }
 },
 "nbformat": 4,
 "nbformat_minor": 5
}
