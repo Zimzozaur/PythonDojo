{
 "cells": [
  {
   "metadata": {
    "ExecuteTime": {
     "end_time": "2024-08-17T06:00:00.122092Z",
     "start_time": "2024-08-17T06:00:00.118949Z"
    }
   },
   "cell_type": "code",
   "source": "from timeit import timeit",
   "id": "9ec679e3d2563125",
   "outputs": [],
   "execution_count": 2
  },
  {
   "cell_type": "code",
   "id": "initial_id",
   "metadata": {
    "collapsed": true,
    "ExecuteTime": {
     "end_time": "2024-08-17T06:05:09.751216Z",
     "start_time": "2024-08-17T06:05:09.746499Z"
    }
   },
   "source": [
    "class ManualComment:\n",
    "    def __init__(self, id: int, text: str) -> None:\n",
    "        self.id: int = id\n",
    "        self.text: str = text\n",
    "        \n",
    "    def __repr__(self):\n",
    "        return f'{self.__class__.__name__}(id={self.id}, text={self.text})'\n",
    "    \n",
    "    def __eq__(self, other):\n",
    "        if isinstance(other, ManualComment):\n",
    "            return (self.id, self.text) == (other.id, other.text)\n",
    "        raise NotImplemented"
   ],
   "outputs": [],
   "execution_count": 37
  },
  {
   "metadata": {
    "ExecuteTime": {
     "end_time": "2024-08-17T06:05:10.153410Z",
     "start_time": "2024-08-17T06:05:10.150485Z"
    }
   },
   "cell_type": "code",
   "source": "mc = ManualComment(120398, 'This is the comment')",
   "id": "7bc5859dab1dbbf",
   "outputs": [],
   "execution_count": 38
  },
  {
   "metadata": {
    "ExecuteTime": {
     "end_time": "2024-08-17T06:05:33.047412Z",
     "start_time": "2024-08-17T06:05:10.486610Z"
    }
   },
   "cell_type": "code",
   "source": "timeit('mc != mc', number=10**8, globals=globals())",
   "id": "45fdc6456ecbf4dd",
   "outputs": [
    {
     "data": {
      "text/plain": [
       "22.55679703199985"
      ]
     },
     "execution_count": 39,
     "metadata": {},
     "output_type": "execute_result"
    }
   ],
   "execution_count": 39
  },
  {
   "metadata": {
    "ExecuteTime": {
     "end_time": "2024-08-17T06:05:33.052323Z",
     "start_time": "2024-08-17T06:05:33.048769Z"
    }
   },
   "cell_type": "code",
   "source": [
    "class ManualComment:\n",
    "    def __init__(self, id: int, text: str) -> None:\n",
    "        self.id: int = id\n",
    "        self.text: str = text\n",
    "        \n",
    "    def __repr__(self):\n",
    "        return f'{self.__class__.__name__}(id={self.id}, text={self.text})'\n",
    "    \n",
    "    def __eq__(self, other):\n",
    "        if isinstance(other, ManualComment):\n",
    "            return (self.id, self.text) == (other.id, other.text)\n",
    "        raise NotImplemented\n",
    "    \n",
    "    def __ne__(self, other):\n",
    "        result = self.__eq__(other)\n",
    "        if result is NotImplemented:\n",
    "            return NotImplemented\n",
    "        return not result"
   ],
   "id": "35a1d26533beab28",
   "outputs": [],
   "execution_count": 40
  },
  {
   "metadata": {
    "ExecuteTime": {
     "end_time": "2024-08-17T06:05:33.061892Z",
     "start_time": "2024-08-17T06:05:33.053332Z"
    }
   },
   "cell_type": "code",
   "source": "mc = ManualComment(120398, 'This is the comment')",
   "id": "52a5150cf08527c",
   "outputs": [],
   "execution_count": 41
  },
  {
   "metadata": {
    "ExecuteTime": {
     "end_time": "2024-08-17T06:05:54.853441Z",
     "start_time": "2024-08-17T06:05:33.063467Z"
    }
   },
   "cell_type": "code",
   "source": "timeit('mc != mc', number=10**8, globals=globals())",
   "id": "f41d86899e0be951",
   "outputs": [
    {
     "data": {
      "text/plain": [
       "21.78604610399998"
      ]
     },
     "execution_count": 42,
     "metadata": {},
     "output_type": "execute_result"
    }
   ],
   "execution_count": 42
  },
  {
   "metadata": {
    "ExecuteTime": {
     "end_time": "2024-08-17T06:10:03.040153Z",
     "start_time": "2024-08-17T06:10:03.033933Z"
    }
   },
   "cell_type": "code",
   "source": [
    "class ManualComment:\n",
    "    def __init__(self, id: int, text: str) -> None:\n",
    "        self._id: int = id\n",
    "        self._text: str = text\n",
    "        \n",
    "    @property\n",
    "    def id(self):\n",
    "        return self._id\n",
    "    \n",
    "    @property\n",
    "    def text(self):\n",
    "        return self._text\n",
    "        \n",
    "    def __repr__(self):\n",
    "        return f'{self.__class__.__name__}(id={self.id}, text={self.text})'\n",
    "    \n",
    "    def __eq__(self, other):\n",
    "        if isinstance(other, ManualComment):\n",
    "            return (self.id, self.text) == (other.id, other.text)\n",
    "        raise NotImplemented\n",
    "    \n",
    "    def __ne__(self, other):\n",
    "        result = self.__eq__(other)\n",
    "        if result is NotImplemented:\n",
    "            return NotImplemented\n",
    "        return not result\n",
    "    \n",
    "    def __hash__(self):\n",
    "        return hash((self.__class__, self.id, self.text))"
   ],
   "id": "ed19753bf2070c9b",
   "outputs": [],
   "execution_count": 57
  },
  {
   "metadata": {
    "ExecuteTime": {
     "end_time": "2024-08-17T06:10:03.225973Z",
     "start_time": "2024-08-17T06:10:03.222737Z"
    }
   },
   "cell_type": "code",
   "source": "mc = ManualComment(120398, 'This is the comment')",
   "id": "ca6a02d46427c714",
   "outputs": [],
   "execution_count": 58
  },
  {
   "metadata": {
    "ExecuteTime": {
     "end_time": "2024-08-17T06:10:03.801086Z",
     "start_time": "2024-08-17T06:10:03.798483Z"
    }
   },
   "cell_type": "code",
   "source": "mc_set = {'comment': mc}",
   "id": "6ea16cdc51c17c89",
   "outputs": [],
   "execution_count": 59
  },
  {
   "metadata": {
    "ExecuteTime": {
     "end_time": "2024-08-17T06:10:29.147274Z",
     "start_time": "2024-08-17T06:10:29.143285Z"
    }
   },
   "cell_type": "code",
   "source": "mc_set",
   "id": "1e597886be7bb0b",
   "outputs": [
    {
     "data": {
      "text/plain": [
       "{'comment': ManualComment(id=120398, text=This is the comment)}"
      ]
     },
     "execution_count": 62,
     "metadata": {},
     "output_type": "execute_result"
    }
   ],
   "execution_count": 62
  },
  {
   "metadata": {},
   "cell_type": "code",
   "outputs": [],
   "execution_count": null,
   "source": [
    "class ManualComment:\n",
    "    def __init__(self, id: int, text: str) -> None:\n",
    "        self._id: int = id\n",
    "        self._text: str = text\n",
    "        \n",
    "    @property\n",
    "    def id(self):\n",
    "        return self._id\n",
    "    \n",
    "    @property\n",
    "    def text(self):\n",
    "        return self._text\n",
    "        \n",
    "    def __repr__(self):\n",
    "        return f'{self.__class__.__name__}(id={self.id}, text={self.text})'\n",
    "    \n",
    "    def __eq__(self, other):\n",
    "        if isinstance(other, ManualComment):\n",
    "            return (self.id, self.text) == (other.id, other.text)\n",
    "        raise NotImplemented\n",
    "    \n",
    "    def __ne__(self, other):\n",
    "        result = self.__eq__(other)\n",
    "        if result is NotImplemented:\n",
    "            return NotImplemented\n",
    "        return not result\n",
    "    \n",
    "    def __hash__(self):\n",
    "        return hash((self.__class__, self.id, self.text))\n",
    "    \n",
    "    def __lt__(self, other):\n",
    "        if other.__class__ is self.__class__:\n",
    "            return (self.id, self.text) < (other.id, other.text)\n",
    "        return NotImplemented\n",
    "    \n",
    "    def __le__(self, other):\n",
    "        if other.__class__ is self.__class__:\n",
    "            return (self.id, self.text) <= (other.id, other.text)\n",
    "        return NotImplemented\n",
    "    \n",
    "    def __gt__(self, other):\n",
    "        if other.__class__ is self.__class__:\n",
    "            return (self.id, self.text) > (other.id, other.text)\n",
    "        return NotImplemented\n",
    "    \n",
    "    def __ge__(self, other):\n",
    "        if other.__class__ is self.__class__:\n",
    "            return (self.id, self.text) >= (other.id, other.text)\n",
    "        return NotImplemented"
   ],
   "id": "67474fa121f350eb"
  },
  {
   "metadata": {},
   "cell_type": "markdown",
   "source": [
    "# What if you want to add new attribute LOL\n",
    "# Below is the same class implemented Dataclass"
   ],
   "id": "b94fa1b001eef0fa"
  },
  {
   "metadata": {
    "ExecuteTime": {
     "end_time": "2024-08-17T06:20:24.461773Z",
     "start_time": "2024-08-17T06:20:24.458643Z"
    }
   },
   "cell_type": "code",
   "source": [
    "from dataclasses import dataclass, astuple, asdict, field\n",
    "import inspect\n",
    "from pprint import pprint"
   ],
   "id": "be176705a22a03fb",
   "outputs": [],
   "execution_count": 81
  },
  {
   "metadata": {
    "ExecuteTime": {
     "end_time": "2024-08-17T06:16:29.453265Z",
     "start_time": "2024-08-17T06:16:29.449364Z"
    }
   },
   "cell_type": "code",
   "source": [
    "@dataclass(frozen=True, order=True)\n",
    "class Comment:\n",
    "    id: int\n",
    "    text: str"
   ],
   "id": "36b8ba5699d28a2f",
   "outputs": [],
   "execution_count": 71
  },
  {
   "metadata": {
    "ExecuteTime": {
     "end_time": "2024-08-17T06:16:29.843719Z",
     "start_time": "2024-08-17T06:16:29.841628Z"
    }
   },
   "cell_type": "code",
   "source": "c = Comment(120398, 'This is the comment')",
   "id": "8ae90b6c168c30dc",
   "outputs": [],
   "execution_count": 72
  },
  {
   "metadata": {
    "ExecuteTime": {
     "end_time": "2024-08-17T06:16:30.711221Z",
     "start_time": "2024-08-17T06:16:30.707910Z"
    }
   },
   "cell_type": "code",
   "source": "c",
   "id": "5c5ecf64299fe0a5",
   "outputs": [
    {
     "data": {
      "text/plain": [
       "Comment(id=120398, text='This is the comment')"
      ]
     },
     "execution_count": 73,
     "metadata": {},
     "output_type": "execute_result"
    }
   ],
   "execution_count": 73
  },
  {
   "metadata": {
    "ExecuteTime": {
     "end_time": "2024-08-17T06:16:36.526337Z",
     "start_time": "2024-08-17T06:16:36.522040Z"
    }
   },
   "cell_type": "code",
   "source": "astuple(c)",
   "id": "d38447255e4953e0",
   "outputs": [
    {
     "data": {
      "text/plain": [
       "(120398, 'This is the comment')"
      ]
     },
     "execution_count": 74,
     "metadata": {},
     "output_type": "execute_result"
    }
   ],
   "execution_count": 74
  },
  {
   "metadata": {
    "ExecuteTime": {
     "end_time": "2024-08-17T06:16:40.355371Z",
     "start_time": "2024-08-17T06:16:40.350761Z"
    }
   },
   "cell_type": "code",
   "source": "asdict(c)",
   "id": "87d3693812131f02",
   "outputs": [
    {
     "data": {
      "text/plain": [
       "{'id': 120398, 'text': 'This is the comment'}"
      ]
     },
     "execution_count": 75,
     "metadata": {},
     "output_type": "execute_result"
    }
   ],
   "execution_count": 75
  },
  {
   "metadata": {
    "ExecuteTime": {
     "end_time": "2024-08-17T06:17:36.582235Z",
     "start_time": "2024-08-17T06:17:36.578025Z"
    }
   },
   "cell_type": "code",
   "source": "pprint(inspect.getmembers(Comment, inspect.isfunction))",
   "id": "2af59aaabe250e83",
   "outputs": [
    {
     "name": "stdout",
     "output_type": "stream",
     "text": [
      "[('__delattr__', <function Comment.__delattr__ at 0x77890c127600>),\n",
      " ('__eq__', <function Comment.__eq__ at 0x77890c127100>),\n",
      " ('__ge__', <function Comment.__ge__ at 0x77890c127880>),\n",
      " ('__gt__', <function Comment.__gt__ at 0x77890c126e80>),\n",
      " ('__hash__', <function Comment.__hash__ at 0x77890c1276a0>),\n",
      " ('__init__', <function Comment.__init__ at 0x77890e154860>),\n",
      " ('__le__', <function Comment.__le__ at 0x77890c125120>),\n",
      " ('__lt__', <function Comment.__lt__ at 0x77890c1267a0>),\n",
      " ('__repr__', <function Comment.__repr__ at 0x77890e157060>),\n",
      " ('__setattr__', <function Comment.__setattr__ at 0x77890e154680>)]\n"
     ]
    }
   ],
   "execution_count": 79
  },
  {
   "metadata": {
    "ExecuteTime": {
     "end_time": "2024-08-17T06:20:50.732340Z",
     "start_time": "2024-08-17T06:20:50.650941Z"
    }
   },
   "cell_type": "code",
   "source": [
    "@dataclass(frozen=True, order=True)\n",
    "class Comment:\n",
    "    id: int\n",
    "    text: str\n",
    "    replies: list[str] = []"
   ],
   "id": "c4bab436a0f0bd1e",
   "outputs": [
    {
     "ename": "ValueError",
     "evalue": "mutable default <class 'list'> for field replies is not allowed: use default_factory",
     "output_type": "error",
     "traceback": [
      "\u001B[0;31m---------------------------------------------------------------------------\u001B[0m",
      "\u001B[0;31mValueError\u001B[0m                                Traceback (most recent call last)",
      "Cell \u001B[0;32mIn[85], line 1\u001B[0m\n\u001B[0;32m----> 1\u001B[0m \u001B[38;5;129;43m@dataclass\u001B[39;49m\u001B[43m(\u001B[49m\u001B[43mfrozen\u001B[49m\u001B[38;5;241;43m=\u001B[39;49m\u001B[38;5;28;43;01mTrue\u001B[39;49;00m\u001B[43m,\u001B[49m\u001B[43m \u001B[49m\u001B[43morder\u001B[49m\u001B[38;5;241;43m=\u001B[39;49m\u001B[38;5;28;43;01mTrue\u001B[39;49;00m\u001B[43m)\u001B[49m\n\u001B[1;32m      2\u001B[0m \u001B[38;5;28;43;01mclass\u001B[39;49;00m\u001B[43m \u001B[49m\u001B[38;5;21;43;01mComment\u001B[39;49;00m\u001B[43m:\u001B[49m\n\u001B[1;32m      3\u001B[0m \u001B[43m    \u001B[49m\u001B[38;5;28;43mid\u001B[39;49m\u001B[43m:\u001B[49m\u001B[43m \u001B[49m\u001B[38;5;28;43mint\u001B[39;49m\n\u001B[1;32m      4\u001B[0m \u001B[43m    \u001B[49m\u001B[43mtext\u001B[49m\u001B[43m:\u001B[49m\u001B[43m \u001B[49m\u001B[38;5;28;43mstr\u001B[39;49m\n",
      "File \u001B[0;32m/usr/lib/python3.12/dataclasses.py:1265\u001B[0m, in \u001B[0;36mdataclass.<locals>.wrap\u001B[0;34m(cls)\u001B[0m\n\u001B[1;32m   1264\u001B[0m \u001B[38;5;28;01mdef\u001B[39;00m \u001B[38;5;21mwrap\u001B[39m(\u001B[38;5;28mcls\u001B[39m):\n\u001B[0;32m-> 1265\u001B[0m     \u001B[38;5;28;01mreturn\u001B[39;00m \u001B[43m_process_class\u001B[49m\u001B[43m(\u001B[49m\u001B[38;5;28;43mcls\u001B[39;49m\u001B[43m,\u001B[49m\u001B[43m \u001B[49m\u001B[43minit\u001B[49m\u001B[43m,\u001B[49m\u001B[43m \u001B[49m\u001B[38;5;28;43mrepr\u001B[39;49m\u001B[43m,\u001B[49m\u001B[43m \u001B[49m\u001B[43meq\u001B[49m\u001B[43m,\u001B[49m\u001B[43m \u001B[49m\u001B[43morder\u001B[49m\u001B[43m,\u001B[49m\u001B[43m \u001B[49m\u001B[43munsafe_hash\u001B[49m\u001B[43m,\u001B[49m\n\u001B[1;32m   1266\u001B[0m \u001B[43m                          \u001B[49m\u001B[43mfrozen\u001B[49m\u001B[43m,\u001B[49m\u001B[43m \u001B[49m\u001B[43mmatch_args\u001B[49m\u001B[43m,\u001B[49m\u001B[43m \u001B[49m\u001B[43mkw_only\u001B[49m\u001B[43m,\u001B[49m\u001B[43m \u001B[49m\u001B[43mslots\u001B[49m\u001B[43m,\u001B[49m\n\u001B[1;32m   1267\u001B[0m \u001B[43m                          \u001B[49m\u001B[43mweakref_slot\u001B[49m\u001B[43m)\u001B[49m\n",
      "File \u001B[0;32m/usr/lib/python3.12/dataclasses.py:994\u001B[0m, in \u001B[0;36m_process_class\u001B[0;34m(cls, init, repr, eq, order, unsafe_hash, frozen, match_args, kw_only, slots, weakref_slot)\u001B[0m\n\u001B[1;32m    991\u001B[0m         kw_only \u001B[38;5;241m=\u001B[39m \u001B[38;5;28;01mTrue\u001B[39;00m\n\u001B[1;32m    992\u001B[0m     \u001B[38;5;28;01melse\u001B[39;00m:\n\u001B[1;32m    993\u001B[0m         \u001B[38;5;66;03m# Otherwise it's a field of some type.\u001B[39;00m\n\u001B[0;32m--> 994\u001B[0m         cls_fields\u001B[38;5;241m.\u001B[39mappend(\u001B[43m_get_field\u001B[49m\u001B[43m(\u001B[49m\u001B[38;5;28;43mcls\u001B[39;49m\u001B[43m,\u001B[49m\u001B[43m \u001B[49m\u001B[43mname\u001B[49m\u001B[43m,\u001B[49m\u001B[43m \u001B[49m\u001B[38;5;28;43mtype\u001B[39;49m\u001B[43m,\u001B[49m\u001B[43m \u001B[49m\u001B[43mkw_only\u001B[49m\u001B[43m)\u001B[49m)\n\u001B[1;32m    996\u001B[0m \u001B[38;5;28;01mfor\u001B[39;00m f \u001B[38;5;129;01min\u001B[39;00m cls_fields:\n\u001B[1;32m    997\u001B[0m     fields[f\u001B[38;5;241m.\u001B[39mname] \u001B[38;5;241m=\u001B[39m f\n",
      "File \u001B[0;32m/usr/lib/python3.12/dataclasses.py:852\u001B[0m, in \u001B[0;36m_get_field\u001B[0;34m(cls, a_name, a_type, default_kw_only)\u001B[0m\n\u001B[1;32m    848\u001B[0m \u001B[38;5;66;03m# For real fields, disallow mutable defaults.  Use unhashable as a proxy\u001B[39;00m\n\u001B[1;32m    849\u001B[0m \u001B[38;5;66;03m# indicator for mutability.  Read the __hash__ attribute from the class,\u001B[39;00m\n\u001B[1;32m    850\u001B[0m \u001B[38;5;66;03m# not the instance.\u001B[39;00m\n\u001B[1;32m    851\u001B[0m \u001B[38;5;28;01mif\u001B[39;00m f\u001B[38;5;241m.\u001B[39m_field_type \u001B[38;5;129;01mis\u001B[39;00m _FIELD \u001B[38;5;129;01mand\u001B[39;00m f\u001B[38;5;241m.\u001B[39mdefault\u001B[38;5;241m.\u001B[39m\u001B[38;5;18m__class__\u001B[39m\u001B[38;5;241m.\u001B[39m\u001B[38;5;21m__hash__\u001B[39m \u001B[38;5;129;01mis\u001B[39;00m \u001B[38;5;28;01mNone\u001B[39;00m:\n\u001B[0;32m--> 852\u001B[0m     \u001B[38;5;28;01mraise\u001B[39;00m \u001B[38;5;167;01mValueError\u001B[39;00m(\u001B[38;5;124mf\u001B[39m\u001B[38;5;124m'\u001B[39m\u001B[38;5;124mmutable default \u001B[39m\u001B[38;5;132;01m{\u001B[39;00m\u001B[38;5;28mtype\u001B[39m(f\u001B[38;5;241m.\u001B[39mdefault)\u001B[38;5;132;01m}\u001B[39;00m\u001B[38;5;124m for field \u001B[39m\u001B[38;5;124m'\u001B[39m\n\u001B[1;32m    853\u001B[0m                      \u001B[38;5;124mf\u001B[39m\u001B[38;5;124m'\u001B[39m\u001B[38;5;132;01m{\u001B[39;00mf\u001B[38;5;241m.\u001B[39mname\u001B[38;5;132;01m}\u001B[39;00m\u001B[38;5;124m is not allowed: use default_factory\u001B[39m\u001B[38;5;124m'\u001B[39m)\n\u001B[1;32m    855\u001B[0m \u001B[38;5;28;01mreturn\u001B[39;00m f\n",
      "\u001B[0;31mValueError\u001B[0m: mutable default <class 'list'> for field replies is not allowed: use default_factory"
     ]
    }
   ],
   "execution_count": 85
  },
  {
   "metadata": {
    "ExecuteTime": {
     "end_time": "2024-08-17T06:20:51.327350Z",
     "start_time": "2024-08-17T06:20:51.323505Z"
    }
   },
   "cell_type": "code",
   "source": [
    "@dataclass(frozen=True, order=True)\n",
    "class Comment:\n",
    "    id: int\n",
    "    text: str\n",
    "    replies: list[str] = field(\n",
    "        default_factory=list, compare=False, hash=False, repr=False\n",
    "    )"
   ],
   "id": "f6c968f0e4568daf",
   "outputs": [],
   "execution_count": 86
  },
  {
   "metadata": {
    "ExecuteTime": {
     "end_time": "2024-08-17T06:22:12.256053Z",
     "start_time": "2024-08-17T06:22:12.253284Z"
    }
   },
   "cell_type": "code",
   "source": "c = Comment(120398, 'This is the comment')",
   "id": "1d8cc9bf0461fe0b",
   "outputs": [],
   "execution_count": 87
  },
  {
   "metadata": {
    "ExecuteTime": {
     "end_time": "2024-08-17T06:22:14.054627Z",
     "start_time": "2024-08-17T06:22:14.049711Z"
    }
   },
   "cell_type": "code",
   "source": "c",
   "id": "271d521a865e806d",
   "outputs": [
    {
     "data": {
      "text/plain": [
       "Comment(id=120398, text='This is the comment', replies=[])"
      ]
     },
     "execution_count": 88,
     "metadata": {},
     "output_type": "execute_result"
    }
   ],
   "execution_count": 88
  },
  {
   "metadata": {},
   "cell_type": "code",
   "outputs": [],
   "execution_count": null,
   "source": "",
   "id": "120b4aba1321dd74"
  }
 ],
 "metadata": {
  "kernelspec": {
   "display_name": "Python 3",
   "language": "python",
   "name": "python3"
  },
  "language_info": {
   "codemirror_mode": {
    "name": "ipython",
    "version": 2
   },
   "file_extension": ".py",
   "mimetype": "text/x-python",
   "name": "python",
   "nbconvert_exporter": "python",
   "pygments_lexer": "ipython2",
   "version": "2.7.6"
  }
 },
 "nbformat": 4,
 "nbformat_minor": 5
}
