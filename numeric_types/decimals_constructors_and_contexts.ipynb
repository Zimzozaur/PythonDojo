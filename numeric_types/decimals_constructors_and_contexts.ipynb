{
 "cells": [
  {
   "cell_type": "code",
   "id": "initial_id",
   "metadata": {
    "collapsed": true,
    "ExecuteTime": {
     "end_time": "2024-07-02T08:33:28.458360Z",
     "start_time": "2024-07-02T08:33:28.454565Z"
    }
   },
   "source": [
    "import decimal\n",
    "from decimal import Decimal "
   ],
   "outputs": [],
   "execution_count": 1
  },
  {
   "metadata": {
    "ExecuteTime": {
     "end_time": "2024-07-02T08:33:49.186214Z",
     "start_time": "2024-07-02T08:33:49.179776Z"
    }
   },
   "cell_type": "code",
   "source": "Decimal(10)",
   "id": "e8effbdd19e627f5",
   "outputs": [
    {
     "data": {
      "text/plain": [
       "Decimal('10')"
      ]
     },
     "execution_count": 2,
     "metadata": {},
     "output_type": "execute_result"
    }
   ],
   "execution_count": 2
  },
  {
   "metadata": {
    "ExecuteTime": {
     "end_time": "2024-07-02T08:33:56.690231Z",
     "start_time": "2024-07-02T08:33:56.684998Z"
    }
   },
   "cell_type": "code",
   "source": "Decimal(-10)",
   "id": "868f2e8c2be4218a",
   "outputs": [
    {
     "data": {
      "text/plain": [
       "Decimal('-10')"
      ]
     },
     "execution_count": 3,
     "metadata": {},
     "output_type": "execute_result"
    }
   ],
   "execution_count": 3
  },
  {
   "metadata": {
    "ExecuteTime": {
     "end_time": "2024-07-02T08:34:03.489626Z",
     "start_time": "2024-07-02T08:34:03.484385Z"
    }
   },
   "cell_type": "code",
   "source": "Decimal('10.1')",
   "id": "908ce91c9263d228",
   "outputs": [
    {
     "data": {
      "text/plain": [
       "Decimal('10.1')"
      ]
     },
     "execution_count": 4,
     "metadata": {},
     "output_type": "execute_result"
    }
   ],
   "execution_count": 4
  },
  {
   "metadata": {
    "ExecuteTime": {
     "end_time": "2024-07-02T08:34:31.690651Z",
     "start_time": "2024-07-02T08:34:31.685092Z"
    }
   },
   "cell_type": "code",
   "source": "Decimal('-3.1514')",
   "id": "abc8590d3a02098b",
   "outputs": [
    {
     "data": {
      "text/plain": [
       "Decimal('-3.1514')"
      ]
     },
     "execution_count": 5,
     "metadata": {},
     "output_type": "execute_result"
    }
   ],
   "execution_count": 5
  },
  {
   "metadata": {
    "ExecuteTime": {
     "end_time": "2024-07-02T08:35:02.576351Z",
     "start_time": "2024-07-02T08:35:02.572736Z"
    }
   },
   "cell_type": "code",
   "source": "Decimal((1,(3,1,5,1,4),-4))",
   "id": "ba04bde9d6ab24c1",
   "outputs": [
    {
     "data": {
      "text/plain": [
       "Decimal('-3.1514')"
      ]
     },
     "execution_count": 7,
     "metadata": {},
     "output_type": "execute_result"
    }
   ],
   "execution_count": 7
  },
  {
   "metadata": {
    "ExecuteTime": {
     "end_time": "2024-07-02T08:36:30.206163Z",
     "start_time": "2024-07-02T08:36:30.201069Z"
    }
   },
   "cell_type": "code",
   "source": "format(0.1, '.25f')",
   "id": "cff919aa9bc358c1",
   "outputs": [
    {
     "data": {
      "text/plain": [
       "'0.1000000000000000055511151'"
      ]
     },
     "execution_count": 8,
     "metadata": {},
     "output_type": "execute_result"
    }
   ],
   "execution_count": 8
  },
  {
   "metadata": {
    "ExecuteTime": {
     "end_time": "2024-07-02T08:36:36.024217Z",
     "start_time": "2024-07-02T08:36:36.019398Z"
    }
   },
   "cell_type": "code",
   "source": "Decimal(0.1)",
   "id": "cf270de492bf9875",
   "outputs": [
    {
     "data": {
      "text/plain": [
       "Decimal('0.1000000000000000055511151231257827021181583404541015625')"
      ]
     },
     "execution_count": 9,
     "metadata": {},
     "output_type": "execute_result"
    }
   ],
   "execution_count": 9
  },
  {
   "metadata": {
    "ExecuteTime": {
     "end_time": "2024-07-02T08:37:04.186384Z",
     "start_time": "2024-07-02T08:37:04.181828Z"
    }
   },
   "cell_type": "code",
   "source": "Decimal('0.1')",
   "id": "5c555a7f1d265e2f",
   "outputs": [
    {
     "data": {
      "text/plain": [
       "Decimal('0.1')"
      ]
     },
     "execution_count": 10,
     "metadata": {},
     "output_type": "execute_result"
    }
   ],
   "execution_count": 10
  },
  {
   "metadata": {
    "ExecuteTime": {
     "end_time": "2024-07-02T08:37:15.191276Z",
     "start_time": "2024-07-02T08:37:15.186407Z"
    }
   },
   "cell_type": "code",
   "source": "Decimal('0.1') == Decimal(0.1)",
   "id": "a4c8fc7e1dc650b0",
   "outputs": [
    {
     "data": {
      "text/plain": [
       "False"
      ]
     },
     "execution_count": 11,
     "metadata": {},
     "output_type": "execute_result"
    }
   ],
   "execution_count": 11
  },
  {
   "metadata": {
    "ExecuteTime": {
     "end_time": "2024-07-02T08:37:35.332044Z",
     "start_time": "2024-07-02T08:37:35.327187Z"
    }
   },
   "cell_type": "code",
   "source": "Decimal(10) == Decimal('10')",
   "id": "31902d0952ab262d",
   "outputs": [
    {
     "data": {
      "text/plain": [
       "True"
      ]
     },
     "execution_count": 12,
     "metadata": {},
     "output_type": "execute_result"
    }
   ],
   "execution_count": 12
  },
  {
   "metadata": {
    "ExecuteTime": {
     "end_time": "2024-07-02T08:38:09.453306Z",
     "start_time": "2024-07-02T08:38:09.449343Z"
    }
   },
   "cell_type": "code",
   "source": "decimal.getcontext()",
   "id": "74b9017482d2f82f",
   "outputs": [
    {
     "data": {
      "text/plain": [
       "Context(prec=28, rounding=ROUND_HALF_EVEN, Emin=-999999, Emax=999999, capitals=1, clamp=0, flags=[FloatOperation], traps=[InvalidOperation, DivisionByZero, Overflow])"
      ]
     },
     "execution_count": 13,
     "metadata": {},
     "output_type": "execute_result"
    }
   ],
   "execution_count": 13
  },
  {
   "metadata": {
    "ExecuteTime": {
     "end_time": "2024-07-02T08:40:27.391893Z",
     "start_time": "2024-07-02T08:40:27.388787Z"
    }
   },
   "cell_type": "code",
   "source": "decimal.getcontext().prec = 2",
   "id": "233f113423fdcf9e",
   "outputs": [],
   "execution_count": 19
  },
  {
   "metadata": {
    "ExecuteTime": {
     "end_time": "2024-07-02T08:40:58.054746Z",
     "start_time": "2024-07-02T08:40:58.051570Z"
    }
   },
   "cell_type": "code",
   "source": [
    "a = Decimal('0.12345')\n",
    "b = Decimal('0.12345')"
   ],
   "id": "becfc4ae440ed400",
   "outputs": [],
   "execution_count": 22
  },
  {
   "metadata": {
    "ExecuteTime": {
     "end_time": "2024-07-02T08:41:12.562212Z",
     "start_time": "2024-07-02T08:41:12.557394Z"
    }
   },
   "cell_type": "code",
   "source": "a, b",
   "id": "aed7a00cc8e90fc9",
   "outputs": [
    {
     "data": {
      "text/plain": [
       "(Decimal('0.12345'), Decimal('0.12345'))"
      ]
     },
     "execution_count": 23,
     "metadata": {},
     "output_type": "execute_result"
    }
   ],
   "execution_count": 23
  },
  {
   "metadata": {
    "ExecuteTime": {
     "end_time": "2024-07-02T08:41:42.624643Z",
     "start_time": "2024-07-02T08:41:42.619470Z"
    }
   },
   "cell_type": "code",
   "source": "0.12345 + 0.12345 ",
   "id": "2c90ea90ee96a1b",
   "outputs": [
    {
     "data": {
      "text/plain": [
       "0.2469"
      ]
     },
     "execution_count": 24,
     "metadata": {},
     "output_type": "execute_result"
    }
   ],
   "execution_count": 24
  },
  {
   "metadata": {
    "ExecuteTime": {
     "end_time": "2024-07-02T08:41:49.858606Z",
     "start_time": "2024-07-02T08:41:49.854133Z"
    }
   },
   "cell_type": "code",
   "source": "a + b",
   "id": "e670d551ad9f23b9",
   "outputs": [
    {
     "data": {
      "text/plain": [
       "Decimal('0.25')"
      ]
     },
     "execution_count": 25,
     "metadata": {},
     "output_type": "execute_result"
    }
   ],
   "execution_count": 25
  },
  {
   "metadata": {
    "ExecuteTime": {
     "end_time": "2024-07-02T08:44:14.557935Z",
     "start_time": "2024-07-02T08:44:14.553581Z"
    }
   },
   "cell_type": "code",
   "source": [
    "with decimal.localcontext() as ctx:\n",
    "    ctx.prec = 30\n",
    "    dec1 = Decimal(0.1)\n",
    "    dec2 = Decimal(0.1)\n",
    "    print(dec1)\n",
    "    print(dec2)\n",
    "    print(dec1 + dec2)"
   ],
   "id": "b9b053f285633055",
   "outputs": [
    {
     "name": "stdout",
     "output_type": "stream",
     "text": [
      "0.1000000000000000055511151231257827021181583404541015625\n",
      "0.1000000000000000055511151231257827021181583404541015625\n",
      "0.200000000000000011102230246252\n"
     ]
    }
   ],
   "execution_count": 33
  },
  {
   "metadata": {
    "ExecuteTime": {
     "end_time": "2024-07-02T08:48:39.313034Z",
     "start_time": "2024-07-02T08:48:39.307143Z"
    }
   },
   "cell_type": "code",
   "source": [
    "decimal.getcontext().prec = 28\n",
    "a = Decimal('0.12345')\n",
    "b = Decimal('0.12345')\n",
    "print(a + b)\n",
    "with decimal.localcontext() as ctx:\n",
    "    ctx.prec = 2\n",
    "    c = a + b\n",
    "    print(f'c within local context: {c}')\n",
    "print(f'c within global context: {c}')"
   ],
   "id": "4c8e03c8b701b9d0",
   "outputs": [
    {
     "name": "stdout",
     "output_type": "stream",
     "text": [
      "0.24690\n",
      "c within local context: 0.25\n",
      "c within global context: 0.25\n"
     ]
    }
   ],
   "execution_count": 35
  },
  {
   "metadata": {},
   "cell_type": "code",
   "outputs": [],
   "execution_count": null,
   "source": "",
   "id": "962a86489e99ef07"
  }
 ],
 "metadata": {
  "kernelspec": {
   "display_name": "Python 3",
   "language": "python",
   "name": "python3"
  },
  "language_info": {
   "codemirror_mode": {
    "name": "ipython",
    "version": 2
   },
   "file_extension": ".py",
   "mimetype": "text/x-python",
   "name": "python",
   "nbconvert_exporter": "python",
   "pygments_lexer": "ipython2",
   "version": "2.7.6"
  }
 },
 "nbformat": 4,
 "nbformat_minor": 5
}
