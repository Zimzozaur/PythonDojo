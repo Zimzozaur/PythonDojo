{
 "cells": [
  {
   "cell_type": "code",
   "id": "initial_id",
   "metadata": {
    "collapsed": true,
    "ExecuteTime": {
     "end_time": "2024-07-02T14:42:07.295624Z",
     "start_time": "2024-07-02T14:42:07.290412Z"
    }
   },
   "source": "0.1 is (3+4j)",
   "outputs": [
    {
     "name": "stderr",
     "output_type": "stream",
     "text": [
      "<>:1: SyntaxWarning: \"is\" with 'float' literal. Did you mean \"==\"?\n",
      "<>:1: SyntaxWarning: \"is\" with 'float' literal. Did you mean \"==\"?\n",
      "/tmp/ipykernel_33583/1546209252.py:1: SyntaxWarning: \"is\" with 'float' literal. Did you mean \"==\"?\n",
      "  0.1 is (3+4j)\n"
     ]
    },
    {
     "data": {
      "text/plain": [
       "False"
      ]
     },
     "execution_count": 4,
     "metadata": {},
     "output_type": "execute_result"
    }
   ],
   "execution_count": 4
  },
  {
   "metadata": {
    "ExecuteTime": {
     "end_time": "2024-07-02T14:42:14.370340Z",
     "start_time": "2024-07-02T14:42:14.365886Z"
    }
   },
   "cell_type": "code",
   "source": "3 is 3",
   "id": "6c5ddcde759f0736",
   "outputs": [
    {
     "name": "stderr",
     "output_type": "stream",
     "text": [
      "<>:1: SyntaxWarning: \"is\" with 'int' literal. Did you mean \"==\"?\n",
      "<>:1: SyntaxWarning: \"is\" with 'int' literal. Did you mean \"==\"?\n",
      "/tmp/ipykernel_33583/2972511108.py:1: SyntaxWarning: \"is\" with 'int' literal. Did you mean \"==\"?\n",
      "  3 is 3\n"
     ]
    },
    {
     "data": {
      "text/plain": [
       "True"
      ]
     },
     "execution_count": 5,
     "metadata": {},
     "output_type": "execute_result"
    }
   ],
   "execution_count": 5
  },
  {
   "metadata": {
    "ExecuteTime": {
     "end_time": "2024-07-02T14:42:23.402715Z",
     "start_time": "2024-07-02T14:42:23.397045Z"
    }
   },
   "cell_type": "code",
   "source": "[1, 2] is [1, 2]",
   "id": "3d828fb4a7464d19",
   "outputs": [
    {
     "data": {
      "text/plain": [
       "False"
      ]
     },
     "execution_count": 6,
     "metadata": {},
     "output_type": "execute_result"
    }
   ],
   "execution_count": 6
  },
  {
   "metadata": {
    "ExecuteTime": {
     "end_time": "2024-07-02T14:43:02.398345Z",
     "start_time": "2024-07-02T14:43:02.392916Z"
    }
   },
   "cell_type": "code",
   "source": "'a' in 'this is a test'",
   "id": "32577befd00379",
   "outputs": [
    {
     "data": {
      "text/plain": [
       "True"
      ]
     },
     "execution_count": 7,
     "metadata": {},
     "output_type": "execute_result"
    }
   ],
   "execution_count": 7
  },
  {
   "metadata": {
    "ExecuteTime": {
     "end_time": "2024-07-02T14:43:36.773480Z",
     "start_time": "2024-07-02T14:43:36.769142Z"
    }
   },
   "cell_type": "code",
   "source": "'t' in 'this is a test'",
   "id": "964df541a2d9e98c",
   "outputs": [
    {
     "data": {
      "text/plain": [
       "True"
      ]
     },
     "execution_count": 11,
     "metadata": {},
     "output_type": "execute_result"
    }
   ],
   "execution_count": 11
  },
  {
   "metadata": {
    "ExecuteTime": {
     "end_time": "2024-07-02T14:44:31.744694Z",
     "start_time": "2024-07-02T14:44:31.739632Z"
    }
   },
   "cell_type": "code",
   "source": "3 in [1, 2, 3]",
   "id": "aee8bf61371fc89a",
   "outputs": [
    {
     "data": {
      "text/plain": [
       "True"
      ]
     },
     "execution_count": 12,
     "metadata": {},
     "output_type": "execute_result"
    }
   ],
   "execution_count": 12
  },
  {
   "metadata": {
    "ExecuteTime": {
     "end_time": "2024-07-02T14:44:39.027382Z",
     "start_time": "2024-07-02T14:44:39.022284Z"
    }
   },
   "cell_type": "code",
   "source": "3 not in [1, 2, 3]",
   "id": "6bc7218ff12d665e",
   "outputs": [
    {
     "data": {
      "text/plain": [
       "False"
      ]
     },
     "execution_count": 13,
     "metadata": {},
     "output_type": "execute_result"
    }
   ],
   "execution_count": 13
  },
  {
   "metadata": {
    "ExecuteTime": {
     "end_time": "2024-07-02T14:45:09.772276Z",
     "start_time": "2024-07-02T14:45:09.766648Z"
    }
   },
   "cell_type": "code",
   "source": "'key1' in {'key1': 1}",
   "id": "bc22e5ec0e68bf3c",
   "outputs": [
    {
     "data": {
      "text/plain": [
       "True"
      ]
     },
     "execution_count": 14,
     "metadata": {},
     "output_type": "execute_result"
    }
   ],
   "execution_count": 14
  },
  {
   "metadata": {
    "ExecuteTime": {
     "end_time": "2024-07-02T14:45:26.746583Z",
     "start_time": "2024-07-02T14:45:26.740172Z"
    }
   },
   "cell_type": "code",
   "source": "1 in {'key1': 1}",
   "id": "6d896a7d9fc09db4",
   "outputs": [
    {
     "data": {
      "text/plain": [
       "False"
      ]
     },
     "execution_count": 15,
     "metadata": {},
     "output_type": "execute_result"
    }
   ],
   "execution_count": 15
  },
  {
   "metadata": {
    "ExecuteTime": {
     "end_time": "2024-07-02T14:45:53.730914Z",
     "start_time": "2024-07-02T14:45:53.725666Z"
    }
   },
   "cell_type": "code",
   "source": "3 < 5",
   "id": "65a863c1f8eb900a",
   "outputs": [
    {
     "data": {
      "text/plain": [
       "True"
      ]
     },
     "execution_count": 16,
     "metadata": {},
     "output_type": "execute_result"
    }
   ],
   "execution_count": 16
  },
  {
   "metadata": {
    "ExecuteTime": {
     "end_time": "2024-07-02T14:46:02.565902Z",
     "start_time": "2024-07-02T14:46:02.545483Z"
    }
   },
   "cell_type": "code",
   "source": "1 + 1j < 3 + 4j",
   "id": "d21e0f7a66f7998e",
   "outputs": [
    {
     "ename": "TypeError",
     "evalue": "'<' not supported between instances of 'complex' and 'complex'",
     "output_type": "error",
     "traceback": [
      "\u001B[0;31m---------------------------------------------------------------------------\u001B[0m",
      "\u001B[0;31mTypeError\u001B[0m                                 Traceback (most recent call last)",
      "Cell \u001B[0;32mIn[17], line 1\u001B[0m\n\u001B[0;32m----> 1\u001B[0m \u001B[38;5;241;43m1\u001B[39;49m\u001B[43m \u001B[49m\u001B[38;5;241;43m+\u001B[39;49m\u001B[43m \u001B[49m\u001B[38;5;241;43m1\u001B[39;49m\u001B[43mj\u001B[49m\u001B[43m \u001B[49m\u001B[38;5;241;43m<\u001B[39;49m\u001B[43m \u001B[49m\u001B[38;5;241;43m3\u001B[39;49m\u001B[43m \u001B[49m\u001B[38;5;241;43m+\u001B[39;49m\u001B[43m \u001B[49m\u001B[38;5;241;43m4\u001B[39;49m\u001B[43mj\u001B[49m\n",
      "\u001B[0;31mTypeError\u001B[0m: '<' not supported between instances of 'complex' and 'complex'"
     ]
    }
   ],
   "execution_count": 17
  },
  {
   "metadata": {
    "ExecuteTime": {
     "end_time": "2024-07-02T14:46:23.004465Z",
     "start_time": "2024-07-02T14:46:23.000413Z"
    }
   },
   "cell_type": "code",
   "source": [
    "from decimal import Decimal\n",
    "from fractions import Fraction"
   ],
   "id": "60b5d8e15585e487",
   "outputs": [],
   "execution_count": 18
  },
  {
   "metadata": {
    "ExecuteTime": {
     "end_time": "2024-07-02T14:46:32.652810Z",
     "start_time": "2024-07-02T14:46:32.647420Z"
    }
   },
   "cell_type": "code",
   "source": "4 < Decimal('10.5')",
   "id": "c1e5e298ff5e4b60",
   "outputs": [
    {
     "data": {
      "text/plain": [
       "True"
      ]
     },
     "execution_count": 19,
     "metadata": {},
     "output_type": "execute_result"
    }
   ],
   "execution_count": 19
  },
  {
   "metadata": {
    "ExecuteTime": {
     "end_time": "2024-07-02T14:46:45.337060Z",
     "start_time": "2024-07-02T14:46:45.331352Z"
    }
   },
   "cell_type": "code",
   "source": "Fraction(2, 3) < Decimal('0.5')",
   "id": "18fa2d34d1b01f37",
   "outputs": [
    {
     "data": {
      "text/plain": [
       "False"
      ]
     },
     "execution_count": 20,
     "metadata": {},
     "output_type": "execute_result"
    }
   ],
   "execution_count": 20
  },
  {
   "metadata": {
    "ExecuteTime": {
     "end_time": "2024-07-02T14:47:41.931502Z",
     "start_time": "2024-07-02T14:47:41.926906Z"
    }
   },
   "cell_type": "code",
   "source": "4 == 4 + 0j",
   "id": "e0cfceef567f8ae8",
   "outputs": [
    {
     "data": {
      "text/plain": [
       "True"
      ]
     },
     "execution_count": 21,
     "metadata": {},
     "output_type": "execute_result"
    }
   ],
   "execution_count": 21
  },
  {
   "metadata": {
    "ExecuteTime": {
     "end_time": "2024-07-02T14:48:22.513101Z",
     "start_time": "2024-07-02T14:48:22.507841Z"
    }
   },
   "cell_type": "code",
   "source": "True == Fraction(2, 2)",
   "id": "d775bebc8c5cccc1",
   "outputs": [
    {
     "data": {
      "text/plain": [
       "True"
      ]
     },
     "execution_count": 22,
     "metadata": {},
     "output_type": "execute_result"
    }
   ],
   "execution_count": 22
  },
  {
   "metadata": {
    "ExecuteTime": {
     "end_time": "2024-07-02T14:48:35.399395Z",
     "start_time": "2024-07-02T14:48:35.394094Z"
    }
   },
   "cell_type": "code",
   "source": "True < Fraction(3, 2)",
   "id": "855f44803836e682",
   "outputs": [
    {
     "data": {
      "text/plain": [
       "True"
      ]
     },
     "execution_count": 23,
     "metadata": {},
     "output_type": "execute_result"
    }
   ],
   "execution_count": 23
  },
  {
   "metadata": {
    "ExecuteTime": {
     "end_time": "2024-07-02T14:49:10.841816Z",
     "start_time": "2024-07-02T14:49:10.837182Z"
    }
   },
   "cell_type": "code",
   "source": "1 < 2 < 3",
   "id": "1ee16399516b91c4",
   "outputs": [
    {
     "data": {
      "text/plain": [
       "True"
      ]
     },
     "execution_count": 24,
     "metadata": {},
     "output_type": "execute_result"
    }
   ],
   "execution_count": 24
  },
  {
   "metadata": {
    "ExecuteTime": {
     "end_time": "2024-07-02T14:49:16.116524Z",
     "start_time": "2024-07-02T14:49:16.111239Z"
    }
   },
   "cell_type": "code",
   "source": "1 < 2 and 2 < 3",
   "id": "22a979aa03e140f",
   "outputs": [
    {
     "data": {
      "text/plain": [
       "True"
      ]
     },
     "execution_count": 25,
     "metadata": {},
     "output_type": "execute_result"
    }
   ],
   "execution_count": 25
  },
  {
   "metadata": {
    "ExecuteTime": {
     "end_time": "2024-07-02T14:49:43.181849Z",
     "start_time": "2024-07-02T14:49:43.161038Z"
    }
   },
   "cell_type": "code",
   "source": "3 < 4 < 0/0",
   "id": "979cdbe50b4f4376",
   "outputs": [
    {
     "ename": "ZeroDivisionError",
     "evalue": "division by zero",
     "output_type": "error",
     "traceback": [
      "\u001B[0;31m---------------------------------------------------------------------------\u001B[0m",
      "\u001B[0;31mZeroDivisionError\u001B[0m                         Traceback (most recent call last)",
      "Cell \u001B[0;32mIn[26], line 1\u001B[0m\n\u001B[0;32m----> 1\u001B[0m \u001B[38;5;241m3\u001B[39m \u001B[38;5;241m<\u001B[39m \u001B[38;5;241m4\u001B[39m \u001B[38;5;241m<\u001B[39m \u001B[38;5;241;43m0\u001B[39;49m\u001B[38;5;241;43m/\u001B[39;49m\u001B[38;5;241;43m0\u001B[39;49m\n",
      "\u001B[0;31mZeroDivisionError\u001B[0m: division by zero"
     ]
    }
   ],
   "execution_count": 26
  },
  {
   "metadata": {
    "ExecuteTime": {
     "end_time": "2024-07-02T14:49:50.153119Z",
     "start_time": "2024-07-02T14:49:50.148193Z"
    }
   },
   "cell_type": "code",
   "source": "3 > 4 < 0/0",
   "id": "ff467b4ae917b05d",
   "outputs": [
    {
     "data": {
      "text/plain": [
       "False"
      ]
     },
     "execution_count": 27,
     "metadata": {},
     "output_type": "execute_result"
    }
   ],
   "execution_count": 27
  },
  {
   "metadata": {
    "ExecuteTime": {
     "end_time": "2024-07-02T14:51:33.629974Z",
     "start_time": "2024-07-02T14:51:33.626627Z"
    }
   },
   "cell_type": "code",
   "source": "import string",
   "id": "3e7ae2e8fb8e558e",
   "outputs": [],
   "execution_count": 28
  },
  {
   "metadata": {
    "ExecuteTime": {
     "end_time": "2024-07-02T14:51:37.776999Z",
     "start_time": "2024-07-02T14:51:37.772544Z"
    }
   },
   "cell_type": "code",
   "source": "'A' < 'a'",
   "id": "12ef13020d125b59",
   "outputs": [
    {
     "data": {
      "text/plain": [
       "True"
      ]
     },
     "execution_count": 29,
     "metadata": {},
     "output_type": "execute_result"
    }
   ],
   "execution_count": 29
  },
  {
   "metadata": {
    "ExecuteTime": {
     "end_time": "2024-07-02T14:51:44.521974Z",
     "start_time": "2024-07-02T14:51:44.516604Z"
    }
   },
   "cell_type": "code",
   "source": "'a' < 'A'",
   "id": "de94f1140e09f80a",
   "outputs": [
    {
     "data": {
      "text/plain": [
       "False"
      ]
     },
     "execution_count": 30,
     "metadata": {},
     "output_type": "execute_result"
    }
   ],
   "execution_count": 30
  },
  {
   "metadata": {
    "ExecuteTime": {
     "end_time": "2024-07-02T14:52:08.971810Z",
     "start_time": "2024-07-02T14:52:08.966903Z"
    }
   },
   "cell_type": "code",
   "source": "'A' < 'a' < 'z' > 'Z'",
   "id": "cefe52dad6d65ad9",
   "outputs": [
    {
     "data": {
      "text/plain": [
       "True"
      ]
     },
     "execution_count": 31,
     "metadata": {},
     "output_type": "execute_result"
    }
   ],
   "execution_count": 31
  },
  {
   "metadata": {},
   "cell_type": "code",
   "outputs": [],
   "execution_count": null,
   "source": "",
   "id": "ee6a53f82bc76535"
  }
 ],
 "metadata": {
  "kernelspec": {
   "display_name": "Python 3",
   "language": "python",
   "name": "python3"
  },
  "language_info": {
   "codemirror_mode": {
    "name": "ipython",
    "version": 2
   },
   "file_extension": ".py",
   "mimetype": "text/x-python",
   "name": "python",
   "nbconvert_exporter": "python",
   "pygments_lexer": "ipython2",
   "version": "2.7.6"
  }
 },
 "nbformat": 4,
 "nbformat_minor": 5
}
