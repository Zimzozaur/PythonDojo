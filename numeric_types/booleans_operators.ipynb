{
 "cells": [
  {
   "metadata": {},
   "cell_type": "markdown",
   "source": [
    "### X or Y: if X is truthy, returns X, otherwise evaluates Y and returns it\n",
    "### Default after or"
   ],
   "id": "fa97c34538b22714"
  },
  {
   "metadata": {
    "ExecuteTime": {
     "end_time": "2024-07-02T12:13:30.685433Z",
     "start_time": "2024-07-02T12:13:30.677311Z"
    }
   },
   "cell_type": "code",
   "source": "'a' or [1, 2]",
   "id": "4a80fe1c62c5907",
   "outputs": [
    {
     "data": {
      "text/plain": [
       "'a'"
      ]
     },
     "execution_count": 1,
     "metadata": {},
     "output_type": "execute_result"
    }
   ],
   "execution_count": 1
  },
  {
   "metadata": {
    "ExecuteTime": {
     "end_time": "2024-07-02T12:13:40.065328Z",
     "start_time": "2024-07-02T12:13:40.061972Z"
    }
   },
   "cell_type": "code",
   "source": "'' or [1, 2]",
   "id": "3e73f1a280bc4f9b",
   "outputs": [
    {
     "data": {
      "text/plain": [
       "[1, 2]"
      ]
     },
     "execution_count": 2,
     "metadata": {},
     "output_type": "execute_result"
    }
   ],
   "execution_count": 2
  },
  {
   "metadata": {
    "ExecuteTime": {
     "end_time": "2024-07-02T12:14:08.736271Z",
     "start_time": "2024-07-02T12:14:08.731468Z"
    }
   },
   "cell_type": "code",
   "source": "1 or 1/0",
   "id": "b8751b64bd2d597",
   "outputs": [
    {
     "data": {
      "text/plain": [
       "1"
      ]
     },
     "execution_count": 3,
     "metadata": {},
     "output_type": "execute_result"
    }
   ],
   "execution_count": 3
  },
  {
   "metadata": {
    "ExecuteTime": {
     "end_time": "2024-07-02T12:14:21.232909Z",
     "start_time": "2024-07-02T12:14:21.058830Z"
    }
   },
   "cell_type": "code",
   "source": "0 or 1/0",
   "id": "ed903627a86eb2c4",
   "outputs": [
    {
     "ename": "ZeroDivisionError",
     "evalue": "division by zero",
     "output_type": "error",
     "traceback": [
      "\u001B[0;31m---------------------------------------------------------------------------\u001B[0m",
      "\u001B[0;31mZeroDivisionError\u001B[0m                         Traceback (most recent call last)",
      "Cell \u001B[0;32mIn[4], line 1\u001B[0m\n\u001B[0;32m----> 1\u001B[0m \u001B[38;5;241m0\u001B[39m \u001B[38;5;129;01mor\u001B[39;00m \u001B[38;5;241;43m1\u001B[39;49m\u001B[38;5;241;43m/\u001B[39;49m\u001B[38;5;241;43m0\u001B[39;49m\n",
      "\u001B[0;31mZeroDivisionError\u001B[0m: division by zero"
     ]
    }
   ],
   "execution_count": 4
  },
  {
   "metadata": {
    "ExecuteTime": {
     "end_time": "2024-07-02T12:15:25.634727Z",
     "start_time": "2024-07-02T12:15:25.631735Z"
    }
   },
   "cell_type": "code",
   "source": [
    "s1 = None\n",
    "s2 = ''\n",
    "s3 = 'abc'"
   ],
   "id": "1064e4e6f228073a",
   "outputs": [],
   "execution_count": 5
  },
  {
   "metadata": {
    "ExecuteTime": {
     "end_time": "2024-07-02T12:16:09.636450Z",
     "start_time": "2024-07-02T12:16:09.633181Z"
    }
   },
   "cell_type": "code",
   "source": [
    "s1 = s1 or 'n/a'\n",
    "s2 = s2 or 'n/a'\n",
    "s3 = s3 or 'n/a'"
   ],
   "id": "fdaedb26e139e6a6",
   "outputs": [],
   "execution_count": 6
  },
  {
   "metadata": {
    "ExecuteTime": {
     "end_time": "2024-07-02T12:16:14.673619Z",
     "start_time": "2024-07-02T12:16:14.669014Z"
    }
   },
   "cell_type": "code",
   "source": "s1, s2, s3",
   "id": "d0c92921fecbf790",
   "outputs": [
    {
     "data": {
      "text/plain": [
       "('n/a', 'n/a', 'abc')"
      ]
     },
     "execution_count": 7,
     "metadata": {},
     "output_type": "execute_result"
    }
   ],
   "execution_count": 7
  },
  {
   "metadata": {
    "ExecuteTime": {
     "end_time": "2024-07-02T12:16:48.033899Z",
     "start_time": "2024-07-02T12:16:48.029668Z"
    }
   },
   "cell_type": "code",
   "source": "[] or [0]",
   "id": "f1f8179df1b95a9d",
   "outputs": [
    {
     "data": {
      "text/plain": [
       "[0]"
      ]
     },
     "execution_count": 8,
     "metadata": {},
     "output_type": "execute_result"
    }
   ],
   "execution_count": 8
  },
  {
   "metadata": {
    "ExecuteTime": {
     "end_time": "2024-07-02T12:17:00.712094Z",
     "start_time": "2024-07-02T12:17:00.707832Z"
    }
   },
   "cell_type": "code",
   "source": "None or [0]",
   "id": "392dc7983cb17745",
   "outputs": [
    {
     "data": {
      "text/plain": [
       "[0]"
      ]
     },
     "execution_count": 9,
     "metadata": {},
     "output_type": "execute_result"
    }
   ],
   "execution_count": 9
  },
  {
   "metadata": {},
   "cell_type": "markdown",
   "source": [
    "### X and Y: if X is falsy return it, otherwise return Y\n",
    "### Gatekeeper"
   ],
   "id": "a7b19085aeaeaece"
  },
  {
   "metadata": {
    "ExecuteTime": {
     "end_time": "2024-07-02T12:19:35.462157Z",
     "start_time": "2024-07-02T12:19:35.457924Z"
    }
   },
   "cell_type": "code",
   "source": "False and 100",
   "id": "57a90a6cdaa4a7b5",
   "outputs": [
    {
     "data": {
      "text/plain": [
       "False"
      ]
     },
     "execution_count": 12,
     "metadata": {},
     "output_type": "execute_result"
    }
   ],
   "execution_count": 12
  },
  {
   "metadata": {
    "ExecuteTime": {
     "end_time": "2024-07-02T12:19:47.323976Z",
     "start_time": "2024-07-02T12:19:47.319206Z"
    }
   },
   "cell_type": "code",
   "source": "[] and [0]",
   "id": "f1c9c29a7e196770",
   "outputs": [
    {
     "data": {
      "text/plain": [
       "[]"
      ]
     },
     "execution_count": 13,
     "metadata": {},
     "output_type": "execute_result"
    }
   ],
   "execution_count": 13
  },
  {
   "metadata": {
    "ExecuteTime": {
     "end_time": "2024-07-02T12:24:18.456177Z",
     "start_time": "2024-07-02T12:24:18.452607Z"
    }
   },
   "cell_type": "code",
   "source": [
    "a = 2 \n",
    "b = 4\n",
    "\n",
    "if b == 0:\n",
    "    print(0)\n",
    "else:\n",
    "    print(a / b)"
   ],
   "id": "5b468dd01ab354ed",
   "outputs": [
    {
     "name": "stdout",
     "output_type": "stream",
     "text": [
      "0.5\n"
     ]
    }
   ],
   "execution_count": 22
  },
  {
   "metadata": {
    "ExecuteTime": {
     "end_time": "2024-07-02T12:25:37.432676Z",
     "start_time": "2024-07-02T12:25:37.427274Z"
    }
   },
   "cell_type": "code",
   "source": [
    "a = 2 \n",
    "b = 4\n",
    "\n",
    "(b and a / b) or 0"
   ],
   "id": "f5cc44461da9aa71",
   "outputs": [
    {
     "data": {
      "text/plain": [
       "0.5"
      ]
     },
     "execution_count": 26,
     "metadata": {},
     "output_type": "execute_result"
    }
   ],
   "execution_count": 26
  },
  {
   "metadata": {
    "ExecuteTime": {
     "end_time": "2024-07-02T12:29:28.245100Z",
     "start_time": "2024-07-02T12:29:28.239885Z"
    }
   },
   "cell_type": "code",
   "source": "not True",
   "id": "ad5df934e0be7c9e",
   "outputs": [
    {
     "data": {
      "text/plain": [
       "False"
      ]
     },
     "execution_count": 27,
     "metadata": {},
     "output_type": "execute_result"
    }
   ],
   "execution_count": 27
  },
  {
   "metadata": {
    "ExecuteTime": {
     "end_time": "2024-07-02T12:29:30.938024Z",
     "start_time": "2024-07-02T12:29:30.932699Z"
    }
   },
   "cell_type": "code",
   "source": "not False",
   "id": "7392e228e29df1ff",
   "outputs": [
    {
     "data": {
      "text/plain": [
       "True"
      ]
     },
     "execution_count": 28,
     "metadata": {},
     "output_type": "execute_result"
    }
   ],
   "execution_count": 28
  },
  {
   "metadata": {
    "ExecuteTime": {
     "end_time": "2024-07-02T12:29:35.340991Z",
     "start_time": "2024-07-02T12:29:35.336337Z"
    }
   },
   "cell_type": "code",
   "source": "bool('abc')",
   "id": "f24d38d665b806ce",
   "outputs": [
    {
     "data": {
      "text/plain": [
       "True"
      ]
     },
     "execution_count": 29,
     "metadata": {},
     "output_type": "execute_result"
    }
   ],
   "execution_count": 29
  },
  {
   "metadata": {
    "ExecuteTime": {
     "end_time": "2024-07-02T12:29:42.571799Z",
     "start_time": "2024-07-02T12:29:42.567295Z"
    }
   },
   "cell_type": "code",
   "source": "bool('')",
   "id": "3886440a7479ae95",
   "outputs": [
    {
     "data": {
      "text/plain": [
       "False"
      ]
     },
     "execution_count": 30,
     "metadata": {},
     "output_type": "execute_result"
    }
   ],
   "execution_count": 30
  },
  {
   "metadata": {
    "ExecuteTime": {
     "end_time": "2024-07-02T12:29:58.144493Z",
     "start_time": "2024-07-02T12:29:58.139390Z"
    }
   },
   "cell_type": "code",
   "source": "not bool('abc')",
   "id": "8533e569fdf8614f",
   "outputs": [
    {
     "data": {
      "text/plain": [
       "False"
      ]
     },
     "execution_count": 31,
     "metadata": {},
     "output_type": "execute_result"
    }
   ],
   "execution_count": 31
  },
  {
   "metadata": {
    "ExecuteTime": {
     "end_time": "2024-07-02T12:30:03.962059Z",
     "start_time": "2024-07-02T12:30:03.957224Z"
    }
   },
   "cell_type": "code",
   "source": "not 'abc'",
   "id": "56f739c870fb70ee",
   "outputs": [
    {
     "data": {
      "text/plain": [
       "False"
      ]
     },
     "execution_count": 32,
     "metadata": {},
     "output_type": "execute_result"
    }
   ],
   "execution_count": 32
  },
  {
   "metadata": {
    "ExecuteTime": {
     "end_time": "2024-07-02T12:30:06.417960Z",
     "start_time": "2024-07-02T12:30:06.413453Z"
    }
   },
   "cell_type": "code",
   "source": "not ''",
   "id": "93cf1803302b6ba9",
   "outputs": [
    {
     "data": {
      "text/plain": [
       "True"
      ]
     },
     "execution_count": 33,
     "metadata": {},
     "output_type": "execute_result"
    }
   ],
   "execution_count": 33
  },
  {
   "metadata": {
    "ExecuteTime": {
     "end_time": "2024-07-02T12:30:30.236798Z",
     "start_time": "2024-07-02T12:30:30.233112Z"
    }
   },
   "cell_type": "code",
   "source": "not None",
   "id": "f1285dd107e4fb8c",
   "outputs": [
    {
     "data": {
      "text/plain": [
       "True"
      ]
     },
     "execution_count": 34,
     "metadata": {},
     "output_type": "execute_result"
    }
   ],
   "execution_count": 34
  },
  {
   "metadata": {},
   "cell_type": "code",
   "outputs": [],
   "execution_count": null,
   "source": "",
   "id": "8a0ccba0bd816199"
  }
 ],
 "metadata": {
  "kernelspec": {
   "display_name": "Python 3",
   "language": "python",
   "name": "python3"
  },
  "language_info": {
   "codemirror_mode": {
    "name": "ipython",
    "version": 2
   },
   "file_extension": ".py",
   "mimetype": "text/x-python",
   "name": "python",
   "nbconvert_exporter": "python",
   "pygments_lexer": "ipython2",
   "version": "2.7.6"
  }
 },
 "nbformat": 4,
 "nbformat_minor": 5
}
