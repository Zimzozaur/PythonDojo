{
 "cells": [
  {
   "cell_type": "code",
   "id": "initial_id",
   "metadata": {
    "collapsed": true,
    "ExecuteTime": {
     "end_time": "2024-07-02T09:41:07.398813Z",
     "start_time": "2024-07-02T09:41:07.395288Z"
    }
   },
   "source": [
    "from decimal import Decimal\n",
    "import sys"
   ],
   "outputs": [],
   "execution_count": 1
  },
  {
   "metadata": {
    "ExecuteTime": {
     "end_time": "2024-07-02T09:41:29.111754Z",
     "start_time": "2024-07-02T09:41:29.108723Z"
    }
   },
   "cell_type": "code",
   "source": [
    "a = 3.1415\n",
    "b = Decimal('3.1415')"
   ],
   "id": "bbb752ece2d21ff0",
   "outputs": [],
   "execution_count": 2
  },
  {
   "metadata": {
    "ExecuteTime": {
     "end_time": "2024-07-02T09:41:48.745430Z",
     "start_time": "2024-07-02T09:41:48.735940Z"
    }
   },
   "cell_type": "code",
   "source": "sys.getsizeof(a)",
   "id": "18d3f9c20510ead3",
   "outputs": [
    {
     "data": {
      "text/plain": [
       "24"
      ]
     },
     "execution_count": 3,
     "metadata": {},
     "output_type": "execute_result"
    }
   ],
   "execution_count": 3
  },
  {
   "metadata": {
    "ExecuteTime": {
     "end_time": "2024-07-02T09:41:53.584275Z",
     "start_time": "2024-07-02T09:41:53.579558Z"
    }
   },
   "cell_type": "code",
   "source": "sys.getsizeof(b)",
   "id": "603c756fa8512de0",
   "outputs": [
    {
     "data": {
      "text/plain": [
       "104"
      ]
     },
     "execution_count": 4,
     "metadata": {},
     "output_type": "execute_result"
    }
   ],
   "execution_count": 4
  },
  {
   "metadata": {
    "ExecuteTime": {
     "end_time": "2024-07-02T09:46:03.517981Z",
     "start_time": "2024-07-02T09:46:03.514742Z"
    }
   },
   "cell_type": "code",
   "source": [
    "import time\n",
    "\n",
    "def run_float(n=1):\n",
    "    for i in range(n):\n",
    "        a = 3.1415\n",
    "        \n",
    "def run_decimal(n=1):\n",
    "    for i in range(n):\n",
    "        a = Decimal('3.1415')"
   ],
   "id": "873797069c74f090",
   "outputs": [],
   "execution_count": 11
  },
  {
   "metadata": {
    "ExecuteTime": {
     "end_time": "2024-07-02T09:46:03.811110Z",
     "start_time": "2024-07-02T09:46:03.807229Z"
    }
   },
   "cell_type": "code",
   "source": "n = 10 ** 7",
   "id": "a024161bec96016e",
   "outputs": [],
   "execution_count": 12
  },
  {
   "metadata": {
    "ExecuteTime": {
     "end_time": "2024-07-02T09:46:06.517256Z",
     "start_time": "2024-07-02T09:46:04.025200Z"
    }
   },
   "cell_type": "code",
   "source": [
    "start = time.perf_counter()\n",
    "run_float(n)\n",
    "end = time.perf_counter()\n",
    "print(f'float: {end - start}')\n",
    "\n",
    "start = time.perf_counter()\n",
    "run_decimal(n)\n",
    "end = time.perf_counter()\n",
    "print(f'float: {end - start}')"
   ],
   "id": "82f5648f107a69d4",
   "outputs": [
    {
     "name": "stdout",
     "output_type": "stream",
     "text": [
      "float: 0.3190481620003993\n",
      "float: 2.1680142099994555\n"
     ]
    }
   ],
   "execution_count": 13
  },
  {
   "metadata": {
    "ExecuteTime": {
     "end_time": "2024-07-02T09:47:18.088458Z",
     "start_time": "2024-07-02T09:47:18.083904Z"
    }
   },
   "cell_type": "code",
   "source": [
    "import time\n",
    "\n",
    "def run_float(n=1):\n",
    "    a = 3.1415\n",
    "    for i in range(n):\n",
    "       a + a\n",
    "        \n",
    "def run_decimal(n=1):\n",
    "    a = Decimal('3.1415')\n",
    "    for i in range(n):\n",
    "        a + a"
   ],
   "id": "9b9317d0b6a59a0b",
   "outputs": [],
   "execution_count": 16
  },
  {
   "metadata": {
    "ExecuteTime": {
     "end_time": "2024-07-02T09:47:20.015773Z",
     "start_time": "2024-07-02T09:47:18.533075Z"
    }
   },
   "cell_type": "code",
   "source": [
    "n = 10 ** 7\n",
    "\n",
    "start = time.perf_counter()\n",
    "run_float(n)\n",
    "end = time.perf_counter()\n",
    "print(f'float: {end - start}')\n",
    "\n",
    "start = time.perf_counter()\n",
    "run_decimal(n)\n",
    "end = time.perf_counter()\n",
    "print(f'float: {end - start}')"
   ],
   "id": "bb05f175eeec770f",
   "outputs": [
    {
     "name": "stdout",
     "output_type": "stream",
     "text": [
      "float: 0.4397412809994421\n",
      "float: 1.0387302409999393\n"
     ]
    }
   ],
   "execution_count": 17
  },
  {
   "metadata": {
    "ExecuteTime": {
     "end_time": "2024-07-02T09:50:05.008564Z",
     "start_time": "2024-07-02T09:50:05.004116Z"
    }
   },
   "cell_type": "code",
   "source": [
    "import time\n",
    "import math\n",
    "\n",
    "def run_float(n=1):\n",
    "    a = 3.1415\n",
    "    for i in range(n):\n",
    "       math.sqrt(a)\n",
    "        \n",
    "def run_decimal(n=1):\n",
    "    a = Decimal('3.1415')\n",
    "    for i in range(n):\n",
    "        a.sqrt()"
   ],
   "id": "c846115ee02ffa0e",
   "outputs": [],
   "execution_count": 19
  },
  {
   "metadata": {
    "ExecuteTime": {
     "end_time": "2024-07-02T09:50:15.416018Z",
     "start_time": "2024-07-02T09:50:06.495288Z"
    }
   },
   "cell_type": "code",
   "source": [
    "n = 5 * 10 ** 6\n",
    "\n",
    "start = time.perf_counter()\n",
    "run_float(n)\n",
    "end = time.perf_counter()\n",
    "print(f'float: {end - start}')\n",
    "\n",
    "start = time.perf_counter()\n",
    "run_decimal(n)\n",
    "end = time.perf_counter()\n",
    "print(f'float: {end - start}')"
   ],
   "id": "fa3bc1ff8ea5a8ae",
   "outputs": [
    {
     "name": "stdout",
     "output_type": "stream",
     "text": [
      "float: 0.36124384100003226\n",
      "float: 8.55537757500133\n"
     ]
    }
   ],
   "execution_count": 20
  },
  {
   "metadata": {},
   "cell_type": "code",
   "outputs": [],
   "execution_count": null,
   "source": "",
   "id": "f09f2226cbaf603a"
  }
 ],
 "metadata": {
  "kernelspec": {
   "display_name": "Python 3",
   "language": "python",
   "name": "python3"
  },
  "language_info": {
   "codemirror_mode": {
    "name": "ipython",
    "version": 2
   },
   "file_extension": ".py",
   "mimetype": "text/x-python",
   "name": "python",
   "nbconvert_exporter": "python",
   "pygments_lexer": "ipython2",
   "version": "2.7.6"
  }
 },
 "nbformat": 4,
 "nbformat_minor": 5
}
