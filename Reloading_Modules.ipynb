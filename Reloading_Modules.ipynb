{
 "cells": [
  {
   "cell_type": "code",
   "id": "initial_id",
   "metadata": {
    "collapsed": true,
    "ExecuteTime": {
     "end_time": "2024-05-17T11:49:33.407061Z",
     "start_time": "2024-05-17T11:49:33.400641Z"
    }
   },
   "source": [
    "import os\n",
    "\n",
    "def create_module_file(module_name, **kwargs):\n",
    "    \"\"\"Create a module file name <module_name>.py\n",
    "    Module has a single function (print_values) that\n",
    "    will print out the supplied (stringified) kwargs. \n",
    "    \"\"\"\n",
    "    module_file_name = f'{module_name}.py'\n",
    "    module_rel_file_path = module_file_name\n",
    "    module_abs_file_path = os.path.abspath(module_rel_file_path)\n",
    "    \n",
    "    with open(module_abs_file_path, 'w') as file:\n",
    "        file.write(f'# {module_name}.py \\n\\n')\n",
    "        file.write(f\"print('running {module_file_name}...')\\n\\n\")\n",
    "        file.write(f'def print_value():\\n')\n",
    "        for key, value in kwargs.items():\n",
    "            file.write(f'\\tprint(\"{str(key)}\", \"{str(value)}\")\\n')\n",
    "    "
   ],
   "outputs": [],
   "execution_count": 42
  },
  {
   "metadata": {
    "ExecuteTime": {
     "end_time": "2024-05-17T11:49:33.770847Z",
     "start_time": "2024-05-17T11:49:33.766384Z"
    }
   },
   "cell_type": "code",
   "source": "create_module_file('mario_plant', pl='Poland', en='England', de='Deutschland')",
   "id": "80da9010177e7e15",
   "outputs": [],
   "execution_count": 43
  },
  {
   "metadata": {
    "ExecuteTime": {
     "end_time": "2024-05-17T11:50:19.465219Z",
     "start_time": "2024-05-17T11:50:19.461536Z"
    }
   },
   "cell_type": "code",
   "source": "import mario_plant",
   "id": "7182730943b84f91",
   "outputs": [],
   "execution_count": 52
  },
  {
   "metadata": {
    "ExecuteTime": {
     "end_time": "2024-05-17T11:50:20.028020Z",
     "start_time": "2024-05-17T11:50:20.022220Z"
    }
   },
   "cell_type": "code",
   "source": "mario_plant",
   "id": "dd0308914023d004",
   "outputs": [
    {
     "data": {
      "text/plain": [
       "<module 'mario_plant' from '/home/bmo/a-code/FredLab/mario_plant.py'>"
      ]
     },
     "execution_count": 53,
     "metadata": {},
     "output_type": "execute_result"
    }
   ],
   "execution_count": 53
  },
  {
   "metadata": {
    "ExecuteTime": {
     "end_time": "2024-05-17T11:52:19.192883Z",
     "start_time": "2024-05-17T11:52:19.188667Z"
    }
   },
   "cell_type": "code",
   "source": "mario_plant.print_value()",
   "id": "35b4093b9ca38b57",
   "outputs": [
    {
     "name": "stdout",
     "output_type": "stream",
     "text": [
      "pl poland\n",
      "en england\n",
      "de deutchland\n"
     ]
    }
   ],
   "execution_count": 57
  },
  {
   "metadata": {
    "ExecuteTime": {
     "end_time": "2024-05-17T11:52:06.242815Z",
     "start_time": "2024-05-17T11:52:06.239069Z"
    }
   },
   "cell_type": "code",
   "source": "create_module_file('mario_plant', k1=10, k2=20, k3=30)",
   "id": "bca940f464fb296b",
   "outputs": [],
   "execution_count": 55
  },
  {
   "metadata": {
    "ExecuteTime": {
     "end_time": "2024-05-17T11:54:04.254177Z",
     "start_time": "2024-05-17T11:54:04.248522Z"
    }
   },
   "cell_type": "code",
   "source": "import mario_plant",
   "id": "fa210a1d31b5a763",
   "outputs": [
    {
     "name": "stdout",
     "output_type": "stream",
     "text": [
      "running mario_plant.py...\n"
     ]
    }
   ],
   "execution_count": 66
  },
  {
   "metadata": {
    "ExecuteTime": {
     "end_time": "2024-05-17T11:54:04.692496Z",
     "start_time": "2024-05-17T11:54:04.688285Z"
    }
   },
   "cell_type": "code",
   "source": "mario_plant.print_value()",
   "id": "94300c26a4eb9447",
   "outputs": [
    {
     "name": "stdout",
     "output_type": "stream",
     "text": [
      "k1 10\n",
      "k2 20\n",
      "k3 30\n"
     ]
    }
   ],
   "execution_count": 67
  },
  {
   "metadata": {
    "ExecuteTime": {
     "end_time": "2024-05-17T11:53:18.829401Z",
     "start_time": "2024-05-17T11:53:18.826530Z"
    }
   },
   "cell_type": "code",
   "source": "import sys",
   "id": "29b3b8c526f97931",
   "outputs": [],
   "execution_count": 60
  },
  {
   "metadata": {
    "ExecuteTime": {
     "end_time": "2024-05-17T11:53:33.755734Z",
     "start_time": "2024-05-17T11:53:33.750617Z"
    }
   },
   "cell_type": "code",
   "source": "'mario_plant' in sys.modules",
   "id": "a1925b82e9713dba",
   "outputs": [
    {
     "data": {
      "text/plain": [
       "True"
      ]
     },
     "execution_count": 61,
     "metadata": {},
     "output_type": "execute_result"
    }
   ],
   "execution_count": 61
  },
  {
   "metadata": {
    "ExecuteTime": {
     "end_time": "2024-05-17T11:54:46.590712Z",
     "start_time": "2024-05-17T11:54:46.587452Z"
    }
   },
   "cell_type": "code",
   "source": "del sys.modules['mario_plant']",
   "id": "e0ba25fe83ef017c",
   "outputs": [],
   "execution_count": 68
  },
  {
   "metadata": {
    "ExecuteTime": {
     "end_time": "2024-05-17T11:54:57.141267Z",
     "start_time": "2024-05-17T11:54:57.135639Z"
    }
   },
   "cell_type": "code",
   "source": "'mario_plant' in sys.modules",
   "id": "33ca4161011bc108",
   "outputs": [
    {
     "data": {
      "text/plain": [
       "False"
      ]
     },
     "execution_count": 70,
     "metadata": {},
     "output_type": "execute_result"
    }
   ],
   "execution_count": 70
  },
  {
   "metadata": {
    "ExecuteTime": {
     "end_time": "2024-05-17T11:55:08.955315Z",
     "start_time": "2024-05-17T11:55:08.950591Z"
    }
   },
   "cell_type": "code",
   "source": "import mario_plant",
   "id": "402a9cc124d7db1f",
   "outputs": [
    {
     "name": "stdout",
     "output_type": "stream",
     "text": [
      "running mario_plant.py...\n"
     ]
    }
   ],
   "execution_count": 71
  },
  {
   "metadata": {
    "ExecuteTime": {
     "end_time": "2024-05-17T11:59:04.713752Z",
     "start_time": "2024-05-17T11:59:04.710073Z"
    }
   },
   "cell_type": "code",
   "source": "mario_plant.print_value()",
   "id": "47808cc659fd478a",
   "outputs": [
    {
     "name": "stdout",
     "output_type": "stream",
     "text": [
      "k1 10\n",
      "k2 20\n",
      "k3 30\n"
     ]
    }
   ],
   "execution_count": 72
  },
  {
   "metadata": {
    "ExecuteTime": {
     "end_time": "2024-05-17T11:59:28.104216Z",
     "start_time": "2024-05-17T11:59:28.100197Z"
    }
   },
   "cell_type": "code",
   "source": "create_module_file('mario_plant', k1='a', k2='b', k3='c')",
   "id": "110ba9ba14f9dac7",
   "outputs": [],
   "execution_count": 73
  },
  {
   "metadata": {
    "ExecuteTime": {
     "end_time": "2024-05-17T11:59:47.894326Z",
     "start_time": "2024-05-17T11:59:47.887267Z"
    }
   },
   "cell_type": "code",
   "source": [
    "import importlib\n",
    "importlib.reload(mario_plant)"
   ],
   "id": "e955bdbd0810a9c4",
   "outputs": [
    {
     "name": "stdout",
     "output_type": "stream",
     "text": [
      "running mario_plant.py...\n"
     ]
    },
    {
     "data": {
      "text/plain": [
       "<module 'mario_plant' from '/home/bmo/a-code/FredLab/mario_plant.py'>"
      ]
     },
     "execution_count": 74,
     "metadata": {},
     "output_type": "execute_result"
    }
   ],
   "execution_count": 74
  },
  {
   "metadata": {
    "ExecuteTime": {
     "end_time": "2024-05-17T11:59:52.879979Z",
     "start_time": "2024-05-17T11:59:52.876040Z"
    }
   },
   "cell_type": "code",
   "source": "mario_plant.print_value()",
   "id": "9ae7b6410496afaf",
   "outputs": [
    {
     "name": "stdout",
     "output_type": "stream",
     "text": [
      "k1 a\n",
      "k2 b\n",
      "k3 c\n"
     ]
    }
   ],
   "execution_count": 75
  },
  {
   "metadata": {},
   "cell_type": "code",
   "outputs": [],
   "execution_count": null,
   "source": "",
   "id": "fb2d1711d27cf9b5"
  }
 ],
 "metadata": {
  "kernelspec": {
   "display_name": "Python 3",
   "language": "python",
   "name": "python3"
  },
  "language_info": {
   "codemirror_mode": {
    "name": "ipython",
    "version": 2
   },
   "file_extension": ".py",
   "mimetype": "text/x-python",
   "name": "python",
   "nbconvert_exporter": "python",
   "pygments_lexer": "ipython2",
   "version": "2.7.6"
  }
 },
 "nbformat": 4,
 "nbformat_minor": 5
}
