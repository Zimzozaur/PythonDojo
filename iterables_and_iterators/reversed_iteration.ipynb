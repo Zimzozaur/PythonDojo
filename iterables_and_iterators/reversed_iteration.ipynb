{
 "cells": [
  {
   "cell_type": "code",
   "id": "initial_id",
   "metadata": {
    "collapsed": true,
    "ExecuteTime": {
     "end_time": "2024-07-08T10:53:59.300232Z",
     "start_time": "2024-07-08T10:53:59.296939Z"
    }
   },
   "source": [
    "_SUITS = 'Spades', 'Hearts', 'Diamonds', 'Clubs'\n",
    "_RANKS = tuple(range(2, 11)) + tuple('JQKA')"
   ],
   "outputs": [],
   "execution_count": 2
  },
  {
   "metadata": {
    "ExecuteTime": {
     "end_time": "2024-07-08T11:01:48.994066Z",
     "start_time": "2024-07-08T11:01:48.990391Z"
    }
   },
   "cell_type": "code",
   "source": [
    "from collections import namedtuple\n",
    "\n",
    "Card = namedtuple('Card', 'rank suite')"
   ],
   "id": "ad421f0b6d8a31e7",
   "outputs": [],
   "execution_count": 5
  },
  {
   "metadata": {
    "ExecuteTime": {
     "end_time": "2024-07-08T11:11:22.076299Z",
     "start_time": "2024-07-08T11:11:22.069272Z"
    }
   },
   "cell_type": "code",
   "source": [
    "class CardDeck:\n",
    "    def __init__(self):\n",
    "        self.length = len(_SUITS) * len(_RANKS)\n",
    "        \n",
    "    def __len__(self):\n",
    "        return self.length\n",
    "    \n",
    "    def __iter__(self):\n",
    "        return self.CardDeckIterator(self.length)\n",
    "    \n",
    "    class CardDeckIterator:\n",
    "        def __init__(self, length):\n",
    "            self.length = length\n",
    "            self.i = 0\n",
    "            self.r = 52\n",
    "            \n",
    "        def __iter__(self):\n",
    "            return self\n",
    "        \n",
    "        def __next__(self):\n",
    "            if self.i >= self.length:\n",
    "                raise StopIteration\n",
    "            \n",
    "            suit = _SUITS[self.i // 13]\n",
    "            rank = _RANKS[self.i % 13]\n",
    "            self.i += 1\n",
    "            return Card(rank, suit)\n",
    "        \n",
    "        def __reversed__(self):\n",
    "            if self.r >= self.length:\n",
    "                raise StopIteration\n",
    "            \n",
    "            suit = _SUITS[self.r // 13]\n",
    "            rank = _RANKS[self.r % 13]\n",
    "            self.r -= 1\n",
    "            return Card(rank, suit)"
   ],
   "id": "bdbd1e9979a0fea",
   "outputs": [],
   "execution_count": 16
  },
  {
   "metadata": {
    "ExecuteTime": {
     "end_time": "2024-07-08T11:02:42.642365Z",
     "start_time": "2024-07-08T11:02:42.639174Z"
    }
   },
   "cell_type": "code",
   "source": "deck = CardDeck()",
   "id": "e641599b93747a37",
   "outputs": [],
   "execution_count": 7
  },
  {
   "metadata": {
    "ExecuteTime": {
     "end_time": "2024-07-08T11:02:51.105418Z",
     "start_time": "2024-07-08T11:02:51.101123Z"
    }
   },
   "cell_type": "code",
   "source": [
    "for card in deck:\n",
    "    print(card)"
   ],
   "id": "b6485de72e097430",
   "outputs": [
    {
     "name": "stdout",
     "output_type": "stream",
     "text": [
      "Card(rank=2, suite='Spades')\n",
      "Card(rank=3, suite='Spades')\n",
      "Card(rank=4, suite='Spades')\n",
      "Card(rank=5, suite='Spades')\n",
      "Card(rank=6, suite='Spades')\n",
      "Card(rank=7, suite='Spades')\n",
      "Card(rank=8, suite='Spades')\n",
      "Card(rank=9, suite='Spades')\n",
      "Card(rank=10, suite='Spades')\n",
      "Card(rank='J', suite='Spades')\n",
      "Card(rank='Q', suite='Spades')\n",
      "Card(rank='K', suite='Spades')\n",
      "Card(rank='A', suite='Spades')\n",
      "Card(rank=2, suite='Hearts')\n",
      "Card(rank=3, suite='Hearts')\n",
      "Card(rank=4, suite='Hearts')\n",
      "Card(rank=5, suite='Hearts')\n",
      "Card(rank=6, suite='Hearts')\n",
      "Card(rank=7, suite='Hearts')\n",
      "Card(rank=8, suite='Hearts')\n",
      "Card(rank=9, suite='Hearts')\n",
      "Card(rank=10, suite='Hearts')\n",
      "Card(rank='J', suite='Hearts')\n",
      "Card(rank='Q', suite='Hearts')\n",
      "Card(rank='K', suite='Hearts')\n",
      "Card(rank='A', suite='Hearts')\n",
      "Card(rank=2, suite='Diamonds')\n",
      "Card(rank=3, suite='Diamonds')\n",
      "Card(rank=4, suite='Diamonds')\n",
      "Card(rank=5, suite='Diamonds')\n",
      "Card(rank=6, suite='Diamonds')\n",
      "Card(rank=7, suite='Diamonds')\n",
      "Card(rank=8, suite='Diamonds')\n",
      "Card(rank=9, suite='Diamonds')\n",
      "Card(rank=10, suite='Diamonds')\n",
      "Card(rank='J', suite='Diamonds')\n",
      "Card(rank='Q', suite='Diamonds')\n",
      "Card(rank='K', suite='Diamonds')\n",
      "Card(rank='A', suite='Diamonds')\n",
      "Card(rank=2, suite='Clubs')\n",
      "Card(rank=3, suite='Clubs')\n",
      "Card(rank=4, suite='Clubs')\n",
      "Card(rank=5, suite='Clubs')\n",
      "Card(rank=6, suite='Clubs')\n",
      "Card(rank=7, suite='Clubs')\n",
      "Card(rank=8, suite='Clubs')\n",
      "Card(rank=9, suite='Clubs')\n",
      "Card(rank=10, suite='Clubs')\n",
      "Card(rank='J', suite='Clubs')\n",
      "Card(rank='Q', suite='Clubs')\n",
      "Card(rank='K', suite='Clubs')\n",
      "Card(rank='A', suite='Clubs')\n"
     ]
    }
   ],
   "execution_count": 8
  },
  {
   "metadata": {
    "ExecuteTime": {
     "end_time": "2024-07-08T11:09:16.763089Z",
     "start_time": "2024-07-08T11:09:16.759528Z"
    }
   },
   "cell_type": "code",
   "source": "deck = list(CardDeck())",
   "id": "b3e0e68e91c7bff0",
   "outputs": [],
   "execution_count": 12
  },
  {
   "metadata": {
    "ExecuteTime": {
     "end_time": "2024-07-08T11:09:40.967319Z",
     "start_time": "2024-07-08T11:09:40.962627Z"
    }
   },
   "cell_type": "code",
   "source": "deck[:48:-1]",
   "id": "af195e415a6cd8ba",
   "outputs": [
    {
     "data": {
      "text/plain": [
       "[Card(rank='A', suite='Clubs'),\n",
       " Card(rank='K', suite='Clubs'),\n",
       " Card(rank='Q', suite='Clubs')]"
      ]
     },
     "execution_count": 14,
     "metadata": {},
     "output_type": "execute_result"
    }
   ],
   "execution_count": 14
  },
  {
   "metadata": {
    "ExecuteTime": {
     "end_time": "2024-07-08T11:11:24.356692Z",
     "start_time": "2024-07-08T11:11:24.329647Z"
    }
   },
   "cell_type": "code",
   "source": "reversed_deck = reversed(CardDeck())",
   "id": "8d75aba32954ded8",
   "outputs": [
    {
     "ename": "TypeError",
     "evalue": "'CardDeck' object is not reversible",
     "output_type": "error",
     "traceback": [
      "\u001B[0;31m---------------------------------------------------------------------------\u001B[0m",
      "\u001B[0;31mTypeError\u001B[0m                                 Traceback (most recent call last)",
      "Cell \u001B[0;32mIn[17], line 1\u001B[0m\n\u001B[0;32m----> 1\u001B[0m reversed_deck \u001B[38;5;241m=\u001B[39m \u001B[38;5;28;43mreversed\u001B[39;49m\u001B[43m(\u001B[49m\u001B[43mCardDeck\u001B[49m\u001B[43m(\u001B[49m\u001B[43m)\u001B[49m\u001B[43m)\u001B[49m\n",
      "\u001B[0;31mTypeError\u001B[0m: 'CardDeck' object is not reversible"
     ]
    }
   ],
   "execution_count": 17
  },
  {
   "metadata": {
    "ExecuteTime": {
     "end_time": "2024-07-08T11:17:30.313839Z",
     "start_time": "2024-07-08T11:17:30.305183Z"
    }
   },
   "cell_type": "code",
   "source": [
    "class CardDeck:\n",
    "    def __init__(self):\n",
    "        self.length = len(_SUITS) * len(_RANKS)\n",
    "        \n",
    "    def __len__(self):\n",
    "        return self.length\n",
    "    \n",
    "    def __iter__(self):\n",
    "        return self.CardDeckIterator(self.length)\n",
    "    \n",
    "    def __reversed__(self):\n",
    "        return self.CardDeckIterator(self.length, reverse=True)\n",
    "    \n",
    "    class CardDeckIterator:\n",
    "        def __init__(self, length, reverse=False):\n",
    "            self.length = length\n",
    "            self.i = 0\n",
    "            self.reverse=reverse\n",
    "            \n",
    "        def __iter__(self):\n",
    "            return self\n",
    "        \n",
    "        def __next__(self):\n",
    "            if self.i >= self.length:\n",
    "                raise StopIteration\n",
    "            if self.reverse:\n",
    "                index = self.length - 1 - self.i\n",
    "            else:\n",
    "                index = self.i\n",
    "            suit = _SUITS[index // 13]\n",
    "            rank = _RANKS[index % 13]\n",
    "            self.i += 1\n",
    "            return Card(rank, suit)\n"
   ],
   "id": "8030ce861e74fe18",
   "outputs": [],
   "execution_count": 29
  },
  {
   "metadata": {
    "ExecuteTime": {
     "end_time": "2024-07-08T11:17:30.660087Z",
     "start_time": "2024-07-08T11:17:30.656406Z"
    }
   },
   "cell_type": "code",
   "source": "deck = reversed(CardDeck())",
   "id": "a4d9c57d1b63e27e",
   "outputs": [],
   "execution_count": 30
  },
  {
   "metadata": {
    "ExecuteTime": {
     "end_time": "2024-07-08T11:17:31.014963Z",
     "start_time": "2024-07-08T11:17:31.008992Z"
    }
   },
   "cell_type": "code",
   "source": "list(deck)[:5]",
   "id": "1c608c7cc3c4e79e",
   "outputs": [
    {
     "data": {
      "text/plain": [
       "[Card(rank='A', suite='Clubs'),\n",
       " Card(rank='K', suite='Clubs'),\n",
       " Card(rank='Q', suite='Clubs'),\n",
       " Card(rank='J', suite='Clubs'),\n",
       " Card(rank=10, suite='Clubs')]"
      ]
     },
     "execution_count": 31,
     "metadata": {},
     "output_type": "execute_result"
    }
   ],
   "execution_count": 31
  },
  {
   "metadata": {},
   "cell_type": "markdown",
   "source": "### Sequences",
   "id": "949eb5810d140eee"
  },
  {
   "metadata": {
    "ExecuteTime": {
     "end_time": "2024-07-08T11:22:22.480222Z",
     "start_time": "2024-07-08T11:22:22.474655Z"
    }
   },
   "cell_type": "code",
   "source": [
    "class Squares:\n",
    "    def __init__(self, length):\n",
    "        self.squares = [i ** 2 for i in range(length)]\n",
    "        \n",
    "    def __len__(self):\n",
    "        return len(self.squares)\n",
    "    \n",
    "    def __getitem__(self, item):\n",
    "        return self.squares[item]"
   ],
   "id": "dc780cf42f6894ca",
   "outputs": [],
   "execution_count": 44
  },
  {
   "metadata": {
    "ExecuteTime": {
     "end_time": "2024-07-08T11:22:22.726709Z",
     "start_time": "2024-07-08T11:22:22.722142Z"
    }
   },
   "cell_type": "code",
   "source": [
    "for num in Squares(5):\n",
    "    print(num)"
   ],
   "id": "1f9c478f93073931",
   "outputs": [
    {
     "name": "stdout",
     "output_type": "stream",
     "text": [
      "0\n",
      "1\n",
      "4\n",
      "9\n",
      "16\n"
     ]
    }
   ],
   "execution_count": 45
  },
  {
   "metadata": {
    "ExecuteTime": {
     "end_time": "2024-07-08T11:22:24.422646Z",
     "start_time": "2024-07-08T11:22:24.418385Z"
    }
   },
   "cell_type": "code",
   "source": [
    "for num in reversed(Squares(5)):\n",
    "    print(num)"
   ],
   "id": "37a5397af140822c",
   "outputs": [
    {
     "name": "stdout",
     "output_type": "stream",
     "text": [
      "16\n",
      "9\n",
      "4\n",
      "1\n",
      "0\n"
     ]
    }
   ],
   "execution_count": 46
  },
  {
   "metadata": {
    "ExecuteTime": {
     "end_time": "2024-07-08T11:24:10.553159Z",
     "start_time": "2024-07-08T11:24:10.548906Z"
    }
   },
   "cell_type": "code",
   "source": [
    "from collections.abc import Iterator\n",
    "isinstance(reversed(Squares(5)), Iterator)"
   ],
   "id": "f301ec8aab6e446a",
   "outputs": [
    {
     "data": {
      "text/plain": [
       "True"
      ]
     },
     "execution_count": 51,
     "metadata": {},
     "output_type": "execute_result"
    }
   ],
   "execution_count": 51
  },
  {
   "metadata": {
    "ExecuteTime": {
     "end_time": "2024-07-08T11:28:44.832250Z",
     "start_time": "2024-07-08T11:28:44.826466Z"
    }
   },
   "cell_type": "code",
   "source": [
    "class Squares:\n",
    "    def __init__(self, length):\n",
    "        self.squares = [i ** 2 for i in range(length)]\n",
    "        \n",
    "    def __len__(self):\n",
    "        return len(self.squares)\n",
    "    \n",
    "    def __getitem__(self, item):\n",
    "        return self.squares[item]\n",
    "    \n",
    "    def __reversed__(self):\n",
    "        print('__reversed__ called')\n",
    "        return 'Hello Python!'"
   ],
   "id": "91e8806d9f633866",
   "outputs": [],
   "execution_count": 54
  },
  {
   "metadata": {
    "ExecuteTime": {
     "end_time": "2024-07-08T11:28:45.027774Z",
     "start_time": "2024-07-08T11:28:45.022024Z"
    }
   },
   "cell_type": "code",
   "source": "list(Squares(5))",
   "id": "c27c46cff71be14b",
   "outputs": [
    {
     "data": {
      "text/plain": [
       "[0, 1, 4, 9, 16]"
      ]
     },
     "execution_count": 55,
     "metadata": {},
     "output_type": "execute_result"
    }
   ],
   "execution_count": 55
  },
  {
   "metadata": {
    "ExecuteTime": {
     "end_time": "2024-07-08T11:29:01.251518Z",
     "start_time": "2024-07-08T11:29:01.245952Z"
    }
   },
   "cell_type": "code",
   "source": "list(reversed(Squares(5)))",
   "id": "8d45c88acd608321",
   "outputs": [
    {
     "name": "stdout",
     "output_type": "stream",
     "text": [
      "__reversed__ called\n"
     ]
    },
    {
     "data": {
      "text/plain": [
       "['H', 'e', 'l', 'l', 'o', ' ', 'P', 'y', 't', 'h', 'o', 'n', '!']"
      ]
     },
     "execution_count": 56,
     "metadata": {},
     "output_type": "execute_result"
    }
   ],
   "execution_count": 56
  },
  {
   "metadata": {
    "ExecuteTime": {
     "end_time": "2024-07-08T11:29:50.610457Z",
     "start_time": "2024-07-08T11:29:50.605439Z"
    }
   },
   "cell_type": "code",
   "source": "type(reversed(Squares(5)))",
   "id": "97066e9b795375ca",
   "outputs": [
    {
     "name": "stdout",
     "output_type": "stream",
     "text": [
      "__reversed__ called\n"
     ]
    },
    {
     "data": {
      "text/plain": [
       "str"
      ]
     },
     "execution_count": 57,
     "metadata": {},
     "output_type": "execute_result"
    }
   ],
   "execution_count": 57
  },
  {
   "metadata": {
    "ExecuteTime": {
     "end_time": "2024-07-08T11:30:18.742122Z",
     "start_time": "2024-07-08T11:30:18.736553Z"
    }
   },
   "cell_type": "code",
   "source": [
    "class Squares:\n",
    "    def __init__(self, length):\n",
    "        self.squares = [i ** 2 for i in range(length)]\n",
    "        \n",
    "    def __len__(self):\n",
    "        return len(self.squares)\n",
    "    \n",
    "    def __getitem__(self, item):\n",
    "        return self.squares[item]\n",
    "    \n",
    "    def __reversed__(self):\n",
    "        print('__reversed__ called')\n",
    "        return 100"
   ],
   "id": "29cd0c8c6b5afbe0",
   "outputs": [],
   "execution_count": 58
  },
  {
   "metadata": {
    "ExecuteTime": {
     "end_time": "2024-07-08T11:30:19.748165Z",
     "start_time": "2024-07-08T11:30:19.726488Z"
    }
   },
   "cell_type": "code",
   "source": "list(reversed(Squares(5)))",
   "id": "249310b9936b1ed5",
   "outputs": [
    {
     "name": "stdout",
     "output_type": "stream",
     "text": [
      "__reversed__ called\n"
     ]
    },
    {
     "ename": "TypeError",
     "evalue": "'int' object is not iterable",
     "output_type": "error",
     "traceback": [
      "\u001B[0;31m---------------------------------------------------------------------------\u001B[0m",
      "\u001B[0;31mTypeError\u001B[0m                                 Traceback (most recent call last)",
      "Cell \u001B[0;32mIn[59], line 1\u001B[0m\n\u001B[0;32m----> 1\u001B[0m \u001B[38;5;28;43mlist\u001B[39;49m\u001B[43m(\u001B[49m\u001B[38;5;28;43mreversed\u001B[39;49m\u001B[43m(\u001B[49m\u001B[43mSquares\u001B[49m\u001B[43m(\u001B[49m\u001B[38;5;241;43m5\u001B[39;49m\u001B[43m)\u001B[49m\u001B[43m)\u001B[49m\u001B[43m)\u001B[49m\n",
      "\u001B[0;31mTypeError\u001B[0m: 'int' object is not iterable"
     ]
    }
   ],
   "execution_count": 59
  },
  {
   "metadata": {
    "ExecuteTime": {
     "end_time": "2024-07-08T11:30:25.424837Z",
     "start_time": "2024-07-08T11:30:25.419306Z"
    }
   },
   "cell_type": "code",
   "source": "type(reversed(Squares(5)))",
   "id": "e530ed8e7f2a8e90",
   "outputs": [
    {
     "name": "stdout",
     "output_type": "stream",
     "text": [
      "__reversed__ called\n"
     ]
    },
    {
     "data": {
      "text/plain": [
       "int"
      ]
     },
     "execution_count": 60,
     "metadata": {},
     "output_type": "execute_result"
    }
   ],
   "execution_count": 60
  },
  {
   "metadata": {},
   "cell_type": "code",
   "outputs": [],
   "execution_count": null,
   "source": "",
   "id": "c8a325927da70eeb"
  }
 ],
 "metadata": {
  "kernelspec": {
   "display_name": "Python 3",
   "language": "python",
   "name": "python3"
  },
  "language_info": {
   "codemirror_mode": {
    "name": "ipython",
    "version": 2
   },
   "file_extension": ".py",
   "mimetype": "text/x-python",
   "name": "python",
   "nbconvert_exporter": "python",
   "pygments_lexer": "ipython2",
   "version": "2.7.6"
  }
 },
 "nbformat": 4,
 "nbformat_minor": 5
}
