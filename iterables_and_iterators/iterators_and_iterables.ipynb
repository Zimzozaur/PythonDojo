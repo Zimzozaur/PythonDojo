{
 "cells": [
  {
   "cell_type": "code",
   "id": "initial_id",
   "metadata": {
    "collapsed": true,
    "ExecuteTime": {
     "end_time": "2024-07-05T12:17:04.018051Z",
     "start_time": "2024-07-05T12:17:04.012639Z"
    }
   },
   "source": [
    "class Cities:\n",
    "    def __init__(self):\n",
    "        self._cities = ['Apple', 'Mango', 'Banana', 'Melon', 'Orange']\n",
    "        self._index = 0\n",
    "    \n",
    "    def __iter__(self):\n",
    "        return self\n",
    "    \n",
    "    def __next__(self):\n",
    "        if self._index >= len(self._cities):\n",
    "            raise StopIteration\n",
    "        item = self._cities[self._index]\n",
    "        self._index += 1\n",
    "        return item\n",
    "        "
   ],
   "outputs": [],
   "execution_count": 1
  },
  {
   "metadata": {
    "ExecuteTime": {
     "end_time": "2024-07-05T12:17:11.266984Z",
     "start_time": "2024-07-05T12:17:11.263871Z"
    }
   },
   "cell_type": "code",
   "source": "cities = Cities()",
   "id": "3545d92039c2b186",
   "outputs": [],
   "execution_count": 2
  },
  {
   "metadata": {
    "ExecuteTime": {
     "end_time": "2024-07-05T12:17:16.004571Z",
     "start_time": "2024-07-05T12:17:15.996347Z"
    }
   },
   "cell_type": "code",
   "source": "type(cities)",
   "id": "279513f8575af31a",
   "outputs": [
    {
     "data": {
      "text/plain": [
       "__main__.Cities"
      ]
     },
     "execution_count": 3,
     "metadata": {},
     "output_type": "execute_result"
    }
   ],
   "execution_count": 3
  },
  {
   "metadata": {
    "ExecuteTime": {
     "end_time": "2024-07-05T12:17:24.576247Z",
     "start_time": "2024-07-05T12:17:24.570693Z"
    }
   },
   "cell_type": "code",
   "source": "list(enumerate(cities))",
   "id": "26676be263a846ad",
   "outputs": [
    {
     "data": {
      "text/plain": [
       "[(0, 'Apple'), (1, 'Mango'), (2, 'Banana'), (3, 'Melon'), (4, 'Orange')]"
      ]
     },
     "execution_count": 4,
     "metadata": {},
     "output_type": "execute_result"
    }
   ],
   "execution_count": 4
  },
  {
   "metadata": {
    "ExecuteTime": {
     "end_time": "2024-07-05T12:18:08.907330Z",
     "start_time": "2024-07-05T12:18:08.732044Z"
    }
   },
   "cell_type": "code",
   "source": "next(cities)",
   "id": "4d343e9f91a5c53e",
   "outputs": [
    {
     "ename": "StopIteration",
     "evalue": "",
     "output_type": "error",
     "traceback": [
      "\u001B[0;31m---------------------------------------------------------------------------\u001B[0m",
      "\u001B[0;31mStopIteration\u001B[0m                             Traceback (most recent call last)",
      "Cell \u001B[0;32mIn[5], line 1\u001B[0m\n\u001B[0;32m----> 1\u001B[0m \u001B[38;5;28;43mnext\u001B[39;49m\u001B[43m(\u001B[49m\u001B[43mcities\u001B[49m\u001B[43m)\u001B[49m\n",
      "Cell \u001B[0;32mIn[1], line 11\u001B[0m, in \u001B[0;36mCities.__next__\u001B[0;34m(self)\u001B[0m\n\u001B[1;32m      9\u001B[0m \u001B[38;5;28;01mdef\u001B[39;00m \u001B[38;5;21m__next__\u001B[39m(\u001B[38;5;28mself\u001B[39m):\n\u001B[1;32m     10\u001B[0m     \u001B[38;5;28;01mif\u001B[39;00m \u001B[38;5;28mself\u001B[39m\u001B[38;5;241m.\u001B[39m_index \u001B[38;5;241m>\u001B[39m\u001B[38;5;241m=\u001B[39m \u001B[38;5;28mlen\u001B[39m(\u001B[38;5;28mself\u001B[39m\u001B[38;5;241m.\u001B[39m_cities):\n\u001B[0;32m---> 11\u001B[0m         \u001B[38;5;28;01mraise\u001B[39;00m \u001B[38;5;167;01mStopIteration\u001B[39;00m\n\u001B[1;32m     12\u001B[0m     item \u001B[38;5;241m=\u001B[39m \u001B[38;5;28mself\u001B[39m\u001B[38;5;241m.\u001B[39m_cities[\u001B[38;5;28mself\u001B[39m\u001B[38;5;241m.\u001B[39m_index]\n\u001B[1;32m     13\u001B[0m     \u001B[38;5;28mself\u001B[39m\u001B[38;5;241m.\u001B[39m_index \u001B[38;5;241m+\u001B[39m\u001B[38;5;241m=\u001B[39m \u001B[38;5;241m1\u001B[39m\n",
      "\u001B[0;31mStopIteration\u001B[0m: "
     ]
    }
   ],
   "execution_count": 5
  },
  {
   "metadata": {
    "ExecuteTime": {
     "end_time": "2024-07-05T12:18:22.013243Z",
     "start_time": "2024-07-05T12:18:22.008836Z"
    }
   },
   "cell_type": "code",
   "source": "list(enumerate(cities))",
   "id": "fc7b0955b19e826f",
   "outputs": [
    {
     "data": {
      "text/plain": [
       "[]"
      ]
     },
     "execution_count": 6,
     "metadata": {},
     "output_type": "execute_result"
    }
   ],
   "execution_count": 6
  },
  {
   "metadata": {
    "ExecuteTime": {
     "end_time": "2024-07-05T12:18:57.212784Z",
     "start_time": "2024-07-05T12:18:57.207970Z"
    }
   },
   "cell_type": "code",
   "source": [
    "cities = Cities()\n",
    "[item.upper() for item in cities]"
   ],
   "id": "3fca07d5d4c16ebf",
   "outputs": [
    {
     "data": {
      "text/plain": [
       "['APPLE', 'MANGO', 'BANANA', 'MELON', 'ORANGE']"
      ]
     },
     "execution_count": 8,
     "metadata": {},
     "output_type": "execute_result"
    }
   ],
   "execution_count": 8
  },
  {
   "metadata": {
    "ExecuteTime": {
     "end_time": "2024-07-05T12:22:33.463996Z",
     "start_time": "2024-07-05T12:22:33.459907Z"
    }
   },
   "cell_type": "code",
   "source": [
    "class Cities:\n",
    "    def __init__(self):\n",
    "        self._cities = ['Apple', 'Mango', 'Banana', 'Melon', 'Orange']\n",
    "        self._index = 0\n",
    "    \n",
    "    def __len__(self):\n",
    "        return len(self._cities)"
   ],
   "id": "b9e5ac6181aa19ba",
   "outputs": [],
   "execution_count": 11
  },
  {
   "metadata": {
    "ExecuteTime": {
     "end_time": "2024-07-05T12:22:33.700780Z",
     "start_time": "2024-07-05T12:22:33.694123Z"
    }
   },
   "cell_type": "code",
   "source": [
    "cities = Cities()\n",
    "len(cities)"
   ],
   "id": "931c96d44143557c",
   "outputs": [
    {
     "data": {
      "text/plain": [
       "5"
      ]
     },
     "execution_count": 12,
     "metadata": {},
     "output_type": "execute_result"
    }
   ],
   "execution_count": 12
  },
  {
   "metadata": {
    "ExecuteTime": {
     "end_time": "2024-07-05T12:25:27.676963Z",
     "start_time": "2024-07-05T12:25:27.671540Z"
    }
   },
   "cell_type": "code",
   "source": [
    "class Cities:\n",
    "    def __init__(self):\n",
    "        self._cities = ['Apple', 'Mango', 'Banana', 'Melon', 'Orange']\n",
    "        self._index = 0\n",
    "    \n",
    "    def __len__(self):\n",
    "        return len(self._cities)\n",
    "    \n",
    "class CityIterator:\n",
    "    def __init__(self, city_obj: Cities):\n",
    "        self._city_obj = city_obj\n",
    "        self._index = 0\n",
    "    \n",
    "    def __iter__(self):\n",
    "        return self\n",
    "    \n",
    "    def __next__(self):\n",
    "        if self._index >= len(self._city_obj):\n",
    "            raise StopIteration\n",
    "        item = self._city_obj._cities[self._index]\n",
    "        self._index += 1\n",
    "        return item"
   ],
   "id": "81b65358013d1308",
   "outputs": [],
   "execution_count": 23
  },
  {
   "metadata": {
    "ExecuteTime": {
     "end_time": "2024-07-05T12:22:45.532968Z",
     "start_time": "2024-07-05T12:22:45.529878Z"
    }
   },
   "cell_type": "code",
   "source": [
    "cities = Cities()\n",
    "for item in cities:\n",
    "    print(cities)"
   ],
   "id": "92dda2c1c5a8a161",
   "outputs": [],
   "execution_count": 14
  },
  {
   "metadata": {
    "ExecuteTime": {
     "end_time": "2024-07-05T12:24:54.746760Z",
     "start_time": "2024-07-05T12:24:54.742755Z"
    }
   },
   "cell_type": "code",
   "source": [
    "city_iterator = CityIterator(cities)\n",
    "for city in city_iterator:\n",
    "    print(city)"
   ],
   "id": "275b71dfc48ab0a6",
   "outputs": [
    {
     "name": "stdout",
     "output_type": "stream",
     "text": [
      "Apple\n",
      "Mango\n",
      "Banana\n",
      "Melon\n",
      "Orange\n"
     ]
    }
   ],
   "execution_count": 22
  },
  {
   "metadata": {
    "ExecuteTime": {
     "end_time": "2024-07-05T12:24:39.885576Z",
     "start_time": "2024-07-05T12:24:39.881479Z"
    }
   },
   "cell_type": "code",
   "source": [
    "for city in city_iterator:\n",
    "    print(city)"
   ],
   "id": "19879b03f3b9daf2",
   "outputs": [],
   "execution_count": 21
  },
  {
   "metadata": {
    "ExecuteTime": {
     "end_time": "2024-07-05T12:31:38.295365Z",
     "start_time": "2024-07-05T12:31:38.288110Z"
    }
   },
   "cell_type": "code",
   "source": [
    "class Cities:\n",
    "    def __init__(self):\n",
    "        self._cities = ['Apple', 'Mango', 'Banana', 'Melon', 'Orange']\n",
    "        self._index = 0\n",
    "    \n",
    "    def __len__(self):\n",
    "        return len(self._cities)\n",
    "    \n",
    "    def __iter__(self):\n",
    "        print('Cities.__iter__')\n",
    "        return CityIterator(self)\n",
    "    \n",
    "class CityIterator:\n",
    "    def __init__(self, city_obj: Cities):\n",
    "        print('CityIterator.__init__')\n",
    "        self._city_obj = city_obj\n",
    "        self._index = 0\n",
    "    \n",
    "    def __iter__(self):\n",
    "        print('CityIterator.__iter__')\n",
    "        return self\n",
    "    \n",
    "    def __next__(self):\n",
    "        print('CityIterator.__next__')\n",
    "        if self._index >= len(self._city_obj):\n",
    "            raise StopIteration\n",
    "        item = self._city_obj._cities[self._index]\n",
    "        self._index += 1\n",
    "        return item\n",
    "\n",
    "cities = Cities()    \n",
    "\n",
    "for city in cities:\n",
    "    print(city)"
   ],
   "id": "8a908d83cac1fc02",
   "outputs": [
    {
     "name": "stdout",
     "output_type": "stream",
     "text": [
      "Cities.__iter__\n",
      "CityIterator.__init__\n",
      "CityIterator.__next__\n",
      "Apple\n",
      "CityIterator.__next__\n",
      "Mango\n",
      "CityIterator.__next__\n",
      "Banana\n",
      "CityIterator.__next__\n",
      "Melon\n",
      "CityIterator.__next__\n",
      "Orange\n",
      "CityIterator.__next__\n"
     ]
    }
   ],
   "execution_count": 31
  },
  {
   "metadata": {
    "ExecuteTime": {
     "end_time": "2024-07-05T12:37:08.162559Z",
     "start_time": "2024-07-05T12:37:08.154328Z"
    }
   },
   "cell_type": "code",
   "source": [
    "class Cities:\n",
    "    def __init__(self):\n",
    "        self._cities = ['Apple', 'Mango', 'Banana', 'Melon', 'Orange']\n",
    "        self._index = 0\n",
    "    \n",
    "    def __len__(self):\n",
    "        return len(self._cities)\n",
    "    \n",
    "    def __iter__(self):\n",
    "        print('Cities.__iter__')\n",
    "        return self.CityIterator(self)\n",
    "    \n",
    "    class CityIterator:\n",
    "        def __init__(self, city_obj: 'Cities'):\n",
    "            print('CityIterator.__init__')\n",
    "            self._city_obj = city_obj\n",
    "            self._index = 0\n",
    "        \n",
    "        def __iter__(self):\n",
    "            print('CityIterator.__iter__')\n",
    "            return self\n",
    "        \n",
    "        def __next__(self):\n",
    "            print('CityIterator.__next__')\n",
    "            if self._index >= len(self._city_obj):\n",
    "                raise StopIteration\n",
    "            item = self._city_obj._cities[self._index]\n",
    "            self._index += 1\n",
    "            return item\n",
    "\n",
    "cities = Cities()    \n",
    "\n",
    "for city in cities:\n",
    "    print(city)"
   ],
   "id": "6b48170f29643813",
   "outputs": [
    {
     "name": "stdout",
     "output_type": "stream",
     "text": [
      "Cities.__iter__\n",
      "CityIterator.__init__\n",
      "CityIterator.__next__\n",
      "Apple\n",
      "CityIterator.__next__\n",
      "Mango\n",
      "CityIterator.__next__\n",
      "Banana\n",
      "CityIterator.__next__\n",
      "Melon\n",
      "CityIterator.__next__\n",
      "Orange\n",
      "CityIterator.__next__\n"
     ]
    }
   ],
   "execution_count": 40
  },
  {
   "metadata": {
    "ExecuteTime": {
     "end_time": "2024-07-05T12:39:36.500847Z",
     "start_time": "2024-07-05T12:39:36.495420Z"
    }
   },
   "cell_type": "code",
   "source": [
    "s = {1, 2, 3}\n",
    "set_iterator = s.__iter__()\n",
    "[item for item in set_iterator]"
   ],
   "id": "2bb3b2026c19f98c",
   "outputs": [
    {
     "data": {
      "text/plain": [
       "[1, 2, 3]"
      ]
     },
     "execution_count": 44,
     "metadata": {},
     "output_type": "execute_result"
    }
   ],
   "execution_count": 44
  },
  {
   "metadata": {
    "ExecuteTime": {
     "end_time": "2024-07-05T12:45:10.393524Z",
     "start_time": "2024-07-05T12:45:10.385891Z"
    }
   },
   "cell_type": "code",
   "source": [
    "class Cities:\n",
    "    def __init__(self):\n",
    "        self._cities = ['Apple', 'Mango', 'Banana', 'Melon', 'Orange']\n",
    "    \n",
    "    def __len__(self):\n",
    "        return len(self._cities)\n",
    "    \n",
    "    def __iter__(self):\n",
    "        print('Cities.__iter__')\n",
    "        return self.CityIterator(self)\n",
    "    \n",
    "    def __getitem__(self, item):\n",
    "        print('Cities.__getitem__')\n",
    "        return self._cities[item]\n",
    "    \n",
    "    class CityIterator:\n",
    "        def __init__(self, city_obj: 'Cities'):\n",
    "            print('CityIterator.__init__')\n",
    "            self._city_obj = city_obj\n",
    "            self._index = 0\n",
    "        \n",
    "        def __iter__(self):\n",
    "            print('CityIterator.__iter__')\n",
    "            return self\n",
    "        \n",
    "        def __next__(self):\n",
    "            print('CityIterator.__next__')\n",
    "            if self._index >= len(self._city_obj):\n",
    "                raise StopIteration\n",
    "            item = self._city_obj._cities[self._index]\n",
    "            self._index += 1\n",
    "            return item\n",
    "\n",
    "cities = Cities()    \n",
    "print(cities[0])\n",
    "print([item for item in cities])"
   ],
   "id": "73b4be2dcdf06907",
   "outputs": [
    {
     "name": "stdout",
     "output_type": "stream",
     "text": [
      "Cities.__getitem__\n",
      "Apple\n",
      "Cities.__iter__\n",
      "CityIterator.__init__\n",
      "CityIterator.__next__\n",
      "CityIterator.__next__\n",
      "CityIterator.__next__\n",
      "CityIterator.__next__\n",
      "CityIterator.__next__\n",
      "CityIterator.__next__\n",
      "['Apple', 'Mango', 'Banana', 'Melon', 'Orange']\n"
     ]
    }
   ],
   "execution_count": 49
  },
  {
   "metadata": {
    "ExecuteTime": {
     "end_time": "2024-07-05T12:48:00.071620Z",
     "start_time": "2024-07-05T12:48:00.066894Z"
    }
   },
   "cell_type": "code",
   "source": [
    "s = {1, 2, 3}\n",
    "next(iter(s))"
   ],
   "id": "8c8b4f382642e692",
   "outputs": [
    {
     "data": {
      "text/plain": [
       "1"
      ]
     },
     "execution_count": 51,
     "metadata": {},
     "output_type": "execute_result"
    }
   ],
   "execution_count": 51
  },
  {
   "metadata": {},
   "cell_type": "code",
   "outputs": [],
   "execution_count": null,
   "source": "",
   "id": "3644d0b6a38fd456"
  }
 ],
 "metadata": {
  "kernelspec": {
   "display_name": "Python 3",
   "language": "python",
   "name": "python3"
  },
  "language_info": {
   "codemirror_mode": {
    "name": "ipython",
    "version": 2
   },
   "file_extension": ".py",
   "mimetype": "text/x-python",
   "name": "python",
   "nbconvert_exporter": "python",
   "pygments_lexer": "ipython2",
   "version": "2.7.6"
  }
 },
 "nbformat": 4,
 "nbformat_minor": 5
}
