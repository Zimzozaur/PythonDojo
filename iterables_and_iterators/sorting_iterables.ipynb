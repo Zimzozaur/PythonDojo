{
 "cells": [
  {
   "cell_type": "code",
   "id": "initial_id",
   "metadata": {
    "collapsed": true,
    "ExecuteTime": {
     "end_time": "2024-07-06T12:28:00.334622Z",
     "start_time": "2024-07-06T12:28:00.331932Z"
    }
   },
   "source": "import random",
   "outputs": [],
   "execution_count": 1
  },
  {
   "metadata": {
    "ExecuteTime": {
     "end_time": "2024-07-06T12:29:25.207378Z",
     "start_time": "2024-07-06T12:29:25.201505Z"
    }
   },
   "cell_type": "code",
   "source": [
    "random.seed(0)\n",
    "for _ in range(5):\n",
    "    print(random.randint(1, 10))"
   ],
   "id": "41e94f5b2f462768",
   "outputs": [
    {
     "name": "stdout",
     "output_type": "stream",
     "text": [
      "7\n",
      "7\n",
      "1\n",
      "5\n",
      "9\n"
     ]
    }
   ],
   "execution_count": 8
  },
  {
   "metadata": {
    "ExecuteTime": {
     "end_time": "2024-07-06T12:45:32.312175Z",
     "start_time": "2024-07-06T12:45:32.303423Z"
    }
   },
   "cell_type": "code",
   "source": [
    "class RandomInts:\n",
    "    def __init__(self, length, *, seed=0, lower=0, upper=10):\n",
    "        self.length = length\n",
    "        self.seed = seed\n",
    "        self.lower = lower\n",
    "        self.upper = upper\n",
    "        \n",
    "    def __len__(self):\n",
    "        return self.length\n",
    "    \n",
    "    def __iter__(self):\n",
    "        return self.RandomIterator(\n",
    "            length=self.length,\n",
    "            seed=self.seed,\n",
    "            lower=self.lower,\n",
    "            upper=self.upper\n",
    "        )\n",
    "    \n",
    "    class RandomIterator:\n",
    "        def __init__(self, length, *, seed, lower, upper):\n",
    "            self.length = length\n",
    "            self.lower = lower\n",
    "            self.upper = upper\n",
    "            self.counter = 0\n",
    "            random.seed(seed)\n",
    "        \n",
    "        def __iter__(self):\n",
    "            return self\n",
    "        \n",
    "        def __next__(self):\n",
    "            if self.counter == self.length:\n",
    "                raise StopIteration\n",
    "            res = random.randint(self.lower, self.upper)\n",
    "            self.counter += 1\n",
    "            return res\n",
    "        "
   ],
   "id": "609da4abd89ab63e",
   "outputs": [],
   "execution_count": 38
  },
  {
   "metadata": {
    "ExecuteTime": {
     "end_time": "2024-07-06T12:47:38.225774Z",
     "start_time": "2024-07-06T12:47:38.222568Z"
    }
   },
   "cell_type": "code",
   "source": [
    "for i in RandomInts(5):\n",
    "    print(i)"
   ],
   "id": "a4cd1734f23a32e9",
   "outputs": [
    {
     "name": "stdout",
     "output_type": "stream",
     "text": [
      "6\n",
      "6\n",
      "0\n",
      "4\n",
      "8\n"
     ]
    }
   ],
   "execution_count": 53
  },
  {
   "metadata": {
    "ExecuteTime": {
     "end_time": "2024-07-06T12:48:00.419513Z",
     "start_time": "2024-07-06T12:48:00.415701Z"
    }
   },
   "cell_type": "code",
   "source": "randoms = RandomInts(10)",
   "id": "bdc7c410cfbe2fa7",
   "outputs": [],
   "execution_count": 54
  },
  {
   "metadata": {
    "ExecuteTime": {
     "end_time": "2024-07-06T12:48:04.057531Z",
     "start_time": "2024-07-06T12:48:04.048581Z"
    }
   },
   "cell_type": "code",
   "source": "list(randoms)",
   "id": "eb803e2ce7e80eaa",
   "outputs": [
    {
     "data": {
      "text/plain": [
       "[6, 6, 0, 4, 8, 7, 6, 4, 7, 5]"
      ]
     },
     "execution_count": 55,
     "metadata": {},
     "output_type": "execute_result"
    }
   ],
   "execution_count": 55
  },
  {
   "metadata": {
    "ExecuteTime": {
     "end_time": "2024-07-06T12:48:09.336770Z",
     "start_time": "2024-07-06T12:48:09.332878Z"
    }
   },
   "cell_type": "code",
   "source": "sorted(randoms)",
   "id": "7253dbacfbd8ab0a",
   "outputs": [
    {
     "data": {
      "text/plain": [
       "[0, 4, 4, 5, 6, 6, 6, 7, 7, 8]"
      ]
     },
     "execution_count": 56,
     "metadata": {},
     "output_type": "execute_result"
    }
   ],
   "execution_count": 56
  },
  {
   "metadata": {
    "ExecuteTime": {
     "end_time": "2024-07-06T12:48:19.290650Z",
     "start_time": "2024-07-06T12:48:19.286245Z"
    }
   },
   "cell_type": "code",
   "source": "sorted(randoms, reverse=True)",
   "id": "33589a1640210e34",
   "outputs": [
    {
     "data": {
      "text/plain": [
       "[8, 7, 7, 6, 6, 6, 5, 4, 4, 0]"
      ]
     },
     "execution_count": 57,
     "metadata": {},
     "output_type": "execute_result"
    }
   ],
   "execution_count": 57
  },
  {
   "metadata": {},
   "cell_type": "code",
   "outputs": [],
   "execution_count": null,
   "source": "",
   "id": "ad5eafb64d2d3bc3"
  }
 ],
 "metadata": {
  "kernelspec": {
   "display_name": "Python 3",
   "language": "python",
   "name": "python3"
  },
  "language_info": {
   "codemirror_mode": {
    "name": "ipython",
    "version": 2
   },
   "file_extension": ".py",
   "mimetype": "text/x-python",
   "name": "python",
   "nbconvert_exporter": "python",
   "pygments_lexer": "ipython2",
   "version": "2.7.6"
  }
 },
 "nbformat": 4,
 "nbformat_minor": 5
}
