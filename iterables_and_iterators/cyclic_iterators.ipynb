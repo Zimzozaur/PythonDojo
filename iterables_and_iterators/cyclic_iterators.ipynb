{
 "cells": [
  {
   "cell_type": "code",
   "id": "initial_id",
   "metadata": {
    "collapsed": true,
    "ExecuteTime": {
     "end_time": "2024-07-05T16:53:49.489578Z",
     "start_time": "2024-07-05T16:53:49.485216Z"
    }
   },
   "source": [
    "class CyclicIterator:\n",
    "    def __init__(self, lst):\n",
    "        self.lst = lst\n",
    "        self.i = 0\n",
    "        \n",
    "    def __iter__(self):\n",
    "        return self\n",
    "\n",
    "    def __next__(self):\n",
    "        if self.i == len(self.lst): self.i = 0\n",
    "        result = self.lst[self.i]\n",
    "        self.i += 1\n",
    "        return result"
   ],
   "outputs": [],
   "execution_count": 41
  },
  {
   "metadata": {
    "ExecuteTime": {
     "end_time": "2024-07-05T16:56:11.716374Z",
     "start_time": "2024-07-05T16:56:11.713166Z"
    }
   },
   "cell_type": "code",
   "source": "iter_cycl = CyclicIterator('NSWE')",
   "id": "26edee8bf28f76ac",
   "outputs": [],
   "execution_count": 49
  },
  {
   "metadata": {
    "ExecuteTime": {
     "end_time": "2024-07-05T16:56:58.898223Z",
     "start_time": "2024-07-05T16:56:58.891823Z"
    }
   },
   "cell_type": "code",
   "source": "[ (i,next(iter_cycl)) for i in range(30)]",
   "id": "7a367b9bbf9b3f6d",
   "outputs": [
    {
     "data": {
      "text/plain": [
       "[(0, 'N'),\n",
       " (1, 'S'),\n",
       " (2, 'W'),\n",
       " (3, 'E'),\n",
       " (4, 'N'),\n",
       " (5, 'S'),\n",
       " (6, 'W'),\n",
       " (7, 'E'),\n",
       " (8, 'N'),\n",
       " (9, 'S'),\n",
       " (10, 'W'),\n",
       " (11, 'E'),\n",
       " (12, 'N'),\n",
       " (13, 'S'),\n",
       " (14, 'W'),\n",
       " (15, 'E'),\n",
       " (16, 'N'),\n",
       " (17, 'S'),\n",
       " (18, 'W'),\n",
       " (19, 'E'),\n",
       " (20, 'N'),\n",
       " (21, 'S'),\n",
       " (22, 'W'),\n",
       " (23, 'E'),\n",
       " (24, 'N'),\n",
       " (25, 'S'),\n",
       " (26, 'W'),\n",
       " (27, 'E'),\n",
       " (28, 'N'),\n",
       " (29, 'S')]"
      ]
     },
     "execution_count": 50,
     "metadata": {},
     "output_type": "execute_result"
    }
   ],
   "execution_count": 50
  },
  {
   "metadata": {
    "ExecuteTime": {
     "end_time": "2024-07-05T17:01:39.190152Z",
     "start_time": "2024-07-05T17:01:39.181949Z"
    }
   },
   "cell_type": "code",
   "source": [
    "class CyclicIterator:\n",
    "    def __init__(self, lst, length):\n",
    "        self.lst = lst\n",
    "        self.i = 0\n",
    "        self.length = length\n",
    "\n",
    "    def __iter__(self):\n",
    "        return self\n",
    "\n",
    "    def __next__(self):\n",
    "        if self.length == 0:\n",
    "            raise StopIteration\n",
    "        elif self.i == len(self.lst):\n",
    "            self.i = 0\n",
    "        result = self.lst[self.i]\n",
    "        self.i += 1\n",
    "        self.length -= 1\n",
    "        return result\n",
    "\n",
    "\n",
    "iter_cycl = CyclicIterator('NSWE', 5)\n",
    "[(index, letter) for index, letter in enumerate(iter_cycl)]"
   ],
   "id": "dc54a94add21d69a",
   "outputs": [
    {
     "data": {
      "text/plain": [
       "[(0, 'N'), (1, 'S'), (2, 'W'), (3, 'E'), (4, 'N')]"
      ]
     },
     "execution_count": 55,
     "metadata": {},
     "output_type": "execute_result"
    }
   ],
   "execution_count": 55
  },
  {
   "metadata": {
    "ExecuteTime": {
     "end_time": "2024-07-05T17:23:40.905640Z",
     "start_time": "2024-07-05T17:23:40.898479Z"
    }
   },
   "cell_type": "code",
   "source": [
    "class CyclicIterator:\n",
    "    def __init__(self, lst):\n",
    "        self.lst = lst\n",
    "        self.i = 0\n",
    "        \n",
    "    def __iter__(self):\n",
    "        return self\n",
    "\n",
    "    def __next__(self):\n",
    "        if self.i == len(self.lst): self.i = 0\n",
    "        result = self.lst[self.i]\n",
    "        self.i += 1\n",
    "        return result\n",
    "    \n",
    "    \n",
    "n = 10\n",
    "[f'{i}{letter}' for i, letter in zip(range(1, n+1), CyclicIterator('NSWE'))]"
   ],
   "id": "b7a2ba913009d0be",
   "outputs": [
    {
     "data": {
      "text/plain": [
       "['1N', '2S', '3W', '4E', '5N', '6S', '7W', '8E', '9N', '10S']"
      ]
     },
     "execution_count": 65,
     "metadata": {},
     "output_type": "execute_result"
    }
   ],
   "execution_count": 65
  },
  {
   "metadata": {
    "ExecuteTime": {
     "end_time": "2024-07-05T17:27:25.860709Z",
     "start_time": "2024-07-05T17:27:25.855233Z"
    }
   },
   "cell_type": "code",
   "source": [
    "n = 10\n",
    "[f'{i}{letter}' for i, letter in zip(range(1, n+1), 'NSWE' * (n // 4 + 1))]"
   ],
   "id": "5151c8bde957d6c7",
   "outputs": [
    {
     "data": {
      "text/plain": [
       "['1N', '2S', '3W', '4E', '5N', '6S', '7W', '8E', '9N', '10S']"
      ]
     },
     "execution_count": 66,
     "metadata": {},
     "output_type": "execute_result"
    }
   ],
   "execution_count": 66
  },
  {
   "metadata": {
    "ExecuteTime": {
     "end_time": "2024-07-05T17:27:57.827184Z",
     "start_time": "2024-07-05T17:27:57.823992Z"
    }
   },
   "cell_type": "code",
   "source": "import itertools",
   "id": "8b4162dc579badae",
   "outputs": [],
   "execution_count": 67
  },
  {
   "metadata": {
    "ExecuteTime": {
     "end_time": "2024-07-05T17:29:55.194393Z",
     "start_time": "2024-07-05T17:29:55.188420Z"
    }
   },
   "cell_type": "code",
   "source": [
    "n = 10\n",
    "iter_cycl = CyclicIterator('NSWE')\n",
    "[f'{i}{letter}' for i, letter in zip(range(1, n+1), iter_cycl)]"
   ],
   "id": "941bf2f06453db24",
   "outputs": [
    {
     "data": {
      "text/plain": [
       "['1N', '2S', '3W', '4E', '5N', '6S', '7W', '8E', '9N', '10S']"
      ]
     },
     "execution_count": 69,
     "metadata": {},
     "output_type": "execute_result"
    }
   ],
   "execution_count": 69
  },
  {
   "metadata": {
    "ExecuteTime": {
     "end_time": "2024-07-05T17:30:44.051359Z",
     "start_time": "2024-07-05T17:30:44.045684Z"
    }
   },
   "cell_type": "code",
   "source": [
    "n = 10\n",
    "iter_cycl = itertools.cycle('NSWE')\n",
    "[f'{i}{letter}' for i, letter in zip(range(1, n+1), iter_cycl)]"
   ],
   "id": "122eff62e426c66c",
   "outputs": [
    {
     "data": {
      "text/plain": [
       "['1N', '2S', '3W', '4E', '5N', '6S', '7W', '8E', '9N', '10S']"
      ]
     },
     "execution_count": 70,
     "metadata": {},
     "output_type": "execute_result"
    }
   ],
   "execution_count": 70
  },
  {
   "metadata": {
    "ExecuteTime": {
     "end_time": "2024-07-05T17:36:22.955388Z",
     "start_time": "2024-07-05T17:36:22.950743Z"
    }
   },
   "cell_type": "code",
   "source": [
    "class CyclicIterator:\n",
    "    def __init__(self, iterable):\n",
    "        self.iterable = iterable\n",
    "        self.iter = iter(iterable)\n",
    "        \n",
    "    def __iter__(self):\n",
    "        return self\n",
    "\n",
    "    def __next__(self):\n",
    "        try:\n",
    "            return next(self.iter)\n",
    "        except StopIteration:\n",
    "            self.iter = iter(self.iterable)\n",
    "            return next(self.iter)"
   ],
   "id": "ff6bc5a05fa4c31d",
   "outputs": [],
   "execution_count": 71
  },
  {
   "metadata": {
    "ExecuteTime": {
     "end_time": "2024-07-05T17:36:42.143591Z",
     "start_time": "2024-07-05T17:36:42.138449Z"
    }
   },
   "cell_type": "code",
   "source": [
    "iter_cycl = itertools.cycle('N')\n",
    "next(iter_cycl), next(iter_cycl)"
   ],
   "id": "e7116c6f9410724e",
   "outputs": [
    {
     "data": {
      "text/plain": [
       "('N', 'N')"
      ]
     },
     "execution_count": 73,
     "metadata": {},
     "output_type": "execute_result"
    }
   ],
   "execution_count": 73
  },
  {
   "metadata": {
    "ExecuteTime": {
     "end_time": "2024-07-05T17:36:46.640654Z",
     "start_time": "2024-07-05T17:36:46.636811Z"
    }
   },
   "cell_type": "code",
   "source": "next(iter_cycl), next(iter_cycl)",
   "id": "46112f9bedf17b86",
   "outputs": [
    {
     "data": {
      "text/plain": [
       "('N', 'N')"
      ]
     },
     "execution_count": 74,
     "metadata": {},
     "output_type": "execute_result"
    }
   ],
   "execution_count": 74
  },
  {
   "metadata": {},
   "cell_type": "code",
   "outputs": [],
   "execution_count": null,
   "source": "",
   "id": "76c27343aeb5b410"
  }
 ],
 "metadata": {
  "kernelspec": {
   "display_name": "Python 3",
   "language": "python",
   "name": "python3"
  },
  "language_info": {
   "codemirror_mode": {
    "name": "ipython",
    "version": 2
   },
   "file_extension": ".py",
   "mimetype": "text/x-python",
   "name": "python",
   "nbconvert_exporter": "python",
   "pygments_lexer": "ipython2",
   "version": "2.7.6"
  }
 },
 "nbformat": 4,
 "nbformat_minor": 5
}
