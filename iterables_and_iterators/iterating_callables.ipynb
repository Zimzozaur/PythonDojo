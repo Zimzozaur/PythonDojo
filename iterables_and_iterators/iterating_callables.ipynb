{
 "cells": [
  {
   "cell_type": "code",
   "id": "initial_id",
   "metadata": {
    "collapsed": true,
    "ExecuteTime": {
     "end_time": "2024-07-08T08:50:22.360034Z",
     "start_time": "2024-07-08T08:50:22.356443Z"
    }
   },
   "source": [
    "def counter():\n",
    "    i = 0\n",
    "    def inc():\n",
    "        nonlocal i\n",
    "        i += 1\n",
    "        return i\n",
    "    return inc"
   ],
   "outputs": [],
   "execution_count": 8
  },
  {
   "metadata": {
    "ExecuteTime": {
     "end_time": "2024-07-08T08:50:22.840631Z",
     "start_time": "2024-07-08T08:50:22.836097Z"
    }
   },
   "cell_type": "code",
   "source": "cnt = counter()",
   "id": "baef3380edd15830",
   "outputs": [],
   "execution_count": 9
  },
  {
   "metadata": {
    "ExecuteTime": {
     "end_time": "2024-07-08T08:50:24.148017Z",
     "start_time": "2024-07-08T08:50:24.141415Z"
    }
   },
   "cell_type": "code",
   "source": "cnt(), cnt(), cnt()",
   "id": "6c6a1455a623cf45",
   "outputs": [
    {
     "data": {
      "text/plain": [
       "(4, 5, 6)"
      ]
     },
     "execution_count": 11,
     "metadata": {},
     "output_type": "execute_result"
    }
   ],
   "execution_count": 11
  },
  {
   "metadata": {
    "ExecuteTime": {
     "end_time": "2024-07-08T08:51:51.481839Z",
     "start_time": "2024-07-08T08:51:51.477697Z"
    }
   },
   "cell_type": "code",
   "source": "iter_counter = iter(counter(), 10)",
   "id": "c431395074548492",
   "outputs": [],
   "execution_count": 22
  },
  {
   "metadata": {
    "ExecuteTime": {
     "end_time": "2024-07-08T08:51:51.663253Z",
     "start_time": "2024-07-08T08:51:51.655629Z"
    }
   },
   "cell_type": "code",
   "source": "list(iter_counter), list(iter_counter), type(iter_counter)",
   "id": "cf1d0c5d12cc86f6",
   "outputs": [
    {
     "data": {
      "text/plain": [
       "([1, 2, 3, 4, 5, 6, 7, 8, 9], [], callable_iterator)"
      ]
     },
     "execution_count": 23,
     "metadata": {},
     "output_type": "execute_result"
    }
   ],
   "execution_count": 23
  },
  {
   "metadata": {
    "ExecuteTime": {
     "end_time": "2024-07-08T08:54:50.155047Z",
     "start_time": "2024-07-08T08:54:50.150999Z"
    }
   },
   "cell_type": "code",
   "source": [
    "class CallableIterator:\n",
    "    def __init__(self, counter_callable):\n",
    "        self.counter_callable = counter_callable\n",
    "        \n",
    "    def __iter__(self):\n",
    "        return self\n",
    "    \n",
    "    def __next__(self):\n",
    "        return self.counter_callable()"
   ],
   "id": "2da13a641cf39c0a",
   "outputs": [],
   "execution_count": 32
  },
  {
   "metadata": {
    "ExecuteTime": {
     "end_time": "2024-07-08T08:54:50.626355Z",
     "start_time": "2024-07-08T08:54:50.622214Z"
    }
   },
   "cell_type": "code",
   "source": [
    "cnt = counter()\n",
    "cnt_iter = CallableIterator(cnt)"
   ],
   "id": "6cc76391bf9b5695",
   "outputs": [],
   "execution_count": 33
  },
  {
   "metadata": {
    "ExecuteTime": {
     "end_time": "2024-07-08T08:54:50.821842Z",
     "start_time": "2024-07-08T08:54:50.815554Z"
    }
   },
   "cell_type": "code",
   "source": "cnt_iter",
   "id": "ea0381c3516d262e",
   "outputs": [
    {
     "data": {
      "text/plain": [
       "<__main__.CallableIterator at 0x7f8cfc741c70>"
      ]
     },
     "execution_count": 34,
     "metadata": {},
     "output_type": "execute_result"
    }
   ],
   "execution_count": 34
  },
  {
   "metadata": {
    "ExecuteTime": {
     "end_time": "2024-07-08T08:55:04.926095Z",
     "start_time": "2024-07-08T08:55:04.921598Z"
    }
   },
   "cell_type": "code",
   "source": [
    "for _ in range(5):\n",
    "    print(next(cnt_iter))"
   ],
   "id": "9853014702361b87",
   "outputs": [
    {
     "name": "stdout",
     "output_type": "stream",
     "text": [
      "106\n",
      "107\n",
      "108\n",
      "109\n",
      "110\n"
     ]
    }
   ],
   "execution_count": 37
  },
  {
   "metadata": {
    "ExecuteTime": {
     "end_time": "2024-07-08T08:56:18.077595Z",
     "start_time": "2024-07-08T08:56:18.072378Z"
    }
   },
   "cell_type": "code",
   "source": [
    "class CallableIterator:\n",
    "    def __init__(self, counter_callable, sentinel):\n",
    "        self.counter_callable = counter_callable\n",
    "        self.sentinel = sentinel\n",
    "        \n",
    "    def __iter__(self):\n",
    "        return self\n",
    "    \n",
    "    def __next__(self):\n",
    "        result = self.counter_callable()\n",
    "        if result == self.sentinel:\n",
    "            raise StopIteration\n",
    "        else:\n",
    "            return result            "
   ],
   "id": "6cb59ad2271286a7",
   "outputs": [],
   "execution_count": 39
  },
  {
   "metadata": {
    "ExecuteTime": {
     "end_time": "2024-07-08T08:56:32.468110Z",
     "start_time": "2024-07-08T08:56:32.464698Z"
    }
   },
   "cell_type": "code",
   "source": "cnt = counter()",
   "id": "90e0060bd3ef5774",
   "outputs": [],
   "execution_count": 40
  },
  {
   "metadata": {
    "ExecuteTime": {
     "end_time": "2024-07-08T08:56:33.207056Z",
     "start_time": "2024-07-08T08:56:33.202980Z"
    }
   },
   "cell_type": "code",
   "source": "cnt",
   "id": "6106da663e96e7f2",
   "outputs": [
    {
     "data": {
      "text/plain": [
       "<function __main__.counter.<locals>.inc()>"
      ]
     },
     "execution_count": 41,
     "metadata": {},
     "output_type": "execute_result"
    }
   ],
   "execution_count": 41
  },
  {
   "metadata": {
    "ExecuteTime": {
     "end_time": "2024-07-08T08:56:48.092579Z",
     "start_time": "2024-07-08T08:56:48.089280Z"
    }
   },
   "cell_type": "code",
   "source": "cnt_iter = CallableIterator(cnt, 5)",
   "id": "74f6b4388ef30861",
   "outputs": [],
   "execution_count": 42
  },
  {
   "metadata": {
    "ExecuteTime": {
     "end_time": "2024-07-08T08:57:22.646894Z",
     "start_time": "2024-07-08T08:57:22.642645Z"
    }
   },
   "cell_type": "code",
   "source": [
    "for c in cnt_iter:\n",
    "    print(c)"
   ],
   "id": "ab606cbde73c66d6",
   "outputs": [
    {
     "name": "stdout",
     "output_type": "stream",
     "text": [
      "1\n",
      "2\n",
      "3\n",
      "4\n"
     ]
    }
   ],
   "execution_count": 43
  },
  {
   "metadata": {
    "ExecuteTime": {
     "end_time": "2024-07-08T08:57:36.856871Z",
     "start_time": "2024-07-08T08:57:36.852188Z"
    }
   },
   "cell_type": "code",
   "source": "next(cnt_iter)",
   "id": "f8214b0e2f785008",
   "outputs": [
    {
     "data": {
      "text/plain": [
       "6"
      ]
     },
     "execution_count": 44,
     "metadata": {},
     "output_type": "execute_result"
    }
   ],
   "execution_count": 44
  },
  {
   "metadata": {
    "ExecuteTime": {
     "end_time": "2024-07-08T08:59:58.230640Z",
     "start_time": "2024-07-08T08:59:58.225293Z"
    }
   },
   "cell_type": "code",
   "source": [
    "class CallableIterator:\n",
    "    def __init__(self, counter_callable, sentinel):\n",
    "        self.counter_callable = counter_callable\n",
    "        self.sentinel = sentinel\n",
    "        self.is_consumed = False\n",
    "        \n",
    "    def __iter__(self):\n",
    "        return self\n",
    "    \n",
    "    def __next__(self):\n",
    "        if self.is_consumed:\n",
    "            raise StopIteration\n",
    "        \n",
    "        result = self.counter_callable()\n",
    "        if result == self.sentinel:\n",
    "            self.is_consumed = True\n",
    "            raise StopIteration\n",
    "        else:\n",
    "            return result            "
   ],
   "id": "58ec9c263a60ad74",
   "outputs": [],
   "execution_count": 45
  },
  {
   "metadata": {
    "ExecuteTime": {
     "end_time": "2024-07-08T09:00:12.819531Z",
     "start_time": "2024-07-08T09:00:12.816339Z"
    }
   },
   "cell_type": "code",
   "source": [
    "cnt = counter()\n",
    "cnt_iter = CallableIterator(cnt, 5)"
   ],
   "id": "f502b850a975b946",
   "outputs": [],
   "execution_count": 46
  },
  {
   "metadata": {
    "ExecuteTime": {
     "end_time": "2024-07-08T09:00:20.097572Z",
     "start_time": "2024-07-08T09:00:20.093405Z"
    }
   },
   "cell_type": "code",
   "source": [
    "for c in cnt_iter:\n",
    "    print(c)"
   ],
   "id": "119c05fc65b34099",
   "outputs": [
    {
     "name": "stdout",
     "output_type": "stream",
     "text": [
      "1\n",
      "2\n",
      "3\n",
      "4\n"
     ]
    }
   ],
   "execution_count": 47
  },
  {
   "metadata": {
    "ExecuteTime": {
     "end_time": "2024-07-08T09:00:25.756063Z",
     "start_time": "2024-07-08T09:00:25.721846Z"
    }
   },
   "cell_type": "code",
   "source": "next(cnt_iter)",
   "id": "cb31156f1ef0918d",
   "outputs": [
    {
     "ename": "StopIteration",
     "evalue": "",
     "output_type": "error",
     "traceback": [
      "\u001B[0;31m---------------------------------------------------------------------------\u001B[0m",
      "\u001B[0;31mStopIteration\u001B[0m                             Traceback (most recent call last)",
      "Cell \u001B[0;32mIn[48], line 1\u001B[0m\n\u001B[0;32m----> 1\u001B[0m \u001B[38;5;28;43mnext\u001B[39;49m\u001B[43m(\u001B[49m\u001B[43mcnt_iter\u001B[49m\u001B[43m)\u001B[49m\n",
      "Cell \u001B[0;32mIn[45], line 12\u001B[0m, in \u001B[0;36mCallableIterator.__next__\u001B[0;34m(self)\u001B[0m\n\u001B[1;32m     10\u001B[0m \u001B[38;5;28;01mdef\u001B[39;00m \u001B[38;5;21m__next__\u001B[39m(\u001B[38;5;28mself\u001B[39m):\n\u001B[1;32m     11\u001B[0m     \u001B[38;5;28;01mif\u001B[39;00m \u001B[38;5;28mself\u001B[39m\u001B[38;5;241m.\u001B[39mis_consumed:\n\u001B[0;32m---> 12\u001B[0m         \u001B[38;5;28;01mraise\u001B[39;00m \u001B[38;5;167;01mStopIteration\u001B[39;00m\n\u001B[1;32m     14\u001B[0m     result \u001B[38;5;241m=\u001B[39m \u001B[38;5;28mself\u001B[39m\u001B[38;5;241m.\u001B[39mcounter_callable()\n\u001B[1;32m     15\u001B[0m     \u001B[38;5;28;01mif\u001B[39;00m result \u001B[38;5;241m==\u001B[39m \u001B[38;5;28mself\u001B[39m\u001B[38;5;241m.\u001B[39msentinel:\n",
      "\u001B[0;31mStopIteration\u001B[0m: "
     ]
    }
   ],
   "execution_count": 48
  },
  {
   "metadata": {
    "ExecuteTime": {
     "end_time": "2024-07-08T09:01:32.946506Z",
     "start_time": "2024-07-08T09:01:32.941701Z"
    }
   },
   "cell_type": "code",
   "source": [
    "class CallableIterator:\n",
    "    def __init__(self, fn, sentinel):\n",
    "        self.fn = fn\n",
    "        self.sentinel = sentinel\n",
    "        self.is_consumed = False\n",
    "        \n",
    "    def __iter__(self):\n",
    "        return self\n",
    "    \n",
    "    def __next__(self):\n",
    "        if self.is_consumed:\n",
    "            raise StopIteration\n",
    "        \n",
    "        result = self.fn()\n",
    "        if result == self.sentinel:\n",
    "            self.is_consumed = True\n",
    "            raise StopIteration\n",
    "        else:\n",
    "            return result            "
   ],
   "id": "55faa61e4d6a2804",
   "outputs": [],
   "execution_count": 49
  },
  {
   "metadata": {
    "ExecuteTime": {
     "end_time": "2024-07-08T09:01:39.086921Z",
     "start_time": "2024-07-08T09:01:39.083736Z"
    }
   },
   "cell_type": "code",
   "source": "cnt = counter()",
   "id": "2b5cb5beff3095da",
   "outputs": [],
   "execution_count": 50
  },
  {
   "metadata": {
    "ExecuteTime": {
     "end_time": "2024-07-08T09:01:52.917723Z",
     "start_time": "2024-07-08T09:01:52.914559Z"
    }
   },
   "cell_type": "code",
   "source": "cnt_iter = CallableIterator(cnt, 5)",
   "id": "32f1ba53f6669833",
   "outputs": [],
   "execution_count": 52
  },
  {
   "metadata": {
    "ExecuteTime": {
     "end_time": "2024-07-08T09:02:04.359191Z",
     "start_time": "2024-07-08T09:02:04.356014Z"
    }
   },
   "cell_type": "code",
   "source": [
    "for c in cnt_iter:\n",
    "    print(c)"
   ],
   "id": "1ffeb47997f2a494",
   "outputs": [
    {
     "name": "stdout",
     "output_type": "stream",
     "text": [
      "1\n",
      "2\n",
      "3\n",
      "4\n"
     ]
    }
   ],
   "execution_count": 53
  },
  {
   "metadata": {
    "ExecuteTime": {
     "end_time": "2024-07-08T09:05:11.277304Z",
     "start_time": "2024-07-08T09:05:11.274197Z"
    }
   },
   "cell_type": "code",
   "source": "from random import randint",
   "id": "5688ab72c86b8d5e",
   "outputs": [],
   "execution_count": 91
  },
  {
   "metadata": {
    "ExecuteTime": {
     "end_time": "2024-07-08T09:07:09.629085Z",
     "start_time": "2024-07-08T09:07:09.624342Z"
    }
   },
   "cell_type": "code",
   "source": [
    "class CallableIterator:\n",
    "    def __init__(self, fn, sentinel):\n",
    "        self.fn = fn\n",
    "        self.i = 0\n",
    "        self.sentinel = sentinel\n",
    "        self.is_consumed = False\n",
    "        \n",
    "    def __iter__(self):\n",
    "        return self\n",
    "    \n",
    "    def __next__(self):\n",
    "        if self.is_consumed:\n",
    "            raise StopIteration\n",
    "        elif self.i == self.sentinel:\n",
    "            self.is_consumed = True\n",
    "            raise StopIteration\n",
    "        self.i += 1\n",
    "        return self.fn()"
   ],
   "id": "89203b26a84edd75",
   "outputs": [],
   "execution_count": 103
  },
  {
   "metadata": {
    "ExecuteTime": {
     "end_time": "2024-07-08T09:07:35.066930Z",
     "start_time": "2024-07-08T09:07:35.063454Z"
    }
   },
   "cell_type": "code",
   "source": "nums = CallableIterator(lambda: randint(1, 11), 6)",
   "id": "2ebf7b76d8445e83",
   "outputs": [],
   "execution_count": 125
  },
  {
   "metadata": {
    "ExecuteTime": {
     "end_time": "2024-07-08T09:07:35.342463Z",
     "start_time": "2024-07-08T09:07:35.336319Z"
    }
   },
   "cell_type": "code",
   "source": "[num for num in nums]",
   "id": "af3850d82fed949e",
   "outputs": [
    {
     "data": {
      "text/plain": [
       "[9, 7, 6, 2, 11, 9]"
      ]
     },
     "execution_count": 126,
     "metadata": {},
     "output_type": "execute_result"
    }
   ],
   "execution_count": 126
  },
  {
   "metadata": {
    "ExecuteTime": {
     "end_time": "2024-07-08T09:08:09.883387Z",
     "start_time": "2024-07-08T09:08:09.879166Z"
    }
   },
   "cell_type": "code",
   "source": "help(iter)",
   "id": "f6e7da8dce972e45",
   "outputs": [
    {
     "name": "stdout",
     "output_type": "stream",
     "text": [
      "Help on built-in function iter in module builtins:\n",
      "\n",
      "iter(...)\n",
      "    Get an iterator from an object.\n",
      "\n",
      "    In the first form, the argument must supply its own iterator, or be a sequence.\n",
      "    In the second form, the callable is called until it returns the sentinel.\n",
      "\n"
     ]
    }
   ],
   "execution_count": 127
  },
  {
   "metadata": {
    "ExecuteTime": {
     "end_time": "2024-07-08T09:09:13.701998Z",
     "start_time": "2024-07-08T09:09:13.698606Z"
    }
   },
   "cell_type": "code",
   "source": "cnt = counter()",
   "id": "32466a9039cffc03",
   "outputs": [],
   "execution_count": 128
  },
  {
   "metadata": {
    "ExecuteTime": {
     "end_time": "2024-07-08T09:09:29.498437Z",
     "start_time": "2024-07-08T09:09:29.495621Z"
    }
   },
   "cell_type": "code",
   "source": "cnt_iter = iter(cnt, 6)",
   "id": "58a9c425b734bcb0",
   "outputs": [],
   "execution_count": 129
  },
  {
   "metadata": {
    "ExecuteTime": {
     "end_time": "2024-07-08T09:09:35.688659Z",
     "start_time": "2024-07-08T09:09:35.683674Z"
    }
   },
   "cell_type": "code",
   "source": "list(cnt_iter)",
   "id": "981728954f779a0b",
   "outputs": [
    {
     "data": {
      "text/plain": [
       "[1, 2, 3, 4, 5]"
      ]
     },
     "execution_count": 130,
     "metadata": {},
     "output_type": "execute_result"
    }
   ],
   "execution_count": 130
  },
  {
   "metadata": {
    "ExecuteTime": {
     "end_time": "2024-07-08T09:09:55.648916Z",
     "start_time": "2024-07-08T09:09:55.629426Z"
    }
   },
   "cell_type": "code",
   "source": "next(cnt)",
   "id": "ba61bfded85be07f",
   "outputs": [
    {
     "ename": "TypeError",
     "evalue": "'function' object is not an iterator",
     "output_type": "error",
     "traceback": [
      "\u001B[0;31m---------------------------------------------------------------------------\u001B[0m",
      "\u001B[0;31mTypeError\u001B[0m                                 Traceback (most recent call last)",
      "Cell \u001B[0;32mIn[131], line 1\u001B[0m\n\u001B[0;32m----> 1\u001B[0m \u001B[38;5;28;43mnext\u001B[39;49m\u001B[43m(\u001B[49m\u001B[43mcnt\u001B[49m\u001B[43m)\u001B[49m\n",
      "\u001B[0;31mTypeError\u001B[0m: 'function' object is not an iterator"
     ]
    }
   ],
   "execution_count": 131
  },
  {
   "metadata": {
    "ExecuteTime": {
     "end_time": "2024-07-08T09:15:48.725800Z",
     "start_time": "2024-07-08T09:15:48.722698Z"
    }
   },
   "cell_type": "code",
   "source": "import random",
   "id": "acb0519f59858ad6",
   "outputs": [],
   "execution_count": 159
  },
  {
   "metadata": {
    "ExecuteTime": {
     "end_time": "2024-07-08T09:15:56.565414Z",
     "start_time": "2024-07-08T09:15:56.562339Z"
    }
   },
   "cell_type": "code",
   "source": [
    "random.seed(0)\n",
    "random_iter = iter(lambda: random.randint(0, 10), 8)"
   ],
   "id": "1b2198e5eac25b1e",
   "outputs": [],
   "execution_count": 162
  },
  {
   "metadata": {
    "ExecuteTime": {
     "end_time": "2024-07-08T09:15:56.740752Z",
     "start_time": "2024-07-08T09:15:56.735329Z"
    }
   },
   "cell_type": "code",
   "source": "list(random_iter)",
   "id": "230745966bad0808",
   "outputs": [
    {
     "data": {
      "text/plain": [
       "[6, 6, 0, 4]"
      ]
     },
     "execution_count": 163,
     "metadata": {},
     "output_type": "execute_result"
    }
   ],
   "execution_count": 163
  },
  {
   "metadata": {
    "ExecuteTime": {
     "end_time": "2024-07-08T09:17:05.790423Z",
     "start_time": "2024-07-08T09:17:05.786390Z"
    }
   },
   "cell_type": "code",
   "source": [
    "def countdown(start=10):\n",
    "    def run():\n",
    "        nonlocal start\n",
    "        start -= 1\n",
    "        return start\n",
    "    return run"
   ],
   "id": "dba65a3d7d9879fc",
   "outputs": [],
   "execution_count": 164
  },
  {
   "metadata": {
    "ExecuteTime": {
     "end_time": "2024-07-08T09:17:16.490564Z",
     "start_time": "2024-07-08T09:17:16.487753Z"
    }
   },
   "cell_type": "code",
   "source": "takeoff = countdown(10)",
   "id": "85bbef30de72e95f",
   "outputs": [],
   "execution_count": 165
  },
  {
   "metadata": {
    "ExecuteTime": {
     "end_time": "2024-07-08T09:17:31.103386Z",
     "start_time": "2024-07-08T09:17:31.099851Z"
    }
   },
   "cell_type": "code",
   "source": [
    "for _ in range(15):\n",
    "    print(takeoff())"
   ],
   "id": "8cb17fddcee9470b",
   "outputs": [
    {
     "name": "stdout",
     "output_type": "stream",
     "text": [
      "9\n",
      "8\n",
      "7\n",
      "6\n",
      "5\n",
      "4\n",
      "3\n",
      "2\n",
      "1\n",
      "0\n",
      "-1\n",
      "-2\n",
      "-3\n",
      "-4\n",
      "-5\n"
     ]
    }
   ],
   "execution_count": 167
  },
  {
   "metadata": {
    "ExecuteTime": {
     "end_time": "2024-07-08T09:18:38.253533Z",
     "start_time": "2024-07-08T09:18:38.248557Z"
    }
   },
   "cell_type": "code",
   "source": [
    "takeoff = countdown(10)\n",
    "list(iter(lambda: takeoff(), 0))"
   ],
   "id": "e5fcb8f9de513933",
   "outputs": [
    {
     "data": {
      "text/plain": [
       "[9, 8, 7, 6, 5, 4, 3, 2, 1]"
      ]
     },
     "execution_count": 168,
     "metadata": {},
     "output_type": "execute_result"
    }
   ],
   "execution_count": 168
  },
  {
   "metadata": {},
   "cell_type": "code",
   "outputs": [],
   "execution_count": null,
   "source": "",
   "id": "62f78ebf33ab193e"
  }
 ],
 "metadata": {
  "kernelspec": {
   "display_name": "Python 3",
   "language": "python",
   "name": "python3"
  },
  "language_info": {
   "codemirror_mode": {
    "name": "ipython",
    "version": 2
   },
   "file_extension": ".py",
   "mimetype": "text/x-python",
   "name": "python",
   "nbconvert_exporter": "python",
   "pygments_lexer": "ipython2",
   "version": "2.7.6"
  }
 },
 "nbformat": 4,
 "nbformat_minor": 5
}
