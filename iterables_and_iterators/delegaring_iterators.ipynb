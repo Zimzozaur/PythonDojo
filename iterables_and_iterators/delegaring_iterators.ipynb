{
 "cells": [
  {
   "cell_type": "code",
   "id": "initial_id",
   "metadata": {
    "collapsed": true,
    "ExecuteTime": {
     "end_time": "2024-07-08T10:26:52.728890Z",
     "start_time": "2024-07-08T10:26:52.725761Z"
    }
   },
   "source": "from collections import namedtuple",
   "outputs": [],
   "execution_count": 2
  },
  {
   "metadata": {
    "ExecuteTime": {
     "end_time": "2024-07-08T10:29:41.975958Z",
     "start_time": "2024-07-08T10:29:41.972842Z"
    }
   },
   "cell_type": "code",
   "source": "Person = namedtuple('Person', 'first last')",
   "id": "879bd6991f07b219",
   "outputs": [],
   "execution_count": 4
  },
  {
   "metadata": {
    "ExecuteTime": {
     "end_time": "2024-07-08T10:35:58.280515Z",
     "start_time": "2024-07-08T10:35:58.274806Z"
    }
   },
   "cell_type": "code",
   "source": [
    "class PersonNames:\n",
    "    def __init__(self, persons: Person):\n",
    "        try:\n",
    "            self.persons = [\n",
    "                f'{person.first.capitalize()} {person.last.capitalize()}'\n",
    "                for person in persons\n",
    "            ]\n",
    "        except (TypeError, AttributeError):\n",
    "            self.persons = []"
   ],
   "id": "bb55b74fcacea22d",
   "outputs": [],
   "execution_count": 12
  },
  {
   "metadata": {
    "ExecuteTime": {
     "end_time": "2024-07-08T10:36:31.984113Z",
     "start_time": "2024-07-08T10:36:31.980628Z"
    }
   },
   "cell_type": "code",
   "source": "persons = [Person(\"mario\", \"italiano\"), Person('luiGi', 'guccI')]",
   "id": "6e8eb5f76adb916f",
   "outputs": [],
   "execution_count": 18
  },
  {
   "metadata": {
    "ExecuteTime": {
     "end_time": "2024-07-08T10:36:32.239422Z",
     "start_time": "2024-07-08T10:36:32.235581Z"
    }
   },
   "cell_type": "code",
   "source": "person_names = PersonNames(persons)",
   "id": "cc7bd4b687087d10",
   "outputs": [],
   "execution_count": 19
  },
  {
   "metadata": {
    "ExecuteTime": {
     "end_time": "2024-07-08T10:36:32.466148Z",
     "start_time": "2024-07-08T10:36:32.459830Z"
    }
   },
   "cell_type": "code",
   "source": "person_names.persons",
   "id": "87bf496c884ff3ee",
   "outputs": [
    {
     "data": {
      "text/plain": [
       "['Mario Italiano', 'Luigi Gucci']"
      ]
     },
     "execution_count": 20,
     "metadata": {},
     "output_type": "execute_result"
    }
   ],
   "execution_count": 20
  },
  {
   "metadata": {
    "ExecuteTime": {
     "end_time": "2024-07-08T10:36:57.187264Z",
     "start_time": "2024-07-08T10:36:57.183435Z"
    }
   },
   "cell_type": "code",
   "source": [
    "for name in person_names.persons:\n",
    "    print(name)"
   ],
   "id": "face626390142004",
   "outputs": [
    {
     "name": "stdout",
     "output_type": "stream",
     "text": [
      "Mario Italiano\n",
      "Luigi Gucci\n"
     ]
    }
   ],
   "execution_count": 22
  },
  {
   "metadata": {
    "ExecuteTime": {
     "end_time": "2024-07-08T10:37:35.325716Z",
     "start_time": "2024-07-08T10:37:35.322024Z"
    }
   },
   "cell_type": "code",
   "source": [
    "class PersonNames:\n",
    "    def __init__(self, persons: Person):\n",
    "        try:\n",
    "            self.persons = [\n",
    "                f'{person.first.capitalize()} {person.last.capitalize()}'\n",
    "                for person in persons\n",
    "            ]\n",
    "        except (TypeError, AttributeError):\n",
    "            self.persons = []\n",
    "            \n",
    "    def __iter__(self):\n",
    "        return iter(self.persons)"
   ],
   "id": "6b197eacdb52f8c2",
   "outputs": [],
   "execution_count": 23
  },
  {
   "metadata": {
    "ExecuteTime": {
     "end_time": "2024-07-08T10:37:50.670125Z",
     "start_time": "2024-07-08T10:37:50.666458Z"
    }
   },
   "cell_type": "code",
   "source": [
    "persons = [Person(\"mario\", \"italiano\"), Person('luiGi', 'guccI')]\n",
    "person_names = PersonNames(persons)"
   ],
   "id": "8ff75169bd277a4d",
   "outputs": [],
   "execution_count": 25
  },
  {
   "metadata": {
    "ExecuteTime": {
     "end_time": "2024-07-08T10:37:56.758815Z",
     "start_time": "2024-07-08T10:37:56.754665Z"
    }
   },
   "cell_type": "code",
   "source": [
    "for name in person_names:\n",
    "    print(name)"
   ],
   "id": "3611371ae48224cf",
   "outputs": [
    {
     "name": "stdout",
     "output_type": "stream",
     "text": [
      "Mario Italiano\n",
      "Luigi Gucci\n"
     ]
    }
   ],
   "execution_count": 26
  }
 ],
 "metadata": {
  "kernelspec": {
   "display_name": "Python 3",
   "language": "python",
   "name": "python3"
  },
  "language_info": {
   "codemirror_mode": {
    "name": "ipython",
    "version": 2
   },
   "file_extension": ".py",
   "mimetype": "text/x-python",
   "name": "python",
   "nbconvert_exporter": "python",
   "pygments_lexer": "ipython2",
   "version": "2.7.6"
  }
 },
 "nbformat": 4,
 "nbformat_minor": 5
}
