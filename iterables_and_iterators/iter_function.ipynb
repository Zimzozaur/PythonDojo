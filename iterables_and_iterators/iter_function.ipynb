{
 "cells": [
  {
   "cell_type": "code",
   "id": "initial_id",
   "metadata": {
    "collapsed": true,
    "ExecuteTime": {
     "end_time": "2024-07-08T07:56:35.175783Z",
     "start_time": "2024-07-08T07:56:35.171494Z"
    }
   },
   "source": [
    "l = [1, 2, 3, 4]\n",
    "l_iter = iter(l)"
   ],
   "outputs": [],
   "execution_count": 1
  },
  {
   "metadata": {
    "ExecuteTime": {
     "end_time": "2024-07-08T07:56:38.218531Z",
     "start_time": "2024-07-08T07:56:38.211935Z"
    }
   },
   "cell_type": "code",
   "source": "type(l_iter)",
   "id": "5cfd905cc137fa6",
   "outputs": [
    {
     "data": {
      "text/plain": [
       "list_iterator"
      ]
     },
     "execution_count": 2,
     "metadata": {},
     "output_type": "execute_result"
    }
   ],
   "execution_count": 2
  },
  {
   "metadata": {
    "ExecuteTime": {
     "end_time": "2024-07-08T07:56:55.011184Z",
     "start_time": "2024-07-08T07:56:55.005802Z"
    }
   },
   "cell_type": "code",
   "source": "next(l_iter), next(l_iter)",
   "id": "c5b3311dbb4a4cd6",
   "outputs": [
    {
     "data": {
      "text/plain": [
       "(2, 3)"
      ]
     },
     "execution_count": 4,
     "metadata": {},
     "output_type": "execute_result"
    }
   ],
   "execution_count": 4
  },
  {
   "metadata": {
    "ExecuteTime": {
     "end_time": "2024-07-08T08:10:48.440917Z",
     "start_time": "2024-07-08T08:10:48.436676Z"
    }
   },
   "cell_type": "code",
   "source": [
    "class Squares:\n",
    "    def __init__(self, n):\n",
    "        self._n = n\n",
    "        \n",
    "    def __len__(self):\n",
    "        return self._n\n",
    "    \n",
    "    def __getitem__(self, item):\n",
    "        if item >= self._n:\n",
    "            raise IndexError\n",
    "        else:\n",
    "            return item ** 2"
   ],
   "id": "d692c36866ed85b5",
   "outputs": [],
   "execution_count": 54
  },
  {
   "metadata": {
    "ExecuteTime": {
     "end_time": "2024-07-08T08:08:03.377837Z",
     "start_time": "2024-07-08T08:08:03.374055Z"
    }
   },
   "cell_type": "code",
   "source": "sq = Squares(5)",
   "id": "99acd98e84caf8a4",
   "outputs": [
    {
     "name": "stdout",
     "output_type": "stream",
     "text": [
      "5\n"
     ]
    }
   ],
   "execution_count": 37
  },
  {
   "metadata": {
    "ExecuteTime": {
     "end_time": "2024-07-08T08:08:03.672927Z",
     "start_time": "2024-07-08T08:08:03.666851Z"
    }
   },
   "cell_type": "code",
   "source": "list(sq)",
   "id": "f1d6bf9cd31ab154",
   "outputs": [
    {
     "data": {
      "text/plain": [
       "[0, 1, 4, 9, 16]"
      ]
     },
     "execution_count": 38,
     "metadata": {},
     "output_type": "execute_result"
    }
   ],
   "execution_count": 38
  },
  {
   "metadata": {
    "ExecuteTime": {
     "end_time": "2024-07-08T08:09:11.469174Z",
     "start_time": "2024-07-08T08:09:11.464068Z"
    }
   },
   "cell_type": "code",
   "source": [
    "sq_iter = iter(sq)\n",
    "sq_iter"
   ],
   "id": "df6c6974d93e293c",
   "outputs": [
    {
     "data": {
      "text/plain": [
       "<iterator at 0x7fa1e2bcd4b0>"
      ]
     },
     "execution_count": 46,
     "metadata": {},
     "output_type": "execute_result"
    }
   ],
   "execution_count": 46
  },
  {
   "metadata": {
    "ExecuteTime": {
     "end_time": "2024-07-08T08:09:11.604901Z",
     "start_time": "2024-07-08T08:09:11.599199Z"
    }
   },
   "cell_type": "code",
   "source": "next(sq_iter), next(sq_iter), next(sq_iter), next(sq_iter)",
   "id": "5216d3e2e402f205",
   "outputs": [
    {
     "data": {
      "text/plain": [
       "(0, 1, 4, 9)"
      ]
     },
     "execution_count": 47,
     "metadata": {},
     "output_type": "execute_result"
    }
   ],
   "execution_count": 47
  },
  {
   "metadata": {
    "ExecuteTime": {
     "end_time": "2024-07-08T08:10:50.000626Z",
     "start_time": "2024-07-08T08:10:49.995481Z"
    }
   },
   "cell_type": "code",
   "source": [
    "class Squares:\n",
    "    def __init__(self, n):\n",
    "        self._n = n\n",
    "        \n",
    "    def __len__(self):\n",
    "        return self._n"
   ],
   "id": "dec536aaf58f6a7c",
   "outputs": [],
   "execution_count": 55
  },
  {
   "metadata": {
    "ExecuteTime": {
     "end_time": "2024-07-08T08:10:50.287516Z",
     "start_time": "2024-07-08T08:10:50.265441Z"
    }
   },
   "cell_type": "code",
   "source": "iter(Squares(5))",
   "id": "4b094027b103347e",
   "outputs": [
    {
     "ename": "TypeError",
     "evalue": "'Squares' object is not iterable",
     "output_type": "error",
     "traceback": [
      "\u001B[0;31m---------------------------------------------------------------------------\u001B[0m",
      "\u001B[0;31mTypeError\u001B[0m                                 Traceback (most recent call last)",
      "Cell \u001B[0;32mIn[56], line 1\u001B[0m\n\u001B[0;32m----> 1\u001B[0m \u001B[38;5;28;43miter\u001B[39;49m\u001B[43m(\u001B[49m\u001B[43mSquares\u001B[49m\u001B[43m(\u001B[49m\u001B[38;5;241;43m5\u001B[39;49m\u001B[43m)\u001B[49m\u001B[43m)\u001B[49m\n",
      "\u001B[0;31mTypeError\u001B[0m: 'Squares' object is not iterable"
     ]
    }
   ],
   "execution_count": 56
  },
  {
   "metadata": {
    "ExecuteTime": {
     "end_time": "2024-07-08T08:18:47.504241Z",
     "start_time": "2024-07-08T08:18:47.499734Z"
    }
   },
   "cell_type": "code",
   "source": [
    "class Squares:\n",
    "    def __init__(self, n):\n",
    "        self._n = n\n",
    "        \n",
    "    def __len__(self):\n",
    "        return self._n\n",
    "    \n",
    "    def __getitem__(self, item):\n",
    "        if item >= self._n:\n",
    "            raise IndexError\n",
    "        else:\n",
    "            return item ** 2"
   ],
   "id": "9a471fc4e1c2d56a",
   "outputs": [],
   "execution_count": 70
  },
  {
   "metadata": {
    "ExecuteTime": {
     "end_time": "2024-07-08T08:19:04.940947Z",
     "start_time": "2024-07-08T08:19:04.936028Z"
    }
   },
   "cell_type": "code",
   "source": [
    "class SquaresIterator:\n",
    "    def __init__(self, squares):\n",
    "        self._squares = squares\n",
    "        self._i = 0\n",
    "        \n",
    "    def __iter__(self):\n",
    "        return self\n",
    "    \n",
    "    def __next__(self):\n",
    "        if self._i >= len(self._squares):\n",
    "            raise StopIteration\n",
    "        result = self._squares[self._i]\n",
    "        self._i += 1\n",
    "        return result"
   ],
   "id": "5d4ee4935f532244",
   "outputs": [],
   "execution_count": 78
  },
  {
   "metadata": {
    "ExecuteTime": {
     "end_time": "2024-07-08T08:19:05.104985Z",
     "start_time": "2024-07-08T08:19:05.100542Z"
    }
   },
   "cell_type": "code",
   "source": "sq = Squares(5)",
   "id": "2192079f6fa3376e",
   "outputs": [],
   "execution_count": 79
  },
  {
   "metadata": {
    "ExecuteTime": {
     "end_time": "2024-07-08T08:19:05.235318Z",
     "start_time": "2024-07-08T08:19:05.230038Z"
    }
   },
   "cell_type": "code",
   "source": "sq_iter = SquaresIterator(sq)",
   "id": "ce8c64dd060d7c8a",
   "outputs": [],
   "execution_count": 80
  },
  {
   "metadata": {
    "ExecuteTime": {
     "end_time": "2024-07-08T08:19:05.615872Z",
     "start_time": "2024-07-08T08:19:05.609128Z"
    }
   },
   "cell_type": "code",
   "source": "next(sq_iter), next(sq_iter), next(sq_iter), next(sq_iter), next(sq_iter)",
   "id": "9f75e90eb3186b53",
   "outputs": [
    {
     "data": {
      "text/plain": [
       "(0, 1, 4, 9, 16)"
      ]
     },
     "execution_count": 81,
     "metadata": {},
     "output_type": "execute_result"
    }
   ],
   "execution_count": 81
  },
  {
   "metadata": {
    "ExecuteTime": {
     "end_time": "2024-07-08T08:19:12.465085Z",
     "start_time": "2024-07-08T08:19:12.432393Z"
    }
   },
   "cell_type": "code",
   "source": "next(sq_iter)",
   "id": "f54493cb0ff5ea50",
   "outputs": [
    {
     "ename": "StopIteration",
     "evalue": "",
     "output_type": "error",
     "traceback": [
      "\u001B[0;31m---------------------------------------------------------------------------\u001B[0m",
      "\u001B[0;31mStopIteration\u001B[0m                             Traceback (most recent call last)",
      "Cell \u001B[0;32mIn[82], line 1\u001B[0m\n\u001B[0;32m----> 1\u001B[0m \u001B[38;5;28;43mnext\u001B[39;49m\u001B[43m(\u001B[49m\u001B[43msq_iter\u001B[49m\u001B[43m)\u001B[49m\n",
      "Cell \u001B[0;32mIn[78], line 11\u001B[0m, in \u001B[0;36mSquaresIterator.__next__\u001B[0;34m(self)\u001B[0m\n\u001B[1;32m      9\u001B[0m \u001B[38;5;28;01mdef\u001B[39;00m \u001B[38;5;21m__next__\u001B[39m(\u001B[38;5;28mself\u001B[39m):\n\u001B[1;32m     10\u001B[0m     \u001B[38;5;28;01mif\u001B[39;00m \u001B[38;5;28mself\u001B[39m\u001B[38;5;241m.\u001B[39m_i \u001B[38;5;241m>\u001B[39m\u001B[38;5;241m=\u001B[39m \u001B[38;5;28mlen\u001B[39m(\u001B[38;5;28mself\u001B[39m\u001B[38;5;241m.\u001B[39m_squares):\n\u001B[0;32m---> 11\u001B[0m         \u001B[38;5;28;01mraise\u001B[39;00m \u001B[38;5;167;01mStopIteration\u001B[39;00m\n\u001B[1;32m     12\u001B[0m     result \u001B[38;5;241m=\u001B[39m \u001B[38;5;28mself\u001B[39m\u001B[38;5;241m.\u001B[39m_squares[\u001B[38;5;28mself\u001B[39m\u001B[38;5;241m.\u001B[39m_i]\n\u001B[1;32m     13\u001B[0m     \u001B[38;5;28mself\u001B[39m\u001B[38;5;241m.\u001B[39m_i \u001B[38;5;241m+\u001B[39m\u001B[38;5;241m=\u001B[39m \u001B[38;5;241m1\u001B[39m\n",
      "\u001B[0;31mStopIteration\u001B[0m: "
     ]
    }
   ],
   "execution_count": 82
  },
  {
   "metadata": {
    "ExecuteTime": {
     "end_time": "2024-07-08T08:21:56.551927Z",
     "start_time": "2024-07-08T08:21:56.547228Z"
    }
   },
   "cell_type": "code",
   "source": [
    "class SequenceIterator:\n",
    "    def __init__(self, sequence):\n",
    "        self._sequence = sequence\n",
    "        self._i = 0\n",
    "        \n",
    "    def __iter__(self):\n",
    "        return self\n",
    "    \n",
    "    def __next__(self):\n",
    "        if self._i >= len(self._sequence):\n",
    "            raise StopIteration\n",
    "        result = self._sequence[self._i]\n",
    "        self._i += 1\n",
    "        return result"
   ],
   "id": "f96090d74f89d760",
   "outputs": [],
   "execution_count": 83
  },
  {
   "metadata": {
    "ExecuteTime": {
     "end_time": "2024-07-08T08:22:19.115625Z",
     "start_time": "2024-07-08T08:22:19.112285Z"
    }
   },
   "cell_type": "code",
   "source": [
    "class SimpleIter:\n",
    "    def __init__(self):\n",
    "        pass\n",
    "    \n",
    "    def __iter__(self):\n",
    "        return 'Nope'"
   ],
   "id": "803ac60648593e98",
   "outputs": [],
   "execution_count": 84
  },
  {
   "metadata": {
    "ExecuteTime": {
     "end_time": "2024-07-08T08:22:30.763698Z",
     "start_time": "2024-07-08T08:22:30.760406Z"
    }
   },
   "cell_type": "code",
   "source": "s = SimpleIter()",
   "id": "3d269ef98ed6ad98",
   "outputs": [],
   "execution_count": 85
  },
  {
   "metadata": {
    "ExecuteTime": {
     "end_time": "2024-07-08T08:22:40.519443Z",
     "start_time": "2024-07-08T08:22:40.514800Z"
    }
   },
   "cell_type": "code",
   "source": "'__iter__' in dir(s)",
   "id": "2ef9677d1d19334e",
   "outputs": [
    {
     "data": {
      "text/plain": [
       "True"
      ]
     },
     "execution_count": 86,
     "metadata": {},
     "output_type": "execute_result"
    }
   ],
   "execution_count": 86
  },
  {
   "metadata": {
    "ExecuteTime": {
     "end_time": "2024-07-08T08:22:45.019577Z",
     "start_time": "2024-07-08T08:22:44.993869Z"
    }
   },
   "cell_type": "code",
   "source": "iter(s)",
   "id": "4c09b33e5d741b25",
   "outputs": [
    {
     "ename": "TypeError",
     "evalue": "iter() returned non-iterator of type 'str'",
     "output_type": "error",
     "traceback": [
      "\u001B[0;31m---------------------------------------------------------------------------\u001B[0m",
      "\u001B[0;31mTypeError\u001B[0m                                 Traceback (most recent call last)",
      "Cell \u001B[0;32mIn[87], line 1\u001B[0m\n\u001B[0;32m----> 1\u001B[0m \u001B[38;5;28;43miter\u001B[39;49m\u001B[43m(\u001B[49m\u001B[43ms\u001B[49m\u001B[43m)\u001B[49m\n",
      "\u001B[0;31mTypeError\u001B[0m: iter() returned non-iterator of type 'str'"
     ]
    }
   ],
   "execution_count": 87
  },
  {
   "metadata": {
    "ExecuteTime": {
     "end_time": "2024-07-08T08:23:54.761744Z",
     "start_time": "2024-07-08T08:23:54.757984Z"
    }
   },
   "cell_type": "code",
   "source": [
    "def is_iterable(obj):\n",
    "    try:\n",
    "        iter(obj)\n",
    "        return True\n",
    "    except TypeError:\n",
    "        return False"
   ],
   "id": "c2c26f4c2953454a",
   "outputs": [],
   "execution_count": 88
  },
  {
   "metadata": {
    "ExecuteTime": {
     "end_time": "2024-07-08T08:23:59.624268Z",
     "start_time": "2024-07-08T08:23:59.620224Z"
    }
   },
   "cell_type": "code",
   "source": "is_iterable(s)",
   "id": "b287acb3d7c9d606",
   "outputs": [
    {
     "data": {
      "text/plain": [
       "False"
      ]
     },
     "execution_count": 89,
     "metadata": {},
     "output_type": "execute_result"
    }
   ],
   "execution_count": 89
  },
  {
   "metadata": {
    "ExecuteTime": {
     "end_time": "2024-07-08T08:24:09.368996Z",
     "start_time": "2024-07-08T08:24:09.363453Z"
    }
   },
   "cell_type": "code",
   "source": "is_iterable(Squares(5))",
   "id": "6ceba504f8fca741",
   "outputs": [
    {
     "data": {
      "text/plain": [
       "True"
      ]
     },
     "execution_count": 90,
     "metadata": {},
     "output_type": "execute_result"
    }
   ],
   "execution_count": 90
  },
  {
   "metadata": {},
   "cell_type": "markdown",
   "source": "# Look before you leap",
   "id": "9f958d68fd166a45"
  },
  {
   "metadata": {
    "ExecuteTime": {
     "end_time": "2024-07-08T08:27:18.850479Z",
     "start_time": "2024-07-08T08:27:18.846264Z"
    }
   },
   "cell_type": "code",
   "source": [
    "obj = 100\n",
    "if is_iterable(obj):\n",
    "    for i in obj:\n",
    "        print(i)\n",
    "else:\n",
    "    print('Error obj is not iterable')"
   ],
   "id": "11d9b77d97586760",
   "outputs": [
    {
     "name": "stdout",
     "output_type": "stream",
     "text": [
      "Error obj is not iterable\n"
     ]
    }
   ],
   "execution_count": 93
  },
  {
   "metadata": {},
   "cell_type": "markdown",
   "source": "# Ask for forgiveness letter - Grace Hoper",
   "id": "28d8bf778f786074"
  },
  {
   "metadata": {
    "ExecuteTime": {
     "end_time": "2024-07-08T08:28:17.406234Z",
     "start_time": "2024-07-08T08:28:17.401865Z"
    }
   },
   "cell_type": "code",
   "source": [
    "obj = 100\n",
    "try:\n",
    "    for i in obj:\n",
    "        print(i)\n",
    "except TypeError:\n",
    "    print('Error obj is not iterable')"
   ],
   "id": "2e41a5596201e6ad",
   "outputs": [
    {
     "name": "stdout",
     "output_type": "stream",
     "text": [
      "Error obj is not iterable\n"
     ]
    }
   ],
   "execution_count": 94
  },
  {
   "metadata": {},
   "cell_type": "code",
   "outputs": [],
   "execution_count": null,
   "source": "",
   "id": "ff2423101bf1d754"
  }
 ],
 "metadata": {
  "kernelspec": {
   "display_name": "Python 3",
   "language": "python",
   "name": "python3"
  },
  "language_info": {
   "codemirror_mode": {
    "name": "ipython",
    "version": 2
   },
   "file_extension": ".py",
   "mimetype": "text/x-python",
   "name": "python",
   "nbconvert_exporter": "python",
   "pygments_lexer": "ipython2",
   "version": "2.7.6"
  }
 },
 "nbformat": 4,
 "nbformat_minor": 5
}
