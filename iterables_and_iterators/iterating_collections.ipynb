{
 "cells": [
  {
   "cell_type": "code",
   "id": "initial_id",
   "metadata": {
    "collapsed": true,
    "ExecuteTime": {
     "end_time": "2024-07-05T09:11:29.202106Z",
     "start_time": "2024-07-05T09:11:29.198614Z"
    }
   },
   "source": "s = {'b', 'x', 't', 'a', 'h', 'd'}",
   "outputs": [],
   "execution_count": 9
  },
  {
   "metadata": {
    "ExecuteTime": {
     "end_time": "2024-07-05T09:12:17.718137Z",
     "start_time": "2024-07-05T09:12:17.714131Z"
    }
   },
   "cell_type": "code",
   "source": [
    "for item in s:\n",
    "    print(item)"
   ],
   "id": "382a2e88a6fb769b",
   "outputs": [
    {
     "name": "stdout",
     "output_type": "stream",
     "text": [
      "t\n",
      "h\n",
      "d\n",
      "x\n",
      "a\n",
      "b\n"
     ]
    }
   ],
   "execution_count": 17
  },
  {
   "metadata": {
    "ExecuteTime": {
     "end_time": "2024-07-05T09:15:23.537365Z",
     "start_time": "2024-07-05T09:15:23.533585Z"
    }
   },
   "cell_type": "code",
   "source": [
    "class Squares:\n",
    "    def __init__(self):\n",
    "        self.i = 0\n",
    "        \n",
    "    def next_(self):\n",
    "        result = self.i ** 2\n",
    "        self.i += 1\n",
    "        return result"
   ],
   "id": "5fdb9a161de894c1",
   "outputs": [],
   "execution_count": 23
  },
  {
   "metadata": {
    "ExecuteTime": {
     "end_time": "2024-07-05T09:17:12.216771Z",
     "start_time": "2024-07-05T09:17:12.211416Z"
    }
   },
   "cell_type": "code",
   "source": [
    "sq = Squares()\n",
    "sq.next_(), sq.next_(), sq.next_(), sq.next_(), sq.next_()"
   ],
   "id": "605b21fba71f3eb9",
   "outputs": [
    {
     "data": {
      "text/plain": [
       "(0, 1, 4, 9, 16)"
      ]
     },
     "execution_count": 25,
     "metadata": {},
     "output_type": "execute_result"
    }
   ],
   "execution_count": 25
  },
  {
   "metadata": {
    "ExecuteTime": {
     "end_time": "2024-07-05T09:21:58.723064Z",
     "start_time": "2024-07-05T09:21:58.718509Z"
    }
   },
   "cell_type": "code",
   "source": [
    "class Squares:\n",
    "    def __init__(self, length):\n",
    "        self._i = 0\n",
    "        self.length = length\n",
    "        \n",
    "    def __len__(self):\n",
    "        return self.length\n",
    "    \n",
    "    def __next__(self):\n",
    "        if self._i == self.length:\n",
    "            self._i = 0\n",
    "            raise StopIteration\n",
    "        result = self._i ** 2\n",
    "        self._i += 1\n",
    "        return result\n"
   ],
   "id": "e1e1861e4f3f09b7",
   "outputs": [],
   "execution_count": 38
  },
  {
   "metadata": {
    "ExecuteTime": {
     "end_time": "2024-07-05T09:30:33.773093Z",
     "start_time": "2024-07-05T09:30:33.767986Z"
    }
   },
   "cell_type": "code",
   "source": [
    "sq = Squares(2)\n",
    "next(sq)"
   ],
   "id": "fc9fcb0e4e7c971",
   "outputs": [
    {
     "data": {
      "text/plain": [
       "0"
      ]
     },
     "execution_count": 48,
     "metadata": {},
     "output_type": "execute_result"
    }
   ],
   "execution_count": 48
  },
  {
   "metadata": {
    "ExecuteTime": {
     "end_time": "2024-07-05T09:30:40.309995Z",
     "start_time": "2024-07-05T09:30:40.306684Z"
    }
   },
   "cell_type": "code",
   "source": "import random",
   "id": "4d0dfc55c731451c",
   "outputs": [],
   "execution_count": 49
  },
  {
   "metadata": {
    "ExecuteTime": {
     "end_time": "2024-07-05T10:05:01.608257Z",
     "start_time": "2024-07-05T10:05:01.602568Z"
    }
   },
   "cell_type": "code",
   "source": [
    "class RandomNumbers:\n",
    "    def __init__(self, length, *, range_min=0, range_max=10):\n",
    "        self.length = length\n",
    "        self.range_min = range_min\n",
    "        self.range_max = range_max\n",
    "        self._num_requested = 0\n",
    "    \n",
    "    def __len__(self):\n",
    "        return self.length\n",
    "        \n",
    "    def __next__(self):\n",
    "        print('__next__')\n",
    "        if self.length == self._num_requested:\n",
    "            self._num_requested = 0\n",
    "            raise StopIteration\n",
    "        self._num_requested += 1\n",
    "        return random.randint(self.range_min, self.range_max)\n",
    "    \n",
    "    def __iter__(self):\n",
    "        print('__iter__')\n",
    "        return self"
   ],
   "id": "899fb94050954742",
   "outputs": [],
   "execution_count": 80
  },
  {
   "metadata": {
    "ExecuteTime": {
     "end_time": "2024-07-05T10:06:08.744382Z",
     "start_time": "2024-07-05T10:06:08.740149Z"
    }
   },
   "cell_type": "code",
   "source": [
    "rn = RandomNumbers(2)\n",
    "for item in enumerate(rn):\n",
    "    print(*item)"
   ],
   "id": "2f25bc561726d6e1",
   "outputs": [
    {
     "name": "stdout",
     "output_type": "stream",
     "text": [
      "__iter__\n",
      "__next__\n",
      "0 7\n",
      "__next__\n",
      "1 5\n",
      "__next__\n"
     ]
    }
   ],
   "execution_count": 84
  },
  {
   "metadata": {
    "ExecuteTime": {
     "end_time": "2024-07-05T10:06:11.009520Z",
     "start_time": "2024-07-05T10:06:11.004046Z"
    }
   },
   "cell_type": "code",
   "source": "sorted(RandomNumbers(2))",
   "id": "2de5c882ed6aef8d",
   "outputs": [
    {
     "name": "stdout",
     "output_type": "stream",
     "text": [
      "__iter__\n",
      "__next__\n",
      "__next__\n",
      "__next__\n"
     ]
    },
    {
     "data": {
      "text/plain": [
       "[4, 8]"
      ]
     },
     "execution_count": 85,
     "metadata": {},
     "output_type": "execute_result"
    }
   ],
   "execution_count": 85
  },
  {
   "metadata": {
    "ExecuteTime": {
     "end_time": "2024-07-05T10:07:47.682384Z",
     "start_time": "2024-07-05T10:07:47.677277Z"
    }
   },
   "cell_type": "code",
   "source": [
    "rn = RandomNumbers(5)\n",
    "rn_iterator = iter(rn)\n",
    "rn is rn_iterator"
   ],
   "id": "7c462ca178f43e45",
   "outputs": [
    {
     "name": "stdout",
     "output_type": "stream",
     "text": [
      "__iter__\n"
     ]
    },
    {
     "data": {
      "text/plain": [
       "True"
      ]
     },
     "execution_count": 86,
     "metadata": {},
     "output_type": "execute_result"
    }
   ],
   "execution_count": 86
  },
  {
   "metadata": {
    "ExecuteTime": {
     "end_time": "2024-07-05T12:05:20.434603Z",
     "start_time": "2024-07-05T12:05:20.428987Z"
    }
   },
   "cell_type": "code",
   "source": "",
   "id": "3aaf08a75395098d",
   "outputs": [
    {
     "name": "stdout",
     "output_type": "stream",
     "text": [
      "__iter__\n"
     ]
    },
    {
     "data": {
      "text/plain": [
       "__main__.RandomNumbers"
      ]
     },
     "execution_count": 88,
     "metadata": {},
     "output_type": "execute_result"
    }
   ],
   "execution_count": 88
  },
  {
   "metadata": {},
   "cell_type": "code",
   "outputs": [],
   "execution_count": null,
   "source": "",
   "id": "172869adc431362"
  }
 ],
 "metadata": {
  "kernelspec": {
   "display_name": "Python 3",
   "language": "python",
   "name": "python3"
  },
  "language_info": {
   "codemirror_mode": {
    "name": "ipython",
    "version": 2
   },
   "file_extension": ".py",
   "mimetype": "text/x-python",
   "name": "python",
   "nbconvert_exporter": "python",
   "pygments_lexer": "ipython2",
   "version": "2.7.6"
  }
 },
 "nbformat": 4,
 "nbformat_minor": 5
}
