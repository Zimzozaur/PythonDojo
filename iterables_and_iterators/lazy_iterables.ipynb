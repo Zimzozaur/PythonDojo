{
 "cells": [
  {
   "cell_type": "code",
   "id": "initial_id",
   "metadata": {
    "collapsed": true,
    "ExecuteTime": {
     "end_time": "2024-07-06T08:57:39.211149Z",
     "start_time": "2024-07-06T08:57:39.208088Z"
    }
   },
   "source": "import math",
   "outputs": [],
   "execution_count": 1
  },
  {
   "metadata": {
    "ExecuteTime": {
     "end_time": "2024-07-06T09:01:03.192224Z",
     "start_time": "2024-07-06T09:01:03.187097Z"
    }
   },
   "cell_type": "code",
   "source": [
    "class Circle:\n",
    "    def __init__(self, r):\n",
    "        self.radius = r\n",
    "    \n",
    "    @property\n",
    "    def radius(self):\n",
    "        return self._radius\n",
    "    \n",
    "    @radius.setter\n",
    "    def radius(self, r):\n",
    "        self._radius = r\n",
    "        self.area = math.pi * (r ** 2)"
   ],
   "id": "39b904c90ef17aea",
   "outputs": [],
   "execution_count": 3
  },
  {
   "metadata": {
    "ExecuteTime": {
     "end_time": "2024-07-06T09:03:00.704613Z",
     "start_time": "2024-07-06T09:03:00.698252Z"
    }
   },
   "cell_type": "code",
   "source": [
    "c = Circle(1)\n",
    "c.area"
   ],
   "id": "a030ad7a7a8c72f4",
   "outputs": [
    {
     "data": {
      "text/plain": [
       "3.141592653589793"
      ]
     },
     "execution_count": 6,
     "metadata": {},
     "output_type": "execute_result"
    }
   ],
   "execution_count": 6
  },
  {
   "metadata": {
    "ExecuteTime": {
     "end_time": "2024-07-06T09:03:22.336015Z",
     "start_time": "2024-07-06T09:03:22.331184Z"
    }
   },
   "cell_type": "code",
   "source": [
    "c.radius = 2\n",
    "c.area"
   ],
   "id": "c98079a89dd5bf2",
   "outputs": [
    {
     "data": {
      "text/plain": [
       "12.566370614359172"
      ]
     },
     "execution_count": 7,
     "metadata": {},
     "output_type": "execute_result"
    }
   ],
   "execution_count": 7
  },
  {
   "metadata": {
    "ExecuteTime": {
     "end_time": "2024-07-06T09:13:02.445909Z",
     "start_time": "2024-07-06T09:13:02.440273Z"
    }
   },
   "cell_type": "code",
   "source": [
    "class Circle:\n",
    "    def __init__(self, r):\n",
    "        self.radius = r\n",
    "        self._area = None\n",
    "    \n",
    "    @property\n",
    "    def radius(self):\n",
    "        return self._radius\n",
    "    \n",
    "    @radius.setter\n",
    "    def radius(self, r):\n",
    "        self._radius = r\n",
    "        self._area = None\n",
    "        \n",
    "    @property\n",
    "    def area(self):\n",
    "        if not self._area:\n",
    "            print('Calculated')\n",
    "            self._area = math.pi * (self.radius ** 2)\n",
    "        return self._area "
   ],
   "id": "e4608e87aed28ed7",
   "outputs": [],
   "execution_count": 28
  },
  {
   "metadata": {
    "ExecuteTime": {
     "end_time": "2024-07-06T09:13:12.037995Z",
     "start_time": "2024-07-06T09:13:12.033872Z"
    }
   },
   "cell_type": "code",
   "source": "c = Circle(1)",
   "id": "3f0db73dc4b07996",
   "outputs": [],
   "execution_count": 29
  },
  {
   "metadata": {
    "ExecuteTime": {
     "end_time": "2024-07-06T09:13:12.467897Z",
     "start_time": "2024-07-06T09:13:12.461645Z"
    }
   },
   "cell_type": "code",
   "source": "c.area",
   "id": "138e23a0c239f5f2",
   "outputs": [
    {
     "name": "stdout",
     "output_type": "stream",
     "text": [
      "Calculated\n"
     ]
    },
    {
     "data": {
      "text/plain": [
       "3.141592653589793"
      ]
     },
     "execution_count": 30,
     "metadata": {},
     "output_type": "execute_result"
    }
   ],
   "execution_count": 30
  },
  {
   "metadata": {
    "ExecuteTime": {
     "end_time": "2024-07-06T09:13:12.832034Z",
     "start_time": "2024-07-06T09:13:12.827940Z"
    }
   },
   "cell_type": "code",
   "source": "c.radius = 2",
   "id": "4c092fb0776becc1",
   "outputs": [],
   "execution_count": 31
  },
  {
   "metadata": {
    "ExecuteTime": {
     "end_time": "2024-07-06T09:13:13.200851Z",
     "start_time": "2024-07-06T09:13:13.196210Z"
    }
   },
   "cell_type": "code",
   "source": "c.area",
   "id": "b6f86524a9bc4781",
   "outputs": [
    {
     "name": "stdout",
     "output_type": "stream",
     "text": [
      "Calculated\n"
     ]
    },
    {
     "data": {
      "text/plain": [
       "12.566370614359172"
      ]
     },
     "execution_count": 32,
     "metadata": {},
     "output_type": "execute_result"
    }
   ],
   "execution_count": 32
  },
  {
   "metadata": {
    "ExecuteTime": {
     "end_time": "2024-07-06T09:13:14.244505Z",
     "start_time": "2024-07-06T09:13:14.238416Z"
    }
   },
   "cell_type": "code",
   "source": "c.area",
   "id": "91d7c545a2448510",
   "outputs": [
    {
     "data": {
      "text/plain": [
       "12.566370614359172"
      ]
     },
     "execution_count": 33,
     "metadata": {},
     "output_type": "execute_result"
    }
   ],
   "execution_count": 33
  },
  {
   "metadata": {
    "ExecuteTime": {
     "end_time": "2024-07-06T09:27:34.555446Z",
     "start_time": "2024-07-06T09:27:34.550825Z"
    }
   },
   "cell_type": "code",
   "source": [
    "class Factorials:\n",
    "    def __init__(self, length):\n",
    "        self.length = length\n",
    "        \n",
    "    def __iter__(self):\n",
    "        return self.FactIter(self.length)\n",
    "        \n",
    "    class FactIter:\n",
    "        def __init__(self, length):\n",
    "            self.length = length\n",
    "            self.i = 0\n",
    "        \n",
    "        def __iter__(self):\n",
    "            return self\n",
    "            \n",
    "        def __next__(self):\n",
    "            if self.i >= self.length:\n",
    "                raise StopIteration\n",
    "            result = math.factorial(self.i)\n",
    "            self.i += 1\n",
    "            return result"
   ],
   "id": "b9755d34449aad7",
   "outputs": [],
   "execution_count": 37
  },
  {
   "metadata": {
    "ExecuteTime": {
     "end_time": "2024-07-06T09:27:34.959206Z",
     "start_time": "2024-07-06T09:27:34.955472Z"
    }
   },
   "cell_type": "code",
   "source": "facts = Factorials(5)",
   "id": "8ef695fc243b044b",
   "outputs": [],
   "execution_count": 38
  },
  {
   "metadata": {
    "ExecuteTime": {
     "end_time": "2024-07-06T09:27:35.320059Z",
     "start_time": "2024-07-06T09:27:35.315493Z"
    }
   },
   "cell_type": "code",
   "source": "list(facts)",
   "id": "de714feb91f5c290",
   "outputs": [
    {
     "data": {
      "text/plain": [
       "[1, 1, 2, 6, 24]"
      ]
     },
     "execution_count": 39,
     "metadata": {},
     "output_type": "execute_result"
    }
   ],
   "execution_count": 39
  },
  {
   "metadata": {
    "ExecuteTime": {
     "end_time": "2024-07-06T09:28:51.587487Z",
     "start_time": "2024-07-06T09:28:51.582758Z"
    }
   },
   "cell_type": "code",
   "source": [
    "class Factorials:\n",
    "    def __iter__(self):\n",
    "        return self.FactIter()\n",
    "        \n",
    "    class FactIter:\n",
    "        def __init__(self):\n",
    "            self.i = 0\n",
    "        \n",
    "        def __iter__(self):\n",
    "            return self\n",
    "            \n",
    "        def __next__(self):\n",
    "            result = math.factorial(self.i)\n",
    "            self.i += 1\n",
    "            return result"
   ],
   "id": "931dd3d0f4f4b224",
   "outputs": [],
   "execution_count": 40
  },
  {
   "metadata": {
    "ExecuteTime": {
     "end_time": "2024-07-06T09:28:56.716026Z",
     "start_time": "2024-07-06T09:28:56.712186Z"
    }
   },
   "cell_type": "code",
   "source": "facts = Factorials()",
   "id": "4d6083b168adcc0b",
   "outputs": [],
   "execution_count": 41
  },
  {
   "metadata": {
    "ExecuteTime": {
     "end_time": "2024-07-06T09:29:17.487369Z",
     "start_time": "2024-07-06T09:29:17.484240Z"
    }
   },
   "cell_type": "code",
   "source": "fact_iter = iter(facts)",
   "id": "2f5407005a729af3",
   "outputs": [],
   "execution_count": 43
  },
  {
   "metadata": {
    "ExecuteTime": {
     "end_time": "2024-07-06T09:29:39.680781Z",
     "start_time": "2024-07-06T09:29:39.675464Z"
    }
   },
   "cell_type": "code",
   "source": "next(fact_iter), next(fact_iter), next(fact_iter), next(fact_iter), ",
   "id": "361f8bf0c348b80e",
   "outputs": [
    {
     "data": {
      "text/plain": [
       "(1, 1, 2, 6)"
      ]
     },
     "execution_count": 44,
     "metadata": {},
     "output_type": "execute_result"
    }
   ],
   "execution_count": 44
  },
  {
   "metadata": {},
   "cell_type": "code",
   "outputs": [],
   "execution_count": null,
   "source": "",
   "id": "6735c30a624a6bc1"
  }
 ],
 "metadata": {
  "kernelspec": {
   "display_name": "Python 3",
   "language": "python",
   "name": "python3"
  },
  "language_info": {
   "codemirror_mode": {
    "name": "ipython",
    "version": 2
   },
   "file_extension": ".py",
   "mimetype": "text/x-python",
   "name": "python",
   "nbconvert_exporter": "python",
   "pygments_lexer": "ipython2",
   "version": "2.7.6"
  }
 },
 "nbformat": 4,
 "nbformat_minor": 5
}
