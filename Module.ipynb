{
 "cells": [
  {
   "cell_type": "code",
   "id": "initial_id",
   "metadata": {
    "collapsed": true,
    "ExecuteTime": {
     "end_time": "2024-04-30T11:01:39.393910Z",
     "start_time": "2024-04-30T11:01:39.390159Z"
    }
   },
   "source": [
    "def func():\n",
    "    a = 10\n",
    "    return locals()"
   ],
   "execution_count": 36,
   "outputs": []
  },
  {
   "metadata": {
    "ExecuteTime": {
     "end_time": "2024-04-30T11:01:39.567312Z",
     "start_time": "2024-04-30T11:01:39.563070Z"
    }
   },
   "cell_type": "code",
   "source": "func()",
   "id": "b5fca72b81468d4b",
   "execution_count": 37,
   "outputs": []
  },
  {
   "metadata": {
    "ExecuteTime": {
     "end_time": "2024-04-30T11:09:47.544300Z",
     "start_time": "2024-04-30T11:09:47.541109Z"
    }
   },
   "cell_type": "code",
   "source": "import math",
   "id": "45668af29cf6057",
   "execution_count": 56,
   "outputs": []
  },
  {
   "metadata": {
    "ExecuteTime": {
     "end_time": "2024-04-30T11:09:27.314412Z",
     "start_time": "2024-04-30T11:09:27.308827Z"
    }
   },
   "cell_type": "code",
   "source": "math",
   "id": "5adba6251f92f298",
   "execution_count": 49,
   "outputs": []
  },
  {
   "metadata": {
    "ExecuteTime": {
     "end_time": "2024-04-30T11:09:37.140824Z",
     "start_time": "2024-04-30T11:09:37.137595Z"
    }
   },
   "cell_type": "code",
   "source": "del math",
   "id": "81b64c3929c13808",
   "execution_count": 54,
   "outputs": []
  },
  {
   "metadata": {
    "ExecuteTime": {
     "end_time": "2024-04-30T11:11:44.014753Z",
     "start_time": "2024-04-30T11:11:44.011431Z"
    }
   },
   "cell_type": "code",
   "source": "import sys",
   "id": "2569ba0b8709b19c",
   "execution_count": 61,
   "outputs": []
  },
  {
   "metadata": {
    "ExecuteTime": {
     "end_time": "2024-04-30T11:19:41.332163Z",
     "start_time": "2024-04-30T11:19:41.327538Z"
    }
   },
   "cell_type": "code",
   "source": "math is sys.modules['math']",
   "id": "bb29a5081e9e1747",
   "execution_count": 64,
   "outputs": []
  },
  {
   "metadata": {
    "ExecuteTime": {
     "end_time": "2024-04-30T11:21:46.946111Z",
     "start_time": "2024-04-30T11:21:46.940358Z"
    }
   },
   "cell_type": "code",
   "source": "dir(math)",
   "id": "380d9c263cf396bd",
   "execution_count": 66,
   "outputs": []
  },
  {
   "metadata": {
    "ExecuteTime": {
     "end_time": "2024-04-30T11:21:57.822283Z",
     "start_time": "2024-04-30T11:21:57.801652Z"
    }
   },
   "cell_type": "code",
   "source": "math.__dict__",
   "id": "c973c40f173d7253",
   "execution_count": 67,
   "outputs": []
  },
  {
   "metadata": {
    "ExecuteTime": {
     "end_time": "2024-04-30T11:34:41.088705Z",
     "start_time": "2024-04-30T11:34:41.085258Z"
    }
   },
   "cell_type": "code",
   "source": "import types",
   "id": "8a2f6e69f4301d80",
   "execution_count": 75,
   "outputs": []
  },
  {
   "metadata": {
    "ExecuteTime": {
     "end_time": "2024-04-30T11:34:58.049256Z",
     "start_time": "2024-04-30T11:34:58.044675Z"
    }
   },
   "cell_type": "code",
   "source": "isinstance(math, types.ModuleType)",
   "id": "dfdf2f9a0a76059a",
   "execution_count": 76,
   "outputs": []
  },
  {
   "metadata": {
    "ExecuteTime": {
     "end_time": "2024-04-30T11:36:49.816026Z",
     "start_time": "2024-04-30T11:36:49.813006Z"
    }
   },
   "cell_type": "code",
   "source": "mod = types.ModuleType('test')",
   "id": "840874fcb5ff55c3",
   "execution_count": 80,
   "outputs": []
  },
  {
   "metadata": {
    "ExecuteTime": {
     "end_time": "2024-04-30T11:40:27.229722Z",
     "start_time": "2024-04-30T11:40:27.226602Z"
    }
   },
   "cell_type": "code",
   "source": "mod.hello = lambda: 'Hello!'",
   "id": "6faeea5da1ab3b08",
   "execution_count": 85,
   "outputs": []
  },
  {
   "metadata": {
    "ExecuteTime": {
     "end_time": "2024-04-30T11:40:52.952694Z",
     "start_time": "2024-04-30T11:40:52.948170Z"
    }
   },
   "cell_type": "code",
   "source": "mod.__dict__",
   "id": "3f2f610e5fa53f15",
   "execution_count": 87,
   "outputs": []
  },
  {
   "metadata": {},
   "cell_type": "code",
   "execution_count": null,
   "source": "",
   "id": "e14929205121e95c",
   "outputs": []
  }
 ],
 "metadata": {
  "kernelspec": {
   "display_name": "Python 3",
   "language": "python",
   "name": "python3"
  },
  "language_info": {
   "codemirror_mode": {
    "name": "ipython",
    "version": 2
   },
   "file_extension": ".py",
   "mimetype": "text/x-python",
   "name": "python",
   "nbconvert_exporter": "python",
   "pygments_lexer": "ipython2",
   "version": "2.7.6"
  }
 },
 "nbformat": 4,
 "nbformat_minor": 5
}
