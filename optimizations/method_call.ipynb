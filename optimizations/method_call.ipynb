{
 "cells": [
  {
   "cell_type": "code",
   "id": "initial_id",
   "metadata": {
    "collapsed": true,
    "ExecuteTime": {
     "end_time": "2024-07-30T13:47:55.776Z",
     "start_time": "2024-07-30T13:47:55.772994Z"
    }
   },
   "source": "from timeit import timeit",
   "outputs": [],
   "execution_count": 31
  },
  {
   "metadata": {
    "ExecuteTime": {
     "end_time": "2024-07-30T13:47:56.089207Z",
     "start_time": "2024-07-30T13:47:56.083701Z"
    }
   },
   "cell_type": "code",
   "source": [
    "class MyClass:\n",
    "    def instance_method(self):\n",
    "        pass\n",
    "\n",
    "obj = MyClass()"
   ],
   "id": "5ebe50e1851577c7",
   "outputs": [],
   "execution_count": 32
  },
  {
   "metadata": {
    "ExecuteTime": {
     "end_time": "2024-07-30T13:48:16.093042Z",
     "start_time": "2024-07-30T13:48:16.090233Z"
    }
   },
   "cell_type": "code",
   "source": "number = 10**9",
   "id": "5a68e802828a41fc",
   "outputs": [],
   "execution_count": 37
  },
  {
   "metadata": {
    "ExecuteTime": {
     "end_time": "2024-07-30T13:48:47.923656Z",
     "start_time": "2024-07-30T13:48:16.379665Z"
    }
   },
   "cell_type": "code",
   "source": "timeit('obj.instance_method()', number=number, globals=globals())",
   "id": "2ad3d1930af18e3f",
   "outputs": [
    {
     "data": {
      "text/plain": [
       "31.538825024999824"
      ]
     },
     "execution_count": 38,
     "metadata": {},
     "output_type": "execute_result"
    }
   ],
   "execution_count": 38
  },
  {
   "metadata": {
    "ExecuteTime": {
     "end_time": "2024-07-30T13:48:47.927967Z",
     "start_time": "2024-07-30T13:48:47.925024Z"
    }
   },
   "cell_type": "code",
   "source": "method = obj.instance_method",
   "id": "af98c39d77b776be",
   "outputs": [],
   "execution_count": 39
  },
  {
   "metadata": {
    "ExecuteTime": {
     "end_time": "2024-07-30T13:49:21.460433Z",
     "start_time": "2024-07-30T13:48:47.929379Z"
    }
   },
   "cell_type": "code",
   "source": "timeit('method()', number=number, globals=globals()) with",
   "id": "d08f97be873f1ca",
   "outputs": [
    {
     "data": {
      "text/plain": [
       "33.521197203001066"
      ]
     },
     "execution_count": 40,
     "metadata": {},
     "output_type": "execute_result"
    }
   ],
   "execution_count": 40
  }
 ],
 "metadata": {
  "kernelspec": {
   "display_name": "Python 3",
   "language": "python",
   "name": "python3"
  },
  "language_info": {
   "codemirror_mode": {
    "name": "ipython",
    "version": 2
   },
   "file_extension": ".py",
   "mimetype": "text/x-python",
   "name": "python",
   "nbconvert_exporter": "python",
   "pygments_lexer": "ipython2",
   "version": "2.7.6"
  }
 },
 "nbformat": 4,
 "nbformat_minor": 5
}
