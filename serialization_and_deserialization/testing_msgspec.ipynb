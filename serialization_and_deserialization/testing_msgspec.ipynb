{
 "cells": [
  {
   "cell_type": "code",
   "id": "initial_id",
   "metadata": {
    "collapsed": true,
    "ExecuteTime": {
     "end_time": "2024-08-01T09:59:23.805657Z",
     "start_time": "2024-08-01T09:59:23.796840Z"
    }
   },
   "source": "from msgspec import json as mjs",
   "outputs": [],
   "execution_count": 2
  },
  {
   "metadata": {
    "ExecuteTime": {
     "end_time": "2024-08-01T09:59:23.843497Z",
     "start_time": "2024-08-01T09:59:23.841216Z"
    }
   },
   "cell_type": "code",
   "source": "byte_json = mjs.encode({'hello': 'world'})",
   "id": "c2e0f98a6ff1c33e",
   "outputs": [],
   "execution_count": 3
  },
  {
   "metadata": {
    "ExecuteTime": {
     "end_time": "2024-08-01T09:59:23.870895Z",
     "start_time": "2024-08-01T09:59:23.864836Z"
    }
   },
   "cell_type": "code",
   "source": "byte_json",
   "id": "997dd16828ed9af1",
   "outputs": [
    {
     "data": {
      "text/plain": [
       "b'{\"hello\":\"world\"}'"
      ]
     },
     "execution_count": 4,
     "metadata": {},
     "output_type": "execute_result"
    }
   ],
   "execution_count": 4
  },
  {
   "metadata": {
    "ExecuteTime": {
     "end_time": "2024-08-01T09:59:23.891091Z",
     "start_time": "2024-08-01T09:59:23.888597Z"
    }
   },
   "cell_type": "code",
   "source": "encoder = mjs.Encoder()",
   "id": "9a95954f9f02ae0c",
   "outputs": [],
   "execution_count": 5
  },
  {
   "metadata": {
    "ExecuteTime": {
     "end_time": "2024-08-01T09:59:23.921309Z",
     "start_time": "2024-08-01T09:59:23.918502Z"
    }
   },
   "cell_type": "code",
   "source": "new_byte_json = encoder.encode({'hello': 'json'})",
   "id": "cab674c737c0dced",
   "outputs": [],
   "execution_count": 6
  },
  {
   "metadata": {
    "ExecuteTime": {
     "end_time": "2024-08-01T09:59:23.942478Z",
     "start_time": "2024-08-01T09:59:23.939148Z"
    }
   },
   "cell_type": "code",
   "source": "new_byte_json",
   "id": "de41e0bfa752d64f",
   "outputs": [
    {
     "data": {
      "text/plain": [
       "b'{\"hello\":\"json\"}'"
      ]
     },
     "execution_count": 7,
     "metadata": {},
     "output_type": "execute_result"
    }
   ],
   "execution_count": 7
  },
  {
   "metadata": {
    "ExecuteTime": {
     "end_time": "2024-08-01T09:59:23.968857Z",
     "start_time": "2024-08-01T09:59:23.966570Z"
    }
   },
   "cell_type": "code",
   "source": "dict_json = mjs.decode(byte_json)",
   "id": "c112c083178a29cc",
   "outputs": [],
   "execution_count": 8
  },
  {
   "metadata": {
    "ExecuteTime": {
     "end_time": "2024-08-01T09:59:23.990108Z",
     "start_time": "2024-08-01T09:59:23.986979Z"
    }
   },
   "cell_type": "code",
   "source": "dict_json",
   "id": "299e38fe98ea4118",
   "outputs": [
    {
     "data": {
      "text/plain": [
       "{'hello': 'world'}"
      ]
     },
     "execution_count": 9,
     "metadata": {},
     "output_type": "execute_result"
    }
   ],
   "execution_count": 9
  },
  {
   "metadata": {
    "ExecuteTime": {
     "end_time": "2024-08-01T09:59:24.033285Z",
     "start_time": "2024-08-01T09:59:24.030560Z"
    }
   },
   "cell_type": "code",
   "source": "decoder = mjs.Decoder()",
   "id": "506b05019442e666",
   "outputs": [],
   "execution_count": 10
  },
  {
   "metadata": {
    "ExecuteTime": {
     "end_time": "2024-08-01T09:59:24.049470Z",
     "start_time": "2024-08-01T09:59:24.045201Z"
    }
   },
   "cell_type": "code",
   "source": "decoder.decode(new_byte_json)",
   "id": "e56e337976409df6",
   "outputs": [
    {
     "data": {
      "text/plain": [
       "{'hello': 'json'}"
      ]
     },
     "execution_count": 11,
     "metadata": {},
     "output_type": "execute_result"
    }
   ],
   "execution_count": 11
  },
  {
   "metadata": {
    "ExecuteTime": {
     "end_time": "2024-08-01T10:00:15.935158Z",
     "start_time": "2024-08-01T10:00:15.932201Z"
    }
   },
   "cell_type": "code",
   "source": [
    "from typing import Literal\n",
    "import re\n",
    "import msgspec"
   ],
   "id": "17acbc60277f6b7a",
   "outputs": [],
   "execution_count": 15
  },
  {
   "metadata": {
    "ExecuteTime": {
     "end_time": "2024-08-01T10:08:45.423279Z",
     "start_time": "2024-08-01T10:08:45.414880Z"
    }
   },
   "cell_type": "code",
   "source": [
    "class ConfigSound(msgspec.Struct):\n",
    "    type: Literal['alarm', 'signal', 'ambient']\n",
    "    name: str\n",
    "\n",
    "    def __post_init__(self):\n",
    "        if self.type not in {'alarm', 'signal', 'ambient'}:\n",
    "            raise ValueError('Sounds type has to be alarm, signal or ambient')\n",
    "        \n",
    "        # Regex pattern to ensure the 'name' consists only of alphanumeric characters, \n",
    "        # underscores, or hyphens, with no spaces or other special characters. The \n",
    "        # string must start and end with these characters, with at least one character in total.\n",
    "        pattern = r'^[a-zA-Z0-9_-]+$'\n",
    "        \n",
    "        if not re.match(pattern, self.name):\n",
    "            raise ValueError('Name must only contain alphanumeric characters, underscores, or hyphens')\n",
    "\n",
    "class ConfigSoundsManager(msgspec.Struct):\n",
    "    alarm: ConfigSound\n",
    "    signal: ConfigSound\n",
    "    ambient: ConfigSound\n",
    "    \n",
    "    def __post_init__(self):\n",
    "        if self.alarm.type != 'alarm':\n",
    "            raise ValueError('Alarm sound has to be of type alarm')\n",
    "        if self.signal.type != 'signal':\n",
    "            raise ValueError('Signal sound has to be of type signal')\n",
    "        if self.ambient.type != 'ambient':\n",
    "            raise ValueError('Ambient sound has to be of type ambient')"
   ],
   "id": "d9bd3f1bcd2f2615",
   "outputs": [],
   "execution_count": 35
  },
  {
   "metadata": {
    "ExecuteTime": {
     "end_time": "2024-08-01T10:16:59.342216Z",
     "start_time": "2024-08-01T10:16:59.319751Z"
    }
   },
   "cell_type": "code",
   "source": [
    "with open('config_focuskeeper_v1.yaml') as file:\n",
    "    string_file = file.read()\n",
    "    yaml_f = msgspec.yaml.decode(string_file)\n",
    "    sounds = {key: ConfigSound(key, **value) for key, value in yaml_f['used_sounds'].items()}\n",
    "    sounds_manager = ConfigSoundsManager(**sounds)\n",
    "\n",
    "print(sounds_manager)\n",
    "sounds_manager.ambient.name = 'Mario'\n",
    "print(sounds_manager)\n",
    "\n",
    "with open('config_focuskeeper_v1.yaml', 'w') as file:     \n",
    "    file.write(msgspec.yaml.encode(sounds_manager))"
   ],
   "id": "922c91171f5421d7",
   "outputs": [
    {
     "name": "stdout",
     "output_type": "stream",
     "text": [
      "ConfigSoundsManager(alarm=ConfigSound(type='alarm', name='Doorbell'), signal=ConfigSound(type='signal', name='Chime'), ambient=ConfigSound(type='ambient', name='Rain_Hard_Work_Hard'))\n",
      "ConfigSoundsManager(alarm=ConfigSound(type='alarm', name='Doorbell'), signal=ConfigSound(type='signal', name='Chime'), ambient=ConfigSound(type='ambient', name='Mario'))\n"
     ]
    },
    {
     "ename": "TypeError",
     "evalue": "write() argument must be str, not bytes",
     "output_type": "error",
     "traceback": [
      "\u001B[0;31m---------------------------------------------------------------------------\u001B[0m",
      "\u001B[0;31mTypeError\u001B[0m                                 Traceback (most recent call last)",
      "Cell \u001B[0;32mIn[52], line 12\u001B[0m\n\u001B[1;32m      9\u001B[0m \u001B[38;5;28mprint\u001B[39m(sounds_manager)\n\u001B[1;32m     11\u001B[0m \u001B[38;5;28;01mwith\u001B[39;00m \u001B[38;5;28mopen\u001B[39m(\u001B[38;5;124m'\u001B[39m\u001B[38;5;124mconfig_focuskeeper_v1.yaml\u001B[39m\u001B[38;5;124m'\u001B[39m, \u001B[38;5;124m'\u001B[39m\u001B[38;5;124mw\u001B[39m\u001B[38;5;124m'\u001B[39m) \u001B[38;5;28;01mas\u001B[39;00m file:     \n\u001B[0;32m---> 12\u001B[0m     \u001B[43mfile\u001B[49m\u001B[38;5;241;43m.\u001B[39;49m\u001B[43mwrite\u001B[49m\u001B[43m(\u001B[49m\u001B[43mmsgspec\u001B[49m\u001B[38;5;241;43m.\u001B[39;49m\u001B[43myaml\u001B[49m\u001B[38;5;241;43m.\u001B[39;49m\u001B[43mencode\u001B[49m\u001B[43m(\u001B[49m\u001B[43msounds_manager\u001B[49m\u001B[43m)\u001B[49m\u001B[43m)\u001B[49m\n",
      "\u001B[0;31mTypeError\u001B[0m: write() argument must be str, not bytes"
     ]
    }
   ],
   "execution_count": 52
  },
  {
   "metadata": {
    "ExecuteTime": {
     "end_time": "2024-08-01T09:59:24.193661Z",
     "start_time": "2024-08-01T09:59:24.191527Z"
    }
   },
   "cell_type": "code",
   "source": "",
   "id": "4f60744913668f3d",
   "outputs": [],
   "execution_count": 14
  }
 ],
 "metadata": {
  "kernelspec": {
   "display_name": "Python 3",
   "language": "python",
   "name": "python3"
  },
  "language_info": {
   "codemirror_mode": {
    "name": "ipython",
    "version": 2
   },
   "file_extension": ".py",
   "mimetype": "text/x-python",
   "name": "python",
   "nbconvert_exporter": "python",
   "pygments_lexer": "ipython2",
   "version": "2.7.6"
  }
 },
 "nbformat": 4,
 "nbformat_minor": 5
}
