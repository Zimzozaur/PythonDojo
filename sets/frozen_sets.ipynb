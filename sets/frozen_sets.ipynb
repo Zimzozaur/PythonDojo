{
 "cells": [
  {
   "cell_type": "code",
   "id": "initial_id",
   "metadata": {
    "collapsed": true,
    "ExecuteTime": {
     "end_time": "2024-09-30T14:44:52.905795Z",
     "start_time": "2024-09-30T14:44:52.903394Z"
    }
   },
   "source": "s1 = {'a', 'b', 'c'}",
   "outputs": [],
   "execution_count": 1
  },
  {
   "metadata": {
    "ExecuteTime": {
     "end_time": "2024-09-30T14:44:55.009156Z",
     "start_time": "2024-09-30T14:44:55.002487Z"
    }
   },
   "cell_type": "code",
   "source": "type(s1)",
   "id": "6fb1e33a2488f1e1",
   "outputs": [
    {
     "data": {
      "text/plain": [
       "set"
      ]
     },
     "execution_count": 2,
     "metadata": {},
     "output_type": "execute_result"
    }
   ],
   "execution_count": 2
  },
  {
   "metadata": {
    "ExecuteTime": {
     "end_time": "2024-09-30T14:44:58.265139Z",
     "start_time": "2024-09-30T14:44:58.108154Z"
    }
   },
   "cell_type": "code",
   "source": "hash(s1)",
   "id": "7ac6adba9685e779",
   "outputs": [
    {
     "ename": "TypeError",
     "evalue": "unhashable type: 'set'",
     "output_type": "error",
     "traceback": [
      "\u001B[0;31m---------------------------------------------------------------------------\u001B[0m",
      "\u001B[0;31mTypeError\u001B[0m                                 Traceback (most recent call last)",
      "Cell \u001B[0;32mIn[3], line 1\u001B[0m\n\u001B[0;32m----> 1\u001B[0m \u001B[38;5;28;43mhash\u001B[39;49m\u001B[43m(\u001B[49m\u001B[43ms1\u001B[49m\u001B[43m)\u001B[49m\n",
      "\u001B[0;31mTypeError\u001B[0m: unhashable type: 'set'"
     ]
    }
   ],
   "execution_count": 3
  },
  {
   "metadata": {
    "ExecuteTime": {
     "end_time": "2024-09-30T14:45:06.826205Z",
     "start_time": "2024-09-30T14:45:06.823603Z"
    }
   },
   "cell_type": "code",
   "source": "s2 = frozenset(s1)",
   "id": "c53b430f0cb84f38",
   "outputs": [],
   "execution_count": 4
  },
  {
   "metadata": {
    "ExecuteTime": {
     "end_time": "2024-09-30T14:45:14.145173Z",
     "start_time": "2024-09-30T14:45:14.140513Z"
    }
   },
   "cell_type": "code",
   "source": "type(s2)",
   "id": "a194de0252b88a37",
   "outputs": [
    {
     "data": {
      "text/plain": [
       "frozenset"
      ]
     },
     "execution_count": 6,
     "metadata": {},
     "output_type": "execute_result"
    }
   ],
   "execution_count": 6
  },
  {
   "metadata": {
    "ExecuteTime": {
     "end_time": "2024-09-30T14:45:26.341714Z",
     "start_time": "2024-09-30T14:45:26.336792Z"
    }
   },
   "cell_type": "code",
   "source": "hash(s2)",
   "id": "cf8d8fa4f682b6cd",
   "outputs": [
    {
     "data": {
      "text/plain": [
       "577153661739483258"
      ]
     },
     "execution_count": 7,
     "metadata": {},
     "output_type": "execute_result"
    }
   ],
   "execution_count": 7
  },
  {
   "metadata": {
    "ExecuteTime": {
     "end_time": "2024-09-30T14:46:21.422240Z",
     "start_time": "2024-09-30T14:46:21.418802Z"
    }
   },
   "cell_type": "code",
   "source": "s3 = {frozenset({'a', 'b'}), frozenset([1, 2, 3])}",
   "id": "bf91134a432e8db",
   "outputs": [],
   "execution_count": 9
  },
  {
   "metadata": {
    "ExecuteTime": {
     "end_time": "2024-09-30T14:46:22.978071Z",
     "start_time": "2024-09-30T14:46:22.973309Z"
    }
   },
   "cell_type": "code",
   "source": "s3",
   "id": "cce218bd1812b387",
   "outputs": [
    {
     "data": {
      "text/plain": [
       "{frozenset({1, 2, 3}), frozenset({'a', 'b'})}"
      ]
     },
     "execution_count": 10,
     "metadata": {},
     "output_type": "execute_result"
    }
   ],
   "execution_count": 10
  },
  {
   "metadata": {
    "ExecuteTime": {
     "end_time": "2024-09-30T14:46:34.390742Z",
     "start_time": "2024-09-30T14:46:34.385612Z"
    }
   },
   "cell_type": "code",
   "source": "type(s3)",
   "id": "27e159e740113d9e",
   "outputs": [
    {
     "data": {
      "text/plain": [
       "set"
      ]
     },
     "execution_count": 12,
     "metadata": {},
     "output_type": "execute_result"
    }
   ],
   "execution_count": 12
  },
  {
   "metadata": {
    "ExecuteTime": {
     "end_time": "2024-09-30T14:46:37.360644Z",
     "start_time": "2024-09-30T14:46:37.342199Z"
    }
   },
   "cell_type": "code",
   "source": "hash(s3)",
   "id": "96a97ae21983ef90",
   "outputs": [
    {
     "ename": "TypeError",
     "evalue": "unhashable type: 'set'",
     "output_type": "error",
     "traceback": [
      "\u001B[0;31m---------------------------------------------------------------------------\u001B[0m",
      "\u001B[0;31mTypeError\u001B[0m                                 Traceback (most recent call last)",
      "Cell \u001B[0;32mIn[13], line 1\u001B[0m\n\u001B[0;32m----> 1\u001B[0m \u001B[38;5;28;43mhash\u001B[39;49m\u001B[43m(\u001B[49m\u001B[43ms3\u001B[49m\u001B[43m)\u001B[49m\n",
      "\u001B[0;31mTypeError\u001B[0m: unhashable type: 'set'"
     ]
    }
   ],
   "execution_count": 13
  },
  {
   "metadata": {
    "ExecuteTime": {
     "end_time": "2024-09-30T14:47:00.263295Z",
     "start_time": "2024-09-30T14:47:00.260243Z"
    }
   },
   "cell_type": "code",
   "source": "t1 = (1, 2, [3, 4])",
   "id": "13a2e15088a65e4",
   "outputs": [],
   "execution_count": 14
  },
  {
   "metadata": {
    "ExecuteTime": {
     "end_time": "2024-09-30T14:47:12.998440Z",
     "start_time": "2024-09-30T14:47:12.995157Z"
    }
   },
   "cell_type": "code",
   "source": "t2 = tuple(t1)",
   "id": "f101d57ce6ebbaf3",
   "outputs": [],
   "execution_count": 15
  },
  {
   "metadata": {
    "ExecuteTime": {
     "end_time": "2024-09-30T14:47:16.411093Z",
     "start_time": "2024-09-30T14:47:16.406809Z"
    }
   },
   "cell_type": "code",
   "source": "t2",
   "id": "c51ed49ea77817d6",
   "outputs": [
    {
     "data": {
      "text/plain": [
       "(1, 2, [3, 4])"
      ]
     },
     "execution_count": 16,
     "metadata": {},
     "output_type": "execute_result"
    }
   ],
   "execution_count": 16
  },
  {
   "metadata": {
    "ExecuteTime": {
     "end_time": "2024-09-30T14:47:35.054342Z",
     "start_time": "2024-09-30T14:47:35.049420Z"
    }
   },
   "cell_type": "code",
   "source": "id(t1), id(t2)",
   "id": "79373f3b6a686169",
   "outputs": [
    {
     "data": {
      "text/plain": [
       "(138390157582336, 138390157582336)"
      ]
     },
     "execution_count": 17,
     "metadata": {},
     "output_type": "execute_result"
    }
   ],
   "execution_count": 17
  },
  {
   "metadata": {
    "ExecuteTime": {
     "end_time": "2024-09-30T14:48:58.695601Z",
     "start_time": "2024-09-30T14:48:58.692316Z"
    }
   },
   "cell_type": "code",
   "source": "l1 = [1, 2, 3]",
   "id": "9a32cbf6b9ee7752",
   "outputs": [],
   "execution_count": 19
  },
  {
   "metadata": {
    "ExecuteTime": {
     "end_time": "2024-09-30T14:49:05.447185Z",
     "start_time": "2024-09-30T14:49:05.443560Z"
    }
   },
   "cell_type": "code",
   "source": "l2 = l1.copy()",
   "id": "d57f8460cfe2a598",
   "outputs": [],
   "execution_count": 20
  },
  {
   "metadata": {
    "ExecuteTime": {
     "end_time": "2024-09-30T14:49:13.795581Z",
     "start_time": "2024-09-30T14:49:13.790874Z"
    }
   },
   "cell_type": "code",
   "source": "id(l1), id(l2)",
   "id": "85076a1c20366400",
   "outputs": [
    {
     "data": {
      "text/plain": [
       "(138390157536640, 138390157515584)"
      ]
     },
     "execution_count": 21,
     "metadata": {},
     "output_type": "execute_result"
    }
   ],
   "execution_count": 21
  },
  {
   "metadata": {
    "ExecuteTime": {
     "end_time": "2024-09-30T14:49:49.862324Z",
     "start_time": "2024-09-30T14:49:49.859192Z"
    }
   },
   "cell_type": "code",
   "source": [
    "s1 = {1, 2, 3}\n",
    "s2 = set(s1)"
   ],
   "id": "4be624acffe1f542",
   "outputs": [],
   "execution_count": 22
  },
  {
   "metadata": {
    "ExecuteTime": {
     "end_time": "2024-09-30T14:49:58.949312Z",
     "start_time": "2024-09-30T14:49:58.945305Z"
    }
   },
   "cell_type": "code",
   "source": "s1 is s2",
   "id": "1f123d8f8541953e",
   "outputs": [
    {
     "data": {
      "text/plain": [
       "False"
      ]
     },
     "execution_count": 23,
     "metadata": {},
     "output_type": "execute_result"
    }
   ],
   "execution_count": 23
  },
  {
   "metadata": {
    "ExecuteTime": {
     "end_time": "2024-09-30T14:50:01.899884Z",
     "start_time": "2024-09-30T14:50:01.895587Z"
    }
   },
   "cell_type": "code",
   "source": "s1 == s2",
   "id": "c57ce9afe48d10a8",
   "outputs": [
    {
     "data": {
      "text/plain": [
       "True"
      ]
     },
     "execution_count": 24,
     "metadata": {},
     "output_type": "execute_result"
    }
   ],
   "execution_count": 24
  },
  {
   "metadata": {
    "ExecuteTime": {
     "end_time": "2024-09-30T14:50:23.260793Z",
     "start_time": "2024-09-30T14:50:23.257562Z"
    }
   },
   "cell_type": "code",
   "source": [
    "s1 = frozenset([1, 2, 3])\n",
    "s2 = frozenset(s1)"
   ],
   "id": "189205f6391ddde4",
   "outputs": [],
   "execution_count": 25
  },
  {
   "metadata": {
    "ExecuteTime": {
     "end_time": "2024-09-30T14:50:40.148431Z",
     "start_time": "2024-09-30T14:50:40.143385Z"
    }
   },
   "cell_type": "code",
   "source": "s1 is s2",
   "id": "7e9ce543f34745b7",
   "outputs": [
    {
     "data": {
      "text/plain": [
       "True"
      ]
     },
     "execution_count": 26,
     "metadata": {},
     "output_type": "execute_result"
    }
   ],
   "execution_count": 26
  },
  {
   "metadata": {
    "ExecuteTime": {
     "end_time": "2024-09-30T14:51:07.163942Z",
     "start_time": "2024-09-30T14:51:07.160833Z"
    }
   },
   "cell_type": "code",
   "source": "from copy import deepcopy",
   "id": "2fb66803ca6273fa",
   "outputs": [],
   "execution_count": 27
  },
  {
   "metadata": {
    "ExecuteTime": {
     "end_time": "2024-09-30T14:51:17.042667Z",
     "start_time": "2024-09-30T14:51:17.039491Z"
    }
   },
   "cell_type": "code",
   "source": "s2 = deepcopy(s1)",
   "id": "57e0ffcf3933eba2",
   "outputs": [],
   "execution_count": 28
  },
  {
   "metadata": {
    "ExecuteTime": {
     "end_time": "2024-09-30T14:51:19.356453Z",
     "start_time": "2024-09-30T14:51:19.352037Z"
    }
   },
   "cell_type": "code",
   "source": "s1 is s2",
   "id": "f75b0dee291224b0",
   "outputs": [
    {
     "data": {
      "text/plain": [
       "False"
      ]
     },
     "execution_count": 29,
     "metadata": {},
     "output_type": "execute_result"
    }
   ],
   "execution_count": 29
  },
  {
   "metadata": {
    "ExecuteTime": {
     "end_time": "2024-09-30T14:51:29.669855Z",
     "start_time": "2024-09-30T14:51:29.665355Z"
    }
   },
   "cell_type": "code",
   "source": "type(s2)",
   "id": "422fbeeab6eb28af",
   "outputs": [
    {
     "data": {
      "text/plain": [
       "frozenset"
      ]
     },
     "execution_count": 30,
     "metadata": {},
     "output_type": "execute_result"
    }
   ],
   "execution_count": 30
  },
  {
   "metadata": {
    "ExecuteTime": {
     "end_time": "2024-09-30T14:52:03.862073Z",
     "start_time": "2024-09-30T14:52:03.859200Z"
    }
   },
   "cell_type": "code",
   "source": "s1 = frozenset('ab')",
   "id": "d73b440ec183e5df",
   "outputs": [],
   "execution_count": 31
  },
  {
   "metadata": {
    "ExecuteTime": {
     "end_time": "2024-09-30T14:52:11.556491Z",
     "start_time": "2024-09-30T14:52:11.553962Z"
    }
   },
   "cell_type": "code",
   "source": "s2 = {1, 2}",
   "id": "6e529b7fa6706c4a",
   "outputs": [],
   "execution_count": 32
  },
  {
   "metadata": {
    "ExecuteTime": {
     "end_time": "2024-09-30T14:52:16.883677Z",
     "start_time": "2024-09-30T14:52:16.880629Z"
    }
   },
   "cell_type": "code",
   "source": "s3 = s1 | s2",
   "id": "f9a60fa1eff30797",
   "outputs": [],
   "execution_count": 33
  },
  {
   "metadata": {
    "ExecuteTime": {
     "end_time": "2024-09-30T14:52:21.836054Z",
     "start_time": "2024-09-30T14:52:21.831346Z"
    }
   },
   "cell_type": "code",
   "source": "s3",
   "id": "960cfdfbe5c9ae08",
   "outputs": [
    {
     "data": {
      "text/plain": [
       "frozenset({1, 2, 'a', 'b'})"
      ]
     },
     "execution_count": 34,
     "metadata": {},
     "output_type": "execute_result"
    }
   ],
   "execution_count": 34
  },
  {
   "metadata": {
    "ExecuteTime": {
     "end_time": "2024-09-30T14:52:33.759398Z",
     "start_time": "2024-09-30T14:52:33.756269Z"
    }
   },
   "cell_type": "code",
   "source": "s4 = s2 | s1",
   "id": "b42fb958f6e5a689",
   "outputs": [],
   "execution_count": 35
  },
  {
   "metadata": {
    "ExecuteTime": {
     "end_time": "2024-09-30T14:52:36.325128Z",
     "start_time": "2024-09-30T14:52:36.320850Z"
    }
   },
   "cell_type": "code",
   "source": "s4",
   "id": "d7264ba5f8b7922b",
   "outputs": [
    {
     "data": {
      "text/plain": [
       "{1, 2, 'a', 'b'}"
      ]
     },
     "execution_count": 36,
     "metadata": {},
     "output_type": "execute_result"
    }
   ],
   "execution_count": 36
  },
  {
   "metadata": {
    "ExecuteTime": {
     "end_time": "2024-09-30T14:53:24.994673Z",
     "start_time": "2024-09-30T14:53:24.991405Z"
    }
   },
   "cell_type": "code",
   "source": [
    "s1 = {1, 2}\n",
    "s2 = frozenset(s1)"
   ],
   "id": "6a3b7aec8032c3d6",
   "outputs": [],
   "execution_count": 37
  },
  {
   "metadata": {
    "ExecuteTime": {
     "end_time": "2024-09-30T14:53:31.238207Z",
     "start_time": "2024-09-30T14:53:31.234657Z"
    }
   },
   "cell_type": "code",
   "source": "s1, s2",
   "id": "77ce18886808615a",
   "outputs": [
    {
     "data": {
      "text/plain": [
       "({1, 2}, frozenset({1, 2}))"
      ]
     },
     "execution_count": 38,
     "metadata": {},
     "output_type": "execute_result"
    }
   ],
   "execution_count": 38
  },
  {
   "metadata": {
    "ExecuteTime": {
     "end_time": "2024-09-30T14:53:38.275329Z",
     "start_time": "2024-09-30T14:53:38.270537Z"
    }
   },
   "cell_type": "code",
   "source": "s1 is s2",
   "id": "d1588c855043130e",
   "outputs": [
    {
     "data": {
      "text/plain": [
       "False"
      ]
     },
     "execution_count": 39,
     "metadata": {},
     "output_type": "execute_result"
    }
   ],
   "execution_count": 39
  },
  {
   "metadata": {
    "ExecuteTime": {
     "end_time": "2024-09-30T14:53:41.434466Z",
     "start_time": "2024-09-30T14:53:41.429835Z"
    }
   },
   "cell_type": "code",
   "source": "s1 == s2",
   "id": "942395bb05460e37",
   "outputs": [
    {
     "data": {
      "text/plain": [
       "True"
      ]
     },
     "execution_count": 40,
     "metadata": {},
     "output_type": "execute_result"
    }
   ],
   "execution_count": 40
  },
  {
   "metadata": {
    "ExecuteTime": {
     "end_time": "2024-09-30T14:54:07.518465Z",
     "start_time": "2024-09-30T14:54:07.514009Z"
    }
   },
   "cell_type": "code",
   "source": "1 == 1.0",
   "id": "3a3ddb8469c5cc23",
   "outputs": [
    {
     "data": {
      "text/plain": [
       "True"
      ]
     },
     "execution_count": 41,
     "metadata": {},
     "output_type": "execute_result"
    }
   ],
   "execution_count": 41
  },
  {
   "metadata": {
    "ExecuteTime": {
     "end_time": "2024-09-30T14:54:11.347478Z",
     "start_time": "2024-09-30T14:54:11.343603Z"
    }
   },
   "cell_type": "code",
   "source": "1 is 1.0",
   "id": "95a6fb590a71b762",
   "outputs": [
    {
     "name": "stderr",
     "output_type": "stream",
     "text": [
      "<>:1: SyntaxWarning: \"is\" with 'int' literal. Did you mean \"==\"?\n",
      "<>:1: SyntaxWarning: \"is\" with 'int' literal. Did you mean \"==\"?\n",
      "/tmp/ipykernel_97666/151514465.py:1: SyntaxWarning: \"is\" with 'int' literal. Did you mean \"==\"?\n",
      "  1 is 1.0\n"
     ]
    },
    {
     "data": {
      "text/plain": [
       "False"
      ]
     },
     "execution_count": 42,
     "metadata": {},
     "output_type": "execute_result"
    }
   ],
   "execution_count": 42
  },
  {
   "metadata": {
    "ExecuteTime": {
     "end_time": "2024-09-30T14:57:28.203929Z",
     "start_time": "2024-09-30T14:57:28.199574Z"
    }
   },
   "cell_type": "code",
   "source": [
    "class Person:\n",
    "    def __init__(self, name, age):\n",
    "        self._name = name\n",
    "        self._age = age\n",
    "    \n",
    "    def __repr__(self):\n",
    "        return f\"Person(name={self._name}, age={self._age})\"\n",
    "\n",
    "    @property\n",
    "    def name(self):\n",
    "        return self._name\n",
    "    \n",
    "    @property\n",
    "    def age(self):\n",
    "        return self._age\n",
    "    \n",
    "    def key(self):\n",
    "        return frozenset({self.name, self.age})"
   ],
   "id": "b1272dfe8f6bb590",
   "outputs": [],
   "execution_count": 43
  },
  {
   "metadata": {
    "ExecuteTime": {
     "end_time": "2024-09-30T14:57:59.014325Z",
     "start_time": "2024-09-30T14:57:59.011158Z"
    }
   },
   "cell_type": "code",
   "source": [
    "p1 = Person('John', 78)\n",
    "p2 = Person('Eric', 75)"
   ],
   "id": "de0fd5d365d038d",
   "outputs": [],
   "execution_count": 44
  },
  {
   "metadata": {
    "ExecuteTime": {
     "end_time": "2024-09-30T14:58:19.970721Z",
     "start_time": "2024-09-30T14:58:19.967520Z"
    }
   },
   "cell_type": "code",
   "source": "d = {p1.key(): p1, p2.key(): p2}",
   "id": "729f590e02e076e8",
   "outputs": [],
   "execution_count": 45
  },
  {
   "metadata": {
    "ExecuteTime": {
     "end_time": "2024-09-30T14:58:21.557335Z",
     "start_time": "2024-09-30T14:58:21.552689Z"
    }
   },
   "cell_type": "code",
   "source": "d",
   "id": "878dc062bda5881c",
   "outputs": [
    {
     "data": {
      "text/plain": [
       "{frozenset({78, 'John'}): Person(name=John, age=78),\n",
       " frozenset({75, 'Eric'}): Person(name=Eric, age=75)}"
      ]
     },
     "execution_count": 46,
     "metadata": {},
     "output_type": "execute_result"
    }
   ],
   "execution_count": 46
  },
  {
   "metadata": {
    "ExecuteTime": {
     "end_time": "2024-09-30T14:58:48.853875Z",
     "start_time": "2024-09-30T14:58:48.849486Z"
    }
   },
   "cell_type": "code",
   "source": "d[frozenset(['John', 78])]",
   "id": "bc7b1cf6277c35d5",
   "outputs": [
    {
     "data": {
      "text/plain": [
       "Person(name=John, age=78)"
      ]
     },
     "execution_count": 47,
     "metadata": {},
     "output_type": "execute_result"
    }
   ],
   "execution_count": 47
  },
  {
   "metadata": {
    "ExecuteTime": {
     "end_time": "2024-09-30T14:59:07.938361Z",
     "start_time": "2024-09-30T14:59:07.933715Z"
    }
   },
   "cell_type": "code",
   "source": "p1 == Person('John', 78)",
   "id": "4f4056ee76bf1c34",
   "outputs": [
    {
     "data": {
      "text/plain": [
       "False"
      ]
     },
     "execution_count": 48,
     "metadata": {},
     "output_type": "execute_result"
    }
   ],
   "execution_count": 48
  },
  {
   "metadata": {
    "ExecuteTime": {
     "end_time": "2024-09-30T14:59:48.389299Z",
     "start_time": "2024-09-30T14:59:48.386481Z"
    }
   },
   "cell_type": "code",
   "source": "from functools import lru_cache",
   "id": "542ae89b510fab1a",
   "outputs": [],
   "execution_count": 49
  },
  {
   "metadata": {
    "ExecuteTime": {
     "end_time": "2024-09-30T15:15:01.693792Z",
     "start_time": "2024-09-30T15:15:01.690583Z"
    }
   },
   "cell_type": "code",
   "source": [
    "@lru_cache()\n",
    "def my_func(*, a, b):\n",
    "    print('calculating a+b...')\n",
    "    return a + b"
   ],
   "id": "85f5faecf193c129",
   "outputs": [],
   "execution_count": 51
  },
  {
   "metadata": {
    "ExecuteTime": {
     "end_time": "2024-09-30T15:15:14.114985Z",
     "start_time": "2024-09-30T15:15:14.110748Z"
    }
   },
   "cell_type": "code",
   "source": "my_func(a=1, b=2)",
   "id": "fdc4fc94535de566",
   "outputs": [
    {
     "name": "stdout",
     "output_type": "stream",
     "text": [
      "calculating a+b...\n"
     ]
    },
    {
     "data": {
      "text/plain": [
       "3"
      ]
     },
     "execution_count": 52,
     "metadata": {},
     "output_type": "execute_result"
    }
   ],
   "execution_count": 52
  },
  {
   "metadata": {
    "ExecuteTime": {
     "end_time": "2024-09-30T15:15:19.863685Z",
     "start_time": "2024-09-30T15:15:19.859072Z"
    }
   },
   "cell_type": "code",
   "source": "my_func(a=1, b=2)",
   "id": "8662e1b63d50e4bf",
   "outputs": [
    {
     "data": {
      "text/plain": [
       "3"
      ]
     },
     "execution_count": 53,
     "metadata": {},
     "output_type": "execute_result"
    }
   ],
   "execution_count": 53
  },
  {
   "metadata": {
    "ExecuteTime": {
     "end_time": "2024-09-30T15:15:57.655831Z",
     "start_time": "2024-09-30T15:15:57.650810Z"
    }
   },
   "cell_type": "code",
   "source": "my_func(b=2, a=1)",
   "id": "641c37683a4dfbf2",
   "outputs": [
    {
     "name": "stdout",
     "output_type": "stream",
     "text": [
      "calculating a+b...\n"
     ]
    },
    {
     "data": {
      "text/plain": [
       "3"
      ]
     },
     "execution_count": 54,
     "metadata": {},
     "output_type": "execute_result"
    }
   ],
   "execution_count": 54
  },
  {
   "metadata": {
    "ExecuteTime": {
     "end_time": "2024-09-30T15:16:05.272592Z",
     "start_time": "2024-09-30T15:16:05.267445Z"
    }
   },
   "cell_type": "code",
   "source": "my_func(b=2, a=1)",
   "id": "86c54daf3204756b",
   "outputs": [
    {
     "data": {
      "text/plain": [
       "3"
      ]
     },
     "execution_count": 55,
     "metadata": {},
     "output_type": "execute_result"
    }
   ],
   "execution_count": 55
  },
  {
   "metadata": {
    "ExecuteTime": {
     "end_time": "2024-09-30T15:16:50.044428Z",
     "start_time": "2024-09-30T15:16:50.039545Z"
    }
   },
   "cell_type": "code",
   "source": "my_func(a='a', b='b')",
   "id": "129803e1bf30b0a3",
   "outputs": [
    {
     "name": "stdout",
     "output_type": "stream",
     "text": [
      "calculating a+b...\n"
     ]
    },
    {
     "data": {
      "text/plain": [
       "'ab'"
      ]
     },
     "execution_count": 56,
     "metadata": {},
     "output_type": "execute_result"
    }
   ],
   "execution_count": 56
  },
  {
   "metadata": {
    "ExecuteTime": {
     "end_time": "2024-09-30T15:16:55.402256Z",
     "start_time": "2024-09-30T15:16:55.397506Z"
    }
   },
   "cell_type": "code",
   "source": "my_func(a='a', b='b')",
   "id": "cd438b52f53a9210",
   "outputs": [
    {
     "data": {
      "text/plain": [
       "'ab'"
      ]
     },
     "execution_count": 57,
     "metadata": {},
     "output_type": "execute_result"
    }
   ],
   "execution_count": 57
  },
  {
   "metadata": {
    "ExecuteTime": {
     "end_time": "2024-09-30T15:17:05.727925Z",
     "start_time": "2024-09-30T15:17:05.722009Z"
    }
   },
   "cell_type": "code",
   "source": "my_func(b='b', a='a')",
   "id": "91c988a9a3c0b818",
   "outputs": [
    {
     "name": "stdout",
     "output_type": "stream",
     "text": [
      "calculating a+b...\n"
     ]
    },
    {
     "data": {
      "text/plain": [
       "'ab'"
      ]
     },
     "execution_count": 58,
     "metadata": {},
     "output_type": "execute_result"
    }
   ],
   "execution_count": 58
  },
  {
   "metadata": {
    "ExecuteTime": {
     "end_time": "2024-09-30T15:18:33.561871Z",
     "start_time": "2024-09-30T15:18:33.558406Z"
    }
   },
   "cell_type": "code",
   "source": [
    "def my_func2(*, a, b):\n",
    "    print('calculating a+b...')\n",
    "    return a + b"
   ],
   "id": "92a5950c379fe550",
   "outputs": [],
   "execution_count": 59
  },
  {
   "metadata": {
    "ExecuteTime": {
     "end_time": "2024-09-30T15:18:45.975008Z",
     "start_time": "2024-09-30T15:18:45.969498Z"
    }
   },
   "cell_type": "code",
   "source": "my_func2(a=[1, 2, 3], b=[3, 4, 5])",
   "id": "ad6eea8aed1b5559",
   "outputs": [
    {
     "name": "stdout",
     "output_type": "stream",
     "text": [
      "calculating a+b...\n"
     ]
    },
    {
     "data": {
      "text/plain": [
       "[1, 2, 3, 3, 4, 5]"
      ]
     },
     "execution_count": 60,
     "metadata": {},
     "output_type": "execute_result"
    }
   ],
   "execution_count": 60
  },
  {
   "metadata": {
    "ExecuteTime": {
     "end_time": "2024-09-30T15:19:12.400295Z",
     "start_time": "2024-09-30T15:19:12.389311Z"
    }
   },
   "cell_type": "code",
   "source": "my_func(a=[1, 2, 3], b=[3, 4, 5])",
   "id": "5163634808d2be10",
   "outputs": [
    {
     "ename": "TypeError",
     "evalue": "unhashable type: 'list'",
     "output_type": "error",
     "traceback": [
      "\u001B[0;31m---------------------------------------------------------------------------\u001B[0m",
      "\u001B[0;31mTypeError\u001B[0m                                 Traceback (most recent call last)",
      "Cell \u001B[0;32mIn[61], line 1\u001B[0m\n\u001B[0;32m----> 1\u001B[0m \u001B[43mmy_func\u001B[49m\u001B[43m(\u001B[49m\u001B[43ma\u001B[49m\u001B[38;5;241;43m=\u001B[39;49m\u001B[43m[\u001B[49m\u001B[38;5;241;43m1\u001B[39;49m\u001B[43m,\u001B[49m\u001B[43m \u001B[49m\u001B[38;5;241;43m2\u001B[39;49m\u001B[43m,\u001B[49m\u001B[43m \u001B[49m\u001B[38;5;241;43m3\u001B[39;49m\u001B[43m]\u001B[49m\u001B[43m,\u001B[49m\u001B[43m \u001B[49m\u001B[43mb\u001B[49m\u001B[38;5;241;43m=\u001B[39;49m\u001B[43m[\u001B[49m\u001B[38;5;241;43m3\u001B[39;49m\u001B[43m,\u001B[49m\u001B[43m \u001B[49m\u001B[38;5;241;43m4\u001B[39;49m\u001B[43m,\u001B[49m\u001B[43m \u001B[49m\u001B[38;5;241;43m5\u001B[39;49m\u001B[43m]\u001B[49m\u001B[43m)\u001B[49m\n",
      "\u001B[0;31mTypeError\u001B[0m: unhashable type: 'list'"
     ]
    }
   ],
   "execution_count": 61
  },
  {
   "metadata": {
    "ExecuteTime": {
     "end_time": "2024-09-30T15:23:46.648800Z",
     "start_time": "2024-09-30T15:23:46.645547Z"
    }
   },
   "cell_type": "code",
   "source": [
    "def memoizer(fn):\n",
    "    cache = {}\n",
    "    \n",
    "    def inner(*args, **kwargs):\n",
    "        key = (*args, frozenset(kwargs.items()))\n",
    "        if key not in cache:\n",
    "            result = fn(*args, **kwargs)\n",
    "            cache[key] = result\n",
    "        return cache[key]\n",
    "    \n",
    "    return inner"
   ],
   "id": "81a2d1c7c1824a67",
   "outputs": [],
   "execution_count": 62
  },
  {
   "metadata": {
    "ExecuteTime": {
     "end_time": "2024-09-30T15:24:24.320261Z",
     "start_time": "2024-09-30T15:24:24.317057Z"
    }
   },
   "cell_type": "code",
   "source": [
    "@memoizer\n",
    "def my_func(*, a, b):\n",
    "    print('calculating a+b')\n",
    "    return a + b"
   ],
   "id": "4cb345ec98d4c186",
   "outputs": [],
   "execution_count": 63
  },
  {
   "metadata": {
    "ExecuteTime": {
     "end_time": "2024-09-30T15:24:33.869551Z",
     "start_time": "2024-09-30T15:24:33.865239Z"
    }
   },
   "cell_type": "code",
   "source": "my_func(a=1, b=2)",
   "id": "b518ed8e469bbb31",
   "outputs": [
    {
     "name": "stdout",
     "output_type": "stream",
     "text": [
      "calculating a+b\n"
     ]
    },
    {
     "data": {
      "text/plain": [
       "3"
      ]
     },
     "execution_count": 64,
     "metadata": {},
     "output_type": "execute_result"
    }
   ],
   "execution_count": 64
  },
  {
   "metadata": {
    "ExecuteTime": {
     "end_time": "2024-09-30T15:24:43.211600Z",
     "start_time": "2024-09-30T15:24:43.207390Z"
    }
   },
   "cell_type": "code",
   "source": "my_func(b=2, a=1)",
   "id": "5982466654d9161b",
   "outputs": [
    {
     "data": {
      "text/plain": [
       "3"
      ]
     },
     "execution_count": 65,
     "metadata": {},
     "output_type": "execute_result"
    }
   ],
   "execution_count": 65
  },
  {
   "metadata": {
    "ExecuteTime": {
     "end_time": "2024-09-30T15:28:00.411053Z",
     "start_time": "2024-09-30T15:28:00.406933Z"
    }
   },
   "cell_type": "code",
   "source": [
    "def memoizer(fn):\n",
    "    cache = {}\n",
    "    \n",
    "    def inner(*args, **kwargs):\n",
    "        key = frozenset(args) | frozenset(kwargs.items())\n",
    "        if key not in cache:\n",
    "            result = fn(*args, **kwargs)\n",
    "            cache[key] = result\n",
    "        return cache[key]\n",
    "    \n",
    "    return inner"
   ],
   "id": "a251f6a38e2a72fa",
   "outputs": [],
   "execution_count": 66
  },
  {
   "metadata": {
    "ExecuteTime": {
     "end_time": "2024-09-30T15:28:28.813Z",
     "start_time": "2024-09-30T15:28:28.810445Z"
    }
   },
   "cell_type": "code",
   "source": [
    "@memoizer\n",
    "def adder(*args):\n",
    "    print('calculating...')\n",
    "    return sum(args)"
   ],
   "id": "b76fe0b02de36eb5",
   "outputs": [],
   "execution_count": 67
  },
  {
   "metadata": {
    "ExecuteTime": {
     "end_time": "2024-09-30T15:28:36.764661Z",
     "start_time": "2024-09-30T15:28:36.760271Z"
    }
   },
   "cell_type": "code",
   "source": "adder(1, 2, 3)",
   "id": "cfcf8b82ce277ad",
   "outputs": [
    {
     "name": "stdout",
     "output_type": "stream",
     "text": [
      "calculating...\n"
     ]
    },
    {
     "data": {
      "text/plain": [
       "6"
      ]
     },
     "execution_count": 68,
     "metadata": {},
     "output_type": "execute_result"
    }
   ],
   "execution_count": 68
  },
  {
   "metadata": {
    "ExecuteTime": {
     "end_time": "2024-09-30T15:28:42.013823Z",
     "start_time": "2024-09-30T15:28:42.010188Z"
    }
   },
   "cell_type": "code",
   "source": "adder(2, 1, 3)",
   "id": "56364c8458e32a07",
   "outputs": [
    {
     "data": {
      "text/plain": [
       "6"
      ]
     },
     "execution_count": 69,
     "metadata": {},
     "output_type": "execute_result"
    }
   ],
   "execution_count": 69
  },
  {
   "metadata": {
    "ExecuteTime": {
     "end_time": "2024-09-30T15:29:07.013789Z",
     "start_time": "2024-09-30T15:29:07.009855Z"
    }
   },
   "cell_type": "code",
   "source": "adder(3, 1, 2)",
   "id": "5cf5eed30f3716ba",
   "outputs": [
    {
     "data": {
      "text/plain": [
       "6"
      ]
     },
     "execution_count": 71,
     "metadata": {},
     "output_type": "execute_result"
    }
   ],
   "execution_count": 71
  },
  {
   "metadata": {},
   "cell_type": "code",
   "outputs": [],
   "execution_count": null,
   "source": "",
   "id": "5627c84c7f142e4d"
  }
 ],
 "metadata": {
  "kernelspec": {
   "display_name": "Python 3",
   "language": "python",
   "name": "python3"
  },
  "language_info": {
   "codemirror_mode": {
    "name": "ipython",
    "version": 2
   },
   "file_extension": ".py",
   "mimetype": "text/x-python",
   "name": "python",
   "nbconvert_exporter": "python",
   "pygments_lexer": "ipython2",
   "version": "2.7.6"
  }
 },
 "nbformat": 4,
 "nbformat_minor": 5
}
