{
 "cells": [
  {
   "cell_type": "code",
   "id": "initial_id",
   "metadata": {
    "collapsed": true,
    "ExecuteTime": {
     "end_time": "2024-09-29T17:01:57.527404Z",
     "start_time": "2024-09-29T17:01:57.524949Z"
    }
   },
   "source": "s = {1, 2, 3}",
   "outputs": [],
   "execution_count": 1
  },
  {
   "metadata": {
    "ExecuteTime": {
     "end_time": "2024-09-29T17:01:59.454140Z",
     "start_time": "2024-09-29T17:01:59.447296Z"
    }
   },
   "cell_type": "code",
   "source": "len(s)",
   "id": "ae3c616c4ac9cc2",
   "outputs": [
    {
     "data": {
      "text/plain": [
       "3"
      ]
     },
     "execution_count": 2,
     "metadata": {},
     "output_type": "execute_result"
    }
   ],
   "execution_count": 2
  },
  {
   "metadata": {
    "ExecuteTime": {
     "end_time": "2024-09-29T17:02:08.513891Z",
     "start_time": "2024-09-29T17:02:08.509964Z"
    }
   },
   "cell_type": "code",
   "source": "1 in s",
   "id": "3ef8bb71dab621ac",
   "outputs": [
    {
     "data": {
      "text/plain": [
       "True"
      ]
     },
     "execution_count": 4,
     "metadata": {},
     "output_type": "execute_result"
    }
   ],
   "execution_count": 4
  },
  {
   "metadata": {
    "ExecuteTime": {
     "end_time": "2024-09-29T17:02:12.103325Z",
     "start_time": "2024-09-29T17:02:12.098898Z"
    }
   },
   "cell_type": "code",
   "source": "5 in s",
   "id": "a66a5682d5e6cbd9",
   "outputs": [
    {
     "data": {
      "text/plain": [
       "False"
      ]
     },
     "execution_count": 5,
     "metadata": {},
     "output_type": "execute_result"
    }
   ],
   "execution_count": 5
  },
  {
   "metadata": {
    "ExecuteTime": {
     "end_time": "2024-09-29T17:05:42.187347Z",
     "start_time": "2024-09-29T17:05:42.184243Z"
    }
   },
   "cell_type": "code",
   "source": "from timeit import timeit",
   "id": "b2c685a2d92b665b",
   "outputs": [],
   "execution_count": 11
  },
  {
   "metadata": {
    "ExecuteTime": {
     "end_time": "2024-09-29T17:05:42.447581Z",
     "start_time": "2024-09-29T17:05:42.418116Z"
    }
   },
   "cell_type": "code",
   "source": [
    "n = 10**5\n",
    "s = {i for i in range(n)}\n",
    "l = [i for i in range(n)]\n",
    "d = {i: None for i in range(n)}"
   ],
   "id": "647f1216043f4df8",
   "outputs": [],
   "execution_count": 12
  },
  {
   "metadata": {
    "ExecuteTime": {
     "end_time": "2024-09-29T17:06:07.784419Z",
     "start_time": "2024-09-29T17:06:07.630188Z"
    }
   },
   "cell_type": "code",
   "source": [
    "number = 10**6\n",
    "search = 9\n",
    "\n",
    "t_list = timeit(f'{search} in l', globals=globals(), number=number) \n",
    "t_set = timeit(f'{search} in s', globals=globals(), number=number) \n",
    "t_dict = timeit(f'{search} in d', globals=globals(), number=number)\n",
    "\n",
    "print(t_list)\n",
    "print(t_set)\n",
    "print(t_dict)"
   ],
   "id": "c252908f751dc5d1",
   "outputs": [
    {
     "name": "stdout",
     "output_type": "stream",
     "text": [
      "0.09966847199393669\n",
      "0.021527673001401126\n",
      "0.02831741900445195\n"
     ]
    }
   ],
   "execution_count": 14
  },
  {
   "metadata": {
    "ExecuteTime": {
     "end_time": "2024-09-29T17:06:35.584993Z",
     "start_time": "2024-09-29T17:06:33.186947Z"
    }
   },
   "cell_type": "code",
   "source": [
    "number = 3_000\n",
    "search = 99_999_999\n",
    "\n",
    "t_list = timeit(f'{search} in l', globals=globals(), number=number) \n",
    "t_set = timeit(f'{search} in s', globals=globals(), number=number) \n",
    "t_dict = timeit(f'{search} in d', globals=globals(), number=number)\n",
    "\n",
    "print(t_list)\n",
    "print(t_set)\n",
    "print(t_dict)"
   ],
   "id": "b861c967ba4c4856",
   "outputs": [
    {
     "name": "stdout",
     "output_type": "stream",
     "text": [
      "2.3938986689972808\n",
      "7.316000119317323e-05\n",
      "8.687099762028083e-05\n"
     ]
    }
   ],
   "execution_count": 15
  },
  {
   "metadata": {
    "ExecuteTime": {
     "end_time": "2024-09-29T17:07:48.619907Z",
     "start_time": "2024-09-29T17:07:46.277296Z"
    }
   },
   "cell_type": "code",
   "source": [
    "number = 3_000\n",
    "search = -1\n",
    "\n",
    "t_list = timeit(f'{search} not in l', globals=globals(), number=number) \n",
    "t_set = timeit(f'{search} not in s', globals=globals(), number=number) \n",
    "t_dict = timeit(f'{search} not in d', globals=globals(), number=number)\n",
    "\n",
    "print(t_list)\n",
    "print(t_set)\n",
    "print(t_dict)"
   ],
   "id": "afa261818f4c4d1d",
   "outputs": [
    {
     "name": "stdout",
     "output_type": "stream",
     "text": [
      "2.3382072169988533\n",
      "6.223099626367912e-05\n",
      "7.02700053807348e-05\n"
     ]
    }
   ],
   "execution_count": 16
  },
  {
   "metadata": {
    "ExecuteTime": {
     "end_time": "2024-09-29T17:08:50.787235Z",
     "start_time": "2024-09-29T17:08:50.783498Z"
    }
   },
   "cell_type": "code",
   "source": [
    "print(l.__sizeof__())\n",
    "print(s.__sizeof__())\n",
    "print(d.__sizeof__())"
   ],
   "id": "33f68f3a40b454c6",
   "outputs": [
    {
     "name": "stdout",
     "output_type": "stream",
     "text": [
      "800968\n",
      "4194504\n",
      "5242944\n"
     ]
    }
   ],
   "execution_count": 17
  },
  {
   "metadata": {
    "ExecuteTime": {
     "end_time": "2024-09-29T17:09:35.258230Z",
     "start_time": "2024-09-29T17:09:35.254308Z"
    }
   },
   "cell_type": "code",
   "source": [
    "s = set()\n",
    "d = dict()\n",
    "l = list()"
   ],
   "id": "3b8b89848d500c4d",
   "outputs": [],
   "execution_count": 20
  },
  {
   "metadata": {
    "ExecuteTime": {
     "end_time": "2024-09-29T17:09:35.721550Z",
     "start_time": "2024-09-29T17:09:35.717032Z"
    }
   },
   "cell_type": "code",
   "source": [
    "print(l.__sizeof__())\n",
    "print(s.__sizeof__())\n",
    "print(d.__sizeof__())"
   ],
   "id": "f6f5e762f48ef7bf",
   "outputs": [
    {
     "name": "stdout",
     "output_type": "stream",
     "text": [
      "40\n",
      "200\n",
      "48\n"
     ]
    }
   ],
   "execution_count": 21
  },
  {
   "metadata": {
    "ExecuteTime": {
     "end_time": "2024-09-29T17:10:06.116379Z",
     "start_time": "2024-09-29T17:10:06.112810Z"
    }
   },
   "cell_type": "code",
   "source": [
    "s.add(10)\n",
    "d[10] = None\n",
    "l.append(10)"
   ],
   "id": "8b1dda6785e51974",
   "outputs": [],
   "execution_count": 22
  },
  {
   "metadata": {
    "ExecuteTime": {
     "end_time": "2024-09-29T17:10:09.392559Z",
     "start_time": "2024-09-29T17:10:09.387792Z"
    }
   },
   "cell_type": "code",
   "source": [
    "print(l.__sizeof__())\n",
    "print(s.__sizeof__())\n",
    "print(d.__sizeof__())"
   ],
   "id": "3fd633f0d389058e",
   "outputs": [
    {
     "name": "stdout",
     "output_type": "stream",
     "text": [
      "72\n",
      "200\n",
      "208\n"
     ]
    }
   ],
   "execution_count": 23
  },
  {
   "metadata": {
    "ExecuteTime": {
     "end_time": "2024-09-30T08:18:33.310122Z",
     "start_time": "2024-09-30T08:18:33.306505Z"
    }
   },
   "cell_type": "code",
   "source": "s = {1, 2, 3}",
   "id": "3aaa60ef5f8f6b2a",
   "outputs": [],
   "execution_count": 26
  },
  {
   "metadata": {
    "ExecuteTime": {
     "end_time": "2024-09-30T08:18:35.943846Z",
     "start_time": "2024-09-30T08:18:35.940715Z"
    }
   },
   "cell_type": "code",
   "source": "s.remove(1)",
   "id": "6a8e9caa20136dfe",
   "outputs": [],
   "execution_count": 28
  },
  {
   "metadata": {
    "ExecuteTime": {
     "end_time": "2024-09-30T08:18:41.620615Z",
     "start_time": "2024-09-30T08:18:41.615703Z"
    }
   },
   "cell_type": "code",
   "source": "s",
   "id": "a9c7176359233993",
   "outputs": [
    {
     "data": {
      "text/plain": [
       "{2, 3}"
      ]
     },
     "execution_count": 29,
     "metadata": {},
     "output_type": "execute_result"
    }
   ],
   "execution_count": 29
  },
  {
   "metadata": {
    "ExecuteTime": {
     "end_time": "2024-09-30T08:18:53.095262Z",
     "start_time": "2024-09-30T08:18:53.091756Z"
    }
   },
   "cell_type": "code",
   "source": "s.discard(1)",
   "id": "3a6d6138c0224b28",
   "outputs": [],
   "execution_count": 31
  },
  {
   "metadata": {
    "ExecuteTime": {
     "end_time": "2024-09-30T08:18:54.477031Z",
     "start_time": "2024-09-30T08:18:54.471882Z"
    }
   },
   "cell_type": "code",
   "source": "s",
   "id": "29eeb547965ad4f1",
   "outputs": [
    {
     "data": {
      "text/plain": [
       "{2, 3}"
      ]
     },
     "execution_count": 32,
     "metadata": {},
     "output_type": "execute_result"
    }
   ],
   "execution_count": 32
  },
  {
   "metadata": {
    "ExecuteTime": {
     "end_time": "2024-09-30T08:19:10.999746Z",
     "start_time": "2024-09-30T08:19:10.996585Z"
    }
   },
   "cell_type": "code",
   "source": "s = {1, 2, 3}",
   "id": "5dcb86c0fb4be4e",
   "outputs": [],
   "execution_count": 33
  },
  {
   "metadata": {
    "ExecuteTime": {
     "end_time": "2024-09-30T08:19:15.557429Z",
     "start_time": "2024-09-30T08:19:15.554578Z"
    }
   },
   "cell_type": "code",
   "source": "s.remove(1+0j)",
   "id": "431e8e4867a03fc2",
   "outputs": [],
   "execution_count": 34
  },
  {
   "metadata": {
    "ExecuteTime": {
     "end_time": "2024-09-30T08:19:16.865579Z",
     "start_time": "2024-09-30T08:19:16.861168Z"
    }
   },
   "cell_type": "code",
   "source": "s",
   "id": "cea1eb75b00af313",
   "outputs": [
    {
     "data": {
      "text/plain": [
       "{2, 3}"
      ]
     },
     "execution_count": 35,
     "metadata": {},
     "output_type": "execute_result"
    }
   ],
   "execution_count": 35
  },
  {
   "metadata": {
    "ExecuteTime": {
     "end_time": "2024-09-30T08:19:25.860565Z",
     "start_time": "2024-09-30T08:19:25.842057Z"
    }
   },
   "cell_type": "code",
   "source": "s.remove(100)",
   "id": "e7fed37998061152",
   "outputs": [
    {
     "ename": "KeyError",
     "evalue": "100",
     "output_type": "error",
     "traceback": [
      "\u001B[0;31m---------------------------------------------------------------------------\u001B[0m",
      "\u001B[0;31mKeyError\u001B[0m                                  Traceback (most recent call last)",
      "Cell \u001B[0;32mIn[36], line 1\u001B[0m\n\u001B[0;32m----> 1\u001B[0m \u001B[43ms\u001B[49m\u001B[38;5;241;43m.\u001B[39;49m\u001B[43mremove\u001B[49m\u001B[43m(\u001B[49m\u001B[38;5;241;43m100\u001B[39;49m\u001B[43m)\u001B[49m\n",
      "\u001B[0;31mKeyError\u001B[0m: 100"
     ]
    }
   ],
   "execution_count": 36
  },
  {
   "metadata": {
    "ExecuteTime": {
     "end_time": "2024-09-30T08:20:31.877193Z",
     "start_time": "2024-09-30T08:20:31.872476Z"
    }
   },
   "cell_type": "code",
   "source": "s = set('python')",
   "id": "d6c635f577d73f3f",
   "outputs": [],
   "execution_count": 44
  },
  {
   "metadata": {
    "ExecuteTime": {
     "end_time": "2024-09-30T08:20:32.052510Z",
     "start_time": "2024-09-30T08:20:32.048940Z"
    }
   },
   "cell_type": "code",
   "source": "s",
   "id": "fcaadea022335da0",
   "outputs": [
    {
     "data": {
      "text/plain": [
       "{'h', 'n', 'o', 'p', 't', 'y'}"
      ]
     },
     "execution_count": 45,
     "metadata": {},
     "output_type": "execute_result"
    }
   ],
   "execution_count": 45
  },
  {
   "metadata": {
    "ExecuteTime": {
     "end_time": "2024-09-30T08:20:32.207778Z",
     "start_time": "2024-09-30T08:20:32.203406Z"
    }
   },
   "cell_type": "code",
   "source": "s.pop(), s.pop(), s.pop()",
   "id": "781c42b34707c180",
   "outputs": [
    {
     "data": {
      "text/plain": [
       "('o', 't', 'y')"
      ]
     },
     "execution_count": 46,
     "metadata": {},
     "output_type": "execute_result"
    }
   ],
   "execution_count": 46
  },
  {
   "metadata": {
    "ExecuteTime": {
     "end_time": "2024-09-30T08:20:32.901973Z",
     "start_time": "2024-09-30T08:20:32.898852Z"
    }
   },
   "cell_type": "code",
   "source": "s",
   "id": "de18ae75ef0ecf87",
   "outputs": [
    {
     "data": {
      "text/plain": [
       "{'h', 'n', 'p'}"
      ]
     },
     "execution_count": 47,
     "metadata": {},
     "output_type": "execute_result"
    }
   ],
   "execution_count": 47
  },
  {
   "metadata": {
    "ExecuteTime": {
     "end_time": "2024-09-30T08:20:46.577935Z",
     "start_time": "2024-09-30T08:20:46.556842Z"
    }
   },
   "cell_type": "code",
   "source": [
    "s = set()\n",
    "s.pop()"
   ],
   "id": "de6d0e28c9e714bf",
   "outputs": [
    {
     "ename": "KeyError",
     "evalue": "'pop from an empty set'",
     "output_type": "error",
     "traceback": [
      "\u001B[0;31m---------------------------------------------------------------------------\u001B[0m",
      "\u001B[0;31mKeyError\u001B[0m                                  Traceback (most recent call last)",
      "Cell \u001B[0;32mIn[49], line 2\u001B[0m\n\u001B[1;32m      1\u001B[0m s \u001B[38;5;241m=\u001B[39m \u001B[38;5;28mset\u001B[39m()\n\u001B[0;32m----> 2\u001B[0m \u001B[43ms\u001B[49m\u001B[38;5;241;43m.\u001B[39;49m\u001B[43mpop\u001B[49m\u001B[43m(\u001B[49m\u001B[43m)\u001B[49m\n",
      "\u001B[0;31mKeyError\u001B[0m: 'pop from an empty set'"
     ]
    }
   ],
   "execution_count": 49
  },
  {
   "metadata": {
    "ExecuteTime": {
     "end_time": "2024-09-30T08:22:05.193173Z",
     "start_time": "2024-09-30T08:22:05.189632Z"
    }
   },
   "cell_type": "code",
   "source": "s = set('python')",
   "id": "6096f48917e30b4b",
   "outputs": [],
   "execution_count": 52
  },
  {
   "metadata": {
    "ExecuteTime": {
     "end_time": "2024-09-30T08:22:05.382201Z",
     "start_time": "2024-09-30T08:22:05.379031Z"
    }
   },
   "cell_type": "code",
   "source": [
    "while len(s) > 0:\n",
    "    print(s.pop())"
   ],
   "id": "ad7feaf86d7dfa67",
   "outputs": [
    {
     "name": "stdout",
     "output_type": "stream",
     "text": [
      "o\n",
      "t\n",
      "y\n",
      "n\n",
      "h\n",
      "p\n"
     ]
    }
   ],
   "execution_count": 53
  },
  {
   "metadata": {
    "ExecuteTime": {
     "end_time": "2024-09-30T08:22:06.872291Z",
     "start_time": "2024-09-30T08:22:06.867359Z"
    }
   },
   "cell_type": "code",
   "source": "s",
   "id": "fa73bf9b016e359a",
   "outputs": [
    {
     "data": {
      "text/plain": [
       "set()"
      ]
     },
     "execution_count": 54,
     "metadata": {},
     "output_type": "execute_result"
    }
   ],
   "execution_count": 54
  },
  {
   "metadata": {
    "ExecuteTime": {
     "end_time": "2024-09-30T08:22:54.824316Z",
     "start_time": "2024-09-30T08:22:54.820083Z"
    }
   },
   "cell_type": "code",
   "source": [
    "s = set('python')\n",
    "\n",
    "while True:\n",
    "    try:\n",
    "        print(s.pop())\n",
    "    except KeyError:\n",
    "        break"
   ],
   "id": "f5b79c0292ec7822",
   "outputs": [
    {
     "name": "stdout",
     "output_type": "stream",
     "text": [
      "o\n",
      "t\n",
      "y\n",
      "n\n",
      "h\n",
      "p\n"
     ]
    }
   ],
   "execution_count": 55
  },
  {
   "metadata": {
    "ExecuteTime": {
     "end_time": "2024-09-30T08:23:02.592551Z",
     "start_time": "2024-09-30T08:23:02.589347Z"
    }
   },
   "cell_type": "code",
   "source": "s = set('abc')",
   "id": "9bb28f0f94e05a2a",
   "outputs": [],
   "execution_count": 56
  },
  {
   "metadata": {
    "ExecuteTime": {
     "end_time": "2024-09-30T08:23:04.297987Z",
     "start_time": "2024-09-30T08:23:04.292853Z"
    }
   },
   "cell_type": "code",
   "source": "s",
   "id": "104dd8e3c4bede9e",
   "outputs": [
    {
     "data": {
      "text/plain": [
       "{'a', 'b', 'c'}"
      ]
     },
     "execution_count": 57,
     "metadata": {},
     "output_type": "execute_result"
    }
   ],
   "execution_count": 57
  },
  {
   "metadata": {
    "ExecuteTime": {
     "end_time": "2024-09-30T08:23:08.457121Z",
     "start_time": "2024-09-30T08:23:08.453923Z"
    }
   },
   "cell_type": "code",
   "source": "s.clear()",
   "id": "5dd100fb853dc424",
   "outputs": [],
   "execution_count": 58
  },
  {
   "metadata": {
    "ExecuteTime": {
     "end_time": "2024-09-30T08:23:09.191233Z",
     "start_time": "2024-09-30T08:23:09.186069Z"
    }
   },
   "cell_type": "code",
   "source": "s",
   "id": "e4f17c7ae0bde0f4",
   "outputs": [
    {
     "data": {
      "text/plain": [
       "set()"
      ]
     },
     "execution_count": 59,
     "metadata": {},
     "output_type": "execute_result"
    }
   ],
   "execution_count": 59
  },
  {
   "metadata": {},
   "cell_type": "code",
   "outputs": [],
   "execution_count": null,
   "source": "",
   "id": "850aa9c8e7882857"
  }
 ],
 "metadata": {
  "kernelspec": {
   "display_name": "Python 3",
   "language": "python",
   "name": "python3"
  },
  "language_info": {
   "codemirror_mode": {
    "name": "ipython",
    "version": 2
   },
   "file_extension": ".py",
   "mimetype": "text/x-python",
   "name": "python",
   "nbconvert_exporter": "python",
   "pygments_lexer": "ipython2",
   "version": "2.7.6"
  }
 },
 "nbformat": 4,
 "nbformat_minor": 5
}
