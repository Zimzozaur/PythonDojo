{
 "cells": [
  {
   "cell_type": "code",
   "id": "initial_id",
   "metadata": {
    "collapsed": true,
    "ExecuteTime": {
     "end_time": "2024-09-30T09:50:21.490082Z",
     "start_time": "2024-09-30T09:50:21.487059Z"
    }
   },
   "source": [
    "s1 = {1, 2, 3}\n",
    "s2 = {2, 3, 4}"
   ],
   "outputs": [],
   "execution_count": 1
  },
  {
   "metadata": {
    "ExecuteTime": {
     "end_time": "2024-09-30T09:50:39.454714Z",
     "start_time": "2024-09-30T09:50:39.451439Z"
    }
   },
   "cell_type": "code",
   "source": [
    "print(s1, id(s1))\n",
    "print(s2, id(s2))"
   ],
   "id": "2b4334e8d2d76ffb",
   "outputs": [
    {
     "name": "stdout",
     "output_type": "stream",
     "text": [
      "{1, 2, 3} 124942016163264\n",
      "{2, 3, 4} 124942016164832\n"
     ]
    }
   ],
   "execution_count": 2
  },
  {
   "metadata": {
    "ExecuteTime": {
     "end_time": "2024-09-30T09:51:02.628308Z",
     "start_time": "2024-09-30T09:51:02.625315Z"
    }
   },
   "cell_type": "code",
   "source": "s1 = s1 & s2",
   "id": "42d680363cd0ce4b",
   "outputs": [],
   "execution_count": 3
  },
  {
   "metadata": {
    "ExecuteTime": {
     "end_time": "2024-09-30T09:51:05.374425Z",
     "start_time": "2024-09-30T09:51:05.371083Z"
    }
   },
   "cell_type": "code",
   "source": [
    "print(s1, id(s1))\n",
    "print(s2, id(s2))"
   ],
   "id": "1b33529d77af83b",
   "outputs": [
    {
     "name": "stdout",
     "output_type": "stream",
     "text": [
      "{2, 3} 124942012777632\n",
      "{2, 3, 4} 124942016164832\n"
     ]
    }
   ],
   "execution_count": 4
  },
  {
   "metadata": {
    "ExecuteTime": {
     "end_time": "2024-09-30T09:51:51.427467Z",
     "start_time": "2024-09-30T09:51:51.422040Z"
    }
   },
   "cell_type": "code",
   "source": "id(globals()['s1'])",
   "id": "85bd80eefadfd3d7",
   "outputs": [
    {
     "data": {
      "text/plain": [
       "124942012777632"
      ]
     },
     "execution_count": 6,
     "metadata": {},
     "output_type": "execute_result"
    }
   ],
   "execution_count": 6
  },
  {
   "metadata": {
    "ExecuteTime": {
     "end_time": "2024-09-30T09:57:31.126419Z",
     "start_time": "2024-09-30T09:57:31.123747Z"
    }
   },
   "cell_type": "code",
   "source": [
    "s1 = {1, 2, 3}\n",
    "s2 = {2, 3, 4}"
   ],
   "id": "4fbbbb0507ffc62b",
   "outputs": [],
   "execution_count": 28
  },
  {
   "metadata": {
    "ExecuteTime": {
     "end_time": "2024-09-30T09:57:52.308405Z",
     "start_time": "2024-09-30T09:57:52.304718Z"
    }
   },
   "cell_type": "code",
   "source": [
    "print(s1, id(s1))\n",
    "s1 |= s2\n",
    "print(s1, id(s1))"
   ],
   "id": "69b37f22e715619e",
   "outputs": [
    {
     "name": "stdout",
     "output_type": "stream",
     "text": [
      "{1, 2, 3} 124942012782560\n",
      "{1, 2, 3, 4} 124942012782560\n"
     ]
    }
   ],
   "execution_count": 29
  },
  {
   "metadata": {
    "ExecuteTime": {
     "end_time": "2024-09-30T09:58:28.524800Z",
     "start_time": "2024-09-30T09:58:28.521605Z"
    }
   },
   "cell_type": "code",
   "source": [
    "s1 = {1, 2, 3}\n",
    "s2 = {2, 3, 4}"
   ],
   "id": "df0709498cbd8800",
   "outputs": [],
   "execution_count": 30
  },
  {
   "metadata": {
    "ExecuteTime": {
     "end_time": "2024-09-30T09:58:36.475642Z",
     "start_time": "2024-09-30T09:58:36.471728Z"
    }
   },
   "cell_type": "code",
   "source": [
    "print(s1, id(s1))\n",
    "s1.union(s2)\n",
    "print(s1, id(s1))"
   ],
   "id": "bb5c5b7b8b9f7d28",
   "outputs": [
    {
     "name": "stdout",
     "output_type": "stream",
     "text": [
      "{1, 2, 3} 124942016163264\n",
      "{1, 2, 3} 124942016163264\n"
     ]
    }
   ],
   "execution_count": 31
  },
  {
   "metadata": {
    "ExecuteTime": {
     "end_time": "2024-09-30T09:59:22.921643Z",
     "start_time": "2024-09-30T09:59:22.915372Z"
    }
   },
   "cell_type": "code",
   "source": [
    "s1 = {1, 2, 3}\n",
    "s2 = {2, 3, 4}\n",
    "print(id(s1))\n",
    "s1 &= s2\n",
    "print(id(s1), s1)"
   ],
   "id": "93512e3ad25c1bb9",
   "outputs": [
    {
     "name": "stdout",
     "output_type": "stream",
     "text": [
      "124942012780768\n",
      "124942012780768 {2, 3}\n"
     ]
    }
   ],
   "execution_count": 32
  },
  {
   "metadata": {
    "ExecuteTime": {
     "end_time": "2024-09-30T09:59:33.074480Z",
     "start_time": "2024-09-30T09:59:33.070560Z"
    }
   },
   "cell_type": "code",
   "source": [
    "s1 = {1, 2, 3}\n",
    "s2 = {2, 3, 4}\n",
    "print(id(s1))\n",
    "s1.intersection(s2)\n",
    "print(id(s1), s1)"
   ],
   "id": "3c6af63c99faa52a",
   "outputs": [
    {
     "name": "stdout",
     "output_type": "stream",
     "text": [
      "124942012779200\n",
      "124942012779200 {1, 2, 3}\n"
     ]
    }
   ],
   "execution_count": 33
  },
  {
   "metadata": {
    "ExecuteTime": {
     "end_time": "2024-09-30T10:00:01.992629Z",
     "start_time": "2024-09-30T10:00:01.989634Z"
    }
   },
   "cell_type": "code",
   "source": [
    "s1 = {1, 2, 3, 4}\n",
    "s2 = {2, 3}"
   ],
   "id": "4825097693f21cc5",
   "outputs": [],
   "execution_count": 34
  },
  {
   "metadata": {
    "ExecuteTime": {
     "end_time": "2024-09-30T10:00:22.965005Z",
     "start_time": "2024-09-30T10:00:22.961222Z"
    }
   },
   "cell_type": "code",
   "source": [
    "print(id(s1))\n",
    "s1 -= s2\n",
    "print(id(s1), s1)"
   ],
   "id": "1672a027d8c9eed9",
   "outputs": [
    {
     "name": "stdout",
     "output_type": "stream",
     "text": [
      "124942016164832\n",
      "124942016164832 {1, 4}\n"
     ]
    }
   ],
   "execution_count": 35
  },
  {
   "metadata": {
    "ExecuteTime": {
     "end_time": "2024-09-30T10:00:48.362387Z",
     "start_time": "2024-09-30T10:00:48.359051Z"
    }
   },
   "cell_type": "code",
   "source": [
    "s1 = {1, 2, 3, 4}\n",
    "s2 = {2, 3}\n",
    "\n",
    "print(id(s1))\n",
    "s1.difference_update(s2)\n",
    "print(id(s1), s1)"
   ],
   "id": "16aa84a54a93afba",
   "outputs": [
    {
     "name": "stdout",
     "output_type": "stream",
     "text": [
      "124942012778528\n",
      "124942012778528 {1, 4}\n"
     ]
    }
   ],
   "execution_count": 36
  },
  {
   "metadata": {
    "ExecuteTime": {
     "end_time": "2024-09-30T10:01:50.888255Z",
     "start_time": "2024-09-30T10:01:50.884723Z"
    }
   },
   "cell_type": "code",
   "source": [
    "s1 = {1, 2, 3, 4}\n",
    "s2 = {2, 3}\n",
    "s3 = {3, 4}\n",
    "\n",
    "result = (s1 - s2) - s3\n",
    "print(result)\n",
    "\n",
    "s1 -= s2 - s3\n",
    "print(s1)"
   ],
   "id": "d0dbc66b2bf31c56",
   "outputs": [
    {
     "name": "stdout",
     "output_type": "stream",
     "text": [
      "{1}\n",
      "{1, 3, 4}\n"
     ]
    }
   ],
   "execution_count": 38
  },
  {
   "metadata": {
    "ExecuteTime": {
     "end_time": "2024-09-30T10:02:03.781363Z",
     "start_time": "2024-09-30T10:02:03.776886Z"
    }
   },
   "cell_type": "code",
   "source": [
    "s1 = {1, 2, 3, 4}\n",
    "s2 = {2, 3}\n",
    "s3 = {3, 4}\n",
    "\n",
    "result = s1 - (s2 - s3)\n",
    "print(result)\n",
    "\n",
    "s1 -= s2 - s3\n",
    "print(s1)"
   ],
   "id": "4cade54121db1121",
   "outputs": [
    {
     "name": "stdout",
     "output_type": "stream",
     "text": [
      "{1, 3, 4}\n",
      "{1, 3, 4}\n"
     ]
    }
   ],
   "execution_count": 39
  },
  {
   "metadata": {
    "ExecuteTime": {
     "end_time": "2024-09-30T10:04:26.713446Z",
     "start_time": "2024-09-30T10:04:26.708394Z"
    }
   },
   "cell_type": "code",
   "source": [
    "s1 = {1, 2, 3, 4}\n",
    "s2 = {2, 3}\n",
    "s3 = {3, 4}\n",
    "\n",
    "s1.difference_update(s2, s3)\n",
    "print(s1)\n",
    "\n",
    "s1 = {1, 2, 3, 4}\n",
    "s2 = {2, 3}\n",
    "s3 = {3, 4}\n",
    "\n",
    "result = (s1 - s2) - s3\n",
    "print(result)"
   ],
   "id": "14443f2f15293cf1",
   "outputs": [
    {
     "name": "stdout",
     "output_type": "stream",
     "text": [
      "{1}\n",
      "{1}\n"
     ]
    }
   ],
   "execution_count": 43
  },
  {
   "metadata": {
    "ExecuteTime": {
     "end_time": "2024-09-30T10:04:50.787689Z",
     "start_time": "2024-09-30T10:04:50.782446Z"
    }
   },
   "cell_type": "code",
   "source": [
    "s1 = {1, 2, 3, 4, 5}\n",
    "s2 = {4, 5, 6, 7}\n",
    "\n",
    "s1 ^ s2"
   ],
   "id": "636fb307045ab778",
   "outputs": [
    {
     "data": {
      "text/plain": [
       "{1, 2, 3, 6, 7}"
      ]
     },
     "execution_count": 45,
     "metadata": {},
     "output_type": "execute_result"
    }
   ],
   "execution_count": 45
  },
  {
   "metadata": {
    "ExecuteTime": {
     "end_time": "2024-09-30T10:05:14.071873Z",
     "start_time": "2024-09-30T10:05:14.068116Z"
    }
   },
   "cell_type": "code",
   "source": [
    "print(id(s1))\n",
    "s1 ^= s2\n",
    "print(id(s1), s1)"
   ],
   "id": "f02be519346b608a",
   "outputs": [
    {
     "name": "stdout",
     "output_type": "stream",
     "text": [
      "124942016163264\n",
      "124942016163264 {1, 2, 3, 6, 7}\n"
     ]
    }
   ],
   "execution_count": 46
  },
  {
   "metadata": {
    "ExecuteTime": {
     "end_time": "2024-09-30T10:07:09.065073Z",
     "start_time": "2024-09-30T10:07:09.060767Z"
    }
   },
   "cell_type": "code",
   "source": [
    "s1 = {1, 2, 3}\n",
    "s2 = {3, 4, 5}\n",
    "s3 = {5, 6, 7}\n",
    "\n",
    "print(id(s1))\n",
    "s1 |= s2\n",
    "print(id(s1), s1)"
   ],
   "id": "94d88b3c2ab6d277",
   "outputs": [
    {
     "name": "stdout",
     "output_type": "stream",
     "text": [
      "124942012785024\n",
      "124942012785024 {1, 2, 3, 4, 5}\n"
     ]
    }
   ],
   "execution_count": 47
  },
  {
   "metadata": {
    "ExecuteTime": {
     "end_time": "2024-09-30T10:08:11.338276Z",
     "start_time": "2024-09-30T10:08:11.335384Z"
    }
   },
   "cell_type": "code",
   "source": [
    "s1 = {1, 2, 3}\n",
    "s1.update([4, 5, 5], (6, 7, 8), 'abc')"
   ],
   "id": "a4ca6fb49c1398fe",
   "outputs": [],
   "execution_count": 48
  },
  {
   "metadata": {
    "ExecuteTime": {
     "end_time": "2024-09-30T10:08:13.052246Z",
     "start_time": "2024-09-30T10:08:13.048429Z"
    }
   },
   "cell_type": "code",
   "source": "s1",
   "id": "dc987c28eb498e0f",
   "outputs": [
    {
     "data": {
      "text/plain": [
       "{1, 2, 3, 4, 5, 6, 7, 8, 'a', 'b', 'c'}"
      ]
     },
     "execution_count": 49,
     "metadata": {},
     "output_type": "execute_result"
    }
   ],
   "execution_count": 49
  },
  {
   "metadata": {
    "ExecuteTime": {
     "end_time": "2024-09-30T10:09:08.197400Z",
     "start_time": "2024-09-30T10:09:08.193064Z"
    }
   },
   "cell_type": "code",
   "source": [
    "s1 = {1, 2, 3}\n",
    "s1 |= set([3, 4, 5]) | set((6, 7, 8)) | set('abc')\n",
    "s1"
   ],
   "id": "5a85e3fbbf3810d3",
   "outputs": [
    {
     "data": {
      "text/plain": [
       "{1, 2, 3, 4, 5, 6, 7, 8, 'a', 'b', 'c'}"
      ]
     },
     "execution_count": 51,
     "metadata": {},
     "output_type": "execute_result"
    }
   ],
   "execution_count": 51
  },
  {
   "metadata": {
    "ExecuteTime": {
     "end_time": "2024-09-30T10:11:42.991523Z",
     "start_time": "2024-09-30T10:11:42.988086Z"
    }
   },
   "cell_type": "code",
   "source": [
    "def combine(string: str, target: set):\n",
    "    target.update(string.split(' '))"
   ],
   "id": "abef43014ffd16d",
   "outputs": [],
   "execution_count": 52
  },
  {
   "metadata": {
    "ExecuteTime": {
     "end_time": "2024-09-30T10:13:44.381142Z",
     "start_time": "2024-09-30T10:13:44.377774Z"
    }
   },
   "cell_type": "code",
   "source": [
    "def cleanup(combined: set):\n",
    "    words = {'the', 'and', 'a', 'or', 'is', 'of'}\n",
    "    combined -= words"
   ],
   "id": "1e78183d239f84",
   "outputs": [],
   "execution_count": 53
  },
  {
   "metadata": {
    "ExecuteTime": {
     "end_time": "2024-09-30T10:16:03.690482Z",
     "start_time": "2024-09-30T10:16:03.686884Z"
    }
   },
   "cell_type": "code",
   "source": [
    "result = set()\n",
    "combine('lumberjacks sleep all night', result)\n",
    "combine('the ministry of silly walks', result)\n",
    "combine('this parrot is a late parrot', result)\n",
    "cleanup(result)\n",
    "print(result)"
   ],
   "id": "ef4036bb42bb2790",
   "outputs": [
    {
     "name": "stdout",
     "output_type": "stream",
     "text": [
      "{'ministry', 'all', 'late', 'silly', 'night', 'this', 'lumberjacks', 'parrot', 'walks', 'sleep'}\n"
     ]
    }
   ],
   "execution_count": 59
  },
  {
   "metadata": {
    "ExecuteTime": {
     "end_time": "2024-09-30T10:19:10.237476Z",
     "start_time": "2024-09-30T10:19:10.233951Z"
    }
   },
   "cell_type": "code",
   "source": [
    "def gen_read_data():\n",
    "    yield ['Paris', 'Beijing', 'New York', 'London', 'Madrid', 'Mumbai']\n",
    "    yield ['Hyderabad', 'New York', 'Milan', 'Phoenix', 'Berlin', 'Cairo']\n",
    "    yield ['Stockholm', 'Cairo', 'Paris', 'Barcelona', 'San Francisco']"
   ],
   "id": "3dd3456d5277f53d",
   "outputs": [],
   "execution_count": 65
  },
  {
   "metadata": {
    "ExecuteTime": {
     "end_time": "2024-09-30T10:19:10.343468Z",
     "start_time": "2024-09-30T10:19:10.340618Z"
    }
   },
   "cell_type": "code",
   "source": "data = gen_read_data()",
   "id": "ef6139b93fa95f3c",
   "outputs": [],
   "execution_count": 66
  },
  {
   "metadata": {
    "ExecuteTime": {
     "end_time": "2024-09-30T10:19:10.478062Z",
     "start_time": "2024-09-30T10:19:10.474719Z"
    }
   },
   "cell_type": "code",
   "source": "data",
   "id": "543c04f7de2353e9",
   "outputs": [
    {
     "data": {
      "text/plain": [
       "<generator object gen_read_data at 0x71a2544dee50>"
      ]
     },
     "execution_count": 67,
     "metadata": {},
     "output_type": "execute_result"
    }
   ],
   "execution_count": 67
  },
  {
   "metadata": {
    "ExecuteTime": {
     "end_time": "2024-09-30T10:19:11.156025Z",
     "start_time": "2024-09-30T10:19:11.151150Z"
    }
   },
   "cell_type": "code",
   "source": "next(data), next(data), next(data)",
   "id": "d025f02d9efcf5bf",
   "outputs": [
    {
     "data": {
      "text/plain": [
       "(['Paris', 'Beijing', 'New York', 'London', 'Madrid', 'Mumbai'],\n",
       " ['Hyderabad', 'New York', 'Milan', 'Phoenix', 'Berlin', 'Cairo'],\n",
       " ['Stockholm', 'Cairo', 'Paris', 'Barcelona', 'San Francisco'])"
      ]
     },
     "execution_count": 68,
     "metadata": {},
     "output_type": "execute_result"
    }
   ],
   "execution_count": 68
  },
  {
   "metadata": {
    "ExecuteTime": {
     "end_time": "2024-09-30T10:19:16.153435Z",
     "start_time": "2024-09-30T10:19:16.138076Z"
    }
   },
   "cell_type": "code",
   "source": "next(data)",
   "id": "eff4b31973ff8a6e",
   "outputs": [
    {
     "ename": "StopIteration",
     "evalue": "",
     "output_type": "error",
     "traceback": [
      "\u001B[0;31m---------------------------------------------------------------------------\u001B[0m",
      "\u001B[0;31mStopIteration\u001B[0m                             Traceback (most recent call last)",
      "Cell \u001B[0;32mIn[69], line 1\u001B[0m\n\u001B[0;32m----> 1\u001B[0m \u001B[38;5;28;43mnext\u001B[39;49m\u001B[43m(\u001B[49m\u001B[43mdata\u001B[49m\u001B[43m)\u001B[49m\n",
      "\u001B[0;31mStopIteration\u001B[0m: "
     ]
    }
   ],
   "execution_count": 69
  },
  {
   "metadata": {
    "ExecuteTime": {
     "end_time": "2024-09-30T10:20:00.372200Z",
     "start_time": "2024-09-30T10:20:00.368758Z"
    }
   },
   "cell_type": "code",
   "source": [
    "def filter_incoming(*cities, data_set: set):\n",
    "    data_set.difference_update(cities)"
   ],
   "id": "366316fbc21af3db",
   "outputs": [],
   "execution_count": 70
  },
  {
   "metadata": {
    "ExecuteTime": {
     "end_time": "2024-09-30T10:22:27.807435Z",
     "start_time": "2024-09-30T10:22:27.803513Z"
    }
   },
   "cell_type": "code",
   "source": [
    "result = set()\n",
    "data = gen_read_data()\n",
    "for page in data:\n",
    "    result.update(page)\n",
    "\n",
    "filter_incoming(\"Paris\", \"London\", data_set=result)\n",
    "print(result)"
   ],
   "id": "4d0a123be00560ca",
   "outputs": [
    {
     "name": "stdout",
     "output_type": "stream",
     "text": [
      "{'Hyderabad', 'Cairo', 'Stockholm', 'San Francisco', 'Mumbai', 'Milan', 'Madrid', 'Beijing', 'Barcelona', 'Berlin', 'New York', 'Phoenix'}\n"
     ]
    }
   ],
   "execution_count": 74
  },
  {
   "metadata": {},
   "cell_type": "code",
   "outputs": [],
   "execution_count": null,
   "source": "",
   "id": "a7ba0777ea552ae2"
  }
 ],
 "metadata": {
  "kernelspec": {
   "display_name": "Python 3",
   "language": "python",
   "name": "python3"
  },
  "language_info": {
   "codemirror_mode": {
    "name": "ipython",
    "version": 2
   },
   "file_extension": ".py",
   "mimetype": "text/x-python",
   "name": "python",
   "nbconvert_exporter": "python",
   "pygments_lexer": "ipython2",
   "version": "2.7.6"
  }
 },
 "nbformat": 4,
 "nbformat_minor": 5
}
