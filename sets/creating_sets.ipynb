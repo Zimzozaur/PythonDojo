{
 "cells": [
  {
   "cell_type": "code",
   "id": "initial_id",
   "metadata": {
    "collapsed": true,
    "ExecuteTime": {
     "end_time": "2024-09-29T12:27:27.698380Z",
     "start_time": "2024-09-29T12:27:27.695746Z"
    }
   },
   "source": "s = {'a', 100, (1, 2)}",
   "outputs": [],
   "execution_count": 1
  },
  {
   "metadata": {
    "ExecuteTime": {
     "end_time": "2024-09-29T12:27:38.623117Z",
     "start_time": "2024-09-29T12:27:38.619659Z"
    }
   },
   "cell_type": "code",
   "source": "print(s)",
   "id": "ac1a48109801e9a8",
   "outputs": [
    {
     "name": "stdout",
     "output_type": "stream",
     "text": [
      "{(1, 2), 100, 'a'}\n"
     ]
    }
   ],
   "execution_count": 4
  },
  {
   "metadata": {
    "ExecuteTime": {
     "end_time": "2024-09-29T12:27:42.925976Z",
     "start_time": "2024-09-29T12:27:42.921915Z"
    }
   },
   "cell_type": "code",
   "source": "type(s)",
   "id": "b35317ec8a079637",
   "outputs": [
    {
     "data": {
      "text/plain": [
       "set"
      ]
     },
     "execution_count": 5,
     "metadata": {},
     "output_type": "execute_result"
    }
   ],
   "execution_count": 5
  },
  {
   "metadata": {
    "ExecuteTime": {
     "end_time": "2024-09-29T12:27:49.892229Z",
     "start_time": "2024-09-29T12:27:49.888853Z"
    }
   },
   "cell_type": "code",
   "source": "s = {}",
   "id": "13136b346ff7ce91",
   "outputs": [],
   "execution_count": 6
  },
  {
   "metadata": {
    "ExecuteTime": {
     "end_time": "2024-09-29T12:27:51.921322Z",
     "start_time": "2024-09-29T12:27:51.916608Z"
    }
   },
   "cell_type": "code",
   "source": "type(s)",
   "id": "5a9663db3d5a8a69",
   "outputs": [
    {
     "data": {
      "text/plain": [
       "dict"
      ]
     },
     "execution_count": 7,
     "metadata": {},
     "output_type": "execute_result"
    }
   ],
   "execution_count": 7
  },
  {
   "metadata": {
    "ExecuteTime": {
     "end_time": "2024-09-29T12:27:55.223280Z",
     "start_time": "2024-09-29T12:27:55.220920Z"
    }
   },
   "cell_type": "code",
   "source": "s = set()",
   "id": "3736d7f0952763e9",
   "outputs": [],
   "execution_count": 8
  },
  {
   "metadata": {
    "ExecuteTime": {
     "end_time": "2024-09-29T12:27:58.945326Z",
     "start_time": "2024-09-29T12:27:58.940976Z"
    }
   },
   "cell_type": "code",
   "source": "type(s)",
   "id": "e41ed10b953e71c4",
   "outputs": [
    {
     "data": {
      "text/plain": [
       "set"
      ]
     },
     "execution_count": 9,
     "metadata": {},
     "output_type": "execute_result"
    }
   ],
   "execution_count": 9
  },
  {
   "metadata": {
    "ExecuteTime": {
     "end_time": "2024-09-29T12:28:21.223238Z",
     "start_time": "2024-09-29T12:28:21.219708Z"
    }
   },
   "cell_type": "code",
   "source": "s = set([1, 2, 3])",
   "id": "20cba135f3f1b6ef",
   "outputs": [],
   "execution_count": 10
  },
  {
   "metadata": {
    "ExecuteTime": {
     "end_time": "2024-09-29T12:29:51.069335Z",
     "start_time": "2024-09-29T12:29:51.064707Z"
    }
   },
   "cell_type": "code",
   "source": "s",
   "id": "3d0d29cb92808942",
   "outputs": [
    {
     "data": {
      "text/plain": [
       "{1, 2, 3}"
      ]
     },
     "execution_count": 11,
     "metadata": {},
     "output_type": "execute_result"
    }
   ],
   "execution_count": 11
  },
  {
   "metadata": {
    "ExecuteTime": {
     "end_time": "2024-09-29T12:30:00.702800Z",
     "start_time": "2024-09-29T12:30:00.699644Z"
    }
   },
   "cell_type": "code",
   "source": "s = set(range(10))",
   "id": "f6c8d634cf4885e",
   "outputs": [],
   "execution_count": 12
  },
  {
   "metadata": {
    "ExecuteTime": {
     "end_time": "2024-09-29T12:30:02.045397Z",
     "start_time": "2024-09-29T12:30:02.042203Z"
    }
   },
   "cell_type": "code",
   "source": "s",
   "id": "9ad8ee4595083984",
   "outputs": [
    {
     "data": {
      "text/plain": [
       "{0, 1, 2, 3, 4, 5, 6, 7, 8, 9}"
      ]
     },
     "execution_count": 13,
     "metadata": {},
     "output_type": "execute_result"
    }
   ],
   "execution_count": 13
  },
  {
   "metadata": {
    "ExecuteTime": {
     "end_time": "2024-09-29T12:30:24.553663Z",
     "start_time": "2024-09-29T12:30:24.368806Z"
    }
   },
   "cell_type": "code",
   "source": "s = set([[1, 2], [3, 4]])",
   "id": "9b09afd250a0c29b",
   "outputs": [
    {
     "ename": "TypeError",
     "evalue": "unhashable type: 'list'",
     "output_type": "error",
     "traceback": [
      "\u001B[0;31m---------------------------------------------------------------------------\u001B[0m",
      "\u001B[0;31mTypeError\u001B[0m                                 Traceback (most recent call last)",
      "Cell \u001B[0;32mIn[14], line 1\u001B[0m\n\u001B[0;32m----> 1\u001B[0m s \u001B[38;5;241m=\u001B[39m \u001B[38;5;28;43mset\u001B[39;49m\u001B[43m(\u001B[49m\u001B[43m[\u001B[49m\u001B[43m[\u001B[49m\u001B[38;5;241;43m1\u001B[39;49m\u001B[43m,\u001B[49m\u001B[43m \u001B[49m\u001B[38;5;241;43m2\u001B[39;49m\u001B[43m]\u001B[49m\u001B[43m,\u001B[49m\u001B[43m \u001B[49m\u001B[43m[\u001B[49m\u001B[38;5;241;43m3\u001B[39;49m\u001B[43m,\u001B[49m\u001B[43m \u001B[49m\u001B[38;5;241;43m4\u001B[39;49m\u001B[43m]\u001B[49m\u001B[43m]\u001B[49m\u001B[43m)\u001B[49m\n",
      "\u001B[0;31mTypeError\u001B[0m: unhashable type: 'list'"
     ]
    }
   ],
   "execution_count": 14
  },
  {
   "metadata": {
    "ExecuteTime": {
     "end_time": "2024-09-29T12:31:07.615715Z",
     "start_time": "2024-09-29T12:31:07.612649Z"
    }
   },
   "cell_type": "code",
   "source": [
    "d = {'a': 1, 'b': 2}\n",
    "s = set(d)"
   ],
   "id": "29c193e88c6c7177",
   "outputs": [],
   "execution_count": 15
  },
  {
   "metadata": {
    "ExecuteTime": {
     "end_time": "2024-09-29T12:31:11.292832Z",
     "start_time": "2024-09-29T12:31:11.288566Z"
    }
   },
   "cell_type": "code",
   "source": "s",
   "id": "26b5ff88038aef5a",
   "outputs": [
    {
     "data": {
      "text/plain": [
       "{'a', 'b'}"
      ]
     },
     "execution_count": 16,
     "metadata": {},
     "output_type": "execute_result"
    }
   ],
   "execution_count": 16
  },
  {
   "metadata": {
    "ExecuteTime": {
     "end_time": "2024-09-29T12:31:28.885784Z",
     "start_time": "2024-09-29T12:31:28.882687Z"
    }
   },
   "cell_type": "code",
   "source": "s = {c for c in 'python'}",
   "id": "e776071be24cbb5",
   "outputs": [],
   "execution_count": 17
  },
  {
   "metadata": {
    "ExecuteTime": {
     "end_time": "2024-09-29T12:31:30.134979Z",
     "start_time": "2024-09-29T12:31:30.130910Z"
    }
   },
   "cell_type": "code",
   "source": "s",
   "id": "a537d1254117a1ad",
   "outputs": [
    {
     "data": {
      "text/plain": [
       "{'h', 'n', 'o', 'p', 't', 'y'}"
      ]
     },
     "execution_count": 18,
     "metadata": {},
     "output_type": "execute_result"
    }
   ],
   "execution_count": 18
  },
  {
   "metadata": {
    "ExecuteTime": {
     "end_time": "2024-09-29T12:31:47.308495Z",
     "start_time": "2024-09-29T12:31:47.303788Z"
    }
   },
   "cell_type": "code",
   "source": "set('python')",
   "id": "3613c745103e2eb7",
   "outputs": [
    {
     "data": {
      "text/plain": [
       "{'h', 'n', 'o', 'p', 't', 'y'}"
      ]
     },
     "execution_count": 19,
     "metadata": {},
     "output_type": "execute_result"
    }
   ],
   "execution_count": 19
  },
  {
   "metadata": {
    "ExecuteTime": {
     "end_time": "2024-09-29T12:32:22.609163Z",
     "start_time": "2024-09-29T12:32:22.606626Z"
    }
   },
   "cell_type": "code",
   "source": [
    "s1 = {'a', 'b', 'c'}\n",
    "s2 = {10, 20, 30}"
   ],
   "id": "ea10c627bb2b8fc7",
   "outputs": [],
   "execution_count": 20
  },
  {
   "metadata": {
    "ExecuteTime": {
     "end_time": "2024-09-29T12:32:39.070331Z",
     "start_time": "2024-09-29T12:32:39.067333Z"
    }
   },
   "cell_type": "code",
   "source": "s = {*s1, *s2}",
   "id": "19923181b186885c",
   "outputs": [],
   "execution_count": 22
  },
  {
   "metadata": {
    "ExecuteTime": {
     "end_time": "2024-09-29T12:32:40.113103Z",
     "start_time": "2024-09-29T12:32:40.109509Z"
    }
   },
   "cell_type": "code",
   "source": "s",
   "id": "f936e2ff39444792",
   "outputs": [
    {
     "data": {
      "text/plain": [
       "{10, 20, 30, 'a', 'b', 'c'}"
      ]
     },
     "execution_count": 23,
     "metadata": {},
     "output_type": "execute_result"
    }
   ],
   "execution_count": 23
  },
  {
   "metadata": {
    "ExecuteTime": {
     "end_time": "2024-09-29T12:33:18.677713Z",
     "start_time": "2024-09-29T12:33:18.674491Z"
    }
   },
   "cell_type": "code",
   "source": [
    "s1 = {'a', 'b', 'c'}\n",
    "s2 = {'b', 'c', 'd'}"
   ],
   "id": "73be4ed49f5ead94",
   "outputs": [],
   "execution_count": 24
  },
  {
   "metadata": {
    "ExecuteTime": {
     "end_time": "2024-09-29T12:33:25.282198Z",
     "start_time": "2024-09-29T12:33:25.278844Z"
    }
   },
   "cell_type": "code",
   "source": "s = {*s1, *s1}",
   "id": "50f650e2a524f237",
   "outputs": [],
   "execution_count": 25
  },
  {
   "metadata": {
    "ExecuteTime": {
     "end_time": "2024-09-29T12:33:39.813565Z",
     "start_time": "2024-09-29T12:33:39.810595Z"
    }
   },
   "cell_type": "code",
   "source": "l = [*s1, *s2]",
   "id": "da74b9714589e225",
   "outputs": [],
   "execution_count": 26
  },
  {
   "metadata": {
    "ExecuteTime": {
     "end_time": "2024-09-29T12:33:41.345697Z",
     "start_time": "2024-09-29T12:33:41.339398Z"
    }
   },
   "cell_type": "code",
   "source": "l",
   "id": "123824fcc1d717cb",
   "outputs": [
    {
     "data": {
      "text/plain": [
       "['c', 'a', 'b', 'c', 'd', 'b']"
      ]
     },
     "execution_count": 27,
     "metadata": {},
     "output_type": "execute_result"
    }
   ],
   "execution_count": 27
  },
  {
   "metadata": {
    "ExecuteTime": {
     "end_time": "2024-09-29T12:34:37.460425Z",
     "start_time": "2024-09-29T12:34:37.457136Z"
    }
   },
   "cell_type": "code",
   "source": [
    "def my_func(a, b, c):\n",
    "    print(a, b, c)"
   ],
   "id": "7a7730557d305b80",
   "outputs": [],
   "execution_count": 28
  },
  {
   "metadata": {
    "ExecuteTime": {
     "end_time": "2024-09-29T12:34:44.089976Z",
     "start_time": "2024-09-29T12:34:44.086827Z"
    }
   },
   "cell_type": "code",
   "source": "args = {20, 10, 30}",
   "id": "1a2193891f2c3574",
   "outputs": [],
   "execution_count": 29
  },
  {
   "metadata": {
    "ExecuteTime": {
     "end_time": "2024-09-29T12:34:58.054902Z",
     "start_time": "2024-09-29T12:34:58.045978Z"
    }
   },
   "cell_type": "code",
   "source": "my_func(*args)",
   "id": "f189712e9eb78aeb",
   "outputs": [
    {
     "name": "stdout",
     "output_type": "stream",
     "text": [
      "10 20 30\n"
     ]
    }
   ],
   "execution_count": 33
  },
  {
   "metadata": {
    "ExecuteTime": {
     "end_time": "2024-09-29T12:36:04.268353Z",
     "start_time": "2024-09-29T12:36:04.265153Z"
    }
   },
   "cell_type": "code",
   "source": [
    "def averager(*args):\n",
    "    total = 0\n",
    "    for arg in args:\n",
    "        total += arg\n",
    "    \n",
    "    return total / len(args)"
   ],
   "id": "dbfe7a47927b5c7c",
   "outputs": [],
   "execution_count": 34
  },
  {
   "metadata": {
    "ExecuteTime": {
     "end_time": "2024-09-29T12:36:16.121305Z",
     "start_time": "2024-09-29T12:36:16.116222Z"
    }
   },
   "cell_type": "code",
   "source": "averager(10, 20, 30)",
   "id": "bb38ce55b0a2b94b",
   "outputs": [
    {
     "data": {
      "text/plain": [
       "20.0"
      ]
     },
     "execution_count": 35,
     "metadata": {},
     "output_type": "execute_result"
    }
   ],
   "execution_count": 35
  },
  {
   "metadata": {
    "ExecuteTime": {
     "end_time": "2024-09-29T12:36:22.005830Z",
     "start_time": "2024-09-29T12:36:22.000763Z"
    }
   },
   "cell_type": "code",
   "source": "averager(*args)",
   "id": "3becdf41594ac7f7",
   "outputs": [
    {
     "data": {
      "text/plain": [
       "20.0"
      ]
     },
     "execution_count": 36,
     "metadata": {},
     "output_type": "execute_result"
    }
   ],
   "execution_count": 36
  },
  {
   "metadata": {
    "ExecuteTime": {
     "end_time": "2024-09-29T12:37:07.965624Z",
     "start_time": "2024-09-29T12:37:07.962375Z"
    }
   },
   "cell_type": "code",
   "source": "s = {'a', 'b', 'c', 'a', 'b', 'c'}",
   "id": "83b66ad609a4152d",
   "outputs": [],
   "execution_count": 37
  },
  {
   "metadata": {
    "ExecuteTime": {
     "end_time": "2024-09-29T12:37:08.840149Z",
     "start_time": "2024-09-29T12:37:08.835267Z"
    }
   },
   "cell_type": "code",
   "source": "s",
   "id": "fc3c886331fa3c38",
   "outputs": [
    {
     "data": {
      "text/plain": [
       "{'a', 'b', 'c'}"
      ]
     },
     "execution_count": 38,
     "metadata": {},
     "output_type": "execute_result"
    }
   ],
   "execution_count": 38
  },
  {
   "metadata": {
    "ExecuteTime": {
     "end_time": "2024-09-29T12:37:33.142275Z",
     "start_time": "2024-09-29T12:37:33.138168Z"
    }
   },
   "cell_type": "code",
   "source": "set(\"python\")",
   "id": "569517018bd145d",
   "outputs": [
    {
     "data": {
      "text/plain": [
       "{'h', 'n', 'o', 'p', 't', 'y'}"
      ]
     },
     "execution_count": 39,
     "metadata": {},
     "output_type": "execute_result"
    }
   ],
   "execution_count": 39
  },
  {
   "metadata": {
    "ExecuteTime": {
     "end_time": "2024-09-29T12:37:39.659895Z",
     "start_time": "2024-09-29T12:37:39.656107Z"
    }
   },
   "cell_type": "code",
   "source": "set('baabaa')",
   "id": "26daa16e6b66b794",
   "outputs": [
    {
     "data": {
      "text/plain": [
       "{'a', 'b'}"
      ]
     },
     "execution_count": 40,
     "metadata": {},
     "output_type": "execute_result"
    }
   ],
   "execution_count": 40
  },
  {
   "metadata": {
    "ExecuteTime": {
     "end_time": "2024-09-29T12:38:02.007674Z",
     "start_time": "2024-09-29T12:38:02.004702Z"
    }
   },
   "cell_type": "code",
   "source": "s = {c for c in 'moomoo'}",
   "id": "c67fddc95732d67e",
   "outputs": [],
   "execution_count": 41
  },
  {
   "metadata": {
    "ExecuteTime": {
     "end_time": "2024-09-29T12:38:03.368311Z",
     "start_time": "2024-09-29T12:38:03.363906Z"
    }
   },
   "cell_type": "code",
   "source": "s",
   "id": "49bdfb6610e12eec",
   "outputs": [
    {
     "data": {
      "text/plain": [
       "{'m', 'o'}"
      ]
     },
     "execution_count": 42,
     "metadata": {},
     "output_type": "execute_result"
    }
   ],
   "execution_count": 42
  },
  {
   "metadata": {
    "ExecuteTime": {
     "end_time": "2024-09-29T12:38:56.300003Z",
     "start_time": "2024-09-29T12:38:56.296784Z"
    }
   },
   "cell_type": "code",
   "source": "s = 'qwertyuiopasdfghjklzxcvbnm'",
   "id": "7b20bf582b817df",
   "outputs": [],
   "execution_count": 43
  },
  {
   "metadata": {
    "ExecuteTime": {
     "end_time": "2024-09-29T12:39:05.317076Z",
     "start_time": "2024-09-29T12:39:05.312451Z"
    }
   },
   "cell_type": "code",
   "source": "len(set(s))",
   "id": "4c7bc7252551dee",
   "outputs": [
    {
     "data": {
      "text/plain": [
       "26"
      ]
     },
     "execution_count": 44,
     "metadata": {},
     "output_type": "execute_result"
    }
   ],
   "execution_count": 44
  },
  {
   "metadata": {
    "ExecuteTime": {
     "end_time": "2024-09-29T12:42:11.345972Z",
     "start_time": "2024-09-29T12:42:11.342158Z"
    }
   },
   "cell_type": "code",
   "source": [
    "def scorer(s):\n",
    "    alphabet = set('qwertyuiopasdfghjklzxcvbnm')\n",
    "    s = s.lower()\n",
    "    distinct = set(s)\n",
    "    effective = distinct & alphabet\n",
    "    return len(effective) / len(alphabet) * 100"
   ],
   "id": "f7b98f952eef74d1",
   "outputs": [],
   "execution_count": 49
  },
  {
   "metadata": {
    "ExecuteTime": {
     "end_time": "2024-09-29T12:42:11.651739Z",
     "start_time": "2024-09-29T12:42:11.648766Z"
    }
   },
   "cell_type": "code",
   "source": "scorer(s)",
   "id": "40d4818a1f136a09",
   "outputs": [
    {
     "data": {
      "text/plain": [
       "100.0"
      ]
     },
     "execution_count": 50,
     "metadata": {},
     "output_type": "execute_result"
    }
   ],
   "execution_count": 50
  },
  {
   "metadata": {
    "ExecuteTime": {
     "end_time": "2024-09-29T12:42:12.493480Z",
     "start_time": "2024-09-29T12:42:12.488943Z"
    }
   },
   "cell_type": "code",
   "source": "scorer('baa baa')",
   "id": "76f3cc423cb44cac",
   "outputs": [
    {
     "data": {
      "text/plain": [
       "7.6923076923076925"
      ]
     },
     "execution_count": 51,
     "metadata": {},
     "output_type": "execute_result"
    }
   ],
   "execution_count": 51
  },
  {
   "metadata": {
    "ExecuteTime": {
     "end_time": "2024-09-29T12:42:28.617640Z",
     "start_time": "2024-09-29T12:42:28.612490Z"
    }
   },
   "cell_type": "code",
   "source": "scorer('baa baa baaaa!!! 123')",
   "id": "643b4041830e1619",
   "outputs": [
    {
     "data": {
      "text/plain": [
       "7.6923076923076925"
      ]
     },
     "execution_count": 52,
     "metadata": {},
     "output_type": "execute_result"
    }
   ],
   "execution_count": 52
  },
  {
   "metadata": {
    "ExecuteTime": {
     "end_time": "2024-09-29T12:42:49.830187Z",
     "start_time": "2024-09-29T12:42:49.826290Z"
    }
   },
   "cell_type": "code",
   "source": "scorer('the quick brown fox jumps over the lazy dog')",
   "id": "e800fd71c94dc086",
   "outputs": [
    {
     "data": {
      "text/plain": [
       "100.0"
      ]
     },
     "execution_count": 53,
     "metadata": {},
     "output_type": "execute_result"
    }
   ],
   "execution_count": 53
  },
  {
   "metadata": {},
   "cell_type": "code",
   "outputs": [],
   "execution_count": null,
   "source": "",
   "id": "ce6a2c94c47f4af6"
  }
 ],
 "metadata": {
  "kernelspec": {
   "display_name": "Python 3",
   "language": "python",
   "name": "python3"
  },
  "language_info": {
   "codemirror_mode": {
    "name": "ipython",
    "version": 2
   },
   "file_extension": ".py",
   "mimetype": "text/x-python",
   "name": "python",
   "nbconvert_exporter": "python",
   "pygments_lexer": "ipython2",
   "version": "2.7.6"
  }
 },
 "nbformat": 4,
 "nbformat_minor": 5
}
