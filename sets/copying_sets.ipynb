{
 "cells": [
  {
   "cell_type": "code",
   "id": "initial_id",
   "metadata": {
    "collapsed": true,
    "ExecuteTime": {
     "end_time": "2024-09-30T10:30:40.468678Z",
     "start_time": "2024-09-30T10:30:40.464447Z"
    }
   },
   "source": [
    "class Person:\n",
    "    def __init__(self, name):\n",
    "        self.name = name\n",
    "        \n",
    "    def __repr__(self):\n",
    "        return f'Person(name={self.name})'"
   ],
   "outputs": [],
   "execution_count": 1
  },
  {
   "metadata": {
    "ExecuteTime": {
     "end_time": "2024-09-30T10:30:59.593372Z",
     "start_time": "2024-09-30T10:30:59.590131Z"
    }
   },
   "cell_type": "code",
   "source": [
    "p1 = Person('John')\n",
    "p2 = Person('Eric')"
   ],
   "id": "3661296ccd794b28",
   "outputs": [],
   "execution_count": 2
  },
  {
   "metadata": {
    "ExecuteTime": {
     "end_time": "2024-09-30T10:31:14.851307Z",
     "start_time": "2024-09-30T10:31:14.842460Z"
    }
   },
   "cell_type": "code",
   "source": "hash(p1), hash(p2)",
   "id": "b526f85fc2fb82b1",
   "outputs": [
    {
     "data": {
      "text/plain": [
       "(8397919542286, 8397919542385)"
      ]
     },
     "execution_count": 3,
     "metadata": {},
     "output_type": "execute_result"
    }
   ],
   "execution_count": 3
  },
  {
   "metadata": {
    "ExecuteTime": {
     "end_time": "2024-09-30T10:31:32.580022Z",
     "start_time": "2024-09-30T10:31:32.576659Z"
    }
   },
   "cell_type": "code",
   "source": "s1 = {p1, p2}",
   "id": "eae17d1b62c81065",
   "outputs": [],
   "execution_count": 7
  },
  {
   "metadata": {
    "ExecuteTime": {
     "end_time": "2024-09-30T10:31:48.088884Z",
     "start_time": "2024-09-30T10:31:48.085807Z"
    }
   },
   "cell_type": "code",
   "source": "s2 = s1.copy()",
   "id": "1a63a85ded597fb0",
   "outputs": [],
   "execution_count": 8
  },
  {
   "metadata": {
    "ExecuteTime": {
     "end_time": "2024-09-30T10:31:54.317223Z",
     "start_time": "2024-09-30T10:31:54.313119Z"
    }
   },
   "cell_type": "code",
   "source": "s1 is s2",
   "id": "7074ea2cf02f184a",
   "outputs": [
    {
     "data": {
      "text/plain": [
       "False"
      ]
     },
     "execution_count": 9,
     "metadata": {},
     "output_type": "execute_result"
    }
   ],
   "execution_count": 9
  },
  {
   "metadata": {
    "ExecuteTime": {
     "end_time": "2024-09-30T10:32:35.230474Z",
     "start_time": "2024-09-30T10:32:35.226336Z"
    }
   },
   "cell_type": "code",
   "source": "p1 in s1 and p1 in s2",
   "id": "56be033fb09a61d7",
   "outputs": [
    {
     "data": {
      "text/plain": [
       "True"
      ]
     },
     "execution_count": 12,
     "metadata": {},
     "output_type": "execute_result"
    }
   ],
   "execution_count": 12
  },
  {
   "metadata": {
    "ExecuteTime": {
     "end_time": "2024-09-30T10:33:19.598384Z",
     "start_time": "2024-09-30T10:33:19.595239Z"
    }
   },
   "cell_type": "code",
   "source": "s3 = {*s1}",
   "id": "c90d7f849628908",
   "outputs": [],
   "execution_count": 13
  },
  {
   "metadata": {
    "ExecuteTime": {
     "end_time": "2024-09-30T10:33:21.402551Z",
     "start_time": "2024-09-30T10:33:21.398108Z"
    }
   },
   "cell_type": "code",
   "source": "s3",
   "id": "d0a2f966fea31731",
   "outputs": [
    {
     "data": {
      "text/plain": [
       "{Person(name=Eric), Person(name=John)}"
      ]
     },
     "execution_count": 14,
     "metadata": {},
     "output_type": "execute_result"
    }
   ],
   "execution_count": 14
  },
  {
   "metadata": {
    "ExecuteTime": {
     "end_time": "2024-09-30T10:33:25.940573Z",
     "start_time": "2024-09-30T10:33:25.936405Z"
    }
   },
   "cell_type": "code",
   "source": "s3 is not s1",
   "id": "17712474250dbefb",
   "outputs": [
    {
     "data": {
      "text/plain": [
       "True"
      ]
     },
     "execution_count": 15,
     "metadata": {},
     "output_type": "execute_result"
    }
   ],
   "execution_count": 15
  },
  {
   "metadata": {
    "ExecuteTime": {
     "end_time": "2024-09-30T10:33:33.162058Z",
     "start_time": "2024-09-30T10:33:33.157688Z"
    }
   },
   "cell_type": "code",
   "source": "s1 == s3",
   "id": "9f2023482a4a3f20",
   "outputs": [
    {
     "data": {
      "text/plain": [
       "True"
      ]
     },
     "execution_count": 16,
     "metadata": {},
     "output_type": "execute_result"
    }
   ],
   "execution_count": 16
  },
  {
   "metadata": {
    "ExecuteTime": {
     "end_time": "2024-09-30T10:33:58.073856Z",
     "start_time": "2024-09-30T10:33:58.069765Z"
    }
   },
   "cell_type": "code",
   "source": "s1, s2, s3",
   "id": "aadad1be280a5c7",
   "outputs": [
    {
     "data": {
      "text/plain": [
       "({Person(name=Eric), Person(name=John)},\n",
       " {Person(name=Eric), Person(name=John)},\n",
       " {Person(name=Eric), Person(name=John)})"
      ]
     },
     "execution_count": 17,
     "metadata": {},
     "output_type": "execute_result"
    }
   ],
   "execution_count": 17
  },
  {
   "metadata": {
    "ExecuteTime": {
     "end_time": "2024-09-30T10:34:11.198533Z",
     "start_time": "2024-09-30T10:34:11.195022Z"
    }
   },
   "cell_type": "code",
   "source": "p1.name = 'Mario'",
   "id": "8f28e8d363489dbc",
   "outputs": [],
   "execution_count": 18
  },
  {
   "metadata": {
    "ExecuteTime": {
     "end_time": "2024-09-30T10:34:14.381495Z",
     "start_time": "2024-09-30T10:34:14.377295Z"
    }
   },
   "cell_type": "code",
   "source": "p1",
   "id": "77333f3625ccd1da",
   "outputs": [
    {
     "data": {
      "text/plain": [
       "Person(name=Mario)"
      ]
     },
     "execution_count": 19,
     "metadata": {},
     "output_type": "execute_result"
    }
   ],
   "execution_count": 19
  },
  {
   "metadata": {
    "ExecuteTime": {
     "end_time": "2024-09-30T10:34:17.048814Z",
     "start_time": "2024-09-30T10:34:17.043876Z"
    }
   },
   "cell_type": "code",
   "source": "s1, s2, s3",
   "id": "379de3ce56954cb6",
   "outputs": [
    {
     "data": {
      "text/plain": [
       "({Person(name=Eric), Person(name=Mario)},\n",
       " {Person(name=Eric), Person(name=Mario)},\n",
       " {Person(name=Eric), Person(name=Mario)})"
      ]
     },
     "execution_count": 20,
     "metadata": {},
     "output_type": "execute_result"
    }
   ],
   "execution_count": 20
  },
  {
   "metadata": {
    "ExecuteTime": {
     "end_time": "2024-09-30T10:34:31.991928Z",
     "start_time": "2024-09-30T10:34:31.987942Z"
    }
   },
   "cell_type": "code",
   "source": "hash(p1)",
   "id": "36b193f56ff2d7fb",
   "outputs": [
    {
     "data": {
      "text/plain": [
       "8397919542286"
      ]
     },
     "execution_count": 21,
     "metadata": {},
     "output_type": "execute_result"
    }
   ],
   "execution_count": 21
  },
  {
   "metadata": {
    "ExecuteTime": {
     "end_time": "2024-09-30T10:35:02.548526Z",
     "start_time": "2024-09-30T10:35:02.545747Z"
    }
   },
   "cell_type": "code",
   "source": "s4 = set(s1)",
   "id": "2d6fb5ae3ac33700",
   "outputs": [],
   "execution_count": 22
  },
  {
   "metadata": {
    "ExecuteTime": {
     "end_time": "2024-09-30T10:35:06.472857Z",
     "start_time": "2024-09-30T10:35:06.469112Z"
    }
   },
   "cell_type": "code",
   "source": "s1 == s4",
   "id": "d16e7b6f85d18503",
   "outputs": [
    {
     "data": {
      "text/plain": [
       "True"
      ]
     },
     "execution_count": 23,
     "metadata": {},
     "output_type": "execute_result"
    }
   ],
   "execution_count": 23
  },
  {
   "metadata": {
    "ExecuteTime": {
     "end_time": "2024-09-30T10:35:10.729839Z",
     "start_time": "2024-09-30T10:35:10.725342Z"
    }
   },
   "cell_type": "code",
   "source": "s1 is s4",
   "id": "2592a9262da3e066",
   "outputs": [
    {
     "data": {
      "text/plain": [
       "False"
      ]
     },
     "execution_count": 24,
     "metadata": {},
     "output_type": "execute_result"
    }
   ],
   "execution_count": 24
  },
  {
   "metadata": {
    "ExecuteTime": {
     "end_time": "2024-09-30T10:35:20.559750Z",
     "start_time": "2024-09-30T10:35:20.556424Z"
    }
   },
   "cell_type": "code",
   "source": "from copy import deepcopy",
   "id": "7937993adb1544d2",
   "outputs": [],
   "execution_count": 25
  },
  {
   "metadata": {
    "ExecuteTime": {
     "end_time": "2024-09-30T10:35:27.127105Z",
     "start_time": "2024-09-30T10:35:27.124266Z"
    }
   },
   "cell_type": "code",
   "source": "s5 = deepcopy(s1)",
   "id": "9722d5f2a30a1714",
   "outputs": [],
   "execution_count": 26
  },
  {
   "metadata": {
    "ExecuteTime": {
     "end_time": "2024-09-30T10:35:32.476384Z",
     "start_time": "2024-09-30T10:35:32.471963Z"
    }
   },
   "cell_type": "code",
   "source": "s5 ",
   "id": "bf1e35313a62beb2",
   "outputs": [
    {
     "data": {
      "text/plain": [
       "{Person(name=Eric), Person(name=Mario)}"
      ]
     },
     "execution_count": 27,
     "metadata": {},
     "output_type": "execute_result"
    }
   ],
   "execution_count": 27
  },
  {
   "metadata": {
    "ExecuteTime": {
     "end_time": "2024-09-30T10:35:37.627282Z",
     "start_time": "2024-09-30T10:35:37.622540Z"
    }
   },
   "cell_type": "code",
   "source": "s1 == s5",
   "id": "2aea209d5df2795d",
   "outputs": [
    {
     "data": {
      "text/plain": [
       "False"
      ]
     },
     "execution_count": 28,
     "metadata": {},
     "output_type": "execute_result"
    }
   ],
   "execution_count": 28
  },
  {
   "metadata": {
    "ExecuteTime": {
     "end_time": "2024-09-30T10:36:12.567296Z",
     "start_time": "2024-09-30T10:36:12.561723Z"
    }
   },
   "cell_type": "code",
   "source": "[(o, id(o)) for o in s1]",
   "id": "14220f28d35eada0",
   "outputs": [
    {
     "data": {
      "text/plain": [
       "[(Person(name=Eric), 134366712678160), (Person(name=Mario), 134366712676576)]"
      ]
     },
     "execution_count": 29,
     "metadata": {},
     "output_type": "execute_result"
    }
   ],
   "execution_count": 29
  },
  {
   "metadata": {
    "ExecuteTime": {
     "end_time": "2024-09-30T10:36:26.086902Z",
     "start_time": "2024-09-30T10:36:26.082164Z"
    }
   },
   "cell_type": "code",
   "source": "[(o, id(o)) for o in s2]",
   "id": "944b78a72d77f64",
   "outputs": [
    {
     "data": {
      "text/plain": [
       "[(Person(name=Eric), 134366712678160), (Person(name=Mario), 134366712676576)]"
      ]
     },
     "execution_count": 30,
     "metadata": {},
     "output_type": "execute_result"
    }
   ],
   "execution_count": 30
  },
  {
   "metadata": {
    "ExecuteTime": {
     "end_time": "2024-09-30T10:36:28.534870Z",
     "start_time": "2024-09-30T10:36:28.531680Z"
    }
   },
   "cell_type": "code",
   "source": "[(o, id(o)) for o in s5]",
   "id": "40ef24c04d37d134",
   "outputs": [
    {
     "data": {
      "text/plain": [
       "[(Person(name=Mario), 134366710908592), (Person(name=Eric), 134366710901040)]"
      ]
     },
     "execution_count": 31,
     "metadata": {},
     "output_type": "execute_result"
    }
   ],
   "execution_count": 31
  },
  {
   "metadata": {
    "ExecuteTime": {
     "end_time": "2024-09-30T10:37:14.126973Z",
     "start_time": "2024-09-30T10:37:14.124400Z"
    }
   },
   "cell_type": "code",
   "source": "p2.name = 'Luigi'",
   "id": "a7b9c24d3550285b",
   "outputs": [],
   "execution_count": 32
  },
  {
   "metadata": {
    "ExecuteTime": {
     "end_time": "2024-09-30T10:37:23.126365Z",
     "start_time": "2024-09-30T10:37:23.121905Z"
    }
   },
   "cell_type": "code",
   "source": "s1, s2, s3, s4",
   "id": "98f750e6e347583d",
   "outputs": [
    {
     "data": {
      "text/plain": [
       "({Person(name=Luigi), Person(name=Mario)},\n",
       " {Person(name=Luigi), Person(name=Mario)},\n",
       " {Person(name=Luigi), Person(name=Mario)},\n",
       " {Person(name=Luigi), Person(name=Mario)})"
      ]
     },
     "execution_count": 33,
     "metadata": {},
     "output_type": "execute_result"
    }
   ],
   "execution_count": 33
  },
  {
   "metadata": {
    "ExecuteTime": {
     "end_time": "2024-09-30T10:37:25.794999Z",
     "start_time": "2024-09-30T10:37:25.790614Z"
    }
   },
   "cell_type": "code",
   "source": "s5",
   "id": "f00cd6480338766d",
   "outputs": [
    {
     "data": {
      "text/plain": [
       "{Person(name=Eric), Person(name=Mario)}"
      ]
     },
     "execution_count": 34,
     "metadata": {},
     "output_type": "execute_result"
    }
   ],
   "execution_count": 34
  },
  {
   "metadata": {
    "ExecuteTime": {
     "end_time": "2024-09-30T10:38:02.015290Z",
     "start_time": "2024-09-30T10:38:02.012139Z"
    }
   },
   "cell_type": "code",
   "source": "s1.remove(p1)",
   "id": "37f7d868a9bd8164",
   "outputs": [],
   "execution_count": 35
  },
  {
   "metadata": {
    "ExecuteTime": {
     "end_time": "2024-09-30T10:38:06.190604Z",
     "start_time": "2024-09-30T10:38:06.185172Z"
    }
   },
   "cell_type": "code",
   "source": "s1, s2, s3, s4",
   "id": "70c72f549a479a98",
   "outputs": [
    {
     "data": {
      "text/plain": [
       "({Person(name=Luigi)},\n",
       " {Person(name=Luigi), Person(name=Mario)},\n",
       " {Person(name=Luigi), Person(name=Mario)},\n",
       " {Person(name=Luigi), Person(name=Mario)})"
      ]
     },
     "execution_count": 36,
     "metadata": {},
     "output_type": "execute_result"
    }
   ],
   "execution_count": 36
  },
  {
   "metadata": {
    "ExecuteTime": {
     "end_time": "2024-09-30T10:38:31.872942Z",
     "start_time": "2024-09-30T10:38:31.855130Z"
    }
   },
   "cell_type": "code",
   "source": "s1.remove(Person('Luigi'))",
   "id": "2670a3f52c15aec0",
   "outputs": [
    {
     "ename": "KeyError",
     "evalue": "Person(name=Luigi)",
     "output_type": "error",
     "traceback": [
      "\u001B[0;31m---------------------------------------------------------------------------\u001B[0m",
      "\u001B[0;31mKeyError\u001B[0m                                  Traceback (most recent call last)",
      "Cell \u001B[0;32mIn[37], line 1\u001B[0m\n\u001B[0;32m----> 1\u001B[0m \u001B[43ms1\u001B[49m\u001B[38;5;241;43m.\u001B[39;49m\u001B[43mremove\u001B[49m\u001B[43m(\u001B[49m\u001B[43mPerson\u001B[49m\u001B[43m(\u001B[49m\u001B[38;5;124;43m'\u001B[39;49m\u001B[38;5;124;43mLuigi\u001B[39;49m\u001B[38;5;124;43m'\u001B[39;49m\u001B[43m)\u001B[49m\u001B[43m)\u001B[49m\n",
      "\u001B[0;31mKeyError\u001B[0m: Person(name=Luigi)"
     ]
    }
   ],
   "execution_count": 37
  },
  {
   "metadata": {},
   "cell_type": "code",
   "outputs": [],
   "execution_count": null,
   "source": "    ",
   "id": "d58727b6d133930"
  }
 ],
 "metadata": {
  "kernelspec": {
   "display_name": "Python 3",
   "language": "python",
   "name": "python3"
  },
  "language_info": {
   "codemirror_mode": {
    "name": "ipython",
    "version": 2
   },
   "file_extension": ".py",
   "mimetype": "text/x-python",
   "name": "python",
   "nbconvert_exporter": "python",
   "pygments_lexer": "ipython2",
   "version": "2.7.6"
  }
 },
 "nbformat": 4,
 "nbformat_minor": 5
}
