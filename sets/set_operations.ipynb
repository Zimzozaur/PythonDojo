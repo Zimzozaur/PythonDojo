{
 "cells": [
  {
   "cell_type": "code",
   "id": "initial_id",
   "metadata": {
    "collapsed": true,
    "ExecuteTime": {
     "end_time": "2024-09-30T08:45:26.720776Z",
     "start_time": "2024-09-30T08:45:26.717508Z"
    }
   },
   "source": [
    "s1 = {1, 2, 3}\n",
    "s2 = {2, 3, 4}"
   ],
   "outputs": [],
   "execution_count": 2
  },
  {
   "metadata": {
    "ExecuteTime": {
     "end_time": "2024-09-30T08:45:32.239657Z",
     "start_time": "2024-09-30T08:45:32.232383Z"
    }
   },
   "cell_type": "code",
   "source": "s1.intersection(s2)",
   "id": "725292ffb626f357",
   "outputs": [
    {
     "data": {
      "text/plain": [
       "{2, 3}"
      ]
     },
     "execution_count": 3,
     "metadata": {},
     "output_type": "execute_result"
    }
   ],
   "execution_count": 3
  },
  {
   "metadata": {
    "ExecuteTime": {
     "end_time": "2024-09-30T08:45:34.316046Z",
     "start_time": "2024-09-30T08:45:34.312114Z"
    }
   },
   "cell_type": "code",
   "source": "s1, s2",
   "id": "a1a1e5b13b305810",
   "outputs": [
    {
     "data": {
      "text/plain": [
       "({1, 2, 3}, {2, 3, 4})"
      ]
     },
     "execution_count": 4,
     "metadata": {},
     "output_type": "execute_result"
    }
   ],
   "execution_count": 4
  },
  {
   "metadata": {
    "ExecuteTime": {
     "end_time": "2024-09-30T08:46:26.113102Z",
     "start_time": "2024-09-30T08:46:26.110253Z"
    }
   },
   "cell_type": "code",
   "source": "s3 = {3, 4, 5}",
   "id": "427d1e0abcc025d0",
   "outputs": [],
   "execution_count": 6
  },
  {
   "metadata": {
    "ExecuteTime": {
     "end_time": "2024-09-30T08:46:26.328195Z",
     "start_time": "2024-09-30T08:46:26.322311Z"
    }
   },
   "cell_type": "code",
   "source": "s1.intersection(s2, s3)",
   "id": "610b266cdb79a943",
   "outputs": [
    {
     "data": {
      "text/plain": [
       "{3}"
      ]
     },
     "execution_count": 7,
     "metadata": {},
     "output_type": "execute_result"
    }
   ],
   "execution_count": 7
  },
  {
   "metadata": {
    "ExecuteTime": {
     "end_time": "2024-09-30T08:46:40.761308Z",
     "start_time": "2024-09-30T08:46:40.755892Z"
    }
   },
   "cell_type": "code",
   "source": "s1 & s2 & s3",
   "id": "5bd805523c0da2e1",
   "outputs": [
    {
     "data": {
      "text/plain": [
       "{3}"
      ]
     },
     "execution_count": 8,
     "metadata": {},
     "output_type": "execute_result"
    }
   ],
   "execution_count": 8
  },
  {
   "metadata": {
    "ExecuteTime": {
     "end_time": "2024-09-30T08:47:19.811172Z",
     "start_time": "2024-09-30T08:47:19.804866Z"
    }
   },
   "cell_type": "code",
   "source": "s1, s2, s3",
   "id": "dfdba3996b745996",
   "outputs": [
    {
     "data": {
      "text/plain": [
       "({1, 2, 3}, {2, 3, 4}, {3, 4, 5})"
      ]
     },
     "execution_count": 11,
     "metadata": {},
     "output_type": "execute_result"
    }
   ],
   "execution_count": 11
  },
  {
   "metadata": {
    "ExecuteTime": {
     "end_time": "2024-09-30T08:47:10.655703Z",
     "start_time": "2024-09-30T08:47:10.650245Z"
    }
   },
   "cell_type": "code",
   "source": "s1.union(s2)",
   "id": "3e4f1827b4412915",
   "outputs": [
    {
     "data": {
      "text/plain": [
       "{1, 2, 3, 4}"
      ]
     },
     "execution_count": 10,
     "metadata": {},
     "output_type": "execute_result"
    }
   ],
   "execution_count": 10
  },
  {
   "metadata": {
    "ExecuteTime": {
     "end_time": "2024-09-30T08:47:26.383012Z",
     "start_time": "2024-09-30T08:47:26.378579Z"
    }
   },
   "cell_type": "code",
   "source": "s1.union(s2, s3)",
   "id": "5ce1fbd30d31d157",
   "outputs": [
    {
     "data": {
      "text/plain": [
       "{1, 2, 3, 4, 5}"
      ]
     },
     "execution_count": 12,
     "metadata": {},
     "output_type": "execute_result"
    }
   ],
   "execution_count": 12
  },
  {
   "metadata": {
    "ExecuteTime": {
     "end_time": "2024-09-30T08:47:32.637288Z",
     "start_time": "2024-09-30T08:47:32.632776Z"
    }
   },
   "cell_type": "code",
   "source": "s1 | s2 | s3",
   "id": "dafee15d49262853",
   "outputs": [
    {
     "data": {
      "text/plain": [
       "{1, 2, 3, 4, 5}"
      ]
     },
     "execution_count": 13,
     "metadata": {},
     "output_type": "execute_result"
    }
   ],
   "execution_count": 13
  },
  {
   "metadata": {
    "ExecuteTime": {
     "end_time": "2024-09-30T08:48:18.186490Z",
     "start_time": "2024-09-30T08:48:18.182886Z"
    }
   },
   "cell_type": "code",
   "source": [
    "s1 = {1, 2, 3}\n",
    "s2 = {2, 3, 4}\n",
    "s3 = {30, 40, 50}"
   ],
   "id": "2733c37ad302d4c0",
   "outputs": [],
   "execution_count": 14
  },
  {
   "metadata": {
    "ExecuteTime": {
     "end_time": "2024-09-30T08:48:25.024362Z",
     "start_time": "2024-09-30T08:48:25.019313Z"
    }
   },
   "cell_type": "code",
   "source": "s1.isdisjoint(s2)",
   "id": "5c7178c084a81456",
   "outputs": [
    {
     "data": {
      "text/plain": [
       "False"
      ]
     },
     "execution_count": 15,
     "metadata": {},
     "output_type": "execute_result"
    }
   ],
   "execution_count": 15
  },
  {
   "metadata": {
    "ExecuteTime": {
     "end_time": "2024-09-30T08:48:33.106928Z",
     "start_time": "2024-09-30T08:48:33.102505Z"
    }
   },
   "cell_type": "code",
   "source": "s1.isdisjoint(s3)",
   "id": "78346d23fadd1824",
   "outputs": [
    {
     "data": {
      "text/plain": [
       "True"
      ]
     },
     "execution_count": 16,
     "metadata": {},
     "output_type": "execute_result"
    }
   ],
   "execution_count": 16
  },
  {
   "metadata": {
    "ExecuteTime": {
     "end_time": "2024-09-30T08:48:48.559917Z",
     "start_time": "2024-09-30T08:48:48.555835Z"
    }
   },
   "cell_type": "code",
   "source": "len(s1 & s2)",
   "id": "552314c8e386b15f",
   "outputs": [
    {
     "data": {
      "text/plain": [
       "2"
      ]
     },
     "execution_count": 17,
     "metadata": {},
     "output_type": "execute_result"
    }
   ],
   "execution_count": 17
  },
  {
   "metadata": {
    "ExecuteTime": {
     "end_time": "2024-09-30T08:49:14.395590Z",
     "start_time": "2024-09-30T08:49:14.391467Z"
    }
   },
   "cell_type": "code",
   "source": [
    "if len(s1 & s2):\n",
    "    print('not disjointed')"
   ],
   "id": "764a643fa8f028c7",
   "outputs": [
    {
     "name": "stdout",
     "output_type": "stream",
     "text": [
      "not disjointed\n"
     ]
    }
   ],
   "execution_count": 18
  },
  {
   "metadata": {
    "ExecuteTime": {
     "end_time": "2024-09-30T08:49:31.000260Z",
     "start_time": "2024-09-30T08:49:30.996256Z"
    }
   },
   "cell_type": "code",
   "source": [
    "if len(s1 & s3):\n",
    "    print('not disjointed')\n",
    "else:\n",
    "    print('disjointed')"
   ],
   "id": "7aebc69f75209adf",
   "outputs": [
    {
     "name": "stdout",
     "output_type": "stream",
     "text": [
      "disjointed\n"
     ]
    }
   ],
   "execution_count": 20
  },
  {
   "metadata": {
    "ExecuteTime": {
     "end_time": "2024-09-30T08:50:11.287826Z",
     "start_time": "2024-09-30T08:50:11.284566Z"
    }
   },
   "cell_type": "code",
   "source": [
    "s1 = {1, 2, 3, 4, 5}\n",
    "s2 = {4, 5}"
   ],
   "id": "d22dc59a135f6815",
   "outputs": [],
   "execution_count": 21
  },
  {
   "metadata": {
    "ExecuteTime": {
     "end_time": "2024-09-30T08:50:15.308275Z",
     "start_time": "2024-09-30T08:50:15.303591Z"
    }
   },
   "cell_type": "code",
   "source": "s1 - s2",
   "id": "4f4416a5289a27e0",
   "outputs": [
    {
     "data": {
      "text/plain": [
       "{1, 2, 3}"
      ]
     },
     "execution_count": 22,
     "metadata": {},
     "output_type": "execute_result"
    }
   ],
   "execution_count": 22
  },
  {
   "metadata": {
    "ExecuteTime": {
     "end_time": "2024-09-30T08:50:22.455306Z",
     "start_time": "2024-09-30T08:50:22.451410Z"
    }
   },
   "cell_type": "code",
   "source": "s1.difference(s2)",
   "id": "c960ef5cffa60027",
   "outputs": [
    {
     "data": {
      "text/plain": [
       "{1, 2, 3}"
      ]
     },
     "execution_count": 23,
     "metadata": {},
     "output_type": "execute_result"
    }
   ],
   "execution_count": 23
  },
  {
   "metadata": {
    "ExecuteTime": {
     "end_time": "2024-09-30T08:50:35.561665Z",
     "start_time": "2024-09-30T08:50:35.557319Z"
    }
   },
   "cell_type": "code",
   "source": "s2 - s1",
   "id": "1b637fa9f2c017e2",
   "outputs": [
    {
     "data": {
      "text/plain": [
       "set()"
      ]
     },
     "execution_count": 24,
     "metadata": {},
     "output_type": "execute_result"
    }
   ],
   "execution_count": 24
  },
  {
   "metadata": {
    "ExecuteTime": {
     "end_time": "2024-09-30T08:51:10.295928Z",
     "start_time": "2024-09-30T08:51:10.292744Z"
    }
   },
   "cell_type": "code",
   "source": [
    "s1 = {1, 2, 3}\n",
    "s2 = {3, 4}\n",
    "s3 = {3, 4}"
   ],
   "id": "44174730c6241c3d",
   "outputs": [],
   "execution_count": 25
  },
  {
   "metadata": {
    "ExecuteTime": {
     "end_time": "2024-09-30T08:51:20.971718Z",
     "start_time": "2024-09-30T08:51:20.967564Z"
    }
   },
   "cell_type": "code",
   "source": "s1 - (s2 - s3)",
   "id": "9088677369d69d23",
   "outputs": [
    {
     "data": {
      "text/plain": [
       "{1, 2, 3}"
      ]
     },
     "execution_count": 26,
     "metadata": {},
     "output_type": "execute_result"
    }
   ],
   "execution_count": 26
  },
  {
   "metadata": {
    "ExecuteTime": {
     "end_time": "2024-09-30T08:51:28.528522Z",
     "start_time": "2024-09-30T08:51:28.523148Z"
    }
   },
   "cell_type": "code",
   "source": "(s1 - s2) - s3",
   "id": "b98d4390c522c65f",
   "outputs": [
    {
     "data": {
      "text/plain": [
       "{1, 2}"
      ]
     },
     "execution_count": 27,
     "metadata": {},
     "output_type": "execute_result"
    }
   ],
   "execution_count": 27
  },
  {
   "metadata": {
    "ExecuteTime": {
     "end_time": "2024-09-30T08:51:37.181458Z",
     "start_time": "2024-09-30T08:51:37.176475Z"
    }
   },
   "cell_type": "code",
   "source": "s1.difference(s2, s3)",
   "id": "ab193095137cd734",
   "outputs": [
    {
     "data": {
      "text/plain": [
       "{1, 2}"
      ]
     },
     "execution_count": 28,
     "metadata": {},
     "output_type": "execute_result"
    }
   ],
   "execution_count": 28
  },
  {
   "metadata": {
    "ExecuteTime": {
     "end_time": "2024-09-30T08:51:58.134522Z",
     "start_time": "2024-09-30T08:51:58.131328Z"
    }
   },
   "cell_type": "code",
   "source": [
    "s1 = {1, 2, 3, 4, 5}\n",
    "s2 = {4, 5, 6, 7, 8}"
   ],
   "id": "933708bd7b3dafbd",
   "outputs": [],
   "execution_count": 29
  },
  {
   "metadata": {
    "ExecuteTime": {
     "end_time": "2024-09-30T08:52:02.552750Z",
     "start_time": "2024-09-30T08:52:02.549001Z"
    }
   },
   "cell_type": "code",
   "source": "s1.symmetric_difference(s2)",
   "id": "bf281f5f2339a3ca",
   "outputs": [
    {
     "data": {
      "text/plain": [
       "{1, 2, 3, 6, 7, 8}"
      ]
     },
     "execution_count": 30,
     "metadata": {},
     "output_type": "execute_result"
    }
   ],
   "execution_count": 30
  },
  {
   "metadata": {
    "ExecuteTime": {
     "end_time": "2024-09-30T08:52:17.385464Z",
     "start_time": "2024-09-30T08:52:17.380357Z"
    }
   },
   "cell_type": "code",
   "source": "s1 ^ s2",
   "id": "de7cb2686c3fe73c",
   "outputs": [
    {
     "data": {
      "text/plain": [
       "{1, 2, 3, 6, 7, 8}"
      ]
     },
     "execution_count": 31,
     "metadata": {},
     "output_type": "execute_result"
    }
   ],
   "execution_count": 31
  },
  {
   "metadata": {
    "ExecuteTime": {
     "end_time": "2024-09-30T08:52:41.460759Z",
     "start_time": "2024-09-30T08:52:41.456287Z"
    }
   },
   "cell_type": "code",
   "source": "s2 ^ s1",
   "id": "8043bd9eda5d1b81",
   "outputs": [
    {
     "data": {
      "text/plain": [
       "{1, 2, 3, 6, 7, 8}"
      ]
     },
     "execution_count": 32,
     "metadata": {},
     "output_type": "execute_result"
    }
   ],
   "execution_count": 32
  },
  {
   "metadata": {
    "ExecuteTime": {
     "end_time": "2024-09-30T08:53:03.409694Z",
     "start_time": "2024-09-30T08:53:03.405974Z"
    }
   },
   "cell_type": "code",
   "source": [
    "s1 = {1, 2, 3}\n",
    "s2 = {1, 2, 3}\n",
    "s3 = {1, 2, 3, 4}\n",
    "s4 = {10, 20, 30}"
   ],
   "id": "22780666f14bd24",
   "outputs": [],
   "execution_count": 33
  },
  {
   "metadata": {
    "ExecuteTime": {
     "end_time": "2024-09-30T08:53:19.297166Z",
     "start_time": "2024-09-30T08:53:19.293572Z"
    }
   },
   "cell_type": "code",
   "source": "s1.issubset(s2)",
   "id": "1b01b94b26119397",
   "outputs": [
    {
     "data": {
      "text/plain": [
       "True"
      ]
     },
     "execution_count": 34,
     "metadata": {},
     "output_type": "execute_result"
    }
   ],
   "execution_count": 34
  },
  {
   "metadata": {
    "ExecuteTime": {
     "end_time": "2024-09-30T08:53:27.389999Z",
     "start_time": "2024-09-30T08:53:27.386895Z"
    }
   },
   "cell_type": "code",
   "source": "s1 <= s2",
   "id": "7776a46184c16afb",
   "outputs": [
    {
     "data": {
      "text/plain": [
       "True"
      ]
     },
     "execution_count": 35,
     "metadata": {},
     "output_type": "execute_result"
    }
   ],
   "execution_count": 35
  },
  {
   "metadata": {
    "ExecuteTime": {
     "end_time": "2024-09-30T08:53:32.657203Z",
     "start_time": "2024-09-30T08:53:32.652888Z"
    }
   },
   "cell_type": "code",
   "source": "s1 < s2",
   "id": "478b84a106fc821b",
   "outputs": [
    {
     "data": {
      "text/plain": [
       "False"
      ]
     },
     "execution_count": 36,
     "metadata": {},
     "output_type": "execute_result"
    }
   ],
   "execution_count": 36
  },
  {
   "metadata": {
    "ExecuteTime": {
     "end_time": "2024-09-30T08:54:14.328146Z",
     "start_time": "2024-09-30T08:54:14.324240Z"
    }
   },
   "cell_type": "code",
   "source": "s3.issuperset(s1)",
   "id": "bba4dbba6505d393",
   "outputs": [
    {
     "data": {
      "text/plain": [
       "True"
      ]
     },
     "execution_count": 38,
     "metadata": {},
     "output_type": "execute_result"
    }
   ],
   "execution_count": 38
  },
  {
   "metadata": {
    "ExecuteTime": {
     "end_time": "2024-09-30T08:54:20.032554Z",
     "start_time": "2024-09-30T08:54:20.028176Z"
    }
   },
   "cell_type": "code",
   "source": "s3 > s1",
   "id": "cc666f0d0379177d",
   "outputs": [
    {
     "data": {
      "text/plain": [
       "True"
      ]
     },
     "execution_count": 39,
     "metadata": {},
     "output_type": "execute_result"
    }
   ],
   "execution_count": 39
  },
  {
   "metadata": {
    "ExecuteTime": {
     "end_time": "2024-09-30T08:54:34.919781Z",
     "start_time": "2024-09-30T08:54:34.915921Z"
    }
   },
   "cell_type": "code",
   "source": "s2 > s1",
   "id": "41de201b446e7f12",
   "outputs": [
    {
     "data": {
      "text/plain": [
       "False"
      ]
     },
     "execution_count": 40,
     "metadata": {},
     "output_type": "execute_result"
    }
   ],
   "execution_count": 40
  },
  {
   "metadata": {
    "ExecuteTime": {
     "end_time": "2024-09-30T08:55:15.865210Z",
     "start_time": "2024-09-30T08:55:15.859793Z"
    }
   },
   "cell_type": "code",
   "source": "s1 <= s4",
   "id": "67e5c7c7c22c56fe",
   "outputs": [
    {
     "data": {
      "text/plain": [
       "False"
      ]
     },
     "execution_count": 41,
     "metadata": {},
     "output_type": "execute_result"
    }
   ],
   "execution_count": 41
  },
  {
   "metadata": {
    "ExecuteTime": {
     "end_time": "2024-09-30T08:55:27.072551Z",
     "start_time": "2024-09-30T08:55:27.068438Z"
    }
   },
   "cell_type": "code",
   "source": "s1 > s4",
   "id": "c489e16b785bf3a",
   "outputs": [
    {
     "data": {
      "text/plain": [
       "False"
      ]
     },
     "execution_count": 42,
     "metadata": {},
     "output_type": "execute_result"
    }
   ],
   "execution_count": 42
  },
  {
   "metadata": {
    "ExecuteTime": {
     "end_time": "2024-09-30T08:56:17.893492Z",
     "start_time": "2024-09-30T08:56:17.875216Z"
    }
   },
   "cell_type": "code",
   "source": "{1, 2} & [2, 3]",
   "id": "432606f794281325",
   "outputs": [
    {
     "ename": "TypeError",
     "evalue": "unsupported operand type(s) for &: 'set' and 'list'",
     "output_type": "error",
     "traceback": [
      "\u001B[0;31m---------------------------------------------------------------------------\u001B[0m",
      "\u001B[0;31mTypeError\u001B[0m                                 Traceback (most recent call last)",
      "Cell \u001B[0;32mIn[43], line 1\u001B[0m\n\u001B[0;32m----> 1\u001B[0m \u001B[43m{\u001B[49m\u001B[38;5;241;43m1\u001B[39;49m\u001B[43m,\u001B[49m\u001B[43m \u001B[49m\u001B[38;5;241;43m2\u001B[39;49m\u001B[43m}\u001B[49m\u001B[43m \u001B[49m\u001B[38;5;241;43m&\u001B[39;49m\u001B[43m \u001B[49m\u001B[43m[\u001B[49m\u001B[38;5;241;43m2\u001B[39;49m\u001B[43m,\u001B[49m\u001B[43m \u001B[49m\u001B[38;5;241;43m3\u001B[39;49m\u001B[43m]\u001B[49m\n",
      "\u001B[0;31mTypeError\u001B[0m: unsupported operand type(s) for &: 'set' and 'list'"
     ]
    }
   ],
   "execution_count": 43
  },
  {
   "metadata": {
    "ExecuteTime": {
     "end_time": "2024-09-30T08:56:32.542650Z",
     "start_time": "2024-09-30T08:56:32.538455Z"
    }
   },
   "cell_type": "code",
   "source": "{1, 2}.intersection([2, 3])",
   "id": "24dfe21396cee79c",
   "outputs": [
    {
     "data": {
      "text/plain": [
       "{2}"
      ]
     },
     "execution_count": 44,
     "metadata": {},
     "output_type": "execute_result"
    }
   ],
   "execution_count": 44
  },
  {
   "metadata": {
    "ExecuteTime": {
     "end_time": "2024-09-30T08:56:49.612796Z",
     "start_time": "2024-09-30T08:56:49.607420Z"
    }
   },
   "cell_type": "code",
   "source": "{1, 2}.intersection(range(10))",
   "id": "fc03048520847146",
   "outputs": [
    {
     "data": {
      "text/plain": [
       "{1, 2}"
      ]
     },
     "execution_count": 45,
     "metadata": {},
     "output_type": "execute_result"
    }
   ],
   "execution_count": 45
  },
  {
   "metadata": {
    "ExecuteTime": {
     "end_time": "2024-09-30T08:57:39.369549Z",
     "start_time": "2024-09-30T08:57:39.364704Z"
    }
   },
   "cell_type": "code",
   "source": "{1, 2}.intersection([(1, 2), (2, 3)])",
   "id": "d9a76b0b29d7ddc4",
   "outputs": [
    {
     "data": {
      "text/plain": [
       "set()"
      ]
     },
     "execution_count": 46,
     "metadata": {},
     "output_type": "execute_result"
    }
   ],
   "execution_count": 46
  },
  {
   "metadata": {
    "ExecuteTime": {
     "end_time": "2024-09-30T08:57:55.154783Z",
     "start_time": "2024-09-30T08:57:55.141372Z"
    }
   },
   "cell_type": "code",
   "source": "{1, 2}.intersection([[1, 2], [2, 3]])",
   "id": "5561cb6c645a9e0c",
   "outputs": [
    {
     "ename": "TypeError",
     "evalue": "unhashable type: 'list'",
     "output_type": "error",
     "traceback": [
      "\u001B[0;31m---------------------------------------------------------------------------\u001B[0m",
      "\u001B[0;31mTypeError\u001B[0m                                 Traceback (most recent call last)",
      "Cell \u001B[0;32mIn[47], line 1\u001B[0m\n\u001B[0;32m----> 1\u001B[0m \u001B[43m{\u001B[49m\u001B[38;5;241;43m1\u001B[39;49m\u001B[43m,\u001B[49m\u001B[43m \u001B[49m\u001B[38;5;241;43m2\u001B[39;49m\u001B[43m}\u001B[49m\u001B[38;5;241;43m.\u001B[39;49m\u001B[43mintersection\u001B[49m\u001B[43m(\u001B[49m\u001B[43m[\u001B[49m\u001B[43m[\u001B[49m\u001B[38;5;241;43m1\u001B[39;49m\u001B[43m,\u001B[49m\u001B[43m \u001B[49m\u001B[38;5;241;43m2\u001B[39;49m\u001B[43m]\u001B[49m\u001B[43m,\u001B[49m\u001B[43m \u001B[49m\u001B[43m[\u001B[49m\u001B[38;5;241;43m2\u001B[39;49m\u001B[43m,\u001B[49m\u001B[43m \u001B[49m\u001B[38;5;241;43m3\u001B[39;49m\u001B[43m]\u001B[49m\u001B[43m]\u001B[49m\u001B[43m)\u001B[49m\n",
      "\u001B[0;31mTypeError\u001B[0m: unhashable type: 'list'"
     ]
    }
   ],
   "execution_count": 47
  },
  {
   "metadata": {
    "ExecuteTime": {
     "end_time": "2024-09-30T08:58:49.668212Z",
     "start_time": "2024-09-30T08:58:49.665332Z"
    }
   },
   "cell_type": "code",
   "source": [
    "l1 = [1, 2, 3]\n",
    "l2 = [2, 3, 4]"
   ],
   "id": "9f2b2fd1ee46409",
   "outputs": [],
   "execution_count": 48
  },
  {
   "metadata": {
    "ExecuteTime": {
     "end_time": "2024-09-30T08:59:04.457119Z",
     "start_time": "2024-09-30T08:59:04.452166Z"
    }
   },
   "cell_type": "code",
   "source": "set(l1).intersection(l2)",
   "id": "a2b38ed66395fdaf",
   "outputs": [
    {
     "data": {
      "text/plain": [
       "{2, 3}"
      ]
     },
     "execution_count": 50,
     "metadata": {},
     "output_type": "execute_result"
    }
   ],
   "execution_count": 50
  },
  {
   "metadata": {
    "ExecuteTime": {
     "end_time": "2024-09-30T09:01:50.344540Z",
     "start_time": "2024-09-30T09:01:50.341641Z"
    }
   },
   "cell_type": "code",
   "source": [
    "a = 0b101010\n",
    "b = 0b110100"
   ],
   "id": "5e26eec3b0871124",
   "outputs": [],
   "execution_count": 68
  },
  {
   "metadata": {
    "ExecuteTime": {
     "end_time": "2024-09-30T09:01:50.605636Z",
     "start_time": "2024-09-30T09:01:50.602535Z"
    }
   },
   "cell_type": "code",
   "source": "a, b",
   "id": "d9025be94319599",
   "outputs": [
    {
     "data": {
      "text/plain": [
       "(42, 52)"
      ]
     },
     "execution_count": 69,
     "metadata": {},
     "output_type": "execute_result"
    }
   ],
   "execution_count": 69
  },
  {
   "metadata": {
    "ExecuteTime": {
     "end_time": "2024-09-30T09:01:51.458870Z",
     "start_time": "2024-09-30T09:01:51.454279Z"
    }
   },
   "cell_type": "code",
   "source": "type(a), type(b)",
   "id": "4a628be78127928e",
   "outputs": [
    {
     "data": {
      "text/plain": [
       "(int, int)"
      ]
     },
     "execution_count": 70,
     "metadata": {},
     "output_type": "execute_result"
    }
   ],
   "execution_count": 70
  },
  {
   "metadata": {
    "ExecuteTime": {
     "end_time": "2024-09-30T09:02:12.395685Z",
     "start_time": "2024-09-30T09:02:12.390899Z"
    }
   },
   "cell_type": "code",
   "source": "1 & 0",
   "id": "1818bcba6a9df890",
   "outputs": [
    {
     "data": {
      "text/plain": [
       "0"
      ]
     },
     "execution_count": 72,
     "metadata": {},
     "output_type": "execute_result"
    }
   ],
   "execution_count": 72
  },
  {
   "metadata": {
    "ExecuteTime": {
     "end_time": "2024-09-30T09:03:47.028617Z",
     "start_time": "2024-09-30T09:03:47.025940Z"
    }
   },
   "cell_type": "code",
   "source": "c = a & b",
   "id": "1fc3eca16ef02130",
   "outputs": [],
   "execution_count": 74
  },
  {
   "metadata": {
    "ExecuteTime": {
     "end_time": "2024-09-30T09:04:14.878334Z",
     "start_time": "2024-09-30T09:04:14.874775Z"
    }
   },
   "cell_type": "code",
   "source": [
    "print(bin(a))\n",
    "print(bin(b))\n",
    "print(bin(c))"
   ],
   "id": "dc719f0b64cf0794",
   "outputs": [
    {
     "name": "stdout",
     "output_type": "stream",
     "text": [
      "0b101010\n",
      "0b110100\n",
      "0b100000\n"
     ]
    }
   ],
   "execution_count": 76
  },
  {
   "metadata": {
    "ExecuteTime": {
     "end_time": "2024-09-30T09:04:53.969945Z",
     "start_time": "2024-09-30T09:04:53.967048Z"
    }
   },
   "cell_type": "code",
   "source": "c = a | b ",
   "id": "8a933baec8c4e9bf",
   "outputs": [],
   "execution_count": 77
  },
  {
   "metadata": {
    "ExecuteTime": {
     "end_time": "2024-09-30T09:04:59.391910Z",
     "start_time": "2024-09-30T09:04:59.388172Z"
    }
   },
   "cell_type": "code",
   "source": [
    "print(bin(a))\n",
    "print(bin(b))\n",
    "print(bin(c))"
   ],
   "id": "6520324d877ace6b",
   "outputs": [
    {
     "name": "stdout",
     "output_type": "stream",
     "text": [
      "0b101010\n",
      "0b110100\n",
      "0b111110\n"
     ]
    }
   ],
   "execution_count": 79
  },
  {
   "metadata": {
    "ExecuteTime": {
     "end_time": "2024-09-30T09:06:57.283876Z",
     "start_time": "2024-09-30T09:06:57.280839Z"
    }
   },
   "cell_type": "code",
   "source": "c = a ^ b",
   "id": "f62ff06b28d4bd40",
   "outputs": [],
   "execution_count": 80
  },
  {
   "metadata": {
    "ExecuteTime": {
     "end_time": "2024-09-30T09:07:05.294931Z",
     "start_time": "2024-09-30T09:07:05.290939Z"
    }
   },
   "cell_type": "code",
   "source": [
    "print(bin(a))\n",
    "print(bin(b))\n",
    "print(bin(c))"
   ],
   "id": "3ca23b9a8dc4bb55",
   "outputs": [
    {
     "name": "stdout",
     "output_type": "stream",
     "text": [
      "0b101010\n",
      "0b110100\n",
      "0b11110\n"
     ]
    }
   ],
   "execution_count": 81
  },
  {
   "metadata": {
    "ExecuteTime": {
     "end_time": "2024-09-30T09:07:47.471902Z",
     "start_time": "2024-09-30T09:07:47.467997Z"
    }
   },
   "cell_type": "code",
   "source": "{1} ^ {1}",
   "id": "f533b92976be615c",
   "outputs": [
    {
     "data": {
      "text/plain": [
       "set()"
      ]
     },
     "execution_count": 82,
     "metadata": {},
     "output_type": "execute_result"
    }
   ],
   "execution_count": 82
  },
  {
   "metadata": {
    "ExecuteTime": {
     "end_time": "2024-09-30T09:08:00.436464Z",
     "start_time": "2024-09-30T09:08:00.432869Z"
    }
   },
   "cell_type": "code",
   "source": "{0} ^ {1}",
   "id": "bcaf7d20ea1a1f22",
   "outputs": [
    {
     "data": {
      "text/plain": [
       "{0, 1}"
      ]
     },
     "execution_count": 83,
     "metadata": {},
     "output_type": "execute_result"
    }
   ],
   "execution_count": 83
  },
  {
   "metadata": {
    "ExecuteTime": {
     "end_time": "2024-09-30T09:08:07.027283Z",
     "start_time": "2024-09-30T09:08:07.023243Z"
    }
   },
   "cell_type": "code",
   "source": "{0} ^ {0}",
   "id": "122b131aff38dd07",
   "outputs": [
    {
     "data": {
      "text/plain": [
       "set()"
      ]
     },
     "execution_count": 84,
     "metadata": {},
     "output_type": "execute_result"
    }
   ],
   "execution_count": 84
  },
  {
   "metadata": {},
   "cell_type": "code",
   "outputs": [],
   "execution_count": null,
   "source": "",
   "id": "412dc278aa9d7829"
  }
 ],
 "metadata": {
  "kernelspec": {
   "display_name": "Python 3",
   "language": "python",
   "name": "python3"
  },
  "language_info": {
   "codemirror_mode": {
    "name": "ipython",
    "version": 2
   },
   "file_extension": ".py",
   "mimetype": "text/x-python",
   "name": "python",
   "nbconvert_exporter": "python",
   "pygments_lexer": "ipython2",
   "version": "2.7.6"
  }
 },
 "nbformat": 4,
 "nbformat_minor": 5
}
