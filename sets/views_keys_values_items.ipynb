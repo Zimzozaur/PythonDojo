{
 "cells": [
  {
   "cell_type": "code",
   "id": "initial_id",
   "metadata": {
    "collapsed": true,
    "ExecuteTime": {
     "end_time": "2024-09-30T15:51:31.670630Z",
     "start_time": "2024-09-30T15:51:31.668217Z"
    }
   },
   "source": "d = {'a': 1, 'b': 2}",
   "outputs": [],
   "execution_count": 1
  },
  {
   "metadata": {
    "ExecuteTime": {
     "end_time": "2024-09-30T15:51:49.973078Z",
     "start_time": "2024-09-30T15:51:49.969802Z"
    }
   },
   "cell_type": "code",
   "source": [
    "keys = d.keys()\n",
    "values = d.values()\n",
    "items = d.items()"
   ],
   "id": "ef2aa8d9c7980ca0",
   "outputs": [],
   "execution_count": 2
  },
  {
   "metadata": {
    "ExecuteTime": {
     "end_time": "2024-09-30T15:52:14.992071Z",
     "start_time": "2024-09-30T15:52:14.983895Z"
    }
   },
   "cell_type": "code",
   "source": "id(keys), id(values), id(items)",
   "id": "d869d1b44e68ad7d",
   "outputs": [
    {
     "data": {
      "text/plain": [
       "(130609755245632, 130609755246448, 130609755245584)"
      ]
     },
     "execution_count": 3,
     "metadata": {},
     "output_type": "execute_result"
    }
   ],
   "execution_count": 3
  },
  {
   "metadata": {
    "ExecuteTime": {
     "end_time": "2024-09-30T15:52:32.922628Z",
     "start_time": "2024-09-30T15:52:32.918034Z"
    }
   },
   "cell_type": "code",
   "source": [
    "print(keys)\n",
    "print(values)\n",
    "print(items)"
   ],
   "id": "f4f34dbd998da8dd",
   "outputs": [
    {
     "name": "stdout",
     "output_type": "stream",
     "text": [
      "dict_keys(['a', 'b'])\n",
      "dict_values([1, 2])\n",
      "dict_items([('a', 1), ('b', 2)])\n"
     ]
    }
   ],
   "execution_count": 4
  },
  {
   "metadata": {
    "ExecuteTime": {
     "end_time": "2024-09-30T15:52:52.865187Z",
     "start_time": "2024-09-30T15:52:52.861527Z"
    }
   },
   "cell_type": "code",
   "source": "d['z'] = 10",
   "id": "e2a857c2200b964c",
   "outputs": [],
   "execution_count": 5
  },
  {
   "metadata": {
    "ExecuteTime": {
     "end_time": "2024-09-30T15:52:59.429396Z",
     "start_time": "2024-09-30T15:52:59.425625Z"
    }
   },
   "cell_type": "code",
   "source": [
    "print(keys)\n",
    "print(values)\n",
    "print(items)"
   ],
   "id": "12a134ba4eb4bcd7",
   "outputs": [
    {
     "name": "stdout",
     "output_type": "stream",
     "text": [
      "dict_keys(['a', 'b', 'z'])\n",
      "dict_values([1, 2, 10])\n",
      "dict_items([('a', 1), ('b', 2), ('z', 10)])\n"
     ]
    }
   ],
   "execution_count": 6
  },
  {
   "metadata": {
    "ExecuteTime": {
     "end_time": "2024-09-30T15:53:09.288119Z",
     "start_time": "2024-09-30T15:53:09.282037Z"
    }
   },
   "cell_type": "code",
   "source": "id(keys), id(values), id(items)",
   "id": "5a6ef8df95a82b86",
   "outputs": [
    {
     "data": {
      "text/plain": [
       "(130609755245632, 130609755246448, 130609755245584)"
      ]
     },
     "execution_count": 7,
     "metadata": {},
     "output_type": "execute_result"
    }
   ],
   "execution_count": 7
  },
  {
   "metadata": {
    "ExecuteTime": {
     "end_time": "2024-09-30T15:54:28.944256Z",
     "start_time": "2024-09-30T15:54:28.941576Z"
    }
   },
   "cell_type": "code",
   "source": "d = dict(zip('abc', range(1, 4)))",
   "id": "25a132ed131f1336",
   "outputs": [],
   "execution_count": 8
  },
  {
   "metadata": {
    "ExecuteTime": {
     "end_time": "2024-09-30T15:54:30.687229Z",
     "start_time": "2024-09-30T15:54:30.682722Z"
    }
   },
   "cell_type": "code",
   "source": "d",
   "id": "ed176040730cee4e",
   "outputs": [
    {
     "data": {
      "text/plain": [
       "{'a': 1, 'b': 2, 'c': 3}"
      ]
     },
     "execution_count": 9,
     "metadata": {},
     "output_type": "execute_result"
    }
   ],
   "execution_count": 9
  },
  {
   "metadata": {
    "ExecuteTime": {
     "end_time": "2024-09-30T15:54:53.262943Z",
     "start_time": "2024-09-30T15:54:53.049952Z"
    }
   },
   "cell_type": "code",
   "source": [
    "for k, v in d.items():\n",
    "    print(k,v)\n",
    "    del d[k]"
   ],
   "id": "e77c301e7bc2b3e3",
   "outputs": [
    {
     "name": "stdout",
     "output_type": "stream",
     "text": [
      "a 1\n"
     ]
    },
    {
     "ename": "RuntimeError",
     "evalue": "dictionary changed size during iteration",
     "output_type": "error",
     "traceback": [
      "\u001B[0;31m---------------------------------------------------------------------------\u001B[0m",
      "\u001B[0;31mRuntimeError\u001B[0m                              Traceback (most recent call last)",
      "Cell \u001B[0;32mIn[10], line 1\u001B[0m\n\u001B[0;32m----> 1\u001B[0m \u001B[38;5;28;01mfor\u001B[39;00m k, v \u001B[38;5;129;01min\u001B[39;00m d\u001B[38;5;241m.\u001B[39mitems():\n\u001B[1;32m      2\u001B[0m     \u001B[38;5;28mprint\u001B[39m(k,v)\n\u001B[1;32m      3\u001B[0m     \u001B[38;5;28;01mdel\u001B[39;00m d[k]\n",
      "\u001B[0;31mRuntimeError\u001B[0m: dictionary changed size during iteration"
     ]
    }
   ],
   "execution_count": 10
  },
  {
   "metadata": {
    "ExecuteTime": {
     "end_time": "2024-09-30T15:55:45.375255Z",
     "start_time": "2024-09-30T15:55:45.371437Z"
    }
   },
   "cell_type": "code",
   "source": "d",
   "id": "8d2dcdf71b9733c",
   "outputs": [
    {
     "data": {
      "text/plain": [
       "{'b': 2, 'c': 3}"
      ]
     },
     "execution_count": 11,
     "metadata": {},
     "output_type": "execute_result"
    }
   ],
   "execution_count": 11
  },
  {
   "metadata": {
    "ExecuteTime": {
     "end_time": "2024-09-30T15:56:17.279086Z",
     "start_time": "2024-09-30T15:56:17.275709Z"
    }
   },
   "cell_type": "code",
   "source": "d = dict(zip('abc', range(1, 4)))",
   "id": "cb200de84eec063",
   "outputs": [],
   "execution_count": 12
  },
  {
   "metadata": {
    "ExecuteTime": {
     "end_time": "2024-09-30T15:56:36.875442Z",
     "start_time": "2024-09-30T15:56:36.857798Z"
    }
   },
   "cell_type": "code",
   "source": [
    "for k, v in d.items():\n",
    "    print(k,v)\n",
    "    d['z'] = 100"
   ],
   "id": "a61d73875774a8c6",
   "outputs": [
    {
     "name": "stdout",
     "output_type": "stream",
     "text": [
      "a 1\n"
     ]
    },
    {
     "ename": "RuntimeError",
     "evalue": "dictionary changed size during iteration",
     "output_type": "error",
     "traceback": [
      "\u001B[0;31m---------------------------------------------------------------------------\u001B[0m",
      "\u001B[0;31mRuntimeError\u001B[0m                              Traceback (most recent call last)",
      "Cell \u001B[0;32mIn[13], line 1\u001B[0m\n\u001B[0;32m----> 1\u001B[0m \u001B[38;5;28;01mfor\u001B[39;00m k, v \u001B[38;5;129;01min\u001B[39;00m d\u001B[38;5;241m.\u001B[39mitems():\n\u001B[1;32m      2\u001B[0m     \u001B[38;5;28mprint\u001B[39m(k,v)\n\u001B[1;32m      3\u001B[0m     d[\u001B[38;5;124m'\u001B[39m\u001B[38;5;124mz\u001B[39m\u001B[38;5;124m'\u001B[39m] \u001B[38;5;241m=\u001B[39m \u001B[38;5;241m100\u001B[39m\n",
      "\u001B[0;31mRuntimeError\u001B[0m: dictionary changed size during iteration"
     ]
    }
   ],
   "execution_count": 13
  },
  {
   "metadata": {
    "ExecuteTime": {
     "end_time": "2024-09-30T15:57:17.078311Z",
     "start_time": "2024-09-30T15:57:17.075269Z"
    }
   },
   "cell_type": "code",
   "source": [
    "d = dict(zip('abc', range(1, 4)))\n",
    "\n",
    "for k, v in d.items():\n",
    "    print(k,v)\n",
    "    d[k] = 1000"
   ],
   "id": "7cae6a68ada82b67",
   "outputs": [
    {
     "name": "stdout",
     "output_type": "stream",
     "text": [
      "a 1\n",
      "b 2\n",
      "c 3\n"
     ]
    }
   ],
   "execution_count": 14
  },
  {
   "metadata": {
    "ExecuteTime": {
     "end_time": "2024-09-30T15:57:20.098852Z",
     "start_time": "2024-09-30T15:57:20.093611Z"
    }
   },
   "cell_type": "code",
   "source": "d",
   "id": "4ec1e046574a87a8",
   "outputs": [
    {
     "data": {
      "text/plain": [
       "{'a': 1000, 'b': 1000, 'c': 1000}"
      ]
     },
     "execution_count": 15,
     "metadata": {},
     "output_type": "execute_result"
    }
   ],
   "execution_count": 15
  },
  {
   "metadata": {
    "ExecuteTime": {
     "end_time": "2024-09-30T15:58:21.042655Z",
     "start_time": "2024-09-30T15:58:21.038628Z"
    }
   },
   "cell_type": "code",
   "source": [
    "d = dict(zip('abc', range(1, 4)))\n",
    "\n",
    "for k, v in d.items():\n",
    "    print(k,v)\n",
    "    d['c'] = 1000"
   ],
   "id": "3c7b6572ea4464a2",
   "outputs": [
    {
     "name": "stdout",
     "output_type": "stream",
     "text": [
      "a 1\n",
      "b 2\n",
      "c 1000\n"
     ]
    }
   ],
   "execution_count": 16
  },
  {
   "metadata": {
    "ExecuteTime": {
     "end_time": "2024-09-30T15:58:33.615786Z",
     "start_time": "2024-09-30T15:58:33.610660Z"
    }
   },
   "cell_type": "code",
   "source": "d",
   "id": "8b6ab283afafa0dd",
   "outputs": [
    {
     "data": {
      "text/plain": [
       "{'a': 1, 'b': 2, 'c': 1000}"
      ]
     },
     "execution_count": 17,
     "metadata": {},
     "output_type": "execute_result"
    }
   ],
   "execution_count": 17
  },
  {
   "metadata": {
    "ExecuteTime": {
     "end_time": "2024-09-30T16:00:09.300062Z",
     "start_time": "2024-09-30T16:00:09.278321Z"
    }
   },
   "cell_type": "code",
   "source": [
    "d = dict(zip('abc', range(1, 4)))\n",
    "\n",
    "for k in d.keys():\n",
    "    print(d)\n",
    "    del d[k]"
   ],
   "id": "c2a3f14743141a5e",
   "outputs": [
    {
     "name": "stdout",
     "output_type": "stream",
     "text": [
      "{'a': 1, 'b': 2, 'c': 3}\n"
     ]
    },
    {
     "ename": "RuntimeError",
     "evalue": "dictionary changed size during iteration",
     "output_type": "error",
     "traceback": [
      "\u001B[0;31m---------------------------------------------------------------------------\u001B[0m",
      "\u001B[0;31mRuntimeError\u001B[0m                              Traceback (most recent call last)",
      "Cell \u001B[0;32mIn[21], line 3\u001B[0m\n\u001B[1;32m      1\u001B[0m d \u001B[38;5;241m=\u001B[39m \u001B[38;5;28mdict\u001B[39m(\u001B[38;5;28mzip\u001B[39m(\u001B[38;5;124m'\u001B[39m\u001B[38;5;124mabc\u001B[39m\u001B[38;5;124m'\u001B[39m, \u001B[38;5;28mrange\u001B[39m(\u001B[38;5;241m1\u001B[39m, \u001B[38;5;241m4\u001B[39m)))\n\u001B[0;32m----> 3\u001B[0m \u001B[38;5;28;01mfor\u001B[39;00m k \u001B[38;5;129;01min\u001B[39;00m d\u001B[38;5;241m.\u001B[39mkeys():\n\u001B[1;32m      4\u001B[0m     \u001B[38;5;28mprint\u001B[39m(d)\n\u001B[1;32m      5\u001B[0m     \u001B[38;5;28;01mdel\u001B[39;00m d[k]\n",
      "\u001B[0;31mRuntimeError\u001B[0m: dictionary changed size during iteration"
     ]
    }
   ],
   "execution_count": 21
  },
  {
   "metadata": {
    "ExecuteTime": {
     "end_time": "2024-09-30T16:00:53.944400Z",
     "start_time": "2024-09-30T16:00:53.923158Z"
    }
   },
   "cell_type": "code",
   "source": [
    "d = dict(zip('abc', range(1, 4)))\n",
    "\n",
    "for v in d.values():\n",
    "    print(v)\n",
    "    del d['c']"
   ],
   "id": "ac0ab7e1df37d058",
   "outputs": [
    {
     "name": "stdout",
     "output_type": "stream",
     "text": [
      "1\n"
     ]
    },
    {
     "ename": "RuntimeError",
     "evalue": "dictionary changed size during iteration",
     "output_type": "error",
     "traceback": [
      "\u001B[0;31m---------------------------------------------------------------------------\u001B[0m",
      "\u001B[0;31mRuntimeError\u001B[0m                              Traceback (most recent call last)",
      "Cell \u001B[0;32mIn[22], line 3\u001B[0m\n\u001B[1;32m      1\u001B[0m d \u001B[38;5;241m=\u001B[39m \u001B[38;5;28mdict\u001B[39m(\u001B[38;5;28mzip\u001B[39m(\u001B[38;5;124m'\u001B[39m\u001B[38;5;124mabc\u001B[39m\u001B[38;5;124m'\u001B[39m, \u001B[38;5;28mrange\u001B[39m(\u001B[38;5;241m1\u001B[39m, \u001B[38;5;241m4\u001B[39m)))\n\u001B[0;32m----> 3\u001B[0m \u001B[38;5;28;01mfor\u001B[39;00m v \u001B[38;5;129;01min\u001B[39;00m d\u001B[38;5;241m.\u001B[39mvalues():\n\u001B[1;32m      4\u001B[0m     \u001B[38;5;28mprint\u001B[39m(v)\n\u001B[1;32m      5\u001B[0m     \u001B[38;5;28;01mdel\u001B[39;00m d[\u001B[38;5;124m'\u001B[39m\u001B[38;5;124mc\u001B[39m\u001B[38;5;124m'\u001B[39m]\n",
      "\u001B[0;31mRuntimeError\u001B[0m: dictionary changed size during iteration"
     ]
    }
   ],
   "execution_count": 22
  },
  {
   "metadata": {
    "ExecuteTime": {
     "end_time": "2024-09-30T16:01:55.638571Z",
     "start_time": "2024-09-30T16:01:55.636362Z"
    }
   },
   "cell_type": "code",
   "source": [
    "d = dict(zip('abc', range(1, 4)))\n",
    "\n",
    "for key in d.keys():\n",
    "    d[key] = 100"
   ],
   "id": "2b87fb81555ce712",
   "outputs": [],
   "execution_count": 24
  },
  {
   "metadata": {
    "ExecuteTime": {
     "end_time": "2024-09-30T16:01:56.971450Z",
     "start_time": "2024-09-30T16:01:56.967024Z"
    }
   },
   "cell_type": "code",
   "source": "d",
   "id": "c4b0091581e76684",
   "outputs": [
    {
     "data": {
      "text/plain": [
       "{'a': 100, 'b': 100, 'c': 100}"
      ]
     },
     "execution_count": 25,
     "metadata": {},
     "output_type": "execute_result"
    }
   ],
   "execution_count": 25
  },
  {
   "metadata": {
    "ExecuteTime": {
     "end_time": "2024-09-30T16:02:40.506105Z",
     "start_time": "2024-09-30T16:02:40.504121Z"
    }
   },
   "cell_type": "code",
   "source": "d = dict.fromkeys('python', 0)",
   "id": "f9e65903ec022c91",
   "outputs": [],
   "execution_count": 26
  },
  {
   "metadata": {
    "ExecuteTime": {
     "end_time": "2024-09-30T16:02:45.167180Z",
     "start_time": "2024-09-30T16:02:45.162653Z"
    }
   },
   "cell_type": "code",
   "source": "d",
   "id": "76f610389cea18ae",
   "outputs": [
    {
     "data": {
      "text/plain": [
       "{'p': 0, 'y': 0, 't': 0, 'h': 0, 'o': 0, 'n': 0}"
      ]
     },
     "execution_count": 27,
     "metadata": {},
     "output_type": "execute_result"
    }
   ],
   "execution_count": 27
  },
  {
   "metadata": {
    "ExecuteTime": {
     "end_time": "2024-09-30T16:02:55.441211Z",
     "start_time": "2024-09-30T16:02:55.437598Z"
    }
   },
   "cell_type": "code",
   "source": [
    "for k in d:\n",
    "    print(k)"
   ],
   "id": "4c1023e7396cd106",
   "outputs": [
    {
     "name": "stdout",
     "output_type": "stream",
     "text": [
      "p\n",
      "y\n",
      "t\n",
      "h\n",
      "o\n",
      "n\n"
     ]
    }
   ],
   "execution_count": 28
  },
  {
   "metadata": {
    "ExecuteTime": {
     "end_time": "2024-09-30T16:03:39.509645Z",
     "start_time": "2024-09-30T16:03:39.505942Z"
    }
   },
   "cell_type": "code",
   "source": [
    "d_iter = iter(d)\n",
    "for k in d_iter:\n",
    "    print(k)"
   ],
   "id": "d04ed72ceb157d44",
   "outputs": [
    {
     "name": "stdout",
     "output_type": "stream",
     "text": [
      "p\n",
      "y\n",
      "t\n",
      "h\n",
      "o\n",
      "n\n"
     ]
    }
   ],
   "execution_count": 29
  },
  {
   "metadata": {
    "ExecuteTime": {
     "end_time": "2024-09-30T16:08:58.042653Z",
     "start_time": "2024-09-30T16:08:58.039833Z"
    }
   },
   "cell_type": "code",
   "source": [
    "from timeit import timeit\n",
    "from random import randint"
   ],
   "id": "f1219327e14fc486",
   "outputs": [],
   "execution_count": 31
  },
  {
   "metadata": {
    "ExecuteTime": {
     "end_time": "2024-09-30T16:09:19.907107Z",
     "start_time": "2024-09-30T16:09:19.893856Z"
    }
   },
   "cell_type": "code",
   "source": "d = {k: randint(0, 100) for k in range(10_000)}",
   "id": "2a87d28ad74d6cf4",
   "outputs": [],
   "execution_count": 32
  },
  {
   "metadata": {
    "ExecuteTime": {
     "end_time": "2024-09-30T16:09:26.048446Z",
     "start_time": "2024-09-30T16:09:26.046029Z"
    }
   },
   "cell_type": "code",
   "source": "keys = d.keys()",
   "id": "7cbbef86068f018b",
   "outputs": [],
   "execution_count": 33
  },
  {
   "metadata": {
    "ExecuteTime": {
     "end_time": "2024-09-30T16:10:42.680621Z",
     "start_time": "2024-09-30T16:10:42.677965Z"
    }
   },
   "cell_type": "code",
   "source": [
    "def iter_direct(d):\n",
    "    for k in d:\n",
    "        pass\n",
    "    \n",
    "def iter_view(d):\n",
    "    for k in d.keys():\n",
    "        pass\n",
    "    \n",
    "def iter_view_direct(view):\n",
    "    for k in view:\n",
    "        pass"
   ],
   "id": "44c10065e7a80699",
   "outputs": [],
   "execution_count": 34
  },
  {
   "metadata": {
    "ExecuteTime": {
     "end_time": "2024-09-30T16:12:12.713231Z",
     "start_time": "2024-09-30T16:12:05.743901Z"
    }
   },
   "cell_type": "code",
   "source": [
    "print(timeit('iter_direct(d)', globals=globals(), number=20_000))\n",
    "print(timeit('iter_view(d)', globals=globals(), number=20_000))\n",
    "print(timeit('iter_view_direct(keys)', globals=globals(), number=20_000))"
   ],
   "id": "7bc210aa9a8b2dd2",
   "outputs": [
    {
     "name": "stdout",
     "output_type": "stream",
     "text": [
      "2.429853498004377\n",
      "2.2469504230102757\n",
      "2.2882245740038343\n"
     ]
    }
   ],
   "execution_count": 39
  },
  {
   "metadata": {
    "ExecuteTime": {
     "end_time": "2024-09-30T16:13:39.810160Z",
     "start_time": "2024-09-30T16:13:39.807734Z"
    }
   },
   "cell_type": "code",
   "source": "d = {'a': 1, 'b': 2, 'c': 3}",
   "id": "21119ed1a2b5fe5",
   "outputs": [],
   "execution_count": 40
  },
  {
   "metadata": {
    "ExecuteTime": {
     "end_time": "2024-09-30T16:13:58.526895Z",
     "start_time": "2024-09-30T16:13:58.524464Z"
    }
   },
   "cell_type": "code",
   "source": [
    "for k in d:\n",
    "    print(k, d[k])"
   ],
   "id": "a310868fef5aa003",
   "outputs": [
    {
     "name": "stdout",
     "output_type": "stream",
     "text": [
      "a 1\n",
      "b 2\n",
      "c 3\n"
     ]
    }
   ],
   "execution_count": 42
  },
  {
   "metadata": {
    "ExecuteTime": {
     "end_time": "2024-09-30T16:14:23.738415Z",
     "start_time": "2024-09-30T16:14:23.734467Z"
    }
   },
   "cell_type": "code",
   "source": [
    "for k, v in d.items():\n",
    "    print(d, k)"
   ],
   "id": "c70f471784cffdb8",
   "outputs": [
    {
     "name": "stdout",
     "output_type": "stream",
     "text": [
      "{'a': 1, 'b': 2, 'c': 3} a\n",
      "{'a': 1, 'b': 2, 'c': 3} b\n",
      "{'a': 1, 'b': 2, 'c': 3} c\n"
     ]
    }
   ],
   "execution_count": 43
  },
  {
   "metadata": {
    "ExecuteTime": {
     "end_time": "2024-09-30T16:15:07.987282Z",
     "start_time": "2024-09-30T16:15:07.975453Z"
    }
   },
   "cell_type": "code",
   "source": "d = {k: randint(0, 100) for k in range(10_000)}",
   "id": "3ade701fe5ba2998",
   "outputs": [],
   "execution_count": 44
  },
  {
   "metadata": {
    "ExecuteTime": {
     "end_time": "2024-09-30T16:15:15.554205Z",
     "start_time": "2024-09-30T16:15:15.551723Z"
    }
   },
   "cell_type": "code",
   "source": "items = d.items()",
   "id": "9948ce2e5277b65f",
   "outputs": [],
   "execution_count": 45
  },
  {
   "metadata": {
    "ExecuteTime": {
     "end_time": "2024-09-30T16:16:18.252458Z",
     "start_time": "2024-09-30T16:16:18.249515Z"
    }
   },
   "cell_type": "code",
   "source": [
    "def iterate_view(view):\n",
    "    for k, v in view:\n",
    "        pass\n",
    "    \n",
    "def iterate_clunky(d):\n",
    "    for k in d:\n",
    "        d[k]"
   ],
   "id": "596c6672f67b8a42",
   "outputs": [],
   "execution_count": 48
  },
  {
   "metadata": {
    "ExecuteTime": {
     "end_time": "2024-09-30T16:16:50.456104Z",
     "start_time": "2024-09-30T16:16:48.282221Z"
    }
   },
   "cell_type": "code",
   "source": [
    "print(timeit('iterate_view(items)', globals=globals(), number=5_000))\n",
    "print(timeit('iterate_clunky(d)', globals=globals(), number=5_000))"
   ],
   "id": "4601eee5212e136d",
   "outputs": [
    {
     "name": "stdout",
     "output_type": "stream",
     "text": [
      "0.9692420920036966\n",
      "1.2009043440048117\n"
     ]
    }
   ],
   "execution_count": 53
  },
  {
   "metadata": {
    "ExecuteTime": {
     "end_time": "2024-09-30T16:18:52.592105Z",
     "start_time": "2024-09-30T16:18:52.589519Z"
    }
   },
   "cell_type": "code",
   "source": "d = {'a': 1, 'b': 2, 'c': 3}",
   "id": "64f7ceefa0e02b06",
   "outputs": [],
   "execution_count": 54
  },
  {
   "metadata": {
    "ExecuteTime": {
     "end_time": "2024-09-30T16:19:17.566629Z",
     "start_time": "2024-09-30T16:19:17.554804Z"
    }
   },
   "cell_type": "code",
   "source": [
    "for k, v in d.items():\n",
    "    print(k, v**2)\n",
    "    del d[k]"
   ],
   "id": "52d72b2675523b1f",
   "outputs": [
    {
     "name": "stdout",
     "output_type": "stream",
     "text": [
      "a 1\n"
     ]
    },
    {
     "ename": "RuntimeError",
     "evalue": "dictionary changed size during iteration",
     "output_type": "error",
     "traceback": [
      "\u001B[0;31m---------------------------------------------------------------------------\u001B[0m",
      "\u001B[0;31mRuntimeError\u001B[0m                              Traceback (most recent call last)",
      "Cell \u001B[0;32mIn[55], line 1\u001B[0m\n\u001B[0;32m----> 1\u001B[0m \u001B[38;5;28;01mfor\u001B[39;00m k, v \u001B[38;5;129;01min\u001B[39;00m d\u001B[38;5;241m.\u001B[39mitems():\n\u001B[1;32m      2\u001B[0m     \u001B[38;5;28mprint\u001B[39m(k, v\u001B[38;5;241m*\u001B[39m\u001B[38;5;241m*\u001B[39m\u001B[38;5;241m2\u001B[39m)\n\u001B[1;32m      3\u001B[0m     \u001B[38;5;28;01mdel\u001B[39;00m d[k]\n",
      "\u001B[0;31mRuntimeError\u001B[0m: dictionary changed size during iteration"
     ]
    }
   ],
   "execution_count": 55
  },
  {
   "metadata": {
    "ExecuteTime": {
     "end_time": "2024-09-30T16:19:24.731198Z",
     "start_time": "2024-09-30T16:19:24.728057Z"
    }
   },
   "cell_type": "code",
   "source": "d = {'a': 1, 'b': 2, 'c': 3}",
   "id": "6b1e3950fbcd0b3d",
   "outputs": [],
   "execution_count": 56
  },
  {
   "metadata": {
    "ExecuteTime": {
     "end_time": "2024-09-30T16:19:35.877303Z",
     "start_time": "2024-09-30T16:19:35.874009Z"
    }
   },
   "cell_type": "code",
   "source": "keys = list(d.keys())",
   "id": "382e30cbeb065a76",
   "outputs": [],
   "execution_count": 57
  },
  {
   "metadata": {
    "ExecuteTime": {
     "end_time": "2024-09-30T16:19:40.653180Z",
     "start_time": "2024-09-30T16:19:40.650174Z"
    }
   },
   "cell_type": "code",
   "source": "print(keys)",
   "id": "9dc9f2d757e58930",
   "outputs": [
    {
     "name": "stdout",
     "output_type": "stream",
     "text": [
      "['a', 'b', 'c']\n"
     ]
    }
   ],
   "execution_count": 58
  },
  {
   "metadata": {
    "ExecuteTime": {
     "end_time": "2024-09-30T16:20:09.608856Z",
     "start_time": "2024-09-30T16:20:09.605270Z"
    }
   },
   "cell_type": "code",
   "source": [
    "for k in keys:\n",
    "    v = d[k]\n",
    "    print(k, v**2)\n",
    "    del d[k]"
   ],
   "id": "2a5d0d0e64aa6564",
   "outputs": [
    {
     "name": "stdout",
     "output_type": "stream",
     "text": [
      "a 1\n",
      "b 4\n",
      "c 9\n"
     ]
    }
   ],
   "execution_count": 59
  },
  {
   "metadata": {
    "ExecuteTime": {
     "end_time": "2024-09-30T16:20:13.932854Z",
     "start_time": "2024-09-30T16:20:13.928542Z"
    }
   },
   "cell_type": "code",
   "source": "d",
   "id": "43d5f9b3beac67ff",
   "outputs": [
    {
     "data": {
      "text/plain": [
       "{}"
      ]
     },
     "execution_count": 60,
     "metadata": {},
     "output_type": "execute_result"
    }
   ],
   "execution_count": 60
  },
  {
   "metadata": {
    "ExecuteTime": {
     "end_time": "2024-09-30T16:20:19.314589Z",
     "start_time": "2024-09-30T16:20:19.311448Z"
    }
   },
   "cell_type": "code",
   "source": "d = {'a': 1, 'b': 2, 'c': 3}",
   "id": "3a72b3f5a78a5837",
   "outputs": [],
   "execution_count": 61
  },
  {
   "metadata": {
    "ExecuteTime": {
     "end_time": "2024-09-30T16:20:50.144056Z",
     "start_time": "2024-09-30T16:20:50.140078Z"
    }
   },
   "cell_type": "code",
   "source": [
    "for k in list(d.keys()):\n",
    "    v = d.pop(k)\n",
    "    print(k, v**2)"
   ],
   "id": "68c1aba19dedc7be",
   "outputs": [
    {
     "name": "stdout",
     "output_type": "stream",
     "text": [
      "a 1\n",
      "b 4\n",
      "c 9\n"
     ]
    }
   ],
   "execution_count": 62
  },
  {
   "metadata": {
    "ExecuteTime": {
     "end_time": "2024-09-30T16:20:52.538292Z",
     "start_time": "2024-09-30T16:20:52.533889Z"
    }
   },
   "cell_type": "code",
   "source": "d",
   "id": "c03e3cfce1c6591c",
   "outputs": [
    {
     "data": {
      "text/plain": [
       "{}"
      ]
     },
     "execution_count": 63,
     "metadata": {},
     "output_type": "execute_result"
    }
   ],
   "execution_count": 63
  },
  {
   "metadata": {
    "ExecuteTime": {
     "end_time": "2024-09-30T16:22:24.552553Z",
     "start_time": "2024-09-30T16:22:24.549043Z"
    }
   },
   "cell_type": "code",
   "source": "d: dict = {'a': 1, 'b': 2, 'c': 3}",
   "id": "73763c6827921ca3",
   "outputs": [],
   "execution_count": 67
  },
  {
   "metadata": {
    "ExecuteTime": {
     "end_time": "2024-09-30T16:22:24.685303Z",
     "start_time": "2024-09-30T16:22:24.682520Z"
    }
   },
   "cell_type": "code",
   "source": [
    "for _ in range(len(d)):\n",
    "    key, value = d.popitem()\n",
    "    print(key, value ** 2)"
   ],
   "id": "57e1e6d75adf166d",
   "outputs": [
    {
     "name": "stdout",
     "output_type": "stream",
     "text": [
      "c 9\n",
      "b 4\n",
      "a 1\n"
     ]
    }
   ],
   "execution_count": 68
  },
  {
   "metadata": {
    "ExecuteTime": {
     "end_time": "2024-09-30T16:22:32.477512Z",
     "start_time": "2024-09-30T16:22:32.473451Z"
    }
   },
   "cell_type": "code",
   "source": "d",
   "id": "74e9ba7e2f04a7e2",
   "outputs": [
    {
     "data": {
      "text/plain": [
       "{}"
      ]
     },
     "execution_count": 69,
     "metadata": {},
     "output_type": "execute_result"
    }
   ],
   "execution_count": 69
  },
  {
   "metadata": {
    "ExecuteTime": {
     "end_time": "2024-09-30T16:22:45.022035Z",
     "start_time": "2024-09-30T16:22:45.018495Z"
    }
   },
   "cell_type": "code",
   "source": "d: dict = {'a': 1, 'b': 2, 'c': 3}",
   "id": "aa4eac15459d37f4",
   "outputs": [],
   "execution_count": 71
  },
  {
   "metadata": {
    "ExecuteTime": {
     "end_time": "2024-09-30T16:23:09.657185Z",
     "start_time": "2024-09-30T16:23:09.653110Z"
    }
   },
   "cell_type": "code",
   "source": [
    "while len(d) > 0:\n",
    "    key, value = d.popitem()\n",
    "    print(key, value ** 2)"
   ],
   "id": "4178288fee8076c1",
   "outputs": [
    {
     "name": "stdout",
     "output_type": "stream",
     "text": [
      "c 9\n",
      "b 4\n",
      "a 1\n"
     ]
    }
   ],
   "execution_count": 73
  },
  {
   "metadata": {
    "ExecuteTime": {
     "end_time": "2024-09-30T16:23:11.104055Z",
     "start_time": "2024-09-30T16:23:11.099735Z"
    }
   },
   "cell_type": "code",
   "source": "d",
   "id": "4d5cd7c3aba8004a",
   "outputs": [
    {
     "data": {
      "text/plain": [
       "{}"
      ]
     },
     "execution_count": 74,
     "metadata": {},
     "output_type": "execute_result"
    }
   ],
   "execution_count": 74
  },
  {
   "metadata": {
    "ExecuteTime": {
     "end_time": "2024-09-30T16:23:15.091222Z",
     "start_time": "2024-09-30T16:23:15.088599Z"
    }
   },
   "cell_type": "code",
   "source": "d: dict = {'a': 1, 'b': 2, 'c': 3}",
   "id": "8c3ca0740b00a480",
   "outputs": [],
   "execution_count": 75
  },
  {
   "metadata": {
    "ExecuteTime": {
     "end_time": "2024-09-30T16:24:08.856041Z",
     "start_time": "2024-09-30T16:24:08.852309Z"
    }
   },
   "cell_type": "code",
   "source": [
    "while True:\n",
    "    try: \n",
    "        key, value = d.popitem()\n",
    "    except KeyError:\n",
    "        break\n",
    "    else:\n",
    "        print(key, value ** 2)"
   ],
   "id": "e50a8929c79ea6ba",
   "outputs": [
    {
     "name": "stdout",
     "output_type": "stream",
     "text": [
      "c 9\n",
      "b 4\n",
      "a 1\n"
     ]
    }
   ],
   "execution_count": 76
  },
  {
   "metadata": {
    "ExecuteTime": {
     "end_time": "2024-09-30T16:24:10.283649Z",
     "start_time": "2024-09-30T16:24:10.279957Z"
    }
   },
   "cell_type": "code",
   "source": "d",
   "id": "50415a66d45d82d9",
   "outputs": [
    {
     "data": {
      "text/plain": [
       "{}"
      ]
     },
     "execution_count": 77,
     "metadata": {},
     "output_type": "execute_result"
    }
   ],
   "execution_count": 77
  },
  {
   "metadata": {
    "ExecuteTime": {
     "end_time": "2024-09-30T16:26:47.613748Z",
     "start_time": "2024-09-30T16:26:47.609972Z"
    }
   },
   "cell_type": "code",
   "source": "d: dict = {'a': 1, 'b': 2, 'c': 3}",
   "id": "57bb8b9f98cbbe00",
   "outputs": [],
   "execution_count": 92
  },
  {
   "metadata": {
    "ExecuteTime": {
     "end_time": "2024-09-30T16:26:47.778720Z",
     "start_time": "2024-09-30T16:26:47.776114Z"
    }
   },
   "cell_type": "code",
   "source": [
    "for k, v in d.items():\n",
    "    print(k, v)\n",
    "    del d[k]\n",
    "    d[k * 2] = v ** 2"
   ],
   "id": "6032a5deec3c9b58",
   "outputs": [
    {
     "name": "stdout",
     "output_type": "stream",
     "text": [
      "a 1\n",
      "b 2\n",
      "c 3\n"
     ]
    }
   ],
   "execution_count": 93
  },
  {
   "metadata": {
    "ExecuteTime": {
     "end_time": "2024-09-30T16:26:46.136203Z",
     "start_time": "2024-09-30T16:26:46.131260Z"
    }
   },
   "cell_type": "code",
   "source": "d",
   "id": "e60976420ca43ed2",
   "outputs": [
    {
     "data": {
      "text/plain": [
       "{'aa': 1, 'bb': 4, 'cccccccccccccccc': 43046721}"
      ]
     },
     "execution_count": 91,
     "metadata": {},
     "output_type": "execute_result"
    }
   ],
   "execution_count": 91
  },
  {
   "metadata": {},
   "cell_type": "code",
   "outputs": [],
   "execution_count": null,
   "source": "",
   "id": "ddfb9103a25f6b50"
  }
 ],
 "metadata": {
  "kernelspec": {
   "display_name": "Python 3",
   "language": "python",
   "name": "python3"
  },
  "language_info": {
   "codemirror_mode": {
    "name": "ipython",
    "version": 2
   },
   "file_extension": ".py",
   "mimetype": "text/x-python",
   "name": "python",
   "nbconvert_exporter": "python",
   "pygments_lexer": "ipython2",
   "version": "2.7.6"
  }
 },
 "nbformat": 4,
 "nbformat_minor": 5
}
