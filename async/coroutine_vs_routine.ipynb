{
 "cells": [
  {
   "metadata": {
    "ExecuteTime": {
     "end_time": "2024-11-14T10:34:31.266368Z",
     "start_time": "2024-11-14T10:34:31.262564Z"
    }
   },
   "cell_type": "code",
   "source": [
    "import asyncio as aio\n",
    "from contextlib import contextmanager"
   ],
   "id": "c07a79c551311c3e",
   "outputs": [],
   "execution_count": 47
  },
  {
   "cell_type": "code",
   "id": "initial_id",
   "metadata": {
    "collapsed": true,
    "ExecuteTime": {
     "end_time": "2024-11-14T08:54:40.912622Z",
     "start_time": "2024-11-14T08:54:40.908341Z"
    }
   },
   "source": [
    "def routine():\n",
    "    pass\n",
    "\n",
    "async def coroutine():\n",
    "    pass"
   ],
   "outputs": [],
   "execution_count": 8
  },
  {
   "metadata": {
    "ExecuteTime": {
     "end_time": "2024-11-14T08:54:41.533208Z",
     "start_time": "2024-11-14T08:54:41.526523Z"
    }
   },
   "cell_type": "code",
   "source": "type(routine), type(coroutine)",
   "id": "78bea00dc8391c3e",
   "outputs": [
    {
     "data": {
      "text/plain": [
       "(function, function)"
      ]
     },
     "execution_count": 9,
     "metadata": {},
     "output_type": "execute_result"
    }
   ],
   "execution_count": 9
  },
  {
   "metadata": {
    "ExecuteTime": {
     "end_time": "2024-11-14T09:02:41.535611Z",
     "start_time": "2024-11-14T09:02:41.531238Z"
    }
   },
   "cell_type": "code",
   "source": "type(routine())",
   "id": "8e109bdbc0b416a0",
   "outputs": [
    {
     "data": {
      "text/plain": [
       "NoneType"
      ]
     },
     "execution_count": 16,
     "metadata": {},
     "output_type": "execute_result"
    }
   ],
   "execution_count": 16
  },
  {
   "metadata": {
    "ExecuteTime": {
     "end_time": "2024-11-14T09:03:18.216127Z",
     "start_time": "2024-11-14T09:03:18.212892Z"
    }
   },
   "cell_type": "code",
   "source": "coro = coroutine()",
   "id": "32da570651ab2da8",
   "outputs": [],
   "execution_count": 20
  },
  {
   "metadata": {
    "ExecuteTime": {
     "end_time": "2024-11-14T09:04:04.924860Z",
     "start_time": "2024-11-14T09:04:04.920161Z"
    }
   },
   "cell_type": "code",
   "source": "type(coro)",
   "id": "4ed9b926c7de6dae",
   "outputs": [
    {
     "data": {
      "text/plain": [
       "coroutine"
      ]
     },
     "execution_count": 25,
     "metadata": {},
     "output_type": "execute_result"
    }
   ],
   "execution_count": 25
  },
  {
   "metadata": {
    "ExecuteTime": {
     "end_time": "2024-11-14T09:05:10.621419Z",
     "start_time": "2024-11-14T09:05:10.615152Z"
    }
   },
   "cell_type": "code",
   "source": "help(coro)",
   "id": "6efc45d7e406c5e2",
   "outputs": [
    {
     "name": "stdout",
     "output_type": "stream",
     "text": [
      "Help on coroutine object:\n",
      "\n",
      "class coroutine(object)\n",
      " |  Methods defined here:\n",
      " |\n",
      " |  __await__(self, /)\n",
      " |      Return an iterator to be used in await expression.\n",
      " |\n",
      " |  __del__(...)\n",
      " |\n",
      " |  __repr__(self, /)\n",
      " |      Return repr(self).\n",
      " |\n",
      " |  __sizeof__(...)\n",
      " |      gen.__sizeof__() -> size of gen in memory, in bytes\n",
      " |\n",
      " |  close(...)\n",
      " |      close() -> raise GeneratorExit inside coroutine.\n",
      " |\n",
      " |  send(...)\n",
      " |      send(arg) -> send 'arg' into coroutine,\n",
      " |      return next iterated value or raise StopIteration.\n",
      " |\n",
      " |  throw(...)\n",
      " |      throw(value)\n",
      " |      throw(type[,value[,traceback]])\n",
      " |\n",
      " |      Raise exception in coroutine, return next iterated value or raise\n",
      " |      StopIteration.\n",
      " |      the (type, val, tb) signature is deprecated,\n",
      " |      and may be removed in a future version of Python.\n",
      " |\n",
      " |  ----------------------------------------------------------------------\n",
      " |  Data descriptors defined here:\n",
      " |\n",
      " |  cr_await\n",
      " |      object being awaited on, or None\n",
      " |\n",
      " |  cr_code\n",
      " |\n",
      " |  cr_frame\n",
      " |\n",
      " |  cr_origin\n",
      " |\n",
      " |  cr_running\n",
      " |\n",
      " |  cr_suspended\n",
      "\n"
     ]
    }
   ],
   "execution_count": 27
  },
  {
   "metadata": {
    "ExecuteTime": {
     "end_time": "2024-11-14T10:39:32.474287Z",
     "start_time": "2024-11-14T10:39:32.470669Z"
    }
   },
   "cell_type": "code",
   "source": [
    "@contextmanager\n",
    "def open_close(string: str):\n",
    "    print('open')\n",
    "    yield string\n",
    "    print('close')"
   ],
   "id": "50c65367329f8e0b",
   "outputs": [],
   "execution_count": 55
  },
  {
   "metadata": {
    "ExecuteTime": {
     "end_time": "2024-11-14T10:39:37.648569Z",
     "start_time": "2024-11-14T10:39:37.644915Z"
    }
   },
   "cell_type": "code",
   "source": [
    "with open_close(\"luigi\") as name:\n",
    "    print(name)"
   ],
   "id": "8d25a2d9672f3a8a",
   "outputs": [
    {
     "name": "stdout",
     "output_type": "stream",
     "text": [
      "open\n",
      "luigi\n",
      "close\n"
     ]
    }
   ],
   "execution_count": 57
  },
  {
   "metadata": {
    "ExecuteTime": {
     "end_time": "2024-11-14T10:41:24.160472Z",
     "start_time": "2024-11-14T10:41:24.156963Z"
    }
   },
   "cell_type": "code",
   "source": [
    "def gen_open_close(string: str):\n",
    "    print('open')\n",
    "    yield string\n",
    "    print('close')"
   ],
   "id": "ba1e737b50a270ca",
   "outputs": [],
   "execution_count": 58
  },
  {
   "metadata": {
    "ExecuteTime": {
     "end_time": "2024-11-14T10:41:52.831219Z",
     "start_time": "2024-11-14T10:41:52.827828Z"
    }
   },
   "cell_type": "code",
   "source": "gen = gen_open_close('mario')",
   "id": "d762f4448515b965",
   "outputs": [],
   "execution_count": 60
  },
  {
   "metadata": {
    "ExecuteTime": {
     "end_time": "2024-11-14T10:41:58.788443Z",
     "start_time": "2024-11-14T10:41:58.784379Z"
    }
   },
   "cell_type": "code",
   "source": "next(gen)",
   "id": "2f55bd3d443898a6",
   "outputs": [
    {
     "name": "stdout",
     "output_type": "stream",
     "text": [
      "open\n"
     ]
    },
    {
     "data": {
      "text/plain": [
       "'mario'"
      ]
     },
     "execution_count": 61,
     "metadata": {},
     "output_type": "execute_result"
    }
   ],
   "execution_count": 61
  },
  {
   "metadata": {
    "ExecuteTime": {
     "end_time": "2024-11-14T10:42:02.289048Z",
     "start_time": "2024-11-14T10:42:02.276264Z"
    }
   },
   "cell_type": "code",
   "source": "next(gen)",
   "id": "a6ed135c4262b364",
   "outputs": [
    {
     "name": "stdout",
     "output_type": "stream",
     "text": [
      "close\n"
     ]
    },
    {
     "ename": "StopIteration",
     "evalue": "",
     "output_type": "error",
     "traceback": [
      "\u001B[0;31m---------------------------------------------------------------------------\u001B[0m",
      "\u001B[0;31mStopIteration\u001B[0m                             Traceback (most recent call last)",
      "Cell \u001B[0;32mIn[62], line 1\u001B[0m\n\u001B[0;32m----> 1\u001B[0m \u001B[38;5;28;43mnext\u001B[39;49m\u001B[43m(\u001B[49m\u001B[43mgen\u001B[49m\u001B[43m)\u001B[49m\n",
      "\u001B[0;31mStopIteration\u001B[0m: "
     ]
    }
   ],
   "execution_count": 62
  },
  {
   "metadata": {},
   "cell_type": "code",
   "outputs": [],
   "execution_count": null,
   "source": "",
   "id": "1015e6ea131c5da5"
  }
 ],
 "metadata": {
  "kernelspec": {
   "display_name": "Python 3",
   "language": "python",
   "name": "python3"
  },
  "language_info": {
   "codemirror_mode": {
    "name": "ipython",
    "version": 2
   },
   "file_extension": ".py",
   "mimetype": "text/x-python",
   "name": "python",
   "nbconvert_exporter": "python",
   "pygments_lexer": "ipython2",
   "version": "2.7.6"
  }
 },
 "nbformat": 4,
 "nbformat_minor": 5
}
