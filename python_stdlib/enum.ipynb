{
 "cells": [
  {
   "cell_type": "code",
   "id": "initial_id",
   "metadata": {
    "collapsed": true,
    "ExecuteTime": {
     "end_time": "2024-08-02T10:26:46.212195Z",
     "start_time": "2024-08-02T10:26:46.209141Z"
    }
   },
   "source": [
    "from enum import Enum\n",
    "from datetime import date"
   ],
   "outputs": [],
   "execution_count": 16
  },
  {
   "metadata": {
    "ExecuteTime": {
     "end_time": "2024-08-02T10:17:44.792258Z",
     "start_time": "2024-08-02T10:17:44.789245Z"
    }
   },
   "cell_type": "code",
   "source": [
    "class ColorC(Enum):\n",
    "    RED = 1\n",
    "    GREEN = 2\n",
    "    BLUE = 3"
   ],
   "id": "b6ece9924f849426",
   "outputs": [],
   "execution_count": 2
  },
  {
   "metadata": {
    "ExecuteTime": {
     "end_time": "2024-08-02T10:18:10.958055Z",
     "start_time": "2024-08-02T10:18:10.954508Z"
    }
   },
   "cell_type": "code",
   "source": "ColorF = Enum('Color', ['RED', 'GREEN', 'BLUE'])",
   "id": "714677464865910f",
   "outputs": [],
   "execution_count": 3
  },
  {
   "metadata": {
    "ExecuteTime": {
     "end_time": "2024-08-02T10:21:53.568924Z",
     "start_time": "2024-08-02T10:21:53.564550Z"
    }
   },
   "cell_type": "code",
   "source": "ColorF(3)",
   "id": "fa3a791fd0a1afcd",
   "outputs": [
    {
     "data": {
      "text/plain": [
       "<Color.BLUE: 3>"
      ]
     },
     "execution_count": 14,
     "metadata": {},
     "output_type": "execute_result"
    }
   ],
   "execution_count": 14
  },
  {
   "metadata": {
    "ExecuteTime": {
     "end_time": "2024-08-02T10:30:04.648216Z",
     "start_time": "2024-08-02T10:30:04.643970Z"
    }
   },
   "cell_type": "code",
   "source": [
    "class Weekday(Enum):\n",
    "    MONDAY = 1\n",
    "    TUESDAY = 2\n",
    "    WEDNESDAY = 3\n",
    "    THURSDAY = 4\n",
    "    FRIDAY = 5\n",
    "    SATURDAY = 6\n",
    "    SUNDAY = 7\n",
    "    \n",
    "    @classmethod\n",
    "    def from_date(cls, date_: date):\n",
    "        return cls(date_.isoweekday())"
   ],
   "id": "bb7bf24b9cfcb4bc",
   "outputs": [],
   "execution_count": 30
  },
  {
   "metadata": {
    "ExecuteTime": {
     "end_time": "2024-08-02T10:30:05.021844Z",
     "start_time": "2024-08-02T10:30:05.016520Z"
    }
   },
   "cell_type": "code",
   "source": "Weekday.from_date(date.today()).name",
   "id": "988e239c971f7714",
   "outputs": [
    {
     "data": {
      "text/plain": [
       "'FRIDAY'"
      ]
     },
     "execution_count": 31,
     "metadata": {},
     "output_type": "execute_result"
    }
   ],
   "execution_count": 31
  },
  {
   "metadata": {},
   "cell_type": "code",
   "outputs": [],
   "execution_count": null,
   "source": "",
   "id": "b96c5fb5300e5aba"
  }
 ],
 "metadata": {
  "kernelspec": {
   "display_name": "Python 3",
   "language": "python",
   "name": "python3"
  },
  "language_info": {
   "codemirror_mode": {
    "name": "ipython",
    "version": 2
   },
   "file_extension": ".py",
   "mimetype": "text/x-python",
   "name": "python",
   "nbconvert_exporter": "python",
   "pygments_lexer": "ipython2",
   "version": "2.7.6"
  }
 },
 "nbformat": 4,
 "nbformat_minor": 5
}
