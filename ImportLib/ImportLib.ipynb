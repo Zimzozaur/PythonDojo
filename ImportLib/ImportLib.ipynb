{
 "cells": [
  {
   "cell_type": "code",
   "id": "initial_id",
   "metadata": {
    "collapsed": true,
    "ExecuteTime": {
     "end_time": "2024-05-02T09:26:03.634940Z",
     "start_time": "2024-05-02T09:26:03.631577Z"
    }
   },
   "source": "import sys",
   "outputs": [],
   "execution_count": 24
  },
  {
   "metadata": {
    "ExecuteTime": {
     "end_time": "2024-05-02T09:26:03.910663Z",
     "start_time": "2024-05-02T09:26:03.907179Z"
    }
   },
   "cell_type": "code",
   "source": "mod_name = 'math'",
   "id": "6018f2299d83f663",
   "outputs": [],
   "execution_count": 25
  },
  {
   "metadata": {
    "ExecuteTime": {
     "end_time": "2024-05-02T09:26:04.222490Z",
     "start_time": "2024-05-02T09:26:04.200569Z"
    }
   },
   "cell_type": "code",
   "source": "import mod_name",
   "id": "afa563e2198f947c",
   "outputs": [
    {
     "ename": "ModuleNotFoundError",
     "evalue": "No module named 'mod_name'",
     "output_type": "error",
     "traceback": [
      "\u001B[0;31m---------------------------------------------------------------------------\u001B[0m",
      "\u001B[0;31mModuleNotFoundError\u001B[0m                       Traceback (most recent call last)",
      "Cell \u001B[0;32mIn[26], line 1\u001B[0m\n\u001B[0;32m----> 1\u001B[0m \u001B[38;5;28;01mimport\u001B[39;00m \u001B[38;5;21;01mmod_name\u001B[39;00m\n",
      "\u001B[0;31mModuleNotFoundError\u001B[0m: No module named 'mod_name'"
     ]
    }
   ],
   "execution_count": 26
  },
  {
   "metadata": {
    "ExecuteTime": {
     "end_time": "2024-05-02T09:26:06.074083Z",
     "start_time": "2024-05-02T09:26:06.068958Z"
    }
   },
   "cell_type": "code",
   "source": [
    "import importlib\n",
    "importlib"
   ],
   "id": "f8f971a31a715996",
   "outputs": [
    {
     "data": {
      "text/plain": [
       "<module 'importlib' from '/usr/lib64/python3.12/importlib/__init__.py'>"
      ]
     },
     "execution_count": 27,
     "metadata": {},
     "output_type": "execute_result"
    }
   ],
   "execution_count": 27
  },
  {
   "metadata": {
    "ExecuteTime": {
     "end_time": "2024-05-02T09:25:56.450877Z",
     "start_time": "2024-05-02T09:25:56.446032Z"
    }
   },
   "cell_type": "code",
   "source": "importlib.import_module(mod_name)",
   "id": "ba3b1501f27cfd9c",
   "outputs": [
    {
     "data": {
      "text/plain": [
       "<module 'math' from '/usr/lib64/python3.12/lib-dynload/math.cpython-312-x86_64-linux-gnu.so'>"
      ]
     },
     "execution_count": 23,
     "metadata": {},
     "output_type": "execute_result"
    }
   ],
   "execution_count": 23
  },
  {
   "metadata": {
    "ExecuteTime": {
     "end_time": "2024-05-02T09:26:10.474410Z",
     "start_time": "2024-05-02T09:26:10.469772Z"
    }
   },
   "cell_type": "code",
   "source": "'math' in sys.modules",
   "id": "f55185e88d81212f",
   "outputs": [
    {
     "data": {
      "text/plain": [
       "True"
      ]
     },
     "execution_count": 28,
     "metadata": {},
     "output_type": "execute_result"
    }
   ],
   "execution_count": 28
  },
  {
   "metadata": {
    "ExecuteTime": {
     "end_time": "2024-05-02T09:26:15.746254Z",
     "start_time": "2024-05-02T09:26:15.741599Z"
    }
   },
   "cell_type": "code",
   "source": "'math' in globals()",
   "id": "663516586f73a8a0",
   "outputs": [
    {
     "data": {
      "text/plain": [
       "False"
      ]
     },
     "execution_count": 29,
     "metadata": {},
     "output_type": "execute_result"
    }
   ],
   "execution_count": 29
  },
  {
   "metadata": {
    "ExecuteTime": {
     "end_time": "2024-05-02T09:26:18.544007Z",
     "start_time": "2024-05-02T09:26:18.540726Z"
    }
   },
   "cell_type": "code",
   "source": [
    "# import math as math2\n",
    "math2 = sys.modules['math']\n",
    "math2.sqrt(2)"
   ],
   "id": "521e14785e00eda2",
   "outputs": [],
   "execution_count": 30
  },
  {
   "metadata": {
    "ExecuteTime": {
     "end_time": "2024-05-02T09:25:26.036958Z",
     "start_time": "2024-05-02T09:25:26.008320Z"
    }
   },
   "cell_type": "code",
   "source": [
    "del math2\n",
    "math2.sqrt(2)"
   ],
   "id": "fa72e9fa4559a07d",
   "outputs": [
    {
     "ename": "NameError",
     "evalue": "name 'math2' is not defined",
     "output_type": "error",
     "traceback": [
      "\u001B[0;31m---------------------------------------------------------------------------\u001B[0m",
      "\u001B[0;31mNameError\u001B[0m                                 Traceback (most recent call last)",
      "Cell \u001B[0;32mIn[15], line 1\u001B[0m\n\u001B[0;32m----> 1\u001B[0m \u001B[38;5;28;01mdel\u001B[39;00m \u001B[43mmath2\u001B[49m\n\u001B[1;32m      2\u001B[0m math2\u001B[38;5;241m.\u001B[39msqrt(\u001B[38;5;241m2\u001B[39m)\n",
      "\u001B[0;31mNameError\u001B[0m: name 'math2' is not defined"
     ]
    }
   ],
   "execution_count": 15
  },
  {
   "metadata": {
    "ExecuteTime": {
     "end_time": "2024-05-02T09:26:41.887394Z",
     "start_time": "2024-05-02T09:26:41.882511Z"
    }
   },
   "cell_type": "code",
   "source": [
    "math2 = importlib.import_module(mod_name)\n",
    "math2.sqrt(2)"
   ],
   "id": "64c3e57376ebab54",
   "outputs": [
    {
     "data": {
      "text/plain": [
       "1.4142135623730951"
      ]
     },
     "execution_count": 31,
     "metadata": {},
     "output_type": "execute_result"
    }
   ],
   "execution_count": 31
  },
  {
   "metadata": {
    "ExecuteTime": {
     "end_time": "2024-05-02T09:27:17.004111Z",
     "start_time": "2024-05-02T09:27:16.999716Z"
    }
   },
   "cell_type": "code",
   "source": "'math2' in globals()",
   "id": "4cd885bfdd37404d",
   "outputs": [
    {
     "data": {
      "text/plain": [
       "True"
      ]
     },
     "execution_count": 32,
     "metadata": {},
     "output_type": "execute_result"
    }
   ],
   "execution_count": 32
  },
  {
   "metadata": {
    "ExecuteTime": {
     "end_time": "2024-05-02T09:27:46.849397Z",
     "start_time": "2024-05-02T09:27:46.845233Z"
    }
   },
   "cell_type": "code",
   "source": "id(math2) == id(sys.modules[mod_name])",
   "id": "71923d483c0ddf9f",
   "outputs": [
    {
     "data": {
      "text/plain": [
       "True"
      ]
     },
     "execution_count": 33,
     "metadata": {},
     "output_type": "execute_result"
    }
   ],
   "execution_count": 33
  },
  {
   "metadata": {
    "ExecuteTime": {
     "end_time": "2024-05-02T09:28:25.048931Z",
     "start_time": "2024-05-02T09:28:25.043691Z"
    }
   },
   "cell_type": "code",
   "source": "math2",
   "id": "96e4a0916a6949c6",
   "outputs": [
    {
     "data": {
      "text/plain": [
       "<module 'math' from '/usr/lib64/python3.12/lib-dynload/math.cpython-312-x86_64-linux-gnu.so'>"
      ]
     },
     "execution_count": 34,
     "metadata": {},
     "output_type": "execute_result"
    }
   ],
   "execution_count": 34
  },
  {
   "metadata": {
    "ExecuteTime": {
     "end_time": "2024-05-02T09:33:36.206230Z",
     "start_time": "2024-05-02T09:33:36.202992Z"
    }
   },
   "cell_type": "code",
   "source": "fractions = importlib.import_module('fractions')",
   "id": "b8f0a4fb02f4ac27",
   "outputs": [],
   "execution_count": 36
  },
  {
   "metadata": {
    "ExecuteTime": {
     "end_time": "2024-05-02T09:42:41.821837Z",
     "start_time": "2024-05-02T09:42:41.816535Z"
    }
   },
   "cell_type": "code",
   "source": "fractions.__spec__",
   "id": "662d200d0d61a5b1",
   "outputs": [
    {
     "data": {
      "text/plain": [
       "ModuleSpec(name='fractions', loader=<_frozen_importlib_external.SourceFileLoader object at 0x7f641cea6360>, origin='/usr/lib64/python3.12/fractions.py')"
      ]
     },
     "execution_count": 39,
     "metadata": {},
     "output_type": "execute_result"
    }
   ],
   "execution_count": 39
  },
  {
   "metadata": {
    "ExecuteTime": {
     "end_time": "2024-05-02T09:43:19.929834Z",
     "start_time": "2024-05-02T09:43:19.924766Z"
    }
   },
   "cell_type": "code",
   "source": [
    "import functools\n",
    "functools.__spec__"
   ],
   "id": "983689fd9bb4d64a",
   "outputs": [
    {
     "data": {
      "text/plain": [
       "ModuleSpec(name='functools', loader=<_frozen_importlib_external.SourceFileLoader object at 0x7f641e8351f0>, origin='/usr/lib64/python3.12/functools.py')"
      ]
     },
     "execution_count": 40,
     "metadata": {},
     "output_type": "execute_result"
    }
   ],
   "execution_count": 40
  },
  {
   "metadata": {
    "ExecuteTime": {
     "end_time": "2024-05-02T09:49:38.143071Z",
     "start_time": "2024-05-02T09:49:38.138857Z"
    }
   },
   "cell_type": "code",
   "source": [
    "import django\n",
    "django.__spec__"
   ],
   "id": "b5e7b085e3764c0f",
   "outputs": [
    {
     "data": {
      "text/plain": [
       "ModuleSpec(name='django', loader=<_frozen_importlib_external.SourceFileLoader object at 0x7f641bb21c70>, origin='/home/bmo/a-venv/FredLab/lib/python3.12/site-packages/django/__init__.py', submodule_search_locations=['/home/bmo/a-venv/FredLab/lib/python3.12/site-packages/django'])"
      ]
     },
     "execution_count": 41,
     "metadata": {},
     "output_type": "execute_result"
    }
   ],
   "execution_count": 41
  },
  {
   "metadata": {
    "ExecuteTime": {
     "end_time": "2024-05-02T09:50:27.599161Z",
     "start_time": "2024-05-02T09:50:27.593870Z"
    }
   },
   "cell_type": "code",
   "source": "sys.meta_path",
   "id": "bcefebc1cf6f3f03",
   "outputs": [
    {
     "data": {
      "text/plain": [
       "[<_virtualenv._Finder at 0x7f641e9fe930>,\n",
       " _frozen_importlib.BuiltinImporter,\n",
       " _frozen_importlib.FrozenImporter,\n",
       " _frozen_importlib_external.PathFinder,\n",
       " <six._SixMetaPathImporter at 0x7f641d22a3c0>]"
      ]
     },
     "execution_count": 42,
     "metadata": {},
     "output_type": "execute_result"
    }
   ],
   "execution_count": 42
  },
  {
   "metadata": {
    "ExecuteTime": {
     "end_time": "2024-05-02T09:57:08.991143Z",
     "start_time": "2024-05-02T09:57:08.986430Z"
    }
   },
   "cell_type": "code",
   "source": "importlib.util.find_spec('decimal')",
   "id": "145985d26997364c",
   "outputs": [
    {
     "data": {
      "text/plain": [
       "ModuleSpec(name='decimal', loader=<_frozen_importlib_external.SourceFileLoader object at 0x7f641d228920>, origin='/usr/lib64/python3.12/decimal.py')"
      ]
     },
     "execution_count": 43,
     "metadata": {},
     "output_type": "execute_result"
    }
   ],
   "execution_count": 43
  },
  {
   "metadata": {
    "ExecuteTime": {
     "end_time": "2024-05-02T10:06:53.589322Z",
     "start_time": "2024-05-02T10:06:53.585964Z"
    }
   },
   "cell_type": "code",
   "source": [
    "with open('ImportLib/module1.py', 'w') as code_file:\n",
    "    code_file.write('print(\"running module1.py\")\\n')\n",
    "    code_file.write('a = 100\\n')"
   ],
   "id": "dca51373c319a26d",
   "outputs": [],
   "execution_count": 52
  },
  {
   "metadata": {
    "ExecuteTime": {
     "end_time": "2024-05-02T10:09:11.070751Z",
     "start_time": "2024-05-02T10:09:11.049113Z"
    }
   },
   "cell_type": "code",
   "source": "importlib.util.find_spec('ImportLib/module1.py')",
   "id": "18f6d2e2a1c95d4d",
   "outputs": [
    {
     "ename": "ModuleNotFoundError",
     "evalue": "No module named 'ImportLib/module1'",
     "output_type": "error",
     "traceback": [
      "\u001B[0;31m---------------------------------------------------------------------------\u001B[0m",
      "\u001B[0;31mModuleNotFoundError\u001B[0m                       Traceback (most recent call last)",
      "Cell \u001B[0;32mIn[59], line 1\u001B[0m\n\u001B[0;32m----> 1\u001B[0m \u001B[43mimportlib\u001B[49m\u001B[38;5;241;43m.\u001B[39;49m\u001B[43mutil\u001B[49m\u001B[38;5;241;43m.\u001B[39;49m\u001B[43mfind_spec\u001B[49m\u001B[43m(\u001B[49m\u001B[38;5;124;43m'\u001B[39;49m\u001B[38;5;124;43mImportLib/module1.py\u001B[39;49m\u001B[38;5;124;43m'\u001B[39;49m\u001B[43m)\u001B[49m\n",
      "File \u001B[0;32m<frozen importlib.util>:91\u001B[0m, in \u001B[0;36mfind_spec\u001B[0;34m(name, package)\u001B[0m\n",
      "\u001B[0;31mModuleNotFoundError\u001B[0m: No module named 'ImportLib/module1'"
     ]
    }
   ],
   "execution_count": 59
  },
  {
   "metadata": {
    "ExecuteTime": {
     "end_time": "2024-05-02T10:09:12.042572Z",
     "start_time": "2024-05-02T10:09:12.022465Z"
    }
   },
   "cell_type": "code",
   "source": "import module1",
   "id": "c0a76b80642228ce",
   "outputs": [
    {
     "ename": "ModuleNotFoundError",
     "evalue": "No module named 'module1'",
     "output_type": "error",
     "traceback": [
      "\u001B[0;31m---------------------------------------------------------------------------\u001B[0m",
      "\u001B[0;31mModuleNotFoundError\u001B[0m                       Traceback (most recent call last)",
      "Cell \u001B[0;32mIn[60], line 1\u001B[0m\n\u001B[0;32m----> 1\u001B[0m \u001B[38;5;28;01mimport\u001B[39;00m \u001B[38;5;21;01mmodule1\u001B[39;00m\n",
      "\u001B[0;31mModuleNotFoundError\u001B[0m: No module named 'module1'"
     ]
    }
   ],
   "execution_count": 60
  },
  {
   "metadata": {},
   "cell_type": "code",
   "outputs": [],
   "execution_count": null,
   "source": "Iampro2807",
   "id": "f90e8d8a1f0d0e27"
  }
 ],
 "metadata": {
  "kernelspec": {
   "display_name": "Python 3",
   "language": "python",
   "name": "python3"
  },
  "language_info": {
   "codemirror_mode": {
    "name": "ipython",
    "version": 2
   },
   "file_extension": ".py",
   "mimetype": "text/x-python",
   "name": "python",
   "nbconvert_exporter": "python",
   "pygments_lexer": "ipython2",
   "version": "2.7.6"
  }
 },
 "nbformat": 4,
 "nbformat_minor": 5
}
