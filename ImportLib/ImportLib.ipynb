{
 "cells": [
  {
   "cell_type": "code",
   "id": "initial_id",
   "metadata": {
    "collapsed": true,
    "ExecuteTime": {
     "end_time": "2024-05-02T09:26:03.634940Z",
     "start_time": "2024-05-02T09:26:03.631577Z"
    }
   },
   "source": "import sys",
   "execution_count": 24,
   "outputs": []
  },
  {
   "metadata": {
    "ExecuteTime": {
     "end_time": "2024-05-02T09:26:03.910663Z",
     "start_time": "2024-05-02T09:26:03.907179Z"
    }
   },
   "cell_type": "code",
   "source": "mod_name = 'math'",
   "id": "6018f2299d83f663",
   "execution_count": 25,
   "outputs": []
  },
  {
   "metadata": {
    "ExecuteTime": {
     "end_time": "2024-05-02T09:26:04.222490Z",
     "start_time": "2024-05-02T09:26:04.200569Z"
    }
   },
   "cell_type": "code",
   "source": "import mod_name",
   "id": "afa563e2198f947c",
   "execution_count": 26,
   "outputs": []
  },
  {
   "metadata": {
    "ExecuteTime": {
     "end_time": "2024-05-02T09:26:06.074083Z",
     "start_time": "2024-05-02T09:26:06.068958Z"
    }
   },
   "cell_type": "code",
   "source": [
    "import importlib\n",
    "importlib"
   ],
   "id": "f8f971a31a715996",
   "execution_count": 27,
   "outputs": []
  },
  {
   "metadata": {
    "ExecuteTime": {
     "end_time": "2024-05-02T09:25:56.450877Z",
     "start_time": "2024-05-02T09:25:56.446032Z"
    }
   },
   "cell_type": "code",
   "source": "importlib.import_module(mod_name)",
   "id": "ba3b1501f27cfd9c",
   "execution_count": 23,
   "outputs": []
  },
  {
   "metadata": {
    "ExecuteTime": {
     "end_time": "2024-05-02T09:26:10.474410Z",
     "start_time": "2024-05-02T09:26:10.469772Z"
    }
   },
   "cell_type": "code",
   "source": "'math' in sys.modules",
   "id": "f55185e88d81212f",
   "execution_count": 28,
   "outputs": []
  },
  {
   "metadata": {
    "ExecuteTime": {
     "end_time": "2024-05-02T09:26:15.746254Z",
     "start_time": "2024-05-02T09:26:15.741599Z"
    }
   },
   "cell_type": "code",
   "source": "'math' in globals()",
   "id": "663516586f73a8a0",
   "execution_count": 29,
   "outputs": []
  },
  {
   "metadata": {
    "ExecuteTime": {
     "end_time": "2024-05-02T09:26:18.544007Z",
     "start_time": "2024-05-02T09:26:18.540726Z"
    }
   },
   "cell_type": "code",
   "source": [
    "# import math as math2\n",
    "math2 = sys.modules['math']\n",
    "math2.sqrt(2)"
   ],
   "id": "521e14785e00eda2",
   "execution_count": 30,
   "outputs": []
  },
  {
   "metadata": {
    "ExecuteTime": {
     "end_time": "2024-05-02T09:25:26.036958Z",
     "start_time": "2024-05-02T09:25:26.008320Z"
    }
   },
   "cell_type": "code",
   "source": [
    "del math2\n",
    "math2.sqrt(2)"
   ],
   "id": "fa72e9fa4559a07d",
   "execution_count": 15,
   "outputs": []
  },
  {
   "metadata": {
    "ExecuteTime": {
     "end_time": "2024-05-02T09:26:41.887394Z",
     "start_time": "2024-05-02T09:26:41.882511Z"
    }
   },
   "cell_type": "code",
   "source": [
    "math2 = importlib.import_module(mod_name)\n",
    "math2.sqrt(2)"
   ],
   "id": "64c3e57376ebab54",
   "execution_count": 31,
   "outputs": []
  },
  {
   "metadata": {
    "ExecuteTime": {
     "end_time": "2024-05-02T09:27:17.004111Z",
     "start_time": "2024-05-02T09:27:16.999716Z"
    }
   },
   "cell_type": "code",
   "source": "'math2' in globals()",
   "id": "4cd885bfdd37404d",
   "execution_count": 32,
   "outputs": []
  },
  {
   "metadata": {
    "ExecuteTime": {
     "end_time": "2024-05-02T09:27:46.849397Z",
     "start_time": "2024-05-02T09:27:46.845233Z"
    }
   },
   "cell_type": "code",
   "source": "id(math2) == id(sys.modules[mod_name])",
   "id": "71923d483c0ddf9f",
   "execution_count": 33,
   "outputs": []
  },
  {
   "metadata": {
    "ExecuteTime": {
     "end_time": "2024-05-02T09:28:25.048931Z",
     "start_time": "2024-05-02T09:28:25.043691Z"
    }
   },
   "cell_type": "code",
   "source": "math2",
   "id": "96e4a0916a6949c6",
   "execution_count": 34,
   "outputs": []
  },
  {
   "metadata": {
    "ExecuteTime": {
     "end_time": "2024-05-02T09:33:36.206230Z",
     "start_time": "2024-05-02T09:33:36.202992Z"
    }
   },
   "cell_type": "code",
   "source": "fractions = importlib.import_module('fractions')",
   "id": "b8f0a4fb02f4ac27",
   "execution_count": 36,
   "outputs": []
  },
  {
   "metadata": {
    "ExecuteTime": {
     "end_time": "2024-05-02T09:42:41.821837Z",
     "start_time": "2024-05-02T09:42:41.816535Z"
    }
   },
   "cell_type": "code",
   "source": "fractions.__spec__",
   "id": "662d200d0d61a5b1",
   "execution_count": 39,
   "outputs": []
  },
  {
   "metadata": {
    "ExecuteTime": {
     "end_time": "2024-05-02T09:43:19.929834Z",
     "start_time": "2024-05-02T09:43:19.924766Z"
    }
   },
   "cell_type": "code",
   "source": [
    "import functools\n",
    "functools.__spec__"
   ],
   "id": "983689fd9bb4d64a",
   "execution_count": 40,
   "outputs": []
  },
  {
   "metadata": {
    "ExecuteTime": {
     "end_time": "2024-05-02T09:49:38.143071Z",
     "start_time": "2024-05-02T09:49:38.138857Z"
    }
   },
   "cell_type": "code",
   "source": [
    "import django\n",
    "django.__spec__"
   ],
   "id": "b5e7b085e3764c0f",
   "execution_count": 41,
   "outputs": []
  },
  {
   "metadata": {
    "ExecuteTime": {
     "end_time": "2024-05-02T09:50:27.599161Z",
     "start_time": "2024-05-02T09:50:27.593870Z"
    }
   },
   "cell_type": "code",
   "source": "sys.meta_path",
   "id": "bcefebc1cf6f3f03",
   "execution_count": 42,
   "outputs": []
  },
  {
   "metadata": {
    "ExecuteTime": {
     "end_time": "2024-05-02T09:57:08.991143Z",
     "start_time": "2024-05-02T09:57:08.986430Z"
    }
   },
   "cell_type": "code",
   "source": "importlib.util.find_spec('decimal')",
   "id": "145985d26997364c",
   "execution_count": 43,
   "outputs": []
  },
  {
   "metadata": {
    "ExecuteTime": {
     "end_time": "2024-05-02T10:06:53.589322Z",
     "start_time": "2024-05-02T10:06:53.585964Z"
    }
   },
   "cell_type": "code",
   "source": [
    "with open('ImportLib/module1.py', 'w') as code_file:\n",
    "    code_file.write('print(\"running module1.py\")\\n')\n",
    "    code_file.write('a = 100\\n')"
   ],
   "id": "dca51373c319a26d",
   "execution_count": 52,
   "outputs": []
  },
  {
   "metadata": {
    "ExecuteTime": {
     "end_time": "2024-05-02T10:09:11.070751Z",
     "start_time": "2024-05-02T10:09:11.049113Z"
    }
   },
   "cell_type": "code",
   "source": "importlib.util.find_spec('ImportLib/module1.py')",
   "id": "18f6d2e2a1c95d4d",
   "execution_count": 59,
   "outputs": []
  },
  {
   "metadata": {
    "ExecuteTime": {
     "end_time": "2024-05-02T10:09:12.042572Z",
     "start_time": "2024-05-02T10:09:12.022465Z"
    }
   },
   "cell_type": "code",
   "source": "import module1",
   "id": "c0a76b80642228ce",
   "execution_count": 60,
   "outputs": []
  },
  {
   "metadata": {},
   "cell_type": "code",
   "execution_count": null,
   "source": "Iampro2807",
   "id": "f90e8d8a1f0d0e27",
   "outputs": []
  }
 ],
 "metadata": {
  "kernelspec": {
   "display_name": "Python 3",
   "language": "python",
   "name": "python3"
  },
  "language_info": {
   "codemirror_mode": {
    "name": "ipython",
    "version": 2
   },
   "file_extension": ".py",
   "mimetype": "text/x-python",
   "name": "python",
   "nbconvert_exporter": "python",
   "pygments_lexer": "ipython2",
   "version": "2.7.6"
  }
 },
 "nbformat": 4,
 "nbformat_minor": 5
}
