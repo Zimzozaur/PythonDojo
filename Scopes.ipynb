{
 "cells": [
  {
   "cell_type": "code",
   "execution_count": null,
   "id": "initial_id",
   "metadata": {
    "collapsed": true
   },
   "outputs": [],
   "source": [
    "def outer_func():\n",
    "    x = 'hello'\n",
    "    def inner_func():\n",
    "        print(x)\n",
    "    inner_func()"
   ]
  },
  {
   "cell_type": "code",
   "outputs": [],
   "source": [
    "outer_func()"
   ],
   "metadata": {
    "collapsed": false
   },
   "id": "6fd29b9d41a4b40f",
   "execution_count": null
  },
  {
   "cell_type": "code",
   "outputs": [],
   "source": [
    "def outer_func():\n",
    "    x = 'hello'\n",
    "    def inner1():\n",
    "        def inner2():\n",
    "            print(x)\n",
    "        inner2()\n",
    "    inner1()\n",
    "    "
   ],
   "metadata": {
    "collapsed": false
   },
   "id": "e5b63dcae69e25e2",
   "execution_count": null
  },
  {
   "cell_type": "code",
   "outputs": [],
   "source": [
    "outer_func()"
   ],
   "metadata": {
    "collapsed": false
   },
   "id": "5a5ef443e1906b0b",
   "execution_count": null
  },
  {
   "cell_type": "code",
   "outputs": [],
   "source": [
    "def outer_func():\n",
    "    x = 'hello'\n",
    "    def inner():\n",
    "        x = 'python'\n",
    "        print('inner:', x)\n",
    "    inner()\n",
    "    print('outer:', x)"
   ],
   "metadata": {
    "collapsed": false
   },
   "id": "d01c3bcf6ab3758d",
   "execution_count": null
  },
  {
   "cell_type": "code",
   "outputs": [],
   "source": [
    "outer_func()"
   ],
   "metadata": {
    "collapsed": false
   },
   "id": "783a68d7de56bfce",
   "execution_count": null
  },
  {
   "cell_type": "code",
   "outputs": [],
   "source": [
    "def outer_func():\n",
    "    x = 'hello'\n",
    "    def inner():\n",
    "        x = 'python'\n",
    "        print('inner:', hex(id(x)))\n",
    "    inner()\n",
    "    print('outer:', hex(id(x)))"
   ],
   "metadata": {
    "collapsed": false
   },
   "id": "d8762172fadfb36f",
   "execution_count": null
  },
  {
   "cell_type": "code",
   "outputs": [],
   "source": [
    "outer_func()"
   ],
   "metadata": {
    "collapsed": false
   },
   "id": "ef10ad00d3a49129",
   "execution_count": null
  },
  {
   "cell_type": "code",
   "outputs": [],
   "source": [
    "def outer_func():\n",
    "    x = 'hello'\n",
    "    def inner():\n",
    "        nonlocal x\n",
    "        x = 'python'\n",
    "        print('inner:', x)\n",
    "    inner()\n",
    "    print('outer:', x)"
   ],
   "metadata": {
    "collapsed": false
   },
   "id": "42616d21714991d1",
   "execution_count": null
  },
  {
   "cell_type": "code",
   "outputs": [],
   "source": [
    "outer_func()"
   ],
   "metadata": {
    "collapsed": false
   },
   "id": "3bc72b2d639ab356",
   "execution_count": null
  },
  {
   "cell_type": "code",
   "outputs": [],
   "source": [
    "def outer_func():\n",
    "    x = 'hello'\n",
    "    print('before:', hex(id(x)))\n",
    "    def inner():\n",
    "        nonlocal x\n",
    "        x = 'python'\n",
    "        print('inner:', hex(id(x)))\n",
    "    inner()\n",
    "    print('outer:', hex(id(x)))"
   ],
   "metadata": {
    "collapsed": false
   },
   "id": "3a2e8ceba0419028",
   "execution_count": null
  },
  {
   "cell_type": "code",
   "outputs": [],
   "source": [
    "outer_func()"
   ],
   "metadata": {
    "collapsed": false
   },
   "id": "775dc457228aa8fe",
   "execution_count": null
  },
  {
   "cell_type": "code",
   "outputs": [],
   "source": [
    "def outer_func():\n",
    "    x = 'hello'\n",
    "    def inner():\n",
    "        global x\n",
    "        x = 'python'\n",
    "        print('inner:', hex(id(x)))\n",
    "    inner()\n",
    "    print('outer:', hex(id(x)))"
   ],
   "metadata": {
    "collapsed": false
   },
   "id": "f50661f5e767705c",
   "execution_count": null
  },
  {
   "cell_type": "code",
   "outputs": [],
   "source": [
    "outer_func()\n",
    "print('global:', hex(id(x)))"
   ],
   "metadata": {
    "collapsed": false
   },
   "id": "d999cd43348007d1",
   "execution_count": null
  },
  {
   "cell_type": "code",
   "outputs": [],
   "source": [
    "def outer_func():\n",
    "    x = 'hello'\n",
    "    def inner():\n",
    "        global x\n",
    "        x = 'python'\n",
    "        print('inner:', x)\n",
    "    inner()\n",
    "    print('outer:', x)"
   ],
   "metadata": {
    "collapsed": false
   },
   "id": "8aadd0efe02af006",
   "execution_count": null
  },
  {
   "cell_type": "code",
   "outputs": [],
   "source": [
    "outer_func()\n",
    "print('global:', x)"
   ],
   "metadata": {
    "collapsed": false
   },
   "id": "8d297a72875de226",
   "execution_count": null
  },
  {
   "cell_type": "code",
   "outputs": [],
   "source": [
    "def outer_func():\n",
    "    x = 'hello'\n",
    "    def inner():\n",
    "        nonlocal x\n",
    "        x = 'python'\n",
    "        print('inner', x)\n",
    "    print('outer(before):', x)\n",
    "    inner()\n",
    "    print('outer(after):', x)"
   ],
   "metadata": {
    "collapsed": false
   },
   "id": "49696696035307d9",
   "execution_count": null
  },
  {
   "cell_type": "code",
   "outputs": [],
   "source": [
    "outer_func()"
   ],
   "metadata": {
    "collapsed": false
   },
   "id": "a9777b48f8d402d9",
   "execution_count": null
  },
  {
   "cell_type": "code",
   "outputs": [],
   "source": [
    "def outer_func():\n",
    "    x = 'hello'\n",
    "    def inner():\n",
    "        nonlocal x\n",
    "        x = 'python'\n",
    "        print('inner', hex(id(x)))\n",
    "    print('outer(before):', hex(id(x)))\n",
    "    inner()\n",
    "    print('outer(after):', hex(id(x)))"
   ],
   "metadata": {
    "collapsed": false
   },
   "id": "8c17e447f7c15217",
   "execution_count": null
  },
  {
   "cell_type": "code",
   "outputs": [],
   "source": [
    "outer_func()"
   ],
   "metadata": {
    "collapsed": false
   },
   "id": "60bfcee1796bb446",
   "execution_count": null
  },
  {
   "cell_type": "code",
   "outputs": [],
   "source": [
    "def outer():\n",
    "    x = 'hello'\n",
    "    def inner1():\n",
    "        def inner2():\n",
    "            nonlocal x\n",
    "            x = 'python'\n",
    "        inner2()\n",
    "    inner1()\n",
    "    print(x)"
   ],
   "metadata": {
    "collapsed": false,
    "ExecuteTime": {
     "end_time": "2024-03-07T07:40:32.287045Z",
     "start_time": "2024-03-07T07:40:32.283254Z"
    }
   },
   "id": "f8833d996a8cded8",
   "execution_count": 36
  },
  {
   "cell_type": "code",
   "outputs": [
    {
     "name": "stdout",
     "output_type": "stream",
     "text": [
      "python\n"
     ]
    }
   ],
   "source": [
    "outer()"
   ],
   "metadata": {
    "collapsed": false,
    "ExecuteTime": {
     "end_time": "2024-03-07T07:40:43.302002Z",
     "start_time": "2024-03-07T07:40:43.298053Z"
    }
   },
   "id": "6b485abe91897883",
   "execution_count": 38
  },
  {
   "cell_type": "code",
   "outputs": [],
   "source": [
    "def outer():\n",
    "    x = 'hello'\n",
    "    def inner1():\n",
    "        def inner2():\n",
    "            def inner3():\n",
    "                def inner4():\n",
    "                    def inner5():\n",
    "                        nonlocal x\n",
    "                        x = 'Python'\n",
    "                    inner5()\n",
    "                inner4()\n",
    "            inner3()\n",
    "        inner2()\n",
    "    inner1()\n",
    "    print(x)"
   ],
   "metadata": {
    "collapsed": false,
    "ExecuteTime": {
     "end_time": "2024-03-07T07:41:59.297041Z",
     "start_time": "2024-03-07T07:41:59.292025Z"
    }
   },
   "id": "c18cdf191cff2760",
   "execution_count": 39
  },
  {
   "cell_type": "code",
   "outputs": [
    {
     "name": "stdout",
     "output_type": "stream",
     "text": [
      "Python\n"
     ]
    }
   ],
   "source": [
    "outer()"
   ],
   "metadata": {
    "collapsed": false,
    "ExecuteTime": {
     "end_time": "2024-03-07T07:42:01.217705Z",
     "start_time": "2024-03-07T07:42:01.213774Z"
    }
   },
   "id": "1d1c7b4e952c0bf3",
   "execution_count": 40
  },
  {
   "cell_type": "code",
   "outputs": [],
   "source": [
    "def outer():\n",
    "    x = 'hello'\n",
    "    def inner1():\n",
    "        nonlocal x\n",
    "        x = 'python'\n",
    "        def inner2():\n",
    "            nonlocal x\n",
    "            x = 'monty'\n",
    "        inner2()\n",
    "    inner1()\n",
    "    print(x)"
   ],
   "metadata": {
    "collapsed": false,
    "ExecuteTime": {
     "end_time": "2024-03-07T07:42:59.342024Z",
     "start_time": "2024-03-07T07:42:59.338450Z"
    }
   },
   "id": "ac7fb251ac86b2d5",
   "execution_count": 41
  },
  {
   "cell_type": "code",
   "outputs": [
    {
     "name": "stdout",
     "output_type": "stream",
     "text": [
      "monty\n"
     ]
    }
   ],
   "source": [
    "outer()"
   ],
   "metadata": {
    "collapsed": false,
    "ExecuteTime": {
     "end_time": "2024-03-07T07:43:06.849228Z",
     "start_time": "2024-03-07T07:43:06.845930Z"
    }
   },
   "id": "91ab49de142fe411",
   "execution_count": 42
  },
  {
   "cell_type": "code",
   "outputs": [],
   "source": [
    "x = 'python'\n",
    "def outer():\n",
    "    # global x\n",
    "    x = 'monty'\n",
    "    def inner():\n",
    "        nonlocal x\n",
    "        x = 'hello'\n",
    "    inner()\n",
    "    print(x)"
   ],
   "metadata": {
    "collapsed": false,
    "ExecuteTime": {
     "end_time": "2024-03-07T07:48:20.653136Z",
     "start_time": "2024-03-07T07:48:20.648311Z"
    }
   },
   "id": "774249e797562495",
   "execution_count": 46
  },
  {
   "cell_type": "code",
   "outputs": [
    {
     "name": "stdout",
     "output_type": "stream",
     "text": [
      "hello\n",
      "python\n"
     ]
    }
   ],
   "source": [
    "outer()\n",
    "print(x)"
   ],
   "metadata": {
    "collapsed": false,
    "ExecuteTime": {
     "end_time": "2024-03-07T07:48:45.237359Z",
     "start_time": "2024-03-07T07:48:45.233445Z"
    }
   },
   "id": "f9135ad9c744c245",
   "execution_count": 48
  },
  {
   "cell_type": "code",
   "outputs": [],
   "source": [
    "x = 'python'\n",
    "def outer():\n",
    "    # global x\n",
    "    x = 'monty'\n",
    "    def inner():\n",
    "        global x\n",
    "        x = 'hello'\n",
    "    inner()\n",
    "    print(x)"
   ],
   "metadata": {
    "collapsed": false,
    "ExecuteTime": {
     "end_time": "2024-03-07T07:49:03.675402Z",
     "start_time": "2024-03-07T07:49:03.670661Z"
    }
   },
   "id": "e818a17c7d873637",
   "execution_count": 50
  },
  {
   "cell_type": "code",
   "outputs": [
    {
     "name": "stdout",
     "output_type": "stream",
     "text": [
      "monty\n",
      "hello\n"
     ]
    }
   ],
   "source": [
    "outer()\n",
    "print(x)"
   ],
   "metadata": {
    "collapsed": false,
    "ExecuteTime": {
     "end_time": "2024-03-07T07:49:04.076422Z",
     "start_time": "2024-03-07T07:49:04.072445Z"
    }
   },
   "id": "51dc3f269f620e42",
   "execution_count": 51
  },
  {
   "cell_type": "code",
   "outputs": [],
   "source": [],
   "metadata": {
    "collapsed": false
   },
   "id": "aa88e4d387bca43c"
  }
 ],
 "metadata": {
  "kernelspec": {
   "display_name": "Python 3",
   "language": "python",
   "name": "python3"
  },
  "language_info": {
   "codemirror_mode": {
    "name": "ipython",
    "version": 2
   },
   "file_extension": ".py",
   "mimetype": "text/x-python",
   "name": "python",
   "nbconvert_exporter": "python",
   "pygments_lexer": "ipython2",
   "version": "2.7.6"
  }
 },
 "nbformat": 4,
 "nbformat_minor": 5
}
