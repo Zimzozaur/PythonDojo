{
 "cells": [
  {
   "cell_type": "code",
   "id": "initial_id",
   "metadata": {
    "collapsed": true,
    "ExecuteTime": {
     "end_time": "2024-09-28T16:54:29.034746Z",
     "start_time": "2024-09-28T16:54:29.031213Z"
    }
   },
   "source": "composers = {'Johann': 65, 'Ludwig': 56, 'Frederic': 39, 'Wolfgang': 35}",
   "outputs": [],
   "execution_count": 20
  },
  {
   "metadata": {
    "ExecuteTime": {
     "end_time": "2024-09-28T16:54:29.238828Z",
     "start_time": "2024-09-28T16:54:29.236228Z"
    }
   },
   "cell_type": "code",
   "source": [
    "sorted_composers = {'Wolfgang': 35,\n",
    "                    'Frederic': 39, \n",
    "                    'Ludwig': 56,\n",
    "                    'Johann': 65}"
   ],
   "id": "3aea0010908e712a",
   "outputs": [],
   "execution_count": 21
  },
  {
   "metadata": {
    "ExecuteTime": {
     "end_time": "2024-09-28T16:54:29.506741Z",
     "start_time": "2024-09-28T16:54:29.502347Z"
    }
   },
   "cell_type": "code",
   "source": [
    "def sort_dict(d: dict) -> dict:\n",
    "    return dict(sorted(d.items(), key=lambda tup: tup[1])) "
   ],
   "id": "fc8cfeccb4f29d68",
   "outputs": [],
   "execution_count": 22
  },
  {
   "metadata": {
    "ExecuteTime": {
     "end_time": "2024-09-28T16:54:29.861620Z",
     "start_time": "2024-09-28T16:54:29.858130Z"
    }
   },
   "cell_type": "code",
   "source": "assert sort_dict(composers) == sorted_composers",
   "id": "d028f46d18de562",
   "outputs": [],
   "execution_count": 23
  },
  {
   "metadata": {},
   "cell_type": "code",
   "outputs": [],
   "execution_count": null,
   "source": "",
   "id": "df63e0d72e6676d8"
  }
 ],
 "metadata": {
  "kernelspec": {
   "display_name": "Python 3",
   "language": "python",
   "name": "python3"
  },
  "language_info": {
   "codemirror_mode": {
    "name": "ipython",
    "version": 2
   },
   "file_extension": ".py",
   "mimetype": "text/x-python",
   "name": "python",
   "nbconvert_exporter": "python",
   "pygments_lexer": "ipython2",
   "version": "2.7.6"
  }
 },
 "nbformat": 4,
 "nbformat_minor": 5
}
