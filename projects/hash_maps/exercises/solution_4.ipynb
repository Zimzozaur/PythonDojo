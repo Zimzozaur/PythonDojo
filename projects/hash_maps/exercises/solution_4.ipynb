{
 "cells": [
  {
   "cell_type": "code",
   "id": "initial_id",
   "metadata": {
    "collapsed": true,
    "ExecuteTime": {
     "end_time": "2024-09-28T16:50:12.462224Z",
     "start_time": "2024-09-28T16:50:12.458647Z"
    }
   },
   "source": [
    "n1 = {'employees': 100, 'employee': 5000, 'users': 10, 'user': 100}\n",
    "n2 = {'employees': 250, 'users': 23, 'user': 230}\n",
    "n3 = {'employees': 150, 'users': 4, 'login': 1000}"
   ],
   "outputs": [],
   "execution_count": 55
  },
  {
   "metadata": {
    "ExecuteTime": {
     "end_time": "2024-09-28T16:50:12.680470Z",
     "start_time": "2024-09-28T16:50:12.677772Z"
    }
   },
   "cell_type": "code",
   "source": [
    "result = {'employee': (5000, 0, 0),\n",
    "          'user': (100, 230, 0),\n",
    "          'login': (0, 0, 1000)}"
   ],
   "id": "7e8f0d1a9c9cf76",
   "outputs": [],
   "execution_count": 56
  },
  {
   "metadata": {
    "ExecuteTime": {
     "end_time": "2024-09-28T16:51:02.011342Z",
     "start_time": "2024-09-28T16:51:02.006868Z"
    }
   },
   "cell_type": "code",
   "source": [
    "def get_symmetric_difference(*args: tuple[dict]) -> dict[tuple]:\n",
    "    ak_set = {key for arg in args for key in arg.keys()}  # all keys\n",
    "    uk_set = set()  # unique keys\n",
    "    for arg in args:\n",
    "         uk_set.update(ak_set ^ arg.keys())\n",
    "        \n",
    "    r_dict = dict()  # result dict\n",
    "    for key in uk_set:\n",
    "        r_dict[key] = tuple(arg.get(key, 0) for arg in args)\n",
    "\n",
    "    return r_dict "
   ],
   "id": "c85dda4493093ca6",
   "outputs": [],
   "execution_count": 59
  },
  {
   "metadata": {
    "ExecuteTime": {
     "end_time": "2024-09-28T16:51:02.371630Z",
     "start_time": "2024-09-28T16:51:02.366808Z"
    }
   },
   "cell_type": "code",
   "source": "assert get_symmetric_difference(n1, n2, n3) == result",
   "id": "e4da3ab01e5e90c7",
   "outputs": [],
   "execution_count": 60
  },
  {
   "metadata": {
    "ExecuteTime": {
     "end_time": "2024-09-28T16:50:07.532307Z",
     "start_time": "2024-09-28T16:50:07.529283Z"
    }
   },
   "cell_type": "code",
   "source": "",
   "id": "4b58ec8df1cc9def",
   "outputs": [],
   "execution_count": 54
  }
 ],
 "metadata": {
  "kernelspec": {
   "display_name": "Python 3",
   "language": "python",
   "name": "python3"
  },
  "language_info": {
   "codemirror_mode": {
    "name": "ipython",
    "version": 2
   },
   "file_extension": ".py",
   "mimetype": "text/x-python",
   "name": "python",
   "nbconvert_exporter": "python",
   "pygments_lexer": "ipython2",
   "version": "2.7.6"
  }
 },
 "nbformat": 4,
 "nbformat_minor": 5
}
