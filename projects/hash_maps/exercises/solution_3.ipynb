{
 "cells": [
  {
   "cell_type": "code",
   "id": "initial_id",
   "metadata": {
    "collapsed": true,
    "ExecuteTime": {
     "end_time": "2024-09-28T16:17:17.854694Z",
     "start_time": "2024-09-28T16:17:17.851239Z"
    }
   },
   "source": [
    "d1 = {'python': 10, 'java': 3, 'c#': 8, 'javascript': 15}\n",
    "d2 = {'java': 10, 'c++': 10, 'c#': 4, 'go': 9, 'python': 6}\n",
    "d3 = {'erlang': 5, 'haskell': 2, 'python': 1, 'pascal': 1}"
   ],
   "outputs": [],
   "execution_count": 1
  },
  {
   "metadata": {
    "ExecuteTime": {
     "end_time": "2024-09-28T16:23:47.485378Z",
     "start_time": "2024-09-28T16:23:47.480204Z"
    }
   },
   "cell_type": "code",
   "source": [
    "ds1 = {'python': 17,\n",
    "     'javascript': 15,\n",
    "     'java': 13,\n",
    "     'c#': 12,\n",
    "     'c++': 10,\n",
    "     'go': 9,\n",
    "     'erlang': 5,\n",
    "     'haskell': 2,\n",
    "     'pascal': 1}"
   ],
   "id": "2b37fc85a1bce77c",
   "outputs": [],
   "execution_count": 24
  },
  {
   "metadata": {
    "ExecuteTime": {
     "end_time": "2024-09-28T16:23:47.695987Z",
     "start_time": "2024-09-28T16:23:47.692171Z"
    }
   },
   "cell_type": "code",
   "source": [
    "ds2 = {'python': 16,\n",
    "     'javascript': 15,\n",
    "     'java': 13,\n",
    "     'c#': 12,\n",
    "     'c++': 10, \n",
    "     'go': 9}"
   ],
   "id": "f6e5274b2fb4d7c3",
   "outputs": [],
   "execution_count": 25
  },
  {
   "metadata": {
    "ExecuteTime": {
     "end_time": "2024-09-28T16:23:48.009012Z",
     "start_time": "2024-09-28T16:23:48.004445Z"
    }
   },
   "cell_type": "code",
   "source": [
    "def sort_dict(d: dict) -> dict:\n",
    "    return dict(sorted(d.items(), key=lambda t: t[1], reverse=True))"
   ],
   "id": "9f52bc439fe154ac",
   "outputs": [],
   "execution_count": 26
  },
  {
   "metadata": {
    "ExecuteTime": {
     "end_time": "2024-09-28T16:23:48.257822Z",
     "start_time": "2024-09-28T16:23:48.253248Z"
    }
   },
   "cell_type": "code",
   "source": [
    "def sum_dicts(*args: tuple[dict]) -> dict:\n",
    "    r_dict = {}\n",
    "    for d in args:\n",
    "        for k, v in d.items():\n",
    "            r_dict[k] = d.get(k, 0) + v\n",
    "    return sort_dict(r_dict)"
   ],
   "id": "aff1dd181a6fad6a",
   "outputs": [],
   "execution_count": 27
  },
  {
   "metadata": {
    "ExecuteTime": {
     "end_time": "2024-09-28T16:23:48.540357Z",
     "start_time": "2024-09-28T16:23:48.536582Z"
    }
   },
   "cell_type": "code",
   "source": [
    "assert sum_dicts(d1, d2, d3) == ds1\n",
    "assert sum_dicts(d1, d2) == ds2"
   ],
   "id": "aa4ba3517b7d23ae",
   "outputs": [],
   "execution_count": 28
  },
  {
   "metadata": {
    "ExecuteTime": {
     "end_time": "2024-09-28T16:23:49.142547Z",
     "start_time": "2024-09-28T16:23:49.139212Z"
    }
   },
   "cell_type": "code",
   "source": "print(sum_dicts(d1, d2, d3))",
   "id": "fcb552b6a3064151",
   "outputs": [
    {
     "name": "stdout",
     "output_type": "stream",
     "text": [
      "{'python': 17, 'javascript': 15, 'java': 13, 'c#': 12, 'c++': 10, 'go': 9, 'erlang': 5, 'haskell': 2, 'pascal': 1}\n"
     ]
    }
   ],
   "execution_count": 29
  },
  {
   "metadata": {},
   "cell_type": "code",
   "outputs": [],
   "execution_count": null,
   "source": "",
   "id": "1cd7eacc0d018834"
  }
 ],
 "metadata": {
  "kernelspec": {
   "display_name": "Python 3",
   "language": "python",
   "name": "python3"
  },
  "language_info": {
   "codemirror_mode": {
    "name": "ipython",
    "version": 2
   },
   "file_extension": ".py",
   "mimetype": "text/x-python",
   "name": "python",
   "nbconvert_exporter": "python",
   "pygments_lexer": "ipython2",
   "version": "2.7.6"
  }
 },
 "nbformat": 4,
 "nbformat_minor": 5
}
