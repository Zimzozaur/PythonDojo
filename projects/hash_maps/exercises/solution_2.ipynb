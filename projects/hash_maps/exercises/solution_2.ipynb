{
 "cells": [
  {
   "cell_type": "code",
   "id": "initial_id",
   "metadata": {
    "collapsed": true,
    "ExecuteTime": {
     "end_time": "2024-09-28T16:01:17.765027Z",
     "start_time": "2024-09-28T16:01:17.760093Z"
    }
   },
   "source": [
    "d1 = {'a': 1, 'b': 2, 'c': 3, 'd': 4}\n",
    "d2 = {'b': 20, 'c': 30, 'y': 40, 'z': 50}"
   ],
   "outputs": [],
   "execution_count": 14
  },
  {
   "metadata": {
    "ExecuteTime": {
     "end_time": "2024-09-28T16:01:17.893236Z",
     "start_time": "2024-09-28T16:01:17.888917Z"
    }
   },
   "cell_type": "code",
   "source": "d = {'b': (2, 20), 'c': (3, 30)}",
   "id": "28abdbc8837eba4c",
   "outputs": [],
   "execution_count": 15
  },
  {
   "metadata": {
    "ExecuteTime": {
     "end_time": "2024-09-28T16:01:18.196894Z",
     "start_time": "2024-09-28T16:01:18.192323Z"
    }
   },
   "cell_type": "code",
   "source": [
    "def dict_intersection(d1: dict, d2: dict) -> dict:\n",
    "    keys = d1.keys() & d2.keys()\n",
    "    return {k: (d1[k], d2[k]) for k in keys}"
   ],
   "id": "b22c68afa1b1b8f5",
   "outputs": [],
   "execution_count": 16
  },
  {
   "metadata": {
    "ExecuteTime": {
     "end_time": "2024-09-28T16:01:18.483425Z",
     "start_time": "2024-09-28T16:01:18.479499Z"
    }
   },
   "cell_type": "code",
   "source": "assert dict_intersection(d1, d2) == d",
   "id": "557b43a6e29c8426",
   "outputs": [],
   "execution_count": 17
  },
  {
   "metadata": {},
   "cell_type": "code",
   "outputs": [],
   "execution_count": null,
   "source": "",
   "id": "2fdde36eeca165ff"
  }
 ],
 "metadata": {
  "kernelspec": {
   "display_name": "Python 3",
   "language": "python",
   "name": "python3"
  },
  "language_info": {
   "codemirror_mode": {
    "name": "ipython",
    "version": 2
   },
   "file_extension": ".py",
   "mimetype": "text/x-python",
   "name": "python",
   "nbconvert_exporter": "python",
   "pygments_lexer": "ipython2",
   "version": "2.7.6"
  }
 },
 "nbformat": 4,
 "nbformat_minor": 5
}
