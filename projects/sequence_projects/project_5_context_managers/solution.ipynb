{
 "cells": [
  {
   "metadata": {
    "ExecuteTime": {
     "end_time": "2024-09-06T12:38:49.803826Z",
     "start_time": "2024-09-06T12:38:49.797647Z"
    }
   },
   "cell_type": "code",
   "source": [
    "import csv\n",
    "from collections import namedtuple\n",
    "\n",
    "\n",
    "def get_dialect(file):\n",
    "    with open(file) as f:\n",
    "        return csv.Sniffer().sniff(f.read(1000))\n",
    "\n",
    "\n",
    "class CSVParser:\n",
    "    def __init__(self, file_path):\n",
    "        self._file = open(file_path)\n",
    "        self.reader = csv.reader(\n",
    "            self._file, get_dialect(file_path)\n",
    "        )\n",
    "    \n",
    "    def __enter__(self):\n",
    "        headers = map(str.lower, next(self.reader))\n",
    "        self.ntuple = namedtuple(\"Generic\", headers)\n",
    "        return self\n",
    "        \n",
    "    def __exit__(self, exc_type, exc_val, exc_tb):\n",
    "        self._file.close()\n",
    "        return False\n",
    "    \n",
    "    def __iter__(self):\n",
    "        return self\n",
    "    \n",
    "    def __next__(self):\n",
    "        if self._file.closed:\n",
    "            raise StopIteration\n",
    "        \n",
    "        next_line = next(self.reader)\n",
    "        return self.ntuple(*next_line)"
   ],
   "id": "c3c997fccaac77b5",
   "outputs": [],
   "execution_count": 134
  },
  {
   "cell_type": "code",
   "id": "initial_id",
   "metadata": {
    "collapsed": true,
    "ExecuteTime": {
     "end_time": "2024-09-06T12:39:09.357330Z",
     "start_time": "2024-09-06T12:39:09.350991Z"
    }
   },
   "source": [
    "with CSVParser(\"personal_info.csv\") as file:\n",
    "    print(next(file))"
   ],
   "outputs": [
    {
     "name": "stdout",
     "output_type": "stream",
     "text": [
      "Generic(ssn='100-53-9824', first_name='Sebastiano', last_name='Tester', gender='Male', language='Icelandic')\n"
     ]
    }
   ],
   "execution_count": 141
  },
  {
   "metadata": {
    "ExecuteTime": {
     "end_time": "2024-09-06T12:39:09.774296Z",
     "start_time": "2024-09-06T12:39:09.745150Z"
    }
   },
   "cell_type": "code",
   "source": "next(file)",
   "id": "4e66f6c6a890244",
   "outputs": [
    {
     "ename": "StopIteration",
     "evalue": "",
     "output_type": "error",
     "traceback": [
      "\u001B[0;31m---------------------------------------------------------------------------\u001B[0m",
      "\u001B[0;31mStopIteration\u001B[0m                             Traceback (most recent call last)",
      "Cell \u001B[0;32mIn[142], line 1\u001B[0m\n\u001B[0;32m----> 1\u001B[0m \u001B[38;5;28;43mnext\u001B[39;49m\u001B[43m(\u001B[49m\u001B[43mfile\u001B[49m\u001B[43m)\u001B[49m\n",
      "Cell \u001B[0;32mIn[134], line 31\u001B[0m, in \u001B[0;36mCSVParser.__next__\u001B[0;34m(self)\u001B[0m\n\u001B[1;32m     29\u001B[0m \u001B[38;5;28;01mdef\u001B[39;00m \u001B[38;5;21m__next__\u001B[39m(\u001B[38;5;28mself\u001B[39m):\n\u001B[1;32m     30\u001B[0m     \u001B[38;5;28;01mif\u001B[39;00m \u001B[38;5;28mself\u001B[39m\u001B[38;5;241m.\u001B[39m_file\u001B[38;5;241m.\u001B[39mclosed:\n\u001B[0;32m---> 31\u001B[0m         \u001B[38;5;28;01mraise\u001B[39;00m \u001B[38;5;167;01mStopIteration\u001B[39;00m\n\u001B[1;32m     33\u001B[0m     next_line \u001B[38;5;241m=\u001B[39m \u001B[38;5;28mnext\u001B[39m(\u001B[38;5;28mself\u001B[39m\u001B[38;5;241m.\u001B[39mreader)\n\u001B[1;32m     34\u001B[0m     \u001B[38;5;28;01mreturn\u001B[39;00m \u001B[38;5;28mself\u001B[39m\u001B[38;5;241m.\u001B[39mntuple(\u001B[38;5;241m*\u001B[39mnext_line)\n",
      "\u001B[0;31mStopIteration\u001B[0m: "
     ]
    }
   ],
   "execution_count": 142
  },
  {
   "metadata": {
    "ExecuteTime": {
     "end_time": "2024-09-06T12:38:51.975618Z",
     "start_time": "2024-09-06T12:38:51.972294Z"
    }
   },
   "cell_type": "code",
   "source": "from contextlib import contextmanager",
   "id": "7045bbd7ed3f2fc9",
   "outputs": [],
   "execution_count": 137
  },
  {
   "metadata": {
    "ExecuteTime": {
     "end_time": "2024-09-06T12:51:17.233447Z",
     "start_time": "2024-09-06T12:51:17.228420Z"
    }
   },
   "cell_type": "code",
   "source": [
    "@contextmanager\n",
    "def csv_parse(file):\n",
    "    _f = open(file)\n",
    "    reader = csv.reader(_f, csv.Sniffer().sniff(_f.read(1000)))\n",
    "    _f.seek(0)\n",
    "    headers = map(str.lower, next(reader))\n",
    "    ntuple = namedtuple(\"Generic\", headers)\n",
    "    \n",
    "    try:\n",
    "        yield (ntuple(*l) for l in reader)\n",
    "    finally:\n",
    "        _f.close()"
   ],
   "id": "f16fbd9bbd364f56",
   "outputs": [],
   "execution_count": 174
  },
  {
   "metadata": {
    "ExecuteTime": {
     "end_time": "2024-09-06T12:51:17.525339Z",
     "start_time": "2024-09-06T12:51:17.505021Z"
    }
   },
   "cell_type": "code",
   "source": [
    "with csv_parse(\"personal_info.csv\") as file:\n",
    "    for obj in file:\n",
    "        pass\n",
    "next(file)"
   ],
   "id": "84051df0789e20c3",
   "outputs": [
    {
     "ename": "StopIteration",
     "evalue": "",
     "output_type": "error",
     "traceback": [
      "\u001B[0;31m---------------------------------------------------------------------------\u001B[0m",
      "\u001B[0;31mStopIteration\u001B[0m                             Traceback (most recent call last)",
      "Cell \u001B[0;32mIn[175], line 4\u001B[0m\n\u001B[1;32m      2\u001B[0m     \u001B[38;5;28;01mfor\u001B[39;00m obj \u001B[38;5;129;01min\u001B[39;00m file:\n\u001B[1;32m      3\u001B[0m         \u001B[38;5;28;01mpass\u001B[39;00m\n\u001B[0;32m----> 4\u001B[0m \u001B[38;5;28;43mnext\u001B[39;49m\u001B[43m(\u001B[49m\u001B[43mfile\u001B[49m\u001B[43m)\u001B[49m\n",
      "\u001B[0;31mStopIteration\u001B[0m: "
     ]
    }
   ],
   "execution_count": 175
  },
  {
   "metadata": {
    "ExecuteTime": {
     "end_time": "2024-09-06T12:44:58.081171Z",
     "start_time": "2024-09-06T12:44:58.078240Z"
    }
   },
   "cell_type": "code",
   "source": [
    "def parse_data_iter(data_iter, nt):\n",
    "    for row in data_iter:\n",
    "        yield nt(*row)"
   ],
   "id": "6f0c5b211c2d299",
   "outputs": [],
   "execution_count": 151
  },
  {
   "metadata": {
    "ExecuteTime": {
     "end_time": "2024-09-06T12:44:58.399729Z",
     "start_time": "2024-09-06T12:44:58.395039Z"
    }
   },
   "cell_type": "code",
   "source": [
    "@contextmanager\n",
    "def parsed_data(f_name):\n",
    "    f = open(f_name, 'r')\n",
    "    try:\n",
    "        reader = csv.reader(f, get_dialect(f_name))\n",
    "        headers = map(str.lower, next(reader))\n",
    "        nt = namedtuple(\"Data\", headers)\n",
    "        yield parse_data_iter(reader, nt)\n",
    "    finally:\n",
    "        f.close()"
   ],
   "id": "545dd65016dd0e71",
   "outputs": [],
   "execution_count": 152
  },
  {
   "metadata": {
    "ExecuteTime": {
     "end_time": "2024-09-06T12:44:59.155725Z",
     "start_time": "2024-09-06T12:44:59.129753Z"
    }
   },
   "cell_type": "code",
   "source": [
    "with parsed_data(\"personal_info.csv\") as file:\n",
    "    for obj in file:\n",
    "        pass\n",
    "next(file)"
   ],
   "id": "62c2d9522a6633c5",
   "outputs": [
    {
     "ename": "StopIteration",
     "evalue": "",
     "output_type": "error",
     "traceback": [
      "\u001B[0;31m---------------------------------------------------------------------------\u001B[0m",
      "\u001B[0;31mStopIteration\u001B[0m                             Traceback (most recent call last)",
      "Cell \u001B[0;32mIn[153], line 4\u001B[0m\n\u001B[1;32m      2\u001B[0m     \u001B[38;5;28;01mfor\u001B[39;00m obj \u001B[38;5;129;01min\u001B[39;00m file:\n\u001B[1;32m      3\u001B[0m         \u001B[38;5;28;01mpass\u001B[39;00m\n\u001B[0;32m----> 4\u001B[0m \u001B[38;5;28;43mnext\u001B[39;49m\u001B[43m(\u001B[49m\u001B[43mfile\u001B[49m\u001B[43m)\u001B[49m\n",
      "\u001B[0;31mStopIteration\u001B[0m: "
     ]
    }
   ],
   "execution_count": 153
  },
  {
   "metadata": {
    "ExecuteTime": {
     "end_time": "2024-09-06T12:47:30.634287Z",
     "start_time": "2024-09-06T12:47:30.630707Z"
    }
   },
   "cell_type": "code",
   "source": [
    "def test_speed(fn):\n",
    "    with fn(\"personal_info.csv\") as file:\n",
    "        for obj in file:\n",
    "            pass"
   ],
   "id": "a0b618155d5ca0fd",
   "outputs": [],
   "execution_count": 167
  },
  {
   "metadata": {
    "ExecuteTime": {
     "end_time": "2024-09-06T12:47:30.847536Z",
     "start_time": "2024-09-06T12:47:30.844276Z"
    }
   },
   "cell_type": "code",
   "source": "from timeit import timeit",
   "id": "a2fdd0cd19fc1ccc",
   "outputs": [],
   "execution_count": 168
  },
  {
   "metadata": {
    "ExecuteTime": {
     "end_time": "2024-09-06T12:47:31.326542Z",
     "start_time": "2024-09-06T12:47:31.182984Z"
    }
   },
   "cell_type": "code",
   "source": "timeit(\"test_speed(csv_parse)\", number=10*4, globals=globals())",
   "id": "5bbbb8b257abef67",
   "outputs": [
    {
     "data": {
      "text/plain": [
       "0.1390869400001975"
      ]
     },
     "execution_count": 169,
     "metadata": {},
     "output_type": "execute_result"
    }
   ],
   "execution_count": 169
  },
  {
   "metadata": {},
   "cell_type": "code",
   "outputs": [],
   "execution_count": null,
   "source": "",
   "id": "9783bb14f228898f"
  }
 ],
 "metadata": {
  "kernelspec": {
   "display_name": "Python 3",
   "language": "python",
   "name": "python3"
  },
  "language_info": {
   "codemirror_mode": {
    "name": "ipython",
    "version": 2
   },
   "file_extension": ".py",
   "mimetype": "text/x-python",
   "name": "python",
   "nbconvert_exporter": "python",
   "pygments_lexer": "ipython2",
   "version": "2.7.6"
  }
 },
 "nbformat": 4,
 "nbformat_minor": 5
}
