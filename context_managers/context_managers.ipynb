{
 "cells": [
  {
   "cell_type": "code",
   "id": "initial_id",
   "metadata": {
    "collapsed": true,
    "ExecuteTime": {
     "end_time": "2024-08-30T09:03:15.704912Z",
     "start_time": "2024-08-30T09:03:15.700530Z"
    }
   },
   "source": [
    "try:\n",
    "    10 / 2\n",
    "except ZeroDivisionError:\n",
    "    print(\"ZeroDivisionError occurred\")\n",
    "finally:\n",
    "    print(\"finally ran!\")"
   ],
   "outputs": [
    {
     "name": "stdout",
     "output_type": "stream",
     "text": [
      "finally ran!\n"
     ]
    }
   ],
   "execution_count": 1
  },
  {
   "metadata": {
    "ExecuteTime": {
     "end_time": "2024-08-30T09:03:31.976191Z",
     "start_time": "2024-08-30T09:03:31.972895Z"
    }
   },
   "cell_type": "code",
   "source": [
    "try:\n",
    "    10 / 0\n",
    "except ZeroDivisionError:\n",
    "    print(\"ZeroDivisionError occurred\")\n",
    "finally:\n",
    "    print(\"finally ran!\")"
   ],
   "id": "1faa8ba53de6d797",
   "outputs": [
    {
     "name": "stdout",
     "output_type": "stream",
     "text": [
      "ZeroDivisionError occurred\n",
      "finally ran!\n"
     ]
    }
   ],
   "execution_count": 2
  },
  {
   "metadata": {
    "ExecuteTime": {
     "end_time": "2024-08-30T09:05:05.873573Z",
     "start_time": "2024-08-30T09:05:05.870671Z"
    }
   },
   "cell_type": "code",
   "source": [
    "def my_func():\n",
    "    try:\n",
    "        10 / 0\n",
    "    except ZeroDivisionError:\n",
    "        return 10\n",
    "    finally:\n",
    "        print(\"finally ran!\") "
   ],
   "id": "25975dea32f48431",
   "outputs": [],
   "execution_count": 5
  },
  {
   "metadata": {
    "ExecuteTime": {
     "end_time": "2024-08-30T09:05:06.272703Z",
     "start_time": "2024-08-30T09:05:06.255476Z"
    }
   },
   "cell_type": "code",
   "source": "my_func()",
   "id": "2316aa3d9b800fa4",
   "outputs": [
    {
     "name": "stdout",
     "output_type": "stream",
     "text": [
      "finally ran!\n"
     ]
    },
    {
     "data": {
      "text/plain": [
       "10"
      ]
     },
     "execution_count": 6,
     "metadata": {},
     "output_type": "execute_result"
    }
   ],
   "execution_count": 6
  },
  {
   "metadata": {
    "ExecuteTime": {
     "end_time": "2024-08-30T09:07:34.466809Z",
     "start_time": "2024-08-30T09:07:34.462073Z"
    }
   },
   "cell_type": "code",
   "source": [
    "try:\n",
    "    print(\"opening the file...\")\n",
    "    f = open(\"test.txt\", \"w\")\n",
    "    a = 1 / 0\n",
    "except:\n",
    "    print(\"an exception occurred\")\n",
    "finally:\n",
    "    print(\"closing file...\")\n",
    "    f.close()"
   ],
   "id": "12403a2ac93b2494",
   "outputs": [
    {
     "name": "stdout",
     "output_type": "stream",
     "text": [
      "opening the file...\n",
      "an exception occurred\n",
      "closing file...\n"
     ]
    }
   ],
   "execution_count": 10
  },
  {
   "metadata": {
    "ExecuteTime": {
     "end_time": "2024-08-30T09:08:07.520237Z",
     "start_time": "2024-08-30T09:08:07.352994Z"
    }
   },
   "cell_type": "code",
   "source": [
    "try:\n",
    "    print(\"opening the file...\")\n",
    "    f = open(\"test.txt\", \"w\")\n",
    "    a = 1 / 0\n",
    "finally:\n",
    "    print(\"closing file...\")\n",
    "    f.close()"
   ],
   "id": "ad2ac80dc1fd86aa",
   "outputs": [
    {
     "name": "stdout",
     "output_type": "stream",
     "text": [
      "opening the file...\n",
      "closing file...\n"
     ]
    },
    {
     "ename": "ZeroDivisionError",
     "evalue": "division by zero",
     "output_type": "error",
     "traceback": [
      "\u001B[0;31m---------------------------------------------------------------------------\u001B[0m",
      "\u001B[0;31mZeroDivisionError\u001B[0m                         Traceback (most recent call last)",
      "Cell \u001B[0;32mIn[11], line 4\u001B[0m\n\u001B[1;32m      2\u001B[0m     \u001B[38;5;28mprint\u001B[39m(\u001B[38;5;124m\"\u001B[39m\u001B[38;5;124mopening the file...\u001B[39m\u001B[38;5;124m\"\u001B[39m)\n\u001B[1;32m      3\u001B[0m     f \u001B[38;5;241m=\u001B[39m \u001B[38;5;28mopen\u001B[39m(\u001B[38;5;124m\"\u001B[39m\u001B[38;5;124mtest.txt\u001B[39m\u001B[38;5;124m\"\u001B[39m, \u001B[38;5;124m\"\u001B[39m\u001B[38;5;124mw\u001B[39m\u001B[38;5;124m\"\u001B[39m)\n\u001B[0;32m----> 4\u001B[0m     a \u001B[38;5;241m=\u001B[39m \u001B[38;5;241;43m1\u001B[39;49m\u001B[43m \u001B[49m\u001B[38;5;241;43m/\u001B[39;49m\u001B[43m \u001B[49m\u001B[38;5;241;43m0\u001B[39;49m\n\u001B[1;32m      5\u001B[0m \u001B[38;5;28;01mfinally\u001B[39;00m:\n\u001B[1;32m      6\u001B[0m     \u001B[38;5;28mprint\u001B[39m(\u001B[38;5;124m\"\u001B[39m\u001B[38;5;124mclosing file...\u001B[39m\u001B[38;5;124m\"\u001B[39m)\n",
      "\u001B[0;31mZeroDivisionError\u001B[0m: division by zero"
     ]
    }
   ],
   "execution_count": 11
  },
  {
   "metadata": {
    "ExecuteTime": {
     "end_time": "2024-08-30T09:17:54.893959Z",
     "start_time": "2024-08-30T09:17:54.888211Z"
    }
   },
   "cell_type": "code",
   "source": "type(open(\"test.txt\"))",
   "id": "90789fe3d64f0465",
   "outputs": [
    {
     "data": {
      "text/plain": [
       "_io.TextIOWrapper"
      ]
     },
     "execution_count": 13,
     "metadata": {},
     "output_type": "execute_result"
    }
   ],
   "execution_count": 13
  },
  {
   "metadata": {
    "ExecuteTime": {
     "end_time": "2024-08-30T09:18:28.347979Z",
     "start_time": "2024-08-30T09:18:28.344155Z"
    }
   },
   "cell_type": "code",
   "source": "dir(open(\"test.txt\"))",
   "id": "8d7eeb32438c7400",
   "outputs": [
    {
     "data": {
      "text/plain": [
       "['_CHUNK_SIZE',\n",
       " '__class__',\n",
       " '__del__',\n",
       " '__delattr__',\n",
       " '__dict__',\n",
       " '__dir__',\n",
       " '__doc__',\n",
       " '__enter__',\n",
       " '__eq__',\n",
       " '__exit__',\n",
       " '__format__',\n",
       " '__ge__',\n",
       " '__getattribute__',\n",
       " '__getstate__',\n",
       " '__gt__',\n",
       " '__hash__',\n",
       " '__init__',\n",
       " '__init_subclass__',\n",
       " '__iter__',\n",
       " '__le__',\n",
       " '__lt__',\n",
       " '__module__',\n",
       " '__ne__',\n",
       " '__new__',\n",
       " '__next__',\n",
       " '__reduce__',\n",
       " '__reduce_ex__',\n",
       " '__repr__',\n",
       " '__setattr__',\n",
       " '__sizeof__',\n",
       " '__str__',\n",
       " '__subclasshook__',\n",
       " '_checkClosed',\n",
       " '_checkReadable',\n",
       " '_checkSeekable',\n",
       " '_checkWritable',\n",
       " '_finalizing',\n",
       " 'buffer',\n",
       " 'close',\n",
       " 'closed',\n",
       " 'detach',\n",
       " 'encoding',\n",
       " 'errors',\n",
       " 'fileno',\n",
       " 'flush',\n",
       " 'isatty',\n",
       " 'line_buffering',\n",
       " 'mode',\n",
       " 'name',\n",
       " 'newlines',\n",
       " 'read',\n",
       " 'readable',\n",
       " 'readline',\n",
       " 'readlines',\n",
       " 'reconfigure',\n",
       " 'seek',\n",
       " 'seekable',\n",
       " 'tell',\n",
       " 'truncate',\n",
       " 'writable',\n",
       " 'write',\n",
       " 'write_through',\n",
       " 'writelines']"
      ]
     },
     "execution_count": 15,
     "metadata": {},
     "output_type": "execute_result"
    }
   ],
   "execution_count": 15
  },
  {
   "metadata": {
    "ExecuteTime": {
     "end_time": "2024-08-30T09:20:31.916618Z",
     "start_time": "2024-08-30T09:20:31.910718Z"
    }
   },
   "cell_type": "code",
   "source": "open(\"test.txt\"), open(\"test.txt\").__enter__()",
   "id": "68db4d52af95fc83",
   "outputs": [
    {
     "data": {
      "text/plain": [
       "(<_io.TextIOWrapper name='test.txt' mode='r' encoding='UTF-8'>,\n",
       " <_io.TextIOWrapper name='test.txt' mode='r' encoding='UTF-8'>)"
      ]
     },
     "execution_count": 21,
     "metadata": {},
     "output_type": "execute_result"
    }
   ],
   "execution_count": 21
  },
  {
   "metadata": {
    "ExecuteTime": {
     "end_time": "2024-08-30T09:35:07.215251Z",
     "start_time": "2024-08-30T09:35:07.190216Z"
    }
   },
   "cell_type": "code",
   "source": [
    "with open(\"test.txt\", \"w\") as file:\n",
    "    print(\"inside with: file closed?\", file.closed)\n",
    "    \n",
    "print(\"after with: file closed?\", file.closed)"
   ],
   "id": "f41e103cfff4245e",
   "outputs": [
    {
     "name": "stdout",
     "output_type": "stream",
     "text": [
      "inside with: file closed? False\n",
      "after with: file closed? True\n"
     ]
    }
   ],
   "execution_count": 22
  },
  {
   "metadata": {
    "ExecuteTime": {
     "end_time": "2024-08-30T09:43:47.947421Z",
     "start_time": "2024-08-30T09:43:47.942766Z"
    }
   },
   "cell_type": "code",
   "source": [
    "def test():\n",
    "    with open(\"test.txt\", \"w\") as file:\n",
    "        print(\"inside with: file closed?\", file.closed)\n",
    "        return file\n",
    "        print(\"inside final: file closed?\", file.closed)    "
   ],
   "id": "4d6db0c14f6b8008",
   "outputs": [],
   "execution_count": 36
  },
  {
   "metadata": {
    "ExecuteTime": {
     "end_time": "2024-08-30T09:43:54.181945Z",
     "start_time": "2024-08-30T09:43:54.178338Z"
    }
   },
   "cell_type": "code",
   "source": [
    "file = test()\n",
    "file.closed"
   ],
   "id": "321a97442b0afcc6",
   "outputs": [
    {
     "name": "stdout",
     "output_type": "stream",
     "text": [
      "inside with: file closed? False\n"
     ]
    },
    {
     "data": {
      "text/plain": [
       "True"
      ]
     },
     "execution_count": 37,
     "metadata": {},
     "output_type": "execute_result"
    }
   ],
   "execution_count": 37
  },
  {
   "metadata": {
    "ExecuteTime": {
     "end_time": "2024-08-30T09:40:50.963037Z",
     "start_time": "2024-08-30T09:40:50.959122Z"
    }
   },
   "cell_type": "code",
   "source": [
    "def test():\n",
    "    try:\n",
    "        file = open(\"test.txt\", \"w\")\n",
    "        print(\"inside with: file closed?\", file.closed)\n",
    "        return file\n",
    "    finally:\n",
    "        file.close()\n",
    "        print(\"inside final: file closed\", file.closed)"
   ],
   "id": "59b2d3e074a984f1",
   "outputs": [],
   "execution_count": 29
  },
  {
   "metadata": {
    "ExecuteTime": {
     "end_time": "2024-08-30T09:40:53.385745Z",
     "start_time": "2024-08-30T09:40:53.376265Z"
    }
   },
   "cell_type": "code",
   "source": "test()",
   "id": "8dc505a4dda37fec",
   "outputs": [
    {
     "name": "stdout",
     "output_type": "stream",
     "text": [
      "inside with: file closed? False\n",
      "inside final: file closed True\n"
     ]
    },
    {
     "data": {
      "text/plain": [
       "<_io.TextIOWrapper name='test.txt' mode='w' encoding='UTF-8'>"
      ]
     },
     "execution_count": 30,
     "metadata": {},
     "output_type": "execute_result"
    }
   ],
   "execution_count": 30
  },
  {
   "metadata": {
    "ExecuteTime": {
     "end_time": "2024-08-30T09:45:35.077363Z",
     "start_time": "2024-08-30T09:45:35.058759Z"
    }
   },
   "cell_type": "code",
   "source": [
    "with open(\"test.txt\", \"w\") as file:\n",
    "    print(\"inside with: file closed?\", file.closed)\n",
    "    raise ValueError\n",
    "    print(\"inside final: file closed?\", file.closed)    "
   ],
   "id": "774491273c4ab806",
   "outputs": [
    {
     "name": "stdout",
     "output_type": "stream",
     "text": [
      "inside with: file closed? False\n"
     ]
    },
    {
     "ename": "ValueError",
     "evalue": "",
     "output_type": "error",
     "traceback": [
      "\u001B[0;31m---------------------------------------------------------------------------\u001B[0m",
      "\u001B[0;31mValueError\u001B[0m                                Traceback (most recent call last)",
      "Cell \u001B[0;32mIn[38], line 3\u001B[0m\n\u001B[1;32m      1\u001B[0m \u001B[38;5;28;01mwith\u001B[39;00m \u001B[38;5;28mopen\u001B[39m(\u001B[38;5;124m\"\u001B[39m\u001B[38;5;124mtest.txt\u001B[39m\u001B[38;5;124m\"\u001B[39m, \u001B[38;5;124m\"\u001B[39m\u001B[38;5;124mw\u001B[39m\u001B[38;5;124m\"\u001B[39m) \u001B[38;5;28;01mas\u001B[39;00m file:\n\u001B[1;32m      2\u001B[0m     \u001B[38;5;28mprint\u001B[39m(\u001B[38;5;124m\"\u001B[39m\u001B[38;5;124minside with: file closed?\u001B[39m\u001B[38;5;124m\"\u001B[39m, file\u001B[38;5;241m.\u001B[39mclosed)\n\u001B[0;32m----> 3\u001B[0m     \u001B[38;5;28;01mraise\u001B[39;00m \u001B[38;5;167;01mValueError\u001B[39;00m\n\u001B[1;32m      4\u001B[0m     \u001B[38;5;28mprint\u001B[39m(\u001B[38;5;124m\"\u001B[39m\u001B[38;5;124minside final: file closed?\u001B[39m\u001B[38;5;124m\"\u001B[39m, file\u001B[38;5;241m.\u001B[39mclosed)    \n",
      "\u001B[0;31mValueError\u001B[0m: "
     ]
    }
   ],
   "execution_count": 38
  },
  {
   "metadata": {
    "ExecuteTime": {
     "end_time": "2024-08-30T09:45:47.542426Z",
     "start_time": "2024-08-30T09:45:47.539271Z"
    }
   },
   "cell_type": "code",
   "source": "file.closed",
   "id": "1272b55838a39e2b",
   "outputs": [
    {
     "data": {
      "text/plain": [
       "True"
      ]
     },
     "execution_count": 39,
     "metadata": {},
     "output_type": "execute_result"
    }
   ],
   "execution_count": 39
  },
  {
   "metadata": {
    "ExecuteTime": {
     "end_time": "2024-08-30T09:47:13.499463Z",
     "start_time": "2024-08-30T09:47:13.495684Z"
    }
   },
   "cell_type": "code",
   "source": [
    "with open(\"test.txt\", \"w\") as f:\n",
    "    f.writelines(\"this is a test\")"
   ],
   "id": "7c4811f34057e87b",
   "outputs": [],
   "execution_count": 40
  },
  {
   "metadata": {
    "ExecuteTime": {
     "end_time": "2024-08-30T09:47:44.498410Z",
     "start_time": "2024-08-30T09:47:44.495258Z"
    }
   },
   "cell_type": "code",
   "source": [
    "with open(\"test.txt\") as f:\n",
    "    row = next(f)"
   ],
   "id": "75c8ac6da646ac11",
   "outputs": [],
   "execution_count": 41
  },
  {
   "metadata": {
    "ExecuteTime": {
     "end_time": "2024-08-30T09:47:50.788376Z",
     "start_time": "2024-08-30T09:47:50.785166Z"
    }
   },
   "cell_type": "code",
   "source": "f.closed",
   "id": "32cb9d7e5db4a046",
   "outputs": [
    {
     "data": {
      "text/plain": [
       "True"
      ]
     },
     "execution_count": 42,
     "metadata": {},
     "output_type": "execute_result"
    }
   ],
   "execution_count": 42
  },
  {
   "metadata": {
    "ExecuteTime": {
     "end_time": "2024-08-30T09:47:53.344898Z",
     "start_time": "2024-08-30T09:47:53.341067Z"
    }
   },
   "cell_type": "code",
   "source": "row",
   "id": "962f031d37246a97",
   "outputs": [
    {
     "data": {
      "text/plain": [
       "'this is a test'"
      ]
     },
     "execution_count": 43,
     "metadata": {},
     "output_type": "execute_result"
    }
   ],
   "execution_count": 43
  },
  {
   "metadata": {
    "ExecuteTime": {
     "end_time": "2024-08-30T10:12:37.570546Z",
     "start_time": "2024-08-30T10:12:37.567770Z"
    }
   },
   "cell_type": "code",
   "source": [
    "class MyContext:\n",
    "    def __init__(self):\n",
    "        print(\"init running...\")\n",
    "        self.obj = None\n",
    "    \n",
    "    def __enter__(self):\n",
    "        print(\"entering context...\")\n",
    "        self.obj = \"The Return object\"\n",
    "        return self.obj\n",
    "        \n",
    "    def __exit__(self, exc_type, exc_val, exc_tb) -> bool:\n",
    "        print(\"exiting context...\")\n",
    "        if exc_type:\n",
    "            print(\"*** Error occurred: {exc_type}. {exc_val}\")\n",
    "        return True"
   ],
   "id": "1fb7b18feda3e96e",
   "outputs": [],
   "execution_count": 56
  },
  {
   "metadata": {
    "ExecuteTime": {
     "end_time": "2024-08-30T10:12:37.862462Z",
     "start_time": "2024-08-30T10:12:37.855379Z"
    }
   },
   "cell_type": "code",
   "source": [
    "ctx = MyContext()\n",
    "print(\"created context...\")\n",
    "with ctx as obj:\n",
    "    print(\"inside with block -\", obj)\n",
    "    raise ValueError(\"custom message\")"
   ],
   "id": "48325d9603dc85f9",
   "outputs": [
    {
     "name": "stdout",
     "output_type": "stream",
     "text": [
      "init running...\n",
      "created context...\n",
      "entering context...\n",
      "inside with block - The Return object\n",
      "exiting context...\n",
      "*** Error occurred: {exc_type}. {exc_val}\n"
     ]
    }
   ],
   "execution_count": 57
  },
  {
   "metadata": {
    "ExecuteTime": {
     "end_time": "2024-08-30T10:20:20.831968Z",
     "start_time": "2024-08-30T10:20:20.828043Z"
    }
   },
   "cell_type": "code",
   "source": [
    "class Resource:\n",
    "    def __init__(self, name):\n",
    "        print(\"resource has been created\")\n",
    "        self.name = name\n",
    "        self.state = None"
   ],
   "id": "78a9ff0e54dfc5cc",
   "outputs": [],
   "execution_count": 61
  },
  {
   "metadata": {
    "ExecuteTime": {
     "end_time": "2024-08-30T10:20:21.184241Z",
     "start_time": "2024-08-30T10:20:21.177581Z"
    }
   },
   "cell_type": "code",
   "source": [
    "class ResourceManager:\n",
    "    def __init__(self, name):\n",
    "        self.name = name\n",
    "        self.resource = None\n",
    "        \n",
    "    def __enter__(self):\n",
    "        print(\"entering context\")\n",
    "        self.resource = Resource(self.name)\n",
    "        self.resource.state = \"created\"\n",
    "        return self.resource\n",
    "    \n",
    "    def __exit__(self, exc_type, exc_val, exc_tb) -> bool:\n",
    "        print(\"exiting context\")\n",
    "        self.resource.state = \"destroyed\"\n",
    "        if exc_type:\n",
    "            print(\"error occurred\")\n",
    "        return False"
   ],
   "id": "a50184ca685c40a0",
   "outputs": [],
   "execution_count": 62
  },
  {
   "metadata": {
    "ExecuteTime": {
     "end_time": "2024-08-30T10:20:21.698260Z",
     "start_time": "2024-08-30T10:20:21.694195Z"
    }
   },
   "cell_type": "code",
   "source": [
    "with ResourceManager(\"spam\") as res:\n",
    "    print(f\"{res.name} = {res.state}\")\n",
    "print(f\"{res.name} = {res.state}\")    "
   ],
   "id": "13bb1c301b069bc7",
   "outputs": [
    {
     "name": "stdout",
     "output_type": "stream",
     "text": [
      "entering context\n",
      "resource has been created\n",
      "spam = created\n",
      "exiting context\n",
      "spam = destroyed\n"
     ]
    }
   ],
   "execution_count": 63
  },
  {
   "metadata": {
    "ExecuteTime": {
     "end_time": "2024-08-30T10:27:17.602729Z",
     "start_time": "2024-08-30T10:27:17.597424Z"
    }
   },
   "cell_type": "code",
   "source": [
    "class File:\n",
    "    def __init__(self, name, mode):\n",
    "        self.name = name\n",
    "        self.mode = mode\n",
    "        \n",
    "    def __enter__(self):\n",
    "        print(\"opening file...\")\n",
    "        self.file = open(self.name, self.mode)\n",
    "        return self.file\n",
    "    \n",
    "    def __exit__(self, exc_type, exc_val, exc_tb) -> bool:\n",
    "        print(\"closing file...\")\n",
    "        self.file.close()\n",
    "        return False"
   ],
   "id": "a88a3dc29fda0dd8",
   "outputs": [],
   "execution_count": 64
  },
  {
   "metadata": {
    "ExecuteTime": {
     "end_time": "2024-08-30T10:27:56.054037Z",
     "start_time": "2024-08-30T10:27:56.045149Z"
    }
   },
   "cell_type": "code",
   "source": [
    "with File(\"test.txt\", \"w\") as f:\n",
    "    f.write(\"This is a late parrot!\")"
   ],
   "id": "c584aab0879ea11b",
   "outputs": [
    {
     "name": "stdout",
     "output_type": "stream",
     "text": [
      "opening file...\n",
      "closing file...\n"
     ]
    }
   ],
   "execution_count": 65
  },
  {
   "metadata": {
    "ExecuteTime": {
     "end_time": "2024-08-30T10:28:29.469308Z",
     "start_time": "2024-08-30T10:28:29.466106Z"
    }
   },
   "cell_type": "code",
   "source": [
    "with File(\"test.txt\", \"r\") as f:\n",
    "    print(f.readlines())"
   ],
   "id": "b3fc28fb2a4b51f5",
   "outputs": [
    {
     "name": "stdout",
     "output_type": "stream",
     "text": [
      "opening file...\n",
      "['This is a late parrot!']\n",
      "closing file...\n"
     ]
    }
   ],
   "execution_count": 66
  },
  {
   "metadata": {
    "ExecuteTime": {
     "end_time": "2024-08-30T10:30:23.051975Z",
     "start_time": "2024-08-30T10:30:23.047458Z"
    }
   },
   "cell_type": "code",
   "source": [
    "def test():\n",
    "    with File(\"test.txt\", \"w\") as f:\n",
    "        f.write(\"This is a late parrot!\")\n",
    "        return f\n",
    "test()"
   ],
   "id": "8c6481bc5e38cf1b",
   "outputs": [
    {
     "name": "stdout",
     "output_type": "stream",
     "text": [
      "opening file...\n",
      "closing file...\n"
     ]
    },
    {
     "data": {
      "text/plain": [
       "<_io.TextIOWrapper name='test.txt' mode='w' encoding='UTF-8'>"
      ]
     },
     "execution_count": 69,
     "metadata": {},
     "output_type": "execute_result"
    }
   ],
   "execution_count": 69
  },
  {
   "metadata": {
    "ExecuteTime": {
     "end_time": "2024-08-30T10:30:32.769221Z",
     "start_time": "2024-08-30T10:30:32.745832Z"
    }
   },
   "cell_type": "code",
   "source": [
    "def test():\n",
    "    with File(\"test.txt\", \"w\") as f:\n",
    "        f.write(\"This is a late parrot!\")\n",
    "        raise ValueError\n",
    "test()"
   ],
   "id": "607afca3afd0bf72",
   "outputs": [
    {
     "name": "stdout",
     "output_type": "stream",
     "text": [
      "opening file...\n",
      "closing file...\n"
     ]
    },
    {
     "ename": "ValueError",
     "evalue": "",
     "output_type": "error",
     "traceback": [
      "\u001B[0;31m---------------------------------------------------------------------------\u001B[0m",
      "\u001B[0;31mValueError\u001B[0m                                Traceback (most recent call last)",
      "Cell \u001B[0;32mIn[70], line 5\u001B[0m\n\u001B[1;32m      3\u001B[0m         f\u001B[38;5;241m.\u001B[39mwrite(\u001B[38;5;124m\"\u001B[39m\u001B[38;5;124mThis is a late parrot!\u001B[39m\u001B[38;5;124m\"\u001B[39m)\n\u001B[1;32m      4\u001B[0m         \u001B[38;5;28;01mraise\u001B[39;00m \u001B[38;5;167;01mValueError\u001B[39;00m\n\u001B[0;32m----> 5\u001B[0m \u001B[43mtest\u001B[49m\u001B[43m(\u001B[49m\u001B[43m)\u001B[49m\n",
      "Cell \u001B[0;32mIn[70], line 4\u001B[0m, in \u001B[0;36mtest\u001B[0;34m()\u001B[0m\n\u001B[1;32m      2\u001B[0m \u001B[38;5;28;01mwith\u001B[39;00m File(\u001B[38;5;124m\"\u001B[39m\u001B[38;5;124mtest.txt\u001B[39m\u001B[38;5;124m\"\u001B[39m, \u001B[38;5;124m\"\u001B[39m\u001B[38;5;124mw\u001B[39m\u001B[38;5;124m\"\u001B[39m) \u001B[38;5;28;01mas\u001B[39;00m f:\n\u001B[1;32m      3\u001B[0m     f\u001B[38;5;241m.\u001B[39mwrite(\u001B[38;5;124m\"\u001B[39m\u001B[38;5;124mThis is a late parrot!\u001B[39m\u001B[38;5;124m\"\u001B[39m)\n\u001B[0;32m----> 4\u001B[0m     \u001B[38;5;28;01mraise\u001B[39;00m \u001B[38;5;167;01mValueError\u001B[39;00m\n",
      "\u001B[0;31mValueError\u001B[0m: "
     ]
    }
   ],
   "execution_count": 70
  },
  {
   "metadata": {
    "ExecuteTime": {
     "end_time": "2024-08-30T10:32:12.876525Z",
     "start_time": "2024-08-30T10:32:12.871499Z"
    }
   },
   "cell_type": "code",
   "source": [
    "class File:\n",
    "    def __init__(self, name, mode):\n",
    "        self.name = name\n",
    "        self.mode = mode\n",
    "\n",
    "    def __enter__(self):\n",
    "        print(\"opening file...\")\n",
    "        self.file = open(self.name, self.mode)\n",
    "        return self\n",
    "\n",
    "    def __exit__(self, exc_type, exc_val, exc_tb) -> bool:\n",
    "        print(\"closing file...\")\n",
    "        self.file.close()\n",
    "        return False"
   ],
   "id": "91ceda9f31b89362",
   "outputs": [],
   "execution_count": 71
  },
  {
   "metadata": {
    "ExecuteTime": {
     "end_time": "2024-08-30T10:33:35.450440Z",
     "start_time": "2024-08-30T10:33:35.443804Z"
    }
   },
   "cell_type": "code",
   "source": [
    "with File(\"test.txt\", \"r\") as file_ctx:\n",
    "    print(next(file_ctx.file))\n",
    "    print(file_ctx.name)\n",
    "    print(file_ctx.mode)"
   ],
   "id": "eee4b123d18cdb28",
   "outputs": [
    {
     "name": "stdout",
     "output_type": "stream",
     "text": [
      "opening file...\n",
      "This is a late parrot!\n",
      "test.txt\n",
      "r\n",
      "closing file...\n"
     ]
    }
   ],
   "execution_count": 73
  },
  {
   "metadata": {},
   "cell_type": "code",
   "outputs": [],
   "execution_count": null,
   "source": "",
   "id": "85615146006062cc"
  }
 ],
 "metadata": {
  "kernelspec": {
   "display_name": "Python 3",
   "language": "python",
   "name": "python3"
  },
  "language_info": {
   "codemirror_mode": {
    "name": "ipython",
    "version": 2
   },
   "file_extension": ".py",
   "mimetype": "text/x-python",
   "name": "python",
   "nbconvert_exporter": "python",
   "pygments_lexer": "ipython2",
   "version": "2.7.6"
  }
 },
 "nbformat": 4,
 "nbformat_minor": 5
}
