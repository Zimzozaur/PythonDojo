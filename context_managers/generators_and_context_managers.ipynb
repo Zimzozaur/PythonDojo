{
 "cells": [
  {
   "metadata": {
    "ExecuteTime": {
     "end_time": "2024-08-31T09:49:24.773742Z",
     "start_time": "2024-08-31T09:49:24.770453Z"
    }
   },
   "cell_type": "code",
   "source": [
    "def my_gen():\n",
    "    try:\n",
    "        print(\"creating context and yielding object\")\n",
    "        yield [1, 2, 3, 4]\n",
    "    finally:\n",
    "        print(\"exiting context and clearing up\")"
   ],
   "id": "a1af9d8bdce5d004",
   "outputs": [],
   "execution_count": 21
  },
  {
   "metadata": {
    "ExecuteTime": {
     "end_time": "2024-08-31T09:49:34.659047Z",
     "start_time": "2024-08-31T09:49:34.655551Z"
    }
   },
   "cell_type": "code",
   "source": "gen = my_gen()",
   "id": "c1ded8516a91f05d",
   "outputs": [],
   "execution_count": 22
  },
  {
   "metadata": {
    "ExecuteTime": {
     "end_time": "2024-08-31T09:49:50.045190Z",
     "start_time": "2024-08-31T09:49:50.041518Z"
    }
   },
   "cell_type": "code",
   "source": "lst = next(gen)",
   "id": "b7bb138927644373",
   "outputs": [
    {
     "name": "stdout",
     "output_type": "stream",
     "text": [
      "creating context and yielding object\n"
     ]
    }
   ],
   "execution_count": 23
  },
  {
   "metadata": {
    "ExecuteTime": {
     "end_time": "2024-08-31T09:49:54.625009Z",
     "start_time": "2024-08-31T09:49:54.620975Z"
    }
   },
   "cell_type": "code",
   "source": "lst",
   "id": "5b15d4f4d7549c2f",
   "outputs": [
    {
     "data": {
      "text/plain": [
       "[1, 2, 3, 4]"
      ]
     },
     "execution_count": 24,
     "metadata": {},
     "output_type": "execute_result"
    }
   ],
   "execution_count": 24
  },
  {
   "metadata": {
    "ExecuteTime": {
     "end_time": "2024-08-31T09:50:03.754860Z",
     "start_time": "2024-08-31T09:50:03.739929Z"
    }
   },
   "cell_type": "code",
   "source": "next(gen)",
   "id": "477368ab15cf2404",
   "outputs": [
    {
     "name": "stdout",
     "output_type": "stream",
     "text": [
      "exiting context and clearing up\n"
     ]
    },
    {
     "ename": "StopIteration",
     "evalue": "",
     "output_type": "error",
     "traceback": [
      "\u001B[0;31m---------------------------------------------------------------------------\u001B[0m",
      "\u001B[0;31mStopIteration\u001B[0m                             Traceback (most recent call last)",
      "Cell \u001B[0;32mIn[26], line 1\u001B[0m\n\u001B[0;32m----> 1\u001B[0m \u001B[38;5;28;43mnext\u001B[39;49m\u001B[43m(\u001B[49m\u001B[43mgen\u001B[49m\u001B[43m)\u001B[49m\n",
      "\u001B[0;31mStopIteration\u001B[0m: "
     ]
    }
   ],
   "execution_count": 26
  },
  {
   "metadata": {
    "ExecuteTime": {
     "end_time": "2024-08-31T09:52:11.191Z",
     "start_time": "2024-08-31T09:52:11.186963Z"
    }
   },
   "cell_type": "code",
   "source": [
    "gen = my_gen()\n",
    "lst = next(gen)\n",
    "print(lst)\n",
    "try:\n",
    "    next(gen)\n",
    "except StopIteration:\n",
    "    pass"
   ],
   "id": "e3db7e8dd65d03b6",
   "outputs": [
    {
     "name": "stdout",
     "output_type": "stream",
     "text": [
      "creating context and yielding object\n",
      "[1, 2, 3, 4]\n",
      "exiting context and clearing up\n"
     ]
    }
   ],
   "execution_count": 27
  },
  {
   "metadata": {
    "ExecuteTime": {
     "end_time": "2024-08-31T11:44:37.031885Z",
     "start_time": "2024-08-31T11:44:37.028280Z"
    }
   },
   "cell_type": "code",
   "source": [
    "class GenCtxManager:\n",
    "    def __init__(self, gen_func):\n",
    "        self._gen = gen_func()\n",
    "    \n",
    "    def __enter__(self):\n",
    "        return next(self._gen)\n",
    "        \n",
    "    def __exit__(self, exc_type, exc_val, exc_tb):\n",
    "        try:\n",
    "            next(self._gen)\n",
    "        except StopIteration:\n",
    "            pass\n",
    "        return False"
   ],
   "id": "cb950908ec86534c",
   "outputs": [],
   "execution_count": 36
  },
  {
   "metadata": {
    "ExecuteTime": {
     "end_time": "2024-08-31T11:44:37.138036Z",
     "start_time": "2024-08-31T11:44:37.133844Z"
    }
   },
   "cell_type": "code",
   "source": [
    "def my_gen():\n",
    "    try:\n",
    "        print(\"creating context and yielding object\")\n",
    "        yield [1, 2, 3, 4]\n",
    "    finally:\n",
    "        print(\"exiting context and clearing up\")"
   ],
   "id": "90f5691e0fdff272",
   "outputs": [],
   "execution_count": 37
  },
  {
   "metadata": {
    "ExecuteTime": {
     "end_time": "2024-08-31T11:44:37.255964Z",
     "start_time": "2024-08-31T11:44:37.252519Z"
    }
   },
   "cell_type": "code",
   "source": [
    "with GenCtxManager(my_gen) as obj:\n",
    "    print(obj)"
   ],
   "id": "52b8eeb61d5e554c",
   "outputs": [
    {
     "name": "stdout",
     "output_type": "stream",
     "text": [
      "creating context and yielding object\n",
      "[1, 2, 3, 4]\n",
      "exiting context and clearing up\n"
     ]
    }
   ],
   "execution_count": 38
  },
  {
   "metadata": {
    "ExecuteTime": {
     "end_time": "2024-08-31T11:47:56.029682Z",
     "start_time": "2024-08-31T11:47:56.023787Z"
    }
   },
   "cell_type": "code",
   "source": [
    "class GenCtxManager:\n",
    "    def __init__(self, gen_func, *args, **kwargs):\n",
    "        self._gen = gen_func(*args, **kwargs)\n",
    "    \n",
    "    def __enter__(self):\n",
    "        return next(self._gen)\n",
    "        \n",
    "    def __exit__(self, exc_type, exc_val, exc_tb):\n",
    "        try:\n",
    "            next(self._gen)\n",
    "        except StopIteration:\n",
    "            pass\n",
    "        return False"
   ],
   "id": "de7894cb59dc7331",
   "outputs": [],
   "execution_count": 47
  },
  {
   "metadata": {
    "ExecuteTime": {
     "end_time": "2024-08-31T11:47:56.334490Z",
     "start_time": "2024-08-31T11:47:56.330396Z"
    }
   },
   "cell_type": "code",
   "source": [
    "def open_file(fname, mode):\n",
    "    f = open(fname, mode)\n",
    "    try:\n",
    "        print('opening file...')\n",
    "        yield f.re\n",
    "    finally:\n",
    "        print('closing file...')\n",
    "        f.close()"
   ],
   "id": "d95c5f39d0265490",
   "outputs": [],
   "execution_count": 48
  },
  {
   "metadata": {
    "ExecuteTime": {
     "end_time": "2024-08-31T11:48:12.223921Z",
     "start_time": "2024-08-31T11:48:12.220228Z"
    }
   },
   "cell_type": "code",
   "source": [
    "with GenCtxManager(open_file, 'file.txt', 'r') as f:\n",
    "    print(f.readlines())"
   ],
   "id": "88508929c2caf5ac",
   "outputs": [
    {
     "name": "stdout",
     "output_type": "stream",
     "text": [
      "opening file...\n",
      "['This is a late parrot!']\n",
      "closing file...\n"
     ]
    }
   ],
   "execution_count": 50
  },
  {
   "metadata": {},
   "cell_type": "code",
   "outputs": [],
   "execution_count": null,
   "source": "",
   "id": "7b5c00ffcff336f5"
  }
 ],
 "metadata": {
  "kernelspec": {
   "display_name": "Python 3",
   "language": "python",
   "name": "python3"
  },
  "language_info": {
   "codemirror_mode": {
    "name": "ipython",
    "version": 2
   },
   "file_extension": ".py",
   "mimetype": "text/x-python",
   "name": "python",
   "nbconvert_exporter": "python",
   "pygments_lexer": "ipython2",
   "version": "2.7.6"
  }
 },
 "nbformat": 4,
 "nbformat_minor": 5
}
