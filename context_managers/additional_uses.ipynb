{
 "cells": [
  {
   "metadata": {},
   "cell_type": "markdown",
   "source": "# Change Reset Pattern",
   "id": "f7ee03831ba7ae43"
  },
  {
   "cell_type": "code",
   "id": "initial_id",
   "metadata": {
    "collapsed": true,
    "ExecuteTime": {
     "end_time": "2024-08-30T11:48:02.181669Z",
     "start_time": "2024-08-30T11:48:02.179038Z"
    }
   },
   "source": "import decimal",
   "outputs": [],
   "execution_count": 1
  },
  {
   "metadata": {
    "ExecuteTime": {
     "end_time": "2024-08-30T11:48:09.238700Z",
     "start_time": "2024-08-30T11:48:09.230639Z"
    }
   },
   "cell_type": "code",
   "source": "decimal.getcontext()",
   "id": "c7a43870475ea99c",
   "outputs": [
    {
     "data": {
      "text/plain": [
       "Context(prec=28, rounding=ROUND_HALF_EVEN, Emin=-999999, Emax=999999, capitals=1, clamp=0, flags=[], traps=[InvalidOperation, DivisionByZero, Overflow])"
      ]
     },
     "execution_count": 2,
     "metadata": {},
     "output_type": "execute_result"
    }
   ],
   "execution_count": 2
  },
  {
   "metadata": {
    "ExecuteTime": {
     "end_time": "2024-08-30T11:49:46.144222Z",
     "start_time": "2024-08-30T11:49:46.140732Z"
    }
   },
   "cell_type": "code",
   "source": "decimal.getcontext().prec = 14",
   "id": "4304b4d9d786ca6b",
   "outputs": [],
   "execution_count": 5
  },
  {
   "metadata": {
    "ExecuteTime": {
     "end_time": "2024-08-30T11:49:46.485506Z",
     "start_time": "2024-08-30T11:49:46.477059Z"
    }
   },
   "cell_type": "code",
   "source": "decimal.getcontext()",
   "id": "1d9dd4cf864bcf8",
   "outputs": [
    {
     "data": {
      "text/plain": [
       "Context(prec=14, rounding=ROUND_HALF_EVEN, Emin=-999999, Emax=999999, capitals=1, clamp=0, flags=[], traps=[InvalidOperation, DivisionByZero, Overflow])"
      ]
     },
     "execution_count": 6,
     "metadata": {},
     "output_type": "execute_result"
    }
   ],
   "execution_count": 6
  },
  {
   "metadata": {
    "ExecuteTime": {
     "end_time": "2024-08-30T11:50:12.147753Z",
     "start_time": "2024-08-30T11:50:12.141562Z"
    }
   },
   "cell_type": "code",
   "source": "decimal.getcontext().prec = 28",
   "id": "3c2b4a2fec676fd6",
   "outputs": [],
   "execution_count": 7
  },
  {
   "metadata": {
    "ExecuteTime": {
     "end_time": "2024-08-30T11:52:30.154265Z",
     "start_time": "2024-08-30T11:52:30.144906Z"
    }
   },
   "cell_type": "code",
   "source": [
    "old_prec = decimal.getcontext().prec\n",
    "decimal.getcontext().prec = 4\n",
    "print(decimal.Decimal(1) / decimal.Decimal(3))\n",
    "decimal.getcontext().prec = old_prec\n",
    "print(decimal.Decimal(1) / decimal.Decimal(3))"
   ],
   "id": "47c8a977788aa502",
   "outputs": [
    {
     "name": "stdout",
     "output_type": "stream",
     "text": [
      "0.3333\n",
      "0.3333333333333333333333333333\n"
     ]
    }
   ],
   "execution_count": 14
  },
  {
   "metadata": {
    "ExecuteTime": {
     "end_time": "2024-08-30T11:55:38.354163Z",
     "start_time": "2024-08-30T11:55:38.346773Z"
    }
   },
   "cell_type": "code",
   "source": [
    "class Precision:\n",
    "    def __init__(self, prec):\n",
    "        self.prec = prec\n",
    "        self.current_prec = decimal.getcontext().prec\n",
    "        \n",
    "    def __enter__(self):\n",
    "        decimal.getcontext().prec = self.prec\n",
    "        \n",
    "    def __exit__(self, exc_type, exc_val, exc_tb):\n",
    "        decimal.getcontext().prec = self.current_prec\n",
    "        return False"
   ],
   "id": "78521af652025e6c",
   "outputs": [],
   "execution_count": 15
  },
  {
   "metadata": {
    "ExecuteTime": {
     "end_time": "2024-08-30T11:57:24.767445Z",
     "start_time": "2024-08-30T11:57:24.759755Z"
    }
   },
   "cell_type": "code",
   "source": [
    "print(\"prec before\", decimal.getcontext().prec)\n",
    "with Precision(2):\n",
    "    print(\"prec in\", decimal.getcontext().prec)\n",
    "    print(decimal.Decimal(1) / decimal.Decimal(3))\n",
    "print(\"prec after\", decimal.getcontext().prec)"
   ],
   "id": "96bfb5e55e5ba7ac",
   "outputs": [
    {
     "name": "stdout",
     "output_type": "stream",
     "text": [
      "prec before 28\n",
      "prec in 2\n",
      "0.33\n",
      "prec after 28\n"
     ]
    }
   ],
   "execution_count": 17
  },
  {
   "metadata": {
    "ExecuteTime": {
     "end_time": "2024-08-30T12:00:31.292435Z",
     "start_time": "2024-08-30T12:00:31.281332Z"
    }
   },
   "cell_type": "code",
   "source": [
    "print(decimal.getcontext().prec)\n",
    "with decimal.localcontext() as ctx:\n",
    "    ctx.prec = 10\n",
    "    print(decimal.getcontext().prec)\n",
    "print(decimal.getcontext().prec)"
   ],
   "id": "c67b28b325b63648",
   "outputs": [
    {
     "name": "stdout",
     "output_type": "stream",
     "text": [
      "28\n",
      "10\n",
      "28\n"
     ]
    }
   ],
   "execution_count": 21
  },
  {
   "metadata": {},
   "cell_type": "markdown",
   "source": "# Start Stop Pattern",
   "id": "7f6fb89b3c0d8efa"
  },
  {
   "metadata": {
    "ExecuteTime": {
     "end_time": "2024-08-30T12:02:55.539248Z",
     "start_time": "2024-08-30T12:02:55.533379Z"
    }
   },
   "cell_type": "code",
   "source": "from time import perf_counter, sleep",
   "id": "f993a46a9bb8f12a",
   "outputs": [],
   "execution_count": 22
  },
  {
   "metadata": {
    "ExecuteTime": {
     "end_time": "2024-08-30T12:08:57.446490Z",
     "start_time": "2024-08-30T12:08:57.440704Z"
    }
   },
   "cell_type": "code",
   "source": [
    "class Timer:\n",
    "    def __init__(self):\n",
    "        self.elapsed = 0\n",
    "        self.start = None\n",
    "        self.stop = None\n",
    "        \n",
    "    def __enter__(self):\n",
    "        self.start = perf_counter()\n",
    "        return self\n",
    "        \n",
    "    def __exit__(self, exc_type, exc_val, exc_tb):\n",
    "        self.stop = perf_counter()\n",
    "        self.elapsed = self.stop - self.start\n",
    "        return False"
   ],
   "id": "455938aaf0b78231",
   "outputs": [],
   "execution_count": 31
  },
  {
   "metadata": {
    "ExecuteTime": {
     "end_time": "2024-08-30T12:08:51.490500Z",
     "start_time": "2024-08-30T12:08:50.483461Z"
    }
   },
   "cell_type": "code",
   "source": [
    "with Timer() as timer:\n",
    "    sleep(1)"
   ],
   "id": "5a222da4821d6620",
   "outputs": [],
   "execution_count": 29
  },
  {
   "metadata": {
    "ExecuteTime": {
     "end_time": "2024-08-30T12:09:05.804434Z",
     "start_time": "2024-08-30T12:09:05.799200Z"
    }
   },
   "cell_type": "code",
   "source": "timer.start, timer.stop, timer.elapsed",
   "id": "b41ce7f88b0fa1a8",
   "outputs": [
    {
     "data": {
      "text/plain": [
       "(53837.672258083, 53838.677282666, 1.0050245829988853)"
      ]
     },
     "execution_count": 32,
     "metadata": {},
     "output_type": "execute_result"
    }
   ],
   "execution_count": 32
  },
  {
   "metadata": {
    "ExecuteTime": {
     "end_time": "2024-08-30T12:14:21.770601Z",
     "start_time": "2024-08-30T12:14:21.765585Z"
    }
   },
   "cell_type": "code",
   "source": "import sys",
   "id": "b71fee8c4e76a4f4",
   "outputs": [],
   "execution_count": 33
  },
  {
   "metadata": {
    "ExecuteTime": {
     "end_time": "2024-08-30T12:37:31.181236Z",
     "start_time": "2024-08-30T12:37:31.150082Z"
    }
   },
   "cell_type": "code",
   "source": [
    "class OutToFile:\n",
    "    def __init__(self, fname):\n",
    "        self.fname = fname\n",
    "        self._current_stdout = sys.stdout\n",
    "        \n",
    "    def __enter__(self):\n",
    "        self._file = open(self.fname, \"w\")\n",
    "        sys.stdout = self._file\n",
    "        \n",
    "    def __exit__(self, exc_type, exc_val, exc_tb):\n",
    "        self._file.close()\n",
    "        sys.stdout = self._current_stdout"
   ],
   "id": "17a3cd8581144323",
   "outputs": [],
   "execution_count": 34
  },
  {
   "metadata": {
    "ExecuteTime": {
     "end_time": "2024-08-30T12:40:57.106897Z",
     "start_time": "2024-08-30T12:40:57.100148Z"
    }
   },
   "cell_type": "code",
   "source": [
    "with OutToFile(\"test.txt\"):\n",
    "    print(sys.stdout)\n",
    "    print(\"Line 1\")\n",
    "    print(\"Line 2\")"
   ],
   "id": "2beccfeb3c05e3ce",
   "outputs": [],
   "execution_count": 41
  },
  {
   "metadata": {
    "ExecuteTime": {
     "end_time": "2024-08-30T12:38:15.937886Z",
     "start_time": "2024-08-30T12:38:15.933895Z"
    }
   },
   "cell_type": "code",
   "source": "print(\"Line 1\")",
   "id": "1736198bf9b9493a",
   "outputs": [
    {
     "name": "stdout",
     "output_type": "stream",
     "text": [
      "Line 1\n"
     ]
    }
   ],
   "execution_count": 36
  },
  {
   "metadata": {
    "ExecuteTime": {
     "end_time": "2024-08-30T12:38:37.545863Z",
     "start_time": "2024-08-30T12:38:37.539223Z"
    }
   },
   "cell_type": "code",
   "source": "sys.stdout",
   "id": "98489aa8c85062f2",
   "outputs": [
    {
     "data": {
      "text/plain": [
       "<ipykernel.iostream.OutStream at 0x1073d6dd0>"
      ]
     },
     "execution_count": 37,
     "metadata": {},
     "output_type": "execute_result"
    }
   ],
   "execution_count": 37
  },
  {
   "metadata": {
    "ExecuteTime": {
     "end_time": "2024-08-30T12:40:59.153334Z",
     "start_time": "2024-08-30T12:40:59.145126Z"
    }
   },
   "cell_type": "code",
   "source": "open(\"test.txt\", \"r\").read()",
   "id": "7541c72986bae3ec",
   "outputs": [
    {
     "data": {
      "text/plain": [
       "\"<_io.TextIOWrapper name='test.txt' mode='w' encoding='UTF-8'>\\nLine 1\\nLine 2\\n\""
      ]
     },
     "execution_count": 42,
     "metadata": {},
     "output_type": "execute_result"
    }
   ],
   "execution_count": 42
  },
  {
   "metadata": {
    "ExecuteTime": {
     "end_time": "2024-08-30T13:09:34.116159Z",
     "start_time": "2024-08-30T13:09:34.102876Z"
    }
   },
   "cell_type": "code",
   "source": [
    "class Tag:\n",
    "    def __init__(self, tag):\n",
    "        self.tag = tag\n",
    "        \n",
    "    def __enter__(self):\n",
    "        print(f\"<{self.tag}>\", end=\"\")\n",
    "        \n",
    "    def __exit__(self, exc_type, exc_val, exc_tb):\n",
    "        print(f\"</{self.tag}>\", end=\"\")"
   ],
   "id": "3a89d085485f1837",
   "outputs": [],
   "execution_count": 43
  },
  {
   "metadata": {
    "ExecuteTime": {
     "end_time": "2024-08-30T13:12:12.932220Z",
     "start_time": "2024-08-30T13:12:12.893191Z"
    }
   },
   "cell_type": "code",
   "source": [
    "with OutToFile(\"test.txt\"):\n",
    "    with Tag(\"p\"):\n",
    "        print(\"some\", end=\"\")\n",
    "        with Tag(\"b\"):\n",
    "            print(\"bold\", end=\"\")\n",
    "        print(\"text\", end=\"\")"
   ],
   "id": "f1a4f7a1f9438074",
   "outputs": [],
   "execution_count": 46
  },
  {
   "metadata": {
    "ExecuteTime": {
     "end_time": "2024-08-30T13:34:42.867023Z",
     "start_time": "2024-08-30T13:34:42.858915Z"
    }
   },
   "cell_type": "code",
   "source": [
    "class ListMaker:\n",
    "    def __init__(self, indent=4):\n",
    "        self._indent = indent\n",
    "        self._current_indent = 0 \n",
    "    \n",
    "    def __enter__(self):\n",
    "        self._current_indent += self._indent\n",
    "        return self\n",
    "    \n",
    "    def __exit__(self, exc_type, exc_val, exc_tb):\n",
    "        self._current_indent -= self._indent\n",
    "        return False\n",
    "    \n",
    "    def print(self, arg):\n",
    "        print(f\"{' ' * self._current_indent}{arg}\")"
   ],
   "id": "d2d307be377fc5c3",
   "outputs": [],
   "execution_count": 69
  },
  {
   "metadata": {
    "ExecuteTime": {
     "end_time": "2024-08-30T13:34:53.894455Z",
     "start_time": "2024-08-30T13:34:53.889218Z"
    }
   },
   "cell_type": "code",
   "source": [
    "with ListMaker(indent=4) as lm:\n",
    "    lm.print(\"lm0\")\n",
    "    with lm:\n",
    "        lm.print(\"lol\")\n",
    "        "
   ],
   "id": "1d0004d0063a4965",
   "outputs": [
    {
     "name": "stdout",
     "output_type": "stream",
     "text": [
      "    lm0\n",
      "        lol\n"
     ]
    }
   ],
   "execution_count": 71
  },
  {
   "metadata": {},
   "cell_type": "code",
   "outputs": [],
   "execution_count": null,
   "source": "",
   "id": "eca68d656eaa6b39"
  }
 ],
 "metadata": {
  "kernelspec": {
   "display_name": "Python 3",
   "language": "python",
   "name": "python3"
  },
  "language_info": {
   "codemirror_mode": {
    "name": "ipython",
    "version": 2
   },
   "file_extension": ".py",
   "mimetype": "text/x-python",
   "name": "python",
   "nbconvert_exporter": "python",
   "pygments_lexer": "ipython2",
   "version": "2.7.6"
  }
 },
 "nbformat": 4,
 "nbformat_minor": 5
}
