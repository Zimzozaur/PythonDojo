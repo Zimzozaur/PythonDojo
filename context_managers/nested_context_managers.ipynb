{
 "cells": [
  {
   "cell_type": "code",
   "id": "initial_id",
   "metadata": {
    "collapsed": true,
    "ExecuteTime": {
     "end_time": "2024-08-31T13:01:25.172121Z",
     "start_time": "2024-08-31T13:01:25.168108Z"
    }
   },
   "source": [
    "with open('file1.txt') as f1, open('file2.txt') as f2:\n",
    "    print(f1.readlines())\n",
    "    print(f2.readlines())"
   ],
   "outputs": [
    {
     "name": "stdout",
     "output_type": "stream",
     "text": [
      "['file1_line1\\n', 'file1_line2\\n', 'file1_line3']\n",
      "['file2_line1\\n', 'file2_line2\\n', 'file2_line3']\n"
     ]
    }
   ],
   "execution_count": 2
  },
  {
   "metadata": {
    "ExecuteTime": {
     "end_time": "2024-08-31T13:02:17.313736Z",
     "start_time": "2024-08-31T13:02:17.308753Z"
    }
   },
   "cell_type": "code",
   "source": [
    "with open('file1.txt') as f1:\n",
    "    with open('file2.txt') as f2:\n",
    "        with open('file3.txt') as f3:\n",
    "                print(f1.readlines())\n",
    "                print(f2.readlines())\n",
    "                print(f3.readlines())"
   ],
   "id": "7d7d278a7f3c970",
   "outputs": [
    {
     "name": "stdout",
     "output_type": "stream",
     "text": [
      "['file1_line1\\n', 'file1_line2\\n', 'file1_line3']\n",
      "['file2_line1\\n', 'file2_line2\\n', 'file2_line3']\n",
      "['file3_line1\\n', 'file3_line2\\n', 'file3_line3']\n"
     ]
    }
   ],
   "execution_count": 3
  },
  {
   "metadata": {
    "ExecuteTime": {
     "end_time": "2024-08-31T13:04:01.906292Z",
     "start_time": "2024-08-31T13:04:01.902127Z"
    }
   },
   "cell_type": "code",
   "source": "from contextlib import contextmanager",
   "id": "9a3cad43c8819e9f",
   "outputs": [],
   "execution_count": 4
  },
  {
   "metadata": {
    "ExecuteTime": {
     "end_time": "2024-08-31T14:41:00.283809Z",
     "start_time": "2024-08-31T14:41:00.279078Z"
    }
   },
   "cell_type": "code",
   "source": [
    "@contextmanager\n",
    "def open_file(f_name):\n",
    "    print(f'opening {f_name}')\n",
    "    f = open(f_name)\n",
    "    try:\n",
    "        yield f\n",
    "    finally:\n",
    "        print(f\"closing{f_name}\")\n",
    "        f.close()"
   ],
   "id": "aba2c4580bf5ba4",
   "outputs": [],
   "execution_count": 5
  },
  {
   "metadata": {
    "ExecuteTime": {
     "end_time": "2024-08-31T14:51:36.500676Z",
     "start_time": "2024-08-31T14:51:36.496123Z"
    }
   },
   "cell_type": "code",
   "source": [
    "f_names = 'file1.txt', 'file2.txt', 'file3.txt'\n",
    "\n",
    "exits = []\n",
    "enters = []\n",
    "\n",
    "for f_name in f_names:\n",
    "    ctx = open_file(f_name)\n",
    "    enters.append(ctx.__enter__)\n",
    "    exits.append(ctx.__exit__)"
   ],
   "id": "cbda7d85aa3a617d",
   "outputs": [],
   "execution_count": 9
  },
  {
   "metadata": {
    "ExecuteTime": {
     "end_time": "2024-08-31T14:52:21.192618Z",
     "start_time": "2024-08-31T14:52:21.188385Z"
    }
   },
   "cell_type": "code",
   "source": "files = [enter() for enter in enters]",
   "id": "69f7bdf3bcf4c6c6",
   "outputs": [
    {
     "name": "stdout",
     "output_type": "stream",
     "text": [
      "opening file1.txt\n",
      "opening file2.txt\n",
      "opening file3.txt\n"
     ]
    }
   ],
   "execution_count": 10
  },
  {
   "metadata": {
    "ExecuteTime": {
     "end_time": "2024-08-31T14:57:11.693526Z",
     "start_time": "2024-08-31T14:57:11.688411Z"
    }
   },
   "cell_type": "code",
   "source": [
    "while True:\n",
    "    try:\n",
    "        rows = [next(file).strip() for file in files]\n",
    "    except StopIteration:\n",
    "        break\n",
    "    else:\n",
    "        row = ','.join(rows)\n",
    "        print(row)"
   ],
   "id": "34d5707c06990a2",
   "outputs": [
    {
     "name": "stdout",
     "output_type": "stream",
     "text": [
      "file1_line1,file2_line1,file3_line1\n",
      "file1_line2,file2_line2,file3_line2\n",
      "file1_line3,file2_line3,file3_line3\n"
     ]
    }
   ],
   "execution_count": 11
  },
  {
   "metadata": {
    "ExecuteTime": {
     "end_time": "2024-08-31T15:00:15.061796Z",
     "start_time": "2024-08-31T15:00:15.058497Z"
    }
   },
   "cell_type": "code",
   "source": [
    "for exit in exits[::-1]:\n",
    "    exit(None, None, None)"
   ],
   "id": "6edd614b0dc7bddc",
   "outputs": [
    {
     "name": "stdout",
     "output_type": "stream",
     "text": [
      "closingfile3.txt\n",
      "closingfile2.txt\n",
      "closingfile1.txt\n"
     ]
    }
   ],
   "execution_count": 13
  },
  {
   "metadata": {
    "ExecuteTime": {
     "end_time": "2024-08-31T15:04:00.337010Z",
     "start_time": "2024-08-31T15:04:00.331016Z"
    }
   },
   "cell_type": "code",
   "source": [
    "f_names = 'file1.txt', 'file2.txt', 'file3.txt'\n",
    "\n",
    "# Creating contex managers\n",
    "exits = []\n",
    "enters = []\n",
    "\n",
    "for f_name in f_names:\n",
    "    ctx = open_file(f_name)\n",
    "    enters.append(ctx.__enter__)\n",
    "    exits.append(ctx.__exit__)\n",
    "    \n",
    "# Entering context managers\n",
    "files = [enter() for enter in enters]\n",
    "\n",
    "# Do work\n",
    "while True:\n",
    "    try:\n",
    "        rows = [next(file).strip() for file in files]\n",
    "    except StopIteration:\n",
    "        break\n",
    "    else:\n",
    "        row = ','.join(rows)\n",
    "        print(row)\n",
    "    \n",
    "# Exiting context manager\n",
    "for exit in exits[::-1]:\n",
    "    exit(None, None, None)"
   ],
   "id": "175810ad5f2d40fa",
   "outputs": [
    {
     "name": "stdout",
     "output_type": "stream",
     "text": [
      "opening file1.txt\n",
      "opening file2.txt\n",
      "opening file3.txt\n",
      "file1_line1,file2_line1,file3_line1\n",
      "file1_line2,file2_line2,file3_line2\n",
      "file1_line3,file2_line3,file3_line3\n",
      "closingfile3.txt\n",
      "closingfile2.txt\n",
      "closingfile1.txt\n"
     ]
    }
   ],
   "execution_count": 14
  },
  {
   "metadata": {
    "ExecuteTime": {
     "end_time": "2024-08-31T15:30:19.468419Z",
     "start_time": "2024-08-31T15:30:19.463182Z"
    }
   },
   "cell_type": "code",
   "source": [
    "class NestedContexts:\n",
    "    def __init__(self):\n",
    "        self.exits = []\n",
    "\n",
    "    def __enter__(self):\n",
    "        return self\n",
    "    \n",
    "    def enter_context(self, ctx):\n",
    "        self.exits.append(ctx.__exit__)\n",
    "        return ctx.__enter__()\n",
    "    \n",
    "    def __exit__(self, exc_type, exc_val, exc_tb):\n",
    "        for exit in self.exits[::-1]:\n",
    "            exit(exc_type, exc_val, exc_tb)\n",
    "        return False"
   ],
   "id": "78048669db16145d",
   "outputs": [],
   "execution_count": 33
  },
  {
   "metadata": {
    "ExecuteTime": {
     "end_time": "2024-08-31T15:31:22.244709Z",
     "start_time": "2024-08-31T15:31:22.238872Z"
    }
   },
   "cell_type": "code",
   "source": [
    "f_names = 'file1.txt', 'file2.txt', 'file3.txt'\n",
    "\n",
    "with NestedContexts() as stack:\n",
    "    files = [stack.enter_context(open_file(f)) for f in f_names]\n",
    "    while True:\n",
    "        try:\n",
    "            rows = [next(file).strip() for file in files]\n",
    "        except StopIteration:\n",
    "            break\n",
    "        else:\n",
    "            row = ','.join(rows)\n",
    "            print(row)"
   ],
   "id": "c9f020d45adf9628",
   "outputs": [
    {
     "name": "stdout",
     "output_type": "stream",
     "text": [
      "opening file1.txt\n",
      "opening file2.txt\n",
      "opening file3.txt\n",
      "file1_line1,file2_line1,file3_line1\n",
      "file1_line2,file2_line2,file3_line2\n",
      "file1_line3,file2_line3,file3_line3\n",
      "closingfile3.txt\n",
      "closingfile2.txt\n",
      "closingfile1.txt\n"
     ]
    }
   ],
   "execution_count": 34
  },
  {
   "metadata": {
    "ExecuteTime": {
     "end_time": "2024-08-31T15:32:57.033442Z",
     "start_time": "2024-08-31T15:32:57.029555Z"
    }
   },
   "cell_type": "code",
   "source": "from contextlib import ExitStack",
   "id": "11f79ddf2dee482d",
   "outputs": [],
   "execution_count": 35
  },
  {
   "metadata": {
    "ExecuteTime": {
     "end_time": "2024-08-31T15:35:25.958749Z",
     "start_time": "2024-08-31T15:35:25.953471Z"
    }
   },
   "cell_type": "code",
   "source": [
    "f_names = 'file1.txt', 'file2.txt', 'file3.txt'\n",
    "\n",
    "with ExitStack() as stack:\n",
    "    files = [stack.enter_context(open(f)) for f in f_names]\n",
    "    while True:\n",
    "        try:\n",
    "            rows = [next(file).strip() for file in files]\n",
    "        except StopIteration:\n",
    "            break\n",
    "        else:\n",
    "            row = ','.join(rows)\n",
    "            print(row)"
   ],
   "id": "c0ff8b976816d24",
   "outputs": [
    {
     "name": "stdout",
     "output_type": "stream",
     "text": [
      "file1_line1,file2_line1,file3_line1\n",
      "file1_line2,file2_line2,file3_line2\n",
      "file1_line3,file2_line3,file3_line3\n"
     ]
    }
   ],
   "execution_count": 37
  },
  {
   "metadata": {},
   "cell_type": "code",
   "outputs": [],
   "execution_count": null,
   "source": "",
   "id": "941b7c94a5bc6d6b"
  }
 ],
 "metadata": {
  "kernelspec": {
   "display_name": "Python 3",
   "language": "python",
   "name": "python3"
  },
  "language_info": {
   "codemirror_mode": {
    "name": "ipython",
    "version": 2
   },
   "file_extension": ".py",
   "mimetype": "text/x-python",
   "name": "python",
   "nbconvert_exporter": "python",
   "pygments_lexer": "ipython2",
   "version": "2.7.6"
  }
 },
 "nbformat": 4,
 "nbformat_minor": 5
}
