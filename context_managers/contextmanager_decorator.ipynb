{
 "cells": [
  {
   "cell_type": "code",
   "id": "initial_id",
   "metadata": {
    "collapsed": true,
    "ExecuteTime": {
     "end_time": "2024-08-31T12:07:33.458014Z",
     "start_time": "2024-08-31T12:07:33.454817Z"
    }
   },
   "source": [
    "def open_file(fname, mode='r'):\n",
    "    print('opening file...')\n",
    "    f = open(fname, mode)\n",
    "    try:\n",
    "        yield f\n",
    "    finally:\n",
    "        print('closing file...')\n",
    "        f.close()"
   ],
   "outputs": [],
   "execution_count": 4
  },
  {
   "metadata": {
    "ExecuteTime": {
     "end_time": "2024-08-31T12:07:33.756187Z",
     "start_time": "2024-08-31T12:07:33.750878Z"
    }
   },
   "cell_type": "code",
   "source": [
    "class GenContextManager:\n",
    "    def __init__(self, gen):\n",
    "        self.gen = gen\n",
    "    \n",
    "    def __enter__(self):\n",
    "        print('calling next to get the yield value from generator')\n",
    "        return next(self.gen)\n",
    "    \n",
    "    def __exit__(self, exc_type, exc_val, exc_tb):\n",
    "        print('calling next to perform cleanup in generator')\n",
    "        try:\n",
    "            next(self.gen)\n",
    "        except StopIteration:\n",
    "            pass\n",
    "        return False"
   ],
   "id": "8a985555613a26ff",
   "outputs": [],
   "execution_count": 5
  },
  {
   "metadata": {
    "ExecuteTime": {
     "end_time": "2024-08-31T12:07:34.071506Z",
     "start_time": "2024-08-31T12:07:34.065184Z"
    }
   },
   "cell_type": "code",
   "source": [
    "file_gen = open_file('test.txt', 'w')\n",
    "with GenContextManager(file_gen) as f:\n",
    "    f.writelines(\"It's A-Me\")"
   ],
   "id": "623078c103ec78e8",
   "outputs": [
    {
     "name": "stdout",
     "output_type": "stream",
     "text": [
      "calling next to get the yield value from generator\n",
      "opening file...\n",
      "calling next to perform cleanup in generator\n",
      "closing file...\n"
     ]
    }
   ],
   "execution_count": 6
  },
  {
   "metadata": {
    "ExecuteTime": {
     "end_time": "2024-08-31T12:13:08.213115Z",
     "start_time": "2024-08-31T12:13:08.209058Z"
    }
   },
   "cell_type": "code",
   "source": [
    "def context_manager_dec(gen_fn):\n",
    "    def helper(*args, **kwargs):\n",
    "        gen = gen_fn(*args, **kwargs)\n",
    "        ctx = GenContextManager(gen)\n",
    "        return ctx\n",
    "    return helper"
   ],
   "id": "eb247bf977e35b94",
   "outputs": [],
   "execution_count": 7
  },
  {
   "metadata": {
    "ExecuteTime": {
     "end_time": "2024-08-31T12:19:31.406550Z",
     "start_time": "2024-08-31T12:19:31.403249Z"
    }
   },
   "cell_type": "code",
   "source": [
    "@context_manager_dec\n",
    "def open_file(fname, mode='r'):\n",
    "    print('opening file...')\n",
    "    f = open(fname, mode)\n",
    "    try:\n",
    "        yield f\n",
    "    finally:\n",
    "        print('closing file...')\n",
    "        f.close()"
   ],
   "id": "3ba0eb1247f4fa4f",
   "outputs": [],
   "execution_count": 8
  },
  {
   "metadata": {
    "ExecuteTime": {
     "end_time": "2024-08-31T12:19:55.020602Z",
     "start_time": "2024-08-31T12:19:55.016572Z"
    }
   },
   "cell_type": "code",
   "source": [
    "with open_file('test.txt') as f:\n",
    "    print(f.readlines())"
   ],
   "id": "85b8879ac897f0",
   "outputs": [
    {
     "name": "stdout",
     "output_type": "stream",
     "text": [
      "calling next to get the yield value from generator\n",
      "opening file...\n",
      "[\"It's A-Me\"]\n",
      "calling next to perform cleanup in generator\n",
      "closing file...\n"
     ]
    }
   ],
   "execution_count": 9
  },
  {
   "metadata": {
    "ExecuteTime": {
     "end_time": "2024-08-31T12:23:16.774202Z",
     "start_time": "2024-08-31T12:23:16.770818Z"
    }
   },
   "cell_type": "code",
   "source": "from contextlib import contextmanager",
   "id": "becac3b3fccdd527",
   "outputs": [],
   "execution_count": 10
  },
  {
   "metadata": {
    "ExecuteTime": {
     "end_time": "2024-08-31T12:23:32.541727Z",
     "start_time": "2024-08-31T12:23:32.538220Z"
    }
   },
   "cell_type": "code",
   "source": [
    "@contextmanager\n",
    "def open_file(fname, mode='r'):\n",
    "    print('opening file...')\n",
    "    f = open(fname, mode)\n",
    "    try:\n",
    "        yield f\n",
    "    finally:\n",
    "        print('closing file...')\n",
    "        f.close()"
   ],
   "id": "6fe981b8bf1db7e5",
   "outputs": [],
   "execution_count": 11
  },
  {
   "metadata": {
    "ExecuteTime": {
     "end_time": "2024-08-31T12:23:50.542880Z",
     "start_time": "2024-08-31T12:23:50.539407Z"
    }
   },
   "cell_type": "code",
   "source": [
    "with open_file('test.txt') as f:\n",
    "    print(f.readlines())"
   ],
   "id": "3af897aaf16a524f",
   "outputs": [
    {
     "name": "stdout",
     "output_type": "stream",
     "text": [
      "opening file...\n",
      "[\"It's A-Me\"]\n",
      "closing file...\n"
     ]
    }
   ],
   "execution_count": 12
  },
  {
   "metadata": {
    "ExecuteTime": {
     "end_time": "2024-08-31T12:26:53.409562Z",
     "start_time": "2024-08-31T12:26:53.405620Z"
    }
   },
   "cell_type": "code",
   "source": "from time import perf_counter, sleep",
   "id": "51d3f68dc165335f",
   "outputs": [],
   "execution_count": 13
  },
  {
   "metadata": {
    "ExecuteTime": {
     "end_time": "2024-08-31T12:30:05.710005Z",
     "start_time": "2024-08-31T12:30:05.706026Z"
    }
   },
   "cell_type": "code",
   "source": [
    "@contextmanager\n",
    "def timer():\n",
    "    stats = dict()\n",
    "    start = perf_counter()\n",
    "    stats['start'] = start\n",
    "    try:\n",
    "        yield stats\n",
    "    finally:\n",
    "        end = perf_counter()\n",
    "        stats['end'] = end\n",
    "        stats['elapsed'] = end - start"
   ],
   "id": "27ac98c3e8d7a167",
   "outputs": [],
   "execution_count": 15
  },
  {
   "metadata": {
    "ExecuteTime": {
     "end_time": "2024-08-31T12:30:29.733557Z",
     "start_time": "2024-08-31T12:30:28.730562Z"
    }
   },
   "cell_type": "code",
   "source": [
    "with timer() as stats:\n",
    "    sleep(1)"
   ],
   "id": "c113e3fd8875b698",
   "outputs": [],
   "execution_count": 17
  },
  {
   "metadata": {
    "ExecuteTime": {
     "end_time": "2024-08-31T12:30:35.212241Z",
     "start_time": "2024-08-31T12:30:35.207832Z"
    }
   },
   "cell_type": "code",
   "source": "print(stats)",
   "id": "b7e388719a87e140",
   "outputs": [
    {
     "name": "stdout",
     "output_type": "stream",
     "text": [
      "{'start': 20538.092390361, 'end': 20539.092469423, 'elapsed': 1.0000790620033513}\n"
     ]
    }
   ],
   "execution_count": 18
  },
  {
   "metadata": {
    "ExecuteTime": {
     "end_time": "2024-08-31T12:31:20.070719Z",
     "start_time": "2024-08-31T12:31:20.067619Z"
    }
   },
   "cell_type": "code",
   "source": "import sys",
   "id": "6d8feafff8f74bb0",
   "outputs": [],
   "execution_count": 19
  },
  {
   "metadata": {
    "ExecuteTime": {
     "end_time": "2024-08-31T12:32:52.804582Z",
     "start_time": "2024-08-31T12:32:52.801166Z"
    }
   },
   "cell_type": "code",
   "source": [
    "@contextmanager\n",
    "def out_to_file(fname):\n",
    "    current = sys.stdout\n",
    "    file = open(fname, 'w')\n",
    "    sys.stdout = file\n",
    "    try:\n",
    "        yield None\n",
    "    finally:\n",
    "        file.close()\n",
    "        sys.stdout = current"
   ],
   "id": "b89c36e4cca1f008",
   "outputs": [],
   "execution_count": 20
  },
  {
   "metadata": {
    "ExecuteTime": {
     "end_time": "2024-08-31T12:33:15.703986Z",
     "start_time": "2024-08-31T12:33:15.700548Z"
    }
   },
   "cell_type": "code",
   "source": [
    "with out_to_file('test.txt'):\n",
    "    print('line 1')"
   ],
   "id": "ed7ab959e0e9cb39",
   "outputs": [],
   "execution_count": 21
  },
  {
   "metadata": {
    "ExecuteTime": {
     "end_time": "2024-08-31T12:33:33.282873Z",
     "start_time": "2024-08-31T12:33:33.280229Z"
    }
   },
   "cell_type": "code",
   "source": "print('hello')",
   "id": "94379154f360fb3e",
   "outputs": [
    {
     "name": "stdout",
     "output_type": "stream",
     "text": [
      "hello\n"
     ]
    }
   ],
   "execution_count": 22
  },
  {
   "metadata": {
    "ExecuteTime": {
     "end_time": "2024-08-31T12:34:06.514813Z",
     "start_time": "2024-08-31T12:34:06.510017Z"
    }
   },
   "cell_type": "code",
   "source": [
    "with open_file('test.txt', 'r') as f:\n",
    "    print(f.readline())"
   ],
   "id": "e426ce0b26383d9e",
   "outputs": [
    {
     "name": "stdout",
     "output_type": "stream",
     "text": [
      "opening file...\n",
      "line 1\n",
      "\n",
      "closing file...\n"
     ]
    }
   ],
   "execution_count": 23
  },
  {
   "metadata": {
    "ExecuteTime": {
     "end_time": "2024-08-31T12:34:52.585341Z",
     "start_time": "2024-08-31T12:34:52.582624Z"
    }
   },
   "cell_type": "code",
   "source": "from contextlib import redirect_stdout",
   "id": "dd93ccd2726b73c4",
   "outputs": [],
   "execution_count": 24
  },
  {
   "metadata": {
    "ExecuteTime": {
     "end_time": "2024-08-31T12:37:32.660030Z",
     "start_time": "2024-08-31T12:37:32.657060Z"
    }
   },
   "cell_type": "code",
   "source": [
    "with open('test.txt', 'w') as f:\n",
    "    with redirect_stdout(f):\n",
    "        print('For the King!')"
   ],
   "id": "4f79c2838c5241e",
   "outputs": [],
   "execution_count": 25
  },
  {
   "metadata": {
    "ExecuteTime": {
     "end_time": "2024-08-31T12:38:00.014712Z",
     "start_time": "2024-08-31T12:38:00.010893Z"
    }
   },
   "cell_type": "code",
   "source": [
    "with open('test.txt') as f:\n",
    "    print(f.readline())"
   ],
   "id": "7161eccc674866b2",
   "outputs": [
    {
     "name": "stdout",
     "output_type": "stream",
     "text": [
      "For the King!\n",
      "\n"
     ]
    }
   ],
   "execution_count": 26
  },
  {
   "metadata": {},
   "cell_type": "code",
   "outputs": [],
   "execution_count": null,
   "source": "",
   "id": "7dbc02a72bb368c2"
  }
 ],
 "metadata": {
  "kernelspec": {
   "display_name": "Python 3",
   "language": "python",
   "name": "python3"
  },
  "language_info": {
   "codemirror_mode": {
    "name": "ipython",
    "version": 2
   },
   "file_extension": ".py",
   "mimetype": "text/x-python",
   "name": "python",
   "nbconvert_exporter": "python",
   "pygments_lexer": "ipython2",
   "version": "2.7.6"
  }
 },
 "nbformat": 4,
 "nbformat_minor": 5
}
