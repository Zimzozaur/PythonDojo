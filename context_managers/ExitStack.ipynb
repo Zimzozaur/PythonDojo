{
 "cells": [
  {
   "cell_type": "code",
   "id": "initial_id",
   "metadata": {
    "collapsed": true,
    "ExecuteTime": {
     "end_time": "2024-11-14T14:04:44.076313Z",
     "start_time": "2024-11-14T14:04:44.072912Z"
    }
   },
   "source": [
    "import sys\n",
    "from typing import IO\n",
    "from contextlib import contextmanager, nullcontext, ExitStack\n",
    "import webbrowser\n",
    "import io\n",
    "from timeit import timeit"
   ],
   "outputs": [],
   "execution_count": 189
  },
  {
   "metadata": {
    "ExecuteTime": {
     "end_time": "2024-11-14T11:24:01.568155Z",
     "start_time": "2024-11-14T11:24:01.563861Z"
    }
   },
   "cell_type": "code",
   "source": [
    "def output_line(\n",
    "    s: str,\n",
    "    stream: IO[str],\n",
    "    *,\n",
    "    filename: str | None = None\n",
    ") -> None:\n",
    "    if filename is not None:\n",
    "        with open(filename, 'w') as f:\n",
    "            f.write(f\"{s}\\n\")\n",
    "    else:\n",
    "        stream.write(f\"{s}\\n\")"
   ],
   "id": "2393b81298fd3d6a",
   "outputs": [],
   "execution_count": 62
  },
  {
   "metadata": {
    "ExecuteTime": {
     "end_time": "2024-11-14T11:24:01.846177Z",
     "start_time": "2024-11-14T11:24:01.841703Z"
    }
   },
   "cell_type": "code",
   "source": "output_line(\"hello world\", stream=sys.stdout)",
   "id": "8d36ffeb1bcdb9fa",
   "outputs": [
    {
     "name": "stdout",
     "output_type": "stream",
     "text": [
      "hello world\n"
     ]
    }
   ],
   "execution_count": 63
  },
  {
   "metadata": {
    "ExecuteTime": {
     "end_time": "2024-11-14T11:24:02.123195Z",
     "start_time": "2024-11-14T11:24:02.118599Z"
    }
   },
   "cell_type": "code",
   "source": "output_line(\"hello world\", stream=sys.stdout, filename='output.txt')",
   "id": "6bc71aac87c7a14e",
   "outputs": [],
   "execution_count": 64
  },
  {
   "metadata": {
    "ExecuteTime": {
     "end_time": "2024-11-14T11:24:02.473350Z",
     "start_time": "2024-11-14T11:24:02.467227Z"
    }
   },
   "cell_type": "code",
   "source": [
    "def output_line(\n",
    "        s: str,\n",
    "        stream: IO[str],\n",
    "        *,\n",
    "        filename: str | None = None\n",
    ") -> None:\n",
    "    \n",
    "    if filename is not None:\n",
    "        f = open(filename, 'w')\n",
    "        streams = stream, f\n",
    "        ctx = f\n",
    "    else:\n",
    "        streams = stream,\n",
    "        ctx = nullcontext()\n",
    "    \n",
    "    with ctx:\n",
    "        for output_stream in streams:\n",
    "            output_stream.write(f\"{s}\\n\")"
   ],
   "id": "631cfcedcb012d85",
   "outputs": [],
   "execution_count": 65
  },
  {
   "metadata": {
    "ExecuteTime": {
     "end_time": "2024-11-14T11:24:03.191723Z",
     "start_time": "2024-11-14T11:24:03.186253Z"
    }
   },
   "cell_type": "code",
   "source": "output_line(\"mario\", stream=sys.stdout)",
   "id": "4b2a78702d79a258",
   "outputs": [
    {
     "name": "stdout",
     "output_type": "stream",
     "text": [
      "mario\n"
     ]
    }
   ],
   "execution_count": 66
  },
  {
   "metadata": {
    "ExecuteTime": {
     "end_time": "2024-11-14T11:24:03.520769Z",
     "start_time": "2024-11-14T11:24:03.514297Z"
    }
   },
   "cell_type": "code",
   "source": "output_line(\"mario\", stream=sys.stdout, filename='output.txt')",
   "id": "7d7b6e5499fc13c4",
   "outputs": [
    {
     "name": "stdout",
     "output_type": "stream",
     "text": [
      "mario\n"
     ]
    }
   ],
   "execution_count": 67
  },
  {
   "metadata": {
    "ExecuteTime": {
     "end_time": "2024-11-14T11:29:39.114804Z",
     "start_time": "2024-11-14T11:29:39.108805Z"
    }
   },
   "cell_type": "code",
   "source": [
    "def output_line(\n",
    "        s: str,\n",
    "        stream: IO[str],\n",
    "        *,\n",
    "        filename: str | None = None\n",
    ") -> None:\n",
    "    with ExitStack() as ctx:\n",
    "        streams = [stream]\n",
    "        if filename is not None:\n",
    "            streams.append(ctx.enter_context(open(filename, 'w')))\n",
    "        \n",
    "        for output_stream in streams:\n",
    "            output_stream.write(f\"{s}\\n\")"
   ],
   "id": "577c20a42daa73cb",
   "outputs": [],
   "execution_count": 71
  },
  {
   "metadata": {
    "ExecuteTime": {
     "end_time": "2024-11-14T11:29:39.671539Z",
     "start_time": "2024-11-14T11:29:39.667099Z"
    }
   },
   "cell_type": "code",
   "source": "output_line(\"luigi\", stream=sys.stdout)",
   "id": "890521d2fccab948",
   "outputs": [
    {
     "name": "stdout",
     "output_type": "stream",
     "text": [
      "luigi\n"
     ]
    }
   ],
   "execution_count": 72
  },
  {
   "metadata": {
    "ExecuteTime": {
     "end_time": "2024-11-14T11:29:40.112818Z",
     "start_time": "2024-11-14T11:29:40.108583Z"
    }
   },
   "cell_type": "code",
   "source": "output_line(\"luigi\", stream=sys.stdout, filename='output.txt')",
   "id": "833c8fd98c300aeb",
   "outputs": [
    {
     "name": "stdout",
     "output_type": "stream",
     "text": [
      "luigi\n"
     ]
    }
   ],
   "execution_count": 73
  },
  {
   "metadata": {
    "ExecuteTime": {
     "end_time": "2024-11-14T12:21:16.118552Z",
     "start_time": "2024-11-14T12:21:16.114370Z"
    }
   },
   "cell_type": "code",
   "source": [
    "class Tag:\n",
    "    def __init__(self, tag):\n",
    "        self.tag = tag\n",
    "\n",
    "    def __enter__(self):\n",
    "        global string\n",
    "        string += f\"<{self.tag}>\\n\"\n",
    "\n",
    "    def __exit__(self, exc_type, exc_val, exc_tb):\n",
    "        global string\n",
    "        string += f\"</{self.tag}>\\n\""
   ],
   "id": "4cb841ba4e2d0457",
   "outputs": [],
   "execution_count": 175
  },
  {
   "metadata": {
    "ExecuteTime": {
     "end_time": "2024-11-14T12:21:17.123169Z",
     "start_time": "2024-11-14T12:21:17.118799Z"
    }
   },
   "cell_type": "code",
   "source": [
    "string = \"\"\n",
    "with Tag(\"html\"):\n",
    "    with Tag(\"body\"):\n",
    "        with Tag(\"h1\"):\n",
    "            print(\"mario\")"
   ],
   "id": "cc86bcb95b9afb14",
   "outputs": [
    {
     "name": "stdout",
     "output_type": "stream",
     "text": [
      "mario\n"
     ]
    }
   ],
   "execution_count": 176
  },
  {
   "metadata": {
    "ExecuteTime": {
     "end_time": "2024-11-14T12:21:20.460108Z",
     "start_time": "2024-11-14T12:21:20.455078Z"
    }
   },
   "cell_type": "code",
   "source": [
    "string = \"\"\n",
    "with ExitStack() as ctx:\n",
    "    ctx.enter_context(Tag(\"html\"))\n",
    "    ctx.enter_context(Tag(\"body\"))\n",
    "    ctx.enter_context(Tag('h1'))\n",
    "    string += \"Mario 64\\n\"\n",
    "    with Tag('h2'):\n",
    "        string += \"Delux Edition\\n\"\n",
    "    "
   ],
   "id": "2bc5fd75791b6f4a",
   "outputs": [],
   "execution_count": 177
  },
  {
   "metadata": {
    "ExecuteTime": {
     "end_time": "2024-11-14T12:21:20.838031Z",
     "start_time": "2024-11-14T12:21:20.833295Z"
    }
   },
   "cell_type": "code",
   "source": [
    "with open(\"index.html\", 'w') as file:\n",
    "    file.write(string)"
   ],
   "id": "b50093d397f76d5e",
   "outputs": [],
   "execution_count": 178
  },
  {
   "metadata": {
    "ExecuteTime": {
     "end_time": "2024-11-14T12:21:21.638315Z",
     "start_time": "2024-11-14T12:21:21.631950Z"
    }
   },
   "cell_type": "code",
   "source": "webbrowser.open(\"index.html\")",
   "id": "58599e420526982f",
   "outputs": [
    {
     "data": {
      "text/plain": [
       "True"
      ]
     },
     "execution_count": 179,
     "metadata": {},
     "output_type": "execute_result"
    }
   ],
   "execution_count": 179
  },
  {
   "metadata": {
    "ExecuteTime": {
     "end_time": "2024-11-14T14:01:56.526558Z",
     "start_time": "2024-11-14T14:01:56.519127Z"
    }
   },
   "cell_type": "code",
   "source": [
    "class Tag:\n",
    "    def __init__(self, tag):\n",
    "        self.tag = tag\n",
    "\n",
    "    def __enter__(self):\n",
    "        global string\n",
    "        string += f\"<{self.tag}>\\n\"\n",
    "\n",
    "    def __exit__(self, exc_type, exc_val, exc_tb):\n",
    "        global string\n",
    "        string += f\"</{self.tag}>\\n\"\n",
    "string = \"\"\n",
    "with ExitStack() as ctx:\n",
    "    ctx.enter_context(Tag(\"html\"))\n",
    "    ctx.enter_context(Tag(\"body\"))\n",
    "    ctx.enter_context(Tag('h1'))\n",
    "    string += \"Mario 64\\n\"\n",
    "    with Tag('h2'):\n",
    "        string += \"Delux Edition\\n\"\n",
    "print(string)"
   ],
   "id": "e6a777e6d4de8f8a",
   "outputs": [
    {
     "name": "stdout",
     "output_type": "stream",
     "text": [
      "<html>\n",
      "<body>\n",
      "<h1>\n",
      "Mario 64\n",
      "<h2>\n",
      "Delux Edition\n",
      "</h2>\n",
      "</h1>\n",
      "</body>\n",
      "</html>\n",
      "\n"
     ]
    }
   ],
   "execution_count": 181
  },
  {
   "metadata": {
    "ExecuteTime": {
     "end_time": "2024-11-14T14:14:44.462785Z",
     "start_time": "2024-11-14T14:14:44.459151Z"
    }
   },
   "cell_type": "code",
   "source": [
    "def build_with_stream():\n",
    "    with io.StringIO() as s:\n",
    "        for _ in range(10**4):\n",
    "            s.write(\"mario\")"
   ],
   "id": "9e24181750c09b3c",
   "outputs": [],
   "execution_count": 223
  },
  {
   "metadata": {
    "ExecuteTime": {
     "end_time": "2024-11-14T14:14:45.167624Z",
     "start_time": "2024-11-14T14:14:44.584584Z"
    }
   },
   "cell_type": "code",
   "source": "timeit(\"build_with_stream()\", number=1000, globals=globals())",
   "id": "7436cde64a0e13f3",
   "outputs": [
    {
     "data": {
      "text/plain": [
       "0.580075730002136"
      ]
     },
     "execution_count": 224,
     "metadata": {},
     "output_type": "execute_result"
    }
   ],
   "execution_count": 224
  },
  {
   "metadata": {
    "ExecuteTime": {
     "end_time": "2024-11-14T14:14:45.577489Z",
     "start_time": "2024-11-14T14:14:45.573537Z"
    }
   },
   "cell_type": "code",
   "source": [
    "def build_with_concat():\n",
    "    s = \"\"\n",
    "    for _ in range(10**4):\n",
    "        s += \"mario\""
   ],
   "id": "ee9977606b20e70",
   "outputs": [],
   "execution_count": 225
  },
  {
   "metadata": {
    "ExecuteTime": {
     "end_time": "2024-11-14T14:14:46.467804Z",
     "start_time": "2024-11-14T14:14:45.734025Z"
    }
   },
   "cell_type": "code",
   "source": "timeit(\"build_with_concat()\", number=1000, globals=globals())",
   "id": "bb0dbbb6c8c7fdc0",
   "outputs": [
    {
     "data": {
      "text/plain": [
       "0.7299396870002965"
      ]
     },
     "execution_count": 226,
     "metadata": {},
     "output_type": "execute_result"
    }
   ],
   "execution_count": 226
  },
  {
   "metadata": {},
   "cell_type": "code",
   "outputs": [],
   "execution_count": null,
   "source": "",
   "id": "d2aafad2d446f55d"
  }
 ],
 "metadata": {
  "kernelspec": {
   "display_name": "Python 3",
   "language": "python",
   "name": "python3"
  },
  "language_info": {
   "codemirror_mode": {
    "name": "ipython",
    "version": 2
   },
   "file_extension": ".py",
   "mimetype": "text/x-python",
   "name": "python",
   "nbconvert_exporter": "python",
   "pygments_lexer": "ipython2",
   "version": "2.7.6"
  }
 },
 "nbformat": 4,
 "nbformat_minor": 5
}
