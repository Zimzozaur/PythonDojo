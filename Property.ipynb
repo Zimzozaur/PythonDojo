{
 "cells": [
  {
   "cell_type": "code",
   "execution_count": 1,
   "id": "initial_id",
   "metadata": {
    "collapsed": true,
    "ExecuteTime": {
     "end_time": "2024-03-27T10:36:53.939135Z",
     "start_time": "2024-03-27T10:36:53.935818Z"
    }
   },
   "outputs": [],
   "source": [
    "class Person:\n",
    "    def __init__(self, name, age, city):\n",
    "        self.name = name\n",
    "        self.age = age\n",
    "        self.city = city\n",
    "        \n",
    "    @property\n",
    "    def hello(self):\n",
    "        return f'Hi, my name is {self.name}. I am from {self.city}'"
   ]
  },
  {
   "cell_type": "code",
   "outputs": [],
   "source": [
    "guy = Person('Simon', 23, 'Austin')"
   ],
   "metadata": {
    "collapsed": false,
    "ExecuteTime": {
     "end_time": "2024-03-27T10:37:19.396167Z",
     "start_time": "2024-03-27T10:37:19.392937Z"
    }
   },
   "id": "a6596a1d65ebade7",
   "execution_count": 3
  },
  {
   "cell_type": "code",
   "outputs": [
    {
     "data": {
      "text/plain": "'Hi, my name is Simon. I am from Austin'"
     },
     "execution_count": 6,
     "metadata": {},
     "output_type": "execute_result"
    }
   ],
   "source": [
    "guy.hello"
   ],
   "metadata": {
    "collapsed": false,
    "ExecuteTime": {
     "end_time": "2024-03-27T10:37:32.571476Z",
     "start_time": "2024-03-27T10:37:32.566706Z"
    }
   },
   "id": "34a16d68baaad365",
   "execution_count": 6
  },
  {
   "cell_type": "code",
   "outputs": [],
   "source": [
    "# Guy change his name now he is John"
   ],
   "metadata": {
    "collapsed": false,
    "ExecuteTime": {
     "end_time": "2024-03-27T10:39:13.869999Z",
     "start_time": "2024-03-27T10:39:13.866759Z"
    }
   },
   "id": "6e5c2c9784f4a6b9",
   "execution_count": 7
  },
  {
   "cell_type": "code",
   "outputs": [],
   "source": [
    "guy.name = \"John\""
   ],
   "metadata": {
    "collapsed": false,
    "ExecuteTime": {
     "end_time": "2024-03-27T10:39:21.301869Z",
     "start_time": "2024-03-27T10:39:21.298601Z"
    }
   },
   "id": "8bed2bc390104d98",
   "execution_count": 8
  },
  {
   "cell_type": "code",
   "outputs": [
    {
     "data": {
      "text/plain": "'Hi, my name is John. I am from Austin'"
     },
     "execution_count": 9,
     "metadata": {},
     "output_type": "execute_result"
    }
   ],
   "source": [
    "guy.hello"
   ],
   "metadata": {
    "collapsed": false,
    "ExecuteTime": {
     "end_time": "2024-03-27T10:39:24.643469Z",
     "start_time": "2024-03-27T10:39:24.638266Z"
    }
   },
   "id": "ff3c1f0093b4080d",
   "execution_count": 9
  },
  {
   "cell_type": "code",
   "outputs": [],
   "source": [],
   "metadata": {
    "collapsed": false
   },
   "id": "23ae7088c1b544d2"
  }
 ],
 "metadata": {
  "kernelspec": {
   "display_name": "Python 3",
   "language": "python",
   "name": "python3"
  },
  "language_info": {
   "codemirror_mode": {
    "name": "ipython",
    "version": 2
   },
   "file_extension": ".py",
   "mimetype": "text/x-python",
   "name": "python",
   "nbconvert_exporter": "python",
   "pygments_lexer": "ipython2",
   "version": "2.7.6"
  }
 },
 "nbformat": 4,
 "nbformat_minor": 5
}
