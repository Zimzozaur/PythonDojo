{
 "cells": [
  {
   "cell_type": "code",
   "id": "initial_id",
   "metadata": {
    "collapsed": true,
    "ExecuteTime": {
     "end_time": "2024-04-29T10:20:58.098594Z",
     "start_time": "2024-04-29T10:20:58.094822Z"
    }
   },
   "source": "from collections import namedtuple",
   "execution_count": 348,
   "outputs": []
  },
  {
   "metadata": {
    "ExecuteTime": {
     "end_time": "2024-04-29T10:20:58.220157Z",
     "start_time": "2024-04-29T10:20:58.216332Z"
    }
   },
   "cell_type": "code",
   "source": "Point2D = namedtuple('Point2D', ('x', 'y'))",
   "id": "4de7a15a289bdde6",
   "execution_count": 349,
   "outputs": []
  },
  {
   "metadata": {
    "ExecuteTime": {
     "end_time": "2024-04-29T10:20:58.368587Z",
     "start_time": "2024-04-29T10:20:58.365393Z"
    }
   },
   "cell_type": "code",
   "source": "pt1 = Point2D(2, 2)",
   "id": "b7434caf263edf12",
   "execution_count": 350,
   "outputs": []
  },
  {
   "metadata": {
    "ExecuteTime": {
     "end_time": "2024-04-29T10:23:55.059881Z",
     "start_time": "2024-04-29T10:23:55.056499Z"
    }
   },
   "cell_type": "code",
   "source": [
    "Point2D = namedtuple('Point2D', ('x', 'y'))\n",
    "# Unpacking\n",
    "Point3D = namedtuple('Point3D', (*Point2D._fields, 'z'))\n",
    "# Concatenation\n",
    "Point3D = namedtuple('Point3D', Point2D._fields + ('z',))"
   ],
   "id": "a3563831be666943",
   "execution_count": 353,
   "outputs": []
  },
  {
   "metadata": {
    "ExecuteTime": {
     "end_time": "2024-04-29T10:24:29.688587Z",
     "start_time": "2024-04-29T10:24:29.685374Z"
    }
   },
   "cell_type": "code",
   "source": "pt2 = Point3D(*pt1, 2)",
   "id": "aed7c1c23b82e049",
   "execution_count": 355,
   "outputs": []
  },
  {
   "metadata": {
    "ExecuteTime": {
     "end_time": "2024-04-29T10:24:31.942526Z",
     "start_time": "2024-04-29T10:24:31.938205Z"
    }
   },
   "cell_type": "code",
   "source": "pt2",
   "id": "14ff2d4a8563b20",
   "execution_count": 356,
   "outputs": []
  },
  {
   "metadata": {
    "ExecuteTime": {
     "end_time": "2024-04-29T10:34:01.904942Z",
     "start_time": "2024-04-29T10:34:01.900180Z"
    }
   },
   "cell_type": "code",
   "source": "pt2._replace(x=1, y=2, z=3)",
   "id": "e72b4a8a0965e579",
   "execution_count": 358,
   "outputs": []
  },
  {
   "metadata": {
    "ExecuteTime": {
     "end_time": "2024-04-29T11:25:39.236914Z",
     "start_time": "2024-04-29T11:25:39.233517Z"
    }
   },
   "cell_type": "code",
   "source": "print(pt2.x.__doc__)",
   "id": "13b9aadf572a123d",
   "execution_count": 360,
   "outputs": []
  },
  {
   "metadata": {
    "ExecuteTime": {
     "end_time": "2024-04-29T11:27:05.354649Z",
     "start_time": "2024-04-29T11:27:05.350530Z"
    }
   },
   "cell_type": "code",
   "source": "print(Point2D.x.__doc__)",
   "id": "fa1b498405c7c816",
   "execution_count": 363,
   "outputs": []
  },
  {
   "metadata": {
    "ExecuteTime": {
     "end_time": "2024-04-29T11:36:49.647001Z",
     "start_time": "2024-04-29T11:36:49.642626Z"
    }
   },
   "cell_type": "code",
   "source": [
    "def func(a):\n",
    "    print(a)\n",
    "    pass\n",
    "\n",
    "func.__defaults__ = 10, 20, 30\n",
    "func()"
   ],
   "id": "b72ab60b27fd84",
   "execution_count": 366,
   "outputs": []
  },
  {
   "metadata": {
    "ExecuteTime": {
     "end_time": "2024-04-29T12:01:09.372536Z",
     "start_time": "2024-04-29T12:01:09.369013Z"
    }
   },
   "cell_type": "code",
   "source": "Vector2D = namedtuple('Vector2D', 'x1 y1 x2 y2 origin_x origin_y', defaults=(0, 0))\n",
   "id": "257e0da9104dab12",
   "execution_count": 381,
   "outputs": []
  },
  {
   "metadata": {
    "ExecuteTime": {
     "end_time": "2024-04-29T12:01:09.656764Z",
     "start_time": "2024-04-29T12:01:09.637992Z"
    }
   },
   "cell_type": "code",
   "source": [
    "v = Vector2D()\n",
    "v"
   ],
   "id": "d531681621000ee7",
   "execution_count": 382,
   "outputs": []
  },
  {
   "metadata": {
    "ExecuteTime": {
     "end_time": "2024-04-29T14:12:15.571802Z",
     "start_time": "2024-04-29T14:12:15.566584Z"
    }
   },
   "cell_type": "code",
   "source": "dir(Vector2D.__new__)",
   "id": "8e572551c1b15e12",
   "execution_count": 393,
   "outputs": []
  },
  {
   "metadata": {
    "ExecuteTime": {
     "end_time": "2024-04-29T15:32:50.090536Z",
     "start_time": "2024-04-29T15:32:50.087376Z"
    }
   },
   "cell_type": "code",
   "source": "from random import randint",
   "id": "35e4491b4f843372",
   "execution_count": 430,
   "outputs": []
  },
  {
   "metadata": {
    "ExecuteTime": {
     "end_time": "2024-04-29T15:32:50.391296Z",
     "start_time": "2024-04-29T15:32:50.386980Z"
    }
   },
   "cell_type": "code",
   "source": [
    "Color = namedtuple('Color', 'red green blue')\n",
    "def random_color():\n",
    "    red = randint(0, 255)\n",
    "    green = randint(0, 255)\n",
    "    blue = randint(0, 255)\n",
    "    return Color(red, green, blue)    "
   ],
   "id": "90caa4c3216dc541",
   "execution_count": 431,
   "outputs": []
  },
  {
   "metadata": {
    "ExecuteTime": {
     "end_time": "2024-04-29T15:32:50.638004Z",
     "start_time": "2024-04-29T15:32:50.634844Z"
    }
   },
   "cell_type": "code",
   "source": "c = random_color()",
   "id": "e993b835214ec2dd",
   "execution_count": 432,
   "outputs": []
  },
  {
   "metadata": {
    "ExecuteTime": {
     "end_time": "2024-04-29T15:32:51.032566Z",
     "start_time": "2024-04-29T15:32:51.028338Z"
    }
   },
   "cell_type": "code",
   "source": "c.blue",
   "id": "eba1932f331113ea",
   "execution_count": 433,
   "outputs": []
  },
  {
   "metadata": {
    "ExecuteTime": {
     "end_time": "2024-04-29T15:34:24.331620Z",
     "start_time": "2024-04-29T15:34:24.328331Z"
    }
   },
   "cell_type": "code",
   "source": "b = 'blue3'",
   "id": "f3db436f8fd4e076",
   "execution_count": 436,
   "outputs": []
  },
  {
   "metadata": {
    "ExecuteTime": {
     "end_time": "2024-04-29T15:34:30.233534Z",
     "start_time": "2024-04-29T15:34:30.231555Z"
    }
   },
   "cell_type": "code",
   "source": "getattr(c, b, None)",
   "id": "f5940f9af33d3acf",
   "execution_count": 438,
   "outputs": []
  },
  {
   "metadata": {
    "ExecuteTime": {
     "end_time": "2024-04-29T16:04:29.442153Z",
     "start_time": "2024-04-29T16:04:29.438042Z"
    }
   },
   "cell_type": "code",
   "source": [
    "data_list = [\n",
    "    {'key2': 1, 'key1': 2},\n",
    "    {'key1': 3, 'key2': 4},\n",
    "    {'key1': 5, 'key2': 6, 'key3': 7},\n",
    "    {'key2': 100},\n",
    "    {'key4': 345, 'key3': 456, 'key2': 567, 'key1': 678},\n",
    "]"
   ],
   "id": "87e7daa7cce881ce",
   "execution_count": 483,
   "outputs": []
  },
  {
   "metadata": {
    "ExecuteTime": {
     "end_time": "2024-04-29T16:04:30.127540Z",
     "start_time": "2024-04-29T16:04:30.124121Z"
    }
   },
   "cell_type": "code",
   "source": "keys = {key for dict_ in data_list for key in dict_.keys()}",
   "id": "828cd13a65f73616",
   "execution_count": 484,
   "outputs": []
  },
  {
   "metadata": {
    "ExecuteTime": {
     "end_time": "2024-04-29T16:04:30.333475Z",
     "start_time": "2024-04-29T16:04:30.329199Z"
    }
   },
   "cell_type": "code",
   "source": "keys",
   "id": "d85a761e458aa691",
   "execution_count": 485,
   "outputs": []
  },
  {
   "metadata": {
    "ExecuteTime": {
     "end_time": "2024-04-29T16:04:30.524991Z",
     "start_time": "2024-04-29T16:04:30.521157Z"
    }
   },
   "cell_type": "code",
   "source": [
    "Struct = namedtuple('Struct', sorted(keys))\n",
    "Struct.__new__.__defaults__ = (None,) * len(Struct._fields)"
   ],
   "id": "ff6da4a366b6f815",
   "execution_count": 486,
   "outputs": []
  },
  {
   "metadata": {
    "ExecuteTime": {
     "end_time": "2024-04-29T16:04:30.645857Z",
     "start_time": "2024-04-29T16:04:30.641215Z"
    }
   },
   "cell_type": "code",
   "source": "Struct.__new__.__defaults__",
   "id": "adae3689d44cfec1",
   "execution_count": 487,
   "outputs": []
  },
  {
   "metadata": {
    "ExecuteTime": {
     "end_time": "2024-04-29T16:04:30.833160Z",
     "start_time": "2024-04-29T16:04:30.828165Z"
    }
   },
   "cell_type": "code",
   "source": "Struct(key3=10)",
   "id": "2cf9e689e85bbfd0",
   "execution_count": 488,
   "outputs": []
  },
  {
   "metadata": {
    "ExecuteTime": {
     "end_time": "2024-04-29T16:05:22.323146Z",
     "start_time": "2024-04-29T16:05:22.318768Z"
    }
   },
   "cell_type": "code",
   "source": [
    "def dicts_to_namedtuples(dicts, name):\n",
    "    keys = {key for dict_ in dicts for key in dict_.keys()}\n",
    "    cls = namedtuple(name, sorted(keys))\n",
    "    cls.__new__.__defaults__ = (None,) * len(keys)\n",
    "    return tuple(cls(**d) for d in dicts)    "
   ],
   "id": "856dca29a5fd3fdf",
   "execution_count": 491,
   "outputs": []
  },
  {
   "metadata": {
    "ExecuteTime": {
     "end_time": "2024-04-29T16:05:23.138856Z",
     "start_time": "2024-04-29T16:05:23.133604Z"
    }
   },
   "cell_type": "code",
   "source": "dicts_to_namedtuples(data_list, 'struct')",
   "id": "d511871c65ee76d9",
   "execution_count": 492,
   "outputs": []
  },
  {
   "metadata": {},
   "cell_type": "code",
   "execution_count": null,
   "source": "",
   "id": "352f4259584fcac3",
   "outputs": []
  }
 ],
 "metadata": {
  "kernelspec": {
   "display_name": "Python 3",
   "language": "python",
   "name": "python3"
  },
  "language_info": {
   "codemirror_mode": {
    "name": "ipython",
    "version": 2
   },
   "file_extension": ".py",
   "mimetype": "text/x-python",
   "name": "python",
   "nbconvert_exporter": "python",
   "pygments_lexer": "ipython2",
   "version": "2.7.6"
  }
 },
 "nbformat": 4,
 "nbformat_minor": 5
}
