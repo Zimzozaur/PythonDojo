{
 "cells": [
  {
   "cell_type": "code",
   "id": "initial_id",
   "metadata": {
    "collapsed": true,
    "ExecuteTime": {
     "end_time": "2024-04-29T10:20:58.098594Z",
     "start_time": "2024-04-29T10:20:58.094822Z"
    }
   },
   "source": "from collections import namedtuple",
   "outputs": [],
   "execution_count": 348
  },
  {
   "metadata": {
    "ExecuteTime": {
     "end_time": "2024-04-29T10:20:58.220157Z",
     "start_time": "2024-04-29T10:20:58.216332Z"
    }
   },
   "cell_type": "code",
   "source": "Point2D = namedtuple('Point2D', ('x', 'y'))",
   "id": "4de7a15a289bdde6",
   "outputs": [],
   "execution_count": 349
  },
  {
   "metadata": {
    "ExecuteTime": {
     "end_time": "2024-04-29T10:20:58.368587Z",
     "start_time": "2024-04-29T10:20:58.365393Z"
    }
   },
   "cell_type": "code",
   "source": "pt1 = Point2D(2, 2)",
   "id": "b7434caf263edf12",
   "outputs": [],
   "execution_count": 350
  },
  {
   "metadata": {
    "ExecuteTime": {
     "end_time": "2024-04-29T10:23:55.059881Z",
     "start_time": "2024-04-29T10:23:55.056499Z"
    }
   },
   "cell_type": "code",
   "source": [
    "Point2D = namedtuple('Point2D', ('x', 'y'))\n",
    "# Unpacking\n",
    "Point3D = namedtuple('Point3D', (*Point2D._fields, 'z'))\n",
    "# Concatenation\n",
    "Point3D = namedtuple('Point3D', Point2D._fields + ('z',))"
   ],
   "id": "a3563831be666943",
   "outputs": [],
   "execution_count": 353
  },
  {
   "metadata": {
    "ExecuteTime": {
     "end_time": "2024-04-29T10:24:29.688587Z",
     "start_time": "2024-04-29T10:24:29.685374Z"
    }
   },
   "cell_type": "code",
   "source": "pt2 = Point3D(*pt1, 2)",
   "id": "aed7c1c23b82e049",
   "outputs": [],
   "execution_count": 355
  },
  {
   "metadata": {
    "ExecuteTime": {
     "end_time": "2024-04-29T10:24:31.942526Z",
     "start_time": "2024-04-29T10:24:31.938205Z"
    }
   },
   "cell_type": "code",
   "source": "pt2",
   "id": "14ff2d4a8563b20",
   "outputs": [
    {
     "data": {
      "text/plain": [
       "Point3D(x=2, y=2, z=2)"
      ]
     },
     "execution_count": 356,
     "metadata": {},
     "output_type": "execute_result"
    }
   ],
   "execution_count": 356
  },
  {
   "metadata": {
    "ExecuteTime": {
     "end_time": "2024-04-29T10:34:01.904942Z",
     "start_time": "2024-04-29T10:34:01.900180Z"
    }
   },
   "cell_type": "code",
   "source": "pt2._replace(x=1, y=2, z=3)",
   "id": "e72b4a8a0965e579",
   "outputs": [
    {
     "data": {
      "text/plain": [
       "Point3D(x=1, y=2, z=3)"
      ]
     },
     "execution_count": 358,
     "metadata": {},
     "output_type": "execute_result"
    }
   ],
   "execution_count": 358
  },
  {
   "metadata": {
    "ExecuteTime": {
     "end_time": "2024-04-29T11:25:39.236914Z",
     "start_time": "2024-04-29T11:25:39.233517Z"
    }
   },
   "cell_type": "code",
   "source": "print(pt2.x.__doc__)",
   "id": "13b9aadf572a123d",
   "outputs": [
    {
     "name": "stdout",
     "output_type": "stream",
     "text": [
      "int([x]) -> integer\n",
      "int(x, base=10) -> integer\n",
      "\n",
      "Convert a number or string to an integer, or return 0 if no arguments\n",
      "are given.  If x is a number, return x.__int__().  For floating point\n",
      "numbers, this truncates towards zero.\n",
      "\n",
      "If x is not a number or if base is given, then x must be a string,\n",
      "bytes, or bytearray instance representing an integer literal in the\n",
      "given base.  The literal can be preceded by '+' or '-' and be surrounded\n",
      "by whitespace.  The base defaults to 10.  Valid bases are 0 and 2-36.\n",
      "Base 0 means to interpret the base from the string as an integer literal.\n",
      ">>> int('0b100', base=0)\n",
      "4\n"
     ]
    }
   ],
   "execution_count": 360
  },
  {
   "metadata": {
    "ExecuteTime": {
     "end_time": "2024-04-29T11:27:05.354649Z",
     "start_time": "2024-04-29T11:27:05.350530Z"
    }
   },
   "cell_type": "code",
   "source": "print(Point2D.x.__doc__)",
   "id": "fa1b498405c7c816",
   "outputs": [
    {
     "name": "stdout",
     "output_type": "stream",
     "text": [
      "Alias for field number 0\n"
     ]
    }
   ],
   "execution_count": 363
  },
  {
   "metadata": {
    "ExecuteTime": {
     "end_time": "2024-04-29T11:36:49.647001Z",
     "start_time": "2024-04-29T11:36:49.642626Z"
    }
   },
   "cell_type": "code",
   "source": [
    "def func(a):\n",
    "    print(a)\n",
    "    pass\n",
    "\n",
    "func.__defaults__ = 10, 20, 30\n",
    "func()"
   ],
   "id": "b72ab60b27fd84",
   "outputs": [
    {
     "name": "stdout",
     "output_type": "stream",
     "text": [
      "30\n"
     ]
    }
   ],
   "execution_count": 366
  },
  {
   "metadata": {
    "ExecuteTime": {
     "end_time": "2024-04-29T12:01:09.372536Z",
     "start_time": "2024-04-29T12:01:09.369013Z"
    }
   },
   "cell_type": "code",
   "source": "Vector2D = namedtuple('Vector2D', 'x1 y1 x2 y2 origin_x origin_y', defaults=(0, 0))\n",
   "id": "257e0da9104dab12",
   "outputs": [],
   "execution_count": 381
  },
  {
   "metadata": {
    "ExecuteTime": {
     "end_time": "2024-04-29T12:01:09.656764Z",
     "start_time": "2024-04-29T12:01:09.637992Z"
    }
   },
   "cell_type": "code",
   "source": [
    "v = Vector2D()\n",
    "v"
   ],
   "id": "d531681621000ee7",
   "outputs": [
    {
     "ename": "TypeError",
     "evalue": "Vector2D.__new__() missing 4 required positional arguments: 'x1', 'y1', 'x2', and 'y2'",
     "output_type": "error",
     "traceback": [
      "\u001B[0;31m---------------------------------------------------------------------------\u001B[0m",
      "\u001B[0;31mTypeError\u001B[0m                                 Traceback (most recent call last)",
      "Cell \u001B[0;32mIn[382], line 1\u001B[0m\n\u001B[0;32m----> 1\u001B[0m v \u001B[38;5;241m=\u001B[39m \u001B[43mVector2D\u001B[49m\u001B[43m(\u001B[49m\u001B[43m)\u001B[49m\n\u001B[1;32m      2\u001B[0m v\n",
      "\u001B[0;31mTypeError\u001B[0m: Vector2D.__new__() missing 4 required positional arguments: 'x1', 'y1', 'x2', and 'y2'"
     ]
    }
   ],
   "execution_count": 382
  },
  {
   "metadata": {
    "ExecuteTime": {
     "end_time": "2024-04-29T14:12:15.571802Z",
     "start_time": "2024-04-29T14:12:15.566584Z"
    }
   },
   "cell_type": "code",
   "source": "dir(Vector2D.__new__)",
   "id": "8e572551c1b15e12",
   "outputs": [
    {
     "data": {
      "text/plain": [
       "['__annotations__',\n",
       " '__builtins__',\n",
       " '__call__',\n",
       " '__class__',\n",
       " '__closure__',\n",
       " '__code__',\n",
       " '__defaults__',\n",
       " '__delattr__',\n",
       " '__dict__',\n",
       " '__dir__',\n",
       " '__doc__',\n",
       " '__eq__',\n",
       " '__format__',\n",
       " '__ge__',\n",
       " '__get__',\n",
       " '__getattribute__',\n",
       " '__getstate__',\n",
       " '__globals__',\n",
       " '__gt__',\n",
       " '__hash__',\n",
       " '__init__',\n",
       " '__init_subclass__',\n",
       " '__kwdefaults__',\n",
       " '__le__',\n",
       " '__lt__',\n",
       " '__module__',\n",
       " '__name__',\n",
       " '__ne__',\n",
       " '__new__',\n",
       " '__qualname__',\n",
       " '__reduce__',\n",
       " '__reduce_ex__',\n",
       " '__repr__',\n",
       " '__setattr__',\n",
       " '__sizeof__',\n",
       " '__str__',\n",
       " '__subclasshook__',\n",
       " '__type_params__']"
      ]
     },
     "execution_count": 393,
     "metadata": {},
     "output_type": "execute_result"
    }
   ],
   "execution_count": 393
  },
  {
   "metadata": {
    "ExecuteTime": {
     "end_time": "2024-04-29T15:32:50.090536Z",
     "start_time": "2024-04-29T15:32:50.087376Z"
    }
   },
   "cell_type": "code",
   "source": "from random import randint",
   "id": "35e4491b4f843372",
   "outputs": [],
   "execution_count": 430
  },
  {
   "metadata": {
    "ExecuteTime": {
     "end_time": "2024-04-29T15:32:50.391296Z",
     "start_time": "2024-04-29T15:32:50.386980Z"
    }
   },
   "cell_type": "code",
   "source": [
    "Color = namedtuple('Color', 'red green blue')\n",
    "def random_color():\n",
    "    red = randint(0, 255)\n",
    "    green = randint(0, 255)\n",
    "    blue = randint(0, 255)\n",
    "    return Color(red, green, blue)    "
   ],
   "id": "90caa4c3216dc541",
   "outputs": [],
   "execution_count": 431
  },
  {
   "metadata": {
    "ExecuteTime": {
     "end_time": "2024-04-29T15:32:50.638004Z",
     "start_time": "2024-04-29T15:32:50.634844Z"
    }
   },
   "cell_type": "code",
   "source": "c = random_color()",
   "id": "e993b835214ec2dd",
   "outputs": [],
   "execution_count": 432
  },
  {
   "metadata": {
    "ExecuteTime": {
     "end_time": "2024-04-29T15:32:51.032566Z",
     "start_time": "2024-04-29T15:32:51.028338Z"
    }
   },
   "cell_type": "code",
   "source": "c.blue",
   "id": "eba1932f331113ea",
   "outputs": [
    {
     "data": {
      "text/plain": [
       "155"
      ]
     },
     "execution_count": 433,
     "metadata": {},
     "output_type": "execute_result"
    }
   ],
   "execution_count": 433
  },
  {
   "metadata": {
    "ExecuteTime": {
     "end_time": "2024-04-29T15:34:24.331620Z",
     "start_time": "2024-04-29T15:34:24.328331Z"
    }
   },
   "cell_type": "code",
   "source": "b = 'blue3'",
   "id": "f3db436f8fd4e076",
   "outputs": [],
   "execution_count": 436
  },
  {
   "metadata": {
    "ExecuteTime": {
     "end_time": "2024-04-29T15:34:30.233534Z",
     "start_time": "2024-04-29T15:34:30.231555Z"
    }
   },
   "cell_type": "code",
   "source": "getattr(c, b, None)",
   "id": "f5940f9af33d3acf",
   "outputs": [],
   "execution_count": 438
  },
  {
   "metadata": {
    "ExecuteTime": {
     "end_time": "2024-04-29T16:04:29.442153Z",
     "start_time": "2024-04-29T16:04:29.438042Z"
    }
   },
   "cell_type": "code",
   "source": [
    "data_list = [\n",
    "    {'key2': 1, 'key1': 2},\n",
    "    {'key1': 3, 'key2': 4},\n",
    "    {'key1': 5, 'key2': 6, 'key3': 7},\n",
    "    {'key2': 100},\n",
    "    {'key4': 345, 'key3': 456, 'key2': 567, 'key1': 678},\n",
    "]"
   ],
   "id": "87e7daa7cce881ce",
   "outputs": [],
   "execution_count": 483
  },
  {
   "metadata": {
    "ExecuteTime": {
     "end_time": "2024-04-29T16:04:30.127540Z",
     "start_time": "2024-04-29T16:04:30.124121Z"
    }
   },
   "cell_type": "code",
   "source": "keys = {key for dict_ in data_list for key in dict_.keys()}",
   "id": "828cd13a65f73616",
   "outputs": [],
   "execution_count": 484
  },
  {
   "metadata": {
    "ExecuteTime": {
     "end_time": "2024-04-29T16:04:30.333475Z",
     "start_time": "2024-04-29T16:04:30.329199Z"
    }
   },
   "cell_type": "code",
   "source": "keys",
   "id": "d85a761e458aa691",
   "outputs": [
    {
     "data": {
      "text/plain": [
       "{'key1', 'key2', 'key3', 'key4'}"
      ]
     },
     "execution_count": 485,
     "metadata": {},
     "output_type": "execute_result"
    }
   ],
   "execution_count": 485
  },
  {
   "metadata": {
    "ExecuteTime": {
     "end_time": "2024-04-29T16:04:30.524991Z",
     "start_time": "2024-04-29T16:04:30.521157Z"
    }
   },
   "cell_type": "code",
   "source": [
    "Struct = namedtuple('Struct', sorted(keys))\n",
    "Struct.__new__.__defaults__ = (None,) * len(Struct._fields)"
   ],
   "id": "ff6da4a366b6f815",
   "outputs": [],
   "execution_count": 486
  },
  {
   "metadata": {
    "ExecuteTime": {
     "end_time": "2024-04-29T16:04:30.645857Z",
     "start_time": "2024-04-29T16:04:30.641215Z"
    }
   },
   "cell_type": "code",
   "source": "Struct.__new__.__defaults__",
   "id": "adae3689d44cfec1",
   "outputs": [
    {
     "data": {
      "text/plain": [
       "(None, None, None, None)"
      ]
     },
     "execution_count": 487,
     "metadata": {},
     "output_type": "execute_result"
    }
   ],
   "execution_count": 487
  },
  {
   "metadata": {
    "ExecuteTime": {
     "end_time": "2024-04-29T16:04:30.833160Z",
     "start_time": "2024-04-29T16:04:30.828165Z"
    }
   },
   "cell_type": "code",
   "source": "Struct(key3=10)",
   "id": "2cf9e689e85bbfd0",
   "outputs": [
    {
     "data": {
      "text/plain": [
       "Struct(key1=None, key2=None, key3=10, key4=None)"
      ]
     },
     "execution_count": 488,
     "metadata": {},
     "output_type": "execute_result"
    }
   ],
   "execution_count": 488
  },
  {
   "metadata": {
    "ExecuteTime": {
     "end_time": "2024-04-29T16:05:22.323146Z",
     "start_time": "2024-04-29T16:05:22.318768Z"
    }
   },
   "cell_type": "code",
   "source": [
    "def dicts_to_namedtuples(dicts, name):\n",
    "    keys = {key for dict_ in dicts for key in dict_.keys()}\n",
    "    cls = namedtuple(name, sorted(keys))\n",
    "    cls.__new__.__defaults__ = (None,) * len(keys)\n",
    "    return tuple(cls(**d) for d in dicts)    "
   ],
   "id": "856dca29a5fd3fdf",
   "outputs": [],
   "execution_count": 491
  },
  {
   "metadata": {
    "ExecuteTime": {
     "end_time": "2024-04-29T16:05:23.138856Z",
     "start_time": "2024-04-29T16:05:23.133604Z"
    }
   },
   "cell_type": "code",
   "source": "dicts_to_namedtuples(data_list, 'struct')",
   "id": "d511871c65ee76d9",
   "outputs": [
    {
     "data": {
      "text/plain": [
       "(struct(key1=2, key2=1, key3=None, key4=None),\n",
       " struct(key1=3, key2=4, key3=None, key4=None),\n",
       " struct(key1=5, key2=6, key3=7, key4=None),\n",
       " struct(key1=None, key2=100, key3=None, key4=None),\n",
       " struct(key1=678, key2=567, key3=456, key4=345))"
      ]
     },
     "execution_count": 492,
     "metadata": {},
     "output_type": "execute_result"
    }
   ],
   "execution_count": 492
  },
  {
   "metadata": {},
   "cell_type": "code",
   "outputs": [],
   "execution_count": null,
   "source": "",
   "id": "352f4259584fcac3"
  }
 ],
 "metadata": {
  "kernelspec": {
   "display_name": "Python 3",
   "language": "python",
   "name": "python3"
  },
  "language_info": {
   "codemirror_mode": {
    "name": "ipython",
    "version": 2
   },
   "file_extension": ".py",
   "mimetype": "text/x-python",
   "name": "python",
   "nbconvert_exporter": "python",
   "pygments_lexer": "ipython2",
   "version": "2.7.6"
  }
 },
 "nbformat": 4,
 "nbformat_minor": 5
}
