{
 "cells": [
  {
   "metadata": {
    "ExecuteTime": {
     "end_time": "2024-08-31T10:03:47.107833Z",
     "start_time": "2024-08-31T10:03:47.104447Z"
    }
   },
   "cell_type": "code",
   "source": "lst = [1, None]",
   "id": "c82fe4c9bde36608",
   "outputs": [],
   "execution_count": 46
  },
  {
   "cell_type": "code",
   "id": "initial_id",
   "metadata": {
    "collapsed": true,
    "ExecuteTime": {
     "end_time": "2024-08-31T10:03:47.374573Z",
     "start_time": "2024-08-31T10:03:47.370774Z"
    }
   },
   "source": [
    "for i in range(2, 5):\n",
    "    pre = lst\n",
    "    while lst[1] is not None:\n",
    "        lst = lst[1]\n",
    "    lst[1] = [i, None]\n",
    "    lst = pre"
   ],
   "outputs": [],
   "execution_count": 47
  },
  {
   "metadata": {
    "ExecuteTime": {
     "end_time": "2024-08-31T10:03:47.703313Z",
     "start_time": "2024-08-31T10:03:47.698017Z"
    }
   },
   "cell_type": "code",
   "source": "lst",
   "id": "8dcc4e37cd55c2b4",
   "outputs": [
    {
     "data": {
      "text/plain": [
       "[1, [2, [3, [4, None]]]]"
      ]
     },
     "execution_count": 48,
     "metadata": {},
     "output_type": "execute_result"
    }
   ],
   "execution_count": 48
  },
  {
   "metadata": {
    "ExecuteTime": {
     "end_time": "2024-08-31T10:04:32.577081Z",
     "start_time": "2024-08-31T10:04:32.574118Z"
    }
   },
   "cell_type": "code",
   "source": [
    "lst1 = [1, None]\n",
    "lst2 = [2, None]\n",
    "lst1[1] = lst2\n",
    "lst2[1] = lst1"
   ],
   "id": "61c3966822a2287a",
   "outputs": [],
   "execution_count": 49
  },
  {
   "metadata": {
    "ExecuteTime": {
     "end_time": "2024-08-31T10:06:15.652414Z",
     "start_time": "2024-08-31T10:06:15.647324Z"
    }
   },
   "cell_type": "code",
   "source": "hex(id(lst1)), hex(id(lst2))",
   "id": "2a2ed226510edbbe",
   "outputs": [
    {
     "data": {
      "text/plain": [
       "('0x741e33525000', '0x741e33527300')"
      ]
     },
     "execution_count": 62,
     "metadata": {},
     "output_type": "execute_result"
    }
   ],
   "execution_count": 62
  },
  {
   "metadata": {
    "ExecuteTime": {
     "end_time": "2024-08-31T10:07:25.387913Z",
     "start_time": "2024-08-31T10:07:25.382693Z"
    }
   },
   "cell_type": "code",
   "source": "lst1[1][1] is lst1",
   "id": "36119a56a8d9df6",
   "outputs": [
    {
     "data": {
      "text/plain": [
       "True"
      ]
     },
     "execution_count": 69,
     "metadata": {},
     "output_type": "execute_result"
    }
   ],
   "execution_count": 69
  },
  {
   "metadata": {},
   "cell_type": "code",
   "outputs": [],
   "execution_count": null,
   "source": "",
   "id": "2bec56e5c98462a7"
  }
 ],
 "metadata": {
  "kernelspec": {
   "display_name": "Python 3",
   "language": "python",
   "name": "python3"
  },
  "language_info": {
   "codemirror_mode": {
    "name": "ipython",
    "version": 2
   },
   "file_extension": ".py",
   "mimetype": "text/x-python",
   "name": "python",
   "nbconvert_exporter": "python",
   "pygments_lexer": "ipython2",
   "version": "2.7.6"
  }
 },
 "nbformat": 4,
 "nbformat_minor": 5
}
