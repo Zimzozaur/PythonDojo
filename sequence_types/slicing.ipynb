{
 "cells": [
  {
   "cell_type": "code",
   "id": "initial_id",
   "metadata": {
    "collapsed": true,
    "ExecuteTime": {
     "end_time": "2024-06-15T07:01:15.380860Z",
     "start_time": "2024-06-15T07:01:15.375740Z"
    }
   },
   "source": "s = slice(0, 2)",
   "outputs": [],
   "execution_count": 1
  },
  {
   "metadata": {
    "ExecuteTime": {
     "end_time": "2024-06-15T07:01:21.475567Z",
     "start_time": "2024-06-15T07:01:21.468227Z"
    }
   },
   "cell_type": "code",
   "source": "type(s)",
   "id": "8cd03a70795ac6a2",
   "outputs": [
    {
     "data": {
      "text/plain": [
       "slice"
      ]
     },
     "execution_count": 3,
     "metadata": {},
     "output_type": "execute_result"
    }
   ],
   "execution_count": 3
  },
  {
   "metadata": {
    "ExecuteTime": {
     "end_time": "2024-06-15T07:01:36.822318Z",
     "start_time": "2024-06-15T07:01:36.817208Z"
    }
   },
   "cell_type": "code",
   "source": "s.start, s.stop, s.step",
   "id": "f6bf88b2eae72592",
   "outputs": [
    {
     "data": {
      "text/plain": [
       "(0, 2, None)"
      ]
     },
     "execution_count": 4,
     "metadata": {},
     "output_type": "execute_result"
    }
   ],
   "execution_count": 4
  },
  {
   "metadata": {
    "ExecuteTime": {
     "end_time": "2024-06-15T07:01:52.146967Z",
     "start_time": "2024-06-15T07:01:52.143441Z"
    }
   },
   "cell_type": "code",
   "source": "l = [1, 2, 3, 4, 5]",
   "id": "91b613b80104a47e",
   "outputs": [],
   "execution_count": 5
  },
  {
   "metadata": {
    "ExecuteTime": {
     "end_time": "2024-06-15T07:01:57.072464Z",
     "start_time": "2024-06-15T07:01:57.067175Z"
    }
   },
   "cell_type": "code",
   "source": "l[0:2]",
   "id": "75d51a2dd50a88aa",
   "outputs": [
    {
     "data": {
      "text/plain": [
       "[1, 2]"
      ]
     },
     "execution_count": 6,
     "metadata": {},
     "output_type": "execute_result"
    }
   ],
   "execution_count": 6
  },
  {
   "metadata": {
    "ExecuteTime": {
     "end_time": "2024-06-15T07:01:59.610400Z",
     "start_time": "2024-06-15T07:01:59.605066Z"
    }
   },
   "cell_type": "code",
   "source": "l[s]",
   "id": "10d26325c7e04956",
   "outputs": [
    {
     "data": {
      "text/plain": [
       "[1, 2]"
      ]
     },
     "execution_count": 7,
     "metadata": {},
     "output_type": "execute_result"
    }
   ],
   "execution_count": 7
  },
  {
   "metadata": {
    "ExecuteTime": {
     "end_time": "2024-06-15T07:02:29.139452Z",
     "start_time": "2024-06-15T07:02:29.136331Z"
    }
   },
   "cell_type": "code",
   "source": "data = []",
   "id": "81d364b6dafd86f3",
   "outputs": [],
   "execution_count": 8
  },
  {
   "metadata": {
    "ExecuteTime": {
     "end_time": "2024-06-15T07:03:40.482372Z",
     "start_time": "2024-06-15T07:03:40.478563Z"
    }
   },
   "cell_type": "code",
   "source": [
    "for row in data:\n",
    "    first_name = row[0:51]\n",
    "    last_name = row[51:101]\n",
    "    ssn = row[101:111]"
   ],
   "id": "8100bd1da2e3d9f1",
   "outputs": [],
   "execution_count": 10
  },
  {
   "metadata": {
    "ExecuteTime": {
     "end_time": "2024-06-15T07:04:41.692016Z",
     "start_time": "2024-06-15T07:04:41.688206Z"
    }
   },
   "cell_type": "code",
   "source": [
    "range_first_name = slice(0, 51)\n",
    "range_last_name = slice(51, 101)\n",
    "range_ssn = slice(101, 111)"
   ],
   "id": "ef279223a27068bf",
   "outputs": [],
   "execution_count": 11
  },
  {
   "metadata": {
    "ExecuteTime": {
     "end_time": "2024-06-15T07:05:03.573828Z",
     "start_time": "2024-06-15T07:05:03.570151Z"
    }
   },
   "cell_type": "code",
   "source": [
    "for row in data:\n",
    "    first_name = row[range_first_name]\n",
    "    last_name = row[range_last_name]\n",
    "    ssn = row[range_last_name]"
   ],
   "id": "43938cbb1fa98c88",
   "outputs": [],
   "execution_count": 12
  },
  {
   "metadata": {
    "ExecuteTime": {
     "end_time": "2024-06-15T07:07:26.139194Z",
     "start_time": "2024-06-15T07:07:26.135661Z"
    }
   },
   "cell_type": "code",
   "source": "l = 'python'",
   "id": "66cafcdfe911e652",
   "outputs": [],
   "execution_count": 13
  },
  {
   "metadata": {
    "ExecuteTime": {
     "end_time": "2024-06-15T07:07:31.396070Z",
     "start_time": "2024-06-15T07:07:31.391223Z"
    }
   },
   "cell_type": "code",
   "source": "l[0:1]",
   "id": "beeb6d5c99e24cb5",
   "outputs": [
    {
     "data": {
      "text/plain": [
       "'p'"
      ]
     },
     "execution_count": 14,
     "metadata": {},
     "output_type": "execute_result"
    }
   ],
   "execution_count": 14
  },
  {
   "metadata": {
    "ExecuteTime": {
     "end_time": "2024-06-15T07:07:49.673621Z",
     "start_time": "2024-06-15T07:07:49.669174Z"
    }
   },
   "cell_type": "code",
   "source": "l[1:1]",
   "id": "fd60028065098bbe",
   "outputs": [
    {
     "data": {
      "text/plain": [
       "''"
      ]
     },
     "execution_count": 15,
     "metadata": {},
     "output_type": "execute_result"
    }
   ],
   "execution_count": 15
  },
  {
   "metadata": {
    "ExecuteTime": {
     "end_time": "2024-06-15T07:08:00.683845Z",
     "start_time": "2024-06-15T07:08:00.678841Z"
    }
   },
   "cell_type": "code",
   "source": "l[0:6]",
   "id": "574b89db53c6da42",
   "outputs": [
    {
     "data": {
      "text/plain": [
       "'python'"
      ]
     },
     "execution_count": 16,
     "metadata": {},
     "output_type": "execute_result"
    }
   ],
   "execution_count": 16
  },
  {
   "metadata": {
    "ExecuteTime": {
     "end_time": "2024-06-15T07:08:14.900983Z",
     "start_time": "2024-06-15T07:08:14.895967Z"
    }
   },
   "cell_type": "code",
   "source": "l[0:400]",
   "id": "6f0f952c340e50b8",
   "outputs": [
    {
     "data": {
      "text/plain": [
       "'python'"
      ]
     },
     "execution_count": 17,
     "metadata": {},
     "output_type": "execute_result"
    }
   ],
   "execution_count": 17
  },
  {
   "metadata": {
    "ExecuteTime": {
     "end_time": "2024-06-15T07:08:31.771364Z",
     "start_time": "2024-06-15T07:08:31.765715Z"
    }
   },
   "cell_type": "code",
   "source": "l[0:6:2]",
   "id": "8ec016c8a81515a1",
   "outputs": [
    {
     "data": {
      "text/plain": [
       "'pto'"
      ]
     },
     "execution_count": 18,
     "metadata": {},
     "output_type": "execute_result"
    }
   ],
   "execution_count": 18
  },
  {
   "metadata": {
    "ExecuteTime": {
     "end_time": "2024-06-15T07:08:49.180036Z",
     "start_time": "2024-06-15T07:08:49.176821Z"
    }
   },
   "cell_type": "code",
   "source": "s1 = slice(0, 6, 2)",
   "id": "bba6ad7c56f9cabd",
   "outputs": [],
   "execution_count": 19
  },
  {
   "metadata": {
    "ExecuteTime": {
     "end_time": "2024-06-15T07:08:52.278522Z",
     "start_time": "2024-06-15T07:08:52.272840Z"
    }
   },
   "cell_type": "code",
   "source": "l[s1]",
   "id": "eb0ee760ff82a6fd",
   "outputs": [
    {
     "data": {
      "text/plain": [
       "'pto'"
      ]
     },
     "execution_count": 20,
     "metadata": {},
     "output_type": "execute_result"
    }
   ],
   "execution_count": 20
  },
  {
   "metadata": {
    "ExecuteTime": {
     "end_time": "2024-06-15T07:09:08.789105Z",
     "start_time": "2024-06-15T07:09:08.784537Z"
    }
   },
   "cell_type": "code",
   "source": "l[:4]",
   "id": "f771c4266eba4bbb",
   "outputs": [
    {
     "data": {
      "text/plain": [
       "'pyth'"
      ]
     },
     "execution_count": 22,
     "metadata": {},
     "output_type": "execute_result"
    }
   ],
   "execution_count": 22
  },
  {
   "metadata": {
    "ExecuteTime": {
     "end_time": "2024-06-15T07:09:21.224591Z",
     "start_time": "2024-06-15T07:09:21.220307Z"
    }
   },
   "cell_type": "code",
   "source": "s1 = slice(None, 4)",
   "id": "2d17197abdb8dc02",
   "outputs": [],
   "execution_count": 23
  },
  {
   "metadata": {
    "ExecuteTime": {
     "end_time": "2024-06-15T07:09:24.359874Z",
     "start_time": "2024-06-15T07:09:24.354130Z"
    }
   },
   "cell_type": "code",
   "source": "l[s1]",
   "id": "142f3f698b047e52",
   "outputs": [
    {
     "data": {
      "text/plain": [
       "'pyth'"
      ]
     },
     "execution_count": 24,
     "metadata": {},
     "output_type": "execute_result"
    }
   ],
   "execution_count": 24
  },
  {
   "metadata": {
    "ExecuteTime": {
     "end_time": "2024-06-15T07:09:40.175091Z",
     "start_time": "2024-06-15T07:09:40.169662Z"
    }
   },
   "cell_type": "code",
   "source": "l[None:4]",
   "id": "181da58733292e11",
   "outputs": [
    {
     "data": {
      "text/plain": [
       "'pyth'"
      ]
     },
     "execution_count": 25,
     "metadata": {},
     "output_type": "execute_result"
    }
   ],
   "execution_count": 25
  },
  {
   "metadata": {
    "ExecuteTime": {
     "end_time": "2024-06-15T07:09:58.365945Z",
     "start_time": "2024-06-15T07:09:58.361024Z"
    }
   },
   "cell_type": "code",
   "source": [
    "start = None\n",
    "l[start:4]"
   ],
   "id": "7fd958a629208b4a",
   "outputs": [
    {
     "data": {
      "text/plain": [
       "'pyth'"
      ]
     },
     "execution_count": 26,
     "metadata": {},
     "output_type": "execute_result"
    }
   ],
   "execution_count": 26
  },
  {
   "metadata": {
    "ExecuteTime": {
     "end_time": "2024-06-15T07:10:43.853187Z",
     "start_time": "2024-06-15T07:10:43.848415Z"
    }
   },
   "cell_type": "code",
   "source": "l",
   "id": "117b9dbed41e7cd8",
   "outputs": [
    {
     "data": {
      "text/plain": [
       "'python'"
      ]
     },
     "execution_count": 28,
     "metadata": {},
     "output_type": "execute_result"
    }
   ],
   "execution_count": 28
  },
  {
   "metadata": {
    "ExecuteTime": {
     "end_time": "2024-06-15T07:10:28.752704Z",
     "start_time": "2024-06-15T07:10:28.749113Z"
    }
   },
   "cell_type": "code",
   "source": "l[3:0:-1]",
   "id": "9dbc0b78decd63a9",
   "outputs": [
    {
     "data": {
      "text/plain": [
       "'hty'"
      ]
     },
     "execution_count": 27,
     "metadata": {},
     "output_type": "execute_result"
    }
   ],
   "execution_count": 27
  },
  {
   "metadata": {
    "ExecuteTime": {
     "end_time": "2024-06-15T07:11:03.434154Z",
     "start_time": "2024-06-15T07:11:03.429053Z"
    }
   },
   "cell_type": "code",
   "source": "l[3::-1]",
   "id": "447d00808db9af3c",
   "outputs": [
    {
     "data": {
      "text/plain": [
       "'htyp'"
      ]
     },
     "execution_count": 29,
     "metadata": {},
     "output_type": "execute_result"
    }
   ],
   "execution_count": 29
  },
  {
   "metadata": {
    "ExecuteTime": {
     "end_time": "2024-06-15T07:11:16.454895Z",
     "start_time": "2024-06-15T07:11:16.450029Z"
    }
   },
   "cell_type": "code",
   "source": "l[3:-1:-1]",
   "id": "3d6de988eb5f05e3",
   "outputs": [
    {
     "data": {
      "text/plain": [
       "''"
      ]
     },
     "execution_count": 30,
     "metadata": {},
     "output_type": "execute_result"
    }
   ],
   "execution_count": 30
  },
  {
   "metadata": {
    "ExecuteTime": {
     "end_time": "2024-06-15T07:11:49.306758Z",
     "start_time": "2024-06-15T07:11:49.300820Z"
    }
   },
   "cell_type": "code",
   "source": "l[3:-100:-1]",
   "id": "67458b6846ddc0ef",
   "outputs": [
    {
     "data": {
      "text/plain": [
       "'htyp'"
      ]
     },
     "execution_count": 31,
     "metadata": {},
     "output_type": "execute_result"
    }
   ],
   "execution_count": 31
  },
  {
   "metadata": {
    "ExecuteTime": {
     "end_time": "2024-06-15T07:12:11.632186Z",
     "start_time": "2024-06-15T07:12:11.629390Z"
    }
   },
   "cell_type": "code",
   "source": "s = slice(1, 5)",
   "id": "62665e469d0c7f65",
   "outputs": [],
   "execution_count": 32
  },
  {
   "metadata": {
    "ExecuteTime": {
     "end_time": "2024-06-15T07:12:20.416416Z",
     "start_time": "2024-06-15T07:12:20.410689Z"
    }
   },
   "cell_type": "code",
   "source": "s.start, s.stop",
   "id": "97e3114f955a4386",
   "outputs": [
    {
     "data": {
      "text/plain": [
       "(1, 5)"
      ]
     },
     "execution_count": 33,
     "metadata": {},
     "output_type": "execute_result"
    }
   ],
   "execution_count": 33
  },
  {
   "metadata": {
    "ExecuteTime": {
     "end_time": "2024-06-15T07:13:11.401122Z",
     "start_time": "2024-06-15T07:13:11.395922Z"
    }
   },
   "cell_type": "code",
   "source": "s.indices(4)",
   "id": "e7820abe2ab8dabb",
   "outputs": [
    {
     "data": {
      "text/plain": [
       "(1, 4, 1)"
      ]
     },
     "execution_count": 36,
     "metadata": {},
     "output_type": "execute_result"
    }
   ],
   "execution_count": 36
  },
  {
   "metadata": {
    "ExecuteTime": {
     "end_time": "2024-06-15T07:13:32.315558Z",
     "start_time": "2024-06-15T07:13:32.310225Z"
    }
   },
   "cell_type": "code",
   "source": "s.indices(10)",
   "id": "23226865475e28da",
   "outputs": [
    {
     "data": {
      "text/plain": [
       "(1, 5, 1)"
      ]
     },
     "execution_count": 37,
     "metadata": {},
     "output_type": "execute_result"
    }
   ],
   "execution_count": 37
  },
  {
   "metadata": {
    "ExecuteTime": {
     "end_time": "2024-06-15T07:13:47.514895Z",
     "start_time": "2024-06-15T07:13:47.509929Z"
    }
   },
   "cell_type": "code",
   "source": "list(range(1, 5, 1))",
   "id": "505f08049b39bad8",
   "outputs": [
    {
     "data": {
      "text/plain": [
       "[1, 2, 3, 4]"
      ]
     },
     "execution_count": 38,
     "metadata": {},
     "output_type": "execute_result"
    }
   ],
   "execution_count": 38
  },
  {
   "metadata": {
    "ExecuteTime": {
     "end_time": "2024-06-15T07:16:15.880393Z",
     "start_time": "2024-06-15T07:16:15.877055Z"
    }
   },
   "cell_type": "code",
   "source": "big_slice = slice(0, 100, 2)",
   "id": "a8851b2232891f3b",
   "outputs": [],
   "execution_count": 42
  },
  {
   "metadata": {
    "ExecuteTime": {
     "end_time": "2024-06-15T07:18:19.529260Z",
     "start_time": "2024-06-15T07:18:19.525358Z"
    }
   },
   "cell_type": "code",
   "source": [
    "class MyClass:\n",
    "    def __init__(self, value):\n",
    "        self._value = value  # Initialize the private attribute\n",
    "\n",
    "    @property\n",
    "    def value(self):\n",
    "        return self._value"
   ],
   "id": "ad49fa9bfa1d869b",
   "outputs": [],
   "execution_count": 48
  },
  {
   "metadata": {
    "ExecuteTime": {
     "end_time": "2024-06-15T07:18:19.830904Z",
     "start_time": "2024-06-15T07:18:19.827886Z"
    }
   },
   "cell_type": "code",
   "source": "m = MyClass(10)",
   "id": "a9027a7f64f8f59b",
   "outputs": [],
   "execution_count": 49
  },
  {
   "metadata": {
    "ExecuteTime": {
     "end_time": "2024-06-15T07:18:20.151389Z",
     "start_time": "2024-06-15T07:18:20.147803Z"
    }
   },
   "cell_type": "code",
   "source": "m.value",
   "id": "125919f1a6248f51",
   "outputs": [
    {
     "data": {
      "text/plain": [
       "10"
      ]
     },
     "execution_count": 50,
     "metadata": {},
     "output_type": "execute_result"
    }
   ],
   "execution_count": 50
  },
  {
   "metadata": {
    "ExecuteTime": {
     "end_time": "2024-06-15T07:24:19.381429Z",
     "start_time": "2024-06-15T07:24:19.378112Z"
    }
   },
   "cell_type": "code",
   "source": [
    "class Mario:\n",
    "    pass"
   ],
   "id": "47f7e38e7116b47a",
   "outputs": [],
   "execution_count": 72
  },
  {
   "metadata": {
    "ExecuteTime": {
     "end_time": "2024-06-15T07:24:19.581755Z",
     "start_time": "2024-06-15T07:24:19.578562Z"
    }
   },
   "cell_type": "code",
   "source": "mario = Mario()",
   "id": "6c9b6b3f5f7e10e0",
   "outputs": [],
   "execution_count": 73
  },
  {
   "metadata": {
    "ExecuteTime": {
     "end_time": "2024-06-15T07:24:19.731386Z",
     "start_time": "2024-06-15T07:24:19.728970Z"
    }
   },
   "cell_type": "code",
   "source": "mario._value = 10",
   "id": "2eb608bc722098aa",
   "outputs": [],
   "execution_count": 74
  },
  {
   "metadata": {
    "ExecuteTime": {
     "end_time": "2024-06-15T07:24:19.872351Z",
     "start_time": "2024-06-15T07:24:19.870108Z"
    }
   },
   "cell_type": "code",
   "source": [
    "def get_value(self):\n",
    "    return self._value"
   ],
   "id": "df7611246c07f9e1",
   "outputs": [],
   "execution_count": 75
  },
  {
   "metadata": {
    "ExecuteTime": {
     "end_time": "2024-06-15T07:24:20.027349Z",
     "start_time": "2024-06-15T07:24:20.024423Z"
    }
   },
   "cell_type": "code",
   "source": "Mario.value = property(fget=get_value)",
   "id": "7bd8f253cdff3ec4",
   "outputs": [],
   "execution_count": 76
  },
  {
   "metadata": {
    "ExecuteTime": {
     "end_time": "2024-06-15T07:24:23.209137Z",
     "start_time": "2024-06-15T07:24:23.190322Z"
    }
   },
   "cell_type": "code",
   "source": "mario.value = 10",
   "id": "dc8f226c9775d161",
   "outputs": [
    {
     "ename": "AttributeError",
     "evalue": "property of 'Mario' object has no setter",
     "output_type": "error",
     "traceback": [
      "\u001B[0;31m---------------------------------------------------------------------------\u001B[0m",
      "\u001B[0;31mAttributeError\u001B[0m                            Traceback (most recent call last)",
      "Cell \u001B[0;32mIn[78], line 1\u001B[0m\n\u001B[0;32m----> 1\u001B[0m \u001B[43mmario\u001B[49m\u001B[38;5;241;43m.\u001B[39;49m\u001B[43mvalue\u001B[49m \u001B[38;5;241m=\u001B[39m \u001B[38;5;241m10\u001B[39m\n",
      "\u001B[0;31mAttributeError\u001B[0m: property of 'Mario' object has no setter"
     ]
    }
   ],
   "execution_count": 78
  },
  {
   "metadata": {
    "ExecuteTime": {
     "end_time": "2024-06-15T07:25:08.492885Z",
     "start_time": "2024-06-15T07:25:08.487386Z"
    }
   },
   "cell_type": "code",
   "source": "list(range(0, 10, 2))",
   "id": "3c8bceb5b3f5474d",
   "outputs": [
    {
     "data": {
      "text/plain": [
       "[0, 2, 4, 6, 8]"
      ]
     },
     "execution_count": 79,
     "metadata": {},
     "output_type": "execute_result"
    }
   ],
   "execution_count": 79
  },
  {
   "metadata": {
    "ExecuteTime": {
     "end_time": "2024-06-15T07:26:07.479139Z",
     "start_time": "2024-06-15T07:26:07.475643Z"
    }
   },
   "cell_type": "code",
   "source": "t = slice(0, 100, 2).indices(10)",
   "id": "2f40ed1f1bd70a8a",
   "outputs": [],
   "execution_count": 83
  },
  {
   "metadata": {
    "ExecuteTime": {
     "end_time": "2024-06-15T07:25:57.137228Z",
     "start_time": "2024-06-15T07:25:57.132752Z"
    }
   },
   "cell_type": "code",
   "source": "range(*t)",
   "id": "a2975d71ecb5e216",
   "outputs": [
    {
     "data": {
      "text/plain": [
       "range(0, 10, 2)"
      ]
     },
     "execution_count": 82,
     "metadata": {},
     "output_type": "execute_result"
    }
   ],
   "execution_count": 82
  },
  {
   "metadata": {
    "ExecuteTime": {
     "end_time": "2024-06-15T07:31:43.459851Z",
     "start_time": "2024-06-15T07:31:43.452935Z"
    }
   },
   "cell_type": "code",
   "source": [
    "start = None\n",
    "stop = None\n",
    "step = -1\n",
    "length = 10\n",
    "list(range(*slice(start, stop, step).indices(length)))"
   ],
   "id": "8407cadf97dfd75f",
   "outputs": [
    {
     "data": {
      "text/plain": [
       "[9, 8, 7, 6, 5, 4, 3, 2, 1, 0]"
      ]
     },
     "execution_count": 94,
     "metadata": {},
     "output_type": "execute_result"
    }
   ],
   "execution_count": 94
  },
  {
   "metadata": {
    "ExecuteTime": {
     "end_time": "2024-06-15T07:33:08.238477Z",
     "start_time": "2024-06-15T07:33:08.233603Z"
    }
   },
   "cell_type": "code",
   "source": "l[3:-1:-1]",
   "id": "b2d360b90f360b4d",
   "outputs": [
    {
     "data": {
      "text/plain": [
       "''"
      ]
     },
     "execution_count": 95,
     "metadata": {},
     "output_type": "execute_result"
    }
   ],
   "execution_count": 95
  },
  {
   "metadata": {
    "ExecuteTime": {
     "end_time": "2024-06-15T07:33:55.459330Z",
     "start_time": "2024-06-15T07:33:55.453842Z"
    }
   },
   "cell_type": "code",
   "source": [
    "start = 3\n",
    "stop = -1\n",
    "step = -1\n",
    "length = 6\n",
    "range(*slice(start, stop, step).indices(length))"
   ],
   "id": "fd3bdf815646d79a",
   "outputs": [
    {
     "data": {
      "text/plain": [
       "range(3, 5, -1)"
      ]
     },
     "execution_count": 98,
     "metadata": {},
     "output_type": "execute_result"
    }
   ],
   "execution_count": 98
  },
  {
   "metadata": {},
   "cell_type": "code",
   "outputs": [],
   "execution_count": null,
   "source": "",
   "id": "5870d464c16bb4ac"
  }
 ],
 "metadata": {
  "kernelspec": {
   "display_name": "Python 3",
   "language": "python",
   "name": "python3"
  },
  "language_info": {
   "codemirror_mode": {
    "name": "ipython",
    "version": 2
   },
   "file_extension": ".py",
   "mimetype": "text/x-python",
   "name": "python",
   "nbconvert_exporter": "python",
   "pygments_lexer": "ipython2",
   "version": "2.7.6"
  }
 },
 "nbformat": 4,
 "nbformat_minor": 5
}
