{
 "cells": [
  {
   "cell_type": "code",
   "id": "initial_id",
   "metadata": {
    "collapsed": true,
    "ExecuteTime": {
     "end_time": "2024-06-15T08:28:10.030024Z",
     "start_time": "2024-06-15T08:28:10.026947Z"
    }
   },
   "source": "my_list =[1, 2, 3, 4, 5]",
   "outputs": [],
   "execution_count": 1
  },
  {
   "metadata": {
    "ExecuteTime": {
     "end_time": "2024-06-15T08:28:19.819235Z",
     "start_time": "2024-06-15T08:28:19.812463Z"
    }
   },
   "cell_type": "code",
   "source": "len(my_list)",
   "id": "c668107899764ae6",
   "outputs": [
    {
     "data": {
      "text/plain": [
       "5"
      ]
     },
     "execution_count": 3,
     "metadata": {},
     "output_type": "execute_result"
    }
   ],
   "execution_count": 3
  },
  {
   "metadata": {
    "ExecuteTime": {
     "end_time": "2024-06-15T08:28:30.063554Z",
     "start_time": "2024-06-15T08:28:30.058945Z"
    }
   },
   "cell_type": "code",
   "source": "my_list.__len__()",
   "id": "429d382d3d9e95b5",
   "outputs": [
    {
     "data": {
      "text/plain": [
       "5"
      ]
     },
     "execution_count": 4,
     "metadata": {},
     "output_type": "execute_result"
    }
   ],
   "execution_count": 4
  },
  {
   "metadata": {
    "ExecuteTime": {
     "end_time": "2024-06-15T08:28:35.854006Z",
     "start_time": "2024-06-15T08:28:35.849308Z"
    }
   },
   "cell_type": "code",
   "source": "my_list[2]",
   "id": "e55b1b0a539ce084",
   "outputs": [
    {
     "data": {
      "text/plain": [
       "3"
      ]
     },
     "execution_count": 5,
     "metadata": {},
     "output_type": "execute_result"
    }
   ],
   "execution_count": 5
  },
  {
   "metadata": {
    "ExecuteTime": {
     "end_time": "2024-06-15T08:28:47.933816Z",
     "start_time": "2024-06-15T08:28:47.928782Z"
    }
   },
   "cell_type": "code",
   "source": "my_list.__getitem__(2)",
   "id": "d2ea96a3325a5b1e",
   "outputs": [
    {
     "data": {
      "text/plain": [
       "3"
      ]
     },
     "execution_count": 6,
     "metadata": {},
     "output_type": "execute_result"
    }
   ],
   "execution_count": 6
  },
  {
   "metadata": {
    "ExecuteTime": {
     "end_time": "2024-06-15T08:28:57.170099Z",
     "start_time": "2024-06-15T08:28:57.164909Z"
    }
   },
   "cell_type": "code",
   "source": "my_list[::-1]",
   "id": "a1695da34828dedb",
   "outputs": [
    {
     "data": {
      "text/plain": [
       "[5, 4, 3, 2, 1]"
      ]
     },
     "execution_count": 7,
     "metadata": {},
     "output_type": "execute_result"
    }
   ],
   "execution_count": 7
  },
  {
   "metadata": {
    "ExecuteTime": {
     "end_time": "2024-06-15T08:29:21.051114Z",
     "start_time": "2024-06-15T08:29:21.045961Z"
    }
   },
   "cell_type": "code",
   "source": "my_list.__getitem__(slice(None, None, -1))",
   "id": "3066f54bb72d4fca",
   "outputs": [
    {
     "data": {
      "text/plain": [
       "[5, 4, 3, 2, 1]"
      ]
     },
     "execution_count": 8,
     "metadata": {},
     "output_type": "execute_result"
    }
   ],
   "execution_count": 8
  },
  {
   "metadata": {
    "ExecuteTime": {
     "end_time": "2024-06-15T08:32:30.784618Z",
     "start_time": "2024-06-15T08:32:30.781463Z"
    }
   },
   "cell_type": "code",
   "source": [
    "for item in my_list:\n",
    "    print(item ** 2)"
   ],
   "id": "c1e184808f5a34bd",
   "outputs": [
    {
     "name": "stdout",
     "output_type": "stream",
     "text": [
      "1\n",
      "4\n",
      "9\n",
      "16\n",
      "25\n"
     ]
    }
   ],
   "execution_count": 9
  },
  {
   "metadata": {
    "ExecuteTime": {
     "end_time": "2024-06-15T08:34:19.924597Z",
     "start_time": "2024-06-15T08:34:19.920378Z"
    }
   },
   "cell_type": "code",
   "source": [
    "index = 0\n",
    "\n",
    "while True:\n",
    "    try:\n",
    "        print(my_list.__getitem__(index))\n",
    "    except IndexError:\n",
    "        break\n",
    "    index += 1\n",
    "    "
   ],
   "id": "738557ab5e2508fb",
   "outputs": [
    {
     "name": "stdout",
     "output_type": "stream",
     "text": [
      "1\n",
      "2\n",
      "3\n",
      "4\n",
      "5\n"
     ]
    }
   ],
   "execution_count": 12
  },
  {
   "metadata": {
    "ExecuteTime": {
     "end_time": "2024-06-15T08:42:02.983978Z",
     "start_time": "2024-06-15T08:42:02.979346Z"
    }
   },
   "cell_type": "code",
   "source": [
    "class Silly:\n",
    "    def __init__(self, n):\n",
    "        self.n = n\n",
    "        \n",
    "    # def __len__(self):\n",
    "    #     print('Called __len__')\n",
    "    #     return self.n\n",
    "    \n",
    "    def __getitem__(self, item):\n",
    "        # print(f'You requested item at index {item}')\n",
    "        if item < 0 or item >= self.n:\n",
    "            raise IndexError\n",
    "        return 'This is silly element!'"
   ],
   "id": "3821d4977e47ea67",
   "outputs": [],
   "execution_count": 32
  },
  {
   "metadata": {
    "ExecuteTime": {
     "end_time": "2024-06-15T08:44:16.410368Z",
     "start_time": "2024-06-15T08:44:16.407151Z"
    }
   },
   "cell_type": "code",
   "source": "silly = Silly(10)",
   "id": "c29f98dbdb8409a2",
   "outputs": [],
   "execution_count": 42
  },
  {
   "metadata": {
    "ExecuteTime": {
     "end_time": "2024-06-15T08:44:16.803105Z",
     "start_time": "2024-06-15T08:44:16.797242Z"
    }
   },
   "cell_type": "code",
   "source": "len(silly)",
   "id": "81e82c68d64c55df",
   "outputs": [
    {
     "name": "stdout",
     "output_type": "stream",
     "text": [
      "Called __len__\n"
     ]
    },
    {
     "data": {
      "text/plain": [
       "10"
      ]
     },
     "execution_count": 43,
     "metadata": {},
     "output_type": "execute_result"
    }
   ],
   "execution_count": 43
  },
  {
   "metadata": {
    "ExecuteTime": {
     "end_time": "2024-06-15T08:44:17.125288Z",
     "start_time": "2024-06-15T08:44:17.121212Z"
    }
   },
   "cell_type": "code",
   "source": [
    "for item in silly:\n",
    "    print(item)"
   ],
   "id": "5c459a35e4f53939",
   "outputs": [
    {
     "name": "stdout",
     "output_type": "stream",
     "text": [
      "This is silly element!\n",
      "This is silly element!\n",
      "This is silly element!\n",
      "This is silly element!\n",
      "This is silly element!\n",
      "This is silly element!\n",
      "This is silly element!\n",
      "This is silly element!\n",
      "This is silly element!\n",
      "This is silly element!\n"
     ]
    }
   ],
   "execution_count": 44
  },
  {
   "metadata": {
    "ExecuteTime": {
     "end_time": "2024-06-15T08:44:17.732996Z",
     "start_time": "2024-06-15T08:44:17.727658Z"
    }
   },
   "cell_type": "code",
   "source": "[item for item in silly]",
   "id": "9b012d73834f34d0",
   "outputs": [
    {
     "data": {
      "text/plain": [
       "['This is silly element!',\n",
       " 'This is silly element!',\n",
       " 'This is silly element!',\n",
       " 'This is silly element!',\n",
       " 'This is silly element!',\n",
       " 'This is silly element!',\n",
       " 'This is silly element!',\n",
       " 'This is silly element!',\n",
       " 'This is silly element!',\n",
       " 'This is silly element!']"
      ]
     },
     "execution_count": 45,
     "metadata": {},
     "output_type": "execute_result"
    }
   ],
   "execution_count": 45
  },
  {
   "metadata": {
    "ExecuteTime": {
     "end_time": "2024-06-15T09:21:00.053318Z",
     "start_time": "2024-06-15T09:21:00.048042Z"
    }
   },
   "cell_type": "code",
   "source": [
    "from functools import lru_cache\n",
    "\n",
    "class Fib:\n",
    "    def __init__(self, n):\n",
    "        self.n = n\n",
    "    \n",
    "    def __len__(self):\n",
    "        return self.n\n",
    "\n",
    "    def __getitem__(self, item):\n",
    "        if isinstance(item, int):\n",
    "            if item < 0 or item >= self.n:\n",
    "                raise IndexError\n",
    "            return Fib._fib(item)\n",
    "        \n",
    "    @staticmethod\n",
    "    @lru_cache\n",
    "    def _fib(n):\n",
    "        if n < 2:\n",
    "            return 1\n",
    "        else:\n",
    "            return Fib._fib(n - 1) + Fib._fib(n-2)"
   ],
   "id": "f9de762bceb88638",
   "outputs": [],
   "execution_count": 79
  },
  {
   "metadata": {
    "ExecuteTime": {
     "end_time": "2024-06-15T09:21:05.377318Z",
     "start_time": "2024-06-15T09:21:05.373875Z"
    }
   },
   "cell_type": "code",
   "source": "fib = Fib(1)",
   "id": "cf86d11059add8ac",
   "outputs": [],
   "execution_count": 82
  },
  {
   "metadata": {
    "ExecuteTime": {
     "end_time": "2024-06-15T09:21:05.527222Z",
     "start_time": "2024-06-15T09:21:05.519539Z"
    }
   },
   "cell_type": "code",
   "source": [
    "for num in fib:\n",
    "    print(num)"
   ],
   "id": "891ce63ee5ca095d",
   "outputs": [
    {
     "name": "stdout",
     "output_type": "stream",
     "text": [
      "1\n"
     ]
    }
   ],
   "execution_count": 83
  },
  {
   "metadata": {
    "ExecuteTime": {
     "end_time": "2024-06-15T09:27:47.749611Z",
     "start_time": "2024-06-15T09:27:47.743497Z"
    }
   },
   "cell_type": "code",
   "source": [
    "from functools import lru_cache\n",
    "\n",
    "class Fib:\n",
    "    def __init__(self, n):\n",
    "        self.n = n\n",
    "    \n",
    "    def __len__(self):\n",
    "        return self.n\n",
    "\n",
    "    def __getitem__(self, item):\n",
    "        if isinstance(item, int):\n",
    "            if item < 0:\n",
    "                item = self.n + item\n",
    "            if item < 0 or item >= self.n:\n",
    "                raise IndexError\n",
    "            return Fib._fib(item)\n",
    "        \n",
    "    @staticmethod\n",
    "    @lru_cache\n",
    "    def _fib(n):\n",
    "        if n < 2:\n",
    "            return 1\n",
    "        else:\n",
    "            return Fib._fib(n - 1) + Fib._fib(n-2)"
   ],
   "id": "34f446b2771708c5",
   "outputs": [],
   "execution_count": 100
  },
  {
   "metadata": {
    "ExecuteTime": {
     "end_time": "2024-06-15T09:28:57.998520Z",
     "start_time": "2024-06-15T09:28:57.995478Z"
    }
   },
   "cell_type": "code",
   "source": "fib = Fib(10)",
   "id": "f0e20b03cc7126ca",
   "outputs": [],
   "execution_count": 102
  },
  {
   "metadata": {
    "ExecuteTime": {
     "end_time": "2024-06-15T09:29:09.001680Z",
     "start_time": "2024-06-15T09:29:08.996739Z"
    }
   },
   "cell_type": "code",
   "source": "set(fib)",
   "id": "35072be5f84c6fe2",
   "outputs": [
    {
     "data": {
      "text/plain": [
       "{1, 2, 3, 5, 8, 13, 21, 34, 55}"
      ]
     },
     "execution_count": 104,
     "metadata": {},
     "output_type": "execute_result"
    }
   ],
   "execution_count": 104
  },
  {
   "metadata": {
    "ExecuteTime": {
     "end_time": "2024-06-15T09:47:03.588597Z",
     "start_time": "2024-06-15T09:47:03.582434Z"
    }
   },
   "cell_type": "code",
   "source": [
    "from functools import lru_cache\n",
    "\n",
    "class Fib:\n",
    "    def __init__(self, n):\n",
    "        self.n = n\n",
    "    \n",
    "    def __len__(self):\n",
    "        return self.n\n",
    "\n",
    "    def __getitem__(self, item: int | slice):\n",
    "        if isinstance(item, int):\n",
    "            if item < 0:\n",
    "                item = self.n + item\n",
    "            if item < 0 or item >= self.n:\n",
    "                raise IndexError\n",
    "            return Fib._fib(item)\n",
    "        \n",
    "        indexes = range(*item.indices(self.n))\n",
    "        return [Fib._fib(index) for index in indexes]\n",
    "    \n",
    "    @staticmethod\n",
    "    @lru_cache\n",
    "    def _fib(n):\n",
    "        if n < 2:\n",
    "            return 1\n",
    "        else:\n",
    "            return Fib._fib(n - 1) + Fib._fib(n-2)"
   ],
   "id": "ded99aa5de0db505",
   "outputs": [],
   "execution_count": 146
  },
  {
   "metadata": {
    "ExecuteTime": {
     "end_time": "2024-06-15T09:47:04.654713Z",
     "start_time": "2024-06-15T09:47:04.651345Z"
    }
   },
   "cell_type": "code",
   "source": "fib = Fib(10)",
   "id": "18e2abf2d6039c78",
   "outputs": [],
   "execution_count": 147
  },
  {
   "metadata": {
    "ExecuteTime": {
     "end_time": "2024-06-15T09:47:04.888264Z",
     "start_time": "2024-06-15T09:47:04.883366Z"
    }
   },
   "cell_type": "code",
   "source": "fib[::-1]",
   "id": "2582759637bc16f8",
   "outputs": [
    {
     "data": {
      "text/plain": [
       "[55, 34, 21, 13, 8, 5, 3, 2, 1, 1]"
      ]
     },
     "execution_count": 148,
     "metadata": {},
     "output_type": "execute_result"
    }
   ],
   "execution_count": 148
  },
  {
   "metadata": {},
   "cell_type": "code",
   "outputs": [],
   "execution_count": null,
   "source": "",
   "id": "9e88fa0c7dae453c"
  }
 ],
 "metadata": {
  "kernelspec": {
   "display_name": "Python 3",
   "language": "python",
   "name": "python3"
  },
  "language_info": {
   "codemirror_mode": {
    "name": "ipython",
    "version": 2
   },
   "file_extension": ".py",
   "mimetype": "text/x-python",
   "name": "python",
   "nbconvert_exporter": "python",
   "pygments_lexer": "ipython2",
   "version": "2.7.6"
  }
 },
 "nbformat": 4,
 "nbformat_minor": 5
}
