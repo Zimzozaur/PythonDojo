{
 "cells": [
  {
   "cell_type": "code",
   "id": "initial_id",
   "metadata": {
    "collapsed": true,
    "ExecuteTime": {
     "end_time": "2024-07-01T09:26:41.780511Z",
     "start_time": "2024-07-01T09:26:41.777075Z"
    }
   },
   "source": "from collections import namedtuple",
   "outputs": [],
   "execution_count": 6
  },
  {
   "metadata": {
    "ExecuteTime": {
     "end_time": "2024-07-01T09:26:42.108994Z",
     "start_time": "2024-07-01T09:26:42.104578Z"
    }
   },
   "cell_type": "code",
   "source": "Point = namedtuple('Point', 'x y')",
   "id": "81576cb20cd605ce",
   "outputs": [],
   "execution_count": 7
  },
  {
   "metadata": {
    "ExecuteTime": {
     "end_time": "2024-07-01T09:26:42.365313Z",
     "start_time": "2024-07-01T09:26:42.361346Z"
    }
   },
   "cell_type": "code",
   "source": "p1 = Point(10.5, 3.2)",
   "id": "c3ebf332f9438ba2",
   "outputs": [],
   "execution_count": 8
  },
  {
   "metadata": {
    "ExecuteTime": {
     "end_time": "2024-07-01T09:26:51.700772Z",
     "start_time": "2024-07-01T09:26:51.692042Z"
    }
   },
   "cell_type": "code",
   "source": "p1",
   "id": "7b7242dd8e80aac8",
   "outputs": [
    {
     "data": {
      "text/plain": [
       "Point(x=10.5, y=3.2)"
      ]
     },
     "execution_count": 10,
     "metadata": {},
     "output_type": "execute_result"
    }
   ],
   "execution_count": 10
  },
  {
   "metadata": {
    "ExecuteTime": {
     "end_time": "2024-07-01T09:27:08.938244Z",
     "start_time": "2024-07-01T09:27:08.934863Z"
    }
   },
   "cell_type": "code",
   "source": "p1 = Point('abc', [1, 2, 3])",
   "id": "aa728e0c221206f4",
   "outputs": [],
   "execution_count": 11
  },
  {
   "metadata": {
    "ExecuteTime": {
     "end_time": "2024-07-01T09:27:10.257689Z",
     "start_time": "2024-07-01T09:27:10.252413Z"
    }
   },
   "cell_type": "code",
   "source": "p1",
   "id": "64a6a646a047d605",
   "outputs": [
    {
     "data": {
      "text/plain": [
       "Point(x='abc', y=[1, 2, 3])"
      ]
     },
     "execution_count": 12,
     "metadata": {},
     "output_type": "execute_result"
    }
   ],
   "execution_count": 12
  },
  {
   "metadata": {
    "ExecuteTime": {
     "end_time": "2024-07-01T09:27:39.844361Z",
     "start_time": "2024-07-01T09:27:39.841153Z"
    }
   },
   "cell_type": "code",
   "source": "x, y = p1",
   "id": "1784e32f15442e4c",
   "outputs": [],
   "execution_count": 13
  },
  {
   "metadata": {
    "ExecuteTime": {
     "end_time": "2024-07-01T09:27:43.730279Z",
     "start_time": "2024-07-01T09:27:43.725407Z"
    }
   },
   "cell_type": "code",
   "source": "x, y",
   "id": "8fc30cf82935f592",
   "outputs": [
    {
     "data": {
      "text/plain": [
       "('abc', [1, 2, 3])"
      ]
     },
     "execution_count": 14,
     "metadata": {},
     "output_type": "execute_result"
    }
   ],
   "execution_count": 14
  },
  {
   "metadata": {
    "ExecuteTime": {
     "end_time": "2024-07-01T09:28:12.529138Z",
     "start_time": "2024-07-01T09:28:12.525789Z"
    }
   },
   "cell_type": "code",
   "source": "import numbers",
   "id": "1701167d902425d0",
   "outputs": [],
   "execution_count": 15
  },
  {
   "metadata": {
    "ExecuteTime": {
     "end_time": "2024-07-01T09:28:38.432865Z",
     "start_time": "2024-07-01T09:28:38.427379Z"
    }
   },
   "cell_type": "code",
   "source": "isinstance(10, numbers.Number)",
   "id": "6a5d80c938d429d8",
   "outputs": [
    {
     "data": {
      "text/plain": [
       "True"
      ]
     },
     "execution_count": 16,
     "metadata": {},
     "output_type": "execute_result"
    }
   ],
   "execution_count": 16
  },
  {
   "metadata": {
    "ExecuteTime": {
     "end_time": "2024-07-01T09:31:22.637877Z",
     "start_time": "2024-07-01T09:31:22.632717Z"
    }
   },
   "cell_type": "code",
   "source": "isinstance('a', numbers.Number)",
   "id": "277a7115baa23a66",
   "outputs": [
    {
     "data": {
      "text/plain": [
       "False"
      ]
     },
     "execution_count": 17,
     "metadata": {},
     "output_type": "execute_result"
    }
   ],
   "execution_count": 17
  },
  {
   "metadata": {
    "ExecuteTime": {
     "end_time": "2024-07-01T09:33:22.219910Z",
     "start_time": "2024-07-01T09:33:22.214955Z"
    }
   },
   "cell_type": "code",
   "source": "isinstance(10.5, numbers.Number)",
   "id": "b5d20e54efaa425e",
   "outputs": [
    {
     "data": {
      "text/plain": [
       "True"
      ]
     },
     "execution_count": 18,
     "metadata": {},
     "output_type": "execute_result"
    }
   ],
   "execution_count": 18
  },
  {
   "metadata": {
    "ExecuteTime": {
     "end_time": "2024-07-01T09:33:31.734937Z",
     "start_time": "2024-07-01T09:33:31.730565Z"
    }
   },
   "cell_type": "code",
   "source": "isinstance(10+2j, numbers.Number)",
   "id": "dd7df860c4c2c13b",
   "outputs": [
    {
     "data": {
      "text/plain": [
       "True"
      ]
     },
     "execution_count": 19,
     "metadata": {},
     "output_type": "execute_result"
    }
   ],
   "execution_count": 19
  },
  {
   "metadata": {
    "ExecuteTime": {
     "end_time": "2024-07-01T09:33:53.711467Z",
     "start_time": "2024-07-01T09:33:53.707566Z"
    }
   },
   "cell_type": "code",
   "source": "isinstance(10, numbers.Real)",
   "id": "3ad021803fd51498",
   "outputs": [
    {
     "data": {
      "text/plain": [
       "True"
      ]
     },
     "execution_count": 20,
     "metadata": {},
     "output_type": "execute_result"
    }
   ],
   "execution_count": 20
  },
  {
   "metadata": {
    "ExecuteTime": {
     "end_time": "2024-07-01T09:34:02.588585Z",
     "start_time": "2024-07-01T09:34:02.583422Z"
    }
   },
   "cell_type": "code",
   "source": "isinstance(10+2j, numbers.Real)",
   "id": "e80b30d1b6ddacfb",
   "outputs": [
    {
     "data": {
      "text/plain": [
       "False"
      ]
     },
     "execution_count": 21,
     "metadata": {},
     "output_type": "execute_result"
    }
   ],
   "execution_count": 21
  },
  {
   "metadata": {
    "ExecuteTime": {
     "end_time": "2024-07-01T09:39:23.686208Z",
     "start_time": "2024-07-01T09:39:23.681696Z"
    }
   },
   "cell_type": "code",
   "source": [
    "from numbers import Real\n",
    "class Point:\n",
    "    def __init__(self, x: Real, y: Real):\n",
    "        self._pt = x, y\n",
    "        \n",
    "    def __repr__(self) -> str:\n",
    "        return f\"Point(x={self._pt[0]}, y={self._pt[1]})\""
   ],
   "id": "ee5d0a1e33d5880f",
   "outputs": [],
   "execution_count": 26
  },
  {
   "metadata": {
    "ExecuteTime": {
     "end_time": "2024-07-01T09:39:24.329614Z",
     "start_time": "2024-07-01T09:39:24.325984Z"
    }
   },
   "cell_type": "code",
   "source": [
    "from fractions import Fraction\n",
    "p1 = Point(1, Fraction('1/3'))"
   ],
   "id": "80f6b1daf23b9455",
   "outputs": [],
   "execution_count": 27
  },
  {
   "metadata": {
    "ExecuteTime": {
     "end_time": "2024-07-01T09:39:26.236377Z",
     "start_time": "2024-07-01T09:39:26.231329Z"
    }
   },
   "cell_type": "code",
   "source": "p1",
   "id": "c255198a11a2f4ec",
   "outputs": [
    {
     "data": {
      "text/plain": [
       "Point(x=1, y=1/3)"
      ]
     },
     "execution_count": 28,
     "metadata": {},
     "output_type": "execute_result"
    }
   ],
   "execution_count": 28
  },
  {
   "metadata": {
    "ExecuteTime": {
     "end_time": "2024-07-01T09:40:00.072756Z",
     "start_time": "2024-07-01T09:40:00.048482Z"
    }
   },
   "cell_type": "code",
   "source": "x, y = p1",
   "id": "32a1938b3cb2972d",
   "outputs": [
    {
     "ename": "TypeError",
     "evalue": "cannot unpack non-iterable Point object",
     "output_type": "error",
     "traceback": [
      "\u001B[0;31m---------------------------------------------------------------------------\u001B[0m",
      "\u001B[0;31mTypeError\u001B[0m                                 Traceback (most recent call last)",
      "Cell \u001B[0;32mIn[29], line 1\u001B[0m\n\u001B[0;32m----> 1\u001B[0m x, y \u001B[38;5;241m=\u001B[39m p1\n",
      "\u001B[0;31mTypeError\u001B[0m: cannot unpack non-iterable Point object"
     ]
    }
   ],
   "execution_count": 29
  },
  {
   "metadata": {
    "ExecuteTime": {
     "end_time": "2024-07-01T09:51:36.521861Z",
     "start_time": "2024-07-01T09:51:36.516985Z"
    }
   },
   "cell_type": "code",
   "source": [
    "from numbers import Real\n",
    "class Point:\n",
    "    def __init__(self, x: Real, y: Real):\n",
    "        if isinstance(x, Real) and isinstance(y, Real):\n",
    "            self._pt = x, y\n",
    "        else:\n",
    "            raise TypeError(f'Point coordinates must be real numbers.')\n",
    "    def __repr__(self) -> str:\n",
    "        return f\"Point(x={self._pt[0]}, y={self._pt[1]})\"\n",
    "    \n",
    "    def __len__(self):\n",
    "        return len(self._pt)\n",
    "    \n",
    "    def __getitem__(self, s):\n",
    "        return self._pt[s]"
   ],
   "id": "a9d5aaf2fa0a7c13",
   "outputs": [],
   "execution_count": 63
  },
  {
   "metadata": {
    "ExecuteTime": {
     "end_time": "2024-07-01T09:51:36.614795Z",
     "start_time": "2024-07-01T09:51:36.611470Z"
    }
   },
   "cell_type": "code",
   "source": "p1 = Point(10, 2)",
   "id": "be8b7e9acd299d51",
   "outputs": [],
   "execution_count": 64
  },
  {
   "metadata": {
    "ExecuteTime": {
     "end_time": "2024-07-01T09:51:36.894570Z",
     "start_time": "2024-07-01T09:51:36.891264Z"
    }
   },
   "cell_type": "code",
   "source": "x, y = p1[::-1]",
   "id": "1de059c0d9f9049d",
   "outputs": [],
   "execution_count": 65
  },
  {
   "metadata": {
    "ExecuteTime": {
     "end_time": "2024-07-01T09:51:37.082604Z",
     "start_time": "2024-07-01T09:51:37.079538Z"
    }
   },
   "cell_type": "code",
   "source": "x, y",
   "id": "615e319420362937",
   "outputs": [
    {
     "data": {
      "text/plain": [
       "(2, 10)"
      ]
     },
     "execution_count": 66,
     "metadata": {},
     "output_type": "execute_result"
    }
   ],
   "execution_count": 66
  },
  {
   "metadata": {
    "ExecuteTime": {
     "end_time": "2024-07-01T09:51:37.282856Z",
     "start_time": "2024-07-01T09:51:37.279423Z"
    }
   },
   "cell_type": "code",
   "source": "p2 = Point(*p1)",
   "id": "c0bd5963ab220d9e",
   "outputs": [],
   "execution_count": 67
  },
  {
   "metadata": {
    "ExecuteTime": {
     "end_time": "2024-07-01T09:51:37.465054Z",
     "start_time": "2024-07-01T09:51:37.460368Z"
    }
   },
   "cell_type": "code",
   "source": "p1, p2",
   "id": "12a41ecf7a3a588f",
   "outputs": [
    {
     "data": {
      "text/plain": [
       "(Point(x=10, y=2), Point(x=10, y=2))"
      ]
     },
     "execution_count": 68,
     "metadata": {},
     "output_type": "execute_result"
    }
   ],
   "execution_count": 68
  },
  {
   "metadata": {
    "ExecuteTime": {
     "end_time": "2024-07-01T09:51:37.620002Z",
     "start_time": "2024-07-01T09:51:37.615784Z"
    }
   },
   "cell_type": "code",
   "source": "id(p1), id(p2)",
   "id": "aca699b763da4809",
   "outputs": [
    {
     "data": {
      "text/plain": [
       "(139767798636784, 139767798642832)"
      ]
     },
     "execution_count": 69,
     "metadata": {},
     "output_type": "execute_result"
    }
   ],
   "execution_count": 69
  },
  {
   "metadata": {
    "ExecuteTime": {
     "end_time": "2024-07-01T09:52:32.973316Z",
     "start_time": "2024-07-01T09:52:32.969049Z"
    }
   },
   "cell_type": "code",
   "source": [
    "class Polygon:\n",
    "    def __init__(self, *pts):\n",
    "        if pts:\n",
    "            self._pts = [Point(*pt) for pt in pts]\n",
    "        else:\n",
    "            self._pts = []\n",
    "            \n",
    "    def __repr__(self):\n",
    "        return f'Polygon({self._pts})'"
   ],
   "id": "7ac281f6264ddef3",
   "outputs": [],
   "execution_count": 76
  },
  {
   "metadata": {
    "ExecuteTime": {
     "end_time": "2024-07-01T09:52:33.991899Z",
     "start_time": "2024-07-01T09:52:33.988329Z"
    }
   },
   "cell_type": "code",
   "source": "p1 = Polygon((0, 0), Point(1, 1))",
   "id": "82eab6d148e46308",
   "outputs": [],
   "execution_count": 77
  },
  {
   "metadata": {
    "ExecuteTime": {
     "end_time": "2024-07-01T09:52:34.835990Z",
     "start_time": "2024-07-01T09:52:34.678597Z"
    }
   },
   "cell_type": "code",
   "source": "p1",
   "id": "8f26c91a2794020d",
   "outputs": [
    {
     "data": {
      "text/plain": [
       "Polygon([Point(x=0, y=0), Point(x=1, y=1)])"
      ]
     },
     "execution_count": 78,
     "metadata": {},
     "output_type": "execute_result"
    }
   ],
   "execution_count": 78
  },
  {
   "metadata": {
    "ExecuteTime": {
     "end_time": "2024-07-01T09:52:35.322331Z",
     "start_time": "2024-07-01T09:52:34.843562Z"
    }
   },
   "cell_type": "code",
   "source": "p2 = Polygon([Point(x=0, y=0), Point(x=1, y=1)])",
   "id": "716a9d325e4b67f8",
   "outputs": [
    {
     "ename": "TypeError",
     "evalue": "Point coordinates must be real numbers.",
     "output_type": "error",
     "traceback": [
      "\u001B[0;31m---------------------------------------------------------------------------\u001B[0m",
      "\u001B[0;31mTypeError\u001B[0m                                 Traceback (most recent call last)",
      "Cell \u001B[0;32mIn[79], line 1\u001B[0m\n\u001B[0;32m----> 1\u001B[0m p2 \u001B[38;5;241m=\u001B[39m \u001B[43mPolygon\u001B[49m\u001B[43m(\u001B[49m\u001B[43m[\u001B[49m\u001B[43mPoint\u001B[49m\u001B[43m(\u001B[49m\u001B[43mx\u001B[49m\u001B[38;5;241;43m=\u001B[39;49m\u001B[38;5;241;43m0\u001B[39;49m\u001B[43m,\u001B[49m\u001B[43m \u001B[49m\u001B[43my\u001B[49m\u001B[38;5;241;43m=\u001B[39;49m\u001B[38;5;241;43m0\u001B[39;49m\u001B[43m)\u001B[49m\u001B[43m,\u001B[49m\u001B[43m \u001B[49m\u001B[43mPoint\u001B[49m\u001B[43m(\u001B[49m\u001B[43mx\u001B[49m\u001B[38;5;241;43m=\u001B[39;49m\u001B[38;5;241;43m1\u001B[39;49m\u001B[43m,\u001B[49m\u001B[43m \u001B[49m\u001B[43my\u001B[49m\u001B[38;5;241;43m=\u001B[39;49m\u001B[38;5;241;43m1\u001B[39;49m\u001B[43m)\u001B[49m\u001B[43m]\u001B[49m\u001B[43m)\u001B[49m\n",
      "Cell \u001B[0;32mIn[76], line 4\u001B[0m, in \u001B[0;36mPolygon.__init__\u001B[0;34m(self, *pts)\u001B[0m\n\u001B[1;32m      2\u001B[0m \u001B[38;5;28;01mdef\u001B[39;00m \u001B[38;5;21m__init__\u001B[39m(\u001B[38;5;28mself\u001B[39m, \u001B[38;5;241m*\u001B[39mpts):\n\u001B[1;32m      3\u001B[0m     \u001B[38;5;28;01mif\u001B[39;00m pts:\n\u001B[0;32m----> 4\u001B[0m         \u001B[38;5;28mself\u001B[39m\u001B[38;5;241m.\u001B[39m_pts \u001B[38;5;241m=\u001B[39m [\u001B[43mPoint\u001B[49m\u001B[43m(\u001B[49m\u001B[38;5;241;43m*\u001B[39;49m\u001B[43mpt\u001B[49m\u001B[43m)\u001B[49m \u001B[38;5;28;01mfor\u001B[39;00m pt \u001B[38;5;129;01min\u001B[39;00m pts]\n\u001B[1;32m      5\u001B[0m     \u001B[38;5;28;01melse\u001B[39;00m:\n\u001B[1;32m      6\u001B[0m         \u001B[38;5;28mself\u001B[39m\u001B[38;5;241m.\u001B[39m_pts \u001B[38;5;241m=\u001B[39m []\n",
      "Cell \u001B[0;32mIn[63], line 7\u001B[0m, in \u001B[0;36mPoint.__init__\u001B[0;34m(self, x, y)\u001B[0m\n\u001B[1;32m      5\u001B[0m     \u001B[38;5;28mself\u001B[39m\u001B[38;5;241m.\u001B[39m_pt \u001B[38;5;241m=\u001B[39m x, y\n\u001B[1;32m      6\u001B[0m \u001B[38;5;28;01melse\u001B[39;00m:\n\u001B[0;32m----> 7\u001B[0m     \u001B[38;5;28;01mraise\u001B[39;00m \u001B[38;5;167;01mTypeError\u001B[39;00m(\u001B[38;5;124mf\u001B[39m\u001B[38;5;124m'\u001B[39m\u001B[38;5;124mPoint coordinates must be real numbers.\u001B[39m\u001B[38;5;124m'\u001B[39m)\n",
      "\u001B[0;31mTypeError\u001B[0m: Point coordinates must be real numbers."
     ]
    }
   ],
   "execution_count": 79
  },
  {
   "metadata": {
    "ExecuteTime": {
     "end_time": "2024-07-01T09:57:43.323047Z",
     "start_time": "2024-07-01T09:57:43.319393Z"
    }
   },
   "cell_type": "code",
   "source": [
    "class Polygon:\n",
    "    def __init__(self, *pts):\n",
    "        if pts:\n",
    "            self._pts = [Point(*pt) for pt in pts]\n",
    "        else:\n",
    "            self._pts = []\n",
    "            \n",
    "    def __repr__(self):\n",
    "        pts = \", \".join(str(pt) for pt in self._pts)\n",
    "        return f'Polygon({pts})'"
   ],
   "id": "6a1896cf642f80f",
   "outputs": [],
   "execution_count": 96
  },
  {
   "metadata": {
    "ExecuteTime": {
     "end_time": "2024-07-01T09:57:43.555627Z",
     "start_time": "2024-07-01T09:57:43.550916Z"
    }
   },
   "cell_type": "code",
   "source": [
    "p1 = Polygon((0, 0), Point(1, 1))\n",
    "p1"
   ],
   "id": "c56660ce429699f1",
   "outputs": [
    {
     "data": {
      "text/plain": [
       "Polygon(Point(x=0, y=0), Point(x=1, y=1))"
      ]
     },
     "execution_count": 97,
     "metadata": {},
     "output_type": "execute_result"
    }
   ],
   "execution_count": 97
  },
  {
   "metadata": {
    "ExecuteTime": {
     "end_time": "2024-07-01T09:57:43.809430Z",
     "start_time": "2024-07-01T09:57:43.804053Z"
    }
   },
   "cell_type": "code",
   "source": [
    "p2 = Polygon(Point(x=0, y=0), Point(x=1, y=1))\n",
    "p2"
   ],
   "id": "d635cc13b8f35e34",
   "outputs": [
    {
     "data": {
      "text/plain": [
       "Polygon(Point(x=0, y=0), Point(x=1, y=1))"
      ]
     },
     "execution_count": 98,
     "metadata": {},
     "output_type": "execute_result"
    }
   ],
   "execution_count": 98
  },
  {
   "metadata": {
    "ExecuteTime": {
     "end_time": "2024-07-01T09:59:12.295295Z",
     "start_time": "2024-07-01T09:59:12.289690Z"
    }
   },
   "cell_type": "code",
   "source": [
    "class Polygon:\n",
    "    def __init__(self, *pts):\n",
    "        if pts:\n",
    "            self._pts = [Point(*pt) for pt in pts]\n",
    "        else:\n",
    "            self._pts = []\n",
    "            \n",
    "    def __repr__(self):\n",
    "        pts = \", \".join(str(pt) for pt in self._pts)\n",
    "        return f'Polygon({pts})'\n",
    "    \n",
    "    def __len__(self):\n",
    "        return len(self._pts)\n",
    "    \n",
    "    def __getitem__(self, item):\n",
    "        return self._pts[item]"
   ],
   "id": "6a86c201414f6797",
   "outputs": [],
   "execution_count": 100
  },
  {
   "metadata": {
    "ExecuteTime": {
     "end_time": "2024-07-01T09:59:51.845450Z",
     "start_time": "2024-07-01T09:59:51.841684Z"
    }
   },
   "cell_type": "code",
   "source": [
    "p1 = Polygon((0, 0), Point(1, 1), (2, 2))\n",
    "p1[-2]"
   ],
   "id": "9e9727f894e46bd0",
   "outputs": [
    {
     "data": {
      "text/plain": [
       "Point(x=1, y=1)"
      ]
     },
     "execution_count": 102,
     "metadata": {},
     "output_type": "execute_result"
    }
   ],
   "execution_count": 102
  },
  {
   "metadata": {
    "ExecuteTime": {
     "end_time": "2024-07-01T10:01:41.323484Z",
     "start_time": "2024-07-01T10:01:41.319633Z"
    }
   },
   "cell_type": "code",
   "source": "p1[-1:-3:-1]",
   "id": "f29336b5928b4797",
   "outputs": [
    {
     "data": {
      "text/plain": [
       "[Point(x=2, y=2), Point(x=1, y=1)]"
      ]
     },
     "execution_count": 110,
     "metadata": {},
     "output_type": "execute_result"
    }
   ],
   "execution_count": 110
  },
  {
   "metadata": {
    "ExecuteTime": {
     "end_time": "2024-07-01T10:02:06.331719Z",
     "start_time": "2024-07-01T10:02:06.326784Z"
    }
   },
   "cell_type": "code",
   "source": "p1[::-1]",
   "id": "fa86594d4c15064f",
   "outputs": [
    {
     "data": {
      "text/plain": [
       "[Point(x=2, y=2), Point(x=1, y=1), Point(x=0, y=0)]"
      ]
     },
     "execution_count": 111,
     "metadata": {},
     "output_type": "execute_result"
    }
   ],
   "execution_count": 111
  },
  {
   "metadata": {
    "ExecuteTime": {
     "end_time": "2024-07-01T10:10:06.508781Z",
     "start_time": "2024-07-01T10:10:06.502405Z"
    }
   },
   "cell_type": "code",
   "source": [
    "class Polygon:\n",
    "    def __init__(self, *pts):\n",
    "        if pts:\n",
    "            self._pts = [Point(*pt) for pt in pts]\n",
    "        else:\n",
    "            self._pts = []\n",
    "            \n",
    "    def __repr__(self):\n",
    "        pts = \", \".join(str(pt) for pt in self._pts)\n",
    "        return f'Polygon({pts})'\n",
    "    \n",
    "    def __len__(self):\n",
    "        return len(self._pts)\n",
    "    \n",
    "    def __getitem__(self, item):\n",
    "        return self._pts[item]\n",
    "    \n",
    "    def __add__(self, other):\n",
    "        if not isinstance(other, Polygon):\n",
    "            raise TypeError('You can concatenate only Polygon with Polygon')\n",
    "        \n",
    "        new_pts = self._pts + other._pts\n",
    "        return Polygon(*new_pts)"
   ],
   "id": "97f4ce54d7987e9d",
   "outputs": [],
   "execution_count": 117
  },
  {
   "metadata": {
    "ExecuteTime": {
     "end_time": "2024-07-01T10:10:06.785570Z",
     "start_time": "2024-07-01T10:10:06.782151Z"
    }
   },
   "cell_type": "code",
   "source": [
    "p1 = Polygon([0, 0], [1, 1])\n",
    "p2 = Polygon([2, 2], [3, 3])"
   ],
   "id": "afbab0f4a8bdd48b",
   "outputs": [],
   "execution_count": 118
  },
  {
   "metadata": {
    "ExecuteTime": {
     "end_time": "2024-07-01T10:10:07.038964Z",
     "start_time": "2024-07-01T10:10:07.034881Z"
    }
   },
   "cell_type": "code",
   "source": "id(p1 + p2), id(p1), id(p2)",
   "id": "ce62bbb6645cf70a",
   "outputs": [
    {
     "data": {
      "text/plain": [
       "(139767788201280, 139767788197392, 139767788197584)"
      ]
     },
     "execution_count": 119,
     "metadata": {},
     "output_type": "execute_result"
    }
   ],
   "execution_count": 119
  },
  {
   "metadata": {
    "ExecuteTime": {
     "end_time": "2024-07-01T10:30:33.782564Z",
     "start_time": "2024-07-01T10:30:33.776098Z"
    }
   },
   "cell_type": "code",
   "source": [
    "class Polygon:\n",
    "    def __init__(self, *pts):\n",
    "        if pts:\n",
    "            self._pts = [Point(*pt) for pt in pts]\n",
    "        else:\n",
    "            self._pts = []\n",
    "            \n",
    "    def __repr__(self):\n",
    "        pts = \", \".join(str(pt) for pt in self._pts)\n",
    "        return f'Polygon({pts})'\n",
    "    \n",
    "    def __len__(self):\n",
    "        return len(self._pts)\n",
    "    \n",
    "    def __getitem__(self, item):\n",
    "        return self._pts[item]\n",
    "    \n",
    "    def __add__(self, other):\n",
    "        if not isinstance(other, Polygon):\n",
    "            raise TypeError('You can concatenate only Polygon with Polygon')\n",
    "        \n",
    "        new_pts = self._pts + other._pts\n",
    "        return Polygon(*new_pts)\n",
    "    \n",
    "    def __iadd__(self, other):\n",
    "        if not isinstance(other, Polygon):\n",
    "            raise TypeError('You can concatenate only Polygon with Polygon')\n",
    "        self._pts = self._pts + other._pts\n",
    "        return self"
   ],
   "id": "fa8f1c00b01f44d8",
   "outputs": [],
   "execution_count": 129
  },
  {
   "metadata": {
    "ExecuteTime": {
     "end_time": "2024-07-01T10:30:34.003169Z",
     "start_time": "2024-07-01T10:30:33.999376Z"
    }
   },
   "cell_type": "code",
   "source": [
    "p1 = Polygon([0, 0], [1, 1])\n",
    "p2 = Polygon([2, 2], [3, 3])\n",
    "id(p1), id(p2)"
   ],
   "id": "7daa2f3fae233f86",
   "outputs": [
    {
     "data": {
      "text/plain": [
       "(139767798643936, 139767797847184)"
      ]
     },
     "execution_count": 130,
     "metadata": {},
     "output_type": "execute_result"
    }
   ],
   "execution_count": 130
  },
  {
   "metadata": {
    "ExecuteTime": {
     "end_time": "2024-07-01T10:30:34.176382Z",
     "start_time": "2024-07-01T10:30:34.174147Z"
    }
   },
   "cell_type": "code",
   "source": "p1 += p2",
   "id": "ea44c59ead1d6483",
   "outputs": [],
   "execution_count": 131
  },
  {
   "metadata": {
    "ExecuteTime": {
     "end_time": "2024-07-01T10:30:34.353927Z",
     "start_time": "2024-07-01T10:30:34.350562Z"
    }
   },
   "cell_type": "code",
   "source": "id(p1), p1",
   "id": "27b815428a0df7af",
   "outputs": [
    {
     "data": {
      "text/plain": [
       "(139767798643936,\n",
       " Polygon(Point(x=0, y=0), Point(x=1, y=1), Point(x=2, y=2), Point(x=3, y=3)))"
      ]
     },
     "execution_count": 132,
     "metadata": {},
     "output_type": "execute_result"
    }
   ],
   "execution_count": 132
  },
  {
   "metadata": {
    "ExecuteTime": {
     "end_time": "2024-07-01T10:30:34.588363Z",
     "start_time": "2024-07-01T10:30:34.584350Z"
    }
   },
   "cell_type": "code",
   "source": "id(p2), p2",
   "id": "3f858be88d64934b",
   "outputs": [
    {
     "data": {
      "text/plain": [
       "(139767797847184, Polygon(Point(x=2, y=2), Point(x=3, y=3)))"
      ]
     },
     "execution_count": 133,
     "metadata": {},
     "output_type": "execute_result"
    }
   ],
   "execution_count": 133
  },
  {
   "metadata": {
    "ExecuteTime": {
     "end_time": "2024-07-01T10:30:34.738811Z",
     "start_time": "2024-07-01T10:30:34.732778Z"
    }
   },
   "cell_type": "code",
   "source": [
    "p1 = Polygon([0, 0], [1, 1])\n",
    "p2 = Polygon([2, 2], [3, 3])\n",
    "id(p1), id(p2)"
   ],
   "id": "c1866a6a392039ee",
   "outputs": [
    {
     "data": {
      "text/plain": [
       "(139767788187728, 139767788180624)"
      ]
     },
     "execution_count": 134,
     "metadata": {},
     "output_type": "execute_result"
    }
   ],
   "execution_count": 134
  },
  {
   "metadata": {
    "ExecuteTime": {
     "end_time": "2024-07-01T10:30:34.862841Z",
     "start_time": "2024-07-01T10:30:34.859281Z"
    }
   },
   "cell_type": "code",
   "source": "p1 = p1.__iadd__(p2)",
   "id": "8a5e103d94426281",
   "outputs": [],
   "execution_count": 135
  },
  {
   "metadata": {
    "ExecuteTime": {
     "end_time": "2024-07-01T10:30:34.988797Z",
     "start_time": "2024-07-01T10:30:34.983735Z"
    }
   },
   "cell_type": "code",
   "source": "id(p2), p2",
   "id": "7bc428f9d34b4cac",
   "outputs": [
    {
     "data": {
      "text/plain": [
       "(139767788180624, Polygon(Point(x=2, y=2), Point(x=3, y=3)))"
      ]
     },
     "execution_count": 136,
     "metadata": {},
     "output_type": "execute_result"
    }
   ],
   "execution_count": 136
  },
  {
   "metadata": {
    "ExecuteTime": {
     "end_time": "2024-07-01T10:30:36.038032Z",
     "start_time": "2024-07-01T10:30:36.033561Z"
    }
   },
   "cell_type": "code",
   "source": "id(p1), p1",
   "id": "b6ac87d25fb2e265",
   "outputs": [
    {
     "data": {
      "text/plain": [
       "(139767788187728,\n",
       " Polygon(Point(x=0, y=0), Point(x=1, y=1), Point(x=2, y=2), Point(x=3, y=3)))"
      ]
     },
     "execution_count": 137,
     "metadata": {},
     "output_type": "execute_result"
    }
   ],
   "execution_count": 137
  },
  {
   "metadata": {
    "ExecuteTime": {
     "end_time": "2024-07-01T10:31:38.396026Z",
     "start_time": "2024-07-01T10:31:38.392809Z"
    }
   },
   "cell_type": "code",
   "source": "p1 = Polygon([0, 0], [1, 1])",
   "id": "106edf03999d3c13",
   "outputs": [],
   "execution_count": 138
  },
  {
   "metadata": {
    "ExecuteTime": {
     "end_time": "2024-07-01T10:31:53.866918Z",
     "start_time": "2024-07-01T10:31:53.829011Z"
    }
   },
   "cell_type": "code",
   "source": "p1 += [[2, 2], [3, 3]]",
   "id": "74e96396fb101543",
   "outputs": [
    {
     "ename": "TypeError",
     "evalue": "You can concatenate only Polygon with Polygon",
     "output_type": "error",
     "traceback": [
      "\u001B[0;31m---------------------------------------------------------------------------\u001B[0m",
      "\u001B[0;31mTypeError\u001B[0m                                 Traceback (most recent call last)",
      "Cell \u001B[0;32mIn[139], line 1\u001B[0m\n\u001B[0;32m----> 1\u001B[0m \u001B[43mp1\u001B[49m\u001B[43m \u001B[49m\u001B[38;5;241;43m+\u001B[39;49m\u001B[38;5;241;43m=\u001B[39;49m\u001B[43m \u001B[49m\u001B[43m[\u001B[49m\u001B[43m[\u001B[49m\u001B[38;5;241;43m2\u001B[39;49m\u001B[43m,\u001B[49m\u001B[43m \u001B[49m\u001B[38;5;241;43m2\u001B[39;49m\u001B[43m]\u001B[49m\u001B[43m,\u001B[49m\u001B[43m \u001B[49m\u001B[43m[\u001B[49m\u001B[38;5;241;43m3\u001B[39;49m\u001B[43m,\u001B[49m\u001B[43m \u001B[49m\u001B[38;5;241;43m3\u001B[39;49m\u001B[43m]\u001B[49m\u001B[43m]\u001B[49m\n",
      "Cell \u001B[0;32mIn[129], line 27\u001B[0m, in \u001B[0;36mPolygon.__iadd__\u001B[0;34m(self, other)\u001B[0m\n\u001B[1;32m     25\u001B[0m \u001B[38;5;28;01mdef\u001B[39;00m \u001B[38;5;21m__iadd__\u001B[39m(\u001B[38;5;28mself\u001B[39m, other):\n\u001B[1;32m     26\u001B[0m     \u001B[38;5;28;01mif\u001B[39;00m \u001B[38;5;129;01mnot\u001B[39;00m \u001B[38;5;28misinstance\u001B[39m(other, Polygon):\n\u001B[0;32m---> 27\u001B[0m         \u001B[38;5;28;01mraise\u001B[39;00m \u001B[38;5;167;01mTypeError\u001B[39;00m(\u001B[38;5;124m'\u001B[39m\u001B[38;5;124mYou can concatenate only Polygon with Polygon\u001B[39m\u001B[38;5;124m'\u001B[39m)\n\u001B[1;32m     28\u001B[0m     \u001B[38;5;28mself\u001B[39m\u001B[38;5;241m.\u001B[39m_pts \u001B[38;5;241m=\u001B[39m \u001B[38;5;28mself\u001B[39m\u001B[38;5;241m.\u001B[39m_pts \u001B[38;5;241m+\u001B[39m other\u001B[38;5;241m.\u001B[39m_pts\n\u001B[1;32m     29\u001B[0m     \u001B[38;5;28;01mreturn\u001B[39;00m \u001B[38;5;28mself\u001B[39m\n",
      "\u001B[0;31mTypeError\u001B[0m: You can concatenate only Polygon with Polygon"
     ]
    }
   ],
   "execution_count": 139
  },
  {
   "metadata": {
    "ExecuteTime": {
     "end_time": "2024-07-01T10:58:53.958944Z",
     "start_time": "2024-07-01T10:58:53.950467Z"
    }
   },
   "cell_type": "code",
   "source": [
    "class Polygon:\n",
    "    def __init__(self, *pts):\n",
    "        if pts:\n",
    "            self._pts = [Point(*pt) for pt in pts]\n",
    "        else:\n",
    "            self._pts = []\n",
    "            \n",
    "    def __repr__(self):\n",
    "        pts = \", \".join(str(pt) for pt in self._pts)\n",
    "        return f'Polygon({pts})'\n",
    "    \n",
    "    def __len__(self):\n",
    "        return len(self._pts)\n",
    "    \n",
    "    def __getitem__(self, item):\n",
    "        return self._pts[item]\n",
    "    \n",
    "    def __add__(self, other):\n",
    "        if not isinstance(other, Polygon):\n",
    "            raise TypeError('You can concatenate only Polygon with Polygon')\n",
    "        return Polygon(*self._pts, *other._pts)\n",
    "    \n",
    "    def append(self, pt):\n",
    "        self._pts.append(Point(*pt))\n",
    "        \n",
    "    def insert(self, i, pt):\n",
    "        self._pts.insert(i, Point(*pt))\n",
    "        \n",
    "    def extend(self, pts):\n",
    "        if isinstance(pts, Polygon):\n",
    "            self._pts += pts._pts\n",
    "        else:\n",
    "            self._pts += (Point(*pt) for pt in pts)    \n",
    "            \n",
    "    def __iadd__(self, other):\n",
    "        self.extend(other)\n",
    "        return self"
   ],
   "id": "b304bda6f51955f4",
   "outputs": [],
   "execution_count": 211
  },
  {
   "metadata": {
    "ExecuteTime": {
     "end_time": "2024-07-01T11:04:06.276429Z",
     "start_time": "2024-07-01T11:04:06.270478Z"
    }
   },
   "cell_type": "code",
   "source": [
    "p1 = Polygon((0, 0), (1, 1))\n",
    "p2 = Polygon((2, 2), (3, 3))\n",
    "p1.extend([Point(3,3)])\n",
    "p1"
   ],
   "id": "13fb09f5c9050335",
   "outputs": [
    {
     "data": {
      "text/plain": [
       "Polygon(Point(x=0, y=0), Point(x=1, y=1), Point(x=3, y=3))"
      ]
     },
     "execution_count": 220,
     "metadata": {},
     "output_type": "execute_result"
    }
   ],
   "execution_count": 220
  },
  {
   "metadata": {
    "ExecuteTime": {
     "end_time": "2024-07-01T11:41:57.226461Z",
     "start_time": "2024-07-01T11:41:57.217997Z"
    }
   },
   "cell_type": "code",
   "source": [
    "class Polygon:\n",
    "    def __init__(self, *pts):\n",
    "        if pts:\n",
    "            self._pts = [Point(*pt) for pt in pts]\n",
    "        else:\n",
    "            self._pts = []\n",
    "            \n",
    "    def __repr__(self):\n",
    "        pts = \", \".join(str(pt) for pt in self._pts)\n",
    "        return f'Polygon({pts})'\n",
    "    \n",
    "    def __len__(self):\n",
    "        return len(self._pts)\n",
    "    \n",
    "    def __getitem__(self, item):\n",
    "        return self._pts[item]\n",
    "    \n",
    "    def __setitem__(self, key, value):\n",
    "        self._pts[key] = [Point(*pt) for pt in value]\n",
    "    \n",
    "    def __add__(self, other):\n",
    "        if not isinstance(other, Polygon):\n",
    "            raise TypeError('You can concatenate only Polygon with Polygon')\n",
    "        return Polygon(*self._pts, *other._pts)\n",
    "    \n",
    "    def append(self, pt):\n",
    "        self._pts.append(Point(*pt))\n",
    "        \n",
    "    def insert(self, i, pt):\n",
    "        self._pts.insert(i, Point(*pt))\n",
    "        \n",
    "    def extend(self, pts):\n",
    "        if isinstance(pts, Polygon):\n",
    "            self._pts += pts._pts\n",
    "        else:\n",
    "            self._pts += (Point(*pt) for pt in pts)    \n",
    "            \n",
    "    def __iadd__(self, other):\n",
    "        self.extend(other)\n",
    "        return self"
   ],
   "id": "c59c1aa3a8365e60",
   "outputs": [],
   "execution_count": 232
  },
  {
   "metadata": {
    "ExecuteTime": {
     "end_time": "2024-07-01T11:41:57.424967Z",
     "start_time": "2024-07-01T11:41:57.419855Z"
    }
   },
   "cell_type": "code",
   "source": [
    "p1 = Polygon((0, 0), (1, 1), (2, 2))\n",
    "id(p1), p1"
   ],
   "id": "43f19457a4df1a77",
   "outputs": [
    {
     "data": {
      "text/plain": [
       "(139767777309472, Polygon(Point(x=0, y=0), Point(x=1, y=1), Point(x=2, y=2)))"
      ]
     },
     "execution_count": 233,
     "metadata": {},
     "output_type": "execute_result"
    }
   ],
   "execution_count": 233
  },
  {
   "metadata": {
    "ExecuteTime": {
     "end_time": "2024-07-01T11:41:57.604982Z",
     "start_time": "2024-07-01T11:41:57.600501Z"
    }
   },
   "cell_type": "code",
   "source": "p1[0:2]",
   "id": "3cef31cbf987577c",
   "outputs": [
    {
     "data": {
      "text/plain": [
       "[Point(x=0, y=0), Point(x=1, y=1)]"
      ]
     },
     "execution_count": 234,
     "metadata": {},
     "output_type": "execute_result"
    }
   ],
   "execution_count": 234
  },
  {
   "metadata": {
    "ExecuteTime": {
     "end_time": "2024-07-01T11:41:57.816236Z",
     "start_time": "2024-07-01T11:41:57.812831Z"
    }
   },
   "cell_type": "code",
   "source": "p1[0:2] = [(10, 10), Point(20, 20), [30, 30]] ",
   "id": "d9618a372c9cee31",
   "outputs": [],
   "execution_count": 235
  },
  {
   "metadata": {
    "ExecuteTime": {
     "end_time": "2024-07-01T11:41:58.198833Z",
     "start_time": "2024-07-01T11:41:58.194836Z"
    }
   },
   "cell_type": "code",
   "source": "p1",
   "id": "64f1f646d0af3248",
   "outputs": [
    {
     "data": {
      "text/plain": [
       "Polygon(Point(x=10, y=10), Point(x=20, y=20), Point(x=30, y=30), Point(x=2, y=2))"
      ]
     },
     "execution_count": 236,
     "metadata": {},
     "output_type": "execute_result"
    }
   ],
   "execution_count": 236
  },
  {
   "metadata": {
    "ExecuteTime": {
     "end_time": "2024-07-01T11:41:58.767383Z",
     "start_time": "2024-07-01T11:41:58.762336Z"
    }
   },
   "cell_type": "code",
   "source": "p1[0]",
   "id": "ef72d6c2cf417743",
   "outputs": [
    {
     "data": {
      "text/plain": [
       "Point(x=10, y=10)"
      ]
     },
     "execution_count": 237,
     "metadata": {},
     "output_type": "execute_result"
    }
   ],
   "execution_count": 237
  },
  {
   "metadata": {
    "ExecuteTime": {
     "end_time": "2024-07-01T11:44:44.810352Z",
     "start_time": "2024-07-01T11:44:44.801420Z"
    }
   },
   "cell_type": "code",
   "source": [
    "class Polygon:\n",
    "    def __init__(self, *pts):\n",
    "        if pts:\n",
    "            self._pts = [Point(*pt) for pt in pts]\n",
    "        else:\n",
    "            self._pts = []\n",
    "            \n",
    "    def __repr__(self):\n",
    "        pts = \", \".join(str(pt) for pt in self._pts)\n",
    "        return f'Polygon({pts})'\n",
    "    \n",
    "    def __len__(self):\n",
    "        return len(self._pts)\n",
    "    \n",
    "    def __getitem__(self, item):\n",
    "        return self._pts[item]\n",
    "    \n",
    "    def __setitem__(self, key, value):\n",
    "        if isinstance(key, int):\n",
    "            self._pts[key] = Point(*value)\n",
    "        else: \n",
    "            self._pts[key] = [Point(*pt) for pt in value]\n",
    "    \n",
    "    def __add__(self, other):\n",
    "        if not isinstance(other, Polygon):\n",
    "            raise TypeError('You can concatenate only Polygon with Polygon')\n",
    "        return Polygon(*self._pts, *other._pts)\n",
    "    \n",
    "    def append(self, pt):\n",
    "        self._pts.append(Point(*pt))\n",
    "        \n",
    "    def insert(self, i, pt):\n",
    "        self._pts.insert(i, Point(*pt))\n",
    "        \n",
    "    def extend(self, pts):\n",
    "        if isinstance(pts, Polygon):\n",
    "            self._pts += pts._pts\n",
    "        else:\n",
    "            self._pts += (Point(*pt) for pt in pts)    \n",
    "            \n",
    "    def __iadd__(self, other):\n",
    "        self.extend(other)\n",
    "        return self"
   ],
   "id": "fc1dbffba093ca25",
   "outputs": [],
   "execution_count": 240
  },
  {
   "metadata": {
    "ExecuteTime": {
     "end_time": "2024-07-01T11:44:53.572419Z",
     "start_time": "2024-07-01T11:44:53.567529Z"
    }
   },
   "cell_type": "code",
   "source": [
    "p1 = Polygon((0, 0), (1, 1), (2, 2))\n",
    "id(p1), p1"
   ],
   "id": "c91ffb9d03864eed",
   "outputs": [
    {
     "data": {
      "text/plain": [
       "(139767777293952, Polygon(Point(x=0, y=0), Point(x=1, y=1), Point(x=2, y=2)))"
      ]
     },
     "execution_count": 241,
     "metadata": {},
     "output_type": "execute_result"
    }
   ],
   "execution_count": 241
  },
  {
   "metadata": {
    "ExecuteTime": {
     "end_time": "2024-07-01T11:45:05.102176Z",
     "start_time": "2024-07-01T11:45:05.099019Z"
    }
   },
   "cell_type": "code",
   "source": "p1[0] = 10, 10",
   "id": "b313d7fd8275d183",
   "outputs": [],
   "execution_count": 242
  },
  {
   "metadata": {
    "ExecuteTime": {
     "end_time": "2024-07-01T11:45:14.453312Z",
     "start_time": "2024-07-01T11:45:14.447650Z"
    }
   },
   "cell_type": "code",
   "source": "id(p1), p1",
   "id": "2e9b952e871cdf96",
   "outputs": [
    {
     "data": {
      "text/plain": [
       "(139767777293952, Polygon(Point(x=10, y=10), Point(x=1, y=1), Point(x=2, y=2)))"
      ]
     },
     "execution_count": 244,
     "metadata": {},
     "output_type": "execute_result"
    }
   ],
   "execution_count": 244
  },
  {
   "metadata": {
    "ExecuteTime": {
     "end_time": "2024-07-01T11:47:40.761666Z",
     "start_time": "2024-07-01T11:47:40.746478Z"
    }
   },
   "cell_type": "code",
   "source": [
    "l = [1, 2, 3, 4]\n",
    "l[0:2] = 20"
   ],
   "id": "d45a51d2d0b8179d",
   "outputs": [
    {
     "ename": "TypeError",
     "evalue": "can only assign an iterable",
     "output_type": "error",
     "traceback": [
      "\u001B[0;31m---------------------------------------------------------------------------\u001B[0m",
      "\u001B[0;31mTypeError\u001B[0m                                 Traceback (most recent call last)",
      "Cell \u001B[0;32mIn[245], line 2\u001B[0m\n\u001B[1;32m      1\u001B[0m l \u001B[38;5;241m=\u001B[39m [\u001B[38;5;241m1\u001B[39m, \u001B[38;5;241m2\u001B[39m, \u001B[38;5;241m3\u001B[39m, \u001B[38;5;241m4\u001B[39m]\n\u001B[0;32m----> 2\u001B[0m \u001B[43ml\u001B[49m\u001B[43m[\u001B[49m\u001B[38;5;241;43m0\u001B[39;49m\u001B[43m:\u001B[49m\u001B[38;5;241;43m2\u001B[39;49m\u001B[43m]\u001B[49m \u001B[38;5;241m=\u001B[39m \u001B[38;5;241m20\u001B[39m\n",
      "\u001B[0;31mTypeError\u001B[0m: can only assign an iterable"
     ]
    }
   ],
   "execution_count": 245
  },
  {
   "metadata": {
    "ExecuteTime": {
     "end_time": "2024-07-01T11:48:07.408560Z",
     "start_time": "2024-07-01T11:48:07.379668Z"
    }
   },
   "cell_type": "code",
   "source": "p1[0:2] = Point(20, 20)",
   "id": "591e6098216a3038",
   "outputs": [
    {
     "ename": "TypeError",
     "evalue": "__main__.Point() argument after * must be an iterable, not int",
     "output_type": "error",
     "traceback": [
      "\u001B[0;31m---------------------------------------------------------------------------\u001B[0m",
      "\u001B[0;31mTypeError\u001B[0m                                 Traceback (most recent call last)",
      "Cell \u001B[0;32mIn[247], line 1\u001B[0m\n\u001B[0;32m----> 1\u001B[0m \u001B[43mp1\u001B[49m\u001B[43m[\u001B[49m\u001B[38;5;241;43m0\u001B[39;49m\u001B[43m:\u001B[49m\u001B[38;5;241;43m2\u001B[39;49m\u001B[43m]\u001B[49m \u001B[38;5;241m=\u001B[39m Point(\u001B[38;5;241m20\u001B[39m, \u001B[38;5;241m20\u001B[39m)\n",
      "Cell \u001B[0;32mIn[240], line 22\u001B[0m, in \u001B[0;36mPolygon.__setitem__\u001B[0;34m(self, key, value)\u001B[0m\n\u001B[1;32m     20\u001B[0m     \u001B[38;5;28mself\u001B[39m\u001B[38;5;241m.\u001B[39m_pts[key] \u001B[38;5;241m=\u001B[39m Point(\u001B[38;5;241m*\u001B[39mvalue)\n\u001B[1;32m     21\u001B[0m \u001B[38;5;28;01melse\u001B[39;00m: \n\u001B[0;32m---> 22\u001B[0m     \u001B[38;5;28mself\u001B[39m\u001B[38;5;241m.\u001B[39m_pts[key] \u001B[38;5;241m=\u001B[39m [\u001B[43mPoint\u001B[49m\u001B[43m(\u001B[49m\u001B[38;5;241;43m*\u001B[39;49m\u001B[43mpt\u001B[49m\u001B[43m)\u001B[49m \u001B[38;5;28;01mfor\u001B[39;00m pt \u001B[38;5;129;01min\u001B[39;00m value]\n",
      "\u001B[0;31mTypeError\u001B[0m: __main__.Point() argument after * must be an iterable, not int"
     ]
    }
   ],
   "execution_count": 247
  },
  {
   "metadata": {
    "ExecuteTime": {
     "end_time": "2024-07-01T11:50:10.212374Z",
     "start_time": "2024-07-01T11:50:10.167974Z"
    }
   },
   "cell_type": "code",
   "source": "p1[0] = [Point(10, 10), Point(20, 20)]",
   "id": "b3144a6f885da201",
   "outputs": [
    {
     "ename": "TypeError",
     "evalue": "Point coordinates must be real numbers.",
     "output_type": "error",
     "traceback": [
      "\u001B[0;31m---------------------------------------------------------------------------\u001B[0m",
      "\u001B[0;31mTypeError\u001B[0m                                 Traceback (most recent call last)",
      "Cell \u001B[0;32mIn[248], line 1\u001B[0m\n\u001B[0;32m----> 1\u001B[0m \u001B[43mp1\u001B[49m\u001B[43m[\u001B[49m\u001B[38;5;241;43m0\u001B[39;49m\u001B[43m]\u001B[49m \u001B[38;5;241m=\u001B[39m [Point(\u001B[38;5;241m10\u001B[39m, \u001B[38;5;241m10\u001B[39m), Point(\u001B[38;5;241m20\u001B[39m, \u001B[38;5;241m20\u001B[39m)]\n",
      "Cell \u001B[0;32mIn[240], line 20\u001B[0m, in \u001B[0;36mPolygon.__setitem__\u001B[0;34m(self, key, value)\u001B[0m\n\u001B[1;32m     18\u001B[0m \u001B[38;5;28;01mdef\u001B[39;00m \u001B[38;5;21m__setitem__\u001B[39m(\u001B[38;5;28mself\u001B[39m, key, value):\n\u001B[1;32m     19\u001B[0m     \u001B[38;5;28;01mif\u001B[39;00m \u001B[38;5;28misinstance\u001B[39m(key, \u001B[38;5;28mint\u001B[39m):\n\u001B[0;32m---> 20\u001B[0m         \u001B[38;5;28mself\u001B[39m\u001B[38;5;241m.\u001B[39m_pts[key] \u001B[38;5;241m=\u001B[39m \u001B[43mPoint\u001B[49m\u001B[43m(\u001B[49m\u001B[38;5;241;43m*\u001B[39;49m\u001B[43mvalue\u001B[49m\u001B[43m)\u001B[49m\n\u001B[1;32m     21\u001B[0m     \u001B[38;5;28;01melse\u001B[39;00m: \n\u001B[1;32m     22\u001B[0m         \u001B[38;5;28mself\u001B[39m\u001B[38;5;241m.\u001B[39m_pts[key] \u001B[38;5;241m=\u001B[39m [Point(\u001B[38;5;241m*\u001B[39mpt) \u001B[38;5;28;01mfor\u001B[39;00m pt \u001B[38;5;129;01min\u001B[39;00m value]\n",
      "Cell \u001B[0;32mIn[63], line 7\u001B[0m, in \u001B[0;36mPoint.__init__\u001B[0;34m(self, x, y)\u001B[0m\n\u001B[1;32m      5\u001B[0m     \u001B[38;5;28mself\u001B[39m\u001B[38;5;241m.\u001B[39m_pt \u001B[38;5;241m=\u001B[39m x, y\n\u001B[1;32m      6\u001B[0m \u001B[38;5;28;01melse\u001B[39;00m:\n\u001B[0;32m----> 7\u001B[0m     \u001B[38;5;28;01mraise\u001B[39;00m \u001B[38;5;167;01mTypeError\u001B[39;00m(\u001B[38;5;124mf\u001B[39m\u001B[38;5;124m'\u001B[39m\u001B[38;5;124mPoint coordinates must be real numbers.\u001B[39m\u001B[38;5;124m'\u001B[39m)\n",
      "\u001B[0;31mTypeError\u001B[0m: Point coordinates must be real numbers."
     ]
    }
   ],
   "execution_count": 248
  },
  {
   "metadata": {
    "ExecuteTime": {
     "end_time": "2024-07-01T12:04:06.776828Z",
     "start_time": "2024-07-01T12:04:06.767302Z"
    }
   },
   "cell_type": "code",
   "source": [
    "class Polygon:\n",
    "    def __init__(self, *pts):\n",
    "        if pts:\n",
    "            self._pts = [Point(*pt) for pt in pts]\n",
    "        else:\n",
    "            self._pts = []\n",
    "            \n",
    "    def __repr__(self):\n",
    "        pts = \", \".join(str(pt) for pt in self._pts)\n",
    "        return f'Polygon({pts})'\n",
    "    \n",
    "    def __len__(self):\n",
    "        return len(self._pts)\n",
    "    \n",
    "    def __getitem__(self, item):\n",
    "        return self._pts[item]\n",
    "    \n",
    "    def __setitem__(self, key, value):\n",
    "        try:\n",
    "            rhs = [Point(*pt) for pt in value]\n",
    "            is_single = False\n",
    "        except TypeError:   \n",
    "            try:\n",
    "                rhs = Point(*value)\n",
    "                is_single = True\n",
    "            except TypeError:\n",
    "                raise TypeError('Invalid Point or iterable of Points')\n",
    "        \n",
    "        if isinstance(key, int) and is_single \\\n",
    "            or isinstance(key, slice) and not is_single:\n",
    "            self._pts[key] = rhs\n",
    "        else:\n",
    "            raise TypeError('Incompatible index/slice assigment')\n",
    "    \n",
    "    def __add__(self, other):\n",
    "        if not isinstance(other, Polygon):\n",
    "            raise TypeError('You can concatenate only Polygon with Polygon')\n",
    "        return Polygon(*self._pts, *other._pts)\n",
    "    \n",
    "    def append(self, pt):\n",
    "        self._pts.append(Point(*pt))\n",
    "        \n",
    "    def insert(self, i, pt):\n",
    "        self._pts.insert(i, Point(*pt))\n",
    "        \n",
    "    def extend(self, pts):\n",
    "        if isinstance(pts, Polygon):\n",
    "            self._pts += pts._pts\n",
    "        else:\n",
    "            self._pts += (Point(*pt) for pt in pts)    \n",
    "            \n",
    "    def __iadd__(self, other):\n",
    "        self.extend(other)\n",
    "        return self"
   ],
   "id": "f374cc71e5a24f82",
   "outputs": [],
   "execution_count": 261
  },
  {
   "metadata": {
    "ExecuteTime": {
     "end_time": "2024-07-01T12:04:07.307682Z",
     "start_time": "2024-07-01T12:04:07.302638Z"
    }
   },
   "cell_type": "code",
   "source": [
    "p1 = Polygon((0, 0), (1, 1), (2, 2))\n",
    "id(p1), p1"
   ],
   "id": "309d687e8e310ec8",
   "outputs": [
    {
     "data": {
      "text/plain": [
       "(139767777354880, Polygon(Point(x=0, y=0), Point(x=1, y=1), Point(x=2, y=2)))"
      ]
     },
     "execution_count": 262,
     "metadata": {},
     "output_type": "execute_result"
    }
   ],
   "execution_count": 262
  },
  {
   "metadata": {
    "ExecuteTime": {
     "end_time": "2024-07-01T12:04:07.550283Z",
     "start_time": "2024-07-01T12:04:07.526828Z"
    }
   },
   "cell_type": "code",
   "source": "p1[0] = [(0, 0), (1, 1)]",
   "id": "721ba4292e272b3b",
   "outputs": [
    {
     "ename": "TypeError",
     "evalue": "Incompatible index/slice assigment",
     "output_type": "error",
     "traceback": [
      "\u001B[0;31m---------------------------------------------------------------------------\u001B[0m",
      "\u001B[0;31mTypeError\u001B[0m                                 Traceback (most recent call last)",
      "Cell \u001B[0;32mIn[263], line 1\u001B[0m\n\u001B[0;32m----> 1\u001B[0m \u001B[43mp1\u001B[49m\u001B[43m[\u001B[49m\u001B[38;5;241;43m0\u001B[39;49m\u001B[43m]\u001B[49m \u001B[38;5;241m=\u001B[39m [(\u001B[38;5;241m0\u001B[39m, \u001B[38;5;241m0\u001B[39m), (\u001B[38;5;241m1\u001B[39m, \u001B[38;5;241m1\u001B[39m)]\n",
      "Cell \u001B[0;32mIn[261], line 33\u001B[0m, in \u001B[0;36mPolygon.__setitem__\u001B[0;34m(self, key, value)\u001B[0m\n\u001B[1;32m     31\u001B[0m     \u001B[38;5;28mself\u001B[39m\u001B[38;5;241m.\u001B[39m_pts[key] \u001B[38;5;241m=\u001B[39m rhs\n\u001B[1;32m     32\u001B[0m \u001B[38;5;28;01melse\u001B[39;00m:\n\u001B[0;32m---> 33\u001B[0m     \u001B[38;5;28;01mraise\u001B[39;00m \u001B[38;5;167;01mTypeError\u001B[39;00m(\u001B[38;5;124m'\u001B[39m\u001B[38;5;124mIncompatible index/slice assigment\u001B[39m\u001B[38;5;124m'\u001B[39m)\n",
      "\u001B[0;31mTypeError\u001B[0m: Incompatible index/slice assigment"
     ]
    }
   ],
   "execution_count": 263
  },
  {
   "metadata": {
    "ExecuteTime": {
     "end_time": "2024-07-01T12:04:07.826212Z",
     "start_time": "2024-07-01T12:04:07.792364Z"
    }
   },
   "cell_type": "code",
   "source": "p1[0:2] = Point(10, 10)",
   "id": "a5187910ef1fe623",
   "outputs": [
    {
     "ename": "TypeError",
     "evalue": "Incompatible index/slice assigment",
     "output_type": "error",
     "traceback": [
      "\u001B[0;31m---------------------------------------------------------------------------\u001B[0m",
      "\u001B[0;31mTypeError\u001B[0m                                 Traceback (most recent call last)",
      "Cell \u001B[0;32mIn[264], line 1\u001B[0m\n\u001B[0;32m----> 1\u001B[0m \u001B[43mp1\u001B[49m\u001B[43m[\u001B[49m\u001B[38;5;241;43m0\u001B[39;49m\u001B[43m:\u001B[49m\u001B[38;5;241;43m2\u001B[39;49m\u001B[43m]\u001B[49m \u001B[38;5;241m=\u001B[39m Point(\u001B[38;5;241m10\u001B[39m, \u001B[38;5;241m10\u001B[39m)\n",
      "Cell \u001B[0;32mIn[261], line 33\u001B[0m, in \u001B[0;36mPolygon.__setitem__\u001B[0;34m(self, key, value)\u001B[0m\n\u001B[1;32m     31\u001B[0m     \u001B[38;5;28mself\u001B[39m\u001B[38;5;241m.\u001B[39m_pts[key] \u001B[38;5;241m=\u001B[39m rhs\n\u001B[1;32m     32\u001B[0m \u001B[38;5;28;01melse\u001B[39;00m:\n\u001B[0;32m---> 33\u001B[0m     \u001B[38;5;28;01mraise\u001B[39;00m \u001B[38;5;167;01mTypeError\u001B[39;00m(\u001B[38;5;124m'\u001B[39m\u001B[38;5;124mIncompatible index/slice assigment\u001B[39m\u001B[38;5;124m'\u001B[39m)\n",
      "\u001B[0;31mTypeError\u001B[0m: Incompatible index/slice assigment"
     ]
    }
   ],
   "execution_count": 264
  },
  {
   "metadata": {
    "ExecuteTime": {
     "end_time": "2024-07-01T12:04:26.116466Z",
     "start_time": "2024-07-01T12:04:26.112862Z"
    }
   },
   "cell_type": "code",
   "source": "p1[0:2] = Point(10, 10), Point(20, 20), Point(30, 30)",
   "id": "587b716445f724e5",
   "outputs": [],
   "execution_count": 266
  },
  {
   "metadata": {
    "ExecuteTime": {
     "end_time": "2024-07-01T12:04:29.409771Z",
     "start_time": "2024-07-01T12:04:29.404835Z"
    }
   },
   "cell_type": "code",
   "source": "p1",
   "id": "42b337f147dee45b",
   "outputs": [
    {
     "data": {
      "text/plain": [
       "Polygon(Point(x=10, y=10), Point(x=20, y=20), Point(x=30, y=30), Point(x=2, y=2))"
      ]
     },
     "execution_count": 267,
     "metadata": {},
     "output_type": "execute_result"
    }
   ],
   "execution_count": 267
  },
  {
   "metadata": {
    "ExecuteTime": {
     "end_time": "2024-07-01T12:05:39.754943Z",
     "start_time": "2024-07-01T12:05:39.688003Z"
    }
   },
   "cell_type": "code",
   "source": "p1[0] = 'a', 'b'",
   "id": "e2b79d8bff2f0530",
   "outputs": [
    {
     "ename": "TypeError",
     "evalue": "Invalid Point or iterable of Points",
     "output_type": "error",
     "traceback": [
      "\u001B[0;31m---------------------------------------------------------------------------\u001B[0m",
      "\u001B[0;31mTypeError\u001B[0m                                 Traceback (most recent call last)",
      "Cell \u001B[0;32mIn[261], line 20\u001B[0m, in \u001B[0;36mPolygon.__setitem__\u001B[0;34m(self, key, value)\u001B[0m\n\u001B[1;32m     19\u001B[0m \u001B[38;5;28;01mtry\u001B[39;00m:\n\u001B[0;32m---> 20\u001B[0m     rhs \u001B[38;5;241m=\u001B[39m [\u001B[43mPoint\u001B[49m\u001B[43m(\u001B[49m\u001B[38;5;241;43m*\u001B[39;49m\u001B[43mpt\u001B[49m\u001B[43m)\u001B[49m \u001B[38;5;28;01mfor\u001B[39;00m pt \u001B[38;5;129;01min\u001B[39;00m value]\n\u001B[1;32m     21\u001B[0m     is_single \u001B[38;5;241m=\u001B[39m \u001B[38;5;28;01mFalse\u001B[39;00m\n",
      "\u001B[0;31mTypeError\u001B[0m: Point.__init__() missing 1 required positional argument: 'y'",
      "\nDuring handling of the above exception, another exception occurred:\n",
      "\u001B[0;31mTypeError\u001B[0m                                 Traceback (most recent call last)",
      "Cell \u001B[0;32mIn[261], line 24\u001B[0m, in \u001B[0;36mPolygon.__setitem__\u001B[0;34m(self, key, value)\u001B[0m\n\u001B[1;32m     23\u001B[0m \u001B[38;5;28;01mtry\u001B[39;00m:\n\u001B[0;32m---> 24\u001B[0m     rhs \u001B[38;5;241m=\u001B[39m \u001B[43mPoint\u001B[49m\u001B[43m(\u001B[49m\u001B[38;5;241;43m*\u001B[39;49m\u001B[43mvalue\u001B[49m\u001B[43m)\u001B[49m\n\u001B[1;32m     25\u001B[0m     is_single \u001B[38;5;241m=\u001B[39m \u001B[38;5;28;01mTrue\u001B[39;00m\n",
      "Cell \u001B[0;32mIn[63], line 7\u001B[0m, in \u001B[0;36mPoint.__init__\u001B[0;34m(self, x, y)\u001B[0m\n\u001B[1;32m      6\u001B[0m \u001B[38;5;28;01melse\u001B[39;00m:\n\u001B[0;32m----> 7\u001B[0m     \u001B[38;5;28;01mraise\u001B[39;00m \u001B[38;5;167;01mTypeError\u001B[39;00m(\u001B[38;5;124mf\u001B[39m\u001B[38;5;124m'\u001B[39m\u001B[38;5;124mPoint coordinates must be real numbers.\u001B[39m\u001B[38;5;124m'\u001B[39m)\n",
      "\u001B[0;31mTypeError\u001B[0m: Point coordinates must be real numbers.",
      "\nDuring handling of the above exception, another exception occurred:\n",
      "\u001B[0;31mTypeError\u001B[0m                                 Traceback (most recent call last)",
      "Cell \u001B[0;32mIn[268], line 1\u001B[0m\n\u001B[0;32m----> 1\u001B[0m \u001B[43mp1\u001B[49m\u001B[43m[\u001B[49m\u001B[38;5;241;43m0\u001B[39;49m\u001B[43m]\u001B[49m \u001B[38;5;241m=\u001B[39m \u001B[38;5;124m'\u001B[39m\u001B[38;5;124ma\u001B[39m\u001B[38;5;124m'\u001B[39m, \u001B[38;5;124m'\u001B[39m\u001B[38;5;124mb\u001B[39m\u001B[38;5;124m'\u001B[39m\n",
      "Cell \u001B[0;32mIn[261], line 27\u001B[0m, in \u001B[0;36mPolygon.__setitem__\u001B[0;34m(self, key, value)\u001B[0m\n\u001B[1;32m     25\u001B[0m         is_single \u001B[38;5;241m=\u001B[39m \u001B[38;5;28;01mTrue\u001B[39;00m\n\u001B[1;32m     26\u001B[0m     \u001B[38;5;28;01mexcept\u001B[39;00m \u001B[38;5;167;01mTypeError\u001B[39;00m:\n\u001B[0;32m---> 27\u001B[0m         \u001B[38;5;28;01mraise\u001B[39;00m \u001B[38;5;167;01mTypeError\u001B[39;00m(\u001B[38;5;124m'\u001B[39m\u001B[38;5;124mInvalid Point or iterable of Points\u001B[39m\u001B[38;5;124m'\u001B[39m)\n\u001B[1;32m     29\u001B[0m \u001B[38;5;28;01mif\u001B[39;00m \u001B[38;5;28misinstance\u001B[39m(key, \u001B[38;5;28mint\u001B[39m) \u001B[38;5;129;01mand\u001B[39;00m is_single \\\n\u001B[1;32m     30\u001B[0m     \u001B[38;5;129;01mor\u001B[39;00m \u001B[38;5;28misinstance\u001B[39m(key, \u001B[38;5;28mslice\u001B[39m) \u001B[38;5;129;01mand\u001B[39;00m \u001B[38;5;129;01mnot\u001B[39;00m is_single:\n\u001B[1;32m     31\u001B[0m     \u001B[38;5;28mself\u001B[39m\u001B[38;5;241m.\u001B[39m_pts[key] \u001B[38;5;241m=\u001B[39m rhs\n",
      "\u001B[0;31mTypeError\u001B[0m: Invalid Point or iterable of Points"
     ]
    }
   ],
   "execution_count": 268
  },
  {
   "metadata": {
    "ExecuteTime": {
     "end_time": "2024-07-01T12:10:17.327785Z",
     "start_time": "2024-07-01T12:10:17.317618Z"
    }
   },
   "cell_type": "code",
   "source": [
    "class Polygon:\n",
    "    def __init__(self, *pts):\n",
    "        if pts:\n",
    "            self._pts = [Point(*pt) for pt in pts]\n",
    "        else:\n",
    "            self._pts = []\n",
    "            \n",
    "    def __repr__(self):\n",
    "        pts = \", \".join(str(pt) for pt in self._pts)\n",
    "        return f'Polygon({pts})'\n",
    "    \n",
    "    def __len__(self):\n",
    "        return len(self._pts)\n",
    "    \n",
    "    def __getitem__(self, item):\n",
    "        return self._pts[item]\n",
    "    \n",
    "    def __setitem__(self, key, value):\n",
    "        try:\n",
    "            rhs = [Point(*pt) for pt in value]\n",
    "            is_single = False\n",
    "        except TypeError:   \n",
    "            try:\n",
    "                rhs = Point(*value)\n",
    "                is_single = True\n",
    "            except TypeError:\n",
    "                raise TypeError('Invalid Point or iterable of Points')\n",
    "        \n",
    "        if isinstance(key, int) and is_single \\\n",
    "            or isinstance(key, slice) and not is_single:\n",
    "            self._pts[key] = rhs\n",
    "        else:\n",
    "            raise TypeError('Incompatible index/slice assigment')\n",
    "    \n",
    "    def __add__(self, other):\n",
    "        if not isinstance(other, Polygon):\n",
    "            raise TypeError('You can concatenate only Polygon with Polygon')\n",
    "        return Polygon(*self._pts, *other._pts)\n",
    "    \n",
    "    def append(self, pt):\n",
    "        self._pts.append(Point(*pt))\n",
    "        \n",
    "    def insert(self, i, pt):\n",
    "        self._pts.insert(i, Point(*pt))\n",
    "        \n",
    "    def extend(self, pts):\n",
    "        if isinstance(pts, Polygon):\n",
    "            self._pts += pts._pts\n",
    "        else:\n",
    "            self._pts += (Point(*pt) for pt in pts)    \n",
    "            \n",
    "    def __iadd__(self, other):\n",
    "        self.extend(other)\n",
    "        return self\n",
    "    \n",
    "    def __delitem__(self, key):\n",
    "        del self._pts[key]\n",
    "        \n",
    "    def pop(self, index: int):\n",
    "        return self._pts.pop(index)"
   ],
   "id": "adc27d23d4b02201",
   "outputs": [],
   "execution_count": 282
  },
  {
   "metadata": {
    "ExecuteTime": {
     "end_time": "2024-07-01T12:10:17.542349Z",
     "start_time": "2024-07-01T12:10:17.537586Z"
    }
   },
   "cell_type": "code",
   "source": [
    "p1 = Polygon((0, 0), (1, 1), (2, 2), (3, 3))\n",
    "p1"
   ],
   "id": "733061749ff4585",
   "outputs": [
    {
     "data": {
      "text/plain": [
       "Polygon(Point(x=0, y=0), Point(x=1, y=1), Point(x=2, y=2), Point(x=3, y=3))"
      ]
     },
     "execution_count": 283,
     "metadata": {},
     "output_type": "execute_result"
    }
   ],
   "execution_count": 283
  },
  {
   "metadata": {
    "ExecuteTime": {
     "end_time": "2024-07-01T12:10:17.990915Z",
     "start_time": "2024-07-01T12:10:17.986493Z"
    }
   },
   "cell_type": "code",
   "source": [
    "del p1[0]\n",
    "p1"
   ],
   "id": "afaeace9c027447e",
   "outputs": [
    {
     "data": {
      "text/plain": [
       "Polygon(Point(x=1, y=1), Point(x=2, y=2), Point(x=3, y=3))"
      ]
     },
     "execution_count": 284,
     "metadata": {},
     "output_type": "execute_result"
    }
   ],
   "execution_count": 284
  },
  {
   "metadata": {
    "ExecuteTime": {
     "end_time": "2024-07-01T12:10:23.284548Z",
     "start_time": "2024-07-01T12:10:23.279909Z"
    }
   },
   "cell_type": "code",
   "source": [
    "del p1[0:2]\n",
    "p1"
   ],
   "id": "af8a819466ae6e2",
   "outputs": [
    {
     "data": {
      "text/plain": [
       "Polygon(Point(x=3, y=3))"
      ]
     },
     "execution_count": 285,
     "metadata": {},
     "output_type": "execute_result"
    }
   ],
   "execution_count": 285
  },
  {
   "metadata": {
    "ExecuteTime": {
     "end_time": "2024-07-01T12:10:32.465226Z",
     "start_time": "2024-07-01T12:10:32.460774Z"
    }
   },
   "cell_type": "code",
   "source": "p1.pop(0)",
   "id": "59a96c5103afacda",
   "outputs": [
    {
     "data": {
      "text/plain": [
       "Point(x=3, y=3)"
      ]
     },
     "execution_count": 286,
     "metadata": {},
     "output_type": "execute_result"
    }
   ],
   "execution_count": 286
  },
  {
   "metadata": {
    "ExecuteTime": {
     "end_time": "2024-07-01T12:10:35.827165Z",
     "start_time": "2024-07-01T12:10:35.822375Z"
    }
   },
   "cell_type": "code",
   "source": "p1",
   "id": "9c1f451a85cdb2d",
   "outputs": [
    {
     "data": {
      "text/plain": [
       "Polygon()"
      ]
     },
     "execution_count": 287,
     "metadata": {},
     "output_type": "execute_result"
    }
   ],
   "execution_count": 287
  },
  {
   "metadata": {
    "ExecuteTime": {
     "end_time": "2024-07-01T12:12:18.282541Z",
     "start_time": "2024-07-01T12:12:18.272063Z"
    }
   },
   "cell_type": "code",
   "source": [
    "class Polygon:\n",
    "    def __init__(self, *pts):\n",
    "        if pts:\n",
    "            self._pts = [Point(*pt) for pt in pts]\n",
    "        else:\n",
    "            self._pts = []\n",
    "            \n",
    "    def __repr__(self):\n",
    "        pts = \", \".join(str(pt) for pt in self._pts)\n",
    "        return f'Polygon({pts})'\n",
    "    \n",
    "    def __len__(self):\n",
    "        return len(self._pts)\n",
    "    \n",
    "    def __getitem__(self, item):\n",
    "        return self._pts[item]\n",
    "    \n",
    "    def __setitem__(self, key, value):\n",
    "        try:\n",
    "            rhs = [Point(*pt) for pt in value]\n",
    "            is_single = False\n",
    "        except TypeError:   \n",
    "            try:\n",
    "                rhs = Point(*value)\n",
    "                is_single = True\n",
    "            except TypeError:\n",
    "                raise TypeError('Invalid Point or iterable of Points')\n",
    "        \n",
    "        if isinstance(key, int) and is_single \\\n",
    "            or isinstance(key, slice) and not is_single:\n",
    "            self._pts[key] = rhs\n",
    "        else:\n",
    "            raise TypeError('Incompatible index/slice assigment')\n",
    "    \n",
    "    def __add__(self, other):\n",
    "        if not isinstance(other, Polygon):\n",
    "            raise TypeError('You can concatenate only Polygon with Polygon')\n",
    "        return Polygon(*self._pts, *other._pts)\n",
    "    \n",
    "    def append(self, pt):\n",
    "        self._pts.append(Point(*pt))\n",
    "        \n",
    "    def insert(self, i, pt):\n",
    "        self._pts.insert(i, Point(*pt))\n",
    "        \n",
    "    def extend(self, pts):\n",
    "        if isinstance(pts, Polygon):\n",
    "            self._pts += pts._pts\n",
    "        else:\n",
    "            self._pts += (Point(*pt) for pt in pts)    \n",
    "            \n",
    "    def __iadd__(self, other):\n",
    "        self.extend(other)\n",
    "        return self\n",
    "    \n",
    "    def __delitem__(self, key):\n",
    "        del self._pts[key]\n",
    "        \n",
    "    def pop(self, index: int):\n",
    "        return self._pts.pop(index)\n",
    "    \n",
    "    def clear(self):\n",
    "        self._pts.clear()"
   ],
   "id": "9b62487102030155",
   "outputs": [],
   "execution_count": 290
  },
  {
   "metadata": {
    "ExecuteTime": {
     "end_time": "2024-07-01T12:12:18.987565Z",
     "start_time": "2024-07-01T12:12:18.983088Z"
    }
   },
   "cell_type": "code",
   "source": [
    "p1 = Polygon((0, 0), (1, 1), (2, 2), (3, 3))\n",
    "p1"
   ],
   "id": "24938aefd035037d",
   "outputs": [
    {
     "data": {
      "text/plain": [
       "Polygon(Point(x=0, y=0), Point(x=1, y=1), Point(x=2, y=2), Point(x=3, y=3))"
      ]
     },
     "execution_count": 291,
     "metadata": {},
     "output_type": "execute_result"
    }
   ],
   "execution_count": 291
  },
  {
   "metadata": {
    "ExecuteTime": {
     "end_time": "2024-07-01T12:12:26.915692Z",
     "start_time": "2024-07-01T12:12:26.911307Z"
    }
   },
   "cell_type": "code",
   "source": [
    "p1.clear()\n",
    "p1"
   ],
   "id": "22351f7cb290dd4c",
   "outputs": [
    {
     "data": {
      "text/plain": [
       "Polygon()"
      ]
     },
     "execution_count": 294,
     "metadata": {},
     "output_type": "execute_result"
    }
   ],
   "execution_count": 294
  }
 ],
 "metadata": {
  "kernelspec": {
   "display_name": "Python 3",
   "language": "python",
   "name": "python3"
  },
  "language_info": {
   "codemirror_mode": {
    "name": "ipython",
    "version": 2
   },
   "file_extension": ".py",
   "mimetype": "text/x-python",
   "name": "python",
   "nbconvert_exporter": "python",
   "pygments_lexer": "ipython2",
   "version": "2.7.6"
  }
 },
 "nbformat": 4,
 "nbformat_minor": 5
}
