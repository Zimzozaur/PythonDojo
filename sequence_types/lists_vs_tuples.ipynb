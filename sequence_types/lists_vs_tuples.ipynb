{
 "cells": [
  {
   "cell_type": "code",
   "id": "initial_id",
   "metadata": {
    "collapsed": true,
    "ExecuteTime": {
     "end_time": "2024-06-14T11:05:51.679440Z",
     "start_time": "2024-06-14T11:05:51.676651Z"
    }
   },
   "source": "from dis import dis",
   "outputs": [],
   "execution_count": 2
  },
  {
   "metadata": {
    "ExecuteTime": {
     "end_time": "2024-06-14T11:05:58.478915Z",
     "start_time": "2024-06-14T11:05:58.469262Z"
    }
   },
   "cell_type": "code",
   "source": "(1, 2, 3)",
   "id": "5eebd2fc3a4e0d12",
   "outputs": [
    {
     "data": {
      "text/plain": [
       "(1, 2, 3)"
      ]
     },
     "execution_count": 3,
     "metadata": {},
     "output_type": "execute_result"
    }
   ],
   "execution_count": 3
  },
  {
   "metadata": {
    "ExecuteTime": {
     "end_time": "2024-06-14T11:06:01.691898Z",
     "start_time": "2024-06-14T11:06:01.687108Z"
    }
   },
   "cell_type": "code",
   "source": "[1, 2, 3]",
   "id": "bc67f40f13bdc24a",
   "outputs": [
    {
     "data": {
      "text/plain": [
       "[1, 2, 3]"
      ]
     },
     "execution_count": 4,
     "metadata": {},
     "output_type": "execute_result"
    }
   ],
   "execution_count": 4
  },
  {
   "metadata": {
    "ExecuteTime": {
     "end_time": "2024-06-14T11:08:09.693920Z",
     "start_time": "2024-06-14T11:08:09.690717Z"
    }
   },
   "cell_type": "code",
   "source": "dis(compile('(1, 2, 3, \"a\")', 'string', 'eval'))",
   "id": "1f50e0d641e411c0",
   "outputs": [
    {
     "name": "stdout",
     "output_type": "stream",
     "text": [
      "  0           0 RESUME                   0\n",
      "\n",
      "  1           2 RETURN_CONST             0 ((1, 2, 3, 'a'))\n"
     ]
    }
   ],
   "execution_count": 8
  },
  {
   "metadata": {
    "ExecuteTime": {
     "end_time": "2024-06-14T11:08:39.416374Z",
     "start_time": "2024-06-14T11:08:39.412383Z"
    }
   },
   "cell_type": "code",
   "source": "dis(compile('[1, 2, 3, \"a\"]', 'string', 'eval'))",
   "id": "cd167952a49761be",
   "outputs": [
    {
     "name": "stdout",
     "output_type": "stream",
     "text": [
      "  0           0 RESUME                   0\n",
      "\n",
      "  1           2 BUILD_LIST               0\n",
      "              4 LOAD_CONST               0 ((1, 2, 3, 'a'))\n",
      "              6 LIST_EXTEND              1\n",
      "              8 RETURN_VALUE\n"
     ]
    }
   ],
   "execution_count": 9
  },
  {
   "metadata": {
    "ExecuteTime": {
     "end_time": "2024-06-14T11:10:32.921252Z",
     "start_time": "2024-06-14T11:10:32.917206Z"
    }
   },
   "cell_type": "code",
   "source": "dis(compile('(1, 2, 3, [10, 20])', 'string', 'eval'))",
   "id": "c543ca3cacf93cce",
   "outputs": [
    {
     "name": "stdout",
     "output_type": "stream",
     "text": [
      "  0           0 RESUME                   0\n",
      "\n",
      "  1           2 LOAD_CONST               0 (1)\n",
      "              4 LOAD_CONST               1 (2)\n",
      "              6 LOAD_CONST               2 (3)\n",
      "              8 LOAD_CONST               3 (10)\n",
      "             10 LOAD_CONST               4 (20)\n",
      "             12 BUILD_LIST               2\n",
      "             14 BUILD_TUPLE              4\n",
      "             16 RETURN_VALUE\n"
     ]
    }
   ],
   "execution_count": 11
  },
  {
   "metadata": {
    "ExecuteTime": {
     "end_time": "2024-06-14T11:11:49.861373Z",
     "start_time": "2024-06-14T11:11:49.858397Z"
    }
   },
   "cell_type": "code",
   "source": "from timeit import timeit",
   "id": "b7454ace04918c5c",
   "outputs": [],
   "execution_count": 12
  },
  {
   "metadata": {
    "ExecuteTime": {
     "end_time": "2024-06-14T11:12:41.415612Z",
     "start_time": "2024-06-14T11:12:41.288536Z"
    }
   },
   "cell_type": "code",
   "source": "timeit(\"(1, 2, 3, 4, 5, 6, 7, 8, 9)\", number=10**7)",
   "id": "5ae383ba2be6e9ba",
   "outputs": [
    {
     "data": {
      "text/plain": [
       "0.12052011000014318"
      ]
     },
     "execution_count": 18,
     "metadata": {},
     "output_type": "execute_result"
    }
   ],
   "execution_count": 18
  },
  {
   "metadata": {
    "ExecuteTime": {
     "end_time": "2024-06-14T11:12:42.235313Z",
     "start_time": "2024-06-14T11:12:41.530945Z"
    }
   },
   "cell_type": "code",
   "source": "timeit(\"[1, 2, 3, 4, 5, 6, 7, 8, 9]\", number=10**7)",
   "id": "740a02b6e527a703",
   "outputs": [
    {
     "data": {
      "text/plain": [
       "0.7003739689989743"
      ]
     },
     "execution_count": 19,
     "metadata": {},
     "output_type": "execute_result"
    }
   ],
   "execution_count": 19
  },
  {
   "metadata": {
    "ExecuteTime": {
     "end_time": "2024-06-14T11:15:10.598627Z",
     "start_time": "2024-06-14T11:15:10.595687Z"
    }
   },
   "cell_type": "code",
   "source": [
    "def fn1():\n",
    "    pass"
   ],
   "id": "69c780cadd231b15",
   "outputs": [],
   "execution_count": 23
  },
  {
   "metadata": {
    "ExecuteTime": {
     "end_time": "2024-06-14T11:16:35.643790Z",
     "start_time": "2024-06-14T11:16:35.639813Z"
    }
   },
   "cell_type": "code",
   "source": "dis(compile('fn1, 10, 20,', 'string', 'eval'))",
   "id": "a8621b67271a2da0",
   "outputs": [
    {
     "name": "stdout",
     "output_type": "stream",
     "text": [
      "  0           0 RESUME                   0\n",
      "\n",
      "  1           2 LOAD_NAME                0 (fn1)\n",
      "              4 LOAD_CONST               0 (10)\n",
      "              6 LOAD_CONST               1 (20)\n",
      "              8 BUILD_TUPLE              3\n",
      "             10 RETURN_VALUE\n"
     ]
    }
   ],
   "execution_count": 26
  },
  {
   "metadata": {
    "ExecuteTime": {
     "end_time": "2024-06-14T11:17:05.295140Z",
     "start_time": "2024-06-14T11:17:05.291553Z"
    }
   },
   "cell_type": "code",
   "source": "dis(compile('(1, 2, 3, [10, 20])', 'string', 'eval'))",
   "id": "492d4c2e06b104c9",
   "outputs": [
    {
     "name": "stdout",
     "output_type": "stream",
     "text": [
      "  0           0 RESUME                   0\n",
      "\n",
      "  1           2 LOAD_CONST               0 (1)\n",
      "              4 LOAD_CONST               1 (2)\n",
      "              6 LOAD_CONST               2 (3)\n",
      "              8 LOAD_CONST               3 (10)\n",
      "             10 LOAD_CONST               4 (20)\n",
      "             12 BUILD_LIST               2\n",
      "             14 BUILD_TUPLE              4\n",
      "             16 RETURN_VALUE\n"
     ]
    }
   ],
   "execution_count": 27
  },
  {
   "metadata": {
    "ExecuteTime": {
     "end_time": "2024-06-14T11:17:30.068580Z",
     "start_time": "2024-06-14T11:17:30.064403Z"
    }
   },
   "cell_type": "code",
   "source": "dis(compile('[1, 2, 3, [10, 20]]', 'string', 'eval'))",
   "id": "4e1019bf238fa761",
   "outputs": [
    {
     "name": "stdout",
     "output_type": "stream",
     "text": [
      "  0           0 RESUME                   0\n",
      "\n",
      "  1           2 LOAD_CONST               0 (1)\n",
      "              4 LOAD_CONST               1 (2)\n",
      "              6 LOAD_CONST               2 (3)\n",
      "              8 LOAD_CONST               3 (10)\n",
      "             10 LOAD_CONST               4 (20)\n",
      "             12 BUILD_LIST               2\n",
      "             14 BUILD_LIST               4\n",
      "             16 RETURN_VALUE\n"
     ]
    }
   ],
   "execution_count": 28
  },
  {
   "metadata": {
    "ExecuteTime": {
     "end_time": "2024-06-14T11:19:04.399594Z",
     "start_time": "2024-06-14T11:19:04.284792Z"
    }
   },
   "cell_type": "code",
   "source": "timeit('[1, 2], 10, 20', number=10**6)",
   "id": "833e3990c9328b1c",
   "outputs": [
    {
     "data": {
      "text/plain": [
       "0.11110734899921226"
      ]
     },
     "execution_count": 35,
     "metadata": {},
     "output_type": "execute_result"
    }
   ],
   "execution_count": 35
  },
  {
   "metadata": {
    "ExecuteTime": {
     "end_time": "2024-06-14T11:19:04.678643Z",
     "start_time": "2024-06-14T11:19:04.531456Z"
    }
   },
   "cell_type": "code",
   "source": "timeit('[[1, 2], 10, 20]', number=10**6)",
   "id": "598965b0c3c062d6",
   "outputs": [
    {
     "data": {
      "text/plain": [
       "0.14301456599969242"
      ]
     },
     "execution_count": 36,
     "metadata": {},
     "output_type": "execute_result"
    }
   ],
   "execution_count": 36
  },
  {
   "metadata": {
    "ExecuteTime": {
     "end_time": "2024-06-14T11:19:52.984452Z",
     "start_time": "2024-06-14T11:19:52.981349Z"
    }
   },
   "cell_type": "code",
   "source": [
    "l1 = [1, 2, 3, 4, 5, 6, 7, 8, 9]\n",
    "t1 = (1, 2, 3, 4, 5, 6, 7, 8, 9)"
   ],
   "id": "875e1a8a886e3e73",
   "outputs": [],
   "execution_count": 37
  },
  {
   "metadata": {
    "ExecuteTime": {
     "end_time": "2024-06-14T11:20:13.471475Z",
     "start_time": "2024-06-14T11:20:13.465018Z"
    }
   },
   "cell_type": "code",
   "source": "id(l1), id(t1)",
   "id": "99500d0d498e3716",
   "outputs": [
    {
     "data": {
      "text/plain": [
       "(139962785326592, 139962787716160)"
      ]
     },
     "execution_count": 38,
     "metadata": {},
     "output_type": "execute_result"
    }
   ],
   "execution_count": 38
  },
  {
   "metadata": {
    "ExecuteTime": {
     "end_time": "2024-06-14T11:20:26.595490Z",
     "start_time": "2024-06-14T11:20:26.591657Z"
    }
   },
   "cell_type": "code",
   "source": "l2 = list(l1)",
   "id": "946e9eb052158811",
   "outputs": [],
   "execution_count": 39
  },
  {
   "metadata": {
    "ExecuteTime": {
     "end_time": "2024-06-14T11:20:40.372295Z",
     "start_time": "2024-06-14T11:20:40.367079Z"
    }
   },
   "cell_type": "code",
   "source": "id(l1), id(l2)",
   "id": "f885d280585553c6",
   "outputs": [
    {
     "data": {
      "text/plain": [
       "(139962785326592, 139962785492096)"
      ]
     },
     "execution_count": 41,
     "metadata": {},
     "output_type": "execute_result"
    }
   ],
   "execution_count": 41
  },
  {
   "metadata": {
    "ExecuteTime": {
     "end_time": "2024-06-14T11:20:50.182104Z",
     "start_time": "2024-06-14T11:20:50.178645Z"
    }
   },
   "cell_type": "code",
   "source": "t2 = tuple(t1)",
   "id": "850134bbd824a337",
   "outputs": [],
   "execution_count": 42
  },
  {
   "metadata": {
    "ExecuteTime": {
     "end_time": "2024-06-14T11:21:01.171823Z",
     "start_time": "2024-06-14T11:21:01.166695Z"
    }
   },
   "cell_type": "code",
   "source": "id(t1), id(t2)",
   "id": "8c0040160b14d24d",
   "outputs": [
    {
     "data": {
      "text/plain": [
       "(139962787716160, 139962787716160)"
      ]
     },
     "execution_count": 44,
     "metadata": {},
     "output_type": "execute_result"
    }
   ],
   "execution_count": 44
  },
  {
   "metadata": {
    "ExecuteTime": {
     "end_time": "2024-06-14T11:23:02.760660Z",
     "start_time": "2024-06-14T11:23:02.584308Z"
    }
   },
   "cell_type": "code",
   "source": "timeit('tuple((1, 2, 3, 4, 5))', number=5*10**6)",
   "id": "2ef25d9718991c8d",
   "outputs": [
    {
     "data": {
      "text/plain": [
       "0.16810311500012176"
      ]
     },
     "execution_count": 57,
     "metadata": {},
     "output_type": "execute_result"
    }
   ],
   "execution_count": 57
  },
  {
   "metadata": {
    "ExecuteTime": {
     "end_time": "2024-06-14T11:23:03.281277Z",
     "start_time": "2024-06-14T11:23:02.762697Z"
    }
   },
   "cell_type": "code",
   "source": "timeit('list((1, 2, 3, 4, 5))', number=5*10**6)",
   "id": "c16c87dcc5819f40",
   "outputs": [
    {
     "data": {
      "text/plain": [
       "0.5146229679994576"
      ]
     },
     "execution_count": 58,
     "metadata": {},
     "output_type": "execute_result"
    }
   ],
   "execution_count": 58
  },
  {
   "metadata": {},
   "cell_type": "markdown",
   "source": "### Storage Efficiency",
   "id": "9b47c9adf3fbd530"
  },
  {
   "metadata": {
    "ExecuteTime": {
     "end_time": "2024-06-14T11:25:12.886531Z",
     "start_time": "2024-06-14T11:25:12.883402Z"
    }
   },
   "cell_type": "code",
   "source": "import sys",
   "id": "26c391f0680ebb74",
   "outputs": [],
   "execution_count": 64
  },
  {
   "metadata": {
    "ExecuteTime": {
     "end_time": "2024-06-14T11:32:11.423210Z",
     "start_time": "2024-06-14T11:32:11.418998Z"
    }
   },
   "cell_type": "code",
   "source": [
    "t = tuple()\n",
    "prev = sys.getsizeof(t)\n",
    "for i in range(10):\n",
    "    c = tuple(range(i+1))\n",
    "    size_c = sys.getsizeof(c)\n",
    "    delta, prev = size_c - prev, size_c\n",
    "    print(f'{i+1} items: {size_c}, delta: {delta}')"
   ],
   "id": "5b5a90a599154211",
   "outputs": [
    {
     "name": "stdout",
     "output_type": "stream",
     "text": [
      "1 items: 48, delta: 8\n",
      "2 items: 56, delta: 8\n",
      "3 items: 64, delta: 8\n",
      "4 items: 72, delta: 8\n",
      "5 items: 80, delta: 8\n",
      "6 items: 88, delta: 8\n",
      "7 items: 96, delta: 8\n",
      "8 items: 104, delta: 8\n",
      "9 items: 112, delta: 8\n",
      "10 items: 120, delta: 8\n"
     ]
    }
   ],
   "execution_count": 75
  },
  {
   "metadata": {
    "ExecuteTime": {
     "end_time": "2024-06-14T11:32:11.593232Z",
     "start_time": "2024-06-14T11:32:11.590326Z"
    }
   },
   "cell_type": "code",
   "source": [
    "l = list()\n",
    "prev = sys.getsizeof(l)\n",
    "for i in range(10):\n",
    "    c = list(range(i+1))\n",
    "    size_c = sys.getsizeof(c)\n",
    "    delta, prev = size_c - prev, size_c\n",
    "    print(f'{i+1} items: {size_c}, delta: {delta}')"
   ],
   "id": "6d1b338d4197b18",
   "outputs": [
    {
     "name": "stdout",
     "output_type": "stream",
     "text": [
      "1 items: 72, delta: 16\n",
      "2 items: 72, delta: 0\n",
      "3 items: 88, delta: 16\n",
      "4 items: 88, delta: 0\n",
      "5 items: 104, delta: 16\n",
      "6 items: 104, delta: 0\n",
      "7 items: 120, delta: 16\n",
      "8 items: 120, delta: 0\n",
      "9 items: 136, delta: 16\n",
      "10 items: 136, delta: 0\n"
     ]
    }
   ],
   "execution_count": 76
  },
  {
   "metadata": {
    "ExecuteTime": {
     "end_time": "2024-06-14T11:42:42.336424Z",
     "start_time": "2024-06-14T11:42:42.328004Z"
    }
   },
   "cell_type": "code",
   "source": [
    "l = list()\n",
    "prev = sys.getsizeof(l)\n",
    "print(f'0 items: {prev}')\n",
    "size_sum1 = 0\n",
    "\n",
    "for i in range(255):\n",
    "    l.append(i)\n",
    "    size_c = sys.getsizeof(l)\n",
    "    size_sum1 += size_c\n",
    "    delta, prev = size_c - prev, size_c\n",
    "    print(f'{i+1} items: {size_c}, delta: {delta}')"
   ],
   "id": "dd058303057bedf3",
   "outputs": [
    {
     "name": "stdout",
     "output_type": "stream",
     "text": [
      "0 items: 56\n",
      "1 items: 88, delta: 32\n",
      "2 items: 88, delta: 0\n",
      "3 items: 88, delta: 0\n",
      "4 items: 88, delta: 0\n",
      "5 items: 120, delta: 32\n",
      "6 items: 120, delta: 0\n",
      "7 items: 120, delta: 0\n",
      "8 items: 120, delta: 0\n",
      "9 items: 184, delta: 64\n",
      "10 items: 184, delta: 0\n",
      "11 items: 184, delta: 0\n",
      "12 items: 184, delta: 0\n",
      "13 items: 184, delta: 0\n",
      "14 items: 184, delta: 0\n",
      "15 items: 184, delta: 0\n",
      "16 items: 184, delta: 0\n",
      "17 items: 248, delta: 64\n",
      "18 items: 248, delta: 0\n",
      "19 items: 248, delta: 0\n",
      "20 items: 248, delta: 0\n",
      "21 items: 248, delta: 0\n",
      "22 items: 248, delta: 0\n",
      "23 items: 248, delta: 0\n",
      "24 items: 248, delta: 0\n",
      "25 items: 312, delta: 64\n",
      "26 items: 312, delta: 0\n",
      "27 items: 312, delta: 0\n",
      "28 items: 312, delta: 0\n",
      "29 items: 312, delta: 0\n",
      "30 items: 312, delta: 0\n",
      "31 items: 312, delta: 0\n",
      "32 items: 312, delta: 0\n",
      "33 items: 376, delta: 64\n",
      "34 items: 376, delta: 0\n",
      "35 items: 376, delta: 0\n",
      "36 items: 376, delta: 0\n",
      "37 items: 376, delta: 0\n",
      "38 items: 376, delta: 0\n",
      "39 items: 376, delta: 0\n",
      "40 items: 376, delta: 0\n",
      "41 items: 472, delta: 96\n",
      "42 items: 472, delta: 0\n",
      "43 items: 472, delta: 0\n",
      "44 items: 472, delta: 0\n",
      "45 items: 472, delta: 0\n",
      "46 items: 472, delta: 0\n",
      "47 items: 472, delta: 0\n",
      "48 items: 472, delta: 0\n",
      "49 items: 472, delta: 0\n",
      "50 items: 472, delta: 0\n",
      "51 items: 472, delta: 0\n",
      "52 items: 472, delta: 0\n",
      "53 items: 568, delta: 96\n",
      "54 items: 568, delta: 0\n",
      "55 items: 568, delta: 0\n",
      "56 items: 568, delta: 0\n",
      "57 items: 568, delta: 0\n",
      "58 items: 568, delta: 0\n",
      "59 items: 568, delta: 0\n",
      "60 items: 568, delta: 0\n",
      "61 items: 568, delta: 0\n",
      "62 items: 568, delta: 0\n",
      "63 items: 568, delta: 0\n",
      "64 items: 568, delta: 0\n",
      "65 items: 664, delta: 96\n",
      "66 items: 664, delta: 0\n",
      "67 items: 664, delta: 0\n",
      "68 items: 664, delta: 0\n",
      "69 items: 664, delta: 0\n",
      "70 items: 664, delta: 0\n",
      "71 items: 664, delta: 0\n",
      "72 items: 664, delta: 0\n",
      "73 items: 664, delta: 0\n",
      "74 items: 664, delta: 0\n",
      "75 items: 664, delta: 0\n",
      "76 items: 664, delta: 0\n",
      "77 items: 792, delta: 128\n",
      "78 items: 792, delta: 0\n",
      "79 items: 792, delta: 0\n",
      "80 items: 792, delta: 0\n",
      "81 items: 792, delta: 0\n",
      "82 items: 792, delta: 0\n",
      "83 items: 792, delta: 0\n",
      "84 items: 792, delta: 0\n",
      "85 items: 792, delta: 0\n",
      "86 items: 792, delta: 0\n",
      "87 items: 792, delta: 0\n",
      "88 items: 792, delta: 0\n",
      "89 items: 792, delta: 0\n",
      "90 items: 792, delta: 0\n",
      "91 items: 792, delta: 0\n",
      "92 items: 792, delta: 0\n",
      "93 items: 920, delta: 128\n",
      "94 items: 920, delta: 0\n",
      "95 items: 920, delta: 0\n",
      "96 items: 920, delta: 0\n",
      "97 items: 920, delta: 0\n",
      "98 items: 920, delta: 0\n",
      "99 items: 920, delta: 0\n",
      "100 items: 920, delta: 0\n",
      "101 items: 920, delta: 0\n",
      "102 items: 920, delta: 0\n",
      "103 items: 920, delta: 0\n",
      "104 items: 920, delta: 0\n",
      "105 items: 920, delta: 0\n",
      "106 items: 920, delta: 0\n",
      "107 items: 920, delta: 0\n",
      "108 items: 920, delta: 0\n",
      "109 items: 1080, delta: 160\n",
      "110 items: 1080, delta: 0\n",
      "111 items: 1080, delta: 0\n",
      "112 items: 1080, delta: 0\n",
      "113 items: 1080, delta: 0\n",
      "114 items: 1080, delta: 0\n",
      "115 items: 1080, delta: 0\n",
      "116 items: 1080, delta: 0\n",
      "117 items: 1080, delta: 0\n",
      "118 items: 1080, delta: 0\n",
      "119 items: 1080, delta: 0\n",
      "120 items: 1080, delta: 0\n",
      "121 items: 1080, delta: 0\n",
      "122 items: 1080, delta: 0\n",
      "123 items: 1080, delta: 0\n",
      "124 items: 1080, delta: 0\n",
      "125 items: 1080, delta: 0\n",
      "126 items: 1080, delta: 0\n",
      "127 items: 1080, delta: 0\n",
      "128 items: 1080, delta: 0\n",
      "129 items: 1240, delta: 160\n",
      "130 items: 1240, delta: 0\n",
      "131 items: 1240, delta: 0\n",
      "132 items: 1240, delta: 0\n",
      "133 items: 1240, delta: 0\n",
      "134 items: 1240, delta: 0\n",
      "135 items: 1240, delta: 0\n",
      "136 items: 1240, delta: 0\n",
      "137 items: 1240, delta: 0\n",
      "138 items: 1240, delta: 0\n",
      "139 items: 1240, delta: 0\n",
      "140 items: 1240, delta: 0\n",
      "141 items: 1240, delta: 0\n",
      "142 items: 1240, delta: 0\n",
      "143 items: 1240, delta: 0\n",
      "144 items: 1240, delta: 0\n",
      "145 items: 1240, delta: 0\n",
      "146 items: 1240, delta: 0\n",
      "147 items: 1240, delta: 0\n",
      "148 items: 1240, delta: 0\n",
      "149 items: 1432, delta: 192\n",
      "150 items: 1432, delta: 0\n",
      "151 items: 1432, delta: 0\n",
      "152 items: 1432, delta: 0\n",
      "153 items: 1432, delta: 0\n",
      "154 items: 1432, delta: 0\n",
      "155 items: 1432, delta: 0\n",
      "156 items: 1432, delta: 0\n",
      "157 items: 1432, delta: 0\n",
      "158 items: 1432, delta: 0\n",
      "159 items: 1432, delta: 0\n",
      "160 items: 1432, delta: 0\n",
      "161 items: 1432, delta: 0\n",
      "162 items: 1432, delta: 0\n",
      "163 items: 1432, delta: 0\n",
      "164 items: 1432, delta: 0\n",
      "165 items: 1432, delta: 0\n",
      "166 items: 1432, delta: 0\n",
      "167 items: 1432, delta: 0\n",
      "168 items: 1432, delta: 0\n",
      "169 items: 1432, delta: 0\n",
      "170 items: 1432, delta: 0\n",
      "171 items: 1432, delta: 0\n",
      "172 items: 1432, delta: 0\n",
      "173 items: 1656, delta: 224\n",
      "174 items: 1656, delta: 0\n",
      "175 items: 1656, delta: 0\n",
      "176 items: 1656, delta: 0\n",
      "177 items: 1656, delta: 0\n",
      "178 items: 1656, delta: 0\n",
      "179 items: 1656, delta: 0\n",
      "180 items: 1656, delta: 0\n",
      "181 items: 1656, delta: 0\n",
      "182 items: 1656, delta: 0\n",
      "183 items: 1656, delta: 0\n",
      "184 items: 1656, delta: 0\n",
      "185 items: 1656, delta: 0\n",
      "186 items: 1656, delta: 0\n",
      "187 items: 1656, delta: 0\n",
      "188 items: 1656, delta: 0\n",
      "189 items: 1656, delta: 0\n",
      "190 items: 1656, delta: 0\n",
      "191 items: 1656, delta: 0\n",
      "192 items: 1656, delta: 0\n",
      "193 items: 1656, delta: 0\n",
      "194 items: 1656, delta: 0\n",
      "195 items: 1656, delta: 0\n",
      "196 items: 1656, delta: 0\n",
      "197 items: 1656, delta: 0\n",
      "198 items: 1656, delta: 0\n",
      "199 items: 1656, delta: 0\n",
      "200 items: 1656, delta: 0\n",
      "201 items: 1912, delta: 256\n",
      "202 items: 1912, delta: 0\n",
      "203 items: 1912, delta: 0\n",
      "204 items: 1912, delta: 0\n",
      "205 items: 1912, delta: 0\n",
      "206 items: 1912, delta: 0\n",
      "207 items: 1912, delta: 0\n",
      "208 items: 1912, delta: 0\n",
      "209 items: 1912, delta: 0\n",
      "210 items: 1912, delta: 0\n",
      "211 items: 1912, delta: 0\n",
      "212 items: 1912, delta: 0\n",
      "213 items: 1912, delta: 0\n",
      "214 items: 1912, delta: 0\n",
      "215 items: 1912, delta: 0\n",
      "216 items: 1912, delta: 0\n",
      "217 items: 1912, delta: 0\n",
      "218 items: 1912, delta: 0\n",
      "219 items: 1912, delta: 0\n",
      "220 items: 1912, delta: 0\n",
      "221 items: 1912, delta: 0\n",
      "222 items: 1912, delta: 0\n",
      "223 items: 1912, delta: 0\n",
      "224 items: 1912, delta: 0\n",
      "225 items: 1912, delta: 0\n",
      "226 items: 1912, delta: 0\n",
      "227 items: 1912, delta: 0\n",
      "228 items: 1912, delta: 0\n",
      "229 items: 1912, delta: 0\n",
      "230 items: 1912, delta: 0\n",
      "231 items: 1912, delta: 0\n",
      "232 items: 1912, delta: 0\n",
      "233 items: 2200, delta: 288\n",
      "234 items: 2200, delta: 0\n",
      "235 items: 2200, delta: 0\n",
      "236 items: 2200, delta: 0\n",
      "237 items: 2200, delta: 0\n",
      "238 items: 2200, delta: 0\n",
      "239 items: 2200, delta: 0\n",
      "240 items: 2200, delta: 0\n",
      "241 items: 2200, delta: 0\n",
      "242 items: 2200, delta: 0\n",
      "243 items: 2200, delta: 0\n",
      "244 items: 2200, delta: 0\n",
      "245 items: 2200, delta: 0\n",
      "246 items: 2200, delta: 0\n",
      "247 items: 2200, delta: 0\n",
      "248 items: 2200, delta: 0\n",
      "249 items: 2200, delta: 0\n",
      "250 items: 2200, delta: 0\n",
      "251 items: 2200, delta: 0\n",
      "252 items: 2200, delta: 0\n",
      "253 items: 2200, delta: 0\n",
      "254 items: 2200, delta: 0\n",
      "255 items: 2200, delta: 0\n"
     ]
    }
   ],
   "execution_count": 89
  },
  {
   "metadata": {
    "ExecuteTime": {
     "end_time": "2024-06-14T11:56:34.142415Z",
     "start_time": "2024-06-14T11:56:34.133293Z"
    }
   },
   "cell_type": "code",
   "source": [
    "t = tuple(range(100_000))\n",
    "l = list(t)"
   ],
   "id": "42d8d69c458e7210",
   "outputs": [],
   "execution_count": 98
  },
  {
   "metadata": {
    "ExecuteTime": {
     "end_time": "2024-06-14T11:56:51.308615Z",
     "start_time": "2024-06-14T11:56:51.023018Z"
    }
   },
   "cell_type": "code",
   "source": "timeit('t[99_999]', globals=globals(), number=10_000_000)",
   "id": "2172762d7e5b6ae7",
   "outputs": [
    {
     "data": {
      "text/plain": [
       "0.28119688899823814"
      ]
     },
     "execution_count": 109,
     "metadata": {},
     "output_type": "execute_result"
    }
   ],
   "execution_count": 109
  },
  {
   "metadata": {
    "ExecuteTime": {
     "end_time": "2024-06-14T11:56:51.522195Z",
     "start_time": "2024-06-14T11:56:51.310124Z"
    }
   },
   "cell_type": "code",
   "source": "timeit('l[99_999]', globals=globals(), number=10_000_000)",
   "id": "a542468d5af75e97",
   "outputs": [
    {
     "data": {
      "text/plain": [
       "0.20843100099955336"
      ]
     },
     "execution_count": 110,
     "metadata": {},
     "output_type": "execute_result"
    }
   ],
   "execution_count": 110
  },
  {
   "metadata": {},
   "cell_type": "code",
   "outputs": [],
   "execution_count": null,
   "source": "",
   "id": "a22d1a9dea15adab"
  }
 ],
 "metadata": {
  "kernelspec": {
   "display_name": "Python 3",
   "language": "python",
   "name": "python3"
  },
  "language_info": {
   "codemirror_mode": {
    "name": "ipython",
    "version": 2
   },
   "file_extension": ".py",
   "mimetype": "text/x-python",
   "name": "python",
   "nbconvert_exporter": "python",
   "pygments_lexer": "ipython2",
   "version": "2.7.6"
  }
 },
 "nbformat": 4,
 "nbformat_minor": 5
}
