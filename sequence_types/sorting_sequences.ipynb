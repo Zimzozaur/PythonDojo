{
 "cells": [
  {
   "cell_type": "code",
   "id": "initial_id",
   "metadata": {
    "collapsed": true,
    "ExecuteTime": {
     "end_time": "2024-07-01T12:54:43.967256Z",
     "start_time": "2024-07-01T12:54:43.963096Z"
    }
   },
   "source": "t = 10, 3, 5, 8, 9, 6, 1",
   "outputs": [],
   "execution_count": 1
  },
  {
   "metadata": {
    "ExecuteTime": {
     "end_time": "2024-07-01T12:54:59.365917Z",
     "start_time": "2024-07-01T12:54:59.360146Z"
    }
   },
   "cell_type": "code",
   "source": "sorted(t)",
   "id": "d3590f77da3b7320",
   "outputs": [
    {
     "data": {
      "text/plain": [
       "[1, 3, 5, 6, 8, 9, 10]"
      ]
     },
     "execution_count": 4,
     "metadata": {},
     "output_type": "execute_result"
    }
   ],
   "execution_count": 4
  },
  {
   "metadata": {
    "ExecuteTime": {
     "end_time": "2024-07-01T12:55:15.989490Z",
     "start_time": "2024-07-01T12:55:15.985974Z"
    }
   },
   "cell_type": "code",
   "source": "t = 1+1j, 10, 20",
   "id": "f3bbb2a1229e10fe",
   "outputs": [],
   "execution_count": 5
  },
  {
   "metadata": {
    "ExecuteTime": {
     "end_time": "2024-07-01T12:55:18.821085Z",
     "start_time": "2024-07-01T12:55:18.650518Z"
    }
   },
   "cell_type": "code",
   "source": "sorted(t)",
   "id": "711b4fb43a60e46a",
   "outputs": [
    {
     "ename": "TypeError",
     "evalue": "'<' not supported between instances of 'int' and 'complex'",
     "output_type": "error",
     "traceback": [
      "\u001B[0;31m---------------------------------------------------------------------------\u001B[0m",
      "\u001B[0;31mTypeError\u001B[0m                                 Traceback (most recent call last)",
      "Cell \u001B[0;32mIn[6], line 1\u001B[0m\n\u001B[0;32m----> 1\u001B[0m \u001B[38;5;28;43msorted\u001B[39;49m\u001B[43m(\u001B[49m\u001B[43mt\u001B[49m\u001B[43m)\u001B[49m\n",
      "\u001B[0;31mTypeError\u001B[0m: '<' not supported between instances of 'int' and 'complex'"
     ]
    }
   ],
   "execution_count": 6
  },
  {
   "metadata": {
    "ExecuteTime": {
     "end_time": "2024-07-01T12:55:49.124946Z",
     "start_time": "2024-07-01T12:55:49.121759Z"
    }
   },
   "cell_type": "code",
   "source": "s = {10, 3, 5, 8, 9, 6, 1}",
   "id": "7625e20dacf1467b",
   "outputs": [],
   "execution_count": 7
  },
  {
   "metadata": {
    "ExecuteTime": {
     "end_time": "2024-07-01T12:55:52.494701Z",
     "start_time": "2024-07-01T12:55:52.490535Z"
    }
   },
   "cell_type": "code",
   "source": "sorted(s)",
   "id": "317afebacf1c797e",
   "outputs": [
    {
     "data": {
      "text/plain": [
       "[1, 3, 5, 6, 8, 9, 10]"
      ]
     },
     "execution_count": 8,
     "metadata": {},
     "output_type": "execute_result"
    }
   ],
   "execution_count": 8
  },
  {
   "metadata": {
    "ExecuteTime": {
     "end_time": "2024-07-01T12:56:32.628768Z",
     "start_time": "2024-07-01T12:56:32.625509Z"
    }
   },
   "cell_type": "code",
   "source": "d = {3: 100, 2: 200, 1: 100}",
   "id": "39030e0dcb571e80",
   "outputs": [],
   "execution_count": 9
  },
  {
   "metadata": {
    "ExecuteTime": {
     "end_time": "2024-07-01T12:58:33.174162Z",
     "start_time": "2024-07-01T12:58:33.169271Z"
    }
   },
   "cell_type": "code",
   "source": "sorted(d)",
   "id": "dedcb09456f7ed4",
   "outputs": [
    {
     "data": {
      "text/plain": [
       "[1, 2, 3]"
      ]
     },
     "execution_count": 13,
     "metadata": {},
     "output_type": "execute_result"
    }
   ],
   "execution_count": 13
  },
  {
   "metadata": {
    "ExecuteTime": {
     "end_time": "2024-07-01T12:58:55.537205Z",
     "start_time": "2024-07-01T12:58:55.533804Z"
    }
   },
   "cell_type": "code",
   "source": "d = {'a': 100, 'b': 50, 'c': 10}",
   "id": "3a8cf537fab718b8",
   "outputs": [],
   "execution_count": 14
  },
  {
   "metadata": {
    "ExecuteTime": {
     "end_time": "2024-07-01T12:59:46.634925Z",
     "start_time": "2024-07-01T12:59:46.629808Z"
    }
   },
   "cell_type": "code",
   "source": "sorted(d, key=lambda k: d[k])",
   "id": "a166d4889118c2a7",
   "outputs": [
    {
     "data": {
      "text/plain": [
       "['c', 'b', 'a']"
      ]
     },
     "execution_count": 15,
     "metadata": {},
     "output_type": "execute_result"
    }
   ],
   "execution_count": 15
  },
  {
   "metadata": {
    "ExecuteTime": {
     "end_time": "2024-07-01T13:01:02.146787Z",
     "start_time": "2024-07-01T13:01:02.143192Z"
    }
   },
   "cell_type": "code",
   "source": "t = 'this', 'parrot', 'is', 'a', 'late', 'bird'",
   "id": "48e73eca5cb3b95a",
   "outputs": [],
   "execution_count": 16
  },
  {
   "metadata": {
    "ExecuteTime": {
     "end_time": "2024-07-01T13:01:05.835722Z",
     "start_time": "2024-07-01T13:01:05.830862Z"
    }
   },
   "cell_type": "code",
   "source": "sorted(t)",
   "id": "12981afd485197a9",
   "outputs": [
    {
     "data": {
      "text/plain": [
       "['a', 'bird', 'is', 'late', 'parrot', 'this']"
      ]
     },
     "execution_count": 17,
     "metadata": {},
     "output_type": "execute_result"
    }
   ],
   "execution_count": 17
  },
  {
   "metadata": {
    "ExecuteTime": {
     "end_time": "2024-07-01T13:01:35.466745Z",
     "start_time": "2024-07-01T13:01:35.461726Z"
    }
   },
   "cell_type": "code",
   "source": "sorted(t, key=lambda word: word[-1])",
   "id": "ae4bc63e35513a4",
   "outputs": [
    {
     "data": {
      "text/plain": [
       "['a', 'bird', 'late', 'this', 'is', 'parrot']"
      ]
     },
     "execution_count": 18,
     "metadata": {},
     "output_type": "execute_result"
    }
   ],
   "execution_count": 18
  },
  {
   "metadata": {
    "ExecuteTime": {
     "end_time": "2024-07-01T13:03:10.150869Z",
     "start_time": "2024-07-01T13:03:10.147589Z"
    }
   },
   "cell_type": "code",
   "source": "t = 'aaaa', 'bbbb', 'cccc', 'dddd', 'eeee'",
   "id": "f97150b0ae13e063",
   "outputs": [],
   "execution_count": 19
  },
  {
   "metadata": {
    "ExecuteTime": {
     "end_time": "2024-07-01T13:03:11.218470Z",
     "start_time": "2024-07-01T13:03:11.213687Z"
    }
   },
   "cell_type": "code",
   "source": "t",
   "id": "3b2d60426782c413",
   "outputs": [
    {
     "data": {
      "text/plain": [
       "('aaaa', 'bbbb', 'cccc', 'dddd', 'eeee')"
      ]
     },
     "execution_count": 20,
     "metadata": {},
     "output_type": "execute_result"
    }
   ],
   "execution_count": 20
  },
  {
   "metadata": {
    "ExecuteTime": {
     "end_time": "2024-07-01T13:03:24.577409Z",
     "start_time": "2024-07-01T13:03:24.572239Z"
    }
   },
   "cell_type": "code",
   "source": "sorted(t, key=lambda s: len(s))",
   "id": "f122c718301bc4c0",
   "outputs": [
    {
     "data": {
      "text/plain": [
       "['aaaa', 'bbbb', 'cccc', 'dddd', 'eeee']"
      ]
     },
     "execution_count": 21,
     "metadata": {},
     "output_type": "execute_result"
    }
   ],
   "execution_count": 21
  },
  {
   "metadata": {
    "ExecuteTime": {
     "end_time": "2024-07-01T13:03:59.349114Z",
     "start_time": "2024-07-01T13:03:59.345409Z"
    }
   },
   "cell_type": "code",
   "source": "t = 'aaaa', 'bbbb', 'dddd', 'eeee', 'cccc'",
   "id": "df3749a09534aa9a",
   "outputs": [],
   "execution_count": 22
  },
  {
   "metadata": {
    "ExecuteTime": {
     "end_time": "2024-07-01T13:04:02.989080Z",
     "start_time": "2024-07-01T13:04:02.984683Z"
    }
   },
   "cell_type": "code",
   "source": "sorted(t, key=lambda s: len(s))",
   "id": "107e5ca15442e021",
   "outputs": [
    {
     "data": {
      "text/plain": [
       "['aaaa', 'bbbb', 'dddd', 'eeee', 'cccc']"
      ]
     },
     "execution_count": 23,
     "metadata": {},
     "output_type": "execute_result"
    }
   ],
   "execution_count": 23
  },
  {
   "metadata": {
    "ExecuteTime": {
     "end_time": "2024-07-01T13:04:51.912970Z",
     "start_time": "2024-07-01T13:04:51.909082Z"
    }
   },
   "cell_type": "code",
   "source": "t = 'this', 'parrot', 'is', 'a', 'late', 'bird'",
   "id": "3af9c9c5bee40229",
   "outputs": [],
   "execution_count": 24
  },
  {
   "metadata": {
    "ExecuteTime": {
     "end_time": "2024-07-01T13:05:34.865844Z",
     "start_time": "2024-07-01T13:05:34.860349Z"
    }
   },
   "cell_type": "code",
   "source": "sorted(t, key=lambda s: len(s), reverse=True)",
   "id": "4d0ce4b16abe2b69",
   "outputs": [
    {
     "data": {
      "text/plain": [
       "['parrot', 'this', 'late', 'bird', 'is', 'a']"
      ]
     },
     "execution_count": 27,
     "metadata": {},
     "output_type": "execute_result"
    }
   ],
   "execution_count": 27
  },
  {
   "metadata": {
    "ExecuteTime": {
     "end_time": "2024-07-01T13:05:50.539880Z",
     "start_time": "2024-07-01T13:05:50.534107Z"
    }
   },
   "cell_type": "code",
   "source": "sorted(t, key=lambda s: -len(s))",
   "id": "25ec76df1089ad73",
   "outputs": [
    {
     "data": {
      "text/plain": [
       "['parrot', 'this', 'late', 'bird', 'is', 'a']"
      ]
     },
     "execution_count": 28,
     "metadata": {},
     "output_type": "execute_result"
    }
   ],
   "execution_count": 28
  },
  {
   "metadata": {
    "ExecuteTime": {
     "end_time": "2024-07-01T13:08:21.000154Z",
     "start_time": "2024-07-01T13:08:20.996989Z"
    }
   },
   "cell_type": "code",
   "source": "l = 'this bird is a late parrot'.split(' ')",
   "id": "302b069383754bf2",
   "outputs": [],
   "execution_count": 30
  },
  {
   "metadata": {
    "ExecuteTime": {
     "end_time": "2024-07-01T13:08:55.328954Z",
     "start_time": "2024-07-01T13:08:55.323193Z"
    }
   },
   "cell_type": "code",
   "source": "sorted(l, key=lambda s: len(s))",
   "id": "1d65be1efc9b7d68",
   "outputs": [
    {
     "data": {
      "text/plain": [
       "['a', 'is', 'this', 'bird', 'late', 'parrot']"
      ]
     },
     "execution_count": 32,
     "metadata": {},
     "output_type": "execute_result"
    }
   ],
   "execution_count": 32
  },
  {
   "metadata": {
    "ExecuteTime": {
     "end_time": "2024-07-01T13:08:56.602694Z",
     "start_time": "2024-07-01T13:08:56.597751Z"
    }
   },
   "cell_type": "code",
   "source": "l",
   "id": "b5ed3c4731aaf189",
   "outputs": [
    {
     "data": {
      "text/plain": [
       "['this', 'bird', 'is', 'a', 'late', 'parrot']"
      ]
     },
     "execution_count": 33,
     "metadata": {},
     "output_type": "execute_result"
    }
   ],
   "execution_count": 33
  },
  {
   "metadata": {
    "ExecuteTime": {
     "end_time": "2024-07-01T13:09:39.651326Z",
     "start_time": "2024-07-01T13:09:39.648001Z"
    }
   },
   "cell_type": "code",
   "source": "result = l.sort(key=lambda s: len(s), reverse=True)",
   "id": "a877d273d4c96895",
   "outputs": [],
   "execution_count": 34
  },
  {
   "metadata": {
    "ExecuteTime": {
     "end_time": "2024-07-01T13:09:42.282993Z",
     "start_time": "2024-07-01T13:09:42.279751Z"
    }
   },
   "cell_type": "code",
   "source": "result",
   "id": "d6b8b5a93083fa3c",
   "outputs": [],
   "execution_count": 35
  },
  {
   "metadata": {
    "ExecuteTime": {
     "end_time": "2024-07-01T13:09:43.943507Z",
     "start_time": "2024-07-01T13:09:43.938875Z"
    }
   },
   "cell_type": "code",
   "source": "l",
   "id": "11fb6e84b31ca15e",
   "outputs": [
    {
     "data": {
      "text/plain": [
       "['parrot', 'this', 'bird', 'late', 'is', 'a']"
      ]
     },
     "execution_count": 36,
     "metadata": {},
     "output_type": "execute_result"
    }
   ],
   "execution_count": 36
  },
  {
   "metadata": {
    "ExecuteTime": {
     "end_time": "2024-07-01T13:10:48.976701Z",
     "start_time": "2024-07-01T13:10:48.973374Z"
    }
   },
   "cell_type": "code",
   "source": [
    "from timeit import timeit\n",
    "import random"
   ],
   "id": "de3b9f75d3fb53d4",
   "outputs": [],
   "execution_count": 37
  },
  {
   "metadata": {
    "ExecuteTime": {
     "end_time": "2024-07-01T13:14:20.481150Z",
     "start_time": "2024-07-01T13:14:01.792990Z"
    }
   },
   "cell_type": "code",
   "source": [
    "random.seed(0)\n",
    "n = 10 ** 7 * 4\n",
    "l = [random.randint(0, 100) for n in range(n)]"
   ],
   "id": "436c53dedab3a66e",
   "outputs": [],
   "execution_count": 46
  },
  {
   "metadata": {
    "ExecuteTime": {
     "end_time": "2024-07-01T13:15:35.505798Z",
     "start_time": "2024-07-01T13:15:35.153272Z"
    }
   },
   "cell_type": "code",
   "source": "timeit(stmt='sorted(l)', globals=globals(), number=1)",
   "id": "5e9262e0dc4d02fa",
   "outputs": [
    {
     "data": {
      "text/plain": [
       "0.34842870099964784"
      ]
     },
     "execution_count": 53,
     "metadata": {},
     "output_type": "execute_result"
    }
   ],
   "execution_count": 53
  },
  {
   "metadata": {
    "ExecuteTime": {
     "end_time": "2024-07-01T13:15:39.277838Z",
     "start_time": "2024-07-01T13:15:39.098565Z"
    }
   },
   "cell_type": "code",
   "source": "timeit(stmt='l.sort()', globals=globals(), number=1)",
   "id": "f5c7c9c29edfe541",
   "outputs": [
    {
     "data": {
      "text/plain": [
       "0.17350594199888292"
      ]
     },
     "execution_count": 56,
     "metadata": {},
     "output_type": "execute_result"
    }
   ],
   "execution_count": 56
  },
  {
   "metadata": {
    "ExecuteTime": {
     "end_time": "2024-07-01T13:26:47.510048Z",
     "start_time": "2024-07-01T13:26:47.505319Z"
    }
   },
   "cell_type": "code",
   "source": [
    "class MyClass:\n",
    "    def __init__(self, name, val):\n",
    "        self.name = name\n",
    "        self.val = val\n",
    "        \n",
    "    def __repr__(self):\n",
    "        return f'MyClass({self.name}, {self.val})'\n",
    "    \n",
    "    def __lt__(self, other):\n",
    "        return self.val < other.val\n",
    "    \n",
    "    def __gt__(self, other):\n",
    "        return self.val > other.val"
   ],
   "id": "fce36d07c36aba4a",
   "outputs": [],
   "execution_count": 113
  },
  {
   "metadata": {
    "ExecuteTime": {
     "end_time": "2024-07-01T13:26:47.839887Z",
     "start_time": "2024-07-01T13:26:47.833208Z"
    }
   },
   "cell_type": "code",
   "source": [
    "c1 = MyClass('c1', 20)\n",
    "c2 = MyClass('c2', 10)\n",
    "c3 = MyClass('c3', 20)\n",
    "c4 = MyClass('c4', 10)\n",
    "c1 < c2"
   ],
   "id": "470d293f03ee19c",
   "outputs": [
    {
     "data": {
      "text/plain": [
       "False"
      ]
     },
     "execution_count": 114,
     "metadata": {},
     "output_type": "execute_result"
    }
   ],
   "execution_count": 114
  },
  {
   "metadata": {
    "ExecuteTime": {
     "end_time": "2024-07-01T13:26:48.642413Z",
     "start_time": "2024-07-01T13:26:48.639138Z"
    }
   },
   "cell_type": "code",
   "source": "sorted((c1, c2, c3, c4))",
   "id": "31831c1c0e4ac2f",
   "outputs": [
    {
     "data": {
      "text/plain": [
       "[MyClass(c2, 10), MyClass(c4, 10), MyClass(c1, 20), MyClass(c3, 20)]"
      ]
     },
     "execution_count": 115,
     "metadata": {},
     "output_type": "execute_result"
    }
   ],
   "execution_count": 115
  },
  {
   "metadata": {
    "ExecuteTime": {
     "end_time": "2024-07-01T13:26:49.210037Z",
     "start_time": "2024-07-01T13:26:49.203689Z"
    }
   },
   "cell_type": "code",
   "source": "sorted((c1, c2, c3, c4), key=lambda obj: obj.name)",
   "id": "d3f642ac7638f106",
   "outputs": [
    {
     "data": {
      "text/plain": [
       "[MyClass(c1, 20), MyClass(c2, 10), MyClass(c3, 20), MyClass(c4, 10)]"
      ]
     },
     "execution_count": 116,
     "metadata": {},
     "output_type": "execute_result"
    }
   ],
   "execution_count": 116
  },
  {
   "metadata": {},
   "cell_type": "code",
   "outputs": [],
   "execution_count": null,
   "source": "",
   "id": "e43fa734f6ea9cb0"
  }
 ],
 "metadata": {
  "kernelspec": {
   "display_name": "Python 3",
   "language": "python",
   "name": "python3"
  },
  "language_info": {
   "codemirror_mode": {
    "name": "ipython",
    "version": 2
   },
   "file_extension": ".py",
   "mimetype": "text/x-python",
   "name": "python",
   "nbconvert_exporter": "python",
   "pygments_lexer": "ipython2",
   "version": "2.7.6"
  }
 },
 "nbformat": 4,
 "nbformat_minor": 5
}
