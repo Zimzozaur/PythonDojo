{
 "cells": [
  {
   "cell_type": "code",
   "id": "initial_id",
   "metadata": {
    "collapsed": true
   },
   "source": [
    "squares = []\n",
    "for i in range(1, 101):\n",
    "    squares.append(i**2)\n",
    "squares[0:10]"
   ],
   "outputs": [],
   "execution_count": null
  },
  {
   "metadata": {},
   "cell_type": "code",
   "source": "[i**2 for i in range(1, 101)][0:10]",
   "id": "f4b0d40fcb1c2f26",
   "outputs": [],
   "execution_count": null
  },
  {
   "metadata": {},
   "cell_type": "code",
   "source": [
    "squares = []\n",
    "for i in range(1, 101):\n",
    "    if i % 2 == 0:\n",
    "        squares.append(i**2)\n",
    "squares[0:10]"
   ],
   "id": "9cc95c35f3479a67",
   "outputs": [],
   "execution_count": null
  },
  {
   "metadata": {},
   "cell_type": "code",
   "source": "[i**2 for i in range(1, 101) if i % 2 == 0][0:10]",
   "id": "42425a01fa3b1581",
   "outputs": [],
   "execution_count": null
  },
  {
   "metadata": {
    "ExecuteTime": {
     "end_time": "2024-07-01T15:54:55.902512Z",
     "start_time": "2024-07-01T15:54:55.898268Z"
    }
   },
   "cell_type": "code",
   "source": [
    "compiled_code = compile('[i**2 for i in (1, 2, 3)]', \n",
    "                        filename='string', mode='eval')"
   ],
   "id": "2ac559ab49ad142c",
   "outputs": [],
   "execution_count": 43
  },
  {
   "metadata": {
    "ExecuteTime": {
     "end_time": "2024-07-01T15:54:56.411377Z",
     "start_time": "2024-07-01T15:54:56.407377Z"
    }
   },
   "cell_type": "code",
   "source": "from dis import dis",
   "id": "cfd24bac4a1a4256",
   "outputs": [],
   "execution_count": 44
  },
  {
   "metadata": {
    "ExecuteTime": {
     "end_time": "2024-07-01T16:02:49.943327Z",
     "start_time": "2024-07-01T16:02:49.939647Z"
    }
   },
   "cell_type": "code",
   "source": "dis(compiled_code)",
   "id": "f82841d8fa517130",
   "outputs": [
    {
     "name": "stdout",
     "output_type": "stream",
     "text": [
      "  0           0 RESUME                   0\n",
      "\n",
      "  1           2 LOAD_CONST               0 ((1, 2, 3))\n",
      "              4 GET_ITER\n",
      "              6 LOAD_FAST_AND_CLEAR      0 (i)\n",
      "              8 SWAP                     2\n",
      "             10 BUILD_LIST               0\n",
      "             12 SWAP                     2\n",
      "        >>   14 FOR_ITER                 7 (to 32)\n",
      "             18 STORE_FAST               0 (i)\n",
      "             20 LOAD_FAST                0 (i)\n",
      "             22 LOAD_CONST               1 (2)\n",
      "             24 BINARY_OP                8 (**)\n",
      "             28 LIST_APPEND              2\n",
      "             30 JUMP_BACKWARD            9 (to 14)\n",
      "        >>   32 END_FOR\n",
      "             34 SWAP                     2\n",
      "             36 STORE_FAST               0 (i)\n",
      "             38 RETURN_VALUE\n",
      "        >>   40 SWAP                     2\n",
      "             42 POP_TOP\n",
      "             44 SWAP                     2\n",
      "             46 STORE_FAST               0 (i)\n",
      "             48 RERAISE                  0\n",
      "ExceptionTable:\n",
      "  10 to 32 -> 40 [2]\n"
     ]
    }
   ],
   "execution_count": 46
  },
  {
   "metadata": {
    "ExecuteTime": {
     "end_time": "2024-07-01T16:12:56.361689Z",
     "start_time": "2024-07-01T16:12:56.354731Z"
    }
   },
   "cell_type": "code",
   "source": "[[j * i for j in range(1, 11)] for i in range(1, 11)]",
   "id": "966fff3d045ea956",
   "outputs": [
    {
     "data": {
      "text/plain": [
       "[[1, 2, 3, 4, 5, 6, 7, 8, 9, 10],\n",
       " [2, 4, 6, 8, 10, 12, 14, 16, 18, 20],\n",
       " [3, 6, 9, 12, 15, 18, 21, 24, 27, 30],\n",
       " [4, 8, 12, 16, 20, 24, 28, 32, 36, 40],\n",
       " [5, 10, 15, 20, 25, 30, 35, 40, 45, 50],\n",
       " [6, 12, 18, 24, 30, 36, 42, 48, 54, 60],\n",
       " [7, 14, 21, 28, 35, 42, 49, 56, 63, 70],\n",
       " [8, 16, 24, 32, 40, 48, 56, 64, 72, 80],\n",
       " [9, 18, 27, 36, 45, 54, 63, 72, 81, 90],\n",
       " [10, 20, 30, 40, 50, 60, 70, 80, 90, 100]]"
      ]
     },
     "execution_count": 55,
     "metadata": {},
     "output_type": "execute_result"
    }
   ],
   "execution_count": 55
  },
  {
   "metadata": {
    "ExecuteTime": {
     "end_time": "2024-07-01T16:14:24.998089Z",
     "start_time": "2024-07-01T16:14:24.992580Z"
    }
   },
   "cell_type": "code",
   "source": "dis(compile('[[j * i for j in range(1, 11)] for i in range(1, 11)]', 'string', 'eval'))",
   "id": "6ff0d27e128443d5",
   "outputs": [
    {
     "name": "stdout",
     "output_type": "stream",
     "text": [
      "  0           0 RESUME                   0\n",
      "\n",
      "  1           2 PUSH_NULL\n",
      "              4 LOAD_NAME                0 (range)\n",
      "              6 LOAD_CONST               0 (1)\n",
      "              8 LOAD_CONST               1 (11)\n",
      "             10 CALL                     2\n",
      "             18 GET_ITER\n",
      "             20 LOAD_FAST_AND_CLEAR      0 (i)\n",
      "             22 LOAD_FAST_AND_CLEAR      1 (j)\n",
      "             24 SWAP                     3\n",
      "             26 BUILD_LIST               0\n",
      "             28 SWAP                     2\n",
      "        >>   30 FOR_ITER                28 (to 90)\n",
      "             34 STORE_FAST               0 (i)\n",
      "             36 PUSH_NULL\n",
      "             38 LOAD_NAME                0 (range)\n",
      "             40 LOAD_CONST               0 (1)\n",
      "             42 LOAD_CONST               1 (11)\n",
      "             44 CALL                     2\n",
      "             52 GET_ITER\n",
      "             54 LOAD_FAST_AND_CLEAR      1 (j)\n",
      "             56 SWAP                     2\n",
      "             58 BUILD_LIST               0\n",
      "             60 SWAP                     2\n",
      "        >>   62 FOR_ITER                 7 (to 80)\n",
      "             66 STORE_FAST               1 (j)\n",
      "             68 LOAD_FAST                1 (j)\n",
      "             70 LOAD_FAST                0 (i)\n",
      "             72 BINARY_OP                5 (*)\n",
      "             76 LIST_APPEND              2\n",
      "             78 JUMP_BACKWARD            9 (to 62)\n",
      "        >>   80 END_FOR\n",
      "             82 SWAP                     2\n",
      "             84 STORE_FAST               1 (j)\n",
      "             86 LIST_APPEND              2\n",
      "             88 JUMP_BACKWARD           30 (to 30)\n",
      "        >>   90 END_FOR\n",
      "             92 SWAP                     3\n",
      "             94 STORE_FAST               1 (j)\n",
      "             96 STORE_FAST               0 (i)\n",
      "             98 RETURN_VALUE\n",
      "        >>  100 SWAP                     2\n",
      "            102 POP_TOP\n",
      "            104 SWAP                     2\n",
      "            106 STORE_FAST               1 (j)\n",
      "            108 RERAISE                  0\n",
      "        >>  110 SWAP                     2\n",
      "            112 POP_TOP\n",
      "            114 SWAP                     3\n",
      "            116 STORE_FAST               1 (j)\n",
      "            118 STORE_FAST               0 (i)\n",
      "            120 RERAISE                  0\n",
      "ExceptionTable:\n",
      "  26 to 56 -> 110 [3]\n",
      "  58 to 80 -> 100 [6]\n",
      "  82 to 90 -> 110 [3]\n",
      "  100 to 108 -> 110 [3]\n"
     ]
    }
   ],
   "execution_count": 56
  },
  {
   "metadata": {
    "ExecuteTime": {
     "end_time": "2024-07-01T16:35:53.115261Z",
     "start_time": "2024-07-01T16:35:53.110933Z"
    }
   },
   "cell_type": "code",
   "source": [
    "from math import factorial\n",
    "def pascal(row, column):\n",
    "    return factorial(row) // (factorial(column) * factorial(row - column))"
   ],
   "id": "c318b1e96963a8a1",
   "outputs": [],
   "execution_count": 79
  },
  {
   "metadata": {
    "ExecuteTime": {
     "end_time": "2024-07-01T16:35:53.400700Z",
     "start_time": "2024-07-01T16:35:53.392715Z"
    }
   },
   "cell_type": "code",
   "source": [
    "size = 10\n",
    "[[pascal(row=i, column=j) for j in range(i + 1)] for i in range(size + 1)]"
   ],
   "id": "31ee75f65ce5a6db",
   "outputs": [
    {
     "data": {
      "text/plain": [
       "[[1],\n",
       " [1, 1],\n",
       " [1, 2, 1],\n",
       " [1, 3, 3, 1],\n",
       " [1, 4, 6, 4, 1],\n",
       " [1, 5, 10, 10, 5, 1],\n",
       " [1, 6, 15, 20, 15, 6, 1],\n",
       " [1, 7, 21, 35, 35, 21, 7, 1],\n",
       " [1, 8, 28, 56, 70, 56, 28, 8, 1],\n",
       " [1, 9, 36, 84, 126, 126, 84, 36, 9, 1],\n",
       " [1, 10, 45, 120, 210, 252, 210, 120, 45, 10, 1]]"
      ]
     },
     "execution_count": 80,
     "metadata": {},
     "output_type": "execute_result"
    }
   ],
   "execution_count": 80
  },
  {
   "metadata": {
    "ExecuteTime": {
     "end_time": "2024-07-01T16:36:48.938747Z",
     "start_time": "2024-07-01T16:36:48.935926Z"
    }
   },
   "cell_type": "code",
   "source": [
    "l1 = ['a', 'b', 'c']\n",
    "l2 = ['x', 'y', 'z']"
   ],
   "id": "886cffd8afd51481",
   "outputs": [],
   "execution_count": 81
  },
  {
   "metadata": {
    "ExecuteTime": {
     "end_time": "2024-07-01T16:38:01.380708Z",
     "start_time": "2024-07-01T16:38:01.375279Z"
    }
   },
   "cell_type": "code",
   "source": [
    "result = []\n",
    "for s1 in l1:\n",
    "    for s2 in l2:\n",
    "        result.append(s1 + s2)\n",
    "result"
   ],
   "id": "a3e2ea9be9d21fc1",
   "outputs": [
    {
     "data": {
      "text/plain": [
       "['ax', 'ay', 'az', 'bx', 'by', 'bz', 'cx', 'cy', 'cz']"
      ]
     },
     "execution_count": 82,
     "metadata": {},
     "output_type": "execute_result"
    }
   ],
   "execution_count": 82
  },
  {
   "metadata": {
    "ExecuteTime": {
     "end_time": "2024-07-01T16:39:11.203921Z",
     "start_time": "2024-07-01T16:39:11.198387Z"
    }
   },
   "cell_type": "code",
   "source": "[c1 + c2 for c2 in l2 for c1 in l1]",
   "id": "e097e8e77a52322c",
   "outputs": [
    {
     "data": {
      "text/plain": [
       "['ax', 'bx', 'cx', 'ay', 'by', 'cy', 'az', 'bz', 'cz']"
      ]
     },
     "execution_count": 84,
     "metadata": {},
     "output_type": "execute_result"
    }
   ],
   "execution_count": 84
  },
  {
   "metadata": {
    "ExecuteTime": {
     "end_time": "2024-07-01T16:46:40.415661Z",
     "start_time": "2024-07-01T16:46:40.411962Z"
    }
   },
   "cell_type": "code",
   "source": [
    "l1 = 'a', 'b', 'c'\n",
    "l2 = 'b', 'c', 'd'\n",
    "[c1 + c2 for c1 in l1 for c2 in l2 if c1 != c2]"
   ],
   "id": "798f8d56f6b63d1c",
   "outputs": [
    {
     "data": {
      "text/plain": [
       "['ab', 'ac', 'ad', 'bc', 'bd', 'cb', 'cd']"
      ]
     },
     "execution_count": 89,
     "metadata": {},
     "output_type": "execute_result"
    }
   ],
   "execution_count": 89
  },
  {
   "metadata": {
    "ExecuteTime": {
     "end_time": "2024-07-01T16:48:10.065134Z",
     "start_time": "2024-07-01T16:48:10.062528Z"
    }
   },
   "cell_type": "code",
   "source": [
    "l1 = tuple(range(1, 10))\n",
    "l2 = 'a', 'b', 'c', 'd'"
   ],
   "id": "dcec2b661fedb4a8",
   "outputs": [],
   "execution_count": 92
  },
  {
   "metadata": {
    "ExecuteTime": {
     "end_time": "2024-07-01T16:50:07.132823Z",
     "start_time": "2024-07-01T16:50:07.127143Z"
    }
   },
   "cell_type": "code",
   "source": "list(enumerate(l2))",
   "id": "bc39109b094251da",
   "outputs": [
    {
     "data": {
      "text/plain": [
       "[(0, 'a'), (1, 'b'), (2, 'c'), (3, 'd')]"
      ]
     },
     "execution_count": 99,
     "metadata": {},
     "output_type": "execute_result"
    }
   ],
   "execution_count": 99
  },
  {
   "metadata": {
    "ExecuteTime": {
     "end_time": "2024-07-01T16:51:55.675033Z",
     "start_time": "2024-07-01T16:51:55.668691Z"
    }
   },
   "cell_type": "code",
   "source": [
    "result = []\n",
    "for index_1, item_1 in enumerate(l1):\n",
    "    for index_2, item_2 in enumerate(l2):\n",
    "        if index_1 == index_2:\n",
    "            result.append((item_1, item_2))\n",
    "result"
   ],
   "id": "efeb45a544c402d7",
   "outputs": [
    {
     "data": {
      "text/plain": [
       "[(1, 'a'), (2, 'b'), (3, 'c'), (4, 'd')]"
      ]
     },
     "execution_count": 101,
     "metadata": {},
     "output_type": "execute_result"
    }
   ],
   "execution_count": 101
  },
  {
   "metadata": {
    "ExecuteTime": {
     "end_time": "2024-07-01T16:54:51.860617Z",
     "start_time": "2024-07-01T16:54:51.856858Z"
    }
   },
   "cell_type": "code",
   "source": [
    "result = [(item_1, item_2) \n",
    "          for index_1, item_1 in enumerate(l1)\n",
    "          for index_2, item_2 in enumerate(l2)\n",
    "          if index_1 == index_2]"
   ],
   "id": "d4ee86d3c9c1d0a3",
   "outputs": [],
   "execution_count": 102
  },
  {
   "metadata": {
    "ExecuteTime": {
     "end_time": "2024-07-01T16:54:53.730339Z",
     "start_time": "2024-07-01T16:54:53.725057Z"
    }
   },
   "cell_type": "code",
   "source": "result",
   "id": "feee391acde373b3",
   "outputs": [
    {
     "data": {
      "text/plain": [
       "[(1, 'a'), (2, 'b'), (3, 'c'), (4, 'd')]"
      ]
     },
     "execution_count": 103,
     "metadata": {},
     "output_type": "execute_result"
    }
   ],
   "execution_count": 103
  },
  {
   "metadata": {
    "ExecuteTime": {
     "end_time": "2024-07-01T16:56:57.240089Z",
     "start_time": "2024-07-01T16:56:57.235059Z"
    }
   },
   "cell_type": "code",
   "source": "sum(range(1, 4))",
   "id": "23779b5f66069c4a",
   "outputs": [
    {
     "data": {
      "text/plain": [
       "6"
      ]
     },
     "execution_count": 104,
     "metadata": {},
     "output_type": "execute_result"
    }
   ],
   "execution_count": 104
  },
  {
   "metadata": {
    "ExecuteTime": {
     "end_time": "2024-07-01T17:03:18.372982Z",
     "start_time": "2024-07-01T17:03:18.369600Z"
    }
   },
   "cell_type": "code",
   "source": [
    "v1 = tuple(range(1, 7))\n",
    "v2 = tuple(range(10, 61, 10))"
   ],
   "id": "9a9c3c50f139923a",
   "outputs": [],
   "execution_count": 105
  },
  {
   "metadata": {
    "ExecuteTime": {
     "end_time": "2024-07-01T17:07:01.759911Z",
     "start_time": "2024-07-01T17:07:01.754388Z"
    }
   },
   "cell_type": "code",
   "source": "sum(n1 * n2 for n1, n2 in zip(v1, v2))",
   "id": "2abd19addba84e0b",
   "outputs": [
    {
     "data": {
      "text/plain": [
       "910"
      ]
     },
     "execution_count": 115,
     "metadata": {},
     "output_type": "execute_result"
    }
   ],
   "execution_count": 115
  },
  {
   "metadata": {
    "ExecuteTime": {
     "end_time": "2024-07-01T17:10:17.639078Z",
     "start_time": "2024-07-01T17:10:17.633447Z"
    }
   },
   "cell_type": "code",
   "source": [
    "l = []\n",
    "for number in range(5):\n",
    "    l.append(number**2)\n",
    "number"
   ],
   "id": "ce5541f36b613521",
   "outputs": [
    {
     "data": {
      "text/plain": [
       "4"
      ]
     },
     "execution_count": 120,
     "metadata": {},
     "output_type": "execute_result"
    }
   ],
   "execution_count": 120
  },
  {
   "metadata": {
    "ExecuteTime": {
     "end_time": "2024-07-01T17:10:20.330334Z",
     "start_time": "2024-07-01T17:10:20.326519Z"
    }
   },
   "cell_type": "code",
   "source": "del number",
   "id": "4f694ffad130f18e",
   "outputs": [],
   "execution_count": 121
  },
  {
   "metadata": {
    "ExecuteTime": {
     "end_time": "2024-07-01T17:10:39.212243Z",
     "start_time": "2024-07-01T17:10:39.206925Z"
    }
   },
   "cell_type": "code",
   "source": "[number for number in range(5)]",
   "id": "16f3746409a66f56",
   "outputs": [
    {
     "data": {
      "text/plain": [
       "[0, 1, 2, 3, 4]"
      ]
     },
     "execution_count": 123,
     "metadata": {},
     "output_type": "execute_result"
    }
   ],
   "execution_count": 123
  },
  {
   "metadata": {
    "ExecuteTime": {
     "end_time": "2024-07-01T17:10:40.765156Z",
     "start_time": "2024-07-01T17:10:40.741834Z"
    }
   },
   "cell_type": "code",
   "source": "number",
   "id": "32b855b2f775c25d",
   "outputs": [
    {
     "ename": "NameError",
     "evalue": "name 'number' is not defined",
     "output_type": "error",
     "traceback": [
      "\u001B[0;31m---------------------------------------------------------------------------\u001B[0m",
      "\u001B[0;31mNameError\u001B[0m                                 Traceback (most recent call last)",
      "Cell \u001B[0;32mIn[124], line 1\u001B[0m\n\u001B[0;32m----> 1\u001B[0m \u001B[43mnumber\u001B[49m\n",
      "\u001B[0;31mNameError\u001B[0m: name 'number' is not defined"
     ]
    }
   ],
   "execution_count": 124
  },
  {
   "metadata": {
    "ExecuteTime": {
     "end_time": "2024-07-01T17:14:18.080994Z",
     "start_time": "2024-07-01T17:14:18.077858Z"
    }
   },
   "cell_type": "code",
   "source": "number = 100",
   "id": "d579e5c48ec4528f",
   "outputs": [],
   "execution_count": 125
  },
  {
   "metadata": {
    "ExecuteTime": {
     "end_time": "2024-07-01T17:14:42.800631Z",
     "start_time": "2024-07-01T17:14:42.795134Z"
    }
   },
   "cell_type": "code",
   "source": "[number ** 2 for number in range(5)]",
   "id": "78759a41276b6efb",
   "outputs": [
    {
     "data": {
      "text/plain": [
       "[0, 1, 4, 9, 16]"
      ]
     },
     "execution_count": 127,
     "metadata": {},
     "output_type": "execute_result"
    }
   ],
   "execution_count": 127
  },
  {
   "metadata": {
    "ExecuteTime": {
     "end_time": "2024-07-01T17:15:00.465005Z",
     "start_time": "2024-07-01T17:15:00.459389Z"
    }
   },
   "cell_type": "code",
   "source": "[number * i for i in range(5)]",
   "id": "b5ffc043e4ff19ab",
   "outputs": [
    {
     "data": {
      "text/plain": [
       "[0, 100, 200, 300, 400]"
      ]
     },
     "execution_count": 128,
     "metadata": {},
     "output_type": "execute_result"
    }
   ],
   "execution_count": 128
  },
  {
   "metadata": {
    "ExecuteTime": {
     "end_time": "2024-07-01T17:15:46.650352Z",
     "start_time": "2024-07-01T17:15:46.646496Z"
    }
   },
   "cell_type": "code",
   "source": [
    "fn_0 = lambda x: x ** 0\n",
    "fn_1 = lambda x: x ** 1\n",
    "fn_2 = lambda x: x ** 2\n",
    "fn_3 = lambda x: x ** 3"
   ],
   "id": "4cd72541311a9f1b",
   "outputs": [],
   "execution_count": 129
  },
  {
   "metadata": {
    "ExecuteTime": {
     "end_time": "2024-07-01T17:17:24.097488Z",
     "start_time": "2024-07-01T17:17:24.093877Z"
    }
   },
   "cell_type": "code",
   "source": "funcs = [lambda x: x ** 0, lambda x: x ** 1, lambda x: x ** 2, lambda x: x ** 3]",
   "id": "ae2ba1f9f99a5933",
   "outputs": [],
   "execution_count": 130
  },
  {
   "metadata": {
    "ExecuteTime": {
     "end_time": "2024-07-01T17:17:50.165283Z",
     "start_time": "2024-07-01T17:17:50.161516Z"
    }
   },
   "cell_type": "code",
   "source": [
    "for i in range(4):\n",
    "    print(funcs[i](10))"
   ],
   "id": "958e2e658bb2f469",
   "outputs": [
    {
     "name": "stdout",
     "output_type": "stream",
     "text": [
      "1\n",
      "10\n",
      "100\n",
      "1000\n"
     ]
    }
   ],
   "execution_count": 132
  },
  {
   "metadata": {
    "ExecuteTime": {
     "end_time": "2024-07-01T17:22:03.640891Z",
     "start_time": "2024-07-01T17:22:03.637768Z"
    }
   },
   "cell_type": "code",
   "source": [
    "if 'i' in globals():\n",
    "    del i"
   ],
   "id": "db431e6328963974",
   "outputs": [],
   "execution_count": 159
  },
  {
   "metadata": {
    "ExecuteTime": {
     "end_time": "2024-07-01T17:22:03.860236Z",
     "start_time": "2024-07-01T17:22:03.856993Z"
    }
   },
   "cell_type": "code",
   "source": [
    "funcs = []\n",
    "for i in range(6):\n",
    "    funcs.append(lambda x: x ** i)\n",
    "funcs"
   ],
   "id": "735026b299a80718",
   "outputs": [
    {
     "data": {
      "text/plain": [
       "[<function __main__.<lambda>(x)>,\n",
       " <function __main__.<lambda>(x)>,\n",
       " <function __main__.<lambda>(x)>,\n",
       " <function __main__.<lambda>(x)>,\n",
       " <function __main__.<lambda>(x)>,\n",
       " <function __main__.<lambda>(x)>]"
      ]
     },
     "execution_count": 160,
     "metadata": {},
     "output_type": "execute_result"
    }
   ],
   "execution_count": 160
  },
  {
   "metadata": {
    "ExecuteTime": {
     "end_time": "2024-07-01T17:22:04.001709Z",
     "start_time": "2024-07-01T17:22:03.998579Z"
    }
   },
   "cell_type": "code",
   "source": [
    "for j in range(2):\n",
    "    print(funcs[j](10))"
   ],
   "id": "9a50ee1eb6970ba4",
   "outputs": [
    {
     "name": "stdout",
     "output_type": "stream",
     "text": [
      "100000\n",
      "100000\n"
     ]
    }
   ],
   "execution_count": 161
  },
  {
   "metadata": {
    "ExecuteTime": {
     "end_time": "2024-07-01T17:22:28.993480Z",
     "start_time": "2024-07-01T17:22:28.988363Z"
    }
   },
   "cell_type": "code",
   "source": [
    "i = 23\n",
    "funcs[0](10)"
   ],
   "id": "c3e24bcde3b7f532",
   "outputs": [
    {
     "data": {
      "text/plain": [
       "100000000000000000000000"
      ]
     },
     "execution_count": 165,
     "metadata": {},
     "output_type": "execute_result"
    }
   ],
   "execution_count": 165
  },
  {
   "metadata": {},
   "cell_type": "markdown",
   "source": "#### This is what happened",
   "id": "a2e3ec2edf78e12f"
  },
  {
   "metadata": {
    "ExecuteTime": {
     "end_time": "2024-07-01T17:24:20.978783Z",
     "start_time": "2024-07-01T17:24:20.974428Z"
    }
   },
   "cell_type": "code",
   "source": [
    "i = 0\n",
    "def fn_0(x):\n",
    "    return x ** i\n",
    "\n",
    "i = 1\n",
    "def fn_1(x):\n",
    "    return x ** i"
   ],
   "id": "f017cbb1a226b83a",
   "outputs": [],
   "execution_count": 166
  },
  {
   "metadata": {
    "ExecuteTime": {
     "end_time": "2024-07-01T17:25:44.596806Z",
     "start_time": "2024-07-01T17:25:44.593224Z"
    }
   },
   "cell_type": "code",
   "source": [
    "def funcs():\n",
    "    fn = []\n",
    "    for i in range(6):\n",
    "        fn.append(lambda x: x ** i)\n",
    "    return fn"
   ],
   "id": "8f788f377ed49b8f",
   "outputs": [],
   "execution_count": 174
  },
  {
   "metadata": {
    "ExecuteTime": {
     "end_time": "2024-07-01T17:26:04.135729Z",
     "start_time": "2024-07-01T17:26:04.132628Z"
    }
   },
   "cell_type": "code",
   "source": "f = funcs()",
   "id": "b7fb8e659c68769e",
   "outputs": [],
   "execution_count": 178
  },
  {
   "metadata": {
    "ExecuteTime": {
     "end_time": "2024-07-01T17:26:04.851150Z",
     "start_time": "2024-07-01T17:26:04.845960Z"
    }
   },
   "cell_type": "code",
   "source": "f",
   "id": "7593773369bda9bf",
   "outputs": [
    {
     "data": {
      "text/plain": [
       "[<function __main__.funcs.<locals>.<lambda>(x)>,\n",
       " <function __main__.funcs.<locals>.<lambda>(x)>,\n",
       " <function __main__.funcs.<locals>.<lambda>(x)>,\n",
       " <function __main__.funcs.<locals>.<lambda>(x)>,\n",
       " <function __main__.funcs.<locals>.<lambda>(x)>,\n",
       " <function __main__.funcs.<locals>.<lambda>(x)>]"
      ]
     },
     "execution_count": 179,
     "metadata": {},
     "output_type": "execute_result"
    }
   ],
   "execution_count": 179
  },
  {
   "metadata": {
    "ExecuteTime": {
     "end_time": "2024-07-01T17:26:16.023940Z",
     "start_time": "2024-07-01T17:26:16.019401Z"
    }
   },
   "cell_type": "code",
   "source": "f[0](10)",
   "id": "3e7dea3411b47a52",
   "outputs": [
    {
     "data": {
      "text/plain": [
       "100000"
      ]
     },
     "execution_count": 181,
     "metadata": {},
     "output_type": "execute_result"
    }
   ],
   "execution_count": 181
  },
  {
   "metadata": {
    "ExecuteTime": {
     "end_time": "2024-07-01T17:28:09.513795Z",
     "start_time": "2024-07-01T17:28:09.510144Z"
    }
   },
   "cell_type": "code",
   "source": "funcs = [lambda x: x ** i for i in range(5)]",
   "id": "9a7cf3bf6a321ad5",
   "outputs": [],
   "execution_count": 182
  },
  {
   "metadata": {
    "ExecuteTime": {
     "end_time": "2024-07-01T17:28:17.481075Z",
     "start_time": "2024-07-01T17:28:17.476349Z"
    }
   },
   "cell_type": "code",
   "source": "funcs[0](10)",
   "id": "c252539667856049",
   "outputs": [
    {
     "data": {
      "text/plain": [
       "10000"
      ]
     },
     "execution_count": 183,
     "metadata": {},
     "output_type": "execute_result"
    }
   ],
   "execution_count": 183
  },
  {
   "metadata": {
    "ExecuteTime": {
     "end_time": "2024-07-01T17:29:35.694559Z",
     "start_time": "2024-07-01T17:29:35.691285Z"
    }
   },
   "cell_type": "code",
   "source": "from datetime import datetime",
   "id": "25c59cb876fb82a9",
   "outputs": [],
   "execution_count": 184
  },
  {
   "metadata": {
    "ExecuteTime": {
     "end_time": "2024-07-01T17:29:42.672577Z",
     "start_time": "2024-07-01T17:29:42.668074Z"
    }
   },
   "cell_type": "code",
   "source": "datetime.now()",
   "id": "b618dc60e938ad7f",
   "outputs": [
    {
     "data": {
      "text/plain": [
       "datetime.datetime(2024, 7, 1, 19, 29, 42, 670066)"
      ]
     },
     "execution_count": 185,
     "metadata": {},
     "output_type": "execute_result"
    }
   ],
   "execution_count": 185
  },
  {
   "metadata": {
    "ExecuteTime": {
     "end_time": "2024-07-01T17:30:30.498018Z",
     "start_time": "2024-07-01T17:30:30.494570Z"
    }
   },
   "cell_type": "code",
   "source": [
    "def log(msg, current_dt=datetime.now()):\n",
    "    print(msg, current_dt)"
   ],
   "id": "c0610b83fff01079",
   "outputs": [],
   "execution_count": 186
  },
  {
   "metadata": {
    "ExecuteTime": {
     "end_time": "2024-07-01T17:30:37.690615Z",
     "start_time": "2024-07-01T17:30:37.686326Z"
    }
   },
   "cell_type": "code",
   "source": "log('abc')",
   "id": "3cb682eb9fd38202",
   "outputs": [
    {
     "name": "stdout",
     "output_type": "stream",
     "text": [
      "abc 2024-07-01 19:30:30.496102\n"
     ]
    }
   ],
   "execution_count": 187
  },
  {
   "metadata": {
    "ExecuteTime": {
     "end_time": "2024-07-01T17:30:59.197475Z",
     "start_time": "2024-07-01T17:30:59.193874Z"
    }
   },
   "cell_type": "code",
   "source": "log('cde')",
   "id": "b82572ec5b9c5911",
   "outputs": [
    {
     "name": "stdout",
     "output_type": "stream",
     "text": [
      "cde 2024-07-01 19:30:30.496102\n"
     ]
    }
   ],
   "execution_count": 188
  },
  {
   "metadata": {
    "ExecuteTime": {
     "end_time": "2024-07-01T17:31:53.521276Z",
     "start_time": "2024-07-01T17:31:53.517621Z"
    }
   },
   "cell_type": "code",
   "source": "log('a')",
   "id": "cdbcada73932ffa",
   "outputs": [
    {
     "name": "stdout",
     "output_type": "stream",
     "text": [
      "a 2024-07-01 19:30:30.496102\n"
     ]
    }
   ],
   "execution_count": 189
  },
  {
   "metadata": {
    "ExecuteTime": {
     "end_time": "2024-07-01T17:34:09.360622Z",
     "start_time": "2024-07-01T17:34:09.355159Z"
    }
   },
   "cell_type": "code",
   "source": [
    "funcs = [lambda x, i=i: x ** i for i in range(5)]\n",
    "funcs[0](10)"
   ],
   "id": "de8a0a6fa4e02587",
   "outputs": [
    {
     "data": {
      "text/plain": [
       "10"
      ]
     },
     "execution_count": 195,
     "metadata": {},
     "output_type": "execute_result"
    }
   ],
   "execution_count": 195
  },
  {
   "metadata": {
    "ExecuteTime": {
     "end_time": "2024-07-01T17:36:37.327814Z",
     "start_time": "2024-07-01T17:36:37.322814Z"
    }
   },
   "cell_type": "code",
   "source": [
    "funcs = [lambda x: x ** i for i in range(5)]\n",
    "print(funcs[0](10))  # 10000\n",
    "funcs = [lambda x, p=i: x ** p for i in range(5)]\n",
    "print(funcs[0](10))  # 1"
   ],
   "id": "306e1fc65943ff0a",
   "outputs": [
    {
     "name": "stdout",
     "output_type": "stream",
     "text": [
      "10000\n",
      "1\n"
     ]
    }
   ],
   "execution_count": 199
  }
 ],
 "metadata": {
  "kernelspec": {
   "display_name": "Python 3",
   "language": "python",
   "name": "python3"
  },
  "language_info": {
   "codemirror_mode": {
    "name": "ipython",
    "version": 2
   },
   "file_extension": ".py",
   "mimetype": "text/x-python",
   "name": "python",
   "nbconvert_exporter": "python",
   "pygments_lexer": "ipython2",
   "version": "2.7.6"
  }
 },
 "nbformat": 4,
 "nbformat_minor": 5
}
