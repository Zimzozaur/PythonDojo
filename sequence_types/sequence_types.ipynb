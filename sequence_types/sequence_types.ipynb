{
 "cells": [
  {
   "cell_type": "code",
   "id": "initial_id",
   "metadata": {
    "collapsed": true,
    "ExecuteTime": {
     "end_time": "2024-06-14T08:42:51.785725Z",
     "start_time": "2024-06-14T08:42:51.782232Z"
    }
   },
   "source": [
    "l = [1, 2, 3]\n",
    "t = 1, 2, 3\n",
    "s = 'python'"
   ],
   "outputs": [],
   "execution_count": 2
  },
  {
   "metadata": {
    "ExecuteTime": {
     "end_time": "2024-06-14T08:43:11.007338Z",
     "start_time": "2024-06-14T08:43:10.997694Z"
    }
   },
   "cell_type": "code",
   "source": "l[0], t[1], s[2]",
   "id": "e1cbf7cd221c78b0",
   "outputs": [
    {
     "data": {
      "text/plain": [
       "(1, 2, 't')"
      ]
     },
     "execution_count": 3,
     "metadata": {},
     "output_type": "execute_result"
    }
   ],
   "execution_count": 3
  },
  {
   "metadata": {
    "ExecuteTime": {
     "end_time": "2024-06-14T08:43:29.177166Z",
     "start_time": "2024-06-14T08:43:29.173122Z"
    }
   },
   "cell_type": "code",
   "source": [
    "for c in s:\n",
    "    print(c)"
   ],
   "id": "f3b6407f641e8623",
   "outputs": [
    {
     "name": "stdout",
     "output_type": "stream",
     "text": [
      "p\n",
      "y\n",
      "t\n",
      "h\n",
      "o\n",
      "n\n"
     ]
    }
   ],
   "execution_count": 4
  },
  {
   "metadata": {
    "ExecuteTime": {
     "end_time": "2024-06-14T08:43:42.964627Z",
     "start_time": "2024-06-14T08:43:42.960903Z"
    }
   },
   "cell_type": "code",
   "source": "s = {10, 20, 30}",
   "id": "51774fdb9e2cd067",
   "outputs": [],
   "execution_count": 5
  },
  {
   "metadata": {
    "ExecuteTime": {
     "end_time": "2024-06-14T08:43:50.734916Z",
     "start_time": "2024-06-14T08:43:50.730978Z"
    }
   },
   "cell_type": "code",
   "source": [
    "for e in s:\n",
    "    print(e)"
   ],
   "id": "d3b35a033fb62523",
   "outputs": [
    {
     "name": "stdout",
     "output_type": "stream",
     "text": [
      "10\n",
      "20\n",
      "30\n"
     ]
    }
   ],
   "execution_count": 6
  },
  {
   "metadata": {
    "ExecuteTime": {
     "end_time": "2024-06-14T08:44:27.637036Z",
     "start_time": "2024-06-14T08:44:27.632840Z"
    }
   },
   "cell_type": "code",
   "source": "s = {'x', 10, 'a', 'A'}",
   "id": "118eccd9652a2df7",
   "outputs": [],
   "execution_count": 12
  },
  {
   "metadata": {
    "ExecuteTime": {
     "end_time": "2024-06-14T08:44:27.955261Z",
     "start_time": "2024-06-14T08:44:27.950492Z"
    }
   },
   "cell_type": "code",
   "source": [
    "for e in s:\n",
    "    print(e)"
   ],
   "id": "b070123bdb74d676",
   "outputs": [
    {
     "name": "stdout",
     "output_type": "stream",
     "text": [
      "10\n",
      "a\n",
      "x\n",
      "A\n"
     ]
    }
   ],
   "execution_count": 13
  },
  {
   "metadata": {
    "ExecuteTime": {
     "end_time": "2024-06-14T08:44:52.657955Z",
     "start_time": "2024-06-14T08:44:52.441501Z"
    }
   },
   "cell_type": "code",
   "source": "s[0]",
   "id": "2d809a3706ca3582",
   "outputs": [
    {
     "ename": "TypeError",
     "evalue": "'set' object is not subscriptable",
     "output_type": "error",
     "traceback": [
      "\u001B[0;31m---------------------------------------------------------------------------\u001B[0m",
      "\u001B[0;31mTypeError\u001B[0m                                 Traceback (most recent call last)",
      "Cell \u001B[0;32mIn[14], line 1\u001B[0m\n\u001B[0;32m----> 1\u001B[0m \u001B[43ms\u001B[49m\u001B[43m[\u001B[49m\u001B[38;5;241;43m0\u001B[39;49m\u001B[43m]\u001B[49m\n",
      "\u001B[0;31mTypeError\u001B[0m: 'set' object is not subscriptable"
     ]
    }
   ],
   "execution_count": 14
  },
  {
   "metadata": {
    "ExecuteTime": {
     "end_time": "2024-06-14T08:45:30.524009Z",
     "start_time": "2024-06-14T08:45:30.521249Z"
    }
   },
   "cell_type": "code",
   "source": [
    "l = [1, 2, 3]\n",
    "t = 1, 2, 3"
   ],
   "id": "30ec3694f05286d0",
   "outputs": [],
   "execution_count": 15
  },
  {
   "metadata": {
    "ExecuteTime": {
     "end_time": "2024-06-14T08:45:45.162867Z",
     "start_time": "2024-06-14T08:45:45.159159Z"
    }
   },
   "cell_type": "code",
   "source": "l[0] = 100",
   "id": "a77d5e2b9d65aac9",
   "outputs": [],
   "execution_count": 16
  },
  {
   "metadata": {
    "ExecuteTime": {
     "end_time": "2024-06-14T08:45:49.650856Z",
     "start_time": "2024-06-14T08:45:49.645589Z"
    }
   },
   "cell_type": "code",
   "source": "l",
   "id": "ea7d7f144585aac7",
   "outputs": [
    {
     "data": {
      "text/plain": [
       "[100, 2, 3]"
      ]
     },
     "execution_count": 17,
     "metadata": {},
     "output_type": "execute_result"
    }
   ],
   "execution_count": 17
  },
  {
   "metadata": {
    "ExecuteTime": {
     "end_time": "2024-06-14T08:45:57.580611Z",
     "start_time": "2024-06-14T08:45:57.558248Z"
    }
   },
   "cell_type": "code",
   "source": "t[0] = 100",
   "id": "546fa6e1eeb06dce",
   "outputs": [
    {
     "ename": "TypeError",
     "evalue": "'tuple' object does not support item assignment",
     "output_type": "error",
     "traceback": [
      "\u001B[0;31m---------------------------------------------------------------------------\u001B[0m",
      "\u001B[0;31mTypeError\u001B[0m                                 Traceback (most recent call last)",
      "Cell \u001B[0;32mIn[19], line 1\u001B[0m\n\u001B[0;32m----> 1\u001B[0m \u001B[43mt\u001B[49m\u001B[43m[\u001B[49m\u001B[38;5;241;43m0\u001B[39;49m\u001B[43m]\u001B[49m \u001B[38;5;241m=\u001B[39m \u001B[38;5;241m100\u001B[39m\n",
      "\u001B[0;31mTypeError\u001B[0m: 'tuple' object does not support item assignment"
     ]
    }
   ],
   "execution_count": 19
  },
  {
   "metadata": {
    "ExecuteTime": {
     "end_time": "2024-06-14T08:46:34.839333Z",
     "start_time": "2024-06-14T08:46:34.837109Z"
    }
   },
   "cell_type": "code",
   "source": "t = ([1, 2], 3, 4)",
   "id": "c9040b9f3a56fe92",
   "outputs": [],
   "execution_count": 21
  },
  {
   "metadata": {
    "ExecuteTime": {
     "end_time": "2024-06-14T08:46:46.454806Z",
     "start_time": "2024-06-14T08:46:46.431577Z"
    }
   },
   "cell_type": "code",
   "source": "t[0] = [1, 2, 3]",
   "id": "b0fc3a4dfe2cd60",
   "outputs": [
    {
     "ename": "TypeError",
     "evalue": "'tuple' object does not support item assignment",
     "output_type": "error",
     "traceback": [
      "\u001B[0;31m---------------------------------------------------------------------------\u001B[0m",
      "\u001B[0;31mTypeError\u001B[0m                                 Traceback (most recent call last)",
      "Cell \u001B[0;32mIn[22], line 1\u001B[0m\n\u001B[0;32m----> 1\u001B[0m \u001B[43mt\u001B[49m\u001B[43m[\u001B[49m\u001B[38;5;241;43m0\u001B[39;49m\u001B[43m]\u001B[49m \u001B[38;5;241m=\u001B[39m [\u001B[38;5;241m1\u001B[39m, \u001B[38;5;241m2\u001B[39m, \u001B[38;5;241m3\u001B[39m]\n",
      "\u001B[0;31mTypeError\u001B[0m: 'tuple' object does not support item assignment"
     ]
    }
   ],
   "execution_count": 22
  },
  {
   "metadata": {
    "ExecuteTime": {
     "end_time": "2024-06-14T08:46:49.193080Z",
     "start_time": "2024-06-14T08:46:49.188064Z"
    }
   },
   "cell_type": "code",
   "source": "t[0]",
   "id": "d89aed7191ba336a",
   "outputs": [
    {
     "data": {
      "text/plain": [
       "[1, 2]"
      ]
     },
     "execution_count": 23,
     "metadata": {},
     "output_type": "execute_result"
    }
   ],
   "execution_count": 23
  },
  {
   "metadata": {
    "ExecuteTime": {
     "end_time": "2024-06-14T08:47:04.109098Z",
     "start_time": "2024-06-14T08:47:04.106304Z"
    }
   },
   "cell_type": "code",
   "source": "t[0][0] = 100",
   "id": "771b19e414b87207",
   "outputs": [],
   "execution_count": 25
  },
  {
   "metadata": {
    "ExecuteTime": {
     "end_time": "2024-06-14T08:47:22.056816Z",
     "start_time": "2024-06-14T08:47:22.051889Z"
    }
   },
   "cell_type": "code",
   "source": "t",
   "id": "4bdfceadd6f60499",
   "outputs": [
    {
     "data": {
      "text/plain": [
       "([100, 2], 3, 4)"
      ]
     },
     "execution_count": 26,
     "metadata": {},
     "output_type": "execute_result"
    }
   ],
   "execution_count": 26
  },
  {
   "metadata": {
    "ExecuteTime": {
     "end_time": "2024-06-14T08:47:37.597788Z",
     "start_time": "2024-06-14T08:47:37.592917Z"
    }
   },
   "cell_type": "code",
   "source": "'a' in ['a', 'b', 100]",
   "id": "7fdbd6a0a0382e5d",
   "outputs": [
    {
     "data": {
      "text/plain": [
       "True"
      ]
     },
     "execution_count": 27,
     "metadata": {},
     "output_type": "execute_result"
    }
   ],
   "execution_count": 27
  },
  {
   "metadata": {
    "ExecuteTime": {
     "end_time": "2024-06-14T08:47:42.370102Z",
     "start_time": "2024-06-14T08:47:42.365308Z"
    }
   },
   "cell_type": "code",
   "source": "100 in range(200)",
   "id": "216af977ae2a252f",
   "outputs": [
    {
     "data": {
      "text/plain": [
       "True"
      ]
     },
     "execution_count": 28,
     "metadata": {},
     "output_type": "execute_result"
    }
   ],
   "execution_count": 28
  },
  {
   "metadata": {
    "ExecuteTime": {
     "end_time": "2024-06-14T08:48:28.509243Z",
     "start_time": "2024-06-14T08:48:28.504780Z"
    }
   },
   "cell_type": "code",
   "source": "len('python'), len([1, 2, 3]), len({1, 2, 3})",
   "id": "871094b38e55e4b0",
   "outputs": [
    {
     "data": {
      "text/plain": [
       "(6, 3, 3)"
      ]
     },
     "execution_count": 30,
     "metadata": {},
     "output_type": "execute_result"
    }
   ],
   "execution_count": 30
  },
  {
   "metadata": {
    "ExecuteTime": {
     "end_time": "2024-06-14T08:49:25.721982Z",
     "start_time": "2024-06-14T08:49:25.716859Z"
    }
   },
   "cell_type": "code",
   "source": "100 < 2000",
   "id": "be29d8635dbdb877",
   "outputs": [
    {
     "data": {
      "text/plain": [
       "True"
      ]
     },
     "execution_count": 31,
     "metadata": {},
     "output_type": "execute_result"
    }
   ],
   "execution_count": 31
  },
  {
   "metadata": {
    "ExecuteTime": {
     "end_time": "2024-06-14T08:49:47.134465Z",
     "start_time": "2024-06-14T08:49:47.110253Z"
    }
   },
   "cell_type": "code",
   "source": "2 + 2j < 100 + 100j",
   "id": "c893f122ca2a697e",
   "outputs": [
    {
     "ename": "TypeError",
     "evalue": "'<' not supported between instances of 'complex' and 'complex'",
     "output_type": "error",
     "traceback": [
      "\u001B[0;31m---------------------------------------------------------------------------\u001B[0m",
      "\u001B[0;31mTypeError\u001B[0m                                 Traceback (most recent call last)",
      "Cell \u001B[0;32mIn[32], line 1\u001B[0m\n\u001B[0;32m----> 1\u001B[0m \u001B[38;5;241;43m2\u001B[39;49m\u001B[43m \u001B[49m\u001B[38;5;241;43m+\u001B[39;49m\u001B[43m \u001B[49m\u001B[38;5;241;43m2\u001B[39;49m\u001B[43mj\u001B[49m\u001B[43m \u001B[49m\u001B[38;5;241;43m<\u001B[39;49m\u001B[43m \u001B[49m\u001B[38;5;241;43m100\u001B[39;49m\u001B[43m \u001B[49m\u001B[38;5;241;43m+\u001B[39;49m\u001B[43m \u001B[49m\u001B[38;5;241;43m100\u001B[39;49m\u001B[43mj\u001B[49m\n",
      "\u001B[0;31mTypeError\u001B[0m: '<' not supported between instances of 'complex' and 'complex'"
     ]
    }
   ],
   "execution_count": 32
  },
  {
   "metadata": {
    "ExecuteTime": {
     "end_time": "2024-06-14T08:50:21.847996Z",
     "start_time": "2024-06-14T08:50:21.844856Z"
    }
   },
   "cell_type": "code",
   "source": "l = [100, 90, 20]",
   "id": "1636b18259d45d92",
   "outputs": [],
   "execution_count": 34
  },
  {
   "metadata": {
    "ExecuteTime": {
     "end_time": "2024-06-14T08:50:30.358840Z",
     "start_time": "2024-06-14T08:50:30.353997Z"
    }
   },
   "cell_type": "code",
   "source": "min(l), max(l)",
   "id": "97be6aea4850223d",
   "outputs": [
    {
     "data": {
      "text/plain": [
       "(20, 100)"
      ]
     },
     "execution_count": 35,
     "metadata": {},
     "output_type": "execute_result"
    }
   ],
   "execution_count": 35
  },
  {
   "metadata": {
    "ExecuteTime": {
     "end_time": "2024-06-14T08:51:07.358256Z",
     "start_time": "2024-06-14T08:51:07.354815Z"
    }
   },
   "cell_type": "code",
   "source": "l = ['a', 'b', 'c']",
   "id": "153efccfadf3e04c",
   "outputs": [],
   "execution_count": 36
  },
  {
   "metadata": {
    "ExecuteTime": {
     "end_time": "2024-06-14T08:51:13.084367Z",
     "start_time": "2024-06-14T08:51:13.079340Z"
    }
   },
   "cell_type": "code",
   "source": "'a' < 'b'",
   "id": "1efa5635bf2ed1c7",
   "outputs": [
    {
     "data": {
      "text/plain": [
       "True"
      ]
     },
     "execution_count": 37,
     "metadata": {},
     "output_type": "execute_result"
    }
   ],
   "execution_count": 37
  },
  {
   "metadata": {
    "ExecuteTime": {
     "end_time": "2024-06-14T08:51:21.453481Z",
     "start_time": "2024-06-14T08:51:21.448623Z"
    }
   },
   "cell_type": "code",
   "source": "min(l), max(l)",
   "id": "f2b7ac5058d44d4b",
   "outputs": [
    {
     "data": {
      "text/plain": [
       "('a', 'c')"
      ]
     },
     "execution_count": 38,
     "metadata": {},
     "output_type": "execute_result"
    }
   ],
   "execution_count": 38
  },
  {
   "metadata": {
    "ExecuteTime": {
     "end_time": "2024-06-14T08:51:28.075099Z",
     "start_time": "2024-06-14T08:51:28.052858Z"
    }
   },
   "cell_type": "code",
   "source": "'a' < 10",
   "id": "f4e2d70fa2e19664",
   "outputs": [
    {
     "ename": "TypeError",
     "evalue": "'<' not supported between instances of 'str' and 'int'",
     "output_type": "error",
     "traceback": [
      "\u001B[0;31m---------------------------------------------------------------------------\u001B[0m",
      "\u001B[0;31mTypeError\u001B[0m                                 Traceback (most recent call last)",
      "Cell \u001B[0;32mIn[39], line 1\u001B[0m\n\u001B[0;32m----> 1\u001B[0m \u001B[38;5;124;43m'\u001B[39;49m\u001B[38;5;124;43ma\u001B[39;49m\u001B[38;5;124;43m'\u001B[39;49m\u001B[43m \u001B[49m\u001B[38;5;241;43m<\u001B[39;49m\u001B[43m \u001B[49m\u001B[38;5;241;43m10\u001B[39;49m\n",
      "\u001B[0;31mTypeError\u001B[0m: '<' not supported between instances of 'str' and 'int'"
     ]
    }
   ],
   "execution_count": 39
  },
  {
   "metadata": {
    "ExecuteTime": {
     "end_time": "2024-06-14T08:51:38.809904Z",
     "start_time": "2024-06-14T08:51:38.806587Z"
    }
   },
   "cell_type": "code",
   "source": "l = ['a', 10, 100]",
   "id": "d2c5af9b75958ebe",
   "outputs": [],
   "execution_count": 40
  },
  {
   "metadata": {
    "ExecuteTime": {
     "end_time": "2024-06-14T08:51:41.882113Z",
     "start_time": "2024-06-14T08:51:41.862730Z"
    }
   },
   "cell_type": "code",
   "source": "min(l)",
   "id": "9137568133863ef7",
   "outputs": [
    {
     "ename": "TypeError",
     "evalue": "'<' not supported between instances of 'int' and 'str'",
     "output_type": "error",
     "traceback": [
      "\u001B[0;31m---------------------------------------------------------------------------\u001B[0m",
      "\u001B[0;31mTypeError\u001B[0m                                 Traceback (most recent call last)",
      "Cell \u001B[0;32mIn[41], line 1\u001B[0m\n\u001B[0;32m----> 1\u001B[0m \u001B[38;5;28;43mmin\u001B[39;49m\u001B[43m(\u001B[49m\u001B[43ml\u001B[49m\u001B[43m)\u001B[49m\n",
      "\u001B[0;31mTypeError\u001B[0m: '<' not supported between instances of 'int' and 'str'"
     ]
    }
   ],
   "execution_count": 41
  },
  {
   "metadata": {
    "ExecuteTime": {
     "end_time": "2024-06-14T08:52:11.836548Z",
     "start_time": "2024-06-14T08:52:11.833214Z"
    }
   },
   "cell_type": "code",
   "source": "from decimal import Decimal",
   "id": "d09463a7c0a33b6",
   "outputs": [],
   "execution_count": 42
  },
  {
   "metadata": {
    "ExecuteTime": {
     "end_time": "2024-06-14T08:52:45.833643Z",
     "start_time": "2024-06-14T08:52:45.829766Z"
    }
   },
   "cell_type": "code",
   "source": "l = 10, 10.5, Decimal('20.3')",
   "id": "530c90b4718fca8e",
   "outputs": [],
   "execution_count": 45
  },
  {
   "metadata": {
    "ExecuteTime": {
     "end_time": "2024-06-14T08:52:46.074081Z",
     "start_time": "2024-06-14T08:52:46.070726Z"
    }
   },
   "cell_type": "code",
   "source": "min(l), max(l)",
   "id": "6f2befbd44beeff2",
   "outputs": [
    {
     "data": {
      "text/plain": [
       "(10, Decimal('20.3'))"
      ]
     },
     "execution_count": 46,
     "metadata": {},
     "output_type": "execute_result"
    }
   ],
   "execution_count": 46
  },
  {
   "metadata": {
    "ExecuteTime": {
     "end_time": "2024-06-14T08:53:01.202486Z",
     "start_time": "2024-06-14T08:53:01.195814Z"
    }
   },
   "cell_type": "code",
   "source": "[1, 2, 3] + [4, 5, 6]",
   "id": "838005a7cec2e0cc",
   "outputs": [
    {
     "data": {
      "text/plain": [
       "[1, 2, 3, 4, 5, 6]"
      ]
     },
     "execution_count": 47,
     "metadata": {},
     "output_type": "execute_result"
    }
   ],
   "execution_count": 47
  },
  {
   "metadata": {
    "ExecuteTime": {
     "end_time": "2024-06-14T08:53:18.283163Z",
     "start_time": "2024-06-14T08:53:18.265109Z"
    }
   },
   "cell_type": "code",
   "source": "[1, 2, 3] + (4, 5, 6)",
   "id": "c61b1ec24a65de90",
   "outputs": [
    {
     "ename": "TypeError",
     "evalue": "can only concatenate list (not \"tuple\") to list",
     "output_type": "error",
     "traceback": [
      "\u001B[0;31m---------------------------------------------------------------------------\u001B[0m",
      "\u001B[0;31mTypeError\u001B[0m                                 Traceback (most recent call last)",
      "Cell \u001B[0;32mIn[48], line 1\u001B[0m\n\u001B[0;32m----> 1\u001B[0m \u001B[43m[\u001B[49m\u001B[38;5;241;43m1\u001B[39;49m\u001B[43m,\u001B[49m\u001B[43m \u001B[49m\u001B[38;5;241;43m2\u001B[39;49m\u001B[43m,\u001B[49m\u001B[43m \u001B[49m\u001B[38;5;241;43m3\u001B[39;49m\u001B[43m]\u001B[49m\u001B[43m \u001B[49m\u001B[38;5;241;43m+\u001B[39;49m\u001B[43m \u001B[49m\u001B[43m(\u001B[49m\u001B[38;5;241;43m4\u001B[39;49m\u001B[43m,\u001B[49m\u001B[43m \u001B[49m\u001B[38;5;241;43m5\u001B[39;49m\u001B[43m,\u001B[49m\u001B[43m \u001B[49m\u001B[38;5;241;43m6\u001B[39;49m\u001B[43m)\u001B[49m\n",
      "\u001B[0;31mTypeError\u001B[0m: can only concatenate list (not \"tuple\") to list"
     ]
    }
   ],
   "execution_count": 48
  },
  {
   "metadata": {
    "ExecuteTime": {
     "end_time": "2024-06-14T08:53:40.529841Z",
     "start_time": "2024-06-14T08:53:40.524758Z"
    }
   },
   "cell_type": "code",
   "source": "(1, 2, 3) + (4, 5, 6)",
   "id": "577daa000ce286fa",
   "outputs": [
    {
     "data": {
      "text/plain": [
       "(1, 2, 3, 4, 5, 6)"
      ]
     },
     "execution_count": 50,
     "metadata": {},
     "output_type": "execute_result"
    }
   ],
   "execution_count": 50
  },
  {
   "metadata": {
    "ExecuteTime": {
     "end_time": "2024-06-14T08:53:56.999882Z",
     "start_time": "2024-06-14T08:53:56.980378Z"
    }
   },
   "cell_type": "code",
   "source": "'abc' + ['d', 'e', 'f']",
   "id": "54f1bd022a75cacf",
   "outputs": [
    {
     "ename": "TypeError",
     "evalue": "can only concatenate str (not \"list\") to str",
     "output_type": "error",
     "traceback": [
      "\u001B[0;31m---------------------------------------------------------------------------\u001B[0m",
      "\u001B[0;31mTypeError\u001B[0m                                 Traceback (most recent call last)",
      "Cell \u001B[0;32mIn[51], line 1\u001B[0m\n\u001B[0;32m----> 1\u001B[0m \u001B[38;5;124;43m'\u001B[39;49m\u001B[38;5;124;43mabc\u001B[39;49m\u001B[38;5;124;43m'\u001B[39;49m\u001B[43m \u001B[49m\u001B[38;5;241;43m+\u001B[39;49m\u001B[43m \u001B[49m\u001B[43m[\u001B[49m\u001B[38;5;124;43m'\u001B[39;49m\u001B[38;5;124;43md\u001B[39;49m\u001B[38;5;124;43m'\u001B[39;49m\u001B[43m,\u001B[49m\u001B[43m \u001B[49m\u001B[38;5;124;43m'\u001B[39;49m\u001B[38;5;124;43me\u001B[39;49m\u001B[38;5;124;43m'\u001B[39;49m\u001B[43m,\u001B[49m\u001B[43m \u001B[49m\u001B[38;5;124;43m'\u001B[39;49m\u001B[38;5;124;43mf\u001B[39;49m\u001B[38;5;124;43m'\u001B[39;49m\u001B[43m]\u001B[49m\n",
      "\u001B[0;31mTypeError\u001B[0m: can only concatenate str (not \"list\") to str"
     ]
    }
   ],
   "execution_count": 51
  },
  {
   "metadata": {
    "ExecuteTime": {
     "end_time": "2024-06-14T08:54:29.565270Z",
     "start_time": "2024-06-14T08:54:29.559736Z"
    }
   },
   "cell_type": "code",
   "source": "list('abc')",
   "id": "7913674d1010d769",
   "outputs": [
    {
     "data": {
      "text/plain": [
       "['a', 'b', 'c']"
      ]
     },
     "execution_count": 52,
     "metadata": {},
     "output_type": "execute_result"
    }
   ],
   "execution_count": 52
  },
  {
   "metadata": {
    "ExecuteTime": {
     "end_time": "2024-06-14T08:54:48.459201Z",
     "start_time": "2024-06-14T08:54:48.454438Z"
    }
   },
   "cell_type": "code",
   "source": "list('abc') + ['d', 'e', 'f']",
   "id": "c9ad345ccd727029",
   "outputs": [
    {
     "data": {
      "text/plain": [
       "['a', 'b', 'c', 'd', 'e', 'f']"
      ]
     },
     "execution_count": 53,
     "metadata": {},
     "output_type": "execute_result"
    }
   ],
   "execution_count": 53
  },
  {
   "metadata": {
    "ExecuteTime": {
     "end_time": "2024-06-14T08:56:07.343647Z",
     "start_time": "2024-06-14T08:56:07.339Z"
    }
   },
   "cell_type": "code",
   "source": "', '.join(['1', '2', '3'])",
   "id": "84ceacade524ebf8",
   "outputs": [
    {
     "data": {
      "text/plain": [
       "'1, 2, 3'"
      ]
     },
     "execution_count": 56,
     "metadata": {},
     "output_type": "execute_result"
    }
   ],
   "execution_count": 56
  },
  {
   "metadata": {
    "ExecuteTime": {
     "end_time": "2024-06-14T08:56:55.336056Z",
     "start_time": "2024-06-14T08:56:55.331253Z"
    }
   },
   "cell_type": "code",
   "source": "''.join(list('abc') + ['d', 'e', 'f'])",
   "id": "2006047998c646d3",
   "outputs": [
    {
     "data": {
      "text/plain": [
       "'abcdef'"
      ]
     },
     "execution_count": 57,
     "metadata": {},
     "output_type": "execute_result"
    }
   ],
   "execution_count": 57
  },
  {
   "metadata": {
    "ExecuteTime": {
     "end_time": "2024-06-14T08:57:14.549291Z",
     "start_time": "2024-06-14T08:57:14.545074Z"
    }
   },
   "cell_type": "code",
   "source": "'abc' * 3",
   "id": "4389549d21bfe832",
   "outputs": [
    {
     "data": {
      "text/plain": [
       "'abcabcabc'"
      ]
     },
     "execution_count": 58,
     "metadata": {},
     "output_type": "execute_result"
    }
   ],
   "execution_count": 58
  },
  {
   "metadata": {
    "ExecuteTime": {
     "end_time": "2024-06-14T08:57:21.024799Z",
     "start_time": "2024-06-14T08:57:21.020513Z"
    }
   },
   "cell_type": "code",
   "source": "[1, 2, 3] * 3",
   "id": "bc9508deb02c3008",
   "outputs": [
    {
     "data": {
      "text/plain": [
       "[1, 2, 3, 1, 2, 3, 1, 2, 3]"
      ]
     },
     "execution_count": 59,
     "metadata": {},
     "output_type": "execute_result"
    }
   ],
   "execution_count": 59
  },
  {
   "metadata": {
    "ExecuteTime": {
     "end_time": "2024-06-14T08:58:14.188578Z",
     "start_time": "2024-06-14T08:58:14.184731Z"
    }
   },
   "cell_type": "code",
   "source": "s = \"gnu's not unix\"",
   "id": "c72d8128cbd6704c",
   "outputs": [],
   "execution_count": 60
  },
  {
   "metadata": {
    "ExecuteTime": {
     "end_time": "2024-06-14T08:59:16.894335Z",
     "start_time": "2024-06-14T08:59:16.888793Z"
    }
   },
   "cell_type": "code",
   "source": "tuple(enumerate(s))",
   "id": "f2ae70e9ca1b860",
   "outputs": [
    {
     "data": {
      "text/plain": [
       "((0, 'g'),\n",
       " (1, 'n'),\n",
       " (2, 'u'),\n",
       " (3, \"'\"),\n",
       " (4, 's'),\n",
       " (5, ' '),\n",
       " (6, 'n'),\n",
       " (7, 'o'),\n",
       " (8, 't'),\n",
       " (9, ' '),\n",
       " (10, 'u'),\n",
       " (11, 'n'),\n",
       " (12, 'i'),\n",
       " (13, 'x'))"
      ]
     },
     "execution_count": 64,
     "metadata": {},
     "output_type": "execute_result"
    }
   ],
   "execution_count": 64
  },
  {
   "metadata": {
    "ExecuteTime": {
     "end_time": "2024-06-14T08:59:38.305923Z",
     "start_time": "2024-06-14T08:59:38.299300Z"
    }
   },
   "cell_type": "code",
   "source": "help(enumerate)",
   "id": "f93f1cd8fd4a38cc",
   "outputs": [
    {
     "name": "stdout",
     "output_type": "stream",
     "text": [
      "Help on class enumerate in module builtins:\n",
      "\n",
      "class enumerate(object)\n",
      " |  enumerate(iterable, start=0)\n",
      " |\n",
      " |  Return an enumerate object.\n",
      " |\n",
      " |    iterable\n",
      " |      an object supporting iteration\n",
      " |\n",
      " |  The enumerate object yields pairs containing a count (from start, which\n",
      " |  defaults to zero) and a value yielded by the iterable argument.\n",
      " |\n",
      " |  enumerate is useful for obtaining an indexed list:\n",
      " |      (0, seq[0]), (1, seq[1]), (2, seq[2]), ...\n",
      " |\n",
      " |  Methods defined here:\n",
      " |\n",
      " |  __getattribute__(self, name, /)\n",
      " |      Return getattr(self, name).\n",
      " |\n",
      " |  __iter__(self, /)\n",
      " |      Implement iter(self).\n",
      " |\n",
      " |  __next__(self, /)\n",
      " |      Implement next(self).\n",
      " |\n",
      " |  __reduce__(...)\n",
      " |      Return state information for pickling.\n",
      " |\n",
      " |  ----------------------------------------------------------------------\n",
      " |  Class methods defined here:\n",
      " |\n",
      " |  __class_getitem__(...)\n",
      " |      See PEP 585\n",
      " |\n",
      " |  ----------------------------------------------------------------------\n",
      " |  Static methods defined here:\n",
      " |\n",
      " |  __new__(*args, **kwargs)\n",
      " |      Create and return a new object.  See help(type) for accurate signature.\n",
      "\n"
     ]
    }
   ],
   "execution_count": 65
  },
  {
   "metadata": {
    "ExecuteTime": {
     "end_time": "2024-06-14T09:01:48.502968Z",
     "start_time": "2024-06-14T09:01:48.498001Z"
    }
   },
   "cell_type": "code",
   "source": "s.index('n'), s.index('n', 5), s.index('n', 7)",
   "id": "11e6bb364582f278",
   "outputs": [
    {
     "data": {
      "text/plain": [
       "(1, 6, 11)"
      ]
     },
     "execution_count": 73,
     "metadata": {},
     "output_type": "execute_result"
    }
   ],
   "execution_count": 73
  },
  {
   "metadata": {
    "ExecuteTime": {
     "end_time": "2024-06-14T09:05:58.266818Z",
     "start_time": "2024-06-14T09:05:58.263848Z"
    }
   },
   "cell_type": "code",
   "source": [
    "s = 'python'\n",
    "l = list(range(1, 11))"
   ],
   "id": "cb7f518093f4ea5",
   "outputs": [],
   "execution_count": 81
  },
  {
   "metadata": {
    "ExecuteTime": {
     "end_time": "2024-06-14T09:05:58.496515Z",
     "start_time": "2024-06-14T09:05:58.491196Z"
    }
   },
   "cell_type": "code",
   "source": "l[4:1000]",
   "id": "a4a0739f29daece6",
   "outputs": [
    {
     "data": {
      "text/plain": [
       "[5, 6, 7, 8, 9, 10]"
      ]
     },
     "execution_count": 82,
     "metadata": {},
     "output_type": "execute_result"
    }
   ],
   "execution_count": 82
  },
  {
   "metadata": {
    "ExecuteTime": {
     "end_time": "2024-06-14T09:05:58.763579Z",
     "start_time": "2024-06-14T09:05:58.759682Z"
    }
   },
   "cell_type": "code",
   "source": "s[:4]",
   "id": "4223e79b06cc7ede",
   "outputs": [
    {
     "data": {
      "text/plain": [
       "'pyth'"
      ]
     },
     "execution_count": 83,
     "metadata": {},
     "output_type": "execute_result"
    }
   ],
   "execution_count": 83
  },
  {
   "metadata": {
    "ExecuteTime": {
     "end_time": "2024-06-14T09:05:59.077840Z",
     "start_time": "2024-06-14T09:05:59.073822Z"
    }
   },
   "cell_type": "code",
   "source": "s[4:]",
   "id": "cce2ee913207686a",
   "outputs": [
    {
     "data": {
      "text/plain": [
       "'on'"
      ]
     },
     "execution_count": 84,
     "metadata": {},
     "output_type": "execute_result"
    }
   ],
   "execution_count": 84
  },
  {
   "metadata": {
    "ExecuteTime": {
     "end_time": "2024-06-14T09:06:06.086183Z",
     "start_time": "2024-06-14T09:06:06.081103Z"
    }
   },
   "cell_type": "code",
   "source": "s[:]",
   "id": "dcd006e10b24fd48",
   "outputs": [
    {
     "data": {
      "text/plain": [
       "'python'"
      ]
     },
     "execution_count": 85,
     "metadata": {},
     "output_type": "execute_result"
    }
   ],
   "execution_count": 85
  },
  {
   "metadata": {
    "ExecuteTime": {
     "end_time": "2024-06-14T09:06:55.047486Z",
     "start_time": "2024-06-14T09:06:55.044174Z"
    }
   },
   "cell_type": "code",
   "source": "l1 = [1, 2, 3]",
   "id": "5e5f8e518a9a0cd",
   "outputs": [],
   "execution_count": 88
  },
  {
   "metadata": {
    "ExecuteTime": {
     "end_time": "2024-06-14T09:06:55.252813Z",
     "start_time": "2024-06-14T09:06:55.250566Z"
    }
   },
   "cell_type": "code",
   "source": "l2 = l[:]",
   "id": "4fb233c63c1c2b76",
   "outputs": [],
   "execution_count": 89
  },
  {
   "metadata": {
    "ExecuteTime": {
     "end_time": "2024-06-14T09:06:58.258386Z",
     "start_time": "2024-06-14T09:06:58.253097Z"
    }
   },
   "cell_type": "code",
   "source": "l1, l2 ",
   "id": "1d8db72efe7012f4",
   "outputs": [
    {
     "data": {
      "text/plain": [
       "([1, 2, 3], [1, 2, 3])"
      ]
     },
     "execution_count": 90,
     "metadata": {},
     "output_type": "execute_result"
    }
   ],
   "execution_count": 90
  },
  {
   "metadata": {
    "ExecuteTime": {
     "end_time": "2024-06-14T09:07:32.648149Z",
     "start_time": "2024-06-14T09:07:32.643728Z"
    }
   },
   "cell_type": "code",
   "source": "l1 is l2",
   "id": "9a28a205821846cf",
   "outputs": [
    {
     "data": {
      "text/plain": [
       "False"
      ]
     },
     "execution_count": 94,
     "metadata": {},
     "output_type": "execute_result"
    }
   ],
   "execution_count": 94
  },
  {
   "metadata": {
    "ExecuteTime": {
     "end_time": "2024-06-14T09:08:07.853391Z",
     "start_time": "2024-06-14T09:08:07.848252Z"
    }
   },
   "cell_type": "code",
   "source": "s[-1]",
   "id": "56a7b725350032b6",
   "outputs": [
    {
     "data": {
      "text/plain": [
       "'n'"
      ]
     },
     "execution_count": 95,
     "metadata": {},
     "output_type": "execute_result"
    }
   ],
   "execution_count": 95
  },
  {
   "metadata": {
    "ExecuteTime": {
     "end_time": "2024-06-14T09:09:41.702663Z",
     "start_time": "2024-06-14T09:09:41.698181Z"
    }
   },
   "cell_type": "code",
   "source": "s[5:0:-1]",
   "id": "ba6fe809696851b6",
   "outputs": [
    {
     "data": {
      "text/plain": [
       "'nohty'"
      ]
     },
     "execution_count": 103,
     "metadata": {},
     "output_type": "execute_result"
    }
   ],
   "execution_count": 103
  },
  {
   "metadata": {},
   "cell_type": "markdown",
   "source": "### Caveats",
   "id": "bd955fc1b6ef24f7"
  },
  {
   "metadata": {
    "ExecuteTime": {
     "end_time": "2024-06-14T09:11:36.635932Z",
     "start_time": "2024-06-14T09:11:36.632673Z"
    }
   },
   "cell_type": "code",
   "source": "a = Decimal('10.5')",
   "id": "6398a590343b1e49",
   "outputs": [],
   "execution_count": 104
  },
  {
   "metadata": {
    "ExecuteTime": {
     "end_time": "2024-06-14T09:11:44.362207Z",
     "start_time": "2024-06-14T09:11:44.359132Z"
    }
   },
   "cell_type": "code",
   "source": "b = Decimal('10.5')",
   "id": "b05bb208cd94d4cd",
   "outputs": [],
   "execution_count": 105
  },
  {
   "metadata": {
    "ExecuteTime": {
     "end_time": "2024-06-14T09:11:48.278181Z",
     "start_time": "2024-06-14T09:11:48.272693Z"
    }
   },
   "cell_type": "code",
   "source": "a is b",
   "id": "406df47f7aa06aa",
   "outputs": [
    {
     "data": {
      "text/plain": [
       "False"
      ]
     },
     "execution_count": 106,
     "metadata": {},
     "output_type": "execute_result"
    }
   ],
   "execution_count": 106
  },
  {
   "metadata": {
    "ExecuteTime": {
     "end_time": "2024-06-14T09:11:55.341174Z",
     "start_time": "2024-06-14T09:11:55.337188Z"
    }
   },
   "cell_type": "code",
   "source": "a == b",
   "id": "8df475bf33edb5b1",
   "outputs": [
    {
     "data": {
      "text/plain": [
       "True"
      ]
     },
     "execution_count": 107,
     "metadata": {},
     "output_type": "execute_result"
    }
   ],
   "execution_count": 107
  },
  {
   "metadata": {
    "ExecuteTime": {
     "end_time": "2024-06-14T09:15:23.149093Z",
     "start_time": "2024-06-14T09:15:23.145906Z"
    }
   },
   "cell_type": "code",
   "source": "l1 = [Decimal('10.5')]",
   "id": "42f3142b4fee4958",
   "outputs": [],
   "execution_count": 133
  },
  {
   "metadata": {
    "ExecuteTime": {
     "end_time": "2024-06-14T09:15:23.462696Z",
     "start_time": "2024-06-14T09:15:23.459326Z"
    }
   },
   "cell_type": "code",
   "source": "l2 = l * 2",
   "id": "fda4ed7af8188408",
   "outputs": [],
   "execution_count": 134
  },
  {
   "metadata": {
    "ExecuteTime": {
     "end_time": "2024-06-14T09:15:23.792064Z",
     "start_time": "2024-06-14T09:15:23.786303Z"
    }
   },
   "cell_type": "code",
   "source": "l[0] is l2[0]",
   "id": "97b8e82e717ac725",
   "outputs": [
    {
     "data": {
      "text/plain": [
       "True"
      ]
     },
     "execution_count": 135,
     "metadata": {},
     "output_type": "execute_result"
    }
   ],
   "execution_count": 135
  },
  {
   "metadata": {
    "ExecuteTime": {
     "end_time": "2024-06-14T09:16:25.332625Z",
     "start_time": "2024-06-14T09:16:25.328949Z"
    }
   },
   "cell_type": "code",
   "source": "l1[0] += 1",
   "id": "dba4e4c05695f7f9",
   "outputs": [],
   "execution_count": 141
  },
  {
   "metadata": {
    "ExecuteTime": {
     "end_time": "2024-06-14T09:16:25.578995Z",
     "start_time": "2024-06-14T09:16:25.573728Z"
    }
   },
   "cell_type": "code",
   "source": "l1[0], l2[0]",
   "id": "b1c66d820317ad6",
   "outputs": [
    {
     "data": {
      "text/plain": [
       "(Decimal('12.5'), Decimal('10.5'))"
      ]
     },
     "execution_count": 142,
     "metadata": {},
     "output_type": "execute_result"
    }
   ],
   "execution_count": 142
  },
  {
   "metadata": {
    "ExecuteTime": {
     "end_time": "2024-06-14T09:16:39.116998Z",
     "start_time": "2024-06-14T09:16:39.114311Z"
    }
   },
   "cell_type": "code",
   "source": "l = [[0, 0]]",
   "id": "4ac1e1cedd421df1",
   "outputs": [],
   "execution_count": 143
  },
  {
   "metadata": {
    "ExecuteTime": {
     "end_time": "2024-06-14T09:16:46.680487Z",
     "start_time": "2024-06-14T09:16:46.676041Z"
    }
   },
   "cell_type": "code",
   "source": "id(l[0])",
   "id": "97032361c8854f8d",
   "outputs": [
    {
     "data": {
      "text/plain": [
       "139898213385984"
      ]
     },
     "execution_count": 144,
     "metadata": {},
     "output_type": "execute_result"
    }
   ],
   "execution_count": 144
  },
  {
   "metadata": {
    "ExecuteTime": {
     "end_time": "2024-06-14T09:16:50.566708Z",
     "start_time": "2024-06-14T09:16:50.563296Z"
    }
   },
   "cell_type": "code",
   "source": "l2 = l * 2",
   "id": "5823afc80bde40ba",
   "outputs": [],
   "execution_count": 145
  },
  {
   "metadata": {
    "ExecuteTime": {
     "end_time": "2024-06-14T09:16:54.263568Z",
     "start_time": "2024-06-14T09:16:54.259033Z"
    }
   },
   "cell_type": "code",
   "source": "l2",
   "id": "1bc8d14f73423953",
   "outputs": [
    {
     "data": {
      "text/plain": [
       "[[0, 0], [0, 0]]"
      ]
     },
     "execution_count": 146,
     "metadata": {},
     "output_type": "execute_result"
    }
   ],
   "execution_count": 146
  },
  {
   "metadata": {
    "ExecuteTime": {
     "end_time": "2024-06-14T09:17:18.139301Z",
     "start_time": "2024-06-14T09:17:18.134017Z"
    }
   },
   "cell_type": "code",
   "source": "id(l2[0]), id(l2[1])",
   "id": "46419baafd20f2dc",
   "outputs": [
    {
     "data": {
      "text/plain": [
       "(139898213385984, 139898213385984)"
      ]
     },
     "execution_count": 147,
     "metadata": {},
     "output_type": "execute_result"
    }
   ],
   "execution_count": 147
  },
  {
   "metadata": {
    "ExecuteTime": {
     "end_time": "2024-06-14T09:17:48.001468Z",
     "start_time": "2024-06-14T09:17:47.997588Z"
    }
   },
   "cell_type": "code",
   "source": "l[0][0] = 100",
   "id": "ede1fe6bd18693e3",
   "outputs": [],
   "execution_count": 149
  },
  {
   "metadata": {
    "ExecuteTime": {
     "end_time": "2024-06-14T09:17:55.899454Z",
     "start_time": "2024-06-14T09:17:55.894796Z"
    }
   },
   "cell_type": "code",
   "source": "l, l2",
   "id": "1bb11e15d974bd1",
   "outputs": [
    {
     "data": {
      "text/plain": [
       "([[100, 0]], [[100, 0], [100, 0]])"
      ]
     },
     "execution_count": 150,
     "metadata": {},
     "output_type": "execute_result"
    }
   ],
   "execution_count": 150
  },
  {
   "metadata": {},
   "cell_type": "code",
   "outputs": [],
   "execution_count": null,
   "source": "",
   "id": "19bdb37186ee95b7"
  }
 ],
 "metadata": {
  "kernelspec": {
   "display_name": "Python 3",
   "language": "python",
   "name": "python3"
  },
  "language_info": {
   "codemirror_mode": {
    "name": "ipython",
    "version": 2
   },
   "file_extension": ".py",
   "mimetype": "text/x-python",
   "name": "python",
   "nbconvert_exporter": "python",
   "pygments_lexer": "ipython2",
   "version": "2.7.6"
  }
 },
 "nbformat": 4,
 "nbformat_minor": 5
}
