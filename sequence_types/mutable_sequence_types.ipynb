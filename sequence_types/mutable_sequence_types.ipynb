{
 "cells": [
  {
   "cell_type": "code",
   "id": "initial_id",
   "metadata": {
    "collapsed": true,
    "ExecuteTime": {
     "end_time": "2024-06-14T10:25:53.833233Z",
     "start_time": "2024-06-14T10:25:53.829975Z"
    }
   },
   "source": "l = [1, 2, 3, 4, 5]",
   "outputs": [],
   "execution_count": 18
  },
  {
   "metadata": {
    "ExecuteTime": {
     "end_time": "2024-06-14T10:25:54.021762Z",
     "start_time": "2024-06-14T10:25:54.013272Z"
    }
   },
   "cell_type": "code",
   "source": "id(l)",
   "id": "a8c154ba9f7f3bb0",
   "outputs": [
    {
     "data": {
      "text/plain": [
       "139682488615488"
      ]
     },
     "execution_count": 19,
     "metadata": {},
     "output_type": "execute_result"
    }
   ],
   "execution_count": 19
  },
  {
   "metadata": {
    "ExecuteTime": {
     "end_time": "2024-06-14T10:25:54.252831Z",
     "start_time": "2024-06-14T10:25:54.244492Z"
    }
   },
   "cell_type": "code",
   "source": "l[0]",
   "id": "85f71fcd601604b7",
   "outputs": [
    {
     "data": {
      "text/plain": [
       "1"
      ]
     },
     "execution_count": 20,
     "metadata": {},
     "output_type": "execute_result"
    }
   ],
   "execution_count": 20
  },
  {
   "metadata": {
    "ExecuteTime": {
     "end_time": "2024-06-14T10:25:54.625220Z",
     "start_time": "2024-06-14T10:25:54.622162Z"
    }
   },
   "cell_type": "code",
   "source": "l[0] = 'a'",
   "id": "69a44c6effa3ca89",
   "outputs": [],
   "execution_count": 21
  },
  {
   "metadata": {
    "ExecuteTime": {
     "end_time": "2024-06-14T10:25:55.025361Z",
     "start_time": "2024-06-14T10:25:55.018605Z"
    }
   },
   "cell_type": "code",
   "source": "l",
   "id": "e93f46939d1c7f64",
   "outputs": [
    {
     "data": {
      "text/plain": [
       "['a', 2, 3, 4, 5]"
      ]
     },
     "execution_count": 22,
     "metadata": {},
     "output_type": "execute_result"
    }
   ],
   "execution_count": 22
  },
  {
   "metadata": {
    "ExecuteTime": {
     "end_time": "2024-06-14T10:25:55.286383Z",
     "start_time": "2024-06-14T10:25:55.281828Z"
    }
   },
   "cell_type": "code",
   "source": "id(l)",
   "id": "4de3f3cfb5fa1a6a",
   "outputs": [
    {
     "data": {
      "text/plain": [
       "139682488615488"
      ]
     },
     "execution_count": 23,
     "metadata": {},
     "output_type": "execute_result"
    }
   ],
   "execution_count": 23
  },
  {
   "metadata": {
    "ExecuteTime": {
     "end_time": "2024-06-14T10:25:55.676897Z",
     "start_time": "2024-06-14T10:25:55.674340Z"
    }
   },
   "cell_type": "code",
   "source": "l.clear()",
   "id": "d988398c09fd5859",
   "outputs": [],
   "execution_count": 24
  },
  {
   "metadata": {
    "ExecuteTime": {
     "end_time": "2024-06-14T10:25:55.945029Z",
     "start_time": "2024-06-14T10:25:55.936436Z"
    }
   },
   "cell_type": "code",
   "source": "l",
   "id": "3f8012411f6f41ec",
   "outputs": [
    {
     "data": {
      "text/plain": [
       "[]"
      ]
     },
     "execution_count": 25,
     "metadata": {},
     "output_type": "execute_result"
    }
   ],
   "execution_count": 25
  },
  {
   "metadata": {
    "ExecuteTime": {
     "end_time": "2024-06-14T10:25:56.147094Z",
     "start_time": "2024-06-14T10:25:56.142478Z"
    }
   },
   "cell_type": "code",
   "source": "id(l)",
   "id": "1133bf3182fe2b65",
   "outputs": [
    {
     "data": {
      "text/plain": [
       "139682488615488"
      ]
     },
     "execution_count": 26,
     "metadata": {},
     "output_type": "execute_result"
    }
   ],
   "execution_count": 26
  },
  {
   "metadata": {
    "ExecuteTime": {
     "end_time": "2024-06-14T10:25:56.365683Z",
     "start_time": "2024-06-14T10:25:56.362488Z"
    }
   },
   "cell_type": "code",
   "source": "l = [1, 2, 3, 4, 5]",
   "id": "aaad348cc99e33a0",
   "outputs": [],
   "execution_count": 27
  },
  {
   "metadata": {
    "ExecuteTime": {
     "end_time": "2024-06-14T10:25:56.561134Z",
     "start_time": "2024-06-14T10:25:56.557668Z"
    }
   },
   "cell_type": "code",
   "source": "l = []",
   "id": "764755bb7998edce",
   "outputs": [],
   "execution_count": 28
  },
  {
   "metadata": {
    "ExecuteTime": {
     "end_time": "2024-06-14T10:25:57.404081Z",
     "start_time": "2024-06-14T10:25:57.398870Z"
    }
   },
   "cell_type": "code",
   "source": "id(l)",
   "id": "30ec875a87bac598",
   "outputs": [
    {
     "data": {
      "text/plain": [
       "139682488542656"
      ]
     },
     "execution_count": 29,
     "metadata": {},
     "output_type": "execute_result"
    }
   ],
   "execution_count": 29
  },
  {
   "metadata": {
    "ExecuteTime": {
     "end_time": "2024-06-14T10:26:46.583977Z",
     "start_time": "2024-06-14T10:26:46.580877Z"
    }
   },
   "cell_type": "code",
   "source": "suits = ['Spades', 'Hearts', 'Diamonds', 'Clubs']",
   "id": "5730afd563c01172",
   "outputs": [],
   "execution_count": 30
  },
  {
   "metadata": {
    "ExecuteTime": {
     "end_time": "2024-06-14T10:27:06.217225Z",
     "start_time": "2024-06-14T10:27:06.214451Z"
    }
   },
   "cell_type": "code",
   "source": "alias = suits",
   "id": "6fe4de09306de2dd",
   "outputs": [],
   "execution_count": 32
  },
  {
   "metadata": {
    "ExecuteTime": {
     "end_time": "2024-06-14T10:27:16.194849Z",
     "start_time": "2024-06-14T10:27:16.189653Z"
    }
   },
   "cell_type": "code",
   "source": "id(alias), id(suits)",
   "id": "7029ca58e816c170",
   "outputs": [
    {
     "data": {
      "text/plain": [
       "(139682488624960, 139682488624960)"
      ]
     },
     "execution_count": 33,
     "metadata": {},
     "output_type": "execute_result"
    }
   ],
   "execution_count": 33
  },
  {
   "metadata": {
    "ExecuteTime": {
     "end_time": "2024-06-14T10:27:20.245405Z",
     "start_time": "2024-06-14T10:27:20.241992Z"
    }
   },
   "cell_type": "code",
   "source": "alias.clear()",
   "id": "3e31c297db4047eb",
   "outputs": [],
   "execution_count": 34
  },
  {
   "metadata": {
    "ExecuteTime": {
     "end_time": "2024-06-14T10:27:30.477786Z",
     "start_time": "2024-06-14T10:27:30.473588Z"
    }
   },
   "cell_type": "code",
   "source": "alias, suits",
   "id": "2795df9a156eb6ec",
   "outputs": [
    {
     "data": {
      "text/plain": [
       "([], [])"
      ]
     },
     "execution_count": 35,
     "metadata": {},
     "output_type": "execute_result"
    }
   ],
   "execution_count": 35
  },
  {
   "metadata": {
    "ExecuteTime": {
     "end_time": "2024-06-14T10:27:45.438308Z",
     "start_time": "2024-06-14T10:27:45.435608Z"
    }
   },
   "cell_type": "code",
   "source": "suits = ['Spades', 'Hearts', 'Diamonds', 'Clubs']",
   "id": "f7febf71211779ac",
   "outputs": [],
   "execution_count": 36
  },
  {
   "metadata": {
    "ExecuteTime": {
     "end_time": "2024-06-14T10:28:53.969580Z",
     "start_time": "2024-06-14T10:28:53.966088Z"
    }
   },
   "cell_type": "code",
   "source": [
    "def something(l: list):\n",
    "    l.clear()"
   ],
   "id": "4f049ebbd75180b0",
   "outputs": [],
   "execution_count": 40
  },
  {
   "metadata": {
    "ExecuteTime": {
     "end_time": "2024-06-14T10:28:54.791347Z",
     "start_time": "2024-06-14T10:28:54.787626Z"
    }
   },
   "cell_type": "code",
   "source": "something(suits)",
   "id": "3431bef5fbaae9bd",
   "outputs": [],
   "execution_count": 41
  },
  {
   "metadata": {
    "ExecuteTime": {
     "end_time": "2024-06-14T10:28:55.016827Z",
     "start_time": "2024-06-14T10:28:55.009641Z"
    }
   },
   "cell_type": "code",
   "source": "suits",
   "id": "f1c54b306ec9c81",
   "outputs": [
    {
     "data": {
      "text/plain": [
       "[]"
      ]
     },
     "execution_count": 42,
     "metadata": {},
     "output_type": "execute_result"
    }
   ],
   "execution_count": 42
  },
  {
   "metadata": {
    "ExecuteTime": {
     "end_time": "2024-06-14T10:29:18.516050Z",
     "start_time": "2024-06-14T10:29:18.512530Z"
    }
   },
   "cell_type": "code",
   "source": "l = [1, 2, 3, 4, 5]",
   "id": "db59f10eb27356de",
   "outputs": [],
   "execution_count": 43
  },
  {
   "metadata": {
    "ExecuteTime": {
     "end_time": "2024-06-14T10:29:20.857845Z",
     "start_time": "2024-06-14T10:29:20.852229Z"
    }
   },
   "cell_type": "code",
   "source": "id(l)",
   "id": "8951f8d5a8c9b99b",
   "outputs": [
    {
     "data": {
      "text/plain": [
       "139682472797888"
      ]
     },
     "execution_count": 44,
     "metadata": {},
     "output_type": "execute_result"
    }
   ],
   "execution_count": 44
  },
  {
   "metadata": {
    "ExecuteTime": {
     "end_time": "2024-06-14T10:29:25.429908Z",
     "start_time": "2024-06-14T10:29:25.424866Z"
    }
   },
   "cell_type": "code",
   "source": "l[0:2]",
   "id": "7cab4e79c52eae0b",
   "outputs": [
    {
     "data": {
      "text/plain": [
       "[1, 2]"
      ]
     },
     "execution_count": 45,
     "metadata": {},
     "output_type": "execute_result"
    }
   ],
   "execution_count": 45
  },
  {
   "metadata": {
    "ExecuteTime": {
     "end_time": "2024-06-14T10:29:55.722857Z",
     "start_time": "2024-06-14T10:29:55.718971Z"
    }
   },
   "cell_type": "code",
   "source": "l[0:2] = ('a', 'b', 'c', 'd')",
   "id": "ceed3d72da26fa48",
   "outputs": [],
   "execution_count": 46
  },
  {
   "metadata": {
    "ExecuteTime": {
     "end_time": "2024-06-14T10:29:58.841522Z",
     "start_time": "2024-06-14T10:29:58.837057Z"
    }
   },
   "cell_type": "code",
   "source": "l",
   "id": "8991e1bb142c8899",
   "outputs": [
    {
     "data": {
      "text/plain": [
       "['a', 'b', 'c', 'd', 3, 4, 5]"
      ]
     },
     "execution_count": 47,
     "metadata": {},
     "output_type": "execute_result"
    }
   ],
   "execution_count": 47
  },
  {
   "metadata": {
    "ExecuteTime": {
     "end_time": "2024-06-14T10:30:22.262960Z",
     "start_time": "2024-06-14T10:30:22.258648Z"
    }
   },
   "cell_type": "code",
   "source": "id(l)",
   "id": "6fe971004f3284ad",
   "outputs": [
    {
     "data": {
      "text/plain": [
       "139682472797888"
      ]
     },
     "execution_count": 49,
     "metadata": {},
     "output_type": "execute_result"
    }
   ],
   "execution_count": 49
  },
  {
   "metadata": {
    "ExecuteTime": {
     "end_time": "2024-06-14T10:30:31.481198Z",
     "start_time": "2024-06-14T10:30:31.478103Z"
    }
   },
   "cell_type": "code",
   "source": "l = [1, 2, 3]",
   "id": "5d353a087dec7cd9",
   "outputs": [],
   "execution_count": 50
  },
  {
   "metadata": {
    "ExecuteTime": {
     "end_time": "2024-06-14T10:30:33.574325Z",
     "start_time": "2024-06-14T10:30:33.568952Z"
    }
   },
   "cell_type": "code",
   "source": "id(l)",
   "id": "3c42df38123e97a2",
   "outputs": [
    {
     "data": {
      "text/plain": [
       "139682488758336"
      ]
     },
     "execution_count": 51,
     "metadata": {},
     "output_type": "execute_result"
    }
   ],
   "execution_count": 51
  },
  {
   "metadata": {
    "ExecuteTime": {
     "end_time": "2024-06-14T10:30:41.985086Z",
     "start_time": "2024-06-14T10:30:41.981464Z"
    }
   },
   "cell_type": "code",
   "source": "l = l + [4]",
   "id": "82260d00e370a6d8",
   "outputs": [],
   "execution_count": 52
  },
  {
   "metadata": {
    "ExecuteTime": {
     "end_time": "2024-06-14T10:30:44.900788Z",
     "start_time": "2024-06-14T10:30:44.895835Z"
    }
   },
   "cell_type": "code",
   "source": "l",
   "id": "e6b25ea40716f88e",
   "outputs": [
    {
     "data": {
      "text/plain": [
       "[1, 2, 3, 4]"
      ]
     },
     "execution_count": 53,
     "metadata": {},
     "output_type": "execute_result"
    }
   ],
   "execution_count": 53
  },
  {
   "metadata": {
    "ExecuteTime": {
     "end_time": "2024-06-14T10:30:50.862425Z",
     "start_time": "2024-06-14T10:30:50.857428Z"
    }
   },
   "cell_type": "code",
   "source": "id(l)",
   "id": "8ba58988f7dfdde0",
   "outputs": [
    {
     "data": {
      "text/plain": [
       "139682488566912"
      ]
     },
     "execution_count": 54,
     "metadata": {},
     "output_type": "execute_result"
    }
   ],
   "execution_count": 54
  },
  {
   "metadata": {
    "ExecuteTime": {
     "end_time": "2024-06-14T10:31:26.338693Z",
     "start_time": "2024-06-14T10:31:26.335229Z"
    }
   },
   "cell_type": "code",
   "source": "l = [1, 2, 3]",
   "id": "cf75380b30c26115",
   "outputs": [],
   "execution_count": 55
  },
  {
   "metadata": {
    "ExecuteTime": {
     "end_time": "2024-06-14T10:31:29.284820Z",
     "start_time": "2024-06-14T10:31:29.279534Z"
    }
   },
   "cell_type": "code",
   "source": "id(l)",
   "id": "2162d2cee83b50a1",
   "outputs": [
    {
     "data": {
      "text/plain": [
       "139682472803712"
      ]
     },
     "execution_count": 56,
     "metadata": {},
     "output_type": "execute_result"
    }
   ],
   "execution_count": 56
  },
  {
   "metadata": {
    "ExecuteTime": {
     "end_time": "2024-06-14T10:39:21.804891Z",
     "start_time": "2024-06-14T10:39:21.801761Z"
    }
   },
   "cell_type": "code",
   "source": "result = l.append(4)",
   "id": "74264aea605f036c",
   "outputs": [],
   "execution_count": 85
  },
  {
   "metadata": {
    "ExecuteTime": {
     "end_time": "2024-06-14T10:39:32.152600Z",
     "start_time": "2024-06-14T10:39:32.147853Z"
    }
   },
   "cell_type": "code",
   "source": "id(l)",
   "id": "9225c5599a628e2b",
   "outputs": [
    {
     "data": {
      "text/plain": [
       "139682472803712"
      ]
     },
     "execution_count": 86,
     "metadata": {},
     "output_type": "execute_result"
    }
   ],
   "execution_count": 86
  },
  {
   "metadata": {
    "ExecuteTime": {
     "end_time": "2024-06-14T10:42:01.844199Z",
     "start_time": "2024-06-14T10:42:01.840668Z"
    }
   },
   "cell_type": "code",
   "source": "l.extend({1, 2, 3})",
   "id": "b87f87543c1ace9c",
   "outputs": [],
   "execution_count": 115
  },
  {
   "metadata": {
    "ExecuteTime": {
     "end_time": "2024-06-14T10:42:13.417986Z",
     "start_time": "2024-06-14T10:42:13.414690Z"
    }
   },
   "cell_type": "code",
   "source": "l = [1, 2, 3]",
   "id": "c735ceadb8cfccf4",
   "outputs": [],
   "execution_count": 117
  },
  {
   "metadata": {
    "ExecuteTime": {
     "end_time": "2024-06-14T10:44:57.603452Z",
     "start_time": "2024-06-14T10:44:57.599980Z"
    }
   },
   "cell_type": "code",
   "source": "l2 = l[::-1]",
   "id": "11519e01d171a8b7",
   "outputs": [],
   "execution_count": 122
  },
  {
   "metadata": {
    "ExecuteTime": {
     "end_time": "2024-06-14T10:45:06.511979Z",
     "start_time": "2024-06-14T10:45:06.508162Z"
    }
   },
   "cell_type": "code",
   "source": "id(l), id(l2)",
   "id": "5ababb16f0fa8719",
   "outputs": [
    {
     "data": {
      "text/plain": [
       "(139682472811328, 139682471020160)"
      ]
     },
     "execution_count": 123,
     "metadata": {},
     "output_type": "execute_result"
    }
   ],
   "execution_count": 123
  },
  {
   "metadata": {
    "ExecuteTime": {
     "end_time": "2024-06-14T10:47:40.337236Z",
     "start_time": "2024-06-14T10:47:40.331994Z"
    }
   },
   "cell_type": "code",
   "source": [
    "l = [1, 2, 3, 4]\n",
    "id(l)"
   ],
   "id": "15a035a6ed9ba131",
   "outputs": [
    {
     "data": {
      "text/plain": [
       "139682472874176"
      ]
     },
     "execution_count": 129,
     "metadata": {},
     "output_type": "execute_result"
    }
   ],
   "execution_count": 129
  },
  {
   "metadata": {
    "ExecuteTime": {
     "end_time": "2024-06-14T10:47:40.702290Z",
     "start_time": "2024-06-14T10:47:40.698971Z"
    }
   },
   "cell_type": "code",
   "source": "l2 = l[:]",
   "id": "90dd13fb6ba15c62",
   "outputs": [],
   "execution_count": 130
  },
  {
   "metadata": {
    "ExecuteTime": {
     "end_time": "2024-06-14T10:47:41.102571Z",
     "start_time": "2024-06-14T10:47:41.097210Z"
    }
   },
   "cell_type": "code",
   "source": "id(l), id(l2)",
   "id": "6a5ac355c0942bec",
   "outputs": [
    {
     "data": {
      "text/plain": [
       "(139682472874176, 139682473044672)"
      ]
     },
     "execution_count": 131,
     "metadata": {},
     "output_type": "execute_result"
    }
   ],
   "execution_count": 131
  },
  {
   "metadata": {
    "ExecuteTime": {
     "end_time": "2024-06-14T10:47:42.218863Z",
     "start_time": "2024-06-14T10:47:42.215612Z"
    }
   },
   "cell_type": "code",
   "source": "l3 = l.copy()",
   "id": "7ce27da19ac2458a",
   "outputs": [],
   "execution_count": 132
  },
  {
   "metadata": {
    "ExecuteTime": {
     "end_time": "2024-06-14T10:47:42.598793Z",
     "start_time": "2024-06-14T10:47:42.590669Z"
    }
   },
   "cell_type": "code",
   "source": "id(l), id(l2), id(l3)",
   "id": "bb6ca9e4a9b7d9ef",
   "outputs": [
    {
     "data": {
      "text/plain": [
       "(139682472874176, 139682473044672, 139682471156544)"
      ]
     },
     "execution_count": 133,
     "metadata": {},
     "output_type": "execute_result"
    }
   ],
   "execution_count": 133
  },
  {
   "metadata": {
    "ExecuteTime": {
     "end_time": "2024-06-14T10:48:43.129132Z",
     "start_time": "2024-06-14T10:48:43.125920Z"
    }
   },
   "cell_type": "code",
   "source": "l1 = [['a', 'b'], 'c']",
   "id": "ee33e61549b88cce",
   "outputs": [],
   "execution_count": 134
  },
  {
   "metadata": {
    "ExecuteTime": {
     "end_time": "2024-06-14T10:48:53.909084Z",
     "start_time": "2024-06-14T10:48:53.905981Z"
    }
   },
   "cell_type": "code",
   "source": "l2 = l1[:]",
   "id": "169d7726c50f61f1",
   "outputs": [],
   "execution_count": 135
  },
  {
   "metadata": {
    "ExecuteTime": {
     "end_time": "2024-06-14T10:49:00.320939Z",
     "start_time": "2024-06-14T10:49:00.317499Z"
    }
   },
   "cell_type": "code",
   "source": "l3 = l1.copy()",
   "id": "4d358455ce4c93d5",
   "outputs": [],
   "execution_count": 136
  },
  {
   "metadata": {
    "ExecuteTime": {
     "end_time": "2024-06-14T10:58:15.497677Z",
     "start_time": "2024-06-14T10:58:15.494470Z"
    }
   },
   "cell_type": "code",
   "source": [
    "from copy import deepcopy\n",
    "l4 = deepcopy(l1)"
   ],
   "id": "7780bcf1502e4e03",
   "outputs": [],
   "execution_count": 139
  },
  {
   "metadata": {
    "ExecuteTime": {
     "end_time": "2024-06-14T10:58:42.671939Z",
     "start_time": "2024-06-14T10:58:42.668249Z"
    }
   },
   "cell_type": "code",
   "source": "id(l1), id(l2), id(l3), id(l4)",
   "id": "d0fbecd48e9d7a5f",
   "outputs": [
    {
     "data": {
      "text/plain": [
       "(139682472874112, 139682470987200, 139682470993792, 139682472485760)"
      ]
     },
     "execution_count": 141,
     "metadata": {},
     "output_type": "execute_result"
    }
   ],
   "execution_count": 141
  },
  {
   "metadata": {
    "ExecuteTime": {
     "end_time": "2024-06-14T10:58:36.470592Z",
     "start_time": "2024-06-14T10:58:36.465442Z"
    }
   },
   "cell_type": "code",
   "source": "id(l1[0]), id(l2[0]), id(l3[0]), id(l4[0])",
   "id": "df48fd4b7a5c6a08",
   "outputs": [
    {
     "data": {
      "text/plain": [
       "(139682472876352, 139682472876352, 139682472876352, 139682471032256)"
      ]
     },
     "execution_count": 140,
     "metadata": {},
     "output_type": "execute_result"
    }
   ],
   "execution_count": 140
  },
  {
   "metadata": {
    "ExecuteTime": {
     "end_time": "2024-06-14T11:03:28.464684Z",
     "start_time": "2024-06-14T11:03:28.461200Z"
    }
   },
   "cell_type": "code",
   "source": "l1[0][0] = 'Python'",
   "id": "b9be418064d28b59",
   "outputs": [],
   "execution_count": 142
  },
  {
   "metadata": {
    "ExecuteTime": {
     "end_time": "2024-06-14T11:03:33.128093Z",
     "start_time": "2024-06-14T11:03:33.123097Z"
    }
   },
   "cell_type": "code",
   "source": "l1, l2, l3, l4",
   "id": "1651cd5f9c69ae18",
   "outputs": [
    {
     "data": {
      "text/plain": [
       "([['Python', 'b'], 'c'],\n",
       " [['Python', 'b'], 'c'],\n",
       " [['Python', 'b'], 'c'],\n",
       " [['a', 'b'], 'c'])"
      ]
     },
     "execution_count": 143,
     "metadata": {},
     "output_type": "execute_result"
    }
   ],
   "execution_count": 143
  },
  {
   "metadata": {},
   "cell_type": "code",
   "outputs": [],
   "execution_count": null,
   "source": "",
   "id": "dd5a98f5b038b2c4"
  }
 ],
 "metadata": {
  "kernelspec": {
   "display_name": "Python 3",
   "language": "python",
   "name": "python3"
  },
  "language_info": {
   "codemirror_mode": {
    "name": "ipython",
    "version": 2
   },
   "file_extension": ".py",
   "mimetype": "text/x-python",
   "name": "python",
   "nbconvert_exporter": "python",
   "pygments_lexer": "ipython2",
   "version": "2.7.6"
  }
 },
 "nbformat": 4,
 "nbformat_minor": 5
}
