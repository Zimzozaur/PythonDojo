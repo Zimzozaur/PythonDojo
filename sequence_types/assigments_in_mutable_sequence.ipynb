{
 "cells": [
  {
   "cell_type": "code",
   "id": "initial_id",
   "metadata": {
    "collapsed": true,
    "ExecuteTime": {
     "end_time": "2024-06-15T15:10:05.652066Z",
     "start_time": "2024-06-15T15:10:05.646083Z"
    }
   },
   "source": [
    "l = [1, 2, 3, 4, 5]\n",
    "id(l)"
   ],
   "outputs": [
    {
     "data": {
      "text/plain": [
       "139932609573312"
      ]
     },
     "execution_count": 1,
     "metadata": {},
     "output_type": "execute_result"
    }
   ],
   "execution_count": 1
  },
  {
   "metadata": {
    "ExecuteTime": {
     "end_time": "2024-06-15T15:10:13.149572Z",
     "start_time": "2024-06-15T15:10:13.144005Z"
    }
   },
   "cell_type": "code",
   "source": "l[0:3]",
   "id": "7d40d49cdecee2c9",
   "outputs": [
    {
     "data": {
      "text/plain": [
       "[1, 2, 3]"
      ]
     },
     "execution_count": 2,
     "metadata": {},
     "output_type": "execute_result"
    }
   ],
   "execution_count": 2
  },
  {
   "metadata": {
    "ExecuteTime": {
     "end_time": "2024-06-15T15:10:39.959520Z",
     "start_time": "2024-06-15T15:10:39.956287Z"
    }
   },
   "cell_type": "code",
   "source": "l[0:3] = 'python'",
   "id": "93717250e3c47164",
   "outputs": [],
   "execution_count": 3
  },
  {
   "metadata": {
    "ExecuteTime": {
     "end_time": "2024-06-15T15:10:56.674974Z",
     "start_time": "2024-06-15T15:10:56.669635Z"
    }
   },
   "cell_type": "code",
   "source": "id(l), l",
   "id": "86184e4b68962f54",
   "outputs": [
    {
     "data": {
      "text/plain": [
       "(139932609573312, ['p', 'y', 't', 'h', 'o', 'n', 4, 5])"
      ]
     },
     "execution_count": 4,
     "metadata": {},
     "output_type": "execute_result"
    }
   ],
   "execution_count": 4
  },
  {
   "metadata": {
    "ExecuteTime": {
     "end_time": "2024-06-15T15:11:26.460530Z",
     "start_time": "2024-06-15T15:11:26.455481Z"
    }
   },
   "cell_type": "code",
   "source": [
    "l = [1, 2, 3, 4, 5]\n",
    "id(l)"
   ],
   "id": "b4f55ea3919ba1d",
   "outputs": [
    {
     "data": {
      "text/plain": [
       "139932609611136"
      ]
     },
     "execution_count": 6,
     "metadata": {},
     "output_type": "execute_result"
    }
   ],
   "execution_count": 6
  },
  {
   "metadata": {
    "ExecuteTime": {
     "end_time": "2024-06-15T15:11:31.693901Z",
     "start_time": "2024-06-15T15:11:31.688982Z"
    }
   },
   "cell_type": "code",
   "source": "l[2:5]",
   "id": "db7cda740a465bb8",
   "outputs": [
    {
     "data": {
      "text/plain": [
       "[3, 4, 5]"
      ]
     },
     "execution_count": 7,
     "metadata": {},
     "output_type": "execute_result"
    }
   ],
   "execution_count": 7
  },
  {
   "metadata": {
    "ExecuteTime": {
     "end_time": "2024-06-15T15:11:46.421794Z",
     "start_time": "2024-06-15T15:11:46.418542Z"
    }
   },
   "cell_type": "code",
   "source": "l[2:5] = []",
   "id": "fcd38656bfbb4507",
   "outputs": [],
   "execution_count": 8
  },
  {
   "metadata": {
    "ExecuteTime": {
     "end_time": "2024-06-15T15:11:52.546647Z",
     "start_time": "2024-06-15T15:11:52.541520Z"
    }
   },
   "cell_type": "code",
   "source": "id(l), l",
   "id": "bf9c96d43ae12a91",
   "outputs": [
    {
     "data": {
      "text/plain": [
       "(139932609611136, [1, 2])"
      ]
     },
     "execution_count": 9,
     "metadata": {},
     "output_type": "execute_result"
    }
   ],
   "execution_count": 9
  },
  {
   "metadata": {
    "ExecuteTime": {
     "end_time": "2024-06-15T15:12:11.098898Z",
     "start_time": "2024-06-15T15:12:11.094013Z"
    }
   },
   "cell_type": "code",
   "source": [
    "l = [1, 2, 3, 4, 5]\n",
    "id(l)"
   ],
   "id": "795e4b630ba305f4",
   "outputs": [
    {
     "data": {
      "text/plain": [
       "139932598293952"
      ]
     },
     "execution_count": 10,
     "metadata": {},
     "output_type": "execute_result"
    }
   ],
   "execution_count": 10
  },
  {
   "metadata": {
    "ExecuteTime": {
     "end_time": "2024-06-15T15:12:34.097633Z",
     "start_time": "2024-06-15T15:12:34.094792Z"
    }
   },
   "cell_type": "code",
   "source": "l[2:5] = ''",
   "id": "a787ee3aa6c951e7",
   "outputs": [],
   "execution_count": 11
  },
  {
   "metadata": {
    "ExecuteTime": {
     "end_time": "2024-06-15T15:13:03.300677Z",
     "start_time": "2024-06-15T15:13:03.295362Z"
    }
   },
   "cell_type": "code",
   "source": "l",
   "id": "458837f61744a4d9",
   "outputs": [
    {
     "data": {
      "text/plain": [
       "[1, 2]"
      ]
     },
     "execution_count": 12,
     "metadata": {},
     "output_type": "execute_result"
    }
   ],
   "execution_count": 12
  },
  {
   "metadata": {
    "ExecuteTime": {
     "end_time": "2024-06-15T15:13:08.817195Z",
     "start_time": "2024-06-15T15:13:08.811266Z"
    }
   },
   "cell_type": "code",
   "source": [
    "l = [1, 2, 3, 4, 5]\n",
    "id(l)"
   ],
   "id": "a889573a140e7a0a",
   "outputs": [
    {
     "data": {
      "text/plain": [
       "139932598297280"
      ]
     },
     "execution_count": 13,
     "metadata": {},
     "output_type": "execute_result"
    }
   ],
   "execution_count": 13
  },
  {
   "metadata": {
    "ExecuteTime": {
     "end_time": "2024-06-15T15:13:31.760802Z",
     "start_time": "2024-06-15T15:13:31.757671Z"
    }
   },
   "cell_type": "code",
   "source": "l[2:2] = 'python'",
   "id": "12d41181962bffcf",
   "outputs": [],
   "execution_count": 14
  },
  {
   "metadata": {
    "ExecuteTime": {
     "end_time": "2024-06-15T15:13:40.444994Z",
     "start_time": "2024-06-15T15:13:40.440818Z"
    }
   },
   "cell_type": "code",
   "source": "id(l), l",
   "id": "2d2ae46ae13011be",
   "outputs": [
    {
     "data": {
      "text/plain": [
       "(139932598297280, [1, 2, 'p', 'y', 't', 'h', 'o', 'n', 3, 4, 5])"
      ]
     },
     "execution_count": 16,
     "metadata": {},
     "output_type": "execute_result"
    }
   ],
   "execution_count": 16
  },
  {
   "metadata": {
    "ExecuteTime": {
     "end_time": "2024-06-15T15:16:32.956447Z",
     "start_time": "2024-06-15T15:16:32.951778Z"
    }
   },
   "cell_type": "code",
   "source": [
    "l = [1, 2, 3, 4, 5]\n",
    "id(l)"
   ],
   "id": "12f1e05206fdfae8",
   "outputs": [
    {
     "data": {
      "text/plain": [
       "139932609562048"
      ]
     },
     "execution_count": 24,
     "metadata": {},
     "output_type": "execute_result"
    }
   ],
   "execution_count": 24
  },
  {
   "metadata": {
    "ExecuteTime": {
     "end_time": "2024-06-15T15:16:33.195287Z",
     "start_time": "2024-06-15T15:16:33.191846Z"
    }
   },
   "cell_type": "code",
   "source": "l[len(l):len(l)] = 'python'",
   "id": "7d9686f4959c236f",
   "outputs": [],
   "execution_count": 25
  },
  {
   "metadata": {
    "ExecuteTime": {
     "end_time": "2024-06-15T15:16:33.406568Z",
     "start_time": "2024-06-15T15:16:33.401320Z"
    }
   },
   "cell_type": "code",
   "source": "id(l), l",
   "id": "1bd6d1e2edd9d8ec",
   "outputs": [
    {
     "data": {
      "text/plain": [
       "(139932609562048, [1, 2, 3, 4, 5, 'p', 'y', 't', 'h', 'o', 'n'])"
      ]
     },
     "execution_count": 26,
     "metadata": {},
     "output_type": "execute_result"
    }
   ],
   "execution_count": 26
  },
  {
   "metadata": {
    "ExecuteTime": {
     "end_time": "2024-06-15T15:17:39.424068Z",
     "start_time": "2024-06-15T15:17:39.419868Z"
    }
   },
   "cell_type": "code",
   "source": [
    "l = [1, 2, 3, 4, 5]\n",
    "id(l)"
   ],
   "id": "5e87a3eb53eaa8f",
   "outputs": [
    {
     "data": {
      "text/plain": [
       "139932609758656"
      ]
     },
     "execution_count": 27,
     "metadata": {},
     "output_type": "execute_result"
    }
   ],
   "execution_count": 27
  },
  {
   "metadata": {},
   "cell_type": "markdown",
   "source": "### Extended slicing",
   "id": "ab795cbf88f25ceb"
  },
  {
   "metadata": {
    "ExecuteTime": {
     "end_time": "2024-06-15T15:18:46.332700Z",
     "start_time": "2024-06-15T15:18:46.327964Z"
    }
   },
   "cell_type": "code",
   "source": [
    "l = [1, 2, 3, 4, 5]\n",
    "id(l)"
   ],
   "id": "88daf036356790d6",
   "outputs": [
    {
     "data": {
      "text/plain": [
       "139932598751680"
      ]
     },
     "execution_count": 28,
     "metadata": {},
     "output_type": "execute_result"
    }
   ],
   "execution_count": 28
  },
  {
   "metadata": {
    "ExecuteTime": {
     "end_time": "2024-06-15T15:18:55.517442Z",
     "start_time": "2024-06-15T15:18:55.512391Z"
    }
   },
   "cell_type": "code",
   "source": "l[0:5:2] = 'abc'",
   "id": "aab161272f3e909c",
   "outputs": [],
   "execution_count": 29
  },
  {
   "metadata": {
    "ExecuteTime": {
     "end_time": "2024-06-15T15:20:33.735142Z",
     "start_time": "2024-06-15T15:20:33.730229Z"
    }
   },
   "cell_type": "code",
   "source": "id(l), l",
   "id": "329ebbb0204ee225",
   "outputs": [
    {
     "data": {
      "text/plain": [
       "(139932598751680, [1, 2, 3, 4, 5])"
      ]
     },
     "execution_count": 34,
     "metadata": {},
     "output_type": "execute_result"
    }
   ],
   "execution_count": 34
  },
  {
   "metadata": {
    "ExecuteTime": {
     "end_time": "2024-06-15T15:20:31.960039Z",
     "start_time": "2024-06-15T15:20:31.956378Z"
    }
   },
   "cell_type": "code",
   "source": "l[0:5:2] = [1, 3, 5]",
   "id": "6e366c5ea0590385",
   "outputs": [],
   "execution_count": 33
  },
  {
   "metadata": {
    "ExecuteTime": {
     "end_time": "2024-06-15T15:21:00.387723Z",
     "start_time": "2024-06-15T15:21:00.382921Z"
    }
   },
   "cell_type": "code",
   "source": [
    "l = [1, 2, 3, 4, 5]\n",
    "id(l)"
   ],
   "id": "9a1f60f543bfebd",
   "outputs": [
    {
     "data": {
      "text/plain": [
       "139932609771904"
      ]
     },
     "execution_count": 35,
     "metadata": {},
     "output_type": "execute_result"
    }
   ],
   "execution_count": 35
  },
  {
   "metadata": {
    "ExecuteTime": {
     "end_time": "2024-06-15T15:21:16.707075Z",
     "start_time": "2024-06-15T15:21:16.501569Z"
    }
   },
   "cell_type": "code",
   "source": "l[0:5:2] = ['a', 'b', 'c', 'd', 'e']",
   "id": "3b941468f7422d99",
   "outputs": [
    {
     "ename": "ValueError",
     "evalue": "attempt to assign sequence of size 5 to extended slice of size 3",
     "output_type": "error",
     "traceback": [
      "\u001B[0;31m---------------------------------------------------------------------------\u001B[0m",
      "\u001B[0;31mValueError\u001B[0m                                Traceback (most recent call last)",
      "Cell \u001B[0;32mIn[36], line 1\u001B[0m\n\u001B[0;32m----> 1\u001B[0m \u001B[43ml\u001B[49m\u001B[43m[\u001B[49m\u001B[38;5;241;43m0\u001B[39;49m\u001B[43m:\u001B[49m\u001B[38;5;241;43m5\u001B[39;49m\u001B[43m:\u001B[49m\u001B[38;5;241;43m2\u001B[39;49m\u001B[43m]\u001B[49m \u001B[38;5;241m=\u001B[39m [\u001B[38;5;124m'\u001B[39m\u001B[38;5;124ma\u001B[39m\u001B[38;5;124m'\u001B[39m, \u001B[38;5;124m'\u001B[39m\u001B[38;5;124mb\u001B[39m\u001B[38;5;124m'\u001B[39m, \u001B[38;5;124m'\u001B[39m\u001B[38;5;124mc\u001B[39m\u001B[38;5;124m'\u001B[39m, \u001B[38;5;124m'\u001B[39m\u001B[38;5;124md\u001B[39m\u001B[38;5;124m'\u001B[39m, \u001B[38;5;124m'\u001B[39m\u001B[38;5;124me\u001B[39m\u001B[38;5;124m'\u001B[39m]\n",
      "\u001B[0;31mValueError\u001B[0m: attempt to assign sequence of size 5 to extended slice of size 3"
     ]
    }
   ],
   "execution_count": 36
  }
 ],
 "metadata": {
  "kernelspec": {
   "display_name": "Python 3",
   "language": "python",
   "name": "python3"
  },
  "language_info": {
   "codemirror_mode": {
    "name": "ipython",
    "version": 2
   },
   "file_extension": ".py",
   "mimetype": "text/x-python",
   "name": "python",
   "nbconvert_exporter": "python",
   "pygments_lexer": "ipython2",
   "version": "2.7.6"
  }
 },
 "nbformat": 4,
 "nbformat_minor": 5
}
