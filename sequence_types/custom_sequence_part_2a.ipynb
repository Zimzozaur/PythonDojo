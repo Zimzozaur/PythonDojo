{
 "cells": [
  {
   "cell_type": "code",
   "id": "initial_id",
   "metadata": {
    "collapsed": true,
    "ExecuteTime": {
     "end_time": "2024-07-01T08:57:13.901943Z",
     "start_time": "2024-07-01T08:57:13.897075Z"
    }
   },
   "source": [
    "class MyClass:\n",
    "    def __init__(self, name):\n",
    "        self.name = name\n",
    "        \n",
    "    def __repr__(self):\n",
    "        return f'MyClass(name={self.name})'\n",
    "\n",
    "    def __add__(self, other):\n",
    "        print(f'You called + on {self} and {other}')\n",
    "        return 'Hello from __add__'\n",
    "    \n",
    "    def __iadd__(self, other):\n",
    "        print(f'You called += on {self} and {other}')\n",
    "        return 'Hello from __iadd__'"
   ],
   "outputs": [],
   "execution_count": 6
  },
  {
   "metadata": {
    "ExecuteTime": {
     "end_time": "2024-07-01T08:57:14.176989Z",
     "start_time": "2024-07-01T08:57:14.173055Z"
    }
   },
   "cell_type": "code",
   "source": [
    "c1 = MyClass('inst 1')\n",
    "c2 = MyClass('inst 2')"
   ],
   "id": "a5e21362ecfb4c4a",
   "outputs": [],
   "execution_count": 7
  },
  {
   "metadata": {
    "ExecuteTime": {
     "end_time": "2024-07-01T08:57:14.480187Z",
     "start_time": "2024-07-01T08:57:14.474037Z"
    }
   },
   "cell_type": "code",
   "source": "c1 + c2",
   "id": "790123e747655978",
   "outputs": [
    {
     "name": "stdout",
     "output_type": "stream",
     "text": [
      "You called + on MyClass(name=inst 1) and MyClass(name=inst 2)\n"
     ]
    },
    {
     "data": {
      "text/plain": [
       "'Hello from __add__'"
      ]
     },
     "execution_count": 8,
     "metadata": {},
     "output_type": "execute_result"
    }
   ],
   "execution_count": 8
  },
  {
   "metadata": {
    "ExecuteTime": {
     "end_time": "2024-07-01T08:57:14.863010Z",
     "start_time": "2024-07-01T08:57:14.856559Z"
    }
   },
   "cell_type": "code",
   "source": "id(c1), id(c2)",
   "id": "e1b4793629398d2",
   "outputs": [
    {
     "data": {
      "text/plain": [
       "(139888763290448, 139888763496032)"
      ]
     },
     "execution_count": 9,
     "metadata": {},
     "output_type": "execute_result"
    }
   ],
   "execution_count": 9
  },
  {
   "metadata": {
    "ExecuteTime": {
     "end_time": "2024-07-01T08:57:15.612261Z",
     "start_time": "2024-07-01T08:57:15.607074Z"
    }
   },
   "cell_type": "code",
   "source": "c1 += c2",
   "id": "df4f23faa07a0c30",
   "outputs": [
    {
     "name": "stdout",
     "output_type": "stream",
     "text": [
      "You called += on MyClass(name=inst 1) and MyClass(name=inst 2)\n"
     ]
    }
   ],
   "execution_count": 10
  },
  {
   "metadata": {
    "ExecuteTime": {
     "end_time": "2024-07-01T08:57:21.862750Z",
     "start_time": "2024-07-01T08:57:21.857763Z"
    }
   },
   "cell_type": "code",
   "source": "id(c1), id(c2)",
   "id": "43c08764aaf0cd61",
   "outputs": [
    {
     "data": {
      "text/plain": [
       "(139888694411824, 139888763496032)"
      ]
     },
     "execution_count": 11,
     "metadata": {},
     "output_type": "execute_result"
    }
   ],
   "execution_count": 11
  },
  {
   "metadata": {
    "ExecuteTime": {
     "end_time": "2024-07-01T08:57:27.089554Z",
     "start_time": "2024-07-01T08:57:27.085120Z"
    }
   },
   "cell_type": "code",
   "source": "c1",
   "id": "4d0e1858b618de34",
   "outputs": [
    {
     "data": {
      "text/plain": [
       "'Hello from __iadd__'"
      ]
     },
     "execution_count": 12,
     "metadata": {},
     "output_type": "execute_result"
    }
   ],
   "execution_count": 12
  },
  {
   "metadata": {
    "ExecuteTime": {
     "end_time": "2024-07-01T09:06:56.973277Z",
     "start_time": "2024-07-01T09:06:56.968562Z"
    }
   },
   "cell_type": "code",
   "source": [
    "class MyClass:\n",
    "    def __init__(self, name):\n",
    "        self.name = name\n",
    "        \n",
    "    def __repr__(self):\n",
    "        return f'MyClass(name={self.name})'\n",
    "\n",
    "    def __add__(self, other):\n",
    "        return MyClass(self.name + other.name)\n",
    "    \n",
    "    def __iadd__(self, other):\n",
    "        self.name += other.name\n",
    "        return self"
   ],
   "id": "a1c33c2479ac2385",
   "outputs": [],
   "execution_count": 52
  },
  {
   "metadata": {
    "ExecuteTime": {
     "end_time": "2024-07-01T09:06:57.194516Z",
     "start_time": "2024-07-01T09:06:57.188922Z"
    }
   },
   "cell_type": "code",
   "source": [
    "c1 = MyClass('Mario/')\n",
    "c2 = MyClass('Luigi/')\n",
    "id(c1), id(c2)"
   ],
   "id": "cff7eb54a95aac0a",
   "outputs": [
    {
     "data": {
      "text/plain": [
       "(139888694431232, 139888763495936)"
      ]
     },
     "execution_count": 53,
     "metadata": {},
     "output_type": "execute_result"
    }
   ],
   "execution_count": 53
  },
  {
   "metadata": {
    "ExecuteTime": {
     "end_time": "2024-07-01T09:06:57.387190Z",
     "start_time": "2024-07-01T09:06:57.382152Z"
    }
   },
   "cell_type": "code",
   "source": "id(c1 + c2)",
   "id": "dc7cf32a2bcd0098",
   "outputs": [
    {
     "data": {
      "text/plain": [
       "139888763290448"
      ]
     },
     "execution_count": 54,
     "metadata": {},
     "output_type": "execute_result"
    }
   ],
   "execution_count": 54
  },
  {
   "metadata": {
    "ExecuteTime": {
     "end_time": "2024-07-01T09:07:14.104061Z",
     "start_time": "2024-07-01T09:07:14.100129Z"
    }
   },
   "cell_type": "code",
   "source": "c1 += c2",
   "id": "4514a3f8691a9761",
   "outputs": [],
   "execution_count": 56
  },
  {
   "metadata": {
    "ExecuteTime": {
     "end_time": "2024-07-01T09:07:14.309080Z",
     "start_time": "2024-07-01T09:07:14.303383Z"
    }
   },
   "cell_type": "code",
   "source": "id(c1), id(c2)",
   "id": "fed24f8842b6a28d",
   "outputs": [
    {
     "data": {
      "text/plain": [
       "(139888694431232, 139888763495936)"
      ]
     },
     "execution_count": 57,
     "metadata": {},
     "output_type": "execute_result"
    }
   ],
   "execution_count": 57
  },
  {
   "metadata": {
    "ExecuteTime": {
     "end_time": "2024-07-01T09:07:21.480357Z",
     "start_time": "2024-07-01T09:07:21.475449Z"
    }
   },
   "cell_type": "code",
   "source": "c1.name, c2.name",
   "id": "7422ac50c84420a5",
   "outputs": [
    {
     "data": {
      "text/plain": [
       "('Mario/Luigi/', 'Luigi/')"
      ]
     },
     "execution_count": 58,
     "metadata": {},
     "output_type": "execute_result"
    }
   ],
   "execution_count": 58
  },
  {
   "metadata": {
    "ExecuteTime": {
     "end_time": "2024-07-01T09:11:10.540673Z",
     "start_time": "2024-07-01T09:11:10.535180Z"
    }
   },
   "cell_type": "code",
   "source": [
    "class MyClass:\n",
    "    def __init__(self, name):\n",
    "        self.name = name\n",
    "        \n",
    "    def __repr__(self):\n",
    "        return f'MyClass(name={self.name})'\n",
    "\n",
    "    def __add__(self, other):\n",
    "        return MyClass(self.name + other.name)\n",
    "    \n",
    "    def __iadd__(self, other):\n",
    "        self.name += other.name\n",
    "        return self\n",
    "    \n",
    "    def __mul__(self, n):\n",
    "        return MyClass(self.name * n)\n",
    "    \n",
    "    def __imul__(self, n):\n",
    "        self.name *= n\n",
    "        return self"
   ],
   "id": "ea5aac3414f930c7",
   "outputs": [],
   "execution_count": 59
  },
  {
   "metadata": {
    "ExecuteTime": {
     "end_time": "2024-07-01T09:13:19.384740Z",
     "start_time": "2024-07-01T09:13:19.380002Z"
    }
   },
   "cell_type": "code",
   "source": [
    "c1 = MyClass('Mario/')\n",
    "id(c1)"
   ],
   "id": "3f9aca66d84c35c5",
   "outputs": [
    {
     "data": {
      "text/plain": [
       "139888694678816"
      ]
     },
     "execution_count": 66,
     "metadata": {},
     "output_type": "execute_result"
    }
   ],
   "execution_count": 66
  },
  {
   "metadata": {
    "ExecuteTime": {
     "end_time": "2024-07-01T09:13:19.780951Z",
     "start_time": "2024-07-01T09:13:19.776210Z"
    }
   },
   "cell_type": "code",
   "source": "id(c1 * 2)",
   "id": "70aca73d74fa282c",
   "outputs": [
    {
     "data": {
      "text/plain": [
       "139888763290448"
      ]
     },
     "execution_count": 67,
     "metadata": {},
     "output_type": "execute_result"
    }
   ],
   "execution_count": 67
  },
  {
   "metadata": {
    "ExecuteTime": {
     "end_time": "2024-07-01T09:13:56.821236Z",
     "start_time": "2024-07-01T09:13:56.818123Z"
    }
   },
   "cell_type": "code",
   "source": "c1 *= 3",
   "id": "ae79cedc5588e19e",
   "outputs": [],
   "execution_count": 68
  },
  {
   "metadata": {
    "ExecuteTime": {
     "end_time": "2024-07-01T09:14:01.916736Z",
     "start_time": "2024-07-01T09:14:01.912132Z"
    }
   },
   "cell_type": "code",
   "source": "id(c1), c1",
   "id": "2ff133247a229584",
   "outputs": [
    {
     "data": {
      "text/plain": [
       "(139888694678816, MyClass(name=Mario/Mario/Mario/))"
      ]
     },
     "execution_count": 69,
     "metadata": {},
     "output_type": "execute_result"
    }
   ],
   "execution_count": 69
  },
  {
   "metadata": {
    "ExecuteTime": {
     "end_time": "2024-07-01T09:15:42.812848Z",
     "start_time": "2024-07-01T09:15:42.808185Z"
    }
   },
   "cell_type": "code",
   "source": "(4).__mul__(c1)",
   "id": "5d7a1f8d2494c813",
   "outputs": [
    {
     "data": {
      "text/plain": [
       "NotImplemented"
      ]
     },
     "execution_count": 70,
     "metadata": {},
     "output_type": "execute_result"
    }
   ],
   "execution_count": 70
  },
  {
   "metadata": {
    "ExecuteTime": {
     "end_time": "2024-07-01T09:17:22.719841Z",
     "start_time": "2024-07-01T09:17:22.714226Z"
    }
   },
   "cell_type": "code",
   "source": [
    "class MyClass:\n",
    "    def __init__(self, name):\n",
    "        self.name = name\n",
    "        \n",
    "    def __repr__(self):\n",
    "        return f'MyClass(name={self.name})'\n",
    "\n",
    "    def __add__(self, other):\n",
    "        return MyClass(self.name + other.name)\n",
    "    \n",
    "    def __iadd__(self, other):\n",
    "        self.name += other.name\n",
    "        return self\n",
    "    \n",
    "    def __mul__(self, n):\n",
    "        return MyClass(self.name * n)\n",
    "    \n",
    "    def __rmul__(self, n):\n",
    "        return self.__mul__(n)\n",
    "    \n",
    "    def __imul__(self, n):\n",
    "        self.name *= n\n",
    "        return self"
   ],
   "id": "2dc5d7900c1897b4",
   "outputs": [],
   "execution_count": 71
  },
  {
   "metadata": {
    "ExecuteTime": {
     "end_time": "2024-07-01T09:17:56.921128Z",
     "start_time": "2024-07-01T09:17:56.916036Z"
    }
   },
   "cell_type": "code",
   "source": [
    "c1 = MyClass('Mario/')\n",
    "c1 * 2"
   ],
   "id": "604a90f53f99e816",
   "outputs": [
    {
     "data": {
      "text/plain": [
       "MyClass(name=Mario/Mario/)"
      ]
     },
     "execution_count": 75,
     "metadata": {},
     "output_type": "execute_result"
    }
   ],
   "execution_count": 75
  },
  {
   "metadata": {
    "ExecuteTime": {
     "end_time": "2024-07-01T09:17:57.205101Z",
     "start_time": "2024-07-01T09:17:57.199351Z"
    }
   },
   "cell_type": "code",
   "source": "3 * c1",
   "id": "6d578f34004dd9ad",
   "outputs": [
    {
     "data": {
      "text/plain": [
       "MyClass(name=Mario/Mario/Mario/)"
      ]
     },
     "execution_count": 76,
     "metadata": {},
     "output_type": "execute_result"
    }
   ],
   "execution_count": 76
  },
  {
   "metadata": {
    "ExecuteTime": {
     "end_time": "2024-07-01T09:19:16.726103Z",
     "start_time": "2024-07-01T09:19:16.719248Z"
    }
   },
   "cell_type": "code",
   "source": [
    "class MyClass:\n",
    "    def __init__(self, name):\n",
    "        self.name = name\n",
    "        \n",
    "    def __repr__(self):\n",
    "        return f'MyClass(name={self.name})'\n",
    "\n",
    "    def __add__(self, other):\n",
    "        return MyClass(self.name + other.name)\n",
    "    \n",
    "    def __iadd__(self, other):\n",
    "        self.name += other.name\n",
    "        return self\n",
    "    \n",
    "    def __mul__(self, n):\n",
    "        return MyClass(self.name * n)\n",
    "    \n",
    "    def __rmul__(self, n):\n",
    "        return self.__mul__(n)\n",
    "    \n",
    "    def __imul__(self, n):\n",
    "        self.name *= n\n",
    "        return self\n",
    "    \n",
    "    def __contains__(self, value):\n",
    "        return value in self.name"
   ],
   "id": "6cc75ae3e8940bfe",
   "outputs": [],
   "execution_count": 77
  },
  {
   "metadata": {
    "ExecuteTime": {
     "end_time": "2024-07-01T09:19:23.642968Z",
     "start_time": "2024-07-01T09:19:23.639618Z"
    }
   },
   "cell_type": "code",
   "source": "c1 = MyClass('Mario/')",
   "id": "57a48126384bb35e",
   "outputs": [],
   "execution_count": 78
  },
  {
   "metadata": {
    "ExecuteTime": {
     "end_time": "2024-07-01T09:19:30.340264Z",
     "start_time": "2024-07-01T09:19:30.335839Z"
    }
   },
   "cell_type": "code",
   "source": "'/' in c1",
   "id": "f9ad31fd28f48fc7",
   "outputs": [
    {
     "data": {
      "text/plain": [
       "True"
      ]
     },
     "execution_count": 79,
     "metadata": {},
     "output_type": "execute_result"
    }
   ],
   "execution_count": 79
  },
  {
   "metadata": {
    "ExecuteTime": {
     "end_time": "2024-07-01T09:20:46.729990Z",
     "start_time": "2024-07-01T09:20:46.724779Z"
    }
   },
   "cell_type": "code",
   "source": "'' in c1",
   "id": "ae87a484a8720093",
   "outputs": [
    {
     "data": {
      "text/plain": [
       "True"
      ]
     },
     "execution_count": 81,
     "metadata": {},
     "output_type": "execute_result"
    }
   ],
   "execution_count": 81
  },
  {
   "metadata": {},
   "cell_type": "code",
   "execution_count": 80,
   "source": "c1 in '/'",
   "id": "be39783b62f66b91",
   "outputs": []
  }
 ],
 "metadata": {
  "kernelspec": {
   "display_name": "Python 3",
   "language": "python",
   "name": "python3"
  },
  "language_info": {
   "codemirror_mode": {
    "name": "ipython",
    "version": 2
   },
   "file_extension": ".py",
   "mimetype": "text/x-python",
   "name": "python",
   "nbconvert_exporter": "python",
   "pygments_lexer": "ipython2",
   "version": "2.7.6"
  }
 },
 "nbformat": 4,
 "nbformat_minor": 5
}
