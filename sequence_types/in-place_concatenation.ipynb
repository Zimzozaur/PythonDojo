{
 "cells": [
  {
   "cell_type": "code",
   "id": "initial_id",
   "metadata": {
    "collapsed": true,
    "ExecuteTime": {
     "end_time": "2024-06-15T10:17:01.079251Z",
     "start_time": "2024-06-15T10:17:01.076826Z"
    }
   },
   "source": [
    "l1 = [1, 2, 3, 4]\n",
    "l2 = [5, 6]"
   ],
   "outputs": [],
   "execution_count": 1
  },
  {
   "metadata": {
    "ExecuteTime": {
     "end_time": "2024-06-15T10:17:10.433772Z",
     "start_time": "2024-06-15T10:17:10.425295Z"
    }
   },
   "cell_type": "code",
   "source": "id(l1), l1",
   "id": "9fc6156032e64d74",
   "outputs": [
    {
     "data": {
      "text/plain": [
       "(139756918633216, [1, 2, 3, 4])"
      ]
     },
     "execution_count": 2,
     "metadata": {},
     "output_type": "execute_result"
    }
   ],
   "execution_count": 2
  },
  {
   "metadata": {
    "ExecuteTime": {
     "end_time": "2024-06-15T10:17:17.365369Z",
     "start_time": "2024-06-15T10:17:17.360409Z"
    }
   },
   "cell_type": "code",
   "source": "id(l2), l2",
   "id": "d40555481524a8e1",
   "outputs": [
    {
     "data": {
      "text/plain": [
       "(139756918540928, [5, 6])"
      ]
     },
     "execution_count": 3,
     "metadata": {},
     "output_type": "execute_result"
    }
   ],
   "execution_count": 3
  },
  {
   "metadata": {
    "ExecuteTime": {
     "end_time": "2024-06-15T10:17:44.646893Z",
     "start_time": "2024-06-15T10:17:44.638614Z"
    }
   },
   "cell_type": "code",
   "source": [
    "l1 = l1 + l2\n",
    "id(l1), l1"
   ],
   "id": "dc8c51ad97cd4506",
   "outputs": [
    {
     "data": {
      "text/plain": [
       "(139756918614144, [1, 2, 3, 4, 5, 6])"
      ]
     },
     "execution_count": 4,
     "metadata": {},
     "output_type": "execute_result"
    }
   ],
   "execution_count": 4
  },
  {
   "metadata": {
    "ExecuteTime": {
     "end_time": "2024-06-15T10:20:36.447345Z",
     "start_time": "2024-06-15T10:20:36.443128Z"
    }
   },
   "cell_type": "code",
   "source": [
    "l1 = [1, 2, 3, 4]\n",
    "l2 = [5, 6]\n",
    "print(id(l1), l1)\n",
    "print(id(l2), l2)"
   ],
   "id": "1464d86057deeeb2",
   "outputs": [
    {
     "name": "stdout",
     "output_type": "stream",
     "text": [
      "139756826258176 [1, 2, 3, 4]\n",
      "139756826231616 [5, 6]\n"
     ]
    }
   ],
   "execution_count": 10
  },
  {
   "metadata": {
    "ExecuteTime": {
     "end_time": "2024-06-15T10:20:36.593392Z",
     "start_time": "2024-06-15T10:20:36.587705Z"
    }
   },
   "cell_type": "code",
   "source": [
    "l1 += l2\n",
    "id(l1), l1"
   ],
   "id": "4e9d02ac6e7c1720",
   "outputs": [
    {
     "data": {
      "text/plain": [
       "(139756826258176, [1, 2, 3, 4, 5, 6])"
      ]
     },
     "execution_count": 11,
     "metadata": {},
     "output_type": "execute_result"
    }
   ],
   "execution_count": 11
  },
  {
   "metadata": {
    "ExecuteTime": {
     "end_time": "2024-06-15T10:21:53.887160Z",
     "start_time": "2024-06-15T10:21:53.882991Z"
    }
   },
   "cell_type": "code",
   "source": [
    "l1 = [1, 2, 3, 4]\n",
    "t2 = 5, 6\n",
    "print(id(l1), l1)\n",
    "print(id(t2), t2)"
   ],
   "id": "df2eaa85f8dea96b",
   "outputs": [
    {
     "name": "stdout",
     "output_type": "stream",
     "text": [
      "139756826278464 [1, 2, 3, 4]\n",
      "139756826388672 (5, 6)\n"
     ]
    }
   ],
   "execution_count": 18
  },
  {
   "metadata": {
    "ExecuteTime": {
     "end_time": "2024-06-15T10:21:54.075904Z",
     "start_time": "2024-06-15T10:21:54.071932Z"
    }
   },
   "cell_type": "code",
   "source": "l1 += t2",
   "id": "878b92a790937966",
   "outputs": [],
   "execution_count": 19
  },
  {
   "metadata": {
    "ExecuteTime": {
     "end_time": "2024-06-15T10:21:54.337579Z",
     "start_time": "2024-06-15T10:21:54.331787Z"
    }
   },
   "cell_type": "code",
   "source": "id(l1), l1",
   "id": "84257014ead521a1",
   "outputs": [
    {
     "data": {
      "text/plain": [
       "(139756826278464, [1, 2, 3, 4, 5, 6])"
      ]
     },
     "execution_count": 20,
     "metadata": {},
     "output_type": "execute_result"
    }
   ],
   "execution_count": 20
  },
  {
   "metadata": {
    "ExecuteTime": {
     "end_time": "2024-06-15T10:22:38.642512Z",
     "start_time": "2024-06-15T10:22:38.639105Z"
    }
   },
   "cell_type": "code",
   "source": "l1 += range(7, 11)",
   "id": "be15b8d83df9ae4b",
   "outputs": [],
   "execution_count": 21
  },
  {
   "metadata": {
    "ExecuteTime": {
     "end_time": "2024-06-15T10:22:44.848618Z",
     "start_time": "2024-06-15T10:22:44.843667Z"
    }
   },
   "cell_type": "code",
   "source": "id(l1), l1",
   "id": "596c3791db40b4ce",
   "outputs": [
    {
     "data": {
      "text/plain": [
       "(139756826278464, [1, 2, 3, 4, 5, 6, 7, 8, 9, 10])"
      ]
     },
     "execution_count": 22,
     "metadata": {},
     "output_type": "execute_result"
    }
   ],
   "execution_count": 22
  },
  {
   "metadata": {
    "ExecuteTime": {
     "end_time": "2024-06-15T10:23:14.264874Z",
     "start_time": "2024-06-15T10:23:14.261293Z"
    }
   },
   "cell_type": "code",
   "source": "l1 += {100, 'X', 'a'}",
   "id": "3a90fabe0a75658a",
   "outputs": [],
   "execution_count": 23
  },
  {
   "metadata": {
    "ExecuteTime": {
     "end_time": "2024-06-15T10:23:18.791878Z",
     "start_time": "2024-06-15T10:23:18.786576Z"
    }
   },
   "cell_type": "code",
   "source": "id(l1), l1",
   "id": "2f2ab77e4d5353e2",
   "outputs": [
    {
     "data": {
      "text/plain": [
       "(139756826278464, [1, 2, 3, 4, 5, 6, 7, 8, 9, 10, 100, 'X', 'a'])"
      ]
     },
     "execution_count": 24,
     "metadata": {},
     "output_type": "execute_result"
    }
   ],
   "execution_count": 24
  },
  {
   "metadata": {
    "ExecuteTime": {
     "end_time": "2024-06-15T10:24:39.467867Z",
     "start_time": "2024-06-15T10:24:39.463659Z"
    }
   },
   "cell_type": "code",
   "source": [
    "t1 = 1, 2, 3\n",
    "t2 = 4, 5, 6\n",
    "print(id(t1), t1)\n",
    "print(id(t2), t2)"
   ],
   "id": "14ae60c1a8639583",
   "outputs": [
    {
     "name": "stdout",
     "output_type": "stream",
     "text": [
      "139756826474432 (1, 2, 3)\n",
      "139756826474496 (4, 5, 6)\n"
     ]
    }
   ],
   "execution_count": 25
  },
  {
   "metadata": {
    "ExecuteTime": {
     "end_time": "2024-06-15T10:25:16.423044Z",
     "start_time": "2024-06-15T10:25:16.418173Z"
    }
   },
   "cell_type": "code",
   "source": [
    "t1 += t2\n",
    "id(t1), t1"
   ],
   "id": "ca4c413614aecfa7",
   "outputs": [
    {
     "data": {
      "text/plain": [
       "(139756897429120, (1, 2, 3, 4, 5, 6))"
      ]
     },
     "execution_count": 26,
     "metadata": {},
     "output_type": "execute_result"
    }
   ],
   "execution_count": 26
  },
  {
   "metadata": {
    "ExecuteTime": {
     "end_time": "2024-06-15T10:26:21.211024Z",
     "start_time": "2024-06-15T10:26:21.206335Z"
    }
   },
   "cell_type": "code",
   "source": [
    "l1 = 1, 2, 3\n",
    "id(l1), l1"
   ],
   "id": "930c535b7d92c73a",
   "outputs": [
    {
     "data": {
      "text/plain": [
       "(139756815073216, (1, 2, 3))"
      ]
     },
     "execution_count": 31,
     "metadata": {},
     "output_type": "execute_result"
    }
   ],
   "execution_count": 31
  },
  {
   "metadata": {
    "ExecuteTime": {
     "end_time": "2024-06-15T10:26:21.468007Z",
     "start_time": "2024-06-15T10:26:21.462202Z"
    }
   },
   "cell_type": "code",
   "source": [
    "l1 = l1 * 2\n",
    "id(l1), l1"
   ],
   "id": "b2f747e45499dfaa",
   "outputs": [
    {
     "data": {
      "text/plain": [
       "(139756897429408, (1, 2, 3, 1, 2, 3))"
      ]
     },
     "execution_count": 32,
     "metadata": {},
     "output_type": "execute_result"
    }
   ],
   "execution_count": 32
  },
  {
   "metadata": {
    "ExecuteTime": {
     "end_time": "2024-06-15T10:27:16.324526Z",
     "start_time": "2024-06-15T10:27:16.319719Z"
    }
   },
   "cell_type": "code",
   "source": [
    "l1 = [1, 2, 3]\n",
    "id(l1), l1"
   ],
   "id": "ad4f9689a43406a0",
   "outputs": [
    {
     "data": {
      "text/plain": [
       "(139756918616000, [1, 2, 3])"
      ]
     },
     "execution_count": 37,
     "metadata": {},
     "output_type": "execute_result"
    }
   ],
   "execution_count": 37
  },
  {
   "metadata": {
    "ExecuteTime": {
     "end_time": "2024-06-15T10:27:16.484949Z",
     "start_time": "2024-06-15T10:27:16.478937Z"
    }
   },
   "cell_type": "code",
   "source": [
    "l1 *= 2\n",
    "id(l1), l1"
   ],
   "id": "596b6e7c1e40fffa",
   "outputs": [
    {
     "data": {
      "text/plain": [
       "(139756918616000, [1, 2, 3, 1, 2, 3])"
      ]
     },
     "execution_count": 38,
     "metadata": {},
     "output_type": "execute_result"
    }
   ],
   "execution_count": 38
  },
  {
   "metadata": {},
   "cell_type": "code",
   "outputs": [],
   "execution_count": null,
   "source": "",
   "id": "5ebcc576097cc2c3"
  }
 ],
 "metadata": {
  "kernelspec": {
   "display_name": "Python 3",
   "language": "python",
   "name": "python3"
  },
  "language_info": {
   "codemirror_mode": {
    "name": "ipython",
    "version": 2
   },
   "file_extension": ".py",
   "mimetype": "text/x-python",
   "name": "python",
   "nbconvert_exporter": "python",
   "pygments_lexer": "ipython2",
   "version": "2.7.6"
  }
 },
 "nbformat": 4,
 "nbformat_minor": 5
}
