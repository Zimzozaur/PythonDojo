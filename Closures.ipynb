{
 "cells": [
  {
   "cell_type": "code",
   "execution_count": null,
   "id": "initial_id",
   "metadata": {
    "collapsed": true
   },
   "outputs": [],
   "source": [
    "def outer():\n",
    "    x = 'python'\n",
    "    def inner():\n",
    "        print(f'{x} is cool!')\n",
    "    inner()\n",
    "outer()"
   ]
  },
  {
   "cell_type": "code",
   "outputs": [],
   "source": [
    "def outer():\n",
    "    x = 'python'\n",
    "    def inner():\n",
    "        print(f'{x} is cool!')\n",
    "    return inner\n",
    "x = 'monty'\n",
    "outer()()\n",
    "print(x)"
   ],
   "metadata": {
    "collapsed": false
   },
   "id": "1c40f1bfd85fe324",
   "execution_count": null
  },
  {
   "cell_type": "code",
   "outputs": [],
   "source": [
    "def outer():\n",
    "    a = 100\n",
    "    x = 'python'\n",
    "    def inner():\n",
    "        a = 10\n",
    "        print(f'{x} is cool!')\n",
    "    return inner\n",
    "\n",
    "fn = outer()\n",
    "fn()"
   ],
   "metadata": {
    "collapsed": false
   },
   "id": "df63045583adc00c",
   "execution_count": null
  },
  {
   "cell_type": "code",
   "outputs": [],
   "source": [
    "def outer():\n",
    "    a = 100\n",
    "    x = 'python'\n",
    "    def inner():\n",
    "        a = 10\n",
    "        print(f'{x} is cool!')\n",
    "    inner.a = a\n",
    "    inner.x = x\n",
    "    return inner\n",
    "\n",
    "fn = outer()\n",
    "print(fn.x, fn.a)"
   ],
   "metadata": {
    "collapsed": false
   },
   "id": "d602aa52c2eea1fd",
   "execution_count": null
  },
  {
   "cell_type": "code",
   "outputs": [],
   "source": [
    "def outer():\n",
    "    a = 100\n",
    "    x = 'python'\n",
    "    def inner():\n",
    "        a = 10\n",
    "        print(f'{x} is cool!')\n",
    "        inner.a = a\n",
    "        inner.x = x\n",
    "        \n",
    "    return inner\n",
    "\n",
    "fn = outer()\n",
    "print(fn.x, fn.a)"
   ],
   "metadata": {
    "collapsed": false
   },
   "id": "e81b3db9d04d26de",
   "execution_count": null
  },
  {
   "cell_type": "code",
   "outputs": [],
   "source": [
    "def outer():\n",
    "    a = 100\n",
    "    x = 'python'\n",
    "    def inner():\n",
    "        a = 10\n",
    "        print(f'{x} is cool!')\n",
    "        inner.a = a\n",
    "        inner.x = x\n",
    "        \n",
    "    return inner\n",
    "\n",
    "fn = outer()\n",
    "fn()\n",
    "print(fn.x, fn.a)"
   ],
   "metadata": {
    "collapsed": false
   },
   "id": "6bc474a75004460",
   "execution_count": null
  },
  {
   "cell_type": "code",
   "outputs": [],
   "source": [
    "def outer():\n",
    "    a = 100\n",
    "    x = 'python'\n",
    "\n",
    "    def inner():\n",
    "        a = 10\n",
    "        print(f'{x} is cool!')\n",
    "\n",
    "    return inner\n",
    "\n",
    "\n",
    "fn = outer()"
   ],
   "metadata": {
    "collapsed": false
   },
   "id": "a86b6da88f1aa783",
   "execution_count": null
  },
  {
   "cell_type": "code",
   "outputs": [],
   "source": [
    "fn.__code__.co_freevars"
   ],
   "metadata": {
    "collapsed": false
   },
   "id": "b46b1f1a48756351",
   "execution_count": null
  },
  {
   "cell_type": "code",
   "outputs": [],
   "source": [
    "fn.__closure__"
   ],
   "metadata": {
    "collapsed": false
   },
   "id": "894df67d2b3406eb",
   "execution_count": null
  },
  {
   "cell_type": "code",
   "outputs": [],
   "source": [
    "def outer():\n",
    "    x = 'python'\n",
    "    print(hex(id(x)))\n",
    "    def inner():\n",
    "        print(hex(id(x)))\n",
    "        print(f'{x} is cool!')\n",
    "    return inner\n",
    "\n",
    "fn = outer()\n",
    "fn()\n"
   ],
   "metadata": {
    "collapsed": false
   },
   "id": "3a8eaff9ae069ab0",
   "execution_count": null
  },
  {
   "cell_type": "code",
   "outputs": [],
   "source": [
    "def counter():\n",
    "    count = 0\n",
    "    def inc():\n",
    "        nonlocal count\n",
    "        count += 1\n",
    "        return count\n",
    "    return inc"
   ],
   "metadata": {
    "collapsed": false
   },
   "id": "a526891eb4f491a2",
   "execution_count": null
  },
  {
   "cell_type": "code",
   "outputs": [],
   "source": [
    "f1 = counter()\n",
    "f2 = counter()"
   ],
   "metadata": {
    "collapsed": false
   },
   "id": "fa9f40a21bf63a15",
   "execution_count": null
  },
  {
   "cell_type": "code",
   "outputs": [],
   "source": [
    "print(f1(), f1(), f1(), f2())"
   ],
   "metadata": {
    "collapsed": false
   },
   "id": "810407276ee05fa1",
   "execution_count": null
  },
  {
   "cell_type": "code",
   "outputs": [],
   "source": [
    "f3 = f4 = counter()"
   ],
   "metadata": {
    "collapsed": false
   },
   "id": "995d35c8f786de17",
   "execution_count": null
  },
  {
   "cell_type": "code",
   "outputs": [],
   "source": [
    "print(f3(), f4(), f3(), f4())"
   ],
   "metadata": {
    "collapsed": false
   },
   "id": "ff75b3297387fe3",
   "execution_count": null
  },
  {
   "cell_type": "code",
   "outputs": [],
   "source": [
    "def outer():\n",
    "    count = 0\n",
    "    \n",
    "    def inc1():\n",
    "        nonlocal count\n",
    "        count += 1\n",
    "        return count\n",
    "    \n",
    "    def inc2():\n",
    "        nonlocal count\n",
    "        count += 1\n",
    "        return count\n",
    "    \n",
    "    return inc1, inc2"
   ],
   "metadata": {
    "collapsed": false
   },
   "id": "2f3ce7772093f006",
   "execution_count": null
  },
  {
   "cell_type": "code",
   "outputs": [],
   "source": [
    "print(outer()[0].__closure__, outer()[1].__closure__, sep='\\n')"
   ],
   "metadata": {
    "collapsed": false
   },
   "id": "2d9c71beff89e7e8",
   "execution_count": null
  },
  {
   "cell_type": "code",
   "outputs": [],
   "source": [
    "zero, one = outer()"
   ],
   "metadata": {
    "collapsed": false
   },
   "id": "1f408e0a49e84886",
   "execution_count": null
  },
  {
   "cell_type": "code",
   "outputs": [],
   "source": [
    "zero()"
   ],
   "metadata": {
    "collapsed": false
   },
   "id": "cbaef43b897226e7",
   "execution_count": null
  },
  {
   "cell_type": "code",
   "outputs": [],
   "source": [
    "one()"
   ],
   "metadata": {
    "collapsed": false
   },
   "id": "4e74af564f0ba771",
   "execution_count": null
  },
  {
   "cell_type": "code",
   "outputs": [],
   "source": [
    "def adder(n):\n",
    "    def inner(x):\n",
    "        return x + n\n",
    "    return inner\n",
    "add_func = adder(10)\n",
    "add_func(20)"
   ],
   "metadata": {
    "collapsed": false
   },
   "id": "3b66121aefdae1fa",
   "execution_count": null
  },
  {
   "cell_type": "code",
   "outputs": [],
   "source": [
    "add_func(30)"
   ],
   "metadata": {
    "collapsed": false
   },
   "id": "fd3bf436644ff0ca",
   "execution_count": null
  },
  {
   "cell_type": "code",
   "outputs": [],
   "source": [
    "arr = []\n",
    "for n in range(1, 4):\n",
    "    arr.append(lambda x: x + n)"
   ],
   "metadata": {
    "collapsed": false
   },
   "id": "c3d95f728828ca1e",
   "execution_count": null
  },
  {
   "cell_type": "code",
   "outputs": [],
   "source": [
    "print(arr[0](1), arr[1](1), arr[2](1))"
   ],
   "metadata": {
    "collapsed": false
   },
   "id": "c19bf8c68885b87a",
   "execution_count": null
  },
  {
   "cell_type": "code",
   "outputs": [],
   "source": [
    "def incrementer(n):\n",
    "    def inner(start):\n",
    "        current = start\n",
    "        def inc():\n",
    "            nonlocal current\n",
    "            current += n\n",
    "            return current\n",
    "        \n",
    "        return inc\n",
    "    return inner\n",
    "\n",
    "inc = incrementer(10)\n",
    "inn = inc(10)\n",
    "inn()"
   ],
   "metadata": {
    "collapsed": false
   },
   "id": "d1f8a1effd0c6807",
   "execution_count": null
  },
  {
   "cell_type": "code",
   "outputs": [],
   "source": [
    "def outer():\n",
    "    x = 'python'\n",
    "    def inner():\n",
    "        print(x)\n",
    "    return inner"
   ],
   "metadata": {
    "collapsed": false
   },
   "id": "4b4aca2ae5987e89",
   "execution_count": null
  },
  {
   "cell_type": "code",
   "outputs": [],
   "source": [
    "fn = outer()"
   ],
   "metadata": {
    "collapsed": false
   },
   "id": "8dbf7ecb4e485c34",
   "execution_count": null
  },
  {
   "cell_type": "code",
   "outputs": [],
   "source": [
    "fn.__code__.co_freevars"
   ],
   "metadata": {
    "collapsed": false
   },
   "id": "867b0714bbd2381c",
   "execution_count": null
  },
  {
   "cell_type": "code",
   "outputs": [],
   "source": [
    "fn.__code__"
   ],
   "metadata": {
    "collapsed": false
   },
   "id": "3cac54fabde6d91e",
   "execution_count": null
  },
  {
   "cell_type": "code",
   "outputs": [],
   "source": [
    "def outer():\n",
    "    x = [1, 2, 3]\n",
    "    print(hex(id(x)))\n",
    "    def inner():\n",
    "        x = [1, 2, 3]   \n",
    "        print(hex(id(x)))\n",
    "    return inner"
   ],
   "metadata": {
    "collapsed": false
   },
   "id": "aa8fad6b921ddaaa",
   "execution_count": null
  },
  {
   "cell_type": "code",
   "outputs": [],
   "source": [
    "fn = outer()\n",
    "fn()"
   ],
   "metadata": {
    "collapsed": false
   },
   "id": "ff4a1b5f311070f4",
   "execution_count": null
  },
  {
   "cell_type": "code",
   "outputs": [],
   "source": [
    "def outer():\n",
    "    x = [1, 2, 3]\n",
    "    print(hex(id(x)))\n",
    "    def inner():\n",
    "        y = x\n",
    "        print(hex(id(x)))\n",
    "    return inner"
   ],
   "metadata": {
    "collapsed": false
   },
   "id": "b334b900500662da",
   "execution_count": null
  },
  {
   "cell_type": "code",
   "outputs": [],
   "source": [
    "fn = outer()\n",
    "fn()"
   ],
   "metadata": {
    "collapsed": false
   },
   "id": "e8ca12d86e0609e",
   "execution_count": null
  },
  {
   "cell_type": "code",
   "outputs": [],
   "source": [
    "fn.__closure__"
   ],
   "metadata": {
    "collapsed": false
   },
   "id": "481f9063293d719b",
   "execution_count": null
  },
  {
   "cell_type": "code",
   "outputs": [],
   "source": [
    "def outer():\n",
    "    count = 0\n",
    "    def inc():\n",
    "        nonlocal count\n",
    "        count += 1\n",
    "        return count\n",
    "    return inc"
   ],
   "metadata": {
    "collapsed": false
   },
   "id": "e75c771a39f099f9",
   "execution_count": null
  },
  {
   "cell_type": "code",
   "outputs": [],
   "source": [
    "fn = outer()"
   ],
   "metadata": {
    "collapsed": false
   },
   "id": "8c46de2b6b81f1d2",
   "execution_count": null
  },
  {
   "cell_type": "code",
   "outputs": [],
   "source": [
    "fn.__code__.co_freevars"
   ],
   "metadata": {
    "collapsed": false
   },
   "id": "97564824bbf0fd49",
   "execution_count": null
  },
  {
   "cell_type": "code",
   "outputs": [],
   "source": [
    "fn.__closure__"
   ],
   "metadata": {
    "collapsed": false
   },
   "id": "3a09f2a7ca3295ab",
   "execution_count": null
  },
  {
   "cell_type": "code",
   "outputs": [],
   "source": [
    "def outer():\n",
    "    count = 0\n",
    "    def inc1():\n",
    "        nonlocal count\n",
    "        count += 1\n",
    "        return count\n",
    "    def inc2():\n",
    "        nonlocal count\n",
    "        count += 1\n",
    "        return count\n",
    "    return inc1, inc2"
   ],
   "metadata": {
    "collapsed": false
   },
   "id": "bfc961f06560a565",
   "execution_count": null
  },
  {
   "cell_type": "code",
   "outputs": [],
   "source": [
    "fn1, fn2 = outer()"
   ],
   "metadata": {
    "collapsed": false
   },
   "id": "2c0bdb450a6d2e7c",
   "execution_count": null
  },
  {
   "cell_type": "code",
   "outputs": [],
   "source": [
    "fn1()"
   ],
   "metadata": {
    "collapsed": false
   },
   "id": "a50c2c5e4803271a",
   "execution_count": null
  },
  {
   "cell_type": "code",
   "outputs": [],
   "source": [
    "fn2()"
   ],
   "metadata": {
    "collapsed": false
   },
   "id": "67934464ffdee944",
   "execution_count": null
  },
  {
   "cell_type": "code",
   "outputs": [],
   "source": [
    "fn.__closure__, fn.__closure__"
   ],
   "metadata": {
    "collapsed": false
   },
   "id": "d1a2b5e80afd6f12",
   "execution_count": null
  },
  {
   "cell_type": "code",
   "outputs": [],
   "source": [
    "def pow(n):\n",
    "    def inner(x):\n",
    "        return x ** n\n",
    "    return inner"
   ],
   "metadata": {
    "collapsed": false
   },
   "id": "14e428228cccea88",
   "execution_count": null
  },
  {
   "cell_type": "code",
   "outputs": [],
   "source": [
    "square = pow(2)\n",
    "square(5)"
   ],
   "metadata": {
    "collapsed": false
   },
   "id": "b73f131b35bbab5a",
   "execution_count": null
  },
  {
   "cell_type": "code",
   "outputs": [],
   "source": [
    "cube = pow(3)\n",
    "cube(5)"
   ],
   "metadata": {
    "collapsed": false
   },
   "id": "c606534c1c406c6",
   "execution_count": null
  },
  {
   "cell_type": "code",
   "outputs": [],
   "source": [
    "square.__closure__, cube.__closure__"
   ],
   "metadata": {
    "collapsed": false
   },
   "id": "156722d67d61721c",
   "execution_count": null
  },
  {
   "cell_type": "code",
   "outputs": [],
   "source": [
    "def adder(x):\n",
    "    def inner(n):\n",
    "        return x + n\n",
    "    return inner\n"
   ],
   "metadata": {
    "collapsed": false
   },
   "id": "1c7f6bd971032ab5",
   "execution_count": null
  },
  {
   "cell_type": "code",
   "outputs": [],
   "source": [
    "add_1 = adder(1)\n",
    "add_2 = adder(1)"
   ],
   "metadata": {
    "collapsed": false
   },
   "id": "16adcfb6d9ec1f05",
   "execution_count": null
  },
  {
   "cell_type": "code",
   "outputs": [],
   "source": [
    "add_1.__closure__, add_2.__closure__"
   ],
   "metadata": {
    "collapsed": false
   },
   "id": "527be1338719884f",
   "execution_count": null
  },
  {
   "cell_type": "code",
   "outputs": [],
   "source": [
    "adders = []\n",
    "for i in range(1, 4):\n",
    "    adders.append(adder(i))"
   ],
   "metadata": {
    "collapsed": false
   },
   "id": "46cad4e498589873",
   "execution_count": null
  },
  {
   "cell_type": "code",
   "outputs": [],
   "source": [
    "adders[0].__closure__, adders[1].__closure__, adders[2].__closure__, "
   ],
   "metadata": {
    "collapsed": false
   },
   "id": "bbb3597c03975447",
   "execution_count": null
  },
  {
   "cell_type": "code",
   "outputs": [],
   "source": [
    "adders[0](0), adders[1](0), adders[2](0)"
   ],
   "metadata": {
    "collapsed": false
   },
   "id": "82c6ee5c74944be3",
   "execution_count": null
  },
  {
   "cell_type": "code",
   "outputs": [],
   "source": [
    "adders = []\n",
    "for n in range(1, 4):\n",
    "    adders.append(lambda x: x + n)"
   ],
   "metadata": {
    "collapsed": false,
    "ExecuteTime": {
     "end_time": "2024-03-07T12:36:12.997254Z",
     "start_time": "2024-03-07T12:36:12.992222Z"
    }
   },
   "id": "8d667c04a4a95e90",
   "execution_count": 250
  },
  {
   "cell_type": "code",
   "outputs": [
    {
     "data": {
      "text/plain": "(None, None, None)"
     },
     "execution_count": 251,
     "metadata": {},
     "output_type": "execute_result"
    }
   ],
   "source": [
    "adders[0].__closure__, adders[1].__closure__, adders[2].__closure__, "
   ],
   "metadata": {
    "collapsed": false,
    "ExecuteTime": {
     "end_time": "2024-03-07T12:36:13.325878Z",
     "start_time": "2024-03-07T12:36:13.320789Z"
    }
   },
   "id": "a58d370da0a5a028",
   "execution_count": 251
  },
  {
   "cell_type": "code",
   "outputs": [],
   "source": [
    "adders[0](0), adders[1](0), adders[2](0)"
   ],
   "metadata": {
    "collapsed": false
   },
   "id": "70848aba674c48f7",
   "execution_count": null
  },
  {
   "cell_type": "code",
   "outputs": [],
   "source": [
    "def create_adders():\n",
    "    adders = []\n",
    "    for n in range(1, 4):\n",
    "        adders.append(lambda x: x + n)\n",
    "    return adders"
   ],
   "metadata": {
    "collapsed": false,
    "ExecuteTime": {
     "end_time": "2024-03-07T12:35:55.115139Z",
     "start_time": "2024-03-07T12:35:55.111202Z"
    }
   },
   "id": "e080b08594e9583c",
   "execution_count": 246
  },
  {
   "cell_type": "code",
   "outputs": [],
   "source": [
    "adders = create_adders()"
   ],
   "metadata": {
    "collapsed": false,
    "ExecuteTime": {
     "end_time": "2024-03-07T12:35:55.485212Z",
     "start_time": "2024-03-07T12:35:55.482358Z"
    }
   },
   "id": "28e9a55a1e47b449",
   "execution_count": 247
  },
  {
   "cell_type": "code",
   "outputs": [
    {
     "data": {
      "text/plain": "((<cell at 0x7f3d879db160: int object at 0x7f3d99bdf2c8>,),\n (<cell at 0x7f3d879db160: int object at 0x7f3d99bdf2c8>,),\n (<cell at 0x7f3d879db160: int object at 0x7f3d99bdf2c8>,))"
     },
     "execution_count": 248,
     "metadata": {},
     "output_type": "execute_result"
    }
   ],
   "source": [
    "adders[0].__closure__, adders[1].__closure__, adders[2].__closure__, "
   ],
   "metadata": {
    "collapsed": false,
    "ExecuteTime": {
     "end_time": "2024-03-07T12:35:55.934387Z",
     "start_time": "2024-03-07T12:35:55.930399Z"
    }
   },
   "id": "f54c892382ee4160",
   "execution_count": 248
  },
  {
   "cell_type": "code",
   "outputs": [
    {
     "data": {
      "text/plain": "(3, 3, 3)"
     },
     "execution_count": 249,
     "metadata": {},
     "output_type": "execute_result"
    }
   ],
   "source": [
    "adders[0](0), adders[1](0), adders[2](0)"
   ],
   "metadata": {
    "collapsed": false,
    "ExecuteTime": {
     "end_time": "2024-03-07T12:35:56.719154Z",
     "start_time": "2024-03-07T12:35:56.713636Z"
    }
   },
   "id": "b1066605cc12d91f",
   "execution_count": 249
  },
  {
   "cell_type": "code",
   "outputs": [],
   "source": [
    "def create_adders():\n",
    "    adders = []\n",
    "    for n in range(1, 4):\n",
    "        adders.append(lambda x, y=n: x + y)\n",
    "    return adders\n",
    "adders = create_adders()"
   ],
   "metadata": {
    "collapsed": false,
    "ExecuteTime": {
     "end_time": "2024-03-07T12:49:30.056649Z",
     "start_time": "2024-03-07T12:49:30.053281Z"
    }
   },
   "id": "3729c1ea98fdb58",
   "execution_count": 273
  },
  {
   "cell_type": "code",
   "outputs": [
    {
     "data": {
      "text/plain": "(1, 2, 4)"
     },
     "execution_count": 276,
     "metadata": {},
     "output_type": "execute_result"
    }
   ],
   "source": [
    "adders[0](0), adders[1](0), adders[2](2, 2)"
   ],
   "metadata": {
    "collapsed": false,
    "ExecuteTime": {
     "end_time": "2024-03-07T12:50:28.673046Z",
     "start_time": "2024-03-07T12:50:28.667503Z"
    }
   },
   "id": "d7eb0af1a50e8988",
   "execution_count": 276
  },
  {
   "cell_type": "code",
   "outputs": [
    {
     "data": {
      "text/plain": "[<function __main__.create_adders.<locals>.<lambda>(x, y=1)>,\n <function __main__.create_adders.<locals>.<lambda>(x, y=2)>,\n <function __main__.create_adders.<locals>.<lambda>(x, y=3)>]"
     },
     "execution_count": 275,
     "metadata": {},
     "output_type": "execute_result"
    }
   ],
   "source": [
    "adders"
   ],
   "metadata": {
    "collapsed": false,
    "ExecuteTime": {
     "end_time": "2024-03-07T12:49:30.423726Z",
     "start_time": "2024-03-07T12:49:30.418567Z"
    }
   },
   "id": "14123e0d4ce4e2d8",
   "execution_count": 275
  },
  {
   "cell_type": "code",
   "outputs": [],
   "source": [
    "class Averager:\n",
    "    def __init__(self):\n",
    "        self._together = 0\n",
    "        self._divider = 0\n",
    "    def average(self, *args):\n",
    "        self._divider += len(args)\n",
    "        self._together += sum(args)\n",
    "        return self._together / self._divider"
   ],
   "metadata": {
    "collapsed": false,
    "ExecuteTime": {
     "end_time": "2024-03-07T13:04:15.728518Z",
     "start_time": "2024-03-07T13:04:15.723348Z"
    }
   },
   "id": "b3f8cfb3108330a0",
   "execution_count": 304
  },
  {
   "cell_type": "code",
   "outputs": [],
   "source": [
    "avg = Averager()"
   ],
   "metadata": {
    "collapsed": false,
    "ExecuteTime": {
     "end_time": "2024-03-07T13:04:16.031878Z",
     "start_time": "2024-03-07T13:04:16.028401Z"
    }
   },
   "id": "ac511a0eb4221732",
   "execution_count": 305
  },
  {
   "cell_type": "code",
   "outputs": [
    {
     "data": {
      "text/plain": "(4.0, 5.5)"
     },
     "execution_count": 306,
     "metadata": {},
     "output_type": "execute_result"
    }
   ],
   "source": [
    "avg.average(3, 4, 5), avg.average(10)"
   ],
   "metadata": {
    "collapsed": false,
    "ExecuteTime": {
     "end_time": "2024-03-07T13:04:16.460027Z",
     "start_time": "2024-03-07T13:04:16.454736Z"
    }
   },
   "id": "41cc4db6ef5743d8",
   "execution_count": 306
  },
  {
   "cell_type": "code",
   "outputs": [],
   "source": [
    "def averager():\n",
    "    together = 0\n",
    "    divider = 0\n",
    "    def inner(*args):\n",
    "        nonlocal together, divider\n",
    "        together += sum(args)\n",
    "        divider += len(args)\n",
    "        return together / divider\n",
    "    return inner"
   ],
   "metadata": {
    "collapsed": false,
    "ExecuteTime": {
     "end_time": "2024-03-07T13:10:52.463798Z",
     "start_time": "2024-03-07T13:10:52.459977Z"
    }
   },
   "id": "930fbfdf72331410",
   "execution_count": 333
  },
  {
   "cell_type": "code",
   "outputs": [],
   "source": [
    "a, b = averager(), averager()"
   ],
   "metadata": {
    "collapsed": false,
    "ExecuteTime": {
     "end_time": "2024-03-07T13:10:52.650301Z",
     "start_time": "2024-03-07T13:10:52.646438Z"
    }
   },
   "id": "937ceacc6d0d14fc",
   "execution_count": 334
  },
  {
   "cell_type": "code",
   "outputs": [
    {
     "data": {
      "text/plain": "(5.0, 5.0)"
     },
     "execution_count": 335,
     "metadata": {},
     "output_type": "execute_result"
    }
   ],
   "source": [
    "a(3, 4, 8), b(3, 4, 8)"
   ],
   "metadata": {
    "collapsed": false,
    "ExecuteTime": {
     "end_time": "2024-03-07T13:10:52.783508Z",
     "start_time": "2024-03-07T13:10:52.778367Z"
    }
   },
   "id": "92c13f714f53e308",
   "execution_count": 335
  },
  {
   "cell_type": "code",
   "outputs": [
    {
     "data": {
      "text/plain": "((<cell at 0x7f3d86f67e20: int object at 0x7f3d99bdf2c8>,\n  <cell at 0x7f3d86f65b40: int object at 0x7f3d99bdf448>),\n (<cell at 0x7f3d86f677f0: int object at 0x7f3d99bdf2c8>,\n  <cell at 0x7f3d86f65f90: int object at 0x7f3d99bdf448>))"
     },
     "execution_count": 336,
     "metadata": {},
     "output_type": "execute_result"
    }
   ],
   "source": [
    "a.__closure__, b.__closure__,"
   ],
   "metadata": {
    "collapsed": false,
    "ExecuteTime": {
     "end_time": "2024-03-07T13:11:03.117627Z",
     "start_time": "2024-03-07T13:11:03.112816Z"
    }
   },
   "id": "7958dc6a8eb2d83b",
   "execution_count": 336
  },
  {
   "cell_type": "code",
   "outputs": [
    {
     "data": {
      "text/plain": "(('divider', 'together'), ('divider', 'together'))"
     },
     "execution_count": 337,
     "metadata": {},
     "output_type": "execute_result"
    }
   ],
   "source": [
    "a.__code__.co_freevars, a.__code__.co_freevars"
   ],
   "metadata": {
    "collapsed": false,
    "ExecuteTime": {
     "end_time": "2024-03-07T13:13:15.485285Z",
     "start_time": "2024-03-07T13:13:15.480279Z"
    }
   },
   "id": "a4403209513672c6",
   "execution_count": 337
  },
  {
   "cell_type": "code",
   "outputs": [],
   "source": [
    "from time import perf_counter"
   ],
   "metadata": {
    "collapsed": false,
    "ExecuteTime": {
     "end_time": "2024-03-07T13:15:30.699248Z",
     "start_time": "2024-03-07T13:15:30.695969Z"
    }
   },
   "id": "f41e62fb1496dd7c",
   "execution_count": 338
  },
  {
   "cell_type": "code",
   "outputs": [],
   "source": [
    "class Timer:\n",
    "    def __init__(self):\n",
    "        self.start = perf_counter()\n",
    "        \n",
    "    def __call__(self):\n",
    "        return perf_counter() - self.start"
   ],
   "metadata": {
    "collapsed": false,
    "ExecuteTime": {
     "end_time": "2024-03-07T13:18:14.044209Z",
     "start_time": "2024-03-07T13:18:14.039762Z"
    }
   },
   "id": "4e7f860f15d946ff",
   "execution_count": 347
  },
  {
   "cell_type": "code",
   "outputs": [],
   "source": [
    "t1 = Timer()"
   ],
   "metadata": {
    "collapsed": false,
    "ExecuteTime": {
     "end_time": "2024-03-07T13:18:14.206759Z",
     "start_time": "2024-03-07T13:18:14.203940Z"
    }
   },
   "id": "84db8279ebad7482",
   "execution_count": 348
  },
  {
   "cell_type": "code",
   "outputs": [
    {
     "data": {
      "text/plain": "5.491522195003199"
     },
     "execution_count": 350,
     "metadata": {},
     "output_type": "execute_result"
    }
   ],
   "source": [
    "t1()"
   ],
   "metadata": {
    "collapsed": false,
    "ExecuteTime": {
     "end_time": "2024-03-07T13:18:19.699918Z",
     "start_time": "2024-03-07T13:18:19.695063Z"
    }
   },
   "id": "b83654031feee59a",
   "execution_count": 350
  },
  {
   "cell_type": "code",
   "outputs": [],
   "source": [
    "def timer():\n",
    "    start = perf_counter()\n",
    "    def inner():\n",
    "        return perf_counter() - start\n",
    "    return inner"
   ],
   "metadata": {
    "collapsed": false,
    "ExecuteTime": {
     "end_time": "2024-03-07T13:19:53.921992Z",
     "start_time": "2024-03-07T13:19:53.918240Z"
    }
   },
   "id": "14415773c609a716",
   "execution_count": 352
  },
  {
   "cell_type": "code",
   "outputs": [],
   "source": [
    "t2 = timer()"
   ],
   "metadata": {
    "collapsed": false,
    "ExecuteTime": {
     "end_time": "2024-03-07T13:19:58.991395Z",
     "start_time": "2024-03-07T13:19:58.988024Z"
    }
   },
   "id": "40cc96386a6fcd6c",
   "execution_count": 353
  },
  {
   "cell_type": "code",
   "outputs": [
    {
     "data": {
      "text/plain": "4.65460143999735"
     },
     "execution_count": 354,
     "metadata": {},
     "output_type": "execute_result"
    }
   ],
   "source": [
    "t2()"
   ],
   "metadata": {
    "collapsed": false,
    "ExecuteTime": {
     "end_time": "2024-03-07T13:20:03.647514Z",
     "start_time": "2024-03-07T13:20:03.642900Z"
    }
   },
   "id": "c5ac9602f851f7e3",
   "execution_count": 354
  },
  {
   "cell_type": "code",
   "outputs": [
    {
     "data": {
      "text/plain": "(<cell at 0x7f3d86f7f310: float object at 0x7f3d8466d7f0>,)"
     },
     "execution_count": 355,
     "metadata": {},
     "output_type": "execute_result"
    }
   ],
   "source": [
    "t2.__closure__"
   ],
   "metadata": {
    "collapsed": false,
    "ExecuteTime": {
     "end_time": "2024-03-07T13:20:53.325828Z",
     "start_time": "2024-03-07T13:20:53.320993Z"
    }
   },
   "id": "de0db7bc89046a75",
   "execution_count": 355
  },
  {
   "cell_type": "code",
   "outputs": [],
   "source": [
    "def counter(initial_value=0):\n",
    "    def inner(increment=1):\n",
    "        nonlocal initial_value\n",
    "        initial_value += increment\n",
    "        return initial_value\n",
    "    return inner"
   ],
   "metadata": {
    "collapsed": false,
    "ExecuteTime": {
     "end_time": "2024-03-07T13:24:27.392324Z",
     "start_time": "2024-03-07T13:24:27.389086Z"
    }
   },
   "id": "147fa2ce64fa71cf",
   "execution_count": 356
  },
  {
   "cell_type": "code",
   "outputs": [
    {
     "data": {
      "text/plain": "1"
     },
     "execution_count": 364,
     "metadata": {},
     "output_type": "execute_result"
    }
   ],
   "source": [
    "counter()()"
   ],
   "metadata": {
    "collapsed": false,
    "ExecuteTime": {
     "end_time": "2024-03-07T13:28:43.257644Z",
     "start_time": "2024-03-07T13:28:43.253002Z"
    }
   },
   "id": "d391f33049d461dc",
   "execution_count": 364
  },
  {
   "cell_type": "code",
   "outputs": [],
   "source": [
    "def counter(fn):\n",
    "    cnt = 0\n",
    "    def inner(*args, **kwargs):\n",
    "        nonlocal cnt\n",
    "        cnt += 1\n",
    "        print(f'{fn.__name__} has been called {cnt} times')\n",
    "        return fn(*args, **kwargs)\n",
    "    return inner"
   ],
   "metadata": {
    "collapsed": false,
    "ExecuteTime": {
     "end_time": "2024-03-07T13:42:10.993472Z",
     "start_time": "2024-03-07T13:42:10.988935Z"
    }
   },
   "id": "2c694c7d123bbbf",
   "execution_count": 384
  },
  {
   "cell_type": "code",
   "outputs": [],
   "source": [
    "def cube(x):\n",
    "    return x ** 3\n",
    "def counter(fn):\n",
    "    counters = dict()\n",
    "    cnt = 0\n",
    "    def inner(*args, **kwargs):\n",
    "        nonlocal cnt\n",
    "        cnt += 1\n",
    "        counters[fn.__name__] = cnt\n",
    "        return fn(*args, **kwargs)\n",
    "    return inner"
   ],
   "metadata": {
    "collapsed": false,
    "ExecuteTime": {
     "end_time": "2024-03-07T13:53:56.739089Z",
     "start_time": "2024-03-07T13:53:56.734627Z"
    }
   },
   "id": "b02994807dff65ef",
   "execution_count": 423
  },
  {
   "cell_type": "code",
   "outputs": [],
   "source": [
    "cube = counter(cube)"
   ],
   "metadata": {
    "collapsed": false,
    "ExecuteTime": {
     "end_time": "2024-03-07T13:53:57.122258Z",
     "start_time": "2024-03-07T13:53:57.118746Z"
    }
   },
   "id": "5120f7e5e2b8496d",
   "execution_count": 424
  },
  {
   "cell_type": "code",
   "outputs": [
    {
     "data": {
      "text/plain": "(27, 64, 125)"
     },
     "execution_count": 425,
     "metadata": {},
     "output_type": "execute_result"
    }
   ],
   "source": [
    "cube(3), cube(4), cube(5)"
   ],
   "metadata": {
    "collapsed": false,
    "ExecuteTime": {
     "end_time": "2024-03-07T13:53:57.383812Z",
     "start_time": "2024-03-07T13:53:57.378267Z"
    }
   },
   "id": "eefd9d0e6e7e1343",
   "execution_count": 425
  },
  {
   "cell_type": "code",
   "outputs": [],
   "source": [
    "def factorial(n):\n",
    "    product = 1\n",
    "    for i in range(2, n+1):\n",
    "        product *= i\n",
    "    return product"
   ],
   "metadata": {
    "collapsed": false,
    "ExecuteTime": {
     "end_time": "2024-03-07T13:53:57.907194Z",
     "start_time": "2024-03-07T13:53:57.904224Z"
    }
   },
   "id": "2d941df80057de4a",
   "execution_count": 426
  },
  {
   "cell_type": "code",
   "outputs": [],
   "source": [
    "factorial = counter(factorial)"
   ],
   "metadata": {
    "collapsed": false,
    "ExecuteTime": {
     "end_time": "2024-03-07T13:54:10.605234Z",
     "start_time": "2024-03-07T13:54:10.602555Z"
    }
   },
   "id": "80c9429d2c1c7639",
   "execution_count": 428
  },
  {
   "cell_type": "code",
   "outputs": [
    {
     "data": {
      "text/plain": "(<cell at 0x7f3d8798db40: int object at 0x7f3d99bdf268>,\n <cell at 0x7f3d8798c8e0: dict object at 0x7f3d846f9600>,\n <cell at 0x7f3d8798c760: function object at 0x7f3d8456e0c0>)"
     },
     "execution_count": 429,
     "metadata": {},
     "output_type": "execute_result"
    }
   ],
   "source": [
    "factorial.__closure__"
   ],
   "metadata": {
    "collapsed": false,
    "ExecuteTime": {
     "end_time": "2024-03-07T13:54:11.765784Z",
     "start_time": "2024-03-07T13:54:11.761034Z"
    }
   },
   "id": "e19e297b5bbc5c61",
   "execution_count": 429
  }
 ],
 "metadata": {
  "kernelspec": {
   "display_name": "Python 3",
   "language": "python",
   "name": "python3"
  },
  "language_info": {
   "codemirror_mode": {
    "name": "ipython",
    "version": 2
   },
   "file_extension": ".py",
   "mimetype": "text/x-python",
   "name": "python",
   "nbconvert_exporter": "python",
   "pygments_lexer": "ipython2",
   "version": "2.7.6"
  }
 },
 "nbformat": 4,
 "nbformat_minor": 5
}
