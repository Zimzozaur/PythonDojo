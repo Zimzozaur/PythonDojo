{
 "cells": [
  {
   "metadata": {
    "ExecuteTime": {
     "end_time": "2024-04-24T11:18:00.259957Z",
     "start_time": "2024-04-24T11:18:00.256642Z"
    }
   },
   "cell_type": "code",
   "source": [
    "class X:\n",
    "    def __init__(self, val):\n",
    "        self.val = val\n",
    "    \n",
    "    def __iter__(self):\n",
    "        return (self.val for _ in range(self.val))"
   ],
   "id": "ac0f3c846ceddfa5",
   "outputs": [],
   "execution_count": 26
  },
  {
   "metadata": {
    "ExecuteTime": {
     "end_time": "2024-04-24T11:18:00.605891Z",
     "start_time": "2024-04-24T11:18:00.602576Z"
    }
   },
   "cell_type": "code",
   "source": "x = X(4)",
   "id": "ee15eaca81143796",
   "outputs": [],
   "execution_count": 27
  },
  {
   "metadata": {
    "ExecuteTime": {
     "end_time": "2024-04-24T11:20:57.115665Z",
     "start_time": "2024-04-24T11:20:57.111450Z"
    }
   },
   "cell_type": "code",
   "source": [
    "for _ in x:\n",
    "    print(_)\n",
    "print(x)"
   ],
   "id": "b02901ce8ffc9699",
   "outputs": [
    {
     "name": "stdout",
     "output_type": "stream",
     "text": [
      "4\n",
      "4\n",
      "4\n",
      "4\n",
      "<__main__.X object at 0x7f8fc405c800>\n"
     ]
    }
   ],
   "execution_count": 36
  },
  {
   "metadata": {
    "ExecuteTime": {
     "end_time": "2024-04-24T11:18:02.226116Z",
     "start_time": "2024-04-24T11:18:02.222416Z"
    }
   },
   "cell_type": "code",
   "source": "from collections.abc import Iterable",
   "id": "6ae6323325516557",
   "outputs": [],
   "execution_count": 29
  },
  {
   "metadata": {
    "ExecuteTime": {
     "end_time": "2024-04-24T11:18:02.933916Z",
     "start_time": "2024-04-24T11:18:02.927876Z"
    }
   },
   "cell_type": "code",
   "source": "isinstance(x, Iterable)",
   "id": "507c48da6296ba5d",
   "outputs": [
    {
     "data": {
      "text/plain": [
       "True"
      ]
     },
     "execution_count": 30,
     "metadata": {},
     "output_type": "execute_result"
    }
   ],
   "execution_count": 30
  },
  {
   "metadata": {},
   "cell_type": "code",
   "outputs": [],
   "execution_count": null,
   "source": "",
   "id": "5c08f8a05583072b"
  }
 ],
 "metadata": {
  "kernelspec": {
   "display_name": "Python 3",
   "language": "python",
   "name": "python3"
  },
  "language_info": {
   "codemirror_mode": {
    "name": "ipython",
    "version": 2
   },
   "file_extension": ".py",
   "mimetype": "text/x-python",
   "name": "python",
   "nbconvert_exporter": "python",
   "pygments_lexer": "ipython2",
   "version": "2.7.6"
  }
 },
 "nbformat": 4,
 "nbformat_minor": 5
}
