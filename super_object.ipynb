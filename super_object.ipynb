{
 "cells": [
  {
   "cell_type": "code",
   "id": "initial_id",
   "metadata": {
    "collapsed": true,
    "ExecuteTime": {
     "end_time": "2024-06-11T09:14:42.391794Z",
     "start_time": "2024-06-11T09:14:42.385889Z"
    }
   },
   "source": "super",
   "outputs": [
    {
     "data": {
      "text/plain": [
       "super"
      ]
     },
     "execution_count": 1,
     "metadata": {},
     "output_type": "execute_result"
    }
   ],
   "execution_count": 1
  },
  {
   "metadata": {
    "ExecuteTime": {
     "end_time": "2024-06-11T09:14:52.561443Z",
     "start_time": "2024-06-11T09:14:52.556750Z"
    }
   },
   "cell_type": "code",
   "source": "type(super)",
   "id": "a095ed7576f3d85e",
   "outputs": [
    {
     "data": {
      "text/plain": [
       "type"
      ]
     },
     "execution_count": 4,
     "metadata": {},
     "output_type": "execute_result"
    }
   ],
   "execution_count": 4
  },
  {
   "metadata": {
    "ExecuteTime": {
     "end_time": "2024-06-11T09:14:56.886384Z",
     "start_time": "2024-06-11T09:14:56.879279Z"
    }
   },
   "cell_type": "code",
   "source": "help(super)",
   "id": "c07ecc2216527dc8",
   "outputs": [
    {
     "name": "stdout",
     "output_type": "stream",
     "text": [
      "Help on class super in module builtins:\n",
      "\n",
      "class super(object)\n",
      " |  super() -> same as super(__class__, <first argument>)\n",
      " |  super(type) -> unbound super object\n",
      " |  super(type, obj) -> bound super object; requires isinstance(obj, type)\n",
      " |  super(type, type2) -> bound super object; requires issubclass(type2, type)\n",
      " |  Typical use to call a cooperative superclass method:\n",
      " |  class C(B):\n",
      " |      def meth(self, arg):\n",
      " |          super().meth(arg)\n",
      " |  This works for class methods too:\n",
      " |  class C(B):\n",
      " |      @classmethod\n",
      " |      def cmeth(cls, arg):\n",
      " |          super().cmeth(arg)\n",
      " |\n",
      " |  Methods defined here:\n",
      " |\n",
      " |  __get__(self, instance, owner=None, /)\n",
      " |      Return an attribute of instance, which is of type owner.\n",
      " |\n",
      " |  __getattribute__(self, name, /)\n",
      " |      Return getattr(self, name).\n",
      " |\n",
      " |  __init__(self, /, *args, **kwargs)\n",
      " |      Initialize self.  See help(type(self)) for accurate signature.\n",
      " |\n",
      " |  __repr__(self, /)\n",
      " |      Return repr(self).\n",
      " |\n",
      " |  ----------------------------------------------------------------------\n",
      " |  Static methods defined here:\n",
      " |\n",
      " |  __new__(*args, **kwargs)\n",
      " |      Create and return a new object.  See help(type) for accurate signature.\n",
      " |\n",
      " |  ----------------------------------------------------------------------\n",
      " |  Data descriptors defined here:\n",
      " |\n",
      " |  __self__\n",
      " |      the instance invoking super(); may be None\n",
      " |\n",
      " |  __self_class__\n",
      " |      the type of the instance invoking super(); may be None\n",
      " |\n",
      " |  __thisclass__\n",
      " |      the class invoking super()\n",
      "\n"
     ]
    }
   ],
   "execution_count": 5
  },
  {
   "metadata": {
    "ExecuteTime": {
     "end_time": "2024-06-11T09:16:00.436850Z",
     "start_time": "2024-06-11T09:16:00.431395Z"
    }
   },
   "cell_type": "code",
   "source": "super.__dict__",
   "id": "f05b6787cb1dbef",
   "outputs": [
    {
     "data": {
      "text/plain": [
       "mappingproxy({'__new__': <function super.__new__(*args, **kwargs)>,\n",
       "              '__repr__': <slot wrapper '__repr__' of 'super' objects>,\n",
       "              '__getattribute__': <slot wrapper '__getattribute__' of 'super' objects>,\n",
       "              '__get__': <slot wrapper '__get__' of 'super' objects>,\n",
       "              '__init__': <slot wrapper '__init__' of 'super' objects>,\n",
       "              '__thisclass__': <member '__thisclass__' of 'super' objects>,\n",
       "              '__self__': <member '__self__' of 'super' objects>,\n",
       "              '__self_class__': <member '__self_class__' of 'super' objects>,\n",
       "              '__doc__': 'super() -> same as super(__class__, <first argument>)\\nsuper(type) -> unbound super object\\nsuper(type, obj) -> bound super object; requires isinstance(obj, type)\\nsuper(type, type2) -> bound super object; requires issubclass(type2, type)\\nTypical use to call a cooperative superclass method:\\nclass C(B):\\n    def meth(self, arg):\\n        super().meth(arg)\\nThis works for class methods too:\\nclass C(B):\\n    @classmethod\\n    def cmeth(cls, arg):\\n        super().cmeth(arg)\\n'})"
      ]
     },
     "execution_count": 6,
     "metadata": {},
     "output_type": "execute_result"
    }
   ],
   "execution_count": 6
  },
  {
   "metadata": {
    "ExecuteTime": {
     "end_time": "2024-06-11T09:34:58.427605Z",
     "start_time": "2024-06-11T09:34:58.422596Z"
    }
   },
   "cell_type": "code",
   "source": "issubclass(super, object), issubclass(type, object)",
   "id": "bb8d31e008003cab",
   "outputs": [
    {
     "data": {
      "text/plain": [
       "(True, True)"
      ]
     },
     "execution_count": 11,
     "metadata": {},
     "output_type": "execute_result"
    }
   ],
   "execution_count": 11
  },
  {
   "metadata": {},
   "cell_type": "code",
   "outputs": [],
   "execution_count": null,
   "source": "",
   "id": "9d5c7b9f5463ba97"
  }
 ],
 "metadata": {
  "kernelspec": {
   "display_name": "Python 3",
   "language": "python",
   "name": "python3"
  },
  "language_info": {
   "codemirror_mode": {
    "name": "ipython",
    "version": 2
   },
   "file_extension": ".py",
   "mimetype": "text/x-python",
   "name": "python",
   "nbconvert_exporter": "python",
   "pygments_lexer": "ipython2",
   "version": "2.7.6"
  }
 },
 "nbformat": 4,
 "nbformat_minor": 5
}
