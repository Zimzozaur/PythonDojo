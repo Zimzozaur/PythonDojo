{
 "cells": [
  {
   "cell_type": "code",
   "id": "initial_id",
   "metadata": {
    "collapsed": true,
    "ExecuteTime": {
     "end_time": "2024-08-28T08:38:52.167036Z",
     "start_time": "2024-08-28T08:38:52.113313Z"
    }
   },
   "source": "from pydantic import BaseModel, Field",
   "outputs": [],
   "execution_count": 1
  },
  {
   "metadata": {
    "ExecuteTime": {
     "end_time": "2024-08-28T08:42:25.722195Z",
     "start_time": "2024-08-28T08:42:25.717375Z"
    }
   },
   "cell_type": "code",
   "source": [
    "class Model(BaseModel):\n",
    "    code: str = Field(min_length=2, max_length=5)"
   ],
   "id": "3985ea6e5031b8cf",
   "outputs": [],
   "execution_count": 13
  },
  {
   "metadata": {
    "ExecuteTime": {
     "end_time": "2024-08-28T08:42:26.092248Z",
     "start_time": "2024-08-28T08:42:26.089407Z"
    }
   },
   "cell_type": "code",
   "source": "from typing import Annotated",
   "id": "ad24c4b8015c27c5",
   "outputs": [],
   "execution_count": 14
  },
  {
   "metadata": {
    "ExecuteTime": {
     "end_time": "2024-08-28T08:42:26.297774Z",
     "start_time": "2024-08-28T08:42:26.294517Z"
    }
   },
   "cell_type": "code",
   "source": "from pydantic import StringConstraints",
   "id": "449b8db851e12bf",
   "outputs": [],
   "execution_count": 15
  },
  {
   "metadata": {
    "ExecuteTime": {
     "end_time": "2024-08-28T08:43:08.698317Z",
     "start_time": "2024-08-28T08:43:08.695280Z"
    }
   },
   "cell_type": "code",
   "source": [
    "StandardString = Annotated[\n",
    "    str,\n",
    "    StringConstraints(\n",
    "        to_lower=True, min_length=2, max_length=5, strip_whitespace=True\n",
    "    )\n",
    "]"
   ],
   "id": "7e266bcb42e6a309",
   "outputs": [],
   "execution_count": 21
  },
  {
   "metadata": {
    "ExecuteTime": {
     "end_time": "2024-08-28T08:43:09.028195Z",
     "start_time": "2024-08-28T08:43:09.022350Z"
    }
   },
   "cell_type": "code",
   "source": [
    "class Model(BaseModel):\n",
    "    code: StandardString | None = None"
   ],
   "id": "649806f235ee9d01",
   "outputs": [],
   "execution_count": 22
  },
  {
   "metadata": {
    "ExecuteTime": {
     "end_time": "2024-08-28T08:43:09.328963Z",
     "start_time": "2024-08-28T08:43:09.324259Z"
    }
   },
   "cell_type": "code",
   "source": "Model()",
   "id": "2696c36ab32d69c3",
   "outputs": [
    {
     "data": {
      "text/plain": [
       "Model(code=None)"
      ]
     },
     "execution_count": 23,
     "metadata": {},
     "output_type": "execute_result"
    }
   ],
   "execution_count": 23
  },
  {
   "metadata": {
    "ExecuteTime": {
     "end_time": "2024-08-28T08:43:09.666299Z",
     "start_time": "2024-08-28T08:43:09.659549Z"
    }
   },
   "cell_type": "code",
   "source": "Model(code=\"         ABC        \")",
   "id": "6e6c005502cf542d",
   "outputs": [
    {
     "data": {
      "text/plain": [
       "Model(code='abc')"
      ]
     },
     "execution_count": 24,
     "metadata": {},
     "output_type": "execute_result"
    }
   ],
   "execution_count": 24
  },
  {
   "metadata": {
    "ExecuteTime": {
     "end_time": "2024-08-28T08:43:39.077295Z",
     "start_time": "2024-08-28T08:43:39.048613Z"
    }
   },
   "cell_type": "code",
   "source": "Model(code=\"    a    \")",
   "id": "3038c512048a1a56",
   "outputs": [
    {
     "ename": "ValidationError",
     "evalue": "1 validation error for Model\ncode\n  String should have at least 2 characters [type=string_too_short, input_value='    a    ', input_type=str]\n    For further information visit https://errors.pydantic.dev/2.8/v/string_too_short",
     "output_type": "error",
     "traceback": [
      "\u001B[0;31m---------------------------------------------------------------------------\u001B[0m",
      "\u001B[0;31mValidationError\u001B[0m                           Traceback (most recent call last)",
      "Cell \u001B[0;32mIn[25], line 1\u001B[0m\n\u001B[0;32m----> 1\u001B[0m \u001B[43mModel\u001B[49m\u001B[43m(\u001B[49m\u001B[43mcode\u001B[49m\u001B[38;5;241;43m=\u001B[39;49m\u001B[38;5;124;43m\"\u001B[39;49m\u001B[38;5;124;43m    a    \u001B[39;49m\u001B[38;5;124;43m\"\u001B[39;49m\u001B[43m)\u001B[49m\n",
      "File \u001B[0;32m~/a-code/PythonDojo/venv/lib/python3.12/site-packages/pydantic/main.py:193\u001B[0m, in \u001B[0;36mBaseModel.__init__\u001B[0;34m(self, **data)\u001B[0m\n\u001B[1;32m    191\u001B[0m \u001B[38;5;66;03m# `__tracebackhide__` tells pytest and some other tools to omit this function from tracebacks\u001B[39;00m\n\u001B[1;32m    192\u001B[0m __tracebackhide__ \u001B[38;5;241m=\u001B[39m \u001B[38;5;28;01mTrue\u001B[39;00m\n\u001B[0;32m--> 193\u001B[0m \u001B[38;5;28;43mself\u001B[39;49m\u001B[38;5;241;43m.\u001B[39;49m\u001B[43m__pydantic_validator__\u001B[49m\u001B[38;5;241;43m.\u001B[39;49m\u001B[43mvalidate_python\u001B[49m\u001B[43m(\u001B[49m\u001B[43mdata\u001B[49m\u001B[43m,\u001B[49m\u001B[43m \u001B[49m\u001B[43mself_instance\u001B[49m\u001B[38;5;241;43m=\u001B[39;49m\u001B[38;5;28;43mself\u001B[39;49m\u001B[43m)\u001B[49m\n",
      "\u001B[0;31mValidationError\u001B[0m: 1 validation error for Model\ncode\n  String should have at least 2 characters [type=string_too_short, input_value='    a    ', input_type=str]\n    For further information visit https://errors.pydantic.dev/2.8/v/string_too_short"
     ]
    }
   ],
   "execution_count": 25
  },
  {
   "metadata": {},
   "cell_type": "code",
   "outputs": [],
   "execution_count": null,
   "source": "",
   "id": "d6461d5b0d9eec5b"
  }
 ],
 "metadata": {
  "kernelspec": {
   "display_name": "Python 3",
   "language": "python",
   "name": "python3"
  },
  "language_info": {
   "codemirror_mode": {
    "name": "ipython",
    "version": 2
   },
   "file_extension": ".py",
   "mimetype": "text/x-python",
   "name": "python",
   "nbconvert_exporter": "python",
   "pygments_lexer": "ipython2",
   "version": "2.7.6"
  }
 },
 "nbformat": 4,
 "nbformat_minor": 5
}
