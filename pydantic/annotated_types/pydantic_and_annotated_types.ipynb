{
 "cells": [
  {
   "cell_type": "code",
   "id": "initial_id",
   "metadata": {
    "collapsed": true,
    "ExecuteTime": {
     "end_time": "2024-08-26T11:11:09.034569Z",
     "start_time": "2024-08-26T11:11:09.030322Z"
    }
   },
   "source": "from typing import Annotated",
   "outputs": [],
   "execution_count": 1
  },
  {
   "metadata": {
    "ExecuteTime": {
     "end_time": "2024-08-26T11:11:53.331104Z",
     "start_time": "2024-08-26T11:11:53.327025Z"
    }
   },
   "cell_type": "code",
   "source": "SpecialInt = Annotated[int, \"metadata 1\", (1, 2, 3), 100]",
   "id": "7b576c5c4f68fb62",
   "outputs": [],
   "execution_count": 2
  },
  {
   "metadata": {
    "ExecuteTime": {
     "end_time": "2024-08-26T11:12:01.717868Z",
     "start_time": "2024-08-26T11:12:01.715366Z"
    }
   },
   "cell_type": "code",
   "source": "from typing import get_args",
   "id": "9ff0d21801c81e20",
   "outputs": [],
   "execution_count": 3
  },
  {
   "metadata": {
    "ExecuteTime": {
     "end_time": "2024-08-26T11:12:10.342409Z",
     "start_time": "2024-08-26T11:12:10.334762Z"
    }
   },
   "cell_type": "code",
   "source": "get_args(SpecialInt)",
   "id": "f9cd89883b355865",
   "outputs": [
    {
     "data": {
      "text/plain": [
       "(int, 'metadata 1', (1, 2, 3), 100)"
      ]
     },
     "execution_count": 4,
     "metadata": {},
     "output_type": "execute_result"
    }
   ],
   "execution_count": 4
  },
  {
   "metadata": {
    "ExecuteTime": {
     "end_time": "2024-08-26T11:16:51.916221Z",
     "start_time": "2024-08-26T11:16:51.852320Z"
    }
   },
   "cell_type": "code",
   "source": "from pydantic import BaseModel, Field",
   "id": "df7883c6ee637ec",
   "outputs": [],
   "execution_count": 6
  },
  {
   "metadata": {
    "ExecuteTime": {
     "end_time": "2024-08-26T11:17:40.277274Z",
     "start_time": "2024-08-26T11:17:40.226168Z"
    }
   },
   "cell_type": "code",
   "source": [
    "class Model(BaseModel):\n",
    "    x: int = Field(gt=0, lt=100) \n",
    "    y: int = Field(gt=0, lt=100)\n",
    "    z: int = Field(gt=0, lt=100)"
   ],
   "id": "8c35ca0b9d25bd3a",
   "outputs": [],
   "execution_count": 7
  },
  {
   "metadata": {
    "ExecuteTime": {
     "end_time": "2024-08-26T11:17:48.937683Z",
     "start_time": "2024-08-26T11:17:48.927962Z"
    }
   },
   "cell_type": "code",
   "source": "Model.model_fields",
   "id": "8e394ec89a8fe521",
   "outputs": [
    {
     "data": {
      "text/plain": [
       "{'x': FieldInfo(annotation=int, required=True, metadata=[Gt(gt=0), Lt(lt=100)]),\n",
       " 'y': FieldInfo(annotation=int, required=True, metadata=[Gt(gt=0), Lt(lt=100)]),\n",
       " 'z': FieldInfo(annotation=int, required=True, metadata=[Gt(gt=0), Lt(lt=100)])}"
      ]
     },
     "execution_count": 8,
     "metadata": {},
     "output_type": "execute_result"
    }
   ],
   "execution_count": 8
  },
  {
   "metadata": {
    "ExecuteTime": {
     "end_time": "2024-08-26T11:18:45.806792Z",
     "start_time": "2024-08-26T11:18:45.803674Z"
    }
   },
   "cell_type": "code",
   "source": "BoundedInt = Annotated[int, Field(gt=0, lt=100)]",
   "id": "ccd900ec664e54af",
   "outputs": [],
   "execution_count": 9
  },
  {
   "metadata": {
    "ExecuteTime": {
     "end_time": "2024-08-26T11:19:25.563870Z",
     "start_time": "2024-08-26T11:19:25.560201Z"
    }
   },
   "cell_type": "code",
   "source": [
    "class Model(BaseModel): \n",
    "    x: BoundedInt\n",
    "    y: BoundedInt\n",
    "    z: BoundedInt"
   ],
   "id": "ea85198a4a997167",
   "outputs": [],
   "execution_count": 10
  },
  {
   "metadata": {
    "ExecuteTime": {
     "end_time": "2024-08-26T11:19:36.187504Z",
     "start_time": "2024-08-26T11:19:36.182784Z"
    }
   },
   "cell_type": "code",
   "source": "Model.model_fields",
   "id": "5e8946223bc2291b",
   "outputs": [
    {
     "data": {
      "text/plain": [
       "{'x': FieldInfo(annotation=int, required=True, metadata=[Gt(gt=0), Lt(lt=100)]),\n",
       " 'y': FieldInfo(annotation=int, required=True, metadata=[Gt(gt=0), Lt(lt=100)]),\n",
       " 'z': FieldInfo(annotation=int, required=True, metadata=[Gt(gt=0), Lt(lt=100)])}"
      ]
     },
     "execution_count": 11,
     "metadata": {},
     "output_type": "execute_result"
    }
   ],
   "execution_count": 11
  },
  {
   "metadata": {
    "ExecuteTime": {
     "end_time": "2024-08-26T11:21:46.193474Z",
     "start_time": "2024-08-26T11:21:46.094876Z"
    }
   },
   "cell_type": "code",
   "source": "Model(x=0, y=10, z=103)",
   "id": "8b19816cbeee367d",
   "outputs": [
    {
     "ename": "ValidationError",
     "evalue": "2 validation errors for Model\nx\n  Input should be greater than 0 [type=greater_than, input_value=0, input_type=int]\n    For further information visit https://errors.pydantic.dev/2.8/v/greater_than\nz\n  Input should be less than 100 [type=less_than, input_value=103, input_type=int]\n    For further information visit https://errors.pydantic.dev/2.8/v/less_than",
     "output_type": "error",
     "traceback": [
      "\u001B[0;31m---------------------------------------------------------------------------\u001B[0m",
      "\u001B[0;31mValidationError\u001B[0m                           Traceback (most recent call last)",
      "Cell \u001B[0;32mIn[12], line 1\u001B[0m\n\u001B[0;32m----> 1\u001B[0m \u001B[43mModel\u001B[49m\u001B[43m(\u001B[49m\u001B[43mx\u001B[49m\u001B[38;5;241;43m=\u001B[39;49m\u001B[38;5;241;43m0\u001B[39;49m\u001B[43m,\u001B[49m\u001B[43m \u001B[49m\u001B[43my\u001B[49m\u001B[38;5;241;43m=\u001B[39;49m\u001B[38;5;241;43m10\u001B[39;49m\u001B[43m,\u001B[49m\u001B[43m \u001B[49m\u001B[43mz\u001B[49m\u001B[38;5;241;43m=\u001B[39;49m\u001B[38;5;241;43m103\u001B[39;49m\u001B[43m)\u001B[49m\n",
      "File \u001B[0;32m~/a-code/PythonDojo/venv/lib/python3.12/site-packages/pydantic/main.py:193\u001B[0m, in \u001B[0;36mBaseModel.__init__\u001B[0;34m(self, **data)\u001B[0m\n\u001B[1;32m    191\u001B[0m \u001B[38;5;66;03m# `__tracebackhide__` tells pytest and some other tools to omit this function from tracebacks\u001B[39;00m\n\u001B[1;32m    192\u001B[0m __tracebackhide__ \u001B[38;5;241m=\u001B[39m \u001B[38;5;28;01mTrue\u001B[39;00m\n\u001B[0;32m--> 193\u001B[0m \u001B[38;5;28;43mself\u001B[39;49m\u001B[38;5;241;43m.\u001B[39;49m\u001B[43m__pydantic_validator__\u001B[49m\u001B[38;5;241;43m.\u001B[39;49m\u001B[43mvalidate_python\u001B[49m\u001B[43m(\u001B[49m\u001B[43mdata\u001B[49m\u001B[43m,\u001B[49m\u001B[43m \u001B[49m\u001B[43mself_instance\u001B[49m\u001B[38;5;241;43m=\u001B[39;49m\u001B[38;5;28;43mself\u001B[39;49m\u001B[43m)\u001B[49m\n",
      "\u001B[0;31mValidationError\u001B[0m: 2 validation errors for Model\nx\n  Input should be greater than 0 [type=greater_than, input_value=0, input_type=int]\n    For further information visit https://errors.pydantic.dev/2.8/v/greater_than\nz\n  Input should be less than 100 [type=less_than, input_value=103, input_type=int]\n    For further information visit https://errors.pydantic.dev/2.8/v/less_than"
     ]
    }
   ],
   "execution_count": 12
  },
  {
   "metadata": {
    "ExecuteTime": {
     "end_time": "2024-08-26T11:23:32.842372Z",
     "start_time": "2024-08-26T11:23:32.835583Z"
    }
   },
   "cell_type": "code",
   "source": [
    "class Model(BaseModel):\n",
    "    field_1: Annotated[int, Field(gt=0)] = 0\n",
    "    field_2: Annotated[str, Field(min_length=1, max_length=10)] | None = None"
   ],
   "id": "a39bc0c573de666b",
   "outputs": [],
   "execution_count": 13
  },
  {
   "metadata": {
    "ExecuteTime": {
     "end_time": "2024-08-26T11:24:25.806595Z",
     "start_time": "2024-08-26T11:24:25.785108Z"
    }
   },
   "cell_type": "code",
   "source": "Model(field_1=-10, field_2='Python' * 3)",
   "id": "a82451028a465961",
   "outputs": [
    {
     "ename": "ValidationError",
     "evalue": "2 validation errors for Model\nfield_1\n  Input should be greater than 0 [type=greater_than, input_value=-10, input_type=int]\n    For further information visit https://errors.pydantic.dev/2.8/v/greater_than\nfield_2\n  String should have at most 10 characters [type=string_too_long, input_value='PythonPythonPython', input_type=str]\n    For further information visit https://errors.pydantic.dev/2.8/v/string_too_long",
     "output_type": "error",
     "traceback": [
      "\u001B[0;31m---------------------------------------------------------------------------\u001B[0m",
      "\u001B[0;31mValidationError\u001B[0m                           Traceback (most recent call last)",
      "Cell \u001B[0;32mIn[14], line 1\u001B[0m\n\u001B[0;32m----> 1\u001B[0m \u001B[43mModel\u001B[49m\u001B[43m(\u001B[49m\u001B[43mfield_1\u001B[49m\u001B[38;5;241;43m=\u001B[39;49m\u001B[38;5;241;43m-\u001B[39;49m\u001B[38;5;241;43m10\u001B[39;49m\u001B[43m,\u001B[49m\u001B[43m \u001B[49m\u001B[43mfield_2\u001B[49m\u001B[38;5;241;43m=\u001B[39;49m\u001B[38;5;124;43m'\u001B[39;49m\u001B[38;5;124;43mPython\u001B[39;49m\u001B[38;5;124;43m'\u001B[39;49m\u001B[43m \u001B[49m\u001B[38;5;241;43m*\u001B[39;49m\u001B[43m \u001B[49m\u001B[38;5;241;43m3\u001B[39;49m\u001B[43m)\u001B[49m\n",
      "File \u001B[0;32m~/a-code/PythonDojo/venv/lib/python3.12/site-packages/pydantic/main.py:193\u001B[0m, in \u001B[0;36mBaseModel.__init__\u001B[0;34m(self, **data)\u001B[0m\n\u001B[1;32m    191\u001B[0m \u001B[38;5;66;03m# `__tracebackhide__` tells pytest and some other tools to omit this function from tracebacks\u001B[39;00m\n\u001B[1;32m    192\u001B[0m __tracebackhide__ \u001B[38;5;241m=\u001B[39m \u001B[38;5;28;01mTrue\u001B[39;00m\n\u001B[0;32m--> 193\u001B[0m \u001B[38;5;28;43mself\u001B[39;49m\u001B[38;5;241;43m.\u001B[39;49m\u001B[43m__pydantic_validator__\u001B[49m\u001B[38;5;241;43m.\u001B[39;49m\u001B[43mvalidate_python\u001B[49m\u001B[43m(\u001B[49m\u001B[43mdata\u001B[49m\u001B[43m,\u001B[49m\u001B[43m \u001B[49m\u001B[43mself_instance\u001B[49m\u001B[38;5;241;43m=\u001B[39;49m\u001B[38;5;28;43mself\u001B[39;49m\u001B[43m)\u001B[49m\n",
      "\u001B[0;31mValidationError\u001B[0m: 2 validation errors for Model\nfield_1\n  Input should be greater than 0 [type=greater_than, input_value=-10, input_type=int]\n    For further information visit https://errors.pydantic.dev/2.8/v/greater_than\nfield_2\n  String should have at most 10 characters [type=string_too_long, input_value='PythonPythonPython', input_type=str]\n    For further information visit https://errors.pydantic.dev/2.8/v/string_too_long"
     ]
    }
   ],
   "execution_count": 14
  },
  {
   "metadata": {},
   "cell_type": "code",
   "outputs": [],
   "execution_count": null,
   "source": "",
   "id": "5b24f001142ba49f"
  }
 ],
 "metadata": {
  "kernelspec": {
   "display_name": "Python 3",
   "language": "python",
   "name": "python3"
  },
  "language_info": {
   "codemirror_mode": {
    "name": "ipython",
    "version": 2
   },
   "file_extension": ".py",
   "mimetype": "text/x-python",
   "name": "python",
   "nbconvert_exporter": "python",
   "pygments_lexer": "ipython2",
   "version": "2.7.6"
  }
 },
 "nbformat": 4,
 "nbformat_minor": 5
}
