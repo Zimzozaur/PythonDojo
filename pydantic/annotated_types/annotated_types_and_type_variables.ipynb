{
 "cells": [
  {
   "cell_type": "code",
   "id": "initial_id",
   "metadata": {
    "collapsed": true,
    "ExecuteTime": {
     "end_time": "2024-08-28T08:13:06.359147Z",
     "start_time": "2024-08-28T08:13:06.248461Z"
    }
   },
   "source": [
    "from typing import Annotated\n",
    "\n",
    "from pydantic import BaseModel, Field"
   ],
   "outputs": [],
   "execution_count": 1
  },
  {
   "metadata": {
    "ExecuteTime": {
     "end_time": "2024-08-28T08:13:45.113856Z",
     "start_time": "2024-08-28T08:13:45.029832Z"
    }
   },
   "cell_type": "code",
   "source": [
    "class Model(BaseModel):\n",
    "    elements: list[int] = Field(default=[], max_length=10)"
   ],
   "id": "c6541325252add3e",
   "outputs": [],
   "execution_count": 2
  },
  {
   "metadata": {
    "ExecuteTime": {
     "end_time": "2024-08-28T08:13:51.652698Z",
     "start_time": "2024-08-28T08:13:51.650345Z"
    }
   },
   "cell_type": "code",
   "source": "m = Model(elements=[1, 2, 3])",
   "id": "c99a52455bd76b1e",
   "outputs": [],
   "execution_count": 3
  },
  {
   "metadata": {
    "ExecuteTime": {
     "end_time": "2024-08-28T08:14:07.111134Z",
     "start_time": "2024-08-28T08:14:06.836178Z"
    }
   },
   "cell_type": "code",
   "source": "Model(elements=[1, ] * 20)",
   "id": "c4ff65177c388e07",
   "outputs": [
    {
     "ename": "ValidationError",
     "evalue": "1 validation error for Model\nelements\n  List should have at most 10 items after validation, not 20 [type=too_long, input_value=[1, 1, 1, 1, 1, 1, 1, 1, ... 1, 1, 1, 1, 1, 1, 1, 1], input_type=list]\n    For further information visit https://errors.pydantic.dev/2.8/v/too_long",
     "output_type": "error",
     "traceback": [
      "\u001B[0;31m---------------------------------------------------------------------------\u001B[0m",
      "\u001B[0;31mValidationError\u001B[0m                           Traceback (most recent call last)",
      "Cell \u001B[0;32mIn[4], line 1\u001B[0m\n\u001B[0;32m----> 1\u001B[0m \u001B[43mModel\u001B[49m\u001B[43m(\u001B[49m\u001B[43melements\u001B[49m\u001B[38;5;241;43m=\u001B[39;49m\u001B[43m[\u001B[49m\u001B[38;5;241;43m1\u001B[39;49m\u001B[43m,\u001B[49m\u001B[43m \u001B[49m\u001B[43m]\u001B[49m\u001B[43m \u001B[49m\u001B[38;5;241;43m*\u001B[39;49m\u001B[43m \u001B[49m\u001B[38;5;241;43m20\u001B[39;49m\u001B[43m)\u001B[49m\n",
      "File \u001B[0;32m~/a-code/PythonDojo/venv/lib/python3.12/site-packages/pydantic/main.py:193\u001B[0m, in \u001B[0;36mBaseModel.__init__\u001B[0;34m(self, **data)\u001B[0m\n\u001B[1;32m    191\u001B[0m \u001B[38;5;66;03m# `__tracebackhide__` tells pytest and some other tools to omit this function from tracebacks\u001B[39;00m\n\u001B[1;32m    192\u001B[0m __tracebackhide__ \u001B[38;5;241m=\u001B[39m \u001B[38;5;28;01mTrue\u001B[39;00m\n\u001B[0;32m--> 193\u001B[0m \u001B[38;5;28;43mself\u001B[39;49m\u001B[38;5;241;43m.\u001B[39;49m\u001B[43m__pydantic_validator__\u001B[49m\u001B[38;5;241;43m.\u001B[39;49m\u001B[43mvalidate_python\u001B[49m\u001B[43m(\u001B[49m\u001B[43mdata\u001B[49m\u001B[43m,\u001B[49m\u001B[43m \u001B[49m\u001B[43mself_instance\u001B[49m\u001B[38;5;241;43m=\u001B[39;49m\u001B[38;5;28;43mself\u001B[39;49m\u001B[43m)\u001B[49m\n",
      "\u001B[0;31mValidationError\u001B[0m: 1 validation error for Model\nelements\n  List should have at most 10 items after validation, not 20 [type=too_long, input_value=[1, 1, 1, 1, 1, 1, 1, 1, ... 1, 1, 1, 1, 1, 1, 1, 1], input_type=list]\n    For further information visit https://errors.pydantic.dev/2.8/v/too_long"
     ]
    }
   ],
   "execution_count": 4
  },
  {
   "metadata": {
    "ExecuteTime": {
     "end_time": "2024-08-28T08:15:19.150342Z",
     "start_time": "2024-08-28T08:15:19.147792Z"
    }
   },
   "cell_type": "code",
   "source": "BoundedListInt = Annotated[list[int], Field(max_length=10)]",
   "id": "aa27d7ee758df7aa",
   "outputs": [],
   "execution_count": 5
  },
  {
   "metadata": {
    "ExecuteTime": {
     "end_time": "2024-08-28T08:16:47.789846Z",
     "start_time": "2024-08-28T08:16:47.784037Z"
    }
   },
   "cell_type": "code",
   "source": "BoundedListInt",
   "id": "15db7d3b0766ebaf",
   "outputs": [
    {
     "data": {
      "text/plain": [
       "typing.Annotated[list[int], FieldInfo(annotation=NoneType, required=True, metadata=[MaxLen(max_length=10)])]"
      ]
     },
     "execution_count": 6,
     "metadata": {},
     "output_type": "execute_result"
    }
   ],
   "execution_count": 6
  },
  {
   "metadata": {
    "ExecuteTime": {
     "end_time": "2024-08-28T08:17:17.700908Z",
     "start_time": "2024-08-28T08:17:17.696071Z"
    }
   },
   "cell_type": "code",
   "source": "BoundedListInt.__metadata__",
   "id": "6f5209f2056545b9",
   "outputs": [
    {
     "data": {
      "text/plain": [
       "(FieldInfo(annotation=NoneType, required=True, metadata=[MaxLen(max_length=10)]),)"
      ]
     },
     "execution_count": 8,
     "metadata": {},
     "output_type": "execute_result"
    }
   ],
   "execution_count": 8
  },
  {
   "metadata": {
    "ExecuteTime": {
     "end_time": "2024-08-28T08:18:18.835613Z",
     "start_time": "2024-08-28T08:18:18.831574Z"
    }
   },
   "cell_type": "code",
   "source": [
    "class Model(BaseModel):\n",
    "    field_1: BoundedListInt = []\n",
    "    field_2: BoundedListInt = []"
   ],
   "id": "f0176d31867831de",
   "outputs": [],
   "execution_count": 9
  },
  {
   "metadata": {
    "ExecuteTime": {
     "end_time": "2024-08-28T08:18:40.565572Z",
     "start_time": "2024-08-28T08:18:40.562211Z"
    }
   },
   "cell_type": "code",
   "source": "BoundedListFloat = Annotated[list[float], Field(max_length=10)]",
   "id": "7b2f2deea7aadc44",
   "outputs": [],
   "execution_count": 10
  },
  {
   "metadata": {
    "ExecuteTime": {
     "end_time": "2024-08-28T08:18:56.176152Z",
     "start_time": "2024-08-28T08:18:56.173404Z"
    }
   },
   "cell_type": "code",
   "source": "BoundedListStr = Annotated[list[str], Field(max_length=10)]",
   "id": "28bdfbdb8fc25045",
   "outputs": [],
   "execution_count": 11
  },
  {
   "metadata": {
    "ExecuteTime": {
     "end_time": "2024-08-28T08:20:25.775642Z",
     "start_time": "2024-08-28T08:20:25.772062Z"
    }
   },
   "cell_type": "code",
   "source": [
    "from typing import Any\n",
    "\n",
    "BoundedList = Annotated[list[Any], Field(max_length=10)]"
   ],
   "id": "b9a59805d8d46124",
   "outputs": [],
   "execution_count": 12
  },
  {
   "metadata": {
    "ExecuteTime": {
     "end_time": "2024-08-28T08:23:03.371835Z",
     "start_time": "2024-08-28T08:23:03.368297Z"
    }
   },
   "cell_type": "code",
   "source": [
    "def bounded_list(type_: Any):\n",
    "    return Annotated[list[type_], Field(max_length=10)]"
   ],
   "id": "cb4cf630aa4a8948",
   "outputs": [],
   "execution_count": 24
  },
  {
   "metadata": {
    "ExecuteTime": {
     "end_time": "2024-08-28T08:23:11.747459Z",
     "start_time": "2024-08-28T08:23:11.745143Z"
    }
   },
   "cell_type": "code",
   "source": "from typing import TypeVar",
   "id": "5ac5af1b6670a54d",
   "outputs": [],
   "execution_count": 25
  },
  {
   "metadata": {
    "ExecuteTime": {
     "end_time": "2024-08-28T08:23:27.534490Z",
     "start_time": "2024-08-28T08:23:27.531833Z"
    }
   },
   "cell_type": "code",
   "source": "T = TypeVar(\"T\")",
   "id": "dfa3b90f9d34b003",
   "outputs": [],
   "execution_count": 26
  },
  {
   "metadata": {
    "ExecuteTime": {
     "end_time": "2024-08-28T08:24:00.186010Z",
     "start_time": "2024-08-28T08:24:00.183604Z"
    }
   },
   "cell_type": "code",
   "source": "BoundedList = Annotated[list[T], Field(max_length=10)]",
   "id": "18743f5f29ca6392",
   "outputs": [],
   "execution_count": 27
  },
  {
   "metadata": {
    "ExecuteTime": {
     "end_time": "2024-08-28T08:35:05.069240Z",
     "start_time": "2024-08-28T08:35:05.064550Z"
    }
   },
   "cell_type": "code",
   "source": "BoundedList[int]",
   "id": "a1012662cdd34c92",
   "outputs": [
    {
     "data": {
      "text/plain": [
       "typing.Annotated[list[int], FieldInfo(annotation=NoneType, required=True, metadata=[MaxLen(max_length=10)])]"
      ]
     },
     "execution_count": 29,
     "metadata": {},
     "output_type": "execute_result"
    }
   ],
   "execution_count": 29
  },
  {
   "metadata": {
    "ExecuteTime": {
     "end_time": "2024-08-28T08:35:16.182496Z",
     "start_time": "2024-08-28T08:35:16.177933Z"
    }
   },
   "cell_type": "code",
   "source": "BoundedList[str]",
   "id": "80a82e53fef8fdf1",
   "outputs": [
    {
     "data": {
      "text/plain": [
       "typing.Annotated[list[str], FieldInfo(annotation=NoneType, required=True, metadata=[MaxLen(max_length=10)])]"
      ]
     },
     "execution_count": 30,
     "metadata": {},
     "output_type": "execute_result"
    }
   ],
   "execution_count": 30
  },
  {
   "metadata": {
    "ExecuteTime": {
     "end_time": "2024-08-28T08:36:15.198610Z",
     "start_time": "2024-08-28T08:36:15.192443Z"
    }
   },
   "cell_type": "code",
   "source": [
    "class Model(BaseModel):\n",
    "    integers: BoundedList[int] = [1, 2, 3]\n",
    "    strings: BoundedList[str] = list(\"python\")"
   ],
   "id": "5009d13b80414792",
   "outputs": [],
   "execution_count": 33
  },
  {
   "metadata": {
    "ExecuteTime": {
     "end_time": "2024-08-28T08:36:15.624234Z",
     "start_time": "2024-08-28T08:36:15.620775Z"
    }
   },
   "cell_type": "code",
   "source": "Model()",
   "id": "afd669747f2095b6",
   "outputs": [
    {
     "data": {
      "text/plain": [
       "Model(integers=[1, 2, 3], strings=['p', 'y', 't', 'h', 'o', 'n'])"
      ]
     },
     "execution_count": 34,
     "metadata": {},
     "output_type": "execute_result"
    }
   ],
   "execution_count": 34
  },
  {
   "metadata": {
    "ExecuteTime": {
     "end_time": "2024-08-28T08:37:01.487058Z",
     "start_time": "2024-08-28T08:37:01.482162Z"
    }
   },
   "cell_type": "code",
   "source": "Model(integers=[1.0, 2.0], strings=[\"abc\"])",
   "id": "190d1ef103569331",
   "outputs": [
    {
     "data": {
      "text/plain": [
       "Model(integers=[1, 2], strings=['abc'])"
      ]
     },
     "execution_count": 36,
     "metadata": {},
     "output_type": "execute_result"
    }
   ],
   "execution_count": 36
  },
  {
   "metadata": {
    "ExecuteTime": {
     "end_time": "2024-08-28T08:37:13.565598Z",
     "start_time": "2024-08-28T08:37:13.548687Z"
    }
   },
   "cell_type": "code",
   "source": "Model(integers=[0.5])",
   "id": "4f2dedda10ae988a",
   "outputs": [
    {
     "ename": "ValidationError",
     "evalue": "1 validation error for Model\nintegers.0\n  Input should be a valid integer, got a number with a fractional part [type=int_from_float, input_value=0.5, input_type=float]\n    For further information visit https://errors.pydantic.dev/2.8/v/int_from_float",
     "output_type": "error",
     "traceback": [
      "\u001B[0;31m---------------------------------------------------------------------------\u001B[0m",
      "\u001B[0;31mValidationError\u001B[0m                           Traceback (most recent call last)",
      "Cell \u001B[0;32mIn[37], line 1\u001B[0m\n\u001B[0;32m----> 1\u001B[0m \u001B[43mModel\u001B[49m\u001B[43m(\u001B[49m\u001B[43mintegers\u001B[49m\u001B[38;5;241;43m=\u001B[39;49m\u001B[43m[\u001B[49m\u001B[38;5;241;43m0.5\u001B[39;49m\u001B[43m]\u001B[49m\u001B[43m)\u001B[49m\n",
      "File \u001B[0;32m~/a-code/PythonDojo/venv/lib/python3.12/site-packages/pydantic/main.py:193\u001B[0m, in \u001B[0;36mBaseModel.__init__\u001B[0;34m(self, **data)\u001B[0m\n\u001B[1;32m    191\u001B[0m \u001B[38;5;66;03m# `__tracebackhide__` tells pytest and some other tools to omit this function from tracebacks\u001B[39;00m\n\u001B[1;32m    192\u001B[0m __tracebackhide__ \u001B[38;5;241m=\u001B[39m \u001B[38;5;28;01mTrue\u001B[39;00m\n\u001B[0;32m--> 193\u001B[0m \u001B[38;5;28;43mself\u001B[39;49m\u001B[38;5;241;43m.\u001B[39;49m\u001B[43m__pydantic_validator__\u001B[49m\u001B[38;5;241;43m.\u001B[39;49m\u001B[43mvalidate_python\u001B[49m\u001B[43m(\u001B[49m\u001B[43mdata\u001B[49m\u001B[43m,\u001B[49m\u001B[43m \u001B[49m\u001B[43mself_instance\u001B[49m\u001B[38;5;241;43m=\u001B[39;49m\u001B[38;5;28;43mself\u001B[39;49m\u001B[43m)\u001B[49m\n",
      "\u001B[0;31mValidationError\u001B[0m: 1 validation error for Model\nintegers.0\n  Input should be a valid integer, got a number with a fractional part [type=int_from_float, input_value=0.5, input_type=float]\n    For further information visit https://errors.pydantic.dev/2.8/v/int_from_float"
     ]
    }
   ],
   "execution_count": 37
  },
  {
   "metadata": {},
   "cell_type": "code",
   "outputs": [],
   "execution_count": null,
   "source": "",
   "id": "b0b57643cbb13bc4"
  }
 ],
 "metadata": {
  "kernelspec": {
   "display_name": "Python 3",
   "language": "python",
   "name": "python3"
  },
  "language_info": {
   "codemirror_mode": {
    "name": "ipython",
    "version": 2
   },
   "file_extension": ".py",
   "mimetype": "text/x-python",
   "name": "python",
   "nbconvert_exporter": "python",
   "pygments_lexer": "ipython2",
   "version": "2.7.6"
  }
 },
 "nbformat": 4,
 "nbformat_minor": 5
}
