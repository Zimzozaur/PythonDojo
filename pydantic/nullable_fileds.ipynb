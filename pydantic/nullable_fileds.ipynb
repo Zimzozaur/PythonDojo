{
 "cells": [
  {
   "cell_type": "code",
   "id": "initial_id",
   "metadata": {
    "collapsed": true,
    "ExecuteTime": {
     "end_time": "2024-08-01T13:22:50.258124Z",
     "start_time": "2024-08-01T13:22:50.224605Z"
    }
   },
   "source": "from pydantic import BaseModel, ValidationError",
   "outputs": [],
   "execution_count": 1
  },
  {
   "metadata": {
    "ExecuteTime": {
     "end_time": "2024-08-01T13:23:03.458915Z",
     "start_time": "2024-08-01T13:23:03.395138Z"
    }
   },
   "cell_type": "code",
   "source": [
    "class Model(BaseModel):\n",
    "    field: int"
   ],
   "id": "208c2b5cf3912550",
   "outputs": [],
   "execution_count": 2
  },
  {
   "metadata": {
    "ExecuteTime": {
     "end_time": "2024-08-01T13:23:32.045240Z",
     "start_time": "2024-08-01T13:23:32.041724Z"
    }
   },
   "cell_type": "code",
   "source": [
    "try:\n",
    "    Model(field=None)\n",
    "except ValidationError as ex:\n",
    "    print(ex)"
   ],
   "id": "547b9398c10ccdf4",
   "outputs": [
    {
     "name": "stdout",
     "output_type": "stream",
     "text": [
      "1 validation error for Model\n",
      "field\n",
      "  Input should be a valid integer [type=int_type, input_value=None, input_type=NoneType]\n",
      "    For further information visit https://errors.pydantic.dev/2.8/v/int_type\n"
     ]
    }
   ],
   "execution_count": 3
  },
  {
   "metadata": {
    "ExecuteTime": {
     "end_time": "2024-08-01T13:24:03.659984Z",
     "start_time": "2024-08-01T13:24:03.656332Z"
    }
   },
   "cell_type": "code",
   "source": [
    "try:\n",
    "    Model()\n",
    "except ValidationError as ex:\n",
    "    print(ex)"
   ],
   "id": "357c09afa5698ed6",
   "outputs": [
    {
     "name": "stdout",
     "output_type": "stream",
     "text": [
      "1 validation error for Model\n",
      "field\n",
      "  Field required [type=missing, input_value={}, input_type=dict]\n",
      "    For further information visit https://errors.pydantic.dev/2.8/v/missing\n"
     ]
    }
   ],
   "execution_count": 4
  },
  {
   "metadata": {
    "ExecuteTime": {
     "end_time": "2024-08-01T13:24:43.619692Z",
     "start_time": "2024-08-01T13:24:43.615739Z"
    }
   },
   "cell_type": "code",
   "source": [
    "class Model(BaseModel):\n",
    "    field: int | None"
   ],
   "id": "c189d58e72548d73",
   "outputs": [],
   "execution_count": 5
  },
  {
   "metadata": {
    "ExecuteTime": {
     "end_time": "2024-08-01T13:24:48.842411Z",
     "start_time": "2024-08-01T13:24:48.834745Z"
    }
   },
   "cell_type": "code",
   "source": "Model(field=None)",
   "id": "ce259da12e4bf663",
   "outputs": [
    {
     "data": {
      "text/plain": [
       "Model(field=None)"
      ]
     },
     "execution_count": 6,
     "metadata": {},
     "output_type": "execute_result"
    }
   ],
   "execution_count": 6
  },
  {
   "metadata": {
    "ExecuteTime": {
     "end_time": "2024-08-01T13:25:18.641446Z",
     "start_time": "2024-08-01T13:25:18.635978Z"
    }
   },
   "cell_type": "code",
   "source": "Model(field='1')",
   "id": "14cb22ed571a6c80",
   "outputs": [
    {
     "data": {
      "text/plain": [
       "Model(field=1)"
      ]
     },
     "execution_count": 7,
     "metadata": {},
     "output_type": "execute_result"
    }
   ],
   "execution_count": 7
  },
  {
   "metadata": {
    "ExecuteTime": {
     "end_time": "2024-08-01T13:25:46.248209Z",
     "start_time": "2024-08-01T13:25:46.244852Z"
    }
   },
   "cell_type": "code",
   "source": [
    "try:\n",
    "    Model()\n",
    "except ValidationError as ex:\n",
    "    print(ex)"
   ],
   "id": "f0e89734e35b0454",
   "outputs": [
    {
     "name": "stdout",
     "output_type": "stream",
     "text": [
      "1 validation error for Model\n",
      "field\n",
      "  Field required [type=missing, input_value={}, input_type=dict]\n",
      "    For further information visit https://errors.pydantic.dev/2.8/v/missing\n"
     ]
    }
   ],
   "execution_count": 8
  },
  {
   "metadata": {
    "ExecuteTime": {
     "end_time": "2024-08-01T13:26:21.737493Z",
     "start_time": "2024-08-01T13:26:21.732508Z"
    }
   },
   "cell_type": "code",
   "source": [
    "class Model(BaseModel):\n",
    "    field: int | None = None"
   ],
   "id": "46c6a337fa210ee4",
   "outputs": [],
   "execution_count": 9
  },
  {
   "metadata": {
    "ExecuteTime": {
     "end_time": "2024-08-01T13:26:41.171758Z",
     "start_time": "2024-08-01T13:26:41.166156Z"
    }
   },
   "cell_type": "code",
   "source": "Model(), Model(field=None), Model(field=1)",
   "id": "7a42f040548e8ff2",
   "outputs": [
    {
     "data": {
      "text/plain": [
       "(Model(field=None), Model(field=None), Model(field=1))"
      ]
     },
     "execution_count": 11,
     "metadata": {},
     "output_type": "execute_result"
    }
   ],
   "execution_count": 11
  },
  {
   "metadata": {
    "ExecuteTime": {
     "end_time": "2024-08-01T13:26:51.170630Z",
     "start_time": "2024-08-01T13:26:51.166247Z"
    }
   },
   "cell_type": "code",
   "source": [
    "class Model(BaseModel):\n",
    "    field: int | None = 10"
   ],
   "id": "e51d5f00e47254d0",
   "outputs": [],
   "execution_count": 12
  },
  {
   "metadata": {
    "ExecuteTime": {
     "end_time": "2024-08-01T13:26:56.224994Z",
     "start_time": "2024-08-01T13:26:56.220154Z"
    }
   },
   "cell_type": "code",
   "source": "Model()",
   "id": "1eba9daa54d308eb",
   "outputs": [
    {
     "data": {
      "text/plain": [
       "Model(field=10)"
      ]
     },
     "execution_count": 14,
     "metadata": {},
     "output_type": "execute_result"
    }
   ],
   "execution_count": 14
  },
  {
   "metadata": {
    "ExecuteTime": {
     "end_time": "2024-08-01T13:31:38.288274Z",
     "start_time": "2024-08-01T13:31:38.283213Z"
    }
   },
   "cell_type": "code",
   "source": [
    "from typing import Union\n",
    "\n",
    "class Model(BaseModel):\n",
    "    field: Union[int, None] = None"
   ],
   "id": "10693949d27c1ba4",
   "outputs": [],
   "execution_count": 15
  },
  {
   "metadata": {
    "ExecuteTime": {
     "end_time": "2024-08-01T13:31:43.728128Z",
     "start_time": "2024-08-01T13:31:43.723846Z"
    }
   },
   "cell_type": "code",
   "source": "Model.model_fields",
   "id": "e0033615b8b53faf",
   "outputs": [
    {
     "data": {
      "text/plain": [
       "{'field': FieldInfo(annotation=Union[int, NoneType], required=False, default=None)}"
      ]
     },
     "execution_count": 16,
     "metadata": {},
     "output_type": "execute_result"
    }
   ],
   "execution_count": 16
  },
  {
   "metadata": {
    "ExecuteTime": {
     "end_time": "2024-08-01T13:32:23.477626Z",
     "start_time": "2024-08-01T13:32:23.472684Z"
    }
   },
   "cell_type": "code",
   "source": [
    "from typing import Optional\n",
    "\n",
    "class Model(BaseModel):\n",
    "    field: Optional[int]"
   ],
   "id": "dce31f76f74f3c83",
   "outputs": [],
   "execution_count": 17
  },
  {
   "metadata": {
    "ExecuteTime": {
     "end_time": "2024-08-01T13:32:27.255252Z",
     "start_time": "2024-08-01T13:32:27.249904Z"
    }
   },
   "cell_type": "code",
   "source": "Model.model_fields",
   "id": "ed9373c0ff479716",
   "outputs": [
    {
     "data": {
      "text/plain": [
       "{'field': FieldInfo(annotation=Union[int, NoneType], required=True)}"
      ]
     },
     "execution_count": 18,
     "metadata": {},
     "output_type": "execute_result"
    }
   ],
   "execution_count": 18
  },
  {
   "metadata": {
    "ExecuteTime": {
     "end_time": "2024-08-01T13:33:41.539266Z",
     "start_time": "2024-08-01T13:33:41.534537Z"
    }
   },
   "cell_type": "code",
   "source": [
    "class Model(BaseModel):\n",
    "    field: int | None = None"
   ],
   "id": "55b08b49ddf3078a",
   "outputs": [],
   "execution_count": 19
  },
  {
   "metadata": {
    "ExecuteTime": {
     "end_time": "2024-08-01T13:33:49.251141Z",
     "start_time": "2024-08-01T13:33:49.246574Z"
    }
   },
   "cell_type": "code",
   "source": "Model.model_fields",
   "id": "2ec6e9c0c93065f2",
   "outputs": [
    {
     "data": {
      "text/plain": [
       "{'field': FieldInfo(annotation=Union[int, NoneType], required=False, default=None)}"
      ]
     },
     "execution_count": 20,
     "metadata": {},
     "output_type": "execute_result"
    }
   ],
   "execution_count": 20
  },
  {
   "metadata": {
    "ExecuteTime": {
     "end_time": "2024-08-01T13:34:54.762056Z",
     "start_time": "2024-08-01T13:34:54.755555Z"
    }
   },
   "cell_type": "code",
   "source": [
    "class Model(BaseModel):\n",
    "    field_1: int | None\n",
    "    field_2: Union[int, None]\n",
    "    field_3: Optional[int]"
   ],
   "id": "ed585848682f50be",
   "outputs": [],
   "execution_count": 21
  },
  {
   "metadata": {
    "ExecuteTime": {
     "end_time": "2024-08-01T13:35:02.647603Z",
     "start_time": "2024-08-01T13:35:02.644134Z"
    }
   },
   "cell_type": "code",
   "source": "Model.model_fields",
   "id": "bd362cc97d65ee71",
   "outputs": [
    {
     "data": {
      "text/plain": [
       "{'field_1': FieldInfo(annotation=Union[int, NoneType], required=True),\n",
       " 'field_2': FieldInfo(annotation=Union[int, NoneType], required=True),\n",
       " 'field_3': FieldInfo(annotation=Union[int, NoneType], required=True)}"
      ]
     },
     "execution_count": 22,
     "metadata": {},
     "output_type": "execute_result"
    }
   ],
   "execution_count": 22
  },
  {
   "metadata": {
    "ExecuteTime": {
     "end_time": "2024-08-01T13:36:11.735931Z",
     "start_time": "2024-08-01T13:36:11.731362Z"
    }
   },
   "cell_type": "code",
   "source": [
    "class Model(BaseModel):\n",
    "    field: int | None = None"
   ],
   "id": "12eee1ede1235fdd",
   "outputs": [],
   "execution_count": 23
  },
  {
   "metadata": {
    "ExecuteTime": {
     "end_time": "2024-08-01T13:36:13.851283Z",
     "start_time": "2024-08-01T13:36:13.846616Z"
    }
   },
   "cell_type": "code",
   "source": "Model()",
   "id": "ffa32e1f7de652f9",
   "outputs": [
    {
     "data": {
      "text/plain": [
       "Model(field=None)"
      ]
     },
     "execution_count": 24,
     "metadata": {},
     "output_type": "execute_result"
    }
   ],
   "execution_count": 24
  },
  {
   "metadata": {},
   "cell_type": "code",
   "outputs": [],
   "execution_count": null,
   "source": "Model",
   "id": "efb32ba5f2aaa1d5"
  }
 ],
 "metadata": {
  "kernelspec": {
   "display_name": "Python 3",
   "language": "python",
   "name": "python3"
  },
  "language_info": {
   "codemirror_mode": {
    "name": "ipython",
    "version": 2
   },
   "file_extension": ".py",
   "mimetype": "text/x-python",
   "name": "python",
   "nbconvert_exporter": "python",
   "pygments_lexer": "ipython2",
   "version": "2.7.6"
  }
 },
 "nbformat": 4,
 "nbformat_minor": 5
}
