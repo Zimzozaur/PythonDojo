{
 "cells": [
  {
   "cell_type": "code",
   "id": "initial_id",
   "metadata": {
    "collapsed": true,
    "ExecuteTime": {
     "end_time": "2024-08-12T10:27:03.589523Z",
     "start_time": "2024-08-12T10:27:03.585831Z"
    }
   },
   "source": [
    "response_json = \"\"\"\n",
    "{\n",
    "    \"ID\": 100,\n",
    "    \"FirstName\": \"Isaac\",\n",
    "    \"lastname\": \"Newton\"\n",
    "}\n",
    "\"\"\""
   ],
   "outputs": [],
   "execution_count": 3
  },
  {
   "metadata": {
    "ExecuteTime": {
     "end_time": "2024-08-12T10:33:44.480168Z",
     "start_time": "2024-08-12T10:33:44.476893Z"
    }
   },
   "cell_type": "code",
   "source": "from pydantic import BaseModel, ConfigDict, Field",
   "id": "760b1b8745720e1",
   "outputs": [],
   "execution_count": 28
  },
  {
   "metadata": {
    "ExecuteTime": {
     "end_time": "2024-08-12T10:33:44.721501Z",
     "start_time": "2024-08-12T10:33:44.715819Z"
    }
   },
   "cell_type": "code",
   "source": [
    "class Person(BaseModel):\n",
    "    id_: int = Field(alias='ID')\n",
    "    first_name: str = Field(alias='FirstName')\n",
    "    last_name: str = Field(alias='lastname')"
   ],
   "id": "fb72013b1dd0092",
   "outputs": [],
   "execution_count": 29
  },
  {
   "metadata": {
    "ExecuteTime": {
     "end_time": "2024-08-12T10:33:44.946623Z",
     "start_time": "2024-08-12T10:33:44.940922Z"
    }
   },
   "cell_type": "code",
   "source": [
    "p = Person.model_validate_json(response_json)\n",
    "p"
   ],
   "id": "9c4eb90da7d954ec",
   "outputs": [
    {
     "data": {
      "text/plain": [
       "Person(id_=100, first_name='Isaac', last_name='Newton')"
      ]
     },
     "execution_count": 30,
     "metadata": {},
     "output_type": "execute_result"
    }
   ],
   "execution_count": 30
  },
  {
   "metadata": {
    "ExecuteTime": {
     "end_time": "2024-08-12T10:33:45.195516Z",
     "start_time": "2024-08-12T10:33:45.190267Z"
    }
   },
   "cell_type": "code",
   "source": "p.model_dump_json(by_alias=True)",
   "id": "4140589d6b42f484",
   "outputs": [
    {
     "data": {
      "text/plain": [
       "'{\"ID\":100,\"FirstName\":\"Isaac\",\"lastname\":\"Newton\"}'"
      ]
     },
     "execution_count": 31,
     "metadata": {},
     "output_type": "execute_result"
    }
   ],
   "execution_count": 31
  },
  {
   "metadata": {
    "ExecuteTime": {
     "end_time": "2024-08-12T10:34:27.112042Z",
     "start_time": "2024-08-12T10:34:27.108312Z"
    }
   },
   "cell_type": "code",
   "source": [
    "class Person(BaseModel):\n",
    "    id_: int = Field(alias='ID', serialization_alias='id')\n",
    "    first_name: str = Field(alias='FirstName', serialization_alias='firstName')\n",
    "    last_name: str = Field(alias='lastname', serialization_alias='lastName')"
   ],
   "id": "e3d4d2265ce6a1a4",
   "outputs": [],
   "execution_count": 44
  },
  {
   "metadata": {
    "ExecuteTime": {
     "end_time": "2024-08-12T10:34:27.315812Z",
     "start_time": "2024-08-12T10:34:27.309715Z"
    }
   },
   "cell_type": "code",
   "source": [
    "p = Person.model_validate_json(response_json)\n",
    "p"
   ],
   "id": "d2e448824cbaffdf",
   "outputs": [
    {
     "data": {
      "text/plain": [
       "Person(id_=100, first_name='Isaac', last_name='Newton')"
      ]
     },
     "execution_count": 45,
     "metadata": {},
     "output_type": "execute_result"
    }
   ],
   "execution_count": 45
  },
  {
   "metadata": {
    "ExecuteTime": {
     "end_time": "2024-08-12T10:34:27.472506Z",
     "start_time": "2024-08-12T10:34:27.466761Z"
    }
   },
   "cell_type": "code",
   "source": "p.model_dump_json()",
   "id": "d023642c7e9be32a",
   "outputs": [
    {
     "data": {
      "text/plain": [
       "'{\"id_\":100,\"first_name\":\"Isaac\",\"last_name\":\"Newton\"}'"
      ]
     },
     "execution_count": 46,
     "metadata": {},
     "output_type": "execute_result"
    }
   ],
   "execution_count": 46
  },
  {
   "metadata": {
    "ExecuteTime": {
     "end_time": "2024-08-12T10:34:27.644325Z",
     "start_time": "2024-08-12T10:34:27.637696Z"
    }
   },
   "cell_type": "code",
   "source": "p.model_dump_json(by_alias=True)",
   "id": "68607e4b39da71ee",
   "outputs": [
    {
     "data": {
      "text/plain": [
       "'{\"id\":100,\"firstName\":\"Isaac\",\"lastName\":\"Newton\"}'"
      ]
     },
     "execution_count": 47,
     "metadata": {},
     "output_type": "execute_result"
    }
   ],
   "execution_count": 47
  },
  {
   "metadata": {
    "ExecuteTime": {
     "end_time": "2024-08-12T10:34:43.416414Z",
     "start_time": "2024-08-12T10:34:43.411679Z"
    }
   },
   "cell_type": "code",
   "source": "Person.model_fields",
   "id": "103ccfceda54a8e6",
   "outputs": [
    {
     "data": {
      "text/plain": [
       "{'id_': FieldInfo(annotation=int, required=True, alias='ID', alias_priority=2, serialization_alias='id'),\n",
       " 'first_name': FieldInfo(annotation=str, required=True, alias='FirstName', alias_priority=2, serialization_alias='firstName'),\n",
       " 'last_name': FieldInfo(annotation=str, required=True, alias='lastname', alias_priority=2, serialization_alias='lastName')}"
      ]
     },
     "execution_count": 48,
     "metadata": {},
     "output_type": "execute_result"
    }
   ],
   "execution_count": 48
  },
  {
   "metadata": {},
   "cell_type": "code",
   "outputs": [],
   "execution_count": null,
   "source": "",
   "id": "33a3a6677218b46f"
  }
 ],
 "metadata": {
  "kernelspec": {
   "display_name": "Python 3",
   "language": "python",
   "name": "python3"
  },
  "language_info": {
   "codemirror_mode": {
    "name": "ipython",
    "version": 2
   },
   "file_extension": ".py",
   "mimetype": "text/x-python",
   "name": "python",
   "nbconvert_exporter": "python",
   "pygments_lexer": "ipython2",
   "version": "2.7.6"
  }
 },
 "nbformat": 4,
 "nbformat_minor": 5
}
