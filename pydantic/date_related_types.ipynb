{
 "cells": [
  {
   "cell_type": "code",
   "id": "initial_id",
   "metadata": {
    "collapsed": true,
    "ExecuteTime": {
     "end_time": "2024-08-26T07:49:26.710294Z",
     "start_time": "2024-08-26T07:49:26.706324Z"
    }
   },
   "source": [
    "import pytz\n",
    "from datetime import datetime, timedelta\n",
    "from pydantic import (\n",
    "    BaseModel,\n",
    "    ConfigDict,\n",
    "    PastDatetime,\n",
    "    AwareDatetime,\n",
    "    NaiveDatetime, \n",
    ")"
   ],
   "outputs": [],
   "execution_count": 12
  },
  {
   "metadata": {
    "ExecuteTime": {
     "end_time": "2024-08-26T07:37:36.192073Z",
     "start_time": "2024-08-26T07:37:36.128452Z"
    }
   },
   "cell_type": "code",
   "source": [
    "class Model(BaseModel):\n",
    "    dt: PastDatetime"
   ],
   "id": "7f739ac1a431bd46",
   "outputs": [],
   "execution_count": 2
  },
  {
   "metadata": {
    "ExecuteTime": {
     "end_time": "2024-08-26T07:38:33.736855Z",
     "start_time": "2024-08-26T07:38:33.732634Z"
    }
   },
   "cell_type": "code",
   "source": "datetime.now()",
   "id": "26deaf8f984fb2e6",
   "outputs": [
    {
     "data": {
      "text/plain": [
       "datetime.datetime(2024, 8, 26, 9, 38, 33, 734057)"
      ]
     },
     "execution_count": 5,
     "metadata": {},
     "output_type": "execute_result"
    }
   ],
   "execution_count": 5
  },
  {
   "metadata": {
    "ExecuteTime": {
     "end_time": "2024-08-26T07:40:24.022421Z",
     "start_time": "2024-08-26T07:40:23.816299Z"
    }
   },
   "cell_type": "code",
   "source": "Model(dt=datetime(2024, 8, 26, 9, 41, 0))",
   "id": "22a2019dec6135ba",
   "outputs": [
    {
     "ename": "ValidationError",
     "evalue": "1 validation error for Model\ndt\n  Input should be in the past [type=datetime_past, input_value=datetime.datetime(2024, 8, 26, 9, 41), input_type=datetime]\n    For further information visit https://errors.pydantic.dev/2.8/v/datetime_past",
     "output_type": "error",
     "traceback": [
      "\u001B[0;31m---------------------------------------------------------------------------\u001B[0m",
      "\u001B[0;31mValidationError\u001B[0m                           Traceback (most recent call last)",
      "Cell \u001B[0;32mIn[7], line 1\u001B[0m\n\u001B[0;32m----> 1\u001B[0m \u001B[43mModel\u001B[49m\u001B[43m(\u001B[49m\u001B[43mdt\u001B[49m\u001B[38;5;241;43m=\u001B[39;49m\u001B[43mdatetime\u001B[49m\u001B[43m(\u001B[49m\u001B[38;5;241;43m2024\u001B[39;49m\u001B[43m,\u001B[49m\u001B[43m \u001B[49m\u001B[38;5;241;43m8\u001B[39;49m\u001B[43m,\u001B[49m\u001B[43m \u001B[49m\u001B[38;5;241;43m26\u001B[39;49m\u001B[43m,\u001B[49m\u001B[43m \u001B[49m\u001B[38;5;241;43m9\u001B[39;49m\u001B[43m,\u001B[49m\u001B[43m \u001B[49m\u001B[38;5;241;43m41\u001B[39;49m\u001B[43m,\u001B[49m\u001B[43m \u001B[49m\u001B[38;5;241;43m0\u001B[39;49m\u001B[43m)\u001B[49m\u001B[43m)\u001B[49m\n",
      "File \u001B[0;32m~/a-code/PythonDojo/venv/lib/python3.12/site-packages/pydantic/main.py:193\u001B[0m, in \u001B[0;36mBaseModel.__init__\u001B[0;34m(self, **data)\u001B[0m\n\u001B[1;32m    191\u001B[0m \u001B[38;5;66;03m# `__tracebackhide__` tells pytest and some other tools to omit this function from tracebacks\u001B[39;00m\n\u001B[1;32m    192\u001B[0m __tracebackhide__ \u001B[38;5;241m=\u001B[39m \u001B[38;5;28;01mTrue\u001B[39;00m\n\u001B[0;32m--> 193\u001B[0m \u001B[38;5;28;43mself\u001B[39;49m\u001B[38;5;241;43m.\u001B[39;49m\u001B[43m__pydantic_validator__\u001B[49m\u001B[38;5;241;43m.\u001B[39;49m\u001B[43mvalidate_python\u001B[49m\u001B[43m(\u001B[49m\u001B[43mdata\u001B[49m\u001B[43m,\u001B[49m\u001B[43m \u001B[49m\u001B[43mself_instance\u001B[49m\u001B[38;5;241;43m=\u001B[39;49m\u001B[38;5;28;43mself\u001B[39;49m\u001B[43m)\u001B[49m\n",
      "\u001B[0;31mValidationError\u001B[0m: 1 validation error for Model\ndt\n  Input should be in the past [type=datetime_past, input_value=datetime.datetime(2024, 8, 26, 9, 41), input_type=datetime]\n    For further information visit https://errors.pydantic.dev/2.8/v/datetime_past"
     ]
    }
   ],
   "execution_count": 7
  },
  {
   "metadata": {
    "ExecuteTime": {
     "end_time": "2024-08-26T07:45:35.294999Z",
     "start_time": "2024-08-26T07:45:35.291239Z"
    }
   },
   "cell_type": "code",
   "source": [
    "class Model(BaseModel):\n",
    "    dt: NaiveDatetime"
   ],
   "id": "1a944a6152467f64",
   "outputs": [],
   "execution_count": 8
  },
  {
   "metadata": {
    "ExecuteTime": {
     "end_time": "2024-08-26T07:49:29.456640Z",
     "start_time": "2024-08-26T07:49:29.452656Z"
    }
   },
   "cell_type": "code",
   "source": "local_one_hour_ago = datetime.now() - timedelta(hours=1)",
   "id": "606b4dc8943218d8",
   "outputs": [],
   "execution_count": 13
  },
  {
   "metadata": {
    "ExecuteTime": {
     "end_time": "2024-08-26T07:49:42.895248Z",
     "start_time": "2024-08-26T07:49:42.890220Z"
    }
   },
   "cell_type": "code",
   "source": "local_one_hour_ago",
   "id": "58673e911c74d742",
   "outputs": [
    {
     "data": {
      "text/plain": [
       "datetime.datetime(2024, 8, 26, 8, 49, 29, 454376)"
      ]
     },
     "execution_count": 14,
     "metadata": {},
     "output_type": "execute_result"
    }
   ],
   "execution_count": 14
  },
  {
   "metadata": {
    "ExecuteTime": {
     "end_time": "2024-08-26T07:53:25.494734Z",
     "start_time": "2024-08-26T07:53:25.492012Z"
    }
   },
   "cell_type": "code",
   "source": "utc_one_hour_ago = local_one_hour_ago.astimezone(pytz.utc)",
   "id": "43aeed0b09345fd3",
   "outputs": [],
   "execution_count": 25
  },
  {
   "metadata": {
    "ExecuteTime": {
     "end_time": "2024-08-26T07:53:26.995662Z",
     "start_time": "2024-08-26T07:53:26.990131Z"
    }
   },
   "cell_type": "code",
   "source": "utc_one_hour_ago",
   "id": "16a2a5b9980956b2",
   "outputs": [
    {
     "data": {
      "text/plain": [
       "datetime.datetime(2024, 8, 26, 6, 49, 29, 454376, tzinfo=<UTC>)"
      ]
     },
     "execution_count": 26,
     "metadata": {},
     "output_type": "execute_result"
    }
   ],
   "execution_count": 26
  },
  {
   "metadata": {
    "ExecuteTime": {
     "end_time": "2024-08-26T07:53:18.530092Z",
     "start_time": "2024-08-26T07:53:18.525309Z"
    }
   },
   "cell_type": "code",
   "source": "Model(dt=local_one_hour_ago)",
   "id": "9ffde5c4642b7f7c",
   "outputs": [
    {
     "data": {
      "text/plain": [
       "Model(dt=datetime.datetime(2024, 8, 26, 8, 49, 29, 454376))"
      ]
     },
     "execution_count": 23,
     "metadata": {},
     "output_type": "execute_result"
    }
   ],
   "execution_count": 23
  },
  {
   "metadata": {
    "ExecuteTime": {
     "end_time": "2024-08-26T07:53:18.946141Z",
     "start_time": "2024-08-26T07:53:18.914394Z"
    }
   },
   "cell_type": "code",
   "source": "Model(dt=utc_one_hour_ago)",
   "id": "a22cdca8267dd5ef",
   "outputs": [
    {
     "ename": "ValidationError",
     "evalue": "1 validation error for Model\ndt\n  Input should not have timezone info [type=timezone_naive, input_value=datetime.datetime(2024, 8...9, 454376, tzinfo=<UTC>), input_type=datetime]\n    For further information visit https://errors.pydantic.dev/2.8/v/timezone_naive",
     "output_type": "error",
     "traceback": [
      "\u001B[0;31m---------------------------------------------------------------------------\u001B[0m",
      "\u001B[0;31mValidationError\u001B[0m                           Traceback (most recent call last)",
      "Cell \u001B[0;32mIn[24], line 1\u001B[0m\n\u001B[0;32m----> 1\u001B[0m \u001B[43mModel\u001B[49m\u001B[43m(\u001B[49m\u001B[43mdt\u001B[49m\u001B[38;5;241;43m=\u001B[39;49m\u001B[43mutc_one_hour_ago\u001B[49m\u001B[43m)\u001B[49m\n",
      "File \u001B[0;32m~/a-code/PythonDojo/venv/lib/python3.12/site-packages/pydantic/main.py:193\u001B[0m, in \u001B[0;36mBaseModel.__init__\u001B[0;34m(self, **data)\u001B[0m\n\u001B[1;32m    191\u001B[0m \u001B[38;5;66;03m# `__tracebackhide__` tells pytest and some other tools to omit this function from tracebacks\u001B[39;00m\n\u001B[1;32m    192\u001B[0m __tracebackhide__ \u001B[38;5;241m=\u001B[39m \u001B[38;5;28;01mTrue\u001B[39;00m\n\u001B[0;32m--> 193\u001B[0m \u001B[38;5;28;43mself\u001B[39;49m\u001B[38;5;241;43m.\u001B[39;49m\u001B[43m__pydantic_validator__\u001B[49m\u001B[38;5;241;43m.\u001B[39;49m\u001B[43mvalidate_python\u001B[49m\u001B[43m(\u001B[49m\u001B[43mdata\u001B[49m\u001B[43m,\u001B[49m\u001B[43m \u001B[49m\u001B[43mself_instance\u001B[49m\u001B[38;5;241;43m=\u001B[39;49m\u001B[38;5;28;43mself\u001B[39;49m\u001B[43m)\u001B[49m\n",
      "\u001B[0;31mValidationError\u001B[0m: 1 validation error for Model\ndt\n  Input should not have timezone info [type=timezone_naive, input_value=datetime.datetime(2024, 8...9, 454376, tzinfo=<UTC>), input_type=datetime]\n    For further information visit https://errors.pydantic.dev/2.8/v/timezone_naive"
     ]
    }
   ],
   "execution_count": 24
  },
  {
   "metadata": {
    "ExecuteTime": {
     "end_time": "2024-08-26T08:02:30.367816Z",
     "start_time": "2024-08-26T08:02:30.363941Z"
    }
   },
   "cell_type": "code",
   "source": [
    "class Model(BaseModel):\n",
    "    dt: AwareDatetime"
   ],
   "id": "2d9453cb59a4f7ac",
   "outputs": [],
   "execution_count": 30
  },
  {
   "metadata": {
    "ExecuteTime": {
     "end_time": "2024-08-26T08:02:37.870689Z",
     "start_time": "2024-08-26T08:02:37.867638Z"
    }
   },
   "cell_type": "code",
   "source": "Model(dt=utc_one_hour_ago)",
   "id": "7085ad25c9e8445a",
   "outputs": [
    {
     "data": {
      "text/plain": [
       "Model(dt=datetime.datetime(2024, 8, 26, 6, 49, 29, 454376, tzinfo=<UTC>))"
      ]
     },
     "execution_count": 31,
     "metadata": {},
     "output_type": "execute_result"
    }
   ],
   "execution_count": 31
  },
  {
   "metadata": {
    "ExecuteTime": {
     "end_time": "2024-08-26T08:02:41.010107Z",
     "start_time": "2024-08-26T08:02:40.988109Z"
    }
   },
   "cell_type": "code",
   "source": "Model(dt=local_one_hour_ago)",
   "id": "6e9d08875b00d1a0",
   "outputs": [
    {
     "ename": "ValidationError",
     "evalue": "1 validation error for Model\ndt\n  Input should have timezone info [type=timezone_aware, input_value=datetime.datetime(2024, 8, 26, 8, 49, 29, 454376), input_type=datetime]\n    For further information visit https://errors.pydantic.dev/2.8/v/timezone_aware",
     "output_type": "error",
     "traceback": [
      "\u001B[0;31m---------------------------------------------------------------------------\u001B[0m",
      "\u001B[0;31mValidationError\u001B[0m                           Traceback (most recent call last)",
      "Cell \u001B[0;32mIn[32], line 1\u001B[0m\n\u001B[0;32m----> 1\u001B[0m \u001B[43mModel\u001B[49m\u001B[43m(\u001B[49m\u001B[43mdt\u001B[49m\u001B[38;5;241;43m=\u001B[39;49m\u001B[43mlocal_one_hour_ago\u001B[49m\u001B[43m)\u001B[49m\n",
      "File \u001B[0;32m~/a-code/PythonDojo/venv/lib/python3.12/site-packages/pydantic/main.py:193\u001B[0m, in \u001B[0;36mBaseModel.__init__\u001B[0;34m(self, **data)\u001B[0m\n\u001B[1;32m    191\u001B[0m \u001B[38;5;66;03m# `__tracebackhide__` tells pytest and some other tools to omit this function from tracebacks\u001B[39;00m\n\u001B[1;32m    192\u001B[0m __tracebackhide__ \u001B[38;5;241m=\u001B[39m \u001B[38;5;28;01mTrue\u001B[39;00m\n\u001B[0;32m--> 193\u001B[0m \u001B[38;5;28;43mself\u001B[39;49m\u001B[38;5;241;43m.\u001B[39;49m\u001B[43m__pydantic_validator__\u001B[49m\u001B[38;5;241;43m.\u001B[39;49m\u001B[43mvalidate_python\u001B[49m\u001B[43m(\u001B[49m\u001B[43mdata\u001B[49m\u001B[43m,\u001B[49m\u001B[43m \u001B[49m\u001B[43mself_instance\u001B[49m\u001B[38;5;241;43m=\u001B[39;49m\u001B[38;5;28;43mself\u001B[39;49m\u001B[43m)\u001B[49m\n",
      "\u001B[0;31mValidationError\u001B[0m: 1 validation error for Model\ndt\n  Input should have timezone info [type=timezone_aware, input_value=datetime.datetime(2024, 8, 26, 8, 49, 29, 454376), input_type=datetime]\n    For further information visit https://errors.pydantic.dev/2.8/v/timezone_aware"
     ]
    }
   ],
   "execution_count": 32
  },
  {
   "metadata": {},
   "cell_type": "code",
   "outputs": [],
   "execution_count": null,
   "source": "",
   "id": "c91f7579682db47"
  }
 ],
 "metadata": {
  "kernelspec": {
   "display_name": "Python 3",
   "language": "python",
   "name": "python3"
  },
  "language_info": {
   "codemirror_mode": {
    "name": "ipython",
    "version": 2
   },
   "file_extension": ".py",
   "mimetype": "text/x-python",
   "name": "python",
   "nbconvert_exporter": "python",
   "pygments_lexer": "ipython2",
   "version": "2.7.6"
  }
 },
 "nbformat": 4,
 "nbformat_minor": 5
}
