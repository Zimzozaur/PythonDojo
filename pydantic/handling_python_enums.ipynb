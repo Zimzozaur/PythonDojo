{
 "cells": [
  {
   "cell_type": "code",
   "id": "initial_id",
   "metadata": {
    "collapsed": true,
    "ExecuteTime": {
     "end_time": "2024-08-02T10:12:12.204321Z",
     "start_time": "2024-08-02T10:12:12.171083Z"
    }
   },
   "source": "from pydantic import BaseModel, ValidationError, ConfigDict",
   "outputs": [],
   "execution_count": 1
  },
  {
   "metadata": {
    "ExecuteTime": {
     "end_time": "2024-08-02T10:12:17.502286Z",
     "start_time": "2024-08-02T10:12:17.499371Z"
    }
   },
   "cell_type": "code",
   "source": "from enum import Enum",
   "id": "893263a5f7bda685",
   "outputs": [],
   "execution_count": 2
  },
  {
   "metadata": {
    "ExecuteTime": {
     "end_time": "2024-08-02T12:08:31.214151Z",
     "start_time": "2024-08-02T12:08:31.210174Z"
    }
   },
   "cell_type": "code",
   "source": [
    "class Color(Enum):\n",
    "    red = 'Red'\n",
    "    green = 'Green'\n",
    "    blue = 'Blue'\n",
    "    orange = 'Orange'\n",
    "    yellow = 'Yellow'\n",
    "    cyan = 'Cyan'\n",
    "    white = 'White'\n",
    "    black = 'Black'"
   ],
   "id": "d1adad86e17672c4",
   "outputs": [],
   "execution_count": 3
  },
  {
   "metadata": {
    "ExecuteTime": {
     "end_time": "2024-08-02T12:08:35.885429Z",
     "start_time": "2024-08-02T12:08:35.878752Z"
    }
   },
   "cell_type": "code",
   "source": "Color.red",
   "id": "9d91b3b21497d9d5",
   "outputs": [
    {
     "data": {
      "text/plain": [
       "<Color.red: 'Red'>"
      ]
     },
     "execution_count": 4,
     "metadata": {},
     "output_type": "execute_result"
    }
   ],
   "execution_count": 4
  },
  {
   "metadata": {
    "ExecuteTime": {
     "end_time": "2024-08-02T12:08:43.332888Z",
     "start_time": "2024-08-02T12:08:43.329260Z"
    }
   },
   "cell_type": "code",
   "source": "type(Color.red)",
   "id": "f5908bc30ff14d1e",
   "outputs": [
    {
     "data": {
      "text/plain": [
       "<enum 'Color'>"
      ]
     },
     "execution_count": 5,
     "metadata": {},
     "output_type": "execute_result"
    }
   ],
   "execution_count": 5
  },
  {
   "metadata": {
    "ExecuteTime": {
     "end_time": "2024-08-02T12:08:51.755405Z",
     "start_time": "2024-08-02T12:08:51.751479Z"
    }
   },
   "cell_type": "code",
   "source": "Color.red.value",
   "id": "f87b64a691543dcf",
   "outputs": [
    {
     "data": {
      "text/plain": [
       "'Red'"
      ]
     },
     "execution_count": 6,
     "metadata": {},
     "output_type": "execute_result"
    }
   ],
   "execution_count": 6
  },
  {
   "metadata": {
    "ExecuteTime": {
     "end_time": "2024-08-02T12:10:04.766265Z",
     "start_time": "2024-08-02T12:10:04.697986Z"
    }
   },
   "cell_type": "code",
   "source": [
    "class Model(BaseModel):\n",
    "    color: Color"
   ],
   "id": "e24f965a07913a79",
   "outputs": [],
   "execution_count": 7
  },
  {
   "metadata": {
    "ExecuteTime": {
     "end_time": "2024-08-02T12:10:25.997844Z",
     "start_time": "2024-08-02T12:10:25.993679Z"
    }
   },
   "cell_type": "code",
   "source": "m = Model(color=Color.red)",
   "id": "51148377991ec31e",
   "outputs": [],
   "execution_count": 9
  },
  {
   "metadata": {
    "ExecuteTime": {
     "end_time": "2024-08-02T12:10:57.353501Z",
     "start_time": "2024-08-02T12:10:57.349297Z"
    }
   },
   "cell_type": "code",
   "source": "m.color.value",
   "id": "cf0ebb2bdf011dc1",
   "outputs": [
    {
     "data": {
      "text/plain": [
       "'Red'"
      ]
     },
     "execution_count": 15,
     "metadata": {},
     "output_type": "execute_result"
    }
   ],
   "execution_count": 15
  },
  {
   "metadata": {
    "ExecuteTime": {
     "end_time": "2024-08-02T12:12:29.665819Z",
     "start_time": "2024-08-02T12:12:29.663192Z"
    }
   },
   "cell_type": "code",
   "source": [
    "data = \"\"\"\n",
    "{\n",
    "    \"color\": \"Red\"\n",
    "}\n",
    "\"\"\""
   ],
   "id": "4dc0cfe4366965e3",
   "outputs": [],
   "execution_count": 18
  },
  {
   "metadata": {
    "ExecuteTime": {
     "end_time": "2024-08-02T12:12:42.969084Z",
     "start_time": "2024-08-02T12:12:42.966138Z"
    }
   },
   "cell_type": "code",
   "source": "m = Model.model_validate_json(data)",
   "id": "5d153663cf4b74af",
   "outputs": [],
   "execution_count": 20
  },
  {
   "metadata": {
    "ExecuteTime": {
     "end_time": "2024-08-02T12:12:45.119379Z",
     "start_time": "2024-08-02T12:12:45.114029Z"
    }
   },
   "cell_type": "code",
   "source": "m.color",
   "id": "f5df2c76cb526e1b",
   "outputs": [
    {
     "data": {
      "text/plain": [
       "<Color.red: 'Red'>"
      ]
     },
     "execution_count": 21,
     "metadata": {},
     "output_type": "execute_result"
    }
   ],
   "execution_count": 21
  },
  {
   "metadata": {
    "ExecuteTime": {
     "end_time": "2024-08-02T12:13:14.948594Z",
     "start_time": "2024-08-02T12:13:14.946007Z"
    }
   },
   "cell_type": "code",
   "source": [
    "data = \"\"\"\n",
    "{\n",
    "    \"color\": \"Magenta\"\n",
    "}\n",
    "\"\"\""
   ],
   "id": "8ddff54112cf41de",
   "outputs": [],
   "execution_count": 22
  },
  {
   "metadata": {
    "ExecuteTime": {
     "end_time": "2024-08-02T12:13:49.720577Z",
     "start_time": "2024-08-02T12:13:49.716604Z"
    }
   },
   "cell_type": "code",
   "source": [
    "try:\n",
    "    Model.model_validate_json(data)\n",
    "except ValidationError as ex:\n",
    "    print(ex)"
   ],
   "id": "9f6c8b232e5f096a",
   "outputs": [
    {
     "name": "stdout",
     "output_type": "stream",
     "text": [
      "1 validation error for Model\n",
      "color\n",
      "  Input should be 'Red', 'Green', 'Blue', 'Orange', 'Yellow', 'Cyan', 'White' or 'Black' [type=enum, input_value='Magenta', input_type=str]\n",
      "    For further information visit https://errors.pydantic.dev/2.8/v/enum\n"
     ]
    }
   ],
   "execution_count": 25
  },
  {
   "metadata": {
    "ExecuteTime": {
     "end_time": "2024-08-02T12:14:44.833079Z",
     "start_time": "2024-08-02T12:14:44.829943Z"
    }
   },
   "cell_type": "code",
   "source": [
    "data = \"\"\"\n",
    "{\n",
    "    \"color\": \"Red\"\n",
    "}\n",
    "\"\"\"\n",
    "m = Model.model_validate_json(data)"
   ],
   "id": "33cb26533be7d4e",
   "outputs": [],
   "execution_count": 26
  },
  {
   "metadata": {
    "ExecuteTime": {
     "end_time": "2024-08-02T12:14:50.035500Z",
     "start_time": "2024-08-02T12:14:50.029925Z"
    }
   },
   "cell_type": "code",
   "source": "m.model_dump()",
   "id": "cda2eb45650ace21",
   "outputs": [
    {
     "data": {
      "text/plain": [
       "{'color': <Color.red: 'Red'>}"
      ]
     },
     "execution_count": 27,
     "metadata": {},
     "output_type": "execute_result"
    }
   ],
   "execution_count": 27
  },
  {
   "metadata": {
    "ExecuteTime": {
     "end_time": "2024-08-02T12:15:14.186449Z",
     "start_time": "2024-08-02T12:15:14.182250Z"
    }
   },
   "cell_type": "code",
   "source": "m.model_dump_json()",
   "id": "1f277bf78d8afe0b",
   "outputs": [
    {
     "data": {
      "text/plain": [
       "'{\"color\":\"Red\"}'"
      ]
     },
     "execution_count": 28,
     "metadata": {},
     "output_type": "execute_result"
    }
   ],
   "execution_count": 28
  },
  {
   "metadata": {
    "ExecuteTime": {
     "end_time": "2024-08-02T12:17:20.023119Z",
     "start_time": "2024-08-02T12:17:20.020113Z"
    }
   },
   "cell_type": "code",
   "source": "output = m.model_dump()",
   "id": "25e844d817dd91eb",
   "outputs": [],
   "execution_count": 32
  },
  {
   "metadata": {
    "ExecuteTime": {
     "end_time": "2024-08-02T12:17:22.407725Z",
     "start_time": "2024-08-02T12:17:22.402922Z"
    }
   },
   "cell_type": "code",
   "source": "output",
   "id": "d87f869461c6355d",
   "outputs": [
    {
     "data": {
      "text/plain": [
       "{'color': <Color.red: 'Red'>}"
      ]
     },
     "execution_count": 33,
     "metadata": {},
     "output_type": "execute_result"
    }
   ],
   "execution_count": 33
  },
  {
   "metadata": {
    "ExecuteTime": {
     "end_time": "2024-08-02T12:17:32.273649Z",
     "start_time": "2024-08-02T12:17:32.270317Z"
    }
   },
   "cell_type": "code",
   "source": "import json",
   "id": "3444f0d3c5f53ce0",
   "outputs": [],
   "execution_count": 34
  },
  {
   "metadata": {
    "ExecuteTime": {
     "end_time": "2024-08-02T12:17:44.818227Z",
     "start_time": "2024-08-02T12:17:44.717875Z"
    }
   },
   "cell_type": "code",
   "source": "json.dumps(output)",
   "id": "f979ce6c30789b33",
   "outputs": [
    {
     "ename": "TypeError",
     "evalue": "Object of type Color is not JSON serializable",
     "output_type": "error",
     "traceback": [
      "\u001B[0;31m---------------------------------------------------------------------------\u001B[0m",
      "\u001B[0;31mTypeError\u001B[0m                                 Traceback (most recent call last)",
      "Cell \u001B[0;32mIn[35], line 1\u001B[0m\n\u001B[0;32m----> 1\u001B[0m \u001B[43mjson\u001B[49m\u001B[38;5;241;43m.\u001B[39;49m\u001B[43mdumps\u001B[49m\u001B[43m(\u001B[49m\u001B[43moutput\u001B[49m\u001B[43m)\u001B[49m\n",
      "File \u001B[0;32m/usr/lib/python3.12/json/__init__.py:231\u001B[0m, in \u001B[0;36mdumps\u001B[0;34m(obj, skipkeys, ensure_ascii, check_circular, allow_nan, cls, indent, separators, default, sort_keys, **kw)\u001B[0m\n\u001B[1;32m    226\u001B[0m \u001B[38;5;66;03m# cached encoder\u001B[39;00m\n\u001B[1;32m    227\u001B[0m \u001B[38;5;28;01mif\u001B[39;00m (\u001B[38;5;129;01mnot\u001B[39;00m skipkeys \u001B[38;5;129;01mand\u001B[39;00m ensure_ascii \u001B[38;5;129;01mand\u001B[39;00m\n\u001B[1;32m    228\u001B[0m     check_circular \u001B[38;5;129;01mand\u001B[39;00m allow_nan \u001B[38;5;129;01mand\u001B[39;00m\n\u001B[1;32m    229\u001B[0m     \u001B[38;5;28mcls\u001B[39m \u001B[38;5;129;01mis\u001B[39;00m \u001B[38;5;28;01mNone\u001B[39;00m \u001B[38;5;129;01mand\u001B[39;00m indent \u001B[38;5;129;01mis\u001B[39;00m \u001B[38;5;28;01mNone\u001B[39;00m \u001B[38;5;129;01mand\u001B[39;00m separators \u001B[38;5;129;01mis\u001B[39;00m \u001B[38;5;28;01mNone\u001B[39;00m \u001B[38;5;129;01mand\u001B[39;00m\n\u001B[1;32m    230\u001B[0m     default \u001B[38;5;129;01mis\u001B[39;00m \u001B[38;5;28;01mNone\u001B[39;00m \u001B[38;5;129;01mand\u001B[39;00m \u001B[38;5;129;01mnot\u001B[39;00m sort_keys \u001B[38;5;129;01mand\u001B[39;00m \u001B[38;5;129;01mnot\u001B[39;00m kw):\n\u001B[0;32m--> 231\u001B[0m     \u001B[38;5;28;01mreturn\u001B[39;00m \u001B[43m_default_encoder\u001B[49m\u001B[38;5;241;43m.\u001B[39;49m\u001B[43mencode\u001B[49m\u001B[43m(\u001B[49m\u001B[43mobj\u001B[49m\u001B[43m)\u001B[49m\n\u001B[1;32m    232\u001B[0m \u001B[38;5;28;01mif\u001B[39;00m \u001B[38;5;28mcls\u001B[39m \u001B[38;5;129;01mis\u001B[39;00m \u001B[38;5;28;01mNone\u001B[39;00m:\n\u001B[1;32m    233\u001B[0m     \u001B[38;5;28mcls\u001B[39m \u001B[38;5;241m=\u001B[39m JSONEncoder\n",
      "File \u001B[0;32m/usr/lib/python3.12/json/encoder.py:200\u001B[0m, in \u001B[0;36mJSONEncoder.encode\u001B[0;34m(self, o)\u001B[0m\n\u001B[1;32m    196\u001B[0m         \u001B[38;5;28;01mreturn\u001B[39;00m encode_basestring(o)\n\u001B[1;32m    197\u001B[0m \u001B[38;5;66;03m# This doesn't pass the iterator directly to ''.join() because the\u001B[39;00m\n\u001B[1;32m    198\u001B[0m \u001B[38;5;66;03m# exceptions aren't as detailed.  The list call should be roughly\u001B[39;00m\n\u001B[1;32m    199\u001B[0m \u001B[38;5;66;03m# equivalent to the PySequence_Fast that ''.join() would do.\u001B[39;00m\n\u001B[0;32m--> 200\u001B[0m chunks \u001B[38;5;241m=\u001B[39m \u001B[38;5;28;43mself\u001B[39;49m\u001B[38;5;241;43m.\u001B[39;49m\u001B[43miterencode\u001B[49m\u001B[43m(\u001B[49m\u001B[43mo\u001B[49m\u001B[43m,\u001B[49m\u001B[43m \u001B[49m\u001B[43m_one_shot\u001B[49m\u001B[38;5;241;43m=\u001B[39;49m\u001B[38;5;28;43;01mTrue\u001B[39;49;00m\u001B[43m)\u001B[49m\n\u001B[1;32m    201\u001B[0m \u001B[38;5;28;01mif\u001B[39;00m \u001B[38;5;129;01mnot\u001B[39;00m \u001B[38;5;28misinstance\u001B[39m(chunks, (\u001B[38;5;28mlist\u001B[39m, \u001B[38;5;28mtuple\u001B[39m)):\n\u001B[1;32m    202\u001B[0m     chunks \u001B[38;5;241m=\u001B[39m \u001B[38;5;28mlist\u001B[39m(chunks)\n",
      "File \u001B[0;32m/usr/lib/python3.12/json/encoder.py:258\u001B[0m, in \u001B[0;36mJSONEncoder.iterencode\u001B[0;34m(self, o, _one_shot)\u001B[0m\n\u001B[1;32m    253\u001B[0m \u001B[38;5;28;01melse\u001B[39;00m:\n\u001B[1;32m    254\u001B[0m     _iterencode \u001B[38;5;241m=\u001B[39m _make_iterencode(\n\u001B[1;32m    255\u001B[0m         markers, \u001B[38;5;28mself\u001B[39m\u001B[38;5;241m.\u001B[39mdefault, _encoder, \u001B[38;5;28mself\u001B[39m\u001B[38;5;241m.\u001B[39mindent, floatstr,\n\u001B[1;32m    256\u001B[0m         \u001B[38;5;28mself\u001B[39m\u001B[38;5;241m.\u001B[39mkey_separator, \u001B[38;5;28mself\u001B[39m\u001B[38;5;241m.\u001B[39mitem_separator, \u001B[38;5;28mself\u001B[39m\u001B[38;5;241m.\u001B[39msort_keys,\n\u001B[1;32m    257\u001B[0m         \u001B[38;5;28mself\u001B[39m\u001B[38;5;241m.\u001B[39mskipkeys, _one_shot)\n\u001B[0;32m--> 258\u001B[0m \u001B[38;5;28;01mreturn\u001B[39;00m \u001B[43m_iterencode\u001B[49m\u001B[43m(\u001B[49m\u001B[43mo\u001B[49m\u001B[43m,\u001B[49m\u001B[43m \u001B[49m\u001B[38;5;241;43m0\u001B[39;49m\u001B[43m)\u001B[49m\n",
      "File \u001B[0;32m/usr/lib/python3.12/json/encoder.py:180\u001B[0m, in \u001B[0;36mJSONEncoder.default\u001B[0;34m(self, o)\u001B[0m\n\u001B[1;32m    161\u001B[0m \u001B[38;5;28;01mdef\u001B[39;00m \u001B[38;5;21mdefault\u001B[39m(\u001B[38;5;28mself\u001B[39m, o):\n\u001B[1;32m    162\u001B[0m \u001B[38;5;250m    \u001B[39m\u001B[38;5;124;03m\"\"\"Implement this method in a subclass such that it returns\u001B[39;00m\n\u001B[1;32m    163\u001B[0m \u001B[38;5;124;03m    a serializable object for ``o``, or calls the base implementation\u001B[39;00m\n\u001B[1;32m    164\u001B[0m \u001B[38;5;124;03m    (to raise a ``TypeError``).\u001B[39;00m\n\u001B[0;32m   (...)\u001B[0m\n\u001B[1;32m    178\u001B[0m \n\u001B[1;32m    179\u001B[0m \u001B[38;5;124;03m    \"\"\"\u001B[39;00m\n\u001B[0;32m--> 180\u001B[0m     \u001B[38;5;28;01mraise\u001B[39;00m \u001B[38;5;167;01mTypeError\u001B[39;00m(\u001B[38;5;124mf\u001B[39m\u001B[38;5;124m'\u001B[39m\u001B[38;5;124mObject of type \u001B[39m\u001B[38;5;132;01m{\u001B[39;00mo\u001B[38;5;241m.\u001B[39m\u001B[38;5;18m__class__\u001B[39m\u001B[38;5;241m.\u001B[39m\u001B[38;5;18m__name__\u001B[39m\u001B[38;5;132;01m}\u001B[39;00m\u001B[38;5;124m \u001B[39m\u001B[38;5;124m'\u001B[39m\n\u001B[1;32m    181\u001B[0m                     \u001B[38;5;124mf\u001B[39m\u001B[38;5;124m'\u001B[39m\u001B[38;5;124mis not JSON serializable\u001B[39m\u001B[38;5;124m'\u001B[39m)\n",
      "\u001B[0;31mTypeError\u001B[0m: Object of type Color is not JSON serializable"
     ]
    }
   ],
   "execution_count": 35
  },
  {
   "metadata": {
    "ExecuteTime": {
     "end_time": "2024-08-02T12:19:01.979799Z",
     "start_time": "2024-08-02T12:19:01.975682Z"
    }
   },
   "cell_type": "code",
   "source": [
    "class Model(BaseModel):\n",
    "    model_config = ConfigDict(\n",
    "        use_enum_values=True\n",
    "    )\n",
    "    \n",
    "    color: Color"
   ],
   "id": "2fd3408b6feed799",
   "outputs": [],
   "execution_count": 36
  },
  {
   "metadata": {
    "ExecuteTime": {
     "end_time": "2024-08-02T12:19:36.279052Z",
     "start_time": "2024-08-02T12:19:36.276725Z"
    }
   },
   "cell_type": "code",
   "source": "m = Model(color=Color.cyan)",
   "id": "85cfa41ef8fa3b4c",
   "outputs": [],
   "execution_count": 40
  },
  {
   "metadata": {
    "ExecuteTime": {
     "end_time": "2024-08-02T12:19:37.436641Z",
     "start_time": "2024-08-02T12:19:37.432124Z"
    }
   },
   "cell_type": "code",
   "source": "m",
   "id": "8d551a5288c7bfbd",
   "outputs": [
    {
     "data": {
      "text/plain": [
       "Model(color='Cyan')"
      ]
     },
     "execution_count": 41,
     "metadata": {},
     "output_type": "execute_result"
    }
   ],
   "execution_count": 41
  },
  {
   "metadata": {
    "ExecuteTime": {
     "end_time": "2024-08-02T12:19:48.010931Z",
     "start_time": "2024-08-02T12:19:48.007665Z"
    }
   },
   "cell_type": "code",
   "source": "type(m.color)",
   "id": "a4eaba7d7a025dee",
   "outputs": [
    {
     "data": {
      "text/plain": [
       "str"
      ]
     },
     "execution_count": 43,
     "metadata": {},
     "output_type": "execute_result"
    }
   ],
   "execution_count": 43
  },
  {
   "metadata": {
    "ExecuteTime": {
     "end_time": "2024-08-02T12:20:01.899365Z",
     "start_time": "2024-08-02T12:20:01.895662Z"
    }
   },
   "cell_type": "code",
   "source": "m.model_dump()",
   "id": "ad0353398c9609ce",
   "outputs": [
    {
     "data": {
      "text/plain": [
       "{'color': 'Cyan'}"
      ]
     },
     "execution_count": 44,
     "metadata": {},
     "output_type": "execute_result"
    }
   ],
   "execution_count": 44
  },
  {
   "metadata": {
    "ExecuteTime": {
     "end_time": "2024-08-02T12:20:09.775478Z",
     "start_time": "2024-08-02T12:20:09.770403Z"
    }
   },
   "cell_type": "code",
   "source": "m.model_dump_json()",
   "id": "3a67f90a5a6e662d",
   "outputs": [
    {
     "data": {
      "text/plain": [
       "'{\"color\":\"Cyan\"}'"
      ]
     },
     "execution_count": 45,
     "metadata": {},
     "output_type": "execute_result"
    }
   ],
   "execution_count": 45
  },
  {
   "metadata": {
    "ExecuteTime": {
     "end_time": "2024-08-02T12:20:59.188393Z",
     "start_time": "2024-08-02T12:20:59.157963Z"
    }
   },
   "cell_type": "code",
   "source": [
    "data = \"\"\"\n",
    "{\n",
    "    \"color\": \"Magenta\"\n",
    "}\n",
    "\"\"\"\n",
    "m = Model.model_validate_json(data)"
   ],
   "id": "a243a7fb99c5fbfa",
   "outputs": [
    {
     "ename": "ValidationError",
     "evalue": "1 validation error for Model\ncolor\n  Input should be 'Red', 'Green', 'Blue', 'Orange', 'Yellow', 'Cyan', 'White' or 'Black' [type=enum, input_value='Magenta', input_type=str]\n    For further information visit https://errors.pydantic.dev/2.8/v/enum",
     "output_type": "error",
     "traceback": [
      "\u001B[0;31m---------------------------------------------------------------------------\u001B[0m",
      "\u001B[0;31mValidationError\u001B[0m                           Traceback (most recent call last)",
      "Cell \u001B[0;32mIn[47], line 6\u001B[0m\n\u001B[1;32m      1\u001B[0m data \u001B[38;5;241m=\u001B[39m \u001B[38;5;124m\"\"\"\u001B[39m\n\u001B[1;32m      2\u001B[0m \u001B[38;5;124m{\u001B[39m\n\u001B[1;32m      3\u001B[0m \u001B[38;5;124m    \u001B[39m\u001B[38;5;124m\"\u001B[39m\u001B[38;5;124mcolor\u001B[39m\u001B[38;5;124m\"\u001B[39m\u001B[38;5;124m: \u001B[39m\u001B[38;5;124m\"\u001B[39m\u001B[38;5;124mMagenta\u001B[39m\u001B[38;5;124m\"\u001B[39m\n\u001B[1;32m      4\u001B[0m \u001B[38;5;124m}\u001B[39m\n\u001B[1;32m      5\u001B[0m \u001B[38;5;124m\"\"\"\u001B[39m\n\u001B[0;32m----> 6\u001B[0m m \u001B[38;5;241m=\u001B[39m \u001B[43mModel\u001B[49m\u001B[38;5;241;43m.\u001B[39;49m\u001B[43mmodel_validate_json\u001B[49m\u001B[43m(\u001B[49m\u001B[43mdata\u001B[49m\u001B[43m)\u001B[49m\n",
      "File \u001B[0;32m~/a-code/PythonDojo/venv/lib/python3.12/site-packages/pydantic/main.py:597\u001B[0m, in \u001B[0;36mBaseModel.model_validate_json\u001B[0;34m(cls, json_data, strict, context)\u001B[0m\n\u001B[1;32m    595\u001B[0m \u001B[38;5;66;03m# `__tracebackhide__` tells pytest and some other tools to omit this function from tracebacks\u001B[39;00m\n\u001B[1;32m    596\u001B[0m __tracebackhide__ \u001B[38;5;241m=\u001B[39m \u001B[38;5;28;01mTrue\u001B[39;00m\n\u001B[0;32m--> 597\u001B[0m \u001B[38;5;28;01mreturn\u001B[39;00m \u001B[38;5;28;43mcls\u001B[39;49m\u001B[38;5;241;43m.\u001B[39;49m\u001B[43m__pydantic_validator__\u001B[49m\u001B[38;5;241;43m.\u001B[39;49m\u001B[43mvalidate_json\u001B[49m\u001B[43m(\u001B[49m\u001B[43mjson_data\u001B[49m\u001B[43m,\u001B[49m\u001B[43m \u001B[49m\u001B[43mstrict\u001B[49m\u001B[38;5;241;43m=\u001B[39;49m\u001B[43mstrict\u001B[49m\u001B[43m,\u001B[49m\u001B[43m \u001B[49m\u001B[43mcontext\u001B[49m\u001B[38;5;241;43m=\u001B[39;49m\u001B[43mcontext\u001B[49m\u001B[43m)\u001B[49m\n",
      "\u001B[0;31mValidationError\u001B[0m: 1 validation error for Model\ncolor\n  Input should be 'Red', 'Green', 'Blue', 'Orange', 'Yellow', 'Cyan', 'White' or 'Black' [type=enum, input_value='Magenta', input_type=str]\n    For further information visit https://errors.pydantic.dev/2.8/v/enum"
     ]
    }
   ],
   "execution_count": 47
  },
  {
   "metadata": {
    "ExecuteTime": {
     "end_time": "2024-08-02T12:22:00.637786Z",
     "start_time": "2024-08-02T12:22:00.632467Z"
    }
   },
   "cell_type": "code",
   "source": [
    "class Model(BaseModel):\n",
    "    # model_config = ConfigDict(\n",
    "    #     use_enum_values=True\n",
    "    # )\n",
    "\n",
    "    color: Color = Color.red"
   ],
   "id": "df3f1c5de7c29f57",
   "outputs": [],
   "execution_count": 55
  },
  {
   "metadata": {
    "ExecuteTime": {
     "end_time": "2024-08-02T12:22:01.005380Z",
     "start_time": "2024-08-02T12:22:01.000162Z"
    }
   },
   "cell_type": "code",
   "source": "Model()",
   "id": "435db882469dd404",
   "outputs": [
    {
     "data": {
      "text/plain": [
       "Model(color=<Color.red: 'Red'>)"
      ]
     },
     "execution_count": 56,
     "metadata": {},
     "output_type": "execute_result"
    }
   ],
   "execution_count": 56
  },
  {
   "metadata": {
    "ExecuteTime": {
     "end_time": "2024-08-02T12:22:38.440450Z",
     "start_time": "2024-08-02T12:22:38.436874Z"
    }
   },
   "cell_type": "code",
   "source": [
    "class Model(BaseModel):\n",
    "    model_config = ConfigDict(use_enum_values=True)\n",
    "    color: Color = Color.red"
   ],
   "id": "ba28815f3289b01b",
   "outputs": [],
   "execution_count": 61
  },
  {
   "metadata": {
    "ExecuteTime": {
     "end_time": "2024-08-02T12:22:38.796911Z",
     "start_time": "2024-08-02T12:22:38.792342Z"
    }
   },
   "cell_type": "code",
   "source": "Model()",
   "id": "23576addbdbdb7",
   "outputs": [
    {
     "data": {
      "text/plain": [
       "Model(color='Red')"
      ]
     },
     "execution_count": 62,
     "metadata": {},
     "output_type": "execute_result"
    }
   ],
   "execution_count": 62
  },
  {
   "metadata": {
    "ExecuteTime": {
     "end_time": "2024-08-02T12:22:57.941240Z",
     "start_time": "2024-08-02T12:22:57.936009Z"
    }
   },
   "cell_type": "code",
   "source": [
    "class Model(BaseModel):\n",
    "    model_config = ConfigDict(use_enum_values=True, validate_default=True)\n",
    "    color: Color = Color.red"
   ],
   "id": "3a06634325614956",
   "outputs": [],
   "execution_count": 63
  },
  {
   "metadata": {
    "ExecuteTime": {
     "end_time": "2024-08-02T12:23:00.379020Z",
     "start_time": "2024-08-02T12:23:00.373692Z"
    }
   },
   "cell_type": "code",
   "source": "Model()",
   "id": "5131cfdd9d6242d2",
   "outputs": [
    {
     "data": {
      "text/plain": [
       "Model(color='Red')"
      ]
     },
     "execution_count": 64,
     "metadata": {},
     "output_type": "execute_result"
    }
   ],
   "execution_count": 64
  },
  {
   "metadata": {},
   "cell_type": "code",
   "outputs": [],
   "execution_count": null,
   "source": "",
   "id": "656016d3c2077161"
  }
 ],
 "metadata": {
  "kernelspec": {
   "display_name": "Python 3",
   "language": "python",
   "name": "python3"
  },
  "language_info": {
   "codemirror_mode": {
    "name": "ipython",
    "version": 2
   },
   "file_extension": ".py",
   "mimetype": "text/x-python",
   "name": "python",
   "nbconvert_exporter": "python",
   "pygments_lexer": "ipython2",
   "version": "2.7.6"
  }
 },
 "nbformat": 4,
 "nbformat_minor": 5
}
