{
 "cells": [
  {
   "metadata": {
    "ExecuteTime": {
     "end_time": "2024-08-02T10:05:45.951061Z",
     "start_time": "2024-08-02T10:05:45.947188Z"
    }
   },
   "cell_type": "code",
   "source": "from pydantic import BaseModel, ValidationError, ConfigDict",
   "id": "9e660d48918f8ef4",
   "outputs": [],
   "execution_count": 15
  },
  {
   "cell_type": "code",
   "id": "initial_id",
   "metadata": {
    "collapsed": true,
    "ExecuteTime": {
     "end_time": "2024-08-02T10:04:35.636376Z",
     "start_time": "2024-08-02T10:04:35.633527Z"
    }
   },
   "source": [
    "s1 = '    python'\n",
    "s2 = ' python \\t\\n'"
   ],
   "outputs": [],
   "execution_count": 8
  },
  {
   "metadata": {
    "ExecuteTime": {
     "end_time": "2024-08-02T10:04:36.046047Z",
     "start_time": "2024-08-02T10:04:36.040103Z"
    }
   },
   "cell_type": "code",
   "source": "s1 == s2",
   "id": "3a55b2dede041909",
   "outputs": [
    {
     "data": {
      "text/plain": [
       "False"
      ]
     },
     "execution_count": 9,
     "metadata": {},
     "output_type": "execute_result"
    }
   ],
   "execution_count": 9
  },
  {
   "metadata": {
    "ExecuteTime": {
     "end_time": "2024-08-02T10:04:36.228364Z",
     "start_time": "2024-08-02T10:04:36.222984Z"
    }
   },
   "cell_type": "code",
   "source": "s1.strip() == s2.strip()",
   "id": "9a1e1fbfbed40d40",
   "outputs": [
    {
     "data": {
      "text/plain": [
       "True"
      ]
     },
     "execution_count": 10,
     "metadata": {},
     "output_type": "execute_result"
    }
   ],
   "execution_count": 10
  },
  {
   "metadata": {
    "ExecuteTime": {
     "end_time": "2024-08-02T10:04:36.393458Z",
     "start_time": "2024-08-02T10:04:36.387516Z"
    }
   },
   "cell_type": "code",
   "source": "s1.strip(), s2.strip()",
   "id": "3a5a35db05d90c9",
   "outputs": [
    {
     "data": {
      "text/plain": [
       "('python', 'python')"
      ]
     },
     "execution_count": 11,
     "metadata": {},
     "output_type": "execute_result"
    }
   ],
   "execution_count": 11
  },
  {
   "metadata": {
    "ExecuteTime": {
     "end_time": "2024-08-02T10:05:47.541439Z",
     "start_time": "2024-08-02T10:05:47.449012Z"
    }
   },
   "cell_type": "code",
   "source": [
    "class Model(BaseModel):\n",
    "    model_config = ConfigDict(\n",
    "        str_strip_whitespace=True\n",
    "    )\n",
    "    field: str"
   ],
   "id": "f11f611ff69d49e4",
   "outputs": [],
   "execution_count": 16
  },
  {
   "metadata": {
    "ExecuteTime": {
     "end_time": "2024-08-02T10:05:47.917832Z",
     "start_time": "2024-08-02T10:05:47.913950Z"
    }
   },
   "cell_type": "code",
   "source": [
    "m1 = Model(field=s1)\n",
    "m2 = Model(field=s2)"
   ],
   "id": "aae6aad8b4e1013c",
   "outputs": [],
   "execution_count": 17
  },
  {
   "metadata": {
    "ExecuteTime": {
     "end_time": "2024-08-02T10:05:52.465017Z",
     "start_time": "2024-08-02T10:05:52.460312Z"
    }
   },
   "cell_type": "code",
   "source": "m1, m2",
   "id": "a870fbe0a7ec0d73",
   "outputs": [
    {
     "data": {
      "text/plain": [
       "(Model(field='python'), Model(field='python'))"
      ]
     },
     "execution_count": 18,
     "metadata": {},
     "output_type": "execute_result"
    }
   ],
   "execution_count": 18
  },
  {
   "metadata": {
    "ExecuteTime": {
     "end_time": "2024-08-02T10:06:02.491402Z",
     "start_time": "2024-08-02T10:06:02.486738Z"
    }
   },
   "cell_type": "code",
   "source": "m1 == m2",
   "id": "2dc32ce8a6c4feff",
   "outputs": [
    {
     "data": {
      "text/plain": [
       "True"
      ]
     },
     "execution_count": 19,
     "metadata": {},
     "output_type": "execute_result"
    }
   ],
   "execution_count": 19
  },
  {
   "metadata": {
    "ExecuteTime": {
     "end_time": "2024-08-02T10:06:26.355936Z",
     "start_time": "2024-08-02T10:06:26.350990Z"
    }
   },
   "cell_type": "code",
   "source": "m1.field == m2.field",
   "id": "17358eee192e83d0",
   "outputs": [
    {
     "data": {
      "text/plain": [
       "True"
      ]
     },
     "execution_count": 20,
     "metadata": {},
     "output_type": "execute_result"
    }
   ],
   "execution_count": 20
  },
  {
   "metadata": {
    "ExecuteTime": {
     "end_time": "2024-08-02T10:07:19.184441Z",
     "start_time": "2024-08-02T10:07:19.180098Z"
    }
   },
   "cell_type": "code",
   "source": [
    "class Model(BaseModel):\n",
    "    model_config = ConfigDict(\n",
    "        str_strip_whitespace=True,\n",
    "        str_to_lower=True\n",
    "    )\n",
    "    field: str"
   ],
   "id": "87a04bcab3a8e374",
   "outputs": [],
   "execution_count": 22
  },
  {
   "metadata": {
    "ExecuteTime": {
     "end_time": "2024-08-02T10:08:16.492257Z",
     "start_time": "2024-08-02T10:08:16.487891Z"
    }
   },
   "cell_type": "code",
   "source": "Model(field=' \\n  PytHON ')",
   "id": "83e5eab8ec770de7",
   "outputs": [
    {
     "data": {
      "text/plain": [
       "Model(field='python')"
      ]
     },
     "execution_count": 26,
     "metadata": {},
     "output_type": "execute_result"
    }
   ],
   "execution_count": 26
  },
  {
   "metadata": {
    "ExecuteTime": {
     "end_time": "2024-08-02T10:08:40.049769Z",
     "start_time": "2024-08-02T10:08:40.046467Z"
    }
   },
   "cell_type": "code",
   "source": [
    "class Model(BaseModel):\n",
    "    model_config = ConfigDict(\n",
    "        str_strip_whitespace=True,\n",
    "        str_to_upper=True\n",
    "    )\n",
    "    field: str"
   ],
   "id": "46e7219958da67f4",
   "outputs": [],
   "execution_count": 27
  },
  {
   "metadata": {
    "ExecuteTime": {
     "end_time": "2024-08-02T10:08:42.977011Z",
     "start_time": "2024-08-02T10:08:42.972429Z"
    }
   },
   "cell_type": "code",
   "source": "Model(field=' \\n  PytHON ')",
   "id": "1427bb5912537a60",
   "outputs": [
    {
     "data": {
      "text/plain": [
       "Model(field='PYTHON')"
      ]
     },
     "execution_count": 28,
     "metadata": {},
     "output_type": "execute_result"
    }
   ],
   "execution_count": 28
  },
  {
   "metadata": {
    "ExecuteTime": {
     "end_time": "2024-08-02T10:09:13.736851Z",
     "start_time": "2024-08-02T10:09:13.731943Z"
    }
   },
   "cell_type": "code",
   "source": [
    "class Model(BaseModel):\n",
    "    model_config = ConfigDict(\n",
    "        str_strip_whitespace=True,\n",
    "        str_to_lower=True,\n",
    "        str_to_upper=True,  # Do not do this\n",
    "    )\n",
    "    field: str"
   ],
   "id": "d0173a93b9905b75",
   "outputs": [],
   "execution_count": 31
  },
  {
   "metadata": {
    "ExecuteTime": {
     "end_time": "2024-08-02T10:09:14.431976Z",
     "start_time": "2024-08-02T10:09:14.427329Z"
    }
   },
   "cell_type": "code",
   "source": "",
   "id": "f5ab45a876fcfc78",
   "outputs": [
    {
     "data": {
      "text/plain": [
       "Model(field='python')"
      ]
     },
     "execution_count": 32,
     "metadata": {},
     "output_type": "execute_result"
    }
   ],
   "execution_count": 32
  },
  {
   "metadata": {
    "ExecuteTime": {
     "end_time": "2024-08-02T10:10:11.727487Z",
     "start_time": "2024-08-02T10:10:11.722952Z"
    }
   },
   "cell_type": "code",
   "source": [
    "class Model(BaseModel):\n",
    "    model_config = ConfigDict(\n",
    "        str_strip_whitespace=True,\n",
    "        str_to_upper=True,\n",
    "        str_to_lower=True,  # Do not do this\n",
    "    )\n",
    "    field: str"
   ],
   "id": "65f21f3bfade7120",
   "outputs": [],
   "execution_count": 34
  },
  {
   "metadata": {
    "ExecuteTime": {
     "end_time": "2024-08-02T10:10:12.103233Z",
     "start_time": "2024-08-02T10:10:12.098054Z"
    }
   },
   "cell_type": "code",
   "source": "Model(field=' \\n  PytHON ')",
   "id": "c5bef58da06e236b",
   "outputs": [
    {
     "data": {
      "text/plain": [
       "Model(field='python')"
      ]
     },
     "execution_count": 35,
     "metadata": {},
     "output_type": "execute_result"
    }
   ],
   "execution_count": 35
  },
  {
   "metadata": {},
   "cell_type": "code",
   "outputs": [],
   "execution_count": null,
   "source": "",
   "id": "b6a97f37d74ecd6b"
  }
 ],
 "metadata": {
  "kernelspec": {
   "display_name": "Python 3",
   "language": "python",
   "name": "python3"
  },
  "language_info": {
   "codemirror_mode": {
    "name": "ipython",
    "version": 2
   },
   "file_extension": ".py",
   "mimetype": "text/x-python",
   "name": "python",
   "nbconvert_exporter": "python",
   "pygments_lexer": "ipython2",
   "version": "2.7.6"
  }
 },
 "nbformat": 4,
 "nbformat_minor": 5
}
