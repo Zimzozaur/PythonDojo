{
 "cells": [
  {
   "cell_type": "code",
   "id": "initial_id",
   "metadata": {
    "collapsed": true,
    "ExecuteTime": {
     "end_time": "2024-08-02T09:29:24.908517Z",
     "start_time": "2024-08-02T09:29:24.905606Z"
    }
   },
   "source": "from pydantic import BaseModel, ConfigDict, ValidationError",
   "outputs": [],
   "execution_count": 2
  },
  {
   "metadata": {
    "ExecuteTime": {
     "end_time": "2024-08-02T09:29:44.406912Z",
     "start_time": "2024-08-02T09:29:44.329486Z"
    }
   },
   "cell_type": "code",
   "source": [
    "class Model(BaseModel):\n",
    "    field_1: int = None\n",
    "    field_2: str = 100"
   ],
   "id": "3b4ab9c2f745bdf6",
   "outputs": [],
   "execution_count": 3
  },
  {
   "metadata": {
    "ExecuteTime": {
     "end_time": "2024-08-02T09:30:19.041204Z",
     "start_time": "2024-08-02T09:30:19.034718Z"
    }
   },
   "cell_type": "code",
   "source": "Model()",
   "id": "8c1b9498d0d4227",
   "outputs": [
    {
     "data": {
      "text/plain": [
       "Model(field_1=None, field_2=100)"
      ]
     },
     "execution_count": 4,
     "metadata": {},
     "output_type": "execute_result"
    }
   ],
   "execution_count": 4
  },
  {
   "metadata": {
    "ExecuteTime": {
     "end_time": "2024-08-02T09:31:05.325470Z",
     "start_time": "2024-08-02T09:31:05.321407Z"
    }
   },
   "cell_type": "code",
   "source": [
    "try:\n",
    "    Model(field_1=None, field_2=100)\n",
    "except ValidationError as ex:\n",
    "    print(ex)"
   ],
   "id": "668f4869128dae20",
   "outputs": [
    {
     "name": "stdout",
     "output_type": "stream",
     "text": [
      "2 validation errors for Model\n",
      "field_1\n",
      "  Input should be a valid integer [type=int_type, input_value=None, input_type=NoneType]\n",
      "    For further information visit https://errors.pydantic.dev/2.8/v/int_type\n",
      "field_2\n",
      "  Input should be a valid string [type=string_type, input_value=100, input_type=int]\n",
      "    For further information visit https://errors.pydantic.dev/2.8/v/string_type\n"
     ]
    }
   ],
   "execution_count": 5
  },
  {
   "metadata": {
    "ExecuteTime": {
     "end_time": "2024-08-02T09:31:37.913121Z",
     "start_time": "2024-08-02T09:31:37.908220Z"
    }
   },
   "cell_type": "code",
   "source": [
    "class Model(BaseModel):\n",
    "    model_config = ConfigDict(validate_default=True)\n",
    "    \n",
    "    field_1: int = None\n",
    "    field_2: str = 100"
   ],
   "id": "e452b58865ba7d28",
   "outputs": [],
   "execution_count": 6
  },
  {
   "metadata": {
    "ExecuteTime": {
     "end_time": "2024-08-02T09:31:49.713524Z",
     "start_time": "2024-08-02T09:31:49.710180Z"
    }
   },
   "cell_type": "code",
   "source": [
    "try:\n",
    "    Model()\n",
    "except ValidationError as ex:\n",
    "    print(ex)"
   ],
   "id": "3806dd31b3ca7832",
   "outputs": [
    {
     "name": "stdout",
     "output_type": "stream",
     "text": [
      "2 validation errors for Model\n",
      "field_1\n",
      "  Input should be a valid integer [type=int_type, input_value=None, input_type=NoneType]\n",
      "    For further information visit https://errors.pydantic.dev/2.8/v/int_type\n",
      "field_2\n",
      "  Input should be a valid string [type=string_type, input_value=100, input_type=int]\n",
      "    For further information visit https://errors.pydantic.dev/2.8/v/string_type\n"
     ]
    }
   ],
   "execution_count": 8
  },
  {
   "metadata": {},
   "cell_type": "code",
   "outputs": [],
   "execution_count": null,
   "source": "",
   "id": "9d26c070ca6ef600"
  }
 ],
 "metadata": {
  "kernelspec": {
   "display_name": "Python 3",
   "language": "python",
   "name": "python3"
  },
  "language_info": {
   "codemirror_mode": {
    "name": "ipython",
    "version": 2
   },
   "file_extension": ".py",
   "mimetype": "text/x-python",
   "name": "python",
   "nbconvert_exporter": "python",
   "pygments_lexer": "ipython2",
   "version": "2.7.6"
  }
 },
 "nbformat": 4,
 "nbformat_minor": 5
}
