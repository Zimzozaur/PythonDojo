{
 "cells": [
  {
   "cell_type": "code",
   "id": "initial_id",
   "metadata": {
    "collapsed": true,
    "ExecuteTime": {
     "end_time": "2024-08-12T09:23:13.256798Z",
     "start_time": "2024-08-12T09:23:13.190752Z"
    }
   },
   "source": "from pydantic import BaseModel, Field, ConfigDict, ValidationError",
   "outputs": [],
   "execution_count": 1
  },
  {
   "metadata": {
    "ExecuteTime": {
     "end_time": "2024-08-12T09:23:30.463383Z",
     "start_time": "2024-08-12T09:23:30.460038Z"
    }
   },
   "cell_type": "code",
   "source": "from pydantic.alias_generators import to_camel, to_snake, to_pascal",
   "id": "49a76783b136574f",
   "outputs": [],
   "execution_count": 2
  },
  {
   "metadata": {
    "ExecuteTime": {
     "end_time": "2024-08-12T09:25:14.027876Z",
     "start_time": "2024-08-12T09:25:14.022778Z"
    }
   },
   "cell_type": "code",
   "source": "to_camel('last_name')",
   "id": "7b955181313f9dc2",
   "outputs": [
    {
     "data": {
      "text/plain": [
       "'lastName'"
      ]
     },
     "execution_count": 4,
     "metadata": {},
     "output_type": "execute_result"
    }
   ],
   "execution_count": 4
  },
  {
   "metadata": {
    "ExecuteTime": {
     "end_time": "2024-08-12T09:25:49.296592Z",
     "start_time": "2024-08-12T09:25:49.291805Z"
    }
   },
   "cell_type": "code",
   "source": "to_snake('lastName')",
   "id": "371cc02271e5ca2f",
   "outputs": [
    {
     "data": {
      "text/plain": [
       "'last_name'"
      ]
     },
     "execution_count": 7,
     "metadata": {},
     "output_type": "execute_result"
    }
   ],
   "execution_count": 7
  },
  {
   "metadata": {
    "ExecuteTime": {
     "end_time": "2024-08-12T09:26:08.961639Z",
     "start_time": "2024-08-12T09:26:08.958095Z"
    }
   },
   "cell_type": "code",
   "source": "to_pascal('last_name')",
   "id": "c6c53377e8c538f9",
   "outputs": [
    {
     "data": {
      "text/plain": [
       "'LastName'"
      ]
     },
     "execution_count": 10,
     "metadata": {},
     "output_type": "execute_result"
    }
   ],
   "execution_count": 10
  },
  {
   "metadata": {
    "ExecuteTime": {
     "end_time": "2024-08-12T09:28:15.287720Z",
     "start_time": "2024-08-12T09:28:15.284534Z"
    }
   },
   "cell_type": "code",
   "source": [
    "def make_pascal(in_str: str) -> str:\n",
    "    return in_str.title().replace('_', '')"
   ],
   "id": "f97bc779863f9aa9",
   "outputs": [],
   "execution_count": 17
  },
  {
   "metadata": {
    "ExecuteTime": {
     "end_time": "2024-08-12T09:28:19.654812Z",
     "start_time": "2024-08-12T09:28:19.651573Z"
    }
   },
   "cell_type": "code",
   "source": "make_pascal('last_name')",
   "id": "4b0f49f7bca16409",
   "outputs": [
    {
     "data": {
      "text/plain": [
       "'LastName'"
      ]
     },
     "execution_count": 18,
     "metadata": {},
     "output_type": "execute_result"
    }
   ],
   "execution_count": 18
  },
  {
   "metadata": {
    "ExecuteTime": {
     "end_time": "2024-08-12T09:29:55.760061Z",
     "start_time": "2024-08-12T09:29:55.754885Z"
    }
   },
   "cell_type": "code",
   "source": [
    "class Person(BaseModel):\n",
    "    model_config = ConfigDict(alias_generator=make_pascal)\n",
    "    \n",
    "    id_: int\n",
    "    first_name: str | None = None\n",
    "    last_name: str\n",
    "    age: int | None = None"
   ],
   "id": "266eb172775c6d00",
   "outputs": [],
   "execution_count": 20
  },
  {
   "metadata": {
    "ExecuteTime": {
     "end_time": "2024-08-12T09:29:59.989171Z",
     "start_time": "2024-08-12T09:29:59.984501Z"
    }
   },
   "cell_type": "code",
   "source": "Person.model_fields",
   "id": "1ac40ddca5120e7b",
   "outputs": [
    {
     "data": {
      "text/plain": [
       "{'id_': FieldInfo(annotation=int, required=True, alias='Id', alias_priority=1),\n",
       " 'first_name': FieldInfo(annotation=Union[str, NoneType], required=False, default=None, alias='FirstName', alias_priority=1),\n",
       " 'last_name': FieldInfo(annotation=str, required=True, alias='LastName', alias_priority=1),\n",
       " 'age': FieldInfo(annotation=Union[int, NoneType], required=False, default=None, alias='Age', alias_priority=1)}"
      ]
     },
     "execution_count": 21,
     "metadata": {},
     "output_type": "execute_result"
    }
   ],
   "execution_count": 21
  },
  {
   "metadata": {
    "ExecuteTime": {
     "end_time": "2024-08-12T09:33:24.511252Z",
     "start_time": "2024-08-12T09:33:24.508388Z"
    }
   },
   "cell_type": "code",
   "source": "p = Person(Id=1, LastName='Mario')",
   "id": "35f98165fe53a644",
   "outputs": [],
   "execution_count": 23
  },
  {
   "metadata": {
    "ExecuteTime": {
     "end_time": "2024-08-12T09:33:37.318039Z",
     "start_time": "2024-08-12T09:33:37.313458Z"
    }
   },
   "cell_type": "code",
   "source": "p",
   "id": "d9a29ea49d678626",
   "outputs": [
    {
     "data": {
      "text/plain": [
       "Person(id_=1, first_name=None, last_name='Mario', age=None)"
      ]
     },
     "execution_count": 24,
     "metadata": {},
     "output_type": "execute_result"
    }
   ],
   "execution_count": 24
  },
  {
   "metadata": {
    "ExecuteTime": {
     "end_time": "2024-08-12T09:34:02.786866Z",
     "start_time": "2024-08-12T09:34:02.782385Z"
    }
   },
   "cell_type": "code",
   "source": "p.model_dump(by_alias=True)",
   "id": "eb54ae994663d001",
   "outputs": [
    {
     "data": {
      "text/plain": [
       "{'Id': 1, 'FirstName': None, 'LastName': 'Mario', 'Age': None}"
      ]
     },
     "execution_count": 25,
     "metadata": {},
     "output_type": "execute_result"
    }
   ],
   "execution_count": 25
  },
  {
   "metadata": {
    "ExecuteTime": {
     "end_time": "2024-08-12T09:37:57.623315Z",
     "start_time": "2024-08-12T09:37:57.616500Z"
    }
   },
   "cell_type": "code",
   "source": [
    "class Person(BaseModel):\n",
    "    model_config = ConfigDict(alias_generator=to_camel)\n",
    "    \n",
    "    id_: int = Field(alias='id')\n",
    "    first_name: str | None = None\n",
    "    last_name: str\n",
    "    age: int | None = None"
   ],
   "id": "1e31ebc07d296f88",
   "outputs": [],
   "execution_count": 45
  },
  {
   "metadata": {
    "ExecuteTime": {
     "end_time": "2024-08-12T09:38:02.278583Z",
     "start_time": "2024-08-12T09:38:02.275074Z"
    }
   },
   "cell_type": "code",
   "source": "p = Person(id=1, lastName='Mario')",
   "id": "3dca5ce747058600",
   "outputs": [],
   "execution_count": 46
  },
  {
   "metadata": {
    "ExecuteTime": {
     "end_time": "2024-08-12T09:38:02.486862Z",
     "start_time": "2024-08-12T09:38:02.482285Z"
    }
   },
   "cell_type": "code",
   "source": "p",
   "id": "9dce086a751e8f8f",
   "outputs": [
    {
     "data": {
      "text/plain": [
       "Person(id_=1, first_name=None, last_name='Mario', age=None)"
      ]
     },
     "execution_count": 47,
     "metadata": {},
     "output_type": "execute_result"
    }
   ],
   "execution_count": 47
  },
  {
   "metadata": {
    "ExecuteTime": {
     "end_time": "2024-08-12T09:38:02.824925Z",
     "start_time": "2024-08-12T09:38:02.821030Z"
    }
   },
   "cell_type": "code",
   "source": "p.model_dump(by_alias=True)",
   "id": "213a592d8164d2d3",
   "outputs": [
    {
     "data": {
      "text/plain": [
       "{'id': 1, 'firstName': None, 'lastName': 'Mario', 'age': None}"
      ]
     },
     "execution_count": 48,
     "metadata": {},
     "output_type": "execute_result"
    }
   ],
   "execution_count": 48
  },
  {
   "metadata": {
    "ExecuteTime": {
     "end_time": "2024-08-12T09:38:16.261338Z",
     "start_time": "2024-08-12T09:38:16.256362Z"
    }
   },
   "cell_type": "code",
   "source": "Person.model_fields",
   "id": "fb0762b33cf66c2c",
   "outputs": [
    {
     "data": {
      "text/plain": [
       "{'id_': FieldInfo(annotation=int, required=True, alias='id', alias_priority=2),\n",
       " 'first_name': FieldInfo(annotation=Union[str, NoneType], required=False, default=None, alias='firstName', alias_priority=1),\n",
       " 'last_name': FieldInfo(annotation=str, required=True, alias='lastName', alias_priority=1),\n",
       " 'age': FieldInfo(annotation=Union[int, NoneType], required=False, default=None, alias='age', alias_priority=1)}"
      ]
     },
     "execution_count": 49,
     "metadata": {},
     "output_type": "execute_result"
    }
   ],
   "execution_count": 49
  },
  {
   "metadata": {
    "ExecuteTime": {
     "end_time": "2024-08-12T09:42:35.133452Z",
     "start_time": "2024-08-12T09:42:35.128040Z"
    }
   },
   "cell_type": "code",
   "source": [
    "class Model(BaseModel):\n",
    "    model_config = ConfigDict(alias_generator=to_camel)\n",
    "    \n",
    "    id_: int = Field(alias='id')\n",
    "    list_: list[str] = Field(alias='list')\n",
    "    filter_: dict = Field(alias='filter')\n",
    "    number_elements: list[int]"
   ],
   "id": "886a6ed46338dcc8",
   "outputs": [],
   "execution_count": 50
  },
  {
   "metadata": {
    "ExecuteTime": {
     "end_time": "2024-08-12T09:42:39.228783Z",
     "start_time": "2024-08-12T09:42:39.224250Z"
    }
   },
   "cell_type": "code",
   "source": "Model.model_fields",
   "id": "e4437cb011cfdf35",
   "outputs": [
    {
     "data": {
      "text/plain": [
       "{'id_': FieldInfo(annotation=int, required=True, alias='id', alias_priority=2),\n",
       " 'list_': FieldInfo(annotation=list[str], required=True, alias='list', alias_priority=2),\n",
       " 'filter_': FieldInfo(annotation=dict, required=True, alias='filter', alias_priority=2),\n",
       " 'number_elements': FieldInfo(annotation=list[int], required=True, alias='numberElements', alias_priority=1)}"
      ]
     },
     "execution_count": 51,
     "metadata": {},
     "output_type": "execute_result"
    }
   ],
   "execution_count": 51
  },
  {
   "metadata": {
    "ExecuteTime": {
     "end_time": "2024-08-12T09:44:32.977325Z",
     "start_time": "2024-08-12T09:44:32.974042Z"
    }
   },
   "cell_type": "code",
   "source": [
    "def make_alias(field_name: str) -> str:\n",
    "    alias = to_camel(field_name)\n",
    "    return alias.removesuffix('_')"
   ],
   "id": "e342e1fbf55c9e26",
   "outputs": [],
   "execution_count": 57
  },
  {
   "metadata": {
    "ExecuteTime": {
     "end_time": "2024-08-12T09:44:33.464264Z",
     "start_time": "2024-08-12T09:44:33.459498Z"
    }
   },
   "cell_type": "code",
   "source": "make_alias('id_')",
   "id": "9e2593c7c1ccc733",
   "outputs": [
    {
     "data": {
      "text/plain": [
       "'id'"
      ]
     },
     "execution_count": 58,
     "metadata": {},
     "output_type": "execute_result"
    }
   ],
   "execution_count": 58
  },
  {
   "metadata": {
    "ExecuteTime": {
     "end_time": "2024-08-12T09:44:46.235086Z",
     "start_time": "2024-08-12T09:44:46.230218Z"
    }
   },
   "cell_type": "code",
   "source": "make_alias('number_elements_')",
   "id": "2130b587db3389be",
   "outputs": [
    {
     "data": {
      "text/plain": [
       "'numberElements'"
      ]
     },
     "execution_count": 60,
     "metadata": {},
     "output_type": "execute_result"
    }
   ],
   "execution_count": 60
  },
  {
   "metadata": {
    "ExecuteTime": {
     "end_time": "2024-08-12T09:45:35.072176Z",
     "start_time": "2024-08-12T09:45:35.065298Z"
    }
   },
   "cell_type": "code",
   "source": [
    "class Model(BaseModel):\n",
    "    model_config = ConfigDict(alias_generator=make_alias)\n",
    "    \n",
    "    id_: int\n",
    "    list_: list[str]\n",
    "    filter_: dict\n",
    "    number_elements: list[int]"
   ],
   "id": "b6ec05260ef4ea56",
   "outputs": [],
   "execution_count": 62
  },
  {
   "metadata": {
    "ExecuteTime": {
     "end_time": "2024-08-12T09:45:44.478610Z",
     "start_time": "2024-08-12T09:45:44.475320Z"
    }
   },
   "cell_type": "code",
   "source": "Model.model_fields",
   "id": "c94e8505f6bc0dec",
   "outputs": [
    {
     "data": {
      "text/plain": [
       "{'id_': FieldInfo(annotation=int, required=True, alias='id', alias_priority=1),\n",
       " 'list_': FieldInfo(annotation=list[str], required=True, alias='list', alias_priority=1),\n",
       " 'filter_': FieldInfo(annotation=dict, required=True, alias='filter', alias_priority=1),\n",
       " 'number_elements': FieldInfo(annotation=list[int], required=True, alias='numberElements', alias_priority=1)}"
      ]
     },
     "execution_count": 63,
     "metadata": {},
     "output_type": "execute_result"
    }
   ],
   "execution_count": 63
  },
  {
   "metadata": {},
   "cell_type": "code",
   "outputs": [],
   "execution_count": null,
   "source": "",
   "id": "637f42ea615edf0d"
  }
 ],
 "metadata": {
  "kernelspec": {
   "display_name": "Python 3",
   "language": "python",
   "name": "python3"
  },
  "language_info": {
   "codemirror_mode": {
    "name": "ipython",
    "version": 2
   },
   "file_extension": ".py",
   "mimetype": "text/x-python",
   "name": "python",
   "nbconvert_exporter": "python",
   "pygments_lexer": "ipython2",
   "version": "2.7.6"
  }
 },
 "nbformat": 4,
 "nbformat_minor": 5
}
