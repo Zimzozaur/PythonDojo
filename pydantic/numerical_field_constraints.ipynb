{
 "cells": [
  {
   "cell_type": "code",
   "id": "initial_id",
   "metadata": {
    "collapsed": true,
    "ExecuteTime": {
     "end_time": "2024-08-26T09:25:28.728552Z",
     "start_time": "2024-08-26T09:25:28.665492Z"
    }
   },
   "source": "from pydantic import BaseModel, Field",
   "outputs": [],
   "execution_count": 1
  },
  {
   "metadata": {
    "ExecuteTime": {
     "end_time": "2024-08-26T09:26:38.709265Z",
     "start_time": "2024-08-26T09:26:38.646653Z"
    }
   },
   "cell_type": "code",
   "source": [
    "class Model(BaseModel):\n",
    "    number: float = Field(gt=2, le=10, multiple_of=2)"
   ],
   "id": "50b5ce8932dc56d6",
   "outputs": [],
   "execution_count": 2
  },
  {
   "metadata": {
    "ExecuteTime": {
     "end_time": "2024-08-26T09:26:51.846692Z",
     "start_time": "2024-08-26T09:26:51.841306Z"
    }
   },
   "cell_type": "code",
   "source": [
    "m = Model(number=4)\n",
    "m"
   ],
   "id": "c558c845ab6ed919",
   "outputs": [
    {
     "data": {
      "text/plain": [
       "Model(number=4.0)"
      ]
     },
     "execution_count": 4,
     "metadata": {},
     "output_type": "execute_result"
    }
   ],
   "execution_count": 4
  },
  {
   "metadata": {
    "ExecuteTime": {
     "end_time": "2024-08-26T09:27:07.441965Z",
     "start_time": "2024-08-26T09:27:07.220260Z"
    }
   },
   "cell_type": "code",
   "source": "Model(number=3)",
   "id": "9d709cc724bd6f1b",
   "outputs": [
    {
     "ename": "ValidationError",
     "evalue": "1 validation error for Model\nnumber\n  Input should be a multiple of 2 [type=multiple_of, input_value=3, input_type=int]\n    For further information visit https://errors.pydantic.dev/2.8/v/multiple_of",
     "output_type": "error",
     "traceback": [
      "\u001B[0;31m---------------------------------------------------------------------------\u001B[0m",
      "\u001B[0;31mValidationError\u001B[0m                           Traceback (most recent call last)",
      "Cell \u001B[0;32mIn[5], line 1\u001B[0m\n\u001B[0;32m----> 1\u001B[0m \u001B[43mModel\u001B[49m\u001B[43m(\u001B[49m\u001B[43mnumber\u001B[49m\u001B[38;5;241;43m=\u001B[39;49m\u001B[38;5;241;43m3\u001B[39;49m\u001B[43m)\u001B[49m\n",
      "File \u001B[0;32m~/a-code/PythonDojo/venv/lib/python3.12/site-packages/pydantic/main.py:193\u001B[0m, in \u001B[0;36mBaseModel.__init__\u001B[0;34m(self, **data)\u001B[0m\n\u001B[1;32m    191\u001B[0m \u001B[38;5;66;03m# `__tracebackhide__` tells pytest and some other tools to omit this function from tracebacks\u001B[39;00m\n\u001B[1;32m    192\u001B[0m __tracebackhide__ \u001B[38;5;241m=\u001B[39m \u001B[38;5;28;01mTrue\u001B[39;00m\n\u001B[0;32m--> 193\u001B[0m \u001B[38;5;28;43mself\u001B[39;49m\u001B[38;5;241;43m.\u001B[39;49m\u001B[43m__pydantic_validator__\u001B[49m\u001B[38;5;241;43m.\u001B[39;49m\u001B[43mvalidate_python\u001B[49m\u001B[43m(\u001B[49m\u001B[43mdata\u001B[49m\u001B[43m,\u001B[49m\u001B[43m \u001B[49m\u001B[43mself_instance\u001B[49m\u001B[38;5;241;43m=\u001B[39;49m\u001B[38;5;28;43mself\u001B[39;49m\u001B[43m)\u001B[49m\n",
      "\u001B[0;31mValidationError\u001B[0m: 1 validation error for Model\nnumber\n  Input should be a multiple of 2 [type=multiple_of, input_value=3, input_type=int]\n    For further information visit https://errors.pydantic.dev/2.8/v/multiple_of"
     ]
    }
   ],
   "execution_count": 5
  },
  {
   "metadata": {
    "ExecuteTime": {
     "end_time": "2024-08-26T09:29:30.454411Z",
     "start_time": "2024-08-26T09:29:30.449572Z"
    }
   },
   "cell_type": "code",
   "source": [
    "class Model(BaseModel):\n",
    "    number: int = Field(default=1, ge=1)"
   ],
   "id": "4f5f15dd5f61b768",
   "outputs": [],
   "execution_count": 12
  },
  {
   "metadata": {
    "ExecuteTime": {
     "end_time": "2024-08-26T09:29:30.704621Z",
     "start_time": "2024-08-26T09:29:30.698294Z"
    }
   },
   "cell_type": "code",
   "source": "Model.model_fields",
   "id": "83ec383351addc99",
   "outputs": [
    {
     "data": {
      "text/plain": [
       "{'number': FieldInfo(annotation=int, required=False, default=1, metadata=[Ge(ge=1)])}"
      ]
     },
     "execution_count": 13,
     "metadata": {},
     "output_type": "execute_result"
    }
   ],
   "execution_count": 13
  },
  {
   "metadata": {
    "ExecuteTime": {
     "end_time": "2024-08-26T09:29:31.238929Z",
     "start_time": "2024-08-26T09:29:31.235745Z"
    }
   },
   "cell_type": "code",
   "source": "from pydantic import PositiveInt",
   "id": "274044ccda4bcff3",
   "outputs": [],
   "execution_count": 14
  },
  {
   "metadata": {
    "ExecuteTime": {
     "end_time": "2024-08-26T09:29:52.652056Z",
     "start_time": "2024-08-26T09:29:52.647753Z"
    }
   },
   "cell_type": "code",
   "source": [
    "class Model(BaseModel):\n",
    "    number: PositiveInt"
   ],
   "id": "7e5678b9d688439e",
   "outputs": [],
   "execution_count": 15
  },
  {
   "metadata": {
    "ExecuteTime": {
     "end_time": "2024-08-26T09:29:56.660189Z",
     "start_time": "2024-08-26T09:29:56.655151Z"
    }
   },
   "cell_type": "code",
   "source": "Model.model_fields",
   "id": "c22a1bd10a018bb2",
   "outputs": [
    {
     "data": {
      "text/plain": [
       "{'number': FieldInfo(annotation=int, required=True, metadata=[Gt(gt=0)])}"
      ]
     },
     "execution_count": 16,
     "metadata": {},
     "output_type": "execute_result"
    }
   ],
   "execution_count": 16
  },
  {
   "metadata": {},
   "cell_type": "code",
   "outputs": [],
   "execution_count": null,
   "source": "",
   "id": "749534fcd958c17d"
  }
 ],
 "metadata": {
  "kernelspec": {
   "display_name": "Python 3",
   "language": "python",
   "name": "python3"
  },
  "language_info": {
   "codemirror_mode": {
    "name": "ipython",
    "version": 2
   },
   "file_extension": ".py",
   "mimetype": "text/x-python",
   "name": "python",
   "nbconvert_exporter": "python",
   "pygments_lexer": "ipython2",
   "version": "2.7.6"
  }
 },
 "nbformat": 4,
 "nbformat_minor": 5
}
