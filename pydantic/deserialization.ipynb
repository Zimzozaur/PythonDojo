{
 "cells": [
  {
   "cell_type": "code",
   "id": "initial_id",
   "metadata": {
    "collapsed": true,
    "ExecuteTime": {
     "end_time": "2024-08-01T10:40:14.209558Z",
     "start_time": "2024-08-01T10:40:14.174679Z"
    }
   },
   "source": "from pydantic import BaseModel, ValidationError",
   "outputs": [],
   "execution_count": 1
  },
  {
   "metadata": {
    "ExecuteTime": {
     "end_time": "2024-08-01T10:40:35.690895Z",
     "start_time": "2024-08-01T10:40:35.630266Z"
    }
   },
   "cell_type": "code",
   "source": [
    "class Person(BaseModel):\n",
    "    first_name: str\n",
    "    last_name: str\n",
    "    age: int"
   ],
   "id": "6c1affeb4f35ff5c",
   "outputs": [],
   "execution_count": 2
  },
  {
   "metadata": {
    "ExecuteTime": {
     "end_time": "2024-08-01T10:41:33.170191Z",
     "start_time": "2024-08-01T10:41:33.167134Z"
    }
   },
   "cell_type": "code",
   "source": "p = Person(first_name=\"Isaac\", last_name='Newton', age=84)",
   "id": "10c1267cac742ab8",
   "outputs": [],
   "execution_count": 3
  },
  {
   "metadata": {
    "ExecuteTime": {
     "end_time": "2024-08-01T10:41:58.526604Z",
     "start_time": "2024-08-01T10:41:58.522997Z"
    }
   },
   "cell_type": "code",
   "source": [
    "data = {\n",
    "    'first_name': 'Isaac',\n",
    "    'last_name': 'Newton',\n",
    "    'age': 84\n",
    "}"
   ],
   "id": "4c781ca5363fbbda",
   "outputs": [],
   "execution_count": 4
  },
  {
   "metadata": {
    "ExecuteTime": {
     "end_time": "2024-08-01T10:42:23.992929Z",
     "start_time": "2024-08-01T10:42:23.985291Z"
    }
   },
   "cell_type": "code",
   "source": "Person(**data)",
   "id": "fdf5a333c563ec69",
   "outputs": [
    {
     "data": {
      "text/plain": [
       "Person(first_name='Isaac', last_name='Newton', age=84)"
      ]
     },
     "execution_count": 5,
     "metadata": {},
     "output_type": "execute_result"
    }
   ],
   "execution_count": 5
  },
  {
   "metadata": {
    "ExecuteTime": {
     "end_time": "2024-08-01T10:43:56.995064Z",
     "start_time": "2024-08-01T10:43:56.991701Z"
    }
   },
   "cell_type": "code",
   "source": "p = Person.model_validate(data)",
   "id": "8d3142333190b41a",
   "outputs": [],
   "execution_count": 6
  },
  {
   "metadata": {
    "ExecuteTime": {
     "end_time": "2024-08-01T10:43:59.423416Z",
     "start_time": "2024-08-01T10:43:59.419345Z"
    }
   },
   "cell_type": "code",
   "source": "p",
   "id": "8d56c685534987c7",
   "outputs": [
    {
     "data": {
      "text/plain": [
       "Person(first_name='Isaac', last_name='Newton', age=84)"
      ]
     },
     "execution_count": 7,
     "metadata": {},
     "output_type": "execute_result"
    }
   ],
   "execution_count": 7
  },
  {
   "metadata": {
    "ExecuteTime": {
     "end_time": "2024-08-01T10:44:35.757301Z",
     "start_time": "2024-08-01T10:44:35.754175Z"
    }
   },
   "cell_type": "code",
   "source": [
    "missing_data = {\n",
    "    'last_name': 'Newton',\n",
    "}"
   ],
   "id": "58c947e925ff2ba",
   "outputs": [],
   "execution_count": 8
  },
  {
   "metadata": {
    "ExecuteTime": {
     "end_time": "2024-08-01T10:45:16.471755Z",
     "start_time": "2024-08-01T10:45:16.468849Z"
    }
   },
   "cell_type": "code",
   "source": [
    "try:\n",
    "    Person.model_validate(missing_data)\n",
    "except ValidationError as ex:\n",
    "    print(ex)"
   ],
   "id": "e05c5a75ca0653a3",
   "outputs": [
    {
     "name": "stdout",
     "output_type": "stream",
     "text": [
      "2 validation errors for Person\n",
      "first_name\n",
      "  Field required [type=missing, input_value={'last_name': 'Newton'}, input_type=dict]\n",
      "    For further information visit https://errors.pydantic.dev/2.8/v/missing\n",
      "age\n",
      "  Field required [type=missing, input_value={'last_name': 'Newton'}, input_type=dict]\n",
      "    For further information visit https://errors.pydantic.dev/2.8/v/missing\n"
     ]
    }
   ],
   "execution_count": 9
  },
  {
   "metadata": {
    "ExecuteTime": {
     "end_time": "2024-08-01T10:47:23.501568Z",
     "start_time": "2024-08-01T10:47:23.498327Z"
    }
   },
   "cell_type": "code",
   "source": [
    "data_json = \"\"\"\n",
    "{\n",
    "    \"first_name\": \"Isaac\",\n",
    "    \"last_name\": \"Newton\",\n",
    "    \"age\": 84\n",
    "}\n",
    "\"\"\""
   ],
   "id": "7dfa8a107c666ae2",
   "outputs": [],
   "execution_count": 10
  },
  {
   "metadata": {
    "ExecuteTime": {
     "end_time": "2024-08-01T10:47:59.255746Z",
     "start_time": "2024-08-01T10:47:59.252809Z"
    }
   },
   "cell_type": "code",
   "source": "p = Person.model_validate_json(data_json)",
   "id": "f5c223287e1efdd8",
   "outputs": [],
   "execution_count": 11
  },
  {
   "metadata": {
    "ExecuteTime": {
     "end_time": "2024-08-01T10:48:01.005643Z",
     "start_time": "2024-08-01T10:48:01.000180Z"
    }
   },
   "cell_type": "code",
   "source": "p",
   "id": "bb6c8e274eb1e66e",
   "outputs": [
    {
     "data": {
      "text/plain": [
       "Person(first_name='Isaac', last_name='Newton', age=84)"
      ]
     },
     "execution_count": 12,
     "metadata": {},
     "output_type": "execute_result"
    }
   ],
   "execution_count": 12
  },
  {
   "metadata": {
    "ExecuteTime": {
     "end_time": "2024-08-01T10:49:50.547397Z",
     "start_time": "2024-08-01T10:49:50.544577Z"
    }
   },
   "cell_type": "code",
   "source": [
    "data_json = \"\"\"\n",
    "{\n",
    "    \"first_name\": \"Isaac\",\n",
    "}\n",
    "\"\"\"\n",
    "try:\n",
    "    Person.model_validate_json(data_json)\n",
    "except ValidationError as ex:\n",
    "    print(ex)"
   ],
   "id": "628598a95f649742",
   "outputs": [
    {
     "name": "stdout",
     "output_type": "stream",
     "text": [
      "1 validation error for Person\n",
      "  Invalid JSON: trailing comma at line 4 column 1 [type=json_invalid, input_value='\\n{\\n    \"first_name\": \"Isaac\",\\n}\\n', input_type=str]\n",
      "    For further information visit https://errors.pydantic.dev/2.8/v/json_invalid\n"
     ]
    }
   ],
   "execution_count": 17
  },
  {
   "metadata": {
    "ExecuteTime": {
     "end_time": "2024-08-01T10:49:50.973552Z",
     "start_time": "2024-08-01T10:49:50.969142Z"
    }
   },
   "cell_type": "code",
   "source": [
    "data_json = \"\"\"\n",
    "{\n",
    "    \"first_name\": \"Isaac\"\n",
    "}\n",
    "\"\"\"\n",
    "try:\n",
    "    Person.model_validate_json(data_json)\n",
    "except ValidationError as ex:\n",
    "    print(ex)"
   ],
   "id": "edc76d04269e3509",
   "outputs": [
    {
     "name": "stdout",
     "output_type": "stream",
     "text": [
      "2 validation errors for Person\n",
      "last_name\n",
      "  Field required [type=missing, input_value={'first_name': 'Isaac'}, input_type=dict]\n",
      "    For further information visit https://errors.pydantic.dev/2.8/v/missing\n",
      "age\n",
      "  Field required [type=missing, input_value={'first_name': 'Isaac'}, input_type=dict]\n",
      "    For further information visit https://errors.pydantic.dev/2.8/v/missing\n"
     ]
    }
   ],
   "execution_count": 18
  },
  {
   "metadata": {},
   "cell_type": "code",
   "outputs": [],
   "execution_count": null,
   "source": "",
   "id": "64266aeeff1ee69b"
  }
 ],
 "metadata": {
  "kernelspec": {
   "display_name": "Python 3",
   "language": "python",
   "name": "python3"
  },
  "language_info": {
   "codemirror_mode": {
    "name": "ipython",
    "version": 2
   },
   "file_extension": ".py",
   "mimetype": "text/x-python",
   "name": "python",
   "nbconvert_exporter": "python",
   "pygments_lexer": "ipython2",
   "version": "2.7.6"
  }
 },
 "nbformat": 4,
 "nbformat_minor": 5
}
