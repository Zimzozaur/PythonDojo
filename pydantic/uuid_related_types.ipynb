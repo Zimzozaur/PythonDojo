{
 "cells": [
  {
   "cell_type": "code",
   "id": "initial_id",
   "metadata": {
    "collapsed": true,
    "ExecuteTime": {
     "end_time": "2024-08-26T07:08:37.869926Z",
     "start_time": "2024-08-26T07:08:37.867081Z"
    }
   },
   "source": "from uuid import uuid4",
   "outputs": [],
   "execution_count": 1
  },
  {
   "metadata": {
    "ExecuteTime": {
     "end_time": "2024-08-26T07:08:39.757720Z",
     "start_time": "2024-08-26T07:08:39.751265Z"
    }
   },
   "cell_type": "code",
   "source": "uuid4()",
   "id": "75dd65f4f61c07ce",
   "outputs": [
    {
     "data": {
      "text/plain": [
       "UUID('4f90ecb3-2d02-4cbd-beb6-eb9739a78ae0')"
      ]
     },
     "execution_count": 2,
     "metadata": {},
     "output_type": "execute_result"
    }
   ],
   "execution_count": 2
  },
  {
   "metadata": {
    "ExecuteTime": {
     "end_time": "2024-08-26T07:27:55.631351Z",
     "start_time": "2024-08-26T07:27:55.626694Z"
    }
   },
   "cell_type": "code",
   "source": "str(uuid4())",
   "id": "33442601404e2004",
   "outputs": [
    {
     "data": {
      "text/plain": [
       "'2ba8cc18-0e9a-4ce0-958c-aadb27f57cb0'"
      ]
     },
     "execution_count": 11,
     "metadata": {},
     "output_type": "execute_result"
    }
   ],
   "execution_count": 11
  },
  {
   "metadata": {
    "ExecuteTime": {
     "end_time": "2024-08-26T07:24:16.570064Z",
     "start_time": "2024-08-26T07:24:16.471494Z"
    }
   },
   "cell_type": "code",
   "source": "from pydantic import BaseModel, Field, UUID4",
   "id": "91d7f0149d79832c",
   "outputs": [],
   "execution_count": 3
  },
  {
   "metadata": {
    "ExecuteTime": {
     "end_time": "2024-08-26T07:24:49.328195Z",
     "start_time": "2024-08-26T07:24:49.229953Z"
    }
   },
   "cell_type": "code",
   "source": [
    "class Person(BaseModel):\n",
    "    id: UUID4"
   ],
   "id": "9cab04afb8cc49d4",
   "outputs": [],
   "execution_count": 4
  },
  {
   "metadata": {
    "ExecuteTime": {
     "end_time": "2024-08-26T07:24:59.382901Z",
     "start_time": "2024-08-26T07:24:59.380120Z"
    }
   },
   "cell_type": "code",
   "source": "p = Person(id=uuid4())",
   "id": "129cf42103950b19",
   "outputs": [],
   "execution_count": 5
  },
  {
   "metadata": {
    "ExecuteTime": {
     "end_time": "2024-08-26T07:25:00.372520Z",
     "start_time": "2024-08-26T07:25:00.368300Z"
    }
   },
   "cell_type": "code",
   "source": "p",
   "id": "c964850313122745",
   "outputs": [
    {
     "data": {
      "text/plain": [
       "Person(id=UUID('d3a62288-66b5-4a79-9071-0416c028b00d'))"
      ]
     },
     "execution_count": 6,
     "metadata": {},
     "output_type": "execute_result"
    }
   ],
   "execution_count": 6
  },
  {
   "metadata": {
    "ExecuteTime": {
     "end_time": "2024-08-26T07:25:27.486280Z",
     "start_time": "2024-08-26T07:25:27.483525Z"
    }
   },
   "cell_type": "code",
   "source": "p = Person(id='d3a62288-66b5-4a79-9071-0416c028b00d')",
   "id": "85f317b62f102667",
   "outputs": [],
   "execution_count": 7
  },
  {
   "metadata": {
    "ExecuteTime": {
     "end_time": "2024-08-26T07:25:29.127283Z",
     "start_time": "2024-08-26T07:25:29.123992Z"
    }
   },
   "cell_type": "code",
   "source": "p",
   "id": "5a00dfb620eb468b",
   "outputs": [
    {
     "data": {
      "text/plain": [
       "Person(id=UUID('d3a62288-66b5-4a79-9071-0416c028b00d'))"
      ]
     },
     "execution_count": 8,
     "metadata": {},
     "output_type": "execute_result"
    }
   ],
   "execution_count": 8
  },
  {
   "metadata": {
    "ExecuteTime": {
     "end_time": "2024-08-26T07:25:36.362697Z",
     "start_time": "2024-08-26T07:25:36.359563Z"
    }
   },
   "cell_type": "code",
   "source": "p.model_dump()",
   "id": "d43db056f5292314",
   "outputs": [
    {
     "data": {
      "text/plain": [
       "{'id': UUID('d3a62288-66b5-4a79-9071-0416c028b00d')}"
      ]
     },
     "execution_count": 9,
     "metadata": {},
     "output_type": "execute_result"
    }
   ],
   "execution_count": 9
  },
  {
   "metadata": {
    "ExecuteTime": {
     "end_time": "2024-08-26T07:27:39.180778Z",
     "start_time": "2024-08-26T07:27:39.176863Z"
    }
   },
   "cell_type": "code",
   "source": "p.model_dump_json()",
   "id": "242e4086ca469581",
   "outputs": [
    {
     "data": {
      "text/plain": [
       "'{\"id\":\"d3a62288-66b5-4a79-9071-0416c028b00d\"}'"
      ]
     },
     "execution_count": 10,
     "metadata": {},
     "output_type": "execute_result"
    }
   ],
   "execution_count": 10
  },
  {
   "metadata": {
    "ExecuteTime": {
     "end_time": "2024-08-26T07:30:04.099823Z",
     "start_time": "2024-08-26T07:30:04.094806Z"
    }
   },
   "cell_type": "code",
   "source": [
    "class Person(BaseModel):\n",
    "    id: UUID4 = uuid4()"
   ],
   "id": "3ac8838fe9b1b55a",
   "outputs": [],
   "execution_count": 17
  },
  {
   "metadata": {
    "ExecuteTime": {
     "end_time": "2024-08-26T07:30:04.347352Z",
     "start_time": "2024-08-26T07:30:04.343811Z"
    }
   },
   "cell_type": "code",
   "source": "Person().id == Person().id",
   "id": "6704025ac870f98a",
   "outputs": [
    {
     "data": {
      "text/plain": [
       "True"
      ]
     },
     "execution_count": 18,
     "metadata": {},
     "output_type": "execute_result"
    }
   ],
   "execution_count": 18
  },
  {
   "metadata": {
    "ExecuteTime": {
     "end_time": "2024-08-26T07:30:05.259195Z",
     "start_time": "2024-08-26T07:30:05.254156Z"
    }
   },
   "cell_type": "code",
   "source": [
    "class Person(BaseModel):\n",
    "    id: UUID4 = Field(default_factory=uuid4)"
   ],
   "id": "55f96d95adb653a5",
   "outputs": [],
   "execution_count": 19
  },
  {
   "metadata": {
    "ExecuteTime": {
     "end_time": "2024-08-26T07:30:05.497684Z",
     "start_time": "2024-08-26T07:30:05.492828Z"
    }
   },
   "cell_type": "code",
   "source": "Person().id == Person().id",
   "id": "fdd23f114dea323c",
   "outputs": [
    {
     "data": {
      "text/plain": [
       "False"
      ]
     },
     "execution_count": 20,
     "metadata": {},
     "output_type": "execute_result"
    }
   ],
   "execution_count": 20
  },
  {
   "metadata": {},
   "cell_type": "code",
   "outputs": [],
   "execution_count": null,
   "source": "",
   "id": "25f9c19e60538ec4"
  }
 ],
 "metadata": {
  "kernelspec": {
   "display_name": "Python 3",
   "language": "python",
   "name": "python3"
  },
  "language_info": {
   "codemirror_mode": {
    "name": "ipython",
    "version": 2
   },
   "file_extension": ".py",
   "mimetype": "text/x-python",
   "name": "python",
   "nbconvert_exporter": "python",
   "pygments_lexer": "ipython2",
   "version": "2.7.6"
  }
 },
 "nbformat": 4,
 "nbformat_minor": 5
}
