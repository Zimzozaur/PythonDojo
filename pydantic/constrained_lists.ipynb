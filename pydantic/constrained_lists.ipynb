{
 "cells": [
  {
   "cell_type": "code",
   "id": "initial_id",
   "metadata": {
    "collapsed": true,
    "ExecuteTime": {
     "end_time": "2024-08-26T07:01:06.144163Z",
     "start_time": "2024-08-26T07:01:06.140167Z"
    }
   },
   "source": "from pydantic import BaseModel, PositiveInt, ValidationError, conlist",
   "outputs": [],
   "execution_count": 19
  },
  {
   "metadata": {
    "ExecuteTime": {
     "end_time": "2024-08-26T06:55:31.543950Z",
     "start_time": "2024-08-26T06:55:31.484508Z"
    }
   },
   "cell_type": "code",
   "source": [
    "class Circle(BaseModel):\n",
    "    center: tuple[int, int] = (0, 0)\n",
    "    radius: PositiveInt = 1"
   ],
   "id": "c2bc94ee6293c44e",
   "outputs": [],
   "execution_count": 2
  },
  {
   "metadata": {
    "ExecuteTime": {
     "end_time": "2024-08-26T06:56:30.834790Z",
     "start_time": "2024-08-26T06:56:30.830643Z"
    }
   },
   "cell_type": "code",
   "source": [
    "class Sphere(BaseModel):\n",
    "    center: tuple[int, ...] = (0, 0)\n",
    "    radius: PositiveInt = 1"
   ],
   "id": "8274fcdd2b6564cb",
   "outputs": [],
   "execution_count": 4
  },
  {
   "metadata": {
    "ExecuteTime": {
     "end_time": "2024-08-26T06:56:54.859428Z",
     "start_time": "2024-08-26T06:56:54.854891Z"
    }
   },
   "cell_type": "code",
   "source": "Sphere(center=(0, 0), radius=10)",
   "id": "fa9a78a02a822b00",
   "outputs": [
    {
     "data": {
      "text/plain": [
       "Sphere(center=(0, 0), radius=10)"
      ]
     },
     "execution_count": 7,
     "metadata": {},
     "output_type": "execute_result"
    }
   ],
   "execution_count": 7
  },
  {
   "metadata": {
    "ExecuteTime": {
     "end_time": "2024-08-26T06:56:55.129707Z",
     "start_time": "2024-08-26T06:56:55.125015Z"
    }
   },
   "cell_type": "code",
   "source": "Sphere(center=(0, 0, 0), radius=10)",
   "id": "d2d54d4fbbaa7bcb",
   "outputs": [
    {
     "data": {
      "text/plain": [
       "Sphere(center=(0, 0, 0), radius=10)"
      ]
     },
     "execution_count": 8,
     "metadata": {},
     "output_type": "execute_result"
    }
   ],
   "execution_count": 8
  },
  {
   "metadata": {
    "ExecuteTime": {
     "end_time": "2024-08-26T06:57:02.830153Z",
     "start_time": "2024-08-26T06:57:02.825156Z"
    }
   },
   "cell_type": "code",
   "source": "Sphere(center=(0, 0, 0, 0), radius=10)",
   "id": "88d06ed517432c83",
   "outputs": [
    {
     "data": {
      "text/plain": [
       "Sphere(center=(0, 0, 0, 0), radius=10)"
      ]
     },
     "execution_count": 9,
     "metadata": {},
     "output_type": "execute_result"
    }
   ],
   "execution_count": 9
  },
  {
   "metadata": {
    "ExecuteTime": {
     "end_time": "2024-08-26T06:57:54.629078Z",
     "start_time": "2024-08-26T06:57:54.624593Z"
    }
   },
   "cell_type": "code",
   "source": "Sphere.model_fields",
   "id": "dc17f7c29bf649a2",
   "outputs": [
    {
     "data": {
      "text/plain": [
       "{'center': FieldInfo(annotation=tuple[int, ...], required=False, default=(0, 0)),\n",
       " 'radius': FieldInfo(annotation=int, required=False, default=1, metadata=[Gt(gt=0)])}"
      ]
     },
     "execution_count": 10,
     "metadata": {},
     "output_type": "execute_result"
    }
   ],
   "execution_count": 10
  },
  {
   "metadata": {
    "ExecuteTime": {
     "end_time": "2024-08-26T07:01:45.529755Z",
     "start_time": "2024-08-26T07:01:45.524402Z"
    }
   },
   "cell_type": "code",
   "source": [
    "class Sphere(BaseModel):\n",
    "    center: conlist(int, min_length=2, max_length=3) = (0, 0)\n",
    "    radius: PositiveInt = 1"
   ],
   "id": "60297bb5c7572b91",
   "outputs": [],
   "execution_count": 22
  },
  {
   "metadata": {
    "ExecuteTime": {
     "end_time": "2024-08-26T07:01:45.888711Z",
     "start_time": "2024-08-26T07:01:45.883039Z"
    }
   },
   "cell_type": "code",
   "source": "Sphere(center=[0, 0], radius=10)",
   "id": "4819241828daa573",
   "outputs": [
    {
     "data": {
      "text/plain": [
       "Sphere(center=[0, 0], radius=10)"
      ]
     },
     "execution_count": 23,
     "metadata": {},
     "output_type": "execute_result"
    }
   ],
   "execution_count": 23
  },
  {
   "metadata": {
    "ExecuteTime": {
     "end_time": "2024-08-26T07:01:58.729914Z",
     "start_time": "2024-08-26T07:01:58.725265Z"
    }
   },
   "cell_type": "code",
   "source": "Sphere(center=[0, 0, 0], radius=10)",
   "id": "3ff85305428c4e33",
   "outputs": [
    {
     "data": {
      "text/plain": [
       "Sphere(center=[0, 0, 0], radius=10)"
      ]
     },
     "execution_count": 25,
     "metadata": {},
     "output_type": "execute_result"
    }
   ],
   "execution_count": 25
  },
  {
   "metadata": {
    "ExecuteTime": {
     "end_time": "2024-08-26T07:02:03.122497Z",
     "start_time": "2024-08-26T07:02:03.095517Z"
    }
   },
   "cell_type": "code",
   "source": "Sphere(center=[0, 0, 0, 0], radius=10)",
   "id": "35626e21552e805a",
   "outputs": [
    {
     "ename": "ValidationError",
     "evalue": "1 validation error for Sphere\ncenter\n  List should have at most 3 items after validation, not 4 [type=too_long, input_value=[0, 0, 0, 0], input_type=list]\n    For further information visit https://errors.pydantic.dev/2.8/v/too_long",
     "output_type": "error",
     "traceback": [
      "\u001B[0;31m---------------------------------------------------------------------------\u001B[0m",
      "\u001B[0;31mValidationError\u001B[0m                           Traceback (most recent call last)",
      "Cell \u001B[0;32mIn[26], line 1\u001B[0m\n\u001B[0;32m----> 1\u001B[0m \u001B[43mSphere\u001B[49m\u001B[43m(\u001B[49m\u001B[43mcenter\u001B[49m\u001B[38;5;241;43m=\u001B[39;49m\u001B[43m[\u001B[49m\u001B[38;5;241;43m0\u001B[39;49m\u001B[43m,\u001B[49m\u001B[43m \u001B[49m\u001B[38;5;241;43m0\u001B[39;49m\u001B[43m,\u001B[49m\u001B[43m \u001B[49m\u001B[38;5;241;43m0\u001B[39;49m\u001B[43m,\u001B[49m\u001B[43m \u001B[49m\u001B[38;5;241;43m0\u001B[39;49m\u001B[43m]\u001B[49m\u001B[43m,\u001B[49m\u001B[43m \u001B[49m\u001B[43mradius\u001B[49m\u001B[38;5;241;43m=\u001B[39;49m\u001B[38;5;241;43m10\u001B[39;49m\u001B[43m)\u001B[49m\n",
      "File \u001B[0;32m~/a-code/PythonDojo/venv/lib/python3.12/site-packages/pydantic/main.py:193\u001B[0m, in \u001B[0;36mBaseModel.__init__\u001B[0;34m(self, **data)\u001B[0m\n\u001B[1;32m    191\u001B[0m \u001B[38;5;66;03m# `__tracebackhide__` tells pytest and some other tools to omit this function from tracebacks\u001B[39;00m\n\u001B[1;32m    192\u001B[0m __tracebackhide__ \u001B[38;5;241m=\u001B[39m \u001B[38;5;28;01mTrue\u001B[39;00m\n\u001B[0;32m--> 193\u001B[0m \u001B[38;5;28;43mself\u001B[39;49m\u001B[38;5;241;43m.\u001B[39;49m\u001B[43m__pydantic_validator__\u001B[49m\u001B[38;5;241;43m.\u001B[39;49m\u001B[43mvalidate_python\u001B[49m\u001B[43m(\u001B[49m\u001B[43mdata\u001B[49m\u001B[43m,\u001B[49m\u001B[43m \u001B[49m\u001B[43mself_instance\u001B[49m\u001B[38;5;241;43m=\u001B[39;49m\u001B[38;5;28;43mself\u001B[39;49m\u001B[43m)\u001B[49m\n",
      "\u001B[0;31mValidationError\u001B[0m: 1 validation error for Sphere\ncenter\n  List should have at most 3 items after validation, not 4 [type=too_long, input_value=[0, 0, 0, 0], input_type=list]\n    For further information visit https://errors.pydantic.dev/2.8/v/too_long"
     ]
    }
   ],
   "execution_count": 26
  },
  {
   "metadata": {
    "ExecuteTime": {
     "end_time": "2024-08-26T07:02:56.278418Z",
     "start_time": "2024-08-26T07:02:56.238476Z"
    }
   },
   "cell_type": "code",
   "source": "Sphere(center=[0], radius=10)",
   "id": "6282582041a6512e",
   "outputs": [
    {
     "ename": "ValidationError",
     "evalue": "1 validation error for Sphere\ncenter\n  List should have at least 2 items after validation, not 1 [type=too_short, input_value=[0], input_type=list]\n    For further information visit https://errors.pydantic.dev/2.8/v/too_short",
     "output_type": "error",
     "traceback": [
      "\u001B[0;31m---------------------------------------------------------------------------\u001B[0m",
      "\u001B[0;31mValidationError\u001B[0m                           Traceback (most recent call last)",
      "Cell \u001B[0;32mIn[27], line 1\u001B[0m\n\u001B[0;32m----> 1\u001B[0m \u001B[43mSphere\u001B[49m\u001B[43m(\u001B[49m\u001B[43mcenter\u001B[49m\u001B[38;5;241;43m=\u001B[39;49m\u001B[43m[\u001B[49m\u001B[38;5;241;43m0\u001B[39;49m\u001B[43m]\u001B[49m\u001B[43m,\u001B[49m\u001B[43m \u001B[49m\u001B[43mradius\u001B[49m\u001B[38;5;241;43m=\u001B[39;49m\u001B[38;5;241;43m10\u001B[39;49m\u001B[43m)\u001B[49m\n",
      "File \u001B[0;32m~/a-code/PythonDojo/venv/lib/python3.12/site-packages/pydantic/main.py:193\u001B[0m, in \u001B[0;36mBaseModel.__init__\u001B[0;34m(self, **data)\u001B[0m\n\u001B[1;32m    191\u001B[0m \u001B[38;5;66;03m# `__tracebackhide__` tells pytest and some other tools to omit this function from tracebacks\u001B[39;00m\n\u001B[1;32m    192\u001B[0m __tracebackhide__ \u001B[38;5;241m=\u001B[39m \u001B[38;5;28;01mTrue\u001B[39;00m\n\u001B[0;32m--> 193\u001B[0m \u001B[38;5;28;43mself\u001B[39;49m\u001B[38;5;241;43m.\u001B[39;49m\u001B[43m__pydantic_validator__\u001B[49m\u001B[38;5;241;43m.\u001B[39;49m\u001B[43mvalidate_python\u001B[49m\u001B[43m(\u001B[49m\u001B[43mdata\u001B[49m\u001B[43m,\u001B[49m\u001B[43m \u001B[49m\u001B[43mself_instance\u001B[49m\u001B[38;5;241;43m=\u001B[39;49m\u001B[38;5;28;43mself\u001B[39;49m\u001B[43m)\u001B[49m\n",
      "\u001B[0;31mValidationError\u001B[0m: 1 validation error for Sphere\ncenter\n  List should have at least 2 items after validation, not 1 [type=too_short, input_value=[0], input_type=list]\n    For further information visit https://errors.pydantic.dev/2.8/v/too_short"
     ]
    }
   ],
   "execution_count": 27
  },
  {
   "metadata": {},
   "cell_type": "code",
   "outputs": [],
   "execution_count": null,
   "source": "",
   "id": "8065b6cb10ea6c1b"
  }
 ],
 "metadata": {
  "kernelspec": {
   "display_name": "Python 3",
   "language": "python",
   "name": "python3"
  },
  "language_info": {
   "codemirror_mode": {
    "name": "ipython",
    "version": 2
   },
   "file_extension": ".py",
   "mimetype": "text/x-python",
   "name": "python",
   "nbconvert_exporter": "python",
   "pygments_lexer": "ipython2",
   "version": "2.7.6"
  }
 },
 "nbformat": 4,
 "nbformat_minor": 5
}
