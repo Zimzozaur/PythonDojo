{
 "cells": [
  {
   "cell_type": "code",
   "id": "initial_id",
   "metadata": {
    "collapsed": true,
    "ExecuteTime": {
     "end_time": "2024-08-01T13:05:42.329661Z",
     "start_time": "2024-08-01T13:05:42.326903Z"
    }
   },
   "source": "from pydantic import BaseModel, ValidationError",
   "outputs": [],
   "execution_count": 11
  },
  {
   "metadata": {
    "ExecuteTime": {
     "end_time": "2024-08-01T13:02:16.019634Z",
     "start_time": "2024-08-01T13:02:15.953407Z"
    }
   },
   "cell_type": "code",
   "source": [
    "class Circle(BaseModel):\n",
    "    center: tuple[int, int]\n",
    "    radius: int"
   ],
   "id": "1ff838dc0c7edf27",
   "outputs": [],
   "execution_count": 2
  },
  {
   "metadata": {
    "ExecuteTime": {
     "end_time": "2024-08-01T13:02:29.701167Z",
     "start_time": "2024-08-01T13:02:29.693707Z"
    }
   },
   "cell_type": "code",
   "source": "Circle.model_fields",
   "id": "7ecfed25703552b6",
   "outputs": [
    {
     "data": {
      "text/plain": [
       "{'center': FieldInfo(annotation=tuple[int, int], required=True),\n",
       " 'radius': FieldInfo(annotation=int, required=True)}"
      ]
     },
     "execution_count": 3,
     "metadata": {},
     "output_type": "execute_result"
    }
   ],
   "execution_count": 3
  },
  {
   "metadata": {
    "ExecuteTime": {
     "end_time": "2024-08-01T13:02:38.827125Z",
     "start_time": "2024-08-01T13:02:38.821684Z"
    }
   },
   "cell_type": "code",
   "source": [
    "class Circle(BaseModel):\n",
    "    center: tuple[int, int] = 0, 0\n",
    "    radius: int"
   ],
   "id": "d9d8ee27c0d5fa1d",
   "outputs": [],
   "execution_count": 4
  },
  {
   "metadata": {
    "ExecuteTime": {
     "end_time": "2024-08-01T13:02:42.804238Z",
     "start_time": "2024-08-01T13:02:42.799679Z"
    }
   },
   "cell_type": "code",
   "source": "Circle.model_fields",
   "id": "b9363cb6c71b9d5d",
   "outputs": [
    {
     "data": {
      "text/plain": [
       "{'center': FieldInfo(annotation=tuple[int, int], required=False, default=(0, 0)),\n",
       " 'radius': FieldInfo(annotation=int, required=True)}"
      ]
     },
     "execution_count": 5,
     "metadata": {},
     "output_type": "execute_result"
    }
   ],
   "execution_count": 5
  },
  {
   "metadata": {
    "ExecuteTime": {
     "end_time": "2024-08-01T13:03:17.702978Z",
     "start_time": "2024-08-01T13:03:17.697879Z"
    }
   },
   "cell_type": "code",
   "source": "Circle(radius=1)",
   "id": "3ad303ff6fc269f6",
   "outputs": [
    {
     "data": {
      "text/plain": [
       "Circle(center=(0, 0), radius=1)"
      ]
     },
     "execution_count": 6,
     "metadata": {},
     "output_type": "execute_result"
    }
   ],
   "execution_count": 6
  },
  {
   "metadata": {
    "ExecuteTime": {
     "end_time": "2024-08-01T13:03:59.837627Z",
     "start_time": "2024-08-01T13:03:59.834286Z"
    }
   },
   "cell_type": "code",
   "source": [
    "data = {'radius': 1}\n",
    "data_json = '{\"radius\": 1}'"
   ],
   "id": "3381589a21e77e46",
   "outputs": [],
   "execution_count": 7
  },
  {
   "metadata": {
    "ExecuteTime": {
     "end_time": "2024-08-01T13:04:11.692630Z",
     "start_time": "2024-08-01T13:04:11.689178Z"
    }
   },
   "cell_type": "code",
   "source": "Circle.model_validate(data)",
   "id": "b2b2c727c63a0272",
   "outputs": [
    {
     "data": {
      "text/plain": [
       "Circle(center=(0, 0), radius=1)"
      ]
     },
     "execution_count": 8,
     "metadata": {},
     "output_type": "execute_result"
    }
   ],
   "execution_count": 8
  },
  {
   "metadata": {
    "ExecuteTime": {
     "end_time": "2024-08-01T13:04:27.873438Z",
     "start_time": "2024-08-01T13:04:27.868876Z"
    }
   },
   "cell_type": "code",
   "source": "Circle.model_validate_json(data_json)",
   "id": "593ce95a0207de10",
   "outputs": [
    {
     "data": {
      "text/plain": [
       "Circle(center=(0, 0), radius=1)"
      ]
     },
     "execution_count": 9,
     "metadata": {},
     "output_type": "execute_result"
    }
   ],
   "execution_count": 9
  },
  {
   "metadata": {
    "ExecuteTime": {
     "end_time": "2024-08-01T13:04:54.563912Z",
     "start_time": "2024-08-01T13:04:54.559762Z"
    }
   },
   "cell_type": "code",
   "source": "Circle(center=(1, 1), radius=2)",
   "id": "8e38f5e2590bce7",
   "outputs": [
    {
     "data": {
      "text/plain": [
       "Circle(center=(1, 1), radius=2)"
      ]
     },
     "execution_count": 10,
     "metadata": {},
     "output_type": "execute_result"
    }
   ],
   "execution_count": 10
  },
  {
   "metadata": {
    "ExecuteTime": {
     "end_time": "2024-08-01T13:05:51.758250Z",
     "start_time": "2024-08-01T13:05:51.754914Z"
    }
   },
   "cell_type": "code",
   "source": [
    "try:\n",
    "    Circle(center=\"100\", radius=2)\n",
    "except ValidationError as ex:\n",
    "    print(ex)"
   ],
   "id": "f683ebbcaa12a6a3",
   "outputs": [
    {
     "name": "stdout",
     "output_type": "stream",
     "text": [
      "1 validation error for Circle\n",
      "center\n",
      "  Input should be a valid tuple [type=tuple_type, input_value='100', input_type=str]\n",
      "    For further information visit https://errors.pydantic.dev/2.8/v/tuple_type\n"
     ]
    }
   ],
   "execution_count": 12
  },
  {
   "metadata": {
    "ExecuteTime": {
     "end_time": "2024-08-01T13:06:32.497845Z",
     "start_time": "2024-08-01T13:06:32.495559Z"
    }
   },
   "cell_type": "code",
   "source": "c = Circle(radius=2)",
   "id": "4c3344290bc999eb",
   "outputs": [],
   "execution_count": 13
  },
  {
   "metadata": {
    "ExecuteTime": {
     "end_time": "2024-08-01T13:07:37.091878Z",
     "start_time": "2024-08-01T13:07:37.088770Z"
    }
   },
   "cell_type": "code",
   "source": "c.center = 'junk'",
   "id": "5ce914b5e28ebd66",
   "outputs": [],
   "execution_count": 16
  },
  {
   "metadata": {
    "ExecuteTime": {
     "end_time": "2024-08-01T13:07:37.384941Z",
     "start_time": "2024-08-01T13:07:37.379880Z"
    }
   },
   "cell_type": "code",
   "source": "c",
   "id": "21f97e670395c191",
   "outputs": [
    {
     "data": {
      "text/plain": [
       "Circle(center='junk', radius=2)"
      ]
     },
     "execution_count": 17,
     "metadata": {},
     "output_type": "execute_result"
    }
   ],
   "execution_count": 17
  },
  {
   "metadata": {
    "ExecuteTime": {
     "end_time": "2024-08-01T13:07:40.419825Z",
     "start_time": "2024-08-01T13:07:40.413971Z"
    }
   },
   "cell_type": "code",
   "source": [
    "class Circle(BaseModel):\n",
    "    center: tuple[int, int] = 'junk'\n",
    "    radius: int"
   ],
   "id": "93bb96b0af934eb6",
   "outputs": [],
   "execution_count": 18
  },
  {
   "metadata": {
    "ExecuteTime": {
     "end_time": "2024-08-01T13:07:47.440863Z",
     "start_time": "2024-08-01T13:07:47.437688Z"
    }
   },
   "cell_type": "code",
   "source": "Circle(radius=10)",
   "id": "bcb5aa676465c33e",
   "outputs": [
    {
     "data": {
      "text/plain": [
       "Circle(center='junk', radius=10)"
      ]
     },
     "execution_count": 19,
     "metadata": {},
     "output_type": "execute_result"
    }
   ],
   "execution_count": 19
  },
  {
   "metadata": {
    "ExecuteTime": {
     "end_time": "2024-08-01T13:10:02.757594Z",
     "start_time": "2024-08-01T13:10:02.754043Z"
    }
   },
   "cell_type": "code",
   "source": [
    "from time import time\n",
    "\n",
    "def extend_list(user_list: list = []):\n",
    "    \"\"\"Do not modify and return it is only for showcase\"\"\"\n",
    "    user_list.append(int(time()))\n",
    "    return user_list"
   ],
   "id": "54c92c08a7e27d58",
   "outputs": [],
   "execution_count": 20
  },
  {
   "metadata": {
    "ExecuteTime": {
     "end_time": "2024-08-01T13:11:21.912657Z",
     "start_time": "2024-08-01T13:11:21.907020Z"
    }
   },
   "cell_type": "code",
   "source": [
    "my_times = []\n",
    "extend_list(my_times)"
   ],
   "id": "a58e8240195573fa",
   "outputs": [
    {
     "data": {
      "text/plain": [
       "[1722517881]"
      ]
     },
     "execution_count": 21,
     "metadata": {},
     "output_type": "execute_result"
    }
   ],
   "execution_count": 21
  },
  {
   "metadata": {
    "ExecuteTime": {
     "end_time": "2024-08-01T13:11:38.688437Z",
     "start_time": "2024-08-01T13:11:38.685119Z"
    }
   },
   "cell_type": "code",
   "source": "my_times = extend_list()",
   "id": "f5a7b2ca4998e085",
   "outputs": [],
   "execution_count": 22
  },
  {
   "metadata": {
    "ExecuteTime": {
     "end_time": "2024-08-01T13:11:46.251022Z",
     "start_time": "2024-08-01T13:11:46.247296Z"
    }
   },
   "cell_type": "code",
   "source": "my_times",
   "id": "15f870d3854c4659",
   "outputs": [
    {
     "data": {
      "text/plain": [
       "[1722517898]"
      ]
     },
     "execution_count": 23,
     "metadata": {},
     "output_type": "execute_result"
    }
   ],
   "execution_count": 23
  },
  {
   "metadata": {
    "ExecuteTime": {
     "end_time": "2024-08-01T13:12:12.318725Z",
     "start_time": "2024-08-01T13:12:12.315413Z"
    }
   },
   "cell_type": "code",
   "source": "my_new_times = extend_list()",
   "id": "24e1b011ed870e5",
   "outputs": [],
   "execution_count": 24
  },
  {
   "metadata": {
    "ExecuteTime": {
     "end_time": "2024-08-01T13:12:14.254264Z",
     "start_time": "2024-08-01T13:12:14.249605Z"
    }
   },
   "cell_type": "code",
   "source": "my_new_times",
   "id": "f900b1a346f00147",
   "outputs": [
    {
     "data": {
      "text/plain": [
       "[1722517898, 1722517932]"
      ]
     },
     "execution_count": 25,
     "metadata": {},
     "output_type": "execute_result"
    }
   ],
   "execution_count": 25
  },
  {
   "metadata": {
    "ExecuteTime": {
     "end_time": "2024-08-01T13:17:52.054215Z",
     "start_time": "2024-08-01T13:17:52.050461Z"
    }
   },
   "cell_type": "code",
   "source": [
    "class Model(BaseModel):\n",
    "    my_list: list[int] = []    "
   ],
   "id": "49affa16ae660a51",
   "outputs": [],
   "execution_count": 26
  },
  {
   "metadata": {},
   "cell_type": "code",
   "outputs": [],
   "execution_count": null,
   "source": "",
   "id": "5ffbb5e61a2f9949"
  }
 ],
 "metadata": {
  "kernelspec": {
   "display_name": "Python 3",
   "language": "python",
   "name": "python3"
  },
  "language_info": {
   "codemirror_mode": {
    "name": "ipython",
    "version": 2
   },
   "file_extension": ".py",
   "mimetype": "text/x-python",
   "name": "python",
   "nbconvert_exporter": "python",
   "pygments_lexer": "ipython2",
   "version": "2.7.6"
  }
 },
 "nbformat": 4,
 "nbformat_minor": 5
}
