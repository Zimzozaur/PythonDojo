{
 "cells": [
  {
   "cell_type": "code",
   "id": "initial_id",
   "metadata": {
    "collapsed": true,
    "ExecuteTime": {
     "end_time": "2024-08-26T09:33:51.391481Z",
     "start_time": "2024-08-26T09:33:51.326724Z"
    }
   },
   "source": "from pydantic import BaseModel, Field",
   "outputs": [],
   "execution_count": 1
  },
  {
   "metadata": {
    "ExecuteTime": {
     "end_time": "2024-08-26T09:34:23.273915Z",
     "start_time": "2024-08-26T09:34:23.211748Z"
    }
   },
   "cell_type": "code",
   "source": [
    "class Model(BaseModel):\n",
    "    name: str = Field(min_length=1, max_length=20)"
   ],
   "id": "1fe955b66d29e6be",
   "outputs": [],
   "execution_count": 2
  },
  {
   "metadata": {
    "ExecuteTime": {
     "end_time": "2024-08-26T09:34:34.275003Z",
     "start_time": "2024-08-26T09:34:34.269462Z"
    }
   },
   "cell_type": "code",
   "source": "Model(name='Richard')",
   "id": "44865421fd9b3899",
   "outputs": [
    {
     "data": {
      "text/plain": [
       "Model(name='Richard')"
      ]
     },
     "execution_count": 3,
     "metadata": {},
     "output_type": "execute_result"
    }
   ],
   "execution_count": 3
  },
  {
   "metadata": {
    "ExecuteTime": {
     "end_time": "2024-08-26T09:34:44.582833Z",
     "start_time": "2024-08-26T09:34:44.373474Z"
    }
   },
   "cell_type": "code",
   "source": "Model(name='')",
   "id": "f12f4d16fb391268",
   "outputs": [
    {
     "ename": "ValidationError",
     "evalue": "1 validation error for Model\nname\n  String should have at least 1 character [type=string_too_short, input_value='', input_type=str]\n    For further information visit https://errors.pydantic.dev/2.8/v/string_too_short",
     "output_type": "error",
     "traceback": [
      "\u001B[0;31m---------------------------------------------------------------------------\u001B[0m",
      "\u001B[0;31mValidationError\u001B[0m                           Traceback (most recent call last)",
      "Cell \u001B[0;32mIn[4], line 1\u001B[0m\n\u001B[0;32m----> 1\u001B[0m \u001B[43mModel\u001B[49m\u001B[43m(\u001B[49m\u001B[43mname\u001B[49m\u001B[38;5;241;43m=\u001B[39;49m\u001B[38;5;124;43m'\u001B[39;49m\u001B[38;5;124;43m'\u001B[39;49m\u001B[43m)\u001B[49m\n",
      "File \u001B[0;32m~/a-code/PythonDojo/venv/lib/python3.12/site-packages/pydantic/main.py:193\u001B[0m, in \u001B[0;36mBaseModel.__init__\u001B[0;34m(self, **data)\u001B[0m\n\u001B[1;32m    191\u001B[0m \u001B[38;5;66;03m# `__tracebackhide__` tells pytest and some other tools to omit this function from tracebacks\u001B[39;00m\n\u001B[1;32m    192\u001B[0m __tracebackhide__ \u001B[38;5;241m=\u001B[39m \u001B[38;5;28;01mTrue\u001B[39;00m\n\u001B[0;32m--> 193\u001B[0m \u001B[38;5;28;43mself\u001B[39;49m\u001B[38;5;241;43m.\u001B[39;49m\u001B[43m__pydantic_validator__\u001B[49m\u001B[38;5;241;43m.\u001B[39;49m\u001B[43mvalidate_python\u001B[49m\u001B[43m(\u001B[49m\u001B[43mdata\u001B[49m\u001B[43m,\u001B[49m\u001B[43m \u001B[49m\u001B[43mself_instance\u001B[49m\u001B[38;5;241;43m=\u001B[39;49m\u001B[38;5;28;43mself\u001B[39;49m\u001B[43m)\u001B[49m\n",
      "\u001B[0;31mValidationError\u001B[0m: 1 validation error for Model\nname\n  String should have at least 1 character [type=string_too_short, input_value='', input_type=str]\n    For further information visit https://errors.pydantic.dev/2.8/v/string_too_short"
     ]
    }
   ],
   "execution_count": 4
  },
  {
   "metadata": {
    "ExecuteTime": {
     "end_time": "2024-08-26T09:35:26.216841Z",
     "start_time": "2024-08-26T09:35:26.194985Z"
    }
   },
   "cell_type": "code",
   "source": "Model(name='*' * 21)",
   "id": "6ddb9763788d6c06",
   "outputs": [
    {
     "ename": "ValidationError",
     "evalue": "1 validation error for Model\nname\n  String should have at most 20 characters [type=string_too_long, input_value='*********************', input_type=str]\n    For further information visit https://errors.pydantic.dev/2.8/v/string_too_long",
     "output_type": "error",
     "traceback": [
      "\u001B[0;31m---------------------------------------------------------------------------\u001B[0m",
      "\u001B[0;31mValidationError\u001B[0m                           Traceback (most recent call last)",
      "Cell \u001B[0;32mIn[6], line 1\u001B[0m\n\u001B[0;32m----> 1\u001B[0m \u001B[43mModel\u001B[49m\u001B[43m(\u001B[49m\u001B[43mname\u001B[49m\u001B[38;5;241;43m=\u001B[39;49m\u001B[38;5;124;43m'\u001B[39;49m\u001B[38;5;124;43m*\u001B[39;49m\u001B[38;5;124;43m'\u001B[39;49m\u001B[43m \u001B[49m\u001B[38;5;241;43m*\u001B[39;49m\u001B[43m \u001B[49m\u001B[38;5;241;43m21\u001B[39;49m\u001B[43m)\u001B[49m\n",
      "File \u001B[0;32m~/a-code/PythonDojo/venv/lib/python3.12/site-packages/pydantic/main.py:193\u001B[0m, in \u001B[0;36mBaseModel.__init__\u001B[0;34m(self, **data)\u001B[0m\n\u001B[1;32m    191\u001B[0m \u001B[38;5;66;03m# `__tracebackhide__` tells pytest and some other tools to omit this function from tracebacks\u001B[39;00m\n\u001B[1;32m    192\u001B[0m __tracebackhide__ \u001B[38;5;241m=\u001B[39m \u001B[38;5;28;01mTrue\u001B[39;00m\n\u001B[0;32m--> 193\u001B[0m \u001B[38;5;28;43mself\u001B[39;49m\u001B[38;5;241;43m.\u001B[39;49m\u001B[43m__pydantic_validator__\u001B[49m\u001B[38;5;241;43m.\u001B[39;49m\u001B[43mvalidate_python\u001B[49m\u001B[43m(\u001B[49m\u001B[43mdata\u001B[49m\u001B[43m,\u001B[49m\u001B[43m \u001B[49m\u001B[43mself_instance\u001B[49m\u001B[38;5;241;43m=\u001B[39;49m\u001B[38;5;28;43mself\u001B[39;49m\u001B[43m)\u001B[49m\n",
      "\u001B[0;31mValidationError\u001B[0m: 1 validation error for Model\nname\n  String should have at most 20 characters [type=string_too_long, input_value='*********************', input_type=str]\n    For further information visit https://errors.pydantic.dev/2.8/v/string_too_long"
     ]
    }
   ],
   "execution_count": 6
  },
  {
   "metadata": {
    "ExecuteTime": {
     "end_time": "2024-08-26T09:36:23.050751Z",
     "start_time": "2024-08-26T09:36:23.045363Z"
    }
   },
   "cell_type": "code",
   "source": [
    "class Model(BaseModel):\n",
    "    items: list[float] = Field(min_length=3, max_length=5, default=[1.0, 2.0, 3.0])"
   ],
   "id": "733be1a0b5ff232b",
   "outputs": [],
   "execution_count": 7
  },
  {
   "metadata": {
    "ExecuteTime": {
     "end_time": "2024-08-26T09:36:26.596736Z",
     "start_time": "2024-08-26T09:36:26.592539Z"
    }
   },
   "cell_type": "code",
   "source": "Model()",
   "id": "5a38ed4f648f533",
   "outputs": [
    {
     "data": {
      "text/plain": [
       "Model(items=[1.0, 2.0, 3.0])"
      ]
     },
     "execution_count": 8,
     "metadata": {},
     "output_type": "execute_result"
    }
   ],
   "execution_count": 8
  },
  {
   "metadata": {
    "ExecuteTime": {
     "end_time": "2024-08-26T09:36:36.055250Z",
     "start_time": "2024-08-26T09:36:36.049928Z"
    }
   },
   "cell_type": "code",
   "source": "Model(items=[4, 5, 6])",
   "id": "51986ca02bf65f11",
   "outputs": [
    {
     "data": {
      "text/plain": [
       "Model(items=[4.0, 5.0, 6.0])"
      ]
     },
     "execution_count": 9,
     "metadata": {},
     "output_type": "execute_result"
    }
   ],
   "execution_count": 9
  },
  {
   "metadata": {
    "ExecuteTime": {
     "end_time": "2024-08-26T09:36:53.976627Z",
     "start_time": "2024-08-26T09:36:53.956899Z"
    }
   },
   "cell_type": "code",
   "source": "Model(items=[1, 2])",
   "id": "d1e5e3fcd813002d",
   "outputs": [
    {
     "ename": "ValidationError",
     "evalue": "1 validation error for Model\nitems\n  List should have at least 3 items after validation, not 2 [type=too_short, input_value=[1, 2], input_type=list]\n    For further information visit https://errors.pydantic.dev/2.8/v/too_short",
     "output_type": "error",
     "traceback": [
      "\u001B[0;31m---------------------------------------------------------------------------\u001B[0m",
      "\u001B[0;31mValidationError\u001B[0m                           Traceback (most recent call last)",
      "Cell \u001B[0;32mIn[10], line 1\u001B[0m\n\u001B[0;32m----> 1\u001B[0m \u001B[43mModel\u001B[49m\u001B[43m(\u001B[49m\u001B[43mitems\u001B[49m\u001B[38;5;241;43m=\u001B[39;49m\u001B[43m[\u001B[49m\u001B[38;5;241;43m1\u001B[39;49m\u001B[43m,\u001B[49m\u001B[43m \u001B[49m\u001B[38;5;241;43m2\u001B[39;49m\u001B[43m]\u001B[49m\u001B[43m)\u001B[49m\n",
      "File \u001B[0;32m~/a-code/PythonDojo/venv/lib/python3.12/site-packages/pydantic/main.py:193\u001B[0m, in \u001B[0;36mBaseModel.__init__\u001B[0;34m(self, **data)\u001B[0m\n\u001B[1;32m    191\u001B[0m \u001B[38;5;66;03m# `__tracebackhide__` tells pytest and some other tools to omit this function from tracebacks\u001B[39;00m\n\u001B[1;32m    192\u001B[0m __tracebackhide__ \u001B[38;5;241m=\u001B[39m \u001B[38;5;28;01mTrue\u001B[39;00m\n\u001B[0;32m--> 193\u001B[0m \u001B[38;5;28;43mself\u001B[39;49m\u001B[38;5;241;43m.\u001B[39;49m\u001B[43m__pydantic_validator__\u001B[49m\u001B[38;5;241;43m.\u001B[39;49m\u001B[43mvalidate_python\u001B[49m\u001B[43m(\u001B[49m\u001B[43mdata\u001B[49m\u001B[43m,\u001B[49m\u001B[43m \u001B[49m\u001B[43mself_instance\u001B[49m\u001B[38;5;241;43m=\u001B[39;49m\u001B[38;5;28;43mself\u001B[39;49m\u001B[43m)\u001B[49m\n",
      "\u001B[0;31mValidationError\u001B[0m: 1 validation error for Model\nitems\n  List should have at least 3 items after validation, not 2 [type=too_short, input_value=[1, 2], input_type=list]\n    For further information visit https://errors.pydantic.dev/2.8/v/too_short"
     ]
    }
   ],
   "execution_count": 10
  },
  {
   "metadata": {
    "ExecuteTime": {
     "end_time": "2024-08-26T09:40:31.782524Z",
     "start_time": "2024-08-26T09:40:31.776933Z"
    }
   },
   "cell_type": "code",
   "source": [
    "class Circle(BaseModel):\n",
    "    center: tuple[int]\n",
    "    radius: int = Field(gt=0, default=1)"
   ],
   "id": "6c4d05848f9ef87d",
   "outputs": [],
   "execution_count": 11
  },
  {
   "metadata": {
    "ExecuteTime": {
     "end_time": "2024-08-26T09:40:44.338601Z",
     "start_time": "2024-08-26T09:40:44.314128Z"
    }
   },
   "cell_type": "code",
   "source": "Circle(center=(1, 1))",
   "id": "4230a1f3ba3459b0",
   "outputs": [
    {
     "ename": "ValidationError",
     "evalue": "1 validation error for Circle\ncenter\n  Tuple should have at most 1 item after validation, not 2 [type=too_long, input_value=(1, 1), input_type=tuple]\n    For further information visit https://errors.pydantic.dev/2.8/v/too_long",
     "output_type": "error",
     "traceback": [
      "\u001B[0;31m---------------------------------------------------------------------------\u001B[0m",
      "\u001B[0;31mValidationError\u001B[0m                           Traceback (most recent call last)",
      "Cell \u001B[0;32mIn[12], line 1\u001B[0m\n\u001B[0;32m----> 1\u001B[0m \u001B[43mCircle\u001B[49m\u001B[43m(\u001B[49m\u001B[43mcenter\u001B[49m\u001B[38;5;241;43m=\u001B[39;49m\u001B[43m(\u001B[49m\u001B[38;5;241;43m1\u001B[39;49m\u001B[43m,\u001B[49m\u001B[43m \u001B[49m\u001B[38;5;241;43m1\u001B[39;49m\u001B[43m)\u001B[49m\u001B[43m)\u001B[49m\n",
      "File \u001B[0;32m~/a-code/PythonDojo/venv/lib/python3.12/site-packages/pydantic/main.py:193\u001B[0m, in \u001B[0;36mBaseModel.__init__\u001B[0;34m(self, **data)\u001B[0m\n\u001B[1;32m    191\u001B[0m \u001B[38;5;66;03m# `__tracebackhide__` tells pytest and some other tools to omit this function from tracebacks\u001B[39;00m\n\u001B[1;32m    192\u001B[0m __tracebackhide__ \u001B[38;5;241m=\u001B[39m \u001B[38;5;28;01mTrue\u001B[39;00m\n\u001B[0;32m--> 193\u001B[0m \u001B[38;5;28;43mself\u001B[39;49m\u001B[38;5;241;43m.\u001B[39;49m\u001B[43m__pydantic_validator__\u001B[49m\u001B[38;5;241;43m.\u001B[39;49m\u001B[43mvalidate_python\u001B[49m\u001B[43m(\u001B[49m\u001B[43mdata\u001B[49m\u001B[43m,\u001B[49m\u001B[43m \u001B[49m\u001B[43mself_instance\u001B[49m\u001B[38;5;241;43m=\u001B[39;49m\u001B[38;5;28;43mself\u001B[39;49m\u001B[43m)\u001B[49m\n",
      "\u001B[0;31mValidationError\u001B[0m: 1 validation error for Circle\ncenter\n  Tuple should have at most 1 item after validation, not 2 [type=too_long, input_value=(1, 1), input_type=tuple]\n    For further information visit https://errors.pydantic.dev/2.8/v/too_long"
     ]
    }
   ],
   "execution_count": 12
  },
  {
   "metadata": {
    "ExecuteTime": {
     "end_time": "2024-08-26T09:42:20.078371Z",
     "start_time": "2024-08-26T09:42:20.074500Z"
    }
   },
   "cell_type": "code",
   "source": [
    "class Circle(BaseModel):\n",
    "    center: tuple[int, ...] = Field(min_length=2, max_length=3, default=(0, 0))\n",
    "    radius: int = Field(gt=0, default=1)"
   ],
   "id": "886e5cec82c2ddd7",
   "outputs": [],
   "execution_count": 17
  },
  {
   "metadata": {
    "ExecuteTime": {
     "end_time": "2024-08-26T09:42:22.527466Z",
     "start_time": "2024-08-26T09:42:22.520647Z"
    }
   },
   "cell_type": "code",
   "source": "Circle(center=(1, 1))",
   "id": "c65bca78a9bed8dd",
   "outputs": [
    {
     "data": {
      "text/plain": [
       "Circle(center=(1, 1), radius=1)"
      ]
     },
     "execution_count": 18,
     "metadata": {},
     "output_type": "execute_result"
    }
   ],
   "execution_count": 18
  },
  {
   "metadata": {
    "ExecuteTime": {
     "end_time": "2024-08-26T09:52:43.090245Z",
     "start_time": "2024-08-26T09:52:43.086431Z"
    }
   },
   "cell_type": "code",
   "source": "print(\"a\\nb\")",
   "id": "b2bbd250465d4878",
   "outputs": [
    {
     "name": "stdout",
     "output_type": "stream",
     "text": [
      "a\n",
      "b\n"
     ]
    }
   ],
   "execution_count": 20
  },
  {
   "metadata": {
    "ExecuteTime": {
     "end_time": "2024-08-26T09:52:52.866525Z",
     "start_time": "2024-08-26T09:52:52.862614Z"
    }
   },
   "cell_type": "code",
   "source": "print(r\"a\\nb\")",
   "id": "b756f368a117456",
   "outputs": [
    {
     "name": "stdout",
     "output_type": "stream",
     "text": [
      "a\\nb\n"
     ]
    }
   ],
   "execution_count": 21
  },
  {
   "metadata": {
    "ExecuteTime": {
     "end_time": "2024-08-26T09:55:34.532416Z",
     "start_time": "2024-08-26T09:55:34.529187Z"
    }
   },
   "cell_type": "code",
   "source": [
    "class Model(BaseModel):\n",
    "    zip_code: str = Field(pattern=r\"^[0-9]{5}(?:-[0-9]{4})?$\")"
   ],
   "id": "c3ab45711c97986e",
   "outputs": [],
   "execution_count": 28
  },
  {
   "metadata": {
    "ExecuteTime": {
     "end_time": "2024-08-26T09:55:34.901587Z",
     "start_time": "2024-08-26T09:55:34.896252Z"
    }
   },
   "cell_type": "code",
   "source": "Model(zip_code=\"12345\")",
   "id": "91505e98a547a3c5",
   "outputs": [
    {
     "data": {
      "text/plain": [
       "Model(zip_code='12345')"
      ]
     },
     "execution_count": 29,
     "metadata": {},
     "output_type": "execute_result"
    }
   ],
   "execution_count": 29
  },
  {
   "metadata": {
    "ExecuteTime": {
     "end_time": "2024-08-26T09:55:35.180875Z",
     "start_time": "2024-08-26T09:55:35.173939Z"
    }
   },
   "cell_type": "code",
   "source": "Model(zip_code=\"12345-1234\")",
   "id": "90969ce0301e14d9",
   "outputs": [
    {
     "data": {
      "text/plain": [
       "Model(zip_code='12345-1234')"
      ]
     },
     "execution_count": 30,
     "metadata": {},
     "output_type": "execute_result"
    }
   ],
   "execution_count": 30
  },
  {
   "metadata": {
    "ExecuteTime": {
     "end_time": "2024-08-26T09:55:35.553840Z",
     "start_time": "2024-08-26T09:55:35.532151Z"
    }
   },
   "cell_type": "code",
   "source": "Model(zip_code=\"12345-12345\")",
   "id": "24146a5901e66fce",
   "outputs": [
    {
     "ename": "ValidationError",
     "evalue": "1 validation error for Model\nzip_code\n  String should match pattern '^[0-9]{5}(?:-[0-9]{4})?$' [type=string_pattern_mismatch, input_value='12345-12345', input_type=str]\n    For further information visit https://errors.pydantic.dev/2.8/v/string_pattern_mismatch",
     "output_type": "error",
     "traceback": [
      "\u001B[0;31m---------------------------------------------------------------------------\u001B[0m",
      "\u001B[0;31mValidationError\u001B[0m                           Traceback (most recent call last)",
      "Cell \u001B[0;32mIn[31], line 1\u001B[0m\n\u001B[0;32m----> 1\u001B[0m \u001B[43mModel\u001B[49m\u001B[43m(\u001B[49m\u001B[43mzip_code\u001B[49m\u001B[38;5;241;43m=\u001B[39;49m\u001B[38;5;124;43m\"\u001B[39;49m\u001B[38;5;124;43m12345-12345\u001B[39;49m\u001B[38;5;124;43m\"\u001B[39;49m\u001B[43m)\u001B[49m\n",
      "File \u001B[0;32m~/a-code/PythonDojo/venv/lib/python3.12/site-packages/pydantic/main.py:193\u001B[0m, in \u001B[0;36mBaseModel.__init__\u001B[0;34m(self, **data)\u001B[0m\n\u001B[1;32m    191\u001B[0m \u001B[38;5;66;03m# `__tracebackhide__` tells pytest and some other tools to omit this function from tracebacks\u001B[39;00m\n\u001B[1;32m    192\u001B[0m __tracebackhide__ \u001B[38;5;241m=\u001B[39m \u001B[38;5;28;01mTrue\u001B[39;00m\n\u001B[0;32m--> 193\u001B[0m \u001B[38;5;28;43mself\u001B[39;49m\u001B[38;5;241;43m.\u001B[39;49m\u001B[43m__pydantic_validator__\u001B[49m\u001B[38;5;241;43m.\u001B[39;49m\u001B[43mvalidate_python\u001B[49m\u001B[43m(\u001B[49m\u001B[43mdata\u001B[49m\u001B[43m,\u001B[49m\u001B[43m \u001B[49m\u001B[43mself_instance\u001B[49m\u001B[38;5;241;43m=\u001B[39;49m\u001B[38;5;28;43mself\u001B[39;49m\u001B[43m)\u001B[49m\n",
      "\u001B[0;31mValidationError\u001B[0m: 1 validation error for Model\nzip_code\n  String should match pattern '^[0-9]{5}(?:-[0-9]{4})?$' [type=string_pattern_mismatch, input_value='12345-12345', input_type=str]\n    For further information visit https://errors.pydantic.dev/2.8/v/string_pattern_mismatch"
     ]
    }
   ],
   "execution_count": 31
  },
  {
   "metadata": {},
   "cell_type": "code",
   "outputs": [],
   "execution_count": null,
   "source": "",
   "id": "36dafd83d42309f0"
  }
 ],
 "metadata": {
  "kernelspec": {
   "display_name": "Python 3",
   "language": "python",
   "name": "python3"
  },
  "language_info": {
   "codemirror_mode": {
    "name": "ipython",
    "version": 2
   },
   "file_extension": ".py",
   "mimetype": "text/x-python",
   "name": "python",
   "nbconvert_exporter": "python",
   "pygments_lexer": "ipython2",
   "version": "2.7.6"
  }
 },
 "nbformat": 4,
 "nbformat_minor": 5
}
