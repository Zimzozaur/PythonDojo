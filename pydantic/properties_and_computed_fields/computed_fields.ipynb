{
 "cells": [
  {
   "cell_type": "code",
   "id": "initial_id",
   "metadata": {
    "collapsed": true,
    "ExecuteTime": {
     "end_time": "2024-08-29T09:46:37.197076Z",
     "start_time": "2024-08-29T09:46:37.133105Z"
    }
   },
   "source": [
    "from functools import cached_property\n",
    "from math import pi\n",
    "from pydantic import BaseModel, computed_field, Field, PydanticUserError"
   ],
   "outputs": [],
   "execution_count": 1
  },
  {
   "metadata": {
    "ExecuteTime": {
     "end_time": "2024-08-29T09:56:39.583689Z",
     "start_time": "2024-08-29T09:56:39.573257Z"
    }
   },
   "cell_type": "code",
   "source": [
    "class Circle(BaseModel):\n",
    "    center: tuple[int, int] = (0, 0)\n",
    "    radius: int = Field(default=1, gt=0, frozen=True)\n",
    "    \n",
    "    @computed_field\n",
    "    @property\n",
    "    def area(self) -> float:\n",
    "        return pi * self.radius ** 2"
   ],
   "id": "ace4ffbaf7260824",
   "outputs": [],
   "execution_count": 4
  },
  {
   "metadata": {
    "ExecuteTime": {
     "end_time": "2024-08-29T09:56:53.338360Z",
     "start_time": "2024-08-29T09:56:53.329929Z"
    }
   },
   "cell_type": "code",
   "source": "c = Circle()",
   "id": "16bbf2c1c435f8a3",
   "outputs": [],
   "execution_count": 5
  },
  {
   "metadata": {
    "ExecuteTime": {
     "end_time": "2024-08-29T09:56:55.626431Z",
     "start_time": "2024-08-29T09:56:55.619725Z"
    }
   },
   "cell_type": "code",
   "source": "c",
   "id": "e3f636af966b4cd8",
   "outputs": [
    {
     "data": {
      "text/plain": [
       "Circle(center=(0, 0), radius=1, area=3.141592653589793)"
      ]
     },
     "execution_count": 6,
     "metadata": {},
     "output_type": "execute_result"
    }
   ],
   "execution_count": 6
  },
  {
   "metadata": {
    "ExecuteTime": {
     "end_time": "2024-08-29T09:57:06.575327Z",
     "start_time": "2024-08-29T09:57:06.568230Z"
    }
   },
   "cell_type": "code",
   "source": "c.model_fields",
   "id": "c54a78472598b9ea",
   "outputs": [
    {
     "data": {
      "text/plain": [
       "{'center': FieldInfo(annotation=tuple[int, int], required=False, default=(0, 0)),\n",
       " 'radius': FieldInfo(annotation=int, required=False, default=1, frozen=True, metadata=[Gt(gt=0)])}"
      ]
     },
     "execution_count": 8,
     "metadata": {},
     "output_type": "execute_result"
    }
   ],
   "execution_count": 8
  },
  {
   "metadata": {
    "ExecuteTime": {
     "end_time": "2024-08-29T09:57:19.736475Z",
     "start_time": "2024-08-29T09:57:19.728162Z"
    }
   },
   "cell_type": "code",
   "source": "c.model_dump()",
   "id": "3a04539707b6e1ca",
   "outputs": [
    {
     "data": {
      "text/plain": [
       "{'center': (0, 0), 'radius': 1, 'area': 3.141592653589793}"
      ]
     },
     "execution_count": 9,
     "metadata": {},
     "output_type": "execute_result"
    }
   ],
   "execution_count": 9
  },
  {
   "metadata": {
    "ExecuteTime": {
     "end_time": "2024-08-29T09:58:25.720960Z",
     "start_time": "2024-08-29T09:58:25.684587Z"
    }
   },
   "cell_type": "code",
   "source": "Circle(area=10)",
   "id": "e7032579b6fe2bd8",
   "outputs": [
    {
     "data": {
      "text/plain": [
       "Circle(center=(0, 0), radius=1, area=3.141592653589793)"
      ]
     },
     "execution_count": 10,
     "metadata": {},
     "output_type": "execute_result"
    }
   ],
   "execution_count": 10
  },
  {
   "metadata": {
    "ExecuteTime": {
     "end_time": "2024-08-29T09:59:48.278887Z",
     "start_time": "2024-08-29T09:59:48.265950Z"
    }
   },
   "cell_type": "code",
   "source": [
    "class Circle(BaseModel):\n",
    "    center: tuple[int, int] = (0, 0)\n",
    "    radius: int = Field(default=1, gt=0, frozen=True)\n",
    "    \n",
    "    @computed_field(alias=\"AREA\")\n",
    "    @property\n",
    "    def area(self) -> float:\n",
    "        return pi * self.radius ** 2"
   ],
   "id": "dace52eb4efcf23a",
   "outputs": [],
   "execution_count": 11
  },
  {
   "metadata": {
    "ExecuteTime": {
     "end_time": "2024-08-29T10:00:03.561110Z",
     "start_time": "2024-08-29T10:00:03.531275Z"
    }
   },
   "cell_type": "code",
   "source": "c = Circle()",
   "id": "a6c7bec9e6f45288",
   "outputs": [],
   "execution_count": 12
  },
  {
   "metadata": {
    "ExecuteTime": {
     "end_time": "2024-08-29T10:00:17.028048Z",
     "start_time": "2024-08-29T10:00:16.998348Z"
    }
   },
   "cell_type": "code",
   "source": "c.model_dump(by_alias=True)",
   "id": "24c2de663c542aa8",
   "outputs": [
    {
     "data": {
      "text/plain": [
       "{'center': (0, 0), 'radius': 1, 'AREA': 3.141592653589793}"
      ]
     },
     "execution_count": 13,
     "metadata": {},
     "output_type": "execute_result"
    }
   ],
   "execution_count": 13
  },
  {
   "metadata": {
    "ExecuteTime": {
     "end_time": "2024-08-29T10:01:19.307679Z",
     "start_time": "2024-08-29T10:01:19.298098Z"
    }
   },
   "cell_type": "code",
   "source": [
    "class Model(BaseModel):\n",
    "    field_1: int = Field(repr=False, default=10)"
   ],
   "id": "791c6a40fd23b969",
   "outputs": [],
   "execution_count": 15
  },
  {
   "metadata": {
    "ExecuteTime": {
     "end_time": "2024-08-29T10:01:19.618473Z",
     "start_time": "2024-08-29T10:01:19.613696Z"
    }
   },
   "cell_type": "code",
   "source": "Model()",
   "id": "8dcd98b336918a21",
   "outputs": [
    {
     "data": {
      "text/plain": [
       "Model()"
      ]
     },
     "execution_count": 16,
     "metadata": {},
     "output_type": "execute_result"
    }
   ],
   "execution_count": 16
  },
  {
   "metadata": {
    "ExecuteTime": {
     "end_time": "2024-08-29T10:02:38.989154Z",
     "start_time": "2024-08-29T10:02:38.974484Z"
    }
   },
   "cell_type": "code",
   "source": [
    "class Circle(BaseModel):\n",
    "    center: tuple[int, int] = (0, 0)\n",
    "    radius: int = Field(default=1, gt=0, frozen=True)\n",
    "    \n",
    "    @computed_field(alias=\"AREA\", repr=False)\n",
    "    @property\n",
    "    def area(self) -> float:\n",
    "        return pi * self.radius ** 2"
   ],
   "id": "25e3866998954458",
   "outputs": [],
   "execution_count": 17
  },
  {
   "metadata": {
    "ExecuteTime": {
     "end_time": "2024-08-29T10:02:42.235311Z",
     "start_time": "2024-08-29T10:02:42.232082Z"
    }
   },
   "cell_type": "code",
   "source": "c = Circle()",
   "id": "d475315f403b812c",
   "outputs": [],
   "execution_count": 18
  },
  {
   "metadata": {
    "ExecuteTime": {
     "end_time": "2024-08-29T10:02:43.321203Z",
     "start_time": "2024-08-29T10:02:43.316786Z"
    }
   },
   "cell_type": "code",
   "source": "c",
   "id": "a3dd324216ec7177",
   "outputs": [
    {
     "data": {
      "text/plain": [
       "Circle(center=(0, 0), radius=1)"
      ]
     },
     "execution_count": 19,
     "metadata": {},
     "output_type": "execute_result"
    }
   ],
   "execution_count": 19
  },
  {
   "metadata": {
    "ExecuteTime": {
     "end_time": "2024-08-29T10:02:47.358119Z",
     "start_time": "2024-08-29T10:02:47.354207Z"
    }
   },
   "cell_type": "code",
   "source": "c.model_dump()",
   "id": "4808761ac728acb5",
   "outputs": [
    {
     "data": {
      "text/plain": [
       "{'center': (0, 0), 'radius': 1, 'area': 3.141592653589793}"
      ]
     },
     "execution_count": 20,
     "metadata": {},
     "output_type": "execute_result"
    }
   ],
   "execution_count": 20
  },
  {
   "metadata": {
    "ExecuteTime": {
     "end_time": "2024-08-29T10:04:03.909579Z",
     "start_time": "2024-08-29T10:04:03.898702Z"
    }
   },
   "cell_type": "code",
   "source": [
    "class Circle(BaseModel):\n",
    "    center: tuple[int, int] = (0, 0)\n",
    "    radius: int = Field(default=1, gt=0, frozen=True)\n",
    "    \n",
    "    @computed_field(alias=\"AREA\", repr=False)\n",
    "    @cached_property\n",
    "    def area(self) -> float:\n",
    "        print(\"Computed\")\n",
    "        return pi * self.radius ** 2"
   ],
   "id": "245eabca8e287709",
   "outputs": [],
   "execution_count": 22
  },
  {
   "metadata": {
    "ExecuteTime": {
     "end_time": "2024-08-29T10:04:08.283545Z",
     "start_time": "2024-08-29T10:04:08.280943Z"
    }
   },
   "cell_type": "code",
   "source": "c = Circle()",
   "id": "1943652ab71ef532",
   "outputs": [],
   "execution_count": 23
  },
  {
   "metadata": {
    "ExecuteTime": {
     "end_time": "2024-08-29T10:04:12.322593Z",
     "start_time": "2024-08-29T10:04:12.315164Z"
    }
   },
   "cell_type": "code",
   "source": "c.model_dump()",
   "id": "ab400c245f012214",
   "outputs": [
    {
     "name": "stdout",
     "output_type": "stream",
     "text": [
      "Computed\n"
     ]
    },
    {
     "data": {
      "text/plain": [
       "{'center': (0, 0), 'radius': 1, 'area': 3.141592653589793}"
      ]
     },
     "execution_count": 24,
     "metadata": {},
     "output_type": "execute_result"
    }
   ],
   "execution_count": 24
  },
  {
   "metadata": {
    "ExecuteTime": {
     "end_time": "2024-08-29T10:04:19.560012Z",
     "start_time": "2024-08-29T10:04:19.555811Z"
    }
   },
   "cell_type": "code",
   "source": "c.area",
   "id": "96ec9ed80d26f27d",
   "outputs": [
    {
     "data": {
      "text/plain": [
       "3.141592653589793"
      ]
     },
     "execution_count": 25,
     "metadata": {},
     "output_type": "execute_result"
    }
   ],
   "execution_count": 25
  },
  {
   "metadata": {},
   "cell_type": "code",
   "outputs": [],
   "execution_count": null,
   "source": "",
   "id": "32797a8868604681"
  }
 ],
 "metadata": {
  "kernelspec": {
   "display_name": "Python 3",
   "language": "python",
   "name": "python3"
  },
  "language_info": {
   "codemirror_mode": {
    "name": "ipython",
    "version": 2
   },
   "file_extension": ".py",
   "mimetype": "text/x-python",
   "name": "python",
   "nbconvert_exporter": "python",
   "pygments_lexer": "ipython2",
   "version": "2.7.6"
  }
 },
 "nbformat": 4,
 "nbformat_minor": 5
}
