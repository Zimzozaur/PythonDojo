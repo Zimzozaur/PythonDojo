{
 "cells": [
  {
   "cell_type": "code",
   "id": "initial_id",
   "metadata": {
    "collapsed": true,
    "ExecuteTime": {
     "end_time": "2024-08-29T09:32:18.757776Z",
     "start_time": "2024-08-29T09:32:18.753106Z"
    }
   },
   "source": "from pydantic import BaseModel, Field",
   "outputs": [],
   "execution_count": 14
  },
  {
   "metadata": {
    "ExecuteTime": {
     "end_time": "2024-08-29T09:27:23.331932Z",
     "start_time": "2024-08-29T09:27:23.329402Z"
    }
   },
   "cell_type": "code",
   "source": "from math import pi",
   "id": "41505e2fa4ff4d6b",
   "outputs": [],
   "execution_count": 2
  },
  {
   "metadata": {
    "ExecuteTime": {
     "end_time": "2024-08-29T09:29:52.632336Z",
     "start_time": "2024-08-29T09:29:52.554656Z"
    }
   },
   "cell_type": "code",
   "source": [
    "class Circle(BaseModel):\n",
    "    center: tuple[int, int] = (0, 0)\n",
    "    radius: int = Field(default=1, ge=0)\n",
    "    \n",
    "    def area(self):\n",
    "        return pi * self.radius ** 2"
   ],
   "id": "5b255a575ed9f454",
   "outputs": [],
   "execution_count": 3
  },
  {
   "metadata": {
    "ExecuteTime": {
     "end_time": "2024-08-29T09:30:05.081565Z",
     "start_time": "2024-08-29T09:30:05.074400Z"
    }
   },
   "cell_type": "code",
   "source": "c = Circle(center=(1, 1), radius=2)",
   "id": "246a1a0ee5190850",
   "outputs": [],
   "execution_count": 4
  },
  {
   "metadata": {
    "ExecuteTime": {
     "end_time": "2024-08-29T09:30:10.309646Z",
     "start_time": "2024-08-29T09:30:10.300199Z"
    }
   },
   "cell_type": "code",
   "source": "c",
   "id": "14443918ecbd31d",
   "outputs": [
    {
     "data": {
      "text/plain": [
       "Circle(center=(1, 1), radius=2)"
      ]
     },
     "execution_count": 5,
     "metadata": {},
     "output_type": "execute_result"
    }
   ],
   "execution_count": 5
  },
  {
   "metadata": {
    "ExecuteTime": {
     "end_time": "2024-08-29T09:30:17.821842Z",
     "start_time": "2024-08-29T09:30:17.817278Z"
    }
   },
   "cell_type": "code",
   "source": "c.model_dump()",
   "id": "75ff0edc17bc7dee",
   "outputs": [
    {
     "data": {
      "text/plain": [
       "{'center': (1, 1), 'radius': 2}"
      ]
     },
     "execution_count": 6,
     "metadata": {},
     "output_type": "execute_result"
    }
   ],
   "execution_count": 6
  },
  {
   "metadata": {
    "ExecuteTime": {
     "end_time": "2024-08-29T09:30:31.948786Z",
     "start_time": "2024-08-29T09:30:31.943005Z"
    }
   },
   "cell_type": "code",
   "source": "c.area()",
   "id": "d342a1244b627499",
   "outputs": [
    {
     "data": {
      "text/plain": [
       "12.566370614359172"
      ]
     },
     "execution_count": 7,
     "metadata": {},
     "output_type": "execute_result"
    }
   ],
   "execution_count": 7
  },
  {
   "metadata": {
    "ExecuteTime": {
     "end_time": "2024-08-29T09:35:01.500990Z",
     "start_time": "2024-08-29T09:35:01.493925Z"
    }
   },
   "cell_type": "code",
   "source": [
    "class Circle(BaseModel):\n",
    "    center: tuple[int, int] = (0, 0)\n",
    "    radius: int = Field(default=1, ge=0)\n",
    "    \n",
    "    @property\n",
    "    def area(self):\n",
    "        return pi * self.radius ** 2"
   ],
   "id": "439f2c7ab7dbcf15",
   "outputs": [],
   "execution_count": 34
  },
  {
   "metadata": {
    "ExecuteTime": {
     "end_time": "2024-08-29T09:33:57.467362Z",
     "start_time": "2024-08-29T09:33:57.462918Z"
    }
   },
   "cell_type": "code",
   "source": "c = Circle()",
   "id": "28f20537ecb5e016",
   "outputs": [],
   "execution_count": 21
  },
  {
   "metadata": {
    "ExecuteTime": {
     "end_time": "2024-08-29T09:34:00.559408Z",
     "start_time": "2024-08-29T09:34:00.553076Z"
    }
   },
   "cell_type": "code",
   "source": "c",
   "id": "6ecc4b0bc0c7c06f",
   "outputs": [
    {
     "data": {
      "text/plain": [
       "Circle(center=(0, 0), radius=1)"
      ]
     },
     "execution_count": 22,
     "metadata": {},
     "output_type": "execute_result"
    }
   ],
   "execution_count": 22
  },
  {
   "metadata": {
    "ExecuteTime": {
     "end_time": "2024-08-29T09:34:01.858173Z",
     "start_time": "2024-08-29T09:34:01.853139Z"
    }
   },
   "cell_type": "code",
   "source": "c.area",
   "id": "e270b2d5b7c278fb",
   "outputs": [
    {
     "data": {
      "text/plain": [
       "3.141592653589793"
      ]
     },
     "execution_count": 23,
     "metadata": {},
     "output_type": "execute_result"
    }
   ],
   "execution_count": 23
  },
  {
   "metadata": {
    "ExecuteTime": {
     "end_time": "2024-08-29T09:34:03.070209Z",
     "start_time": "2024-08-29T09:34:03.063991Z"
    }
   },
   "cell_type": "code",
   "source": "c.model_dump()",
   "id": "e19bdba865b90e6",
   "outputs": [
    {
     "data": {
      "text/plain": [
       "{'center': (0, 0), 'radius': 1}"
      ]
     },
     "execution_count": 24,
     "metadata": {},
     "output_type": "execute_result"
    }
   ],
   "execution_count": 24
  },
  {
   "metadata": {
    "ExecuteTime": {
     "end_time": "2024-08-29T09:34:06.239608Z",
     "start_time": "2024-08-29T09:34:06.232264Z"
    }
   },
   "cell_type": "code",
   "source": "c.model_fields",
   "id": "c74f3ff8b598422f",
   "outputs": [
    {
     "data": {
      "text/plain": [
       "{'center': FieldInfo(annotation=tuple[int, int], required=False, default=(0, 0)),\n",
       " 'radius': FieldInfo(annotation=int, required=False, default=1, metadata=[Ge(ge=0)])}"
      ]
     },
     "execution_count": 25,
     "metadata": {},
     "output_type": "execute_result"
    }
   ],
   "execution_count": 25
  },
  {
   "metadata": {
    "ExecuteTime": {
     "end_time": "2024-08-29T09:35:05.208105Z",
     "start_time": "2024-08-29T09:35:03.687685Z"
    }
   },
   "cell_type": "code",
   "source": [
    "for _ in range(10**7):\n",
    "    c.area"
   ],
   "id": "a16dcdebe66ca2d3",
   "outputs": [],
   "execution_count": 35
  },
  {
   "metadata": {
    "ExecuteTime": {
     "end_time": "2024-08-29T09:35:09.822256Z",
     "start_time": "2024-08-29T09:35:09.818665Z"
    }
   },
   "cell_type": "code",
   "source": "from functools import cached_property",
   "id": "67e3cc0b58f0fdba",
   "outputs": [],
   "execution_count": 36
  },
  {
   "metadata": {
    "ExecuteTime": {
     "end_time": "2024-08-29T09:40:39.207483Z",
     "start_time": "2024-08-29T09:40:39.191179Z"
    }
   },
   "cell_type": "code",
   "source": [
    "class Circle(BaseModel):\n",
    "    center: tuple[int, int] = (0, 0)\n",
    "    radius: int = Field(default=1, ge=0, frozen=True)\n",
    "    _area = None\n",
    "    \n",
    "    @cached_property\n",
    "    def area(self):\n",
    "        print(\"Calculating\")\n",
    "        return pi * self.radius ** 2"
   ],
   "id": "520a57a549a20f61",
   "outputs": [],
   "execution_count": 89
  },
  {
   "metadata": {
    "ExecuteTime": {
     "end_time": "2024-08-29T09:40:39.474670Z",
     "start_time": "2024-08-29T09:40:39.468787Z"
    }
   },
   "cell_type": "code",
   "source": "c = Circle()",
   "id": "c6c45923e57e817f",
   "outputs": [],
   "execution_count": 90
  },
  {
   "metadata": {
    "ExecuteTime": {
     "end_time": "2024-08-29T09:40:39.789683Z",
     "start_time": "2024-08-29T09:40:39.784043Z"
    }
   },
   "cell_type": "code",
   "source": "c",
   "id": "3ed399d6d69a6e27",
   "outputs": [
    {
     "data": {
      "text/plain": [
       "Circle(center=(0, 0), radius=1)"
      ]
     },
     "execution_count": 91,
     "metadata": {},
     "output_type": "execute_result"
    }
   ],
   "execution_count": 91
  },
  {
   "metadata": {},
   "cell_type": "code",
   "outputs": [],
   "execution_count": null,
   "source": "",
   "id": "e7fa5ac48c9774ee"
  }
 ],
 "metadata": {
  "kernelspec": {
   "display_name": "Python 3",
   "language": "python",
   "name": "python3"
  },
  "language_info": {
   "codemirror_mode": {
    "name": "ipython",
    "version": 2
   },
   "file_extension": ".py",
   "mimetype": "text/x-python",
   "name": "python",
   "nbconvert_exporter": "python",
   "pygments_lexer": "ipython2",
   "version": "2.7.6"
  }
 },
 "nbformat": 4,
 "nbformat_minor": 5
}
