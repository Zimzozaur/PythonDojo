{
 "cells": [
  {
   "cell_type": "code",
   "id": "initial_id",
   "metadata": {
    "collapsed": true,
    "ExecuteTime": {
     "end_time": "2024-08-02T09:45:53.351533Z",
     "start_time": "2024-08-02T09:45:53.270498Z"
    }
   },
   "source": [
    "from pydantic import BaseModel, ConfigDict, ValidationError\n",
    "\n",
    "class Model(BaseModel):\n",
    "    field: str"
   ],
   "outputs": [],
   "execution_count": 1
  },
  {
   "metadata": {
    "ExecuteTime": {
     "end_time": "2024-08-02T09:46:22.031339Z",
     "start_time": "2024-08-02T09:46:22.028057Z"
    }
   },
   "cell_type": "code",
   "source": [
    "try:\n",
    "    Model(field=100)\n",
    "except ValidationError as ex:\n",
    "    print(ex)"
   ],
   "id": "25d9c388bf86581c",
   "outputs": [
    {
     "name": "stdout",
     "output_type": "stream",
     "text": [
      "1 validation error for Model\n",
      "field\n",
      "  Input should be a valid string [type=string_type, input_value=100, input_type=int]\n",
      "    For further information visit https://errors.pydantic.dev/2.8/v/string_type\n"
     ]
    }
   ],
   "execution_count": 2
  },
  {
   "metadata": {
    "ExecuteTime": {
     "end_time": "2024-08-02T09:47:47.911268Z",
     "start_time": "2024-08-02T09:47:47.906478Z"
    }
   },
   "cell_type": "code",
   "source": [
    "class Model(BaseModel):\n",
    "    model_config = ConfigDict(coerce_numbers_to_str=True)\n",
    "    \n",
    "    field: str"
   ],
   "id": "2f00254694913ee8",
   "outputs": [],
   "execution_count": 3
  },
  {
   "metadata": {
    "ExecuteTime": {
     "end_time": "2024-08-02T09:49:42.456081Z",
     "start_time": "2024-08-02T09:49:42.452741Z"
    }
   },
   "cell_type": "code",
   "source": "from decimal import Decimal",
   "id": "70d1ffb2cf9c1bad",
   "outputs": [],
   "execution_count": 7
  },
  {
   "metadata": {
    "ExecuteTime": {
     "end_time": "2024-08-02T09:49:42.645242Z",
     "start_time": "2024-08-02T09:49:42.640114Z"
    }
   },
   "cell_type": "code",
   "source": "Model(field=1), Model(field=.5), Model(field=Decimal('100')) ",
   "id": "a45ec18b6210bd58",
   "outputs": [
    {
     "data": {
      "text/plain": [
       "(Model(field='1'), Model(field='0.5'), Model(field='100'))"
      ]
     },
     "execution_count": 8,
     "metadata": {},
     "output_type": "execute_result"
    }
   ],
   "execution_count": 8
  },
  {
   "metadata": {
    "ExecuteTime": {
     "end_time": "2024-08-02T09:52:41.889888Z",
     "start_time": "2024-08-02T09:52:41.886495Z"
    }
   },
   "cell_type": "code",
   "source": [
    "class Model(BaseModel):\n",
    "    model_config = ConfigDict(\n",
    "        coerce_numbers_to_str=True, \n",
    "        strict=True\n",
    "    )\n",
    "    \n",
    "    field: str"
   ],
   "id": "15e0fa57761b3ff9",
   "outputs": [],
   "execution_count": 9
  },
  {
   "metadata": {
    "ExecuteTime": {
     "end_time": "2024-08-02T09:52:44.962471Z",
     "start_time": "2024-08-02T09:52:44.856317Z"
    }
   },
   "cell_type": "code",
   "source": "Model(field=1), Model(field=.5), Model(field=Decimal('100')) ",
   "id": "d47564d3cdd8dd98",
   "outputs": [
    {
     "ename": "ValidationError",
     "evalue": "1 validation error for Model\nfield\n  Input should be a valid string [type=string_type, input_value=1, input_type=int]\n    For further information visit https://errors.pydantic.dev/2.8/v/string_type",
     "output_type": "error",
     "traceback": [
      "\u001B[0;31m---------------------------------------------------------------------------\u001B[0m",
      "\u001B[0;31mValidationError\u001B[0m                           Traceback (most recent call last)",
      "Cell \u001B[0;32mIn[10], line 1\u001B[0m\n\u001B[0;32m----> 1\u001B[0m \u001B[43mModel\u001B[49m\u001B[43m(\u001B[49m\u001B[43mfield\u001B[49m\u001B[38;5;241;43m=\u001B[39;49m\u001B[38;5;241;43m1\u001B[39;49m\u001B[43m)\u001B[49m, Model(field\u001B[38;5;241m=\u001B[39m\u001B[38;5;241m.5\u001B[39m), Model(field\u001B[38;5;241m=\u001B[39mDecimal(\u001B[38;5;124m'\u001B[39m\u001B[38;5;124m100\u001B[39m\u001B[38;5;124m'\u001B[39m)) \n",
      "File \u001B[0;32m~/a-code/PythonDojo/venv/lib/python3.12/site-packages/pydantic/main.py:193\u001B[0m, in \u001B[0;36mBaseModel.__init__\u001B[0;34m(self, **data)\u001B[0m\n\u001B[1;32m    191\u001B[0m \u001B[38;5;66;03m# `__tracebackhide__` tells pytest and some other tools to omit this function from tracebacks\u001B[39;00m\n\u001B[1;32m    192\u001B[0m __tracebackhide__ \u001B[38;5;241m=\u001B[39m \u001B[38;5;28;01mTrue\u001B[39;00m\n\u001B[0;32m--> 193\u001B[0m \u001B[38;5;28;43mself\u001B[39;49m\u001B[38;5;241;43m.\u001B[39;49m\u001B[43m__pydantic_validator__\u001B[49m\u001B[38;5;241;43m.\u001B[39;49m\u001B[43mvalidate_python\u001B[49m\u001B[43m(\u001B[49m\u001B[43mdata\u001B[49m\u001B[43m,\u001B[49m\u001B[43m \u001B[49m\u001B[43mself_instance\u001B[49m\u001B[38;5;241;43m=\u001B[39;49m\u001B[38;5;28;43mself\u001B[39;49m\u001B[43m)\u001B[49m\n",
      "\u001B[0;31mValidationError\u001B[0m: 1 validation error for Model\nfield\n  Input should be a valid string [type=string_type, input_value=1, input_type=int]\n    For further information visit https://errors.pydantic.dev/2.8/v/string_type"
     ]
    }
   ],
   "execution_count": 10
  },
  {
   "metadata": {},
   "cell_type": "code",
   "outputs": [],
   "execution_count": null,
   "source": "",
   "id": "3473f16884c14366"
  }
 ],
 "metadata": {
  "kernelspec": {
   "display_name": "Python 3",
   "language": "python",
   "name": "python3"
  },
  "language_info": {
   "codemirror_mode": {
    "name": "ipython",
    "version": 2
   },
   "file_extension": ".py",
   "mimetype": "text/x-python",
   "name": "python",
   "nbconvert_exporter": "python",
   "pygments_lexer": "ipython2",
   "version": "2.7.6"
  }
 },
 "nbformat": 4,
 "nbformat_minor": 5
}
