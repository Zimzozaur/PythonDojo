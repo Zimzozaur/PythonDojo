{
 "cells": [
  {
   "cell_type": "code",
   "id": "initial_id",
   "metadata": {
    "collapsed": true,
    "ExecuteTime": {
     "end_time": "2024-08-29T13:10:52.321585Z",
     "start_time": "2024-08-29T13:10:52.317511Z"
    }
   },
   "source": [
    "from uuid import uuid4\n",
    "from datetime import datetime\n",
    "from typing import Annotated, Any\n",
    "\n",
    "import pytz\n",
    "from dateutil.parser import parse\n",
    "\n",
    "from pydantic import BaseModel, ConfigDict, EmailStr, Field, PastDate, AfterValidator, BeforeValidator, FieldSerializationInfo, PlainSerializer\n",
    "from pydantic.alias_generators import to_camel"
   ],
   "outputs": [],
   "execution_count": 23
  },
  {
   "metadata": {
    "ExecuteTime": {
     "end_time": "2024-08-29T13:00:12.925027Z",
     "start_time": "2024-08-29T13:00:12.921932Z"
    }
   },
   "cell_type": "code",
   "source": [
    "class CustomBaseModel(BaseModel):\n",
    "    model_config = ConfigDict(\n",
    "        extra=\"ignore\",\n",
    "        alias_generator=to_camel,\n",
    "        populate_by_name=True,\n",
    "    )"
   ],
   "id": "c719489293a41e0c",
   "outputs": [],
   "execution_count": 16
  },
  {
   "metadata": {
    "ExecuteTime": {
     "end_time": "2024-08-29T13:00:13.308164Z",
     "start_time": "2024-08-29T13:00:13.287095Z"
    }
   },
   "cell_type": "code",
   "source": [
    "SortedStringList = Annotated[list[str], AfterValidator(lambda value: sorted(value, key=str.casefold))]\n",
    "\n",
    "class ContactInfo(CustomBaseModel):\n",
    "    email: EmailStr | None = None\n",
    "\n",
    "class PlaceInfo(CustomBaseModel):\n",
    "    city: str\n",
    "    country: str\n",
    "    \n",
    "class PlaceDateInfo(CustomBaseModel):\n",
    "    date_: PastDate = Field(alias=\"date\")\n",
    "    place: PlaceInfo\n",
    "    \n",
    "class PersonalInfo(CustomBaseModel):\n",
    "    nationality: str\n",
    "    born: PlaceDateInfo\n",
    "\n",
    "class Person(CustomBaseModel):\n",
    "    first_name: str\n",
    "    last_name: str\n",
    "    contact_info: ContactInfo\n",
    "    personal_info: PersonalInfo\n",
    "    notable_students: SortedStringList = []"
   ],
   "id": "d48d72b01748746a",
   "outputs": [],
   "execution_count": 17
  },
  {
   "metadata": {
    "ExecuteTime": {
     "end_time": "2024-08-29T13:00:13.673561Z",
     "start_time": "2024-08-29T13:00:13.670522Z"
    }
   },
   "cell_type": "code",
   "source": [
    "json_data = \"\"\"\n",
    "{\n",
    "    \"firstName\": \"David\",\n",
    "    \"lastName\": \"Hilbert\",\n",
    "    \"contactInfo\": {\n",
    "        \"email\": \"d.hilbert@spectral-theory.com\",\n",
    "        \"homePhone\": {\n",
    "            \"countryCode\": 49,\n",
    "            \"areaCode\": 551,\n",
    "            \"localPhoneNumber\": 123456789\n",
    "        }\n",
    "    },\n",
    "    \"personalInfo\": {\n",
    "        \"nationality\": \"German\",\n",
    "        \"born\": {\n",
    "            \"date\": \"1862-01-23\",\n",
    "            \"place\": {\n",
    "                \"city\": \"Konigsberg\",\n",
    "                \"country\": \"Prussia\"\n",
    "            }\n",
    "        },\n",
    "        \"died\": {\n",
    "            \"date\": \"1943-02-14\",\n",
    "            \"place\": {\n",
    "                \"city\": \"Gottingen\",\n",
    "                \"country\": \"Germany\"\n",
    "            }\n",
    "        }\n",
    "    },\n",
    "    \"awards\": [\"Lobachevsky Prize\", \"Bolyai Prize\", \"ForMemRS\"],\n",
    "    \"notableStudents\": [\"von Neumann\", \"Weyl\", \"Courant\", \"Zermelo\"]\n",
    "}\n",
    "\"\"\""
   ],
   "id": "32f14faeb2649172",
   "outputs": [],
   "execution_count": 18
  },
  {
   "metadata": {
    "ExecuteTime": {
     "end_time": "2024-08-29T13:00:14.132538Z",
     "start_time": "2024-08-29T13:00:14.128006Z"
    }
   },
   "cell_type": "code",
   "source": "p = Person.model_validate_json(json_data)",
   "id": "a61258f7157a6e1b",
   "outputs": [
    {
     "name": "stdout",
     "output_type": "stream",
     "text": [
      "Mario\n",
      "first_name='David' last_name='Hilbert' contact_info=ContactInfo(email='d.hilbert@spectral-theory.com') personal_info=PersonalInfo(nationality='German', born=PlaceDateInfo(date_=datetime.date(1862, 1, 23), place=PlaceInfo(city='Konigsberg', country='Prussia'))) notable_students=['Courant', 'von Neumann', 'Weyl', 'Zermelo']\n"
     ]
    }
   ],
   "execution_count": 19
  },
  {
   "metadata": {
    "ExecuteTime": {
     "end_time": "2024-08-29T13:09:08.274109Z",
     "start_time": "2024-08-29T13:09:08.271018Z"
    }
   },
   "cell_type": "code",
   "source": [
    "class CustomBaseModel(BaseModel):\n",
    "    model_config = ConfigDict(\n",
    "        extra=\"ignore\",\n",
    "        alias_generator=to_camel,\n",
    "        populate_by_name=True,\n",
    "    )"
   ],
   "id": "cea026b718eb054d",
   "outputs": [],
   "execution_count": 20
  },
  {
   "metadata": {
    "ExecuteTime": {
     "end_time": "2024-08-29T13:09:38.959226Z",
     "start_time": "2024-08-29T13:09:38.940684Z"
    }
   },
   "cell_type": "code",
   "source": [
    "\n",
    "def make_utc(dt: datetime) -> datetime:\n",
    "    if dt.tzinfo is None:\n",
    "        dt = pytz.utc.localize(dt)\n",
    "    else:\n",
    "        dt = dt.astimezone(pytz.utc)\n",
    "    return dt\n",
    "    \n",
    "def parse_datetime(value: Any):\n",
    "    if isinstance(value, str):\n",
    "        try:\n",
    "            return parse(value)\n",
    "        except Exception as ex:\n",
    "            raise ValueError(str(ex))\n",
    "    return value\n",
    "\n",
    "def dt_serializer(dt, info: FieldSerializationInfo) -> datetime | str:\n",
    "    if info.mode_is_json():\n",
    "        return dt.strftime(\"%Y-%m-%dT%H:%M:%SZ\")\n",
    "    return dt\n",
    "    \n",
    "DateTimeUTC = Annotated[\n",
    "    datetime, \n",
    "    BeforeValidator(parse_datetime), \n",
    "    AfterValidator(make_utc), \n",
    "    PlainSerializer(dt_serializer, when_used=\"unless-none\")\n",
    "]"
   ],
   "id": "d80171741e17bff",
   "outputs": [],
   "execution_count": 21
  },
  {
   "metadata": {
    "ExecuteTime": {
     "end_time": "2024-08-29T13:13:01.514005Z",
     "start_time": "2024-08-29T13:13:01.503889Z"
    }
   },
   "cell_type": "code",
   "source": [
    "class RequestInfo(CustomBaseModel):\n",
    "    query_id: uuid4 = Field(default_factory=uuid4)\n",
    "    execution_dt: DateTimeUTC = Field(default_factory=lambda: datetime.now(pytz.utc))\n",
    "    elapsed_time_secs: float = 0"
   ],
   "id": "56b72d2d15a52351",
   "outputs": [],
   "execution_count": 24
  },
  {
   "metadata": {
    "ExecuteTime": {
     "end_time": "2024-08-29T13:13:36.117744Z",
     "start_time": "2024-08-29T13:13:36.112597Z"
    }
   },
   "cell_type": "code",
   "source": [
    "class ResponseBaseModel(CustomBaseModel):\n",
    "    request_info: RequestInfo"
   ],
   "id": "db1e3cac65a6097f",
   "outputs": [],
   "execution_count": 25
  },
  {
   "metadata": {
    "ExecuteTime": {
     "end_time": "2024-08-29T13:14:44.288665Z",
     "start_time": "2024-08-29T13:14:44.284460Z"
    }
   },
   "cell_type": "code",
   "source": [
    "class Users(ResponseBaseModel):\n",
    "    users: list[str] = []"
   ],
   "id": "b6b8066b235d878d",
   "outputs": [],
   "execution_count": 26
  },
  {
   "metadata": {
    "ExecuteTime": {
     "end_time": "2024-08-29T13:15:52.306699Z",
     "start_time": "2024-08-29T13:15:52.303491Z"
    }
   },
   "cell_type": "code",
   "source": "users = Users(request_info=RequestInfo(elapsed_time_secs=10), users=[\"Mario\", \"Luigi\"])",
   "id": "8bd4b60c44b448db",
   "outputs": [],
   "execution_count": 27
  },
  {
   "metadata": {
    "ExecuteTime": {
     "end_time": "2024-08-29T13:15:54.046133Z",
     "start_time": "2024-08-29T13:15:54.040424Z"
    }
   },
   "cell_type": "code",
   "source": "users",
   "id": "8fa3f9138b9d3f62",
   "outputs": [
    {
     "data": {
      "text/plain": [
       "Users(request_info=RequestInfo(query_id=UUID('a37b3c16-432b-4050-9687-f566bf005bc6'), execution_dt=datetime.datetime(2024, 8, 29, 13, 15, 52, 304637, tzinfo=<UTC>), elapsed_time_secs=10.0), users=['Mario', 'Luigi'])"
      ]
     },
     "execution_count": 28,
     "metadata": {},
     "output_type": "execute_result"
    }
   ],
   "execution_count": 28
  },
  {
   "metadata": {},
   "cell_type": "code",
   "outputs": [],
   "execution_count": null,
   "source": "",
   "id": "b816561735b42c20"
  }
 ],
 "metadata": {
  "kernelspec": {
   "display_name": "Python 3",
   "language": "python",
   "name": "python3"
  },
  "language_info": {
   "codemirror_mode": {
    "name": "ipython",
    "version": 2
   },
   "file_extension": ".py",
   "mimetype": "text/x-python",
   "name": "python",
   "nbconvert_exporter": "python",
   "pygments_lexer": "ipython2",
   "version": "2.7.6"
  }
 },
 "nbformat": 4,
 "nbformat_minor": 5
}
