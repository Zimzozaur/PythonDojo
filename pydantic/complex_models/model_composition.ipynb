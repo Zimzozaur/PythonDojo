{
 "cells": [
  {
   "cell_type": "code",
   "id": "initial_id",
   "metadata": {
    "collapsed": true,
    "ExecuteTime": {
     "end_time": "2024-08-29T12:17:29.128783Z",
     "start_time": "2024-08-29T12:17:29.119858Z"
    }
   },
   "source": [
    "from typing import Annotated\n",
    "from pydantic import BaseModel, ConfigDict, Field, AfterValidator"
   ],
   "outputs": [],
   "execution_count": 53
  },
  {
   "metadata": {
    "ExecuteTime": {
     "end_time": "2024-08-29T11:53:15.143248Z",
     "start_time": "2024-08-29T11:53:15.083546Z"
    }
   },
   "cell_type": "code",
   "source": [
    "class Point2D(BaseModel):\n",
    "    x: float = 0\n",
    "    y: float = 0"
   ],
   "id": "b89f6125b8942eb7",
   "outputs": [],
   "execution_count": 2
  },
  {
   "metadata": {
    "ExecuteTime": {
     "end_time": "2024-08-29T11:53:49.079883Z",
     "start_time": "2024-08-29T11:53:49.073757Z"
    }
   },
   "cell_type": "code",
   "source": [
    "class Circle2D(BaseModel):\n",
    "    center: Point2D\n",
    "    radius: float = Field(default=1, gt=0)"
   ],
   "id": "fc3c42058569ccc",
   "outputs": [],
   "execution_count": 3
  },
  {
   "metadata": {
    "ExecuteTime": {
     "end_time": "2024-08-29T11:54:45.762838Z",
     "start_time": "2024-08-29T11:54:45.759284Z"
    }
   },
   "cell_type": "code",
   "source": "c = Circle2D(center=Point2D(x=1, y=1), radius=2)",
   "id": "dc03a98c4d0b1d8e",
   "outputs": [],
   "execution_count": 4
  },
  {
   "metadata": {
    "ExecuteTime": {
     "end_time": "2024-08-29T11:54:52.232794Z",
     "start_time": "2024-08-29T11:54:52.223394Z"
    }
   },
   "cell_type": "code",
   "source": "c",
   "id": "a2420f0742d0fdea",
   "outputs": [
    {
     "data": {
      "text/plain": [
       "Circle2D(center=Point2D(x=1.0, y=1.0), radius=2.0)"
      ]
     },
     "execution_count": 5,
     "metadata": {},
     "output_type": "execute_result"
    }
   ],
   "execution_count": 5
  },
  {
   "metadata": {
    "ExecuteTime": {
     "end_time": "2024-08-29T11:55:35.401765Z",
     "start_time": "2024-08-29T11:55:35.176084Z"
    }
   },
   "cell_type": "code",
   "source": "c = Circle2D(center=(1, 1), radius=2)",
   "id": "f4bb77fed32fd2a2",
   "outputs": [
    {
     "ename": "ValidationError",
     "evalue": "1 validation error for Circle2D\ncenter\n  Input should be a valid dictionary or instance of Point2D [type=model_type, input_value=(1, 1), input_type=tuple]\n    For further information visit https://errors.pydantic.dev/2.8/v/model_type",
     "output_type": "error",
     "traceback": [
      "\u001B[0;31m---------------------------------------------------------------------------\u001B[0m",
      "\u001B[0;31mValidationError\u001B[0m                           Traceback (most recent call last)",
      "Cell \u001B[0;32mIn[6], line 1\u001B[0m\n\u001B[0;32m----> 1\u001B[0m c \u001B[38;5;241m=\u001B[39m \u001B[43mCircle2D\u001B[49m\u001B[43m(\u001B[49m\u001B[43mcenter\u001B[49m\u001B[38;5;241;43m=\u001B[39;49m\u001B[43m(\u001B[49m\u001B[38;5;241;43m1\u001B[39;49m\u001B[43m,\u001B[49m\u001B[43m \u001B[49m\u001B[38;5;241;43m1\u001B[39;49m\u001B[43m)\u001B[49m\u001B[43m,\u001B[49m\u001B[43m \u001B[49m\u001B[43mradius\u001B[49m\u001B[38;5;241;43m=\u001B[39;49m\u001B[38;5;241;43m2\u001B[39;49m\u001B[43m)\u001B[49m\n",
      "File \u001B[0;32m~/a-code/PythonDojo/venv/lib/python3.12/site-packages/pydantic/main.py:193\u001B[0m, in \u001B[0;36mBaseModel.__init__\u001B[0;34m(self, **data)\u001B[0m\n\u001B[1;32m    191\u001B[0m \u001B[38;5;66;03m# `__tracebackhide__` tells pytest and some other tools to omit this function from tracebacks\u001B[39;00m\n\u001B[1;32m    192\u001B[0m __tracebackhide__ \u001B[38;5;241m=\u001B[39m \u001B[38;5;28;01mTrue\u001B[39;00m\n\u001B[0;32m--> 193\u001B[0m \u001B[38;5;28;43mself\u001B[39;49m\u001B[38;5;241;43m.\u001B[39;49m\u001B[43m__pydantic_validator__\u001B[49m\u001B[38;5;241;43m.\u001B[39;49m\u001B[43mvalidate_python\u001B[49m\u001B[43m(\u001B[49m\u001B[43mdata\u001B[49m\u001B[43m,\u001B[49m\u001B[43m \u001B[49m\u001B[43mself_instance\u001B[49m\u001B[38;5;241;43m=\u001B[39;49m\u001B[38;5;28;43mself\u001B[39;49m\u001B[43m)\u001B[49m\n",
      "\u001B[0;31mValidationError\u001B[0m: 1 validation error for Circle2D\ncenter\n  Input should be a valid dictionary or instance of Point2D [type=model_type, input_value=(1, 1), input_type=tuple]\n    For further information visit https://errors.pydantic.dev/2.8/v/model_type"
     ]
    }
   ],
   "execution_count": 6
  },
  {
   "metadata": {
    "ExecuteTime": {
     "end_time": "2024-08-29T11:55:58.561184Z",
     "start_time": "2024-08-29T11:55:58.557812Z"
    }
   },
   "cell_type": "code",
   "source": "c = Circle2D(center={'x': 1, 'y': 1}, radius=2)",
   "id": "d4ac023becd1ebd8",
   "outputs": [],
   "execution_count": 7
  },
  {
   "metadata": {
    "ExecuteTime": {
     "end_time": "2024-08-29T11:56:06.430381Z",
     "start_time": "2024-08-29T11:56:06.425845Z"
    }
   },
   "cell_type": "code",
   "source": "c.model_dump()",
   "id": "ff78a356ecb1896b",
   "outputs": [
    {
     "data": {
      "text/plain": [
       "{'center': {'x': 1.0, 'y': 1.0}, 'radius': 2.0}"
      ]
     },
     "execution_count": 8,
     "metadata": {},
     "output_type": "execute_result"
    }
   ],
   "execution_count": 8
  },
  {
   "metadata": {
    "ExecuteTime": {
     "end_time": "2024-08-29T11:56:51.225152Z",
     "start_time": "2024-08-29T11:56:51.222060Z"
    }
   },
   "cell_type": "code",
   "source": "print(c.model_dump_json(indent=2))",
   "id": "b3cf22971421d321",
   "outputs": [
    {
     "name": "stdout",
     "output_type": "stream",
     "text": [
      "{\n",
      "  \"center\": {\n",
      "    \"x\": 1.0,\n",
      "    \"y\": 1.0\n",
      "  },\n",
      "  \"radius\": 2.0\n",
      "}\n"
     ]
    }
   ],
   "execution_count": 11
  },
  {
   "metadata": {
    "ExecuteTime": {
     "end_time": "2024-08-29T11:57:38.344512Z",
     "start_time": "2024-08-29T11:57:38.341604Z"
    }
   },
   "cell_type": "code",
   "source": "data = {'center': {'x': 5, 'y': -5}, 'radius': 10}",
   "id": "c5423df8713601c0",
   "outputs": [],
   "execution_count": 12
  },
  {
   "metadata": {
    "ExecuteTime": {
     "end_time": "2024-08-29T11:57:59.495719Z",
     "start_time": "2024-08-29T11:57:59.493309Z"
    }
   },
   "cell_type": "code",
   "source": "c = Circle2D.model_validate(data)",
   "id": "93c9d2a4c32922e9",
   "outputs": [],
   "execution_count": 13
  },
  {
   "metadata": {
    "ExecuteTime": {
     "end_time": "2024-08-29T11:59:16.483860Z",
     "start_time": "2024-08-29T11:59:16.481001Z"
    }
   },
   "cell_type": "code",
   "source": "data = '{\"center\": {\"x\": 5, \"y\": -5}, \"radius\": 10}'",
   "id": "546714e0882b996f",
   "outputs": [],
   "execution_count": 18
  },
  {
   "metadata": {
    "ExecuteTime": {
     "end_time": "2024-08-29T11:59:16.736489Z",
     "start_time": "2024-08-29T11:59:16.731526Z"
    }
   },
   "cell_type": "code",
   "source": "Circle2D.model_validate_json(data)",
   "id": "175fdf11ffbc46aa",
   "outputs": [
    {
     "data": {
      "text/plain": [
       "Circle2D(center=Point2D(x=5.0, y=-5.0), radius=10.0)"
      ]
     },
     "execution_count": 19,
     "metadata": {},
     "output_type": "execute_result"
    }
   ],
   "execution_count": 19
  },
  {
   "metadata": {
    "ExecuteTime": {
     "end_time": "2024-08-29T11:59:38.048357Z",
     "start_time": "2024-08-29T11:59:38.044128Z"
    }
   },
   "cell_type": "code",
   "source": "c.center",
   "id": "84afd39e10f74840",
   "outputs": [
    {
     "data": {
      "text/plain": [
       "Point2D(x=5.0, y=-5.0)"
      ]
     },
     "execution_count": 21,
     "metadata": {},
     "output_type": "execute_result"
    }
   ],
   "execution_count": 21
  },
  {
   "metadata": {
    "ExecuteTime": {
     "end_time": "2024-08-29T11:59:44.196213Z",
     "start_time": "2024-08-29T11:59:44.191192Z"
    }
   },
   "cell_type": "code",
   "source": "c.center.model_dump()",
   "id": "281bf2735c768f2",
   "outputs": [
    {
     "data": {
      "text/plain": [
       "{'x': 5.0, 'y': -5.0}"
      ]
     },
     "execution_count": 22,
     "metadata": {},
     "output_type": "execute_result"
    }
   ],
   "execution_count": 22
  },
  {
   "metadata": {
    "ExecuteTime": {
     "end_time": "2024-08-29T12:00:27.216916Z",
     "start_time": "2024-08-29T12:00:27.214072Z"
    }
   },
   "cell_type": "code",
   "source": [
    "json_data = \"\"\"\n",
    "{\n",
    "    \"firstName\": \"David\",\n",
    "    \"lastName\": \"Hilbert\",\n",
    "    \"contactInfo\": {\n",
    "        \"email\": \"d.hilbert@spectral-theory.com\",\n",
    "        \"homePhone\": {\n",
    "            \"countryCode\": 49,\n",
    "            \"areaCode\": 551,\n",
    "            \"localPhoneNumber\": 123456789\n",
    "        }\n",
    "    },\n",
    "    \"personalInfo\": {\n",
    "        \"nationality\": \"German\",\n",
    "        \"born\": {\n",
    "            \"date\": \"1862-01-23\",\n",
    "            \"place\": {\n",
    "                \"city\": \"Konigsberg\",\n",
    "                \"country\": \"Prussia\"\n",
    "            }\n",
    "        },\n",
    "        \"died\": {\n",
    "            \"date\": \"1943-02-14\",\n",
    "            \"place\": {\n",
    "                \"city\": \"Gottingen\",\n",
    "                \"country\": \"Germany\"\n",
    "            }\n",
    "        }\n",
    "    },\n",
    "    \"awards\": [\"Lobachevsky Prize\", \"Bolyai Prize\", \"ForMemRS\"],\n",
    "    \"notableStudents\": [\"von Neumann\", \"Weyl\", \"Courant\", \"Zermelo\"]\n",
    "}\n",
    "\"\"\""
   ],
   "id": "32a0f8745d24b5f3",
   "outputs": [],
   "execution_count": 23
  },
  {
   "metadata": {
    "ExecuteTime": {
     "end_time": "2024-08-29T12:02:24.591404Z",
     "start_time": "2024-08-29T12:02:24.583176Z"
    }
   },
   "cell_type": "code",
   "source": [
    "from pydantic import EmailStr, PastDate\n",
    "from pydantic.alias_generators import to_camel"
   ],
   "id": "ad94f2df9bd62f88",
   "outputs": [],
   "execution_count": 25
  },
  {
   "metadata": {
    "ExecuteTime": {
     "end_time": "2024-08-29T12:03:47.448762Z",
     "start_time": "2024-08-29T12:03:47.386657Z"
    }
   },
   "cell_type": "code",
   "source": [
    "class ContactInfo(BaseModel):\n",
    "    model_config = ConfigDict(\n",
    "        extra=\"ignore\"\n",
    "    )\n",
    "    email: EmailStr | None = None"
   ],
   "id": "29b2d98295a7cd5a",
   "outputs": [],
   "execution_count": 26
  },
  {
   "metadata": {
    "ExecuteTime": {
     "end_time": "2024-08-29T12:04:05.389476Z",
     "start_time": "2024-08-29T12:04:05.385601Z"
    }
   },
   "cell_type": "code",
   "source": [
    "class PlaceInfo(BaseModel):\n",
    "    city: str\n",
    "    country: str"
   ],
   "id": "3d0a96242c72f522",
   "outputs": [],
   "execution_count": 27
  },
  {
   "metadata": {
    "ExecuteTime": {
     "end_time": "2024-08-29T12:11:52.749807Z",
     "start_time": "2024-08-29T12:11:52.744381Z"
    }
   },
   "cell_type": "code",
   "source": [
    "class PlaceDateInfo(BaseModel):\n",
    "    model_config = ConfigDict(\n",
    "        populate_by_name=True\n",
    "    )\n",
    "    \n",
    "    date_: PastDate = Field(alias=\"date\")\n",
    "    place: PlaceInfo"
   ],
   "id": "d6000b5b1e7d6cb8",
   "outputs": [],
   "execution_count": 32
  },
  {
   "metadata": {
    "ExecuteTime": {
     "end_time": "2024-08-29T12:11:53.024301Z",
     "start_time": "2024-08-29T12:11:53.020787Z"
    }
   },
   "cell_type": "code",
   "source": [
    "class PersonalInfo(BaseModel):\n",
    "    model_config = ConfigDict(\n",
    "        extra=\"ignore\"\n",
    "    )\n",
    "    nationality: str\n",
    "    born: PlaceDateInfo"
   ],
   "id": "733d29c4f6d4b2f3",
   "outputs": [],
   "execution_count": 33
  },
  {
   "metadata": {
    "ExecuteTime": {
     "end_time": "2024-08-29T12:11:53.187900Z",
     "start_time": "2024-08-29T12:11:53.180713Z"
    }
   },
   "cell_type": "code",
   "source": [
    "class Person(BaseModel):\n",
    "    model_config = ConfigDict(\n",
    "        alias_generator=to_camel,\n",
    "        populate_by_name=True,\n",
    "        extra=\"ignore\"\n",
    "    )\n",
    "    first_name: str\n",
    "    last_name: str\n",
    "    contact_info: ContactInfo\n",
    "    personal_info: PersonalInfo\n",
    "    notable_students: list[str] = []"
   ],
   "id": "340bb53ef9acae27",
   "outputs": [],
   "execution_count": 34
  },
  {
   "metadata": {
    "ExecuteTime": {
     "end_time": "2024-08-29T12:11:53.313194Z",
     "start_time": "2024-08-29T12:11:53.310736Z"
    }
   },
   "cell_type": "code",
   "source": "p = Person.model_validate_json(json_data)",
   "id": "d8b5af39a7775045",
   "outputs": [],
   "execution_count": 35
  },
  {
   "metadata": {
    "ExecuteTime": {
     "end_time": "2024-08-29T12:11:58.621258Z",
     "start_time": "2024-08-29T12:11:58.616719Z"
    }
   },
   "cell_type": "code",
   "source": "p",
   "id": "8ac1e5514d24a726",
   "outputs": [
    {
     "data": {
      "text/plain": [
       "Person(first_name='David', last_name='Hilbert', contact_info=ContactInfo(email='d.hilbert@spectral-theory.com'), personal_info=PersonalInfo(nationality='German', born=PlaceDateInfo(date_=datetime.date(1862, 1, 23), place=PlaceInfo(city='Konigsberg', country='Prussia'))), notable_students=['von Neumann', 'Weyl', 'Courant', 'Zermelo'])"
      ]
     },
     "execution_count": 36,
     "metadata": {},
     "output_type": "execute_result"
    }
   ],
   "execution_count": 36
  },
  {
   "metadata": {
    "ExecuteTime": {
     "end_time": "2024-08-29T12:12:40.038313Z",
     "start_time": "2024-08-29T12:12:40.033991Z"
    }
   },
   "cell_type": "code",
   "source": "p.model_dump()",
   "id": "b94919ed5120db1d",
   "outputs": [
    {
     "data": {
      "text/plain": [
       "{'first_name': 'David',\n",
       " 'last_name': 'Hilbert',\n",
       " 'contact_info': {'email': 'd.hilbert@spectral-theory.com'},\n",
       " 'personal_info': {'nationality': 'German',\n",
       "  'born': {'date_': datetime.date(1862, 1, 23),\n",
       "   'place': {'city': 'Konigsberg', 'country': 'Prussia'}}},\n",
       " 'notable_students': ['von Neumann', 'Weyl', 'Courant', 'Zermelo']}"
      ]
     },
     "execution_count": 37,
     "metadata": {},
     "output_type": "execute_result"
    }
   ],
   "execution_count": 37
  },
  {
   "metadata": {
    "ExecuteTime": {
     "end_time": "2024-08-29T12:12:52.185691Z",
     "start_time": "2024-08-29T12:12:52.182707Z"
    }
   },
   "cell_type": "code",
   "source": "from pprint import pprint",
   "id": "a0f203d206708d36",
   "outputs": [],
   "execution_count": 38
  },
  {
   "metadata": {
    "ExecuteTime": {
     "end_time": "2024-08-29T12:13:13.986695Z",
     "start_time": "2024-08-29T12:13:13.981926Z"
    }
   },
   "cell_type": "code",
   "source": "pprint(p.model_dump())",
   "id": "3c54e03996b9e44b",
   "outputs": [
    {
     "name": "stdout",
     "output_type": "stream",
     "text": [
      "{'contact_info': {'email': 'd.hilbert@spectral-theory.com'},\n",
      " 'first_name': 'David',\n",
      " 'last_name': 'Hilbert',\n",
      " 'notable_students': ['von Neumann', 'Weyl', 'Courant', 'Zermelo'],\n",
      " 'personal_info': {'born': {'date_': datetime.date(1862, 1, 23),\n",
      "                            'place': {'city': 'Konigsberg',\n",
      "                                      'country': 'Prussia'}},\n",
      "                   'nationality': 'German'}}\n"
     ]
    }
   ],
   "execution_count": 41
  },
  {
   "metadata": {
    "ExecuteTime": {
     "end_time": "2024-08-29T12:13:57.141336Z",
     "start_time": "2024-08-29T12:13:57.136969Z"
    }
   },
   "cell_type": "code",
   "source": "print(p.model_dump_json(indent=2))",
   "id": "6a98cd02acab506d",
   "outputs": [
    {
     "name": "stdout",
     "output_type": "stream",
     "text": [
      "{\n",
      "  \"first_name\": \"David\",\n",
      "  \"last_name\": \"Hilbert\",\n",
      "  \"contact_info\": {\n",
      "    \"email\": \"d.hilbert@spectral-theory.com\"\n",
      "  },\n",
      "  \"personal_info\": {\n",
      "    \"nationality\": \"German\",\n",
      "    \"born\": {\n",
      "      \"date_\": \"1862-01-23\",\n",
      "      \"place\": {\n",
      "        \"city\": \"Konigsberg\",\n",
      "        \"country\": \"Prussia\"\n",
      "      }\n",
      "    }\n",
      "  },\n",
      "  \"notable_students\": [\n",
      "    \"von Neumann\",\n",
      "    \"Weyl\",\n",
      "    \"Courant\",\n",
      "    \"Zermelo\"\n",
      "  ]\n",
      "}\n"
     ]
    }
   ],
   "execution_count": 45
  },
  {
   "metadata": {
    "ExecuteTime": {
     "end_time": "2024-08-29T12:20:22.108420Z",
     "start_time": "2024-08-29T12:20:22.105451Z"
    }
   },
   "cell_type": "code",
   "source": [
    "SortedStrList = Annotated[\n",
    "    list[str],\n",
    "    AfterValidator(lambda x: sorted(x, key=str.casefold))\n",
    "]"
   ],
   "id": "b454d91a6d2d25fb",
   "outputs": [],
   "execution_count": 72
  },
  {
   "metadata": {
    "ExecuteTime": {
     "end_time": "2024-08-29T12:20:22.786349Z",
     "start_time": "2024-08-29T12:20:22.781766Z"
    }
   },
   "cell_type": "code",
   "source": [
    "class Person(BaseModel):\n",
    "    model_config = ConfigDict(\n",
    "        alias_generator=to_camel,\n",
    "        populate_by_name=True,\n",
    "        extra=\"ignore\"\n",
    "    )\n",
    "    first_name: str\n",
    "    last_name: str\n",
    "    contact_info: ContactInfo\n",
    "    personal_info: PersonalInfo\n",
    "    notable_students: SortedStrList = []"
   ],
   "id": "3088020d32454302",
   "outputs": [],
   "execution_count": 73
  },
  {
   "metadata": {
    "ExecuteTime": {
     "end_time": "2024-08-29T12:20:23.098735Z",
     "start_time": "2024-08-29T12:20:23.094556Z"
    }
   },
   "cell_type": "code",
   "source": "p = Person.model_validate_json(json_data)",
   "id": "9425ea3bfc57440b",
   "outputs": [],
   "execution_count": 74
  },
  {
   "metadata": {
    "ExecuteTime": {
     "end_time": "2024-08-29T12:20:23.508401Z",
     "start_time": "2024-08-29T12:20:23.503057Z"
    }
   },
   "cell_type": "code",
   "source": "p.model_dump()",
   "id": "d42281ed1798dd62",
   "outputs": [
    {
     "data": {
      "text/plain": [
       "{'first_name': 'David',\n",
       " 'last_name': 'Hilbert',\n",
       " 'contact_info': {'email': 'd.hilbert@spectral-theory.com'},\n",
       " 'personal_info': {'nationality': 'German',\n",
       "  'born': {'date_': datetime.date(1862, 1, 23),\n",
       "   'place': {'city': 'Konigsberg', 'country': 'Prussia'}}},\n",
       " 'notable_students': ['Courant', 'von Neumann', 'Weyl', 'Zermelo']}"
      ]
     },
     "execution_count": 75,
     "metadata": {},
     "output_type": "execute_result"
    }
   ],
   "execution_count": 75
  },
  {
   "metadata": {},
   "cell_type": "code",
   "outputs": [],
   "execution_count": null,
   "source": "",
   "id": "4987fa28a857acd2"
  }
 ],
 "metadata": {
  "kernelspec": {
   "display_name": "Python 3",
   "language": "python",
   "name": "python3"
  },
  "language_info": {
   "codemirror_mode": {
    "name": "ipython",
    "version": 2
   },
   "file_extension": ".py",
   "mimetype": "text/x-python",
   "name": "python",
   "nbconvert_exporter": "python",
   "pygments_lexer": "ipython2",
   "version": "2.7.6"
  }
 },
 "nbformat": 4,
 "nbformat_minor": 5
}
