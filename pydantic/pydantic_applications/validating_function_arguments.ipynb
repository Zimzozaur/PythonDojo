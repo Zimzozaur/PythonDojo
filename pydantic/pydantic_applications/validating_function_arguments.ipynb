{
 "cells": [
  {
   "cell_type": "code",
   "id": "initial_id",
   "metadata": {
    "collapsed": true,
    "ExecuteTime": {
     "end_time": "2024-08-29T17:13:34.218084Z",
     "start_time": "2024-08-29T17:13:34.215246Z"
    }
   },
   "source": [
    "def extract_first_char(s: str):\n",
    "    if s is None:\n",
    "        raise ValueError(\"argument cannot be None\")\n",
    "    if not isinstance(s, str):\n",
    "        raise TypeError(\"argument must be a string\")\n",
    "    if len(s) == 0:\n",
    "        raise ValueError(\"argument cannot be an empty string\")\n",
    "    return s[0]  "
   ],
   "outputs": [],
   "execution_count": 1
  },
  {
   "metadata": {
    "ExecuteTime": {
     "end_time": "2024-08-29T17:14:02.155458Z",
     "start_time": "2024-08-29T17:14:01.969282Z"
    }
   },
   "cell_type": "code",
   "source": "extract_first_char(100)",
   "id": "3a519573d5d44745",
   "outputs": [
    {
     "ename": "TypeError",
     "evalue": "argument must be a string",
     "output_type": "error",
     "traceback": [
      "\u001B[0;31m---------------------------------------------------------------------------\u001B[0m",
      "\u001B[0;31mTypeError\u001B[0m                                 Traceback (most recent call last)",
      "Cell \u001B[0;32mIn[2], line 1\u001B[0m\n\u001B[0;32m----> 1\u001B[0m \u001B[43mextract_first_char\u001B[49m\u001B[43m(\u001B[49m\u001B[38;5;241;43m100\u001B[39;49m\u001B[43m)\u001B[49m\n",
      "Cell \u001B[0;32mIn[1], line 5\u001B[0m, in \u001B[0;36mextract_first_char\u001B[0;34m(s)\u001B[0m\n\u001B[1;32m      3\u001B[0m     \u001B[38;5;28;01mraise\u001B[39;00m \u001B[38;5;167;01mValueError\u001B[39;00m(\u001B[38;5;124m\"\u001B[39m\u001B[38;5;124margument cannot be None\u001B[39m\u001B[38;5;124m\"\u001B[39m)\n\u001B[1;32m      4\u001B[0m \u001B[38;5;28;01mif\u001B[39;00m \u001B[38;5;129;01mnot\u001B[39;00m \u001B[38;5;28misinstance\u001B[39m(s, \u001B[38;5;28mstr\u001B[39m):\n\u001B[0;32m----> 5\u001B[0m     \u001B[38;5;28;01mraise\u001B[39;00m \u001B[38;5;167;01mTypeError\u001B[39;00m(\u001B[38;5;124m\"\u001B[39m\u001B[38;5;124margument must be a string\u001B[39m\u001B[38;5;124m\"\u001B[39m)\n\u001B[1;32m      6\u001B[0m \u001B[38;5;28;01mif\u001B[39;00m \u001B[38;5;28mlen\u001B[39m(s) \u001B[38;5;241m==\u001B[39m \u001B[38;5;241m0\u001B[39m:\n\u001B[1;32m      7\u001B[0m     \u001B[38;5;28;01mraise\u001B[39;00m \u001B[38;5;167;01mValueError\u001B[39;00m(\u001B[38;5;124m\"\u001B[39m\u001B[38;5;124margument cannot be an empty string\u001B[39m\u001B[38;5;124m\"\u001B[39m)\n",
      "\u001B[0;31mTypeError\u001B[0m: argument must be a string"
     ]
    }
   ],
   "execution_count": 2
  },
  {
   "metadata": {
    "ExecuteTime": {
     "end_time": "2024-08-29T17:14:11.522416Z",
     "start_time": "2024-08-29T17:14:11.505740Z"
    }
   },
   "cell_type": "code",
   "source": "extract_first_char(\"\")",
   "id": "92129c2096b7a981",
   "outputs": [
    {
     "ename": "ValueError",
     "evalue": "argument cannot be an empty string",
     "output_type": "error",
     "traceback": [
      "\u001B[0;31m---------------------------------------------------------------------------\u001B[0m",
      "\u001B[0;31mValueError\u001B[0m                                Traceback (most recent call last)",
      "Cell \u001B[0;32mIn[3], line 1\u001B[0m\n\u001B[0;32m----> 1\u001B[0m \u001B[43mextract_first_char\u001B[49m\u001B[43m(\u001B[49m\u001B[38;5;124;43m\"\u001B[39;49m\u001B[38;5;124;43m\"\u001B[39;49m\u001B[43m)\u001B[49m\n",
      "Cell \u001B[0;32mIn[1], line 7\u001B[0m, in \u001B[0;36mextract_first_char\u001B[0;34m(s)\u001B[0m\n\u001B[1;32m      5\u001B[0m     \u001B[38;5;28;01mraise\u001B[39;00m \u001B[38;5;167;01mTypeError\u001B[39;00m(\u001B[38;5;124m\"\u001B[39m\u001B[38;5;124margument must be a string\u001B[39m\u001B[38;5;124m\"\u001B[39m)\n\u001B[1;32m      6\u001B[0m \u001B[38;5;28;01mif\u001B[39;00m \u001B[38;5;28mlen\u001B[39m(s) \u001B[38;5;241m==\u001B[39m \u001B[38;5;241m0\u001B[39m:\n\u001B[0;32m----> 7\u001B[0m     \u001B[38;5;28;01mraise\u001B[39;00m \u001B[38;5;167;01mValueError\u001B[39;00m(\u001B[38;5;124m\"\u001B[39m\u001B[38;5;124margument cannot be an empty string\u001B[39m\u001B[38;5;124m\"\u001B[39m)\n",
      "\u001B[0;31mValueError\u001B[0m: argument cannot be an empty string"
     ]
    }
   ],
   "execution_count": 3
  },
  {
   "metadata": {
    "ExecuteTime": {
     "end_time": "2024-08-29T17:14:53.179304Z",
     "start_time": "2024-08-29T17:14:53.176384Z"
    }
   },
   "cell_type": "code",
   "source": "from typing import Annotated",
   "id": "c39e76241cac3f5e",
   "outputs": [],
   "execution_count": 4
  },
  {
   "metadata": {
    "ExecuteTime": {
     "end_time": "2024-08-29T17:17:00.819561Z",
     "start_time": "2024-08-29T17:17:00.811129Z"
    }
   },
   "cell_type": "code",
   "source": "from pydantic import Field, validate_call",
   "id": "6cda75ae2b5a400b",
   "outputs": [],
   "execution_count": 7
  },
  {
   "metadata": {
    "ExecuteTime": {
     "end_time": "2024-08-29T17:17:01.136064Z",
     "start_time": "2024-08-29T17:17:01.132980Z"
    }
   },
   "cell_type": "code",
   "source": "NonEmptyString = Annotated[str, Field(min_length=1)]",
   "id": "37207bf45f87d1dc",
   "outputs": [],
   "execution_count": 8
  },
  {
   "metadata": {
    "ExecuteTime": {
     "end_time": "2024-08-29T17:17:01.571748Z",
     "start_time": "2024-08-29T17:17:01.518886Z"
    }
   },
   "cell_type": "code",
   "source": [
    "@validate_call\n",
    "def extract_first_char(s: NonEmptyString):\n",
    "    return s[0]  "
   ],
   "id": "20f4787790a163e4",
   "outputs": [],
   "execution_count": 9
  },
  {
   "metadata": {
    "ExecuteTime": {
     "end_time": "2024-08-29T17:17:07.844061Z",
     "start_time": "2024-08-29T17:17:07.802771Z"
    }
   },
   "cell_type": "code",
   "source": "extract_first_char(100)",
   "id": "7257536bd6677220",
   "outputs": [
    {
     "ename": "ValidationError",
     "evalue": "1 validation error for extract_first_char\n0\n  Input should be a valid string [type=string_type, input_value=100, input_type=int]\n    For further information visit https://errors.pydantic.dev/2.8/v/string_type",
     "output_type": "error",
     "traceback": [
      "\u001B[0;31m---------------------------------------------------------------------------\u001B[0m",
      "\u001B[0;31mValidationError\u001B[0m                           Traceback (most recent call last)",
      "Cell \u001B[0;32mIn[10], line 1\u001B[0m\n\u001B[0;32m----> 1\u001B[0m \u001B[43mextract_first_char\u001B[49m\u001B[43m(\u001B[49m\u001B[38;5;241;43m100\u001B[39;49m\u001B[43m)\u001B[49m\n",
      "File \u001B[0;32m~/a-code/PythonDojo/venv/lib/python3.12/site-packages/pydantic/validate_call_decorator.py:60\u001B[0m, in \u001B[0;36mvalidate_call.<locals>.validate.<locals>.wrapper_function\u001B[0;34m(*args, **kwargs)\u001B[0m\n\u001B[1;32m     58\u001B[0m \u001B[38;5;129m@functools\u001B[39m\u001B[38;5;241m.\u001B[39mwraps(function)\n\u001B[1;32m     59\u001B[0m \u001B[38;5;28;01mdef\u001B[39;00m \u001B[38;5;21mwrapper_function\u001B[39m(\u001B[38;5;241m*\u001B[39margs, \u001B[38;5;241m*\u001B[39m\u001B[38;5;241m*\u001B[39mkwargs):\n\u001B[0;32m---> 60\u001B[0m     \u001B[38;5;28;01mreturn\u001B[39;00m \u001B[43mvalidate_call_wrapper\u001B[49m\u001B[43m(\u001B[49m\u001B[38;5;241;43m*\u001B[39;49m\u001B[43margs\u001B[49m\u001B[43m,\u001B[49m\u001B[43m \u001B[49m\u001B[38;5;241;43m*\u001B[39;49m\u001B[38;5;241;43m*\u001B[39;49m\u001B[43mkwargs\u001B[49m\u001B[43m)\u001B[49m\n",
      "File \u001B[0;32m~/a-code/PythonDojo/venv/lib/python3.12/site-packages/pydantic/_internal/_validate_call.py:96\u001B[0m, in \u001B[0;36mValidateCallWrapper.__call__\u001B[0;34m(self, *args, **kwargs)\u001B[0m\n\u001B[1;32m     95\u001B[0m \u001B[38;5;28;01mdef\u001B[39;00m \u001B[38;5;21m__call__\u001B[39m(\u001B[38;5;28mself\u001B[39m, \u001B[38;5;241m*\u001B[39margs: Any, \u001B[38;5;241m*\u001B[39m\u001B[38;5;241m*\u001B[39mkwargs: Any) \u001B[38;5;241m-\u001B[39m\u001B[38;5;241m>\u001B[39m Any:\n\u001B[0;32m---> 96\u001B[0m     res \u001B[38;5;241m=\u001B[39m \u001B[38;5;28;43mself\u001B[39;49m\u001B[38;5;241;43m.\u001B[39;49m\u001B[43m__pydantic_validator__\u001B[49m\u001B[38;5;241;43m.\u001B[39;49m\u001B[43mvalidate_python\u001B[49m\u001B[43m(\u001B[49m\u001B[43mpydantic_core\u001B[49m\u001B[38;5;241;43m.\u001B[39;49m\u001B[43mArgsKwargs\u001B[49m\u001B[43m(\u001B[49m\u001B[43margs\u001B[49m\u001B[43m,\u001B[49m\u001B[43m \u001B[49m\u001B[43mkwargs\u001B[49m\u001B[43m)\u001B[49m\u001B[43m)\u001B[49m\n\u001B[1;32m     97\u001B[0m     \u001B[38;5;28;01mif\u001B[39;00m \u001B[38;5;28mself\u001B[39m\u001B[38;5;241m.\u001B[39m__return_pydantic_validator__:\n\u001B[1;32m     98\u001B[0m         \u001B[38;5;28;01mreturn\u001B[39;00m \u001B[38;5;28mself\u001B[39m\u001B[38;5;241m.\u001B[39m__return_pydantic_validator__(res)\n",
      "\u001B[0;31mValidationError\u001B[0m: 1 validation error for extract_first_char\n0\n  Input should be a valid string [type=string_type, input_value=100, input_type=int]\n    For further information visit https://errors.pydantic.dev/2.8/v/string_type"
     ]
    }
   ],
   "execution_count": 10
  },
  {
   "metadata": {
    "ExecuteTime": {
     "end_time": "2024-08-29T17:17:57.136889Z",
     "start_time": "2024-08-29T17:17:57.105177Z"
    }
   },
   "cell_type": "code",
   "source": "extract_first_char(\"\")",
   "id": "338807c81916ed69",
   "outputs": [
    {
     "ename": "ValidationError",
     "evalue": "1 validation error for extract_first_char\n0\n  String should have at least 1 character [type=string_too_short, input_value='', input_type=str]\n    For further information visit https://errors.pydantic.dev/2.8/v/string_too_short",
     "output_type": "error",
     "traceback": [
      "\u001B[0;31m---------------------------------------------------------------------------\u001B[0m",
      "\u001B[0;31mValidationError\u001B[0m                           Traceback (most recent call last)",
      "Cell \u001B[0;32mIn[12], line 1\u001B[0m\n\u001B[0;32m----> 1\u001B[0m \u001B[43mextract_first_char\u001B[49m\u001B[43m(\u001B[49m\u001B[38;5;124;43m\"\u001B[39;49m\u001B[38;5;124;43m\"\u001B[39;49m\u001B[43m)\u001B[49m\n",
      "File \u001B[0;32m~/a-code/PythonDojo/venv/lib/python3.12/site-packages/pydantic/validate_call_decorator.py:60\u001B[0m, in \u001B[0;36mvalidate_call.<locals>.validate.<locals>.wrapper_function\u001B[0;34m(*args, **kwargs)\u001B[0m\n\u001B[1;32m     58\u001B[0m \u001B[38;5;129m@functools\u001B[39m\u001B[38;5;241m.\u001B[39mwraps(function)\n\u001B[1;32m     59\u001B[0m \u001B[38;5;28;01mdef\u001B[39;00m \u001B[38;5;21mwrapper_function\u001B[39m(\u001B[38;5;241m*\u001B[39margs, \u001B[38;5;241m*\u001B[39m\u001B[38;5;241m*\u001B[39mkwargs):\n\u001B[0;32m---> 60\u001B[0m     \u001B[38;5;28;01mreturn\u001B[39;00m \u001B[43mvalidate_call_wrapper\u001B[49m\u001B[43m(\u001B[49m\u001B[38;5;241;43m*\u001B[39;49m\u001B[43margs\u001B[49m\u001B[43m,\u001B[49m\u001B[43m \u001B[49m\u001B[38;5;241;43m*\u001B[39;49m\u001B[38;5;241;43m*\u001B[39;49m\u001B[43mkwargs\u001B[49m\u001B[43m)\u001B[49m\n",
      "File \u001B[0;32m~/a-code/PythonDojo/venv/lib/python3.12/site-packages/pydantic/_internal/_validate_call.py:96\u001B[0m, in \u001B[0;36mValidateCallWrapper.__call__\u001B[0;34m(self, *args, **kwargs)\u001B[0m\n\u001B[1;32m     95\u001B[0m \u001B[38;5;28;01mdef\u001B[39;00m \u001B[38;5;21m__call__\u001B[39m(\u001B[38;5;28mself\u001B[39m, \u001B[38;5;241m*\u001B[39margs: Any, \u001B[38;5;241m*\u001B[39m\u001B[38;5;241m*\u001B[39mkwargs: Any) \u001B[38;5;241m-\u001B[39m\u001B[38;5;241m>\u001B[39m Any:\n\u001B[0;32m---> 96\u001B[0m     res \u001B[38;5;241m=\u001B[39m \u001B[38;5;28;43mself\u001B[39;49m\u001B[38;5;241;43m.\u001B[39;49m\u001B[43m__pydantic_validator__\u001B[49m\u001B[38;5;241;43m.\u001B[39;49m\u001B[43mvalidate_python\u001B[49m\u001B[43m(\u001B[49m\u001B[43mpydantic_core\u001B[49m\u001B[38;5;241;43m.\u001B[39;49m\u001B[43mArgsKwargs\u001B[49m\u001B[43m(\u001B[49m\u001B[43margs\u001B[49m\u001B[43m,\u001B[49m\u001B[43m \u001B[49m\u001B[43mkwargs\u001B[49m\u001B[43m)\u001B[49m\u001B[43m)\u001B[49m\n\u001B[1;32m     97\u001B[0m     \u001B[38;5;28;01mif\u001B[39;00m \u001B[38;5;28mself\u001B[39m\u001B[38;5;241m.\u001B[39m__return_pydantic_validator__:\n\u001B[1;32m     98\u001B[0m         \u001B[38;5;28;01mreturn\u001B[39;00m \u001B[38;5;28mself\u001B[39m\u001B[38;5;241m.\u001B[39m__return_pydantic_validator__(res)\n",
      "\u001B[0;31mValidationError\u001B[0m: 1 validation error for extract_first_char\n0\n  String should have at least 1 character [type=string_too_short, input_value='', input_type=str]\n    For further information visit https://errors.pydantic.dev/2.8/v/string_too_short"
     ]
    }
   ],
   "execution_count": 12
  },
  {
   "metadata": {
    "ExecuteTime": {
     "end_time": "2024-08-29T17:17:44.244478Z",
     "start_time": "2024-08-29T17:17:44.233894Z"
    }
   },
   "cell_type": "code",
   "source": "extract_first_char(\"abc\")",
   "id": "3bb9737c1797dda4",
   "outputs": [
    {
     "data": {
      "text/plain": [
       "'a'"
      ]
     },
     "execution_count": 11,
     "metadata": {},
     "output_type": "execute_result"
    }
   ],
   "execution_count": 11
  },
  {
   "metadata": {
    "ExecuteTime": {
     "end_time": "2024-08-29T17:20:28.994563Z",
     "start_time": "2024-08-29T17:20:28.982727Z"
    }
   },
   "cell_type": "code",
   "source": [
    "from datetime import datetime\n",
    "from typing import Any\n",
    "\n",
    "import pytz\n",
    "from dateutil.parser import parse\n",
    "\n",
    "def make_utc(dt: datetime) -> datetime:\n",
    "    print(\"make_utc called...\")\n",
    "    if dt.tzinfo is None:\n",
    "        dt = pytz.utc.localize(dt)\n",
    "    else:\n",
    "        dt = dt.astimezone(pytz.utc)\n",
    "    return dt\n",
    "    \n",
    "def parse_datetime(value: Any):\n",
    "    print(\"parse_datetime called...\")\n",
    "    if isinstance(value, str):\n",
    "        try:\n",
    "            return parse(value)\n",
    "        except Exception as ex:\n",
    "            raise ValueError(str(ex))\n",
    "    return value"
   ],
   "id": "ff52db0735494c31",
   "outputs": [],
   "execution_count": 13
  },
  {
   "metadata": {
    "ExecuteTime": {
     "end_time": "2024-08-29T17:20:34.130906Z",
     "start_time": "2024-08-29T17:20:34.120582Z"
    }
   },
   "cell_type": "code",
   "source": [
    "from pydantic import BeforeValidator, AfterValidator\n",
    "\n",
    "DatetimeUTC = Annotated[datetime, BeforeValidator(parse_datetime), AfterValidator(make_utc)]"
   ],
   "id": "705870e45c30a115",
   "outputs": [],
   "execution_count": 14
  },
  {
   "metadata": {
    "ExecuteTime": {
     "end_time": "2024-08-29T17:20:59.085856Z",
     "start_time": "2024-08-29T17:20:59.081781Z"
    }
   },
   "cell_type": "code",
   "source": [
    "@validate_call\n",
    "def func(dt: DatetimeUTC):\n",
    "    return dt.isoformat()"
   ],
   "id": "1a2236324ca0abfb",
   "outputs": [],
   "execution_count": 15
  },
  {
   "metadata": {
    "ExecuteTime": {
     "end_time": "2024-08-29T17:21:50.980485Z",
     "start_time": "2024-08-29T17:21:50.975464Z"
    }
   },
   "cell_type": "code",
   "source": "func(\"2020/1/1 3pm\")",
   "id": "c8ed1c3d73030c30",
   "outputs": [
    {
     "name": "stdout",
     "output_type": "stream",
     "text": [
      "parse_datetime called...\n",
      "make_utc called...\n"
     ]
    },
    {
     "data": {
      "text/plain": [
       "'2020-01-01T15:00:00+00:00'"
      ]
     },
     "execution_count": 16,
     "metadata": {},
     "output_type": "execute_result"
    }
   ],
   "execution_count": 16
  },
  {
   "metadata": {
    "ExecuteTime": {
     "end_time": "2024-08-29T17:26:56.939754Z",
     "start_time": "2024-08-29T17:26:56.934848Z"
    }
   },
   "cell_type": "code",
   "source": [
    "def func(dt: datetime | str):\n",
    "    if isinstance(dt, str):\n",
    "        try:\n",
    "            dt = parse(dt)\n",
    "        except Exception as exc:\n",
    "            raise ValueError(str(exc))\n",
    "    return make_utc(dt)"
   ],
   "id": "6aaad2032d2b1da5",
   "outputs": [],
   "execution_count": 17
  },
  {
   "metadata": {
    "ExecuteTime": {
     "end_time": "2024-08-29T17:28:00.618566Z",
     "start_time": "2024-08-29T17:28:00.614057Z"
    }
   },
   "cell_type": "code",
   "source": "func(\"2020/1/1\")",
   "id": "79dceb53d1038035",
   "outputs": [
    {
     "name": "stdout",
     "output_type": "stream",
     "text": [
      "make_utc called...\n"
     ]
    },
    {
     "data": {
      "text/plain": [
       "datetime.datetime(2020, 1, 1, 0, 0, tzinfo=<UTC>)"
      ]
     },
     "execution_count": 18,
     "metadata": {},
     "output_type": "execute_result"
    }
   ],
   "execution_count": 18
  },
  {
   "metadata": {
    "ExecuteTime": {
     "end_time": "2024-08-29T17:28:04.985563Z",
     "start_time": "2024-08-29T17:28:04.927967Z"
    }
   },
   "cell_type": "code",
   "source": "func(100)",
   "id": "73c4b73a5b3ef463",
   "outputs": [
    {
     "name": "stdout",
     "output_type": "stream",
     "text": [
      "make_utc called...\n"
     ]
    },
    {
     "ename": "ValueError",
     "evalue": "'int' object has no attribute 'tzinfo'",
     "output_type": "error",
     "traceback": [
      "\u001B[0;31m---------------------------------------------------------------------------\u001B[0m",
      "\u001B[0;31mAttributeError\u001B[0m                            Traceback (most recent call last)",
      "Cell \u001B[0;32mIn[17], line 8\u001B[0m, in \u001B[0;36mfunc\u001B[0;34m(dt)\u001B[0m\n\u001B[1;32m      7\u001B[0m \u001B[38;5;28;01mtry\u001B[39;00m:\n\u001B[0;32m----> 8\u001B[0m     dt \u001B[38;5;241m=\u001B[39m \u001B[43mmake_utc\u001B[49m\u001B[43m(\u001B[49m\u001B[43mdt\u001B[49m\u001B[43m)\u001B[49m\n\u001B[1;32m      9\u001B[0m \u001B[38;5;28;01mexcept\u001B[39;00m \u001B[38;5;167;01mException\u001B[39;00m \u001B[38;5;28;01mas\u001B[39;00m exc:\n",
      "Cell \u001B[0;32mIn[13], line 9\u001B[0m, in \u001B[0;36mmake_utc\u001B[0;34m(dt)\u001B[0m\n\u001B[1;32m      8\u001B[0m \u001B[38;5;28mprint\u001B[39m(\u001B[38;5;124m\"\u001B[39m\u001B[38;5;124mmake_utc called...\u001B[39m\u001B[38;5;124m\"\u001B[39m)\n\u001B[0;32m----> 9\u001B[0m \u001B[38;5;28;01mif\u001B[39;00m \u001B[43mdt\u001B[49m\u001B[38;5;241;43m.\u001B[39;49m\u001B[43mtzinfo\u001B[49m \u001B[38;5;129;01mis\u001B[39;00m \u001B[38;5;28;01mNone\u001B[39;00m:\n\u001B[1;32m     10\u001B[0m     dt \u001B[38;5;241m=\u001B[39m pytz\u001B[38;5;241m.\u001B[39mutc\u001B[38;5;241m.\u001B[39mlocalize(dt)\n",
      "\u001B[0;31mAttributeError\u001B[0m: 'int' object has no attribute 'tzinfo'",
      "\nDuring handling of the above exception, another exception occurred:\n",
      "\u001B[0;31mValueError\u001B[0m                                Traceback (most recent call last)",
      "Cell \u001B[0;32mIn[19], line 1\u001B[0m\n\u001B[0;32m----> 1\u001B[0m \u001B[43mfunc\u001B[49m\u001B[43m(\u001B[49m\u001B[38;5;241;43m100\u001B[39;49m\u001B[43m)\u001B[49m\n",
      "Cell \u001B[0;32mIn[17], line 10\u001B[0m, in \u001B[0;36mfunc\u001B[0;34m(dt)\u001B[0m\n\u001B[1;32m      8\u001B[0m     dt \u001B[38;5;241m=\u001B[39m make_utc(dt)\n\u001B[1;32m      9\u001B[0m \u001B[38;5;28;01mexcept\u001B[39;00m \u001B[38;5;167;01mException\u001B[39;00m \u001B[38;5;28;01mas\u001B[39;00m exc:\n\u001B[0;32m---> 10\u001B[0m     \u001B[38;5;28;01mraise\u001B[39;00m \u001B[38;5;167;01mValueError\u001B[39;00m(\u001B[38;5;28mstr\u001B[39m(exc))\n\u001B[1;32m     12\u001B[0m \u001B[38;5;28;01mreturn\u001B[39;00m dt\n",
      "\u001B[0;31mValueError\u001B[0m: 'int' object has no attribute 'tzinfo'"
     ]
    }
   ],
   "execution_count": 19
  },
  {
   "metadata": {
    "ExecuteTime": {
     "end_time": "2024-08-29T17:28:38.830902Z",
     "start_time": "2024-08-29T17:28:38.825257Z"
    }
   },
   "cell_type": "code",
   "source": "func(datetime(2000, 1, 1))",
   "id": "4165568b81190cf5",
   "outputs": [
    {
     "name": "stdout",
     "output_type": "stream",
     "text": [
      "make_utc called...\n"
     ]
    },
    {
     "data": {
      "text/plain": [
       "datetime.datetime(2000, 1, 1, 0, 0, tzinfo=<UTC>)"
      ]
     },
     "execution_count": 20,
     "metadata": {},
     "output_type": "execute_result"
    }
   ],
   "execution_count": 20
  },
  {
   "metadata": {},
   "cell_type": "code",
   "outputs": [],
   "execution_count": null,
   "source": "",
   "id": "22c992057913638c"
  }
 ],
 "metadata": {
  "kernelspec": {
   "display_name": "Python 3",
   "language": "python",
   "name": "python3"
  },
  "language_info": {
   "codemirror_mode": {
    "name": "ipython",
    "version": 2
   },
   "file_extension": ".py",
   "mimetype": "text/x-python",
   "name": "python",
   "nbconvert_exporter": "python",
   "pygments_lexer": "ipython2",
   "version": "2.7.6"
  }
 },
 "nbformat": 4,
 "nbformat_minor": 5
}
