{
 "cells": [
  {
   "cell_type": "code",
   "id": "initial_id",
   "metadata": {
    "collapsed": true,
    "ExecuteTime": {
     "end_time": "2024-08-29T16:44:33.706372Z",
     "start_time": "2024-08-29T16:44:33.703745Z"
    }
   },
   "source": "import csv",
   "outputs": [],
   "execution_count": 1
  },
  {
   "metadata": {
    "ExecuteTime": {
     "end_time": "2024-08-29T16:48:58.255124Z",
     "start_time": "2024-08-29T16:48:58.251587Z"
    }
   },
   "cell_type": "code",
   "source": [
    "with open(\"pop_estimates.csv\") as file:\n",
    "    data = csv.reader(file)\n",
    "    for _ in range(10):\n",
    "        print(next(data))"
   ],
   "id": "462a21e74dc8eef2",
   "outputs": [
    {
     "name": "stdout",
     "output_type": "stream",
     "text": [
      "['Geographic Area', 'July 1, 2001 Estimate', 'July 1, 2000 Estimate', 'April 1, 2000 Population Estimates Base']\n",
      "['United States', ' 284,796,887 ', ' 282,124,631 ', ' 281,421,906 ']\n",
      "['Alabama', ' 4,464,356 ', ' 4,451,493 ', ' 4,447,100 ']\n",
      "['Alaska', ' 634,892 ', ' 627,601 ', ' 626,932 ']\n",
      "['Arizona', ' 5,307,331 ', ' 5,165,274 ', ' 5,130,632 ']\n",
      "['Arkansas', ' 2,692,090 ', ' 2,678,030 ', ' 2,673,400 ']\n",
      "['California', ' 34,501,130 ', ' 34,000,446 ', ' 33,871,648 ']\n",
      "['Colorado', ' 4,417,714 ', ' 4,323,410 ', ' 4,301,261 ']\n",
      "['Connecticut', ' 3,425,074 ', ' 3,410,079 ', ' 3,405,565 ']\n",
      "['Delaware', ' 796,165 ', ' 786,234 ', ' 783,600 ']\n"
     ]
    }
   ],
   "execution_count": 11
  },
  {
   "metadata": {
    "ExecuteTime": {
     "end_time": "2024-08-29T16:51:36.540642Z",
     "start_time": "2024-08-29T16:51:36.537628Z"
    }
   },
   "cell_type": "code",
   "source": [
    "def name_int(value: str):\n",
    "    try:\n",
    "        return int(value.strip().replace(\",\", \"\"))\n",
    "    except Exception as exc:\n",
    "        raise ValueError(\"data couldn't be parsed into a valid integer\")"
   ],
   "id": "69fbadf67e260ddd",
   "outputs": [],
   "execution_count": 12
  },
  {
   "metadata": {
    "ExecuteTime": {
     "end_time": "2024-08-29T16:52:31.425677Z",
     "start_time": "2024-08-29T16:52:31.392940Z"
    }
   },
   "cell_type": "code",
   "source": [
    "from typing import Annotated\n",
    "from pydantic import BeforeValidator"
   ],
   "id": "42f862d1b78036f2",
   "outputs": [],
   "execution_count": 13
  },
  {
   "metadata": {
    "ExecuteTime": {
     "end_time": "2024-08-29T16:53:17.770130Z",
     "start_time": "2024-08-29T16:53:17.767899Z"
    }
   },
   "cell_type": "code",
   "source": [
    "FunkyInt = Annotated[\n",
    "    int,\n",
    "    BeforeValidator(name_int)\n",
    "]"
   ],
   "id": "25478edcf1772fe0",
   "outputs": [],
   "execution_count": 15
  },
  {
   "metadata": {
    "ExecuteTime": {
     "end_time": "2024-08-29T16:53:39.530933Z",
     "start_time": "2024-08-29T16:53:39.514302Z"
    }
   },
   "cell_type": "code",
   "source": "from pydantic import BaseModel",
   "id": "1ff6cb8e19de028b",
   "outputs": [],
   "execution_count": 16
  },
  {
   "metadata": {
    "ExecuteTime": {
     "end_time": "2024-08-29T16:54:44.343548Z",
     "start_time": "2024-08-29T16:54:44.256781Z"
    }
   },
   "cell_type": "code",
   "source": [
    "class Estimate(BaseModel):\n",
    "    ares: str\n",
    "    july_1_2001: FunkyInt\n",
    "    july_1_2000: FunkyInt\n",
    "    april_1_2000: FunkyInt"
   ],
   "id": "9f020dd26b5f4584",
   "outputs": [],
   "execution_count": 17
  },
  {
   "metadata": {
    "ExecuteTime": {
     "end_time": "2024-08-29T17:00:24.602553Z",
     "start_time": "2024-08-29T17:00:24.596556Z"
    }
   },
   "cell_type": "code",
   "source": [
    "with open(\"pop_estimates.csv\") as file:\n",
    "    list_ = []\n",
    "    data = csv.DictReader(\n",
    "        file,\n",
    "        fieldnames=[\"ares\", \"july_1_2001\", \"july_1_2000\", \"april_1_2000\"]\n",
    "    )\n",
    "    next(data)\n",
    "    for row in data:\n",
    "        list_.append(Estimate(**row))"
   ],
   "id": "7bc09054c72416f2",
   "outputs": [],
   "execution_count": 23
  },
  {
   "metadata": {
    "ExecuteTime": {
     "end_time": "2024-08-29T17:00:25.575070Z",
     "start_time": "2024-08-29T17:00:25.569670Z"
    }
   },
   "cell_type": "code",
   "source": "list_",
   "id": "3d3c92c76f5e10d0",
   "outputs": [
    {
     "data": {
      "text/plain": [
       "[Estimate(ares='United States', july_1_2001=284796887, july_1_2000=282124631, april_1_2000=281421906),\n",
       " Estimate(ares='Alabama', july_1_2001=4464356, july_1_2000=4451493, april_1_2000=4447100),\n",
       " Estimate(ares='Alaska', july_1_2001=634892, july_1_2000=627601, april_1_2000=626932),\n",
       " Estimate(ares='Arizona', july_1_2001=5307331, july_1_2000=5165274, april_1_2000=5130632),\n",
       " Estimate(ares='Arkansas', july_1_2001=2692090, july_1_2000=2678030, april_1_2000=2673400),\n",
       " Estimate(ares='California', july_1_2001=34501130, july_1_2000=34000446, april_1_2000=33871648),\n",
       " Estimate(ares='Colorado', july_1_2001=4417714, july_1_2000=4323410, april_1_2000=4301261),\n",
       " Estimate(ares='Connecticut', july_1_2001=3425074, july_1_2000=3410079, april_1_2000=3405565),\n",
       " Estimate(ares='Delaware', july_1_2001=796165, july_1_2000=786234, april_1_2000=783600),\n",
       " Estimate(ares='District of Columbia', july_1_2001=571822, july_1_2000=571066, april_1_2000=572059),\n",
       " Estimate(ares='Florida', july_1_2001=16396515, july_1_2000=16054328, april_1_2000=15982378),\n",
       " Estimate(ares='Georgia', july_1_2001=8383915, july_1_2000=8229823, april_1_2000=8186453),\n",
       " Estimate(ares='Hawaii', july_1_2001=1224398, july_1_2000=1212281, april_1_2000=1211537),\n",
       " Estimate(ares='Idaho', july_1_2001=1321006, july_1_2000=1299258, april_1_2000=1293953),\n",
       " Estimate(ares='Illinois', july_1_2001=12482301, july_1_2000=12435970, april_1_2000=12419293),\n",
       " Estimate(ares='Indiana', july_1_2001=6114745, july_1_2000=6089950, april_1_2000=6080485),\n",
       " Estimate(ares='Iowa', july_1_2001=2923179, july_1_2000=2927509, april_1_2000=2926324),\n",
       " Estimate(ares='Kansas', july_1_2001=2694641, july_1_2000=2691750, april_1_2000=2688418),\n",
       " Estimate(ares='Kentucky', july_1_2001=4065556, july_1_2000=4047424, april_1_2000=4041769),\n",
       " Estimate(ares='Louisiana', july_1_2001=4465430, july_1_2000=4469970, april_1_2000=4468976),\n",
       " Estimate(ares='Maine', july_1_2001=1286670, july_1_2000=1276961, april_1_2000=1274923),\n",
       " Estimate(ares='Maryland', july_1_2001=5375156, july_1_2000=5310908, april_1_2000=5296486),\n",
       " Estimate(ares='Massachusetts', july_1_2001=6379304, july_1_2000=6357072, april_1_2000=6349097),\n",
       " Estimate(ares='Michigan', july_1_2001=9990817, july_1_2000=9952006, april_1_2000=9938444),\n",
       " Estimate(ares='Minnesota', july_1_2001=4972294, july_1_2000=4931093, april_1_2000=4919479),\n",
       " Estimate(ares='Mississippi', july_1_2001=2858029, july_1_2000=2849100, april_1_2000=2844658),\n",
       " Estimate(ares='Missouri', july_1_2001=5629707, july_1_2000=5603553, april_1_2000=5595211),\n",
       " Estimate(ares='Montana', july_1_2001=904433, july_1_2000=903157, april_1_2000=902195),\n",
       " Estimate(ares='Nebraska', july_1_2001=1713235, july_1_2000=1712577, april_1_2000=1711263),\n",
       " Estimate(ares='Nevada', july_1_2001=2106074, july_1_2000=2018723, april_1_2000=1998257),\n",
       " Estimate(ares='New Hampshire', july_1_2001=1259181, july_1_2000=1239881, april_1_2000=1235786),\n",
       " Estimate(ares='New Jersey', july_1_2001=8484431, july_1_2000=8429007, april_1_2000=8414350),\n",
       " Estimate(ares='New Mexico', july_1_2001=1829146, july_1_2000=1821282, april_1_2000=1819046),\n",
       " Estimate(ares='New York', july_1_2001=19011378, july_1_2000=18989332, april_1_2000=18976457),\n",
       " Estimate(ares='North Carolina', july_1_2001=8186268, july_1_2000=8077367, april_1_2000=8049313),\n",
       " Estimate(ares='North Dakota', july_1_2001=634448, july_1_2000=640919, april_1_2000=642200),\n",
       " Estimate(ares='Ohio', july_1_2001=11373541, july_1_2000=11359955, april_1_2000=11353140),\n",
       " Estimate(ares='Oklahoma', july_1_2001=3460097, july_1_2000=3453250, april_1_2000=3450654),\n",
       " Estimate(ares='Oregon', july_1_2001=3472867, july_1_2000=3429293, april_1_2000=3421399),\n",
       " Estimate(ares='Pennsylvania', july_1_2001=12287150, july_1_2000=12282591, april_1_2000=12281054),\n",
       " Estimate(ares='Rhode Island', july_1_2001=1058920, july_1_2000=1050236, april_1_2000=1048319),\n",
       " Estimate(ares='South Carolina', july_1_2001=4063011, july_1_2000=4023438, april_1_2000=4012012),\n",
       " Estimate(ares='South Dakota', july_1_2001=756600, july_1_2000=755509, april_1_2000=754844),\n",
       " Estimate(ares='Tennessee', july_1_2001=5740021, july_1_2000=5702027, april_1_2000=5689283),\n",
       " Estimate(ares='Texas', july_1_2001=21325018, july_1_2000=20946503, april_1_2000=20851820),\n",
       " Estimate(ares='Utah', july_1_2001=2269789, july_1_2000=2241555, april_1_2000=2233169),\n",
       " Estimate(ares='Vermont', july_1_2001=613090, july_1_2000=609709, april_1_2000=608827),\n",
       " Estimate(ares='Virginia', july_1_2001=7187734, july_1_2000=7104016, april_1_2000=7078515),\n",
       " Estimate(ares='Washington', july_1_2001=5987973, july_1_2000=5908372, april_1_2000=5894121),\n",
       " Estimate(ares='West Virginia', july_1_2001=1801916, july_1_2000=1807099, april_1_2000=1808344),\n",
       " Estimate(ares='Wisconsin', july_1_2001=5401906, july_1_2000=5372243, april_1_2000=5363675),\n",
       " Estimate(ares='Wyoming', july_1_2001=494423, july_1_2000=494001, april_1_2000=493782)]"
      ]
     },
     "execution_count": 24,
     "metadata": {},
     "output_type": "execute_result"
    }
   ],
   "execution_count": 24
  },
  {
   "metadata": {
    "ExecuteTime": {
     "end_time": "2024-08-29T17:06:57.170074Z",
     "start_time": "2024-08-29T17:06:57.165833Z"
    }
   },
   "cell_type": "code",
   "source": [
    "def estimates():\n",
    "    with open(\"pop_estimates.csv\") as file:\n",
    "        data = csv.DictReader(\n",
    "            file,\n",
    "            fieldnames=[\"ares\", \"july_1_2001\", \"july_1_2000\", \"april_1_2000\"]\n",
    "        )\n",
    "        next(data)\n",
    "        for row in data:\n",
    "            x = Estimate.model_validate(row)\n",
    "            print(x.__repr__())\n",
    "            yield x"
   ],
   "id": "c15417b9d8badc31",
   "outputs": [],
   "execution_count": 37
  },
  {
   "metadata": {
    "ExecuteTime": {
     "end_time": "2024-08-29T17:06:58.035492Z",
     "start_time": "2024-08-29T17:06:58.028767Z"
    }
   },
   "cell_type": "code",
   "source": [
    "for estimate in estimates():\n",
    "    ..."
   ],
   "id": "dc7cb64a7df8d5bd",
   "outputs": [
    {
     "name": "stdout",
     "output_type": "stream",
     "text": [
      "Estimate(ares='United States', july_1_2001=284796887, july_1_2000=282124631, april_1_2000=281421906)\n",
      "Estimate(ares='Alabama', july_1_2001=4464356, july_1_2000=4451493, april_1_2000=4447100)\n",
      "Estimate(ares='Alaska', july_1_2001=634892, july_1_2000=627601, april_1_2000=626932)\n",
      "Estimate(ares='Arizona', july_1_2001=5307331, july_1_2000=5165274, april_1_2000=5130632)\n",
      "Estimate(ares='Arkansas', july_1_2001=2692090, july_1_2000=2678030, april_1_2000=2673400)\n",
      "Estimate(ares='California', july_1_2001=34501130, july_1_2000=34000446, april_1_2000=33871648)\n",
      "Estimate(ares='Colorado', july_1_2001=4417714, july_1_2000=4323410, april_1_2000=4301261)\n",
      "Estimate(ares='Connecticut', july_1_2001=3425074, july_1_2000=3410079, april_1_2000=3405565)\n",
      "Estimate(ares='Delaware', july_1_2001=796165, july_1_2000=786234, april_1_2000=783600)\n",
      "Estimate(ares='District of Columbia', july_1_2001=571822, july_1_2000=571066, april_1_2000=572059)\n",
      "Estimate(ares='Florida', july_1_2001=16396515, july_1_2000=16054328, april_1_2000=15982378)\n",
      "Estimate(ares='Georgia', july_1_2001=8383915, july_1_2000=8229823, april_1_2000=8186453)\n",
      "Estimate(ares='Hawaii', july_1_2001=1224398, july_1_2000=1212281, april_1_2000=1211537)\n",
      "Estimate(ares='Idaho', july_1_2001=1321006, july_1_2000=1299258, april_1_2000=1293953)\n",
      "Estimate(ares='Illinois', july_1_2001=12482301, july_1_2000=12435970, april_1_2000=12419293)\n",
      "Estimate(ares='Indiana', july_1_2001=6114745, july_1_2000=6089950, april_1_2000=6080485)\n",
      "Estimate(ares='Iowa', july_1_2001=2923179, july_1_2000=2927509, april_1_2000=2926324)\n",
      "Estimate(ares='Kansas', july_1_2001=2694641, july_1_2000=2691750, april_1_2000=2688418)\n",
      "Estimate(ares='Kentucky', july_1_2001=4065556, july_1_2000=4047424, april_1_2000=4041769)\n",
      "Estimate(ares='Louisiana', july_1_2001=4465430, july_1_2000=4469970, april_1_2000=4468976)\n",
      "Estimate(ares='Maine', july_1_2001=1286670, july_1_2000=1276961, april_1_2000=1274923)\n",
      "Estimate(ares='Maryland', july_1_2001=5375156, july_1_2000=5310908, april_1_2000=5296486)\n",
      "Estimate(ares='Massachusetts', july_1_2001=6379304, july_1_2000=6357072, april_1_2000=6349097)\n",
      "Estimate(ares='Michigan', july_1_2001=9990817, july_1_2000=9952006, april_1_2000=9938444)\n",
      "Estimate(ares='Minnesota', july_1_2001=4972294, july_1_2000=4931093, april_1_2000=4919479)\n",
      "Estimate(ares='Mississippi', july_1_2001=2858029, july_1_2000=2849100, april_1_2000=2844658)\n",
      "Estimate(ares='Missouri', july_1_2001=5629707, july_1_2000=5603553, april_1_2000=5595211)\n",
      "Estimate(ares='Montana', july_1_2001=904433, july_1_2000=903157, april_1_2000=902195)\n",
      "Estimate(ares='Nebraska', july_1_2001=1713235, july_1_2000=1712577, april_1_2000=1711263)\n",
      "Estimate(ares='Nevada', july_1_2001=2106074, july_1_2000=2018723, april_1_2000=1998257)\n",
      "Estimate(ares='New Hampshire', july_1_2001=1259181, july_1_2000=1239881, april_1_2000=1235786)\n",
      "Estimate(ares='New Jersey', july_1_2001=8484431, july_1_2000=8429007, april_1_2000=8414350)\n",
      "Estimate(ares='New Mexico', july_1_2001=1829146, july_1_2000=1821282, april_1_2000=1819046)\n",
      "Estimate(ares='New York', july_1_2001=19011378, july_1_2000=18989332, april_1_2000=18976457)\n",
      "Estimate(ares='North Carolina', july_1_2001=8186268, july_1_2000=8077367, april_1_2000=8049313)\n",
      "Estimate(ares='North Dakota', july_1_2001=634448, july_1_2000=640919, april_1_2000=642200)\n",
      "Estimate(ares='Ohio', july_1_2001=11373541, july_1_2000=11359955, april_1_2000=11353140)\n",
      "Estimate(ares='Oklahoma', july_1_2001=3460097, july_1_2000=3453250, april_1_2000=3450654)\n",
      "Estimate(ares='Oregon', july_1_2001=3472867, july_1_2000=3429293, april_1_2000=3421399)\n",
      "Estimate(ares='Pennsylvania', july_1_2001=12287150, july_1_2000=12282591, april_1_2000=12281054)\n",
      "Estimate(ares='Rhode Island', july_1_2001=1058920, july_1_2000=1050236, april_1_2000=1048319)\n",
      "Estimate(ares='South Carolina', july_1_2001=4063011, july_1_2000=4023438, april_1_2000=4012012)\n",
      "Estimate(ares='South Dakota', july_1_2001=756600, july_1_2000=755509, april_1_2000=754844)\n",
      "Estimate(ares='Tennessee', july_1_2001=5740021, july_1_2000=5702027, april_1_2000=5689283)\n",
      "Estimate(ares='Texas', july_1_2001=21325018, july_1_2000=20946503, april_1_2000=20851820)\n",
      "Estimate(ares='Utah', july_1_2001=2269789, july_1_2000=2241555, april_1_2000=2233169)\n",
      "Estimate(ares='Vermont', july_1_2001=613090, july_1_2000=609709, april_1_2000=608827)\n",
      "Estimate(ares='Virginia', july_1_2001=7187734, july_1_2000=7104016, april_1_2000=7078515)\n",
      "Estimate(ares='Washington', july_1_2001=5987973, july_1_2000=5908372, april_1_2000=5894121)\n",
      "Estimate(ares='West Virginia', july_1_2001=1801916, july_1_2000=1807099, april_1_2000=1808344)\n",
      "Estimate(ares='Wisconsin', july_1_2001=5401906, july_1_2000=5372243, april_1_2000=5363675)\n",
      "Estimate(ares='Wyoming', july_1_2001=494423, july_1_2000=494001, april_1_2000=493782)\n"
     ]
    }
   ],
   "execution_count": 38
  },
  {
   "metadata": {
    "ExecuteTime": {
     "end_time": "2024-08-29T17:08:03.249618Z",
     "start_time": "2024-08-29T17:08:03.246101Z"
    }
   },
   "cell_type": "code",
   "source": [
    "class Model(BaseModel):\n",
    "    country: str = \"USA\""
   ],
   "id": "37be399660dbd2a1",
   "outputs": [],
   "execution_count": 39
  },
  {
   "metadata": {
    "ExecuteTime": {
     "end_time": "2024-08-29T17:08:50.918434Z",
     "start_time": "2024-08-29T17:08:50.910632Z"
    }
   },
   "cell_type": "code",
   "source": "Model()",
   "id": "c65e230d22a2b87d",
   "outputs": [
    {
     "data": {
      "text/plain": [
       "Model(country='USA')"
      ]
     },
     "execution_count": 43,
     "metadata": {},
     "output_type": "execute_result"
    }
   ],
   "execution_count": 43
  },
  {
   "metadata": {
    "ExecuteTime": {
     "end_time": "2024-08-29T17:08:53.322911Z",
     "start_time": "2024-08-29T17:08:53.319037Z"
    }
   },
   "cell_type": "code",
   "source": "print(Model())",
   "id": "c096c481d72e0392",
   "outputs": [
    {
     "name": "stdout",
     "output_type": "stream",
     "text": [
      "country='USA'\n"
     ]
    }
   ],
   "execution_count": 44
  },
  {
   "metadata": {},
   "cell_type": "code",
   "outputs": [],
   "execution_count": null,
   "source": "",
   "id": "875e819163c4062b"
  }
 ],
 "metadata": {
  "kernelspec": {
   "display_name": "Python 3",
   "language": "python",
   "name": "python3"
  },
  "language_info": {
   "codemirror_mode": {
    "name": "ipython",
    "version": 2
   },
   "file_extension": ".py",
   "mimetype": "text/x-python",
   "name": "python",
   "nbconvert_exporter": "python",
   "pygments_lexer": "ipython2",
   "version": "2.7.6"
  }
 },
 "nbformat": 4,
 "nbformat_minor": 5
}
