{
 "cells": [
  {
   "cell_type": "code",
   "id": "initial_id",
   "metadata": {
    "collapsed": true,
    "ExecuteTime": {
     "end_time": "2024-08-29T16:17:19.139162Z",
     "start_time": "2024-08-29T16:17:19.092342Z"
    }
   },
   "source": "import requests",
   "outputs": [],
   "execution_count": 1
  },
  {
   "metadata": {
    "ExecuteTime": {
     "end_time": "2024-08-29T16:17:54.806648Z",
     "start_time": "2024-08-29T16:17:54.695144Z"
    }
   },
   "cell_type": "code",
   "source": "from pydantic import BaseModel, ConfigDict, Field, field_validator, IPvAnyAddress",
   "id": "f4ba3f9e3c8e3dd8",
   "outputs": [],
   "execution_count": 2
  },
  {
   "metadata": {
    "ExecuteTime": {
     "end_time": "2024-08-29T16:27:16.287275Z",
     "start_time": "2024-08-29T16:27:16.281108Z"
    }
   },
   "cell_type": "code",
   "source": [
    "class IPGeo(BaseModel):\n",
    "    model_config = ConfigDict(\n",
    "        extra=\"ignore\"\n",
    "    )\n",
    "    \n",
    "    ip: IPvAnyAddress\n",
    "    country: str | None = None\n",
    "    country_code: str | None = Field(default=None, min_length=2, max_length=2)\n",
    "    country_code3: str | None = Field(default=None, min_length=3, max_length=3)\n",
    "    city: str | None = None\n",
    "    region: str | None = None\n",
    "    timezone: str | None = None\n",
    "    organization_name: str | None = None\n",
    "    \n",
    "    @field_validator(\"organization_name\", mode=\"after\")\n",
    "    @classmethod\n",
    "    def set_unknown_to_none(cls, value: str) -> str | None:\n",
    "        if value.casefold() == \"unknown\":\n",
    "            return None\n",
    "        return value"
   ],
   "id": "998be4f38b679986",
   "outputs": [],
   "execution_count": 13
  },
  {
   "metadata": {
    "ExecuteTime": {
     "end_time": "2024-08-29T16:27:16.526078Z",
     "start_time": "2024-08-29T16:27:16.520523Z"
    }
   },
   "cell_type": "code",
   "source": "IPGeo(ip=\"8.8.8.8\", country=\"test\", country_code3=\"USA\", organization_name=\"UnKnoWn\")",
   "id": "8394cb25eba2509b",
   "outputs": [
    {
     "data": {
      "text/plain": [
       "IPGeo(ip=IPv4Address('8.8.8.8'), country='test', country_code=None, country_code3='USA', city=None, region=None, timezone=None, organization_name=None)"
      ]
     },
     "execution_count": 14,
     "metadata": {},
     "output_type": "execute_result"
    }
   ],
   "execution_count": 14
  },
  {
   "metadata": {
    "ExecuteTime": {
     "end_time": "2024-08-29T16:34:31.176429Z",
     "start_time": "2024-08-29T16:34:31.173270Z"
    }
   },
   "cell_type": "code",
   "source": "url_query=\"https://get.geojs.io/v1/ip/geo/{ip_address}.json\"",
   "id": "7d6af720cc5f46e9",
   "outputs": [],
   "execution_count": 41
  },
  {
   "metadata": {
    "ExecuteTime": {
     "end_time": "2024-08-29T16:34:31.472442Z",
     "start_time": "2024-08-29T16:34:31.469568Z"
    }
   },
   "cell_type": "code",
   "source": "url = url_query.format(ip_address=\"8.8.8.8\")",
   "id": "fb6e024a3b3b0729",
   "outputs": [],
   "execution_count": 42
  },
  {
   "metadata": {
    "ExecuteTime": {
     "end_time": "2024-08-29T16:34:32.049719Z",
     "start_time": "2024-08-29T16:34:31.882203Z"
    }
   },
   "cell_type": "code",
   "source": "response = requests.get(url)",
   "id": "4f7efb6649def03c",
   "outputs": [],
   "execution_count": 43
  },
  {
   "metadata": {
    "ExecuteTime": {
     "end_time": "2024-08-29T16:34:36.659800Z",
     "start_time": "2024-08-29T16:34:36.656571Z"
    }
   },
   "cell_type": "code",
   "source": "response.raise_for_status()",
   "id": "e84d83124e33b731",
   "outputs": [],
   "execution_count": 45
  },
  {
   "metadata": {
    "ExecuteTime": {
     "end_time": "2024-08-29T16:34:37.858154Z",
     "start_time": "2024-08-29T16:34:37.855209Z"
    }
   },
   "cell_type": "code",
   "source": "response_json = response.json()",
   "id": "c4082cc3d8aa2de7",
   "outputs": [],
   "execution_count": 46
  },
  {
   "metadata": {
    "ExecuteTime": {
     "end_time": "2024-08-29T16:35:56.498519Z",
     "start_time": "2024-08-29T16:35:56.493693Z"
    }
   },
   "cell_type": "code",
   "source": "response_json",
   "id": "45b491e86df915ca",
   "outputs": [
    {
     "data": {
      "text/plain": [
       "{'area_code': '0',\n",
       " 'country_code': 'US',\n",
       " 'country_code3': 'USA',\n",
       " 'continent_code': 'NA',\n",
       " 'asn': 15169,\n",
       " 'latitude': '37.751',\n",
       " 'longitude': '-97.822',\n",
       " 'ip': '8.8.8.8',\n",
       " 'organization_name': 'GOOGLE',\n",
       " 'organization': 'AS15169 GOOGLE',\n",
       " 'timezone': 'America/Chicago',\n",
       " 'accuracy': 1000,\n",
       " 'country': 'United States'}"
      ]
     },
     "execution_count": 49,
     "metadata": {},
     "output_type": "execute_result"
    }
   ],
   "execution_count": 49
  },
  {
   "metadata": {
    "ExecuteTime": {
     "end_time": "2024-08-29T16:36:04.389777Z",
     "start_time": "2024-08-29T16:36:04.387187Z"
    }
   },
   "cell_type": "code",
   "source": "data = IPGeo.model_validate(response_json)",
   "id": "d5228fa9f048c6e8",
   "outputs": [],
   "execution_count": 51
  },
  {
   "metadata": {
    "ExecuteTime": {
     "end_time": "2024-08-29T16:36:11.011031Z",
     "start_time": "2024-08-29T16:36:11.007922Z"
    }
   },
   "cell_type": "code",
   "source": "data",
   "id": "c00f6dcfc7bee07d",
   "outputs": [
    {
     "data": {
      "text/plain": [
       "IPGeo(ip=IPv4Address('8.8.8.8'), country='United States', country_code='US', country_code3='USA', city=None, region=None, timezone='America/Chicago', organization_name='GOOGLE')"
      ]
     },
     "execution_count": 52,
     "metadata": {},
     "output_type": "execute_result"
    }
   ],
   "execution_count": 52
  },
  {
   "metadata": {
    "ExecuteTime": {
     "end_time": "2024-08-29T16:37:12.537834Z",
     "start_time": "2024-08-29T16:37:12.364794Z"
    }
   },
   "cell_type": "code",
   "source": [
    "url = url_query.format(ip_address=\"23.62.177.155\")\n",
    "response = requests.get(url)\n",
    "response_json = response.json()\n",
    "IPGeo.model_validate(response_json)"
   ],
   "id": "7c11ce524d183111",
   "outputs": [
    {
     "data": {
      "text/plain": [
       "IPGeo(ip=IPv4Address('23.62.177.155'), country='United States', country_code='US', country_code3='USA', city='El Segundo', region='California', timezone='America/Los_Angeles', organization_name='AKAMAI-AS')"
      ]
     },
     "execution_count": 54,
     "metadata": {},
     "output_type": "execute_result"
    }
   ],
   "execution_count": 54
  },
  {
   "metadata": {
    "ExecuteTime": {
     "end_time": "2024-08-29T16:39:47.099823Z",
     "start_time": "2024-08-29T16:39:46.951380Z"
    }
   },
   "cell_type": "code",
   "source": [
    "url=\"https://get.geojs.io/v1/ip/geo.json\"\n",
    "response = requests.get(url)\n",
    "response_json = response.json()\n",
    "data = IPGeo.model_validate(response_json)\n",
    "data"
   ],
   "id": "443bb89dd6e54cc5",
   "outputs": [
    {
     "data": {
      "text/plain": [
       "IPGeo(ip=IPv6Address('2a01:110f:480a:de00:c2fc:d107:8511:262d'), country='Poland', country_code='PL', country_code3='POL', city='Warsaw', region='Mazovia', timezone='Europe/Warsaw', organization_name='Orange Polska Spolka Akcyjna')"
      ]
     },
     "execution_count": 59,
     "metadata": {},
     "output_type": "execute_result"
    }
   ],
   "execution_count": 59
  },
  {
   "metadata": {
    "ExecuteTime": {
     "end_time": "2024-08-29T16:39:49.198978Z",
     "start_time": "2024-08-29T16:39:49.193646Z"
    }
   },
   "cell_type": "code",
   "source": "data.ip",
   "id": "e382d4ad26539b23",
   "outputs": [
    {
     "data": {
      "text/plain": [
       "IPv6Address('2a01:110f:480a:de00:c2fc:d107:8511:262d')"
      ]
     },
     "execution_count": 60,
     "metadata": {},
     "output_type": "execute_result"
    }
   ],
   "execution_count": 60
  },
  {
   "metadata": {},
   "cell_type": "code",
   "outputs": [],
   "execution_count": null,
   "source": "",
   "id": "75b66762e4c50540"
  }
 ],
 "metadata": {
  "kernelspec": {
   "display_name": "Python 3",
   "language": "python",
   "name": "python3"
  },
  "language_info": {
   "codemirror_mode": {
    "name": "ipython",
    "version": 2
   },
   "file_extension": ".py",
   "mimetype": "text/x-python",
   "name": "python",
   "nbconvert_exporter": "python",
   "pygments_lexer": "ipython2",
   "version": "2.7.6"
  }
 },
 "nbformat": 4,
 "nbformat_minor": 5
}
