{
 "cells": [
  {
   "cell_type": "code",
   "id": "initial_id",
   "metadata": {
    "collapsed": true,
    "ExecuteTime": {
     "end_time": "2024-08-16T08:32:07.692332Z",
     "start_time": "2024-08-16T08:32:07.656028Z"
    }
   },
   "source": "from pydantic import BaseModel, field_serializer",
   "outputs": [],
   "execution_count": 1
  },
  {
   "metadata": {},
   "cell_type": "markdown",
   "source": [
    "- `when_used`: by default the custom serializer is always used, but we have other options available:\n",
    "    - `always`: the default, serializer is executed when serializing either to a dict or to JSON,\n",
    "    - `unless-none`: serializer is not used if the value is None,\n",
    "    - `json`: serializer is only used when serializing to JSON,\n",
    "    - `json-unless-none`: serializer used when serializing to JSON, unless the value is None"
   ],
   "id": "69a20d0591c952fe"
  },
  {
   "metadata": {
    "ExecuteTime": {
     "end_time": "2024-08-16T08:37:12.171388Z",
     "start_time": "2024-08-16T08:37:12.168156Z"
    }
   },
   "cell_type": "code",
   "source": "from datetime import datetime",
   "id": "a48499365f53cf2b",
   "outputs": [],
   "execution_count": 2
  },
  {
   "metadata": {
    "ExecuteTime": {
     "end_time": "2024-08-16T08:39:42.164267Z",
     "start_time": "2024-08-16T08:39:42.079674Z"
    }
   },
   "cell_type": "code",
   "source": [
    "class Model(BaseModel):\n",
    "    dt: datetime | None = None\n",
    "    \n",
    "    @field_serializer('dt', when_used='always')\n",
    "    def serialize_name(self, value):\n",
    "        print(f'type={type(value)}')\n",
    "        return value"
   ],
   "id": "b13311e31656ca1c",
   "outputs": [],
   "execution_count": 3
  },
  {
   "metadata": {},
   "cell_type": "code",
   "outputs": [],
   "execution_count": null,
   "source": "",
   "id": "72162890f6c4bc04"
  }
 ],
 "metadata": {
  "kernelspec": {
   "display_name": "Python 3",
   "language": "python",
   "name": "python3"
  },
  "language_info": {
   "codemirror_mode": {
    "name": "ipython",
    "version": 2
   },
   "file_extension": ".py",
   "mimetype": "text/x-python",
   "name": "python",
   "nbconvert_exporter": "python",
   "pygments_lexer": "ipython2",
   "version": "2.7.6"
  }
 },
 "nbformat": 4,
 "nbformat_minor": 5
}
