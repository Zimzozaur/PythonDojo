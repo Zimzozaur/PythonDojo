{
 "cells": [
  {
   "cell_type": "code",
   "id": "initial_id",
   "metadata": {
    "collapsed": true,
    "ExecuteTime": {
     "end_time": "2024-08-23T10:41:07.483746Z",
     "start_time": "2024-08-23T10:41:07.395492Z"
    }
   },
   "source": "from pydantic import BaseModel, field_serializer",
   "outputs": [],
   "execution_count": 3
  },
  {
   "metadata": {},
   "cell_type": "markdown",
   "source": [
    "- `when_used`: by default the custom serializer is always used, but we have other options available:\n",
    "    - `always`: the default, serializer is executed when serializing either to a dict or to JSON,\n",
    "    - `unless-none`: serializer is not used if the value is None,\n",
    "    - `json`: serializer is only used when serializing to JSON,\n",
    "    - `json-unless-none`: serializer used when serializing to JSON, unless the value is None"
   ],
   "id": "69a20d0591c952fe"
  },
  {
   "metadata": {
    "ExecuteTime": {
     "end_time": "2024-08-23T10:41:07.487080Z",
     "start_time": "2024-08-23T10:41:07.484878Z"
    }
   },
   "cell_type": "code",
   "source": "from datetime import datetime",
   "id": "a48499365f53cf2b",
   "outputs": [],
   "execution_count": 4
  },
  {
   "metadata": {
    "ExecuteTime": {
     "end_time": "2024-08-23T10:41:07.567803Z",
     "start_time": "2024-08-23T10:41:07.487860Z"
    }
   },
   "cell_type": "code",
   "source": [
    "class Model(BaseModel):\n",
    "    dt: datetime | None = None\n",
    "    \n",
    "    @field_serializer('dt', when_used='always')\n",
    "    def serialize_name(self, value):\n",
    "        print(f'type={type(value)}')\n",
    "        return value"
   ],
   "id": "b13311e31656ca1c",
   "outputs": [],
   "execution_count": 5
  },
  {
   "metadata": {
    "ExecuteTime": {
     "end_time": "2024-08-23T10:41:07.574303Z",
     "start_time": "2024-08-23T10:41:07.568995Z"
    }
   },
   "cell_type": "code",
   "source": [
    "m = Model(dt=\"2024-08-23T12:00:00\")\n",
    "m"
   ],
   "id": "72162890f6c4bc04",
   "outputs": [
    {
     "data": {
      "text/plain": [
       "Model(dt=datetime.datetime(2024, 8, 23, 12, 0))"
      ]
     },
     "execution_count": 6,
     "metadata": {},
     "output_type": "execute_result"
    }
   ],
   "execution_count": 6
  },
  {
   "metadata": {
    "ExecuteTime": {
     "end_time": "2024-08-23T10:41:28.287768Z",
     "start_time": "2024-08-23T10:41:28.282298Z"
    }
   },
   "cell_type": "code",
   "source": "m.model_dump()",
   "id": "ebab8de6b866dead",
   "outputs": [
    {
     "name": "stdout",
     "output_type": "stream",
     "text": [
      "type=<class 'datetime.datetime'>\n"
     ]
    },
    {
     "data": {
      "text/plain": [
       "{'dt': datetime.datetime(2024, 8, 23, 12, 0)}"
      ]
     },
     "execution_count": 7,
     "metadata": {},
     "output_type": "execute_result"
    }
   ],
   "execution_count": 7
  },
  {
   "metadata": {
    "ExecuteTime": {
     "end_time": "2024-08-23T10:41:46.436946Z",
     "start_time": "2024-08-23T10:41:46.431453Z"
    }
   },
   "cell_type": "code",
   "source": "m.model_dump_json()",
   "id": "5c4e9260cec3ad2",
   "outputs": [
    {
     "name": "stdout",
     "output_type": "stream",
     "text": [
      "type=<class 'datetime.datetime'>\n"
     ]
    },
    {
     "data": {
      "text/plain": [
       "'{\"dt\":\"2024-08-23T12:00:00\"}'"
      ]
     },
     "execution_count": 8,
     "metadata": {},
     "output_type": "execute_result"
    }
   ],
   "execution_count": 8
  },
  {
   "metadata": {
    "ExecuteTime": {
     "end_time": "2024-08-23T10:42:37.264161Z",
     "start_time": "2024-08-23T10:42:37.260128Z"
    }
   },
   "cell_type": "code",
   "source": "m = Model(db=None)",
   "id": "f55cbc6fcc35d0c5",
   "outputs": [],
   "execution_count": 9
  },
  {
   "metadata": {
    "ExecuteTime": {
     "end_time": "2024-08-23T10:42:42.287989Z",
     "start_time": "2024-08-23T10:42:42.283615Z"
    }
   },
   "cell_type": "code",
   "source": "m.model_dump()",
   "id": "79f500cde227fa6b",
   "outputs": [
    {
     "name": "stdout",
     "output_type": "stream",
     "text": [
      "type=<class 'NoneType'>\n"
     ]
    },
    {
     "data": {
      "text/plain": [
       "{'dt': None}"
      ]
     },
     "execution_count": 10,
     "metadata": {},
     "output_type": "execute_result"
    }
   ],
   "execution_count": 10
  },
  {
   "metadata": {
    "ExecuteTime": {
     "end_time": "2024-08-23T10:42:52.120564Z",
     "start_time": "2024-08-23T10:42:52.115462Z"
    }
   },
   "cell_type": "code",
   "source": "m.model_dump_json()",
   "id": "e28e227bea3ab98f",
   "outputs": [
    {
     "name": "stdout",
     "output_type": "stream",
     "text": [
      "type=<class 'NoneType'>\n"
     ]
    },
    {
     "data": {
      "text/plain": [
       "'{\"dt\":null}'"
      ]
     },
     "execution_count": 11,
     "metadata": {},
     "output_type": "execute_result"
    }
   ],
   "execution_count": 11
  },
  {
   "metadata": {
    "ExecuteTime": {
     "end_time": "2024-08-23T10:43:56.672090Z",
     "start_time": "2024-08-23T10:43:56.665894Z"
    }
   },
   "cell_type": "code",
   "source": [
    "class Model(BaseModel):\n",
    "    dt: datetime | None = None\n",
    "    \n",
    "    @field_serializer('dt', when_used='unless-none')\n",
    "    def serialize_name(self, value):\n",
    "        print(f'type={type(value)}')\n",
    "        return value"
   ],
   "id": "57177241cdc2cc3c",
   "outputs": [],
   "execution_count": 12
  },
  {
   "metadata": {
    "ExecuteTime": {
     "end_time": "2024-08-23T10:44:25.291167Z",
     "start_time": "2024-08-23T10:44:25.285362Z"
    }
   },
   "cell_type": "code",
   "source": [
    "m = Model(dt=\"2024-08-23T12:00:00\")\n",
    "m.model_dump()"
   ],
   "id": "5e2a30b431281b94",
   "outputs": [
    {
     "name": "stdout",
     "output_type": "stream",
     "text": [
      "type=<class 'datetime.datetime'>\n"
     ]
    },
    {
     "data": {
      "text/plain": [
       "{'dt': datetime.datetime(2024, 8, 23, 12, 0)}"
      ]
     },
     "execution_count": 14,
     "metadata": {},
     "output_type": "execute_result"
    }
   ],
   "execution_count": 14
  },
  {
   "metadata": {
    "ExecuteTime": {
     "end_time": "2024-08-23T10:44:33.965157Z",
     "start_time": "2024-08-23T10:44:33.960773Z"
    }
   },
   "cell_type": "code",
   "source": "m.model_dump_json()",
   "id": "57021bc488144ef",
   "outputs": [
    {
     "name": "stdout",
     "output_type": "stream",
     "text": [
      "type=<class 'datetime.datetime'>\n"
     ]
    },
    {
     "data": {
      "text/plain": [
       "'{\"dt\":\"2024-08-23T12:00:00\"}'"
      ]
     },
     "execution_count": 15,
     "metadata": {},
     "output_type": "execute_result"
    }
   ],
   "execution_count": 15
  },
  {
   "metadata": {
    "ExecuteTime": {
     "end_time": "2024-08-23T10:45:01.547075Z",
     "start_time": "2024-08-23T10:45:01.542012Z"
    }
   },
   "cell_type": "code",
   "source": [
    "m = Model(dt=None)\n",
    "m.model_dump()"
   ],
   "id": "27475ff253b1d5a2",
   "outputs": [
    {
     "data": {
      "text/plain": [
       "{'dt': None}"
      ]
     },
     "execution_count": 16,
     "metadata": {},
     "output_type": "execute_result"
    }
   ],
   "execution_count": 16
  },
  {
   "metadata": {
    "ExecuteTime": {
     "end_time": "2024-08-23T10:45:15.214458Z",
     "start_time": "2024-08-23T10:45:15.209646Z"
    }
   },
   "cell_type": "code",
   "source": "m.model_dump_json()",
   "id": "272685c853dcc859",
   "outputs": [
    {
     "data": {
      "text/plain": [
       "'{\"dt\":null}'"
      ]
     },
     "execution_count": 17,
     "metadata": {},
     "output_type": "execute_result"
    }
   ],
   "execution_count": 17
  },
  {
   "metadata": {
    "ExecuteTime": {
     "end_time": "2024-08-23T10:46:40.673712Z",
     "start_time": "2024-08-23T10:46:40.670234Z"
    }
   },
   "cell_type": "code",
   "source": "dt = datetime(2020, 1, 1, 12, 0, 0)",
   "id": "9e50ea466eb937d1",
   "outputs": [],
   "execution_count": 18
  },
  {
   "metadata": {
    "ExecuteTime": {
     "end_time": "2024-08-23T10:46:46.646098Z",
     "start_time": "2024-08-23T10:46:46.641481Z"
    }
   },
   "cell_type": "code",
   "source": "dt",
   "id": "b09a8d26189a9608",
   "outputs": [
    {
     "data": {
      "text/plain": [
       "datetime.datetime(2020, 1, 1, 12, 0)"
      ]
     },
     "execution_count": 19,
     "metadata": {},
     "output_type": "execute_result"
    }
   ],
   "execution_count": 19
  },
  {
   "metadata": {
    "ExecuteTime": {
     "end_time": "2024-08-23T10:46:53.006608Z",
     "start_time": "2024-08-23T10:46:53.002562Z"
    }
   },
   "cell_type": "code",
   "source": "dt.isoformat()",
   "id": "cbbdf2911d38f72e",
   "outputs": [
    {
     "data": {
      "text/plain": [
       "'2020-01-01T12:00:00'"
      ]
     },
     "execution_count": 20,
     "metadata": {},
     "output_type": "execute_result"
    }
   ],
   "execution_count": 20
  },
  {
   "metadata": {
    "ExecuteTime": {
     "end_time": "2024-08-23T10:48:22.514097Z",
     "start_time": "2024-08-23T10:48:22.509307Z"
    }
   },
   "cell_type": "code",
   "source": "dt.strftime(\"%Y/%-m/%-d %I:%M %p\")",
   "id": "76fea947b0a21c65",
   "outputs": [
    {
     "data": {
      "text/plain": [
       "'2020/1/1 12:00 PM'"
      ]
     },
     "execution_count": 21,
     "metadata": {},
     "output_type": "execute_result"
    }
   ],
   "execution_count": 21
  },
  {
   "metadata": {
    "ExecuteTime": {
     "end_time": "2024-08-23T10:49:42.268784Z",
     "start_time": "2024-08-23T10:49:42.263988Z"
    }
   },
   "cell_type": "code",
   "source": [
    "class Model(BaseModel):\n",
    "    dt: datetime | None = None\n",
    "    \n",
    "    @field_serializer('dt', when_used='json-unless-none')\n",
    "    def serialize_name(self, value: datetime):\n",
    "        print(f'type={type(value)}')\n",
    "        return value.strftime(\"%Y/%-m/%-d %I:%M %p\")"
   ],
   "id": "4828f18ef891dc13",
   "outputs": [],
   "execution_count": 24
  },
  {
   "metadata": {
    "ExecuteTime": {
     "end_time": "2024-08-23T10:49:49.503238Z",
     "start_time": "2024-08-23T10:49:49.498212Z"
    }
   },
   "cell_type": "code",
   "source": [
    "m = Model(dt=\"2024-08-23T12:00:00\")\n",
    "m.model_dump()"
   ],
   "id": "4e5e20e0ea01361c",
   "outputs": [
    {
     "data": {
      "text/plain": [
       "{'dt': datetime.datetime(2024, 8, 23, 12, 0)}"
      ]
     },
     "execution_count": 25,
     "metadata": {},
     "output_type": "execute_result"
    }
   ],
   "execution_count": 25
  },
  {
   "metadata": {
    "ExecuteTime": {
     "end_time": "2024-08-23T10:49:53.420946Z",
     "start_time": "2024-08-23T10:49:53.415481Z"
    }
   },
   "cell_type": "code",
   "source": "m.model_dump_json()",
   "id": "20b6fcb05e2ba34b",
   "outputs": [
    {
     "name": "stdout",
     "output_type": "stream",
     "text": [
      "type=<class 'datetime.datetime'>\n"
     ]
    },
    {
     "data": {
      "text/plain": [
       "'{\"dt\":\"2024/8/23 12:00 PM\"}'"
      ]
     },
     "execution_count": 26,
     "metadata": {},
     "output_type": "execute_result"
    }
   ],
   "execution_count": 26
  },
  {
   "metadata": {
    "ExecuteTime": {
     "end_time": "2024-08-23T11:03:59.725059Z",
     "start_time": "2024-08-23T11:03:59.722103Z"
    }
   },
   "cell_type": "code",
   "source": "from pydantic import FieldSerializationInfo",
   "id": "e69f551ba73c7e85",
   "outputs": [],
   "execution_count": 27
  },
  {
   "metadata": {
    "ExecuteTime": {
     "end_time": "2024-08-23T11:05:41.663237Z",
     "start_time": "2024-08-23T11:05:41.659063Z"
    }
   },
   "cell_type": "code",
   "source": [
    "class Model(BaseModel):\n",
    "    dt: datetime | None = None\n",
    "    \n",
    "    @field_serializer(\"dt\", when_used='unless-none')\n",
    "    def dt_serializer(self, value, info: FieldSerializationInfo):\n",
    "        print(f\"info={info}\")\n",
    "        return value"
   ],
   "id": "7c40421b621c9fb8",
   "outputs": [],
   "execution_count": 28
  },
  {
   "metadata": {
    "ExecuteTime": {
     "end_time": "2024-08-23T11:05:58.016722Z",
     "start_time": "2024-08-23T11:05:58.013629Z"
    }
   },
   "cell_type": "code",
   "source": "m = Model(dt=datetime(2020, 1, 1))",
   "id": "be1db66754dc9590",
   "outputs": [],
   "execution_count": 29
  },
  {
   "metadata": {
    "ExecuteTime": {
     "end_time": "2024-08-23T11:06:00.256063Z",
     "start_time": "2024-08-23T11:06:00.251848Z"
    }
   },
   "cell_type": "code",
   "source": "m",
   "id": "cb8c9da5880ca8fd",
   "outputs": [
    {
     "data": {
      "text/plain": [
       "Model(dt=datetime.datetime(2020, 1, 1, 0, 0))"
      ]
     },
     "execution_count": 30,
     "metadata": {},
     "output_type": "execute_result"
    }
   ],
   "execution_count": 30
  },
  {
   "metadata": {
    "ExecuteTime": {
     "end_time": "2024-08-23T11:06:05.258548Z",
     "start_time": "2024-08-23T11:06:05.255181Z"
    }
   },
   "cell_type": "code",
   "source": "m.model_dump()",
   "id": "e495d8b4686df773",
   "outputs": [
    {
     "name": "stdout",
     "output_type": "stream",
     "text": [
      "info=SerializationInfo(include=None, exclude=None, context=None, mode='python', by_alias=False, exclude_unset=False, exclude_defaults=False, exclude_none=False, round_trip=False, serialize_as_any=False)\n"
     ]
    },
    {
     "data": {
      "text/plain": [
       "{'dt': datetime.datetime(2020, 1, 1, 0, 0)}"
      ]
     },
     "execution_count": 31,
     "metadata": {},
     "output_type": "execute_result"
    }
   ],
   "execution_count": 31
  },
  {
   "metadata": {
    "ExecuteTime": {
     "end_time": "2024-08-23T11:06:29.689246Z",
     "start_time": "2024-08-23T11:06:29.684673Z"
    }
   },
   "cell_type": "code",
   "source": "m.model_dump_json()",
   "id": "5af010d8fa56197e",
   "outputs": [
    {
     "name": "stdout",
     "output_type": "stream",
     "text": [
      "info=SerializationInfo(include=None, exclude=None, context=None, mode='json', by_alias=False, exclude_unset=False, exclude_defaults=False, exclude_none=False, round_trip=False, serialize_as_any=False)\n"
     ]
    },
    {
     "data": {
      "text/plain": [
       "'{\"dt\":\"2020-01-01T00:00:00\"}'"
      ]
     },
     "execution_count": 32,
     "metadata": {},
     "output_type": "execute_result"
    }
   ],
   "execution_count": 32
  },
  {
   "metadata": {
    "ExecuteTime": {
     "end_time": "2024-08-23T11:07:40.053985Z",
     "start_time": "2024-08-23T11:07:40.046945Z"
    }
   },
   "cell_type": "code",
   "source": [
    "class Model(BaseModel):\n",
    "    dt: datetime | None = None\n",
    "    \n",
    "    @field_serializer(\"dt\", when_used='unless-none')\n",
    "    def dt_serializer(self, value, info: FieldSerializationInfo):\n",
    "        print(f\"info={info}\")\n",
    "        print(f\"is_json={info.mode_is_json()}\")\n",
    "        return value"
   ],
   "id": "74e959671a87be0e",
   "outputs": [],
   "execution_count": 35
  },
  {
   "metadata": {
    "ExecuteTime": {
     "end_time": "2024-08-23T11:07:40.191598Z",
     "start_time": "2024-08-23T11:07:40.188312Z"
    }
   },
   "cell_type": "code",
   "source": [
    "m = Model(dt=datetime(2020, 1, 1))\n",
    "m.model_dump()"
   ],
   "id": "99484f59b85e176d",
   "outputs": [
    {
     "name": "stdout",
     "output_type": "stream",
     "text": [
      "info=SerializationInfo(include=None, exclude=None, context=None, mode='python', by_alias=False, exclude_unset=False, exclude_defaults=False, exclude_none=False, round_trip=False, serialize_as_any=False)\n",
      "is_json=False\n"
     ]
    },
    {
     "data": {
      "text/plain": [
       "{'dt': datetime.datetime(2020, 1, 1, 0, 0)}"
      ]
     },
     "execution_count": 36,
     "metadata": {},
     "output_type": "execute_result"
    }
   ],
   "execution_count": 36
  },
  {
   "metadata": {
    "ExecuteTime": {
     "end_time": "2024-08-23T11:08:59.992356Z",
     "start_time": "2024-08-23T11:08:59.986463Z"
    }
   },
   "cell_type": "code",
   "source": [
    "from datetime import datetime\n",
    "import pytz"
   ],
   "id": "d6d172f3eb65e670",
   "outputs": [],
   "execution_count": 37
  },
  {
   "metadata": {
    "ExecuteTime": {
     "end_time": "2024-08-23T11:09:14.875154Z",
     "start_time": "2024-08-23T11:09:14.870564Z"
    }
   },
   "cell_type": "code",
   "source": [
    "dt=datetime.now()\n",
    "dt"
   ],
   "id": "964dfa1cf24f2b87",
   "outputs": [
    {
     "data": {
      "text/plain": [
       "datetime.datetime(2024, 8, 23, 13, 9, 14, 871736)"
      ]
     },
     "execution_count": 38,
     "metadata": {},
     "output_type": "execute_result"
    }
   ],
   "execution_count": 38
  },
  {
   "metadata": {
    "ExecuteTime": {
     "end_time": "2024-08-23T11:09:28.541493Z",
     "start_time": "2024-08-23T11:09:28.536918Z"
    }
   },
   "cell_type": "code",
   "source": [
    "dt=datetime.now(pytz.utc)\n",
    "dt"
   ],
   "id": "db0c98db4ea2298f",
   "outputs": [
    {
     "data": {
      "text/plain": [
       "datetime.datetime(2024, 8, 23, 11, 9, 28, 538085, tzinfo=<UTC>)"
      ]
     },
     "execution_count": 40,
     "metadata": {},
     "output_type": "execute_result"
    }
   ],
   "execution_count": 40
  },
  {
   "metadata": {
    "ExecuteTime": {
     "end_time": "2024-08-23T11:09:56.946075Z",
     "start_time": "2024-08-23T11:09:56.942144Z"
    }
   },
   "cell_type": "code",
   "source": "dt.isoformat()",
   "id": "132ca29ade391076",
   "outputs": [
    {
     "data": {
      "text/plain": [
       "'2024-08-23T11:09:28.538085+00:00'"
      ]
     },
     "execution_count": 41,
     "metadata": {},
     "output_type": "execute_result"
    }
   ],
   "execution_count": 41
  },
  {
   "metadata": {
    "ExecuteTime": {
     "end_time": "2024-08-23T11:12:50.110141Z",
     "start_time": "2024-08-23T11:12:50.106259Z"
    }
   },
   "cell_type": "code",
   "source": [
    "def make_utc(dt: datetime) -> datetime:\n",
    "    if dt.tzinfo is None:\n",
    "        dt = pytz.utc.localize(dt)\n",
    "    else:\n",
    "        dt = dt.astimezone(pytz.utc)\n",
    "    return dt"
   ],
   "id": "db5e0b4e2d087ff",
   "outputs": [],
   "execution_count": 43
  },
  {
   "metadata": {
    "ExecuteTime": {
     "end_time": "2024-08-23T11:13:03.778221Z",
     "start_time": "2024-08-23T11:13:03.775867Z"
    }
   },
   "cell_type": "code",
   "source": "dt = make_utc(datetime.now())",
   "id": "d955740b11a5027e",
   "outputs": [],
   "execution_count": 44
  },
  {
   "metadata": {
    "ExecuteTime": {
     "end_time": "2024-08-23T11:13:05.803088Z",
     "start_time": "2024-08-23T11:13:05.799103Z"
    }
   },
   "cell_type": "code",
   "source": "dt",
   "id": "95e1c33668ec7591",
   "outputs": [
    {
     "data": {
      "text/plain": [
       "datetime.datetime(2024, 8, 23, 13, 13, 3, 776813, tzinfo=<UTC>)"
      ]
     },
     "execution_count": 45,
     "metadata": {},
     "output_type": "execute_result"
    }
   ],
   "execution_count": 45
  },
  {
   "metadata": {
    "ExecuteTime": {
     "end_time": "2024-08-23T11:13:36.638563Z",
     "start_time": "2024-08-23T11:13:36.634805Z"
    }
   },
   "cell_type": "code",
   "source": "dt.isoformat()",
   "id": "89dbfd30eaaf3bcd",
   "outputs": [
    {
     "data": {
      "text/plain": [
       "'2024-08-23T13:13:03.776813+00:00'"
      ]
     },
     "execution_count": 46,
     "metadata": {},
     "output_type": "execute_result"
    }
   ],
   "execution_count": 46
  },
  {
   "metadata": {
    "ExecuteTime": {
     "end_time": "2024-08-23T11:14:11.529259Z",
     "start_time": "2024-08-23T11:14:11.525578Z"
    }
   },
   "cell_type": "code",
   "source": "make_utc(datetime.now(pytz.utc))",
   "id": "7b07fd8c13744cea",
   "outputs": [
    {
     "data": {
      "text/plain": [
       "datetime.datetime(2024, 8, 23, 11, 14, 11, 526602, tzinfo=<UTC>)"
      ]
     },
     "execution_count": 47,
     "metadata": {},
     "output_type": "execute_result"
    }
   ],
   "execution_count": 47
  },
  {
   "metadata": {
    "ExecuteTime": {
     "end_time": "2024-08-23T11:15:19.674800Z",
     "start_time": "2024-08-23T11:15:19.669619Z"
    }
   },
   "cell_type": "code",
   "source": "dt.strftime(\"%Y-%m-%dT%H:%M:%SZ\")",
   "id": "78968712a0167e3d",
   "outputs": [
    {
     "data": {
      "text/plain": [
       "'2024-08-23T13:13:03Z'"
      ]
     },
     "execution_count": 48,
     "metadata": {},
     "output_type": "execute_result"
    }
   ],
   "execution_count": 48
  },
  {
   "metadata": {
    "ExecuteTime": {
     "end_time": "2024-08-23T11:16:24.263530Z",
     "start_time": "2024-08-23T11:16:24.259929Z"
    }
   },
   "cell_type": "code",
   "source": [
    "def dt_utc_json_serializer(dt: datetime) -> str:\n",
    "    dt = make_utc(dt)\n",
    "    return dt.strftime(\"%Y-%m-%dT%H:%M:%SZ\")"
   ],
   "id": "7496d5ae365e0853",
   "outputs": [],
   "execution_count": 49
  },
  {
   "metadata": {
    "ExecuteTime": {
     "end_time": "2024-08-23T11:18:14.745953Z",
     "start_time": "2024-08-23T11:18:14.739895Z"
    }
   },
   "cell_type": "code",
   "source": [
    "class Model(BaseModel):\n",
    "    dt: datetime | None = None\n",
    "    \n",
    "    @field_serializer(\"dt\", when_used='unless-none')\n",
    "    def dt_serializer(self, dt, info: FieldSerializationInfo):\n",
    "        if info.mode_is_json():\n",
    "            return dt_utc_json_serializer(dt)\n",
    "        return make_utc(dt)"
   ],
   "id": "3f585ed0569d9779",
   "outputs": [],
   "execution_count": 50
  },
  {
   "metadata": {
    "ExecuteTime": {
     "end_time": "2024-08-23T11:18:25.996267Z",
     "start_time": "2024-08-23T11:18:25.993851Z"
    }
   },
   "cell_type": "code",
   "source": "m = Model(dt=datetime(2020, 1, 1))",
   "id": "9b7137572cd97100",
   "outputs": [],
   "execution_count": 51
  },
  {
   "metadata": {
    "ExecuteTime": {
     "end_time": "2024-08-23T11:18:27.349920Z",
     "start_time": "2024-08-23T11:18:27.345937Z"
    }
   },
   "cell_type": "code",
   "source": "m",
   "id": "5dadcfc18ea71708",
   "outputs": [
    {
     "data": {
      "text/plain": [
       "Model(dt=datetime.datetime(2020, 1, 1, 0, 0))"
      ]
     },
     "execution_count": 52,
     "metadata": {},
     "output_type": "execute_result"
    }
   ],
   "execution_count": 52
  },
  {
   "metadata": {
    "ExecuteTime": {
     "end_time": "2024-08-23T11:18:33.512530Z",
     "start_time": "2024-08-23T11:18:33.509598Z"
    }
   },
   "cell_type": "code",
   "source": "m.model_dump()",
   "id": "74eaa3ff8f6a5ad4",
   "outputs": [
    {
     "data": {
      "text/plain": [
       "{'dt': datetime.datetime(2020, 1, 1, 0, 0, tzinfo=<UTC>)}"
      ]
     },
     "execution_count": 53,
     "metadata": {},
     "output_type": "execute_result"
    }
   ],
   "execution_count": 53
  },
  {
   "metadata": {
    "ExecuteTime": {
     "end_time": "2024-08-23T11:18:38.375401Z",
     "start_time": "2024-08-23T11:18:38.372091Z"
    }
   },
   "cell_type": "code",
   "source": "m.model_dump_json()",
   "id": "4c879c569e6e4707",
   "outputs": [
    {
     "data": {
      "text/plain": [
       "'{\"dt\":\"2020-01-01T00:00:00Z\"}'"
      ]
     },
     "execution_count": 54,
     "metadata": {},
     "output_type": "execute_result"
    }
   ],
   "execution_count": 54
  },
  {
   "metadata": {
    "ExecuteTime": {
     "end_time": "2024-08-23T11:19:53.800535Z",
     "start_time": "2024-08-23T11:19:53.797158Z"
    }
   },
   "cell_type": "code",
   "source": [
    "eastern = pytz.timezone(\"US/Eastern\")\n",
    "dt = eastern.localize(datetime(2020, 1, 1))"
   ],
   "id": "ea4b44d7c237fb33",
   "outputs": [],
   "execution_count": 56
  },
  {
   "metadata": {
    "ExecuteTime": {
     "end_time": "2024-08-23T11:20:03.814454Z",
     "start_time": "2024-08-23T11:20:03.810582Z"
    }
   },
   "cell_type": "code",
   "source": "dt",
   "id": "46a0111e01278484",
   "outputs": [
    {
     "data": {
      "text/plain": [
       "datetime.datetime(2020, 1, 1, 0, 0, tzinfo=<DstTzInfo 'US/Eastern' EST-1 day, 19:00:00 STD>)"
      ]
     },
     "execution_count": 57,
     "metadata": {},
     "output_type": "execute_result"
    }
   ],
   "execution_count": 57
  },
  {
   "metadata": {
    "ExecuteTime": {
     "end_time": "2024-08-23T11:20:14.844576Z",
     "start_time": "2024-08-23T11:20:14.841835Z"
    }
   },
   "cell_type": "code",
   "source": "dt.isoformat()",
   "id": "4513a929af3b6043",
   "outputs": [
    {
     "data": {
      "text/plain": [
       "'2020-01-01T00:00:00-05:00'"
      ]
     },
     "execution_count": 58,
     "metadata": {},
     "output_type": "execute_result"
    }
   ],
   "execution_count": 58
  },
  {
   "metadata": {
    "ExecuteTime": {
     "end_time": "2024-08-23T11:20:31.007034Z",
     "start_time": "2024-08-23T11:20:31.004910Z"
    }
   },
   "cell_type": "code",
   "source": "m = Model(dt=dt)",
   "id": "55c88a4f3e00ed55",
   "outputs": [],
   "execution_count": 59
  },
  {
   "metadata": {
    "ExecuteTime": {
     "end_time": "2024-08-23T11:20:33.946799Z",
     "start_time": "2024-08-23T11:20:33.942817Z"
    }
   },
   "cell_type": "code",
   "source": "m",
   "id": "30d663516039909",
   "outputs": [
    {
     "data": {
      "text/plain": [
       "Model(dt=datetime.datetime(2020, 1, 1, 0, 0, tzinfo=<DstTzInfo 'US/Eastern' EST-1 day, 19:00:00 STD>))"
      ]
     },
     "execution_count": 60,
     "metadata": {},
     "output_type": "execute_result"
    }
   ],
   "execution_count": 60
  },
  {
   "metadata": {
    "ExecuteTime": {
     "end_time": "2024-08-23T11:20:38.330100Z",
     "start_time": "2024-08-23T11:20:38.327096Z"
    }
   },
   "cell_type": "code",
   "source": "m.model_dump()",
   "id": "5cfeaf3d23ad9711",
   "outputs": [
    {
     "data": {
      "text/plain": [
       "{'dt': datetime.datetime(2020, 1, 1, 5, 0, tzinfo=<UTC>)}"
      ]
     },
     "execution_count": 61,
     "metadata": {},
     "output_type": "execute_result"
    }
   ],
   "execution_count": 61
  },
  {
   "metadata": {
    "ExecuteTime": {
     "end_time": "2024-08-23T11:20:42.048786Z",
     "start_time": "2024-08-23T11:20:42.045332Z"
    }
   },
   "cell_type": "code",
   "source": "m.model_dump_json()",
   "id": "bc6cc4d95ae99606",
   "outputs": [
    {
     "data": {
      "text/plain": [
       "'{\"dt\":\"2020-01-01T05:00:00Z\"}'"
      ]
     },
     "execution_count": 62,
     "metadata": {},
     "output_type": "execute_result"
    }
   ],
   "execution_count": 62
  },
  {
   "metadata": {},
   "cell_type": "code",
   "outputs": [],
   "execution_count": null,
   "source": "",
   "id": "c1db493303d4db48"
  }
 ],
 "metadata": {
  "kernelspec": {
   "display_name": "Python 3",
   "language": "python",
   "name": "python3"
  },
  "language_info": {
   "codemirror_mode": {
    "name": "ipython",
    "version": 2
   },
   "file_extension": ".py",
   "mimetype": "text/x-python",
   "name": "python",
   "nbconvert_exporter": "python",
   "pygments_lexer": "ipython2",
   "version": "2.7.6"
  }
 },
 "nbformat": 4,
 "nbformat_minor": 5
}
