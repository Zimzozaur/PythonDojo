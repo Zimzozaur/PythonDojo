{
 "cells": [
  {
   "metadata": {
    "ExecuteTime": {
     "end_time": "2024-08-28T11:37:34.890471Z",
     "start_time": "2024-08-28T11:37:34.883142Z"
    }
   },
   "cell_type": "code",
   "source": [
    "from dateutil.parser import parse\n",
    "from typing import Any\n",
    "from datetime import datetime\n",
    "from pydantic import BaseModel, field_validator\n",
    "import pytz"
   ],
   "id": "6d55d59fbfe1fa8b",
   "outputs": [],
   "execution_count": 9
  },
  {
   "cell_type": "code",
   "id": "initial_id",
   "metadata": {
    "collapsed": true,
    "ExecuteTime": {
     "end_time": "2024-08-28T11:38:07.974939Z",
     "start_time": "2024-08-28T11:38:07.968973Z"
    }
   },
   "source": [
    "class Model(BaseModel):\n",
    "    dt: datetime\n",
    "    \n",
    "    @field_validator(\"dt\", mode='before')\n",
    "    @classmethod\n",
    "    def parse_datetime(cls, value: Any):\n",
    "        if isinstance(value, str):\n",
    "            print(\"parsing string\")\n",
    "            try: \n",
    "                return parse(value)\n",
    "            except Exception as ex:\n",
    "                raise ValueError(str(ex))\n",
    "        print(\"pass through...\")\n",
    "        return value"
   ],
   "outputs": [],
   "execution_count": 13
  },
  {
   "metadata": {
    "ExecuteTime": {
     "end_time": "2024-08-28T11:38:08.329524Z",
     "start_time": "2024-08-28T11:38:08.325135Z"
    }
   },
   "cell_type": "code",
   "source": "Model(dt=100_000)",
   "id": "99de5d237471aa4a",
   "outputs": [
    {
     "name": "stdout",
     "output_type": "stream",
     "text": [
      "pass through...\n"
     ]
    },
    {
     "data": {
      "text/plain": [
       "Model(dt=datetime.datetime(1970, 1, 2, 3, 46, 40, tzinfo=TzInfo(UTC)))"
      ]
     },
     "execution_count": 14,
     "metadata": {},
     "output_type": "execute_result"
    }
   ],
   "execution_count": 14
  },
  {
   "metadata": {
    "ExecuteTime": {
     "end_time": "2024-08-28T11:38:10.162077Z",
     "start_time": "2024-08-28T11:38:10.156917Z"
    }
   },
   "cell_type": "code",
   "source": "Model(dt=\"2020/1/1 3pm\")",
   "id": "6a9ab37ebc1fd47f",
   "outputs": [
    {
     "name": "stdout",
     "output_type": "stream",
     "text": [
      "parsing string\n"
     ]
    },
    {
     "data": {
      "text/plain": [
       "Model(dt=datetime.datetime(2020, 1, 1, 15, 0))"
      ]
     },
     "execution_count": 15,
     "metadata": {},
     "output_type": "execute_result"
    }
   ],
   "execution_count": 15
  },
  {
   "metadata": {
    "ExecuteTime": {
     "end_time": "2024-08-28T11:38:11.442376Z",
     "start_time": "2024-08-28T11:38:11.435312Z"
    }
   },
   "cell_type": "code",
   "source": [
    "class Model(BaseModel):\n",
    "    dt: datetime\n",
    "    \n",
    "    @field_validator(\"dt\", mode='before')\n",
    "    @classmethod\n",
    "    def parse_datetime(cls, value: Any) -> Any:\n",
    "        if isinstance(value, str):\n",
    "            print(\"parsing string\")\n",
    "            try: \n",
    "                return parse(value)\n",
    "            except Exception as ex:\n",
    "                raise ValueError(str(ex))\n",
    "        print(\"pass through...\")\n",
    "        return value\n",
    "    \n",
    "    @field_validator(\"dt\")\n",
    "    @classmethod\n",
    "    def make_utc(cls, dt: datetime) -> datetime:\n",
    "        if dt.tzinfo is None:\n",
    "            dt = pytz.utc.localize(dt)\n",
    "        else:\n",
    "            dt = dt.astimezone(pytz.utc)\n",
    "        return dt"
   ],
   "id": "badf40b19ed27045",
   "outputs": [],
   "execution_count": 16
  },
  {
   "metadata": {
    "ExecuteTime": {
     "end_time": "2024-08-28T11:39:35.832412Z",
     "start_time": "2024-08-28T11:39:35.826478Z"
    }
   },
   "cell_type": "code",
   "source": "Model(dt=100_000)",
   "id": "3e456b366f1e1278",
   "outputs": [
    {
     "name": "stdout",
     "output_type": "stream",
     "text": [
      "pass through...\n"
     ]
    },
    {
     "data": {
      "text/plain": [
       "Model(dt=datetime.datetime(1970, 1, 2, 3, 46, 40, tzinfo=<UTC>))"
      ]
     },
     "execution_count": 20,
     "metadata": {},
     "output_type": "execute_result"
    }
   ],
   "execution_count": 20
  },
  {
   "metadata": {
    "ExecuteTime": {
     "end_time": "2024-08-28T11:39:36.294340Z",
     "start_time": "2024-08-28T11:39:36.288243Z"
    }
   },
   "cell_type": "code",
   "source": "Model(dt=\"2020/1/1 3pm\")",
   "id": "1f1ebf47c9cd017a",
   "outputs": [
    {
     "name": "stdout",
     "output_type": "stream",
     "text": [
      "parsing string\n"
     ]
    },
    {
     "data": {
      "text/plain": [
       "Model(dt=datetime.datetime(2020, 1, 1, 15, 0, tzinfo=<UTC>))"
      ]
     },
     "execution_count": 21,
     "metadata": {},
     "output_type": "execute_result"
    }
   ],
   "execution_count": 21
  },
  {
   "metadata": {
    "ExecuteTime": {
     "end_time": "2024-08-28T11:42:26.479602Z",
     "start_time": "2024-08-28T11:42:26.475148Z"
    }
   },
   "cell_type": "code",
   "source": [
    "class Model(BaseModel):\n",
    "    number: int\n",
    "    \n",
    "    @field_validator(\"number\")\n",
    "    @classmethod\n",
    "    def add_1(cls, value: int):\n",
    "        print(f\"Running add_1({value}) -> {value + 1}\")\n",
    "        return value + 1\n",
    "    \n",
    "    @field_validator(\"number\")\n",
    "    @classmethod\n",
    "    def add_2(cls, value: int):\n",
    "        print(f\"Running add_2({value}) -> {value + 2}\")\n",
    "        return value + 2\n",
    "    \n",
    "    @field_validator(\"number\", mode='before')\n",
    "    def subtract_1(cls, value):\n",
    "        print(f\"Running subtract_1({value}) -> {value - 1}\")\n",
    "        return value - 1\n",
    "    \n",
    "    @field_validator(\"number\", mode='before')\n",
    "    def subtract_2(cls, value):\n",
    "        print(f\"Running subtract_2({value}) -> {value - 2}\")\n",
    "        return value - 2"
   ],
   "id": "eb6ffd3dab745587",
   "outputs": [],
   "execution_count": 24
  },
  {
   "metadata": {
    "ExecuteTime": {
     "end_time": "2024-08-28T11:42:29.945927Z",
     "start_time": "2024-08-28T11:42:29.940718Z"
    }
   },
   "cell_type": "code",
   "source": "Model(number=0)",
   "id": "18f23768d70d8d45",
   "outputs": [
    {
     "name": "stdout",
     "output_type": "stream",
     "text": [
      "Running subtract_2(0) -> -2\n",
      "Running subtract_1(-2) -> -3\n",
      "Running add_1(-3) -> -2\n",
      "Running add_2(-2) -> 0\n"
     ]
    },
    {
     "data": {
      "text/plain": [
       "Model(number=0)"
      ]
     },
     "execution_count": 26,
     "metadata": {},
     "output_type": "execute_result"
    }
   ],
   "execution_count": 26
  },
  {
   "metadata": {},
   "cell_type": "code",
   "outputs": [],
   "execution_count": null,
   "source": "",
   "id": "1afe0cb018a71d68"
  }
 ],
 "metadata": {
  "kernelspec": {
   "display_name": "Python 3",
   "language": "python",
   "name": "python3"
  },
  "language_info": {
   "codemirror_mode": {
    "name": "ipython",
    "version": 2
   },
   "file_extension": ".py",
   "mimetype": "text/x-python",
   "name": "python",
   "nbconvert_exporter": "python",
   "pygments_lexer": "ipython2",
   "version": "2.7.6"
  }
 },
 "nbformat": 4,
 "nbformat_minor": 5
}
