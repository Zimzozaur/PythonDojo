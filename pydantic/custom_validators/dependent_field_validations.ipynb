{
 "cells": [
  {
   "cell_type": "code",
   "id": "initial_id",
   "metadata": {
    "collapsed": true,
    "ExecuteTime": {
     "end_time": "2024-08-29T06:58:15.552206Z",
     "start_time": "2024-08-29T06:58:15.478038Z"
    }
   },
   "source": "from pydantic import BaseModel, field_validator, ValidationInfo",
   "outputs": [],
   "execution_count": 1
  },
  {
   "metadata": {
    "ExecuteTime": {
     "end_time": "2024-08-29T07:00:26.431091Z",
     "start_time": "2024-08-29T07:00:26.304526Z"
    }
   },
   "cell_type": "code",
   "source": [
    "class Model(BaseModel):\n",
    "    field_1: int\n",
    "    field_2: list[int]\n",
    "    field_3: str\n",
    "    field_4: list[str]\n",
    "    \n",
    "    @field_validator(\"field_3\")\n",
    "    def validator(cls, value: str, validated_values: ValidationInfo) -> str:\n",
    "        print(f\"{value=}\")\n",
    "        print(f\"{validated_values=}\")\n",
    "        return value"
   ],
   "id": "e6ce2d502a47ab9f",
   "outputs": [],
   "execution_count": 2
  },
  {
   "metadata": {
    "ExecuteTime": {
     "end_time": "2024-08-29T07:00:56.920834Z",
     "start_time": "2024-08-29T07:00:56.913901Z"
    }
   },
   "cell_type": "code",
   "source": "Model(field_1=1, field_2=[1], field_3=\"a\", field_4=['a'])",
   "id": "c6b2b7ac02b2d42a",
   "outputs": [
    {
     "name": "stdout",
     "output_type": "stream",
     "text": [
      "value='a'\n",
      "validated_values=ValidationInfo(config={'title': 'Model'}, context=None, data={'field_1': 1, 'field_2': [1]}, field_name='field_3')\n"
     ]
    },
    {
     "data": {
      "text/plain": [
       "Model(field_1=1, field_2=[1], field_3='a', field_4=['a'])"
      ]
     },
     "execution_count": 3,
     "metadata": {},
     "output_type": "execute_result"
    }
   ],
   "execution_count": 3
  },
  {
   "metadata": {
    "ExecuteTime": {
     "end_time": "2024-08-29T07:03:06.365468Z",
     "start_time": "2024-08-29T07:03:06.146467Z"
    }
   },
   "cell_type": "code",
   "source": "Model(field_1=100, field_2=[\"a\"], field_3=\"a\", field_4=['a'])",
   "id": "a6cfffccae62146b",
   "outputs": [
    {
     "name": "stdout",
     "output_type": "stream",
     "text": [
      "value='a'\n",
      "validated_values=ValidationInfo(config={'title': 'Model'}, context=None, data={'field_1': 100}, field_name='field_3')\n"
     ]
    },
    {
     "ename": "ValidationError",
     "evalue": "1 validation error for Model\nfield_2.0\n  Input should be a valid integer, unable to parse string as an integer [type=int_parsing, input_value='a', input_type=str]\n    For further information visit https://errors.pydantic.dev/2.8/v/int_parsing",
     "output_type": "error",
     "traceback": [
      "\u001B[0;31m---------------------------------------------------------------------------\u001B[0m",
      "\u001B[0;31mValidationError\u001B[0m                           Traceback (most recent call last)",
      "Cell \u001B[0;32mIn[4], line 1\u001B[0m\n\u001B[0;32m----> 1\u001B[0m \u001B[43mModel\u001B[49m\u001B[43m(\u001B[49m\u001B[43mfield_1\u001B[49m\u001B[38;5;241;43m=\u001B[39;49m\u001B[38;5;241;43m100\u001B[39;49m\u001B[43m,\u001B[49m\u001B[43m \u001B[49m\u001B[43mfield_2\u001B[49m\u001B[38;5;241;43m=\u001B[39;49m\u001B[43m[\u001B[49m\u001B[38;5;124;43m\"\u001B[39;49m\u001B[38;5;124;43ma\u001B[39;49m\u001B[38;5;124;43m\"\u001B[39;49m\u001B[43m]\u001B[49m\u001B[43m,\u001B[49m\u001B[43m \u001B[49m\u001B[43mfield_3\u001B[49m\u001B[38;5;241;43m=\u001B[39;49m\u001B[38;5;124;43m\"\u001B[39;49m\u001B[38;5;124;43ma\u001B[39;49m\u001B[38;5;124;43m\"\u001B[39;49m\u001B[43m,\u001B[49m\u001B[43m \u001B[49m\u001B[43mfield_4\u001B[49m\u001B[38;5;241;43m=\u001B[39;49m\u001B[43m[\u001B[49m\u001B[38;5;124;43m'\u001B[39;49m\u001B[38;5;124;43ma\u001B[39;49m\u001B[38;5;124;43m'\u001B[39;49m\u001B[43m]\u001B[49m\u001B[43m)\u001B[49m\n",
      "File \u001B[0;32m~/a-code/PythonDojo/venv/lib/python3.12/site-packages/pydantic/main.py:193\u001B[0m, in \u001B[0;36mBaseModel.__init__\u001B[0;34m(self, **data)\u001B[0m\n\u001B[1;32m    191\u001B[0m \u001B[38;5;66;03m# `__tracebackhide__` tells pytest and some other tools to omit this function from tracebacks\u001B[39;00m\n\u001B[1;32m    192\u001B[0m __tracebackhide__ \u001B[38;5;241m=\u001B[39m \u001B[38;5;28;01mTrue\u001B[39;00m\n\u001B[0;32m--> 193\u001B[0m \u001B[38;5;28;43mself\u001B[39;49m\u001B[38;5;241;43m.\u001B[39;49m\u001B[43m__pydantic_validator__\u001B[49m\u001B[38;5;241;43m.\u001B[39;49m\u001B[43mvalidate_python\u001B[49m\u001B[43m(\u001B[49m\u001B[43mdata\u001B[49m\u001B[43m,\u001B[49m\u001B[43m \u001B[49m\u001B[43mself_instance\u001B[49m\u001B[38;5;241;43m=\u001B[39;49m\u001B[38;5;28;43mself\u001B[39;49m\u001B[43m)\u001B[49m\n",
      "\u001B[0;31mValidationError\u001B[0m: 1 validation error for Model\nfield_2.0\n  Input should be a valid integer, unable to parse string as an integer [type=int_parsing, input_value='a', input_type=str]\n    For further information visit https://errors.pydantic.dev/2.8/v/int_parsing"
     ]
    }
   ],
   "execution_count": 4
  },
  {
   "metadata": {
    "ExecuteTime": {
     "end_time": "2024-08-29T07:09:06.577435Z",
     "start_time": "2024-08-29T07:09:06.565787Z"
    }
   },
   "cell_type": "code",
   "source": [
    "from datetime import datetime\n",
    "from typing import Annotated, Any\n",
    "\n",
    "import pytz\n",
    "from dateutil.parser import parse\n",
    "from pydantic import AfterValidator, BeforeValidator\n",
    "\n",
    "\n",
    "def parse_datetime(value: Any):\n",
    "    if isinstance(value, str):\n",
    "        try: \n",
    "            return parse(value)\n",
    "        except Exception as ex:\n",
    "            raise ValueError(str(ex))\n",
    "    return value\n",
    "\n",
    "\n",
    "def make_utc(dt: datetime) -> datetime:\n",
    "    if dt.tzinfo is None:\n",
    "        dt = pytz.utc.localize(dt)\n",
    "    else:\n",
    "        dt = dt.astimezone(pytz.utc)\n",
    "    return dt\n",
    "\n",
    "DateTimeUTC = Annotated[datetime, BeforeValidator(parse_datetime), AfterValidator(make_utc)]"
   ],
   "id": "a79e78c7e06992b7",
   "outputs": [],
   "execution_count": 5
  },
  {
   "metadata": {
    "ExecuteTime": {
     "end_time": "2024-08-29T07:15:15.693555Z",
     "start_time": "2024-08-29T07:15:15.686470Z"
    }
   },
   "cell_type": "code",
   "source": [
    "class Model(BaseModel):\n",
    "    start_dt: DateTimeUTC\n",
    "    end_dt: DateTimeUTC\n",
    "    \n",
    "    @field_validator(\"end_dt\")\n",
    "    def validate_end_after_start_date(\n",
    "            cls, \n",
    "            value: datetime, \n",
    "            values: ValidationInfo\n",
    "    ) -> datetime:\n",
    "        date: dict = values.data\n",
    "        if \"start_dt\" in date:\n",
    "            if value <= date['start_dt']:\n",
    "                raise ValueError('end_dt must come after start_dt')\n",
    "        return value  "
   ],
   "id": "52cf3251995daacb",
   "outputs": [],
   "execution_count": 6
  },
  {
   "metadata": {
    "ExecuteTime": {
     "end_time": "2024-08-29T07:15:32.267219Z",
     "start_time": "2024-08-29T07:15:32.261654Z"
    }
   },
   "cell_type": "code",
   "source": "Model(start_dt=\"2020/1/1\", end_dt=\"2020/12/31\")",
   "id": "e0e0ad50da29305c",
   "outputs": [
    {
     "data": {
      "text/plain": [
       "Model(start_dt=datetime.datetime(2020, 1, 1, 0, 0, tzinfo=<UTC>), end_dt=datetime.datetime(2020, 12, 31, 0, 0, tzinfo=<UTC>))"
      ]
     },
     "execution_count": 7,
     "metadata": {},
     "output_type": "execute_result"
    }
   ],
   "execution_count": 7
  },
  {
   "metadata": {
    "ExecuteTime": {
     "end_time": "2024-08-29T07:15:55.835272Z",
     "start_time": "2024-08-29T07:15:55.808529Z"
    }
   },
   "cell_type": "code",
   "source": "Model(start_dt=\"2020/1/1\", end_dt=\"2020/1/1\")",
   "id": "6fa2822c435da210",
   "outputs": [
    {
     "ename": "ValidationError",
     "evalue": "1 validation error for Model\nend_dt\n  Value error, end_dt must come after start_dt [type=value_error, input_value='2020/1/1', input_type=str]\n    For further information visit https://errors.pydantic.dev/2.8/v/value_error",
     "output_type": "error",
     "traceback": [
      "\u001B[0;31m---------------------------------------------------------------------------\u001B[0m",
      "\u001B[0;31mValidationError\u001B[0m                           Traceback (most recent call last)",
      "Cell \u001B[0;32mIn[10], line 1\u001B[0m\n\u001B[0;32m----> 1\u001B[0m \u001B[43mModel\u001B[49m\u001B[43m(\u001B[49m\u001B[43mstart_dt\u001B[49m\u001B[38;5;241;43m=\u001B[39;49m\u001B[38;5;124;43m\"\u001B[39;49m\u001B[38;5;124;43m2020/1/1\u001B[39;49m\u001B[38;5;124;43m\"\u001B[39;49m\u001B[43m,\u001B[49m\u001B[43m \u001B[49m\u001B[43mend_dt\u001B[49m\u001B[38;5;241;43m=\u001B[39;49m\u001B[38;5;124;43m\"\u001B[39;49m\u001B[38;5;124;43m2020/1/1\u001B[39;49m\u001B[38;5;124;43m\"\u001B[39;49m\u001B[43m)\u001B[49m\n",
      "File \u001B[0;32m~/a-code/PythonDojo/venv/lib/python3.12/site-packages/pydantic/main.py:193\u001B[0m, in \u001B[0;36mBaseModel.__init__\u001B[0;34m(self, **data)\u001B[0m\n\u001B[1;32m    191\u001B[0m \u001B[38;5;66;03m# `__tracebackhide__` tells pytest and some other tools to omit this function from tracebacks\u001B[39;00m\n\u001B[1;32m    192\u001B[0m __tracebackhide__ \u001B[38;5;241m=\u001B[39m \u001B[38;5;28;01mTrue\u001B[39;00m\n\u001B[0;32m--> 193\u001B[0m \u001B[38;5;28;43mself\u001B[39;49m\u001B[38;5;241;43m.\u001B[39;49m\u001B[43m__pydantic_validator__\u001B[49m\u001B[38;5;241;43m.\u001B[39;49m\u001B[43mvalidate_python\u001B[49m\u001B[43m(\u001B[49m\u001B[43mdata\u001B[49m\u001B[43m,\u001B[49m\u001B[43m \u001B[49m\u001B[43mself_instance\u001B[49m\u001B[38;5;241;43m=\u001B[39;49m\u001B[38;5;28;43mself\u001B[39;49m\u001B[43m)\u001B[49m\n",
      "\u001B[0;31mValidationError\u001B[0m: 1 validation error for Model\nend_dt\n  Value error, end_dt must come after start_dt [type=value_error, input_value='2020/1/1', input_type=str]\n    For further information visit https://errors.pydantic.dev/2.8/v/value_error"
     ]
    }
   ],
   "execution_count": 10
  },
  {
   "metadata": {},
   "cell_type": "code",
   "outputs": [],
   "execution_count": null,
   "source": "",
   "id": "6aa98149baddc1ed"
  }
 ],
 "metadata": {
  "kernelspec": {
   "display_name": "Python 3",
   "language": "python",
   "name": "python3"
  },
  "language_info": {
   "codemirror_mode": {
    "name": "ipython",
    "version": 2
   },
   "file_extension": ".py",
   "mimetype": "text/x-python",
   "name": "python",
   "nbconvert_exporter": "python",
   "pygments_lexer": "ipython2",
   "version": "2.7.6"
  }
 },
 "nbformat": 4,
 "nbformat_minor": 5
}
