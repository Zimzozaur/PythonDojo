{
 "cells": [
  {
   "cell_type": "code",
   "id": "initial_id",
   "metadata": {
    "collapsed": true,
    "ExecuteTime": {
     "end_time": "2024-08-28T10:36:46.010893Z",
     "start_time": "2024-08-28T10:36:46.007332Z"
    }
   },
   "source": "from pydantic import BaseModel, Field, field_validator, ValidationError",
   "outputs": [],
   "execution_count": 10
  },
  {
   "metadata": {
    "ExecuteTime": {
     "end_time": "2024-08-28T10:28:34.983204Z",
     "start_time": "2024-08-28T10:28:34.893548Z"
    }
   },
   "cell_type": "code",
   "source": [
    "class Model(BaseModel):\n",
    "    number: int = Field(gt=0, lt=10)"
   ],
   "id": "e16f1250b091704f",
   "outputs": [],
   "execution_count": 2
  },
  {
   "metadata": {
    "ExecuteTime": {
     "end_time": "2024-08-28T10:28:47.235105Z",
     "start_time": "2024-08-28T10:28:47.227548Z"
    }
   },
   "cell_type": "code",
   "source": "Model(number=\"4\")",
   "id": "4b96e4c95dff564a",
   "outputs": [
    {
     "data": {
      "text/plain": [
       "Model(number=4)"
      ]
     },
     "execution_count": 3,
     "metadata": {},
     "output_type": "execute_result"
    }
   ],
   "execution_count": 3
  },
  {
   "metadata": {
    "ExecuteTime": {
     "end_time": "2024-08-28T10:29:04.885746Z",
     "start_time": "2024-08-28T10:29:04.672955Z"
    }
   },
   "cell_type": "code",
   "source": "Model(number=\"12\")",
   "id": "bc5a0a4393d8f75f",
   "outputs": [
    {
     "ename": "ValidationError",
     "evalue": "1 validation error for Model\nnumber\n  Input should be less than 10 [type=less_than, input_value='12', input_type=str]\n    For further information visit https://errors.pydantic.dev/2.8/v/less_than",
     "output_type": "error",
     "traceback": [
      "\u001B[0;31m---------------------------------------------------------------------------\u001B[0m",
      "\u001B[0;31mValidationError\u001B[0m                           Traceback (most recent call last)",
      "Cell \u001B[0;32mIn[4], line 1\u001B[0m\n\u001B[0;32m----> 1\u001B[0m \u001B[43mModel\u001B[49m\u001B[43m(\u001B[49m\u001B[43mnumber\u001B[49m\u001B[38;5;241;43m=\u001B[39;49m\u001B[38;5;124;43m\"\u001B[39;49m\u001B[38;5;124;43m12\u001B[39;49m\u001B[38;5;124;43m\"\u001B[39;49m\u001B[43m)\u001B[49m\n",
      "File \u001B[0;32m~/a-code/PythonDojo/venv/lib/python3.12/site-packages/pydantic/main.py:193\u001B[0m, in \u001B[0;36mBaseModel.__init__\u001B[0;34m(self, **data)\u001B[0m\n\u001B[1;32m    191\u001B[0m \u001B[38;5;66;03m# `__tracebackhide__` tells pytest and some other tools to omit this function from tracebacks\u001B[39;00m\n\u001B[1;32m    192\u001B[0m __tracebackhide__ \u001B[38;5;241m=\u001B[39m \u001B[38;5;28;01mTrue\u001B[39;00m\n\u001B[0;32m--> 193\u001B[0m \u001B[38;5;28;43mself\u001B[39;49m\u001B[38;5;241;43m.\u001B[39;49m\u001B[43m__pydantic_validator__\u001B[49m\u001B[38;5;241;43m.\u001B[39;49m\u001B[43mvalidate_python\u001B[49m\u001B[43m(\u001B[49m\u001B[43mdata\u001B[49m\u001B[43m,\u001B[49m\u001B[43m \u001B[49m\u001B[43mself_instance\u001B[49m\u001B[38;5;241;43m=\u001B[39;49m\u001B[38;5;28;43mself\u001B[39;49m\u001B[43m)\u001B[49m\n",
      "\u001B[0;31mValidationError\u001B[0m: 1 validation error for Model\nnumber\n  Input should be less than 10 [type=less_than, input_value='12', input_type=str]\n    For further information visit https://errors.pydantic.dev/2.8/v/less_than"
     ]
    }
   ],
   "execution_count": 4
  },
  {
   "metadata": {
    "ExecuteTime": {
     "end_time": "2024-08-28T10:32:55.457204Z",
     "start_time": "2024-08-28T10:32:55.452843Z"
    }
   },
   "cell_type": "code",
   "source": [
    "class Model(BaseModel):\n",
    "    number: int = Field(gt=0, lt=10)\n",
    "    \n",
    "    @field_validator(\"number\")\n",
    "    @classmethod\n",
    "    def validate_even(cls, value):\n",
    "        print(\"Running custom validator\")\n",
    "        print(f\"{value=}, {type(value)=}\")\n",
    "        return value"
   ],
   "id": "9b1bdeccf576d456",
   "outputs": [],
   "execution_count": 5
  },
  {
   "metadata": {
    "ExecuteTime": {
     "end_time": "2024-08-28T10:33:09.527840Z",
     "start_time": "2024-08-28T10:33:09.522671Z"
    }
   },
   "cell_type": "code",
   "source": "Model(number=3)",
   "id": "bf3cc578989eae38",
   "outputs": [
    {
     "name": "stdout",
     "output_type": "stream",
     "text": [
      "Running custom validator\n",
      "value=3, type(value)=<class 'int'>\n"
     ]
    },
    {
     "data": {
      "text/plain": [
       "Model(number=3)"
      ]
     },
     "execution_count": 6,
     "metadata": {},
     "output_type": "execute_result"
    }
   ],
   "execution_count": 6
  },
  {
   "metadata": {
    "ExecuteTime": {
     "end_time": "2024-08-28T10:33:35.498253Z",
     "start_time": "2024-08-28T10:33:35.493170Z"
    }
   },
   "cell_type": "code",
   "source": "Model(number=\"3\")",
   "id": "16de9b466abcab82",
   "outputs": [
    {
     "name": "stdout",
     "output_type": "stream",
     "text": [
      "Running custom validator\n",
      "value=3, type(value)=<class 'int'>\n"
     ]
    },
    {
     "data": {
      "text/plain": [
       "Model(number=3)"
      ]
     },
     "execution_count": 7,
     "metadata": {},
     "output_type": "execute_result"
    }
   ],
   "execution_count": 7
  },
  {
   "metadata": {
    "ExecuteTime": {
     "end_time": "2024-08-28T10:34:51.965374Z",
     "start_time": "2024-08-28T10:34:51.938538Z"
    }
   },
   "cell_type": "code",
   "source": "Model(number=12)",
   "id": "180ba846a0c7f6e8",
   "outputs": [
    {
     "ename": "ValidationError",
     "evalue": "1 validation error for Model\nnumber\n  Input should be less than 10 [type=less_than, input_value=12, input_type=int]\n    For further information visit https://errors.pydantic.dev/2.8/v/less_than",
     "output_type": "error",
     "traceback": [
      "\u001B[0;31m---------------------------------------------------------------------------\u001B[0m",
      "\u001B[0;31mValidationError\u001B[0m                           Traceback (most recent call last)",
      "Cell \u001B[0;32mIn[8], line 1\u001B[0m\n\u001B[0;32m----> 1\u001B[0m \u001B[43mModel\u001B[49m\u001B[43m(\u001B[49m\u001B[43mnumber\u001B[49m\u001B[38;5;241;43m=\u001B[39;49m\u001B[38;5;241;43m12\u001B[39;49m\u001B[43m)\u001B[49m\n",
      "File \u001B[0;32m~/a-code/PythonDojo/venv/lib/python3.12/site-packages/pydantic/main.py:193\u001B[0m, in \u001B[0;36mBaseModel.__init__\u001B[0;34m(self, **data)\u001B[0m\n\u001B[1;32m    191\u001B[0m \u001B[38;5;66;03m# `__tracebackhide__` tells pytest and some other tools to omit this function from tracebacks\u001B[39;00m\n\u001B[1;32m    192\u001B[0m __tracebackhide__ \u001B[38;5;241m=\u001B[39m \u001B[38;5;28;01mTrue\u001B[39;00m\n\u001B[0;32m--> 193\u001B[0m \u001B[38;5;28;43mself\u001B[39;49m\u001B[38;5;241;43m.\u001B[39;49m\u001B[43m__pydantic_validator__\u001B[49m\u001B[38;5;241;43m.\u001B[39;49m\u001B[43mvalidate_python\u001B[49m\u001B[43m(\u001B[49m\u001B[43mdata\u001B[49m\u001B[43m,\u001B[49m\u001B[43m \u001B[49m\u001B[43mself_instance\u001B[49m\u001B[38;5;241;43m=\u001B[39;49m\u001B[38;5;28;43mself\u001B[39;49m\u001B[43m)\u001B[49m\n",
      "\u001B[0;31mValidationError\u001B[0m: 1 validation error for Model\nnumber\n  Input should be less than 10 [type=less_than, input_value=12, input_type=int]\n    For further information visit https://errors.pydantic.dev/2.8/v/less_than"
     ]
    }
   ],
   "execution_count": 8
  },
  {
   "metadata": {
    "ExecuteTime": {
     "end_time": "2024-08-28T10:36:57.729519Z",
     "start_time": "2024-08-28T10:36:57.724125Z"
    }
   },
   "cell_type": "code",
   "source": [
    "class Model(BaseModel):\n",
    "    number: int = Field(gt=0, lt=10)\n",
    "    \n",
    "    @field_validator(\"number\")\n",
    "    @classmethod\n",
    "    def validate_even(cls, value):\n",
    "        print(\"Running custom validator\")\n",
    "        print(f\"{value=}, {type(value)=}\")\n",
    "        if value % 2 == 0:\n",
    "            return value\n",
    "        raise ValueError(\"Value must be even\")"
   ],
   "id": "bc27398696b1a72e",
   "outputs": [],
   "execution_count": 11
  },
  {
   "metadata": {
    "ExecuteTime": {
     "end_time": "2024-08-28T10:37:24.735143Z",
     "start_time": "2024-08-28T10:37:24.729410Z"
    }
   },
   "cell_type": "code",
   "source": "Model(number=4)",
   "id": "35aa2a53918d6251",
   "outputs": [
    {
     "name": "stdout",
     "output_type": "stream",
     "text": [
      "Running custom validator\n",
      "value=4, type(value)=<class 'int'>\n"
     ]
    },
    {
     "data": {
      "text/plain": [
       "Model(number=4)"
      ]
     },
     "execution_count": 13,
     "metadata": {},
     "output_type": "execute_result"
    }
   ],
   "execution_count": 13
  },
  {
   "metadata": {
    "ExecuteTime": {
     "end_time": "2024-08-28T10:37:33.939101Z",
     "start_time": "2024-08-28T10:37:33.915050Z"
    }
   },
   "cell_type": "code",
   "source": "Model(number=3)",
   "id": "93c561dfbd7ee4b6",
   "outputs": [
    {
     "name": "stdout",
     "output_type": "stream",
     "text": [
      "Running custom validator\n",
      "value=3, type(value)=<class 'int'>\n"
     ]
    },
    {
     "ename": "ValidationError",
     "evalue": "1 validation error for Model\nnumber\n  Value error, Value must be even [type=value_error, input_value=3, input_type=int]\n    For further information visit https://errors.pydantic.dev/2.8/v/value_error",
     "output_type": "error",
     "traceback": [
      "\u001B[0;31m---------------------------------------------------------------------------\u001B[0m",
      "\u001B[0;31mValidationError\u001B[0m                           Traceback (most recent call last)",
      "Cell \u001B[0;32mIn[14], line 1\u001B[0m\n\u001B[0;32m----> 1\u001B[0m \u001B[43mModel\u001B[49m\u001B[43m(\u001B[49m\u001B[43mnumber\u001B[49m\u001B[38;5;241;43m=\u001B[39;49m\u001B[38;5;241;43m3\u001B[39;49m\u001B[43m)\u001B[49m\n",
      "File \u001B[0;32m~/a-code/PythonDojo/venv/lib/python3.12/site-packages/pydantic/main.py:193\u001B[0m, in \u001B[0;36mBaseModel.__init__\u001B[0;34m(self, **data)\u001B[0m\n\u001B[1;32m    191\u001B[0m \u001B[38;5;66;03m# `__tracebackhide__` tells pytest and some other tools to omit this function from tracebacks\u001B[39;00m\n\u001B[1;32m    192\u001B[0m __tracebackhide__ \u001B[38;5;241m=\u001B[39m \u001B[38;5;28;01mTrue\u001B[39;00m\n\u001B[0;32m--> 193\u001B[0m \u001B[38;5;28;43mself\u001B[39;49m\u001B[38;5;241;43m.\u001B[39;49m\u001B[43m__pydantic_validator__\u001B[49m\u001B[38;5;241;43m.\u001B[39;49m\u001B[43mvalidate_python\u001B[49m\u001B[43m(\u001B[49m\u001B[43mdata\u001B[49m\u001B[43m,\u001B[49m\u001B[43m \u001B[49m\u001B[43mself_instance\u001B[49m\u001B[38;5;241;43m=\u001B[39;49m\u001B[38;5;28;43mself\u001B[39;49m\u001B[43m)\u001B[49m\n",
      "\u001B[0;31mValidationError\u001B[0m: 1 validation error for Model\nnumber\n  Value error, Value must be even [type=value_error, input_value=3, input_type=int]\n    For further information visit https://errors.pydantic.dev/2.8/v/value_error"
     ]
    }
   ],
   "execution_count": 14
  },
  {
   "metadata": {
    "ExecuteTime": {
     "end_time": "2024-08-28T10:39:28.610430Z",
     "start_time": "2024-08-28T10:39:28.604258Z"
    }
   },
   "cell_type": "code",
   "source": [
    "class Model(BaseModel):\n",
    "    number: int = Field(gt=0, lt=10)\n",
    "    \n",
    "    @field_validator(\"number\")\n",
    "    @classmethod\n",
    "    def validate_even(cls, value):\n",
    "        print(\"Running custom validator\")\n",
    "        print(f\"{value=}, {type(value)=}\")\n",
    "        if value % 2 == 0:\n",
    "            return value\n",
    "        raise TypeError(\"Value must be even\")"
   ],
   "id": "3d78277173d19a19",
   "outputs": [],
   "execution_count": 15
  },
  {
   "metadata": {
    "ExecuteTime": {
     "end_time": "2024-08-28T10:39:32.024465Z",
     "start_time": "2024-08-28T10:39:31.986919Z"
    }
   },
   "cell_type": "code",
   "source": "Model(number=3)",
   "id": "e9baf9d9d95fc700",
   "outputs": [
    {
     "name": "stdout",
     "output_type": "stream",
     "text": [
      "Running custom validator\n",
      "value=3, type(value)=<class 'int'>\n"
     ]
    },
    {
     "ename": "TypeError",
     "evalue": "Value must be even",
     "output_type": "error",
     "traceback": [
      "\u001B[0;31m---------------------------------------------------------------------------\u001B[0m",
      "\u001B[0;31mTypeError\u001B[0m                                 Traceback (most recent call last)",
      "Cell \u001B[0;32mIn[16], line 1\u001B[0m\n\u001B[0;32m----> 1\u001B[0m \u001B[43mModel\u001B[49m\u001B[43m(\u001B[49m\u001B[43mnumber\u001B[49m\u001B[38;5;241;43m=\u001B[39;49m\u001B[38;5;241;43m3\u001B[39;49m\u001B[43m)\u001B[49m\n",
      "    \u001B[0;31m[... skipping hidden 1 frame]\u001B[0m\n",
      "Cell \u001B[0;32mIn[15], line 11\u001B[0m, in \u001B[0;36mModel.validate_even\u001B[0;34m(cls, value)\u001B[0m\n\u001B[1;32m      9\u001B[0m \u001B[38;5;28;01mif\u001B[39;00m value \u001B[38;5;241m%\u001B[39m \u001B[38;5;241m2\u001B[39m \u001B[38;5;241m==\u001B[39m \u001B[38;5;241m0\u001B[39m:\n\u001B[1;32m     10\u001B[0m     \u001B[38;5;28;01mreturn\u001B[39;00m value\n\u001B[0;32m---> 11\u001B[0m \u001B[38;5;28;01mraise\u001B[39;00m \u001B[38;5;167;01mTypeError\u001B[39;00m(\u001B[38;5;124m\"\u001B[39m\u001B[38;5;124mValue must be even\u001B[39m\u001B[38;5;124m\"\u001B[39m)\n",
      "\u001B[0;31mTypeError\u001B[0m: Value must be even"
     ]
    }
   ],
   "execution_count": 16
  },
  {
   "metadata": {
    "ExecuteTime": {
     "end_time": "2024-08-28T10:42:06.646599Z",
     "start_time": "2024-08-28T10:42:06.640160Z"
    }
   },
   "cell_type": "code",
   "source": [
    "class Model(BaseModel):\n",
    "    number: int = Field(gt=0, lt=10)\n",
    "    \n",
    "    @field_validator(\"number\")\n",
    "    @classmethod\n",
    "    def validate_even(cls, value):\n",
    "        if value % 2 == 1:\n",
    "            return value + 1\n",
    "        return value"
   ],
   "id": "4c888847b6936b2",
   "outputs": [],
   "execution_count": 17
  },
  {
   "metadata": {
    "ExecuteTime": {
     "end_time": "2024-08-28T10:42:25.823561Z",
     "start_time": "2024-08-28T10:42:25.818930Z"
    }
   },
   "cell_type": "code",
   "source": "Model(number=3), Model(number=2)",
   "id": "b27838cef376e604",
   "outputs": [
    {
     "data": {
      "text/plain": [
       "(Model(number=4), Model(number=2))"
      ]
     },
     "execution_count": 19,
     "metadata": {},
     "output_type": "execute_result"
    }
   ],
   "execution_count": 19
  },
  {
   "metadata": {
    "ExecuteTime": {
     "end_time": "2024-08-28T10:45:25.736823Z",
     "start_time": "2024-08-28T10:45:25.732959Z"
    }
   },
   "cell_type": "code",
   "source": [
    "from datetime import datetime\n",
    "import pytz\n",
    "\n",
    "def make_utc(dt: datetime) -> datetime:\n",
    "    if dt.tzinfo is None:\n",
    "        dt = pytz.utc.localize(dt)\n",
    "    else:\n",
    "        dt = dt.astimezone(pytz.utc)\n",
    "    return dt"
   ],
   "id": "9bd78059de46be1c",
   "outputs": [],
   "execution_count": 31
  },
  {
   "metadata": {
    "ExecuteTime": {
     "end_time": "2024-08-28T10:45:25.995994Z",
     "start_time": "2024-08-28T10:45:25.991994Z"
    }
   },
   "cell_type": "code",
   "source": "datetime.now()",
   "id": "d600b4f936cb5953",
   "outputs": [
    {
     "data": {
      "text/plain": [
       "datetime.datetime(2024, 8, 28, 12, 45, 25, 992701)"
      ]
     },
     "execution_count": 32,
     "metadata": {},
     "output_type": "execute_result"
    }
   ],
   "execution_count": 32
  },
  {
   "metadata": {
    "ExecuteTime": {
     "end_time": "2024-08-28T10:45:26.318190Z",
     "start_time": "2024-08-28T10:45:26.314512Z"
    }
   },
   "cell_type": "code",
   "source": "make_utc(datetime.now())",
   "id": "1ebb69c79169f705",
   "outputs": [
    {
     "data": {
      "text/plain": [
       "datetime.datetime(2024, 8, 28, 12, 45, 26, 315301, tzinfo=<UTC>)"
      ]
     },
     "execution_count": 33,
     "metadata": {},
     "output_type": "execute_result"
    }
   ],
   "execution_count": 33
  },
  {
   "metadata": {
    "ExecuteTime": {
     "end_time": "2024-08-28T10:53:29.751390Z",
     "start_time": "2024-08-28T10:53:29.745806Z"
    }
   },
   "cell_type": "code",
   "source": [
    "class Model(BaseModel):\n",
    "    dt: datetime\n",
    "    \n",
    "    @field_validator(\"dt\")\n",
    "    @classmethod\n",
    "    def make_utc(cls, dt: datetime) -> datetime:\n",
    "        if dt.tzinfo is None:\n",
    "            dt = pytz.utc.localize(dt)\n",
    "        else:\n",
    "            dt = dt.astimezone(pytz.utc)\n",
    "        return dt"
   ],
   "id": "ebc42984b8b5b659",
   "outputs": [],
   "execution_count": 49
  },
  {
   "metadata": {
    "ExecuteTime": {
     "end_time": "2024-08-28T10:53:29.981482Z",
     "start_time": "2024-08-28T10:53:29.978254Z"
    }
   },
   "cell_type": "code",
   "source": "Model(dt=\"2020-01-01T03:00:00\")",
   "id": "61c5561da8ac1b41",
   "outputs": [
    {
     "data": {
      "text/plain": [
       "Model(dt=datetime.datetime(2020, 1, 1, 3, 0, tzinfo=<UTC>))"
      ]
     },
     "execution_count": 50,
     "metadata": {},
     "output_type": "execute_result"
    }
   ],
   "execution_count": 50
  },
  {
   "metadata": {
    "ExecuteTime": {
     "end_time": "2024-08-28T10:53:30.165950Z",
     "start_time": "2024-08-28T10:53:30.163242Z"
    }
   },
   "cell_type": "code",
   "source": "eastern = pytz.timezone(\"US/Eastern\")",
   "id": "a564e1da37335951",
   "outputs": [],
   "execution_count": 51
  },
  {
   "metadata": {
    "ExecuteTime": {
     "end_time": "2024-08-28T10:53:30.369495Z",
     "start_time": "2024-08-28T10:53:30.365982Z"
    }
   },
   "cell_type": "code",
   "source": "dt = eastern.localize(datetime(2020, 1, 1, 3, 0, 0))",
   "id": "444db58755e6a43b",
   "outputs": [],
   "execution_count": 52
  },
  {
   "metadata": {
    "ExecuteTime": {
     "end_time": "2024-08-28T10:53:30.597891Z",
     "start_time": "2024-08-28T10:53:30.593935Z"
    }
   },
   "cell_type": "code",
   "source": "dt",
   "id": "401657b2d7fe470d",
   "outputs": [
    {
     "data": {
      "text/plain": [
       "datetime.datetime(2020, 1, 1, 3, 0, tzinfo=<DstTzInfo 'US/Eastern' EST-1 day, 19:00:00 STD>)"
      ]
     },
     "execution_count": 53,
     "metadata": {},
     "output_type": "execute_result"
    }
   ],
   "execution_count": 53
  },
  {
   "metadata": {
    "ExecuteTime": {
     "end_time": "2024-08-28T10:53:30.933171Z",
     "start_time": "2024-08-28T10:53:30.928545Z"
    }
   },
   "cell_type": "code",
   "source": "Model(dt=dt)",
   "id": "a861eacc264a295d",
   "outputs": [
    {
     "data": {
      "text/plain": [
       "Model(dt=datetime.datetime(2020, 1, 1, 8, 0, tzinfo=<UTC>))"
      ]
     },
     "execution_count": 54,
     "metadata": {},
     "output_type": "execute_result"
    }
   ],
   "execution_count": 54
  },
  {
   "metadata": {
    "ExecuteTime": {
     "end_time": "2024-08-28T10:56:07.385173Z",
     "start_time": "2024-08-28T10:56:07.378804Z"
    }
   },
   "cell_type": "code",
   "source": [
    "class Model(BaseModel):\n",
    "    number: int\n",
    "    \n",
    "    @field_validator(\"number\")\n",
    "    @classmethod\n",
    "    def add_1(cls, value: int):\n",
    "        print(f\"Running add_1({value}) -> {value + 1}\")\n",
    "        return value + 1\n",
    "    \n",
    "    @field_validator(\"number\")\n",
    "    @classmethod\n",
    "    def add_2(cls, value: int):\n",
    "        print(f\"Running add_2({value}) -> {value + 2}\")\n",
    "        return value + 2"
   ],
   "id": "afcf34dbaf6a36d6",
   "outputs": [],
   "execution_count": 57
  },
  {
   "metadata": {
    "ExecuteTime": {
     "end_time": "2024-08-28T10:56:07.777403Z",
     "start_time": "2024-08-28T10:56:07.771664Z"
    }
   },
   "cell_type": "code",
   "source": "Model(number=0)",
   "id": "ad2b6ba9163f11df",
   "outputs": [
    {
     "name": "stdout",
     "output_type": "stream",
     "text": [
      "Running add_1(0) -> 1\n",
      "Running add_2(1) -> 3\n"
     ]
    },
    {
     "data": {
      "text/plain": [
       "Model(number=3)"
      ]
     },
     "execution_count": 58,
     "metadata": {},
     "output_type": "execute_result"
    }
   ],
   "execution_count": 58
  },
  {
   "metadata": {
    "ExecuteTime": {
     "end_time": "2024-08-28T10:58:40.864766Z",
     "start_time": "2024-08-28T10:58:40.857900Z"
    }
   },
   "cell_type": "code",
   "source": [
    "class Model(BaseModel):\n",
    "    unit_cost: float\n",
    "    unit_price: float\n",
    "    \n",
    "    @field_validator(\"unit_cost\", \"unit_price\")\n",
    "    @classmethod\n",
    "    def round_2(cls, value: float) -> float:\n",
    "        return round(value, 2)"
   ],
   "id": "3a27e2af299a0541",
   "outputs": [],
   "execution_count": 59
  },
  {
   "metadata": {
    "ExecuteTime": {
     "end_time": "2024-08-28T10:59:08.182940Z",
     "start_time": "2024-08-28T10:59:08.179469Z"
    }
   },
   "cell_type": "code",
   "source": "Model(unit_cost=2.12345, unit_price=5.9876)",
   "id": "b33fa7a3710cc59e",
   "outputs": [
    {
     "data": {
      "text/plain": [
       "Model(unit_cost=2.12, unit_price=5.99)"
      ]
     },
     "execution_count": 60,
     "metadata": {},
     "output_type": "execute_result"
    }
   ],
   "execution_count": 60
  },
  {
   "metadata": {
    "ExecuteTime": {
     "end_time": "2024-08-28T10:59:41.683111Z",
     "start_time": "2024-08-28T10:59:41.679017Z"
    }
   },
   "cell_type": "code",
   "source": [
    "class Model(BaseModel):\n",
    "    unit_cost: float\n",
    "    unit_price: float\n",
    "    \n",
    "    @field_validator(\"*\")\n",
    "    @classmethod\n",
    "    def round_2(cls, value: float) -> float:\n",
    "        return round(value, 2)"
   ],
   "id": "aa9ed34f6e8255ea",
   "outputs": [],
   "execution_count": 61
  },
  {
   "metadata": {
    "ExecuteTime": {
     "end_time": "2024-08-28T10:59:45.226893Z",
     "start_time": "2024-08-28T10:59:45.222291Z"
    }
   },
   "cell_type": "code",
   "source": "Model(unit_cost=2.12345, unit_price=5.9876)",
   "id": "9b3ff7d1a5804ac0",
   "outputs": [
    {
     "data": {
      "text/plain": [
       "Model(unit_cost=2.12, unit_price=5.99)"
      ]
     },
     "execution_count": 62,
     "metadata": {},
     "output_type": "execute_result"
    }
   ],
   "execution_count": 62
  },
  {
   "metadata": {},
   "cell_type": "code",
   "outputs": [],
   "execution_count": null,
   "source": "",
   "id": "b99a10bdf39f64d3"
  }
 ],
 "metadata": {
  "kernelspec": {
   "display_name": "Python 3",
   "language": "python",
   "name": "python3"
  },
  "language_info": {
   "codemirror_mode": {
    "name": "ipython",
    "version": 2
   },
   "file_extension": ".py",
   "mimetype": "text/x-python",
   "name": "python",
   "nbconvert_exporter": "python",
   "pygments_lexer": "ipython2",
   "version": "2.7.6"
  }
 },
 "nbformat": 4,
 "nbformat_minor": 5
}
