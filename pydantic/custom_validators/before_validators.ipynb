{
 "cells": [
  {
   "cell_type": "code",
   "id": "initial_id",
   "metadata": {
    "collapsed": true,
    "ExecuteTime": {
     "end_time": "2024-08-28T11:19:04.413022Z",
     "start_time": "2024-08-28T11:19:04.410222Z"
    }
   },
   "source": [
    "from datetime import datetime\n",
    "from pydantic import BaseModel, field_validator, ValidationError"
   ],
   "outputs": [],
   "execution_count": 11
  },
  {
   "metadata": {
    "ExecuteTime": {
     "end_time": "2024-08-28T11:02:42.609486Z",
     "start_time": "2024-08-28T11:02:42.535680Z"
    }
   },
   "cell_type": "code",
   "source": [
    "class Model(BaseModel):\n",
    "    dt: datetime"
   ],
   "id": "2d10f54b483b8e76",
   "outputs": [],
   "execution_count": 2
  },
  {
   "metadata": {
    "ExecuteTime": {
     "end_time": "2024-08-28T11:03:01.950534Z",
     "start_time": "2024-08-28T11:03:01.941831Z"
    }
   },
   "cell_type": "code",
   "source": "Model(dt=\"2020-01-01T12:00:00\")",
   "id": "2279b850d2165eee",
   "outputs": [
    {
     "data": {
      "text/plain": [
       "Model(dt=datetime.datetime(2020, 1, 1, 12, 0))"
      ]
     },
     "execution_count": 3,
     "metadata": {},
     "output_type": "execute_result"
    }
   ],
   "execution_count": 3
  },
  {
   "metadata": {
    "ExecuteTime": {
     "end_time": "2024-08-28T11:03:10.283980Z",
     "start_time": "2024-08-28T11:03:10.279492Z"
    }
   },
   "cell_type": "code",
   "source": "Model(dt=\"2020-01-01T12:00:00Z\")",
   "id": "c8a2b725014b6483",
   "outputs": [
    {
     "data": {
      "text/plain": [
       "Model(dt=datetime.datetime(2020, 1, 1, 12, 0, tzinfo=TzInfo(UTC)))"
      ]
     },
     "execution_count": 4,
     "metadata": {},
     "output_type": "execute_result"
    }
   ],
   "execution_count": 4
  },
  {
   "metadata": {
    "ExecuteTime": {
     "end_time": "2024-08-28T11:03:50.809070Z",
     "start_time": "2024-08-28T11:03:50.577168Z"
    }
   },
   "cell_type": "code",
   "source": "Model(dt=\"2020/1/1 3:00pm\")",
   "id": "2d43900e26760a08",
   "outputs": [
    {
     "ename": "ValidationError",
     "evalue": "1 validation error for Model\ndt\n  Input should be a valid datetime or date, invalid date separator, expected `-` [type=datetime_from_date_parsing, input_value='2020/1/1 3:00pm', input_type=str]\n    For further information visit https://errors.pydantic.dev/2.8/v/datetime_from_date_parsing",
     "output_type": "error",
     "traceback": [
      "\u001B[0;31m---------------------------------------------------------------------------\u001B[0m",
      "\u001B[0;31mValidationError\u001B[0m                           Traceback (most recent call last)",
      "Cell \u001B[0;32mIn[5], line 1\u001B[0m\n\u001B[0;32m----> 1\u001B[0m \u001B[43mModel\u001B[49m\u001B[43m(\u001B[49m\u001B[43mdt\u001B[49m\u001B[38;5;241;43m=\u001B[39;49m\u001B[38;5;124;43m\"\u001B[39;49m\u001B[38;5;124;43m2020/1/1 3:00pm\u001B[39;49m\u001B[38;5;124;43m\"\u001B[39;49m\u001B[43m)\u001B[49m\n",
      "File \u001B[0;32m~/a-code/PythonDojo/venv/lib/python3.12/site-packages/pydantic/main.py:193\u001B[0m, in \u001B[0;36mBaseModel.__init__\u001B[0;34m(self, **data)\u001B[0m\n\u001B[1;32m    191\u001B[0m \u001B[38;5;66;03m# `__tracebackhide__` tells pytest and some other tools to omit this function from tracebacks\u001B[39;00m\n\u001B[1;32m    192\u001B[0m __tracebackhide__ \u001B[38;5;241m=\u001B[39m \u001B[38;5;28;01mTrue\u001B[39;00m\n\u001B[0;32m--> 193\u001B[0m \u001B[38;5;28;43mself\u001B[39;49m\u001B[38;5;241;43m.\u001B[39;49m\u001B[43m__pydantic_validator__\u001B[49m\u001B[38;5;241;43m.\u001B[39;49m\u001B[43mvalidate_python\u001B[49m\u001B[43m(\u001B[49m\u001B[43mdata\u001B[49m\u001B[43m,\u001B[49m\u001B[43m \u001B[49m\u001B[43mself_instance\u001B[49m\u001B[38;5;241;43m=\u001B[39;49m\u001B[38;5;28;43mself\u001B[39;49m\u001B[43m)\u001B[49m\n",
      "\u001B[0;31mValidationError\u001B[0m: 1 validation error for Model\ndt\n  Input should be a valid datetime or date, invalid date separator, expected `-` [type=datetime_from_date_parsing, input_value='2020/1/1 3:00pm', input_type=str]\n    For further information visit https://errors.pydantic.dev/2.8/v/datetime_from_date_parsing"
     ]
    }
   ],
   "execution_count": 5
  },
  {
   "metadata": {
    "ExecuteTime": {
     "end_time": "2024-08-28T11:21:40.423231Z",
     "start_time": "2024-08-28T11:21:40.420139Z"
    }
   },
   "cell_type": "code",
   "source": "from dateutil.parser import parse",
   "id": "fac4cbce06ff3db4",
   "outputs": [],
   "execution_count": 18
  },
  {
   "metadata": {
    "ExecuteTime": {
     "end_time": "2024-08-28T11:21:43.264721Z",
     "start_time": "2024-08-28T11:21:43.260206Z"
    }
   },
   "cell_type": "code",
   "source": "parse(\"2020/1/1 3pm\")",
   "id": "17145fc1734a6cf0",
   "outputs": [
    {
     "data": {
      "text/plain": [
       "datetime.datetime(2020, 1, 1, 15, 0)"
      ]
     },
     "execution_count": 19,
     "metadata": {},
     "output_type": "execute_result"
    }
   ],
   "execution_count": 19
  },
  {
   "metadata": {
    "ExecuteTime": {
     "end_time": "2024-08-28T11:21:46.515301Z",
     "start_time": "2024-08-28T11:21:46.338410Z"
    }
   },
   "cell_type": "code",
   "source": "parse(datetime(2020, 1, 1, 15, 0))",
   "id": "1ba5df20c3b6763",
   "outputs": [
    {
     "ename": "TypeError",
     "evalue": "Parser must be a string or character stream, not datetime",
     "output_type": "error",
     "traceback": [
      "\u001B[0;31m---------------------------------------------------------------------------\u001B[0m",
      "\u001B[0;31mTypeError\u001B[0m                                 Traceback (most recent call last)",
      "Cell \u001B[0;32mIn[20], line 1\u001B[0m\n\u001B[0;32m----> 1\u001B[0m \u001B[43mparse\u001B[49m\u001B[43m(\u001B[49m\u001B[43mdatetime\u001B[49m\u001B[43m(\u001B[49m\u001B[38;5;241;43m2020\u001B[39;49m\u001B[43m,\u001B[49m\u001B[43m \u001B[49m\u001B[38;5;241;43m1\u001B[39;49m\u001B[43m,\u001B[49m\u001B[43m \u001B[49m\u001B[38;5;241;43m1\u001B[39;49m\u001B[43m,\u001B[49m\u001B[43m \u001B[49m\u001B[38;5;241;43m15\u001B[39;49m\u001B[43m,\u001B[49m\u001B[43m \u001B[49m\u001B[38;5;241;43m0\u001B[39;49m\u001B[43m)\u001B[49m\u001B[43m)\u001B[49m\n",
      "File \u001B[0;32m~/a-code/PythonDojo/venv/lib/python3.12/site-packages/dateutil/parser/_parser.py:1368\u001B[0m, in \u001B[0;36mparse\u001B[0;34m(timestr, parserinfo, **kwargs)\u001B[0m\n\u001B[1;32m   1366\u001B[0m     \u001B[38;5;28;01mreturn\u001B[39;00m parser(parserinfo)\u001B[38;5;241m.\u001B[39mparse(timestr, \u001B[38;5;241m*\u001B[39m\u001B[38;5;241m*\u001B[39mkwargs)\n\u001B[1;32m   1367\u001B[0m \u001B[38;5;28;01melse\u001B[39;00m:\n\u001B[0;32m-> 1368\u001B[0m     \u001B[38;5;28;01mreturn\u001B[39;00m \u001B[43mDEFAULTPARSER\u001B[49m\u001B[38;5;241;43m.\u001B[39;49m\u001B[43mparse\u001B[49m\u001B[43m(\u001B[49m\u001B[43mtimestr\u001B[49m\u001B[43m,\u001B[49m\u001B[43m \u001B[49m\u001B[38;5;241;43m*\u001B[39;49m\u001B[38;5;241;43m*\u001B[39;49m\u001B[43mkwargs\u001B[49m\u001B[43m)\u001B[49m\n",
      "File \u001B[0;32m~/a-code/PythonDojo/venv/lib/python3.12/site-packages/dateutil/parser/_parser.py:640\u001B[0m, in \u001B[0;36mparser.parse\u001B[0;34m(self, timestr, default, ignoretz, tzinfos, **kwargs)\u001B[0m\n\u001B[1;32m    636\u001B[0m \u001B[38;5;28;01mif\u001B[39;00m default \u001B[38;5;129;01mis\u001B[39;00m \u001B[38;5;28;01mNone\u001B[39;00m:\n\u001B[1;32m    637\u001B[0m     default \u001B[38;5;241m=\u001B[39m datetime\u001B[38;5;241m.\u001B[39mdatetime\u001B[38;5;241m.\u001B[39mnow()\u001B[38;5;241m.\u001B[39mreplace(hour\u001B[38;5;241m=\u001B[39m\u001B[38;5;241m0\u001B[39m, minute\u001B[38;5;241m=\u001B[39m\u001B[38;5;241m0\u001B[39m,\n\u001B[1;32m    638\u001B[0m                                               second\u001B[38;5;241m=\u001B[39m\u001B[38;5;241m0\u001B[39m, microsecond\u001B[38;5;241m=\u001B[39m\u001B[38;5;241m0\u001B[39m)\n\u001B[0;32m--> 640\u001B[0m res, skipped_tokens \u001B[38;5;241m=\u001B[39m \u001B[38;5;28;43mself\u001B[39;49m\u001B[38;5;241;43m.\u001B[39;49m\u001B[43m_parse\u001B[49m\u001B[43m(\u001B[49m\u001B[43mtimestr\u001B[49m\u001B[43m,\u001B[49m\u001B[43m \u001B[49m\u001B[38;5;241;43m*\u001B[39;49m\u001B[38;5;241;43m*\u001B[39;49m\u001B[43mkwargs\u001B[49m\u001B[43m)\u001B[49m\n\u001B[1;32m    642\u001B[0m \u001B[38;5;28;01mif\u001B[39;00m res \u001B[38;5;129;01mis\u001B[39;00m \u001B[38;5;28;01mNone\u001B[39;00m:\n\u001B[1;32m    643\u001B[0m     \u001B[38;5;28;01mraise\u001B[39;00m ParserError(\u001B[38;5;124m\"\u001B[39m\u001B[38;5;124mUnknown string format: \u001B[39m\u001B[38;5;132;01m%s\u001B[39;00m\u001B[38;5;124m\"\u001B[39m, timestr)\n",
      "File \u001B[0;32m~/a-code/PythonDojo/venv/lib/python3.12/site-packages/dateutil/parser/_parser.py:719\u001B[0m, in \u001B[0;36mparser._parse\u001B[0;34m(self, timestr, dayfirst, yearfirst, fuzzy, fuzzy_with_tokens)\u001B[0m\n\u001B[1;32m    716\u001B[0m     yearfirst \u001B[38;5;241m=\u001B[39m info\u001B[38;5;241m.\u001B[39myearfirst\n\u001B[1;32m    718\u001B[0m res \u001B[38;5;241m=\u001B[39m \u001B[38;5;28mself\u001B[39m\u001B[38;5;241m.\u001B[39m_result()\n\u001B[0;32m--> 719\u001B[0m l \u001B[38;5;241m=\u001B[39m \u001B[43m_timelex\u001B[49m\u001B[38;5;241;43m.\u001B[39;49m\u001B[43msplit\u001B[49m\u001B[43m(\u001B[49m\u001B[43mtimestr\u001B[49m\u001B[43m)\u001B[49m         \u001B[38;5;66;03m# Splits the timestr into tokens\u001B[39;00m\n\u001B[1;32m    721\u001B[0m skipped_idxs \u001B[38;5;241m=\u001B[39m []\n\u001B[1;32m    723\u001B[0m \u001B[38;5;66;03m# year/month/day list\u001B[39;00m\n",
      "File \u001B[0;32m~/a-code/PythonDojo/venv/lib/python3.12/site-packages/dateutil/parser/_parser.py:201\u001B[0m, in \u001B[0;36m_timelex.split\u001B[0;34m(cls, s)\u001B[0m\n\u001B[1;32m    199\u001B[0m \u001B[38;5;129m@classmethod\u001B[39m\n\u001B[1;32m    200\u001B[0m \u001B[38;5;28;01mdef\u001B[39;00m \u001B[38;5;21msplit\u001B[39m(\u001B[38;5;28mcls\u001B[39m, s):\n\u001B[0;32m--> 201\u001B[0m     \u001B[38;5;28;01mreturn\u001B[39;00m \u001B[38;5;28mlist\u001B[39m(\u001B[38;5;28;43mcls\u001B[39;49m\u001B[43m(\u001B[49m\u001B[43ms\u001B[49m\u001B[43m)\u001B[49m)\n",
      "File \u001B[0;32m~/a-code/PythonDojo/venv/lib/python3.12/site-packages/dateutil/parser/_parser.py:69\u001B[0m, in \u001B[0;36m_timelex.__init__\u001B[0;34m(self, instream)\u001B[0m\n\u001B[1;32m     67\u001B[0m     instream \u001B[38;5;241m=\u001B[39m StringIO(instream)\n\u001B[1;32m     68\u001B[0m \u001B[38;5;28;01melif\u001B[39;00m \u001B[38;5;28mgetattr\u001B[39m(instream, \u001B[38;5;124m'\u001B[39m\u001B[38;5;124mread\u001B[39m\u001B[38;5;124m'\u001B[39m, \u001B[38;5;28;01mNone\u001B[39;00m) \u001B[38;5;129;01mis\u001B[39;00m \u001B[38;5;28;01mNone\u001B[39;00m:\n\u001B[0;32m---> 69\u001B[0m     \u001B[38;5;28;01mraise\u001B[39;00m \u001B[38;5;167;01mTypeError\u001B[39;00m(\u001B[38;5;124m'\u001B[39m\u001B[38;5;124mParser must be a string or character stream, not \u001B[39m\u001B[38;5;124m'\u001B[39m\n\u001B[1;32m     70\u001B[0m                     \u001B[38;5;124m'\u001B[39m\u001B[38;5;132;01m{itype}\u001B[39;00m\u001B[38;5;124m'\u001B[39m\u001B[38;5;241m.\u001B[39mformat(itype\u001B[38;5;241m=\u001B[39minstream\u001B[38;5;241m.\u001B[39m\u001B[38;5;18m__class__\u001B[39m\u001B[38;5;241m.\u001B[39m\u001B[38;5;18m__name__\u001B[39m))\n\u001B[1;32m     72\u001B[0m \u001B[38;5;28mself\u001B[39m\u001B[38;5;241m.\u001B[39minstream \u001B[38;5;241m=\u001B[39m instream\n\u001B[1;32m     73\u001B[0m \u001B[38;5;28mself\u001B[39m\u001B[38;5;241m.\u001B[39mcharstack \u001B[38;5;241m=\u001B[39m []\n",
      "\u001B[0;31mTypeError\u001B[0m: Parser must be a string or character stream, not datetime"
     ]
    }
   ],
   "execution_count": 20
  },
  {
   "metadata": {
    "ExecuteTime": {
     "end_time": "2024-08-28T11:16:56.056683Z",
     "start_time": "2024-08-28T11:16:56.051886Z"
    }
   },
   "cell_type": "code",
   "source": "from typing import Any",
   "id": "fa87e9f894f70431",
   "outputs": [],
   "execution_count": 10
  },
  {
   "metadata": {
    "ExecuteTime": {
     "end_time": "2024-08-28T11:21:50.761325Z",
     "start_time": "2024-08-28T11:21:50.755655Z"
    }
   },
   "cell_type": "code",
   "source": [
    "class Model(BaseModel):\n",
    "    dt: datetime\n",
    "    \n",
    "    @field_validator(\"dt\", mode='before')\n",
    "    @classmethod\n",
    "    def parse_datetime(cls, value: Any):\n",
    "        if isinstance(value, str):\n",
    "            print(\"parsing string\")\n",
    "            try: \n",
    "                return parse(value)\n",
    "            except Exception as ex:\n",
    "                raise ValueError(str(ex))\n",
    "        print(\"pass through...\")\n",
    "        return value"
   ],
   "id": "fea57e67fbcff45b",
   "outputs": [],
   "execution_count": 21
  },
  {
   "metadata": {
    "ExecuteTime": {
     "end_time": "2024-08-28T11:21:51.501732Z",
     "start_time": "2024-08-28T11:21:51.494069Z"
    }
   },
   "cell_type": "code",
   "source": "Model(dt=\"2020/1/1 3pm\")",
   "id": "7374982fc357fe73",
   "outputs": [
    {
     "name": "stdout",
     "output_type": "stream",
     "text": [
      "parsing string\n"
     ]
    },
    {
     "data": {
      "text/plain": [
       "Model(dt=datetime.datetime(2020, 1, 1, 15, 0))"
      ]
     },
     "execution_count": 22,
     "metadata": {},
     "output_type": "execute_result"
    }
   ],
   "execution_count": 22
  },
  {
   "metadata": {
    "ExecuteTime": {
     "end_time": "2024-08-28T11:22:10.740884Z",
     "start_time": "2024-08-28T11:22:10.736726Z"
    }
   },
   "cell_type": "code",
   "source": "Model(dt=datetime(2020, 1, 1, 15, 0))",
   "id": "23670a08955c935f",
   "outputs": [
    {
     "name": "stdout",
     "output_type": "stream",
     "text": [
      "pass through...\n"
     ]
    },
    {
     "data": {
      "text/plain": [
       "Model(dt=datetime.datetime(2020, 1, 1, 15, 0))"
      ]
     },
     "execution_count": 24,
     "metadata": {},
     "output_type": "execute_result"
    }
   ],
   "execution_count": 24
  },
  {
   "metadata": {
    "ExecuteTime": {
     "end_time": "2024-08-28T11:22:47.440486Z",
     "start_time": "2024-08-28T11:22:47.417857Z"
    }
   },
   "cell_type": "code",
   "source": "Model(dt=[1, 2, 3])",
   "id": "8fed00320f23426c",
   "outputs": [
    {
     "name": "stdout",
     "output_type": "stream",
     "text": [
      "pass through...\n"
     ]
    },
    {
     "ename": "ValidationError",
     "evalue": "1 validation error for Model\ndt\n  Input should be a valid datetime [type=datetime_type, input_value=[1, 2, 3], input_type=list]\n    For further information visit https://errors.pydantic.dev/2.8/v/datetime_type",
     "output_type": "error",
     "traceback": [
      "\u001B[0;31m---------------------------------------------------------------------------\u001B[0m",
      "\u001B[0;31mValidationError\u001B[0m                           Traceback (most recent call last)",
      "Cell \u001B[0;32mIn[25], line 1\u001B[0m\n\u001B[0;32m----> 1\u001B[0m \u001B[43mModel\u001B[49m\u001B[43m(\u001B[49m\u001B[43mdt\u001B[49m\u001B[38;5;241;43m=\u001B[39;49m\u001B[43m[\u001B[49m\u001B[38;5;241;43m1\u001B[39;49m\u001B[43m,\u001B[49m\u001B[43m \u001B[49m\u001B[38;5;241;43m2\u001B[39;49m\u001B[43m,\u001B[49m\u001B[43m \u001B[49m\u001B[38;5;241;43m3\u001B[39;49m\u001B[43m]\u001B[49m\u001B[43m)\u001B[49m\n",
      "File \u001B[0;32m~/a-code/PythonDojo/venv/lib/python3.12/site-packages/pydantic/main.py:193\u001B[0m, in \u001B[0;36mBaseModel.__init__\u001B[0;34m(self, **data)\u001B[0m\n\u001B[1;32m    191\u001B[0m \u001B[38;5;66;03m# `__tracebackhide__` tells pytest and some other tools to omit this function from tracebacks\u001B[39;00m\n\u001B[1;32m    192\u001B[0m __tracebackhide__ \u001B[38;5;241m=\u001B[39m \u001B[38;5;28;01mTrue\u001B[39;00m\n\u001B[0;32m--> 193\u001B[0m \u001B[38;5;28;43mself\u001B[39;49m\u001B[38;5;241;43m.\u001B[39;49m\u001B[43m__pydantic_validator__\u001B[49m\u001B[38;5;241;43m.\u001B[39;49m\u001B[43mvalidate_python\u001B[49m\u001B[43m(\u001B[49m\u001B[43mdata\u001B[49m\u001B[43m,\u001B[49m\u001B[43m \u001B[49m\u001B[43mself_instance\u001B[49m\u001B[38;5;241;43m=\u001B[39;49m\u001B[38;5;28;43mself\u001B[39;49m\u001B[43m)\u001B[49m\n",
      "\u001B[0;31mValidationError\u001B[0m: 1 validation error for Model\ndt\n  Input should be a valid datetime [type=datetime_type, input_value=[1, 2, 3], input_type=list]\n    For further information visit https://errors.pydantic.dev/2.8/v/datetime_type"
     ]
    }
   ],
   "execution_count": 25
  },
  {
   "metadata": {
    "ExecuteTime": {
     "end_time": "2024-08-28T11:26:00.159654Z",
     "start_time": "2024-08-28T11:26:00.153674Z"
    }
   },
   "cell_type": "code",
   "source": [
    "class Model(BaseModel):\n",
    "    number: int\n",
    "    \n",
    "    @field_validator(\"number\", mode='before')\n",
    "    def validator_1(cls, value):\n",
    "        print(\"running validator_1\")\n",
    "        return value\n",
    "    \n",
    "    @field_validator(\"number\", mode='before')\n",
    "    def validator_2(cls, value):\n",
    "        print(\"running validator_2\")\n",
    "        return value"
   ],
   "id": "22cf01723604371c",
   "outputs": [],
   "execution_count": 26
  },
  {
   "metadata": {
    "ExecuteTime": {
     "end_time": "2024-08-28T11:26:58.213442Z",
     "start_time": "2024-08-28T11:26:58.210046Z"
    }
   },
   "cell_type": "code",
   "source": "Model(number=12)",
   "id": "d40fb5a447dc44bf",
   "outputs": [
    {
     "name": "stdout",
     "output_type": "stream",
     "text": [
      "running validator_2\n",
      "running validator_1\n"
     ]
    },
    {
     "data": {
      "text/plain": [
       "Model(number=12)"
      ]
     },
     "execution_count": 28,
     "metadata": {},
     "output_type": "execute_result"
    }
   ],
   "execution_count": 28
  },
  {
   "metadata": {},
   "cell_type": "code",
   "outputs": [],
   "execution_count": null,
   "source": "",
   "id": "72eb7bfe4f48a9d6"
  }
 ],
 "metadata": {
  "kernelspec": {
   "display_name": "Python 3",
   "language": "python",
   "name": "python3"
  },
  "language_info": {
   "codemirror_mode": {
    "name": "ipython",
    "version": 2
   },
   "file_extension": ".py",
   "mimetype": "text/x-python",
   "name": "python",
   "nbconvert_exporter": "python",
   "pygments_lexer": "ipython2",
   "version": "2.7.6"
  }
 },
 "nbformat": 4,
 "nbformat_minor": 5
}
