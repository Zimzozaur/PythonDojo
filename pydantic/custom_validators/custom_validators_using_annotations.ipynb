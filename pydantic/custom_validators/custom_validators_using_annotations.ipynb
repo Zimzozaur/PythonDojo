{
 "cells": [
  {
   "cell_type": "code",
   "id": "initial_id",
   "metadata": {
    "collapsed": true,
    "ExecuteTime": {
     "end_time": "2024-08-28T13:17:18.977273Z",
     "start_time": "2024-08-28T13:17:18.925003Z"
    }
   },
   "source": "from pydantic import BaseModel, Field",
   "outputs": [],
   "execution_count": 1
  },
  {
   "metadata": {
    "ExecuteTime": {
     "end_time": "2024-08-28T13:17:42.736727Z",
     "start_time": "2024-08-28T13:17:42.672397Z"
    }
   },
   "cell_type": "code",
   "source": [
    "class Model(BaseModel):\n",
    "    number: int = Field(gt=0, lt=5)"
   ],
   "id": "778efd81d0de31b0",
   "outputs": [],
   "execution_count": 2
  },
  {
   "metadata": {
    "ExecuteTime": {
     "end_time": "2024-08-28T13:18:52.392666Z",
     "start_time": "2024-08-28T13:18:52.388398Z"
    }
   },
   "cell_type": "code",
   "source": [
    "from typing import Annotated\n",
    "\n",
    "BoundedInt = Annotated[int, Field(gt=0, lt=5)]\n",
    "\n",
    "class Model(BaseModel):\n",
    "    number: BoundedInt"
   ],
   "id": "16482d7fff2687bd",
   "outputs": [],
   "execution_count": 3
  },
  {
   "metadata": {
    "ExecuteTime": {
     "end_time": "2024-08-28T13:23:26.184464Z",
     "start_time": "2024-08-28T13:23:26.179445Z"
    }
   },
   "cell_type": "code",
   "source": [
    "from datetime import datetime\n",
    "from typing import Any\n",
    "\n",
    "from dateutil.parser import parse\n",
    "\n",
    "def parse_datetime(value: Any):\n",
    "    if isinstance(value, str):\n",
    "        try:\n",
    "            return parse(value)\n",
    "        except Exception as ex:\n",
    "            raise ValueError(str(ex))\n",
    "    return value"
   ],
   "id": "1afc51637e10a383",
   "outputs": [],
   "execution_count": 4
  },
  {
   "metadata": {
    "ExecuteTime": {
     "end_time": "2024-08-28T13:23:33.951734Z",
     "start_time": "2024-08-28T13:23:33.941784Z"
    }
   },
   "cell_type": "code",
   "source": "from pydantic import BeforeValidator",
   "id": "a61220fb505d82ff",
   "outputs": [],
   "execution_count": 5
  },
  {
   "metadata": {
    "ExecuteTime": {
     "end_time": "2024-08-28T13:24:42.124279Z",
     "start_time": "2024-08-28T13:24:42.120296Z"
    }
   },
   "cell_type": "code",
   "source": "DateTime = Annotated[datetime, BeforeValidator(parse_datetime)]",
   "id": "98b951d8ea58c548",
   "outputs": [],
   "execution_count": 6
  },
  {
   "metadata": {
    "ExecuteTime": {
     "end_time": "2024-08-28T13:25:03.819169Z",
     "start_time": "2024-08-28T13:25:03.813639Z"
    }
   },
   "cell_type": "code",
   "source": [
    "class Model(BaseModel):\n",
    "    dt: DateTime"
   ],
   "id": "e20d9c2b355671ed",
   "outputs": [],
   "execution_count": 7
  },
  {
   "metadata": {
    "ExecuteTime": {
     "end_time": "2024-08-28T13:25:24.283122Z",
     "start_time": "2024-08-28T13:25:24.274773Z"
    }
   },
   "cell_type": "code",
   "source": "Model(dt=\"2020/1/1 3pm\")",
   "id": "48bd1480e517138e",
   "outputs": [
    {
     "data": {
      "text/plain": [
       "Model(dt=datetime.datetime(2020, 1, 1, 15, 0))"
      ]
     },
     "execution_count": 8,
     "metadata": {},
     "output_type": "execute_result"
    }
   ],
   "execution_count": 8
  },
  {
   "metadata": {
    "ExecuteTime": {
     "end_time": "2024-08-28T13:25:49.952618Z",
     "start_time": "2024-08-28T13:25:49.949769Z"
    }
   },
   "cell_type": "code",
   "source": "from pydantic import AfterValidator",
   "id": "7be8d28c0d9270ec",
   "outputs": [],
   "execution_count": 9
  },
  {
   "metadata": {
    "ExecuteTime": {
     "end_time": "2024-08-28T13:27:08.807527Z",
     "start_time": "2024-08-28T13:27:08.800648Z"
    }
   },
   "cell_type": "code",
   "source": [
    "import pytz\n",
    "\n",
    "def make_utc(dt: datetime) -> datetime:\n",
    "    if dt.tzinfo is None:\n",
    "        dt = pytz.utc.localize(dt)\n",
    "    else:\n",
    "        dt = dt.astimezone(pytz.utc)\n",
    "    return dt"
   ],
   "id": "245db21d1a6da56c",
   "outputs": [],
   "execution_count": 10
  },
  {
   "metadata": {
    "ExecuteTime": {
     "end_time": "2024-08-28T13:28:17.743824Z",
     "start_time": "2024-08-28T13:28:17.740614Z"
    }
   },
   "cell_type": "code",
   "source": [
    "DateTime = Annotated[\n",
    "    datetime,\n",
    "    BeforeValidator(parse_datetime), \n",
    "    AfterValidator(make_utc)\n",
    "]"
   ],
   "id": "22c22b5542f40400",
   "outputs": [],
   "execution_count": 11
  },
  {
   "metadata": {
    "ExecuteTime": {
     "end_time": "2024-08-28T13:28:40.072207Z",
     "start_time": "2024-08-28T13:28:40.067078Z"
    }
   },
   "cell_type": "code",
   "source": [
    "class Model(BaseModel):\n",
    "    dt: DateTime"
   ],
   "id": "7296849bcacbc00b",
   "outputs": [],
   "execution_count": 12
  },
  {
   "metadata": {
    "ExecuteTime": {
     "end_time": "2024-08-28T13:28:49.848458Z",
     "start_time": "2024-08-28T13:28:49.843652Z"
    }
   },
   "cell_type": "code",
   "source": "Model(dt=\"2020/1/1 3pm\")",
   "id": "32e7ad1ca9e2c450",
   "outputs": [
    {
     "data": {
      "text/plain": [
       "Model(dt=datetime.datetime(2020, 1, 1, 15, 0, tzinfo=<UTC>))"
      ]
     },
     "execution_count": 13,
     "metadata": {},
     "output_type": "execute_result"
    }
   ],
   "execution_count": 13
  },
  {
   "metadata": {
    "ExecuteTime": {
     "end_time": "2024-08-28T13:29:43.082740Z",
     "start_time": "2024-08-28T13:29:43.078223Z"
    }
   },
   "cell_type": "code",
   "source": [
    "def before_validator_1(value):\n",
    "    print(\"before_validator_1\")\n",
    "    return value\n",
    "\n",
    "def before_validator_2(value):\n",
    "    print(\"before_validator_2\")\n",
    "    return value\n",
    "    \n",
    "def before_validator_3(value):\n",
    "    print(\"before_validator_3\")\n",
    "    return value\n",
    "\n",
    "def after_validator_1(value):\n",
    "    print(\"after_validator_1\")\n",
    "    return value\n",
    "\n",
    "def after_validator_2(value):\n",
    "    print(\"after_validator_2\")\n",
    "    return value\n",
    "\n",
    "def after_validator_3(value):\n",
    "    print(\"after_validator_3\")\n",
    "    return value"
   ],
   "id": "4909d74ee5b8669e",
   "outputs": [],
   "execution_count": 14
  },
  {
   "metadata": {
    "ExecuteTime": {
     "end_time": "2024-08-28T13:31:15.766301Z",
     "start_time": "2024-08-28T13:31:15.763195Z"
    }
   },
   "cell_type": "code",
   "source": [
    "CustomType = Annotated[\n",
    "    int,\n",
    "    BeforeValidator(before_validator_1),\n",
    "    BeforeValidator(before_validator_2),\n",
    "    BeforeValidator(before_validator_3),\n",
    "    AfterValidator(after_validator_1),\n",
    "    AfterValidator(after_validator_2),\n",
    "    AfterValidator(after_validator_3),\n",
    "]"
   ],
   "id": "8619364d878e5932",
   "outputs": [],
   "execution_count": 15
  },
  {
   "metadata": {
    "ExecuteTime": {
     "end_time": "2024-08-28T13:31:54.067558Z",
     "start_time": "2024-08-28T13:31:54.061787Z"
    }
   },
   "cell_type": "code",
   "source": [
    "class Model(BaseModel):\n",
    "    number: CustomType"
   ],
   "id": "191cd63bcb3bb501",
   "outputs": [],
   "execution_count": 16
  },
  {
   "metadata": {
    "ExecuteTime": {
     "end_time": "2024-08-28T13:32:10.834532Z",
     "start_time": "2024-08-28T13:32:10.831166Z"
    }
   },
   "cell_type": "code",
   "source": "Model(number=10)",
   "id": "3efe4a2b9d411d48",
   "outputs": [
    {
     "name": "stdout",
     "output_type": "stream",
     "text": [
      "before_validator_3\n",
      "before_validator_2\n",
      "before_validator_1\n",
      "after_validator_1\n",
      "after_validator_2\n",
      "after_validator_3\n"
     ]
    },
    {
     "data": {
      "text/plain": [
       "Model(number=10)"
      ]
     },
     "execution_count": 17,
     "metadata": {},
     "output_type": "execute_result"
    }
   ],
   "execution_count": 17
  },
  {
   "metadata": {
    "ExecuteTime": {
     "end_time": "2024-08-28T13:39:55.017574Z",
     "start_time": "2024-08-28T13:39:55.014369Z"
    }
   },
   "cell_type": "code",
   "source": [
    "def are_element_unique(values: list[Any]) -> list[Any]:\n",
    "    unique_elements: list = []\n",
    "    for value in values:\n",
    "        if value in unique_elements:\n",
    "            raise ValueError(\"elements must be unique\")\n",
    "        unique_elements.append(value)\n",
    "    return values"
   ],
   "id": "d772793a07978e1d",
   "outputs": [],
   "execution_count": 22
  },
  {
   "metadata": {
    "ExecuteTime": {
     "end_time": "2024-08-28T13:39:55.209743Z",
     "start_time": "2024-08-28T13:39:55.206085Z"
    }
   },
   "cell_type": "code",
   "source": "UniqueIntegerList = Annotated[list[int], AfterValidator(are_element_unique)]",
   "id": "2d2643b154797822",
   "outputs": [],
   "execution_count": 23
  },
  {
   "metadata": {
    "ExecuteTime": {
     "end_time": "2024-08-28T13:39:55.457250Z",
     "start_time": "2024-08-28T13:39:55.452445Z"
    }
   },
   "cell_type": "code",
   "source": [
    "class Model(BaseModel):\n",
    "    numbers: UniqueIntegerList = []"
   ],
   "id": "32b3fd141e8e3f1e",
   "outputs": [],
   "execution_count": 24
  },
  {
   "metadata": {
    "ExecuteTime": {
     "end_time": "2024-08-28T13:40:05.062468Z",
     "start_time": "2024-08-28T13:40:05.057770Z"
    }
   },
   "cell_type": "code",
   "source": "Model(numbers=(1, 2, 3, 4, 5))",
   "id": "87faac018a0a58d",
   "outputs": [
    {
     "data": {
      "text/plain": [
       "Model(numbers=[1, 2, 3, 4, 5])"
      ]
     },
     "execution_count": 26,
     "metadata": {},
     "output_type": "execute_result"
    }
   ],
   "execution_count": 26
  },
  {
   "metadata": {
    "ExecuteTime": {
     "end_time": "2024-08-28T13:40:13.969691Z",
     "start_time": "2024-08-28T13:40:13.929233Z"
    }
   },
   "cell_type": "code",
   "source": "Model(numbers=[1, 1])",
   "id": "943b87176e4aa14f",
   "outputs": [
    {
     "ename": "ValidationError",
     "evalue": "1 validation error for Model\nnumbers\n  Value error, elements must be unique [type=value_error, input_value=[1, 1], input_type=list]\n    For further information visit https://errors.pydantic.dev/2.8/v/value_error",
     "output_type": "error",
     "traceback": [
      "\u001B[0;31m---------------------------------------------------------------------------\u001B[0m",
      "\u001B[0;31mValidationError\u001B[0m                           Traceback (most recent call last)",
      "Cell \u001B[0;32mIn[27], line 1\u001B[0m\n\u001B[0;32m----> 1\u001B[0m \u001B[43mModel\u001B[49m\u001B[43m(\u001B[49m\u001B[43mnumbers\u001B[49m\u001B[38;5;241;43m=\u001B[39;49m\u001B[43m[\u001B[49m\u001B[38;5;241;43m1\u001B[39;49m\u001B[43m,\u001B[49m\u001B[43m \u001B[49m\u001B[38;5;241;43m1\u001B[39;49m\u001B[43m]\u001B[49m\u001B[43m)\u001B[49m\n",
      "File \u001B[0;32m~/a-code/PythonDojo/venv/lib/python3.12/site-packages/pydantic/main.py:193\u001B[0m, in \u001B[0;36mBaseModel.__init__\u001B[0;34m(self, **data)\u001B[0m\n\u001B[1;32m    191\u001B[0m \u001B[38;5;66;03m# `__tracebackhide__` tells pytest and some other tools to omit this function from tracebacks\u001B[39;00m\n\u001B[1;32m    192\u001B[0m __tracebackhide__ \u001B[38;5;241m=\u001B[39m \u001B[38;5;28;01mTrue\u001B[39;00m\n\u001B[0;32m--> 193\u001B[0m \u001B[38;5;28;43mself\u001B[39;49m\u001B[38;5;241;43m.\u001B[39;49m\u001B[43m__pydantic_validator__\u001B[49m\u001B[38;5;241;43m.\u001B[39;49m\u001B[43mvalidate_python\u001B[49m\u001B[43m(\u001B[49m\u001B[43mdata\u001B[49m\u001B[43m,\u001B[49m\u001B[43m \u001B[49m\u001B[43mself_instance\u001B[49m\u001B[38;5;241;43m=\u001B[39;49m\u001B[38;5;28;43mself\u001B[39;49m\u001B[43m)\u001B[49m\n",
      "\u001B[0;31mValidationError\u001B[0m: 1 validation error for Model\nnumbers\n  Value error, elements must be unique [type=value_error, input_value=[1, 1], input_type=list]\n    For further information visit https://errors.pydantic.dev/2.8/v/value_error"
     ]
    }
   ],
   "execution_count": 27
  },
  {
   "metadata": {
    "ExecuteTime": {
     "end_time": "2024-08-28T13:40:51.434113Z",
     "start_time": "2024-08-28T13:40:51.431433Z"
    }
   },
   "cell_type": "code",
   "source": "from typing import TypeVar",
   "id": "4448098e1a4af66b",
   "outputs": [],
   "execution_count": 28
  },
  {
   "metadata": {
    "ExecuteTime": {
     "end_time": "2024-08-28T13:40:57.753446Z",
     "start_time": "2024-08-28T13:40:57.750264Z"
    }
   },
   "cell_type": "code",
   "source": "T = TypeVar(\"T\")",
   "id": "6082207e9b79afd",
   "outputs": [],
   "execution_count": 29
  },
  {
   "metadata": {
    "ExecuteTime": {
     "end_time": "2024-08-28T13:41:23.578512Z",
     "start_time": "2024-08-28T13:41:23.574286Z"
    }
   },
   "cell_type": "code",
   "source": "UniqueList = Annotated[list[T], AfterValidator(are_element_unique)]",
   "id": "1e05f6b8ca44e93b",
   "outputs": [],
   "execution_count": 31
  },
  {
   "metadata": {
    "ExecuteTime": {
     "end_time": "2024-08-28T13:42:41.116305Z",
     "start_time": "2024-08-28T13:42:41.110794Z"
    }
   },
   "cell_type": "code",
   "source": [
    "class Model(BaseModel):\n",
    "    numbers: UniqueList[int] = []\n",
    "    strings: UniqueList[str] = []"
   ],
   "id": "f3e7fd955ae838cc",
   "outputs": [],
   "execution_count": 37
  },
  {
   "metadata": {
    "ExecuteTime": {
     "end_time": "2024-08-28T13:42:41.362904Z",
     "start_time": "2024-08-28T13:42:41.359908Z"
    }
   },
   "cell_type": "code",
   "source": [
    "Model(\n",
    "    numbers=[1, 2, 3],\n",
    "    strings=[\"pyt\", \"hon\"]\n",
    ")"
   ],
   "id": "fe1d46d0c5a0883a",
   "outputs": [
    {
     "data": {
      "text/plain": [
       "Model(numbers=[1, 2, 3], strings=['pyt', 'hon'])"
      ]
     },
     "execution_count": 38,
     "metadata": {},
     "output_type": "execute_result"
    }
   ],
   "execution_count": 38
  },
  {
   "metadata": {
    "ExecuteTime": {
     "end_time": "2024-08-28T13:42:58.815960Z",
     "start_time": "2024-08-28T13:42:58.797484Z"
    }
   },
   "cell_type": "code",
   "source": "Model(numbers=[1, 1])",
   "id": "67ad53b6fa556b40",
   "outputs": [
    {
     "ename": "ValidationError",
     "evalue": "1 validation error for Model\nnumbers\n  Value error, elements must be unique [type=value_error, input_value=[1, 1], input_type=list]\n    For further information visit https://errors.pydantic.dev/2.8/v/value_error",
     "output_type": "error",
     "traceback": [
      "\u001B[0;31m---------------------------------------------------------------------------\u001B[0m",
      "\u001B[0;31mValidationError\u001B[0m                           Traceback (most recent call last)",
      "Cell \u001B[0;32mIn[39], line 1\u001B[0m\n\u001B[0;32m----> 1\u001B[0m \u001B[43mModel\u001B[49m\u001B[43m(\u001B[49m\u001B[43mnumbers\u001B[49m\u001B[38;5;241;43m=\u001B[39;49m\u001B[43m[\u001B[49m\u001B[38;5;241;43m1\u001B[39;49m\u001B[43m,\u001B[49m\u001B[43m \u001B[49m\u001B[38;5;241;43m1\u001B[39;49m\u001B[43m]\u001B[49m\u001B[43m)\u001B[49m\n",
      "File \u001B[0;32m~/a-code/PythonDojo/venv/lib/python3.12/site-packages/pydantic/main.py:193\u001B[0m, in \u001B[0;36mBaseModel.__init__\u001B[0;34m(self, **data)\u001B[0m\n\u001B[1;32m    191\u001B[0m \u001B[38;5;66;03m# `__tracebackhide__` tells pytest and some other tools to omit this function from tracebacks\u001B[39;00m\n\u001B[1;32m    192\u001B[0m __tracebackhide__ \u001B[38;5;241m=\u001B[39m \u001B[38;5;28;01mTrue\u001B[39;00m\n\u001B[0;32m--> 193\u001B[0m \u001B[38;5;28;43mself\u001B[39;49m\u001B[38;5;241;43m.\u001B[39;49m\u001B[43m__pydantic_validator__\u001B[49m\u001B[38;5;241;43m.\u001B[39;49m\u001B[43mvalidate_python\u001B[49m\u001B[43m(\u001B[49m\u001B[43mdata\u001B[49m\u001B[43m,\u001B[49m\u001B[43m \u001B[49m\u001B[43mself_instance\u001B[49m\u001B[38;5;241;43m=\u001B[39;49m\u001B[38;5;28;43mself\u001B[39;49m\u001B[43m)\u001B[49m\n",
      "\u001B[0;31mValidationError\u001B[0m: 1 validation error for Model\nnumbers\n  Value error, elements must be unique [type=value_error, input_value=[1, 1], input_type=list]\n    For further information visit https://errors.pydantic.dev/2.8/v/value_error"
     ]
    }
   ],
   "execution_count": 39
  },
  {
   "metadata": {
    "ExecuteTime": {
     "end_time": "2024-08-28T13:44:30.066790Z",
     "start_time": "2024-08-28T13:44:30.035671Z"
    }
   },
   "cell_type": "code",
   "source": "Model(numbers=[\"a\", 2, 3], strings=[\"a\", 2])",
   "id": "3b089ddf93dec291",
   "outputs": [
    {
     "ename": "ValidationError",
     "evalue": "2 validation errors for Model\nnumbers.0\n  Input should be a valid integer, unable to parse string as an integer [type=int_parsing, input_value='a', input_type=str]\n    For further information visit https://errors.pydantic.dev/2.8/v/int_parsing\nstrings.1\n  Input should be a valid string [type=string_type, input_value=2, input_type=int]\n    For further information visit https://errors.pydantic.dev/2.8/v/string_type",
     "output_type": "error",
     "traceback": [
      "\u001B[0;31m---------------------------------------------------------------------------\u001B[0m",
      "\u001B[0;31mValidationError\u001B[0m                           Traceback (most recent call last)",
      "Cell \u001B[0;32mIn[41], line 1\u001B[0m\n\u001B[0;32m----> 1\u001B[0m \u001B[43mModel\u001B[49m\u001B[43m(\u001B[49m\u001B[43mnumbers\u001B[49m\u001B[38;5;241;43m=\u001B[39;49m\u001B[43m[\u001B[49m\u001B[38;5;124;43m\"\u001B[39;49m\u001B[38;5;124;43ma\u001B[39;49m\u001B[38;5;124;43m\"\u001B[39;49m\u001B[43m,\u001B[49m\u001B[43m \u001B[49m\u001B[38;5;241;43m2\u001B[39;49m\u001B[43m,\u001B[49m\u001B[43m \u001B[49m\u001B[38;5;241;43m3\u001B[39;49m\u001B[43m]\u001B[49m\u001B[43m,\u001B[49m\u001B[43m \u001B[49m\u001B[43mstrings\u001B[49m\u001B[38;5;241;43m=\u001B[39;49m\u001B[43m[\u001B[49m\u001B[38;5;124;43m\"\u001B[39;49m\u001B[38;5;124;43ma\u001B[39;49m\u001B[38;5;124;43m\"\u001B[39;49m\u001B[43m,\u001B[49m\u001B[43m \u001B[49m\u001B[38;5;241;43m2\u001B[39;49m\u001B[43m]\u001B[49m\u001B[43m)\u001B[49m\n",
      "File \u001B[0;32m~/a-code/PythonDojo/venv/lib/python3.12/site-packages/pydantic/main.py:193\u001B[0m, in \u001B[0;36mBaseModel.__init__\u001B[0;34m(self, **data)\u001B[0m\n\u001B[1;32m    191\u001B[0m \u001B[38;5;66;03m# `__tracebackhide__` tells pytest and some other tools to omit this function from tracebacks\u001B[39;00m\n\u001B[1;32m    192\u001B[0m __tracebackhide__ \u001B[38;5;241m=\u001B[39m \u001B[38;5;28;01mTrue\u001B[39;00m\n\u001B[0;32m--> 193\u001B[0m \u001B[38;5;28;43mself\u001B[39;49m\u001B[38;5;241;43m.\u001B[39;49m\u001B[43m__pydantic_validator__\u001B[49m\u001B[38;5;241;43m.\u001B[39;49m\u001B[43mvalidate_python\u001B[49m\u001B[43m(\u001B[49m\u001B[43mdata\u001B[49m\u001B[43m,\u001B[49m\u001B[43m \u001B[49m\u001B[43mself_instance\u001B[49m\u001B[38;5;241;43m=\u001B[39;49m\u001B[38;5;28;43mself\u001B[39;49m\u001B[43m)\u001B[49m\n",
      "\u001B[0;31mValidationError\u001B[0m: 2 validation errors for Model\nnumbers.0\n  Input should be a valid integer, unable to parse string as an integer [type=int_parsing, input_value='a', input_type=str]\n    For further information visit https://errors.pydantic.dev/2.8/v/int_parsing\nstrings.1\n  Input should be a valid string [type=string_type, input_value=2, input_type=int]\n    For further information visit https://errors.pydantic.dev/2.8/v/string_type"
     ]
    }
   ],
   "execution_count": 41
  },
  {
   "metadata": {
    "ExecuteTime": {
     "end_time": "2024-08-28T13:46:03.392203Z",
     "start_time": "2024-08-28T13:46:03.389229Z"
    }
   },
   "cell_type": "code",
   "source": [
    "UniqueList = Annotated[\n",
    "    list[T], \n",
    "    Field(min_length=2, max_length=5),\n",
    "    AfterValidator(are_element_unique)\n",
    "]"
   ],
   "id": "b74836747a2a578",
   "outputs": [],
   "execution_count": 46
  },
  {
   "metadata": {
    "ExecuteTime": {
     "end_time": "2024-08-28T13:46:03.569986Z",
     "start_time": "2024-08-28T13:46:03.564878Z"
    }
   },
   "cell_type": "code",
   "source": [
    "class Model(BaseModel):\n",
    "    numbers: UniqueList[int] = []\n",
    "    strings: UniqueList[str] = []"
   ],
   "id": "724fece040fe1acb",
   "outputs": [],
   "execution_count": 47
  },
  {
   "metadata": {
    "ExecuteTime": {
     "end_time": "2024-08-28T13:46:49.112728Z",
     "start_time": "2024-08-28T13:46:49.109270Z"
    }
   },
   "cell_type": "code",
   "source": "Model(numbers=[1, 2, 3], strings=[\"a\", \"b\", \"c\"])",
   "id": "530ff02520b98d51",
   "outputs": [
    {
     "data": {
      "text/plain": [
       "Model(numbers=[1, 2, 3], strings=['a', 'b', 'c'])"
      ]
     },
     "execution_count": 48,
     "metadata": {},
     "output_type": "execute_result"
    }
   ],
   "execution_count": 48
  },
  {
   "metadata": {
    "ExecuteTime": {
     "end_time": "2024-08-28T13:47:21.559690Z",
     "start_time": "2024-08-28T13:47:21.531827Z"
    }
   },
   "cell_type": "code",
   "source": "Model(numbers=[\"a\"], strings=[1, 2, 3, 4, 5, 6])",
   "id": "2bb5d61c11472514",
   "outputs": [
    {
     "ename": "ValidationError",
     "evalue": "2 validation errors for Model\nnumbers.0\n  Input should be a valid integer, unable to parse string as an integer [type=int_parsing, input_value='a', input_type=str]\n    For further information visit https://errors.pydantic.dev/2.8/v/int_parsing\nstrings\n  List should have at most 5 items after validation, not 6 [type=too_long, input_value=[1, 2, 3, 4, 5, 6], input_type=list]\n    For further information visit https://errors.pydantic.dev/2.8/v/too_long",
     "output_type": "error",
     "traceback": [
      "\u001B[0;31m---------------------------------------------------------------------------\u001B[0m",
      "\u001B[0;31mValidationError\u001B[0m                           Traceback (most recent call last)",
      "Cell \u001B[0;32mIn[49], line 1\u001B[0m\n\u001B[0;32m----> 1\u001B[0m \u001B[43mModel\u001B[49m\u001B[43m(\u001B[49m\u001B[43mnumbers\u001B[49m\u001B[38;5;241;43m=\u001B[39;49m\u001B[43m[\u001B[49m\u001B[38;5;124;43m\"\u001B[39;49m\u001B[38;5;124;43ma\u001B[39;49m\u001B[38;5;124;43m\"\u001B[39;49m\u001B[43m]\u001B[49m\u001B[43m,\u001B[49m\u001B[43m \u001B[49m\u001B[43mstrings\u001B[49m\u001B[38;5;241;43m=\u001B[39;49m\u001B[43m[\u001B[49m\u001B[38;5;241;43m1\u001B[39;49m\u001B[43m,\u001B[49m\u001B[43m \u001B[49m\u001B[38;5;241;43m2\u001B[39;49m\u001B[43m,\u001B[49m\u001B[43m \u001B[49m\u001B[38;5;241;43m3\u001B[39;49m\u001B[43m,\u001B[49m\u001B[43m \u001B[49m\u001B[38;5;241;43m4\u001B[39;49m\u001B[43m,\u001B[49m\u001B[43m \u001B[49m\u001B[38;5;241;43m5\u001B[39;49m\u001B[43m,\u001B[49m\u001B[43m \u001B[49m\u001B[38;5;241;43m6\u001B[39;49m\u001B[43m]\u001B[49m\u001B[43m)\u001B[49m\n",
      "File \u001B[0;32m~/a-code/PythonDojo/venv/lib/python3.12/site-packages/pydantic/main.py:193\u001B[0m, in \u001B[0;36mBaseModel.__init__\u001B[0;34m(self, **data)\u001B[0m\n\u001B[1;32m    191\u001B[0m \u001B[38;5;66;03m# `__tracebackhide__` tells pytest and some other tools to omit this function from tracebacks\u001B[39;00m\n\u001B[1;32m    192\u001B[0m __tracebackhide__ \u001B[38;5;241m=\u001B[39m \u001B[38;5;28;01mTrue\u001B[39;00m\n\u001B[0;32m--> 193\u001B[0m \u001B[38;5;28;43mself\u001B[39;49m\u001B[38;5;241;43m.\u001B[39;49m\u001B[43m__pydantic_validator__\u001B[49m\u001B[38;5;241;43m.\u001B[39;49m\u001B[43mvalidate_python\u001B[49m\u001B[43m(\u001B[49m\u001B[43mdata\u001B[49m\u001B[43m,\u001B[49m\u001B[43m \u001B[49m\u001B[43mself_instance\u001B[49m\u001B[38;5;241;43m=\u001B[39;49m\u001B[38;5;28;43mself\u001B[39;49m\u001B[43m)\u001B[49m\n",
      "\u001B[0;31mValidationError\u001B[0m: 2 validation errors for Model\nnumbers.0\n  Input should be a valid integer, unable to parse string as an integer [type=int_parsing, input_value='a', input_type=str]\n    For further information visit https://errors.pydantic.dev/2.8/v/int_parsing\nstrings\n  List should have at most 5 items after validation, not 6 [type=too_long, input_value=[1, 2, 3, 4, 5, 6], input_type=list]\n    For further information visit https://errors.pydantic.dev/2.8/v/too_long"
     ]
    }
   ],
   "execution_count": 49
  },
  {
   "metadata": {},
   "cell_type": "code",
   "outputs": [],
   "execution_count": null,
   "source": "",
   "id": "f2f4150d411679cc"
  }
 ],
 "metadata": {
  "kernelspec": {
   "display_name": "Python 3",
   "language": "python",
   "name": "python3"
  },
  "language_info": {
   "codemirror_mode": {
    "name": "ipython",
    "version": 2
   },
   "file_extension": ".py",
   "mimetype": "text/x-python",
   "name": "python",
   "nbconvert_exporter": "python",
   "pygments_lexer": "ipython2",
   "version": "2.7.6"
  }
 },
 "nbformat": 4,
 "nbformat_minor": 5
}
