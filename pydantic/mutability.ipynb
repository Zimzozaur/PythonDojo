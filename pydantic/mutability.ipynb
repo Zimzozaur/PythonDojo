{
 "cells": [
  {
   "cell_type": "code",
   "id": "initial_id",
   "metadata": {
    "collapsed": true,
    "ExecuteTime": {
     "end_time": "2024-08-02T09:37:25.385420Z",
     "start_time": "2024-08-02T09:37:25.337624Z"
    }
   },
   "source": "from pydantic import BaseModel, ConfigDict, ValidationError",
   "outputs": [],
   "execution_count": 1
  },
  {
   "metadata": {
    "ExecuteTime": {
     "end_time": "2024-08-02T09:37:29.105334Z",
     "start_time": "2024-08-02T09:37:29.036037Z"
    }
   },
   "cell_type": "code",
   "source": [
    "class Model(BaseModel):\n",
    "    field: int"
   ],
   "id": "e959994374c97b5d",
   "outputs": [],
   "execution_count": 2
  },
  {
   "metadata": {
    "ExecuteTime": {
     "end_time": "2024-08-02T09:37:39.406387Z",
     "start_time": "2024-08-02T09:37:39.403338Z"
    }
   },
   "cell_type": "code",
   "source": "m = Model(field=10)",
   "id": "b07a851a3429dade",
   "outputs": [],
   "execution_count": 3
  },
  {
   "metadata": {
    "ExecuteTime": {
     "end_time": "2024-08-02T09:37:42.329165Z",
     "start_time": "2024-08-02T09:37:42.323714Z"
    }
   },
   "cell_type": "code",
   "source": "m",
   "id": "6bfa90a389635a59",
   "outputs": [
    {
     "data": {
      "text/plain": [
       "Model(field=10)"
      ]
     },
     "execution_count": 4,
     "metadata": {},
     "output_type": "execute_result"
    }
   ],
   "execution_count": 4
  },
  {
   "metadata": {
    "ExecuteTime": {
     "end_time": "2024-08-02T09:37:48.350022Z",
     "start_time": "2024-08-02T09:37:48.346763Z"
    }
   },
   "cell_type": "code",
   "source": "m.field = 20",
   "id": "f99b971ea7f3770f",
   "outputs": [],
   "execution_count": 5
  },
  {
   "metadata": {
    "ExecuteTime": {
     "end_time": "2024-08-02T09:38:42.697498Z",
     "start_time": "2024-08-02T09:38:42.692600Z"
    }
   },
   "cell_type": "code",
   "source": [
    "class Model(BaseModel):\n",
    "    model_config = ConfigDict(frozen=True)\n",
    "    \n",
    "    field: int"
   ],
   "id": "87e19296db8cd857",
   "outputs": [],
   "execution_count": 11
  },
  {
   "metadata": {
    "ExecuteTime": {
     "end_time": "2024-08-02T09:38:43.041120Z",
     "start_time": "2024-08-02T09:38:43.037330Z"
    }
   },
   "cell_type": "code",
   "source": "m = Model(field=10)",
   "id": "c6e78d20dfc6a28c",
   "outputs": [],
   "execution_count": 12
  },
  {
   "metadata": {
    "ExecuteTime": {
     "end_time": "2024-08-02T09:38:43.387358Z",
     "start_time": "2024-08-02T09:38:43.381832Z"
    }
   },
   "cell_type": "code",
   "source": "m",
   "id": "e2848ed8708a0e83",
   "outputs": [
    {
     "data": {
      "text/plain": [
       "Model(field=10)"
      ]
     },
     "execution_count": 13,
     "metadata": {},
     "output_type": "execute_result"
    }
   ],
   "execution_count": 13
  },
  {
   "metadata": {
    "ExecuteTime": {
     "end_time": "2024-08-02T09:39:00.902973Z",
     "start_time": "2024-08-02T09:39:00.899261Z"
    }
   },
   "cell_type": "code",
   "source": [
    "try:\n",
    "    m.field = 20\n",
    "except ValidationError as ex:\n",
    "    print(ex)"
   ],
   "id": "afa1007bde5b7a7c",
   "outputs": [
    {
     "name": "stdout",
     "output_type": "stream",
     "text": [
      "1 validation error for Model\n",
      "field\n",
      "  Instance is frozen [type=frozen_instance, input_value=20, input_type=int]\n",
      "    For further information visit https://errors.pydantic.dev/2.8/v/frozen_instance\n"
     ]
    }
   ],
   "execution_count": 16
  },
  {
   "metadata": {
    "ExecuteTime": {
     "end_time": "2024-08-02T09:39:01.836570Z",
     "start_time": "2024-08-02T09:39:01.831177Z"
    }
   },
   "cell_type": "code",
   "source": "m",
   "id": "9ecf507f8b0b0f4e",
   "outputs": [
    {
     "data": {
      "text/plain": [
       "Model(field=10)"
      ]
     },
     "execution_count": 17,
     "metadata": {},
     "output_type": "execute_result"
    }
   ],
   "execution_count": 17
  },
  {
   "metadata": {
    "ExecuteTime": {
     "end_time": "2024-08-02T09:41:41.865776Z",
     "start_time": "2024-08-02T09:41:41.861330Z"
    }
   },
   "cell_type": "code",
   "source": [
    "class Model(BaseModel):\n",
    "    model_config = ConfigDict(frozen=False)\n",
    "    \n",
    "    field: int"
   ],
   "id": "5f9febd6d264f795",
   "outputs": [],
   "execution_count": 21
  },
  {
   "metadata": {
    "ExecuteTime": {
     "end_time": "2024-08-02T09:41:42.173675Z",
     "start_time": "2024-08-02T09:41:42.170053Z"
    }
   },
   "cell_type": "code",
   "source": "m = Model(field=10)",
   "id": "8c466b7a2a397765",
   "outputs": [],
   "execution_count": 22
  },
  {
   "metadata": {
    "ExecuteTime": {
     "end_time": "2024-08-02T09:41:42.675361Z",
     "start_time": "2024-08-02T09:41:42.673006Z"
    }
   },
   "cell_type": "code",
   "source": [
    "try:\n",
    "    d = {m: 'not gonna work!'}\n",
    "except TypeError as ex:\n",
    "    print(ex)"
   ],
   "id": "4458566c310ae77c",
   "outputs": [
    {
     "name": "stdout",
     "output_type": "stream",
     "text": [
      "unhashable type: 'Model'\n"
     ]
    }
   ],
   "execution_count": 23
  },
  {
   "metadata": {
    "ExecuteTime": {
     "end_time": "2024-08-02T09:41:54.184016Z",
     "start_time": "2024-08-02T09:41:54.178583Z"
    }
   },
   "cell_type": "code",
   "source": [
    "class Model(BaseModel):\n",
    "    model_config = ConfigDict(frozen=True)\n",
    "    \n",
    "    field: int"
   ],
   "id": "236f0edf9a4ede4f",
   "outputs": [],
   "execution_count": 24
  },
  {
   "metadata": {
    "ExecuteTime": {
     "end_time": "2024-08-02T09:42:00.699962Z",
     "start_time": "2024-08-02T09:42:00.696960Z"
    }
   },
   "cell_type": "code",
   "source": "m = Model(field=10)",
   "id": "aa4d73ef8160df9b",
   "outputs": [],
   "execution_count": 25
  },
  {
   "metadata": {
    "ExecuteTime": {
     "end_time": "2024-08-02T09:43:07.520554Z",
     "start_time": "2024-08-02T09:43:07.517268Z"
    }
   },
   "cell_type": "code",
   "source": "d = {m: \"all's good!\"}",
   "id": "726cc24b649666b2",
   "outputs": [],
   "execution_count": 28
  },
  {
   "metadata": {
    "ExecuteTime": {
     "end_time": "2024-08-02T09:43:07.748400Z",
     "start_time": "2024-08-02T09:43:07.743615Z"
    }
   },
   "cell_type": "code",
   "source": "d[m]",
   "id": "5654ee2d5c867d0",
   "outputs": [
    {
     "data": {
      "text/plain": [
       "\"all's good!\""
      ]
     },
     "execution_count": 29,
     "metadata": {},
     "output_type": "execute_result"
    }
   ],
   "execution_count": 29
  },
  {
   "metadata": {},
   "cell_type": "code",
   "outputs": [],
   "execution_count": null,
   "source": "",
   "id": "f857bf07ac5204cc"
  }
 ],
 "metadata": {
  "kernelspec": {
   "display_name": "Python 3",
   "language": "python",
   "name": "python3"
  },
  "language_info": {
   "codemirror_mode": {
    "name": "ipython",
    "version": 2
   },
   "file_extension": ".py",
   "mimetype": "text/x-python",
   "name": "python",
   "nbconvert_exporter": "python",
   "pygments_lexer": "ipython2",
   "version": "2.7.6"
  }
 },
 "nbformat": 4,
 "nbformat_minor": 5
}
