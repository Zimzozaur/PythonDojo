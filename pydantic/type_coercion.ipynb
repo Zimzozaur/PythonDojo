{
 "cells": [
  {
   "cell_type": "code",
   "id": "initial_id",
   "metadata": {
    "collapsed": true,
    "ExecuteTime": {
     "end_time": "2024-08-01T11:46:20.731849Z",
     "start_time": "2024-08-01T11:46:20.696030Z"
    }
   },
   "source": "from pydantic import BaseModel, ValidationError",
   "outputs": [],
   "execution_count": 1
  },
  {
   "metadata": {
    "ExecuteTime": {
     "end_time": "2024-08-01T11:46:59.137407Z",
     "start_time": "2024-08-01T11:46:59.069408Z"
    }
   },
   "cell_type": "code",
   "source": [
    "class Coordinates(BaseModel):\n",
    "    x: float\n",
    "    y: float"
   ],
   "id": "e640e7c9f2daf411",
   "outputs": [],
   "execution_count": 2
  },
  {
   "metadata": {
    "ExecuteTime": {
     "end_time": "2024-08-01T11:47:13.205911Z",
     "start_time": "2024-08-01T11:47:13.202383Z"
    }
   },
   "cell_type": "code",
   "source": "p1 = Coordinates(x=1.1, y=2.2)",
   "id": "2d83a1ccefad0e31",
   "outputs": [],
   "execution_count": 3
  },
  {
   "metadata": {
    "ExecuteTime": {
     "end_time": "2024-08-01T11:47:14.356029Z",
     "start_time": "2024-08-01T11:47:14.348155Z"
    }
   },
   "cell_type": "code",
   "source": "p1",
   "id": "bcd0c8b339b0b85",
   "outputs": [
    {
     "data": {
      "text/plain": [
       "Coordinates(x=1.1, y=2.2)"
      ]
     },
     "execution_count": 4,
     "metadata": {},
     "output_type": "execute_result"
    }
   ],
   "execution_count": 4
  },
  {
   "metadata": {
    "ExecuteTime": {
     "end_time": "2024-08-01T11:47:23.863227Z",
     "start_time": "2024-08-01T11:47:23.857374Z"
    }
   },
   "cell_type": "code",
   "source": "Coordinates.model_fields",
   "id": "c49fb21e738c1d8b",
   "outputs": [
    {
     "data": {
      "text/plain": [
       "{'x': FieldInfo(annotation=float, required=True),\n",
       " 'y': FieldInfo(annotation=float, required=True)}"
      ]
     },
     "execution_count": 5,
     "metadata": {},
     "output_type": "execute_result"
    }
   ],
   "execution_count": 5
  },
  {
   "metadata": {
    "ExecuteTime": {
     "end_time": "2024-08-01T11:47:44.923300Z",
     "start_time": "2024-08-01T11:47:44.918798Z"
    }
   },
   "cell_type": "code",
   "source": "type(p1.x)",
   "id": "18b104b96d18d04b",
   "outputs": [
    {
     "data": {
      "text/plain": [
       "float"
      ]
     },
     "execution_count": 6,
     "metadata": {},
     "output_type": "execute_result"
    }
   ],
   "execution_count": 6
  },
  {
   "metadata": {
    "ExecuteTime": {
     "end_time": "2024-08-01T11:49:53.890436Z",
     "start_time": "2024-08-01T11:49:53.887944Z"
    }
   },
   "cell_type": "code",
   "source": "p2 = Coordinates(x=0, y='1.2')",
   "id": "c414dffac97f291d",
   "outputs": [],
   "execution_count": 7
  },
  {
   "metadata": {
    "ExecuteTime": {
     "end_time": "2024-08-01T11:49:57.900078Z",
     "start_time": "2024-08-01T11:49:57.895917Z"
    }
   },
   "cell_type": "code",
   "source": "p2",
   "id": "c454e15fd8e0db47",
   "outputs": [
    {
     "data": {
      "text/plain": [
       "Coordinates(x=0.0, y=1.2)"
      ]
     },
     "execution_count": 9,
     "metadata": {},
     "output_type": "execute_result"
    }
   ],
   "execution_count": 9
  },
  {
   "metadata": {
    "ExecuteTime": {
     "end_time": "2024-08-01T11:50:30.684435Z",
     "start_time": "2024-08-01T11:50:30.680009Z"
    }
   },
   "cell_type": "code",
   "source": "type(p2.x), type(p2.y)",
   "id": "cd15198185618d7d",
   "outputs": [
    {
     "data": {
      "text/plain": [
       "(float, float)"
      ]
     },
     "execution_count": 10,
     "metadata": {},
     "output_type": "execute_result"
    }
   ],
   "execution_count": 10
  },
  {
   "metadata": {
    "ExecuteTime": {
     "end_time": "2024-08-01T11:58:13.300889Z",
     "start_time": "2024-08-01T11:58:13.297017Z"
    }
   },
   "cell_type": "code",
   "source": [
    "class Model(BaseModel):\n",
    "    field: str"
   ],
   "id": "90a81efeea5ce1cf",
   "outputs": [],
   "execution_count": 11
  },
  {
   "metadata": {
    "ExecuteTime": {
     "end_time": "2024-08-01T11:58:20.028158Z",
     "start_time": "2024-08-01T11:58:20.023035Z"
    }
   },
   "cell_type": "code",
   "source": "Model(field='Python')",
   "id": "ebf8ad5430c6ed77",
   "outputs": [
    {
     "data": {
      "text/plain": [
       "Model(field='Python')"
      ]
     },
     "execution_count": 12,
     "metadata": {},
     "output_type": "execute_result"
    }
   ],
   "execution_count": 12
  },
  {
   "metadata": {
    "ExecuteTime": {
     "end_time": "2024-08-01T11:58:41.637434Z",
     "start_time": "2024-08-01T11:58:41.634544Z"
    }
   },
   "cell_type": "code",
   "source": [
    "try:\n",
    "    Model(field=100)\n",
    "except ValidationError as ex:\n",
    "    print(ex)"
   ],
   "id": "ae2864c0ba3a73a0",
   "outputs": [
    {
     "name": "stdout",
     "output_type": "stream",
     "text": [
      "1 validation error for Model\n",
      "field\n",
      "  Input should be a valid string [type=string_type, input_value=100, input_type=int]\n",
      "    For further information visit https://errors.pydantic.dev/2.8/v/string_type\n"
     ]
    }
   ],
   "execution_count": 13
  },
  {
   "metadata": {
    "ExecuteTime": {
     "end_time": "2024-08-01T12:00:01.064987Z",
     "start_time": "2024-08-01T12:00:01.058991Z"
    }
   },
   "cell_type": "code",
   "source": [
    "class Contact(BaseModel):\n",
    "    email: str"
   ],
   "id": "717b109f8af56980",
   "outputs": [],
   "execution_count": 18
  },
  {
   "metadata": {
    "ExecuteTime": {
     "end_time": "2024-08-01T12:00:44.694947Z",
     "start_time": "2024-08-01T12:00:44.691494Z"
    }
   },
   "cell_type": "code",
   "source": [
    "initial_json_data = \"\"\"\n",
    "{\n",
    "    \"email\": \"mario@mail.com\"\n",
    "}\n",
    "\"\"\""
   ],
   "id": "a6ea06c3e63525c8",
   "outputs": [],
   "execution_count": 19
  },
  {
   "metadata": {
    "ExecuteTime": {
     "end_time": "2024-08-01T12:00:56.963649Z",
     "start_time": "2024-08-01T12:00:56.958025Z"
    }
   },
   "cell_type": "code",
   "source": "Contact.model_validate_json(initial_json_data)",
   "id": "9882549fb6969aec",
   "outputs": [
    {
     "data": {
      "text/plain": [
       "Contact(email='mario@mail.com')"
      ]
     },
     "execution_count": 20,
     "metadata": {},
     "output_type": "execute_result"
    }
   ],
   "execution_count": 20
  },
  {
   "metadata": {
    "ExecuteTime": {
     "end_time": "2024-08-01T12:02:06.447453Z",
     "start_time": "2024-08-01T12:02:06.444355Z"
    }
   },
   "cell_type": "code",
   "source": [
    "initial_json_data = \"\"\"\n",
    "{\n",
    "    \"email\": {\n",
    "        \"personal\": \"mario@personal.com\",\n",
    "        \"work\": \"mario@work.com\"\n",
    "    }\n",
    "}\n",
    "\"\"\""
   ],
   "id": "bd0e93525deaabc6",
   "outputs": [],
   "execution_count": 21
  },
  {
   "metadata": {
    "ExecuteTime": {
     "end_time": "2024-08-01T12:02:50.681037Z",
     "start_time": "2024-08-01T12:02:50.677818Z"
    }
   },
   "cell_type": "code",
   "source": [
    "try:\n",
    "    Contact.model_validate_json(initial_json_data)\n",
    "except ValidationError as ex:\n",
    "    print(ex)"
   ],
   "id": "2fdff41c63ef6fbf",
   "outputs": [
    {
     "name": "stdout",
     "output_type": "stream",
     "text": [
      "1 validation error for Contact\n",
      "email\n",
      "  Input should be a valid string [type=string_type, input_value={'personal': 'mario@perso...work': 'mario@work.com'}, input_type=dict]\n",
      "    For further information visit https://errors.pydantic.dev/2.8/v/string_type\n"
     ]
    }
   ],
   "execution_count": 24
  },
  {
   "metadata": {
    "ExecuteTime": {
     "end_time": "2024-08-01T12:03:54.090944Z",
     "start_time": "2024-08-01T12:03:54.088299Z"
    }
   },
   "cell_type": "code",
   "source": [
    "new_data = {\n",
    "    \"email\": {\n",
    "        \"personal\": \"mario@personal.com\",\n",
    "        \"work\": \"mario@work.com\"\n",
    "    }\n",
    "}"
   ],
   "id": "568a405130a5aa04",
   "outputs": [],
   "execution_count": 25
  },
  {
   "metadata": {
    "ExecuteTime": {
     "end_time": "2024-08-01T12:04:28.833898Z",
     "start_time": "2024-08-01T12:04:28.828528Z"
    }
   },
   "cell_type": "code",
   "source": "Contact(email=str(new_data['email']))",
   "id": "e97ce3b8f5b94770",
   "outputs": [
    {
     "data": {
      "text/plain": [
       "Contact(email=\"{'personal': 'mario@personal.com', 'work': 'mario@work.com'}\")"
      ]
     },
     "execution_count": 26,
     "metadata": {},
     "output_type": "execute_result"
    }
   ],
   "execution_count": 26
  },
  {
   "metadata": {},
   "cell_type": "code",
   "outputs": [],
   "execution_count": null,
   "source": "",
   "id": "c1406a3df61c841"
  }
 ],
 "metadata": {
  "kernelspec": {
   "display_name": "Python 3",
   "language": "python",
   "name": "python3"
  },
  "language_info": {
   "codemirror_mode": {
    "name": "ipython",
    "version": 2
   },
   "file_extension": ".py",
   "mimetype": "text/x-python",
   "name": "python",
   "nbconvert_exporter": "python",
   "pygments_lexer": "ipython2",
   "version": "2.7.6"
  }
 },
 "nbformat": 4,
 "nbformat_minor": 5
}
