{
 "cells": [
  {
   "cell_type": "code",
   "id": "initial_id",
   "metadata": {
    "collapsed": true,
    "ExecuteTime": {
     "end_time": "2024-08-02T09:33:14.918849Z",
     "start_time": "2024-08-02T09:33:14.869062Z"
    }
   },
   "source": "from pydantic import BaseModel, ConfigDict, ValidationError",
   "outputs": [],
   "execution_count": 1
  },
  {
   "metadata": {
    "ExecuteTime": {
     "end_time": "2024-08-02T09:33:46.368428Z",
     "start_time": "2024-08-02T09:33:46.279122Z"
    }
   },
   "cell_type": "code",
   "source": [
    "class Model(BaseModel):\n",
    "    field: int"
   ],
   "id": "a649de726db8dc58",
   "outputs": [],
   "execution_count": 2
  },
  {
   "metadata": {
    "ExecuteTime": {
     "end_time": "2024-08-02T09:34:07.527764Z",
     "start_time": "2024-08-02T09:34:07.524754Z"
    }
   },
   "cell_type": "code",
   "source": "m = Model(field=10)",
   "id": "362f1a987b522adc",
   "outputs": [],
   "execution_count": 3
  },
  {
   "metadata": {
    "ExecuteTime": {
     "end_time": "2024-08-02T09:34:12.627646Z",
     "start_time": "2024-08-02T09:34:12.624815Z"
    }
   },
   "cell_type": "code",
   "source": "m.field = 'Python'",
   "id": "96ee3ea04d27f209",
   "outputs": [],
   "execution_count": 4
  },
  {
   "metadata": {
    "ExecuteTime": {
     "end_time": "2024-08-02T09:34:15.029573Z",
     "start_time": "2024-08-02T09:34:15.020834Z"
    }
   },
   "cell_type": "code",
   "source": "m",
   "id": "e9c35ea776fdb350",
   "outputs": [
    {
     "data": {
      "text/plain": [
       "Model(field='Python')"
      ]
     },
     "execution_count": 5,
     "metadata": {},
     "output_type": "execute_result"
    }
   ],
   "execution_count": 5
  },
  {
   "metadata": {
    "ExecuteTime": {
     "end_time": "2024-08-02T09:34:48.933690Z",
     "start_time": "2024-08-02T09:34:48.927855Z"
    }
   },
   "cell_type": "code",
   "source": [
    "class Model(BaseModel):\n",
    "    model_config = ConfigDict(validate_assignment=True)\n",
    "    \n",
    "    field: int"
   ],
   "id": "a27896507cf13fb3",
   "outputs": [],
   "execution_count": 6
  },
  {
   "metadata": {
    "ExecuteTime": {
     "end_time": "2024-08-02T09:34:53.726458Z",
     "start_time": "2024-08-02T09:34:53.723152Z"
    }
   },
   "cell_type": "code",
   "source": "m = Model(field=10)",
   "id": "e7ad57636a56a80f",
   "outputs": [],
   "execution_count": 7
  },
  {
   "metadata": {
    "ExecuteTime": {
     "end_time": "2024-08-02T09:35:09.572273Z",
     "start_time": "2024-08-02T09:35:09.568214Z"
    }
   },
   "cell_type": "code",
   "source": [
    "try:\n",
    "    m.field = 'Python'\n",
    "except ValidationError as ex:\n",
    "    print(ex)"
   ],
   "id": "708edb0239292d29",
   "outputs": [
    {
     "name": "stdout",
     "output_type": "stream",
     "text": [
      "1 validation error for Model\n",
      "field\n",
      "  Input should be a valid integer, unable to parse string as an integer [type=int_parsing, input_value='Python', input_type=str]\n",
      "    For further information visit https://errors.pydantic.dev/2.8/v/int_parsing\n"
     ]
    }
   ],
   "execution_count": 8
  },
  {
   "metadata": {},
   "cell_type": "code",
   "outputs": [],
   "execution_count": null,
   "source": "",
   "id": "f976fa55a8739ad"
  }
 ],
 "metadata": {
  "kernelspec": {
   "display_name": "Python 3",
   "language": "python",
   "name": "python3"
  },
  "language_info": {
   "codemirror_mode": {
    "name": "ipython",
    "version": 2
   },
   "file_extension": ".py",
   "mimetype": "text/x-python",
   "name": "python",
   "nbconvert_exporter": "python",
   "pygments_lexer": "ipython2",
   "version": "2.7.6"
  }
 },
 "nbformat": 4,
 "nbformat_minor": 5
}
