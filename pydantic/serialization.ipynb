{
 "cells": [
  {
   "cell_type": "code",
   "id": "initial_id",
   "metadata": {
    "collapsed": true,
    "ExecuteTime": {
     "end_time": "2024-08-01T11:01:49.269074Z",
     "start_time": "2024-08-01T11:01:49.234781Z"
    }
   },
   "source": "from pydantic import BaseModel, ValidationError",
   "outputs": [],
   "execution_count": 1
  },
  {
   "metadata": {
    "ExecuteTime": {
     "end_time": "2024-08-01T11:02:15.395711Z",
     "start_time": "2024-08-01T11:02:15.317043Z"
    }
   },
   "cell_type": "code",
   "source": [
    "class Person(BaseModel):\n",
    "    first_name: str\n",
    "    last_name: str\n",
    "    age: int"
   ],
   "id": "4e015965efa1a10",
   "outputs": [],
   "execution_count": 2
  },
  {
   "metadata": {
    "ExecuteTime": {
     "end_time": "2024-08-01T11:03:00.427131Z",
     "start_time": "2024-08-01T11:03:00.424323Z"
    }
   },
   "cell_type": "code",
   "source": [
    "mario = Person(first_name='Mario', last_name='Italiano', age=20)\n",
    "luigi = Person(first_name='Luigi', last_name='Italiano', age=21)"
   ],
   "id": "e6d30b144f941be0",
   "outputs": [],
   "execution_count": 3
  },
  {
   "metadata": {
    "ExecuteTime": {
     "end_time": "2024-08-01T11:03:32.467296Z",
     "start_time": "2024-08-01T11:03:32.457624Z"
    }
   },
   "cell_type": "code",
   "source": "mario.__dict__",
   "id": "cdea4e6eeea66c19",
   "outputs": [
    {
     "data": {
      "text/plain": [
       "{'first_name': 'Mario', 'last_name': 'Italiano', 'age': 20}"
      ]
     },
     "execution_count": 4,
     "metadata": {},
     "output_type": "execute_result"
    }
   ],
   "execution_count": 4
  },
  {
   "metadata": {
    "ExecuteTime": {
     "end_time": "2024-08-01T11:05:21.542279Z",
     "start_time": "2024-08-01T11:05:21.538460Z"
    }
   },
   "cell_type": "code",
   "source": "mario.model_dump(), type(mario.model_dump())",
   "id": "ed615a6aec8b3e0a",
   "outputs": [
    {
     "data": {
      "text/plain": [
       "({'first_name': 'Mario', 'last_name': 'Italiano', 'age': 20}, dict)"
      ]
     },
     "execution_count": 8,
     "metadata": {},
     "output_type": "execute_result"
    }
   ],
   "execution_count": 8
  },
  {
   "metadata": {
    "ExecuteTime": {
     "end_time": "2024-08-01T11:05:34.880317Z",
     "start_time": "2024-08-01T11:05:34.875331Z"
    }
   },
   "cell_type": "code",
   "source": "mario.model_dump_json(), type(mario.model_dump_json())",
   "id": "966f29aa0cafccba",
   "outputs": [
    {
     "data": {
      "text/plain": [
       "('{\"first_name\":\"Mario\",\"last_name\":\"Italiano\",\"age\":20}', str)"
      ]
     },
     "execution_count": 9,
     "metadata": {},
     "output_type": "execute_result"
    }
   ],
   "execution_count": 9
  },
  {
   "metadata": {
    "ExecuteTime": {
     "end_time": "2024-08-01T11:06:45.440974Z",
     "start_time": "2024-08-01T11:06:45.438114Z"
    }
   },
   "cell_type": "code",
   "source": "mario.model_dump_json(indent=4)",
   "id": "4c5c3fed54ae0f8",
   "outputs": [
    {
     "data": {
      "text/plain": [
       "'{\\n    \"first_name\": \"Mario\",\\n    \"last_name\": \"Italiano\",\\n    \"age\": 20\\n}'"
      ]
     },
     "execution_count": 12,
     "metadata": {},
     "output_type": "execute_result"
    }
   ],
   "execution_count": 12
  },
  {
   "metadata": {
    "ExecuteTime": {
     "end_time": "2024-08-01T11:07:01.591512Z",
     "start_time": "2024-08-01T11:07:01.588301Z"
    }
   },
   "cell_type": "code",
   "source": "print(mario.model_dump_json(indent=4))",
   "id": "2adb6ac60b2ac596",
   "outputs": [
    {
     "name": "stdout",
     "output_type": "stream",
     "text": [
      "{\n",
      "    \"first_name\": \"Mario\",\n",
      "    \"last_name\": \"Italiano\",\n",
      "    \"age\": 20\n",
      "}\n"
     ]
    }
   ],
   "execution_count": 13
  },
  {
   "metadata": {
    "ExecuteTime": {
     "end_time": "2024-08-01T11:07:54.447171Z",
     "start_time": "2024-08-01T11:07:54.442529Z"
    }
   },
   "cell_type": "code",
   "source": "mario.model_dump(exclude=['first_name', 'age'])",
   "id": "8ced8480a5a72160",
   "outputs": [
    {
     "data": {
      "text/plain": [
       "{'last_name': 'Italiano'}"
      ]
     },
     "execution_count": 14,
     "metadata": {},
     "output_type": "execute_result"
    }
   ],
   "execution_count": 14
  },
  {
   "metadata": {
    "ExecuteTime": {
     "end_time": "2024-08-01T11:08:08.741332Z",
     "start_time": "2024-08-01T11:08:08.736163Z"
    }
   },
   "cell_type": "code",
   "source": "mario.model_dump(exclude=['first_name', 'age?'])",
   "id": "98c14f3b348da79b",
   "outputs": [
    {
     "data": {
      "text/plain": [
       "{'last_name': 'Italiano', 'age': 20}"
      ]
     },
     "execution_count": 15,
     "metadata": {},
     "output_type": "execute_result"
    }
   ],
   "execution_count": 15
  },
  {
   "metadata": {
    "ExecuteTime": {
     "end_time": "2024-08-01T11:09:25.041242Z",
     "start_time": "2024-08-01T11:09:25.038021Z"
    }
   },
   "cell_type": "code",
   "source": "print(luigi.model_dump_json(exclude=['last_name'], indent=2))",
   "id": "5ddb222ee926c173",
   "outputs": [
    {
     "name": "stdout",
     "output_type": "stream",
     "text": [
      "{\n",
      "  \"first_name\": \"Luigi\",\n",
      "  \"age\": 21\n",
      "}\n"
     ]
    }
   ],
   "execution_count": 18
  },
  {
   "metadata": {
    "ExecuteTime": {
     "end_time": "2024-08-01T11:10:30.683589Z",
     "start_time": "2024-08-01T11:10:30.679163Z"
    }
   },
   "cell_type": "code",
   "source": "luigi.model_dump(include=['age'])",
   "id": "1adc09e7e2edb4",
   "outputs": [
    {
     "data": {
      "text/plain": [
       "{'age': 21}"
      ]
     },
     "execution_count": 19,
     "metadata": {},
     "output_type": "execute_result"
    }
   ],
   "execution_count": 19
  },
  {
   "metadata": {},
   "cell_type": "code",
   "outputs": [],
   "execution_count": null,
   "source": "",
   "id": "a6df74513ee6ccb4"
  }
 ],
 "metadata": {
  "kernelspec": {
   "display_name": "Python 3",
   "language": "python",
   "name": "python3"
  },
  "language_info": {
   "codemirror_mode": {
    "name": "ipython",
    "version": 2
   },
   "file_extension": ".py",
   "mimetype": "text/x-python",
   "name": "python",
   "nbconvert_exporter": "python",
   "pygments_lexer": "ipython2",
   "version": "2.7.6"
  }
 },
 "nbformat": 4,
 "nbformat_minor": 5
}
