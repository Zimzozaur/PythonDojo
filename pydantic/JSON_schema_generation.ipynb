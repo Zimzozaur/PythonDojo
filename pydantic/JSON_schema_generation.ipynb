{
 "cells": [
  {
   "cell_type": "code",
   "id": "initial_id",
   "metadata": {
    "collapsed": true,
    "ExecuteTime": {
     "end_time": "2024-08-02T07:08:14.460381Z",
     "start_time": "2024-08-02T07:08:14.423644Z"
    }
   },
   "source": "from pydantic import BaseModel",
   "outputs": [],
   "execution_count": 1
  },
  {
   "metadata": {
    "ExecuteTime": {
     "end_time": "2024-08-02T07:08:41.161770Z",
     "start_time": "2024-08-02T07:08:41.087295Z"
    }
   },
   "cell_type": "code",
   "source": [
    "class Model(BaseModel):\n",
    "    field_1: int | None = None\n",
    "    field_2: str = \"Python\""
   ],
   "id": "7d222fdd6e21b352",
   "outputs": [],
   "execution_count": 2
  },
  {
   "metadata": {
    "ExecuteTime": {
     "end_time": "2024-08-02T07:08:45.638710Z",
     "start_time": "2024-08-02T07:08:45.627006Z"
    }
   },
   "cell_type": "code",
   "source": "Model.model_json_schema()",
   "id": "f8e0a2f730227ae",
   "outputs": [
    {
     "data": {
      "text/plain": [
       "{'properties': {'field_1': {'anyOf': [{'type': 'integer'}, {'type': 'null'}],\n",
       "   'default': None,\n",
       "   'title': 'Field 1'},\n",
       "  'field_2': {'default': 'Python', 'title': 'Field 2', 'type': 'string'}},\n",
       " 'title': 'Model',\n",
       " 'type': 'object'}"
      ]
     },
     "execution_count": 3,
     "metadata": {},
     "output_type": "execute_result"
    }
   ],
   "execution_count": 3
  },
  {
   "metadata": {
    "ExecuteTime": {
     "end_time": "2024-08-02T07:09:06.287610Z",
     "start_time": "2024-08-02T07:09:06.283885Z"
    }
   },
   "cell_type": "code",
   "source": "from pprint import pprint",
   "id": "24d6a7bde2e58433",
   "outputs": [],
   "execution_count": 4
  },
  {
   "metadata": {
    "ExecuteTime": {
     "end_time": "2024-08-02T07:09:15.863565Z",
     "start_time": "2024-08-02T07:09:15.857929Z"
    }
   },
   "cell_type": "code",
   "source": "pprint(Model.model_json_schema())",
   "id": "ed865dee49be1fa9",
   "outputs": [
    {
     "name": "stdout",
     "output_type": "stream",
     "text": [
      "{'properties': {'field_1': {'anyOf': [{'type': 'integer'}, {'type': 'null'}],\n",
      "                            'default': None,\n",
      "                            'title': 'Field 1'},\n",
      "                'field_2': {'default': 'Python',\n",
      "                            'title': 'Field 2',\n",
      "                            'type': 'string'}},\n",
      " 'title': 'Model',\n",
      " 'type': 'object'}\n"
     ]
    }
   ],
   "execution_count": 5
  },
  {
   "metadata": {},
   "cell_type": "code",
   "outputs": [],
   "execution_count": null,
   "source": "",
   "id": "7dc7ccc7f7ce410a"
  }
 ],
 "metadata": {
  "kernelspec": {
   "display_name": "Python 3",
   "language": "python",
   "name": "python3"
  },
  "language_info": {
   "codemirror_mode": {
    "name": "ipython",
    "version": 2
   },
   "file_extension": ".py",
   "mimetype": "text/x-python",
   "name": "python",
   "nbconvert_exporter": "python",
   "pygments_lexer": "ipython2",
   "version": "2.7.6"
  }
 },
 "nbformat": 4,
 "nbformat_minor": 5
}
