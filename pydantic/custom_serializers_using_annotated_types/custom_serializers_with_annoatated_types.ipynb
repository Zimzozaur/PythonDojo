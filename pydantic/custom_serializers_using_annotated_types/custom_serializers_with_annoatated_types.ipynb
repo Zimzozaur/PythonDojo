{
 "cells": [
  {
   "cell_type": "code",
   "id": "initial_id",
   "metadata": {
    "collapsed": true,
    "ExecuteTime": {
     "end_time": "2024-08-29T10:43:15.504820Z",
     "start_time": "2024-08-29T10:43:15.457899Z"
    }
   },
   "source": [
    "from datetime import datetime\n",
    "from typing import Annotated, Any\n",
    "\n",
    "import pytz\n",
    "from dateutil.parser import parse\n",
    "\n",
    "from pydantic import BaseModel, AfterValidator, BeforeValidator"
   ],
   "outputs": [],
   "execution_count": 1
  },
  {
   "metadata": {
    "ExecuteTime": {
     "end_time": "2024-08-29T10:43:16.110732Z",
     "start_time": "2024-08-29T10:43:16.107384Z"
    }
   },
   "cell_type": "code",
   "source": [
    "def make_utc(dt: datetime) -> datetime:\n",
    "    if dt.tzinfo is None:\n",
    "        dt = pytz.utc.localize(dt)\n",
    "    else:\n",
    "        dt = dt.astimezone(pytz.utc)\n",
    "    return dt\n",
    "    \n",
    "def parse_datetime(value: Any):\n",
    "    if isinstance(value, str):\n",
    "        try:\n",
    "            return parse(value)\n",
    "        except Exception as ex:\n",
    "            raise ValueError(str(ex))\n",
    "    return value\n",
    "\n",
    "\n",
    "DateTimeUTC = Annotated[datetime, BeforeValidator(parse_datetime), AfterValidator(make_utc)]"
   ],
   "id": "6624b78309b36bdd",
   "outputs": [],
   "execution_count": 2
  },
  {
   "metadata": {
    "ExecuteTime": {
     "end_time": "2024-08-29T10:43:48.761991Z",
     "start_time": "2024-08-29T10:43:48.591147Z"
    }
   },
   "cell_type": "code",
   "source": [
    "class Model(BaseModel):\n",
    "    dt: datetime"
   ],
   "id": "d422af4d8ef1e4d8",
   "outputs": [],
   "execution_count": 3
  },
  {
   "metadata": {
    "ExecuteTime": {
     "end_time": "2024-08-29T10:57:30.839926Z",
     "start_time": "2024-08-29T10:57:30.833742Z"
    }
   },
   "cell_type": "code",
   "source": [
    "def dt_json_serialize(dt: datetime) -> str:\n",
    "    print(\"serialized\")\n",
    "    return dt.strftime(\"%Y/%m/%d %I:%M %p (UTC)\")"
   ],
   "id": "2f3681137378f7db",
   "outputs": [],
   "execution_count": 62
  },
  {
   "metadata": {
    "ExecuteTime": {
     "end_time": "2024-08-29T10:47:15.287118Z",
     "start_time": "2024-08-29T10:47:15.259481Z"
    }
   },
   "cell_type": "code",
   "source": [
    "from pydantic import field_serializer\n",
    "\n",
    "class Model(BaseModel):\n",
    "    dt: DateTimeUTC\n",
    "    \n",
    "    @field_serializer(\"dt\", when_used=\"json-unless-none\")\n",
    "    def serialize_dt_to_json(self, value: datetime) -> str:\n",
    "        return dt_json_serialize(value)"
   ],
   "id": "d952065577405ef2",
   "outputs": [],
   "execution_count": 6
  },
  {
   "metadata": {
    "ExecuteTime": {
     "end_time": "2024-08-29T10:47:36.138826Z",
     "start_time": "2024-08-29T10:47:36.131334Z"
    }
   },
   "cell_type": "code",
   "source": "m = Model(dt='2020/1/1 3pm')",
   "id": "b65bc9a7e066e1cb",
   "outputs": [],
   "execution_count": 7
  },
  {
   "metadata": {
    "ExecuteTime": {
     "end_time": "2024-08-29T10:47:41.338349Z",
     "start_time": "2024-08-29T10:47:41.329309Z"
    }
   },
   "cell_type": "code",
   "source": "m.model_dump()",
   "id": "e51112ea786a8d03",
   "outputs": [
    {
     "data": {
      "text/plain": [
       "{'dt': datetime.datetime(2020, 1, 1, 15, 0, tzinfo=<UTC>)}"
      ]
     },
     "execution_count": 8,
     "metadata": {},
     "output_type": "execute_result"
    }
   ],
   "execution_count": 8
  },
  {
   "metadata": {
    "ExecuteTime": {
     "end_time": "2024-08-29T10:47:49.226113Z",
     "start_time": "2024-08-29T10:47:49.220596Z"
    }
   },
   "cell_type": "code",
   "source": "m.model_dump_json()",
   "id": "2672f107b98e6f67",
   "outputs": [
    {
     "data": {
      "text/plain": [
       "'{\"dt\":\"2020/01/01 03:00 PM (UTC)\"}'"
      ]
     },
     "execution_count": 9,
     "metadata": {},
     "output_type": "execute_result"
    }
   ],
   "execution_count": 9
  },
  {
   "metadata": {
    "ExecuteTime": {
     "end_time": "2024-08-29T10:49:55.853705Z",
     "start_time": "2024-08-29T10:49:55.849048Z"
    }
   },
   "cell_type": "code",
   "source": "from pydantic import PlainSerializer",
   "id": "d4fdc66a6aabdca9",
   "outputs": [],
   "execution_count": 11
  },
  {
   "metadata": {
    "ExecuteTime": {
     "end_time": "2024-08-29T10:57:41.013074Z",
     "start_time": "2024-08-29T10:57:41.005862Z"
    }
   },
   "cell_type": "code",
   "source": [
    "DateTimeUTC = Annotated[\n",
    "    datetime,\n",
    "    BeforeValidator(parse_datetime),\n",
    "    AfterValidator(make_utc),\n",
    "    PlainSerializer(\n",
    "        dt_json_serialize, \n",
    "        when_used='json-unless-none'\n",
    "    )\n",
    "]"
   ],
   "id": "5f1e850802b8c27b",
   "outputs": [],
   "execution_count": 63
  },
  {
   "metadata": {
    "ExecuteTime": {
     "end_time": "2024-08-29T10:57:46.179263Z",
     "start_time": "2024-08-29T10:57:46.174988Z"
    }
   },
   "cell_type": "code",
   "source": [
    "class Model(BaseModel):\n",
    "    dt: DateTimeUTC"
   ],
   "id": "89098eac62dc30e4",
   "outputs": [],
   "execution_count": 65
  },
  {
   "metadata": {
    "ExecuteTime": {
     "end_time": "2024-08-29T10:57:55.048745Z",
     "start_time": "2024-08-29T10:57:55.044833Z"
    }
   },
   "cell_type": "code",
   "source": "m = Model(dt=\"2020/1/1\")",
   "id": "dffeaeb533035f6e",
   "outputs": [],
   "execution_count": 67
  },
  {
   "metadata": {
    "ExecuteTime": {
     "end_time": "2024-08-29T10:57:55.627219Z",
     "start_time": "2024-08-29T10:57:55.621393Z"
    }
   },
   "cell_type": "code",
   "source": "m.model_dump()",
   "id": "185bd3477fcc0ee7",
   "outputs": [
    {
     "data": {
      "text/plain": [
       "{'dt': datetime.datetime(2020, 1, 1, 0, 0, tzinfo=<UTC>)}"
      ]
     },
     "execution_count": 68,
     "metadata": {},
     "output_type": "execute_result"
    }
   ],
   "execution_count": 68
  },
  {
   "metadata": {
    "ExecuteTime": {
     "end_time": "2024-08-29T10:57:56.195042Z",
     "start_time": "2024-08-29T10:57:56.187504Z"
    }
   },
   "cell_type": "code",
   "source": "m.model_dump_json()",
   "id": "4503dbecad3fea4b",
   "outputs": [
    {
     "name": "stdout",
     "output_type": "stream",
     "text": [
      "serialized\n"
     ]
    },
    {
     "data": {
      "text/plain": [
       "'{\"dt\":\"2020/01/01 12:00 AM (UTC)\"}'"
      ]
     },
     "execution_count": 69,
     "metadata": {},
     "output_type": "execute_result"
    }
   ],
   "execution_count": 69
  },
  {
   "metadata": {},
   "cell_type": "code",
   "outputs": [],
   "execution_count": null,
   "source": "",
   "id": "754c7e4caf03030a"
  }
 ],
 "metadata": {
  "kernelspec": {
   "display_name": "Python 3",
   "language": "python",
   "name": "python3"
  },
  "language_info": {
   "codemirror_mode": {
    "name": "ipython",
    "version": 2
   },
   "file_extension": ".py",
   "mimetype": "text/x-python",
   "name": "python",
   "nbconvert_exporter": "python",
   "pygments_lexer": "ipython2",
   "version": "2.7.6"
  }
 },
 "nbformat": 4,
 "nbformat_minor": 5
}
