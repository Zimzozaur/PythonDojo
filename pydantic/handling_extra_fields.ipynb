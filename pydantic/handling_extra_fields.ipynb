{
 "cells": [
  {
   "cell_type": "code",
   "id": "initial_id",
   "metadata": {
    "collapsed": true,
    "ExecuteTime": {
     "end_time": "2024-08-02T08:20:37.438196Z",
     "start_time": "2024-08-02T08:20:37.400105Z"
    }
   },
   "source": "from pydantic import BaseModel, ConfigDict, ValidationError",
   "outputs": [],
   "execution_count": 1
  },
  {
   "metadata": {
    "ExecuteTime": {
     "end_time": "2024-08-02T08:20:52.665028Z",
     "start_time": "2024-08-02T08:20:52.594176Z"
    }
   },
   "cell_type": "code",
   "source": [
    "class Model(BaseModel):\n",
    "    field_1: int"
   ],
   "id": "7b827252dd313a2a",
   "outputs": [],
   "execution_count": 2
  },
  {
   "metadata": {
    "ExecuteTime": {
     "end_time": "2024-08-02T08:21:11.232087Z",
     "start_time": "2024-08-02T08:21:11.228974Z"
    }
   },
   "cell_type": "code",
   "source": "m = Model(field_1=10, field_2=20)",
   "id": "ad4f4e0e735683c1",
   "outputs": [],
   "execution_count": 3
  },
  {
   "metadata": {
    "ExecuteTime": {
     "end_time": "2024-08-02T08:21:26.471745Z",
     "start_time": "2024-08-02T08:21:26.463572Z"
    }
   },
   "cell_type": "code",
   "source": "m",
   "id": "6d2d0862d5db11ae",
   "outputs": [
    {
     "data": {
      "text/plain": [
       "Model(field_1=10)"
      ]
     },
     "execution_count": 4,
     "metadata": {},
     "output_type": "execute_result"
    }
   ],
   "execution_count": 4
  },
  {
   "metadata": {
    "ExecuteTime": {
     "end_time": "2024-08-02T08:21:51.341968Z",
     "start_time": "2024-08-02T08:21:51.336714Z"
    }
   },
   "cell_type": "code",
   "source": "m.model_fields",
   "id": "b12480c94f260637",
   "outputs": [
    {
     "data": {
      "text/plain": [
       "{'field_1': FieldInfo(annotation=int, required=True)}"
      ]
     },
     "execution_count": 8,
     "metadata": {},
     "output_type": "execute_result"
    }
   ],
   "execution_count": 8
  },
  {
   "metadata": {
    "ExecuteTime": {
     "end_time": "2024-08-02T08:22:11.546502Z",
     "start_time": "2024-08-02T08:22:11.540704Z"
    }
   },
   "cell_type": "code",
   "source": "dict(m)",
   "id": "6dbf7f6fcd1db81",
   "outputs": [
    {
     "data": {
      "text/plain": [
       "{'field_1': 10}"
      ]
     },
     "execution_count": 9,
     "metadata": {},
     "output_type": "execute_result"
    }
   ],
   "execution_count": 9
  },
  {
   "metadata": {
    "ExecuteTime": {
     "end_time": "2024-08-02T08:22:34.781374Z",
     "start_time": "2024-08-02T08:22:34.777604Z"
    }
   },
   "cell_type": "code",
   "source": "type(m.model_extra)",
   "id": "2980d73b4eb1a6a9",
   "outputs": [
    {
     "data": {
      "text/plain": [
       "NoneType"
      ]
     },
     "execution_count": 11,
     "metadata": {},
     "output_type": "execute_result"
    }
   ],
   "execution_count": 11
  },
  {
   "metadata": {
    "ExecuteTime": {
     "end_time": "2024-08-02T08:26:43.865995Z",
     "start_time": "2024-08-02T08:26:43.862467Z"
    }
   },
   "cell_type": "code",
   "source": [
    "class Model(BaseModel):\n",
    "    model_config = ConfigDict(extra='ignore')\n",
    "    \n",
    "    field_1: int"
   ],
   "id": "eb16c90ce3ea8992",
   "outputs": [],
   "execution_count": 12
  },
  {
   "metadata": {
    "ExecuteTime": {
     "end_time": "2024-08-02T08:26:48.558676Z",
     "start_time": "2024-08-02T08:26:48.555343Z"
    }
   },
   "cell_type": "code",
   "source": "m = Model(field_1=10, field_2=20)",
   "id": "561436860f3585cf",
   "outputs": [],
   "execution_count": 13
  },
  {
   "metadata": {
    "ExecuteTime": {
     "end_time": "2024-08-02T08:27:08.158401Z",
     "start_time": "2024-08-02T08:27:08.153078Z"
    }
   },
   "cell_type": "code",
   "source": "m.__dict__, m.model_dump()",
   "id": "96520f7a12a3273b",
   "outputs": [
    {
     "data": {
      "text/plain": [
       "({'field_1': 10}, {'field_1': 10})"
      ]
     },
     "execution_count": 15,
     "metadata": {},
     "output_type": "execute_result"
    }
   ],
   "execution_count": 15
  },
  {
   "metadata": {
    "ExecuteTime": {
     "end_time": "2024-08-02T08:28:20.609338Z",
     "start_time": "2024-08-02T08:28:20.604879Z"
    }
   },
   "cell_type": "code",
   "source": [
    "class Model(BaseModel):\n",
    "    model_config = ConfigDict(extra='forbid')\n",
    "    \n",
    "    field_1: int"
   ],
   "id": "2b3c260901feef39",
   "outputs": [],
   "execution_count": 16
  },
  {
   "metadata": {
    "ExecuteTime": {
     "end_time": "2024-08-02T08:28:43.045339Z",
     "start_time": "2024-08-02T08:28:43.041213Z"
    }
   },
   "cell_type": "code",
   "source": [
    "try:\n",
    "    m = Model(field_1=10, field_2=20)\n",
    "except ValidationError as ex:\n",
    "    print(ex)"
   ],
   "id": "a48b39026febf4e",
   "outputs": [
    {
     "name": "stdout",
     "output_type": "stream",
     "text": [
      "1 validation error for Model\n",
      "field_2\n",
      "  Extra inputs are not permitted [type=extra_forbidden, input_value=20, input_type=int]\n",
      "    For further information visit https://errors.pydantic.dev/2.8/v/extra_forbidden\n"
     ]
    }
   ],
   "execution_count": 18
  },
  {
   "metadata": {
    "ExecuteTime": {
     "end_time": "2024-08-02T08:30:00.575285Z",
     "start_time": "2024-08-02T08:30:00.570661Z"
    }
   },
   "cell_type": "code",
   "source": [
    "class Model(BaseModel):\n",
    "    model_config = ConfigDict(extra='allow')\n",
    "    \n",
    "    field_1: int"
   ],
   "id": "35d140db25763c5a",
   "outputs": [],
   "execution_count": 20
  },
  {
   "metadata": {
    "ExecuteTime": {
     "end_time": "2024-08-02T08:30:03.905689Z",
     "start_time": "2024-08-02T08:30:03.902899Z"
    }
   },
   "cell_type": "code",
   "source": "m = Model(field_1=10, field_2=20)",
   "id": "9d0da79aa879d7a6",
   "outputs": [],
   "execution_count": 21
  },
  {
   "metadata": {
    "ExecuteTime": {
     "end_time": "2024-08-02T08:30:37.946284Z",
     "start_time": "2024-08-02T08:30:37.943106Z"
    }
   },
   "cell_type": "code",
   "source": "m, dict(m)",
   "id": "8d2c959375294c29",
   "outputs": [
    {
     "data": {
      "text/plain": [
       "(Model(field_1=10, field_2=20), {'field_1': 10, 'field_2': 20})"
      ]
     },
     "execution_count": 23,
     "metadata": {},
     "output_type": "execute_result"
    }
   ],
   "execution_count": 23
  },
  {
   "metadata": {
    "ExecuteTime": {
     "end_time": "2024-08-02T08:30:49.258515Z",
     "start_time": "2024-08-02T08:30:49.252766Z"
    }
   },
   "cell_type": "code",
   "source": "m.model_fields",
   "id": "5ebbaa383de5d5cc",
   "outputs": [
    {
     "data": {
      "text/plain": [
       "{'field_1': FieldInfo(annotation=int, required=True)}"
      ]
     },
     "execution_count": 24,
     "metadata": {},
     "output_type": "execute_result"
    }
   ],
   "execution_count": 24
  },
  {
   "metadata": {
    "ExecuteTime": {
     "end_time": "2024-08-02T08:34:57.721466Z",
     "start_time": "2024-08-02T08:34:57.717346Z"
    }
   },
   "cell_type": "code",
   "source": "Model.model_config, m.model_config",
   "id": "6dd95bf407db802e",
   "outputs": [
    {
     "data": {
      "text/plain": [
       "({'extra': 'allow'}, {'extra': 'allow'})"
      ]
     },
     "execution_count": 26,
     "metadata": {},
     "output_type": "execute_result"
    }
   ],
   "execution_count": 26
  },
  {
   "metadata": {
    "ExecuteTime": {
     "end_time": "2024-08-02T08:35:10.688325Z",
     "start_time": "2024-08-02T08:35:10.683806Z"
    }
   },
   "cell_type": "code",
   "source": "type(m.model_config)",
   "id": "d18124ee77484a8c",
   "outputs": [
    {
     "data": {
      "text/plain": [
       "dict"
      ]
     },
     "execution_count": 27,
     "metadata": {},
     "output_type": "execute_result"
    }
   ],
   "execution_count": 27
  },
  {
   "metadata": {
    "ExecuteTime": {
     "end_time": "2024-08-02T08:35:41.811537Z",
     "start_time": "2024-08-02T08:35:41.807547Z"
    }
   },
   "cell_type": "code",
   "source": [
    "class Model(BaseModel):\n",
    "    model_config = {'extra': 'allow'}\n",
    "    \n",
    "    field_1: int = 0"
   ],
   "id": "fb54ef181bf8df08",
   "outputs": [],
   "execution_count": 28
  },
  {
   "metadata": {
    "ExecuteTime": {
     "end_time": "2024-08-02T08:36:01.598598Z",
     "start_time": "2024-08-02T08:36:01.595189Z"
    }
   },
   "cell_type": "code",
   "source": "m = (Model(field_1=0, extra=10))",
   "id": "8a2aa75d723c47a0",
   "outputs": [],
   "execution_count": 30
  },
  {
   "metadata": {
    "ExecuteTime": {
     "end_time": "2024-08-02T08:36:07.207331Z",
     "start_time": "2024-08-02T08:36:07.202528Z"
    }
   },
   "cell_type": "code",
   "source": "m.model_dump()",
   "id": "4409c9f451fd33c7",
   "outputs": [
    {
     "data": {
      "text/plain": [
       "{'field_1': 0, 'extra': 10}"
      ]
     },
     "execution_count": 31,
     "metadata": {},
     "output_type": "execute_result"
    }
   ],
   "execution_count": 31
  },
  {
   "metadata": {},
   "cell_type": "code",
   "outputs": [],
   "execution_count": null,
   "source": "",
   "id": "fbb1245fc3522eaf"
  }
 ],
 "metadata": {
  "kernelspec": {
   "display_name": "Python 3",
   "language": "python",
   "name": "python3"
  },
  "language_info": {
   "codemirror_mode": {
    "name": "ipython",
    "version": 2
   },
   "file_extension": ".py",
   "mimetype": "text/x-python",
   "name": "python",
   "nbconvert_exporter": "python",
   "pygments_lexer": "ipython2",
   "version": "2.7.6"
  }
 },
 "nbformat": 4,
 "nbformat_minor": 5
}
