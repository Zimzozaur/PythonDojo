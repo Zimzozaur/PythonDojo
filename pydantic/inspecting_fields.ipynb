{
 "cells": [
  {
   "cell_type": "code",
   "id": "initial_id",
   "metadata": {
    "collapsed": true,
    "ExecuteTime": {
     "end_time": "2024-08-02T06:26:48.888466Z",
     "start_time": "2024-08-02T06:26:48.825318Z"
    }
   },
   "source": "from pydantic import BaseModel, ValidationError",
   "outputs": [],
   "execution_count": 1
  },
  {
   "metadata": {
    "ExecuteTime": {
     "end_time": "2024-08-02T06:27:40.568462Z",
     "start_time": "2024-08-02T06:27:40.563933Z"
    }
   },
   "cell_type": "code",
   "source": [
    "class Circle(BaseModel):\n",
    "    center_x: int = 0\n",
    "    center_y: int = 0\n",
    "    radius: int = 1\n",
    "    name: str | None = None"
   ],
   "id": "c02a31b6e7f03e1e",
   "outputs": [],
   "execution_count": 3
  },
  {
   "metadata": {
    "ExecuteTime": {
     "end_time": "2024-08-02T06:27:49.398047Z",
     "start_time": "2024-08-02T06:27:49.390027Z"
    }
   },
   "cell_type": "code",
   "source": "Circle.model_fields",
   "id": "3b30bb7620aefd72",
   "outputs": [
    {
     "data": {
      "text/plain": [
       "{'center_x': FieldInfo(annotation=int, required=False, default=0),\n",
       " 'center_y': FieldInfo(annotation=int, required=False, default=0),\n",
       " 'radius': FieldInfo(annotation=int, required=False, default=1),\n",
       " 'name': FieldInfo(annotation=Union[str, NoneType], required=False, default=None)}"
      ]
     },
     "execution_count": 4,
     "metadata": {},
     "output_type": "execute_result"
    }
   ],
   "execution_count": 4
  },
  {
   "metadata": {
    "ExecuteTime": {
     "end_time": "2024-08-02T06:28:25.065301Z",
     "start_time": "2024-08-02T06:28:25.056412Z"
    }
   },
   "cell_type": "code",
   "source": "help(type(Circle.model_fields['name']))",
   "id": "d788046f4e28e8a4",
   "outputs": [
    {
     "name": "stdout",
     "output_type": "stream",
     "text": [
      "Help on class FieldInfo in module pydantic.fields:\n",
      "\n",
      "class FieldInfo(pydantic._internal._repr.Representation)\n",
      " |  FieldInfo(**kwargs: 'Unpack[_FieldInfoInputs]') -> 'None'\n",
      " |\n",
      " |  This class holds information about a field.\n",
      " |\n",
      " |  `FieldInfo` is used for any field definition regardless of whether the [`Field()`][pydantic.fields.Field]\n",
      " |  function is explicitly used.\n",
      " |\n",
      " |  !!! warning\n",
      " |      You generally shouldn't be creating `FieldInfo` directly, you'll only need to use it when accessing\n",
      " |      [`BaseModel`][pydantic.main.BaseModel] `.model_fields` internals.\n",
      " |\n",
      " |  Attributes:\n",
      " |      annotation: The type annotation of the field.\n",
      " |      default: The default value of the field.\n",
      " |      default_factory: The factory function used to construct the default for the field.\n",
      " |      alias: The alias name of the field.\n",
      " |      alias_priority: The priority of the field's alias.\n",
      " |      validation_alias: The validation alias of the field.\n",
      " |      serialization_alias: The serialization alias of the field.\n",
      " |      title: The title of the field.\n",
      " |      field_title_generator: A callable that takes a field name and returns title for it.\n",
      " |      description: The description of the field.\n",
      " |      examples: List of examples of the field.\n",
      " |      exclude: Whether to exclude the field from the model serialization.\n",
      " |      discriminator: Field name or Discriminator for discriminating the type in a tagged union.\n",
      " |      deprecated: A deprecation message, an instance of `warnings.deprecated` or the `typing_extensions.deprecated` backport,\n",
      " |          or a boolean. If `True`, a default deprecation message will be emitted when accessing the field.\n",
      " |      json_schema_extra: A dict or callable to provide extra JSON schema properties.\n",
      " |      frozen: Whether the field is frozen.\n",
      " |      validate_default: Whether to validate the default value of the field.\n",
      " |      repr: Whether to include the field in representation of the model.\n",
      " |      init: Whether the field should be included in the constructor of the dataclass.\n",
      " |      init_var: Whether the field should _only_ be included in the constructor of the dataclass, and not stored.\n",
      " |      kw_only: Whether the field should be a keyword-only argument in the constructor of the dataclass.\n",
      " |      metadata: List of metadata constraints.\n",
      " |\n",
      " |  Method resolution order:\n",
      " |      FieldInfo\n",
      " |      pydantic._internal._repr.Representation\n",
      " |      builtins.object\n",
      " |\n",
      " |  Methods defined here:\n",
      " |\n",
      " |  __init__(self, **kwargs: 'Unpack[_FieldInfoInputs]') -> 'None'\n",
      " |      This class should generally not be initialized directly; instead, use the `pydantic.fields.Field` function\n",
      " |      or one of the constructor classmethods.\n",
      " |\n",
      " |      See the signature of `pydantic.fields.Field` for more details about the expected arguments.\n",
      " |\n",
      " |  __repr_args__(self) -> 'ReprArgs'\n",
      " |      Returns the attributes to show in __str__, __repr__, and __pretty__ this is generally overridden.\n",
      " |\n",
      " |      Can either return:\n",
      " |      * name - value pairs, e.g.: `[('foo_name', 'foo'), ('bar_name', ['b', 'a', 'r'])]`\n",
      " |      * or, just values, e.g.: `[(None, 'foo'), (None, ['b', 'a', 'r'])]`\n",
      " |\n",
      " |  apply_typevars_map(self, typevars_map: 'dict[Any, Any] | None', types_namespace: 'dict[str, Any] | None') -> 'None'\n",
      " |      Apply a `typevars_map` to the annotation.\n",
      " |\n",
      " |      This method is used when analyzing parametrized generic types to replace typevars with their concrete types.\n",
      " |\n",
      " |      This method applies the `typevars_map` to the annotation in place.\n",
      " |\n",
      " |      Args:\n",
      " |          typevars_map: A dictionary mapping type variables to their concrete types.\n",
      " |          types_namespace (dict | None): A dictionary containing related types to the annotated type.\n",
      " |\n",
      " |      See Also:\n",
      " |          pydantic._internal._generics.replace_types is used for replacing the typevars with\n",
      " |              their concrete types.\n",
      " |\n",
      " |  get_default(self, *, call_default_factory: 'bool' = False) -> 'Any'\n",
      " |      Get the default value.\n",
      " |\n",
      " |      We expose an option for whether to call the default_factory (if present), as calling it may\n",
      " |      result in side effects that we want to avoid. However, there are times when it really should\n",
      " |      be called (namely, when instantiating a model via `model_construct`).\n",
      " |\n",
      " |      Args:\n",
      " |          call_default_factory: Whether to call the default_factory or not. Defaults to `False`.\n",
      " |\n",
      " |      Returns:\n",
      " |          The default value, calling the default factory if requested or `None` if not set.\n",
      " |\n",
      " |  is_required(self) -> 'bool'\n",
      " |      Check if the field is required (i.e., does not have a default value or factory).\n",
      " |\n",
      " |      Returns:\n",
      " |          `True` if the field is required, `False` otherwise.\n",
      " |\n",
      " |  rebuild_annotation(self) -> 'Any'\n",
      " |      Attempts to rebuild the original annotation for use in function signatures.\n",
      " |\n",
      " |      If metadata is present, it adds it to the original annotation using\n",
      " |      `Annotated`. Otherwise, it returns the original annotation as-is.\n",
      " |\n",
      " |      Note that because the metadata has been flattened, the original annotation\n",
      " |      may not be reconstructed exactly as originally provided, e.g. if the original\n",
      " |      type had unrecognized annotations, or was annotated with a call to `pydantic.Field`.\n",
      " |\n",
      " |      Returns:\n",
      " |          The rebuilt annotation.\n",
      " |\n",
      " |  ----------------------------------------------------------------------\n",
      " |  Static methods defined here:\n",
      " |\n",
      " |  from_annotated_attribute(annotation: 'type[Any]', default: 'Any') -> 'FieldInfo'\n",
      " |      Create `FieldInfo` from an annotation with a default value.\n",
      " |\n",
      " |      This is used in cases like the following:\n",
      " |\n",
      " |      ```python\n",
      " |      import annotated_types\n",
      " |      from typing_extensions import Annotated\n",
      " |\n",
      " |      import pydantic\n",
      " |\n",
      " |      class MyModel(pydantic.BaseModel):\n",
      " |          foo: int = 4  # <-- like this\n",
      " |          bar: Annotated[int, annotated_types.Gt(4)] = 4  # <-- or this\n",
      " |          spam: Annotated[int, pydantic.Field(gt=4)] = 4  # <-- or this\n",
      " |      ```\n",
      " |\n",
      " |      Args:\n",
      " |          annotation: The type annotation of the field.\n",
      " |          default: The default value of the field.\n",
      " |\n",
      " |      Returns:\n",
      " |          A field object with the passed values.\n",
      " |\n",
      " |  from_annotation(annotation: 'type[Any]') -> 'FieldInfo'\n",
      " |      Creates a `FieldInfo` instance from a bare annotation.\n",
      " |\n",
      " |      This function is used internally to create a `FieldInfo` from a bare annotation like this:\n",
      " |\n",
      " |      ```python\n",
      " |      import pydantic\n",
      " |\n",
      " |      class MyModel(pydantic.BaseModel):\n",
      " |          foo: int  # <-- like this\n",
      " |      ```\n",
      " |\n",
      " |      We also account for the case where the annotation can be an instance of `Annotated` and where\n",
      " |      one of the (not first) arguments in `Annotated` is an instance of `FieldInfo`, e.g.:\n",
      " |\n",
      " |      ```python\n",
      " |      import annotated_types\n",
      " |      from typing_extensions import Annotated\n",
      " |\n",
      " |      import pydantic\n",
      " |\n",
      " |      class MyModel(pydantic.BaseModel):\n",
      " |          foo: Annotated[int, annotated_types.Gt(42)]\n",
      " |          bar: Annotated[int, pydantic.Field(gt=42)]\n",
      " |      ```\n",
      " |\n",
      " |      Args:\n",
      " |          annotation: An annotation object.\n",
      " |\n",
      " |      Returns:\n",
      " |          An instance of the field metadata.\n",
      " |\n",
      " |  from_field(default: 'Any' = PydanticUndefined, **kwargs: 'Unpack[_FromFieldInfoInputs]') -> 'FieldInfo'\n",
      " |      Create a new `FieldInfo` object with the `Field` function.\n",
      " |\n",
      " |      Args:\n",
      " |          default: The default value for the field. Defaults to Undefined.\n",
      " |          **kwargs: Additional arguments dictionary.\n",
      " |\n",
      " |      Raises:\n",
      " |          TypeError: If 'annotation' is passed as a keyword argument.\n",
      " |\n",
      " |      Returns:\n",
      " |          A new FieldInfo object with the given parameters.\n",
      " |\n",
      " |      Example:\n",
      " |          This is how you can create a field with default value like this:\n",
      " |\n",
      " |          ```python\n",
      " |          import pydantic\n",
      " |\n",
      " |          class MyModel(pydantic.BaseModel):\n",
      " |              foo: int = pydantic.Field(4)\n",
      " |          ```\n",
      " |\n",
      " |  merge_field_infos(*field_infos: 'FieldInfo', **overrides: 'Any') -> 'FieldInfo'\n",
      " |      Merge `FieldInfo` instances keeping only explicitly set attributes.\n",
      " |\n",
      " |      Later `FieldInfo` instances override earlier ones.\n",
      " |\n",
      " |      Returns:\n",
      " |          FieldInfo: A merged FieldInfo instance.\n",
      " |\n",
      " |  ----------------------------------------------------------------------\n",
      " |  Readonly properties defined here:\n",
      " |\n",
      " |  deprecation_message\n",
      " |      The deprecation message to be emitted, or `None` if not set.\n",
      " |\n",
      " |  ----------------------------------------------------------------------\n",
      " |  Data descriptors defined here:\n",
      " |\n",
      " |  alias\n",
      " |\n",
      " |  alias_priority\n",
      " |\n",
      " |  annotation\n",
      " |\n",
      " |  default\n",
      " |\n",
      " |  default_factory\n",
      " |\n",
      " |  deprecated\n",
      " |\n",
      " |  description\n",
      " |\n",
      " |  discriminator\n",
      " |\n",
      " |  examples\n",
      " |\n",
      " |  exclude\n",
      " |\n",
      " |  field_title_generator\n",
      " |\n",
      " |  frozen\n",
      " |\n",
      " |  init\n",
      " |\n",
      " |  init_var\n",
      " |\n",
      " |  json_schema_extra\n",
      " |\n",
      " |  kw_only\n",
      " |\n",
      " |  metadata\n",
      " |\n",
      " |  repr\n",
      " |\n",
      " |  serialization_alias\n",
      " |\n",
      " |  title\n",
      " |\n",
      " |  validate_default\n",
      " |\n",
      " |  validation_alias\n",
      " |\n",
      " |  ----------------------------------------------------------------------\n",
      " |  Data and other attributes defined here:\n",
      " |\n",
      " |  __annotations__ = {'alias': 'str | None', 'alias_priority': 'int | Non...\n",
      " |\n",
      " |  metadata_lookup = {'allow_inf_nan': None, 'coerce_numbers_to_str': Non...\n",
      " |\n",
      " |  ----------------------------------------------------------------------\n",
      " |  Methods inherited from pydantic._internal._repr.Representation:\n",
      " |\n",
      " |  __pretty__(self, fmt: 'typing.Callable[[Any], Any]', **kwargs: 'Any') -> 'typing.Generator[Any, None, None]'\n",
      " |      Used by devtools (https://python-devtools.helpmanual.io/) to pretty print objects.\n",
      " |\n",
      " |  __repr__(self) -> 'str'\n",
      " |      Return repr(self).\n",
      " |\n",
      " |  __repr_name__(self) -> 'str'\n",
      " |      Name of the instance's class, used in __repr__.\n",
      " |\n",
      " |  __repr_str__(self, join_str: 'str') -> 'str'\n",
      " |\n",
      " |  __rich_repr__(self) -> 'RichReprResult'\n",
      " |      Used by Rich (https://rich.readthedocs.io/en/stable/pretty.html) to pretty print objects.\n",
      " |\n",
      " |  __str__(self) -> 'str'\n",
      " |      Return str(self).\n",
      "\n"
     ]
    }
   ],
   "execution_count": 7
  },
  {
   "metadata": {
    "ExecuteTime": {
     "end_time": "2024-08-02T06:33:30.243756Z",
     "start_time": "2024-08-02T06:33:30.240147Z"
    }
   },
   "cell_type": "code",
   "source": [
    "c1 = Circle(radius=2)\n",
    "c2 = Circle(name='unit circle')\n",
    "c3 = Circle(radius=1, name='test')"
   ],
   "id": "c12b82029b0ef1e0",
   "outputs": [],
   "execution_count": 18
  },
  {
   "metadata": {
    "ExecuteTime": {
     "end_time": "2024-08-02T06:31:07.993552Z",
     "start_time": "2024-08-02T06:31:07.989422Z"
    }
   },
   "cell_type": "code",
   "source": "c1",
   "id": "94ef961daf194ecf",
   "outputs": [
    {
     "data": {
      "text/plain": [
       "Circle(center_x=0, center_y=0, radius=2, name=None)"
      ]
     },
     "execution_count": 9,
     "metadata": {},
     "output_type": "execute_result"
    }
   ],
   "execution_count": 9
  },
  {
   "metadata": {
    "ExecuteTime": {
     "end_time": "2024-08-02T06:31:09.193638Z",
     "start_time": "2024-08-02T06:31:09.188375Z"
    }
   },
   "cell_type": "code",
   "source": "c2",
   "id": "2153a7f0bb9f14f8",
   "outputs": [
    {
     "data": {
      "text/plain": [
       "Circle(center_x=0, center_y=0, radius=1, name='unit circle')"
      ]
     },
     "execution_count": 10,
     "metadata": {},
     "output_type": "execute_result"
    }
   ],
   "execution_count": 10
  },
  {
   "metadata": {
    "ExecuteTime": {
     "end_time": "2024-08-02T06:31:43.590552Z",
     "start_time": "2024-08-02T06:31:43.584820Z"
    }
   },
   "cell_type": "code",
   "source": "c1.model_dump()",
   "id": "9a31fa6156a7ff74",
   "outputs": [
    {
     "data": {
      "text/plain": [
       "{'center_x': 0, 'center_y': 0, 'radius': 2, 'name': None}"
      ]
     },
     "execution_count": 11,
     "metadata": {},
     "output_type": "execute_result"
    }
   ],
   "execution_count": 11
  },
  {
   "metadata": {
    "ExecuteTime": {
     "end_time": "2024-08-02T06:32:26.676054Z",
     "start_time": "2024-08-02T06:32:26.672594Z"
    }
   },
   "cell_type": "code",
   "source": "isinstance(c1, Circle), isinstance(c1, BaseModel)",
   "id": "629e2fd4cac2dc09",
   "outputs": [
    {
     "data": {
      "text/plain": [
       "(True, True)"
      ]
     },
     "execution_count": 15,
     "metadata": {},
     "output_type": "execute_result"
    }
   ],
   "execution_count": 15
  },
  {
   "metadata": {
    "ExecuteTime": {
     "end_time": "2024-08-02T06:32:44.466271Z",
     "start_time": "2024-08-02T06:32:44.461541Z"
    }
   },
   "cell_type": "code",
   "source": "c1.model_fields_set  # which one was set",
   "id": "f76f9cbb6a517b06",
   "outputs": [
    {
     "data": {
      "text/plain": [
       "{'radius'}"
      ]
     },
     "execution_count": 16,
     "metadata": {},
     "output_type": "execute_result"
    }
   ],
   "execution_count": 16
  },
  {
   "metadata": {
    "ExecuteTime": {
     "end_time": "2024-08-02T06:32:57.772942Z",
     "start_time": "2024-08-02T06:32:57.768316Z"
    }
   },
   "cell_type": "code",
   "source": "c2.model_fields_set",
   "id": "d61a366627c58757",
   "outputs": [
    {
     "data": {
      "text/plain": [
       "{'name'}"
      ]
     },
     "execution_count": 17,
     "metadata": {},
     "output_type": "execute_result"
    }
   ],
   "execution_count": 17
  },
  {
   "metadata": {
    "ExecuteTime": {
     "end_time": "2024-08-02T06:33:34.503513Z",
     "start_time": "2024-08-02T06:33:34.498578Z"
    }
   },
   "cell_type": "code",
   "source": "c3.model_fields_set",
   "id": "a11baef30daf0f87",
   "outputs": [
    {
     "data": {
      "text/plain": [
       "{'name', 'radius'}"
      ]
     },
     "execution_count": 19,
     "metadata": {},
     "output_type": "execute_result"
    }
   ],
   "execution_count": 19
  },
  {
   "metadata": {
    "ExecuteTime": {
     "end_time": "2024-08-02T06:35:28.971921Z",
     "start_time": "2024-08-02T06:35:28.967896Z"
    }
   },
   "cell_type": "code",
   "source": "c1.model_fields.keys() - c1.model_fields_set",
   "id": "646cfd35e9ef87c7",
   "outputs": [
    {
     "data": {
      "text/plain": [
       "{'center_x', 'center_y', 'name'}"
      ]
     },
     "execution_count": 21,
     "metadata": {},
     "output_type": "execute_result"
    }
   ],
   "execution_count": 21
  },
  {
   "metadata": {
    "ExecuteTime": {
     "end_time": "2024-08-02T06:37:54.805586Z",
     "start_time": "2024-08-02T06:37:54.799686Z"
    }
   },
   "cell_type": "code",
   "source": [
    "class Model(BaseModel):\n",
    "    field_1: int = 1\n",
    "    field_2: int | None = None\n",
    "    field_3: str\n",
    "    field_4: str | None = 'Python'"
   ],
   "id": "26787abd085a88f5",
   "outputs": [],
   "execution_count": 22
  },
  {
   "metadata": {
    "ExecuteTime": {
     "end_time": "2024-08-02T06:39:50.144138Z",
     "start_time": "2024-08-02T06:39:50.140240Z"
    }
   },
   "cell_type": "code",
   "source": [
    "m1 = Model(field_3='m1')\n",
    "m2 = Model(field_1=1, field_2=None, field_3='m2', field_4='Python')\n",
    "m3 = Model(field_1=10, field_2=20, field_3='m3', field_4='Pydantic')"
   ],
   "id": "b7b87a977b4a4c03",
   "outputs": [],
   "execution_count": 23
  },
  {
   "metadata": {
    "ExecuteTime": {
     "end_time": "2024-08-02T06:57:28.009061Z",
     "start_time": "2024-08-02T06:57:28.003959Z"
    }
   },
   "cell_type": "code",
   "source": "m1.model_fields_set",
   "id": "48ef41b087fc0b50",
   "outputs": [
    {
     "data": {
      "text/plain": [
       "{'field_3'}"
      ]
     },
     "execution_count": 28,
     "metadata": {},
     "output_type": "execute_result"
    }
   ],
   "execution_count": 28
  },
  {
   "metadata": {
    "ExecuteTime": {
     "end_time": "2024-08-02T06:57:28.701131Z",
     "start_time": "2024-08-02T06:57:28.696417Z"
    }
   },
   "cell_type": "code",
   "source": "m1.model_dump(include=m1.model_fields_set) ",
   "id": "bff1e4608cebb48a",
   "outputs": [
    {
     "data": {
      "text/plain": [
       "{'field_3': 'm1'}"
      ]
     },
     "execution_count": 29,
     "metadata": {},
     "output_type": "execute_result"
    }
   ],
   "execution_count": 29
  },
  {
   "metadata": {
    "ExecuteTime": {
     "end_time": "2024-08-02T07:00:46.353987Z",
     "start_time": "2024-08-02T07:00:46.348720Z"
    }
   },
   "cell_type": "code",
   "source": "m2.model_dump(include=m2.model_fields_set) ",
   "id": "85419f0a91726d79",
   "outputs": [
    {
     "data": {
      "text/plain": [
       "{'field_1': 1, 'field_2': None, 'field_3': 'm2', 'field_4': 'Python'}"
      ]
     },
     "execution_count": 30,
     "metadata": {},
     "output_type": "execute_result"
    }
   ],
   "execution_count": 30
  },
  {
   "metadata": {
    "ExecuteTime": {
     "end_time": "2024-08-02T07:00:51.605033Z",
     "start_time": "2024-08-02T07:00:51.600430Z"
    }
   },
   "cell_type": "code",
   "source": "m3.model_dump(include=m3.model_fields_set) ",
   "id": "536be4f67be1deb1",
   "outputs": [
    {
     "data": {
      "text/plain": [
       "{'field_1': 10, 'field_2': 20, 'field_3': 'm3', 'field_4': 'Pydantic'}"
      ]
     },
     "execution_count": 31,
     "metadata": {},
     "output_type": "execute_result"
    }
   ],
   "execution_count": 31
  },
  {
   "metadata": {},
   "cell_type": "code",
   "outputs": [],
   "execution_count": null,
   "source": "",
   "id": "9e97728db6e651bc"
  }
 ],
 "metadata": {
  "kernelspec": {
   "display_name": "Python 3",
   "language": "python",
   "name": "python3"
  },
  "language_info": {
   "codemirror_mode": {
    "name": "ipython",
    "version": 2
   },
   "file_extension": ".py",
   "mimetype": "text/x-python",
   "name": "python",
   "nbconvert_exporter": "python",
   "pygments_lexer": "ipython2",
   "version": "2.7.6"
  }
 },
 "nbformat": 4,
 "nbformat_minor": 5
}
