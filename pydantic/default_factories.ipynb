{
 "cells": [
  {
   "cell_type": "code",
   "id": "initial_id",
   "metadata": {
    "collapsed": true,
    "ExecuteTime": {
     "end_time": "2024-08-26T09:59:42.803370Z",
     "start_time": "2024-08-26T09:59:42.800734Z"
    }
   },
   "source": [
    "def my_func(a=1, b=2):\n",
    "    pass"
   ],
   "outputs": [],
   "execution_count": 1
  },
  {
   "metadata": {
    "ExecuteTime": {
     "end_time": "2024-08-26T10:01:31.122471Z",
     "start_time": "2024-08-26T10:01:31.119092Z"
    }
   },
   "cell_type": "code",
   "source": "from datetime import datetime, UTC",
   "id": "53ecfe1bf841618f",
   "outputs": [],
   "execution_count": 2
  },
  {
   "metadata": {
    "ExecuteTime": {
     "end_time": "2024-08-26T10:03:15.235549Z",
     "start_time": "2024-08-26T10:03:15.231863Z"
    }
   },
   "cell_type": "code",
   "source": [
    "def log(text: str, dt: datetime = datetime.now(UTC)):\n",
    "    print(f\"{dt.isoformat()}: {text}\")"
   ],
   "id": "2a7e9e88c5435da2",
   "outputs": [],
   "execution_count": 7
  },
  {
   "metadata": {
    "ExecuteTime": {
     "end_time": "2024-08-26T10:03:15.557584Z",
     "start_time": "2024-08-26T10:03:15.553172Z"
    }
   },
   "cell_type": "code",
   "source": "log(\"line_1\", dt=datetime(2020, 1, 1))",
   "id": "6bcf39edac160a86",
   "outputs": [
    {
     "name": "stdout",
     "output_type": "stream",
     "text": [
      "2020-01-01T00:00:00: line_1\n"
     ]
    }
   ],
   "execution_count": 8
  },
  {
   "metadata": {
    "ExecuteTime": {
     "end_time": "2024-08-26T10:03:23.080574Z",
     "start_time": "2024-08-26T10:03:23.076791Z"
    }
   },
   "cell_type": "code",
   "source": "log('line_2')",
   "id": "d6a181dba4d75d59",
   "outputs": [
    {
     "name": "stdout",
     "output_type": "stream",
     "text": [
      "2024-08-26T10:03:15.233475+00:00: line_2\n"
     ]
    }
   ],
   "execution_count": 9
  },
  {
   "metadata": {
    "ExecuteTime": {
     "end_time": "2024-08-26T10:03:28.904979Z",
     "start_time": "2024-08-26T10:03:28.901206Z"
    }
   },
   "cell_type": "code",
   "source": "log('line_3')",
   "id": "a9d0d3daba0cfdfb",
   "outputs": [
    {
     "name": "stdout",
     "output_type": "stream",
     "text": [
      "2024-08-26T10:03:15.233475+00:00: line_3\n"
     ]
    }
   ],
   "execution_count": 10
  },
  {
   "metadata": {
    "ExecuteTime": {
     "end_time": "2024-08-26T10:04:34.525924Z",
     "start_time": "2024-08-26T10:04:34.500700Z"
    }
   },
   "cell_type": "code",
   "source": "from pydantic import BaseModel, Field",
   "id": "f8812805353d3529",
   "outputs": [],
   "execution_count": 12
  },
  {
   "metadata": {
    "ExecuteTime": {
     "end_time": "2024-08-26T10:04:47.332407Z",
     "start_time": "2024-08-26T10:04:47.273903Z"
    }
   },
   "cell_type": "code",
   "source": [
    "class Model(BaseModel):\n",
    "    elements: list[int] = []"
   ],
   "id": "ac37ea7da92bef0c",
   "outputs": [],
   "execution_count": 13
  },
  {
   "metadata": {
    "ExecuteTime": {
     "end_time": "2024-08-26T10:04:53.690059Z",
     "start_time": "2024-08-26T10:04:53.687316Z"
    }
   },
   "cell_type": "code",
   "source": "m  = Model()",
   "id": "5ec66daf99faf9a8",
   "outputs": [],
   "execution_count": 14
  },
  {
   "metadata": {
    "ExecuteTime": {
     "end_time": "2024-08-26T10:04:59.065352Z",
     "start_time": "2024-08-26T10:04:59.061942Z"
    }
   },
   "cell_type": "code",
   "source": "m.elements.append(1)",
   "id": "7359155f458d7d23",
   "outputs": [],
   "execution_count": 15
  },
  {
   "metadata": {
    "ExecuteTime": {
     "end_time": "2024-08-26T10:05:01.752663Z",
     "start_time": "2024-08-26T10:05:01.743314Z"
    }
   },
   "cell_type": "code",
   "source": "m.elements",
   "id": "7150fc3d81eeb849",
   "outputs": [
    {
     "data": {
      "text/plain": [
       "[1]"
      ]
     },
     "execution_count": 16,
     "metadata": {},
     "output_type": "execute_result"
    }
   ],
   "execution_count": 16
  },
  {
   "metadata": {
    "ExecuteTime": {
     "end_time": "2024-08-26T10:05:08.234302Z",
     "start_time": "2024-08-26T10:05:08.232052Z"
    }
   },
   "cell_type": "code",
   "source": "m2 = Model()",
   "id": "43828d71ef4eaf99",
   "outputs": [],
   "execution_count": 17
  },
  {
   "metadata": {
    "ExecuteTime": {
     "end_time": "2024-08-26T10:05:11.832393Z",
     "start_time": "2024-08-26T10:05:11.828561Z"
    }
   },
   "cell_type": "code",
   "source": "m2.elements",
   "id": "20549316de00f902",
   "outputs": [
    {
     "data": {
      "text/plain": [
       "[]"
      ]
     },
     "execution_count": 18,
     "metadata": {},
     "output_type": "execute_result"
    }
   ],
   "execution_count": 18
  },
  {
   "metadata": {
    "ExecuteTime": {
     "end_time": "2024-08-26T10:06:20.827490Z",
     "start_time": "2024-08-26T10:06:20.824548Z"
    }
   },
   "cell_type": "code",
   "source": "from dataclasses import dataclass",
   "id": "88118b52fafb0bd9",
   "outputs": [],
   "execution_count": 19
  },
  {
   "metadata": {
    "ExecuteTime": {
     "end_time": "2024-08-26T10:06:47.343913Z",
     "start_time": "2024-08-26T10:06:47.205375Z"
    }
   },
   "cell_type": "code",
   "source": [
    "@dataclass\n",
    "class Model:\n",
    "    elements: list[int] = []"
   ],
   "id": "3e492be30d415996",
   "outputs": [
    {
     "ename": "ValueError",
     "evalue": "mutable default <class 'list'> for field elements is not allowed: use default_factory",
     "output_type": "error",
     "traceback": [
      "\u001B[0;31m---------------------------------------------------------------------------\u001B[0m",
      "\u001B[0;31mValueError\u001B[0m                                Traceback (most recent call last)",
      "Cell \u001B[0;32mIn[20], line 1\u001B[0m\n\u001B[0;32m----> 1\u001B[0m \u001B[38;5;129;43m@dataclass\u001B[39;49m\n\u001B[1;32m      2\u001B[0m \u001B[38;5;28;43;01mclass\u001B[39;49;00m\u001B[43m \u001B[49m\u001B[38;5;21;43;01mModel\u001B[39;49;00m\u001B[43m:\u001B[49m\n\u001B[1;32m      3\u001B[0m \u001B[43m    \u001B[49m\u001B[43melements\u001B[49m\u001B[43m:\u001B[49m\u001B[43m \u001B[49m\u001B[38;5;28;43mlist\u001B[39;49m\u001B[43m[\u001B[49m\u001B[38;5;28;43mint\u001B[39;49m\u001B[43m]\u001B[49m\u001B[43m \u001B[49m\u001B[38;5;241;43m=\u001B[39;49m\u001B[43m \u001B[49m\u001B[43m[\u001B[49m\u001B[43m]\u001B[49m\n",
      "File \u001B[0;32m/usr/lib/python3.12/dataclasses.py:1275\u001B[0m, in \u001B[0;36mdataclass\u001B[0;34m(cls, init, repr, eq, order, unsafe_hash, frozen, match_args, kw_only, slots, weakref_slot)\u001B[0m\n\u001B[1;32m   1272\u001B[0m     \u001B[38;5;28;01mreturn\u001B[39;00m wrap\n\u001B[1;32m   1274\u001B[0m \u001B[38;5;66;03m# We're called as @dataclass without parens.\u001B[39;00m\n\u001B[0;32m-> 1275\u001B[0m \u001B[38;5;28;01mreturn\u001B[39;00m \u001B[43mwrap\u001B[49m\u001B[43m(\u001B[49m\u001B[38;5;28;43mcls\u001B[39;49m\u001B[43m)\u001B[49m\n",
      "File \u001B[0;32m/usr/lib/python3.12/dataclasses.py:1265\u001B[0m, in \u001B[0;36mdataclass.<locals>.wrap\u001B[0;34m(cls)\u001B[0m\n\u001B[1;32m   1264\u001B[0m \u001B[38;5;28;01mdef\u001B[39;00m \u001B[38;5;21mwrap\u001B[39m(\u001B[38;5;28mcls\u001B[39m):\n\u001B[0;32m-> 1265\u001B[0m     \u001B[38;5;28;01mreturn\u001B[39;00m \u001B[43m_process_class\u001B[49m\u001B[43m(\u001B[49m\u001B[38;5;28;43mcls\u001B[39;49m\u001B[43m,\u001B[49m\u001B[43m \u001B[49m\u001B[43minit\u001B[49m\u001B[43m,\u001B[49m\u001B[43m \u001B[49m\u001B[38;5;28;43mrepr\u001B[39;49m\u001B[43m,\u001B[49m\u001B[43m \u001B[49m\u001B[43meq\u001B[49m\u001B[43m,\u001B[49m\u001B[43m \u001B[49m\u001B[43morder\u001B[49m\u001B[43m,\u001B[49m\u001B[43m \u001B[49m\u001B[43munsafe_hash\u001B[49m\u001B[43m,\u001B[49m\n\u001B[1;32m   1266\u001B[0m \u001B[43m                          \u001B[49m\u001B[43mfrozen\u001B[49m\u001B[43m,\u001B[49m\u001B[43m \u001B[49m\u001B[43mmatch_args\u001B[49m\u001B[43m,\u001B[49m\u001B[43m \u001B[49m\u001B[43mkw_only\u001B[49m\u001B[43m,\u001B[49m\u001B[43m \u001B[49m\u001B[43mslots\u001B[49m\u001B[43m,\u001B[49m\n\u001B[1;32m   1267\u001B[0m \u001B[43m                          \u001B[49m\u001B[43mweakref_slot\u001B[49m\u001B[43m)\u001B[49m\n",
      "File \u001B[0;32m/usr/lib/python3.12/dataclasses.py:994\u001B[0m, in \u001B[0;36m_process_class\u001B[0;34m(cls, init, repr, eq, order, unsafe_hash, frozen, match_args, kw_only, slots, weakref_slot)\u001B[0m\n\u001B[1;32m    991\u001B[0m         kw_only \u001B[38;5;241m=\u001B[39m \u001B[38;5;28;01mTrue\u001B[39;00m\n\u001B[1;32m    992\u001B[0m     \u001B[38;5;28;01melse\u001B[39;00m:\n\u001B[1;32m    993\u001B[0m         \u001B[38;5;66;03m# Otherwise it's a field of some type.\u001B[39;00m\n\u001B[0;32m--> 994\u001B[0m         cls_fields\u001B[38;5;241m.\u001B[39mappend(\u001B[43m_get_field\u001B[49m\u001B[43m(\u001B[49m\u001B[38;5;28;43mcls\u001B[39;49m\u001B[43m,\u001B[49m\u001B[43m \u001B[49m\u001B[43mname\u001B[49m\u001B[43m,\u001B[49m\u001B[43m \u001B[49m\u001B[38;5;28;43mtype\u001B[39;49m\u001B[43m,\u001B[49m\u001B[43m \u001B[49m\u001B[43mkw_only\u001B[49m\u001B[43m)\u001B[49m)\n\u001B[1;32m    996\u001B[0m \u001B[38;5;28;01mfor\u001B[39;00m f \u001B[38;5;129;01min\u001B[39;00m cls_fields:\n\u001B[1;32m    997\u001B[0m     fields[f\u001B[38;5;241m.\u001B[39mname] \u001B[38;5;241m=\u001B[39m f\n",
      "File \u001B[0;32m/usr/lib/python3.12/dataclasses.py:852\u001B[0m, in \u001B[0;36m_get_field\u001B[0;34m(cls, a_name, a_type, default_kw_only)\u001B[0m\n\u001B[1;32m    848\u001B[0m \u001B[38;5;66;03m# For real fields, disallow mutable defaults.  Use unhashable as a proxy\u001B[39;00m\n\u001B[1;32m    849\u001B[0m \u001B[38;5;66;03m# indicator for mutability.  Read the __hash__ attribute from the class,\u001B[39;00m\n\u001B[1;32m    850\u001B[0m \u001B[38;5;66;03m# not the instance.\u001B[39;00m\n\u001B[1;32m    851\u001B[0m \u001B[38;5;28;01mif\u001B[39;00m f\u001B[38;5;241m.\u001B[39m_field_type \u001B[38;5;129;01mis\u001B[39;00m _FIELD \u001B[38;5;129;01mand\u001B[39;00m f\u001B[38;5;241m.\u001B[39mdefault\u001B[38;5;241m.\u001B[39m\u001B[38;5;18m__class__\u001B[39m\u001B[38;5;241m.\u001B[39m\u001B[38;5;21m__hash__\u001B[39m \u001B[38;5;129;01mis\u001B[39;00m \u001B[38;5;28;01mNone\u001B[39;00m:\n\u001B[0;32m--> 852\u001B[0m     \u001B[38;5;28;01mraise\u001B[39;00m \u001B[38;5;167;01mValueError\u001B[39;00m(\u001B[38;5;124mf\u001B[39m\u001B[38;5;124m'\u001B[39m\u001B[38;5;124mmutable default \u001B[39m\u001B[38;5;132;01m{\u001B[39;00m\u001B[38;5;28mtype\u001B[39m(f\u001B[38;5;241m.\u001B[39mdefault)\u001B[38;5;132;01m}\u001B[39;00m\u001B[38;5;124m for field \u001B[39m\u001B[38;5;124m'\u001B[39m\n\u001B[1;32m    853\u001B[0m                      \u001B[38;5;124mf\u001B[39m\u001B[38;5;124m'\u001B[39m\u001B[38;5;132;01m{\u001B[39;00mf\u001B[38;5;241m.\u001B[39mname\u001B[38;5;132;01m}\u001B[39;00m\u001B[38;5;124m is not allowed: use default_factory\u001B[39m\u001B[38;5;124m'\u001B[39m)\n\u001B[1;32m    855\u001B[0m \u001B[38;5;28;01mreturn\u001B[39;00m f\n",
      "\u001B[0;31mValueError\u001B[0m: mutable default <class 'list'> for field elements is not allowed: use default_factory"
     ]
    }
   ],
   "execution_count": 20
  },
  {
   "metadata": {
    "ExecuteTime": {
     "end_time": "2024-08-26T10:08:10.253039Z",
     "start_time": "2024-08-26T10:08:10.247978Z"
    }
   },
   "cell_type": "code",
   "source": [
    "class Log(BaseModel):\n",
    "    dt: datetime = datetime.now(UTC)\n",
    "    message: str"
   ],
   "id": "36bfbdd133055916",
   "outputs": [],
   "execution_count": 22
  },
  {
   "metadata": {
    "ExecuteTime": {
     "end_time": "2024-08-26T10:08:29.059326Z",
     "start_time": "2024-08-26T10:08:29.054308Z"
    }
   },
   "cell_type": "code",
   "source": "Log(message=\"msg\")",
   "id": "30d3346d6f78ae78",
   "outputs": [
    {
     "data": {
      "text/plain": [
       "Log(dt=datetime.datetime(2024, 8, 26, 10, 8, 10, 249492, tzinfo=datetime.timezone.utc), message='msg')"
      ]
     },
     "execution_count": 24,
     "metadata": {},
     "output_type": "execute_result"
    }
   ],
   "execution_count": 24
  },
  {
   "metadata": {
    "ExecuteTime": {
     "end_time": "2024-08-26T10:08:35.848732Z",
     "start_time": "2024-08-26T10:08:35.843704Z"
    }
   },
   "cell_type": "code",
   "source": "Log(message=\"msg2\")",
   "id": "e52ce06092b7ce93",
   "outputs": [
    {
     "data": {
      "text/plain": [
       "Log(dt=datetime.datetime(2024, 8, 26, 10, 8, 10, 249492, tzinfo=datetime.timezone.utc), message='msg2')"
      ]
     },
     "execution_count": 25,
     "metadata": {},
     "output_type": "execute_result"
    }
   ],
   "execution_count": 25
  },
  {
   "metadata": {
    "ExecuteTime": {
     "end_time": "2024-08-26T10:09:38.837608Z",
     "start_time": "2024-08-26T10:09:38.832060Z"
    }
   },
   "cell_type": "code",
   "source": [
    "class Log(BaseModel):\n",
    "    dt: datetime = Field(default_factory=lambda: datetime.now(UTC))\n",
    "    message: str"
   ],
   "id": "f58dad507ce7c689",
   "outputs": [],
   "execution_count": 29
  },
  {
   "metadata": {
    "ExecuteTime": {
     "end_time": "2024-08-26T10:10:00.211134Z",
     "start_time": "2024-08-26T10:10:00.205196Z"
    }
   },
   "cell_type": "code",
   "source": "Log(message=\"msg\")",
   "id": "2b2fb90bf9dd7ec4",
   "outputs": [
    {
     "data": {
      "text/plain": [
       "Log(dt=datetime.datetime(2024, 8, 26, 10, 10, 0, 206750, tzinfo=datetime.timezone.utc), message='msg')"
      ]
     },
     "execution_count": 49,
     "metadata": {},
     "output_type": "execute_result"
    }
   ],
   "execution_count": 49
  },
  {
   "metadata": {
    "ExecuteTime": {
     "end_time": "2024-08-26T10:10:11.529091Z",
     "start_time": "2024-08-26T10:10:11.525491Z"
    }
   },
   "cell_type": "code",
   "source": "Log(message=\"msg2\")",
   "id": "c07e041ad718cfb8",
   "outputs": [
    {
     "data": {
      "text/plain": [
       "Log(dt=datetime.datetime(2024, 8, 26, 10, 10, 11, 526249, tzinfo=datetime.timezone.utc), message='msg2')"
      ]
     },
     "execution_count": 50,
     "metadata": {},
     "output_type": "execute_result"
    }
   ],
   "execution_count": 50
  },
  {
   "metadata": {},
   "cell_type": "code",
   "outputs": [],
   "execution_count": null,
   "source": "",
   "id": "2aef9259270335ff"
  }
 ],
 "metadata": {
  "kernelspec": {
   "display_name": "Python 3",
   "language": "python",
   "name": "python3"
  },
  "language_info": {
   "codemirror_mode": {
    "name": "ipython",
    "version": 2
   },
   "file_extension": ".py",
   "mimetype": "text/x-python",
   "name": "python",
   "nbconvert_exporter": "python",
   "pygments_lexer": "ipython2",
   "version": "2.7.6"
  }
 },
 "nbformat": 4,
 "nbformat_minor": 5
}
