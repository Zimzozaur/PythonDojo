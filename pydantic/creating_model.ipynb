{
 "cells": [
  {
   "cell_type": "code",
   "id": "initial_id",
   "metadata": {
    "collapsed": true,
    "ExecuteTime": {
     "end_time": "2024-08-01T10:29:32.091545Z",
     "start_time": "2024-08-01T10:29:32.041169Z"
    }
   },
   "source": "from pydantic import BaseModel",
   "outputs": [],
   "execution_count": 3
  },
  {
   "metadata": {
    "ExecuteTime": {
     "end_time": "2024-08-01T10:29:32.493042Z",
     "start_time": "2024-08-01T10:29:32.406023Z"
    }
   },
   "cell_type": "code",
   "source": [
    "class Person(BaseModel):\n",
    "    first_name: str\n",
    "    last_name: str\n",
    "    age: int"
   ],
   "id": "aaadef60cebaace8",
   "outputs": [],
   "execution_count": 4
  },
  {
   "metadata": {
    "ExecuteTime": {
     "end_time": "2024-08-01T10:29:32.894549Z",
     "start_time": "2024-08-01T10:29:32.891568Z"
    }
   },
   "cell_type": "code",
   "source": "p = Person(first_name='Marco', last_name='Polo', age=20)",
   "id": "d8d66ff0776c0293",
   "outputs": [],
   "execution_count": 5
  },
  {
   "metadata": {
    "ExecuteTime": {
     "end_time": "2024-08-01T10:29:46.015557Z",
     "start_time": "2024-08-01T10:29:46.009930Z"
    }
   },
   "cell_type": "code",
   "source": "str(p)",
   "id": "2a634f1aab21936a",
   "outputs": [
    {
     "data": {
      "text/plain": [
       "\"first_name='Marco' last_name='Polo' age=20\""
      ]
     },
     "execution_count": 6,
     "metadata": {},
     "output_type": "execute_result"
    }
   ],
   "execution_count": 6
  },
  {
   "metadata": {
    "ExecuteTime": {
     "end_time": "2024-08-01T10:29:57.434760Z",
     "start_time": "2024-08-01T10:29:57.429811Z"
    }
   },
   "cell_type": "code",
   "source": "repr(p)",
   "id": "89ffbc655dd5a01",
   "outputs": [
    {
     "data": {
      "text/plain": [
       "\"Person(first_name='Marco', last_name='Polo', age=20)\""
      ]
     },
     "execution_count": 7,
     "metadata": {},
     "output_type": "execute_result"
    }
   ],
   "execution_count": 7
  },
  {
   "metadata": {
    "ExecuteTime": {
     "end_time": "2024-08-01T10:30:12.412106Z",
     "start_time": "2024-08-01T10:30:12.407831Z"
    }
   },
   "cell_type": "code",
   "source": "p",
   "id": "36d81f22cda0e40a",
   "outputs": [
    {
     "data": {
      "text/plain": [
       "Person(first_name='Marco', last_name='Polo', age=20)"
      ]
     },
     "execution_count": 8,
     "metadata": {},
     "output_type": "execute_result"
    }
   ],
   "execution_count": 8
  },
  {
   "metadata": {
    "ExecuteTime": {
     "end_time": "2024-08-01T10:30:44.892314Z",
     "start_time": "2024-08-01T10:30:44.887155Z"
    }
   },
   "cell_type": "code",
   "source": "p.model_fields",
   "id": "33ee6849102c8c92",
   "outputs": [
    {
     "data": {
      "text/plain": [
       "{'first_name': FieldInfo(annotation=str, required=True),\n",
       " 'last_name': FieldInfo(annotation=str, required=True),\n",
       " 'age': FieldInfo(annotation=int, required=True)}"
      ]
     },
     "execution_count": 9,
     "metadata": {},
     "output_type": "execute_result"
    }
   ],
   "execution_count": 9
  },
  {
   "metadata": {
    "ExecuteTime": {
     "end_time": "2024-08-01T10:31:27.769495Z",
     "start_time": "2024-08-01T10:31:27.766241Z"
    }
   },
   "cell_type": "code",
   "source": "from pydantic import ValidationError",
   "id": "cf85301672191ced",
   "outputs": [],
   "execution_count": 10
  },
  {
   "metadata": {
    "ExecuteTime": {
     "end_time": "2024-08-01T10:32:06.807136Z",
     "start_time": "2024-08-01T10:32:06.802721Z"
    }
   },
   "cell_type": "code",
   "source": [
    "try:\n",
    "    Person(last_name='Galois')\n",
    "except ValidationError as ex:\n",
    "    print(ex)"
   ],
   "id": "e3ffbecb2f30a3be",
   "outputs": [
    {
     "name": "stdout",
     "output_type": "stream",
     "text": [
      "2 validation errors for Person\n",
      "first_name\n",
      "  Field required [type=missing, input_value={'last_name': 'Galois'}, input_type=dict]\n",
      "    For further information visit https://errors.pydantic.dev/2.8/v/missing\n",
      "age\n",
      "  Field required [type=missing, input_value={'last_name': 'Galois'}, input_type=dict]\n",
      "    For further information visit https://errors.pydantic.dev/2.8/v/missing\n"
     ]
    }
   ],
   "execution_count": 11
  },
  {
   "metadata": {
    "ExecuteTime": {
     "end_time": "2024-08-01T10:34:49.131891Z",
     "start_time": "2024-08-01T10:34:49.126716Z"
    }
   },
   "cell_type": "code",
   "source": [
    "class Person(BaseModel):\n",
    "    first_name: str\n",
    "    last_name: str\n",
    "    age: int\n",
    "    \n",
    "    @property\n",
    "    def display_name(self):\n",
    "        return f'{self.first_name} {self.last_name}'"
   ],
   "id": "d9f026964c24b71e",
   "outputs": [],
   "execution_count": 12
  },
  {
   "metadata": {
    "ExecuteTime": {
     "end_time": "2024-08-01T10:35:21.297619Z",
     "start_time": "2024-08-01T10:35:21.294493Z"
    }
   },
   "cell_type": "code",
   "source": "p = Person(first_name='Marco', last_name='Polo', age=20)",
   "id": "bad59ead38854798",
   "outputs": [],
   "execution_count": 14
  },
  {
   "metadata": {
    "ExecuteTime": {
     "end_time": "2024-08-01T10:36:01.085692Z",
     "start_time": "2024-08-01T10:36:01.080385Z"
    }
   },
   "cell_type": "code",
   "source": "p.display_name, p.age",
   "id": "128e98a4d695521d",
   "outputs": [
    {
     "data": {
      "text/plain": [
       "('Marco Polo', 20)"
      ]
     },
     "execution_count": 16,
     "metadata": {},
     "output_type": "execute_result"
    }
   ],
   "execution_count": 16
  },
  {
   "metadata": {
    "ExecuteTime": {
     "end_time": "2024-08-01T10:36:05.991032Z",
     "start_time": "2024-08-01T10:36:05.987613Z"
    }
   },
   "cell_type": "code",
   "source": "p.age = 21",
   "id": "7b35a72004af9143",
   "outputs": [],
   "execution_count": 17
  },
  {
   "metadata": {
    "ExecuteTime": {
     "end_time": "2024-08-01T10:36:09.135333Z",
     "start_time": "2024-08-01T10:36:09.131581Z"
    }
   },
   "cell_type": "code",
   "source": "p",
   "id": "a2c58e7729524c56",
   "outputs": [
    {
     "data": {
      "text/plain": [
       "Person(first_name='Marco', last_name='Polo', age=21)"
      ]
     },
     "execution_count": 18,
     "metadata": {},
     "output_type": "execute_result"
    }
   ],
   "execution_count": 18
  },
  {
   "metadata": {
    "ExecuteTime": {
     "end_time": "2024-08-01T10:37:11.611131Z",
     "start_time": "2024-08-01T10:37:11.606981Z"
    }
   },
   "cell_type": "code",
   "source": [
    "try:\n",
    "    Person(first_name='Marco', last_name='Polo', age='twenty')\n",
    "except ValidationError as ex:\n",
    "    print(ex)"
   ],
   "id": "4babbde6c152fed3",
   "outputs": [
    {
     "name": "stdout",
     "output_type": "stream",
     "text": [
      "1 validation error for Person\n",
      "age\n",
      "  Input should be a valid integer, unable to parse string as an integer [type=int_parsing, input_value='twenty', input_type=str]\n",
      "    For further information visit https://errors.pydantic.dev/2.8/v/int_parsing\n"
     ]
    }
   ],
   "execution_count": 19
  },
  {
   "metadata": {
    "ExecuteTime": {
     "end_time": "2024-08-01T10:37:56.793577Z",
     "start_time": "2024-08-01T10:37:56.787961Z"
    }
   },
   "cell_type": "code",
   "source": "p",
   "id": "26438dec6de7c01a",
   "outputs": [
    {
     "data": {
      "text/plain": [
       "Person(first_name='Marco', last_name='Polo', age=21)"
      ]
     },
     "execution_count": 20,
     "metadata": {},
     "output_type": "execute_result"
    }
   ],
   "execution_count": 20
  },
  {
   "metadata": {
    "ExecuteTime": {
     "end_time": "2024-08-01T10:38:01.905657Z",
     "start_time": "2024-08-01T10:38:01.902130Z"
    }
   },
   "cell_type": "code",
   "source": "p.age = 'twenty'",
   "id": "b53b6ee55631ec5",
   "outputs": [],
   "execution_count": 21
  },
  {
   "metadata": {
    "ExecuteTime": {
     "end_time": "2024-08-01T10:38:03.887113Z",
     "start_time": "2024-08-01T10:38:03.883573Z"
    }
   },
   "cell_type": "code",
   "source": "p",
   "id": "4798d4fa46f0b9a9",
   "outputs": [
    {
     "data": {
      "text/plain": [
       "Person(first_name='Marco', last_name='Polo', age='twenty')"
      ]
     },
     "execution_count": 22,
     "metadata": {},
     "output_type": "execute_result"
    }
   ],
   "execution_count": 22
  },
  {
   "metadata": {},
   "cell_type": "code",
   "outputs": [],
   "execution_count": null,
   "source": "",
   "id": "1cada9792d9622f1"
  }
 ],
 "metadata": {
  "kernelspec": {
   "display_name": "Python 3",
   "language": "python",
   "name": "python3"
  },
  "language_info": {
   "codemirror_mode": {
    "name": "ipython",
    "version": 2
   },
   "file_extension": ".py",
   "mimetype": "text/x-python",
   "name": "python",
   "nbconvert_exporter": "python",
   "pygments_lexer": "ipython2",
   "version": "2.7.6"
  }
 },
 "nbformat": 4,
 "nbformat_minor": 5
}
