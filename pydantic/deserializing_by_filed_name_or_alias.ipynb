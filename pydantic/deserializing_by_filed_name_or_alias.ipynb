{
 "cells": [
  {
   "cell_type": "code",
   "id": "initial_id",
   "metadata": {
    "collapsed": true,
    "ExecuteTime": {
     "end_time": "2024-08-12T09:48:49.682358Z",
     "start_time": "2024-08-12T09:48:49.632383Z"
    }
   },
   "source": "from pydantic import BaseModel, ConfigDict, Field, ValidationError",
   "outputs": [],
   "execution_count": 1
  },
  {
   "metadata": {
    "ExecuteTime": {
     "end_time": "2024-08-12T09:49:31.978615Z",
     "start_time": "2024-08-12T09:49:31.925394Z"
    }
   },
   "cell_type": "code",
   "source": [
    "class Model(BaseModel):\n",
    "    id_: int = Field(alias='id')\n",
    "    first_name: str = Field(alias='firstName')"
   ],
   "id": "277ced1de5317044",
   "outputs": [],
   "execution_count": 2
  },
  {
   "metadata": {
    "ExecuteTime": {
     "end_time": "2024-08-12T09:50:05.210110Z",
     "start_time": "2024-08-12T09:50:05.205306Z"
    }
   },
   "cell_type": "code",
   "source": [
    "try:\n",
    "    Model(id_=10, first_name='Newton')\n",
    "except ValidationError as ex:\n",
    "    print(ex)"
   ],
   "id": "d4c18beee74d293d",
   "outputs": [
    {
     "name": "stdout",
     "output_type": "stream",
     "text": [
      "2 validation errors for Model\n",
      "id\n",
      "  Field required [type=missing, input_value={'id_': 10, 'first_name': 'Newton'}, input_type=dict]\n",
      "    For further information visit https://errors.pydantic.dev/2.8/v/missing\n",
      "firstName\n",
      "  Field required [type=missing, input_value={'id_': 10, 'first_name': 'Newton'}, input_type=dict]\n",
      "    For further information visit https://errors.pydantic.dev/2.8/v/missing\n"
     ]
    }
   ],
   "execution_count": 3
  },
  {
   "metadata": {
    "ExecuteTime": {
     "end_time": "2024-08-12T09:50:42.847872Z",
     "start_time": "2024-08-12T09:50:42.844782Z"
    }
   },
   "cell_type": "code",
   "source": [
    "data = {\n",
    "    \"id_\": 10,\n",
    "    \"first_name\": \"Newton\"\n",
    "}"
   ],
   "id": "a0ed6f2bdd8c0779",
   "outputs": [],
   "execution_count": 5
  },
  {
   "metadata": {
    "ExecuteTime": {
     "end_time": "2024-08-12T09:51:00.629490Z",
     "start_time": "2024-08-12T09:51:00.625253Z"
    }
   },
   "cell_type": "code",
   "source": [
    "try:\n",
    "    Model.model_validate(data)\n",
    "except ValidationError as ex:\n",
    "    print(ex)"
   ],
   "id": "c8474c1a8e9045fb",
   "outputs": [
    {
     "name": "stdout",
     "output_type": "stream",
     "text": [
      "2 validation errors for Model\n",
      "id\n",
      "  Field required [type=missing, input_value={'id_': 10, 'first_name': 'Newton'}, input_type=dict]\n",
      "    For further information visit https://errors.pydantic.dev/2.8/v/missing\n",
      "firstName\n",
      "  Field required [type=missing, input_value={'id_': 10, 'first_name': 'Newton'}, input_type=dict]\n",
      "    For further information visit https://errors.pydantic.dev/2.8/v/missing\n"
     ]
    }
   ],
   "execution_count": 6
  },
  {
   "metadata": {
    "ExecuteTime": {
     "end_time": "2024-08-12T09:51:35.225743Z",
     "start_time": "2024-08-12T09:51:35.220694Z"
    }
   },
   "cell_type": "code",
   "source": [
    "class Model(BaseModel):\n",
    "    model_config = ConfigDict(populate_by_name=True)\n",
    "\n",
    "    id_: int = Field(alias='id')\n",
    "    first_name: str = Field(alias='firstName')"
   ],
   "id": "c6a2035972f8760f",
   "outputs": [],
   "execution_count": 8
  },
  {
   "metadata": {
    "ExecuteTime": {
     "end_time": "2024-08-12T09:52:13.137490Z",
     "start_time": "2024-08-12T09:52:13.133329Z"
    }
   },
   "cell_type": "code",
   "source": [
    "m = Model.model_validate(data)\n",
    "m"
   ],
   "id": "f774821762f1f484",
   "outputs": [
    {
     "data": {
      "text/plain": [
       "Model(id_=10, first_name='Newton')"
      ]
     },
     "execution_count": 11,
     "metadata": {},
     "output_type": "execute_result"
    }
   ],
   "execution_count": 11
  },
  {
   "metadata": {
    "ExecuteTime": {
     "end_time": "2024-08-12T09:52:29.939162Z",
     "start_time": "2024-08-12T09:52:29.934141Z"
    }
   },
   "cell_type": "code",
   "source": "Model(id_=10, first_name='Newton')",
   "id": "d1f3e9a205f4fe90",
   "outputs": [
    {
     "data": {
      "text/plain": [
       "Model(id_=10, first_name='Newton')"
      ]
     },
     "execution_count": 12,
     "metadata": {},
     "output_type": "execute_result"
    }
   ],
   "execution_count": 12
  },
  {
   "metadata": {
    "ExecuteTime": {
     "end_time": "2024-08-12T09:52:44.948669Z",
     "start_time": "2024-08-12T09:52:44.943701Z"
    }
   },
   "cell_type": "code",
   "source": "Model(id_=10, firstName='Newton')",
   "id": "3e8fb8e77bdf6eba",
   "outputs": [
    {
     "data": {
      "text/plain": [
       "Model(id_=10, first_name='Newton')"
      ]
     },
     "execution_count": 13,
     "metadata": {},
     "output_type": "execute_result"
    }
   ],
   "execution_count": 13
  },
  {
   "metadata": {
    "ExecuteTime": {
     "end_time": "2024-08-12T09:53:14.166922Z",
     "start_time": "2024-08-12T09:53:14.163615Z"
    }
   },
   "cell_type": "code",
   "source": "from pydantic.alias_generators import to_camel",
   "id": "c7338855c7d0a8f5",
   "outputs": [],
   "execution_count": 14
  },
  {
   "metadata": {
    "ExecuteTime": {
     "end_time": "2024-08-12T09:55:01.580599Z",
     "start_time": "2024-08-12T09:55:01.574796Z"
    }
   },
   "cell_type": "code",
   "source": [
    "class Person(BaseModel):\n",
    "    model_config = ConfigDict(\n",
    "        alias_generator=to_camel,\n",
    "        populate_by_name=True,\n",
    "        extra='forbid',\n",
    "    )\n",
    "    \n",
    "    id_: int = Field(alias='id', default=1)\n",
    "    first_name: str | None = None\n",
    "    last_name: str\n",
    "    age: int | None = None"
   ],
   "id": "eed9bda3414cd6f5",
   "outputs": [],
   "execution_count": 15
  },
  {
   "metadata": {
    "ExecuteTime": {
     "end_time": "2024-08-12T09:55:29.173553Z",
     "start_time": "2024-08-12T09:55:29.170642Z"
    }
   },
   "cell_type": "code",
   "source": "p = Person(id_=10, first_name=\"Isaac\", lastName='Newton')",
   "id": "91a203ac77076fe5",
   "outputs": [],
   "execution_count": 16
  },
  {
   "metadata": {
    "ExecuteTime": {
     "end_time": "2024-08-12T09:57:04.632813Z",
     "start_time": "2024-08-12T09:57:04.627834Z"
    }
   },
   "cell_type": "code",
   "source": "p",
   "id": "f5470b9fc9dc9f04",
   "outputs": [
    {
     "data": {
      "text/plain": [
       "Person(id_=10, first_name='Isaac', last_name='Newton', age=None)"
      ]
     },
     "execution_count": 17,
     "metadata": {},
     "output_type": "execute_result"
    }
   ],
   "execution_count": 17
  },
  {
   "metadata": {
    "ExecuteTime": {
     "end_time": "2024-08-12T09:58:05.888087Z",
     "start_time": "2024-08-12T09:58:05.885209Z"
    }
   },
   "cell_type": "code",
   "source": [
    "data_json = \"\"\"\n",
    "{\n",
    "    \"id\": 10,\n",
    "    \"firstName\": \"Isaac\",\n",
    "    \"last_name\": \"Newton\",\n",
    "    \"age\": 84\n",
    "}\n",
    "\"\"\""
   ],
   "id": "b4cce6109de104cf",
   "outputs": [],
   "execution_count": 18
  },
  {
   "metadata": {
    "ExecuteTime": {
     "end_time": "2024-08-12T09:58:24.887673Z",
     "start_time": "2024-08-12T09:58:24.884607Z"
    }
   },
   "cell_type": "code",
   "source": "p = Person.model_validate_json(data_json)",
   "id": "dddb7e815034889f",
   "outputs": [],
   "execution_count": 19
  },
  {
   "metadata": {
    "ExecuteTime": {
     "end_time": "2024-08-12T09:58:26.469082Z",
     "start_time": "2024-08-12T09:58:26.464479Z"
    }
   },
   "cell_type": "code",
   "source": "p",
   "id": "1e5171c6e5103e5a",
   "outputs": [
    {
     "data": {
      "text/plain": [
       "Person(id_=10, first_name='Isaac', last_name='Newton', age=84)"
      ]
     },
     "execution_count": 20,
     "metadata": {},
     "output_type": "execute_result"
    }
   ],
   "execution_count": 20
  },
  {
   "metadata": {
    "ExecuteTime": {
     "end_time": "2024-08-12T09:59:09.812105Z",
     "start_time": "2024-08-12T09:59:09.807608Z"
    }
   },
   "cell_type": "code",
   "source": "p.id_, p.first_name",
   "id": "e3546d2efbb845af",
   "outputs": [
    {
     "data": {
      "text/plain": [
       "(10, 'Isaac')"
      ]
     },
     "execution_count": 22,
     "metadata": {},
     "output_type": "execute_result"
    }
   ],
   "execution_count": 22
  },
  {
   "metadata": {
    "ExecuteTime": {
     "end_time": "2024-08-12T09:59:15.727734Z",
     "start_time": "2024-08-12T09:59:15.723971Z"
    }
   },
   "cell_type": "code",
   "source": "p.model_dump()",
   "id": "789c1405ede4ffd9",
   "outputs": [
    {
     "data": {
      "text/plain": [
       "{'id_': 10, 'first_name': 'Isaac', 'last_name': 'Newton', 'age': 84}"
      ]
     },
     "execution_count": 23,
     "metadata": {},
     "output_type": "execute_result"
    }
   ],
   "execution_count": 23
  },
  {
   "metadata": {
    "ExecuteTime": {
     "end_time": "2024-08-12T09:59:24.708348Z",
     "start_time": "2024-08-12T09:59:24.702832Z"
    }
   },
   "cell_type": "code",
   "source": "p.model_dump(by_alias=True)",
   "id": "3f5cc8d48c5287a6",
   "outputs": [
    {
     "data": {
      "text/plain": [
       "{'id': 10, 'firstName': 'Isaac', 'lastName': 'Newton', 'age': 84}"
      ]
     },
     "execution_count": 24,
     "metadata": {},
     "output_type": "execute_result"
    }
   ],
   "execution_count": 24
  },
  {
   "metadata": {},
   "cell_type": "code",
   "outputs": [],
   "execution_count": null,
   "source": "",
   "id": "9d5633aeede03c2a"
  }
 ],
 "metadata": {
  "kernelspec": {
   "display_name": "Python 3",
   "language": "python",
   "name": "python3"
  },
  "language_info": {
   "codemirror_mode": {
    "name": "ipython",
    "version": 2
   },
   "file_extension": ".py",
   "mimetype": "text/x-python",
   "name": "python",
   "nbconvert_exporter": "python",
   "pygments_lexer": "ipython2",
   "version": "2.7.6"
  }
 },
 "nbformat": 4,
 "nbformat_minor": 5
}
