{
 "cells": [
  {
   "cell_type": "code",
   "id": "initial_id",
   "metadata": {
    "collapsed": true,
    "ExecuteTime": {
     "end_time": "2024-08-26T06:42:09.173822Z",
     "start_time": "2024-08-26T06:42:09.114485Z"
    }
   },
   "source": "from pydantic import BaseModel, PositiveInt, ValidationError",
   "outputs": [],
   "execution_count": 1
  },
  {
   "metadata": {
    "ExecuteTime": {
     "end_time": "2024-08-26T06:45:35.607983Z",
     "start_time": "2024-08-26T06:45:35.601790Z"
    }
   },
   "cell_type": "code",
   "source": [
    "class Circle(BaseModel):\n",
    "    center: tuple[int, int] = (0, 0)\n",
    "    radius: PositiveInt = 1\n",
    "    _circumference = None\n",
    "    \n",
    "    @property\n",
    "    def circumference(self):\n",
    "        if self._circumference is None:\n",
    "            self._circumference = self.radius * 3.14\n",
    "        return self._circumference"
   ],
   "id": "ce2e2e330615a1da",
   "outputs": [],
   "execution_count": 4
  },
  {
   "metadata": {
    "ExecuteTime": {
     "end_time": "2024-08-26T06:46:15.689103Z",
     "start_time": "2024-08-26T06:46:15.685468Z"
    }
   },
   "cell_type": "code",
   "source": "Circle(center=(0, 0), radius=1)",
   "id": "7dbc2c637fb20c38",
   "outputs": [
    {
     "data": {
      "text/plain": [
       "Circle(center=(0, 0), radius=1)"
      ]
     },
     "execution_count": 10,
     "metadata": {},
     "output_type": "execute_result"
    }
   ],
   "execution_count": 10
  },
  {
   "metadata": {
    "ExecuteTime": {
     "end_time": "2024-08-26T06:52:00.465223Z",
     "start_time": "2024-08-26T06:52:00.461312Z"
    }
   },
   "cell_type": "code",
   "source": [
    "try: \n",
    "    Circle(center=(0.5, 0.5), radius=0)\n",
    "except ValidationError as ex:\n",
    "    print(ex)"
   ],
   "id": "97937903423d990",
   "outputs": [
    {
     "name": "stdout",
     "output_type": "stream",
     "text": [
      "3 validation errors for Circle\n",
      "center.0\n",
      "  Input should be a valid integer, got a number with a fractional part [type=int_from_float, input_value=0.5, input_type=float]\n",
      "    For further information visit https://errors.pydantic.dev/2.8/v/int_from_float\n",
      "center.1\n",
      "  Input should be a valid integer, got a number with a fractional part [type=int_from_float, input_value=0.5, input_type=float]\n",
      "    For further information visit https://errors.pydantic.dev/2.8/v/int_from_float\n",
      "radius\n",
      "  Input should be greater than 0 [type=greater_than, input_value=0, input_type=int]\n",
      "    For further information visit https://errors.pydantic.dev/2.8/v/greater_than\n"
     ]
    }
   ],
   "execution_count": 11
  },
  {
   "metadata": {
    "ExecuteTime": {
     "end_time": "2024-08-26T06:52:40.845377Z",
     "start_time": "2024-08-26T06:52:40.840301Z"
    }
   },
   "cell_type": "code",
   "source": "Circle.model_fields",
   "id": "9d0997fba0697a3d",
   "outputs": [
    {
     "data": {
      "text/plain": [
       "{'center': FieldInfo(annotation=tuple[int, int], required=False, default=(0, 0)),\n",
       " 'radius': FieldInfo(annotation=int, required=False, default=1, metadata=[Gt(gt=0)])}"
      ]
     },
     "execution_count": 12,
     "metadata": {},
     "output_type": "execute_result"
    }
   ],
   "execution_count": 12
  },
  {
   "metadata": {},
   "cell_type": "code",
   "outputs": [],
   "execution_count": null,
   "source": "",
   "id": "e5fad3df3d2e4a7a"
  }
 ],
 "metadata": {
  "kernelspec": {
   "display_name": "Python 3",
   "language": "python",
   "name": "python3"
  },
  "language_info": {
   "codemirror_mode": {
    "name": "ipython",
    "version": 2
   },
   "file_extension": ".py",
   "mimetype": "text/x-python",
   "name": "python",
   "nbconvert_exporter": "python",
   "pygments_lexer": "ipython2",
   "version": "2.7.6"
  }
 },
 "nbformat": 4,
 "nbformat_minor": 5
}
