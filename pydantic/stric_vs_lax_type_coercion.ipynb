{
 "cells": [
  {
   "cell_type": "code",
   "id": "initial_id",
   "metadata": {
    "collapsed": true,
    "ExecuteTime": {
     "end_time": "2024-08-02T08:41:01.610040Z",
     "start_time": "2024-08-02T08:41:01.558067Z"
    }
   },
   "source": "from pydantic import BaseModel, ConfigDict, ValidationError",
   "outputs": [],
   "execution_count": 1
  },
  {
   "metadata": {
    "ExecuteTime": {
     "end_time": "2024-08-02T08:42:09.692399Z",
     "start_time": "2024-08-02T08:42:09.688002Z"
    }
   },
   "cell_type": "code",
   "source": [
    "class Model(BaseModel):\n",
    "    field_1: str\n",
    "    field_2: float\n",
    "    field_3: list\n",
    "    field_4: tuple"
   ],
   "id": "ed05b231eb34adb8",
   "outputs": [],
   "execution_count": 3
  },
  {
   "metadata": {
    "ExecuteTime": {
     "end_time": "2024-08-02T08:43:07.816886Z",
     "start_time": "2024-08-02T08:43:07.812738Z"
    }
   },
   "cell_type": "code",
   "source": [
    "try:\n",
    "    Model(field_1=100, field_2=1, field_3=(1,), field_4=[1])\n",
    "except ValidationError as ex:\n",
    "    print(ex)"
   ],
   "id": "de11253e526e33f1",
   "outputs": [
    {
     "name": "stdout",
     "output_type": "stream",
     "text": [
      "1 validation error for Model\n",
      "field_1\n",
      "  Input should be a valid string [type=string_type, input_value=100, input_type=int]\n",
      "    For further information visit https://errors.pydantic.dev/2.8/v/string_type\n"
     ]
    }
   ],
   "execution_count": 4
  },
  {
   "metadata": {
    "ExecuteTime": {
     "end_time": "2024-08-02T08:43:52.045908Z",
     "start_time": "2024-08-02T08:43:52.042462Z"
    }
   },
   "cell_type": "code",
   "source": [
    "try:\n",
    "    Model(field_1='abc', field_2=1, field_3=(1,), field_4=[1])\n",
    "except ValidationError as ex:\n",
    "    print(ex)"
   ],
   "id": "daa287bd6d18a918",
   "outputs": [],
   "execution_count": 7
  },
  {
   "metadata": {
    "ExecuteTime": {
     "end_time": "2024-08-02T08:43:52.301421Z",
     "start_time": "2024-08-02T08:43:52.296598Z"
    }
   },
   "cell_type": "code",
   "source": "Model(field_1='abc', field_2=1, field_3=(1,), field_4=[1])",
   "id": "b4a6f059fff20357",
   "outputs": [
    {
     "data": {
      "text/plain": [
       "Model(field_1='abc', field_2=1.0, field_3=[1], field_4=(1,))"
      ]
     },
     "execution_count": 8,
     "metadata": {},
     "output_type": "execute_result"
    }
   ],
   "execution_count": 8
  },
  {
   "metadata": {
    "ExecuteTime": {
     "end_time": "2024-08-02T08:45:12.770550Z",
     "start_time": "2024-08-02T08:45:12.764864Z"
    }
   },
   "cell_type": "code",
   "source": [
    "class Model(BaseModel):\n",
    "    model_config = ConfigDict(strict=True)\n",
    "    \n",
    "    field_1: str\n",
    "    field_2: float\n",
    "    field_3: list\n",
    "    field_4: tuple"
   ],
   "id": "ce3a31af821ce505",
   "outputs": [],
   "execution_count": 9
  },
  {
   "metadata": {
    "ExecuteTime": {
     "end_time": "2024-08-02T08:45:45.821699Z",
     "start_time": "2024-08-02T08:45:45.817376Z"
    }
   },
   "cell_type": "code",
   "source": [
    "try:\n",
    "    Model(field_1='abc', field_2=1, field_3=(1,), field_4=[1])\n",
    "except ValidationError as ex:\n",
    "    print(ex)"
   ],
   "id": "7ec0f5046a7047c2",
   "outputs": [
    {
     "name": "stdout",
     "output_type": "stream",
     "text": [
      "2 validation errors for Model\n",
      "field_3\n",
      "  Input should be a valid list [type=list_type, input_value=(1,), input_type=tuple]\n",
      "    For further information visit https://errors.pydantic.dev/2.8/v/list_type\n",
      "field_4\n",
      "  Input should be a valid tuple [type=tuple_type, input_value=[1], input_type=list]\n",
      "    For further information visit https://errors.pydantic.dev/2.8/v/tuple_type\n"
     ]
    }
   ],
   "execution_count": 10
  },
  {
   "metadata": {
    "ExecuteTime": {
     "end_time": "2024-08-02T08:54:17.013055Z",
     "start_time": "2024-08-02T08:54:17.010132Z"
    }
   },
   "cell_type": "code",
   "source": [
    "json_data = \"\"\"\n",
    "{\n",
    "    \"field_1\": true,\n",
    "    \"field_2\": 10.5,\n",
    "    \"field_3\": 10,\n",
    "    \"field_4\": null,\n",
    "    \"field_5\": [1, 2, 3],\n",
    "    \"field_6\": {\n",
    "        \"a\": 1,\n",
    "        \"b\": 2,\n",
    "        \"c\": [3, 4, 5]\n",
    "    },\n",
    "    \"field_7\": [\n",
    "        [1, 0, 0],\n",
    "        [0, 1, 0],\n",
    "        [0, 0, 0]\n",
    "    ]\n",
    "}\n",
    "\"\"\""
   ],
   "id": "66e34572a246cd4f",
   "outputs": [],
   "execution_count": 19
  },
  {
   "metadata": {
    "ExecuteTime": {
     "end_time": "2024-08-02T08:54:17.199071Z",
     "start_time": "2024-08-02T08:54:17.196120Z"
    }
   },
   "cell_type": "code",
   "source": "import json",
   "id": "3fa1f79d104affe2",
   "outputs": [],
   "execution_count": 20
  },
  {
   "metadata": {
    "ExecuteTime": {
     "end_time": "2024-08-02T08:54:17.431259Z",
     "start_time": "2024-08-02T08:54:17.427611Z"
    }
   },
   "cell_type": "code",
   "source": "from pprint import pprint",
   "id": "deccf7b9d62356cb",
   "outputs": [],
   "execution_count": 21
  },
  {
   "metadata": {
    "ExecuteTime": {
     "end_time": "2024-08-02T08:54:17.681719Z",
     "start_time": "2024-08-02T08:54:17.678443Z"
    }
   },
   "cell_type": "code",
   "source": [
    "data = json.loads(json_data)\n",
    "pprint(data)"
   ],
   "id": "3ef819398230e74a",
   "outputs": [
    {
     "name": "stdout",
     "output_type": "stream",
     "text": [
      "{'field_1': True,\n",
      " 'field_2': 10.5,\n",
      " 'field_3': 10,\n",
      " 'field_4': None,\n",
      " 'field_5': [1, 2, 3],\n",
      " 'field_6': {'a': 1, 'b': 2, 'c': [3, 4, 5]},\n",
      " 'field_7': [[1, 0, 0], [0, 1, 0], [0, 0, 0]]}\n"
     ]
    }
   ],
   "execution_count": 22
  },
  {
   "metadata": {
    "ExecuteTime": {
     "end_time": "2024-08-02T08:56:05.371196Z",
     "start_time": "2024-08-02T08:56:05.366078Z"
    }
   },
   "cell_type": "code",
   "source": "type(data['field_3'])",
   "id": "58011dc10d8e85df",
   "outputs": [
    {
     "data": {
      "text/plain": [
       "int"
      ]
     },
     "execution_count": 23,
     "metadata": {},
     "output_type": "execute_result"
    }
   ],
   "execution_count": 23
  },
  {
   "metadata": {
    "ExecuteTime": {
     "end_time": "2024-08-02T08:58:00.987103Z",
     "start_time": "2024-08-02T08:58:00.984111Z"
    }
   },
   "cell_type": "code",
   "source": [
    "json_data = \"\"\"\n",
    "{\n",
    "    \"field_1\": true,\n",
    "    \"field_2\": 10,\n",
    "    \"field_3\": 1,\n",
    "    \"field_4\": null,\n",
    "    \"field_5\": [1, 2, 3],\n",
    "    \"field_6\": [\"a\", \"b\", \"c\"],\n",
    "    \"field_7\": {\"a\": 1, \"b\": 2}\n",
    "}\n",
    "\"\"\""
   ],
   "id": "12f34b439c9e12af",
   "outputs": [],
   "execution_count": 24
  },
  {
   "metadata": {
    "ExecuteTime": {
     "end_time": "2024-08-02T09:02:41.815223Z",
     "start_time": "2024-08-02T09:02:41.810383Z"
    }
   },
   "cell_type": "code",
   "source": [
    "class Model(BaseModel):\n",
    "    field_1: bool\n",
    "    field_2: float\n",
    "    field_3: int\n",
    "    field_4: str | None\n",
    "    field_5: tuple[int, ...]\n",
    "    field_6: set[str]\n",
    "    field_7: dict"
   ],
   "id": "9d7937ac0aa32ab8",
   "outputs": [],
   "execution_count": 25
  },
  {
   "metadata": {
    "ExecuteTime": {
     "end_time": "2024-08-02T09:02:51.434067Z",
     "start_time": "2024-08-02T09:02:51.430342Z"
    }
   },
   "cell_type": "code",
   "source": "data = Model.model_validate_json(json_data)",
   "id": "a712a0d6ca2e26c",
   "outputs": [],
   "execution_count": 26
  },
  {
   "metadata": {
    "ExecuteTime": {
     "end_time": "2024-08-02T09:02:53.728175Z",
     "start_time": "2024-08-02T09:02:53.722427Z"
    }
   },
   "cell_type": "code",
   "source": "data",
   "id": "ee4580f20020641f",
   "outputs": [
    {
     "data": {
      "text/plain": [
       "Model(field_1=True, field_2=10.0, field_3=1, field_4=None, field_5=(1, 2, 3), field_6={'c', 'a', 'b'}, field_7={'a': 1, 'b': 2})"
      ]
     },
     "execution_count": 27,
     "metadata": {},
     "output_type": "execute_result"
    }
   ],
   "execution_count": 27
  },
  {
   "metadata": {
    "ExecuteTime": {
     "end_time": "2024-08-02T09:04:05.063960Z",
     "start_time": "2024-08-02T09:04:05.058869Z"
    }
   },
   "cell_type": "code",
   "source": "type(data.field_5), type(data.field_6)",
   "id": "cb96275e37cf26c1",
   "outputs": [
    {
     "data": {
      "text/plain": [
       "(tuple, set)"
      ]
     },
     "execution_count": 29,
     "metadata": {},
     "output_type": "execute_result"
    }
   ],
   "execution_count": 29
  },
  {
   "metadata": {
    "ExecuteTime": {
     "end_time": "2024-08-02T09:06:56.967021Z",
     "start_time": "2024-08-02T09:06:56.963917Z"
    }
   },
   "cell_type": "code",
   "source": [
    "json_data = \"\"\"\n",
    "{\n",
    "    \"field_1\": true,\n",
    "    \"field_2\": 10,\n",
    "    \"field_3\": 1,\n",
    "    \"field_4\": null,\n",
    "    \"field_5\": [1, 2, 3.5],\n",
    "    \"field_6\": [\"a\", 100, \"c\"],\n",
    "    \"field_7\": {\"a\": 1, \"b\": 2}\n",
    "}\n",
    "\"\"\""
   ],
   "id": "8cd8381997dbe177",
   "outputs": [],
   "execution_count": 35
  },
  {
   "metadata": {
    "ExecuteTime": {
     "end_time": "2024-08-02T09:06:57.265806Z",
     "start_time": "2024-08-02T09:06:57.262223Z"
    }
   },
   "cell_type": "code",
   "source": [
    "try:\n",
    "    data = Model.model_validate_json(json_data)\n",
    "except ValidationError as ex:\n",
    "    print(ex)"
   ],
   "id": "4da56205ffa3a8cf",
   "outputs": [
    {
     "name": "stdout",
     "output_type": "stream",
     "text": [
      "2 validation errors for Model\n",
      "field_5.2\n",
      "  Input should be a valid integer, got a number with a fractional part [type=int_from_float, input_value=3.5, input_type=float]\n",
      "    For further information visit https://errors.pydantic.dev/2.8/v/int_from_float\n",
      "field_6.1\n",
      "  Input should be a valid string [type=string_type, input_value=100, input_type=int]\n",
      "    For further information visit https://errors.pydantic.dev/2.8/v/string_type\n"
     ]
    }
   ],
   "execution_count": 36
  },
  {
   "metadata": {
    "ExecuteTime": {
     "end_time": "2024-08-02T09:09:46.487683Z",
     "start_time": "2024-08-02T09:09:46.484383Z"
    }
   },
   "cell_type": "code",
   "source": [
    "json_data = \"\"\"\n",
    "{\n",
    "    \"field_1\": true,\n",
    "    \"field_2\": 10,\n",
    "    \"field_3\": 1,\n",
    "    \"field_4\": null,\n",
    "    \"field_5\": [1, 2, 3],\n",
    "    \"field_6\": [\"a\", \"b\", \"c\"],\n",
    "    \"field_7\": {\"a\": 1, \"b\": 2}\n",
    "}\n",
    "\"\"\""
   ],
   "id": "1bdd6baaceb55436",
   "outputs": [],
   "execution_count": 40
  },
  {
   "metadata": {
    "ExecuteTime": {
     "end_time": "2024-08-02T09:10:03.953150Z",
     "start_time": "2024-08-02T09:10:03.946924Z"
    }
   },
   "cell_type": "code",
   "source": [
    "class Model(BaseModel):\n",
    "    model_config = ConfigDict(strict=True)\n",
    "    \n",
    "    field_1: bool\n",
    "    field_2: float\n",
    "    field_3: int\n",
    "    field_4: str | None\n",
    "    field_5: tuple[int, ...]\n",
    "    field_6: set[str]\n",
    "    field_7: dict"
   ],
   "id": "3e275efba14d1e1d",
   "outputs": [],
   "execution_count": 45
  },
  {
   "metadata": {
    "ExecuteTime": {
     "end_time": "2024-08-02T09:10:05.360304Z",
     "start_time": "2024-08-02T09:10:05.356892Z"
    }
   },
   "cell_type": "code",
   "source": [
    "try:\n",
    "    data = Model.model_validate_json(json_data)\n",
    "except ValidationError as ex:\n",
    "    print(ex)"
   ],
   "id": "6ecc58c4b8cbe5c6",
   "outputs": [],
   "execution_count": 46
  },
  {
   "metadata": {},
   "cell_type": "code",
   "outputs": [],
   "execution_count": null,
   "source": "",
   "id": "2c66f41a7c10e828"
  }
 ],
 "metadata": {
  "kernelspec": {
   "display_name": "Python 3",
   "language": "python",
   "name": "python3"
  },
  "language_info": {
   "codemirror_mode": {
    "name": "ipython",
    "version": 2
   },
   "file_extension": ".py",
   "mimetype": "text/x-python",
   "name": "python",
   "nbconvert_exporter": "python",
   "pygments_lexer": "ipython2",
   "version": "2.7.6"
  }
 },
 "nbformat": 4,
 "nbformat_minor": 5
}
