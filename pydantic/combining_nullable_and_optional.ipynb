{
 "cells": [
  {
   "cell_type": "code",
   "id": "initial_id",
   "metadata": {
    "collapsed": true,
    "ExecuteTime": {
     "end_time": "2024-08-01T17:44:09.290484Z",
     "start_time": "2024-08-01T17:44:09.230681Z"
    }
   },
   "source": "from pydantic import BaseModel, ValidationError",
   "outputs": [],
   "execution_count": 1
  },
  {
   "metadata": {},
   "cell_type": "markdown",
   "source": "## Required, Not Nullable",
   "id": "bceb4942dcc55a68"
  },
  {
   "metadata": {
    "ExecuteTime": {
     "end_time": "2024-08-01T17:45:17.657383Z",
     "start_time": "2024-08-01T17:45:17.565152Z"
    }
   },
   "cell_type": "code",
   "source": [
    "class Model(BaseModel):\n",
    "    field: int"
   ],
   "id": "b8563ad09dc63eb8",
   "outputs": [],
   "execution_count": 2
  },
  {
   "metadata": {
    "ExecuteTime": {
     "end_time": "2024-08-01T17:45:52.616458Z",
     "start_time": "2024-08-01T17:45:52.612576Z"
    }
   },
   "cell_type": "code",
   "source": [
    "try:\n",
    "    Model()\n",
    "except ValidationError as ex:\n",
    "    print(ex)"
   ],
   "id": "61c121e5f46e900a",
   "outputs": [
    {
     "name": "stdout",
     "output_type": "stream",
     "text": [
      "1 validation error for Model\n",
      "field\n",
      "  Field required [type=missing, input_value={}, input_type=dict]\n",
      "    For further information visit https://errors.pydantic.dev/2.8/v/missing\n"
     ]
    }
   ],
   "execution_count": 4
  },
  {
   "metadata": {},
   "cell_type": "markdown",
   "source": "## Required, Nullable",
   "id": "c492a35c6b9d1c8f"
  },
  {
   "metadata": {
    "ExecuteTime": {
     "end_time": "2024-08-01T17:46:29.526318Z",
     "start_time": "2024-08-01T17:46:29.521179Z"
    }
   },
   "cell_type": "code",
   "source": [
    "class Model(BaseModel):\n",
    "    field: int | None"
   ],
   "id": "343d38030b947229",
   "outputs": [],
   "execution_count": 5
  },
  {
   "metadata": {
    "ExecuteTime": {
     "end_time": "2024-08-01T17:46:42.857733Z",
     "start_time": "2024-08-01T17:46:42.854661Z"
    }
   },
   "cell_type": "code",
   "source": [
    "try:\n",
    "    Model()\n",
    "except ValidationError as ex:\n",
    "    print(ex)"
   ],
   "id": "9b3a55b789dce89a",
   "outputs": [
    {
     "name": "stdout",
     "output_type": "stream",
     "text": [
      "1 validation error for Model\n",
      "field\n",
      "  Field required [type=missing, input_value={}, input_type=dict]\n",
      "    For further information visit https://errors.pydantic.dev/2.8/v/missing\n"
     ]
    }
   ],
   "execution_count": 7
  },
  {
   "metadata": {
    "ExecuteTime": {
     "end_time": "2024-08-01T17:46:57.997038Z",
     "start_time": "2024-08-01T17:46:57.988226Z"
    }
   },
   "cell_type": "code",
   "source": "Model(field=None)",
   "id": "eff6fc18abba8107",
   "outputs": [
    {
     "data": {
      "text/plain": [
       "Model(field=None)"
      ]
     },
     "execution_count": 9,
     "metadata": {},
     "output_type": "execute_result"
    }
   ],
   "execution_count": 9
  },
  {
   "metadata": {},
   "cell_type": "markdown",
   "source": "## Optional, Not Nullable",
   "id": "56bc6f5a031a7a6b"
  },
  {
   "metadata": {
    "ExecuteTime": {
     "end_time": "2024-08-01T17:48:13.769315Z",
     "start_time": "2024-08-01T17:48:13.765898Z"
    }
   },
   "cell_type": "code",
   "source": [
    "class Model(BaseModel):\n",
    "    field: int = 0"
   ],
   "id": "8532dfcc85f9e773",
   "outputs": [],
   "execution_count": 10
  },
  {
   "metadata": {
    "ExecuteTime": {
     "end_time": "2024-08-01T17:48:18.707941Z",
     "start_time": "2024-08-01T17:48:18.702976Z"
    }
   },
   "cell_type": "code",
   "source": "Model()",
   "id": "205d96a8dba3e795",
   "outputs": [
    {
     "data": {
      "text/plain": [
       "Model(field=0)"
      ]
     },
     "execution_count": 12,
     "metadata": {},
     "output_type": "execute_result"
    }
   ],
   "execution_count": 12
  },
  {
   "metadata": {
    "ExecuteTime": {
     "end_time": "2024-08-01T17:54:29.444693Z",
     "start_time": "2024-08-01T17:54:29.441289Z"
    }
   },
   "cell_type": "code",
   "source": [
    "try:\n",
    "    Model(field=None)\n",
    "except ValidationError as ex:\n",
    "    print(ex)"
   ],
   "id": "3046ed2d15b29cce",
   "outputs": [
    {
     "name": "stdout",
     "output_type": "stream",
     "text": [
      "1 validation error for Model\n",
      "field\n",
      "  Input should be a valid integer [type=int_type, input_value=None, input_type=NoneType]\n",
      "    For further information visit https://errors.pydantic.dev/2.8/v/int_type\n"
     ]
    }
   ],
   "execution_count": 14
  },
  {
   "metadata": {},
   "cell_type": "markdown",
   "source": "## Optional, Nullable",
   "id": "fe80867f8bd943b7"
  },
  {
   "metadata": {
    "ExecuteTime": {
     "end_time": "2024-08-01T17:54:55.544144Z",
     "start_time": "2024-08-01T17:54:55.538372Z"
    }
   },
   "cell_type": "code",
   "source": [
    "class Model(BaseModel):\n",
    "    field: int | None = None"
   ],
   "id": "368fa79271760643",
   "outputs": [],
   "execution_count": 16
  },
  {
   "metadata": {
    "ExecuteTime": {
     "end_time": "2024-08-01T17:55:17.353650Z",
     "start_time": "2024-08-01T17:55:17.348796Z"
    }
   },
   "cell_type": "code",
   "source": "Model(), Model(field=None), Model(field=1)",
   "id": "36cafcef549150ef",
   "outputs": [
    {
     "data": {
      "text/plain": [
       "(Model(field=None), Model(field=None), Model(field=1))"
      ]
     },
     "execution_count": 18,
     "metadata": {},
     "output_type": "execute_result"
    }
   ],
   "execution_count": 18
  },
  {
   "metadata": {},
   "cell_type": "code",
   "outputs": [],
   "execution_count": null,
   "source": "",
   "id": "7648a235116d7b38"
  }
 ],
 "metadata": {
  "kernelspec": {
   "display_name": "Python 3",
   "language": "python",
   "name": "python3"
  },
  "language_info": {
   "codemirror_mode": {
    "name": "ipython",
    "version": 2
   },
   "file_extension": ".py",
   "mimetype": "text/x-python",
   "name": "python",
   "nbconvert_exporter": "python",
   "pygments_lexer": "ipython2",
   "version": "2.7.6"
  }
 },
 "nbformat": 4,
 "nbformat_minor": 5
}
