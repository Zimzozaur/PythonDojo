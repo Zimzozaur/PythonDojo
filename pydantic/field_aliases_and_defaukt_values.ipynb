{
 "cells": [
  {
   "cell_type": "code",
   "id": "initial_id",
   "metadata": {
    "collapsed": true,
    "ExecuteTime": {
     "end_time": "2024-08-12T08:52:04.596536Z",
     "start_time": "2024-08-12T08:52:04.493219Z"
    }
   },
   "source": "from pydantic import BaseModel, Field",
   "outputs": [],
   "execution_count": 2
  },
  {
   "metadata": {
    "ExecuteTime": {
     "end_time": "2024-08-12T08:59:32.096934Z",
     "start_time": "2024-08-12T08:59:32.090939Z"
    }
   },
   "cell_type": "code",
   "source": [
    "class Model(BaseModel):\n",
    "    id_: int = Field(alias=\"id\")\n",
    "    last_name: str = Field(alias='lastName')"
   ],
   "id": "e5d26557f7874844",
   "outputs": [],
   "execution_count": 5
  },
  {
   "metadata": {
    "ExecuteTime": {
     "end_time": "2024-08-12T08:59:57.863565Z",
     "start_time": "2024-08-12T08:59:57.860234Z"
    }
   },
   "cell_type": "code",
   "source": [
    "json_data = \"\"\"\n",
    "{\n",
    "    \"id\": 100,\n",
    "    \"lastName\": \"Mario\"\n",
    "}\n",
    "\"\"\""
   ],
   "id": "87462c7e5eeb688f",
   "outputs": [],
   "execution_count": 6
  },
  {
   "metadata": {
    "ExecuteTime": {
     "end_time": "2024-08-12T09:00:07.795827Z",
     "start_time": "2024-08-12T09:00:07.791855Z"
    }
   },
   "cell_type": "code",
   "source": "m = Model.model_validate_json(json_data)",
   "id": "13e3a2bb37cb097f",
   "outputs": [],
   "execution_count": 7
  },
  {
   "metadata": {
    "ExecuteTime": {
     "end_time": "2024-08-12T09:00:08.977084Z",
     "start_time": "2024-08-12T09:00:08.971992Z"
    }
   },
   "cell_type": "code",
   "source": "m",
   "id": "ad90a3d5690d7444",
   "outputs": [
    {
     "data": {
      "text/plain": [
       "Model(id_=100, last_name='Mario')"
      ]
     },
     "execution_count": 8,
     "metadata": {},
     "output_type": "execute_result"
    }
   ],
   "execution_count": 8
  },
  {
   "metadata": {
    "ExecuteTime": {
     "end_time": "2024-08-12T09:00:57.708690Z",
     "start_time": "2024-08-12T09:00:57.702753Z"
    }
   },
   "cell_type": "code",
   "source": "Model(id=1, lastName=\"Mario\")",
   "id": "d25fb40c8589f55e",
   "outputs": [
    {
     "data": {
      "text/plain": [
       "Model(id_=1, last_name='Mario')"
      ]
     },
     "execution_count": 9,
     "metadata": {},
     "output_type": "execute_result"
    }
   ],
   "execution_count": 9
  },
  {
   "metadata": {
    "ExecuteTime": {
     "end_time": "2024-08-12T09:01:52.608700Z",
     "start_time": "2024-08-12T09:01:52.513872Z"
    }
   },
   "cell_type": "code",
   "source": "Model(id_=1, last_name=\"Mario\")",
   "id": "21e0dc37aa4a542d",
   "outputs": [
    {
     "ename": "ValidationError",
     "evalue": "2 validation errors for Model\nid\n  Field required [type=missing, input_value={'id_': 1, 'last_name': 'Mario'}, input_type=dict]\n    For further information visit https://errors.pydantic.dev/2.8/v/missing\nlastName\n  Field required [type=missing, input_value={'id_': 1, 'last_name': 'Mario'}, input_type=dict]\n    For further information visit https://errors.pydantic.dev/2.8/v/missing",
     "output_type": "error",
     "traceback": [
      "\u001B[0;31m---------------------------------------------------------------------------\u001B[0m",
      "\u001B[0;31mValidationError\u001B[0m                           Traceback (most recent call last)",
      "Cell \u001B[0;32mIn[10], line 1\u001B[0m\n\u001B[0;32m----> 1\u001B[0m \u001B[43mModel\u001B[49m\u001B[43m(\u001B[49m\u001B[43mid_\u001B[49m\u001B[38;5;241;43m=\u001B[39;49m\u001B[38;5;241;43m1\u001B[39;49m\u001B[43m,\u001B[49m\u001B[43m \u001B[49m\u001B[43mlast_name\u001B[49m\u001B[38;5;241;43m=\u001B[39;49m\u001B[38;5;124;43m\"\u001B[39;49m\u001B[38;5;124;43mMario\u001B[39;49m\u001B[38;5;124;43m\"\u001B[39;49m\u001B[43m)\u001B[49m\n",
      "File \u001B[0;32m~/a-code/PythonDojo/venv/lib/python3.12/site-packages/pydantic/main.py:193\u001B[0m, in \u001B[0;36mBaseModel.__init__\u001B[0;34m(self, **data)\u001B[0m\n\u001B[1;32m    191\u001B[0m \u001B[38;5;66;03m# `__tracebackhide__` tells pytest and some other tools to omit this function from tracebacks\u001B[39;00m\n\u001B[1;32m    192\u001B[0m __tracebackhide__ \u001B[38;5;241m=\u001B[39m \u001B[38;5;28;01mTrue\u001B[39;00m\n\u001B[0;32m--> 193\u001B[0m \u001B[38;5;28;43mself\u001B[39;49m\u001B[38;5;241;43m.\u001B[39;49m\u001B[43m__pydantic_validator__\u001B[49m\u001B[38;5;241;43m.\u001B[39;49m\u001B[43mvalidate_python\u001B[49m\u001B[43m(\u001B[49m\u001B[43mdata\u001B[49m\u001B[43m,\u001B[49m\u001B[43m \u001B[49m\u001B[43mself_instance\u001B[49m\u001B[38;5;241;43m=\u001B[39;49m\u001B[38;5;28;43mself\u001B[39;49m\u001B[43m)\u001B[49m\n",
      "\u001B[0;31mValidationError\u001B[0m: 2 validation errors for Model\nid\n  Field required [type=missing, input_value={'id_': 1, 'last_name': 'Mario'}, input_type=dict]\n    For further information visit https://errors.pydantic.dev/2.8/v/missing\nlastName\n  Field required [type=missing, input_value={'id_': 1, 'last_name': 'Mario'}, input_type=dict]\n    For further information visit https://errors.pydantic.dev/2.8/v/missing"
     ]
    }
   ],
   "execution_count": 10
  },
  {
   "metadata": {
    "ExecuteTime": {
     "end_time": "2024-08-12T09:03:10.764722Z",
     "start_time": "2024-08-12T09:03:10.761438Z"
    }
   },
   "cell_type": "code",
   "source": "m.id_, m.last_name",
   "id": "3e9247649169b1cf",
   "outputs": [
    {
     "data": {
      "text/plain": [
       "(100, 'Mario')"
      ]
     },
     "execution_count": 11,
     "metadata": {},
     "output_type": "execute_result"
    }
   ],
   "execution_count": 11
  },
  {
   "metadata": {
    "ExecuteTime": {
     "end_time": "2024-08-12T09:03:44.736546Z",
     "start_time": "2024-08-12T09:03:44.732097Z"
    }
   },
   "cell_type": "code",
   "source": "hasattr(m, 'last_name'), hasattr(m, 'lastName')",
   "id": "fe17e93518d2adf8",
   "outputs": [
    {
     "data": {
      "text/plain": [
       "(True, False)"
      ]
     },
     "execution_count": 12,
     "metadata": {},
     "output_type": "execute_result"
    }
   ],
   "execution_count": 12
  },
  {
   "metadata": {
    "ExecuteTime": {
     "end_time": "2024-08-12T09:04:23.509133Z",
     "start_time": "2024-08-12T09:04:23.502962Z"
    }
   },
   "cell_type": "code",
   "source": [
    "class Model(BaseModel):\n",
    "    id_: int = Field(alias=\"id\", default=100)\n",
    "    last_name: str = Field(alias='lastName')"
   ],
   "id": "2b6fba9f25f5344",
   "outputs": [],
   "execution_count": 13
  },
  {
   "metadata": {
    "ExecuteTime": {
     "end_time": "2024-08-12T09:04:41.491211Z",
     "start_time": "2024-08-12T09:04:41.488048Z"
    }
   },
   "cell_type": "code",
   "source": "m = Model(lastName='Mario')",
   "id": "7c41048a1be42cfa",
   "outputs": [],
   "execution_count": 16
  },
  {
   "metadata": {
    "ExecuteTime": {
     "end_time": "2024-08-12T09:04:41.640558Z",
     "start_time": "2024-08-12T09:04:41.637186Z"
    }
   },
   "cell_type": "code",
   "source": "m",
   "id": "5a02f03314ab21f0",
   "outputs": [
    {
     "data": {
      "text/plain": [
       "Model(id_=100, last_name='Mario')"
      ]
     },
     "execution_count": 17,
     "metadata": {},
     "output_type": "execute_result"
    }
   ],
   "execution_count": 17
  },
  {
   "metadata": {
    "ExecuteTime": {
     "end_time": "2024-08-12T09:09:58.005746Z",
     "start_time": "2024-08-12T09:09:58.001476Z"
    }
   },
   "cell_type": "code",
   "source": "m.model_dump()",
   "id": "eb45e03df754b96f",
   "outputs": [
    {
     "data": {
      "text/plain": [
       "{'id_': 100, 'last_name': 'Mario'}"
      ]
     },
     "execution_count": 18,
     "metadata": {},
     "output_type": "execute_result"
    }
   ],
   "execution_count": 18
  },
  {
   "metadata": {
    "ExecuteTime": {
     "end_time": "2024-08-12T09:10:03.292737Z",
     "start_time": "2024-08-12T09:10:03.288081Z"
    }
   },
   "cell_type": "code",
   "source": "m.model_dump_json()",
   "id": "e18aad40dc3dcf5a",
   "outputs": [
    {
     "data": {
      "text/plain": [
       "'{\"id_\":100,\"last_name\":\"Mario\"}'"
      ]
     },
     "execution_count": 19,
     "metadata": {},
     "output_type": "execute_result"
    }
   ],
   "execution_count": 19
  },
  {
   "metadata": {
    "ExecuteTime": {
     "end_time": "2024-08-12T09:15:59.606280Z",
     "start_time": "2024-08-12T09:15:59.598683Z"
    }
   },
   "cell_type": "code",
   "source": [
    "class Person(BaseModel):\n",
    "    id_: int = Field(alias='id')\n",
    "    first_name: str | None = Field(alias='firstName', default=None)\n",
    "    last_name: str = Field(alias='lastName')\n",
    "    age: int | None = None"
   ],
   "id": "96c5e88b902f31fa",
   "outputs": [],
   "execution_count": 29
  },
  {
   "metadata": {
    "ExecuteTime": {
     "end_time": "2024-08-12T09:16:41.519068Z",
     "start_time": "2024-08-12T09:16:41.516348Z"
    }
   },
   "cell_type": "code",
   "source": "isaac = Person(id=1, firstName='Isaac', lastName='Newton', age=84)",
   "id": "3fe9af6249ec3de1",
   "outputs": [],
   "execution_count": 30
  },
  {
   "metadata": {
    "ExecuteTime": {
     "end_time": "2024-08-12T09:16:44.698962Z",
     "start_time": "2024-08-12T09:16:44.694753Z"
    }
   },
   "cell_type": "code",
   "source": "isaac",
   "id": "4b77925eb9aa89df",
   "outputs": [
    {
     "data": {
      "text/plain": [
       "Person(id_=1, first_name='Isaac', last_name='Newton', age=84)"
      ]
     },
     "execution_count": 31,
     "metadata": {},
     "output_type": "execute_result"
    }
   ],
   "execution_count": 31
  },
  {
   "metadata": {
    "ExecuteTime": {
     "end_time": "2024-08-12T09:16:58.158072Z",
     "start_time": "2024-08-12T09:16:58.152857Z"
    }
   },
   "cell_type": "code",
   "source": "isaac.model_dump()",
   "id": "dfe4604af7900a21",
   "outputs": [
    {
     "data": {
      "text/plain": [
       "{'id_': 1, 'first_name': 'Isaac', 'last_name': 'Newton', 'age': 84}"
      ]
     },
     "execution_count": 32,
     "metadata": {},
     "output_type": "execute_result"
    }
   ],
   "execution_count": 32
  },
  {
   "metadata": {
    "ExecuteTime": {
     "end_time": "2024-08-12T09:17:35.381012Z",
     "start_time": "2024-08-12T09:17:35.376071Z"
    }
   },
   "cell_type": "code",
   "source": "isaac.model_dump(by_alias=True)",
   "id": "785bc4c4310457e9",
   "outputs": [
    {
     "data": {
      "text/plain": [
       "{'id': 1, 'firstName': 'Isaac', 'lastName': 'Newton', 'age': 84}"
      ]
     },
     "execution_count": 33,
     "metadata": {},
     "output_type": "execute_result"
    }
   ],
   "execution_count": 33
  },
  {
   "metadata": {
    "ExecuteTime": {
     "end_time": "2024-08-12T09:18:14.395638Z",
     "start_time": "2024-08-12T09:18:14.390705Z"
    }
   },
   "cell_type": "code",
   "source": "isaac.model_dump_json(by_alias=True)",
   "id": "dbade43eb8a19e22",
   "outputs": [
    {
     "data": {
      "text/plain": [
       "'{\"id\":1,\"firstName\":\"Isaac\",\"lastName\":\"Newton\",\"age\":84}'"
      ]
     },
     "execution_count": 34,
     "metadata": {},
     "output_type": "execute_result"
    }
   ],
   "execution_count": 34
  },
  {
   "metadata": {
    "ExecuteTime": {
     "end_time": "2024-08-12T09:18:23.117811Z",
     "start_time": "2024-08-12T09:18:23.112975Z"
    }
   },
   "cell_type": "code",
   "source": "Person.model_fields",
   "id": "1d439be84c7f21c",
   "outputs": [
    {
     "data": {
      "text/plain": [
       "{'id_': FieldInfo(annotation=int, required=True, alias='id', alias_priority=2),\n",
       " 'first_name': FieldInfo(annotation=Union[str, NoneType], required=False, default=None, alias='firstName', alias_priority=2),\n",
       " 'last_name': FieldInfo(annotation=str, required=True, alias='lastName', alias_priority=2),\n",
       " 'age': FieldInfo(annotation=Union[int, NoneType], required=False, default=None)}"
      ]
     },
     "execution_count": 35,
     "metadata": {},
     "output_type": "execute_result"
    }
   ],
   "execution_count": 35
  },
  {
   "metadata": {},
   "cell_type": "code",
   "outputs": [],
   "execution_count": null,
   "source": "",
   "id": "12c97e92b184c0e4"
  }
 ],
 "metadata": {
  "kernelspec": {
   "display_name": "Python 3",
   "language": "python",
   "name": "python3"
  },
  "language_info": {
   "codemirror_mode": {
    "name": "ipython",
    "version": 2
   },
   "file_extension": ".py",
   "mimetype": "text/x-python",
   "name": "python",
   "nbconvert_exporter": "python",
   "pygments_lexer": "ipython2",
   "version": "2.7.6"
  }
 },
 "nbformat": 4,
 "nbformat_minor": 5
}
