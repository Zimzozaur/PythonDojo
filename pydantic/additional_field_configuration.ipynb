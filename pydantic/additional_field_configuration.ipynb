{
 "cells": [
  {
   "cell_type": "code",
   "id": "initial_id",
   "metadata": {
    "collapsed": true,
    "ExecuteTime": {
     "end_time": "2024-08-26T10:27:44.205766Z",
     "start_time": "2024-08-26T10:27:44.133917Z"
    }
   },
   "source": "from pydantic import BaseModel, Field, ConfigDict",
   "outputs": [],
   "execution_count": 1
  },
  {
   "metadata": {
    "ExecuteTime": {
     "end_time": "2024-08-26T10:30:51.670571Z",
     "start_time": "2024-08-26T10:30:51.597944Z"
    }
   },
   "cell_type": "code",
   "source": [
    "class Model(BaseModel):\n",
    "    model_config = ConfigDict(strict=True)\n",
    "    \n",
    "    field_1: bool = False\n",
    "    field_2: bool = False"
   ],
   "id": "b8b7e1eb3a1a8d76",
   "outputs": [],
   "execution_count": 2
  },
  {
   "metadata": {
    "ExecuteTime": {
     "end_time": "2024-08-26T10:31:05.447617Z",
     "start_time": "2024-08-26T10:31:05.216099Z"
    }
   },
   "cell_type": "code",
   "source": "Model(field_1=1.0, field_2=2.0)",
   "id": "e890189af30ddd86",
   "outputs": [
    {
     "ename": "ValidationError",
     "evalue": "2 validation errors for Model\nfield_1\n  Input should be a valid boolean [type=bool_type, input_value=1.0, input_type=float]\n    For further information visit https://errors.pydantic.dev/2.8/v/bool_type\nfield_2\n  Input should be a valid boolean [type=bool_type, input_value=2.0, input_type=float]\n    For further information visit https://errors.pydantic.dev/2.8/v/bool_type",
     "output_type": "error",
     "traceback": [
      "\u001B[0;31m---------------------------------------------------------------------------\u001B[0m",
      "\u001B[0;31mValidationError\u001B[0m                           Traceback (most recent call last)",
      "Cell \u001B[0;32mIn[3], line 1\u001B[0m\n\u001B[0;32m----> 1\u001B[0m \u001B[43mModel\u001B[49m\u001B[43m(\u001B[49m\u001B[43mfield_1\u001B[49m\u001B[38;5;241;43m=\u001B[39;49m\u001B[38;5;241;43m1.0\u001B[39;49m\u001B[43m,\u001B[49m\u001B[43m \u001B[49m\u001B[43mfield_2\u001B[49m\u001B[38;5;241;43m=\u001B[39;49m\u001B[38;5;241;43m2.0\u001B[39;49m\u001B[43m)\u001B[49m\n",
      "File \u001B[0;32m~/a-code/PythonDojo/venv/lib/python3.12/site-packages/pydantic/main.py:193\u001B[0m, in \u001B[0;36mBaseModel.__init__\u001B[0;34m(self, **data)\u001B[0m\n\u001B[1;32m    191\u001B[0m \u001B[38;5;66;03m# `__tracebackhide__` tells pytest and some other tools to omit this function from tracebacks\u001B[39;00m\n\u001B[1;32m    192\u001B[0m __tracebackhide__ \u001B[38;5;241m=\u001B[39m \u001B[38;5;28;01mTrue\u001B[39;00m\n\u001B[0;32m--> 193\u001B[0m \u001B[38;5;28;43mself\u001B[39;49m\u001B[38;5;241;43m.\u001B[39;49m\u001B[43m__pydantic_validator__\u001B[49m\u001B[38;5;241;43m.\u001B[39;49m\u001B[43mvalidate_python\u001B[49m\u001B[43m(\u001B[49m\u001B[43mdata\u001B[49m\u001B[43m,\u001B[49m\u001B[43m \u001B[49m\u001B[43mself_instance\u001B[49m\u001B[38;5;241;43m=\u001B[39;49m\u001B[38;5;28;43mself\u001B[39;49m\u001B[43m)\u001B[49m\n",
      "\u001B[0;31mValidationError\u001B[0m: 2 validation errors for Model\nfield_1\n  Input should be a valid boolean [type=bool_type, input_value=1.0, input_type=float]\n    For further information visit https://errors.pydantic.dev/2.8/v/bool_type\nfield_2\n  Input should be a valid boolean [type=bool_type, input_value=2.0, input_type=float]\n    For further information visit https://errors.pydantic.dev/2.8/v/bool_type"
     ]
    }
   ],
   "execution_count": 3
  },
  {
   "metadata": {
    "ExecuteTime": {
     "end_time": "2024-08-26T10:31:24.551537Z",
     "start_time": "2024-08-26T10:31:24.547146Z"
    }
   },
   "cell_type": "code",
   "source": [
    "class Model(BaseModel):\n",
    "    model_config = ConfigDict(strict=True)\n",
    "    \n",
    "    field_1: bool = Field(strict=False)\n",
    "    field_2: bool = False"
   ],
   "id": "843e812c9dff52a8",
   "outputs": [],
   "execution_count": 4
  },
  {
   "metadata": {
    "ExecuteTime": {
     "end_time": "2024-08-26T10:31:36.696242Z",
     "start_time": "2024-08-26T10:31:36.686152Z"
    }
   },
   "cell_type": "code",
   "source": "Model(field_1=1.0, field_2=True)",
   "id": "6a8f6cd02b5b96e8",
   "outputs": [
    {
     "data": {
      "text/plain": [
       "Model(field_1=True, field_2=True)"
      ]
     },
     "execution_count": 6,
     "metadata": {},
     "output_type": "execute_result"
    }
   ],
   "execution_count": 6
  },
  {
   "metadata": {
    "ExecuteTime": {
     "end_time": "2024-08-26T10:36:04.648510Z",
     "start_time": "2024-08-26T10:36:04.643051Z"
    }
   },
   "cell_type": "code",
   "source": [
    "class Model(BaseModel):\n",
    "    model_config = ConfigDict(\n",
    "        strict=False,\n",
    "        validate_default=True\n",
    "    )\n",
    "    \n",
    "    field_1: bool = Field(\n",
    "        strict=True, default=1.0, validate_default=False\n",
    "    )    "
   ],
   "id": "ef06076223102472",
   "outputs": [],
   "execution_count": 10
  },
  {
   "metadata": {
    "ExecuteTime": {
     "end_time": "2024-08-26T10:36:04.961794Z",
     "start_time": "2024-08-26T10:36:04.956909Z"
    }
   },
   "cell_type": "code",
   "source": "Model()",
   "id": "4f85dbe033fb7959",
   "outputs": [
    {
     "data": {
      "text/plain": [
       "Model(field_1=1.0)"
      ]
     },
     "execution_count": 11,
     "metadata": {},
     "output_type": "execute_result"
    }
   ],
   "execution_count": 11
  },
  {
   "metadata": {
    "ExecuteTime": {
     "end_time": "2024-08-26T10:37:25.943165Z",
     "start_time": "2024-08-26T10:37:25.938141Z"
    }
   },
   "cell_type": "code",
   "source": [
    "class Model(BaseModel):\n",
    "    model_config = ConfigDict(frozen=True)\n",
    "    \n",
    "    field_1: int"
   ],
   "id": "8fa6b4560d55592b",
   "outputs": [],
   "execution_count": 12
  },
  {
   "metadata": {
    "ExecuteTime": {
     "end_time": "2024-08-26T10:37:39.406100Z",
     "start_time": "2024-08-26T10:37:39.402344Z"
    }
   },
   "cell_type": "code",
   "source": [
    "m = Model(field_1=1)\n",
    "m"
   ],
   "id": "ba0a71d660d41363",
   "outputs": [
    {
     "data": {
      "text/plain": [
       "Model(field_1=1)"
      ]
     },
     "execution_count": 14,
     "metadata": {},
     "output_type": "execute_result"
    }
   ],
   "execution_count": 14
  },
  {
   "metadata": {
    "ExecuteTime": {
     "end_time": "2024-08-26T10:37:42.294649Z",
     "start_time": "2024-08-26T10:37:42.253217Z"
    }
   },
   "cell_type": "code",
   "source": "m.field_1 = 2",
   "id": "8720d41e7174949f",
   "outputs": [
    {
     "ename": "ValidationError",
     "evalue": "1 validation error for Model\nfield_1\n  Instance is frozen [type=frozen_instance, input_value=2, input_type=int]\n    For further information visit https://errors.pydantic.dev/2.8/v/frozen_instance",
     "output_type": "error",
     "traceback": [
      "\u001B[0;31m---------------------------------------------------------------------------\u001B[0m",
      "\u001B[0;31mValidationError\u001B[0m                           Traceback (most recent call last)",
      "Cell \u001B[0;32mIn[15], line 1\u001B[0m\n\u001B[0;32m----> 1\u001B[0m \u001B[43mm\u001B[49m\u001B[38;5;241;43m.\u001B[39;49m\u001B[43mfield_1\u001B[49m \u001B[38;5;241m=\u001B[39m \u001B[38;5;241m2\u001B[39m\n",
      "File \u001B[0;32m~/a-code/PythonDojo/venv/lib/python3.12/site-packages/pydantic/main.py:847\u001B[0m, in \u001B[0;36mBaseModel.__setattr__\u001B[0;34m(self, name, value)\u001B[0m\n\u001B[1;32m    844\u001B[0m             \u001B[38;5;28mself\u001B[39m\u001B[38;5;241m.\u001B[39m__pydantic_private__[name] \u001B[38;5;241m=\u001B[39m value\n\u001B[1;32m    845\u001B[0m     \u001B[38;5;28;01mreturn\u001B[39;00m\n\u001B[0;32m--> 847\u001B[0m \u001B[38;5;28;43mself\u001B[39;49m\u001B[38;5;241;43m.\u001B[39;49m\u001B[43m_check_frozen\u001B[49m\u001B[43m(\u001B[49m\u001B[43mname\u001B[49m\u001B[43m,\u001B[49m\u001B[43m \u001B[49m\u001B[43mvalue\u001B[49m\u001B[43m)\u001B[49m\n\u001B[1;32m    849\u001B[0m attr \u001B[38;5;241m=\u001B[39m \u001B[38;5;28mgetattr\u001B[39m(\u001B[38;5;28mself\u001B[39m\u001B[38;5;241m.\u001B[39m\u001B[38;5;18m__class__\u001B[39m, name, \u001B[38;5;28;01mNone\u001B[39;00m)\n\u001B[1;32m    850\u001B[0m \u001B[38;5;28;01mif\u001B[39;00m \u001B[38;5;28misinstance\u001B[39m(attr, \u001B[38;5;28mproperty\u001B[39m):\n",
      "File \u001B[0;32m~/a-code/PythonDojo/venv/lib/python3.12/site-packages/pydantic/main.py:911\u001B[0m, in \u001B[0;36mBaseModel._check_frozen\u001B[0;34m(self, name, value)\u001B[0m\n\u001B[1;32m    905\u001B[0m     \u001B[38;5;28;01mreturn\u001B[39;00m\n\u001B[1;32m    906\u001B[0m error: pydantic_core\u001B[38;5;241m.\u001B[39mInitErrorDetails \u001B[38;5;241m=\u001B[39m {\n\u001B[1;32m    907\u001B[0m     \u001B[38;5;124m'\u001B[39m\u001B[38;5;124mtype\u001B[39m\u001B[38;5;124m'\u001B[39m: typ,\n\u001B[1;32m    908\u001B[0m     \u001B[38;5;124m'\u001B[39m\u001B[38;5;124mloc\u001B[39m\u001B[38;5;124m'\u001B[39m: (name,),\n\u001B[1;32m    909\u001B[0m     \u001B[38;5;124m'\u001B[39m\u001B[38;5;124minput\u001B[39m\u001B[38;5;124m'\u001B[39m: value,\n\u001B[1;32m    910\u001B[0m }\n\u001B[0;32m--> 911\u001B[0m \u001B[38;5;28;01mraise\u001B[39;00m pydantic_core\u001B[38;5;241m.\u001B[39mValidationError\u001B[38;5;241m.\u001B[39mfrom_exception_data(\u001B[38;5;28mself\u001B[39m\u001B[38;5;241m.\u001B[39m\u001B[38;5;18m__class__\u001B[39m\u001B[38;5;241m.\u001B[39m\u001B[38;5;18m__name__\u001B[39m, [error])\n",
      "\u001B[0;31mValidationError\u001B[0m: 1 validation error for Model\nfield_1\n  Instance is frozen [type=frozen_instance, input_value=2, input_type=int]\n    For further information visit https://errors.pydantic.dev/2.8/v/frozen_instance"
     ]
    }
   ],
   "execution_count": 15
  },
  {
   "metadata": {
    "ExecuteTime": {
     "end_time": "2024-08-26T10:38:04.738196Z",
     "start_time": "2024-08-26T10:38:04.734453Z"
    }
   },
   "cell_type": "code",
   "source": [
    "class Model(BaseModel):\n",
    "    model_config = ConfigDict(frozen=True)\n",
    "    \n",
    "    field_1: int = Field(frozen=False)"
   ],
   "id": "ba64020f12ea99cf",
   "outputs": [],
   "execution_count": 16
  },
  {
   "metadata": {
    "ExecuteTime": {
     "end_time": "2024-08-26T10:38:10.412026Z",
     "start_time": "2024-08-26T10:38:10.407515Z"
    }
   },
   "cell_type": "code",
   "source": [
    "m = Model(field_1=1)\n",
    "m"
   ],
   "id": "ba486c4cac23a5a9",
   "outputs": [
    {
     "data": {
      "text/plain": [
       "Model(field_1=1)"
      ]
     },
     "execution_count": 17,
     "metadata": {},
     "output_type": "execute_result"
    }
   ],
   "execution_count": 17
  },
  {
   "metadata": {
    "ExecuteTime": {
     "end_time": "2024-08-26T10:38:13.511352Z",
     "start_time": "2024-08-26T10:38:13.484503Z"
    }
   },
   "cell_type": "code",
   "source": "m.field_1 = 2",
   "id": "4b650e7892911314",
   "outputs": [
    {
     "ename": "ValidationError",
     "evalue": "1 validation error for Model\nfield_1\n  Instance is frozen [type=frozen_instance, input_value=2, input_type=int]\n    For further information visit https://errors.pydantic.dev/2.8/v/frozen_instance",
     "output_type": "error",
     "traceback": [
      "\u001B[0;31m---------------------------------------------------------------------------\u001B[0m",
      "\u001B[0;31mValidationError\u001B[0m                           Traceback (most recent call last)",
      "Cell \u001B[0;32mIn[18], line 1\u001B[0m\n\u001B[0;32m----> 1\u001B[0m \u001B[43mm\u001B[49m\u001B[38;5;241;43m.\u001B[39;49m\u001B[43mfield_1\u001B[49m \u001B[38;5;241m=\u001B[39m \u001B[38;5;241m2\u001B[39m\n",
      "File \u001B[0;32m~/a-code/PythonDojo/venv/lib/python3.12/site-packages/pydantic/main.py:847\u001B[0m, in \u001B[0;36mBaseModel.__setattr__\u001B[0;34m(self, name, value)\u001B[0m\n\u001B[1;32m    844\u001B[0m             \u001B[38;5;28mself\u001B[39m\u001B[38;5;241m.\u001B[39m__pydantic_private__[name] \u001B[38;5;241m=\u001B[39m value\n\u001B[1;32m    845\u001B[0m     \u001B[38;5;28;01mreturn\u001B[39;00m\n\u001B[0;32m--> 847\u001B[0m \u001B[38;5;28;43mself\u001B[39;49m\u001B[38;5;241;43m.\u001B[39;49m\u001B[43m_check_frozen\u001B[49m\u001B[43m(\u001B[49m\u001B[43mname\u001B[49m\u001B[43m,\u001B[49m\u001B[43m \u001B[49m\u001B[43mvalue\u001B[49m\u001B[43m)\u001B[49m\n\u001B[1;32m    849\u001B[0m attr \u001B[38;5;241m=\u001B[39m \u001B[38;5;28mgetattr\u001B[39m(\u001B[38;5;28mself\u001B[39m\u001B[38;5;241m.\u001B[39m\u001B[38;5;18m__class__\u001B[39m, name, \u001B[38;5;28;01mNone\u001B[39;00m)\n\u001B[1;32m    850\u001B[0m \u001B[38;5;28;01mif\u001B[39;00m \u001B[38;5;28misinstance\u001B[39m(attr, \u001B[38;5;28mproperty\u001B[39m):\n",
      "File \u001B[0;32m~/a-code/PythonDojo/venv/lib/python3.12/site-packages/pydantic/main.py:911\u001B[0m, in \u001B[0;36mBaseModel._check_frozen\u001B[0;34m(self, name, value)\u001B[0m\n\u001B[1;32m    905\u001B[0m     \u001B[38;5;28;01mreturn\u001B[39;00m\n\u001B[1;32m    906\u001B[0m error: pydantic_core\u001B[38;5;241m.\u001B[39mInitErrorDetails \u001B[38;5;241m=\u001B[39m {\n\u001B[1;32m    907\u001B[0m     \u001B[38;5;124m'\u001B[39m\u001B[38;5;124mtype\u001B[39m\u001B[38;5;124m'\u001B[39m: typ,\n\u001B[1;32m    908\u001B[0m     \u001B[38;5;124m'\u001B[39m\u001B[38;5;124mloc\u001B[39m\u001B[38;5;124m'\u001B[39m: (name,),\n\u001B[1;32m    909\u001B[0m     \u001B[38;5;124m'\u001B[39m\u001B[38;5;124minput\u001B[39m\u001B[38;5;124m'\u001B[39m: value,\n\u001B[1;32m    910\u001B[0m }\n\u001B[0;32m--> 911\u001B[0m \u001B[38;5;28;01mraise\u001B[39;00m pydantic_core\u001B[38;5;241m.\u001B[39mValidationError\u001B[38;5;241m.\u001B[39mfrom_exception_data(\u001B[38;5;28mself\u001B[39m\u001B[38;5;241m.\u001B[39m\u001B[38;5;18m__class__\u001B[39m\u001B[38;5;241m.\u001B[39m\u001B[38;5;18m__name__\u001B[39m, [error])\n",
      "\u001B[0;31mValidationError\u001B[0m: 1 validation error for Model\nfield_1\n  Instance is frozen [type=frozen_instance, input_value=2, input_type=int]\n    For further information visit https://errors.pydantic.dev/2.8/v/frozen_instance"
     ]
    }
   ],
   "execution_count": 18
  },
  {
   "metadata": {
    "ExecuteTime": {
     "end_time": "2024-08-26T10:42:29.166090Z",
     "start_time": "2024-08-26T10:42:29.160671Z"
    }
   },
   "cell_type": "code",
   "source": [
    "class Model(BaseModel):\n",
    "    model_config = ConfigDict(frozen=False)\n",
    "    \n",
    "    field_1: int = Field(frozen=True)\n",
    "    field_2: int = Field(exclude=True)"
   ],
   "id": "40836beaf6b965eb",
   "outputs": [],
   "execution_count": 26
  },
  {
   "metadata": {
    "ExecuteTime": {
     "end_time": "2024-08-26T10:42:29.438190Z",
     "start_time": "2024-08-26T10:42:29.433311Z"
    }
   },
   "cell_type": "code",
   "source": [
    "m = Model(field_1=1, field_2=2)\n",
    "m"
   ],
   "id": "324342f9a3550d5d",
   "outputs": [
    {
     "data": {
      "text/plain": [
       "Model(field_1=1, field_2=2)"
      ]
     },
     "execution_count": 27,
     "metadata": {},
     "output_type": "execute_result"
    }
   ],
   "execution_count": 27
  },
  {
   "metadata": {
    "ExecuteTime": {
     "end_time": "2024-08-26T10:42:30.481802Z",
     "start_time": "2024-08-26T10:42:30.477850Z"
    }
   },
   "cell_type": "code",
   "source": "m.field_2 = 3",
   "id": "bf83d61de45b1a3",
   "outputs": [],
   "execution_count": 28
  },
  {
   "metadata": {
    "ExecuteTime": {
     "end_time": "2024-08-26T10:42:34.250918Z",
     "start_time": "2024-08-26T10:42:34.246839Z"
    }
   },
   "cell_type": "code",
   "source": "m.model_dump()",
   "id": "6e8aeaf4a6c70a90",
   "outputs": [
    {
     "data": {
      "text/plain": [
       "{'field_1': 1}"
      ]
     },
     "execution_count": 29,
     "metadata": {},
     "output_type": "execute_result"
    }
   ],
   "execution_count": 29
  },
  {
   "metadata": {},
   "cell_type": "code",
   "outputs": [],
   "execution_count": null,
   "source": "",
   "id": "2224511ef4bec5d4"
  }
 ],
 "metadata": {
  "kernelspec": {
   "display_name": "Python 3",
   "language": "python",
   "name": "python3"
  },
  "language_info": {
   "codemirror_mode": {
    "name": "ipython",
    "version": 2
   },
   "file_extension": ".py",
   "mimetype": "text/x-python",
   "name": "python",
   "nbconvert_exporter": "python",
   "pygments_lexer": "ipython2",
   "version": "2.7.6"
  }
 },
 "nbformat": 4,
 "nbformat_minor": 5
}
