{
 "cells": [
  {
   "metadata": {
    "ExecuteTime": {
     "end_time": "2024-04-19T14:37:44.468487Z",
     "start_time": "2024-04-19T14:37:44.463464Z"
    }
   },
   "cell_type": "code",
   "source": "x = 1, 2, 3, 4, 5",
   "id": "a70732c1dc59d17c",
   "outputs": [],
   "execution_count": 1
  },
  {
   "metadata": {
    "ExecuteTime": {
     "end_time": "2024-04-19T14:38:17.430523Z",
     "start_time": "2024-04-19T14:38:17.427613Z"
    }
   },
   "cell_type": "code",
   "source": "x1, *_, x2 = x ",
   "id": "79342ff6de274156",
   "outputs": [],
   "execution_count": 4
  },
  {
   "metadata": {
    "ExecuteTime": {
     "end_time": "2024-04-19T14:38:21.161469Z",
     "start_time": "2024-04-19T14:38:21.152061Z"
    }
   },
   "cell_type": "code",
   "source": "_",
   "id": "1d0ea353c8719289",
   "outputs": [
    {
     "data": {
      "text/plain": [
       "[2, 3, 4]"
      ]
     },
     "execution_count": 5,
     "metadata": {},
     "output_type": "execute_result"
    }
   ],
   "execution_count": 5
  },
  {
   "metadata": {
    "ExecuteTime": {
     "end_time": "2024-04-19T14:39:48.420090Z",
     "start_time": "2024-04-19T14:39:48.416342Z"
    }
   },
   "cell_type": "code",
   "source": "x = 1, [1, 2], 3",
   "id": "bcbe6435475c31e8",
   "outputs": [],
   "execution_count": 6
  },
  {
   "metadata": {
    "ExecuteTime": {
     "end_time": "2024-04-19T14:40:05.854168Z",
     "start_time": "2024-04-19T14:40:05.848585Z"
    }
   },
   "cell_type": "code",
   "source": "x[1].pop(0)",
   "id": "136501f98a6d9130",
   "outputs": [
    {
     "data": {
      "text/plain": [
       "1"
      ]
     },
     "execution_count": 7,
     "metadata": {},
     "output_type": "execute_result"
    }
   ],
   "execution_count": 7
  },
  {
   "metadata": {
    "ExecuteTime": {
     "end_time": "2024-04-19T14:46:20.684318Z",
     "start_time": "2024-04-19T14:46:20.680722Z"
    }
   },
   "cell_type": "code",
   "source": "x = 1, 2",
   "id": "95e7e83494c6ff2d",
   "outputs": [],
   "execution_count": 1
  },
  {
   "metadata": {
    "ExecuteTime": {
     "end_time": "2024-04-19T14:46:24.727171Z",
     "start_time": "2024-04-19T14:46:24.724151Z"
    }
   },
   "cell_type": "code",
   "source": "y = 3, 4",
   "id": "cab90858fe70fe0",
   "outputs": [],
   "execution_count": 2
  },
  {
   "metadata": {
    "ExecuteTime": {
     "end_time": "2024-04-19T14:46:33.216653Z",
     "start_time": "2024-04-19T14:46:33.213040Z"
    }
   },
   "cell_type": "code",
   "source": "z = x, y",
   "id": "c3e9ffade6af4869",
   "outputs": [],
   "execution_count": 4
  },
  {
   "metadata": {
    "ExecuteTime": {
     "end_time": "2024-04-19T14:46:34.722324Z",
     "start_time": "2024-04-19T14:46:34.709596Z"
    }
   },
   "cell_type": "code",
   "source": "z",
   "id": "434661ccde5ec7d4",
   "outputs": [
    {
     "data": {
      "text/plain": [
       "((1, 2), (3, 4))"
      ]
     },
     "execution_count": 5,
     "metadata": {},
     "output_type": "execute_result"
    }
   ],
   "execution_count": 5
  },
  {
   "metadata": {
    "ExecuteTime": {
     "end_time": "2024-04-19T14:49:00.200993Z",
     "start_time": "2024-04-19T14:49:00.195155Z"
    }
   },
   "cell_type": "code",
   "source": "type(x for x in range(1))",
   "id": "d8b3e4d6bba29ee",
   "outputs": [
    {
     "data": {
      "text/plain": [
       "generator"
      ]
     },
     "execution_count": 6,
     "metadata": {},
     "output_type": "execute_result"
    }
   ],
   "execution_count": 6
  },
  {
   "metadata": {
    "ExecuteTime": {
     "end_time": "2024-04-19T14:50:55.385469Z",
     "start_time": "2024-04-19T14:50:55.379205Z"
    }
   },
   "cell_type": "code",
   "source": [
    "from collections.abc import Iterable, Iterator\n",
    "isinstance((x for x in range(1)), Iterator)"
   ],
   "id": "49a0d8404e5b7831",
   "outputs": [
    {
     "data": {
      "text/plain": [
       "True"
      ]
     },
     "execution_count": 9,
     "metadata": {},
     "output_type": "execute_result"
    }
   ],
   "execution_count": 9
  },
  {
   "metadata": {
    "ExecuteTime": {
     "end_time": "2024-04-28T10:18:30.303152Z",
     "start_time": "2024-04-28T10:18:30.297446Z"
    }
   },
   "cell_type": "code",
   "source": [
    "from random import uniform\n",
    "from math import sqrt\n",
    "\n",
    "def random_shot(radius):\n",
    "    random_x = uniform(-radius, radius)\n",
    "    random_y = uniform(-radius, radius)\n",
    "    \n",
    "    if sqrt(random_x ** 2 + random_y ** 2) <= radius:\n",
    "        is_in_circle = True\n",
    "    else:\n",
    "        is_in_circle = False\n",
    "        \n",
    "    return random_x, random_y, is_in_circle"
   ],
   "id": "795ba03ad3cfc971",
   "outputs": [],
   "execution_count": 1
  },
  {
   "metadata": {
    "ExecuteTime": {
     "end_time": "2024-04-28T10:33:30.193641Z",
     "start_time": "2024-04-28T10:33:30.049413Z"
    }
   },
   "cell_type": "code",
   "source": [
    "num_attempts = 10**5\n",
    "count_inside = 0\n",
    "\n",
    "for i in range(num_attempts):\n",
    "    *_, is_in_circle = random_shot(1)\n",
    "    count_inside += is_in_circle\n",
    "    \n",
    "print(f'Pi is approximately: {4 * count_inside / num_attempts}')"
   ],
   "id": "54bf589018dd51f7",
   "outputs": [
    {
     "name": "stdout",
     "output_type": "stream",
     "text": [
      "Pi is approximately: 3.14436\n"
     ]
    }
   ],
   "execution_count": 12
  },
  {
   "metadata": {},
   "cell_type": "code",
   "outputs": [],
   "execution_count": null,
   "source": "from collections import namedtuple",
   "id": "940149c95181f37e"
  }
 ],
 "metadata": {
  "kernelspec": {
   "display_name": "Python 3",
   "language": "python",
   "name": "python3"
  },
  "language_info": {
   "codemirror_mode": {
    "name": "ipython",
    "version": 2
   },
   "file_extension": ".py",
   "mimetype": "text/x-python",
   "name": "python",
   "nbconvert_exporter": "python",
   "pygments_lexer": "ipython2",
   "version": "2.7.6"
  }
 },
 "nbformat": 4,
 "nbformat_minor": 5
}
