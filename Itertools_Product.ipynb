{
 "cells": [
  {
   "metadata": {},
   "cell_type": "code",
   "outputs": [],
   "execution_count": null,
   "source": [
    "i = 0\n",
    "for a in range(30):\n",
    "    for b in range(30):\n",
    "        for c in range(30):\n",
    "            for d in range(30):\n",
    "                for e in range(30):\n",
    "                    i += 1"
   ],
   "id": "6ea61d16a12e9579"
  },
  {
   "metadata": {},
   "cell_type": "code",
   "outputs": [],
   "execution_count": null,
   "source": "from itertools import product",
   "id": "780be702b7758ed3"
  },
  {
   "metadata": {},
   "cell_type": "code",
   "outputs": [],
   "execution_count": null,
   "source": [
    "arr = []\n",
    "for a, b, c in product(range(16), repeat=3):\n",
    "    arr.append(int(f'{hex(a)[2:]}{hex(b)[2:]}{hex(c)[2:]}', base=16))"
   ],
   "id": "d50e854382509b13"
  }
 ],
 "metadata": {
  "kernelspec": {
   "display_name": "Python 3",
   "language": "python",
   "name": "python3"
  },
  "language_info": {
   "codemirror_mode": {
    "name": "ipython",
    "version": 2
   },
   "file_extension": ".py",
   "mimetype": "text/x-python",
   "name": "python",
   "nbconvert_exporter": "python",
   "pygments_lexer": "ipython2",
   "version": "2.7.6"
  }
 },
 "nbformat": 4,
 "nbformat_minor": 5
}
