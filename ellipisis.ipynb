{
 "cells": [
  {
   "cell_type": "code",
   "id": "initial_id",
   "metadata": {
    "collapsed": true,
    "ExecuteTime": {
     "end_time": "2024-07-31T08:19:19.712047Z",
     "start_time": "2024-07-31T08:19:19.707176Z"
    }
   },
   "source": "Ellipsis",
   "outputs": [
    {
     "data": {
      "text/plain": [
       "Ellipsis"
      ]
     },
     "execution_count": 1,
     "metadata": {},
     "output_type": "execute_result"
    }
   ],
   "execution_count": 1
  },
  {
   "metadata": {
    "ExecuteTime": {
     "end_time": "2024-07-31T08:19:24.787412Z",
     "start_time": "2024-07-31T08:19:24.783730Z"
    }
   },
   "cell_type": "code",
   "source": "type(Ellipsis)",
   "id": "fd83c39521c5f5a1",
   "outputs": [
    {
     "data": {
      "text/plain": [
       "ellipsis"
      ]
     },
     "execution_count": 2,
     "metadata": {},
     "output_type": "execute_result"
    }
   ],
   "execution_count": 2
  },
  {
   "metadata": {
    "ExecuteTime": {
     "end_time": "2024-07-31T08:19:30.246802Z",
     "start_time": "2024-07-31T08:19:30.240631Z"
    }
   },
   "cell_type": "code",
   "source": "help(Ellipsis)",
   "id": "f595545e7dc583e0",
   "outputs": [
    {
     "name": "stdout",
     "output_type": "stream",
     "text": [
      "Help on ellipsis object:\n",
      "\n",
      "class ellipsis(object)\n",
      " |  Methods defined here:\n",
      " |\n",
      " |  __getattribute__(self, name, /)\n",
      " |      Return getattr(self, name).\n",
      " |\n",
      " |  __reduce__(...)\n",
      " |      Helper for pickle.\n",
      " |\n",
      " |  __repr__(self, /)\n",
      " |      Return repr(self).\n",
      " |\n",
      " |  ----------------------------------------------------------------------\n",
      " |  Static methods defined here:\n",
      " |\n",
      " |  __new__(*args, **kwargs)\n",
      " |      Create and return a new object.  See help(type) for accurate signature.\n",
      "\n"
     ]
    }
   ],
   "execution_count": 3
  },
  {
   "metadata": {
    "ExecuteTime": {
     "end_time": "2024-07-31T08:20:58.218924Z",
     "start_time": "2024-07-31T08:20:58.214353Z"
    }
   },
   "cell_type": "code",
   "source": "...",
   "id": "b6e90d35147bab9a",
   "outputs": [
    {
     "data": {
      "text/plain": [
       "Ellipsis"
      ]
     },
     "execution_count": 4,
     "metadata": {},
     "output_type": "execute_result"
    }
   ],
   "execution_count": 4
  },
  {
   "metadata": {
    "ExecuteTime": {
     "end_time": "2024-07-31T08:25:14.517472Z",
     "start_time": "2024-07-31T08:25:14.514174Z"
    }
   },
   "cell_type": "code",
   "source": "from typing import Tuple",
   "id": "4785b3c528565317",
   "outputs": [],
   "execution_count": 5
  },
  {
   "metadata": {},
   "cell_type": "code",
   "outputs": [],
   "execution_count": null,
   "source": [
    "def mario() -> Tuple[int]:\n",
    "    return 1, 2, 3"
   ],
   "id": "1980506ac36e6bed"
  },
  {
   "metadata": {},
   "cell_type": "code",
   "outputs": [],
   "execution_count": null,
   "source": [
    "def luigi() -> Tuple[int, ...]:\n",
    "    return 1, 2, 3"
   ],
   "id": "cd060ea400893926"
  }
 ],
 "metadata": {
  "kernelspec": {
   "display_name": "Python 3",
   "language": "python",
   "name": "python3"
  },
  "language_info": {
   "codemirror_mode": {
    "name": "ipython",
    "version": 2
   },
   "file_extension": ".py",
   "mimetype": "text/x-python",
   "name": "python",
   "nbconvert_exporter": "python",
   "pygments_lexer": "ipython2",
   "version": "2.7.6"
  }
 },
 "nbformat": 4,
 "nbformat_minor": 5
}
