{
 "cells": [
  {
   "cell_type": "code",
   "id": "initial_id",
   "metadata": {
    "collapsed": true,
    "ExecuteTime": {
     "end_time": "2024-09-27T08:32:05.258025Z",
     "start_time": "2024-09-27T08:32:05.255318Z"
    }
   },
   "source": "d = dict(zip('abc', range(1, 4)))",
   "outputs": [],
   "execution_count": 1
  },
  {
   "metadata": {
    "ExecuteTime": {
     "end_time": "2024-09-27T08:32:06.595733Z",
     "start_time": "2024-09-27T08:32:06.588154Z"
    }
   },
   "cell_type": "code",
   "source": "d",
   "id": "6fa590b49d7b62a1",
   "outputs": [
    {
     "data": {
      "text/plain": [
       "{'a': 1, 'b': 2, 'c': 3}"
      ]
     },
     "execution_count": 2,
     "metadata": {},
     "output_type": "execute_result"
    }
   ],
   "execution_count": 2
  },
  {
   "metadata": {
    "ExecuteTime": {
     "end_time": "2024-09-27T08:32:11.774100Z",
     "start_time": "2024-09-27T08:32:11.769638Z"
    }
   },
   "cell_type": "code",
   "source": "len(d)",
   "id": "6814ebdd58549c5d",
   "outputs": [
    {
     "data": {
      "text/plain": [
       "3"
      ]
     },
     "execution_count": 3,
     "metadata": {},
     "output_type": "execute_result"
    }
   ],
   "execution_count": 3
  },
  {
   "metadata": {
    "ExecuteTime": {
     "end_time": "2024-09-27T08:32:18.157647Z",
     "start_time": "2024-09-27T08:32:18.152158Z"
    }
   },
   "cell_type": "code",
   "source": "d['a']",
   "id": "cab854bc81814c8e",
   "outputs": [
    {
     "data": {
      "text/plain": [
       "1"
      ]
     },
     "execution_count": 4,
     "metadata": {},
     "output_type": "execute_result"
    }
   ],
   "execution_count": 4
  },
  {
   "metadata": {
    "ExecuteTime": {
     "end_time": "2024-09-27T08:32:23.630596Z",
     "start_time": "2024-09-27T08:32:23.424772Z"
    }
   },
   "cell_type": "code",
   "source": "d['python']",
   "id": "81bf3342a9c9d7e7",
   "outputs": [
    {
     "ename": "KeyError",
     "evalue": "'python'",
     "output_type": "error",
     "traceback": [
      "\u001B[0;31m---------------------------------------------------------------------------\u001B[0m",
      "\u001B[0;31mKeyError\u001B[0m                                  Traceback (most recent call last)",
      "Cell \u001B[0;32mIn[5], line 1\u001B[0m\n\u001B[0;32m----> 1\u001B[0m \u001B[43md\u001B[49m\u001B[43m[\u001B[49m\u001B[38;5;124;43m'\u001B[39;49m\u001B[38;5;124;43mpython\u001B[39;49m\u001B[38;5;124;43m'\u001B[39;49m\u001B[43m]\u001B[49m\n",
      "\u001B[0;31mKeyError\u001B[0m: 'python'"
     ]
    }
   ],
   "execution_count": 5
  },
  {
   "metadata": {
    "ExecuteTime": {
     "end_time": "2024-09-27T08:32:35.513466Z",
     "start_time": "2024-09-27T08:32:35.508739Z"
    }
   },
   "cell_type": "code",
   "source": "d.get('a')",
   "id": "c1ed42ea882fc098",
   "outputs": [
    {
     "data": {
      "text/plain": [
       "1"
      ]
     },
     "execution_count": 6,
     "metadata": {},
     "output_type": "execute_result"
    }
   ],
   "execution_count": 6
  },
  {
   "metadata": {
    "ExecuteTime": {
     "end_time": "2024-09-27T08:32:47.835826Z",
     "start_time": "2024-09-27T08:32:47.832098Z"
    }
   },
   "cell_type": "code",
   "source": "print(d.get('python'))",
   "id": "ff7e36a187f35684",
   "outputs": [
    {
     "name": "stdout",
     "output_type": "stream",
     "text": [
      "None\n"
     ]
    }
   ],
   "execution_count": 8
  },
  {
   "metadata": {
    "ExecuteTime": {
     "end_time": "2024-09-27T08:33:10.881770Z",
     "start_time": "2024-09-27T08:33:10.876858Z"
    }
   },
   "cell_type": "code",
   "source": "d.get(\"z\", \"N/A\")",
   "id": "2761cda3c1a2e8c4",
   "outputs": [
    {
     "data": {
      "text/plain": [
       "'N/A'"
      ]
     },
     "execution_count": 9,
     "metadata": {},
     "output_type": "execute_result"
    }
   ],
   "execution_count": 9
  },
  {
   "metadata": {
    "ExecuteTime": {
     "end_time": "2024-09-27T08:33:23.779754Z",
     "start_time": "2024-09-27T08:33:23.775283Z"
    }
   },
   "cell_type": "code",
   "source": "d.get(\"a\", \"N/A\")",
   "id": "f9870a97f0f58f35",
   "outputs": [
    {
     "data": {
      "text/plain": [
       "1"
      ]
     },
     "execution_count": 10,
     "metadata": {},
     "output_type": "execute_result"
    }
   ],
   "execution_count": 10
  },
  {
   "metadata": {
    "ExecuteTime": {
     "end_time": "2024-09-27T08:35:22.563810Z",
     "start_time": "2024-09-27T08:35:22.560441Z"
    }
   },
   "cell_type": "code",
   "source": "text = \"Sint voluptas doloremque maiores qui nesciunt minima assumenda. Minus nam nam aut quaerat quia. Dolore et in ad deserunt est cupiditate. Neque ad voluptas quisquam dignissimos deserunt sed quia molestiae.\"",
   "id": "dd9564bec72a43c2",
   "outputs": [],
   "execution_count": 11
  },
  {
   "metadata": {
    "ExecuteTime": {
     "end_time": "2024-09-27T08:36:45.815816Z",
     "start_time": "2024-09-27T08:36:45.812368Z"
    }
   },
   "cell_type": "code",
   "source": [
    "counts = dict()\n",
    "for c in text:\n",
    "    c = c.lower()\n",
    "    counts[c] = counts.get(c, 0) + 1"
   ],
   "id": "b84a264ae2b64345",
   "outputs": [],
   "execution_count": 18
  },
  {
   "metadata": {
    "ExecuteTime": {
     "end_time": "2024-09-27T08:36:46.150639Z",
     "start_time": "2024-09-27T08:36:46.146675Z"
    }
   },
   "cell_type": "code",
   "source": "counts",
   "id": "b8a6cc7206210c63",
   "outputs": [
    {
     "data": {
      "text/plain": [
       "{'s': 17,\n",
       " 'i': 17,\n",
       " 'n': 13,\n",
       " 't': 13,\n",
       " ' ': 29,\n",
       " 'v': 2,\n",
       " 'o': 9,\n",
       " 'l': 5,\n",
       " 'u': 17,\n",
       " 'p': 3,\n",
       " 'a': 18,\n",
       " 'd': 10,\n",
       " 'r': 6,\n",
       " 'e': 19,\n",
       " 'm': 11,\n",
       " 'q': 8,\n",
       " 'c': 2,\n",
       " '.': 4,\n",
       " 'g': 1}"
      ]
     },
     "execution_count": 19,
     "metadata": {},
     "output_type": "execute_result"
    }
   ],
   "execution_count": 19
  },
  {
   "metadata": {
    "ExecuteTime": {
     "end_time": "2024-09-27T08:37:55.818380Z",
     "start_time": "2024-09-27T08:37:55.815199Z"
    }
   },
   "cell_type": "code",
   "source": [
    "counts = dict()\n",
    "for c in text:\n",
    "    if not c.isalpha():\n",
    "        continue\n",
    "    c = c.lower()\n",
    "    counts[c] = counts.get(c, 0) + 1"
   ],
   "id": "ae47adcd009928a7",
   "outputs": [],
   "execution_count": 20
  },
  {
   "metadata": {
    "ExecuteTime": {
     "end_time": "2024-09-27T08:37:57.765381Z",
     "start_time": "2024-09-27T08:37:57.761568Z"
    }
   },
   "cell_type": "code",
   "source": "counts",
   "id": "265efe85b01a53c4",
   "outputs": [
    {
     "data": {
      "text/plain": [
       "{'s': 17,\n",
       " 'i': 17,\n",
       " 'n': 13,\n",
       " 't': 13,\n",
       " 'v': 2,\n",
       " 'o': 9,\n",
       " 'l': 5,\n",
       " 'u': 17,\n",
       " 'p': 3,\n",
       " 'a': 18,\n",
       " 'd': 10,\n",
       " 'r': 6,\n",
       " 'e': 19,\n",
       " 'm': 11,\n",
       " 'q': 8,\n",
       " 'c': 2,\n",
       " 'g': 1}"
      ]
     },
     "execution_count": 21,
     "metadata": {},
     "output_type": "execute_result"
    }
   ],
   "execution_count": 21
  },
  {
   "metadata": {
    "ExecuteTime": {
     "end_time": "2024-09-27T08:39:04.722201Z",
     "start_time": "2024-09-27T08:39:04.718332Z"
    }
   },
   "cell_type": "code",
   "source": "d = dict(a=1, b=2, c=3)",
   "id": "f63c9d0d6870004",
   "outputs": [],
   "execution_count": 22
  },
  {
   "metadata": {
    "ExecuteTime": {
     "end_time": "2024-09-27T08:39:14.447896Z",
     "start_time": "2024-09-27T08:39:14.443195Z"
    }
   },
   "cell_type": "code",
   "source": "\"a\" in d, \"z\" in d",
   "id": "ffaa972397ff2ddc",
   "outputs": [
    {
     "data": {
      "text/plain": [
       "(True, False)"
      ]
     },
     "execution_count": 24,
     "metadata": {},
     "output_type": "execute_result"
    }
   ],
   "execution_count": 24
  },
  {
   "metadata": {
    "ExecuteTime": {
     "end_time": "2024-09-27T08:39:32.115707Z",
     "start_time": "2024-09-27T08:39:32.112485Z"
    }
   },
   "cell_type": "code",
   "source": "d = dict.fromkeys('abcd', 0)",
   "id": "6d939c669cb131df",
   "outputs": [],
   "execution_count": 25
  },
  {
   "metadata": {
    "ExecuteTime": {
     "end_time": "2024-09-27T08:39:34.034470Z",
     "start_time": "2024-09-27T08:39:34.030475Z"
    }
   },
   "cell_type": "code",
   "source": "d",
   "id": "ca09b27f1e8812a7",
   "outputs": [
    {
     "data": {
      "text/plain": [
       "{'a': 0, 'b': 0, 'c': 0, 'd': 0}"
      ]
     },
     "execution_count": 26,
     "metadata": {},
     "output_type": "execute_result"
    }
   ],
   "execution_count": 26
  },
  {
   "metadata": {
    "ExecuteTime": {
     "end_time": "2024-09-27T08:39:41.667342Z",
     "start_time": "2024-09-27T08:39:41.664607Z"
    }
   },
   "cell_type": "code",
   "source": "del d['a']",
   "id": "6e964573bb936f29",
   "outputs": [],
   "execution_count": 27
  },
  {
   "metadata": {
    "ExecuteTime": {
     "end_time": "2024-09-27T08:39:42.857945Z",
     "start_time": "2024-09-27T08:39:42.853639Z"
    }
   },
   "cell_type": "code",
   "source": "d",
   "id": "4671601cff19799e",
   "outputs": [
    {
     "data": {
      "text/plain": [
       "{'b': 0, 'c': 0, 'd': 0}"
      ]
     },
     "execution_count": 28,
     "metadata": {},
     "output_type": "execute_result"
    }
   ],
   "execution_count": 28
  },
  {
   "metadata": {
    "ExecuteTime": {
     "end_time": "2024-09-27T08:39:48.620954Z",
     "start_time": "2024-09-27T08:39:48.602802Z"
    }
   },
   "cell_type": "code",
   "source": "del d['z']",
   "id": "f9f0a338c567bec4",
   "outputs": [
    {
     "ename": "KeyError",
     "evalue": "'z'",
     "output_type": "error",
     "traceback": [
      "\u001B[0;31m---------------------------------------------------------------------------\u001B[0m",
      "\u001B[0;31mKeyError\u001B[0m                                  Traceback (most recent call last)",
      "Cell \u001B[0;32mIn[29], line 1\u001B[0m\n\u001B[0;32m----> 1\u001B[0m \u001B[38;5;28;01mdel\u001B[39;00m \u001B[43md\u001B[49m\u001B[43m[\u001B[49m\u001B[38;5;124;43m'\u001B[39;49m\u001B[38;5;124;43mz\u001B[39;49m\u001B[38;5;124;43m'\u001B[39;49m\u001B[43m]\u001B[49m\n",
      "\u001B[0;31mKeyError\u001B[0m: 'z'"
     ]
    }
   ],
   "execution_count": 29
  },
  {
   "metadata": {
    "ExecuteTime": {
     "end_time": "2024-09-27T08:40:24.757630Z",
     "start_time": "2024-09-27T08:40:24.753722Z"
    }
   },
   "cell_type": "code",
   "source": "what_is_it = d.pop('z', 'Mario')",
   "id": "581fcf572d077047",
   "outputs": [],
   "execution_count": 32
  },
  {
   "metadata": {
    "ExecuteTime": {
     "end_time": "2024-09-27T08:40:25.089877Z",
     "start_time": "2024-09-27T08:40:25.086240Z"
    }
   },
   "cell_type": "code",
   "source": "what_is_it",
   "id": "e1268b89f840d14e",
   "outputs": [
    {
     "data": {
      "text/plain": [
       "'Mario'"
      ]
     },
     "execution_count": 33,
     "metadata": {},
     "output_type": "execute_result"
    }
   ],
   "execution_count": 33
  },
  {
   "metadata": {
    "ExecuteTime": {
     "end_time": "2024-09-27T08:41:11.478594Z",
     "start_time": "2024-09-27T08:41:11.475057Z"
    }
   },
   "cell_type": "code",
   "source": "d = {'a': 1, 'b': 2}",
   "id": "515e090dd79ac55a",
   "outputs": [],
   "execution_count": 34
  },
  {
   "metadata": {
    "ExecuteTime": {
     "end_time": "2024-09-27T08:41:23.084489Z",
     "start_time": "2024-09-27T08:41:23.079521Z"
    }
   },
   "cell_type": "code",
   "source": "d.pop('a', 100)",
   "id": "751e4f39ddc4e431",
   "outputs": [
    {
     "data": {
      "text/plain": [
       "1"
      ]
     },
     "execution_count": 35,
     "metadata": {},
     "output_type": "execute_result"
    }
   ],
   "execution_count": 35
  },
  {
   "metadata": {
    "ExecuteTime": {
     "end_time": "2024-09-27T08:41:27.300920Z",
     "start_time": "2024-09-27T08:41:27.295779Z"
    }
   },
   "cell_type": "code",
   "source": "d",
   "id": "53a16be96751ff0b",
   "outputs": [
    {
     "data": {
      "text/plain": [
       "{'b': 2}"
      ]
     },
     "execution_count": 36,
     "metadata": {},
     "output_type": "execute_result"
    }
   ],
   "execution_count": 36
  },
  {
   "metadata": {
    "ExecuteTime": {
     "end_time": "2024-09-27T08:41:29.140973Z",
     "start_time": "2024-09-27T08:41:29.135764Z"
    }
   },
   "cell_type": "code",
   "source": "d.pop('a', 100)",
   "id": "6730d5123a0b2c6",
   "outputs": [
    {
     "data": {
      "text/plain": [
       "100"
      ]
     },
     "execution_count": 37,
     "metadata": {},
     "output_type": "execute_result"
    }
   ],
   "execution_count": 37
  },
  {
   "metadata": {
    "ExecuteTime": {
     "end_time": "2024-09-27T08:42:23.480993Z",
     "start_time": "2024-09-27T08:42:23.477937Z"
    }
   },
   "cell_type": "code",
   "source": "d = {i: i**2 for i in range(1, 5)}",
   "id": "918d86974471698f",
   "outputs": [],
   "execution_count": 41
  },
  {
   "metadata": {
    "ExecuteTime": {
     "end_time": "2024-09-27T08:42:23.707308Z",
     "start_time": "2024-09-27T08:42:23.703155Z"
    }
   },
   "cell_type": "code",
   "source": "d.popitem(), d.popitem(), d.popitem(), d.popitem()",
   "id": "bdef31db6ce6217a",
   "outputs": [
    {
     "data": {
      "text/plain": [
       "((4, 16), (3, 9), (2, 4), (1, 1))"
      ]
     },
     "execution_count": 42,
     "metadata": {},
     "output_type": "execute_result"
    }
   ],
   "execution_count": 42
  },
  {
   "metadata": {
    "ExecuteTime": {
     "end_time": "2024-09-27T08:42:24.471219Z",
     "start_time": "2024-09-27T08:42:24.466680Z"
    }
   },
   "cell_type": "code",
   "source": "d",
   "id": "43b6b8745004ff3b",
   "outputs": [
    {
     "data": {
      "text/plain": [
       "{}"
      ]
     },
     "execution_count": 43,
     "metadata": {},
     "output_type": "execute_result"
    }
   ],
   "execution_count": 43
  },
  {
   "metadata": {
    "ExecuteTime": {
     "end_time": "2024-09-27T08:42:56.932044Z",
     "start_time": "2024-09-27T08:42:56.918038Z"
    }
   },
   "cell_type": "code",
   "source": "d.popitem()",
   "id": "50cf277deb3d607b",
   "outputs": [
    {
     "ename": "KeyError",
     "evalue": "'popitem(): dictionary is empty'",
     "output_type": "error",
     "traceback": [
      "\u001B[0;31m---------------------------------------------------------------------------\u001B[0m",
      "\u001B[0;31mKeyError\u001B[0m                                  Traceback (most recent call last)",
      "Cell \u001B[0;32mIn[44], line 1\u001B[0m\n\u001B[0;32m----> 1\u001B[0m \u001B[43md\u001B[49m\u001B[38;5;241;43m.\u001B[39;49m\u001B[43mpopitem\u001B[49m\u001B[43m(\u001B[49m\u001B[43m)\u001B[49m\n",
      "\u001B[0;31mKeyError\u001B[0m: 'popitem(): dictionary is empty'"
     ]
    }
   ],
   "execution_count": 44
  },
  {
   "metadata": {
    "ExecuteTime": {
     "end_time": "2024-09-27T08:43:29.674732Z",
     "start_time": "2024-09-27T08:43:29.671502Z"
    }
   },
   "cell_type": "code",
   "source": "d = {'a': 1, 'b': 2, 'c': 3}",
   "id": "6cf7fbd23f24caa6",
   "outputs": [],
   "execution_count": 46
  },
  {
   "metadata": {
    "ExecuteTime": {
     "end_time": "2024-09-27T08:43:32.675090Z",
     "start_time": "2024-09-27T08:43:32.670107Z"
    }
   },
   "cell_type": "code",
   "source": "d",
   "id": "7802f9ff1314c9c",
   "outputs": [
    {
     "data": {
      "text/plain": [
       "{'a': 1, 'b': 2, 'c': 3}"
      ]
     },
     "execution_count": 47,
     "metadata": {},
     "output_type": "execute_result"
    }
   ],
   "execution_count": 47
  },
  {
   "metadata": {
    "ExecuteTime": {
     "end_time": "2024-09-27T08:44:05.153070Z",
     "start_time": "2024-09-27T08:44:05.149336Z"
    }
   },
   "cell_type": "code",
   "source": [
    "if 'z' not in d:\n",
    "    d['z'] = 0"
   ],
   "id": "39950832c7f4936b",
   "outputs": [],
   "execution_count": 48
  },
  {
   "metadata": {
    "ExecuteTime": {
     "end_time": "2024-09-27T08:44:06.540124Z",
     "start_time": "2024-09-27T08:44:06.536626Z"
    }
   },
   "cell_type": "code",
   "source": "d",
   "id": "81e1a909cd98592",
   "outputs": [
    {
     "data": {
      "text/plain": [
       "{'a': 1, 'b': 2, 'c': 3, 'z': 0}"
      ]
     },
     "execution_count": 49,
     "metadata": {},
     "output_type": "execute_result"
    }
   ],
   "execution_count": 49
  },
  {
   "metadata": {
    "ExecuteTime": {
     "end_time": "2024-09-27T08:44:18.350271Z",
     "start_time": "2024-09-27T08:44:18.347276Z"
    }
   },
   "cell_type": "code",
   "source": [
    "if 'z' not in d:\n",
    "    d['z'] = 8001"
   ],
   "id": "3de960676a375ccf",
   "outputs": [],
   "execution_count": 50
  },
  {
   "metadata": {
    "ExecuteTime": {
     "end_time": "2024-09-27T08:44:20.034461Z",
     "start_time": "2024-09-27T08:44:20.029774Z"
    }
   },
   "cell_type": "code",
   "source": "d",
   "id": "7231075708f508e8",
   "outputs": [
    {
     "data": {
      "text/plain": [
       "{'a': 1, 'b': 2, 'c': 3, 'z': 0}"
      ]
     },
     "execution_count": 51,
     "metadata": {},
     "output_type": "execute_result"
    }
   ],
   "execution_count": 51
  },
  {
   "metadata": {
    "ExecuteTime": {
     "end_time": "2024-09-27T08:45:45.469874Z",
     "start_time": "2024-09-27T08:45:45.466140Z"
    }
   },
   "cell_type": "code",
   "source": [
    "def insert_if_not_present(d, key, value):\n",
    "    if key not in d:\n",
    "        d[key] = value\n",
    "        return value\n",
    "    else:\n",
    "        return d[key]"
   ],
   "id": "efdc0c1e5da41bc0",
   "outputs": [],
   "execution_count": 53
  },
  {
   "metadata": {
    "ExecuteTime": {
     "end_time": "2024-09-27T08:45:47.681556Z",
     "start_time": "2024-09-27T08:45:47.676356Z"
    }
   },
   "cell_type": "code",
   "source": "d",
   "id": "8d4f4b632fd986c4",
   "outputs": [
    {
     "data": {
      "text/plain": [
       "{'a': 1, 'b': 2, 'c': 3, 'z': 0}"
      ]
     },
     "execution_count": 54,
     "metadata": {},
     "output_type": "execute_result"
    }
   ],
   "execution_count": 54
  },
  {
   "metadata": {
    "ExecuteTime": {
     "end_time": "2024-09-27T08:45:58.772015Z",
     "start_time": "2024-09-27T08:45:58.767592Z"
    }
   },
   "cell_type": "code",
   "source": "insert_if_not_present(d, 'z', 100)",
   "id": "8dbf198eabe71e3d",
   "outputs": [
    {
     "data": {
      "text/plain": [
       "0"
      ]
     },
     "execution_count": 55,
     "metadata": {},
     "output_type": "execute_result"
    }
   ],
   "execution_count": 55
  },
  {
   "metadata": {
    "ExecuteTime": {
     "end_time": "2024-09-27T08:46:13.433750Z",
     "start_time": "2024-09-27T08:46:13.429488Z"
    }
   },
   "cell_type": "code",
   "source": "insert_if_not_present(d, 'x', -10)",
   "id": "472e5a0f07d0be3e",
   "outputs": [
    {
     "data": {
      "text/plain": [
       "-10"
      ]
     },
     "execution_count": 56,
     "metadata": {},
     "output_type": "execute_result"
    }
   ],
   "execution_count": 56
  },
  {
   "metadata": {
    "ExecuteTime": {
     "end_time": "2024-09-27T08:46:14.857153Z",
     "start_time": "2024-09-27T08:46:14.852312Z"
    }
   },
   "cell_type": "code",
   "source": "d",
   "id": "eff18392a1a026c5",
   "outputs": [
    {
     "data": {
      "text/plain": [
       "{'a': 1, 'b': 2, 'c': 3, 'z': 0, 'x': -10}"
      ]
     },
     "execution_count": 57,
     "metadata": {},
     "output_type": "execute_result"
    }
   ],
   "execution_count": 57
  },
  {
   "metadata": {
    "ExecuteTime": {
     "end_time": "2024-09-27T09:06:50.113903Z",
     "start_time": "2024-09-27T09:06:50.110638Z"
    }
   },
   "cell_type": "code",
   "source": "d.setdefault('y', 10)",
   "id": "98dc753df3a4c5f7",
   "outputs": [
    {
     "data": {
      "text/plain": [
       "10"
      ]
     },
     "execution_count": 58,
     "metadata": {},
     "output_type": "execute_result"
    }
   ],
   "execution_count": 58
  },
  {
   "metadata": {
    "ExecuteTime": {
     "end_time": "2024-09-27T09:06:52.347708Z",
     "start_time": "2024-09-27T09:06:52.342331Z"
    }
   },
   "cell_type": "code",
   "source": "d",
   "id": "eadde8f4b8e9d04a",
   "outputs": [
    {
     "data": {
      "text/plain": [
       "{'a': 1, 'b': 2, 'c': 3, 'z': 0, 'x': -10, 'y': 10}"
      ]
     },
     "execution_count": 59,
     "metadata": {},
     "output_type": "execute_result"
    }
   ],
   "execution_count": 59
  },
  {
   "metadata": {
    "ExecuteTime": {
     "end_time": "2024-09-27T09:07:48.519680Z",
     "start_time": "2024-09-27T09:07:48.516951Z"
    }
   },
   "cell_type": "code",
   "source": [
    "text = \"Sint voluptas doloremque maiores qui nesciunt minima assumenda. Minus nam nam aut quaerat quia. Dolore et in ad deserunt est cupiditate. Neque ad voluptas quisquam dignissimos deserunt sed quia molestiae.\"\n",
    "\n",
    "counts = dict()\n",
    "for c in text:\n",
    "    if not c.isalpha():\n",
    "        continue\n",
    "    c = c.lower()\n",
    "    counts[c] = counts.get(c, 0) + 1"
   ],
   "id": "db47e30ebb4207ba",
   "outputs": [],
   "execution_count": 61
  },
  {
   "metadata": {
    "ExecuteTime": {
     "end_time": "2024-09-27T09:07:55.338021Z",
     "start_time": "2024-09-27T09:07:55.333885Z"
    }
   },
   "cell_type": "code",
   "source": "counts",
   "id": "7b0d0cf12305ca76",
   "outputs": [
    {
     "data": {
      "text/plain": [
       "{'s': 17,\n",
       " 'i': 17,\n",
       " 'n': 13,\n",
       " 't': 13,\n",
       " 'v': 2,\n",
       " 'o': 9,\n",
       " 'l': 5,\n",
       " 'u': 17,\n",
       " 'p': 3,\n",
       " 'a': 18,\n",
       " 'd': 10,\n",
       " 'r': 6,\n",
       " 'e': 19,\n",
       " 'm': 11,\n",
       " 'q': 8,\n",
       " 'c': 2,\n",
       " 'g': 1}"
      ]
     },
     "execution_count": 62,
     "metadata": {},
     "output_type": "execute_result"
    }
   ],
   "execution_count": 62
  },
  {
   "metadata": {
    "ExecuteTime": {
     "end_time": "2024-09-27T09:09:00.032898Z",
     "start_time": "2024-09-27T09:09:00.030110Z"
    }
   },
   "cell_type": "code",
   "source": "import string",
   "id": "9e492e75f670b10e",
   "outputs": [],
   "execution_count": 63
  },
  {
   "metadata": {
    "ExecuteTime": {
     "end_time": "2024-09-27T09:09:28.034614Z",
     "start_time": "2024-09-27T09:09:28.031417Z"
    }
   },
   "cell_type": "code",
   "source": [
    "print(string.ascii_lowercase)\n",
    "print(string.ascii_uppercase)"
   ],
   "id": "941b1b9a6a464251",
   "outputs": [
    {
     "name": "stdout",
     "output_type": "stream",
     "text": [
      "abcdefghijklmnopqrstuvwxyz\n",
      "ABCDEFGHIJKLMNOPQRSTUVWXYZ\n"
     ]
    }
   ],
   "execution_count": 66
  },
  {
   "metadata": {
    "ExecuteTime": {
     "end_time": "2024-09-27T09:17:47.609044Z",
     "start_time": "2024-09-27T09:17:47.605819Z"
    }
   },
   "cell_type": "code",
   "source": [
    "categories = {}\n",
    "for c in text:\n",
    "    if c == \" \":\n",
    "        continue\n",
    "    if c in string.ascii_lowercase:\n",
    "        key = \"lower\"\n",
    "    elif c in string.ascii_uppercase:\n",
    "        key = \"upper\"\n",
    "    else:\n",
    "        key = \"other\"\n",
    "        \n",
    "    categories.setdefault(key, set()).add(c)"
   ],
   "id": "210787c7b80839c4",
   "outputs": [],
   "execution_count": 80
  },
  {
   "metadata": {
    "ExecuteTime": {
     "end_time": "2024-09-27T09:17:48.069756Z",
     "start_time": "2024-09-27T09:17:48.065230Z"
    }
   },
   "cell_type": "code",
   "source": [
    "for cat, set_ in categories.items():\n",
    "    print(f\"{cat}: {''.join(set_)}\")"
   ],
   "id": "bb91033c69abaa0",
   "outputs": [
    {
     "name": "stdout",
     "output_type": "stream",
     "text": [
      "upper: NSMD\n",
      "lower: lidgcsemuoprntaqv\n",
      "other: .\n"
     ]
    }
   ],
   "execution_count": 81
  },
  {
   "metadata": {
    "ExecuteTime": {
     "end_time": "2024-09-27T09:21:04.318643Z",
     "start_time": "2024-09-27T09:21:04.313460Z"
    }
   },
   "cell_type": "code",
   "source": [
    "def cat_key(c):\n",
    "    if c == \" \":\n",
    "        return None\n",
    "    if c in string.ascii_lowercase:\n",
    "        return \"lower\"\n",
    "    elif c in string.ascii_uppercase:\n",
    "        return \"upper\"\n",
    "    else:\n",
    "        return \"other\"\n",
    "\n",
    "categories = {}\n",
    "for c in text:\n",
    "    key = cat_key(c)\n",
    "    if key:\n",
    "        categories.setdefault(key, set()).add(c)\n",
    "\n",
    "for cat, set_ in categories.items():\n",
    "    print(f\"{cat}: {''.join(set_)}\")"
   ],
   "id": "4261b8b27dd4f02c",
   "outputs": [
    {
     "name": "stdout",
     "output_type": "stream",
     "text": [
      "upper: NSMD\n",
      "lower: lidgcsemuoprntaqv\n",
      "other: .\n"
     ]
    }
   ],
   "execution_count": 83
  },
  {
   "metadata": {
    "ExecuteTime": {
     "end_time": "2024-09-27T09:29:26.062077Z",
     "start_time": "2024-09-27T09:29:26.057580Z"
    }
   },
   "cell_type": "code",
   "source": [
    "def cat_key(c):\n",
    "    categories = {\n",
    "        \" \": None,\n",
    "        **{key: 'lower' for key in string.ascii_lowercase},\n",
    "        **{key: 'upper' for key in string.ascii_uppercase},\n",
    "    }\n",
    "    return categories.get(c, \"other\")\n",
    "\n",
    "categories = {}\n",
    "for c in text:\n",
    "    if key := cat_key(c):\n",
    "        categories.setdefault(key, set()).add(c)\n",
    "\n",
    "for cat, set_ in categories.items():\n",
    "    print(f\"{cat}: {''.join(set_)}\")"
   ],
   "id": "5c8c5dca0ff0c567",
   "outputs": [
    {
     "name": "stdout",
     "output_type": "stream",
     "text": [
      "upper: NSMD\n",
      "lower: lidgcsemuoprntaqv\n",
      "other: .\n"
     ]
    }
   ],
   "execution_count": 89
  },
  {
   "metadata": {
    "ExecuteTime": {
     "end_time": "2024-09-27T09:35:36.442130Z",
     "start_time": "2024-09-27T09:35:36.437946Z"
    }
   },
   "cell_type": "code",
   "source": "from itertools import chain",
   "id": "463fc4bf6295f8e2",
   "outputs": [],
   "execution_count": 90
  },
  {
   "metadata": {
    "ExecuteTime": {
     "end_time": "2024-09-27T09:40:57.908206Z",
     "start_time": "2024-09-27T09:40:57.900308Z"
    }
   },
   "cell_type": "code",
   "source": [
    "def cat_key(c):\n",
    "    cat_1 = {\" \": None}\n",
    "    cat_2 = dict.fromkeys(string.ascii_lowercase, 'lower')\n",
    "    cat_3 = dict.fromkeys(string.ascii_uppercase, 'upper')\n",
    "    categories = dict(**cat_1, **cat_2, **cat_3)\n",
    "    return categories.get(c, \"other\")\n",
    "\n",
    "categories = {}\n",
    "for c in text:\n",
    "    if key := cat_key(c):\n",
    "        categories.setdefault(key, set()).add(c)\n",
    "\n",
    "for cat, set_ in categories.items():\n",
    "    print(f\"{cat}: {''.join(set_)}\")"
   ],
   "id": "bf3f0f1c46edab45",
   "outputs": [
    {
     "name": "stdout",
     "output_type": "stream",
     "text": [
      "upper: NSMD\n",
      "lower: lidgcsemuoprntaqv\n",
      "other: .\n"
     ]
    }
   ],
   "execution_count": 92
  },
  {
   "metadata": {
    "ExecuteTime": {
     "end_time": "2024-09-27T09:41:23.873122Z",
     "start_time": "2024-09-27T09:41:23.870884Z"
    }
   },
   "cell_type": "code",
   "source": "categories.clear()",
   "id": "9cf4122b9c51365e",
   "outputs": [],
   "execution_count": 93
  },
  {
   "metadata": {
    "ExecuteTime": {
     "end_time": "2024-09-27T09:41:26.524040Z",
     "start_time": "2024-09-27T09:41:26.519708Z"
    }
   },
   "cell_type": "code",
   "source": "categories",
   "id": "9bbe042381189252",
   "outputs": [
    {
     "data": {
      "text/plain": [
       "{}"
      ]
     },
     "execution_count": 94,
     "metadata": {},
     "output_type": "execute_result"
    }
   ],
   "execution_count": 94
  },
  {
   "metadata": {
    "ExecuteTime": {
     "end_time": "2024-09-27T09:59:48.086657Z",
     "start_time": "2024-09-27T09:59:48.076242Z"
    }
   },
   "cell_type": "code",
   "source": "{'a', 'b', 'c'}.",
   "id": "e9474d6abdad9820",
   "outputs": [
    {
     "ename": "AttributeError",
     "evalue": "'set' object has no attribute '_total'",
     "output_type": "error",
     "traceback": [
      "\u001B[0;31m---------------------------------------------------------------------------\u001B[0m",
      "\u001B[0;31mAttributeError\u001B[0m                            Traceback (most recent call last)",
      "Cell \u001B[0;32mIn[95], line 1\u001B[0m\n\u001B[0;32m----> 1\u001B[0m \u001B[43m{\u001B[49m\u001B[38;5;124;43m'\u001B[39;49m\u001B[38;5;124;43ma\u001B[39;49m\u001B[38;5;124;43m'\u001B[39;49m\u001B[43m,\u001B[49m\u001B[43m \u001B[49m\u001B[38;5;124;43m'\u001B[39;49m\u001B[38;5;124;43mb\u001B[39;49m\u001B[38;5;124;43m'\u001B[39;49m\u001B[43m,\u001B[49m\u001B[43m \u001B[49m\u001B[38;5;124;43m'\u001B[39;49m\u001B[38;5;124;43mc\u001B[39;49m\u001B[38;5;124;43m'\u001B[39;49m\u001B[43m}\u001B[49m\u001B[38;5;241;43m.\u001B[39;49m\u001B[43m_total\u001B[49m\n",
      "\u001B[0;31mAttributeError\u001B[0m: 'set' object has no attribute '_total'"
     ]
    }
   ],
   "execution_count": 95
  }
 ],
 "metadata": {
  "kernelspec": {
   "display_name": "Python 3",
   "language": "python",
   "name": "python3"
  },
  "language_info": {
   "codemirror_mode": {
    "name": "ipython",
    "version": 2
   },
   "file_extension": ".py",
   "mimetype": "text/x-python",
   "name": "python",
   "nbconvert_exporter": "python",
   "pygments_lexer": "ipython2",
   "version": "2.7.6"
  }
 },
 "nbformat": 4,
 "nbformat_minor": 5
}
