{
 "cells": [
  {
   "cell_type": "code",
   "id": "initial_id",
   "metadata": {
    "collapsed": true,
    "ExecuteTime": {
     "end_time": "2024-09-28T09:16:52.752213Z",
     "start_time": "2024-09-28T09:16:52.749462Z"
    }
   },
   "source": [
    "d1 = {'a': 1, 'b': 2}\n",
    "d2 = {'c': 3, 'd': 4}"
   ],
   "outputs": [],
   "execution_count": 1
  },
  {
   "metadata": {
    "ExecuteTime": {
     "end_time": "2024-09-28T09:16:57.317750Z",
     "start_time": "2024-09-28T09:16:57.314646Z"
    }
   },
   "cell_type": "code",
   "source": "d1.update(d2)",
   "id": "e5d7061090e4f4e8",
   "outputs": [],
   "execution_count": 2
  },
  {
   "metadata": {
    "ExecuteTime": {
     "end_time": "2024-09-28T09:17:28.669465Z",
     "start_time": "2024-09-28T09:17:28.664255Z"
    }
   },
   "cell_type": "code",
   "source": "print(d1, d2)",
   "id": "fd1948533e696852",
   "outputs": [
    {
     "name": "stdout",
     "output_type": "stream",
     "text": [
      "{'a': 1, 'b': 2, 'c': 3, 'd': 4} {'c': 3, 'd': 4}\n"
     ]
    }
   ],
   "execution_count": 5
  },
  {
   "metadata": {
    "ExecuteTime": {
     "end_time": "2024-09-28T09:18:09.293987Z",
     "start_time": "2024-09-28T09:18:09.290553Z"
    }
   },
   "cell_type": "code",
   "source": [
    "d1 = {'a': 1, 'b': 2}\n",
    "d2 = {'c': 3, 'd': 4}"
   ],
   "id": "f0203772e353d016",
   "outputs": [],
   "execution_count": 10
  },
  {
   "metadata": {
    "ExecuteTime": {
     "end_time": "2024-09-28T09:18:09.469330Z",
     "start_time": "2024-09-28T09:18:09.464410Z"
    }
   },
   "cell_type": "code",
   "source": "d1.update(b=20, x=40, c=30)",
   "id": "6faebde694469817",
   "outputs": [],
   "execution_count": 11
  },
  {
   "metadata": {
    "ExecuteTime": {
     "end_time": "2024-09-28T09:18:09.751684Z",
     "start_time": "2024-09-28T09:18:09.747658Z"
    }
   },
   "cell_type": "code",
   "source": "print(d1)",
   "id": "1ecc413a8ba90040",
   "outputs": [
    {
     "name": "stdout",
     "output_type": "stream",
     "text": [
      "{'a': 1, 'b': 20, 'x': 40, 'c': 30}\n"
     ]
    }
   ],
   "execution_count": 12
  },
  {
   "metadata": {
    "ExecuteTime": {
     "end_time": "2024-09-28T09:41:41.775572Z",
     "start_time": "2024-09-28T09:41:41.772182Z"
    }
   },
   "cell_type": "code",
   "source": [
    "d1 = {'a': 1, 'b': 2}\n",
    "d2 = {'c': 3, 'd': 4}"
   ],
   "id": "5b9dcd12d690ba41",
   "outputs": [],
   "execution_count": 18
  },
  {
   "metadata": {
    "ExecuteTime": {
     "end_time": "2024-09-28T09:41:41.994199Z",
     "start_time": "2024-09-28T09:41:41.990338Z"
    }
   },
   "cell_type": "code",
   "source": "d1.update(c=30, x=40, b=20)",
   "id": "d3b150999414b9c2",
   "outputs": [],
   "execution_count": 19
  },
  {
   "metadata": {
    "ExecuteTime": {
     "end_time": "2024-09-28T09:41:42.502207Z",
     "start_time": "2024-09-28T09:41:42.497764Z"
    }
   },
   "cell_type": "code",
   "source": "print(d1)",
   "id": "154a7d9610dcdf74",
   "outputs": [
    {
     "name": "stdout",
     "output_type": "stream",
     "text": [
      "{'a': 1, 'b': 20, 'c': 30, 'x': 40}\n"
     ]
    }
   ],
   "execution_count": 20
  },
  {
   "metadata": {
    "ExecuteTime": {
     "end_time": "2024-09-28T09:41:57.856888Z",
     "start_time": "2024-09-28T09:41:57.853624Z"
    }
   },
   "cell_type": "code",
   "source": [
    "d1 = {'a': 1, 'b': 2}\n",
    "d2 = {'c': 3, 'd': 4}"
   ],
   "id": "77dd725a18b6adbf",
   "outputs": [],
   "execution_count": 21
  },
  {
   "metadata": {
    "ExecuteTime": {
     "end_time": "2024-09-28T09:43:43.864083Z",
     "start_time": "2024-09-28T09:43:43.860386Z"
    }
   },
   "cell_type": "code",
   "source": "d1.update([('c', 2), ['d', 3]])",
   "id": "3367f2404120f6c0",
   "outputs": [],
   "execution_count": 22
  },
  {
   "metadata": {
    "ExecuteTime": {
     "end_time": "2024-09-28T09:43:49.726931Z",
     "start_time": "2024-09-28T09:43:49.722994Z"
    }
   },
   "cell_type": "code",
   "source": "print(d1)",
   "id": "74cbdb4decf0cf68",
   "outputs": [
    {
     "name": "stdout",
     "output_type": "stream",
     "text": [
      "{'a': 1, 'b': 2, 'c': 2, 'd': 3}\n"
     ]
    }
   ],
   "execution_count": 23
  },
  {
   "metadata": {
    "ExecuteTime": {
     "end_time": "2024-09-28T09:44:29.586022Z",
     "start_time": "2024-09-28T09:44:29.582382Z"
    }
   },
   "cell_type": "code",
   "source": [
    "d1 = {'a': 1, 'b': 2}\n",
    "d2 = {'c': 3, 'd': 4}"
   ],
   "id": "3090ab79a03941ab",
   "outputs": [],
   "execution_count": 24
  },
  {
   "metadata": {
    "ExecuteTime": {
     "end_time": "2024-09-28T09:45:00.797986Z",
     "start_time": "2024-09-28T09:45:00.795583Z"
    }
   },
   "cell_type": "code",
   "source": "d1.update((k, ord(k)) for k in 'python')",
   "id": "38f0a867e88d46f1",
   "outputs": [],
   "execution_count": 25
  },
  {
   "metadata": {
    "ExecuteTime": {
     "end_time": "2024-09-28T09:45:05.400691Z",
     "start_time": "2024-09-28T09:45:05.396654Z"
    }
   },
   "cell_type": "code",
   "source": "print(d1)",
   "id": "b5401894ea4197de",
   "outputs": [
    {
     "name": "stdout",
     "output_type": "stream",
     "text": [
      "{'a': 1, 'b': 2, 'p': 112, 'y': 121, 't': 116, 'h': 104, 'o': 111, 'n': 110}\n"
     ]
    }
   ],
   "execution_count": 26
  },
  {
   "metadata": {
    "ExecuteTime": {
     "end_time": "2024-09-28T09:46:13.596542Z",
     "start_time": "2024-09-28T09:46:13.592841Z"
    }
   },
   "cell_type": "code",
   "source": [
    "l1 = [1, 2, 3,]\n",
    "l2 = 'abc'\n",
    "l = *l1, *l2"
   ],
   "id": "8f591d5f6a90cd5a",
   "outputs": [],
   "execution_count": 28
  },
  {
   "metadata": {
    "ExecuteTime": {
     "end_time": "2024-09-28T09:46:18.785536Z",
     "start_time": "2024-09-28T09:46:18.781609Z"
    }
   },
   "cell_type": "code",
   "source": "print(l)",
   "id": "6ffcd5a83a440bb2",
   "outputs": [
    {
     "name": "stdout",
     "output_type": "stream",
     "text": [
      "(1, 2, 3, 'a', 'b', 'c')\n"
     ]
    }
   ],
   "execution_count": 29
  },
  {
   "metadata": {
    "ExecuteTime": {
     "end_time": "2024-09-28T09:48:33.337003Z",
     "start_time": "2024-09-28T09:48:33.332714Z"
    }
   },
   "cell_type": "code",
   "source": [
    "d1 = {'a': 1, 'b': 2}\n",
    "d2 = {'c': 3, 'd': 4}\n",
    "d = {**d1, **d2}\n",
    "print(d)"
   ],
   "id": "aeb55f77c88dcd97",
   "outputs": [
    {
     "name": "stdout",
     "output_type": "stream",
     "text": [
      "{'a': 1, 'b': 2, 'c': 3, 'd': 4}\n"
     ]
    }
   ],
   "execution_count": 39
  },
  {
   "metadata": {
    "ExecuteTime": {
     "end_time": "2024-09-28T09:48:33.636269Z",
     "start_time": "2024-09-28T09:48:33.631538Z"
    }
   },
   "cell_type": "code",
   "source": [
    "d1 = {'a': 1, 'b': 2}\n",
    "d2 = {'b': 20, 'd': 4}\n",
    "d = {**d1, **d2}\n",
    "print(d)"
   ],
   "id": "c7a812b2a7a23fde",
   "outputs": [
    {
     "name": "stdout",
     "output_type": "stream",
     "text": [
      "{'a': 1, 'b': 20, 'd': 4}\n"
     ]
    }
   ],
   "execution_count": 40
  },
  {
   "metadata": {
    "ExecuteTime": {
     "end_time": "2024-09-28T09:50:18.991566Z",
     "start_time": "2024-09-28T09:50:18.986885Z"
    }
   },
   "cell_type": "code",
   "source": [
    "d1 = {'a': 1, 'b': 2}\n",
    "d2 = {'b': 20, 'd': 4}\n",
    "d3 = {'b': 200, 'd': 40, 'e': 5}\n",
    "d = {**d1, **d2, **d3}\n",
    "print(d)"
   ],
   "id": "1997538a2e48c435",
   "outputs": [
    {
     "name": "stdout",
     "output_type": "stream",
     "text": [
      "{'a': 1, 'b': 200, 'd': 40, 'e': 5}\n"
     ]
    }
   ],
   "execution_count": 41
  },
  {
   "metadata": {
    "ExecuteTime": {
     "end_time": "2024-09-28T09:56:30.597489Z",
     "start_time": "2024-09-28T09:56:30.594699Z"
    }
   },
   "cell_type": "code",
   "source": "conf_defaults = dict.fromkeys(('host', 'port', 'user', 'pwd', 'database'), None)",
   "id": "6daef6cae05b74dc",
   "outputs": [],
   "execution_count": 48
  },
  {
   "metadata": {
    "ExecuteTime": {
     "end_time": "2024-09-28T09:56:30.953529Z",
     "start_time": "2024-09-28T09:56:30.948571Z"
    }
   },
   "cell_type": "code",
   "source": "conf_defaults",
   "id": "26831c858c3be2d6",
   "outputs": [
    {
     "data": {
      "text/plain": [
       "{'host': None, 'port': None, 'user': None, 'pwd': None, 'database': None}"
      ]
     },
     "execution_count": 49,
     "metadata": {},
     "output_type": "execute_result"
    }
   ],
   "execution_count": 49
  },
  {
   "metadata": {
    "ExecuteTime": {
     "end_time": "2024-09-28T09:56:33.046854Z",
     "start_time": "2024-09-28T09:56:33.043053Z"
    }
   },
   "cell_type": "code",
   "source": "conf_global = {'port': 5432, 'database': 'deepdive'}",
   "id": "2e5c8a7acd0c2dd7",
   "outputs": [],
   "execution_count": 50
  },
  {
   "metadata": {
    "ExecuteTime": {
     "end_time": "2024-09-28T09:56:33.931606Z",
     "start_time": "2024-09-28T09:56:33.928356Z"
    }
   },
   "cell_type": "code",
   "source": [
    "conf_dev = {\n",
    "    'host': 'localhost',\n",
    "    'user': 'test',\n",
    "    'pwd': 'test',\n",
    "}"
   ],
   "id": "3138d8f3d3f88bdb",
   "outputs": [],
   "execution_count": 51
  },
  {
   "metadata": {
    "ExecuteTime": {
     "end_time": "2024-09-28T09:56:34.421831Z",
     "start_time": "2024-09-28T09:56:34.418645Z"
    }
   },
   "cell_type": "code",
   "source": [
    "conf_prod = {\n",
    "    'host': 'postgres.deepdive.com',\n",
    "    'user': '$prod_user',\n",
    "    'pwd': '$prod_pwd',\n",
    "    'database': 'deepdive_prod'\n",
    "}"
   ],
   "id": "b66e2cee2381afa8",
   "outputs": [],
   "execution_count": 52
  },
  {
   "metadata": {
    "ExecuteTime": {
     "end_time": "2024-09-28T09:58:33.945349Z",
     "start_time": "2024-09-28T09:58:33.939630Z"
    }
   },
   "cell_type": "code",
   "source": "{**conf_defaults, **conf_global, **conf_dev}",
   "id": "58ae0cfb45de617b",
   "outputs": [
    {
     "data": {
      "text/plain": [
       "{'host': 'localhost',\n",
       " 'port': 5432,\n",
       " 'user': 'test',\n",
       " 'pwd': 'test',\n",
       " 'database': 'deepdive'}"
      ]
     },
     "execution_count": 55,
     "metadata": {},
     "output_type": "execute_result"
    }
   ],
   "execution_count": 55
  },
  {
   "metadata": {
    "ExecuteTime": {
     "end_time": "2024-09-28T09:58:39.817265Z",
     "start_time": "2024-09-28T09:58:39.812487Z"
    }
   },
   "cell_type": "code",
   "source": "{**conf_defaults, **conf_global, **conf_prod}",
   "id": "ab7c70049885eb4e",
   "outputs": [
    {
     "data": {
      "text/plain": [
       "{'host': 'postgres.deepdive.com',\n",
       " 'port': 5432,\n",
       " 'user': '$prod_user',\n",
       " 'pwd': '$prod_pwd',\n",
       " 'database': 'deepdive_prod'}"
      ]
     },
     "execution_count": 56,
     "metadata": {},
     "output_type": "execute_result"
    }
   ],
   "execution_count": 56
  },
  {
   "metadata": {
    "ExecuteTime": {
     "end_time": "2024-09-28T10:00:50.683529Z",
     "start_time": "2024-09-28T10:00:50.680243Z"
    }
   },
   "cell_type": "code",
   "source": [
    "def my_func(*, kw1, kw2, kw3):\n",
    "    print(kw1, kw2, kw3)"
   ],
   "id": "f2e0964bbb95bebe",
   "outputs": [],
   "execution_count": 57
  },
  {
   "metadata": {
    "ExecuteTime": {
     "end_time": "2024-09-28T10:02:42.277274Z",
     "start_time": "2024-09-28T10:02:42.273468Z"
    }
   },
   "cell_type": "code",
   "source": "d = {'kw2': 20, 'kw1': 10, 'kw3': 30}",
   "id": "6321e7f02a9007ad",
   "outputs": [],
   "execution_count": 58
  },
  {
   "metadata": {
    "ExecuteTime": {
     "end_time": "2024-09-28T10:03:23.441098Z",
     "start_time": "2024-09-28T10:03:23.437667Z"
    }
   },
   "cell_type": "code",
   "source": "my_func(**d)",
   "id": "b576618aa675b702",
   "outputs": [
    {
     "name": "stdout",
     "output_type": "stream",
     "text": [
      "10 20 30\n"
     ]
    }
   ],
   "execution_count": 62
  },
  {
   "metadata": {
    "ExecuteTime": {
     "end_time": "2024-09-28T10:04:37.730942Z",
     "start_time": "2024-09-28T10:04:37.728126Z"
    }
   },
   "cell_type": "code",
   "source": [
    "def my_func(**kwargs):\n",
    "    for k, v in kwargs.items():\n",
    "        print(k, v)"
   ],
   "id": "a2263c807ef52b8b",
   "outputs": [],
   "execution_count": 63
  },
  {
   "metadata": {
    "ExecuteTime": {
     "end_time": "2024-09-28T10:04:43.743004Z",
     "start_time": "2024-09-28T10:04:43.739380Z"
    }
   },
   "cell_type": "code",
   "source": "my_func(**d)",
   "id": "f51db6d996e831c2",
   "outputs": [
    {
     "name": "stdout",
     "output_type": "stream",
     "text": [
      "kw2 20\n",
      "kw1 10\n",
      "kw3 30\n"
     ]
    }
   ],
   "execution_count": 64
  },
  {
   "metadata": {
    "ExecuteTime": {
     "end_time": "2024-09-28T10:05:25.160978Z",
     "start_time": "2024-09-28T10:05:25.157816Z"
    }
   },
   "cell_type": "code",
   "source": "d = {'a': [1, 2], 'b': [3, 4]}",
   "id": "1e28b45dedb0306d",
   "outputs": [],
   "execution_count": 65
  },
  {
   "metadata": {
    "ExecuteTime": {
     "end_time": "2024-09-28T10:05:32.232325Z",
     "start_time": "2024-09-28T10:05:32.229287Z"
    }
   },
   "cell_type": "code",
   "source": "d1 = d.copy()",
   "id": "ad4951ba837c40d5",
   "outputs": [],
   "execution_count": 66
  },
  {
   "metadata": {
    "ExecuteTime": {
     "end_time": "2024-09-28T10:05:34.931356Z",
     "start_time": "2024-09-28T10:05:34.926186Z"
    }
   },
   "cell_type": "code",
   "source": "d, d1",
   "id": "c7b757f3d495b786",
   "outputs": [
    {
     "data": {
      "text/plain": [
       "({'a': [1, 2], 'b': [3, 4]}, {'a': [1, 2], 'b': [3, 4]})"
      ]
     },
     "execution_count": 67,
     "metadata": {},
     "output_type": "execute_result"
    }
   ],
   "execution_count": 67
  },
  {
   "metadata": {
    "ExecuteTime": {
     "end_time": "2024-09-28T10:05:43.618105Z",
     "start_time": "2024-09-28T10:05:43.614127Z"
    }
   },
   "cell_type": "code",
   "source": "d is d1",
   "id": "add7bfe43b6705b4",
   "outputs": [
    {
     "data": {
      "text/plain": [
       "False"
      ]
     },
     "execution_count": 68,
     "metadata": {},
     "output_type": "execute_result"
    }
   ],
   "execution_count": 68
  },
  {
   "metadata": {
    "ExecuteTime": {
     "end_time": "2024-09-28T10:06:55.885351Z",
     "start_time": "2024-09-28T10:06:55.881523Z"
    }
   },
   "cell_type": "code",
   "source": "from copy import deepcopy",
   "id": "ae0d1984aef19ea4",
   "outputs": [],
   "execution_count": 69
  },
  {
   "metadata": {
    "ExecuteTime": {
     "end_time": "2024-09-28T10:11:00.404736Z",
     "start_time": "2024-09-28T10:11:00.401246Z"
    }
   },
   "cell_type": "code",
   "source": [
    "d = {\n",
    "    'id': 12345,\n",
    "    'person': {\n",
    "        'name': \"John\",\n",
    "        'age': 78,\n",
    "    },\n",
    "    'posts': [100, 105, 200]\n",
    "}"
   ],
   "id": "db91318a89093b09",
   "outputs": [],
   "execution_count": 78
  },
  {
   "metadata": {
    "ExecuteTime": {
     "end_time": "2024-09-28T10:11:00.589257Z",
     "start_time": "2024-09-28T10:11:00.586599Z"
    }
   },
   "cell_type": "code",
   "source": [
    "deep = deepcopy(d)\n",
    "shallow = d.copy()"
   ],
   "id": "1b98ed1a498123c2",
   "outputs": [],
   "execution_count": 79
  },
  {
   "metadata": {
    "ExecuteTime": {
     "end_time": "2024-09-28T10:11:00.738203Z",
     "start_time": "2024-09-28T10:11:00.734798Z"
    }
   },
   "cell_type": "code",
   "source": "d is shallow, d is deep",
   "id": "d8b2fb54a50a7e1d",
   "outputs": [
    {
     "data": {
      "text/plain": [
       "(False, False)"
      ]
     },
     "execution_count": 80,
     "metadata": {},
     "output_type": "execute_result"
    }
   ],
   "execution_count": 80
  },
  {
   "metadata": {
    "ExecuteTime": {
     "end_time": "2024-09-28T10:11:00.908875Z",
     "start_time": "2024-09-28T10:11:00.905281Z"
    }
   },
   "cell_type": "code",
   "source": "d['person'] is shallow['person'], d['person'] is deep['person']",
   "id": "2d6e21ff196d598d",
   "outputs": [
    {
     "data": {
      "text/plain": [
       "(True, False)"
      ]
     },
     "execution_count": 81,
     "metadata": {},
     "output_type": "execute_result"
    }
   ],
   "execution_count": 81
  },
  {
   "metadata": {
    "ExecuteTime": {
     "end_time": "2024-09-28T10:11:01.124387Z",
     "start_time": "2024-09-28T10:11:01.119569Z"
    }
   },
   "cell_type": "code",
   "source": "d['posts'] is shallow['posts'], d['posts'] is deep['posts']",
   "id": "57f104e11ceb265d",
   "outputs": [
    {
     "data": {
      "text/plain": [
       "(True, False)"
      ]
     },
     "execution_count": 82,
     "metadata": {},
     "output_type": "execute_result"
    }
   ],
   "execution_count": 82
  },
  {
   "metadata": {},
   "cell_type": "code",
   "outputs": [],
   "execution_count": null,
   "source": "",
   "id": "2876516d09b7b3e4"
  }
 ],
 "metadata": {
  "kernelspec": {
   "display_name": "Python 3",
   "language": "python",
   "name": "python3"
  },
  "language_info": {
   "codemirror_mode": {
    "name": "ipython",
    "version": 2
   },
   "file_extension": ".py",
   "mimetype": "text/x-python",
   "name": "python",
   "nbconvert_exporter": "python",
   "pygments_lexer": "ipython2",
   "version": "2.7.6"
  }
 },
 "nbformat": 4,
 "nbformat_minor": 5
}
