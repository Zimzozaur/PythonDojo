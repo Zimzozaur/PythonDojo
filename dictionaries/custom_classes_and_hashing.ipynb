{
 "cells": [
  {
   "cell_type": "code",
   "id": "initial_id",
   "metadata": {
    "collapsed": true,
    "ExecuteTime": {
     "end_time": "2024-09-28T11:39:31.937336Z",
     "start_time": "2024-09-28T11:39:31.934280Z"
    }
   },
   "source": "import sys",
   "outputs": [],
   "execution_count": 1
  },
  {
   "metadata": {
    "ExecuteTime": {
     "end_time": "2024-09-28T11:39:32.245850Z",
     "start_time": "2024-09-28T11:39:32.239365Z"
    }
   },
   "cell_type": "code",
   "source": "sys.hash_info.modulus",
   "id": "4192100e55e6fd11",
   "outputs": [
    {
     "data": {
      "text/plain": [
       "2305843009213693951"
      ]
     },
     "execution_count": 2,
     "metadata": {},
     "output_type": "execute_result"
    }
   ],
   "execution_count": 2
  },
  {
   "metadata": {
    "ExecuteTime": {
     "end_time": "2024-09-28T12:05:32.639382Z",
     "start_time": "2024-09-28T12:05:32.635749Z"
    }
   },
   "cell_type": "code",
   "source": [
    "t1 = 1, 2, 3\n",
    "t2 = 1, 2, 3"
   ],
   "id": "4a8092a9d5328141",
   "outputs": [],
   "execution_count": 3
  },
  {
   "metadata": {
    "ExecuteTime": {
     "end_time": "2024-09-28T12:05:40.278378Z",
     "start_time": "2024-09-28T12:05:40.274965Z"
    }
   },
   "cell_type": "code",
   "source": "t1 == t2",
   "id": "3a539982eee03d55",
   "outputs": [
    {
     "data": {
      "text/plain": [
       "True"
      ]
     },
     "execution_count": 4,
     "metadata": {},
     "output_type": "execute_result"
    }
   ],
   "execution_count": 4
  },
  {
   "metadata": {
    "ExecuteTime": {
     "end_time": "2024-09-28T12:05:43.363952Z",
     "start_time": "2024-09-28T12:05:43.359527Z"
    }
   },
   "cell_type": "code",
   "source": "t1 is t2",
   "id": "63c02ea8f97816f7",
   "outputs": [
    {
     "data": {
      "text/plain": [
       "False"
      ]
     },
     "execution_count": 5,
     "metadata": {},
     "output_type": "execute_result"
    }
   ],
   "execution_count": 5
  },
  {
   "metadata": {
    "ExecuteTime": {
     "end_time": "2024-09-28T12:05:51.948626Z",
     "start_time": "2024-09-28T12:05:51.943801Z"
    }
   },
   "cell_type": "code",
   "source": "hash(t1) == hash(t2)",
   "id": "ae0d362eefad686a",
   "outputs": [
    {
     "data": {
      "text/plain": [
       "True"
      ]
     },
     "execution_count": 6,
     "metadata": {},
     "output_type": "execute_result"
    }
   ],
   "execution_count": 6
  },
  {
   "metadata": {
    "ExecuteTime": {
     "end_time": "2024-09-28T12:06:07.748997Z",
     "start_time": "2024-09-28T12:06:07.745215Z"
    }
   },
   "cell_type": "code",
   "source": "d = {t1: 100}",
   "id": "cc9fcb2e487185a7",
   "outputs": [],
   "execution_count": 7
  },
  {
   "metadata": {
    "ExecuteTime": {
     "end_time": "2024-09-28T12:06:15.193837Z",
     "start_time": "2024-09-28T12:06:15.188844Z"
    }
   },
   "cell_type": "code",
   "source": "d[t1], d[t2]",
   "id": "e525bce0cc19b414",
   "outputs": [
    {
     "data": {
      "text/plain": [
       "(100, 100)"
      ]
     },
     "execution_count": 9,
     "metadata": {},
     "output_type": "execute_result"
    }
   ],
   "execution_count": 9
  },
  {
   "metadata": {
    "ExecuteTime": {
     "end_time": "2024-09-28T12:07:28.615630Z",
     "start_time": "2024-09-28T12:07:28.611640Z"
    }
   },
   "cell_type": "code",
   "source": [
    "class Person:\n",
    "    def __init__(self, name, age):\n",
    "        self.name = name\n",
    "        self.age = age\n",
    "        \n",
    "    def __repr__(self):\n",
    "        return f'Person(name={self.name}, age={self.age})'"
   ],
   "id": "bcb69b8a54b67679",
   "outputs": [],
   "execution_count": 10
  },
  {
   "metadata": {
    "ExecuteTime": {
     "end_time": "2024-09-28T12:07:44.607676Z",
     "start_time": "2024-09-28T12:07:44.604398Z"
    }
   },
   "cell_type": "code",
   "source": [
    "p1 = Person('John', 78)\n",
    "p2 = Person('John', 78)"
   ],
   "id": "29745675e3553e47",
   "outputs": [],
   "execution_count": 11
  },
  {
   "metadata": {
    "ExecuteTime": {
     "end_time": "2024-09-28T12:08:03.136295Z",
     "start_time": "2024-09-28T12:08:03.131205Z"
    }
   },
   "cell_type": "code",
   "source": "p1 is p2",
   "id": "39b3251eeec1a0c3",
   "outputs": [
    {
     "data": {
      "text/plain": [
       "False"
      ]
     },
     "execution_count": 14,
     "metadata": {},
     "output_type": "execute_result"
    }
   ],
   "execution_count": 14
  },
  {
   "metadata": {
    "ExecuteTime": {
     "end_time": "2024-09-28T12:08:03.352339Z",
     "start_time": "2024-09-28T12:08:03.349100Z"
    }
   },
   "cell_type": "code",
   "source": "p1 == p2",
   "id": "dabaf9fcbcb27ddc",
   "outputs": [
    {
     "data": {
      "text/plain": [
       "False"
      ]
     },
     "execution_count": 15,
     "metadata": {},
     "output_type": "execute_result"
    }
   ],
   "execution_count": 15
  },
  {
   "metadata": {
    "ExecuteTime": {
     "end_time": "2024-09-28T12:08:24.115687Z",
     "start_time": "2024-09-28T12:08:24.110991Z"
    }
   },
   "cell_type": "code",
   "source": "hash(p1), hash(p2)",
   "id": "b673cdaac1c132ed",
   "outputs": [
    {
     "data": {
      "text/plain": [
       "(7963909669382, 7963909669169)"
      ]
     },
     "execution_count": 16,
     "metadata": {},
     "output_type": "execute_result"
    }
   ],
   "execution_count": 16
  },
  {
   "metadata": {
    "ExecuteTime": {
     "end_time": "2024-09-28T12:08:46.355065Z",
     "start_time": "2024-09-28T12:08:46.352862Z"
    }
   },
   "cell_type": "code",
   "source": [
    "p1 = Person('John', 78)\n",
    "p2 = Person('Eric', 75)"
   ],
   "id": "61be65ffa4b8b12c",
   "outputs": [],
   "execution_count": 17
  },
  {
   "metadata": {
    "ExecuteTime": {
     "end_time": "2024-09-28T12:09:33.689009Z",
     "start_time": "2024-09-28T12:09:33.685766Z"
    }
   },
   "cell_type": "code",
   "source": "persons = {p1: 'John Object', p2: 'Eric Object'}",
   "id": "36fff782fceed18",
   "outputs": [],
   "execution_count": 20
  },
  {
   "metadata": {
    "ExecuteTime": {
     "end_time": "2024-09-28T12:09:33.864442Z",
     "start_time": "2024-09-28T12:09:33.859887Z"
    }
   },
   "cell_type": "code",
   "source": [
    "for k in persons.keys():\n",
    "    print(k)"
   ],
   "id": "e5fcd8238b66008b",
   "outputs": [
    {
     "name": "stdout",
     "output_type": "stream",
     "text": [
      "Person(name=John, age=78)\n",
      "Person(name=Eric, age=75)\n"
     ]
    }
   ],
   "execution_count": 21
  },
  {
   "metadata": {
    "ExecuteTime": {
     "end_time": "2024-09-28T12:10:25.843116Z",
     "start_time": "2024-09-28T12:10:25.820437Z"
    }
   },
   "cell_type": "code",
   "source": "persons[Person('John', 78)]",
   "id": "7699064189f6294c",
   "outputs": [
    {
     "ename": "KeyError",
     "evalue": "Person(name=John, age=78)",
     "output_type": "error",
     "traceback": [
      "\u001B[0;31m---------------------------------------------------------------------------\u001B[0m",
      "\u001B[0;31mKeyError\u001B[0m                                  Traceback (most recent call last)",
      "Cell \u001B[0;32mIn[22], line 1\u001B[0m\n\u001B[0;32m----> 1\u001B[0m \u001B[43mpersons\u001B[49m\u001B[43m[\u001B[49m\u001B[43mPerson\u001B[49m\u001B[43m(\u001B[49m\u001B[38;5;124;43m'\u001B[39;49m\u001B[38;5;124;43mJohn\u001B[39;49m\u001B[38;5;124;43m'\u001B[39;49m\u001B[43m,\u001B[49m\u001B[43m \u001B[49m\u001B[38;5;241;43m78\u001B[39;49m\u001B[43m)\u001B[49m\u001B[43m]\u001B[49m\n",
      "\u001B[0;31mKeyError\u001B[0m: Person(name=John, age=78)"
     ]
    }
   ],
   "execution_count": 22
  },
  {
   "metadata": {
    "ExecuteTime": {
     "end_time": "2024-09-28T12:10:35.506353Z",
     "start_time": "2024-09-28T12:10:35.501658Z"
    }
   },
   "cell_type": "code",
   "source": "persons[p1]",
   "id": "552ae42dcb383b9e",
   "outputs": [
    {
     "data": {
      "text/plain": [
       "'John Object'"
      ]
     },
     "execution_count": 23,
     "metadata": {},
     "output_type": "execute_result"
    }
   ],
   "execution_count": 23
  },
  {
   "metadata": {
    "ExecuteTime": {
     "end_time": "2024-09-28T12:17:14.173739Z",
     "start_time": "2024-09-28T12:17:14.169516Z"
    }
   },
   "cell_type": "code",
   "source": [
    "class Person:\n",
    "    def __init__(self, name, age):\n",
    "        self.name = name\n",
    "        self.age = age\n",
    "        \n",
    "    def __repr__(self):\n",
    "        return f'Person(name={self.name}, age={self.age})'\n",
    "    \n",
    "    def __eq__(self, other):\n",
    "        if not isinstance(other, Person):\n",
    "            raise False\n",
    "        return self.name == other.name and self.age == other.age"
   ],
   "id": "4146e8246c454421",
   "outputs": [],
   "execution_count": 60
  },
  {
   "metadata": {
    "ExecuteTime": {
     "end_time": "2024-09-28T12:17:15.004822Z",
     "start_time": "2024-09-28T12:17:14.409886Z"
    }
   },
   "cell_type": "code",
   "source": [
    "p1 = Person('John', 78)\n",
    "p2 = Person('John', 78)"
   ],
   "id": "213be5c5cef06934",
   "outputs": [],
   "execution_count": 61
  },
  {
   "metadata": {
    "ExecuteTime": {
     "end_time": "2024-09-28T12:17:15.069581Z",
     "start_time": "2024-09-28T12:17:15.065148Z"
    }
   },
   "cell_type": "code",
   "source": "p1 is p2",
   "id": "e10528684d2987ef",
   "outputs": [
    {
     "data": {
      "text/plain": [
       "False"
      ]
     },
     "execution_count": 62,
     "metadata": {},
     "output_type": "execute_result"
    }
   ],
   "execution_count": 62
  },
  {
   "metadata": {
    "ExecuteTime": {
     "end_time": "2024-09-28T12:17:15.809899Z",
     "start_time": "2024-09-28T12:17:15.804959Z"
    }
   },
   "cell_type": "code",
   "source": "p1 == p2",
   "id": "cede7b4fae964014",
   "outputs": [
    {
     "data": {
      "text/plain": [
       "True"
      ]
     },
     "execution_count": 63,
     "metadata": {},
     "output_type": "execute_result"
    }
   ],
   "execution_count": 63
  },
  {
   "metadata": {
    "ExecuteTime": {
     "end_time": "2024-09-28T12:17:16.910601Z",
     "start_time": "2024-09-28T12:17:16.885093Z"
    }
   },
   "cell_type": "code",
   "source": "persons = {p1: 'John p1'}",
   "id": "28c62ed5ccf7599f",
   "outputs": [
    {
     "ename": "TypeError",
     "evalue": "unhashable type: 'Person'",
     "output_type": "error",
     "traceback": [
      "\u001B[0;31m---------------------------------------------------------------------------\u001B[0m",
      "\u001B[0;31mTypeError\u001B[0m                                 Traceback (most recent call last)",
      "Cell \u001B[0;32mIn[64], line 1\u001B[0m\n\u001B[0;32m----> 1\u001B[0m persons \u001B[38;5;241m=\u001B[39m {p1: \u001B[38;5;124m'\u001B[39m\u001B[38;5;124mJohn p1\u001B[39m\u001B[38;5;124m'\u001B[39m}\n",
      "\u001B[0;31mTypeError\u001B[0m: unhashable type: 'Person'"
     ]
    }
   ],
   "execution_count": 64
  },
  {
   "metadata": {
    "ExecuteTime": {
     "end_time": "2024-09-28T12:17:52.704241Z",
     "start_time": "2024-09-28T12:17:52.699294Z"
    }
   },
   "cell_type": "code",
   "source": [
    "class Person:\n",
    "    def __init__(self, name, age):\n",
    "        self.name = name\n",
    "        self.age = age\n",
    "        \n",
    "    def __repr__(self):\n",
    "        return f'Person(name={self.name}, age={self.age})'\n",
    "    \n",
    "    def __eq__(self, other):\n",
    "        if not isinstance(other, Person):\n",
    "            raise False\n",
    "        return self.name == other.name and self.age == other.age\n",
    "    \n",
    "    def __hash__(self):\n",
    "        return 100"
   ],
   "id": "2fb2097cfa043d06",
   "outputs": [],
   "execution_count": 66
  },
  {
   "metadata": {
    "ExecuteTime": {
     "end_time": "2024-09-28T12:18:12.680507Z",
     "start_time": "2024-09-28T12:18:12.677255Z"
    }
   },
   "cell_type": "code",
   "source": "p1 = Person('John', 78)",
   "id": "c1ff9386f0e29b03",
   "outputs": [],
   "execution_count": 69
  },
  {
   "metadata": {
    "ExecuteTime": {
     "end_time": "2024-09-28T12:18:12.850108Z",
     "start_time": "2024-09-28T12:18:12.845086Z"
    }
   },
   "cell_type": "code",
   "source": "hash(p1)",
   "id": "d72c57cf07e52079",
   "outputs": [
    {
     "data": {
      "text/plain": [
       "100"
      ]
     },
     "execution_count": 70,
     "metadata": {},
     "output_type": "execute_result"
    }
   ],
   "execution_count": 70
  },
  {
   "metadata": {
    "ExecuteTime": {
     "end_time": "2024-09-28T12:18:47.959574Z",
     "start_time": "2024-09-28T12:18:47.955981Z"
    }
   },
   "cell_type": "code",
   "source": [
    "class Person:\n",
    "    def __init__(self, name, age):\n",
    "        self.name = name\n",
    "        self.age = age\n",
    "        \n",
    "    def __repr__(self):\n",
    "        return f'Person(name={self.name}, age={self.age})'\n",
    "    \n",
    "    __hash__ = None"
   ],
   "id": "55d41ff7f942807e",
   "outputs": [],
   "execution_count": 71
  },
  {
   "metadata": {
    "ExecuteTime": {
     "end_time": "2024-09-28T12:19:04.256269Z",
     "start_time": "2024-09-28T12:19:04.236634Z"
    }
   },
   "cell_type": "code",
   "source": "hash(Person('Eric', 24))",
   "id": "3f8295b1853fee50",
   "outputs": [
    {
     "ename": "TypeError",
     "evalue": "unhashable type: 'Person'",
     "output_type": "error",
     "traceback": [
      "\u001B[0;31m---------------------------------------------------------------------------\u001B[0m",
      "\u001B[0;31mTypeError\u001B[0m                                 Traceback (most recent call last)",
      "Cell \u001B[0;32mIn[73], line 1\u001B[0m\n\u001B[0;32m----> 1\u001B[0m \u001B[38;5;28;43mhash\u001B[39;49m\u001B[43m(\u001B[49m\u001B[43mPerson\u001B[49m\u001B[43m(\u001B[49m\u001B[38;5;124;43m'\u001B[39;49m\u001B[38;5;124;43mEric\u001B[39;49m\u001B[38;5;124;43m'\u001B[39;49m\u001B[43m,\u001B[49m\u001B[43m \u001B[49m\u001B[38;5;241;43m24\u001B[39;49m\u001B[43m)\u001B[49m\u001B[43m)\u001B[49m\n",
      "\u001B[0;31mTypeError\u001B[0m: unhashable type: 'Person'"
     ]
    }
   ],
   "execution_count": 73
  },
  {
   "metadata": {
    "ExecuteTime": {
     "end_time": "2024-09-28T12:23:19.172822Z",
     "start_time": "2024-09-28T12:23:19.167464Z"
    }
   },
   "cell_type": "code",
   "source": [
    "class Person:\n",
    "    def __init__(self, name, age):\n",
    "        self.name = name\n",
    "        self.age = age\n",
    "        \n",
    "    def __repr__(self):\n",
    "        return f'Person(name={self.name}, age={self.age})'\n",
    "    \n",
    "    def __eq__(self, other):\n",
    "        if not isinstance(other, Person):\n",
    "            raise False\n",
    "        return self.name == other.name and self.age == other.age\n",
    "    \n",
    "    def __hash__(self):\n",
    "        return hash((self.name, self.age))"
   ],
   "id": "b101c77b242b07f9",
   "outputs": [],
   "execution_count": 74
  },
  {
   "metadata": {
    "ExecuteTime": {
     "end_time": "2024-09-28T12:23:33.412097Z",
     "start_time": "2024-09-28T12:23:33.407917Z"
    }
   },
   "cell_type": "code",
   "source": "hash(Person('Mario', 32))",
   "id": "1c25539373f1d293",
   "outputs": [
    {
     "data": {
      "text/plain": [
       "-6003794191311196698"
      ]
     },
     "execution_count": 75,
     "metadata": {},
     "output_type": "execute_result"
    }
   ],
   "execution_count": 75
  },
  {
   "metadata": {
    "ExecuteTime": {
     "end_time": "2024-09-28T12:24:50.116744Z",
     "start_time": "2024-09-28T12:24:50.113514Z"
    }
   },
   "cell_type": "code",
   "source": [
    "p1 = Person('John', 78)\n",
    "p2 = Person('Eric', 75)"
   ],
   "id": "93ab83c56c2122a6",
   "outputs": [],
   "execution_count": 81
  },
  {
   "metadata": {
    "ExecuteTime": {
     "end_time": "2024-09-28T12:24:50.770902Z",
     "start_time": "2024-09-28T12:24:50.684795Z"
    }
   },
   "cell_type": "code",
   "source": "persons = {p1: 'John p1', p2: 'Eric p2'}",
   "id": "6f991ec420d52f22",
   "outputs": [],
   "execution_count": 82
  },
  {
   "metadata": {
    "ExecuteTime": {
     "end_time": "2024-09-28T12:24:51.433025Z",
     "start_time": "2024-09-28T12:24:51.349306Z"
    }
   },
   "cell_type": "code",
   "source": "persons[p1]",
   "id": "6eb85b18564c9eb7",
   "outputs": [
    {
     "data": {
      "text/plain": [
       "'John p1'"
      ]
     },
     "execution_count": 83,
     "metadata": {},
     "output_type": "execute_result"
    }
   ],
   "execution_count": 83
  },
  {
   "metadata": {
    "ExecuteTime": {
     "end_time": "2024-09-28T12:24:52.209537Z",
     "start_time": "2024-09-28T12:24:52.204062Z"
    }
   },
   "cell_type": "code",
   "source": "persons[Person('John', 78)]",
   "id": "311830c424d0d41a",
   "outputs": [
    {
     "data": {
      "text/plain": [
       "'John p1'"
      ]
     },
     "execution_count": 84,
     "metadata": {},
     "output_type": "execute_result"
    }
   ],
   "execution_count": 84
  },
  {
   "metadata": {
    "ExecuteTime": {
     "end_time": "2024-09-28T12:26:36.531864Z",
     "start_time": "2024-09-28T12:26:36.527273Z"
    }
   },
   "cell_type": "code",
   "source": [
    "class Person:\n",
    "    def __init__(self, name, age):\n",
    "        self.name = name\n",
    "        self.age = age\n",
    "        \n",
    "    def __repr__(self):\n",
    "        return f'Person(name={self.name}, age={self.age})'\n",
    "    \n",
    "    def __eq__(self, other):\n",
    "        if not isinstance(other, Person):\n",
    "            raise False\n",
    "        return self.name == other.name and self.age == other.age\n",
    "    \n",
    "    def __hash__(self):\n",
    "        return 'hash'"
   ],
   "id": "b7dadbee906c6320",
   "outputs": [],
   "execution_count": 85
  },
  {
   "metadata": {
    "ExecuteTime": {
     "end_time": "2024-09-28T12:26:58.454032Z",
     "start_time": "2024-09-28T12:26:58.439194Z"
    }
   },
   "cell_type": "code",
   "source": "hash(Person('Luigi', 34))",
   "id": "9f9e804a009a184a",
   "outputs": [
    {
     "ename": "TypeError",
     "evalue": "__hash__ method should return an integer",
     "output_type": "error",
     "traceback": [
      "\u001B[0;31m---------------------------------------------------------------------------\u001B[0m",
      "\u001B[0;31mTypeError\u001B[0m                                 Traceback (most recent call last)",
      "Cell \u001B[0;32mIn[86], line 1\u001B[0m\n\u001B[0;32m----> 1\u001B[0m \u001B[38;5;28;43mhash\u001B[39;49m\u001B[43m(\u001B[49m\u001B[43mPerson\u001B[49m\u001B[43m(\u001B[49m\u001B[38;5;124;43m'\u001B[39;49m\u001B[38;5;124;43mLuigi\u001B[39;49m\u001B[38;5;124;43m'\u001B[39;49m\u001B[43m,\u001B[49m\u001B[43m \u001B[49m\u001B[38;5;241;43m34\u001B[39;49m\u001B[43m)\u001B[49m\u001B[43m)\u001B[49m\n",
      "\u001B[0;31mTypeError\u001B[0m: __hash__ method should return an integer"
     ]
    }
   ],
   "execution_count": 86
  },
  {
   "metadata": {
    "ExecuteTime": {
     "end_time": "2024-09-28T12:37:39.002380Z",
     "start_time": "2024-09-28T12:37:38.997754Z"
    }
   },
   "cell_type": "code",
   "source": [
    "class Person:\n",
    "    def __init__(self, name, age):\n",
    "        self.name = name\n",
    "        self.age = age\n",
    "        \n",
    "    def __repr__(self):\n",
    "        return f'Person(name={self.name}, age={self.age})'\n",
    "    \n",
    "    def __eq__(self, other):\n",
    "        if not isinstance(other, Person):\n",
    "            raise False\n",
    "        return self.name == other.name and self.age == other.age\n",
    "    \n",
    "    def __hash__(self):\n",
    "        return 100"
   ],
   "id": "b4bd931b5baf28c1",
   "outputs": [],
   "execution_count": 132
  },
  {
   "metadata": {
    "ExecuteTime": {
     "end_time": "2024-09-28T12:37:39.143960Z",
     "start_time": "2024-09-28T12:37:39.141609Z"
    }
   },
   "cell_type": "code",
   "source": [
    "p1 = Person('John', 78)\n",
    "p2 = Person('Eric', 75)"
   ],
   "id": "5a438d259f88d734",
   "outputs": [],
   "execution_count": 133
  },
  {
   "metadata": {
    "ExecuteTime": {
     "end_time": "2024-09-28T12:37:39.281492Z",
     "start_time": "2024-09-28T12:37:39.278621Z"
    }
   },
   "cell_type": "code",
   "source": "hash(p1) == hash(p2)",
   "id": "6d37d59aba6ee8bf",
   "outputs": [
    {
     "data": {
      "text/plain": [
       "True"
      ]
     },
     "execution_count": 134,
     "metadata": {},
     "output_type": "execute_result"
    }
   ],
   "execution_count": 134
  },
  {
   "metadata": {
    "ExecuteTime": {
     "end_time": "2024-09-28T12:37:39.422402Z",
     "start_time": "2024-09-28T12:37:39.419033Z"
    }
   },
   "cell_type": "code",
   "source": "p1 is p2",
   "id": "a79ba108754c3f49",
   "outputs": [
    {
     "data": {
      "text/plain": [
       "False"
      ]
     },
     "execution_count": 135,
     "metadata": {},
     "output_type": "execute_result"
    }
   ],
   "execution_count": 135
  },
  {
   "metadata": {
    "ExecuteTime": {
     "end_time": "2024-09-28T12:37:39.551651Z",
     "start_time": "2024-09-28T12:37:39.548621Z"
    }
   },
   "cell_type": "code",
   "source": "persons = {p1: 'John p1', p2: 'Eric p2'}",
   "id": "4339c3907a9e749d",
   "outputs": [],
   "execution_count": 136
  },
  {
   "metadata": {
    "ExecuteTime": {
     "end_time": "2024-09-28T12:37:39.657573Z",
     "start_time": "2024-09-28T12:37:39.654089Z"
    }
   },
   "cell_type": "code",
   "source": [
    "for key in persons.keys():\n",
    "    print(hash(key))"
   ],
   "id": "c45bb9f80c9229b6",
   "outputs": [
    {
     "name": "stdout",
     "output_type": "stream",
     "text": [
      "100\n",
      "100\n"
     ]
    }
   ],
   "execution_count": 137
  },
  {
   "metadata": {
    "ExecuteTime": {
     "end_time": "2024-09-28T12:37:40.109455Z",
     "start_time": "2024-09-28T12:37:40.104954Z"
    }
   },
   "cell_type": "code",
   "source": "hash(p1), hash(p2), hash(Person('Joh', 78))",
   "id": "dd827f4b7fd05f41",
   "outputs": [
    {
     "data": {
      "text/plain": [
       "(100, 100, 100)"
      ]
     },
     "execution_count": 138,
     "metadata": {},
     "output_type": "execute_result"
    }
   ],
   "execution_count": 138
  },
  {
   "metadata": {
    "ExecuteTime": {
     "end_time": "2024-09-28T12:37:41.156198Z",
     "start_time": "2024-09-28T12:37:41.131200Z"
    }
   },
   "cell_type": "code",
   "source": "persons[p1], persons[Person('Joh', 78)]",
   "id": "9b91464e1b7ef5b9",
   "outputs": [
    {
     "ename": "KeyError",
     "evalue": "Person(name=Joh, age=78)",
     "output_type": "error",
     "traceback": [
      "\u001B[0;31m---------------------------------------------------------------------------\u001B[0m",
      "\u001B[0;31mKeyError\u001B[0m                                  Traceback (most recent call last)",
      "Cell \u001B[0;32mIn[139], line 1\u001B[0m\n\u001B[0;32m----> 1\u001B[0m persons[p1], \u001B[43mpersons\u001B[49m\u001B[43m[\u001B[49m\u001B[43mPerson\u001B[49m\u001B[43m(\u001B[49m\u001B[38;5;124;43m'\u001B[39;49m\u001B[38;5;124;43mJoh\u001B[39;49m\u001B[38;5;124;43m'\u001B[39;49m\u001B[43m,\u001B[49m\u001B[43m \u001B[49m\u001B[38;5;241;43m78\u001B[39;49m\u001B[43m)\u001B[49m\u001B[43m]\u001B[49m\n",
      "\u001B[0;31mKeyError\u001B[0m: Person(name=Joh, age=78)"
     ]
    }
   ],
   "execution_count": 139
  },
  {
   "metadata": {
    "ExecuteTime": {
     "end_time": "2024-09-28T12:33:40.599722Z",
     "start_time": "2024-09-28T12:33:40.595792Z"
    }
   },
   "cell_type": "code",
   "source": [
    "class Number:\n",
    "    def __init__(self, x):\n",
    "        self.x = x\n",
    "        \n",
    "    def __eq__(self, other):\n",
    "        if isinstance(other, Number):\n",
    "            return self.x == other.x\n",
    "        else: \n",
    "            return True\n",
    "        \n",
    "    def __hash__(self):\n",
    "        return hash(self.x)"
   ],
   "id": "1fd596209b5c1179",
   "outputs": [],
   "execution_count": 110
  },
  {
   "metadata": {
    "ExecuteTime": {
     "end_time": "2024-09-28T12:34:00.811517Z",
     "start_time": "2024-09-28T12:34:00.807220Z"
    }
   },
   "cell_type": "code",
   "source": [
    "class SameHash:\n",
    "    def __init__(self, x):\n",
    "        self.x = x\n",
    "        \n",
    "    def __eq__(self, other):\n",
    "        if isinstance(other, SameHash):\n",
    "            return self.x == other.x\n",
    "        else: \n",
    "            return True\n",
    "        \n",
    "    def __hash__(self):\n",
    "        return 100"
   ],
   "id": "b72f598f2c526a26",
   "outputs": [],
   "execution_count": 111
  },
  {
   "metadata": {
    "ExecuteTime": {
     "end_time": "2024-09-28T12:34:54.249109Z",
     "start_time": "2024-09-28T12:34:54.168845Z"
    }
   },
   "cell_type": "code",
   "source": [
    "numbers = {Number(i): 'some value' for i in range(10**3)}\n",
    "same = {SameHash(i): 'some value' for i in range(10**3)}"
   ],
   "id": "6b44fbd7a3196318",
   "outputs": [],
   "execution_count": 113
  },
  {
   "metadata": {
    "ExecuteTime": {
     "end_time": "2024-09-28T12:35:29.995998Z",
     "start_time": "2024-09-28T12:35:29.991720Z"
    }
   },
   "cell_type": "code",
   "source": "numbers[Number(500)]",
   "id": "77bf64a724bf298a",
   "outputs": [
    {
     "data": {
      "text/plain": [
       "'some value'"
      ]
     },
     "execution_count": 114,
     "metadata": {},
     "output_type": "execute_result"
    }
   ],
   "execution_count": 114
  },
  {
   "metadata": {
    "ExecuteTime": {
     "end_time": "2024-09-28T12:35:37.432943Z",
     "start_time": "2024-09-28T12:35:37.428234Z"
    }
   },
   "cell_type": "code",
   "source": "same[SameHash(500)]",
   "id": "1451dab64f7e4707",
   "outputs": [
    {
     "data": {
      "text/plain": [
       "'some value'"
      ]
     },
     "execution_count": 115,
     "metadata": {},
     "output_type": "execute_result"
    }
   ],
   "execution_count": 115
  },
  {
   "metadata": {
    "ExecuteTime": {
     "end_time": "2024-09-28T12:38:22.214904Z",
     "start_time": "2024-09-28T12:38:22.212375Z"
    }
   },
   "cell_type": "code",
   "source": "from timeit import timeit",
   "id": "afab742e4261c08a",
   "outputs": [],
   "execution_count": 140
  },
  {
   "metadata": {
    "ExecuteTime": {
     "end_time": "2024-09-28T12:38:51.509090Z",
     "start_time": "2024-09-28T12:38:51.497148Z"
    }
   },
   "cell_type": "code",
   "source": "timeit('numbers[Number(500)]', globals=globals(), number=10**4)",
   "id": "f950aca53c618577",
   "outputs": [
    {
     "data": {
      "text/plain": [
       "0.006959157002711436"
      ]
     },
     "execution_count": 141,
     "metadata": {},
     "output_type": "execute_result"
    }
   ],
   "execution_count": 141
  },
  {
   "metadata": {
    "ExecuteTime": {
     "end_time": "2024-09-28T12:39:02.131794Z",
     "start_time": "2024-09-28T12:39:01.617929Z"
    }
   },
   "cell_type": "code",
   "source": "timeit('same[SameHash(500)]', globals=globals(), number=10**4)",
   "id": "4e5404021f9a32b5",
   "outputs": [
    {
     "data": {
      "text/plain": [
       "0.5099045829992974"
      ]
     },
     "execution_count": 142,
     "metadata": {},
     "output_type": "execute_result"
    }
   ],
   "execution_count": 142
  },
  {
   "metadata": {
    "ExecuteTime": {
     "end_time": "2024-09-28T12:41:46.314082Z",
     "start_time": "2024-09-28T12:41:46.309746Z"
    }
   },
   "cell_type": "code",
   "source": [
    "class Point:\n",
    "    def __init__(self, x, y):\n",
    "        self.x = x\n",
    "        self.y = y\n",
    "        \n",
    "    def __repr__(self):\n",
    "        return f'Point(x={self.x}, y={self.y})'\n",
    "    \n",
    "    def __str__(self):\n",
    "        return f'({self.x}, {self.y})'"
   ],
   "id": "f072a4562b7b4d62",
   "outputs": [],
   "execution_count": 147
  },
  {
   "metadata": {
    "ExecuteTime": {
     "end_time": "2024-09-28T12:41:47.014425Z",
     "start_time": "2024-09-28T12:41:47.009650Z"
    }
   },
   "cell_type": "code",
   "source": "Point(1, 1)",
   "id": "617e436028e160f4",
   "outputs": [
    {
     "data": {
      "text/plain": [
       "Point(x=1, y=1)"
      ]
     },
     "execution_count": 148,
     "metadata": {},
     "output_type": "execute_result"
    }
   ],
   "execution_count": 148
  },
  {
   "metadata": {
    "ExecuteTime": {
     "end_time": "2024-09-28T12:42:19.067822Z",
     "start_time": "2024-09-28T12:42:19.064329Z"
    }
   },
   "cell_type": "code",
   "source": "print(Point(1, 1))",
   "id": "f1ce1241d0d23968",
   "outputs": [
    {
     "name": "stdout",
     "output_type": "stream",
     "text": [
      "Point(x=1, y=1)\n"
     ]
    }
   ],
   "execution_count": 150
  },
  {
   "metadata": {
    "ExecuteTime": {
     "end_time": "2024-09-28T12:43:18.854403Z",
     "start_time": "2024-09-28T12:43:18.850616Z"
    }
   },
   "cell_type": "code",
   "source": [
    "points = {\n",
    "    Point(0, 0): 'origin',\n",
    "    Point(1, 1): 'second point'\n",
    "}"
   ],
   "id": "623d261d6b2bf212",
   "outputs": [],
   "execution_count": 151
  },
  {
   "metadata": {
    "ExecuteTime": {
     "end_time": "2024-09-28T12:43:35.422491Z",
     "start_time": "2024-09-28T12:43:35.411683Z"
    }
   },
   "cell_type": "code",
   "source": "points[Point(0, 0)]",
   "id": "df61a66cf0567cfe",
   "outputs": [
    {
     "ename": "KeyError",
     "evalue": "Point(x=0, y=0)",
     "output_type": "error",
     "traceback": [
      "\u001B[0;31m---------------------------------------------------------------------------\u001B[0m",
      "\u001B[0;31mKeyError\u001B[0m                                  Traceback (most recent call last)",
      "Cell \u001B[0;32mIn[152], line 1\u001B[0m\n\u001B[0;32m----> 1\u001B[0m \u001B[43mpoints\u001B[49m\u001B[43m[\u001B[49m\u001B[43mPoint\u001B[49m\u001B[43m(\u001B[49m\u001B[38;5;241;43m0\u001B[39;49m\u001B[43m,\u001B[49m\u001B[43m \u001B[49m\u001B[38;5;241;43m0\u001B[39;49m\u001B[43m)\u001B[49m\u001B[43m]\u001B[49m\n",
      "\u001B[0;31mKeyError\u001B[0m: Point(x=0, y=0)"
     ]
    }
   ],
   "execution_count": 152
  },
  {
   "metadata": {
    "ExecuteTime": {
     "end_time": "2024-09-28T12:44:00.377999Z",
     "start_time": "2024-09-28T12:44:00.373981Z"
    }
   },
   "cell_type": "code",
   "source": "Point(0, 0) == Point(0, 0)",
   "id": "48cce930155afed3",
   "outputs": [
    {
     "data": {
      "text/plain": [
       "False"
      ]
     },
     "execution_count": 153,
     "metadata": {},
     "output_type": "execute_result"
    }
   ],
   "execution_count": 153
  },
  {
   "metadata": {
    "ExecuteTime": {
     "end_time": "2024-09-28T12:53:41.653394Z",
     "start_time": "2024-09-28T12:53:41.647876Z"
    }
   },
   "cell_type": "code",
   "source": [
    "class Point:\n",
    "    def __init__(self, x, y):\n",
    "        self.x = x\n",
    "        self.y = y\n",
    "        \n",
    "    def __repr__(self):\n",
    "        return f'Point(x={self.x}, y={self.y})'\n",
    "    \n",
    "    def __str__(self):\n",
    "        return f'({self.x}, {self.y})'\n",
    "    \n",
    "    def __eq__(self, other) -> bool:\n",
    "        if isinstance(other, tuple) and len(other) == 2:\n",
    "            other = Point(*other)        \n",
    "        if not isinstance(other, Point):\n",
    "            return False\n",
    "        return self.x == self.y and other.x == other.y\n",
    "    \n",
    "    def __hash__(self) -> int:\n",
    "        return hash((self.x, self.y))"
   ],
   "id": "f322a57ec4d2201e",
   "outputs": [],
   "execution_count": 186
  },
  {
   "metadata": {
    "ExecuteTime": {
     "end_time": "2024-09-28T12:53:41.949260Z",
     "start_time": "2024-09-28T12:53:41.945902Z"
    }
   },
   "cell_type": "code",
   "source": [
    "points = {\n",
    "    Point(0, 0): 'origin',\n",
    "    Point(1, 1): 'second point',\n",
    "}"
   ],
   "id": "b5ed05b93e545ded",
   "outputs": [],
   "execution_count": 187
  },
  {
   "metadata": {
    "ExecuteTime": {
     "end_time": "2024-09-28T12:53:42.272947Z",
     "start_time": "2024-09-28T12:53:42.268843Z"
    }
   },
   "cell_type": "code",
   "source": "points[Point(0, 0)]",
   "id": "75cdc2822887b293",
   "outputs": [
    {
     "data": {
      "text/plain": [
       "'origin'"
      ]
     },
     "execution_count": 188,
     "metadata": {},
     "output_type": "execute_result"
    }
   ],
   "execution_count": 188
  },
  {
   "metadata": {
    "ExecuteTime": {
     "end_time": "2024-09-28T12:53:42.715189Z",
     "start_time": "2024-09-28T12:53:42.710938Z"
    }
   },
   "cell_type": "code",
   "source": "points[Point(1, 1)]",
   "id": "4fd88ff577ad7324",
   "outputs": [
    {
     "data": {
      "text/plain": [
       "'second point'"
      ]
     },
     "execution_count": 189,
     "metadata": {},
     "output_type": "execute_result"
    }
   ],
   "execution_count": 189
  },
  {
   "metadata": {
    "ExecuteTime": {
     "end_time": "2024-09-28T12:53:43.077931Z",
     "start_time": "2024-09-28T12:53:43.074364Z"
    }
   },
   "cell_type": "code",
   "source": "points[(1, 1)]",
   "id": "613053d3964c888b",
   "outputs": [
    {
     "data": {
      "text/plain": [
       "'second point'"
      ]
     },
     "execution_count": 190,
     "metadata": {},
     "output_type": "execute_result"
    }
   ],
   "execution_count": 190
  },
  {
   "metadata": {
    "ExecuteTime": {
     "end_time": "2024-09-28T12:53:43.472224Z",
     "start_time": "2024-09-28T12:53:43.469452Z"
    }
   },
   "cell_type": "code",
   "source": [
    "pt1 = Point(0, 0)\n",
    "pt2 = Point(1, 1)"
   ],
   "id": "acb8d43e52dd198",
   "outputs": [],
   "execution_count": 191
  },
  {
   "metadata": {
    "ExecuteTime": {
     "end_time": "2024-09-28T12:53:44.257085Z",
     "start_time": "2024-09-28T12:53:44.253890Z"
    }
   },
   "cell_type": "code",
   "source": [
    "points = {\n",
    "    pt1: 'origin',\n",
    "    pt2: 'second point',\n",
    "}"
   ],
   "id": "f07ae8d6047a656a",
   "outputs": [],
   "execution_count": 192
  },
  {
   "metadata": {
    "ExecuteTime": {
     "end_time": "2024-09-28T12:53:44.656675Z",
     "start_time": "2024-09-28T12:53:44.652180Z"
    }
   },
   "cell_type": "code",
   "source": "points[pt1], points[pt2], ",
   "id": "8b0cf4aaf03d30a",
   "outputs": [
    {
     "data": {
      "text/plain": [
       "('origin', 'second point')"
      ]
     },
     "execution_count": 193,
     "metadata": {},
     "output_type": "execute_result"
    }
   ],
   "execution_count": 193
  },
  {
   "metadata": {
    "ExecuteTime": {
     "end_time": "2024-09-28T12:53:45.251749Z",
     "start_time": "2024-09-28T12:53:45.249444Z"
    }
   },
   "cell_type": "code",
   "source": "pt1.x = 10",
   "id": "727cda5ebd18b0a",
   "outputs": [],
   "execution_count": 194
  },
  {
   "metadata": {
    "ExecuteTime": {
     "end_time": "2024-09-28T12:53:45.810891Z",
     "start_time": "2024-09-28T12:53:45.795658Z"
    }
   },
   "cell_type": "code",
   "source": "points[pt1]",
   "id": "33aca2692a18b6f0",
   "outputs": [
    {
     "ename": "KeyError",
     "evalue": "Point(x=10, y=0)",
     "output_type": "error",
     "traceback": [
      "\u001B[0;31m---------------------------------------------------------------------------\u001B[0m",
      "\u001B[0;31mKeyError\u001B[0m                                  Traceback (most recent call last)",
      "Cell \u001B[0;32mIn[195], line 1\u001B[0m\n\u001B[0;32m----> 1\u001B[0m \u001B[43mpoints\u001B[49m\u001B[43m[\u001B[49m\u001B[43mpt1\u001B[49m\u001B[43m]\u001B[49m\n",
      "\u001B[0;31mKeyError\u001B[0m: Point(x=10, y=0)"
     ]
    }
   ],
   "execution_count": 195
  },
  {
   "metadata": {
    "ExecuteTime": {
     "end_time": "2024-09-28T12:55:01.689929Z",
     "start_time": "2024-09-28T12:55:01.686424Z"
    }
   },
   "cell_type": "code",
   "source": "k1 = list(points.keys())[0]",
   "id": "ea94519cfc80c5a2",
   "outputs": [],
   "execution_count": 203
  },
  {
   "metadata": {
    "ExecuteTime": {
     "end_time": "2024-09-28T12:55:02.006981Z",
     "start_time": "2024-09-28T12:55:02.003321Z"
    }
   },
   "cell_type": "code",
   "source": "k1 is pt1",
   "id": "7cc71673b867c186",
   "outputs": [
    {
     "data": {
      "text/plain": [
       "True"
      ]
     },
     "execution_count": 204,
     "metadata": {},
     "output_type": "execute_result"
    }
   ],
   "execution_count": 204
  },
  {
   "metadata": {
    "ExecuteTime": {
     "end_time": "2024-09-28T12:55:50.339968Z",
     "start_time": "2024-09-28T12:55:50.335053Z"
    }
   },
   "cell_type": "code",
   "source": "hash(k1) is hash(Point(10, 0))",
   "id": "2afe64938d9d0e5c",
   "outputs": [
    {
     "data": {
      "text/plain": [
       "False"
      ]
     },
     "execution_count": 206,
     "metadata": {},
     "output_type": "execute_result"
    }
   ],
   "execution_count": 206
  },
  {
   "metadata": {
    "ExecuteTime": {
     "end_time": "2024-09-28T13:03:32.382793Z",
     "start_time": "2024-09-28T13:03:32.377458Z"
    }
   },
   "cell_type": "code",
   "source": [
    "class Point:\n",
    "    def __init__(self, id, x, y):\n",
    "        self._id = id\n",
    "        self.x = x\n",
    "        self.y = y\n",
    "        \n",
    "    def __repr__(self):\n",
    "        return f'Point(id={self._id}, x={self.x}, y={self.y})'\n",
    "    \n",
    "    def __str__(self):\n",
    "        return f'({self.x}, {self.y})'\n",
    "    \n",
    "    def __eq__(self, other) -> bool:  \n",
    "        if not isinstance(other, Point):\n",
    "            return False\n",
    "        return self._id == other._id\n",
    "    \n",
    "    def __hash__(self) -> int:\n",
    "        return hash(self._id)"
   ],
   "id": "ccf41fc726adb0cf",
   "outputs": [],
   "execution_count": 214
  },
  {
   "metadata": {
    "ExecuteTime": {
     "end_time": "2024-09-28T13:03:32.864221Z",
     "start_time": "2024-09-28T13:03:32.860833Z"
    }
   },
   "cell_type": "code",
   "source": "p1 = Point('p1', 1, 1)",
   "id": "55d85cfc222fc3f5",
   "outputs": [],
   "execution_count": 215
  },
  {
   "metadata": {
    "ExecuteTime": {
     "end_time": "2024-09-28T13:02:55.130521Z",
     "start_time": "2024-09-28T13:02:55.127649Z"
    }
   },
   "cell_type": "code",
   "source": "points = {p1: 'john object'}",
   "id": "6ffd2df526b4c184",
   "outputs": [],
   "execution_count": 210
  },
  {
   "metadata": {
    "ExecuteTime": {
     "end_time": "2024-09-28T13:03:03.988414Z",
     "start_time": "2024-09-28T13:03:03.984162Z"
    }
   },
   "cell_type": "code",
   "source": "points[p1]",
   "id": "b82e6e5c8b662851",
   "outputs": [
    {
     "data": {
      "text/plain": [
       "'john object'"
      ]
     },
     "execution_count": 211,
     "metadata": {},
     "output_type": "execute_result"
    }
   ],
   "execution_count": 211
  },
  {
   "metadata": {
    "ExecuteTime": {
     "end_time": "2024-09-28T13:03:40.279013Z",
     "start_time": "2024-09-28T13:03:40.273839Z"
    }
   },
   "cell_type": "code",
   "source": "points[Point('p1', 0, 0)]",
   "id": "ec529f4fd946af35",
   "outputs": [
    {
     "data": {
      "text/plain": [
       "'john object'"
      ]
     },
     "execution_count": 216,
     "metadata": {},
     "output_type": "execute_result"
    }
   ],
   "execution_count": 216
  },
  {
   "metadata": {
    "ExecuteTime": {
     "end_time": "2024-09-28T13:04:18.162897Z",
     "start_time": "2024-09-28T13:04:18.159554Z"
    }
   },
   "cell_type": "code",
   "source": [
    "p1.x = -10\n",
    "p1.y = 10"
   ],
   "id": "935e872ce07ec1ca",
   "outputs": [],
   "execution_count": 218
  },
  {
   "metadata": {
    "ExecuteTime": {
     "end_time": "2024-09-28T13:04:23.445179Z",
     "start_time": "2024-09-28T13:04:23.440716Z"
    }
   },
   "cell_type": "code",
   "source": "points[p1]",
   "id": "ec078158fd730d98",
   "outputs": [
    {
     "data": {
      "text/plain": [
       "'john object'"
      ]
     },
     "execution_count": 219,
     "metadata": {},
     "output_type": "execute_result"
    }
   ],
   "execution_count": 219
  },
  {
   "metadata": {},
   "cell_type": "code",
   "outputs": [],
   "execution_count": null,
   "source": "",
   "id": "645afbc260a3248b"
  }
 ],
 "metadata": {
  "kernelspec": {
   "display_name": "Python 3",
   "language": "python",
   "name": "python3"
  },
  "language_info": {
   "codemirror_mode": {
    "name": "ipython",
    "version": 2
   },
   "file_extension": ".py",
   "mimetype": "text/x-python",
   "name": "python",
   "nbconvert_exporter": "python",
   "pygments_lexer": "ipython2",
   "version": "2.7.6"
  }
 },
 "nbformat": 4,
 "nbformat_minor": 5
}
