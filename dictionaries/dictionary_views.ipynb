{
 "cells": [
  {
   "cell_type": "code",
   "id": "initial_id",
   "metadata": {
    "collapsed": true,
    "ExecuteTime": {
     "end_time": "2024-09-27T13:09:18.209557Z",
     "start_time": "2024-09-27T13:09:18.206727Z"
    }
   },
   "source": [
    "s1 = {1, 2, 3}\n",
    "s2 = {2, 3, 4}"
   ],
   "outputs": [],
   "execution_count": 1
  },
  {
   "metadata": {
    "ExecuteTime": {
     "end_time": "2024-09-27T13:09:41.855310Z",
     "start_time": "2024-09-27T13:09:41.850898Z"
    }
   },
   "cell_type": "code",
   "source": "s1 | s2",
   "id": "307cc36ee709c09",
   "outputs": [
    {
     "data": {
      "text/plain": [
       "{1, 2, 3, 4}"
      ]
     },
     "execution_count": 4,
     "metadata": {},
     "output_type": "execute_result"
    }
   ],
   "execution_count": 4
  },
  {
   "metadata": {
    "ExecuteTime": {
     "end_time": "2024-09-27T13:09:50.696525Z",
     "start_time": "2024-09-27T13:09:50.692048Z"
    }
   },
   "cell_type": "code",
   "source": "s1 & s2",
   "id": "f51b90e11f7e648e",
   "outputs": [
    {
     "data": {
      "text/plain": [
       "{2, 3}"
      ]
     },
     "execution_count": 5,
     "metadata": {},
     "output_type": "execute_result"
    }
   ],
   "execution_count": 5
  },
  {
   "metadata": {
    "ExecuteTime": {
     "end_time": "2024-09-27T13:09:57.632764Z",
     "start_time": "2024-09-27T13:09:57.627433Z"
    }
   },
   "cell_type": "code",
   "source": "s1 - s2",
   "id": "710dff4ee78d5ab",
   "outputs": [
    {
     "data": {
      "text/plain": [
       "{1}"
      ]
     },
     "execution_count": 6,
     "metadata": {},
     "output_type": "execute_result"
    }
   ],
   "execution_count": 6
  },
  {
   "metadata": {
    "ExecuteTime": {
     "end_time": "2024-09-27T13:10:10.194473Z",
     "start_time": "2024-09-27T13:10:10.190310Z"
    }
   },
   "cell_type": "code",
   "source": "s2 - s1",
   "id": "d72cdd496b08b451",
   "outputs": [
    {
     "data": {
      "text/plain": [
       "{4}"
      ]
     },
     "execution_count": 8,
     "metadata": {},
     "output_type": "execute_result"
    }
   ],
   "execution_count": 8
  },
  {
   "metadata": {
    "ExecuteTime": {
     "end_time": "2024-09-27T13:10:46.204750Z",
     "start_time": "2024-09-27T13:10:46.200851Z"
    }
   },
   "cell_type": "code",
   "source": [
    "class M:\n",
    "    def __or__(self, other):\n",
    "        print(\"OR\")"
   ],
   "id": "60f5f676a6a40dec",
   "outputs": [],
   "execution_count": 10
  },
  {
   "metadata": {
    "ExecuteTime": {
     "end_time": "2024-09-27T13:10:58.270895Z",
     "start_time": "2024-09-27T13:10:58.267837Z"
    }
   },
   "cell_type": "code",
   "source": "M() | M()",
   "id": "74fc08b01bdc10a9",
   "outputs": [
    {
     "name": "stdout",
     "output_type": "stream",
     "text": [
      "OR\n"
     ]
    }
   ],
   "execution_count": 12
  },
  {
   "metadata": {
    "ExecuteTime": {
     "end_time": "2024-09-27T13:21:48.625723Z",
     "start_time": "2024-09-27T13:21:48.622379Z"
    }
   },
   "cell_type": "code",
   "source": [
    "d1 = dict(zip('abc', range(1, 4)))\n",
    "d2 = dict(zip('cde', [10, 4, 5]))"
   ],
   "id": "cdfb0782b149d85b",
   "outputs": [],
   "execution_count": 28
  },
  {
   "metadata": {
    "ExecuteTime": {
     "end_time": "2024-09-27T13:18:15.017960Z",
     "start_time": "2024-09-27T13:18:15.012459Z"
    }
   },
   "cell_type": "code",
   "source": "d1, d2",
   "id": "ff181e8b414d7023",
   "outputs": [
    {
     "data": {
      "text/plain": [
       "({'a': 1, 'b': 2, 'c': 3}, {'c': 30, 'd': 4, 'e': 5})"
      ]
     },
     "execution_count": 16,
     "metadata": {},
     "output_type": "execute_result"
    }
   ],
   "execution_count": 16
  },
  {
   "metadata": {
    "ExecuteTime": {
     "end_time": "2024-09-27T13:18:49.407726Z",
     "start_time": "2024-09-27T13:18:49.404727Z"
    }
   },
   "cell_type": "code",
   "source": [
    "for key in d1:\n",
    "    print(key)"
   ],
   "id": "e8f6ed06a94c9967",
   "outputs": [
    {
     "name": "stdout",
     "output_type": "stream",
     "text": [
      "a\n",
      "b\n",
      "c\n"
     ]
    }
   ],
   "execution_count": 17
  },
  {
   "metadata": {
    "ExecuteTime": {
     "end_time": "2024-09-27T13:19:05.042234Z",
     "start_time": "2024-09-27T13:19:05.038050Z"
    }
   },
   "cell_type": "code",
   "source": "type(d1.keys())",
   "id": "3b339d8fb1cd0350",
   "outputs": [
    {
     "data": {
      "text/plain": [
       "dict_keys"
      ]
     },
     "execution_count": 19,
     "metadata": {},
     "output_type": "execute_result"
    }
   ],
   "execution_count": 19
  },
  {
   "metadata": {
    "ExecuteTime": {
     "end_time": "2024-09-27T13:19:23.373228Z",
     "start_time": "2024-09-27T13:19:23.369412Z"
    }
   },
   "cell_type": "code",
   "source": [
    "for key in d1.keys():\n",
    "    print(key)"
   ],
   "id": "92a98f7a2cb76f00",
   "outputs": [
    {
     "name": "stdout",
     "output_type": "stream",
     "text": [
      "a\n",
      "b\n",
      "c\n"
     ]
    }
   ],
   "execution_count": 20
  },
  {
   "metadata": {
    "ExecuteTime": {
     "end_time": "2024-09-27T13:22:49.074573Z",
     "start_time": "2024-09-27T13:22:49.070412Z"
    }
   },
   "cell_type": "code",
   "source": [
    "for item in d1.items():\n",
    "    print(item)"
   ],
   "id": "4a204cb467a87408",
   "outputs": [
    {
     "name": "stdout",
     "output_type": "stream",
     "text": [
      "('a', 1)\n",
      "('b', 2)\n",
      "('c', 3)\n"
     ]
    }
   ],
   "execution_count": 29
  },
  {
   "metadata": {
    "ExecuteTime": {
     "end_time": "2024-09-27T13:23:37.898661Z",
     "start_time": "2024-09-27T13:23:37.894061Z"
    }
   },
   "cell_type": "code",
   "source": "type(d1.items())",
   "id": "2dc54ce3659617ab",
   "outputs": [
    {
     "data": {
      "text/plain": [
       "dict_items"
      ]
     },
     "execution_count": 30,
     "metadata": {},
     "output_type": "execute_result"
    }
   ],
   "execution_count": 30
  },
  {
   "metadata": {
    "ExecuteTime": {
     "end_time": "2024-09-27T13:24:17.240858Z",
     "start_time": "2024-09-27T13:24:17.238300Z"
    }
   },
   "cell_type": "code",
   "source": "keys = d1.keys()",
   "id": "72c55f8dff54edae",
   "outputs": [],
   "execution_count": 31
  },
  {
   "metadata": {
    "ExecuteTime": {
     "end_time": "2024-09-27T13:24:28.559446Z",
     "start_time": "2024-09-27T13:24:28.554606Z"
    }
   },
   "cell_type": "code",
   "source": "list(keys), list(keys)",
   "id": "71725a7c8076715a",
   "outputs": [
    {
     "data": {
      "text/plain": [
       "(['a', 'b', 'c'], ['a', 'b', 'c'])"
      ]
     },
     "execution_count": 32,
     "metadata": {},
     "output_type": "execute_result"
    }
   ],
   "execution_count": 32
  },
  {
   "metadata": {
    "ExecuteTime": {
     "end_time": "2024-09-27T13:30:25.178692Z",
     "start_time": "2024-09-27T13:30:25.173746Z"
    }
   },
   "cell_type": "code",
   "source": [
    "d1 = dict(zip('abc', range(1, 4)))\n",
    "\n",
    "keys = list(d1)\n",
    "print(keys)\n",
    "\n",
    "for key in keys:\n",
    "    if key == 'a':\n",
    "        del d1['b']\n",
    "        d1['d'] = '4'\n",
    "    print(key)\n",
    "    \n",
    "print(d1.keys())"
   ],
   "id": "4da8576ec76d4308",
   "outputs": [
    {
     "name": "stdout",
     "output_type": "stream",
     "text": [
      "['a', 'b', 'c']\n",
      "a\n",
      "b\n",
      "c\n",
      "dict_keys(['a', 'c', 'd'])\n"
     ]
    }
   ],
   "execution_count": 55
  },
  {
   "metadata": {
    "ExecuteTime": {
     "end_time": "2024-09-27T13:30:25.625556Z",
     "start_time": "2024-09-27T13:30:25.620176Z"
    }
   },
   "cell_type": "code",
   "source": [
    "d1 = dict(zip('abc', range(1, 4)))\n",
    "\n",
    "keys = d1.keys()\n",
    "print(keys)\n",
    "\n",
    "for key in keys:\n",
    "    if key == 'a':\n",
    "        del d1['b']\n",
    "        d1['d'] = '4'\n",
    "    print(key)\n",
    "    \n",
    "print(d1.keys())"
   ],
   "id": "1f1a04173649953d",
   "outputs": [
    {
     "name": "stdout",
     "output_type": "stream",
     "text": [
      "dict_keys(['a', 'b', 'c'])\n",
      "a\n",
      "c\n",
      "d\n",
      "dict_keys(['a', 'c', 'd'])\n"
     ]
    }
   ],
   "execution_count": 56
  },
  {
   "metadata": {
    "ExecuteTime": {
     "end_time": "2024-09-27T14:26:54.314992Z",
     "start_time": "2024-09-27T14:26:54.309732Z"
    }
   },
   "cell_type": "code",
   "source": "list(d1.items()) == list(zip(d1.keys(), d1.values()))",
   "id": "8a393f509ae74214",
   "outputs": [
    {
     "data": {
      "text/plain": [
       "True"
      ]
     },
     "execution_count": 58,
     "metadata": {},
     "output_type": "execute_result"
    }
   ],
   "execution_count": 58
  },
  {
   "metadata": {
    "ExecuteTime": {
     "end_time": "2024-09-27T14:27:37.791906Z",
     "start_time": "2024-09-27T14:27:37.788163Z"
    }
   },
   "cell_type": "code",
   "source": [
    "d1 = dict(zip('abc', range(1, 4)))\n",
    "d2 = dict(zip('cde', [10, 4, 5]))"
   ],
   "id": "c795690cad4bccca",
   "outputs": [],
   "execution_count": 61
  },
  {
   "metadata": {
    "ExecuteTime": {
     "end_time": "2024-09-27T14:27:52.927596Z",
     "start_time": "2024-09-27T14:27:52.923743Z"
    }
   },
   "cell_type": "code",
   "source": [
    "print(d1)\n",
    "print(d2)"
   ],
   "id": "7fde2342916056fd",
   "outputs": [
    {
     "name": "stdout",
     "output_type": "stream",
     "text": [
      "{'a': 1, 'b': 2, 'c': 3}\n",
      "{'c': 10, 'd': 4, 'e': 5}\n"
     ]
    }
   ],
   "execution_count": 64
  },
  {
   "metadata": {
    "ExecuteTime": {
     "end_time": "2024-09-27T14:28:19.261914Z",
     "start_time": "2024-09-27T14:28:19.258381Z"
    }
   },
   "cell_type": "code",
   "source": [
    "print(type(d1.keys()), d1.keys())\n",
    "print(type(d2.keys()), d2.keys())"
   ],
   "id": "9a88e065372ce9ce",
   "outputs": [
    {
     "name": "stdout",
     "output_type": "stream",
     "text": [
      "<class 'dict_keys'> dict_keys(['a', 'b', 'c'])\n",
      "<class 'dict_keys'> dict_keys(['c', 'd', 'e'])\n"
     ]
    }
   ],
   "execution_count": 65
  },
  {
   "metadata": {
    "ExecuteTime": {
     "end_time": "2024-09-27T15:09:20.275008Z",
     "start_time": "2024-09-27T15:09:20.271407Z"
    }
   },
   "cell_type": "code",
   "source": [
    "union = d1.keys() | d2.keys()\n",
    "print(union)"
   ],
   "id": "23c446028b613125",
   "outputs": [
    {
     "name": "stdout",
     "output_type": "stream",
     "text": [
      "{'e', 'a', 'b', 'c', 'd'}\n"
     ]
    }
   ],
   "execution_count": 103
  },
  {
   "metadata": {
    "ExecuteTime": {
     "end_time": "2024-09-27T15:09:21.090832Z",
     "start_time": "2024-09-27T15:09:21.086530Z"
    }
   },
   "cell_type": "code",
   "source": "type(union)",
   "id": "285027ef49896938",
   "outputs": [
    {
     "data": {
      "text/plain": [
       "set"
      ]
     },
     "execution_count": 104,
     "metadata": {},
     "output_type": "execute_result"
    }
   ],
   "execution_count": 104
  },
  {
   "metadata": {
    "ExecuteTime": {
     "end_time": "2024-09-27T15:09:55.488194Z",
     "start_time": "2024-09-27T15:09:55.485031Z"
    }
   },
   "cell_type": "code",
   "source": "d1.keys() & d2.keys()",
   "id": "9b5728fba75308d6",
   "outputs": [
    {
     "data": {
      "text/plain": [
       "{'c'}"
      ]
     },
     "execution_count": 105,
     "metadata": {},
     "output_type": "execute_result"
    }
   ],
   "execution_count": 105
  },
  {
   "metadata": {
    "ExecuteTime": {
     "end_time": "2024-09-27T15:11:12.239441Z",
     "start_time": "2024-09-27T15:11:12.235810Z"
    }
   },
   "cell_type": "code",
   "source": "d1.items() | d2.items()",
   "id": "f17851a5696a3b69",
   "outputs": [
    {
     "data": {
      "text/plain": [
       "{('a', 1), ('b', 2), ('c', 3), ('c', 10), ('d', 4), ('e', 5)}"
      ]
     },
     "execution_count": 106,
     "metadata": {},
     "output_type": "execute_result"
    }
   ],
   "execution_count": 106
  },
  {
   "metadata": {
    "ExecuteTime": {
     "end_time": "2024-09-27T15:11:44.359719Z",
     "start_time": "2024-09-27T15:11:44.354548Z"
    }
   },
   "cell_type": "code",
   "source": "d1, d2",
   "id": "fed029b83950cf99",
   "outputs": [
    {
     "data": {
      "text/plain": [
       "({'a': 1, 'b': 2, 'c': 3}, {'c': 10, 'd': 4, 'e': 5})"
      ]
     },
     "execution_count": 107,
     "metadata": {},
     "output_type": "execute_result"
    }
   ],
   "execution_count": 107
  },
  {
   "metadata": {
    "ExecuteTime": {
     "end_time": "2024-09-27T15:11:54.490413Z",
     "start_time": "2024-09-27T15:11:54.487295Z"
    }
   },
   "cell_type": "code",
   "source": "d2['c'] = 3",
   "id": "97705c825542a11f",
   "outputs": [],
   "execution_count": 108
  },
  {
   "metadata": {
    "ExecuteTime": {
     "end_time": "2024-09-27T15:11:58.509333Z",
     "start_time": "2024-09-27T15:11:58.505654Z"
    }
   },
   "cell_type": "code",
   "source": "d1, d2",
   "id": "2ddc35a8b80e4104",
   "outputs": [
    {
     "data": {
      "text/plain": [
       "({'a': 1, 'b': 2, 'c': 3}, {'c': 3, 'd': 4, 'e': 5})"
      ]
     },
     "execution_count": 109,
     "metadata": {},
     "output_type": "execute_result"
    }
   ],
   "execution_count": 109
  },
  {
   "metadata": {
    "ExecuteTime": {
     "end_time": "2024-09-27T15:12:12.838751Z",
     "start_time": "2024-09-27T15:12:12.834629Z"
    }
   },
   "cell_type": "code",
   "source": "d1.items() | d2.items()",
   "id": "92a995f9367c681e",
   "outputs": [
    {
     "data": {
      "text/plain": [
       "{('a', 1), ('b', 2), ('c', 3), ('d', 4), ('e', 5)}"
      ]
     },
     "execution_count": 110,
     "metadata": {},
     "output_type": "execute_result"
    }
   ],
   "execution_count": 110
  },
  {
   "metadata": {
    "ExecuteTime": {
     "end_time": "2024-09-27T15:14:21.503579Z",
     "start_time": "2024-09-27T15:14:21.498829Z"
    }
   },
   "cell_type": "code",
   "source": "d1.values(), d2.values()",
   "id": "35d5589ef53b9f63",
   "outputs": [
    {
     "data": {
      "text/plain": [
       "(dict_values([1, 2, 3]), dict_values([3, 4, 5]))"
      ]
     },
     "execution_count": 112,
     "metadata": {},
     "output_type": "execute_result"
    }
   ],
   "execution_count": 112
  },
  {
   "metadata": {
    "ExecuteTime": {
     "end_time": "2024-09-27T15:14:28.585693Z",
     "start_time": "2024-09-27T15:14:28.565428Z"
    }
   },
   "cell_type": "code",
   "source": "d1.values() | d2.values()",
   "id": "42bba0db38e012fc",
   "outputs": [
    {
     "ename": "TypeError",
     "evalue": "unsupported operand type(s) for |: 'dict_values' and 'dict_values'",
     "output_type": "error",
     "traceback": [
      "\u001B[0;31m---------------------------------------------------------------------------\u001B[0m",
      "\u001B[0;31mTypeError\u001B[0m                                 Traceback (most recent call last)",
      "Cell \u001B[0;32mIn[113], line 1\u001B[0m\n\u001B[0;32m----> 1\u001B[0m \u001B[43md1\u001B[49m\u001B[38;5;241;43m.\u001B[39;49m\u001B[43mvalues\u001B[49m\u001B[43m(\u001B[49m\u001B[43m)\u001B[49m\u001B[43m \u001B[49m\u001B[38;5;241;43m|\u001B[39;49m\u001B[43m \u001B[49m\u001B[43md2\u001B[49m\u001B[38;5;241;43m.\u001B[39;49m\u001B[43mvalues\u001B[49m\u001B[43m(\u001B[49m\u001B[43m)\u001B[49m\n",
      "\u001B[0;31mTypeError\u001B[0m: unsupported operand type(s) for |: 'dict_values' and 'dict_values'"
     ]
    }
   ],
   "execution_count": 113
  },
  {
   "metadata": {
    "ExecuteTime": {
     "end_time": "2024-09-27T15:15:25.477410Z",
     "start_time": "2024-09-27T15:15:25.474632Z"
    }
   },
   "cell_type": "code",
   "source": [
    "d3 = {\"a\": [1, 2], \"b\": [3, 4]}\n",
    "d4 = {\"b\": [30, 40], \"c\": [5, 6]}"
   ],
   "id": "44e9cb078d318308",
   "outputs": [],
   "execution_count": 114
  },
  {
   "metadata": {
    "ExecuteTime": {
     "end_time": "2024-09-27T15:15:43.405313Z",
     "start_time": "2024-09-27T15:15:43.391360Z"
    }
   },
   "cell_type": "code",
   "source": "hash(('a', [1, 2]))",
   "id": "c6f01b71ebb4c607",
   "outputs": [
    {
     "ename": "TypeError",
     "evalue": "unhashable type: 'list'",
     "output_type": "error",
     "traceback": [
      "\u001B[0;31m---------------------------------------------------------------------------\u001B[0m",
      "\u001B[0;31mTypeError\u001B[0m                                 Traceback (most recent call last)",
      "Cell \u001B[0;32mIn[116], line 1\u001B[0m\n\u001B[0;32m----> 1\u001B[0m \u001B[38;5;28;43mhash\u001B[39;49m\u001B[43m(\u001B[49m\u001B[43m(\u001B[49m\u001B[38;5;124;43m'\u001B[39;49m\u001B[38;5;124;43ma\u001B[39;49m\u001B[38;5;124;43m'\u001B[39;49m\u001B[43m,\u001B[49m\u001B[43m \u001B[49m\u001B[43m[\u001B[49m\u001B[38;5;241;43m1\u001B[39;49m\u001B[43m,\u001B[49m\u001B[43m \u001B[49m\u001B[38;5;241;43m2\u001B[39;49m\u001B[43m]\u001B[49m\u001B[43m)\u001B[49m\u001B[43m)\u001B[49m\n",
      "\u001B[0;31mTypeError\u001B[0m: unhashable type: 'list'"
     ]
    }
   ],
   "execution_count": 116
  },
  {
   "metadata": {
    "ExecuteTime": {
     "end_time": "2024-09-27T15:16:11.543779Z",
     "start_time": "2024-09-27T15:16:11.523673Z"
    }
   },
   "cell_type": "code",
   "source": "d3.items() | d4.items()",
   "id": "dcb439c9a1656532",
   "outputs": [
    {
     "ename": "TypeError",
     "evalue": "unhashable type: 'list'",
     "output_type": "error",
     "traceback": [
      "\u001B[0;31m---------------------------------------------------------------------------\u001B[0m",
      "\u001B[0;31mTypeError\u001B[0m                                 Traceback (most recent call last)",
      "Cell \u001B[0;32mIn[117], line 1\u001B[0m\n\u001B[0;32m----> 1\u001B[0m \u001B[43md3\u001B[49m\u001B[38;5;241;43m.\u001B[39;49m\u001B[43mitems\u001B[49m\u001B[43m(\u001B[49m\u001B[43m)\u001B[49m\u001B[43m \u001B[49m\u001B[38;5;241;43m|\u001B[39;49m\u001B[43m \u001B[49m\u001B[43md4\u001B[49m\u001B[38;5;241;43m.\u001B[39;49m\u001B[43mitems\u001B[49m\u001B[43m(\u001B[49m\u001B[43m)\u001B[49m\n",
      "\u001B[0;31mTypeError\u001B[0m: unhashable type: 'list'"
     ]
    }
   ],
   "execution_count": 117
  },
  {
   "metadata": {
    "ExecuteTime": {
     "end_time": "2024-09-27T15:17:16.145886Z",
     "start_time": "2024-09-27T15:17:16.142592Z"
    }
   },
   "cell_type": "code",
   "source": [
    "d1 = {'a': 1, 'b': 2, 'c': 3}\n",
    "d2 = {'b': 2, 'c': 30, 'd': 4}"
   ],
   "id": "97e71fba84657ac1",
   "outputs": [],
   "execution_count": 118
  },
  {
   "metadata": {
    "ExecuteTime": {
     "end_time": "2024-09-27T15:17:54.913374Z",
     "start_time": "2024-09-27T15:17:54.908539Z"
    }
   },
   "cell_type": "code",
   "source": [
    "k1 = d1.keys()\n",
    "k2 = d2.keys()\n",
    "k1 & k2"
   ],
   "id": "90146e581925aab1",
   "outputs": [
    {
     "data": {
      "text/plain": [
       "{'b', 'c'}"
      ]
     },
     "execution_count": 119,
     "metadata": {},
     "output_type": "execute_result"
    }
   ],
   "execution_count": 119
  },
  {
   "metadata": {
    "ExecuteTime": {
     "end_time": "2024-09-27T15:20:42.806275Z",
     "start_time": "2024-09-27T15:20:42.802756Z"
    }
   },
   "cell_type": "code",
   "source": [
    "new_dict = {}\n",
    "for key in d1.keys() & d2.keys():\n",
    "    new_dict[key] = d1[key], d2[key]\n",
    "\n",
    "print(new_dict)"
   ],
   "id": "e8abc0c9b7979594",
   "outputs": [
    {
     "name": "stdout",
     "output_type": "stream",
     "text": [
      "{'c': (3, 30), 'b': (2, 2)}\n"
     ]
    }
   ],
   "execution_count": 122
  },
  {
   "metadata": {
    "ExecuteTime": {
     "end_time": "2024-09-27T15:22:55.867917Z",
     "start_time": "2024-09-27T15:22:55.862806Z"
    }
   },
   "cell_type": "code",
   "source": "{key: (d1[key], d2[key]) for key in d1.keys() & d2.keys()}",
   "id": "53435d1baae54ba1",
   "outputs": [
    {
     "data": {
      "text/plain": [
       "{'c': (3, 30), 'b': (2, 2)}"
      ]
     },
     "execution_count": 125,
     "metadata": {},
     "output_type": "execute_result"
    }
   ],
   "execution_count": 125
  },
  {
   "metadata": {
    "ExecuteTime": {
     "end_time": "2024-09-27T15:25:09.717366Z",
     "start_time": "2024-09-27T15:25:09.714955Z"
    }
   },
   "cell_type": "code",
   "source": [
    "d1 = {'a': 1, 'b': 2, 'c': 3}\n",
    "d2 = {'b': 2, 'c': 30, 'd': 4}"
   ],
   "id": "58ac851f17dc0d0f",
   "outputs": [],
   "execution_count": 129
  },
  {
   "metadata": {
    "ExecuteTime": {
     "end_time": "2024-09-27T15:25:09.984060Z",
     "start_time": "2024-09-27T15:25:09.980383Z"
    }
   },
   "cell_type": "code",
   "source": "{key: d2[key] for key in d1.keys() & d2.keys()}",
   "id": "1ea7b571e8e6e02f",
   "outputs": [
    {
     "data": {
      "text/plain": [
       "{'c': 30, 'b': 2}"
      ]
     },
     "execution_count": 130,
     "metadata": {},
     "output_type": "execute_result"
    }
   ],
   "execution_count": 130
  },
  {
   "metadata": {
    "ExecuteTime": {
     "end_time": "2024-09-27T15:26:30.378800Z",
     "start_time": "2024-09-27T15:26:30.375713Z"
    }
   },
   "cell_type": "code",
   "source": [
    "d1 = {'a': 1, 'b': 2, 'c': 3, 'd': 4}\n",
    "d2 = {'a': 10, 'b': 20, 'c': 30, 'e': 5}"
   ],
   "id": "da9cdecf25e2d1a8",
   "outputs": [],
   "execution_count": 131
  },
  {
   "metadata": {
    "ExecuteTime": {
     "end_time": "2024-09-27T15:27:34.183266Z",
     "start_time": "2024-09-27T15:27:34.179784Z"
    }
   },
   "cell_type": "code",
   "source": "union = d1.keys() | d2.keys()",
   "id": "8abcfcd1104c9d5f",
   "outputs": [],
   "execution_count": 132
  },
  {
   "metadata": {
    "ExecuteTime": {
     "end_time": "2024-09-27T15:27:44.554078Z",
     "start_time": "2024-09-27T15:27:44.549811Z"
    }
   },
   "cell_type": "code",
   "source": "print(union)",
   "id": "53f41b5ba6fbfcf",
   "outputs": [
    {
     "name": "stdout",
     "output_type": "stream",
     "text": [
      "{'e', 'a', 'b', 'c', 'd'}\n"
     ]
    }
   ],
   "execution_count": 133
  },
  {
   "metadata": {
    "ExecuteTime": {
     "end_time": "2024-09-27T15:28:25.158425Z",
     "start_time": "2024-09-27T15:28:25.154947Z"
    }
   },
   "cell_type": "code",
   "source": [
    "intersection = d1.keys() & d2.keys()\n",
    "print(intersection)"
   ],
   "id": "20bd0731bd72a925",
   "outputs": [
    {
     "name": "stdout",
     "output_type": "stream",
     "text": [
      "{'c', 'b', 'a'}\n"
     ]
    }
   ],
   "execution_count": 134
  },
  {
   "metadata": {
    "ExecuteTime": {
     "end_time": "2024-09-27T15:28:36.178606Z",
     "start_time": "2024-09-27T15:28:36.175415Z"
    }
   },
   "cell_type": "code",
   "source": "union - intersection",
   "id": "f839899adefd4b50",
   "outputs": [
    {
     "data": {
      "text/plain": [
       "{'d', 'e'}"
      ]
     },
     "execution_count": 135,
     "metadata": {},
     "output_type": "execute_result"
    }
   ],
   "execution_count": 135
  },
  {
   "metadata": {
    "ExecuteTime": {
     "end_time": "2024-09-27T15:29:01.415632Z",
     "start_time": "2024-09-27T15:29:01.411418Z"
    }
   },
   "cell_type": "code",
   "source": "d1.keys() ^ d2.keys()",
   "id": "fc77a0473c58b4bf",
   "outputs": [
    {
     "data": {
      "text/plain": [
       "{'d', 'e'}"
      ]
     },
     "execution_count": 136,
     "metadata": {},
     "output_type": "execute_result"
    }
   ],
   "execution_count": 136
  },
  {
   "metadata": {
    "ExecuteTime": {
     "end_time": "2024-09-27T15:31:50.459225Z",
     "start_time": "2024-09-27T15:31:50.456107Z"
    }
   },
   "cell_type": "code",
   "source": "d1.get('d'), d2.get('d')",
   "id": "ed60fc89534b69b3",
   "outputs": [
    {
     "data": {
      "text/plain": [
       "(4, None)"
      ]
     },
     "execution_count": 138,
     "metadata": {},
     "output_type": "execute_result"
    }
   ],
   "execution_count": 138
  },
  {
   "metadata": {
    "ExecuteTime": {
     "end_time": "2024-09-27T15:33:16.714407Z",
     "start_time": "2024-09-27T15:33:16.710157Z"
    }
   },
   "cell_type": "code",
   "source": "d1.get('d') or d2.get('d')",
   "id": "241e690e202dcf77",
   "outputs": [
    {
     "data": {
      "text/plain": [
       "4"
      ]
     },
     "execution_count": 139,
     "metadata": {},
     "output_type": "execute_result"
    }
   ],
   "execution_count": 139
  },
  {
   "metadata": {
    "ExecuteTime": {
     "end_time": "2024-09-27T15:33:23.050130Z",
     "start_time": "2024-09-27T15:33:23.046401Z"
    }
   },
   "cell_type": "code",
   "source": "d1.get('e') or d2.get('e')",
   "id": "285fc22bf6aff9bc",
   "outputs": [
    {
     "data": {
      "text/plain": [
       "5"
      ]
     },
     "execution_count": 140,
     "metadata": {},
     "output_type": "execute_result"
    }
   ],
   "execution_count": 140
  },
  {
   "metadata": {
    "ExecuteTime": {
     "end_time": "2024-09-27T15:33:47.492317Z",
     "start_time": "2024-09-27T15:33:47.488967Z"
    }
   },
   "cell_type": "code",
   "source": [
    "d1 = {'a': 1, 'b': 2, 'c': 3, 'd': 4}\n",
    "d2 = {'a': 10, 'b': 20, 'c': 30, 'e': 5}\n",
    "\n",
    "union = d1.keys() | d2.keys()\n",
    "intersection = d1.keys() & d2.keys()\n",
    "keys = union - intersection\n",
    "\n",
    "result = {}\n",
    "\n",
    "for key in keys:\n",
    "     result[key] = d1.get(key) or d1.get(key)   "
   ],
   "id": "2108ab1315d7691f",
   "outputs": [],
   "execution_count": 141
  },
  {
   "metadata": {
    "ExecuteTime": {
     "end_time": "2024-09-27T15:45:41.824369Z",
     "start_time": "2024-09-27T15:45:41.819444Z"
    }
   },
   "cell_type": "code",
   "source": [
    "d1 = {'a': 1, 'b': 2, 'c': 3, 'd': 4}\n",
    "d2 = {'a': 10, 'b': 20, 'c': 30, 'e': 5}\n",
    "\n",
    "result = {}\n",
    "\n",
    "for key in d1.keys() ^ d2.keys():\n",
    "     result[key] = d1.get(key) or d1.get(key)"
   ],
   "id": "1619b5f31664a5ae",
   "outputs": [],
   "execution_count": 142
  },
  {
   "metadata": {
    "ExecuteTime": {
     "end_time": "2024-09-27T15:47:15.840548Z",
     "start_time": "2024-09-27T15:47:15.836542Z"
    }
   },
   "cell_type": "code",
   "source": [
    "result = {key: d1.get(key) or d2.get(key) for key in d1.keys() ^ d2.keys()}\n",
    "print(result)"
   ],
   "id": "59213bd6e133152c",
   "outputs": [
    {
     "name": "stdout",
     "output_type": "stream",
     "text": [
      "{'e': 5, 'd': 4}\n"
     ]
    }
   ],
   "execution_count": 146
  },
  {
   "metadata": {},
   "cell_type": "code",
   "outputs": [],
   "execution_count": null,
   "source": "",
   "id": "edb0c66963531fb"
  }
 ],
 "metadata": {
  "kernelspec": {
   "display_name": "Python 3",
   "language": "python",
   "name": "python3"
  },
  "language_info": {
   "codemirror_mode": {
    "name": "ipython",
    "version": 2
   },
   "file_extension": ".py",
   "mimetype": "text/x-python",
   "name": "python",
   "nbconvert_exporter": "python",
   "pygments_lexer": "ipython2",
   "version": "2.7.6"
  }
 },
 "nbformat": 4,
 "nbformat_minor": 5
}
