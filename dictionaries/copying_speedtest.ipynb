{
 "cells": [
  {
   "cell_type": "code",
   "id": "initial_id",
   "metadata": {
    "collapsed": true,
    "ExecuteTime": {
     "end_time": "2024-09-28T08:58:28.889548Z",
     "start_time": "2024-09-28T08:58:28.887008Z"
    }
   },
   "source": "from timeit import timeit",
   "outputs": [],
   "execution_count": 19
  },
  {
   "metadata": {
    "ExecuteTime": {
     "end_time": "2024-09-28T08:58:29.086254Z",
     "start_time": "2024-09-28T08:58:29.082419Z"
    }
   },
   "cell_type": "code",
   "source": "d = {i: i for i in range(100)}",
   "id": "f312c7b7d6d729ea",
   "outputs": [],
   "execution_count": 20
  },
  {
   "metadata": {
    "ExecuteTime": {
     "end_time": "2024-09-28T08:58:29.607408Z",
     "start_time": "2024-09-28T08:58:29.199762Z"
    }
   },
   "cell_type": "code",
   "source": "timeit(\"d.copy()\", globals=globals(), number=10**6)",
   "id": "795d3e1922d178ed",
   "outputs": [
    {
     "data": {
      "text/plain": [
       "0.40370286000052147"
      ]
     },
     "execution_count": 21,
     "metadata": {},
     "output_type": "execute_result"
    }
   ],
   "execution_count": 21
  },
  {
   "metadata": {
    "ExecuteTime": {
     "end_time": "2024-09-28T08:58:30.081202Z",
     "start_time": "2024-09-28T08:58:29.608585Z"
    }
   },
   "cell_type": "code",
   "source": "timeit(\"{**d}\", globals=globals(), number=10**6)",
   "id": "cf089742d92c7f1f",
   "outputs": [
    {
     "data": {
      "text/plain": [
       "0.4687065309999525"
      ]
     },
     "execution_count": 22,
     "metadata": {},
     "output_type": "execute_result"
    }
   ],
   "execution_count": 22
  },
  {
   "metadata": {
    "ExecuteTime": {
     "end_time": "2024-09-28T08:58:30.511558Z",
     "start_time": "2024-09-28T08:58:30.083369Z"
    }
   },
   "cell_type": "code",
   "source": "timeit(\"dict(d)\", globals=globals(), number=10**6)",
   "id": "f219fc6766d0e2f4",
   "outputs": [
    {
     "data": {
      "text/plain": [
       "0.4244891859998461"
      ]
     },
     "execution_count": 23,
     "metadata": {},
     "output_type": "execute_result"
    }
   ],
   "execution_count": 23
  },
  {
   "metadata": {
    "ExecuteTime": {
     "end_time": "2024-09-28T08:58:35.325980Z",
     "start_time": "2024-09-28T08:58:30.512672Z"
    }
   },
   "cell_type": "code",
   "source": "timeit(\"{k: v for k, v in d.items()}\", globals=globals(), number=10**6)",
   "id": "b050d48c57ef7f1b",
   "outputs": [
    {
     "data": {
      "text/plain": [
       "4.8100283479998325"
      ]
     },
     "execution_count": 24,
     "metadata": {},
     "output_type": "execute_result"
    }
   ],
   "execution_count": 24
  },
  {
   "metadata": {
    "ExecuteTime": {
     "end_time": "2024-09-28T09:00:56.219480Z",
     "start_time": "2024-09-28T09:00:56.215005Z"
    }
   },
   "cell_type": "code",
   "source": [
    "def copy_by_method():\n",
    "    d.copy()\n",
    "    \n",
    "def copy_by_unpacking():\n",
    "    {**d}\n",
    "    \n",
    "def copy_by_passing():\n",
    "    dict(d)\n",
    "    \n",
    "def copy_by_comprehension():\n",
    "    {k: v for k, v in d.items()}"
   ],
   "id": "26e515c4d9bc6c2b",
   "outputs": [],
   "execution_count": 26
  },
  {
   "metadata": {
    "ExecuteTime": {
     "end_time": "2024-09-28T09:01:02.725910Z",
     "start_time": "2024-09-28T09:01:02.722643Z"
    }
   },
   "cell_type": "code",
   "source": "from dis import dis",
   "id": "eed4cf8465d612c2",
   "outputs": [],
   "execution_count": 27
  },
  {
   "metadata": {
    "ExecuteTime": {
     "end_time": "2024-09-28T09:01:17.695441Z",
     "start_time": "2024-09-28T09:01:17.691814Z"
    }
   },
   "cell_type": "code",
   "source": "dis(copy_by_method)",
   "id": "89a8a4160ba315c",
   "outputs": [
    {
     "name": "stdout",
     "output_type": "stream",
     "text": [
      "  1           0 RESUME                   0\n",
      "\n",
      "  2           2 LOAD_GLOBAL              0 (d)\n",
      "             12 LOAD_ATTR                3 (NULL|self + copy)\n",
      "             32 CALL                     0\n",
      "             40 POP_TOP\n",
      "             42 RETURN_CONST             0 (None)\n"
     ]
    }
   ],
   "execution_count": 28
  },
  {
   "metadata": {
    "ExecuteTime": {
     "end_time": "2024-09-28T09:08:19.550656Z",
     "start_time": "2024-09-28T09:08:19.546341Z"
    }
   },
   "cell_type": "code",
   "source": "dis(copy_by_unpacking)",
   "id": "886c2d981538bb5d",
   "outputs": [
    {
     "name": "stdout",
     "output_type": "stream",
     "text": [
      "  4           0 RESUME                   0\n",
      "\n",
      "  5           2 BUILD_MAP                0\n",
      "              4 LOAD_GLOBAL              0 (d)\n",
      "             14 DICT_UPDATE              1\n",
      "             16 POP_TOP\n",
      "             18 RETURN_CONST             0 (None)\n"
     ]
    }
   ],
   "execution_count": 33
  },
  {
   "metadata": {
    "ExecuteTime": {
     "end_time": "2024-09-28T09:01:47.622053Z",
     "start_time": "2024-09-28T09:01:47.618366Z"
    }
   },
   "cell_type": "code",
   "source": "dis(copy_by_passing)",
   "id": "23d6fbfc1bdf8fda",
   "outputs": [
    {
     "name": "stdout",
     "output_type": "stream",
     "text": [
      "  7           0 RESUME                   0\n",
      "\n",
      "  8           2 LOAD_GLOBAL              1 (NULL + dict)\n",
      "             12 LOAD_GLOBAL              2 (d)\n",
      "             22 CALL                     1\n",
      "             30 POP_TOP\n",
      "             32 RETURN_CONST             0 (None)\n"
     ]
    }
   ],
   "execution_count": 31
  },
  {
   "metadata": {
    "ExecuteTime": {
     "end_time": "2024-09-28T09:08:43.767557Z",
     "start_time": "2024-09-28T09:08:43.762367Z"
    }
   },
   "cell_type": "code",
   "source": "dis(copy_by_comprehension)",
   "id": "6352be5195d87e1f",
   "outputs": [
    {
     "name": "stdout",
     "output_type": "stream",
     "text": [
      " 10           0 RESUME                   0\n",
      "\n",
      " 11           2 LOAD_GLOBAL              0 (d)\n",
      "             12 LOAD_ATTR                3 (NULL|self + items)\n",
      "             32 CALL                     0\n",
      "             40 GET_ITER\n",
      "             42 LOAD_FAST_AND_CLEAR      0 (k)\n",
      "             44 LOAD_FAST_AND_CLEAR      1 (v)\n",
      "             46 SWAP                     3\n",
      "             48 BUILD_MAP                0\n",
      "             50 SWAP                     2\n",
      "        >>   52 FOR_ITER                 8 (to 72)\n",
      "             56 UNPACK_SEQUENCE          2\n",
      "             60 STORE_FAST               0 (k)\n",
      "             62 STORE_FAST               1 (v)\n",
      "             64 LOAD_FAST                0 (k)\n",
      "             66 LOAD_FAST                1 (v)\n",
      "             68 MAP_ADD                  2\n",
      "             70 JUMP_BACKWARD           10 (to 52)\n",
      "        >>   72 END_FOR\n",
      "             74 SWAP                     3\n",
      "             76 STORE_FAST               1 (v)\n",
      "             78 STORE_FAST               0 (k)\n",
      "             80 POP_TOP\n",
      "             82 RETURN_CONST             0 (None)\n",
      "        >>   84 SWAP                     2\n",
      "             86 POP_TOP\n",
      "             88 SWAP                     3\n",
      "             90 STORE_FAST               1 (v)\n",
      "             92 STORE_FAST               0 (k)\n",
      "             94 RERAISE                  0\n",
      "ExceptionTable:\n",
      "  48 to 72 -> 84 [3]\n"
     ]
    }
   ],
   "execution_count": 34
  },
  {
   "metadata": {},
   "cell_type": "code",
   "outputs": [],
   "execution_count": null,
   "source": "",
   "id": "d97bd2eae790555b"
  }
 ],
 "metadata": {
  "kernelspec": {
   "display_name": "Python 3",
   "language": "python",
   "name": "python3"
  },
  "language_info": {
   "codemirror_mode": {
    "name": "ipython",
    "version": 2
   },
   "file_extension": ".py",
   "mimetype": "text/x-python",
   "name": "python",
   "nbconvert_exporter": "python",
   "pygments_lexer": "ipython2",
   "version": "2.7.6"
  }
 },
 "nbformat": 4,
 "nbformat_minor": 5
}
