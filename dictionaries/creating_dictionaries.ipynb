{
 "cells": [
  {
   "cell_type": "code",
   "id": "initial_id",
   "metadata": {
    "collapsed": true,
    "ExecuteTime": {
     "end_time": "2024-09-27T07:12:02.941858Z",
     "start_time": "2024-09-27T07:12:02.938606Z"
    }
   },
   "source": "a = {\"k1\": 100, \"k2\": 200}",
   "outputs": [],
   "execution_count": 1
  },
  {
   "metadata": {
    "ExecuteTime": {
     "end_time": "2024-09-27T07:12:03.800968Z",
     "start_time": "2024-09-27T07:12:03.793534Z"
    }
   },
   "cell_type": "code",
   "source": "type(a)",
   "id": "1bc01ef4443d3eb6",
   "outputs": [
    {
     "data": {
      "text/plain": [
       "dict"
      ]
     },
     "execution_count": 2,
     "metadata": {},
     "output_type": "execute_result"
    }
   ],
   "execution_count": 2
  },
  {
   "metadata": {
    "ExecuteTime": {
     "end_time": "2024-09-27T07:12:08.429365Z",
     "start_time": "2024-09-27T07:12:08.424003Z"
    }
   },
   "cell_type": "code",
   "source": "a",
   "id": "5119cb756b4f4f29",
   "outputs": [
    {
     "data": {
      "text/plain": [
       "{'k1': 100, 'k2': 200}"
      ]
     },
     "execution_count": 3,
     "metadata": {},
     "output_type": "execute_result"
    }
   ],
   "execution_count": 3
  },
  {
   "metadata": {
    "ExecuteTime": {
     "end_time": "2024-09-27T07:12:17.686906Z",
     "start_time": "2024-09-27T07:12:17.683300Z"
    }
   },
   "cell_type": "code",
   "source": "print(a)",
   "id": "389a1f5c99ee500c",
   "outputs": [
    {
     "name": "stdout",
     "output_type": "stream",
     "text": [
      "{'k1': 100, 'k2': 200}\n"
     ]
    }
   ],
   "execution_count": 4
  },
  {
   "metadata": {
    "ExecuteTime": {
     "end_time": "2024-09-27T07:13:10.764553Z",
     "start_time": "2024-09-27T07:13:10.760032Z"
    }
   },
   "cell_type": "code",
   "source": "hash((1, 2, 3))",
   "id": "266a7eda28829f75",
   "outputs": [
    {
     "data": {
      "text/plain": [
       "529344067295497451"
      ]
     },
     "execution_count": 5,
     "metadata": {},
     "output_type": "execute_result"
    }
   ],
   "execution_count": 5
  },
  {
   "metadata": {
    "ExecuteTime": {
     "end_time": "2024-09-27T07:13:21.674447Z",
     "start_time": "2024-09-27T07:13:21.670486Z"
    }
   },
   "cell_type": "code",
   "source": "hash((1, 2, 3))",
   "id": "39c3dcd52c4516c6",
   "outputs": [
    {
     "data": {
      "text/plain": [
       "529344067295497451"
      ]
     },
     "execution_count": 6,
     "metadata": {},
     "output_type": "execute_result"
    }
   ],
   "execution_count": 6
  },
  {
   "metadata": {
    "ExecuteTime": {
     "end_time": "2024-09-27T07:13:44.456566Z",
     "start_time": "2024-09-27T07:13:44.453680Z"
    }
   },
   "cell_type": "code",
   "source": "d = {(1, 2, 3): \"This is a tuple\"}",
   "id": "179d0e31dbe9532",
   "outputs": [],
   "execution_count": 7
  },
  {
   "metadata": {
    "ExecuteTime": {
     "end_time": "2024-09-27T07:13:51.105411Z",
     "start_time": "2024-09-27T07:13:51.100871Z"
    }
   },
   "cell_type": "code",
   "source": "d[(1, 2, 3)]",
   "id": "b83609246006642c",
   "outputs": [
    {
     "data": {
      "text/plain": [
       "'This is a tuple'"
      ]
     },
     "execution_count": 9,
     "metadata": {},
     "output_type": "execute_result"
    }
   ],
   "execution_count": 9
  },
  {
   "metadata": {
    "ExecuteTime": {
     "end_time": "2024-09-27T07:13:58.866976Z",
     "start_time": "2024-09-27T07:13:58.863543Z"
    }
   },
   "cell_type": "code",
   "source": "t1 = 1, 2, 3",
   "id": "562412fb7ca6a935",
   "outputs": [],
   "execution_count": 10
  },
  {
   "metadata": {
    "ExecuteTime": {
     "end_time": "2024-09-27T07:14:13.000908Z",
     "start_time": "2024-09-27T07:14:12.997258Z"
    }
   },
   "cell_type": "code",
   "source": "t2 = 1, 2, 3",
   "id": "9a71297420735364",
   "outputs": [],
   "execution_count": 11
  },
  {
   "metadata": {
    "ExecuteTime": {
     "end_time": "2024-09-27T07:14:19.434307Z",
     "start_time": "2024-09-27T07:14:19.429233Z"
    }
   },
   "cell_type": "code",
   "source": "t1 == t2",
   "id": "cc1c3dffe58d9951",
   "outputs": [
    {
     "data": {
      "text/plain": [
       "True"
      ]
     },
     "execution_count": 12,
     "metadata": {},
     "output_type": "execute_result"
    }
   ],
   "execution_count": 12
  },
  {
   "metadata": {
    "ExecuteTime": {
     "end_time": "2024-09-27T07:14:28.270977Z",
     "start_time": "2024-09-27T07:14:28.266089Z"
    }
   },
   "cell_type": "code",
   "source": "hash(t1) == hash(t2)",
   "id": "830be64594c2624d",
   "outputs": [
    {
     "data": {
      "text/plain": [
       "True"
      ]
     },
     "execution_count": 13,
     "metadata": {},
     "output_type": "execute_result"
    }
   ],
   "execution_count": 13
  },
  {
   "metadata": {
    "ExecuteTime": {
     "end_time": "2024-09-27T07:14:33.844561Z",
     "start_time": "2024-09-27T07:14:33.839403Z"
    }
   },
   "cell_type": "code",
   "source": "t1 is t2",
   "id": "22b7b9be3a83e8a5",
   "outputs": [
    {
     "data": {
      "text/plain": [
       "False"
      ]
     },
     "execution_count": 14,
     "metadata": {},
     "output_type": "execute_result"
    }
   ],
   "execution_count": 14
  },
  {
   "metadata": {
    "ExecuteTime": {
     "end_time": "2024-09-27T07:14:49.409075Z",
     "start_time": "2024-09-27T07:14:49.404237Z"
    }
   },
   "cell_type": "code",
   "source": "id(t1), id(t2)",
   "id": "4b3f9ee2f8b49a51",
   "outputs": [
    {
     "data": {
      "text/plain": [
       "(136041558026304, 136041558024512)"
      ]
     },
     "execution_count": 16,
     "metadata": {},
     "output_type": "execute_result"
    }
   ],
   "execution_count": 16
  },
  {
   "metadata": {
    "ExecuteTime": {
     "end_time": "2024-09-27T07:14:55.840558Z",
     "start_time": "2024-09-27T07:14:55.836380Z"
    }
   },
   "cell_type": "code",
   "source": "d[t1]",
   "id": "7418070f74acd1dc",
   "outputs": [
    {
     "data": {
      "text/plain": [
       "'This is a tuple'"
      ]
     },
     "execution_count": 17,
     "metadata": {},
     "output_type": "execute_result"
    }
   ],
   "execution_count": 17
  },
  {
   "metadata": {
    "ExecuteTime": {
     "end_time": "2024-09-27T07:15:01.648701Z",
     "start_time": "2024-09-27T07:15:01.644198Z"
    }
   },
   "cell_type": "code",
   "source": "d[t2]",
   "id": "27a727fb32b44ea4",
   "outputs": [
    {
     "data": {
      "text/plain": [
       "'This is a tuple'"
      ]
     },
     "execution_count": 18,
     "metadata": {},
     "output_type": "execute_result"
    }
   ],
   "execution_count": 18
  },
  {
   "metadata": {
    "ExecuteTime": {
     "end_time": "2024-09-27T07:15:34.423852Z",
     "start_time": "2024-09-27T07:15:33.744296Z"
    }
   },
   "cell_type": "code",
   "source": "hash([1, 2, 3])",
   "id": "4267ce51316acda7",
   "outputs": [
    {
     "ename": "TypeError",
     "evalue": "unhashable type: 'list'",
     "output_type": "error",
     "traceback": [
      "\u001B[0;31m---------------------------------------------------------------------------\u001B[0m",
      "\u001B[0;31mTypeError\u001B[0m                                 Traceback (most recent call last)",
      "Cell \u001B[0;32mIn[19], line 1\u001B[0m\n\u001B[0;32m----> 1\u001B[0m \u001B[38;5;28;43mhash\u001B[39;49m\u001B[43m(\u001B[49m\u001B[43m[\u001B[49m\u001B[38;5;241;43m1\u001B[39;49m\u001B[43m,\u001B[49m\u001B[43m \u001B[49m\u001B[38;5;241;43m2\u001B[39;49m\u001B[43m,\u001B[49m\u001B[43m \u001B[49m\u001B[38;5;241;43m3\u001B[39;49m\u001B[43m]\u001B[49m\u001B[43m)\u001B[49m\n",
      "\u001B[0;31mTypeError\u001B[0m: unhashable type: 'list'"
     ]
    }
   ],
   "execution_count": 19
  },
  {
   "metadata": {
    "ExecuteTime": {
     "end_time": "2024-09-27T07:15:51.364839Z",
     "start_time": "2024-09-27T07:15:51.361440Z"
    }
   },
   "cell_type": "code",
   "source": [
    "def my_func(a, b, c):\n",
    "    print(a, b, c)"
   ],
   "id": "22aafa0ce0c68d3",
   "outputs": [],
   "execution_count": 20
  },
  {
   "metadata": {
    "ExecuteTime": {
     "end_time": "2024-09-27T07:15:58.704555Z",
     "start_time": "2024-09-27T07:15:58.700616Z"
    }
   },
   "cell_type": "code",
   "source": "hash(my_func)",
   "id": "8ca6352e5e431ca7",
   "outputs": [
    {
     "data": {
      "text/plain": [
       "8502596705250"
      ]
     },
     "execution_count": 21,
     "metadata": {},
     "output_type": "execute_result"
    }
   ],
   "execution_count": 21
  },
  {
   "metadata": {
    "ExecuteTime": {
     "end_time": "2024-09-27T07:16:20.364491Z",
     "start_time": "2024-09-27T07:16:20.361256Z"
    }
   },
   "cell_type": "code",
   "source": "d = {my_func: [10, 20, 30]}",
   "id": "9a4df8bd0de5f6b5",
   "outputs": [],
   "execution_count": 22
  },
  {
   "metadata": {
    "ExecuteTime": {
     "end_time": "2024-09-27T07:16:22.530356Z",
     "start_time": "2024-09-27T07:16:22.525482Z"
    }
   },
   "cell_type": "code",
   "source": "d",
   "id": "63c7f17dbe0c206f",
   "outputs": [
    {
     "data": {
      "text/plain": [
       "{<function __main__.my_func(a, b, c)>: [10, 20, 30]}"
      ]
     },
     "execution_count": 23,
     "metadata": {},
     "output_type": "execute_result"
    }
   ],
   "execution_count": 23
  },
  {
   "metadata": {
    "ExecuteTime": {
     "end_time": "2024-09-27T07:17:24.142411Z",
     "start_time": "2024-09-27T07:17:24.138580Z"
    }
   },
   "cell_type": "code",
   "source": [
    "def fn_add(a, b):\n",
    "    return a + b\n",
    "\n",
    "def fn_inv(a):\n",
    "    return 1 / a\n",
    "\n",
    "def fn_mult(a, b):\n",
    "    return a * b"
   ],
   "id": "6c47a8e7d145ecb2",
   "outputs": [],
   "execution_count": 24
  },
  {
   "metadata": {
    "ExecuteTime": {
     "end_time": "2024-09-27T07:18:16.453591Z",
     "start_time": "2024-09-27T07:18:16.450202Z"
    }
   },
   "cell_type": "code",
   "source": "funcs = {fn_add: (10, 20), fn_inv: (2,), fn_mult: (2, 8)}",
   "id": "26e34bc4f969acfd",
   "outputs": [],
   "execution_count": 25
  },
  {
   "metadata": {
    "ExecuteTime": {
     "end_time": "2024-09-27T07:18:20.026050Z",
     "start_time": "2024-09-27T07:18:20.020767Z"
    }
   },
   "cell_type": "code",
   "source": "funcs",
   "id": "31f43571553f0214",
   "outputs": [
    {
     "data": {
      "text/plain": [
       "{<function __main__.fn_add(a, b)>: (10, 20),\n",
       " <function __main__.fn_inv(a)>: (2,),\n",
       " <function __main__.fn_mult(a, b)>: (2, 8)}"
      ]
     },
     "execution_count": 26,
     "metadata": {},
     "output_type": "execute_result"
    }
   ],
   "execution_count": 26
  },
  {
   "metadata": {
    "ExecuteTime": {
     "end_time": "2024-09-27T07:18:31.694123Z",
     "start_time": "2024-09-27T07:18:31.690593Z"
    }
   },
   "cell_type": "code",
   "source": [
    "for f in funcs:\n",
    "    print(f)"
   ],
   "id": "b7f3a839c726b2da",
   "outputs": [
    {
     "name": "stdout",
     "output_type": "stream",
     "text": [
      "<function fn_add at 0x7bba9e180360>\n",
      "<function fn_inv at 0x7bba9e180400>\n",
      "<function fn_mult at 0x7bba9e1804a0>\n"
     ]
    }
   ],
   "execution_count": 27
  },
  {
   "metadata": {
    "ExecuteTime": {
     "end_time": "2024-09-27T07:19:11.687441Z",
     "start_time": "2024-09-27T07:19:11.683274Z"
    }
   },
   "cell_type": "code",
   "source": [
    "for f in funcs:\n",
    "    result = f(*funcs[f])\n",
    "    print(result)"
   ],
   "id": "b964e32c113e9802",
   "outputs": [
    {
     "name": "stdout",
     "output_type": "stream",
     "text": [
      "30\n",
      "0.5\n",
      "16\n"
     ]
    }
   ],
   "execution_count": 28
  },
  {
   "metadata": {
    "ExecuteTime": {
     "end_time": "2024-09-27T07:20:37.538798Z",
     "start_time": "2024-09-27T07:20:37.534487Z"
    }
   },
   "cell_type": "code",
   "source": [
    "for f, args in funcs.items():\n",
    "    print(f, args)"
   ],
   "id": "87dca7c8627522e1",
   "outputs": [
    {
     "name": "stdout",
     "output_type": "stream",
     "text": [
      "<function fn_add at 0x7bba9e180360> (10, 20)\n",
      "<function fn_inv at 0x7bba9e180400> (2,)\n",
      "<function fn_mult at 0x7bba9e1804a0> (2, 8)\n"
     ]
    }
   ],
   "execution_count": 29
  },
  {
   "metadata": {
    "ExecuteTime": {
     "end_time": "2024-09-27T07:21:10.498490Z",
     "start_time": "2024-09-27T07:21:10.495173Z"
    }
   },
   "cell_type": "code",
   "source": [
    "for f, args in funcs.items():\n",
    "    print(f(*args))"
   ],
   "id": "b468860009ff76b4",
   "outputs": [
    {
     "name": "stdout",
     "output_type": "stream",
     "text": [
      "30\n",
      "0.5\n",
      "16\n"
     ]
    }
   ],
   "execution_count": 30
  },
  {
   "metadata": {
    "ExecuteTime": {
     "end_time": "2024-09-27T07:21:33.227524Z",
     "start_time": "2024-09-27T07:21:33.224154Z"
    }
   },
   "cell_type": "code",
   "source": "d = dict(x=100, a=200)",
   "id": "98ef0b799771e7af",
   "outputs": [],
   "execution_count": 31
  },
  {
   "metadata": {
    "ExecuteTime": {
     "end_time": "2024-09-27T07:22:40.847554Z",
     "start_time": "2024-09-27T07:22:40.844636Z"
    }
   },
   "cell_type": "code",
   "source": "d = dict([(\"a\", 100), [\"x\", 200]])",
   "id": "3418cebff014d6e",
   "outputs": [],
   "execution_count": 32
  },
  {
   "metadata": {
    "ExecuteTime": {
     "end_time": "2024-09-27T07:22:42.070205Z",
     "start_time": "2024-09-27T07:22:42.065628Z"
    }
   },
   "cell_type": "code",
   "source": "d",
   "id": "a7b5697e896284f0",
   "outputs": [
    {
     "data": {
      "text/plain": [
       "{'a': 100, 'x': 200}"
      ]
     },
     "execution_count": 33,
     "metadata": {},
     "output_type": "execute_result"
    }
   ],
   "execution_count": 33
  },
  {
   "metadata": {
    "ExecuteTime": {
     "end_time": "2024-09-27T07:23:28.345990Z",
     "start_time": "2024-09-27T07:23:28.342613Z"
    }
   },
   "cell_type": "code",
   "source": "d = {\"a\": 100, \"b\": 200}",
   "id": "efe97deaa11e3a26",
   "outputs": [],
   "execution_count": 34
  },
  {
   "metadata": {
    "ExecuteTime": {
     "end_time": "2024-09-27T07:23:37.264598Z",
     "start_time": "2024-09-27T07:23:37.261478Z"
    }
   },
   "cell_type": "code",
   "source": "d1 = dict(d)",
   "id": "283f30ef5a2d4c4a",
   "outputs": [],
   "execution_count": 35
  },
  {
   "metadata": {
    "ExecuteTime": {
     "end_time": "2024-09-27T07:23:56.996366Z",
     "start_time": "2024-09-27T07:23:56.991105Z"
    }
   },
   "cell_type": "code",
   "source": "id(d) == id(d1)",
   "id": "75d0b3f0ed80e539",
   "outputs": [
    {
     "data": {
      "text/plain": [
       "False"
      ]
     },
     "execution_count": 38,
     "metadata": {},
     "output_type": "execute_result"
    }
   ],
   "execution_count": 38
  },
  {
   "metadata": {
    "ExecuteTime": {
     "end_time": "2024-09-27T07:24:41.593880Z",
     "start_time": "2024-09-27T07:24:41.589458Z"
    }
   },
   "cell_type": "code",
   "source": "d = {\"a\": 100, \"b\": {\"x\": 1, \"y\": 2}, \"c\": [1, 2, 3]}",
   "id": "4cd77642b4bc189c",
   "outputs": [],
   "execution_count": 39
  },
  {
   "metadata": {
    "ExecuteTime": {
     "end_time": "2024-09-27T07:24:58.532202Z",
     "start_time": "2024-09-27T07:24:58.528838Z"
    }
   },
   "cell_type": "code",
   "source": "d1 = dict(d)",
   "id": "ad17e8de5bdfe7ba",
   "outputs": [],
   "execution_count": 40
  },
  {
   "metadata": {
    "ExecuteTime": {
     "end_time": "2024-09-27T07:25:01.584343Z",
     "start_time": "2024-09-27T07:25:01.579336Z"
    }
   },
   "cell_type": "code",
   "source": "d",
   "id": "18fa428bc0817a22",
   "outputs": [
    {
     "data": {
      "text/plain": [
       "{'a': 100, 'b': {'x': 1, 'y': 2}, 'c': [1, 2, 3]}"
      ]
     },
     "execution_count": 41,
     "metadata": {},
     "output_type": "execute_result"
    }
   ],
   "execution_count": 41
  },
  {
   "metadata": {
    "ExecuteTime": {
     "end_time": "2024-09-27T07:25:03.033711Z",
     "start_time": "2024-09-27T07:25:03.028732Z"
    }
   },
   "cell_type": "code",
   "source": "d1",
   "id": "8b8d72c66bc0fee6",
   "outputs": [
    {
     "data": {
      "text/plain": [
       "{'a': 100, 'b': {'x': 1, 'y': 2}, 'c': [1, 2, 3]}"
      ]
     },
     "execution_count": 42,
     "metadata": {},
     "output_type": "execute_result"
    }
   ],
   "execution_count": 42
  },
  {
   "metadata": {
    "ExecuteTime": {
     "end_time": "2024-09-27T07:25:08.631361Z",
     "start_time": "2024-09-27T07:25:08.626701Z"
    }
   },
   "cell_type": "code",
   "source": "d is d1",
   "id": "ee56da25b1243d1d",
   "outputs": [
    {
     "data": {
      "text/plain": [
       "False"
      ]
     },
     "execution_count": 43,
     "metadata": {},
     "output_type": "execute_result"
    }
   ],
   "execution_count": 43
  },
  {
   "metadata": {
    "ExecuteTime": {
     "end_time": "2024-09-27T07:25:29.887640Z",
     "start_time": "2024-09-27T07:25:29.884922Z"
    }
   },
   "cell_type": "code",
   "source": "d1[\"b\"] = 1000",
   "id": "3a711e29fe6a4693",
   "outputs": [],
   "execution_count": 44
  },
  {
   "metadata": {
    "ExecuteTime": {
     "end_time": "2024-09-27T07:25:33.319378Z",
     "start_time": "2024-09-27T07:25:33.315075Z"
    }
   },
   "cell_type": "code",
   "source": "d",
   "id": "88663f96942d634f",
   "outputs": [
    {
     "data": {
      "text/plain": [
       "{'a': 100, 'b': {'x': 1, 'y': 2}, 'c': [1, 2, 3]}"
      ]
     },
     "execution_count": 45,
     "metadata": {},
     "output_type": "execute_result"
    }
   ],
   "execution_count": 45
  },
  {
   "metadata": {
    "ExecuteTime": {
     "end_time": "2024-09-27T07:25:34.950698Z",
     "start_time": "2024-09-27T07:25:34.946065Z"
    }
   },
   "cell_type": "code",
   "source": "d1",
   "id": "bd4996f28595493",
   "outputs": [
    {
     "data": {
      "text/plain": [
       "{'a': 100, 'b': 1000, 'c': [1, 2, 3]}"
      ]
     },
     "execution_count": 46,
     "metadata": {},
     "output_type": "execute_result"
    }
   ],
   "execution_count": 46
  },
  {
   "metadata": {
    "ExecuteTime": {
     "end_time": "2024-09-27T07:26:02.800406Z",
     "start_time": "2024-09-27T07:26:02.796706Z"
    }
   },
   "cell_type": "code",
   "source": [
    "d = {\"a\": 100, \"b\": {\"x\": 1, \"y\": 2}, \"c\": [1, 2, 3]}\n",
    "d1 = dict(d)"
   ],
   "id": "8498f06ab2fc224",
   "outputs": [],
   "execution_count": 47
  },
  {
   "metadata": {
    "ExecuteTime": {
     "end_time": "2024-09-27T07:26:10.841037Z",
     "start_time": "2024-09-27T07:26:10.835892Z"
    }
   },
   "cell_type": "code",
   "source": "d is d1",
   "id": "46443b62a8ca92b",
   "outputs": [
    {
     "data": {
      "text/plain": [
       "False"
      ]
     },
     "execution_count": 48,
     "metadata": {},
     "output_type": "execute_result"
    }
   ],
   "execution_count": 48
  },
  {
   "metadata": {
    "ExecuteTime": {
     "end_time": "2024-09-27T07:26:28.070758Z",
     "start_time": "2024-09-27T07:26:28.065531Z"
    }
   },
   "cell_type": "code",
   "source": "d[\"b\"] is d1[\"b\"]",
   "id": "65af84bf1bc01e06",
   "outputs": [
    {
     "data": {
      "text/plain": [
       "True"
      ]
     },
     "execution_count": 49,
     "metadata": {},
     "output_type": "execute_result"
    }
   ],
   "execution_count": 49
  },
  {
   "metadata": {
    "ExecuteTime": {
     "end_time": "2024-09-27T07:26:47.870312Z",
     "start_time": "2024-09-27T07:26:47.867635Z"
    }
   },
   "cell_type": "code",
   "source": "d1[\"b\"][\"z\"] = 100",
   "id": "9388c5f2581bf7d5",
   "outputs": [],
   "execution_count": 50
  },
  {
   "metadata": {
    "ExecuteTime": {
     "end_time": "2024-09-27T07:26:49.656998Z",
     "start_time": "2024-09-27T07:26:49.652403Z"
    }
   },
   "cell_type": "code",
   "source": "d1",
   "id": "be583e177a05ac00",
   "outputs": [
    {
     "data": {
      "text/plain": [
       "{'a': 100, 'b': {'x': 1, 'y': 2, 'z': 100}, 'c': [1, 2, 3]}"
      ]
     },
     "execution_count": 51,
     "metadata": {},
     "output_type": "execute_result"
    }
   ],
   "execution_count": 51
  },
  {
   "metadata": {
    "ExecuteTime": {
     "end_time": "2024-09-27T07:26:52.447434Z",
     "start_time": "2024-09-27T07:26:52.443781Z"
    }
   },
   "cell_type": "code",
   "source": "d",
   "id": "70b9f43a01b15f1d",
   "outputs": [
    {
     "data": {
      "text/plain": [
       "{'a': 100, 'b': {'x': 1, 'y': 2, 'z': 100}, 'c': [1, 2, 3]}"
      ]
     },
     "execution_count": 52,
     "metadata": {},
     "output_type": "execute_result"
    }
   ],
   "execution_count": 52
  },
  {
   "metadata": {
    "ExecuteTime": {
     "end_time": "2024-09-27T07:27:59.842728Z",
     "start_time": "2024-09-27T07:27:59.839203Z"
    }
   },
   "cell_type": "code",
   "source": [
    "keys = [\"a\", \"b\", \"c\"]\n",
    "values = (1, 2, 3)"
   ],
   "id": "5ca8bbe1b9517419",
   "outputs": [],
   "execution_count": 53
  },
  {
   "metadata": {
    "ExecuteTime": {
     "end_time": "2024-09-27T07:28:47.088025Z",
     "start_time": "2024-09-27T07:28:47.084773Z"
    }
   },
   "cell_type": "code",
   "source": [
    "d = {}\n",
    "for k, v in zip(keys, values):\n",
    "    d[k] = v"
   ],
   "id": "b08fd35cccf2bfff",
   "outputs": [],
   "execution_count": 54
  },
  {
   "metadata": {
    "ExecuteTime": {
     "end_time": "2024-09-27T07:28:48.903922Z",
     "start_time": "2024-09-27T07:28:48.899419Z"
    }
   },
   "cell_type": "code",
   "source": "d",
   "id": "25a312d0bd979e46",
   "outputs": [
    {
     "data": {
      "text/plain": [
       "{'a': 1, 'b': 2, 'c': 3}"
      ]
     },
     "execution_count": 55,
     "metadata": {},
     "output_type": "execute_result"
    }
   ],
   "execution_count": 55
  },
  {
   "metadata": {
    "ExecuteTime": {
     "end_time": "2024-09-27T07:28:56.856585Z",
     "start_time": "2024-09-27T07:28:56.853380Z"
    }
   },
   "cell_type": "code",
   "source": [
    "keys = [\"a\", \"b\", \"c\"]\n",
    "values = (1, 2, 3)"
   ],
   "id": "76a1d161b1e36507",
   "outputs": [],
   "execution_count": 56
  },
  {
   "metadata": {
    "ExecuteTime": {
     "end_time": "2024-09-27T07:29:11.326190Z",
     "start_time": "2024-09-27T07:29:11.323119Z"
    }
   },
   "cell_type": "code",
   "source": "d = dict(zip(keys, values))",
   "id": "ed37de778ae6334d",
   "outputs": [],
   "execution_count": 57
  },
  {
   "metadata": {
    "ExecuteTime": {
     "end_time": "2024-09-27T07:29:11.925835Z",
     "start_time": "2024-09-27T07:29:11.920532Z"
    }
   },
   "cell_type": "code",
   "source": "d",
   "id": "4b238a9f63260df0",
   "outputs": [
    {
     "data": {
      "text/plain": [
       "{'a': 1, 'b': 2, 'c': 3}"
      ]
     },
     "execution_count": 58,
     "metadata": {},
     "output_type": "execute_result"
    }
   ],
   "execution_count": 58
  },
  {
   "metadata": {
    "ExecuteTime": {
     "end_time": "2024-09-27T07:29:45.847337Z",
     "start_time": "2024-09-27T07:29:45.842223Z"
    }
   },
   "cell_type": "code",
   "source": [
    "d = {k: v for k, v in zip(keys, values)} \n",
    "d"
   ],
   "id": "c241a40a41b01f5b",
   "outputs": [
    {
     "data": {
      "text/plain": [
       "{'a': 1, 'b': 2, 'c': 3}"
      ]
     },
     "execution_count": 59,
     "metadata": {},
     "output_type": "execute_result"
    }
   ],
   "execution_count": 59
  },
  {
   "metadata": {
    "ExecuteTime": {
     "end_time": "2024-09-27T07:30:27.664437Z",
     "start_time": "2024-09-27T07:30:27.659362Z"
    }
   },
   "cell_type": "code",
   "source": [
    "keys = 'abcd'\n",
    "values = range(1, 5)\n",
    "d = dict(zip(keys, values))\n",
    "d"
   ],
   "id": "d59de5966edf44d8",
   "outputs": [
    {
     "data": {
      "text/plain": [
       "{'a': 1, 'b': 2, 'c': 3, 'd': 4}"
      ]
     },
     "execution_count": 60,
     "metadata": {},
     "output_type": "execute_result"
    }
   ],
   "execution_count": 60
  },
  {
   "metadata": {
    "ExecuteTime": {
     "end_time": "2024-09-27T07:34:44.036062Z",
     "start_time": "2024-09-27T07:34:44.029547Z"
    }
   },
   "cell_type": "code",
   "source": [
    "keys = 'abcd'\n",
    "values = range(1, 5)\n",
    "dict(filter(lambda tup: tup[1] % 2 == 0, zip(keys, values)))"
   ],
   "id": "2963b4b65af25208",
   "outputs": [
    {
     "data": {
      "text/plain": [
       "{'b': 2, 'd': 4}"
      ]
     },
     "execution_count": 71,
     "metadata": {},
     "output_type": "execute_result"
    }
   ],
   "execution_count": 71
  },
  {
   "metadata": {
    "ExecuteTime": {
     "end_time": "2024-09-27T07:35:47.854001Z",
     "start_time": "2024-09-27T07:35:47.848894Z"
    }
   },
   "cell_type": "code",
   "source": [
    "keys = 'abcd'\n",
    "values = range(1, 5)\n",
    "{k: v for k, v in zip(keys, values) if v % 2 == 0}"
   ],
   "id": "6f20a66f7329f454",
   "outputs": [
    {
     "data": {
      "text/plain": [
       "{'b': 2, 'd': 4}"
      ]
     },
     "execution_count": 72,
     "metadata": {},
     "output_type": "execute_result"
    }
   ],
   "execution_count": 72
  },
  {
   "metadata": {
    "ExecuteTime": {
     "end_time": "2024-09-27T07:37:01.553343Z",
     "start_time": "2024-09-27T07:37:01.549929Z"
    }
   },
   "cell_type": "code",
   "source": "print('λ')",
   "id": "2bbbef16e322634b",
   "outputs": [
    {
     "name": "stdout",
     "output_type": "stream",
     "text": [
      "λ\n"
     ]
    }
   ],
   "execution_count": 74
  },
  {
   "metadata": {
    "ExecuteTime": {
     "end_time": "2024-09-27T07:41:16.292969Z",
     "start_time": "2024-09-27T07:41:16.289656Z"
    }
   },
   "cell_type": "code",
   "source": [
    "x_coords = tuple(range(-2, 3))\n",
    "y_coords = tuple(range(-2, 3))"
   ],
   "id": "66a68779f0f59d6c",
   "outputs": [],
   "execution_count": 79
  },
  {
   "metadata": {
    "ExecuteTime": {
     "end_time": "2024-09-27T07:42:46.375374Z",
     "start_time": "2024-09-27T07:42:46.368664Z"
    }
   },
   "cell_type": "code",
   "source": [
    "grid = [(x, y) \n",
    "        for x in x_coords\n",
    "        for y in y_coords]\n",
    "grid"
   ],
   "id": "df7bd687214737f9",
   "outputs": [
    {
     "data": {
      "text/plain": [
       "[(-2, -2),\n",
       " (-2, -1),\n",
       " (-2, 0),\n",
       " (-2, 1),\n",
       " (-2, 2),\n",
       " (-1, -2),\n",
       " (-1, -1),\n",
       " (-1, 0),\n",
       " (-1, 1),\n",
       " (-1, 2),\n",
       " (0, -2),\n",
       " (0, -1),\n",
       " (0, 0),\n",
       " (0, 1),\n",
       " (0, 2),\n",
       " (1, -2),\n",
       " (1, -1),\n",
       " (1, 0),\n",
       " (1, 1),\n",
       " (1, 2),\n",
       " (2, -2),\n",
       " (2, -1),\n",
       " (2, 0),\n",
       " (2, 1),\n",
       " (2, 2)]"
      ]
     },
     "execution_count": 80,
     "metadata": {},
     "output_type": "execute_result"
    }
   ],
   "execution_count": 80
  },
  {
   "metadata": {
    "ExecuteTime": {
     "end_time": "2024-09-27T07:42:59.821641Z",
     "start_time": "2024-09-27T07:42:59.818498Z"
    }
   },
   "cell_type": "code",
   "source": "import math",
   "id": "29ed8e1bb3b0f5c0",
   "outputs": [],
   "execution_count": 81
  },
  {
   "metadata": {
    "ExecuteTime": {
     "end_time": "2024-09-27T07:43:09.530454Z",
     "start_time": "2024-09-27T07:43:09.525550Z"
    }
   },
   "cell_type": "code",
   "source": "math.hypot(1, 1)",
   "id": "74b80137387a9504",
   "outputs": [
    {
     "data": {
      "text/plain": [
       "1.4142135623730951"
      ]
     },
     "execution_count": 82,
     "metadata": {},
     "output_type": "execute_result"
    }
   ],
   "execution_count": 82
  },
  {
   "metadata": {
    "ExecuteTime": {
     "end_time": "2024-09-27T07:44:04.151675Z",
     "start_time": "2024-09-27T07:44:04.148085Z"
    }
   },
   "cell_type": "code",
   "source": "grid_extended = [(x, y, math.hypot(x, y)) for x, y in grid]",
   "id": "9cd8250fc48cc23d",
   "outputs": [],
   "execution_count": 83
  },
  {
   "metadata": {
    "ExecuteTime": {
     "end_time": "2024-09-27T07:44:07.313392Z",
     "start_time": "2024-09-27T07:44:07.307232Z"
    }
   },
   "cell_type": "code",
   "source": "grid_extended",
   "id": "52a817d846100fdb",
   "outputs": [
    {
     "data": {
      "text/plain": [
       "[(-2, -2, 2.8284271247461903),\n",
       " (-2, -1, 2.23606797749979),\n",
       " (-2, 0, 2.0),\n",
       " (-2, 1, 2.23606797749979),\n",
       " (-2, 2, 2.8284271247461903),\n",
       " (-1, -2, 2.23606797749979),\n",
       " (-1, -1, 1.4142135623730951),\n",
       " (-1, 0, 1.0),\n",
       " (-1, 1, 1.4142135623730951),\n",
       " (-1, 2, 2.23606797749979),\n",
       " (0, -2, 2.0),\n",
       " (0, -1, 1.0),\n",
       " (0, 0, 0.0),\n",
       " (0, 1, 1.0),\n",
       " (0, 2, 2.0),\n",
       " (1, -2, 2.23606797749979),\n",
       " (1, -1, 1.4142135623730951),\n",
       " (1, 0, 1.0),\n",
       " (1, 1, 1.4142135623730951),\n",
       " (1, 2, 2.23606797749979),\n",
       " (2, -2, 2.8284271247461903),\n",
       " (2, -1, 2.23606797749979),\n",
       " (2, 0, 2.0),\n",
       " (2, 1, 2.23606797749979),\n",
       " (2, 2, 2.8284271247461903)]"
      ]
     },
     "execution_count": 84,
     "metadata": {},
     "output_type": "execute_result"
    }
   ],
   "execution_count": 84
  },
  {
   "metadata": {
    "ExecuteTime": {
     "end_time": "2024-09-27T07:44:46.434676Z",
     "start_time": "2024-09-27T07:44:46.431366Z"
    }
   },
   "cell_type": "code",
   "source": "grid_extended = {(x, y): math.hypot(x, y) for x, y in grid}",
   "id": "ba9ce21285e0f8ae",
   "outputs": [],
   "execution_count": 85
  },
  {
   "metadata": {
    "ExecuteTime": {
     "end_time": "2024-09-27T07:44:48.244238Z",
     "start_time": "2024-09-27T07:44:48.240010Z"
    }
   },
   "cell_type": "code",
   "source": "grid_extended",
   "id": "b3152eb4c4eef1a4",
   "outputs": [
    {
     "data": {
      "text/plain": [
       "{(-2, -2): 2.8284271247461903,\n",
       " (-2, -1): 2.23606797749979,\n",
       " (-2, 0): 2.0,\n",
       " (-2, 1): 2.23606797749979,\n",
       " (-2, 2): 2.8284271247461903,\n",
       " (-1, -2): 2.23606797749979,\n",
       " (-1, -1): 1.4142135623730951,\n",
       " (-1, 0): 1.0,\n",
       " (-1, 1): 1.4142135623730951,\n",
       " (-1, 2): 2.23606797749979,\n",
       " (0, -2): 2.0,\n",
       " (0, -1): 1.0,\n",
       " (0, 0): 0.0,\n",
       " (0, 1): 1.0,\n",
       " (0, 2): 2.0,\n",
       " (1, -2): 2.23606797749979,\n",
       " (1, -1): 1.4142135623730951,\n",
       " (1, 0): 1.0,\n",
       " (1, 1): 1.4142135623730951,\n",
       " (1, 2): 2.23606797749979,\n",
       " (2, -2): 2.8284271247461903,\n",
       " (2, -1): 2.23606797749979,\n",
       " (2, 0): 2.0,\n",
       " (2, 1): 2.23606797749979,\n",
       " (2, 2): 2.8284271247461903}"
      ]
     },
     "execution_count": 86,
     "metadata": {},
     "output_type": "execute_result"
    }
   ],
   "execution_count": 86
  },
  {
   "metadata": {
    "ExecuteTime": {
     "end_time": "2024-09-27T07:46:46.934182Z",
     "start_time": "2024-09-27T07:46:46.931798Z"
    }
   },
   "cell_type": "code",
   "source": "counters = dict.fromkeys(['a', 'b', 'c'], 0)",
   "id": "30452b765176218f",
   "outputs": [],
   "execution_count": 87
  },
  {
   "metadata": {
    "ExecuteTime": {
     "end_time": "2024-09-27T07:46:50.820753Z",
     "start_time": "2024-09-27T07:46:50.816847Z"
    }
   },
   "cell_type": "code",
   "source": "counters",
   "id": "a1d5dc153800a09",
   "outputs": [
    {
     "data": {
      "text/plain": [
       "{'a': 0, 'b': 0, 'c': 0}"
      ]
     },
     "execution_count": 88,
     "metadata": {},
     "output_type": "execute_result"
    }
   ],
   "execution_count": 88
  },
  {
   "metadata": {
    "ExecuteTime": {
     "end_time": "2024-09-27T07:47:10.262231Z",
     "start_time": "2024-09-27T07:47:10.258521Z"
    }
   },
   "cell_type": "code",
   "source": [
    "counters = dict.fromkeys('abc', 0)\n",
    "counters"
   ],
   "id": "fae6d785b90fc751",
   "outputs": [
    {
     "data": {
      "text/plain": [
       "{'a': 0, 'b': 0, 'c': 0}"
      ]
     },
     "execution_count": 90,
     "metadata": {},
     "output_type": "execute_result"
    }
   ],
   "execution_count": 90
  },
  {
   "metadata": {
    "ExecuteTime": {
     "end_time": "2024-09-27T07:47:50.717443Z",
     "start_time": "2024-09-27T07:47:50.712119Z"
    }
   },
   "cell_type": "code",
   "source": [
    "d = dict.fromkeys('python')\n",
    "d"
   ],
   "id": "908eed4ed693f7d3",
   "outputs": [
    {
     "data": {
      "text/plain": [
       "{'p': None, 'y': None, 't': None, 'h': None, 'o': None, 'n': None}"
      ]
     },
     "execution_count": 92,
     "metadata": {},
     "output_type": "execute_result"
    }
   ],
   "execution_count": 92
  }
 ],
 "metadata": {
  "kernelspec": {
   "display_name": "Python 3",
   "language": "python",
   "name": "python3"
  },
  "language_info": {
   "codemirror_mode": {
    "name": "ipython",
    "version": 2
   },
   "file_extension": ".py",
   "mimetype": "text/x-python",
   "name": "python",
   "nbconvert_exporter": "python",
   "pygments_lexer": "ipython2",
   "version": "2.7.6"
  }
 },
 "nbformat": 4,
 "nbformat_minor": 5
}
