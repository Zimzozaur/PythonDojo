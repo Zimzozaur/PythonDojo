{
 "cells": [
  {
   "metadata": {},
   "cell_type": "markdown",
   "source": "## When you use a decorator, it essentially wraps the original function with a new one, reassigning the symbol (function name) to the new wrapper function.",
   "id": "5a350351fc9c582a"
  },
  {
   "metadata": {
    "ExecuteTime": {
     "end_time": "2024-08-17T06:28:22.212553Z",
     "start_time": "2024-08-17T06:28:22.209398Z"
    }
   },
   "cell_type": "code",
   "source": "from collections.abc import Callable",
   "id": "f541b5d1f5a67b4a",
   "outputs": [],
   "execution_count": 2
  },
  {
   "metadata": {
    "ExecuteTime": {
     "end_time": "2024-08-17T06:28:42.394102Z",
     "start_time": "2024-08-17T06:28:42.390916Z"
    }
   },
   "cell_type": "code",
   "source": [
    "def function_hello() -> None:\n",
    "    print('Hello')"
   ],
   "id": "8a0b2ef40b777537",
   "outputs": [],
   "execution_count": 4
  },
  {
   "metadata": {
    "ExecuteTime": {
     "end_time": "2024-08-17T06:28:44.305969Z",
     "start_time": "2024-08-17T06:28:44.302060Z"
    }
   },
   "cell_type": "code",
   "source": "function_hello()",
   "id": "fa69b31f0a0993fa",
   "outputs": [
    {
     "name": "stdout",
     "output_type": "stream",
     "text": [
      "Hello\n"
     ]
    }
   ],
   "execution_count": 5
  },
  {
   "metadata": {
    "ExecuteTime": {
     "end_time": "2024-08-17T06:29:45.622220Z",
     "start_time": "2024-08-17T06:29:45.619119Z"
    }
   },
   "cell_type": "code",
   "source": [
    "def deco_return_int(fn: Callable) -> Callable:\n",
    "    def inner() -> None:\n",
    "        print('Bye')\n",
    "    return inner"
   ],
   "id": "11de1923c5ac7077",
   "outputs": [],
   "execution_count": 9
  },
  {
   "metadata": {
    "ExecuteTime": {
     "end_time": "2024-08-17T06:29:46.083100Z",
     "start_time": "2024-08-17T06:29:46.078367Z"
    }
   },
   "cell_type": "code",
   "source": [
    "@deco_return_int\n",
    "def function_hello() -> None:\n",
    "    print('Hello')"
   ],
   "id": "ac1e7c6012462410",
   "outputs": [],
   "execution_count": 10
  },
  {
   "metadata": {
    "ExecuteTime": {
     "end_time": "2024-08-17T06:29:46.502022Z",
     "start_time": "2024-08-17T06:29:46.499672Z"
    }
   },
   "cell_type": "code",
   "source": "function_hello()",
   "id": "b86f1042db84572",
   "outputs": [
    {
     "name": "stdout",
     "output_type": "stream",
     "text": [
      "Bye\n"
     ]
    }
   ],
   "execution_count": 11
  },
  {
   "metadata": {
    "ExecuteTime": {
     "end_time": "2024-08-17T06:31:37.664908Z",
     "start_time": "2024-08-17T06:31:37.659435Z"
    }
   },
   "cell_type": "code",
   "source": "function_hello",
   "id": "542c3dab350b82fc",
   "outputs": [
    {
     "data": {
      "text/plain": [
       "<function __main__.deco_return_int.<locals>.inner() -> None>"
      ]
     },
     "execution_count": 13,
     "metadata": {},
     "output_type": "execute_result"
    }
   ],
   "execution_count": 13
  },
  {
   "metadata": {
    "ExecuteTime": {
     "end_time": "2024-08-17T06:32:54.088198Z",
     "start_time": "2024-08-17T06:32:54.084695Z"
    }
   },
   "cell_type": "code",
   "source": [
    "def function_hola() -> None:\n",
    "    print('hola')"
   ],
   "id": "eddc4685ade4e4a5",
   "outputs": [],
   "execution_count": 19
  },
  {
   "metadata": {
    "ExecuteTime": {
     "end_time": "2024-08-17T06:32:54.372099Z",
     "start_time": "2024-08-17T06:32:54.368455Z"
    }
   },
   "cell_type": "code",
   "source": "function_hola = deco_return_int(function_hello)",
   "id": "3c7077111620adb0",
   "outputs": [],
   "execution_count": 20
  },
  {
   "metadata": {
    "ExecuteTime": {
     "end_time": "2024-08-17T06:32:54.830476Z",
     "start_time": "2024-08-17T06:32:54.827425Z"
    }
   },
   "cell_type": "code",
   "source": "function_hola()",
   "id": "fb38f3e118f62430",
   "outputs": [
    {
     "name": "stdout",
     "output_type": "stream",
     "text": [
      "Bye\n"
     ]
    }
   ],
   "execution_count": 21
  },
  {
   "metadata": {},
   "cell_type": "code",
   "outputs": [],
   "execution_count": null,
   "source": "",
   "id": "71f74421c78baef8"
  }
 ],
 "metadata": {
  "kernelspec": {
   "display_name": "Python 3",
   "language": "python",
   "name": "python3"
  },
  "language_info": {
   "codemirror_mode": {
    "name": "ipython",
    "version": 2
   },
   "file_extension": ".py",
   "mimetype": "text/x-python",
   "name": "python",
   "nbconvert_exporter": "python",
   "pygments_lexer": "ipython2",
   "version": "2.7.6"
  }
 },
 "nbformat": 4,
 "nbformat_minor": 5
}
