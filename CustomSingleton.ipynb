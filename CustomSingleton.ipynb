{
 "cells": [
  {
   "metadata": {},
   "cell_type": "markdown",
   "source": "# Singleton Object",
   "id": "4e1b9305af880d10"
  },
  {
   "cell_type": "code",
   "id": "initial_id",
   "metadata": {
    "collapsed": true,
    "ExecuteTime": {
     "end_time": "2024-05-03T10:03:09.024177Z",
     "start_time": "2024-05-03T10:03:09.019268Z"
    }
   },
   "source": [
    "class CustomSingleton:\n",
    "    instance = None\n",
    "    \n",
    "    def __new__(cls, value):\n",
    "        if not CustomSingleton.instance:\n",
    "            CustomSingleton.instance = super().__new__(cls)\n",
    "            CustomSingleton.instance.value = value\n",
    "        return CustomSingleton.instance\n",
    "\n",
    "    def __repr__(self):\n",
    "        return f'Singleton Value: {self.value}; DataType: {type(self.value)}'\n",
    "    \n",
    "    def address(self):\n",
    "        return hex(id(self))\n",
    "        "
   ],
   "outputs": [],
   "execution_count": 44
  },
  {
   "metadata": {
    "ExecuteTime": {
     "end_time": "2024-05-03T10:03:09.414739Z",
     "start_time": "2024-05-03T10:03:09.409176Z"
    }
   },
   "cell_type": "code",
   "source": [
    "pi = CustomSingleton(3.14)\n",
    "pi"
   ],
   "id": "459e736f5bd8161a",
   "outputs": [
    {
     "data": {
      "text/plain": [
       "Singleton Value: 3.14; DataType: <class 'float'>"
      ]
     },
     "execution_count": 45,
     "metadata": {},
     "output_type": "execute_result"
    }
   ],
   "execution_count": 45
  },
  {
   "metadata": {
    "ExecuteTime": {
     "end_time": "2024-05-03T10:03:09.998735Z",
     "start_time": "2024-05-03T10:03:09.993402Z"
    }
   },
   "cell_type": "code",
   "source": [
    "di = CustomSingleton(4.13)\n",
    "di"
   ],
   "id": "bea985aa29bbf2d5",
   "outputs": [
    {
     "data": {
      "text/plain": [
       "Singleton Value: 3.14; DataType: <class 'float'>"
      ]
     },
     "execution_count": 46,
     "metadata": {},
     "output_type": "execute_result"
    }
   ],
   "execution_count": 46
  },
  {
   "metadata": {
    "ExecuteTime": {
     "end_time": "2024-05-03T10:03:12.750150Z",
     "start_time": "2024-05-03T10:03:12.745623Z"
    }
   },
   "cell_type": "code",
   "source": "pi.address() == di.address()",
   "id": "bf51547d1abc0ed6",
   "outputs": [
    {
     "data": {
      "text/plain": [
       "True"
      ]
     },
     "execution_count": 47,
     "metadata": {},
     "output_type": "execute_result"
    }
   ],
   "execution_count": 47
  },
  {
   "metadata": {},
   "cell_type": "markdown",
   "source": "# Singleton Decorator",
   "id": "4546bc17fe0eedd5"
  },
  {
   "metadata": {
    "ExecuteTime": {
     "end_time": "2024-05-03T10:10:51.910582Z",
     "start_time": "2024-05-03T10:10:51.905006Z"
    }
   },
   "cell_type": "code",
   "source": [
    "def singleton(cls):\n",
    "    cls_hash_map = {}\n",
    "    \n",
    "    def get_cls(*args, **kwargs):\n",
    "        if cls not in cls_hash_map:\n",
    "            cls_hash_map[cls] = cls(*args, **kwargs)\n",
    "        return cls_hash_map[cls]\n",
    "    \n",
    "    return get_cls      \n",
    "\n",
    "class Worker:\n",
    "    def __init__(self, age, wage):\n",
    "        self.age = age\n",
    "        self.wage = wage\n",
    "        \n",
    "    def __repr__(self):\n",
    "        return f'Age: {self.age}, Wage: {self.wage}'"
   ],
   "id": "a4d306c020e5ad88",
   "outputs": [],
   "execution_count": 58
  },
  {
   "metadata": {
    "ExecuteTime": {
     "end_time": "2024-05-03T10:11:32.937249Z",
     "start_time": "2024-05-03T10:11:32.932168Z"
    }
   },
   "cell_type": "code",
   "source": [
    "worker1 = Worker(29, 34_000)\n",
    "worker2 = Worker(43, 53_000)\n",
    "worker1, worker2, Worker"
   ],
   "id": "118e9450e6a229d2",
   "outputs": [
    {
     "data": {
      "text/plain": [
       "(Age: 29, Wage: 34000, Age: 43, Wage: 53000, __main__.Worker)"
      ]
     },
     "execution_count": 61,
     "metadata": {},
     "output_type": "execute_result"
    }
   ],
   "execution_count": 61
  },
  {
   "metadata": {
    "ExecuteTime": {
     "end_time": "2024-05-03T10:11:48.223067Z",
     "start_time": "2024-05-03T10:11:48.217575Z"
    }
   },
   "cell_type": "code",
   "source": [
    "def singleton(cls):\n",
    "    cls_hash_map = {}\n",
    "    \n",
    "    def get_cls(*args, **kwargs):\n",
    "        if cls not in cls_hash_map:\n",
    "            cls_hash_map[cls] = cls(*args, **kwargs)\n",
    "        return cls_hash_map[cls]\n",
    "    \n",
    "    return get_cls      \n",
    "\n",
    "class Worker:\n",
    "    def __init__(self, age, wage):\n",
    "        self.age = age\n",
    "        self.wage = wage\n",
    "        \n",
    "    def __repr__(self):\n",
    "        return f'Age: {self.age}, Wage: {self.wage}'\n",
    "    \n",
    "Worker = singleton(Worker)"
   ],
   "id": "1db234dee3ea31a7",
   "outputs": [],
   "execution_count": 62
  },
  {
   "metadata": {
    "ExecuteTime": {
     "end_time": "2024-05-03T10:11:53.137874Z",
     "start_time": "2024-05-03T10:11:53.132129Z"
    }
   },
   "cell_type": "code",
   "source": [
    "worker1 = Worker(29, 34_000)\n",
    "worker2 = Worker(43, 53_000)\n",
    "worker1, worker2, Worker"
   ],
   "id": "ff8b222361a8ff35",
   "outputs": [
    {
     "data": {
      "text/plain": [
       "(Age: 29, Wage: 34000,\n",
       " Age: 29, Wage: 34000,\n",
       " <function __main__.singleton.<locals>.get_cls(*args, **kwargs)>)"
      ]
     },
     "execution_count": 63,
     "metadata": {},
     "output_type": "execute_result"
    }
   ],
   "execution_count": 63
  },
  {
   "metadata": {
    "ExecuteTime": {
     "end_time": "2024-05-03T10:18:14.439039Z",
     "start_time": "2024-05-03T10:18:14.433117Z"
    }
   },
   "cell_type": "code",
   "source": [
    "from functools import wraps\n",
    "def singleton(cls):\n",
    "    cls_hash_map = {}\n",
    "    \n",
    "    def get_cls(*args, **kwargs):\n",
    "        if cls not in cls_hash_map:\n",
    "            cls_hash_map[cls] = cls(*args, **kwargs)\n",
    "        return cls_hash_map[cls]\n",
    "    \n",
    "    get_cls = wraps(cls)(get_cls)\n",
    "    return get_cls      \n",
    "\n",
    "class Worker:\n",
    "    def __init__(self, age, wage):\n",
    "        self.age = age\n",
    "        self.wage = wage\n",
    "        \n",
    "    def __repr__(self):\n",
    "        return f'Age: {self.age}, Wage: {self.wage}'\n",
    "    \n",
    "Worker = singleton(Worker)"
   ],
   "id": "6085f4e57c3bb433",
   "outputs": [],
   "execution_count": 68
  },
  {
   "metadata": {
    "ExecuteTime": {
     "end_time": "2024-05-03T10:18:15.281010Z",
     "start_time": "2024-05-03T10:18:15.275651Z"
    }
   },
   "cell_type": "code",
   "source": [
    "worker1 = Worker(29, 34_000)\n",
    "worker2 = Worker(43, 53_000)\n",
    "worker1, worker2, Worker"
   ],
   "id": "379576e64a590df6",
   "outputs": [
    {
     "data": {
      "text/plain": [
       "(Age: 29, Wage: 34000,\n",
       " Age: 29, Wage: 34000,\n",
       " <function __main__.Worker(age, wage)>)"
      ]
     },
     "execution_count": 69,
     "metadata": {},
     "output_type": "execute_result"
    }
   ],
   "execution_count": 69
  },
  {
   "metadata": {},
   "cell_type": "code",
   "outputs": [],
   "execution_count": null,
   "source": "",
   "id": "885999ddfb351a6e"
  }
 ],
 "metadata": {
  "kernelspec": {
   "display_name": "Python 3",
   "language": "python",
   "name": "python3"
  },
  "language_info": {
   "codemirror_mode": {
    "name": "ipython",
    "version": 2
   },
   "file_extension": ".py",
   "mimetype": "text/x-python",
   "name": "python",
   "nbconvert_exporter": "python",
   "pygments_lexer": "ipython2",
   "version": "2.7.6"
  }
 },
 "nbformat": 4,
 "nbformat_minor": 5
}
